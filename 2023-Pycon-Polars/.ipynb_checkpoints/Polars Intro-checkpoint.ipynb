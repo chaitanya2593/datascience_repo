{
 "cells": [
  {
   "cell_type": "markdown",
   "metadata": {},
   "source": [
    "# Getting Started with Polars"
   ]
  },
  {
   "cell_type": "code",
   "execution_count": 4,
   "metadata": {},
   "outputs": [
    {
     "name": "stderr",
     "output_type": "stream",
     "text": [
      "C:\\Users\\chait\\anaconda3\\lib\\site-packages\\numpy\\_distributor_init.py:30: UserWarning: loaded more than 1 DLL from .libs:\n",
      "C:\\Users\\chait\\anaconda3\\lib\\site-packages\\numpy\\.libs\\libopenblas.WCDJNK7YVMPZQ2ME2ZZHJJRJ3JIKNDB7.gfortran-win_amd64.dll\n",
      "C:\\Users\\chait\\anaconda3\\lib\\site-packages\\numpy\\.libs\\libopenblas64__v0.3.21-gcc_10_3_0.dll\n",
      "  warnings.warn(\"loaded more than 1 DLL from .libs:\"\n"
     ]
    }
   ],
   "source": [
    "import numpy as np\n",
    "import polars as pl"
   ]
  },
  {
   "cell_type": "code",
   "execution_count": 2,
   "metadata": {},
   "outputs": [
    {
     "data": {
      "text/plain": [
       "'0.18.13'"
      ]
     },
     "execution_count": 2,
     "metadata": {},
     "output_type": "execute_result"
    }
   ],
   "source": [
    "pl.__version__"
   ]
  },
  {
   "cell_type": "code",
   "execution_count": 3,
   "metadata": {},
   "outputs": [
    {
     "name": "stdout",
     "output_type": "stream",
     "text": [
      "Requirement already satisfied: polars in c:\\users\\chait\\anaconda3\\lib\\site-packages (0.18.13)\n",
      "Note: you may need to restart the kernel to use updated packages.\n"
     ]
    },
    {
     "name": "stderr",
     "output_type": "stream",
     "text": [
      "WARNING: Ignoring invalid distribution -illow (c:\\users\\chait\\anaconda3\\lib\\site-packages)\n",
      "WARNING: Ignoring invalid distribution -illow (c:\\users\\chait\\anaconda3\\lib\\site-packages)\n",
      "DEPRECATION: plotlyhtmlexporter 0.0.2 has a non-standard dependency specifier nbformat>=4.2traitlets. pip 23.3 will enforce this behaviour change. A possible replacement is to upgrade to a newer version of plotlyhtmlexporter or contact the author to suggest that they release a version with a conforming dependency specifiers. Discussion can be found at https://github.com/pypa/pip/issues/12063\n",
      "DEPRECATION: pyodbc 4.0.0-unsupported has a non-standard version number. pip 23.3 will enforce this behaviour change. A possible replacement is to upgrade to a newer version of pyodbc or contact the author to suggest that they release a version with a conforming version number. Discussion can be found at https://github.com/pypa/pip/issues/12063\n"
     ]
    }
   ],
   "source": [
    "pip install -U polars"
   ]
  },
  {
   "cell_type": "markdown",
   "metadata": {},
   "source": [
    "## Loading Data"
   ]
  },
  {
   "cell_type": "code",
   "execution_count": 8,
   "metadata": {},
   "outputs": [],
   "source": [
    "file = '__mharrison__2020-2021.csv'\n",
    "df = pl.read_csv(file) #, parse_dates=True)"
   ]
  },
  {
   "cell_type": "code",
   "execution_count": 24,
   "metadata": {},
   "outputs": [
    {
     "name": "stdout",
     "output_type": "stream",
     "text": [
      "--2023-04-19 21:10:37--  https://github.com/mattharrison/datasets/raw/master/data/__mharrison__2020-2021.csv\n",
      "Resolving github.com (github.com)... 140.82.114.3\n",
      "Connecting to github.com (github.com)|140.82.114.3|:443... connected.\n",
      "HTTP request sent, awaiting response... 302 Found\n",
      "Location: https://raw.githubusercontent.com/mattharrison/datasets/master/data/__mharrison__2020-2021.csv [following]\n",
      "--2023-04-19 21:10:37--  https://raw.githubusercontent.com/mattharrison/datasets/master/data/__mharrison__2020-2021.csv\n",
      "Resolving raw.githubusercontent.com (raw.githubusercontent.com)... 185.199.111.133, 185.199.109.133, 185.199.108.133, ...\n",
      "Connecting to raw.githubusercontent.com (raw.githubusercontent.com)|185.199.111.133|:443... connected.\n",
      "HTTP request sent, awaiting response... 200 OK\n",
      "Length: 1725101 (1.6M) [text/plain]\n",
      "Saving to: ‘__mharrison__2020-2021.csv’\n",
      "\n",
      "__mharrison__2020-2 100%[===================>]   1.64M  --.-KB/s    in 0.05s   \n",
      "\n",
      "2023-04-19 21:10:37 (32.0 MB/s) - ‘__mharrison__2020-2021.csv’ saved [1725101/1725101]\n",
      "\n"
     ]
    }
   ],
   "source": [
    "## Downlaod the notebook \n",
    "!wget  https://github.com/mattharrison/datasets/raw/master/data/__mharrison__2020-2021.csv"
   ]
  },
  {
   "cell_type": "code",
   "execution_count": 25,
   "metadata": {},
   "outputs": [
    {
     "name": "stdout",
     "output_type": "stream",
     "text": [
      "total 2416\n",
      "-rw-rw-rw- 1 codespace root       738893 Apr 19 21:10 'Polars Intro.ipynb'\n",
      "-rw-rw-rw- 1 codespace root           20 Apr 19 20:59  README.md\n",
      "-rw-rw-rw- 1 codespace codespace 1725101 Apr 19 21:10  __mharrison__2020-2021.csv\n"
     ]
    }
   ],
   "source": [
    "!ls -l"
   ]
  },
  {
   "cell_type": "code",
   "execution_count": 5,
   "metadata": {},
   "outputs": [],
   "source": [
    "url = 'https://github.com/mattharrison/datasets/raw/master/data/__mharrison__2020-2021.csv'\n",
    "df = pl.read_csv(url) #, parse_dates=True)"
   ]
  },
  {
   "cell_type": "code",
   "execution_count": 6,
   "metadata": {
    "scrolled": true
   },
   "outputs": [
    {
     "data": {
      "text/html": [
       "<div><style>\n",
       ".dataframe > thead > tr > th,\n",
       ".dataframe > tbody > tr > td {\n",
       "  text-align: right;\n",
       "}\n",
       "</style>\n",
       "<small>shape: (5_791, 40)</small><table border=\"1\" class=\"dataframe\"><thead><tr><th>Tweet id</th><th>Tweet permalink</th><th>Tweet text</th><th>time</th><th>impressions</th><th>engagements</th><th>engagement rate</th><th>retweets</th><th>replies</th><th>likes</th><th>user profile clicks</th><th>url clicks</th><th>hashtag clicks</th><th>detail expands</th><th>permalink clicks</th><th>app opens</th><th>app installs</th><th>follows</th><th>email tweet</th><th>dial phone</th><th>media views</th><th>media engagements</th><th>promoted impressions</th><th>promoted engagements</th><th>promoted engagement rate</th><th>promoted retweets</th><th>promoted replies</th><th>promoted likes</th><th>promoted user profile clicks</th><th>promoted url clicks</th><th>promoted hashtag clicks</th><th>promoted detail expands</th><th>promoted permalink clicks</th><th>promoted app opens</th><th>promoted app installs</th><th>promoted follows</th><th>promoted email tweet</th><th>promoted dial phone</th><th>promoted media views</th><th>promoted media engagements</th></tr><tr><td>i64</td><td>str</td><td>str</td><td>str</td><td>f64</td><td>f64</td><td>f64</td><td>f64</td><td>f64</td><td>f64</td><td>f64</td><td>f64</td><td>f64</td><td>f64</td><td>f64</td><td>i64</td><td>i64</td><td>i64</td><td>i64</td><td>i64</td><td>i64</td><td>i64</td><td>str</td><td>str</td><td>str</td><td>str</td><td>str</td><td>str</td><td>str</td><td>str</td><td>str</td><td>str</td><td>str</td><td>str</td><td>str</td><td>str</td><td>str</td><td>str</td><td>str</td><td>str</td></tr></thead><tbody><tr><td>1212580517905780737</td><td>&quot;https://twitte…</td><td>&quot;Sounds like a …</td><td>&quot;2020-01-02 03:…</td><td>1465.0</td><td>7.0</td><td>0.004778</td><td>0.0</td><td>0.0</td><td>3.0</td><td>3.0</td><td>0.0</td><td>0.0</td><td>1.0</td><td>0.0</td><td>0</td><td>0</td><td>0</td><td>0</td><td>0</td><td>0</td><td>0</td><td>null</td><td>null</td><td>null</td><td>null</td><td>null</td><td>null</td><td>null</td><td>null</td><td>null</td><td>null</td><td>null</td><td>null</td><td>null</td><td>null</td><td>null</td><td>null</td><td>null</td><td>null</td></tr><tr><td>1212582494828036097</td><td>&quot;https://twitte…</td><td>&quot;@FogleBird Loo…</td><td>&quot;2020-01-02 03:…</td><td>154.0</td><td>3.0</td><td>0.019481</td><td>0.0</td><td>0.0</td><td>1.0</td><td>1.0</td><td>0.0</td><td>0.0</td><td>1.0</td><td>0.0</td><td>0</td><td>0</td><td>0</td><td>0</td><td>0</td><td>0</td><td>0</td><td>null</td><td>null</td><td>null</td><td>null</td><td>null</td><td>null</td><td>null</td><td>null</td><td>null</td><td>null</td><td>null</td><td>null</td><td>null</td><td>null</td><td>null</td><td>null</td><td>null</td><td>null</td></tr><tr><td>1212613735698690049</td><td>&quot;https://twitte…</td><td>&quot;@afilina That&#x27;…</td><td>&quot;2020-01-02 05:…</td><td>1024.0</td><td>6.0</td><td>0.005859</td><td>0.0</td><td>0.0</td><td>1.0</td><td>2.0</td><td>0.0</td><td>0.0</td><td>3.0</td><td>0.0</td><td>0</td><td>0</td><td>0</td><td>0</td><td>0</td><td>0</td><td>0</td><td>null</td><td>null</td><td>null</td><td>null</td><td>null</td><td>null</td><td>null</td><td>null</td><td>null</td><td>null</td><td>null</td><td>null</td><td>null</td><td>null</td><td>null</td><td>null</td><td>null</td><td>null</td></tr><tr><td>1212911749617242113</td><td>&quot;https://twitte…</td><td>&quot;@randal_olson …</td><td>&quot;2020-01-03 01:…</td><td>1419.0</td><td>14.0</td><td>0.009866</td><td>0.0</td><td>1.0</td><td>5.0</td><td>7.0</td><td>0.0</td><td>0.0</td><td>1.0</td><td>0.0</td><td>0</td><td>0</td><td>0</td><td>0</td><td>0</td><td>0</td><td>0</td><td>null</td><td>null</td><td>null</td><td>null</td><td>null</td><td>null</td><td>null</td><td>null</td><td>null</td><td>null</td><td>null</td><td>null</td><td>null</td><td>null</td><td>null</td><td>null</td><td>null</td><td>null</td></tr><tr><td>1212920556028252160</td><td>&quot;https://twitte…</td><td>&quot;@AlSweigart So…</td><td>&quot;2020-01-03 02:…</td><td>198.0</td><td>1.0</td><td>0.005051</td><td>0.0</td><td>0.0</td><td>1.0</td><td>0.0</td><td>0.0</td><td>0.0</td><td>0.0</td><td>0.0</td><td>0</td><td>0</td><td>0</td><td>0</td><td>0</td><td>0</td><td>0</td><td>null</td><td>null</td><td>null</td><td>null</td><td>null</td><td>null</td><td>null</td><td>null</td><td>null</td><td>null</td><td>null</td><td>null</td><td>null</td><td>null</td><td>null</td><td>null</td><td>null</td><td>null</td></tr><tr><td>1212921038356434947</td><td>&quot;https://twitte…</td><td>&quot;@tmarthal @Ted…</td><td>&quot;2020-01-03 02:…</td><td>170.0</td><td>3.0</td><td>0.017647</td><td>0.0</td><td>0.0</td><td>1.0</td><td>1.0</td><td>0.0</td><td>0.0</td><td>1.0</td><td>0.0</td><td>0</td><td>0</td><td>0</td><td>0</td><td>0</td><td>0</td><td>0</td><td>null</td><td>null</td><td>null</td><td>null</td><td>null</td><td>null</td><td>null</td><td>null</td><td>null</td><td>null</td><td>null</td><td>null</td><td>null</td><td>null</td><td>null</td><td>null</td><td>null</td><td>null</td></tr><tr><td>1212921192287330304</td><td>&quot;https://twitte…</td><td>&quot;@gabegundy It&#x27;…</td><td>&quot;2020-01-03 02:…</td><td>104.0</td><td>2.0</td><td>0.019231</td><td>0.0</td><td>1.0</td><td>1.0</td><td>0.0</td><td>0.0</td><td>0.0</td><td>0.0</td><td>0.0</td><td>0</td><td>0</td><td>0</td><td>0</td><td>0</td><td>0</td><td>0</td><td>null</td><td>null</td><td>null</td><td>null</td><td>null</td><td>null</td><td>null</td><td>null</td><td>null</td><td>null</td><td>null</td><td>null</td><td>null</td><td>null</td><td>null</td><td>null</td><td>null</td><td>null</td></tr><tr><td>1212969747186208768</td><td>&quot;https://twitte…</td><td>&quot;@anthonypjshaw…</td><td>&quot;2020-01-03 05:…</td><td>189.0</td><td>0.0</td><td>0.0</td><td>0.0</td><td>0.0</td><td>0.0</td><td>0.0</td><td>0.0</td><td>0.0</td><td>0.0</td><td>0.0</td><td>0</td><td>0</td><td>0</td><td>0</td><td>0</td><td>0</td><td>0</td><td>null</td><td>null</td><td>null</td><td>null</td><td>null</td><td>null</td><td>null</td><td>null</td><td>null</td><td>null</td><td>null</td><td>null</td><td>null</td><td>null</td><td>null</td><td>null</td><td>null</td><td>null</td></tr><tr><td>1212971634019033088</td><td>&quot;https://twitte…</td><td>&quot;@jet_set A lit…</td><td>&quot;2020-01-03 05:…</td><td>900.0</td><td>4.0</td><td>0.004444</td><td>0.0</td><td>0.0</td><td>0.0</td><td>4.0</td><td>0.0</td><td>0.0</td><td>0.0</td><td>0.0</td><td>0</td><td>0</td><td>0</td><td>0</td><td>0</td><td>0</td><td>0</td><td>null</td><td>null</td><td>null</td><td>null</td><td>null</td><td>null</td><td>null</td><td>null</td><td>null</td><td>null</td><td>null</td><td>null</td><td>null</td><td>null</td><td>null</td><td>null</td><td>null</td><td>null</td></tr><tr><td>1213194379793293312</td><td>&quot;https://twitte…</td><td>&quot;@juliasilge @r…</td><td>&quot;2020-01-03 20:…</td><td>252.0</td><td>2.0</td><td>0.007937</td><td>0.0</td><td>0.0</td><td>1.0</td><td>1.0</td><td>0.0</td><td>0.0</td><td>0.0</td><td>0.0</td><td>0</td><td>0</td><td>0</td><td>0</td><td>0</td><td>0</td><td>0</td><td>null</td><td>null</td><td>null</td><td>null</td><td>null</td><td>null</td><td>null</td><td>null</td><td>null</td><td>null</td><td>null</td><td>null</td><td>null</td><td>null</td><td>null</td><td>null</td><td>null</td><td>null</td></tr><tr><td>1213699561962631168</td><td>&quot;https://twitte…</td><td>&quot;Herein you wil…</td><td>&quot;2020-01-05 05:…</td><td>1610.0</td><td>6.0</td><td>0.003727</td><td>0.0</td><td>0.0</td><td>2.0</td><td>2.0</td><td>0.0</td><td>0.0</td><td>2.0</td><td>0.0</td><td>0</td><td>0</td><td>0</td><td>0</td><td>0</td><td>0</td><td>0</td><td>null</td><td>null</td><td>null</td><td>null</td><td>null</td><td>null</td><td>null</td><td>null</td><td>null</td><td>null</td><td>null</td><td>null</td><td>null</td><td>null</td><td>null</td><td>null</td><td>null</td><td>null</td></tr><tr><td>1213896543985516544</td><td>&quot;https://twitte…</td><td>&quot;@Austen Care t…</td><td>&quot;2020-01-05 18:…</td><td>165.0</td><td>3.0</td><td>0.018182</td><td>0.0</td><td>0.0</td><td>0.0</td><td>1.0</td><td>0.0</td><td>0.0</td><td>2.0</td><td>0.0</td><td>0</td><td>0</td><td>0</td><td>0</td><td>0</td><td>0</td><td>0</td><td>null</td><td>null</td><td>null</td><td>null</td><td>null</td><td>null</td><td>null</td><td>null</td><td>null</td><td>null</td><td>null</td><td>null</td><td>null</td><td>null</td><td>null</td><td>null</td><td>null</td><td>null</td></tr><tr><td>&hellip;</td><td>&hellip;</td><td>&hellip;</td><td>&hellip;</td><td>&hellip;</td><td>&hellip;</td><td>&hellip;</td><td>&hellip;</td><td>&hellip;</td><td>&hellip;</td><td>&hellip;</td><td>&hellip;</td><td>&hellip;</td><td>&hellip;</td><td>&hellip;</td><td>&hellip;</td><td>&hellip;</td><td>&hellip;</td><td>&hellip;</td><td>&hellip;</td><td>&hellip;</td><td>&hellip;</td><td>&hellip;</td><td>&hellip;</td><td>&hellip;</td><td>&hellip;</td><td>&hellip;</td><td>&hellip;</td><td>&hellip;</td><td>&hellip;</td><td>&hellip;</td><td>&hellip;</td><td>&hellip;</td><td>&hellip;</td><td>&hellip;</td><td>&hellip;</td><td>&hellip;</td><td>&hellip;</td><td>&hellip;</td><td>&hellip;</td></tr><tr><td>1474805013343981570</td><td>&quot;https://twitte…</td><td>&quot;@EricSchles @s…</td><td>&quot;2021-12-25 18:…</td><td>416.0</td><td>3.0</td><td>0.007212</td><td>0.0</td><td>0.0</td><td>2.0</td><td>1.0</td><td>0.0</td><td>0.0</td><td>0.0</td><td>0.0</td><td>0</td><td>0</td><td>0</td><td>0</td><td>0</td><td>0</td><td>0</td><td>null</td><td>null</td><td>null</td><td>null</td><td>null</td><td>null</td><td>null</td><td>null</td><td>null</td><td>null</td><td>null</td><td>null</td><td>null</td><td>null</td><td>null</td><td>null</td><td>null</td><td>null</td></tr><tr><td>1474820707234185217</td><td>&quot;https://twitte…</td><td>&quot;Mele kalikimak…</td><td>&quot;2021-12-25 19:…</td><td>15840.0</td><td>372.0</td><td>0.023485</td><td>0.0</td><td>2.0</td><td>61.0</td><td>59.0</td><td>6.0</td><td>0.0</td><td>66.0</td><td>0.0</td><td>0</td><td>0</td><td>0</td><td>0</td><td>0</td><td>178</td><td>178</td><td>null</td><td>null</td><td>null</td><td>null</td><td>null</td><td>null</td><td>null</td><td>null</td><td>null</td><td>null</td><td>null</td><td>null</td><td>null</td><td>null</td><td>null</td><td>null</td><td>null</td><td>null</td></tr><tr><td>1475023008620154882</td><td>&quot;https://twitte…</td><td>&quot;Good looking c…</td><td>&quot;2021-12-26 08:…</td><td>22557.0</td><td>501.0</td><td>0.02221</td><td>0.0</td><td>9.0</td><td>50.0</td><td>89.0</td><td>14.0</td><td>0.0</td><td>118.0</td><td>0.0</td><td>0</td><td>0</td><td>0</td><td>0</td><td>0</td><td>221</td><td>221</td><td>null</td><td>null</td><td>null</td><td>null</td><td>null</td><td>null</td><td>null</td><td>null</td><td>null</td><td>null</td><td>null</td><td>null</td><td>null</td><td>null</td><td>null</td><td>null</td><td>null</td><td>null</td></tr><tr><td>1475299210291343362</td><td>&quot;https://twitte…</td><td>&quot;@youtah A litt…</td><td>&quot;2021-12-27 02:…</td><td>1586.0</td><td>35.0</td><td>0.022068</td><td>0.0</td><td>0.0</td><td>2.0</td><td>1.0</td><td>1.0</td><td>0.0</td><td>0.0</td><td>0.0</td><td>0</td><td>0</td><td>0</td><td>0</td><td>0</td><td>31</td><td>31</td><td>null</td><td>null</td><td>null</td><td>null</td><td>null</td><td>null</td><td>null</td><td>null</td><td>null</td><td>null</td><td>null</td><td>null</td><td>null</td><td>null</td><td>null</td><td>null</td><td>null</td><td>null</td></tr><tr><td>1475299401681682434</td><td>&quot;https://twitte…</td><td>&quot;@mathsppblog S…</td><td>&quot;2021-12-27 02:…</td><td>4641.0</td><td>35.0</td><td>0.007541</td><td>0.0</td><td>4.0</td><td>11.0</td><td>10.0</td><td>0.0</td><td>0.0</td><td>10.0</td><td>0.0</td><td>0</td><td>0</td><td>0</td><td>0</td><td>0</td><td>0</td><td>0</td><td>null</td><td>null</td><td>null</td><td>null</td><td>null</td><td>null</td><td>null</td><td>null</td><td>null</td><td>null</td><td>null</td><td>null</td><td>null</td><td>null</td><td>null</td><td>null</td><td>null</td><td>null</td></tr><tr><td>1475299848093978626</td><td>&quot;https://twitte…</td><td>&quot;@willmcgugan P…</td><td>&quot;2021-12-27 02:…</td><td>1969.0</td><td>4.0</td><td>0.002031</td><td>0.0</td><td>0.0</td><td>4.0</td><td>0.0</td><td>0.0</td><td>0.0</td><td>0.0</td><td>0.0</td><td>0</td><td>0</td><td>0</td><td>0</td><td>0</td><td>0</td><td>0</td><td>null</td><td>null</td><td>null</td><td>null</td><td>null</td><td>null</td><td>null</td><td>null</td><td>null</td><td>null</td><td>null</td><td>null</td><td>null</td><td>null</td><td>null</td><td>null</td><td>null</td><td>null</td></tr><tr><td>1475300370138087426</td><td>&quot;https://twitte…</td><td>&quot;@reuvenmlerner…</td><td>&quot;2021-12-27 02:…</td><td>1669.0</td><td>5.0</td><td>0.002996</td><td>0.0</td><td>0.0</td><td>3.0</td><td>0.0</td><td>0.0</td><td>0.0</td><td>2.0</td><td>0.0</td><td>0</td><td>0</td><td>0</td><td>0</td><td>0</td><td>0</td><td>0</td><td>null</td><td>null</td><td>null</td><td>null</td><td>null</td><td>null</td><td>null</td><td>null</td><td>null</td><td>null</td><td>null</td><td>null</td><td>null</td><td>null</td><td>null</td><td>null</td><td>null</td><td>null</td></tr><tr><td>1475300661851934721</td><td>&quot;https://twitte…</td><td>&quot;@allison_horst…</td><td>&quot;2021-12-27 03:…</td><td>986.0</td><td>1.0</td><td>0.001014</td><td>0.0</td><td>0.0</td><td>0.0</td><td>0.0</td><td>0.0</td><td>0.0</td><td>1.0</td><td>0.0</td><td>0</td><td>0</td><td>0</td><td>0</td><td>0</td><td>0</td><td>0</td><td>null</td><td>null</td><td>null</td><td>null</td><td>null</td><td>null</td><td>null</td><td>null</td><td>null</td><td>null</td><td>null</td><td>null</td><td>null</td><td>null</td><td>null</td><td>null</td><td>null</td><td>null</td></tr><tr><td>1475518143690801156</td><td>&quot;https://twitte…</td><td>&quot;@willmcgugan Y…</td><td>&quot;2021-12-27 17:…</td><td>1790.0</td><td>7.0</td><td>0.003911</td><td>0.0</td><td>0.0</td><td>3.0</td><td>1.0</td><td>0.0</td><td>0.0</td><td>3.0</td><td>0.0</td><td>0</td><td>0</td><td>0</td><td>0</td><td>0</td><td>0</td><td>0</td><td>null</td><td>null</td><td>null</td><td>null</td><td>null</td><td>null</td><td>null</td><td>null</td><td>null</td><td>null</td><td>null</td><td>null</td><td>null</td><td>null</td><td>null</td><td>null</td><td>null</td><td>null</td></tr><tr><td>1475891441243025408</td><td>&quot;https://twitte…</td><td>&quot;@posco Visitin…</td><td>&quot;2021-12-28 18:…</td><td>1611.0</td><td>12.0</td><td>0.007449</td><td>0.0</td><td>0.0</td><td>4.0</td><td>4.0</td><td>0.0</td><td>0.0</td><td>4.0</td><td>0.0</td><td>0</td><td>0</td><td>0</td><td>0</td><td>0</td><td>0</td><td>0</td><td>null</td><td>null</td><td>null</td><td>null</td><td>null</td><td>null</td><td>null</td><td>null</td><td>null</td><td>null</td><td>null</td><td>null</td><td>null</td><td>null</td><td>null</td><td>null</td><td>null</td><td>null</td></tr><tr><td>1476453819751878656</td><td>&quot;https://twitte…</td><td>&quot;@johndsaunders…</td><td>&quot;2021-12-30 07:…</td><td>1354.0</td><td>8.0</td><td>0.005908</td><td>0.0</td><td>0.0</td><td>2.0</td><td>4.0</td><td>0.0</td><td>0.0</td><td>2.0</td><td>0.0</td><td>0</td><td>0</td><td>0</td><td>0</td><td>0</td><td>0</td><td>0</td><td>null</td><td>null</td><td>null</td><td>null</td><td>null</td><td>null</td><td>null</td><td>null</td><td>null</td><td>null</td><td>null</td><td>null</td><td>null</td><td>null</td><td>null</td><td>null</td><td>null</td><td>null</td></tr><tr><td>1477024722051158018</td><td>&quot;https://twitte…</td><td>&quot;@tunguz Xgboos…</td><td>&quot;2021-12-31 21:…</td><td>5041.0</td><td>63.0</td><td>0.012498</td><td>0.0</td><td>3.0</td><td>23.0</td><td>8.0</td><td>0.0</td><td>0.0</td><td>29.0</td><td>0.0</td><td>0</td><td>0</td><td>0</td><td>0</td><td>0</td><td>0</td><td>0</td><td>null</td><td>null</td><td>null</td><td>null</td><td>null</td><td>null</td><td>null</td><td>null</td><td>null</td><td>null</td><td>null</td><td>null</td><td>null</td><td>null</td><td>null</td><td>null</td><td>null</td><td>null</td></tr></tbody></table></div>"
      ],
      "text/plain": [
       "shape: (5_791, 40)\n",
       "┌─────────────────────┬───────────────────────────────────┬───────────────────────────────────┬───────────────────────────┬───┬──────────────────────┬─────────────────────┬──────────────────────┬────────────────────────────┐\n",
       "│ Tweet id            ┆ Tweet permalink                   ┆ Tweet text                        ┆ time                      ┆ … ┆ promoted email tweet ┆ promoted dial phone ┆ promoted media views ┆ promoted media engagements │\n",
       "│ ---                 ┆ ---                               ┆ ---                               ┆ ---                       ┆   ┆ ---                  ┆ ---                 ┆ ---                  ┆ ---                        │\n",
       "│ i64                 ┆ str                               ┆ str                               ┆ str                       ┆   ┆ str                  ┆ str                 ┆ str                  ┆ str                        │\n",
       "╞═════════════════════╪═══════════════════════════════════╪═══════════════════════════════════╪═══════════════════════════╪═══╪══════════════════════╪═════════════════════╪══════════════════════╪════════════════════════════╡\n",
       "│ 1212580517905780737 ┆ https://twitter.com/__mharrison_… ┆ Sounds like a great topic! https… ┆ 2020-01-02 03:44:00+00:00 ┆ … ┆ null                 ┆ null                ┆ null                 ┆ null                       │\n",
       "│ 1212582494828036097 ┆ https://twitter.com/__mharrison_… ┆ @FogleBird Looks like SLC. I can… ┆ 2020-01-02 03:52:00+00:00 ┆ … ┆ null                 ┆ null                ┆ null                 ┆ null                       │\n",
       "│ 1212613735698690049 ┆ https://twitter.com/__mharrison_… ┆ @afilina That's really amount an… ┆ 2020-01-02 05:56:00+00:00 ┆ … ┆ null                 ┆ null                ┆ null                 ┆ null                       │\n",
       "│ 1212911749617242113 ┆ https://twitter.com/__mharrison_… ┆ @randal_olson I use anaconda whe… ┆ 2020-01-03 01:41:00+00:00 ┆ … ┆ null                 ┆ null                ┆ null                 ┆ null                       │\n",
       "│ …                   ┆ …                                 ┆ …                                 ┆ …                         ┆ … ┆ …                    ┆ …                   ┆ …                    ┆ …                          │\n",
       "│ 1475518143690801156 ┆ https://twitter.com/__mharrison_… ┆ @willmcgugan You need to find ou… ┆ 2021-12-27 17:25:00+00:00 ┆ … ┆ null                 ┆ null                ┆ null                 ┆ null                       │\n",
       "│ 1475891441243025408 ┆ https://twitter.com/__mharrison_… ┆ @posco Visiting Hawaii for the h… ┆ 2021-12-28 18:08:00+00:00 ┆ … ┆ null                 ┆ null                ┆ null                 ┆ null                       │\n",
       "│ 1476453819751878656 ┆ https://twitter.com/__mharrison_… ┆ @johndsaunders My son just built… ┆ 2021-12-30 07:23:00+00:00 ┆ … ┆ null                 ┆ null                ┆ null                 ┆ null                       │\n",
       "│ 1477024722051158018 ┆ https://twitter.com/__mharrison_… ┆ @tunguz Xgboost                   ┆ 2021-12-31 21:11:00+00:00 ┆ … ┆ null                 ┆ null                ┆ null                 ┆ null                       │\n",
       "└─────────────────────┴───────────────────────────────────┴───────────────────────────────────┴───────────────────────────┴───┴──────────────────────┴─────────────────────┴──────────────────────┴────────────────────────────┘"
      ]
     },
     "execution_count": 6,
     "metadata": {},
     "output_type": "execute_result"
    }
   ],
   "source": [
    "df"
   ]
  },
  {
   "cell_type": "code",
   "execution_count": 11,
   "metadata": {},
   "outputs": [
    {
     "data": {
      "text/html": [
       "<div><style>\n",
       ".dataframe > thead > tr > th,\n",
       ".dataframe > tbody > tr > td {\n",
       "  text-align: right;\n",
       "}\n",
       "</style>\n",
       "<small>shape: (5, 40)</small><table border=\"1\" class=\"dataframe\"><thead><tr><th>Tweet id</th><th>Tweet permalink</th><th>Tweet text</th><th>time</th><th>impressions</th><th>engagements</th><th>engagement rate</th><th>retweets</th><th>replies</th><th>likes</th><th>user profile clicks</th><th>url clicks</th><th>hashtag clicks</th><th>detail expands</th><th>permalink clicks</th><th>app opens</th><th>app installs</th><th>follows</th><th>email tweet</th><th>dial phone</th><th>media views</th><th>media engagements</th><th>promoted impressions</th><th>promoted engagements</th><th>promoted engagement rate</th><th>promoted retweets</th><th>promoted replies</th><th>promoted likes</th><th>promoted user profile clicks</th><th>promoted url clicks</th><th>promoted hashtag clicks</th><th>promoted detail expands</th><th>promoted permalink clicks</th><th>promoted app opens</th><th>promoted app installs</th><th>promoted follows</th><th>promoted email tweet</th><th>promoted dial phone</th><th>promoted media views</th><th>promoted media engagements</th></tr><tr><td>i64</td><td>str</td><td>str</td><td>str</td><td>f64</td><td>f64</td><td>f64</td><td>f64</td><td>f64</td><td>f64</td><td>f64</td><td>f64</td><td>f64</td><td>f64</td><td>f64</td><td>i64</td><td>i64</td><td>i64</td><td>i64</td><td>i64</td><td>i64</td><td>i64</td><td>str</td><td>str</td><td>str</td><td>str</td><td>str</td><td>str</td><td>str</td><td>str</td><td>str</td><td>str</td><td>str</td><td>str</td><td>str</td><td>str</td><td>str</td><td>str</td><td>str</td><td>str</td></tr></thead><tbody><tr><td>1212580517905780737</td><td>&quot;https://twitte…</td><td>&quot;Sounds like a …</td><td>&quot;2020-01-02 03:…</td><td>1465.0</td><td>7.0</td><td>0.004778</td><td>0.0</td><td>0.0</td><td>3.0</td><td>3.0</td><td>0.0</td><td>0.0</td><td>1.0</td><td>0.0</td><td>0</td><td>0</td><td>0</td><td>0</td><td>0</td><td>0</td><td>0</td><td>null</td><td>null</td><td>null</td><td>null</td><td>null</td><td>null</td><td>null</td><td>null</td><td>null</td><td>null</td><td>null</td><td>null</td><td>null</td><td>null</td><td>null</td><td>null</td><td>null</td><td>null</td></tr><tr><td>1212582494828036097</td><td>&quot;https://twitte…</td><td>&quot;@FogleBird Loo…</td><td>&quot;2020-01-02 03:…</td><td>154.0</td><td>3.0</td><td>0.019481</td><td>0.0</td><td>0.0</td><td>1.0</td><td>1.0</td><td>0.0</td><td>0.0</td><td>1.0</td><td>0.0</td><td>0</td><td>0</td><td>0</td><td>0</td><td>0</td><td>0</td><td>0</td><td>null</td><td>null</td><td>null</td><td>null</td><td>null</td><td>null</td><td>null</td><td>null</td><td>null</td><td>null</td><td>null</td><td>null</td><td>null</td><td>null</td><td>null</td><td>null</td><td>null</td><td>null</td></tr><tr><td>1212613735698690049</td><td>&quot;https://twitte…</td><td>&quot;@afilina That&#x27;…</td><td>&quot;2020-01-02 05:…</td><td>1024.0</td><td>6.0</td><td>0.005859</td><td>0.0</td><td>0.0</td><td>1.0</td><td>2.0</td><td>0.0</td><td>0.0</td><td>3.0</td><td>0.0</td><td>0</td><td>0</td><td>0</td><td>0</td><td>0</td><td>0</td><td>0</td><td>null</td><td>null</td><td>null</td><td>null</td><td>null</td><td>null</td><td>null</td><td>null</td><td>null</td><td>null</td><td>null</td><td>null</td><td>null</td><td>null</td><td>null</td><td>null</td><td>null</td><td>null</td></tr><tr><td>1212911749617242113</td><td>&quot;https://twitte…</td><td>&quot;@randal_olson …</td><td>&quot;2020-01-03 01:…</td><td>1419.0</td><td>14.0</td><td>0.009866</td><td>0.0</td><td>1.0</td><td>5.0</td><td>7.0</td><td>0.0</td><td>0.0</td><td>1.0</td><td>0.0</td><td>0</td><td>0</td><td>0</td><td>0</td><td>0</td><td>0</td><td>0</td><td>null</td><td>null</td><td>null</td><td>null</td><td>null</td><td>null</td><td>null</td><td>null</td><td>null</td><td>null</td><td>null</td><td>null</td><td>null</td><td>null</td><td>null</td><td>null</td><td>null</td><td>null</td></tr><tr><td>1212920556028252160</td><td>&quot;https://twitte…</td><td>&quot;@AlSweigart So…</td><td>&quot;2020-01-03 02:…</td><td>198.0</td><td>1.0</td><td>0.005051</td><td>0.0</td><td>0.0</td><td>1.0</td><td>0.0</td><td>0.0</td><td>0.0</td><td>0.0</td><td>0.0</td><td>0</td><td>0</td><td>0</td><td>0</td><td>0</td><td>0</td><td>0</td><td>null</td><td>null</td><td>null</td><td>null</td><td>null</td><td>null</td><td>null</td><td>null</td><td>null</td><td>null</td><td>null</td><td>null</td><td>null</td><td>null</td><td>null</td><td>null</td><td>null</td><td>null</td></tr></tbody></table></div>"
      ],
      "text/plain": [
       "shape: (5, 40)\n",
       "┌──────────────┬──────────────┬──────────────┬─────────────┬───┬─────────────┬─────────────┬─────────────┬─────────────┐\n",
       "│ Tweet id     ┆ Tweet        ┆ Tweet text   ┆ time        ┆ … ┆ promoted    ┆ promoted    ┆ promoted    ┆ promoted    │\n",
       "│ ---          ┆ permalink    ┆ ---          ┆ ---         ┆   ┆ email tweet ┆ dial phone  ┆ media views ┆ media       │\n",
       "│ i64          ┆ ---          ┆ str          ┆ str         ┆   ┆ ---         ┆ ---         ┆ ---         ┆ engagements │\n",
       "│              ┆ str          ┆              ┆             ┆   ┆ str         ┆ str         ┆ str         ┆ ---         │\n",
       "│              ┆              ┆              ┆             ┆   ┆             ┆             ┆             ┆ str         │\n",
       "╞══════════════╪══════════════╪══════════════╪═════════════╪═══╪═════════════╪═════════════╪═════════════╪═════════════╡\n",
       "│ 121258051790 ┆ https://twit ┆ Sounds like  ┆ 2020-01-02  ┆ … ┆ null        ┆ null        ┆ null        ┆ null        │\n",
       "│ 5780737      ┆ ter.com/__mh ┆ a great      ┆ 03:44:00+00 ┆   ┆             ┆             ┆             ┆             │\n",
       "│              ┆ arrison_…    ┆ topic!       ┆ :00         ┆   ┆             ┆             ┆             ┆             │\n",
       "│              ┆              ┆ https…       ┆             ┆   ┆             ┆             ┆             ┆             │\n",
       "│ 121258249482 ┆ https://twit ┆ @FogleBird   ┆ 2020-01-02  ┆ … ┆ null        ┆ null        ┆ null        ┆ null        │\n",
       "│ 8036097      ┆ ter.com/__mh ┆ Looks like   ┆ 03:52:00+00 ┆   ┆             ┆             ┆             ┆             │\n",
       "│              ┆ arrison_…    ┆ SLC. I can…  ┆ :00         ┆   ┆             ┆             ┆             ┆             │\n",
       "│ 121261373569 ┆ https://twit ┆ @afilina     ┆ 2020-01-02  ┆ … ┆ null        ┆ null        ┆ null        ┆ null        │\n",
       "│ 8690049      ┆ ter.com/__mh ┆ That's       ┆ 05:56:00+00 ┆   ┆             ┆             ┆             ┆             │\n",
       "│              ┆ arrison_…    ┆ really       ┆ :00         ┆   ┆             ┆             ┆             ┆             │\n",
       "│              ┆              ┆ amount an…   ┆             ┆   ┆             ┆             ┆             ┆             │\n",
       "│ 121291174961 ┆ https://twit ┆ @randal_olso ┆ 2020-01-03  ┆ … ┆ null        ┆ null        ┆ null        ┆ null        │\n",
       "│ 7242113      ┆ ter.com/__mh ┆ n I use      ┆ 01:41:00+00 ┆   ┆             ┆             ┆             ┆             │\n",
       "│              ┆ arrison_…    ┆ anaconda     ┆ :00         ┆   ┆             ┆             ┆             ┆             │\n",
       "│              ┆              ┆ whe…         ┆             ┆   ┆             ┆             ┆             ┆             │\n",
       "│ 121292055602 ┆ https://twit ┆ @AlSweigart  ┆ 2020-01-03  ┆ … ┆ null        ┆ null        ┆ null        ┆ null        │\n",
       "│ 8252160      ┆ ter.com/__mh ┆ Sometimes    ┆ 02:16:00+00 ┆   ┆             ┆             ┆             ┆             │\n",
       "│              ┆ arrison_…    ┆ the studen…  ┆ :00         ┆   ┆             ┆             ┆             ┆             │\n",
       "└──────────────┴──────────────┴──────────────┴─────────────┴───┴─────────────┴─────────────┴─────────────┴─────────────┘"
      ]
     },
     "execution_count": 11,
     "metadata": {},
     "output_type": "execute_result"
    }
   ],
   "source": [
    "df.head()"
   ]
  },
  {
   "cell_type": "markdown",
   "metadata": {},
   "source": [
    "## Polars Operations "
   ]
  },
  {
   "cell_type": "code",
   "execution_count": 6,
   "metadata": {},
   "outputs": [
    {
     "name": "stdout",
     "output_type": "stream",
     "text": [
      "['Array', 'ArrowError', 'Binary', 'Boolean', 'Categorical', 'ChronoFormatWarning', 'ColumnNotFoundError', 'ComputeError', 'Config', 'DATETIME_DTYPES', 'DURATION_DTYPES', 'DataFrame', 'DataType', 'Date', 'Datetime', 'Decimal', 'DuplicateError', 'Duration', 'Expr', 'FLOAT_DTYPES', 'Field', 'Float32', 'Float64', 'INTEGER_DTYPES', 'Int16', 'Int32', 'Int64', 'Int8', 'InvalidOperationError', 'LazyFrame', 'List', 'NUMERIC_DTYPES', 'NoDataError', 'Null', 'Object', 'PolarsDataType', 'PolarsPanicError', 'SQLContext', 'SchemaError', 'SchemaFieldNotFoundError', 'Series', 'ShapeError', 'StringCache', 'Struct', 'StructFieldNotFoundError', 'TEMPORAL_DTYPES', 'Time', 'UInt16', 'UInt32', 'UInt64', 'UInt8', 'Unknown', 'Utf8', '__all__', '__annotations__', '__builtins__', '__cached__', '__doc__', '__file__', '__loader__', '__name__', '__package__', '__path__', '__register_startup_deps', '__spec__', '__version__', '_reexport', 'align_frames', 'all', 'all_horizontal', 'any', 'any_horizontal', 'api', 'apply', 'approx_n_unique', 'arange', 'arctan2', 'arctan2d', 'arg_sort_by', 'arg_where', 'avg', 'build_info', 'coalesce', 'col', 'collect_all', 'concat', 'concat_list', 'concat_str', 'config', 'contextlib', 'convert', 'corr', 'count', 'cov', 'cumfold', 'cumreduce', 'cumsum', 'cumsum_horizontal', 'dataframe', 'datatypes', 'date', 'date_range', 'date_ranges', 'datetime', 'dependencies', 'duration', 'element', 'enable_string_cache', 'exceptions', 'exclude', 'expr', 'first', 'fold', 'format', 'from_arrow', 'from_dataframe', 'from_dict', 'from_dicts', 'from_epoch', 'from_numpy', 'from_pandas', 'from_records', 'from_repr', 'functions', 'get_idx_type', 'get_index_type', 'groups', 'head', 'implode', 'int_range', 'int_ranges', 'io', 'last', 'lazyframe', 'lit', 'map', 'max', 'max_horizontal', 'mean', 'median', 'min', 'min_horizontal', 'n_unique', 'ones', 'os', 'polars', 'quantile', 'read_avro', 'read_csv', 'read_csv_batched', 'read_database', 'read_delta', 'read_excel', 'read_ipc', 'read_ipc_schema', 'read_json', 'read_ndjson', 'read_parquet', 'read_parquet_schema', 'reduce', 'repeat', 'rolling_corr', 'rolling_cov', 'scan_csv', 'scan_delta', 'scan_ds', 'scan_ipc', 'scan_ndjson', 'scan_parquet', 'scan_pyarrow_dataset', 'select', 'selectors', 'series', 'show_versions', 'slice', 'sql', 'sql_expr', 'std', 'string_cache', 'struct', 'sum', 'sum_horizontal', 'tail', 'threadpool_size', 'time', 'time_range', 'time_ranges', 'toggle_string_cache', 'type_aliases', 'using_string_cache', 'utils', 'var', 'when', 'wrap_df', 'wrap_s', 'zeros']\n"
     ]
    }
   ],
   "source": [
    "print(dir(pl))"
   ]
  },
  {
   "cell_type": "code",
   "execution_count": 30,
   "metadata": {},
   "outputs": [
    {
     "name": "stdout",
     "output_type": "stream",
     "text": [
      "['__add__', '__annotations__', '__array__', '__bool__', '__class__', '__contains__', '__copy__', '__dataframe__', '__deepcopy__', '__delattr__', '__dict__', '__dir__', '__doc__', '__eq__', '__floordiv__', '__format__', '__ge__', '__getattribute__', '__getitem__', '__getstate__', '__gt__', '__hash__', '__init__', '__init_subclass__', '__iter__', '__le__', '__len__', '__lt__', '__mod__', '__module__', '__mul__', '__ne__', '__new__', '__radd__', '__reduce__', '__reduce_ex__', '__repr__', '__rmul__', '__setattr__', '__setitem__', '__setstate__', '__sizeof__', '__str__', '__sub__', '__subclasshook__', '__truediv__', '__weakref__', '_accessors', '_cast_all_from_to', '_comp', '_compare_to_non_df', '_compare_to_other_df', '_df', '_div', '_from_arrow', '_from_dict', '_from_dicts', '_from_numpy', '_from_pandas', '_from_pydf', '_from_records', '_ipython_key_completions_', '_pos_idx', '_pos_idxs', '_read_avro', '_read_csv', '_read_ipc', '_read_json', '_read_ndjson', '_read_parquet', '_repr_html_', 'apply', 'bottom_k', 'clear', 'clone', 'columns', 'corr', 'describe', 'drop', 'drop_in_place', 'drop_nulls', 'dtypes', 'estimated_size', 'explode', 'extend', 'fill_nan', 'fill_null', 'filter', 'find_idx_by_name', 'fold', 'frame_equal', 'get_column', 'get_columns', 'glimpse', 'groupby', 'groupby_dynamic', 'groupby_rolling', 'hash_rows', 'head', 'height', 'hstack', 'insert_at_idx', 'interpolate', 'is_duplicated', 'is_empty', 'is_unique', 'item', 'iter_rows', 'iter_slices', 'join', 'join_asof', 'lazy', 'limit', 'max', 'mean', 'median', 'melt', 'merge_sorted', 'min', 'n_chunks', 'n_unique', 'null_count', 'partition_by', 'pipe', 'pivot', 'product', 'quantile', 'rechunk', 'rename', 'replace', 'replace_at_idx', 'reverse', 'row', 'rows', 'sample', 'schema', 'select', 'shape', 'shift', 'shift_and_fill', 'shrink_to_fit', 'slice', 'sort', 'std', 'sum', 'tail', 'take_every', 'to_arrow', 'to_dict', 'to_dicts', 'to_dummies', 'to_init_repr', 'to_numpy', 'to_pandas', 'to_series', 'to_struct', 'top_k', 'transpose', 'unique', 'unnest', 'unstack', 'update', 'upsample', 'var', 'vstack', 'width', 'with_columns', 'with_row_count', 'write_avro', 'write_csv', 'write_database', 'write_excel', 'write_ipc', 'write_json', 'write_ndjson', 'write_parquet']\n"
     ]
    }
   ],
   "source": [
    "print(dir(df))"
   ]
  },
  {
   "cell_type": "code",
   "execution_count": 31,
   "metadata": {},
   "outputs": [
    {
     "name": "stdout",
     "output_type": "stream",
     "text": [
      "['__abs__', '__add__', '__and__', '__annotations__', '__array_ufunc__', '__bool__', '__class__', '__delattr__', '__dict__', '__dir__', '__doc__', '__eq__', '__floordiv__', '__format__', '__ge__', '__getattr__', '__getattribute__', '__getstate__', '__gt__', '__hash__', '__init__', '__init_subclass__', '__invert__', '__le__', '__lt__', '__mod__', '__module__', '__mul__', '__ne__', '__neg__', '__new__', '__or__', '__pos__', '__pow__', '__radd__', '__rand__', '__reduce__', '__reduce_ex__', '__repr__', '__rfloordiv__', '__rmod__', '__rmul__', '__ror__', '__rpow__', '__rsub__', '__rtruediv__', '__rxor__', '__setattr__', '__setstate__', '__sizeof__', '__str__', '__sub__', '__subclasshook__', '__truediv__', '__weakref__', '__xor__', '_accessors', '_from_pyexpr', '_pyexpr', '_repr_html_', '_to_expr', '_to_pyexpr', 'abs', 'add', 'agg_groups', 'alias', 'all', 'and_', 'any', 'append', 'apply', 'approx_unique', 'arccos', 'arccosh', 'arcsin', 'arcsinh', 'arctan', 'arctanh', 'arg_max', 'arg_min', 'arg_sort', 'arg_true', 'arg_unique', 'arr', 'backward_fill', 'bin', 'bottom_k', 'cast', 'cat', 'ceil', 'clip', 'clip_max', 'clip_min', 'cos', 'cosh', 'count', 'cumcount', 'cummax', 'cummin', 'cumprod', 'cumsum', 'cumulative_eval', 'diff', 'dot', 'drop_nans', 'drop_nulls', 'dt', 'entropy', 'eq', 'ewm_mean', 'ewm_std', 'ewm_var', 'exclude', 'exp', 'explode', 'extend_constant', 'fill_nan', 'fill_null', 'filter', 'first', 'flatten', 'floor', 'floordiv', 'forward_fill', 'ge', 'gt', 'hash', 'head', 'implode', 'inspect', 'interpolate', 'is_between', 'is_duplicated', 'is_finite', 'is_first', 'is_in', 'is_infinite', 'is_nan', 'is_not', 'is_not_nan', 'is_not_null', 'is_null', 'is_unique', 'keep_name', 'kurtosis', 'last', 'le', 'len', 'limit', 'log', 'log10', 'log1p', 'lower_bound', 'lt', 'map', 'map_alias', 'map_dict', 'max', 'mean', 'median', 'meta', 'min', 'mod', 'mode', 'mul', 'n_unique', 'nan_max', 'nan_min', 'ne', 'null_count', 'or_', 'over', 'pct_change', 'pipe', 'pow', 'prefix', 'product', 'quantile', 'rank', 'rechunk', 'reinterpret', 'repeat_by', 'reshape', 'reverse', 'rolling_apply', 'rolling_max', 'rolling_mean', 'rolling_median', 'rolling_min', 'rolling_quantile', 'rolling_skew', 'rolling_std', 'rolling_sum', 'rolling_var', 'round', 'sample', 'search_sorted', 'set_sorted', 'shift', 'shift_and_fill', 'shrink_dtype', 'shuffle', 'sign', 'sin', 'sinh', 'skew', 'slice', 'sort', 'sort_by', 'sqrt', 'std', 'str', 'struct', 'sub', 'suffix', 'sum', 'tail', 'take', 'take_every', 'tan', 'tanh', 'to_physical', 'top_k', 'truediv', 'unique', 'unique_counts', 'upper_bound', 'value_counts', 'var', 'where', 'xor']\n"
     ]
    }
   ],
   "source": [
    "print(dir(pl.col('foo')))"
   ]
  },
  {
   "cell_type": "code",
   "execution_count": null,
   "metadata": {},
   "outputs": [],
   "source": []
  },
  {
   "cell_type": "code",
   "execution_count": null,
   "metadata": {},
   "outputs": [],
   "source": []
  },
  {
   "cell_type": "markdown",
   "metadata": {},
   "source": [
    "## Exploring"
   ]
  },
  {
   "cell_type": "code",
   "execution_count": 32,
   "metadata": {
    "scrolled": false
   },
   "outputs": [
    {
     "ename": "AttributeError",
     "evalue": "'DataFrame' object has no attribute 'index'",
     "output_type": "error",
     "traceback": [
      "\u001b[0;31m---------------------------------------------------------------------------\u001b[0m",
      "\u001b[0;31mAttributeError\u001b[0m                            Traceback (most recent call last)",
      "Cell \u001b[0;32mIn[32], line 2\u001b[0m\n\u001b[1;32m      1\u001b[0m \u001b[39m# no index\u001b[39;00m\n\u001b[0;32m----> 2\u001b[0m df\u001b[39m.\u001b[39;49mindex\n",
      "\u001b[0;31mAttributeError\u001b[0m: 'DataFrame' object has no attribute 'index'"
     ]
    }
   ],
   "source": [
    "# no index\n",
    "df.index"
   ]
  },
  {
   "cell_type": "code",
   "execution_count": 33,
   "metadata": {
    "scrolled": true
   },
   "outputs": [
    {
     "data": {
      "text/plain": [
       "['Tweet id',\n",
       " 'Tweet permalink',\n",
       " 'Tweet text',\n",
       " 'time',\n",
       " 'impressions',\n",
       " 'engagements',\n",
       " 'engagement rate',\n",
       " 'retweets',\n",
       " 'replies',\n",
       " 'likes',\n",
       " 'user profile clicks',\n",
       " 'url clicks',\n",
       " 'hashtag clicks',\n",
       " 'detail expands',\n",
       " 'permalink clicks',\n",
       " 'app opens',\n",
       " 'app installs',\n",
       " 'follows',\n",
       " 'email tweet',\n",
       " 'dial phone',\n",
       " 'media views',\n",
       " 'media engagements',\n",
       " 'promoted impressions',\n",
       " 'promoted engagements',\n",
       " 'promoted engagement rate',\n",
       " 'promoted retweets',\n",
       " 'promoted replies',\n",
       " 'promoted likes',\n",
       " 'promoted user profile clicks',\n",
       " 'promoted url clicks',\n",
       " 'promoted hashtag clicks',\n",
       " 'promoted detail expands',\n",
       " 'promoted permalink clicks',\n",
       " 'promoted app opens',\n",
       " 'promoted app installs',\n",
       " 'promoted follows',\n",
       " 'promoted email tweet',\n",
       " 'promoted dial phone',\n",
       " 'promoted media views',\n",
       " 'promoted media engagements']"
      ]
     },
     "execution_count": 33,
     "metadata": {},
     "output_type": "execute_result"
    }
   ],
   "source": [
    "df.columns"
   ]
  },
  {
   "cell_type": "code",
   "execution_count": 34,
   "metadata": {
    "scrolled": true
   },
   "outputs": [
    {
     "data": {
      "text/html": [
       "<div><style>\n",
       ".dataframe > thead > tr > th,\n",
       ".dataframe > tbody > tr > td {\n",
       "  text-align: right;\n",
       "}\n",
       "</style>\n",
       "<small>shape: (40, 20)</small><table border=\"1\" class=\"dataframe\"><thead><tr><th>column_0</th><th>column_1</th><th>column_2</th><th>column_3</th><th>column_4</th><th>column_5</th><th>column_6</th><th>column_7</th><th>column_8</th><th>column_9</th><th>column_10</th><th>column_11</th><th>column_12</th><th>column_13</th><th>column_14</th><th>column_15</th><th>column_16</th><th>column_17</th><th>column_18</th><th>column_19</th></tr><tr><td>str</td><td>str</td><td>str</td><td>str</td><td>str</td><td>str</td><td>str</td><td>str</td><td>str</td><td>str</td><td>str</td><td>str</td><td>str</td><td>str</td><td>str</td><td>str</td><td>str</td><td>str</td><td>str</td><td>str</td></tr></thead><tbody><tr><td>&quot;13139499919882…</td><td>&quot;13347485895164…</td><td>&quot;13869186231643…</td><td>&quot;13091757643868…</td><td>&quot;13638586249262…</td><td>&quot;13535388171231…</td><td>&quot;13268951844963…</td><td>&quot;13131338061660…</td><td>&quot;14617727715585…</td><td>&quot;13141913314098…</td><td>&quot;12457783657824…</td><td>&quot;12663436121675…</td><td>&quot;14055636928301…</td><td>&quot;13675392575024…</td><td>&quot;14687414117301…</td><td>&quot;12536762595586…</td><td>&quot;13937219883429…</td><td>&quot;12966504890486…</td><td>&quot;13180051422312…</td><td>&quot;12966097636360…</td></tr><tr><td>&quot;https://twitte…</td><td>&quot;https://twitte…</td><td>&quot;https://twitte…</td><td>&quot;https://twitte…</td><td>&quot;https://twitte…</td><td>&quot;https://twitte…</td><td>&quot;https://twitte…</td><td>&quot;https://twitte…</td><td>&quot;https://twitte…</td><td>&quot;https://twitte…</td><td>&quot;https://twitte…</td><td>&quot;https://twitte…</td><td>&quot;https://twitte…</td><td>&quot;https://twitte…</td><td>&quot;https://twitte…</td><td>&quot;https://twitte…</td><td>&quot;https://twitte…</td><td>&quot;https://twitte…</td><td>&quot;https://twitte…</td><td>&quot;https://twitte…</td></tr><tr><td>&quot;Getting Things…</td><td>&quot;@chrisalbon No…</td><td>&quot;@A_K_Nain 👍&quot;</td><td>&quot;Just got an in…</td><td>&quot;@reuvenmlerner…</td><td>&quot;Honestly... Sh…</td><td>&quot;Another crazy …</td><td>&quot;Excel rules th…</td><td>&quot;@timtriche Yes…</td><td>&quot;@patio11 Anoth…</td><td>&quot;Great time to …</td><td>&quot;@JustinCarmony…</td><td>&quot;@willmcgugan I…</td><td>&quot;We could divid…</td><td>&quot;@rod_o Most of…</td><td>&quot;@avibryant But…</td><td>&quot;Want to go dow…</td><td>&quot;@ornintovitu @…</td><td>&quot;@bryce Huh, I …</td><td>&quot;@seanjtaylor M…</td></tr><tr><td>&quot;2020-10-07 21:…</td><td>&quot;2020-12-04 06:…</td><td>&quot;2021-04-27 05:…</td><td>&quot;2020-09-24 17:…</td><td>&quot;2021-02-22 14:…</td><td>&quot;2021-01-25 03:…</td><td>&quot;2020-11-12 14:…</td><td>&quot;2020-10-05 15:…</td><td>&quot;2021-11-19 19:…</td><td>&quot;2020-10-08 13:…</td><td>&quot;2020-04-02 18:…</td><td>&quot;2020-05-29 12:…</td><td>&quot;2021-06-17 16:…</td><td>&quot;2021-03-04 18:…</td><td>&quot;2021-12-09 00:…</td><td>&quot;2020-04-24 13:…</td><td>&quot;2021-05-16 00:…</td><td>&quot;2020-08-21 03:…</td><td>&quot;2020-10-19 01:…</td><td>&quot;2020-08-21 00:…</td></tr><tr><td>&quot;396.0&quot;</td><td>&quot;908.0&quot;</td><td>&quot;278.0&quot;</td><td>&quot;6688.0&quot;</td><td>&quot;88.0&quot;</td><td>&quot;4570.0&quot;</td><td>&quot;1302.0&quot;</td><td>&quot;1210.0&quot;</td><td>&quot;76.0&quot;</td><td>&quot;199.0&quot;</td><td>&quot;5131.0&quot;</td><td>&quot;291.0&quot;</td><td>&quot;5230.0&quot;</td><td>&quot;1161.0&quot;</td><td>&quot;79.0&quot;</td><td>&quot;218.0&quot;</td><td>&quot;5681.0&quot;</td><td>&quot;170.0&quot;</td><td>&quot;427.0&quot;</td><td>&quot;2450.0&quot;</td></tr><tr><td>&quot;5.0&quot;</td><td>&quot;7.0&quot;</td><td>&quot;5.0&quot;</td><td>&quot;954.0&quot;</td><td>&quot;4.0&quot;</td><td>&quot;371.0&quot;</td><td>&quot;3.0&quot;</td><td>&quot;8.0&quot;</td><td>&quot;7.0&quot;</td><td>&quot;1.0&quot;</td><td>&quot;118.0&quot;</td><td>&quot;4.0&quot;</td><td>&quot;786.0&quot;</td><td>&quot;192.0&quot;</td><td>&quot;5.0&quot;</td><td>&quot;5.0&quot;</td><td>&quot;273.0&quot;</td><td>&quot;2.0&quot;</td><td>&quot;7.0&quot;</td><td>&quot;110.0&quot;</td></tr><tr><td>&quot;0.012626262626…</td><td>&quot;0.007709251101…</td><td>&quot;0.017985611510…</td><td>&quot;0.142643540669…</td><td>&quot;0.045454545454…</td><td>&quot;0.081181619256…</td><td>&quot;0.002304147465…</td><td>&quot;0.006611570247…</td><td>&quot;0.092105263157…</td><td>&quot;0.005025125628…</td><td>&quot;0.022997466380…</td><td>&quot;0.013745704467…</td><td>&quot;0.150286806883…</td><td>&quot;0.165374677002…</td><td>&quot;0.063291139240…</td><td>&quot;0.022935779816…</td><td>&quot;0.048054919908…</td><td>&quot;0.011764705882…</td><td>&quot;0.016393442622…</td><td>&quot;0.044897959183…</td></tr><tr><td>&quot;1.0&quot;</td><td>&quot;0.0&quot;</td><td>&quot;0.0&quot;</td><td>&quot;3.0&quot;</td><td>&quot;0.0&quot;</td><td>&quot;0.0&quot;</td><td>&quot;0.0&quot;</td><td>&quot;0.0&quot;</td><td>&quot;0.0&quot;</td><td>&quot;0.0&quot;</td><td>&quot;6.0&quot;</td><td>&quot;0.0&quot;</td><td>&quot;2.0&quot;</td><td>&quot;0.0&quot;</td><td>&quot;0.0&quot;</td><td>&quot;0.0&quot;</td><td>&quot;7.0&quot;</td><td>&quot;0.0&quot;</td><td>&quot;0.0&quot;</td><td>&quot;1.0&quot;</td></tr><tr><td>&quot;1.0&quot;</td><td>&quot;0.0&quot;</td><td>&quot;1.0&quot;</td><td>&quot;5.0&quot;</td><td>&quot;1.0&quot;</td><td>&quot;4.0&quot;</td><td>&quot;0.0&quot;</td><td>&quot;0.0&quot;</td><td>&quot;1.0&quot;</td><td>&quot;0.0&quot;</td><td>&quot;2.0&quot;</td><td>&quot;0.0&quot;</td><td>&quot;2.0&quot;</td><td>&quot;2.0&quot;</td><td>&quot;0.0&quot;</td><td>&quot;0.0&quot;</td><td>&quot;1.0&quot;</td><td>&quot;0.0&quot;</td><td>&quot;1.0&quot;</td><td>&quot;4.0&quot;</td></tr><tr><td>&quot;1.0&quot;</td><td>&quot;3.0&quot;</td><td>&quot;1.0&quot;</td><td>&quot;44.0&quot;</td><td>&quot;0.0&quot;</td><td>&quot;1.0&quot;</td><td>&quot;2.0&quot;</td><td>&quot;3.0&quot;</td><td>&quot;0.0&quot;</td><td>&quot;0.0&quot;</td><td>&quot;30.0&quot;</td><td>&quot;0.0&quot;</td><td>&quot;28.0&quot;</td><td>&quot;9.0&quot;</td><td>&quot;1.0&quot;</td><td>&quot;0.0&quot;</td><td>&quot;50.0&quot;</td><td>&quot;0.0&quot;</td><td>&quot;1.0&quot;</td><td>&quot;13.0&quot;</td></tr><tr><td>&quot;0.0&quot;</td><td>&quot;4.0&quot;</td><td>&quot;2.0&quot;</td><td>&quot;87.0&quot;</td><td>&quot;1.0&quot;</td><td>&quot;189.0&quot;</td><td>&quot;0.0&quot;</td><td>&quot;0.0&quot;</td><td>&quot;1.0&quot;</td><td>&quot;1.0&quot;</td><td>&quot;16.0&quot;</td><td>&quot;0.0&quot;</td><td>&quot;30.0&quot;</td><td>&quot;0.0&quot;</td><td>&quot;3.0&quot;</td><td>&quot;1.0&quot;</td><td>&quot;16.0&quot;</td><td>&quot;0.0&quot;</td><td>&quot;3.0&quot;</td><td>&quot;24.0&quot;</td></tr><tr><td>&quot;2.0&quot;</td><td>&quot;0.0&quot;</td><td>&quot;0.0&quot;</td><td>&quot;6.0&quot;</td><td>&quot;0.0&quot;</td><td>&quot;0.0&quot;</td><td>&quot;0.0&quot;</td><td>&quot;0.0&quot;</td><td>&quot;0.0&quot;</td><td>&quot;0.0&quot;</td><td>&quot;0.0&quot;</td><td>&quot;0.0&quot;</td><td>&quot;3.0&quot;</td><td>&quot;2.0&quot;</td><td>&quot;0.0&quot;</td><td>&quot;0.0&quot;</td><td>&quot;152.0&quot;</td><td>&quot;0.0&quot;</td><td>&quot;0.0&quot;</td><td>&quot;0.0&quot;</td></tr><tr><td>&hellip;</td><td>&hellip;</td><td>&hellip;</td><td>&hellip;</td><td>&hellip;</td><td>&hellip;</td><td>&hellip;</td><td>&hellip;</td><td>&hellip;</td><td>&hellip;</td><td>&hellip;</td><td>&hellip;</td><td>&hellip;</td><td>&hellip;</td><td>&hellip;</td><td>&hellip;</td><td>&hellip;</td><td>&hellip;</td><td>&hellip;</td><td>&hellip;</td></tr><tr><td>null</td><td>null</td><td>null</td><td>null</td><td>null</td><td>null</td><td>null</td><td>null</td><td>null</td><td>null</td><td>null</td><td>null</td><td>null</td><td>null</td><td>null</td><td>null</td><td>null</td><td>null</td><td>null</td><td>null</td></tr><tr><td>null</td><td>null</td><td>null</td><td>null</td><td>null</td><td>null</td><td>null</td><td>null</td><td>null</td><td>null</td><td>null</td><td>null</td><td>null</td><td>null</td><td>null</td><td>null</td><td>null</td><td>null</td><td>null</td><td>null</td></tr><tr><td>null</td><td>null</td><td>null</td><td>null</td><td>null</td><td>null</td><td>null</td><td>null</td><td>null</td><td>null</td><td>null</td><td>null</td><td>null</td><td>null</td><td>null</td><td>null</td><td>null</td><td>null</td><td>null</td><td>null</td></tr><tr><td>null</td><td>null</td><td>null</td><td>null</td><td>null</td><td>null</td><td>null</td><td>null</td><td>null</td><td>null</td><td>null</td><td>null</td><td>null</td><td>null</td><td>null</td><td>null</td><td>null</td><td>null</td><td>null</td><td>null</td></tr><tr><td>null</td><td>null</td><td>null</td><td>null</td><td>null</td><td>null</td><td>null</td><td>null</td><td>null</td><td>null</td><td>null</td><td>null</td><td>null</td><td>null</td><td>null</td><td>null</td><td>null</td><td>null</td><td>null</td><td>null</td></tr><tr><td>null</td><td>null</td><td>null</td><td>null</td><td>null</td><td>null</td><td>null</td><td>null</td><td>null</td><td>null</td><td>null</td><td>null</td><td>null</td><td>null</td><td>null</td><td>null</td><td>null</td><td>null</td><td>null</td><td>null</td></tr><tr><td>null</td><td>null</td><td>null</td><td>null</td><td>null</td><td>null</td><td>null</td><td>null</td><td>null</td><td>null</td><td>null</td><td>null</td><td>null</td><td>null</td><td>null</td><td>null</td><td>null</td><td>null</td><td>null</td><td>null</td></tr><tr><td>null</td><td>null</td><td>null</td><td>null</td><td>null</td><td>null</td><td>null</td><td>null</td><td>null</td><td>null</td><td>null</td><td>null</td><td>null</td><td>null</td><td>null</td><td>null</td><td>null</td><td>null</td><td>null</td><td>null</td></tr><tr><td>null</td><td>null</td><td>null</td><td>null</td><td>null</td><td>null</td><td>null</td><td>null</td><td>null</td><td>null</td><td>null</td><td>null</td><td>null</td><td>null</td><td>null</td><td>null</td><td>null</td><td>null</td><td>null</td><td>null</td></tr><tr><td>null</td><td>null</td><td>null</td><td>null</td><td>null</td><td>null</td><td>null</td><td>null</td><td>null</td><td>null</td><td>null</td><td>null</td><td>null</td><td>null</td><td>null</td><td>null</td><td>null</td><td>null</td><td>null</td><td>null</td></tr><tr><td>null</td><td>null</td><td>null</td><td>null</td><td>null</td><td>null</td><td>null</td><td>null</td><td>null</td><td>null</td><td>null</td><td>null</td><td>null</td><td>null</td><td>null</td><td>null</td><td>null</td><td>null</td><td>null</td><td>null</td></tr><tr><td>null</td><td>null</td><td>null</td><td>null</td><td>null</td><td>null</td><td>null</td><td>null</td><td>null</td><td>null</td><td>null</td><td>null</td><td>null</td><td>null</td><td>null</td><td>null</td><td>null</td><td>null</td><td>null</td><td>null</td></tr></tbody></table></div>"
      ],
      "text/plain": [
       "shape: (40, 20)\n",
       "┌────────────┬───────────┬───────────┬───────────┬───┬─────────┬───────────┬───────────┬───────────┐\n",
       "│ column_0   ┆ column_1  ┆ column_2  ┆ column_3  ┆ … ┆ column_ ┆ column_17 ┆ column_18 ┆ column_19 │\n",
       "│ ---        ┆ ---       ┆ ---       ┆ ---       ┆   ┆ 16      ┆ ---       ┆ ---       ┆ ---       │\n",
       "│ str        ┆ str       ┆ str       ┆ str       ┆   ┆ ---     ┆ str       ┆ str       ┆ str       │\n",
       "│            ┆           ┆           ┆           ┆   ┆ str     ┆           ┆           ┆           │\n",
       "╞════════════╪═══════════╪═══════════╪═══════════╪═══╪═════════╪═══════════╪═══════════╪═══════════╡\n",
       "│ 1313949991 ┆ 133474858 ┆ 138691862 ┆ 130917576 ┆ … ┆ 1393721 ┆ 129665048 ┆ 131800514 ┆ 129660976 │\n",
       "│ 988203520  ┆ 951641907 ┆ 316432998 ┆ 438688972 ┆   ┆ 9883429 ┆ 904865382 ┆ 223121612 ┆ 363608473 │\n",
       "│            ┆ 3         ┆ 4         ┆ 8         ┆   ┆ 80610   ┆ 4         ┆ 8         ┆ 6         │\n",
       "│ https://tw ┆ https://t ┆ https://t ┆ https://t ┆ … ┆ https:/ ┆ https://t ┆ https://t ┆ https://t │\n",
       "│ itter.com/ ┆ witter.co ┆ witter.co ┆ witter.co ┆   ┆ /twitte ┆ witter.co ┆ witter.co ┆ witter.co │\n",
       "│ __mharriso ┆ m/__mharr ┆ m/__mharr ┆ m/__mharr ┆   ┆ r.com/_ ┆ m/__mharr ┆ m/__mharr ┆ m/__mharr │\n",
       "│ n_…        ┆ ison_…    ┆ ison_…    ┆ ison_…    ┆   ┆ _mharri ┆ ison_…    ┆ ison_…    ┆ ison_…    │\n",
       "│            ┆           ┆           ┆           ┆   ┆ son_…   ┆           ┆           ┆           │\n",
       "│ Getting    ┆ @chrisalb ┆ @A_K_Nain ┆ Just got  ┆ … ┆ Want to ┆ @ornintov ┆ @bryce    ┆ @seanjtay │\n",
       "│ Things     ┆ on Not    ┆ 👍        ┆ an        ┆   ┆ go down ┆ itu @sean ┆ Huh, I    ┆ lor Most  │\n",
       "│ Done - a   ┆ joking.   ┆           ┆ inquiry   ┆   ┆ in the  ┆ jtaylor   ┆ thought   ┆ data scie │\n",
       "│ framewor…  ┆ Expect p… ┆           ┆ from a    ┆   ┆ annals  ┆ Shippi…   ┆ it was    ┆ ntist…    │\n",
       "│            ┆           ┆           ┆ large…    ┆   ┆ of…     ┆           ┆ onl…      ┆           │\n",
       "│ 2020-10-07 ┆ 2020-12-0 ┆ 2021-04-2 ┆ 2020-09-2 ┆ … ┆ 2021-05 ┆ 2020-08-2 ┆ 2020-10-1 ┆ 2020-08-2 │\n",
       "│ 21:11:00+0 ┆ 4 06:37:0 ┆ 7 05:42:0 ┆ 4 17:00:0 ┆   ┆ -16 00: ┆ 1 03:29:0 ┆ 9 01:44:0 ┆ 1 00:47:0 │\n",
       "│ 0:00       ┆ 0+00:00   ┆ 0+00:00   ┆ 0+00:00   ┆   ┆ 16:00+0 ┆ 0+00:00   ┆ 0+00:00   ┆ 0+00:00   │\n",
       "│            ┆           ┆           ┆           ┆   ┆ 0:00    ┆           ┆           ┆           │\n",
       "│ …          ┆ …         ┆ …         ┆ …         ┆ … ┆ …       ┆ …         ┆ …         ┆ …         │\n",
       "│ null       ┆ null      ┆ null      ┆ null      ┆ … ┆ null    ┆ null      ┆ null      ┆ null      │\n",
       "│ null       ┆ null      ┆ null      ┆ null      ┆ … ┆ null    ┆ null      ┆ null      ┆ null      │\n",
       "│ null       ┆ null      ┆ null      ┆ null      ┆ … ┆ null    ┆ null      ┆ null      ┆ null      │\n",
       "│ null       ┆ null      ┆ null      ┆ null      ┆ … ┆ null    ┆ null      ┆ null      ┆ null      │\n",
       "└────────────┴───────────┴───────────┴───────────┴───┴─────────┴───────────┴───────────┴───────────┘"
      ]
     },
     "execution_count": 34,
     "metadata": {},
     "output_type": "execute_result"
    }
   ],
   "source": [
    "df.sample(20).transpose()"
   ]
  },
  {
   "cell_type": "code",
   "execution_count": 35,
   "metadata": {},
   "outputs": [
    {
     "data": {
      "text/plain": [
       "(5791, 40)"
      ]
     },
     "execution_count": 35,
     "metadata": {},
     "output_type": "execute_result"
    }
   ],
   "source": [
    "df.shape"
   ]
  },
  {
   "cell_type": "code",
   "execution_count": null,
   "metadata": {},
   "outputs": [],
   "source": []
  },
  {
   "cell_type": "code",
   "execution_count": null,
   "metadata": {},
   "outputs": [],
   "source": []
  },
  {
   "cell_type": "code",
   "execution_count": null,
   "metadata": {},
   "outputs": [],
   "source": []
  },
  {
   "cell_type": "markdown",
   "metadata": {},
   "source": [
    "## Types"
   ]
  },
  {
   "cell_type": "code",
   "execution_count": 36,
   "metadata": {
    "scrolled": true
   },
   "outputs": [
    {
     "data": {
      "text/plain": [
       "[Int64,\n",
       " Utf8,\n",
       " Utf8,\n",
       " Utf8,\n",
       " Float64,\n",
       " Float64,\n",
       " Float64,\n",
       " Float64,\n",
       " Float64,\n",
       " Float64,\n",
       " Float64,\n",
       " Float64,\n",
       " Float64,\n",
       " Float64,\n",
       " Float64,\n",
       " Int64,\n",
       " Int64,\n",
       " Int64,\n",
       " Int64,\n",
       " Int64,\n",
       " Int64,\n",
       " Int64,\n",
       " Utf8,\n",
       " Utf8,\n",
       " Utf8,\n",
       " Utf8,\n",
       " Utf8,\n",
       " Utf8,\n",
       " Utf8,\n",
       " Utf8,\n",
       " Utf8,\n",
       " Utf8,\n",
       " Utf8,\n",
       " Utf8,\n",
       " Utf8,\n",
       " Utf8,\n",
       " Utf8,\n",
       " Utf8,\n",
       " Utf8,\n",
       " Utf8]"
      ]
     },
     "execution_count": 36,
     "metadata": {},
     "output_type": "execute_result"
    }
   ],
   "source": [
    "# Note that there is a string (Utf8) type\n",
    "# This are the Pyarrow datatypes \n",
    "df.dtypes"
   ]
  },
  {
   "cell_type": "code",
   "execution_count": 37,
   "metadata": {},
   "outputs": [
    {
     "data": {
      "text/plain": [
       "2912013"
      ]
     },
     "execution_count": 37,
     "metadata": {},
     "output_type": "execute_result"
    }
   ],
   "source": [
    "df.estimated_size()"
   ]
  },
  {
   "cell_type": "code",
   "execution_count": 38,
   "metadata": {
    "scrolled": true
   },
   "outputs": [
    {
     "data": {
      "text/html": [
       "<div><style>\n",
       ".dataframe > thead > tr > th,\n",
       ".dataframe > tbody > tr > td {\n",
       "  text-align: right;\n",
       "}\n",
       "</style>\n",
       "<small>shape: (9, 41)</small><table border=\"1\" class=\"dataframe\"><thead><tr><th>describe</th><th>Tweet id</th><th>Tweet permalink</th><th>Tweet text</th><th>time</th><th>impressions</th><th>engagements</th><th>engagement rate</th><th>retweets</th><th>replies</th><th>likes</th><th>user profile clicks</th><th>url clicks</th><th>hashtag clicks</th><th>detail expands</th><th>permalink clicks</th><th>app opens</th><th>app installs</th><th>follows</th><th>email tweet</th><th>dial phone</th><th>media views</th><th>media engagements</th><th>promoted impressions</th><th>promoted engagements</th><th>promoted engagement rate</th><th>promoted retweets</th><th>promoted replies</th><th>promoted likes</th><th>promoted user profile clicks</th><th>promoted url clicks</th><th>promoted hashtag clicks</th><th>promoted detail expands</th><th>promoted permalink clicks</th><th>promoted app opens</th><th>promoted app installs</th><th>promoted follows</th><th>promoted email tweet</th><th>promoted dial phone</th><th>promoted media views</th><th>promoted media engagements</th></tr><tr><td>str</td><td>f64</td><td>str</td><td>str</td><td>str</td><td>f64</td><td>f64</td><td>f64</td><td>f64</td><td>f64</td><td>f64</td><td>f64</td><td>f64</td><td>f64</td><td>f64</td><td>f64</td><td>f64</td><td>f64</td><td>f64</td><td>f64</td><td>f64</td><td>f64</td><td>f64</td><td>str</td><td>str</td><td>str</td><td>str</td><td>str</td><td>str</td><td>str</td><td>str</td><td>str</td><td>str</td><td>str</td><td>str</td><td>str</td><td>str</td><td>str</td><td>str</td><td>str</td><td>str</td></tr></thead><tbody><tr><td>&quot;count&quot;</td><td>5791.0</td><td>&quot;5791&quot;</td><td>&quot;5791&quot;</td><td>&quot;5791&quot;</td><td>5791.0</td><td>5791.0</td><td>5791.0</td><td>5791.0</td><td>5791.0</td><td>5791.0</td><td>5791.0</td><td>5791.0</td><td>5791.0</td><td>5791.0</td><td>5791.0</td><td>5791.0</td><td>5791.0</td><td>5791.0</td><td>5791.0</td><td>5791.0</td><td>5791.0</td><td>5791.0</td><td>&quot;5791&quot;</td><td>&quot;5791&quot;</td><td>&quot;5791&quot;</td><td>&quot;5791&quot;</td><td>&quot;5791&quot;</td><td>&quot;5791&quot;</td><td>&quot;5791&quot;</td><td>&quot;5791&quot;</td><td>&quot;5791&quot;</td><td>&quot;5791&quot;</td><td>&quot;5791&quot;</td><td>&quot;5791&quot;</td><td>&quot;5791&quot;</td><td>&quot;5791&quot;</td><td>&quot;5791&quot;</td><td>&quot;5791&quot;</td><td>&quot;5791&quot;</td><td>&quot;5791&quot;</td></tr><tr><td>&quot;null_count&quot;</td><td>0.0</td><td>&quot;0&quot;</td><td>&quot;0&quot;</td><td>&quot;0&quot;</td><td>0.0</td><td>0.0</td><td>0.0</td><td>0.0</td><td>0.0</td><td>0.0</td><td>0.0</td><td>0.0</td><td>0.0</td><td>0.0</td><td>0.0</td><td>0.0</td><td>0.0</td><td>0.0</td><td>0.0</td><td>0.0</td><td>0.0</td><td>0.0</td><td>&quot;5791&quot;</td><td>&quot;5791&quot;</td><td>&quot;5791&quot;</td><td>&quot;5791&quot;</td><td>&quot;5791&quot;</td><td>&quot;5791&quot;</td><td>&quot;5791&quot;</td><td>&quot;5791&quot;</td><td>&quot;5791&quot;</td><td>&quot;5791&quot;</td><td>&quot;5791&quot;</td><td>&quot;5791&quot;</td><td>&quot;5791&quot;</td><td>&quot;5791&quot;</td><td>&quot;5791&quot;</td><td>&quot;5791&quot;</td><td>&quot;5791&quot;</td><td>&quot;5791&quot;</td></tr><tr><td>&quot;mean&quot;</td><td>1.3604e18</td><td>null</td><td>null</td><td>null</td><td>2297.820411</td><td>111.400967</td><td>0.034748</td><td>0.979796</td><td>1.124504</td><td>9.400622</td><td>20.594543</td><td>4.502331</td><td>0.019686</td><td>34.658436</td><td>0.0</td><td>0.001036</td><td>0.0</td><td>0.135901</td><td>0.0</td><td>0.0</td><td>39.868935</td><td>39.712485</td><td>null</td><td>null</td><td>null</td><td>null</td><td>null</td><td>null</td><td>null</td><td>null</td><td>null</td><td>null</td><td>null</td><td>null</td><td>null</td><td>null</td><td>null</td><td>null</td><td>null</td><td>null</td></tr><tr><td>&quot;std&quot;</td><td>6.8508e16</td><td>null</td><td>null</td><td>null</td><td>16414.560844</td><td>976.353689</td><td>0.050031</td><td>10.903919</td><td>6.322059</td><td>108.117865</td><td>436.521415</td><td>32.377223</td><td>0.302481</td><td>355.671163</td><td>0.0</td><td>0.045513</td><td>0.0</td><td>3.870531</td><td>0.0</td><td>0.0</td><td>333.838003</td><td>333.753866</td><td>null</td><td>null</td><td>null</td><td>null</td><td>null</td><td>null</td><td>null</td><td>null</td><td>null</td><td>null</td><td>null</td><td>null</td><td>null</td><td>null</td><td>null</td><td>null</td><td>null</td><td>null</td></tr><tr><td>&quot;min&quot;</td><td>1.2126e18</td><td>&quot;https://twitte…</td><td>&quot;&quot;i&quot; has a spec…</td><td>&quot;2020-01-02 03:…</td><td>7.0</td><td>0.0</td><td>0.0</td><td>0.0</td><td>0.0</td><td>0.0</td><td>0.0</td><td>0.0</td><td>0.0</td><td>0.0</td><td>0.0</td><td>0.0</td><td>0.0</td><td>0.0</td><td>0.0</td><td>0.0</td><td>0.0</td><td>0.0</td><td>null</td><td>null</td><td>null</td><td>null</td><td>null</td><td>null</td><td>null</td><td>null</td><td>null</td><td>null</td><td>null</td><td>null</td><td>null</td><td>null</td><td>null</td><td>null</td><td>null</td><td>null</td></tr><tr><td>&quot;max&quot;</td><td>1.4770e18</td><td>&quot;https://twitte…</td><td>&quot;🤯🙏 https://t.c…</td><td>&quot;2021-12-31 21:…</td><td>856749.0</td><td>45660.0</td><td>0.484127</td><td>465.0</td><td>207.0</td><td>5358.0</td><td>22393.0</td><td>1272.0</td><td>12.0</td><td>17078.0</td><td>0.0</td><td>3.0</td><td>0.0</td><td>191.0</td><td>0.0</td><td>0.0</td><td>16816.0</td><td>16816.0</td><td>null</td><td>null</td><td>null</td><td>null</td><td>null</td><td>null</td><td>null</td><td>null</td><td>null</td><td>null</td><td>null</td><td>null</td><td>null</td><td>null</td><td>null</td><td>null</td><td>null</td><td>null</td></tr><tr><td>&quot;median&quot;</td><td>1.3589e18</td><td>null</td><td>null</td><td>null</td><td>612.0</td><td>7.0</td><td>0.016043</td><td>0.0</td><td>0.0</td><td>1.0</td><td>1.0</td><td>0.0</td><td>0.0</td><td>3.0</td><td>0.0</td><td>0.0</td><td>0.0</td><td>0.0</td><td>0.0</td><td>0.0</td><td>0.0</td><td>0.0</td><td>null</td><td>null</td><td>null</td><td>null</td><td>null</td><td>null</td><td>null</td><td>null</td><td>null</td><td>null</td><td>null</td><td>null</td><td>null</td><td>null</td><td>null</td><td>null</td><td>null</td><td>null</td></tr><tr><td>&quot;25%&quot;</td><td>1.3142e18</td><td>null</td><td>null</td><td>null</td><td>175.0</td><td>3.0</td><td>0.00706</td><td>0.0</td><td>0.0</td><td>0.0</td><td>0.0</td><td>0.0</td><td>0.0</td><td>1.0</td><td>0.0</td><td>0.0</td><td>0.0</td><td>0.0</td><td>0.0</td><td>0.0</td><td>0.0</td><td>0.0</td><td>null</td><td>null</td><td>null</td><td>null</td><td>null</td><td>null</td><td>null</td><td>null</td><td>null</td><td>null</td><td>null</td><td>null</td><td>null</td><td>null</td><td>null</td><td>null</td><td>null</td><td>null</td></tr><tr><td>&quot;75%&quot;</td><td>1.4155e18</td><td>null</td><td>null</td><td>null</td><td>1617.0</td><td>25.0</td><td>0.040902</td><td>0.0</td><td>1.0</td><td>4.0</td><td>4.0</td><td>0.0</td><td>0.0</td><td>8.0</td><td>0.0</td><td>0.0</td><td>0.0</td><td>0.0</td><td>0.0</td><td>0.0</td><td>0.0</td><td>0.0</td><td>null</td><td>null</td><td>null</td><td>null</td><td>null</td><td>null</td><td>null</td><td>null</td><td>null</td><td>null</td><td>null</td><td>null</td><td>null</td><td>null</td><td>null</td><td>null</td><td>null</td><td>null</td></tr></tbody></table></div>"
      ],
      "text/plain": [
       "shape: (9, 41)\n",
       "┌─────────┬────────┬────────────┬──────────┬───┬────────────┬────────────┬────────────┬────────────┐\n",
       "│ describ ┆ Tweet  ┆ Tweet      ┆ Tweet    ┆ … ┆ promoted   ┆ promoted   ┆ promoted   ┆ promoted   │\n",
       "│ e       ┆ id     ┆ permalink  ┆ text     ┆   ┆ email      ┆ dial phone ┆ media      ┆ media enga │\n",
       "│ ---     ┆ ---    ┆ ---        ┆ ---      ┆   ┆ tweet      ┆ ---        ┆ views      ┆ gements    │\n",
       "│ str     ┆ f64    ┆ str        ┆ str      ┆   ┆ ---        ┆ str        ┆ ---        ┆ ---        │\n",
       "│         ┆        ┆            ┆          ┆   ┆ str        ┆            ┆ str        ┆ str        │\n",
       "╞═════════╪════════╪════════════╪══════════╪═══╪════════════╪════════════╪════════════╪════════════╡\n",
       "│ count   ┆ 5791.0 ┆ 5791       ┆ 5791     ┆ … ┆ 5791       ┆ 5791       ┆ 5791       ┆ 5791       │\n",
       "│ null_co ┆ 0.0    ┆ 0          ┆ 0        ┆ … ┆ 5791       ┆ 5791       ┆ 5791       ┆ 5791       │\n",
       "│ unt     ┆        ┆            ┆          ┆   ┆            ┆            ┆            ┆            │\n",
       "│ mean    ┆ 1.3604 ┆ null       ┆ null     ┆ … ┆ null       ┆ null       ┆ null       ┆ null       │\n",
       "│         ┆ e18    ┆            ┆          ┆   ┆            ┆            ┆            ┆            │\n",
       "│ std     ┆ 6.8508 ┆ null       ┆ null     ┆ … ┆ null       ┆ null       ┆ null       ┆ null       │\n",
       "│         ┆ e16    ┆            ┆          ┆   ┆            ┆            ┆            ┆            │\n",
       "│ min     ┆ 1.2126 ┆ https://tw ┆ \"i\" has  ┆ … ┆ null       ┆ null       ┆ null       ┆ null       │\n",
       "│         ┆ e18    ┆ itter.com/ ┆ a        ┆   ┆            ┆            ┆            ┆            │\n",
       "│         ┆        ┆ __mharriso ┆ specific ┆   ┆            ┆            ┆            ┆            │\n",
       "│         ┆        ┆ n_…        ┆ connotat ┆   ┆            ┆            ┆            ┆            │\n",
       "│         ┆        ┆            ┆ ion i…   ┆   ┆            ┆            ┆            ┆            │\n",
       "│ max     ┆ 1.4770 ┆ https://tw ┆ 🤯🙏 htt ┆ … ┆ null       ┆ null       ┆ null       ┆ null       │\n",
       "│         ┆ e18    ┆ itter.com/ ┆ ps://t.c ┆   ┆            ┆            ┆            ┆            │\n",
       "│         ┆        ┆ __mharriso ┆ o/AsLaS3 ┆   ┆            ┆            ┆            ┆            │\n",
       "│         ┆        ┆ n_…        ┆ Hrdv     ┆   ┆            ┆            ┆            ┆            │\n",
       "│ median  ┆ 1.3589 ┆ null       ┆ null     ┆ … ┆ null       ┆ null       ┆ null       ┆ null       │\n",
       "│         ┆ e18    ┆            ┆          ┆   ┆            ┆            ┆            ┆            │\n",
       "│ 25%     ┆ 1.3142 ┆ null       ┆ null     ┆ … ┆ null       ┆ null       ┆ null       ┆ null       │\n",
       "│         ┆ e18    ┆            ┆          ┆   ┆            ┆            ┆            ┆            │\n",
       "│ 75%     ┆ 1.4155 ┆ null       ┆ null     ┆ … ┆ null       ┆ null       ┆ null       ┆ null       │\n",
       "│         ┆ e18    ┆            ┆          ┆   ┆            ┆            ┆            ┆            │\n",
       "└─────────┴────────┴────────────┴──────────┴───┴────────────┴────────────┴────────────┴────────────┘"
      ]
     },
     "execution_count": 38,
     "metadata": {},
     "output_type": "execute_result"
    }
   ],
   "source": [
    "df.describe()"
   ]
  },
  {
   "cell_type": "code",
   "execution_count": null,
   "metadata": {
    "scrolled": false
   },
   "outputs": [],
   "source": [
    "df.quantile(.25)"
   ]
  },
  {
   "cell_type": "code",
   "execution_count": 13,
   "metadata": {
    "lines_to_next_cell": 2,
    "scrolled": true
   },
   "outputs": [
    {
     "data": {
      "text/html": [
       "<div><style>\n",
       ".dataframe > thead > tr > th,\n",
       ".dataframe > tbody > tr > td {\n",
       "  text-align: right;\n",
       "}\n",
       "</style>\n",
       "<small>shape: (5791, 40)</small><table border=\"1\" class=\"dataframe\"><thead><tr><th>Tweet id</th><th>Tweet permalink</th><th>Tweet text</th><th>time</th><th>impressions</th><th>engagements</th><th>engagement rate</th><th>retweets</th><th>replies</th><th>likes</th><th>user profile clicks</th><th>url clicks</th><th>hashtag clicks</th><th>detail expands</th><th>permalink clicks</th><th>app opens</th><th>app installs</th><th>follows</th><th>email tweet</th><th>dial phone</th><th>media views</th><th>media engagements</th><th>promoted impressions</th><th>promoted engagements</th><th>promoted engagement rate</th><th>promoted retweets</th><th>promoted replies</th><th>promoted likes</th><th>promoted user profile clicks</th><th>promoted url clicks</th><th>promoted hashtag clicks</th><th>promoted detail expands</th><th>promoted permalink clicks</th><th>promoted app opens</th><th>promoted app installs</th><th>promoted follows</th><th>promoted email tweet</th><th>promoted dial phone</th><th>promoted media views</th><th>promoted media engagements</th></tr><tr><td>i64</td><td>str</td><td>str</td><td>str</td><td>f64</td><td>f64</td><td>f64</td><td>f64</td><td>f64</td><td>f64</td><td>f64</td><td>f64</td><td>f64</td><td>f64</td><td>f64</td><td>i64</td><td>i64</td><td>i64</td><td>i64</td><td>i64</td><td>i64</td><td>i64</td><td>str</td><td>str</td><td>str</td><td>str</td><td>str</td><td>str</td><td>str</td><td>str</td><td>str</td><td>str</td><td>str</td><td>str</td><td>str</td><td>str</td><td>str</td><td>str</td><td>str</td><td>str</td></tr></thead><tbody><tr><td>1212580517905780737</td><td>&quot;https://twitte…</td><td>&quot;Sounds like a …</td><td>&quot;2020-01-02 03:…</td><td>1465.0</td><td>7.0</td><td>0.004778</td><td>0.0</td><td>0.0</td><td>3.0</td><td>3.0</td><td>0.0</td><td>0.0</td><td>1.0</td><td>0.0</td><td>0</td><td>0</td><td>0</td><td>0</td><td>0</td><td>0</td><td>0</td><td>null</td><td>null</td><td>null</td><td>null</td><td>null</td><td>null</td><td>null</td><td>null</td><td>null</td><td>null</td><td>null</td><td>null</td><td>null</td><td>null</td><td>null</td><td>null</td><td>null</td><td>null</td></tr><tr><td>1212582494828036097</td><td>&quot;https://twitte…</td><td>&quot;@FogleBird Loo…</td><td>&quot;2020-01-02 03:…</td><td>154.0</td><td>3.0</td><td>0.019481</td><td>0.0</td><td>0.0</td><td>1.0</td><td>1.0</td><td>0.0</td><td>0.0</td><td>1.0</td><td>0.0</td><td>0</td><td>0</td><td>0</td><td>0</td><td>0</td><td>0</td><td>0</td><td>null</td><td>null</td><td>null</td><td>null</td><td>null</td><td>null</td><td>null</td><td>null</td><td>null</td><td>null</td><td>null</td><td>null</td><td>null</td><td>null</td><td>null</td><td>null</td><td>null</td><td>null</td></tr><tr><td>1212613735698690049</td><td>&quot;https://twitte…</td><td>&quot;@afilina That&#x27;…</td><td>&quot;2020-01-02 05:…</td><td>1024.0</td><td>6.0</td><td>0.005859</td><td>0.0</td><td>0.0</td><td>1.0</td><td>2.0</td><td>0.0</td><td>0.0</td><td>3.0</td><td>0.0</td><td>0</td><td>0</td><td>0</td><td>0</td><td>0</td><td>0</td><td>0</td><td>null</td><td>null</td><td>null</td><td>null</td><td>null</td><td>null</td><td>null</td><td>null</td><td>null</td><td>null</td><td>null</td><td>null</td><td>null</td><td>null</td><td>null</td><td>null</td><td>null</td><td>null</td></tr><tr><td>1212911749617242113</td><td>&quot;https://twitte…</td><td>&quot;@randal_olson …</td><td>&quot;2020-01-03 01:…</td><td>1419.0</td><td>14.0</td><td>0.009866</td><td>0.0</td><td>1.0</td><td>5.0</td><td>7.0</td><td>0.0</td><td>0.0</td><td>1.0</td><td>0.0</td><td>0</td><td>0</td><td>0</td><td>0</td><td>0</td><td>0</td><td>0</td><td>null</td><td>null</td><td>null</td><td>null</td><td>null</td><td>null</td><td>null</td><td>null</td><td>null</td><td>null</td><td>null</td><td>null</td><td>null</td><td>null</td><td>null</td><td>null</td><td>null</td><td>null</td></tr><tr><td>1212920556028252160</td><td>&quot;https://twitte…</td><td>&quot;@AlSweigart So…</td><td>&quot;2020-01-03 02:…</td><td>198.0</td><td>1.0</td><td>0.005051</td><td>0.0</td><td>0.0</td><td>1.0</td><td>0.0</td><td>0.0</td><td>0.0</td><td>0.0</td><td>0.0</td><td>0</td><td>0</td><td>0</td><td>0</td><td>0</td><td>0</td><td>0</td><td>null</td><td>null</td><td>null</td><td>null</td><td>null</td><td>null</td><td>null</td><td>null</td><td>null</td><td>null</td><td>null</td><td>null</td><td>null</td><td>null</td><td>null</td><td>null</td><td>null</td><td>null</td></tr><tr><td>1212921038356434947</td><td>&quot;https://twitte…</td><td>&quot;@tmarthal @Ted…</td><td>&quot;2020-01-03 02:…</td><td>170.0</td><td>3.0</td><td>0.017647</td><td>0.0</td><td>0.0</td><td>1.0</td><td>1.0</td><td>0.0</td><td>0.0</td><td>1.0</td><td>0.0</td><td>0</td><td>0</td><td>0</td><td>0</td><td>0</td><td>0</td><td>0</td><td>null</td><td>null</td><td>null</td><td>null</td><td>null</td><td>null</td><td>null</td><td>null</td><td>null</td><td>null</td><td>null</td><td>null</td><td>null</td><td>null</td><td>null</td><td>null</td><td>null</td><td>null</td></tr><tr><td>1212921192287330304</td><td>&quot;https://twitte…</td><td>&quot;@gabegundy It&#x27;…</td><td>&quot;2020-01-03 02:…</td><td>104.0</td><td>2.0</td><td>0.019231</td><td>0.0</td><td>1.0</td><td>1.0</td><td>0.0</td><td>0.0</td><td>0.0</td><td>0.0</td><td>0.0</td><td>0</td><td>0</td><td>0</td><td>0</td><td>0</td><td>0</td><td>0</td><td>null</td><td>null</td><td>null</td><td>null</td><td>null</td><td>null</td><td>null</td><td>null</td><td>null</td><td>null</td><td>null</td><td>null</td><td>null</td><td>null</td><td>null</td><td>null</td><td>null</td><td>null</td></tr><tr><td>1212969747186208768</td><td>&quot;https://twitte…</td><td>&quot;@anthonypjshaw…</td><td>&quot;2020-01-03 05:…</td><td>189.0</td><td>0.0</td><td>0.0</td><td>0.0</td><td>0.0</td><td>0.0</td><td>0.0</td><td>0.0</td><td>0.0</td><td>0.0</td><td>0.0</td><td>0</td><td>0</td><td>0</td><td>0</td><td>0</td><td>0</td><td>0</td><td>null</td><td>null</td><td>null</td><td>null</td><td>null</td><td>null</td><td>null</td><td>null</td><td>null</td><td>null</td><td>null</td><td>null</td><td>null</td><td>null</td><td>null</td><td>null</td><td>null</td><td>null</td></tr><tr><td>1212971634019033088</td><td>&quot;https://twitte…</td><td>&quot;@jet_set A lit…</td><td>&quot;2020-01-03 05:…</td><td>900.0</td><td>4.0</td><td>0.004444</td><td>0.0</td><td>0.0</td><td>0.0</td><td>4.0</td><td>0.0</td><td>0.0</td><td>0.0</td><td>0.0</td><td>0</td><td>0</td><td>0</td><td>0</td><td>0</td><td>0</td><td>0</td><td>null</td><td>null</td><td>null</td><td>null</td><td>null</td><td>null</td><td>null</td><td>null</td><td>null</td><td>null</td><td>null</td><td>null</td><td>null</td><td>null</td><td>null</td><td>null</td><td>null</td><td>null</td></tr><tr><td>1213194379793293312</td><td>&quot;https://twitte…</td><td>&quot;@juliasilge @r…</td><td>&quot;2020-01-03 20:…</td><td>252.0</td><td>2.0</td><td>0.007937</td><td>0.0</td><td>0.0</td><td>1.0</td><td>1.0</td><td>0.0</td><td>0.0</td><td>0.0</td><td>0.0</td><td>0</td><td>0</td><td>0</td><td>0</td><td>0</td><td>0</td><td>0</td><td>null</td><td>null</td><td>null</td><td>null</td><td>null</td><td>null</td><td>null</td><td>null</td><td>null</td><td>null</td><td>null</td><td>null</td><td>null</td><td>null</td><td>null</td><td>null</td><td>null</td><td>null</td></tr><tr><td>1213699561962631168</td><td>&quot;https://twitte…</td><td>&quot;Herein you wil…</td><td>&quot;2020-01-05 05:…</td><td>1610.0</td><td>6.0</td><td>0.003727</td><td>0.0</td><td>0.0</td><td>2.0</td><td>2.0</td><td>0.0</td><td>0.0</td><td>2.0</td><td>0.0</td><td>0</td><td>0</td><td>0</td><td>0</td><td>0</td><td>0</td><td>0</td><td>null</td><td>null</td><td>null</td><td>null</td><td>null</td><td>null</td><td>null</td><td>null</td><td>null</td><td>null</td><td>null</td><td>null</td><td>null</td><td>null</td><td>null</td><td>null</td><td>null</td><td>null</td></tr><tr><td>1213896543985516544</td><td>&quot;https://twitte…</td><td>&quot;@Austen Care t…</td><td>&quot;2020-01-05 18:…</td><td>165.0</td><td>3.0</td><td>0.018182</td><td>0.0</td><td>0.0</td><td>0.0</td><td>1.0</td><td>0.0</td><td>0.0</td><td>2.0</td><td>0.0</td><td>0</td><td>0</td><td>0</td><td>0</td><td>0</td><td>0</td><td>0</td><td>null</td><td>null</td><td>null</td><td>null</td><td>null</td><td>null</td><td>null</td><td>null</td><td>null</td><td>null</td><td>null</td><td>null</td><td>null</td><td>null</td><td>null</td><td>null</td><td>null</td><td>null</td></tr><tr><td>&hellip;</td><td>&hellip;</td><td>&hellip;</td><td>&hellip;</td><td>&hellip;</td><td>&hellip;</td><td>&hellip;</td><td>&hellip;</td><td>&hellip;</td><td>&hellip;</td><td>&hellip;</td><td>&hellip;</td><td>&hellip;</td><td>&hellip;</td><td>&hellip;</td><td>&hellip;</td><td>&hellip;</td><td>&hellip;</td><td>&hellip;</td><td>&hellip;</td><td>&hellip;</td><td>&hellip;</td><td>&hellip;</td><td>&hellip;</td><td>&hellip;</td><td>&hellip;</td><td>&hellip;</td><td>&hellip;</td><td>&hellip;</td><td>&hellip;</td><td>&hellip;</td><td>&hellip;</td><td>&hellip;</td><td>&hellip;</td><td>&hellip;</td><td>&hellip;</td><td>&hellip;</td><td>&hellip;</td><td>&hellip;</td><td>&hellip;</td></tr><tr><td>1474805013343981570</td><td>&quot;https://twitte…</td><td>&quot;@EricSchles @s…</td><td>&quot;2021-12-25 18:…</td><td>416.0</td><td>3.0</td><td>0.007212</td><td>0.0</td><td>0.0</td><td>2.0</td><td>1.0</td><td>0.0</td><td>0.0</td><td>0.0</td><td>0.0</td><td>0</td><td>0</td><td>0</td><td>0</td><td>0</td><td>0</td><td>0</td><td>null</td><td>null</td><td>null</td><td>null</td><td>null</td><td>null</td><td>null</td><td>null</td><td>null</td><td>null</td><td>null</td><td>null</td><td>null</td><td>null</td><td>null</td><td>null</td><td>null</td><td>null</td></tr><tr><td>1474820707234185217</td><td>&quot;https://twitte…</td><td>&quot;Mele kalikimak…</td><td>&quot;2021-12-25 19:…</td><td>15840.0</td><td>372.0</td><td>0.023485</td><td>0.0</td><td>2.0</td><td>61.0</td><td>59.0</td><td>6.0</td><td>0.0</td><td>66.0</td><td>0.0</td><td>0</td><td>0</td><td>0</td><td>0</td><td>0</td><td>178</td><td>178</td><td>null</td><td>null</td><td>null</td><td>null</td><td>null</td><td>null</td><td>null</td><td>null</td><td>null</td><td>null</td><td>null</td><td>null</td><td>null</td><td>null</td><td>null</td><td>null</td><td>null</td><td>null</td></tr><tr><td>1475023008620154882</td><td>&quot;https://twitte…</td><td>&quot;Good looking c…</td><td>&quot;2021-12-26 08:…</td><td>22557.0</td><td>501.0</td><td>0.02221</td><td>0.0</td><td>9.0</td><td>50.0</td><td>89.0</td><td>14.0</td><td>0.0</td><td>118.0</td><td>0.0</td><td>0</td><td>0</td><td>0</td><td>0</td><td>0</td><td>221</td><td>221</td><td>null</td><td>null</td><td>null</td><td>null</td><td>null</td><td>null</td><td>null</td><td>null</td><td>null</td><td>null</td><td>null</td><td>null</td><td>null</td><td>null</td><td>null</td><td>null</td><td>null</td><td>null</td></tr><tr><td>1475299210291343362</td><td>&quot;https://twitte…</td><td>&quot;@youtah A litt…</td><td>&quot;2021-12-27 02:…</td><td>1586.0</td><td>35.0</td><td>0.022068</td><td>0.0</td><td>0.0</td><td>2.0</td><td>1.0</td><td>1.0</td><td>0.0</td><td>0.0</td><td>0.0</td><td>0</td><td>0</td><td>0</td><td>0</td><td>0</td><td>31</td><td>31</td><td>null</td><td>null</td><td>null</td><td>null</td><td>null</td><td>null</td><td>null</td><td>null</td><td>null</td><td>null</td><td>null</td><td>null</td><td>null</td><td>null</td><td>null</td><td>null</td><td>null</td><td>null</td></tr><tr><td>1475299401681682434</td><td>&quot;https://twitte…</td><td>&quot;@mathsppblog S…</td><td>&quot;2021-12-27 02:…</td><td>4641.0</td><td>35.0</td><td>0.007541</td><td>0.0</td><td>4.0</td><td>11.0</td><td>10.0</td><td>0.0</td><td>0.0</td><td>10.0</td><td>0.0</td><td>0</td><td>0</td><td>0</td><td>0</td><td>0</td><td>0</td><td>0</td><td>null</td><td>null</td><td>null</td><td>null</td><td>null</td><td>null</td><td>null</td><td>null</td><td>null</td><td>null</td><td>null</td><td>null</td><td>null</td><td>null</td><td>null</td><td>null</td><td>null</td><td>null</td></tr><tr><td>1475299848093978626</td><td>&quot;https://twitte…</td><td>&quot;@willmcgugan P…</td><td>&quot;2021-12-27 02:…</td><td>1969.0</td><td>4.0</td><td>0.002031</td><td>0.0</td><td>0.0</td><td>4.0</td><td>0.0</td><td>0.0</td><td>0.0</td><td>0.0</td><td>0.0</td><td>0</td><td>0</td><td>0</td><td>0</td><td>0</td><td>0</td><td>0</td><td>null</td><td>null</td><td>null</td><td>null</td><td>null</td><td>null</td><td>null</td><td>null</td><td>null</td><td>null</td><td>null</td><td>null</td><td>null</td><td>null</td><td>null</td><td>null</td><td>null</td><td>null</td></tr><tr><td>1475300370138087426</td><td>&quot;https://twitte…</td><td>&quot;@reuvenmlerner…</td><td>&quot;2021-12-27 02:…</td><td>1669.0</td><td>5.0</td><td>0.002996</td><td>0.0</td><td>0.0</td><td>3.0</td><td>0.0</td><td>0.0</td><td>0.0</td><td>2.0</td><td>0.0</td><td>0</td><td>0</td><td>0</td><td>0</td><td>0</td><td>0</td><td>0</td><td>null</td><td>null</td><td>null</td><td>null</td><td>null</td><td>null</td><td>null</td><td>null</td><td>null</td><td>null</td><td>null</td><td>null</td><td>null</td><td>null</td><td>null</td><td>null</td><td>null</td><td>null</td></tr><tr><td>1475300661851934721</td><td>&quot;https://twitte…</td><td>&quot;@allison_horst…</td><td>&quot;2021-12-27 03:…</td><td>986.0</td><td>1.0</td><td>0.001014</td><td>0.0</td><td>0.0</td><td>0.0</td><td>0.0</td><td>0.0</td><td>0.0</td><td>1.0</td><td>0.0</td><td>0</td><td>0</td><td>0</td><td>0</td><td>0</td><td>0</td><td>0</td><td>null</td><td>null</td><td>null</td><td>null</td><td>null</td><td>null</td><td>null</td><td>null</td><td>null</td><td>null</td><td>null</td><td>null</td><td>null</td><td>null</td><td>null</td><td>null</td><td>null</td><td>null</td></tr><tr><td>1475518143690801156</td><td>&quot;https://twitte…</td><td>&quot;@willmcgugan Y…</td><td>&quot;2021-12-27 17:…</td><td>1790.0</td><td>7.0</td><td>0.003911</td><td>0.0</td><td>0.0</td><td>3.0</td><td>1.0</td><td>0.0</td><td>0.0</td><td>3.0</td><td>0.0</td><td>0</td><td>0</td><td>0</td><td>0</td><td>0</td><td>0</td><td>0</td><td>null</td><td>null</td><td>null</td><td>null</td><td>null</td><td>null</td><td>null</td><td>null</td><td>null</td><td>null</td><td>null</td><td>null</td><td>null</td><td>null</td><td>null</td><td>null</td><td>null</td><td>null</td></tr><tr><td>1475891441243025408</td><td>&quot;https://twitte…</td><td>&quot;@posco Visitin…</td><td>&quot;2021-12-28 18:…</td><td>1611.0</td><td>12.0</td><td>0.007449</td><td>0.0</td><td>0.0</td><td>4.0</td><td>4.0</td><td>0.0</td><td>0.0</td><td>4.0</td><td>0.0</td><td>0</td><td>0</td><td>0</td><td>0</td><td>0</td><td>0</td><td>0</td><td>null</td><td>null</td><td>null</td><td>null</td><td>null</td><td>null</td><td>null</td><td>null</td><td>null</td><td>null</td><td>null</td><td>null</td><td>null</td><td>null</td><td>null</td><td>null</td><td>null</td><td>null</td></tr><tr><td>1476453819751878656</td><td>&quot;https://twitte…</td><td>&quot;@johndsaunders…</td><td>&quot;2021-12-30 07:…</td><td>1354.0</td><td>8.0</td><td>0.005908</td><td>0.0</td><td>0.0</td><td>2.0</td><td>4.0</td><td>0.0</td><td>0.0</td><td>2.0</td><td>0.0</td><td>0</td><td>0</td><td>0</td><td>0</td><td>0</td><td>0</td><td>0</td><td>null</td><td>null</td><td>null</td><td>null</td><td>null</td><td>null</td><td>null</td><td>null</td><td>null</td><td>null</td><td>null</td><td>null</td><td>null</td><td>null</td><td>null</td><td>null</td><td>null</td><td>null</td></tr><tr><td>1477024722051158018</td><td>&quot;https://twitte…</td><td>&quot;@tunguz Xgboos…</td><td>&quot;2021-12-31 21:…</td><td>5041.0</td><td>63.0</td><td>0.012498</td><td>0.0</td><td>3.0</td><td>23.0</td><td>8.0</td><td>0.0</td><td>0.0</td><td>29.0</td><td>0.0</td><td>0</td><td>0</td><td>0</td><td>0</td><td>0</td><td>0</td><td>0</td><td>null</td><td>null</td><td>null</td><td>null</td><td>null</td><td>null</td><td>null</td><td>null</td><td>null</td><td>null</td><td>null</td><td>null</td><td>null</td><td>null</td><td>null</td><td>null</td><td>null</td><td>null</td></tr></tbody></table></div>"
      ],
      "text/plain": [
       "shape: (5_791, 40)\n",
       "┌─────────┬────────────┬──────────┬────────┬───┬────────────┬────────────┬────────────┬────────────┐\n",
       "│ Tweet   ┆ Tweet      ┆ Tweet    ┆ time   ┆ … ┆ promoted   ┆ promoted   ┆ promoted   ┆ promoted   │\n",
       "│ id      ┆ permalink  ┆ text     ┆ ---    ┆   ┆ email      ┆ dial phone ┆ media      ┆ media enga │\n",
       "│ ---     ┆ ---        ┆ ---      ┆ str    ┆   ┆ tweet      ┆ ---        ┆ views      ┆ gements    │\n",
       "│ i64     ┆ str        ┆ str      ┆        ┆   ┆ ---        ┆ str        ┆ ---        ┆ ---        │\n",
       "│         ┆            ┆          ┆        ┆   ┆ str        ┆            ┆ str        ┆ str        │\n",
       "╞═════════╪════════════╪══════════╪════════╪═══╪════════════╪════════════╪════════════╪════════════╡\n",
       "│ 1212580 ┆ https://tw ┆ Sounds   ┆ 2020-0 ┆ … ┆ null       ┆ null       ┆ null       ┆ null       │\n",
       "│ 5179057 ┆ itter.com/ ┆ like a   ┆ 1-02   ┆   ┆            ┆            ┆            ┆            │\n",
       "│ 80737   ┆ __mharriso ┆ great    ┆ 03:44: ┆   ┆            ┆            ┆            ┆            │\n",
       "│         ┆ n_…        ┆ topic!   ┆ 00+00: ┆   ┆            ┆            ┆            ┆            │\n",
       "│         ┆            ┆ https…   ┆ 00     ┆   ┆            ┆            ┆            ┆            │\n",
       "│ 1212582 ┆ https://tw ┆ @FogleBi ┆ 2020-0 ┆ … ┆ null       ┆ null       ┆ null       ┆ null       │\n",
       "│ 4948280 ┆ itter.com/ ┆ rd Looks ┆ 1-02   ┆   ┆            ┆            ┆            ┆            │\n",
       "│ 36097   ┆ __mharriso ┆ like     ┆ 03:52: ┆   ┆            ┆            ┆            ┆            │\n",
       "│         ┆ n_…        ┆ SLC. I   ┆ 00+00: ┆   ┆            ┆            ┆            ┆            │\n",
       "│         ┆            ┆ can…     ┆ 00     ┆   ┆            ┆            ┆            ┆            │\n",
       "│ 1212613 ┆ https://tw ┆ @afilina ┆ 2020-0 ┆ … ┆ null       ┆ null       ┆ null       ┆ null       │\n",
       "│ 7356986 ┆ itter.com/ ┆ That's   ┆ 1-02   ┆   ┆            ┆            ┆            ┆            │\n",
       "│ 90049   ┆ __mharriso ┆ really   ┆ 05:56: ┆   ┆            ┆            ┆            ┆            │\n",
       "│         ┆ n_…        ┆ amount   ┆ 00+00: ┆   ┆            ┆            ┆            ┆            │\n",
       "│         ┆            ┆ an…      ┆ 00     ┆   ┆            ┆            ┆            ┆            │\n",
       "│ 1212911 ┆ https://tw ┆ @randal_ ┆ 2020-0 ┆ … ┆ null       ┆ null       ┆ null       ┆ null       │\n",
       "│ 7496172 ┆ itter.com/ ┆ olson I  ┆ 1-03   ┆   ┆            ┆            ┆            ┆            │\n",
       "│ 42113   ┆ __mharriso ┆ use      ┆ 01:41: ┆   ┆            ┆            ┆            ┆            │\n",
       "│         ┆ n_…        ┆ anaconda ┆ 00+00: ┆   ┆            ┆            ┆            ┆            │\n",
       "│         ┆            ┆ whe…     ┆ 00     ┆   ┆            ┆            ┆            ┆            │\n",
       "│ …       ┆ …          ┆ …        ┆ …      ┆ … ┆ …          ┆ …          ┆ …          ┆ …          │\n",
       "│ 1475518 ┆ https://tw ┆ @willmcg ┆ 2021-1 ┆ … ┆ null       ┆ null       ┆ null       ┆ null       │\n",
       "│ 1436908 ┆ itter.com/ ┆ ugan You ┆ 2-27   ┆   ┆            ┆            ┆            ┆            │\n",
       "│ 01156   ┆ __mharriso ┆ need to  ┆ 17:25: ┆   ┆            ┆            ┆            ┆            │\n",
       "│         ┆ n_…        ┆ find ou… ┆ 00+00: ┆   ┆            ┆            ┆            ┆            │\n",
       "│         ┆            ┆          ┆ 00     ┆   ┆            ┆            ┆            ┆            │\n",
       "│ 1475891 ┆ https://tw ┆ @posco   ┆ 2021-1 ┆ … ┆ null       ┆ null       ┆ null       ┆ null       │\n",
       "│ 4412430 ┆ itter.com/ ┆ Visiting ┆ 2-28   ┆   ┆            ┆            ┆            ┆            │\n",
       "│ 25408   ┆ __mharriso ┆ Hawaii   ┆ 18:08: ┆   ┆            ┆            ┆            ┆            │\n",
       "│         ┆ n_…        ┆ for the  ┆ 00+00: ┆   ┆            ┆            ┆            ┆            │\n",
       "│         ┆            ┆ h…       ┆ 00     ┆   ┆            ┆            ┆            ┆            │\n",
       "│ 1476453 ┆ https://tw ┆ @johndsa ┆ 2021-1 ┆ … ┆ null       ┆ null       ┆ null       ┆ null       │\n",
       "│ 8197518 ┆ itter.com/ ┆ unders   ┆ 2-30   ┆   ┆            ┆            ┆            ┆            │\n",
       "│ 78656   ┆ __mharriso ┆ My son   ┆ 07:23: ┆   ┆            ┆            ┆            ┆            │\n",
       "│         ┆ n_…        ┆ just     ┆ 00+00: ┆   ┆            ┆            ┆            ┆            │\n",
       "│         ┆            ┆ built…   ┆ 00     ┆   ┆            ┆            ┆            ┆            │\n",
       "│ 1477024 ┆ https://tw ┆ @tunguz  ┆ 2021-1 ┆ … ┆ null       ┆ null       ┆ null       ┆ null       │\n",
       "│ 7220511 ┆ itter.com/ ┆ Xgboost  ┆ 2-31   ┆   ┆            ┆            ┆            ┆            │\n",
       "│ 58018   ┆ __mharriso ┆          ┆ 21:11: ┆   ┆            ┆            ┆            ┆            │\n",
       "│         ┆ n_…        ┆          ┆ 00+00: ┆   ┆            ┆            ┆            ┆            │\n",
       "│         ┆            ┆          ┆ 00     ┆   ┆            ┆            ┆            ┆            │\n",
       "└─────────┴────────────┴──────────┴────────┴───┴────────────┴────────────┴────────────┴────────────┘"
      ]
     },
     "execution_count": 13,
     "metadata": {},
     "output_type": "execute_result"
    }
   ],
   "source": [
    "# Generally want to use *expressions* instead of working directly\n",
    "# on dataframe.\n",
    "# use pl.all() instead of pl.col('*')\n",
    "(df\n",
    " .select(pl.all())\n",
    ")"
   ]
  },
  {
   "cell_type": "code",
   "execution_count": 15,
   "metadata": {
    "scrolled": true
   },
   "outputs": [
    {
     "data": {
      "text/html": [
       "<div><style>\n",
       ".dataframe > thead > tr > th,\n",
       ".dataframe > tbody > tr > td {\n",
       "  text-align: right;\n",
       "}\n",
       "</style>\n",
       "<small>shape: (5791, 11)</small><table border=\"1\" class=\"dataframe\"><thead><tr><th>impressions</th><th>engagements</th><th>engagement rate</th><th>retweets</th><th>replies</th><th>likes</th><th>user profile clicks</th><th>url clicks</th><th>hashtag clicks</th><th>detail expands</th><th>permalink clicks</th></tr><tr><td>f64</td><td>f64</td><td>f64</td><td>f64</td><td>f64</td><td>f64</td><td>f64</td><td>f64</td><td>f64</td><td>f64</td><td>f64</td></tr></thead><tbody><tr><td>1465.0</td><td>7.0</td><td>0.004778</td><td>0.0</td><td>0.0</td><td>3.0</td><td>3.0</td><td>0.0</td><td>0.0</td><td>1.0</td><td>0.0</td></tr><tr><td>154.0</td><td>3.0</td><td>0.019481</td><td>0.0</td><td>0.0</td><td>1.0</td><td>1.0</td><td>0.0</td><td>0.0</td><td>1.0</td><td>0.0</td></tr><tr><td>1024.0</td><td>6.0</td><td>0.005859</td><td>0.0</td><td>0.0</td><td>1.0</td><td>2.0</td><td>0.0</td><td>0.0</td><td>3.0</td><td>0.0</td></tr><tr><td>1419.0</td><td>14.0</td><td>0.009866</td><td>0.0</td><td>1.0</td><td>5.0</td><td>7.0</td><td>0.0</td><td>0.0</td><td>1.0</td><td>0.0</td></tr><tr><td>198.0</td><td>1.0</td><td>0.005051</td><td>0.0</td><td>0.0</td><td>1.0</td><td>0.0</td><td>0.0</td><td>0.0</td><td>0.0</td><td>0.0</td></tr><tr><td>170.0</td><td>3.0</td><td>0.017647</td><td>0.0</td><td>0.0</td><td>1.0</td><td>1.0</td><td>0.0</td><td>0.0</td><td>1.0</td><td>0.0</td></tr><tr><td>104.0</td><td>2.0</td><td>0.019231</td><td>0.0</td><td>1.0</td><td>1.0</td><td>0.0</td><td>0.0</td><td>0.0</td><td>0.0</td><td>0.0</td></tr><tr><td>189.0</td><td>0.0</td><td>0.0</td><td>0.0</td><td>0.0</td><td>0.0</td><td>0.0</td><td>0.0</td><td>0.0</td><td>0.0</td><td>0.0</td></tr><tr><td>900.0</td><td>4.0</td><td>0.004444</td><td>0.0</td><td>0.0</td><td>0.0</td><td>4.0</td><td>0.0</td><td>0.0</td><td>0.0</td><td>0.0</td></tr><tr><td>252.0</td><td>2.0</td><td>0.007937</td><td>0.0</td><td>0.0</td><td>1.0</td><td>1.0</td><td>0.0</td><td>0.0</td><td>0.0</td><td>0.0</td></tr><tr><td>1610.0</td><td>6.0</td><td>0.003727</td><td>0.0</td><td>0.0</td><td>2.0</td><td>2.0</td><td>0.0</td><td>0.0</td><td>2.0</td><td>0.0</td></tr><tr><td>165.0</td><td>3.0</td><td>0.018182</td><td>0.0</td><td>0.0</td><td>0.0</td><td>1.0</td><td>0.0</td><td>0.0</td><td>2.0</td><td>0.0</td></tr><tr><td>&hellip;</td><td>&hellip;</td><td>&hellip;</td><td>&hellip;</td><td>&hellip;</td><td>&hellip;</td><td>&hellip;</td><td>&hellip;</td><td>&hellip;</td><td>&hellip;</td><td>&hellip;</td></tr><tr><td>416.0</td><td>3.0</td><td>0.007212</td><td>0.0</td><td>0.0</td><td>2.0</td><td>1.0</td><td>0.0</td><td>0.0</td><td>0.0</td><td>0.0</td></tr><tr><td>15840.0</td><td>372.0</td><td>0.023485</td><td>0.0</td><td>2.0</td><td>61.0</td><td>59.0</td><td>6.0</td><td>0.0</td><td>66.0</td><td>0.0</td></tr><tr><td>22557.0</td><td>501.0</td><td>0.02221</td><td>0.0</td><td>9.0</td><td>50.0</td><td>89.0</td><td>14.0</td><td>0.0</td><td>118.0</td><td>0.0</td></tr><tr><td>1586.0</td><td>35.0</td><td>0.022068</td><td>0.0</td><td>0.0</td><td>2.0</td><td>1.0</td><td>1.0</td><td>0.0</td><td>0.0</td><td>0.0</td></tr><tr><td>4641.0</td><td>35.0</td><td>0.007541</td><td>0.0</td><td>4.0</td><td>11.0</td><td>10.0</td><td>0.0</td><td>0.0</td><td>10.0</td><td>0.0</td></tr><tr><td>1969.0</td><td>4.0</td><td>0.002031</td><td>0.0</td><td>0.0</td><td>4.0</td><td>0.0</td><td>0.0</td><td>0.0</td><td>0.0</td><td>0.0</td></tr><tr><td>1669.0</td><td>5.0</td><td>0.002996</td><td>0.0</td><td>0.0</td><td>3.0</td><td>0.0</td><td>0.0</td><td>0.0</td><td>2.0</td><td>0.0</td></tr><tr><td>986.0</td><td>1.0</td><td>0.001014</td><td>0.0</td><td>0.0</td><td>0.0</td><td>0.0</td><td>0.0</td><td>0.0</td><td>1.0</td><td>0.0</td></tr><tr><td>1790.0</td><td>7.0</td><td>0.003911</td><td>0.0</td><td>0.0</td><td>3.0</td><td>1.0</td><td>0.0</td><td>0.0</td><td>3.0</td><td>0.0</td></tr><tr><td>1611.0</td><td>12.0</td><td>0.007449</td><td>0.0</td><td>0.0</td><td>4.0</td><td>4.0</td><td>0.0</td><td>0.0</td><td>4.0</td><td>0.0</td></tr><tr><td>1354.0</td><td>8.0</td><td>0.005908</td><td>0.0</td><td>0.0</td><td>2.0</td><td>4.0</td><td>0.0</td><td>0.0</td><td>2.0</td><td>0.0</td></tr><tr><td>5041.0</td><td>63.0</td><td>0.012498</td><td>0.0</td><td>3.0</td><td>23.0</td><td>8.0</td><td>0.0</td><td>0.0</td><td>29.0</td><td>0.0</td></tr></tbody></table></div>"
      ],
      "text/plain": [
       "shape: (5_791, 11)\n",
       "┌───────────┬───────────┬────────────┬──────────┬───┬──────────┬────────────┬────────────┬────────────┐\n",
       "│ impressio ┆ engagemen ┆ engagement ┆ retweets ┆ … ┆ url      ┆ hashtag    ┆ detail     ┆ permalink  │\n",
       "│ ns        ┆ ts        ┆ rate       ┆ ---      ┆   ┆ clicks   ┆ clicks     ┆ expands    ┆ clicks     │\n",
       "│ ---       ┆ ---       ┆ ---        ┆ f64      ┆   ┆ ---      ┆ ---        ┆ ---        ┆ ---        │\n",
       "│ f64       ┆ f64       ┆ f64        ┆          ┆   ┆ f64      ┆ f64        ┆ f64        ┆ f64        │\n",
       "╞═══════════╪═══════════╪════════════╪══════════╪═══╪══════════╪════════════╪════════════╪════════════╡\n",
       "│ 1465.0    ┆ 7.0       ┆ 0.004778   ┆ 0.0      ┆ … ┆ 0.0      ┆ 0.0        ┆ 1.0        ┆ 0.0        │\n",
       "│ 154.0     ┆ 3.0       ┆ 0.019481   ┆ 0.0      ┆ … ┆ 0.0      ┆ 0.0        ┆ 1.0        ┆ 0.0        │\n",
       "│ 1024.0    ┆ 6.0       ┆ 0.005859   ┆ 0.0      ┆ … ┆ 0.0      ┆ 0.0        ┆ 3.0        ┆ 0.0        │\n",
       "│ 1419.0    ┆ 14.0      ┆ 0.009866   ┆ 0.0      ┆ … ┆ 0.0      ┆ 0.0        ┆ 1.0        ┆ 0.0        │\n",
       "│ …         ┆ …         ┆ …          ┆ …        ┆ … ┆ …        ┆ …          ┆ …          ┆ …          │\n",
       "│ 1790.0    ┆ 7.0       ┆ 0.003911   ┆ 0.0      ┆ … ┆ 0.0      ┆ 0.0        ┆ 3.0        ┆ 0.0        │\n",
       "│ 1611.0    ┆ 12.0      ┆ 0.007449   ┆ 0.0      ┆ … ┆ 0.0      ┆ 0.0        ┆ 4.0        ┆ 0.0        │\n",
       "│ 1354.0    ┆ 8.0       ┆ 0.005908   ┆ 0.0      ┆ … ┆ 0.0      ┆ 0.0        ┆ 2.0        ┆ 0.0        │\n",
       "│ 5041.0    ┆ 63.0      ┆ 0.012498   ┆ 0.0      ┆ … ┆ 0.0      ┆ 0.0        ┆ 29.0       ┆ 0.0        │\n",
       "└───────────┴───────────┴────────────┴──────────┴───┴──────────┴────────────┴────────────┴────────────┘"
      ]
     },
     "execution_count": 15,
     "metadata": {},
     "output_type": "execute_result"
    }
   ],
   "source": [
    "# pl.col can also select datatypes\n",
    "# pl.col can also exclude (using .exclude method)\n",
    "# pl.col can use regex\n",
    "\n",
    "(df\n",
    " .select(pl.col(pl.Float64))\n",
    ")"
   ]
  },
  {
   "cell_type": "code",
   "execution_count": 17,
   "metadata": {
    "scrolled": true
   },
   "outputs": [
    {
     "ename": "DuplicateError",
     "evalue": "column with name 'impressions' has more than one occurrences",
     "output_type": "error",
     "traceback": [
      "\u001b[0;31m---------------------------------------------------------------------------\u001b[0m",
      "\u001b[0;31mDuplicateError\u001b[0m                            Traceback (most recent call last)",
      "Cell \u001b[0;32mIn[17], line 4\u001b[0m\n\u001b[1;32m      1\u001b[0m \u001b[38;5;66;03m# Use .suffix .prefix or .alias to remove duplicate names\u001b[39;00m\n\u001b[1;32m      3\u001b[0m (\u001b[43mdf\u001b[49m\n\u001b[0;32m----> 4\u001b[0m \u001b[43m \u001b[49m\u001b[38;5;241;43m.\u001b[39;49m\u001b[43mselect\u001b[49m\u001b[43m(\u001b[49m\u001b[43m[\u001b[49m\u001b[38;5;124;43m'\u001b[39;49m\u001b[38;5;124;43mimpressions\u001b[39;49m\u001b[38;5;124;43m'\u001b[39;49m\u001b[43m,\u001b[49m\n\u001b[1;32m      5\u001b[0m \u001b[43m          \u001b[49m\u001b[38;5;124;43m'\u001b[39;49m\u001b[38;5;124;43mimpressions\u001b[39;49m\u001b[38;5;124;43m'\u001b[39;49m\u001b[43m]\u001b[49m\u001b[43m)\u001b[49m\n\u001b[1;32m      6\u001b[0m )\n",
      "File \u001b[0;32m~/.envs/2023env/lib/python3.10/site-packages/polars/dataframe/frame.py:6847\u001b[0m, in \u001b[0;36mDataFrame.select\u001b[0;34m(self, exprs, *more_exprs, **named_exprs)\u001b[0m\n\u001b[1;32m   6739\u001b[0m \u001b[38;5;28;01mdef\u001b[39;00m \u001b[38;5;21mselect\u001b[39m(\n\u001b[1;32m   6740\u001b[0m     \u001b[38;5;28mself\u001b[39m,\n\u001b[1;32m   6741\u001b[0m     exprs: IntoExpr \u001b[38;5;241m|\u001b[39m Iterable[IntoExpr] \u001b[38;5;241m|\u001b[39m \u001b[38;5;28;01mNone\u001b[39;00m \u001b[38;5;241m=\u001b[39m \u001b[38;5;28;01mNone\u001b[39;00m,\n\u001b[1;32m   6742\u001b[0m     \u001b[38;5;241m*\u001b[39mmore_exprs: IntoExpr,\n\u001b[1;32m   6743\u001b[0m     \u001b[38;5;241m*\u001b[39m\u001b[38;5;241m*\u001b[39mnamed_exprs: IntoExpr,\n\u001b[1;32m   6744\u001b[0m ) \u001b[38;5;241m-\u001b[39m\u001b[38;5;241m>\u001b[39m Self:\n\u001b[1;32m   6745\u001b[0m \u001b[38;5;250m    \u001b[39m\u001b[38;5;124;03m\"\"\"\u001b[39;00m\n\u001b[1;32m   6746\u001b[0m \u001b[38;5;124;03m    Select columns from this DataFrame.\u001b[39;00m\n\u001b[1;32m   6747\u001b[0m \n\u001b[0;32m   (...)\u001b[0m\n\u001b[1;32m   6844\u001b[0m \n\u001b[1;32m   6845\u001b[0m \u001b[38;5;124;03m    \"\"\"\u001b[39;00m\n\u001b[1;32m   6846\u001b[0m     \u001b[38;5;28;01mreturn\u001b[39;00m \u001b[38;5;28mself\u001b[39m\u001b[38;5;241m.\u001b[39m_from_pydf(\n\u001b[0;32m-> 6847\u001b[0m         \u001b[38;5;28;43mself\u001b[39;49m\u001b[38;5;241;43m.\u001b[39;49m\u001b[43mlazy\u001b[49m\u001b[43m(\u001b[49m\u001b[43m)\u001b[49m\n\u001b[1;32m   6848\u001b[0m \u001b[43m        \u001b[49m\u001b[38;5;241;43m.\u001b[39;49m\u001b[43mselect\u001b[49m\u001b[43m(\u001b[49m\u001b[43mexprs\u001b[49m\u001b[43m,\u001b[49m\u001b[43m \u001b[49m\u001b[38;5;241;43m*\u001b[39;49m\u001b[43mmore_exprs\u001b[49m\u001b[43m,\u001b[49m\u001b[43m \u001b[49m\u001b[38;5;241;43m*\u001b[39;49m\u001b[38;5;241;43m*\u001b[39;49m\u001b[43mnamed_exprs\u001b[49m\u001b[43m)\u001b[49m\n\u001b[1;32m   6849\u001b[0m \u001b[43m        \u001b[49m\u001b[38;5;241;43m.\u001b[39;49m\u001b[43mcollect\u001b[49m\u001b[43m(\u001b[49m\u001b[43mno_optimization\u001b[49m\u001b[38;5;241;43m=\u001b[39;49m\u001b[38;5;28;43;01mTrue\u001b[39;49;00m\u001b[43m)\u001b[49m\n\u001b[1;32m   6850\u001b[0m         \u001b[38;5;241m.\u001b[39m_df\n\u001b[1;32m   6851\u001b[0m     )\n",
      "File \u001b[0;32m~/.envs/2023env/lib/python3.10/site-packages/polars/lazyframe/frame.py:1606\u001b[0m, in \u001b[0;36mLazyFrame.collect\u001b[0;34m(self, type_coercion, predicate_pushdown, projection_pushdown, simplify_expression, no_optimization, slice_pushdown, common_subplan_elimination, streaming)\u001b[0m\n\u001b[1;32m   1595\u001b[0m     common_subplan_elimination \u001b[38;5;241m=\u001b[39m \u001b[38;5;28;01mFalse\u001b[39;00m\n\u001b[1;32m   1597\u001b[0m ldf \u001b[38;5;241m=\u001b[39m \u001b[38;5;28mself\u001b[39m\u001b[38;5;241m.\u001b[39m_ldf\u001b[38;5;241m.\u001b[39moptimization_toggle(\n\u001b[1;32m   1598\u001b[0m     type_coercion,\n\u001b[1;32m   1599\u001b[0m     predicate_pushdown,\n\u001b[0;32m   (...)\u001b[0m\n\u001b[1;32m   1604\u001b[0m     streaming,\n\u001b[1;32m   1605\u001b[0m )\n\u001b[0;32m-> 1606\u001b[0m \u001b[38;5;28;01mreturn\u001b[39;00m wrap_df(\u001b[43mldf\u001b[49m\u001b[38;5;241;43m.\u001b[39;49m\u001b[43mcollect\u001b[49m\u001b[43m(\u001b[49m\u001b[43m)\u001b[49m)\n",
      "\u001b[0;31mDuplicateError\u001b[0m: column with name 'impressions' has more than one occurrences"
     ]
    }
   ],
   "source": [
    "# Use .suffix .prefix or .alias to remove duplicate names\n",
    "\n",
    "(df\n",
    " .select(['impressions',\n",
    "          'impressions'])\n",
    ")"
   ]
  },
  {
   "cell_type": "code",
   "execution_count": 18,
   "metadata": {
    "scrolled": true
   },
   "outputs": [
    {
     "data": {
      "text/html": [
       "<div><style>\n",
       ".dataframe > thead > tr > th,\n",
       ".dataframe > tbody > tr > td {\n",
       "  text-align: right;\n",
       "}\n",
       "</style>\n",
       "<small>shape: (5791, 2)</small><table border=\"1\" class=\"dataframe\"><thead><tr><th>impressions</th><th>impressions_2</th></tr><tr><td>f64</td><td>f64</td></tr></thead><tbody><tr><td>1465.0</td><td>1465.0</td></tr><tr><td>154.0</td><td>154.0</td></tr><tr><td>1024.0</td><td>1024.0</td></tr><tr><td>1419.0</td><td>1419.0</td></tr><tr><td>198.0</td><td>198.0</td></tr><tr><td>170.0</td><td>170.0</td></tr><tr><td>104.0</td><td>104.0</td></tr><tr><td>189.0</td><td>189.0</td></tr><tr><td>900.0</td><td>900.0</td></tr><tr><td>252.0</td><td>252.0</td></tr><tr><td>1610.0</td><td>1610.0</td></tr><tr><td>165.0</td><td>165.0</td></tr><tr><td>&hellip;</td><td>&hellip;</td></tr><tr><td>416.0</td><td>416.0</td></tr><tr><td>15840.0</td><td>15840.0</td></tr><tr><td>22557.0</td><td>22557.0</td></tr><tr><td>1586.0</td><td>1586.0</td></tr><tr><td>4641.0</td><td>4641.0</td></tr><tr><td>1969.0</td><td>1969.0</td></tr><tr><td>1669.0</td><td>1669.0</td></tr><tr><td>986.0</td><td>986.0</td></tr><tr><td>1790.0</td><td>1790.0</td></tr><tr><td>1611.0</td><td>1611.0</td></tr><tr><td>1354.0</td><td>1354.0</td></tr><tr><td>5041.0</td><td>5041.0</td></tr></tbody></table></div>"
      ],
      "text/plain": [
       "shape: (5_791, 2)\n",
       "┌─────────────┬───────────────┐\n",
       "│ impressions ┆ impressions_2 │\n",
       "│ ---         ┆ ---           │\n",
       "│ f64         ┆ f64           │\n",
       "╞═════════════╪═══════════════╡\n",
       "│ 1465.0      ┆ 1465.0        │\n",
       "│ 154.0       ┆ 154.0         │\n",
       "│ 1024.0      ┆ 1024.0        │\n",
       "│ 1419.0      ┆ 1419.0        │\n",
       "│ …           ┆ …             │\n",
       "│ 1790.0      ┆ 1790.0        │\n",
       "│ 1611.0      ┆ 1611.0        │\n",
       "│ 1354.0      ┆ 1354.0        │\n",
       "│ 5041.0      ┆ 5041.0        │\n",
       "└─────────────┴───────────────┘"
      ]
     },
     "execution_count": 18,
     "metadata": {},
     "output_type": "execute_result"
    }
   ],
   "source": [
    "# Use .suffix .prefix or .alias to remove duplicate names\n",
    "\n",
    "(df\n",
    " .select(['impressions',\n",
    "          pl.col('impressions').suffix('_2')\n",
    "         ])\n",
    ")"
   ]
  },
  {
   "cell_type": "code",
   "execution_count": 21,
   "metadata": {
    "scrolled": true
   },
   "outputs": [
    {
     "data": {
      "text/html": [
       "<div><style>\n",
       ".dataframe > thead > tr > th,\n",
       ".dataframe > tbody > tr > td {\n",
       "  text-align: right;\n",
       "}\n",
       "</style>\n",
       "<small>shape: (1, 80)</small><table border=\"1\" class=\"dataframe\"><thead><tr><th>Tweet id</th><th>Tweet permalink</th><th>Tweet text</th><th>time</th><th>impressions</th><th>engagements</th><th>engagement rate</th><th>retweets</th><th>replies</th><th>likes</th><th>user profile clicks</th><th>url clicks</th><th>hashtag clicks</th><th>detail expands</th><th>permalink clicks</th><th>app opens</th><th>app installs</th><th>follows</th><th>email tweet</th><th>dial phone</th><th>media views</th><th>media engagements</th><th>promoted impressions</th><th>promoted engagements</th><th>promoted engagement rate</th><th>promoted retweets</th><th>promoted replies</th><th>promoted likes</th><th>promoted user profile clicks</th><th>promoted url clicks</th><th>promoted hashtag clicks</th><th>promoted detail expands</th><th>promoted permalink clicks</th><th>promoted app opens</th><th>promoted app installs</th><th>promoted follows</th><th>promoted email tweet</th><th>&hellip;</th><th>timeq5</th><th>impressionsq5</th><th>engagementsq5</th><th>engagement rateq5</th><th>retweetsq5</th><th>repliesq5</th><th>likesq5</th><th>user profile clicksq5</th><th>url clicksq5</th><th>hashtag clicksq5</th><th>detail expandsq5</th><th>permalink clicksq5</th><th>app opensq5</th><th>app installsq5</th><th>followsq5</th><th>email tweetq5</th><th>dial phoneq5</th><th>media viewsq5</th><th>media engagementsq5</th><th>promoted impressionsq5</th><th>promoted engagementsq5</th><th>promoted engagement rateq5</th><th>promoted retweetsq5</th><th>promoted repliesq5</th><th>promoted likesq5</th><th>promoted user profile clicksq5</th><th>promoted url clicksq5</th><th>promoted hashtag clicksq5</th><th>promoted detail expandsq5</th><th>promoted permalink clicksq5</th><th>promoted app opensq5</th><th>promoted app installsq5</th><th>promoted followsq5</th><th>promoted email tweetq5</th><th>promoted dial phoneq5</th><th>promoted media viewsq5</th><th>promoted media engagementsq5</th></tr><tr><td>f64</td><td>str</td><td>str</td><td>str</td><td>f64</td><td>f64</td><td>f64</td><td>f64</td><td>f64</td><td>f64</td><td>f64</td><td>f64</td><td>f64</td><td>f64</td><td>f64</td><td>f64</td><td>f64</td><td>f64</td><td>f64</td><td>f64</td><td>f64</td><td>f64</td><td>str</td><td>str</td><td>str</td><td>str</td><td>str</td><td>str</td><td>str</td><td>str</td><td>str</td><td>str</td><td>str</td><td>str</td><td>str</td><td>str</td><td>str</td><td>&hellip;</td><td>str</td><td>f64</td><td>f64</td><td>f64</td><td>f64</td><td>f64</td><td>f64</td><td>f64</td><td>f64</td><td>f64</td><td>f64</td><td>f64</td><td>f64</td><td>f64</td><td>f64</td><td>f64</td><td>f64</td><td>f64</td><td>f64</td><td>str</td><td>str</td><td>str</td><td>str</td><td>str</td><td>str</td><td>str</td><td>str</td><td>str</td><td>str</td><td>str</td><td>str</td><td>str</td><td>str</td><td>str</td><td>str</td><td>str</td><td>str</td></tr></thead><tbody><tr><td>1.3142e18</td><td>null</td><td>null</td><td>null</td><td>175.0</td><td>3.0</td><td>0.00706</td><td>0.0</td><td>0.0</td><td>0.0</td><td>0.0</td><td>0.0</td><td>0.0</td><td>1.0</td><td>0.0</td><td>0.0</td><td>0.0</td><td>0.0</td><td>0.0</td><td>0.0</td><td>0.0</td><td>0.0</td><td>null</td><td>null</td><td>null</td><td>null</td><td>null</td><td>null</td><td>null</td><td>null</td><td>null</td><td>null</td><td>null</td><td>null</td><td>null</td><td>null</td><td>null</td><td>&hellip;</td><td>null</td><td>612.0</td><td>7.0</td><td>0.016043</td><td>0.0</td><td>0.0</td><td>1.0</td><td>1.0</td><td>0.0</td><td>0.0</td><td>3.0</td><td>0.0</td><td>0.0</td><td>0.0</td><td>0.0</td><td>0.0</td><td>0.0</td><td>0.0</td><td>0.0</td><td>null</td><td>null</td><td>null</td><td>null</td><td>null</td><td>null</td><td>null</td><td>null</td><td>null</td><td>null</td><td>null</td><td>null</td><td>null</td><td>null</td><td>null</td><td>null</td><td>null</td><td>null</td></tr></tbody></table></div>"
      ],
      "text/plain": [
       "shape: (1, 80)\n",
       "┌───────────┬────────────┬──────────┬──────┬───┬────────────┬────────────┬────────────┬────────────┐\n",
       "│ Tweet id  ┆ Tweet      ┆ Tweet    ┆ time ┆ … ┆ promoted   ┆ promoted   ┆ promoted   ┆ promoted   │\n",
       "│ ---       ┆ permalink  ┆ text     ┆ ---  ┆   ┆ email      ┆ dial       ┆ media      ┆ media enga │\n",
       "│ f64       ┆ ---        ┆ ---      ┆ str  ┆   ┆ tweetq5    ┆ phoneq5    ┆ viewsq5    ┆ gementsq5  │\n",
       "│           ┆ str        ┆ str      ┆      ┆   ┆ ---        ┆ ---        ┆ ---        ┆ ---        │\n",
       "│           ┆            ┆          ┆      ┆   ┆ str        ┆ str        ┆ str        ┆ str        │\n",
       "╞═══════════╪════════════╪══════════╪══════╪═══╪════════════╪════════════╪════════════╪════════════╡\n",
       "│ 1.3142e18 ┆ null       ┆ null     ┆ null ┆ … ┆ null       ┆ null       ┆ null       ┆ null       │\n",
       "└───────────┴────────────┴──────────┴──────┴───┴────────────┴────────────┴────────────┴────────────┘"
      ]
     },
     "execution_count": 21,
     "metadata": {},
     "output_type": "execute_result"
    }
   ],
   "source": [
    "# Try to get inner quantiles\n",
    "# This is horizontally stacked\n",
    "(df\n",
    " .select([\n",
    "     pl.all().quantile(.25),\n",
    "     pl.all().quantile(.5).suffix('q5'),\n",
    "    ]\n",
    " )\n",
    ")"
   ]
  },
  {
   "cell_type": "code",
   "execution_count": 22,
   "metadata": {},
   "outputs": [
    {
     "data": {
      "text/html": [
       "<div><style>\n",
       ".dataframe > thead > tr > th,\n",
       ".dataframe > tbody > tr > td {\n",
       "  text-align: right;\n",
       "}\n",
       "</style>\n",
       "<small>shape: (1, 40)</small><table border=\"1\" class=\"dataframe\"><thead><tr><th>Tweet id</th><th>Tweet permalink</th><th>Tweet text</th><th>time</th><th>impressions</th><th>engagements</th><th>engagement rate</th><th>retweets</th><th>replies</th><th>likes</th><th>user profile clicks</th><th>url clicks</th><th>hashtag clicks</th><th>detail expands</th><th>permalink clicks</th><th>app opens</th><th>app installs</th><th>follows</th><th>email tweet</th><th>dial phone</th><th>media views</th><th>media engagements</th><th>promoted impressions</th><th>promoted engagements</th><th>promoted engagement rate</th><th>promoted retweets</th><th>promoted replies</th><th>promoted likes</th><th>promoted user profile clicks</th><th>promoted url clicks</th><th>promoted hashtag clicks</th><th>promoted detail expands</th><th>promoted permalink clicks</th><th>promoted app opens</th><th>promoted app installs</th><th>promoted follows</th><th>promoted email tweet</th><th>promoted dial phone</th><th>promoted media views</th><th>promoted media engagements</th></tr><tr><td>f64</td><td>str</td><td>str</td><td>str</td><td>f64</td><td>f64</td><td>f64</td><td>f64</td><td>f64</td><td>f64</td><td>f64</td><td>f64</td><td>f64</td><td>f64</td><td>f64</td><td>f64</td><td>f64</td><td>f64</td><td>f64</td><td>f64</td><td>f64</td><td>f64</td><td>str</td><td>str</td><td>str</td><td>str</td><td>str</td><td>str</td><td>str</td><td>str</td><td>str</td><td>str</td><td>str</td><td>str</td><td>str</td><td>str</td><td>str</td><td>str</td><td>str</td><td>str</td></tr></thead><tbody><tr><td>1.2126e18</td><td>null</td><td>null</td><td>null</td><td>7.0</td><td>0.0</td><td>0.0</td><td>0.0</td><td>0.0</td><td>0.0</td><td>0.0</td><td>0.0</td><td>0.0</td><td>0.0</td><td>0.0</td><td>0.0</td><td>0.0</td><td>0.0</td><td>0.0</td><td>0.0</td><td>0.0</td><td>0.0</td><td>null</td><td>null</td><td>null</td><td>null</td><td>null</td><td>null</td><td>null</td><td>null</td><td>null</td><td>null</td><td>null</td><td>null</td><td>null</td><td>null</td><td>null</td><td>null</td><td>null</td><td>null</td></tr></tbody></table></div>"
      ],
      "text/plain": [
       "shape: (1, 40)\n",
       "┌───────────┬────────────┬──────────┬──────┬───┬────────────┬────────────┬────────────┬────────────┐\n",
       "│ Tweet id  ┆ Tweet      ┆ Tweet    ┆ time ┆ … ┆ promoted   ┆ promoted   ┆ promoted   ┆ promoted   │\n",
       "│ ---       ┆ permalink  ┆ text     ┆ ---  ┆   ┆ email      ┆ dial phone ┆ media      ┆ media enga │\n",
       "│ f64       ┆ ---        ┆ ---      ┆ str  ┆   ┆ tweet      ┆ ---        ┆ views      ┆ gements    │\n",
       "│           ┆ str        ┆ str      ┆      ┆   ┆ ---        ┆ str        ┆ ---        ┆ ---        │\n",
       "│           ┆            ┆          ┆      ┆   ┆ str        ┆            ┆ str        ┆ str        │\n",
       "╞═══════════╪════════════╪══════════╪══════╪═══╪════════════╪════════════╪════════════╪════════════╡\n",
       "│ 1.2126e18 ┆ null       ┆ null     ┆ null ┆ … ┆ null       ┆ null       ┆ null       ┆ null       │\n",
       "└───────────┴────────────┴──────────┴──────┴───┴────────────┴────────────┴────────────┴────────────┘"
      ]
     },
     "execution_count": 22,
     "metadata": {},
     "output_type": "execute_result"
    }
   ],
   "source": [
    "df.quantile(0)"
   ]
  },
  {
   "cell_type": "code",
   "execution_count": 43,
   "metadata": {
    "scrolled": true
   },
   "outputs": [
    {
     "data": {
      "text/html": [
       "<div><style>\n",
       ".dataframe > thead > tr > th,\n",
       ".dataframe > tbody > tr > td {\n",
       "  text-align: right;\n",
       "}\n",
       "</style>\n",
       "<small>shape: (1, 41)</small><table border=\"1\" class=\"dataframe\"><thead><tr><th>Tweet id</th><th>Tweet permalink</th><th>Tweet text</th><th>time</th><th>impressions</th><th>engagements</th><th>engagement rate</th><th>retweets</th><th>replies</th><th>likes</th><th>user profile clicks</th><th>url clicks</th><th>hashtag clicks</th><th>detail expands</th><th>permalink clicks</th><th>app opens</th><th>app installs</th><th>follows</th><th>email tweet</th><th>dial phone</th><th>media views</th><th>media engagements</th><th>promoted impressions</th><th>promoted engagements</th><th>promoted engagement rate</th><th>promoted retweets</th><th>promoted replies</th><th>promoted likes</th><th>promoted user profile clicks</th><th>promoted url clicks</th><th>promoted hashtag clicks</th><th>promoted detail expands</th><th>promoted permalink clicks</th><th>promoted app opens</th><th>promoted app installs</th><th>promoted follows</th><th>promoted email tweet</th><th>promoted dial phone</th><th>promoted media views</th><th>promoted media engagements</th><th>Describe</th></tr><tr><td>f64</td><td>str</td><td>str</td><td>str</td><td>f64</td><td>f64</td><td>f64</td><td>f64</td><td>f64</td><td>f64</td><td>f64</td><td>f64</td><td>f64</td><td>f64</td><td>f64</td><td>f64</td><td>f64</td><td>f64</td><td>f64</td><td>f64</td><td>f64</td><td>f64</td><td>str</td><td>str</td><td>str</td><td>str</td><td>str</td><td>str</td><td>str</td><td>str</td><td>str</td><td>str</td><td>str</td><td>str</td><td>str</td><td>str</td><td>str</td><td>str</td><td>str</td><td>str</td><td>str</td></tr></thead><tbody><tr><td>1.2126e18</td><td>null</td><td>null</td><td>null</td><td>7.0</td><td>0.0</td><td>0.0</td><td>0.0</td><td>0.0</td><td>0.0</td><td>0.0</td><td>0.0</td><td>0.0</td><td>0.0</td><td>0.0</td><td>0.0</td><td>0.0</td><td>0.0</td><td>0.0</td><td>0.0</td><td>0.0</td><td>0.0</td><td>null</td><td>null</td><td>null</td><td>null</td><td>null</td><td>null</td><td>null</td><td>null</td><td>null</td><td>null</td><td>null</td><td>null</td><td>null</td><td>null</td><td>null</td><td>null</td><td>null</td><td>null</td><td>&quot;Q0&quot;</td></tr></tbody></table></div>"
      ],
      "text/plain": [
       "shape: (1, 41)\n",
       "┌───────────┬────────────┬────────────┬──────┬───┬────────────┬────────────┬────────────┬──────────┐\n",
       "│ Tweet id  ┆ Tweet      ┆ Tweet text ┆ time ┆ … ┆ promoted   ┆ promoted   ┆ promoted   ┆ Describe │\n",
       "│ ---       ┆ permalink  ┆ ---        ┆ ---  ┆   ┆ dial phone ┆ media      ┆ media enga ┆ ---      │\n",
       "│ f64       ┆ ---        ┆ str        ┆ str  ┆   ┆ ---        ┆ views      ┆ gements    ┆ str      │\n",
       "│           ┆ str        ┆            ┆      ┆   ┆ str        ┆ ---        ┆ ---        ┆          │\n",
       "│           ┆            ┆            ┆      ┆   ┆            ┆ str        ┆ str        ┆          │\n",
       "╞═══════════╪════════════╪════════════╪══════╪═══╪════════════╪════════════╪════════════╪══════════╡\n",
       "│ 1.2126e18 ┆ null       ┆ null       ┆ null ┆ … ┆ null       ┆ null       ┆ null       ┆ Q0       │\n",
       "└───────────┴────────────┴────────────┴──────┴───┴────────────┴────────────┴────────────┴──────────┘"
      ]
     },
     "execution_count": 43,
     "metadata": {},
     "output_type": "execute_result"
    }
   ],
   "source": [
    "# Add Describe column\n",
    "(df\n",
    " .quantile(0)\n",
    " .with_columns(pl.lit('Q0').alias('Describe'))\n",
    ")"
   ]
  },
  {
   "cell_type": "code",
   "execution_count": 44,
   "metadata": {
    "scrolled": true
   },
   "outputs": [
    {
     "data": {
      "text/html": [
       "<div><style>\n",
       ".dataframe > thead > tr > th,\n",
       ".dataframe > tbody > tr > td {\n",
       "  text-align: right;\n",
       "}\n",
       "</style>\n",
       "<small>shape: (1, 41)</small><table border=\"1\" class=\"dataframe\"><thead><tr><th>Describe</th><th>Tweet id</th><th>Tweet permalink</th><th>Tweet text</th><th>time</th><th>impressions</th><th>engagements</th><th>engagement rate</th><th>retweets</th><th>replies</th><th>likes</th><th>user profile clicks</th><th>url clicks</th><th>hashtag clicks</th><th>detail expands</th><th>permalink clicks</th><th>app opens</th><th>app installs</th><th>follows</th><th>email tweet</th><th>dial phone</th><th>media views</th><th>media engagements</th><th>promoted impressions</th><th>promoted engagements</th><th>promoted engagement rate</th><th>promoted retweets</th><th>promoted replies</th><th>promoted likes</th><th>promoted user profile clicks</th><th>promoted url clicks</th><th>promoted hashtag clicks</th><th>promoted detail expands</th><th>promoted permalink clicks</th><th>promoted app opens</th><th>promoted app installs</th><th>promoted follows</th><th>promoted email tweet</th><th>promoted dial phone</th><th>promoted media views</th><th>promoted media engagements</th></tr><tr><td>str</td><td>f64</td><td>str</td><td>str</td><td>str</td><td>f64</td><td>f64</td><td>f64</td><td>f64</td><td>f64</td><td>f64</td><td>f64</td><td>f64</td><td>f64</td><td>f64</td><td>f64</td><td>f64</td><td>f64</td><td>f64</td><td>f64</td><td>f64</td><td>f64</td><td>f64</td><td>str</td><td>str</td><td>str</td><td>str</td><td>str</td><td>str</td><td>str</td><td>str</td><td>str</td><td>str</td><td>str</td><td>str</td><td>str</td><td>str</td><td>str</td><td>str</td><td>str</td><td>str</td></tr></thead><tbody><tr><td>&quot;Q0&quot;</td><td>1.2126e18</td><td>null</td><td>null</td><td>null</td><td>7.0</td><td>0.0</td><td>0.0</td><td>0.0</td><td>0.0</td><td>0.0</td><td>0.0</td><td>0.0</td><td>0.0</td><td>0.0</td><td>0.0</td><td>0.0</td><td>0.0</td><td>0.0</td><td>0.0</td><td>0.0</td><td>0.0</td><td>0.0</td><td>null</td><td>null</td><td>null</td><td>null</td><td>null</td><td>null</td><td>null</td><td>null</td><td>null</td><td>null</td><td>null</td><td>null</td><td>null</td><td>null</td><td>null</td><td>null</td><td>null</td><td>null</td></tr></tbody></table></div>"
      ],
      "text/plain": [
       "shape: (1, 41)\n",
       "┌──────────┬───────────┬────────────┬──────────┬───┬────────────┬────────────┬────────────┬────────────┐\n",
       "│ Describe ┆ Tweet id  ┆ Tweet      ┆ Tweet    ┆ … ┆ promoted   ┆ promoted   ┆ promoted   ┆ promoted   │\n",
       "│ ---      ┆ ---       ┆ permalink  ┆ text     ┆   ┆ email      ┆ dial phone ┆ media      ┆ media enga │\n",
       "│ str      ┆ f64       ┆ ---        ┆ ---      ┆   ┆ tweet      ┆ ---        ┆ views      ┆ gements    │\n",
       "│          ┆           ┆ str        ┆ str      ┆   ┆ ---        ┆ str        ┆ ---        ┆ ---        │\n",
       "│          ┆           ┆            ┆          ┆   ┆ str        ┆            ┆ str        ┆ str        │\n",
       "╞══════════╪═══════════╪════════════╪══════════╪═══╪════════════╪════════════╪════════════╪════════════╡\n",
       "│ Q0       ┆ 1.2126e18 ┆ null       ┆ null     ┆ … ┆ null       ┆ null       ┆ null       ┆ null       │\n",
       "└──────────┴───────────┴────────────┴──────────┴───┴────────────┴────────────┴────────────┴────────────┘"
      ]
     },
     "execution_count": 44,
     "metadata": {},
     "output_type": "execute_result"
    }
   ],
   "source": [
    "# Add Describe column\n",
    "(df\n",
    " .select([\n",
    "     pl.lit('Q0').alias('Describe'),\n",
    "     pl.col('*').quantile(0)\n",
    " ])\n",
    ")"
   ]
  },
  {
   "cell_type": "code",
   "execution_count": 54,
   "metadata": {
    "scrolled": false
   },
   "outputs": [
    {
     "data": {
      "text/html": [
       "<div><style>\n",
       ".dataframe > thead > tr > th,\n",
       ".dataframe > tbody > tr > td {\n",
       "  text-align: right;\n",
       "}\n",
       "</style>\n",
       "<small>shape: (14, 41)</small><table border=\"1\" class=\"dataframe\"><thead><tr><th>describe</th><th>Tweet id</th><th>Tweet permalink</th><th>Tweet text</th><th>time</th><th>impressions</th><th>engagements</th><th>engagement rate</th><th>retweets</th><th>replies</th><th>likes</th><th>user profile clicks</th><th>url clicks</th><th>hashtag clicks</th><th>detail expands</th><th>permalink clicks</th><th>app opens</th><th>app installs</th><th>follows</th><th>email tweet</th><th>dial phone</th><th>media views</th><th>media engagements</th><th>promoted impressions</th><th>promoted engagements</th><th>promoted engagement rate</th><th>promoted retweets</th><th>promoted replies</th><th>promoted likes</th><th>promoted user profile clicks</th><th>promoted url clicks</th><th>promoted hashtag clicks</th><th>promoted detail expands</th><th>promoted permalink clicks</th><th>promoted app opens</th><th>promoted app installs</th><th>promoted follows</th><th>promoted email tweet</th><th>promoted dial phone</th><th>promoted media views</th><th>promoted media engagements</th></tr><tr><td>str</td><td>f64</td><td>str</td><td>str</td><td>str</td><td>f64</td><td>f64</td><td>f64</td><td>f64</td><td>f64</td><td>f64</td><td>f64</td><td>f64</td><td>f64</td><td>f64</td><td>f64</td><td>f64</td><td>f64</td><td>f64</td><td>f64</td><td>f64</td><td>f64</td><td>f64</td><td>str</td><td>str</td><td>str</td><td>str</td><td>str</td><td>str</td><td>str</td><td>str</td><td>str</td><td>str</td><td>str</td><td>str</td><td>str</td><td>str</td><td>str</td><td>str</td><td>str</td><td>str</td></tr></thead><tbody><tr><td>&quot;Q0&quot;</td><td>1.2126e18</td><td>null</td><td>null</td><td>null</td><td>7.0</td><td>0.0</td><td>0.0</td><td>0.0</td><td>0.0</td><td>0.0</td><td>0.0</td><td>0.0</td><td>0.0</td><td>0.0</td><td>0.0</td><td>0.0</td><td>0.0</td><td>0.0</td><td>0.0</td><td>0.0</td><td>0.0</td><td>0.0</td><td>null</td><td>null</td><td>null</td><td>null</td><td>null</td><td>null</td><td>null</td><td>null</td><td>null</td><td>null</td><td>null</td><td>null</td><td>null</td><td>null</td><td>null</td><td>null</td><td>null</td><td>null</td></tr><tr><td>&quot;Q0.25&quot;</td><td>1.3142e18</td><td>null</td><td>null</td><td>null</td><td>175.0</td><td>3.0</td><td>0.00706</td><td>0.0</td><td>0.0</td><td>0.0</td><td>0.0</td><td>0.0</td><td>0.0</td><td>1.0</td><td>0.0</td><td>0.0</td><td>0.0</td><td>0.0</td><td>0.0</td><td>0.0</td><td>0.0</td><td>0.0</td><td>null</td><td>null</td><td>null</td><td>null</td><td>null</td><td>null</td><td>null</td><td>null</td><td>null</td><td>null</td><td>null</td><td>null</td><td>null</td><td>null</td><td>null</td><td>null</td><td>null</td><td>null</td></tr><tr><td>&quot;Q0.5&quot;</td><td>1.3589e18</td><td>null</td><td>null</td><td>null</td><td>612.0</td><td>7.0</td><td>0.016043</td><td>0.0</td><td>0.0</td><td>1.0</td><td>1.0</td><td>0.0</td><td>0.0</td><td>3.0</td><td>0.0</td><td>0.0</td><td>0.0</td><td>0.0</td><td>0.0</td><td>0.0</td><td>0.0</td><td>0.0</td><td>null</td><td>null</td><td>null</td><td>null</td><td>null</td><td>null</td><td>null</td><td>null</td><td>null</td><td>null</td><td>null</td><td>null</td><td>null</td><td>null</td><td>null</td><td>null</td><td>null</td><td>null</td></tr><tr><td>&quot;Q0.75&quot;</td><td>1.4155e18</td><td>null</td><td>null</td><td>null</td><td>1617.0</td><td>25.0</td><td>0.040902</td><td>0.0</td><td>1.0</td><td>4.0</td><td>4.0</td><td>0.0</td><td>0.0</td><td>8.0</td><td>0.0</td><td>0.0</td><td>0.0</td><td>0.0</td><td>0.0</td><td>0.0</td><td>0.0</td><td>0.0</td><td>null</td><td>null</td><td>null</td><td>null</td><td>null</td><td>null</td><td>null</td><td>null</td><td>null</td><td>null</td><td>null</td><td>null</td><td>null</td><td>null</td><td>null</td><td>null</td><td>null</td><td>null</td></tr><tr><td>&quot;Q1&quot;</td><td>1.4770e18</td><td>null</td><td>null</td><td>null</td><td>856749.0</td><td>45660.0</td><td>0.484127</td><td>465.0</td><td>207.0</td><td>5358.0</td><td>22393.0</td><td>1272.0</td><td>12.0</td><td>17078.0</td><td>0.0</td><td>3.0</td><td>0.0</td><td>191.0</td><td>0.0</td><td>0.0</td><td>16816.0</td><td>16816.0</td><td>null</td><td>null</td><td>null</td><td>null</td><td>null</td><td>null</td><td>null</td><td>null</td><td>null</td><td>null</td><td>null</td><td>null</td><td>null</td><td>null</td><td>null</td><td>null</td><td>null</td><td>null</td></tr><tr><td>&quot;count&quot;</td><td>5791.0</td><td>&quot;5791&quot;</td><td>&quot;5791&quot;</td><td>&quot;5791&quot;</td><td>5791.0</td><td>5791.0</td><td>5791.0</td><td>5791.0</td><td>5791.0</td><td>5791.0</td><td>5791.0</td><td>5791.0</td><td>5791.0</td><td>5791.0</td><td>5791.0</td><td>5791.0</td><td>5791.0</td><td>5791.0</td><td>5791.0</td><td>5791.0</td><td>5791.0</td><td>5791.0</td><td>&quot;5791&quot;</td><td>&quot;5791&quot;</td><td>&quot;5791&quot;</td><td>&quot;5791&quot;</td><td>&quot;5791&quot;</td><td>&quot;5791&quot;</td><td>&quot;5791&quot;</td><td>&quot;5791&quot;</td><td>&quot;5791&quot;</td><td>&quot;5791&quot;</td><td>&quot;5791&quot;</td><td>&quot;5791&quot;</td><td>&quot;5791&quot;</td><td>&quot;5791&quot;</td><td>&quot;5791&quot;</td><td>&quot;5791&quot;</td><td>&quot;5791&quot;</td><td>&quot;5791&quot;</td></tr><tr><td>&quot;null_count&quot;</td><td>0.0</td><td>&quot;0&quot;</td><td>&quot;0&quot;</td><td>&quot;0&quot;</td><td>0.0</td><td>0.0</td><td>0.0</td><td>0.0</td><td>0.0</td><td>0.0</td><td>0.0</td><td>0.0</td><td>0.0</td><td>0.0</td><td>0.0</td><td>0.0</td><td>0.0</td><td>0.0</td><td>0.0</td><td>0.0</td><td>0.0</td><td>0.0</td><td>&quot;5791&quot;</td><td>&quot;5791&quot;</td><td>&quot;5791&quot;</td><td>&quot;5791&quot;</td><td>&quot;5791&quot;</td><td>&quot;5791&quot;</td><td>&quot;5791&quot;</td><td>&quot;5791&quot;</td><td>&quot;5791&quot;</td><td>&quot;5791&quot;</td><td>&quot;5791&quot;</td><td>&quot;5791&quot;</td><td>&quot;5791&quot;</td><td>&quot;5791&quot;</td><td>&quot;5791&quot;</td><td>&quot;5791&quot;</td><td>&quot;5791&quot;</td><td>&quot;5791&quot;</td></tr><tr><td>&quot;mean&quot;</td><td>1.3604e18</td><td>null</td><td>null</td><td>null</td><td>2297.820411</td><td>111.400967</td><td>0.034748</td><td>0.979796</td><td>1.124504</td><td>9.400622</td><td>20.594543</td><td>4.502331</td><td>0.019686</td><td>34.658436</td><td>0.0</td><td>0.001036</td><td>0.0</td><td>0.135901</td><td>0.0</td><td>0.0</td><td>39.868935</td><td>39.712485</td><td>null</td><td>null</td><td>null</td><td>null</td><td>null</td><td>null</td><td>null</td><td>null</td><td>null</td><td>null</td><td>null</td><td>null</td><td>null</td><td>null</td><td>null</td><td>null</td><td>null</td><td>null</td></tr><tr><td>&quot;std&quot;</td><td>6.8508e16</td><td>null</td><td>null</td><td>null</td><td>16414.560844</td><td>976.353689</td><td>0.050031</td><td>10.903919</td><td>6.322059</td><td>108.117865</td><td>436.521415</td><td>32.377223</td><td>0.302481</td><td>355.671163</td><td>0.0</td><td>0.045513</td><td>0.0</td><td>3.870531</td><td>0.0</td><td>0.0</td><td>333.838003</td><td>333.753866</td><td>null</td><td>null</td><td>null</td><td>null</td><td>null</td><td>null</td><td>null</td><td>null</td><td>null</td><td>null</td><td>null</td><td>null</td><td>null</td><td>null</td><td>null</td><td>null</td><td>null</td><td>null</td></tr><tr><td>&quot;min&quot;</td><td>1.2126e18</td><td>&quot;https://twitte…</td><td>&quot;&quot;i&quot; has a spec…</td><td>&quot;2020-01-02 03:…</td><td>7.0</td><td>0.0</td><td>0.0</td><td>0.0</td><td>0.0</td><td>0.0</td><td>0.0</td><td>0.0</td><td>0.0</td><td>0.0</td><td>0.0</td><td>0.0</td><td>0.0</td><td>0.0</td><td>0.0</td><td>0.0</td><td>0.0</td><td>0.0</td><td>null</td><td>null</td><td>null</td><td>null</td><td>null</td><td>null</td><td>null</td><td>null</td><td>null</td><td>null</td><td>null</td><td>null</td><td>null</td><td>null</td><td>null</td><td>null</td><td>null</td><td>null</td></tr><tr><td>&quot;max&quot;</td><td>1.4770e18</td><td>&quot;https://twitte…</td><td>&quot;🤯🙏 https://t.c…</td><td>&quot;2021-12-31 21:…</td><td>856749.0</td><td>45660.0</td><td>0.484127</td><td>465.0</td><td>207.0</td><td>5358.0</td><td>22393.0</td><td>1272.0</td><td>12.0</td><td>17078.0</td><td>0.0</td><td>3.0</td><td>0.0</td><td>191.0</td><td>0.0</td><td>0.0</td><td>16816.0</td><td>16816.0</td><td>null</td><td>null</td><td>null</td><td>null</td><td>null</td><td>null</td><td>null</td><td>null</td><td>null</td><td>null</td><td>null</td><td>null</td><td>null</td><td>null</td><td>null</td><td>null</td><td>null</td><td>null</td></tr><tr><td>&quot;median&quot;</td><td>1.3589e18</td><td>null</td><td>null</td><td>null</td><td>612.0</td><td>7.0</td><td>0.016043</td><td>0.0</td><td>0.0</td><td>1.0</td><td>1.0</td><td>0.0</td><td>0.0</td><td>3.0</td><td>0.0</td><td>0.0</td><td>0.0</td><td>0.0</td><td>0.0</td><td>0.0</td><td>0.0</td><td>0.0</td><td>null</td><td>null</td><td>null</td><td>null</td><td>null</td><td>null</td><td>null</td><td>null</td><td>null</td><td>null</td><td>null</td><td>null</td><td>null</td><td>null</td><td>null</td><td>null</td><td>null</td><td>null</td></tr><tr><td>&quot;25%&quot;</td><td>1.3142e18</td><td>null</td><td>null</td><td>null</td><td>175.0</td><td>3.0</td><td>0.00706</td><td>0.0</td><td>0.0</td><td>0.0</td><td>0.0</td><td>0.0</td><td>0.0</td><td>1.0</td><td>0.0</td><td>0.0</td><td>0.0</td><td>0.0</td><td>0.0</td><td>0.0</td><td>0.0</td><td>0.0</td><td>null</td><td>null</td><td>null</td><td>null</td><td>null</td><td>null</td><td>null</td><td>null</td><td>null</td><td>null</td><td>null</td><td>null</td><td>null</td><td>null</td><td>null</td><td>null</td><td>null</td><td>null</td></tr><tr><td>&quot;75%&quot;</td><td>1.4155e18</td><td>null</td><td>null</td><td>null</td><td>1617.0</td><td>25.0</td><td>0.040902</td><td>0.0</td><td>1.0</td><td>4.0</td><td>4.0</td><td>0.0</td><td>0.0</td><td>8.0</td><td>0.0</td><td>0.0</td><td>0.0</td><td>0.0</td><td>0.0</td><td>0.0</td><td>0.0</td><td>0.0</td><td>null</td><td>null</td><td>null</td><td>null</td><td>null</td><td>null</td><td>null</td><td>null</td><td>null</td><td>null</td><td>null</td><td>null</td><td>null</td><td>null</td><td>null</td><td>null</td><td>null</td><td>null</td></tr></tbody></table></div>"
      ],
      "text/plain": [
       "shape: (14, 41)\n",
       "┌──────────┬───────────┬────────────┬──────────┬───┬────────────┬────────────┬────────────┬────────────┐\n",
       "│ describe ┆ Tweet id  ┆ Tweet      ┆ Tweet    ┆ … ┆ promoted   ┆ promoted   ┆ promoted   ┆ promoted   │\n",
       "│ ---      ┆ ---       ┆ permalink  ┆ text     ┆   ┆ email      ┆ dial phone ┆ media      ┆ media enga │\n",
       "│ str      ┆ f64       ┆ ---        ┆ ---      ┆   ┆ tweet      ┆ ---        ┆ views      ┆ gements    │\n",
       "│          ┆           ┆ str        ┆ str      ┆   ┆ ---        ┆ str        ┆ ---        ┆ ---        │\n",
       "│          ┆           ┆            ┆          ┆   ┆ str        ┆            ┆ str        ┆ str        │\n",
       "╞══════════╪═══════════╪════════════╪══════════╪═══╪════════════╪════════════╪════════════╪════════════╡\n",
       "│ Q0       ┆ 1.2126e18 ┆ null       ┆ null     ┆ … ┆ null       ┆ null       ┆ null       ┆ null       │\n",
       "│ Q0.25    ┆ 1.3142e18 ┆ null       ┆ null     ┆ … ┆ null       ┆ null       ┆ null       ┆ null       │\n",
       "│ Q0.5     ┆ 1.3589e18 ┆ null       ┆ null     ┆ … ┆ null       ┆ null       ┆ null       ┆ null       │\n",
       "│ Q0.75    ┆ 1.4155e18 ┆ null       ┆ null     ┆ … ┆ null       ┆ null       ┆ null       ┆ null       │\n",
       "│ …        ┆ …         ┆ …          ┆ …        ┆ … ┆ …          ┆ …          ┆ …          ┆ …          │\n",
       "│ max      ┆ 1.4770e18 ┆ https://tw ┆ 🤯🙏 htt ┆ … ┆ null       ┆ null       ┆ null       ┆ null       │\n",
       "│          ┆           ┆ itter.com/ ┆ ps://t.c ┆   ┆            ┆            ┆            ┆            │\n",
       "│          ┆           ┆ __mharriso ┆ o/AsLaS3 ┆   ┆            ┆            ┆            ┆            │\n",
       "│          ┆           ┆ n_…        ┆ Hrdv     ┆   ┆            ┆            ┆            ┆            │\n",
       "│ median   ┆ 1.3589e18 ┆ null       ┆ null     ┆ … ┆ null       ┆ null       ┆ null       ┆ null       │\n",
       "│ 25%      ┆ 1.3142e18 ┆ null       ┆ null     ┆ … ┆ null       ┆ null       ┆ null       ┆ null       │\n",
       "│ 75%      ┆ 1.4155e18 ┆ null       ┆ null     ┆ … ┆ null       ┆ null       ┆ null       ┆ null       │\n",
       "└──────────┴───────────┴────────────┴──────────┴───┴────────────┴────────────┴────────────┴────────────┘"
      ]
     },
     "execution_count": 54,
     "metadata": {},
     "output_type": "execute_result"
    }
   ],
   "source": [
    "# Emulate Pandas describe functionality\n",
    "(pl\n",
    " .concat(\n",
    "    [*[df\n",
    "        .quantile(val)\n",
    "        .with_columns(pl.lit(f'Q{val}').alias('describe'))\n",
    "        .select(['describe', 'Tweet id', 'Tweet permalink', 'Tweet text', 'time', 'impressions', \n",
    "                 'engagements', 'engagement rate', 'retweets', 'replies', 'likes', 'user profile clicks', \n",
    "                 'url clicks', 'hashtag clicks', 'detail expands', 'permalink clicks', 'app opens', \n",
    "                 'app installs', 'follows', 'email tweet', 'dial phone', 'media views', \n",
    "                 'media engagements', 'promoted impressions', 'promoted engagements', \n",
    "                 'promoted engagement rate', 'promoted retweets', 'promoted replies', 'promoted likes', \n",
    "                 'promoted user profile clicks', 'promoted url clicks', 'promoted hashtag clicks', \n",
    "                 'promoted detail expands', 'promoted permalink clicks', 'promoted app opens', \n",
    "                 'promoted app installs', 'promoted follows', 'promoted email tweet', \n",
    "                 'promoted dial phone', 'promoted media views', 'promoted media engagements'])\n",
    "        for val in [0, .25, .5, .75, 1]],\n",
    "     df.describe()\n",
    "    ],\n",
    "    how='vertical'\n",
    "    )\n",
    ")"
   ]
  },
  {
   "cell_type": "code",
   "execution_count": null,
   "metadata": {
    "scrolled": true
   },
   "outputs": [],
   "source": [
    "# Hard to currently do this with expressions because they are column oriented\n",
    "# (We are trying to make rows)\n",
    "\n",
    "(df\n",
    " .select([\n",
    "    pl.col([\"time\", \"impressions\"]).quantile(q).suffix(f\"_q{q}\") for q in [0, 0.25, 1.0]\n",
    "])\n",
    " .transpose(include_header=True, column_names=['name', 'val']) \n",
    ")"
   ]
  },
  {
   "cell_type": "markdown",
   "metadata": {},
   "source": [
    "## Reference on the Lazy Loading:: https://medium.com/@danny.bharat/python-polars-part2-fe7a0ca4435c"
   ]
  },
  {
   "cell_type": "code",
   "execution_count": 12,
   "metadata": {},
   "outputs": [
    {
     "data": {
      "text/html": [
       "<div><style>\n",
       ".dataframe > thead > tr > th,\n",
       ".dataframe > tbody > tr > td {\n",
       "  text-align: right;\n",
       "}\n",
       "</style>\n",
       "<small>shape: (14, 41)</small><table border=\"1\" class=\"dataframe\"><thead><tr><th>describe</th><th>Tweet id</th><th>Tweet permalink</th><th>Tweet text</th><th>time</th><th>impressions</th><th>engagements</th><th>engagement rate</th><th>retweets</th><th>replies</th><th>likes</th><th>user profile clicks</th><th>url clicks</th><th>hashtag clicks</th><th>detail expands</th><th>permalink clicks</th><th>app opens</th><th>app installs</th><th>follows</th><th>email tweet</th><th>dial phone</th><th>media views</th><th>media engagements</th><th>promoted impressions</th><th>promoted engagements</th><th>promoted engagement rate</th><th>promoted retweets</th><th>promoted replies</th><th>promoted likes</th><th>promoted user profile clicks</th><th>promoted url clicks</th><th>promoted hashtag clicks</th><th>promoted detail expands</th><th>promoted permalink clicks</th><th>promoted app opens</th><th>promoted app installs</th><th>promoted follows</th><th>promoted email tweet</th><th>promoted dial phone</th><th>promoted media views</th><th>promoted media engagements</th></tr><tr><td>str</td><td>f64</td><td>str</td><td>str</td><td>str</td><td>f64</td><td>f64</td><td>f64</td><td>f64</td><td>f64</td><td>f64</td><td>f64</td><td>f64</td><td>f64</td><td>f64</td><td>f64</td><td>f64</td><td>f64</td><td>f64</td><td>f64</td><td>f64</td><td>f64</td><td>f64</td><td>str</td><td>str</td><td>str</td><td>str</td><td>str</td><td>str</td><td>str</td><td>str</td><td>str</td><td>str</td><td>str</td><td>str</td><td>str</td><td>str</td><td>str</td><td>str</td><td>str</td><td>str</td></tr></thead><tbody><tr><td>&quot;Q0&quot;</td><td>1.2126e18</td><td>null</td><td>null</td><td>null</td><td>7.0</td><td>0.0</td><td>0.0</td><td>0.0</td><td>0.0</td><td>0.0</td><td>0.0</td><td>0.0</td><td>0.0</td><td>0.0</td><td>0.0</td><td>0.0</td><td>0.0</td><td>0.0</td><td>0.0</td><td>0.0</td><td>0.0</td><td>0.0</td><td>null</td><td>null</td><td>null</td><td>null</td><td>null</td><td>null</td><td>null</td><td>null</td><td>null</td><td>null</td><td>null</td><td>null</td><td>null</td><td>null</td><td>null</td><td>null</td><td>null</td><td>null</td></tr><tr><td>&quot;Q0.25&quot;</td><td>1.3142e18</td><td>null</td><td>null</td><td>null</td><td>175.0</td><td>3.0</td><td>0.00706</td><td>0.0</td><td>0.0</td><td>0.0</td><td>0.0</td><td>0.0</td><td>0.0</td><td>1.0</td><td>0.0</td><td>0.0</td><td>0.0</td><td>0.0</td><td>0.0</td><td>0.0</td><td>0.0</td><td>0.0</td><td>null</td><td>null</td><td>null</td><td>null</td><td>null</td><td>null</td><td>null</td><td>null</td><td>null</td><td>null</td><td>null</td><td>null</td><td>null</td><td>null</td><td>null</td><td>null</td><td>null</td><td>null</td></tr><tr><td>&quot;Q0.5&quot;</td><td>1.3589e18</td><td>null</td><td>null</td><td>null</td><td>612.0</td><td>7.0</td><td>0.016043</td><td>0.0</td><td>0.0</td><td>1.0</td><td>1.0</td><td>0.0</td><td>0.0</td><td>3.0</td><td>0.0</td><td>0.0</td><td>0.0</td><td>0.0</td><td>0.0</td><td>0.0</td><td>0.0</td><td>0.0</td><td>null</td><td>null</td><td>null</td><td>null</td><td>null</td><td>null</td><td>null</td><td>null</td><td>null</td><td>null</td><td>null</td><td>null</td><td>null</td><td>null</td><td>null</td><td>null</td><td>null</td><td>null</td></tr><tr><td>&quot;Q0.75&quot;</td><td>1.4155e18</td><td>null</td><td>null</td><td>null</td><td>1617.0</td><td>25.0</td><td>0.040902</td><td>0.0</td><td>1.0</td><td>4.0</td><td>4.0</td><td>0.0</td><td>0.0</td><td>8.0</td><td>0.0</td><td>0.0</td><td>0.0</td><td>0.0</td><td>0.0</td><td>0.0</td><td>0.0</td><td>0.0</td><td>null</td><td>null</td><td>null</td><td>null</td><td>null</td><td>null</td><td>null</td><td>null</td><td>null</td><td>null</td><td>null</td><td>null</td><td>null</td><td>null</td><td>null</td><td>null</td><td>null</td><td>null</td></tr><tr><td>&quot;Q1&quot;</td><td>1.4770e18</td><td>null</td><td>null</td><td>null</td><td>856749.0</td><td>45660.0</td><td>0.484127</td><td>465.0</td><td>207.0</td><td>5358.0</td><td>22393.0</td><td>1272.0</td><td>12.0</td><td>17078.0</td><td>0.0</td><td>3.0</td><td>0.0</td><td>191.0</td><td>0.0</td><td>0.0</td><td>16816.0</td><td>16816.0</td><td>null</td><td>null</td><td>null</td><td>null</td><td>null</td><td>null</td><td>null</td><td>null</td><td>null</td><td>null</td><td>null</td><td>null</td><td>null</td><td>null</td><td>null</td><td>null</td><td>null</td><td>null</td></tr><tr><td>&quot;count&quot;</td><td>5791.0</td><td>&quot;5791&quot;</td><td>&quot;5791&quot;</td><td>&quot;5791&quot;</td><td>5791.0</td><td>5791.0</td><td>5791.0</td><td>5791.0</td><td>5791.0</td><td>5791.0</td><td>5791.0</td><td>5791.0</td><td>5791.0</td><td>5791.0</td><td>5791.0</td><td>5791.0</td><td>5791.0</td><td>5791.0</td><td>5791.0</td><td>5791.0</td><td>5791.0</td><td>5791.0</td><td>&quot;5791&quot;</td><td>&quot;5791&quot;</td><td>&quot;5791&quot;</td><td>&quot;5791&quot;</td><td>&quot;5791&quot;</td><td>&quot;5791&quot;</td><td>&quot;5791&quot;</td><td>&quot;5791&quot;</td><td>&quot;5791&quot;</td><td>&quot;5791&quot;</td><td>&quot;5791&quot;</td><td>&quot;5791&quot;</td><td>&quot;5791&quot;</td><td>&quot;5791&quot;</td><td>&quot;5791&quot;</td><td>&quot;5791&quot;</td><td>&quot;5791&quot;</td><td>&quot;5791&quot;</td></tr><tr><td>&quot;null_count&quot;</td><td>0.0</td><td>&quot;0&quot;</td><td>&quot;0&quot;</td><td>&quot;0&quot;</td><td>0.0</td><td>0.0</td><td>0.0</td><td>0.0</td><td>0.0</td><td>0.0</td><td>0.0</td><td>0.0</td><td>0.0</td><td>0.0</td><td>0.0</td><td>0.0</td><td>0.0</td><td>0.0</td><td>0.0</td><td>0.0</td><td>0.0</td><td>0.0</td><td>&quot;5791&quot;</td><td>&quot;5791&quot;</td><td>&quot;5791&quot;</td><td>&quot;5791&quot;</td><td>&quot;5791&quot;</td><td>&quot;5791&quot;</td><td>&quot;5791&quot;</td><td>&quot;5791&quot;</td><td>&quot;5791&quot;</td><td>&quot;5791&quot;</td><td>&quot;5791&quot;</td><td>&quot;5791&quot;</td><td>&quot;5791&quot;</td><td>&quot;5791&quot;</td><td>&quot;5791&quot;</td><td>&quot;5791&quot;</td><td>&quot;5791&quot;</td><td>&quot;5791&quot;</td></tr><tr><td>&quot;mean&quot;</td><td>1.3604e18</td><td>null</td><td>null</td><td>null</td><td>2297.820411</td><td>111.400967</td><td>0.034748</td><td>0.979796</td><td>1.124504</td><td>9.400622</td><td>20.594543</td><td>4.502331</td><td>0.019686</td><td>34.658436</td><td>0.0</td><td>0.001036</td><td>0.0</td><td>0.135901</td><td>0.0</td><td>0.0</td><td>39.868935</td><td>39.712485</td><td>null</td><td>null</td><td>null</td><td>null</td><td>null</td><td>null</td><td>null</td><td>null</td><td>null</td><td>null</td><td>null</td><td>null</td><td>null</td><td>null</td><td>null</td><td>null</td><td>null</td><td>null</td></tr><tr><td>&quot;std&quot;</td><td>6.8508e16</td><td>null</td><td>null</td><td>null</td><td>16414.560844</td><td>976.353689</td><td>0.050031</td><td>10.903919</td><td>6.322059</td><td>108.117865</td><td>436.521415</td><td>32.377223</td><td>0.302481</td><td>355.671163</td><td>0.0</td><td>0.045513</td><td>0.0</td><td>3.870531</td><td>0.0</td><td>0.0</td><td>333.838003</td><td>333.753866</td><td>null</td><td>null</td><td>null</td><td>null</td><td>null</td><td>null</td><td>null</td><td>null</td><td>null</td><td>null</td><td>null</td><td>null</td><td>null</td><td>null</td><td>null</td><td>null</td><td>null</td><td>null</td></tr><tr><td>&quot;min&quot;</td><td>1.2126e18</td><td>&quot;https://twitte…</td><td>&quot;&quot;i&quot; has a spec…</td><td>&quot;2020-01-02 03:…</td><td>7.0</td><td>0.0</td><td>0.0</td><td>0.0</td><td>0.0</td><td>0.0</td><td>0.0</td><td>0.0</td><td>0.0</td><td>0.0</td><td>0.0</td><td>0.0</td><td>0.0</td><td>0.0</td><td>0.0</td><td>0.0</td><td>0.0</td><td>0.0</td><td>null</td><td>null</td><td>null</td><td>null</td><td>null</td><td>null</td><td>null</td><td>null</td><td>null</td><td>null</td><td>null</td><td>null</td><td>null</td><td>null</td><td>null</td><td>null</td><td>null</td><td>null</td></tr><tr><td>&quot;max&quot;</td><td>1.4770e18</td><td>&quot;https://twitte…</td><td>&quot;🤯🙏 https://t.c…</td><td>&quot;2021-12-31 21:…</td><td>856749.0</td><td>45660.0</td><td>0.484127</td><td>465.0</td><td>207.0</td><td>5358.0</td><td>22393.0</td><td>1272.0</td><td>12.0</td><td>17078.0</td><td>0.0</td><td>3.0</td><td>0.0</td><td>191.0</td><td>0.0</td><td>0.0</td><td>16816.0</td><td>16816.0</td><td>null</td><td>null</td><td>null</td><td>null</td><td>null</td><td>null</td><td>null</td><td>null</td><td>null</td><td>null</td><td>null</td><td>null</td><td>null</td><td>null</td><td>null</td><td>null</td><td>null</td><td>null</td></tr><tr><td>&quot;median&quot;</td><td>1.3589e18</td><td>null</td><td>null</td><td>null</td><td>612.0</td><td>7.0</td><td>0.016043</td><td>0.0</td><td>0.0</td><td>1.0</td><td>1.0</td><td>0.0</td><td>0.0</td><td>3.0</td><td>0.0</td><td>0.0</td><td>0.0</td><td>0.0</td><td>0.0</td><td>0.0</td><td>0.0</td><td>0.0</td><td>null</td><td>null</td><td>null</td><td>null</td><td>null</td><td>null</td><td>null</td><td>null</td><td>null</td><td>null</td><td>null</td><td>null</td><td>null</td><td>null</td><td>null</td><td>null</td><td>null</td><td>null</td></tr><tr><td>&quot;25%&quot;</td><td>1.3142e18</td><td>null</td><td>null</td><td>null</td><td>175.0</td><td>3.0</td><td>0.00706</td><td>0.0</td><td>0.0</td><td>0.0</td><td>0.0</td><td>0.0</td><td>0.0</td><td>1.0</td><td>0.0</td><td>0.0</td><td>0.0</td><td>0.0</td><td>0.0</td><td>0.0</td><td>0.0</td><td>0.0</td><td>null</td><td>null</td><td>null</td><td>null</td><td>null</td><td>null</td><td>null</td><td>null</td><td>null</td><td>null</td><td>null</td><td>null</td><td>null</td><td>null</td><td>null</td><td>null</td><td>null</td><td>null</td></tr><tr><td>&quot;75%&quot;</td><td>1.4155e18</td><td>null</td><td>null</td><td>null</td><td>1617.0</td><td>25.0</td><td>0.040902</td><td>0.0</td><td>1.0</td><td>4.0</td><td>4.0</td><td>0.0</td><td>0.0</td><td>8.0</td><td>0.0</td><td>0.0</td><td>0.0</td><td>0.0</td><td>0.0</td><td>0.0</td><td>0.0</td><td>0.0</td><td>null</td><td>null</td><td>null</td><td>null</td><td>null</td><td>null</td><td>null</td><td>null</td><td>null</td><td>null</td><td>null</td><td>null</td><td>null</td><td>null</td><td>null</td><td>null</td><td>null</td><td>null</td></tr></tbody></table></div>"
      ],
      "text/plain": [
       "shape: (14, 41)\n",
       "┌──────────┬───────────┬───────────────┬───────────────┬───┬──────────────┬──────────────┬──────────────┬──────────────┐\n",
       "│ describe ┆ Tweet id  ┆ Tweet         ┆ Tweet text    ┆ … ┆ promoted     ┆ promoted     ┆ promoted     ┆ promoted     │\n",
       "│ ---      ┆ ---       ┆ permalink     ┆ ---           ┆   ┆ email tweet  ┆ dial phone   ┆ media views  ┆ media        │\n",
       "│ str      ┆ f64       ┆ ---           ┆ str           ┆   ┆ ---          ┆ ---          ┆ ---          ┆ engagements  │\n",
       "│          ┆           ┆ str           ┆               ┆   ┆ str          ┆ str          ┆ str          ┆ ---          │\n",
       "│          ┆           ┆               ┆               ┆   ┆              ┆              ┆              ┆ str          │\n",
       "╞══════════╪═══════════╪═══════════════╪═══════════════╪═══╪══════════════╪══════════════╪══════════════╪══════════════╡\n",
       "│ Q0       ┆ 1.2126e18 ┆ null          ┆ null          ┆ … ┆ null         ┆ null         ┆ null         ┆ null         │\n",
       "│ Q0.25    ┆ 1.3142e18 ┆ null          ┆ null          ┆ … ┆ null         ┆ null         ┆ null         ┆ null         │\n",
       "│ Q0.5     ┆ 1.3589e18 ┆ null          ┆ null          ┆ … ┆ null         ┆ null         ┆ null         ┆ null         │\n",
       "│ Q0.75    ┆ 1.4155e18 ┆ null          ┆ null          ┆ … ┆ null         ┆ null         ┆ null         ┆ null         │\n",
       "│ …        ┆ …         ┆ …             ┆ …             ┆ … ┆ …            ┆ …            ┆ …            ┆ …            │\n",
       "│ max      ┆ 1.4770e18 ┆ https://twitt ┆ 🤯🙏 https:// ┆ … ┆ null         ┆ null         ┆ null         ┆ null         │\n",
       "│          ┆           ┆ er.com/__mhar ┆ t.co/AsLaS3Hr ┆   ┆              ┆              ┆              ┆              │\n",
       "│          ┆           ┆ rison_…       ┆ dv            ┆   ┆              ┆              ┆              ┆              │\n",
       "│ median   ┆ 1.3589e18 ┆ null          ┆ null          ┆ … ┆ null         ┆ null         ┆ null         ┆ null         │\n",
       "│ 25%      ┆ 1.3142e18 ┆ null          ┆ null          ┆ … ┆ null         ┆ null         ┆ null         ┆ null         │\n",
       "│ 75%      ┆ 1.4155e18 ┆ null          ┆ null          ┆ … ┆ null         ┆ null         ┆ null         ┆ null         │\n",
       "└──────────┴───────────┴───────────────┴───────────────┴───┴──────────────┴──────────────┴──────────────┴──────────────┘"
      ]
     },
     "execution_count": 12,
     "metadata": {},
     "output_type": "execute_result"
    }
   ],
   "source": [
    "# Refactor into function\n",
    "# Can we make this lazy?\n",
    "def pd_describe(a_df):\n",
    "    cols = ['describe', *a_df.columns]\n",
    "    return (pl.concat(\n",
    "        [*[a_df\n",
    "            .quantile(val)\n",
    "            .with_columns(pl.lit(f'Q{val}').alias('describe'))\n",
    "            .select(cols)\n",
    "            for val in [0, .25, .5, .75, 1]],\n",
    "         a_df.describe()\n",
    "        ],\n",
    "        how='vertical'\n",
    "        )\n",
    "    )\n",
    "\n",
    "df.pipe(pd_describe)"
   ]
  },
  {
   "cell_type": "code",
   "execution_count": 57,
   "metadata": {
    "scrolled": true
   },
   "outputs": [
    {
     "data": {
      "text/html": [
       "<div><style>\n",
       ".dataframe > thead > tr > th,\n",
       ".dataframe > tbody > tr > td {\n",
       "  text-align: right;\n",
       "}\n",
       "</style>\n",
       "<small>shape: (5791, 8)</small><table border=\"1\" class=\"dataframe\"><thead><tr><th>Tweet id</th><th>app opens</th><th>app installs</th><th>follows</th><th>email tweet</th><th>dial phone</th><th>media views</th><th>media engagements</th></tr><tr><td>i64</td><td>i64</td><td>i64</td><td>i64</td><td>i64</td><td>i64</td><td>i64</td><td>i64</td></tr></thead><tbody><tr><td>1212580517905780737</td><td>0</td><td>0</td><td>0</td><td>0</td><td>0</td><td>0</td><td>0</td></tr><tr><td>1212582494828036097</td><td>0</td><td>0</td><td>0</td><td>0</td><td>0</td><td>0</td><td>0</td></tr><tr><td>1212613735698690049</td><td>0</td><td>0</td><td>0</td><td>0</td><td>0</td><td>0</td><td>0</td></tr><tr><td>1212911749617242113</td><td>0</td><td>0</td><td>0</td><td>0</td><td>0</td><td>0</td><td>0</td></tr><tr><td>1212920556028252160</td><td>0</td><td>0</td><td>0</td><td>0</td><td>0</td><td>0</td><td>0</td></tr><tr><td>1212921038356434947</td><td>0</td><td>0</td><td>0</td><td>0</td><td>0</td><td>0</td><td>0</td></tr><tr><td>1212921192287330304</td><td>0</td><td>0</td><td>0</td><td>0</td><td>0</td><td>0</td><td>0</td></tr><tr><td>1212969747186208768</td><td>0</td><td>0</td><td>0</td><td>0</td><td>0</td><td>0</td><td>0</td></tr><tr><td>1212971634019033088</td><td>0</td><td>0</td><td>0</td><td>0</td><td>0</td><td>0</td><td>0</td></tr><tr><td>1213194379793293312</td><td>0</td><td>0</td><td>0</td><td>0</td><td>0</td><td>0</td><td>0</td></tr><tr><td>1213699561962631168</td><td>0</td><td>0</td><td>0</td><td>0</td><td>0</td><td>0</td><td>0</td></tr><tr><td>1213896543985516544</td><td>0</td><td>0</td><td>0</td><td>0</td><td>0</td><td>0</td><td>0</td></tr><tr><td>&hellip;</td><td>&hellip;</td><td>&hellip;</td><td>&hellip;</td><td>&hellip;</td><td>&hellip;</td><td>&hellip;</td><td>&hellip;</td></tr><tr><td>1474805013343981570</td><td>0</td><td>0</td><td>0</td><td>0</td><td>0</td><td>0</td><td>0</td></tr><tr><td>1474820707234185217</td><td>0</td><td>0</td><td>0</td><td>0</td><td>0</td><td>178</td><td>178</td></tr><tr><td>1475023008620154882</td><td>0</td><td>0</td><td>0</td><td>0</td><td>0</td><td>221</td><td>221</td></tr><tr><td>1475299210291343362</td><td>0</td><td>0</td><td>0</td><td>0</td><td>0</td><td>31</td><td>31</td></tr><tr><td>1475299401681682434</td><td>0</td><td>0</td><td>0</td><td>0</td><td>0</td><td>0</td><td>0</td></tr><tr><td>1475299848093978626</td><td>0</td><td>0</td><td>0</td><td>0</td><td>0</td><td>0</td><td>0</td></tr><tr><td>1475300370138087426</td><td>0</td><td>0</td><td>0</td><td>0</td><td>0</td><td>0</td><td>0</td></tr><tr><td>1475300661851934721</td><td>0</td><td>0</td><td>0</td><td>0</td><td>0</td><td>0</td><td>0</td></tr><tr><td>1475518143690801156</td><td>0</td><td>0</td><td>0</td><td>0</td><td>0</td><td>0</td><td>0</td></tr><tr><td>1475891441243025408</td><td>0</td><td>0</td><td>0</td><td>0</td><td>0</td><td>0</td><td>0</td></tr><tr><td>1476453819751878656</td><td>0</td><td>0</td><td>0</td><td>0</td><td>0</td><td>0</td><td>0</td></tr><tr><td>1477024722051158018</td><td>0</td><td>0</td><td>0</td><td>0</td><td>0</td><td>0</td><td>0</td></tr></tbody></table></div>"
      ],
      "text/plain": [
       "shape: (5_791, 8)\n",
       "┌─────────────┬───────────┬────────────┬─────────┬───────────┬────────────┬───────────┬────────────┐\n",
       "│ Tweet id    ┆ app opens ┆ app        ┆ follows ┆ email     ┆ dial phone ┆ media     ┆ media enga │\n",
       "│ ---         ┆ ---       ┆ installs   ┆ ---     ┆ tweet     ┆ ---        ┆ views     ┆ gements    │\n",
       "│ i64         ┆ i64       ┆ ---        ┆ i64     ┆ ---       ┆ i64        ┆ ---       ┆ ---        │\n",
       "│             ┆           ┆ i64        ┆         ┆ i64       ┆            ┆ i64       ┆ i64        │\n",
       "╞═════════════╪═══════════╪════════════╪═════════╪═══════════╪════════════╪═══════════╪════════════╡\n",
       "│ 12125805179 ┆ 0         ┆ 0          ┆ 0       ┆ 0         ┆ 0          ┆ 0         ┆ 0          │\n",
       "│ 05780737    ┆           ┆            ┆         ┆           ┆            ┆           ┆            │\n",
       "│ 12125824948 ┆ 0         ┆ 0          ┆ 0       ┆ 0         ┆ 0          ┆ 0         ┆ 0          │\n",
       "│ 28036097    ┆           ┆            ┆         ┆           ┆            ┆           ┆            │\n",
       "│ 12126137356 ┆ 0         ┆ 0          ┆ 0       ┆ 0         ┆ 0          ┆ 0         ┆ 0          │\n",
       "│ 98690049    ┆           ┆            ┆         ┆           ┆            ┆           ┆            │\n",
       "│ 12129117496 ┆ 0         ┆ 0          ┆ 0       ┆ 0         ┆ 0          ┆ 0         ┆ 0          │\n",
       "│ 17242113    ┆           ┆            ┆         ┆           ┆            ┆           ┆            │\n",
       "│ …           ┆ …         ┆ …          ┆ …       ┆ …         ┆ …          ┆ …         ┆ …          │\n",
       "│ 14755181436 ┆ 0         ┆ 0          ┆ 0       ┆ 0         ┆ 0          ┆ 0         ┆ 0          │\n",
       "│ 90801156    ┆           ┆            ┆         ┆           ┆            ┆           ┆            │\n",
       "│ 14758914412 ┆ 0         ┆ 0          ┆ 0       ┆ 0         ┆ 0          ┆ 0         ┆ 0          │\n",
       "│ 43025408    ┆           ┆            ┆         ┆           ┆            ┆           ┆            │\n",
       "│ 14764538197 ┆ 0         ┆ 0          ┆ 0       ┆ 0         ┆ 0          ┆ 0         ┆ 0          │\n",
       "│ 51878656    ┆           ┆            ┆         ┆           ┆            ┆           ┆            │\n",
       "│ 14770247220 ┆ 0         ┆ 0          ┆ 0       ┆ 0         ┆ 0          ┆ 0         ┆ 0          │\n",
       "│ 51158018    ┆           ┆            ┆         ┆           ┆            ┆           ┆            │\n",
       "└─────────────┴───────────┴────────────┴─────────┴───────────┴────────────┴───────────┴────────────┘"
      ]
     },
     "execution_count": 57,
     "metadata": {},
     "output_type": "execute_result"
    }
   ],
   "source": [
    "# select dtypes\n",
    "df.select(pl.col(pl.Int64))"
   ]
  },
  {
   "cell_type": "code",
   "execution_count": 61,
   "metadata": {
    "scrolled": true
   },
   "outputs": [
    {
     "data": {
      "text/html": [
       "<div><style>\n",
       ".dataframe > thead > tr > th,\n",
       ".dataframe > tbody > tr > td {\n",
       "  text-align: right;\n",
       "}\n",
       "</style>\n",
       "<small>shape: (14, 9)</small><table border=\"1\" class=\"dataframe\"><thead><tr><th>describe</th><th>Tweet id</th><th>app opens</th><th>app installs</th><th>follows</th><th>email tweet</th><th>dial phone</th><th>media views</th><th>media engagements</th></tr><tr><td>str</td><td>f64</td><td>f64</td><td>f64</td><td>f64</td><td>f64</td><td>f64</td><td>f64</td><td>f64</td></tr></thead><tbody><tr><td>&quot;Q0&quot;</td><td>1.2126e18</td><td>0.0</td><td>0.0</td><td>0.0</td><td>0.0</td><td>0.0</td><td>0.0</td><td>0.0</td></tr><tr><td>&quot;Q0.25&quot;</td><td>1.3142e18</td><td>0.0</td><td>0.0</td><td>0.0</td><td>0.0</td><td>0.0</td><td>0.0</td><td>0.0</td></tr><tr><td>&quot;Q0.5&quot;</td><td>1.3589e18</td><td>0.0</td><td>0.0</td><td>0.0</td><td>0.0</td><td>0.0</td><td>0.0</td><td>0.0</td></tr><tr><td>&quot;Q0.75&quot;</td><td>1.4155e18</td><td>0.0</td><td>0.0</td><td>0.0</td><td>0.0</td><td>0.0</td><td>0.0</td><td>0.0</td></tr><tr><td>&quot;Q1&quot;</td><td>1.4770e18</td><td>3.0</td><td>0.0</td><td>191.0</td><td>0.0</td><td>0.0</td><td>16816.0</td><td>16816.0</td></tr><tr><td>&quot;count&quot;</td><td>5791.0</td><td>5791.0</td><td>5791.0</td><td>5791.0</td><td>5791.0</td><td>5791.0</td><td>5791.0</td><td>5791.0</td></tr><tr><td>&quot;null_count&quot;</td><td>0.0</td><td>0.0</td><td>0.0</td><td>0.0</td><td>0.0</td><td>0.0</td><td>0.0</td><td>0.0</td></tr><tr><td>&quot;mean&quot;</td><td>1.3604e18</td><td>0.001036</td><td>0.0</td><td>0.135901</td><td>0.0</td><td>0.0</td><td>39.868935</td><td>39.712485</td></tr><tr><td>&quot;std&quot;</td><td>6.8508e16</td><td>0.045513</td><td>0.0</td><td>3.870531</td><td>0.0</td><td>0.0</td><td>333.838003</td><td>333.753866</td></tr><tr><td>&quot;min&quot;</td><td>1.2126e18</td><td>0.0</td><td>0.0</td><td>0.0</td><td>0.0</td><td>0.0</td><td>0.0</td><td>0.0</td></tr><tr><td>&quot;max&quot;</td><td>1.4770e18</td><td>3.0</td><td>0.0</td><td>191.0</td><td>0.0</td><td>0.0</td><td>16816.0</td><td>16816.0</td></tr><tr><td>&quot;median&quot;</td><td>1.3589e18</td><td>0.0</td><td>0.0</td><td>0.0</td><td>0.0</td><td>0.0</td><td>0.0</td><td>0.0</td></tr><tr><td>&quot;25%&quot;</td><td>1.3142e18</td><td>0.0</td><td>0.0</td><td>0.0</td><td>0.0</td><td>0.0</td><td>0.0</td><td>0.0</td></tr><tr><td>&quot;75%&quot;</td><td>1.4155e18</td><td>0.0</td><td>0.0</td><td>0.0</td><td>0.0</td><td>0.0</td><td>0.0</td><td>0.0</td></tr></tbody></table></div>"
      ],
      "text/plain": [
       "shape: (14, 9)\n",
       "┌──────────┬───────────┬───────────┬────────────┬───┬───────────┬──────────┬───────────┬────────────┐\n",
       "│ describe ┆ Tweet id  ┆ app opens ┆ app        ┆ … ┆ email     ┆ dial     ┆ media     ┆ media enga │\n",
       "│ ---      ┆ ---       ┆ ---       ┆ installs   ┆   ┆ tweet     ┆ phone    ┆ views     ┆ gements    │\n",
       "│ str      ┆ f64       ┆ f64       ┆ ---        ┆   ┆ ---       ┆ ---      ┆ ---       ┆ ---        │\n",
       "│          ┆           ┆           ┆ f64        ┆   ┆ f64       ┆ f64      ┆ f64       ┆ f64        │\n",
       "╞══════════╪═══════════╪═══════════╪════════════╪═══╪═══════════╪══════════╪═══════════╪════════════╡\n",
       "│ Q0       ┆ 1.2126e18 ┆ 0.0       ┆ 0.0        ┆ … ┆ 0.0       ┆ 0.0      ┆ 0.0       ┆ 0.0        │\n",
       "│ Q0.25    ┆ 1.3142e18 ┆ 0.0       ┆ 0.0        ┆ … ┆ 0.0       ┆ 0.0      ┆ 0.0       ┆ 0.0        │\n",
       "│ Q0.5     ┆ 1.3589e18 ┆ 0.0       ┆ 0.0        ┆ … ┆ 0.0       ┆ 0.0      ┆ 0.0       ┆ 0.0        │\n",
       "│ Q0.75    ┆ 1.4155e18 ┆ 0.0       ┆ 0.0        ┆ … ┆ 0.0       ┆ 0.0      ┆ 0.0       ┆ 0.0        │\n",
       "│ …        ┆ …         ┆ …         ┆ …          ┆ … ┆ …         ┆ …        ┆ …         ┆ …          │\n",
       "│ max      ┆ 1.4770e18 ┆ 3.0       ┆ 0.0        ┆ … ┆ 0.0       ┆ 0.0      ┆ 16816.0   ┆ 16816.0    │\n",
       "│ median   ┆ 1.3589e18 ┆ 0.0       ┆ 0.0        ┆ … ┆ 0.0       ┆ 0.0      ┆ 0.0       ┆ 0.0        │\n",
       "│ 25%      ┆ 1.3142e18 ┆ 0.0       ┆ 0.0        ┆ … ┆ 0.0       ┆ 0.0      ┆ 0.0       ┆ 0.0        │\n",
       "│ 75%      ┆ 1.4155e18 ┆ 0.0       ┆ 0.0        ┆ … ┆ 0.0       ┆ 0.0      ┆ 0.0       ┆ 0.0        │\n",
       "└──────────┴───────────┴───────────┴────────────┴───┴───────────┴──────────┴───────────┴────────────┘"
      ]
     },
     "execution_count": 61,
     "metadata": {},
     "output_type": "execute_result"
    }
   ],
   "source": [
    "# select dtypes\n",
    "# look at max values\n",
    "(df\n",
    " .select(pl.col(pl.Int64))\n",
    " .pipe(pd_describe)\n",
    ")"
   ]
  },
  {
   "cell_type": "code",
   "execution_count": 62,
   "metadata": {
    "scrolled": true
   },
   "outputs": [
    {
     "data": {
      "text/html": [
       "<div><style>\n",
       ".dataframe > thead > tr > th,\n",
       ".dataframe > tbody > tr > td {\n",
       "  text-align: right;\n",
       "}\n",
       "</style>\n",
       "<small>shape: (5791,)</small><table border=\"1\" class=\"dataframe\"><thead><tr><th>impressions</th></tr><tr><td>f64</td></tr></thead><tbody><tr><td>1465.0</td></tr><tr><td>154.0</td></tr><tr><td>1024.0</td></tr><tr><td>1419.0</td></tr><tr><td>198.0</td></tr><tr><td>170.0</td></tr><tr><td>104.0</td></tr><tr><td>189.0</td></tr><tr><td>900.0</td></tr><tr><td>252.0</td></tr><tr><td>1610.0</td></tr><tr><td>165.0</td></tr><tr><td>&hellip;</td></tr><tr><td>416.0</td></tr><tr><td>15840.0</td></tr><tr><td>22557.0</td></tr><tr><td>1586.0</td></tr><tr><td>4641.0</td></tr><tr><td>1969.0</td></tr><tr><td>1669.0</td></tr><tr><td>986.0</td></tr><tr><td>1790.0</td></tr><tr><td>1611.0</td></tr><tr><td>1354.0</td></tr><tr><td>5041.0</td></tr></tbody></table></div>"
      ],
      "text/plain": [
       "shape: (5_791,)\n",
       "Series: 'impressions' [f64]\n",
       "[\n",
       "\t1465.0\n",
       "\t154.0\n",
       "\t1024.0\n",
       "\t1419.0\n",
       "\t198.0\n",
       "\t170.0\n",
       "\t104.0\n",
       "\t189.0\n",
       "\t900.0\n",
       "\t252.0\n",
       "\t1610.0\n",
       "\t165.0\n",
       "\t…\n",
       "\t8416.0\n",
       "\t416.0\n",
       "\t15840.0\n",
       "\t22557.0\n",
       "\t1586.0\n",
       "\t4641.0\n",
       "\t1969.0\n",
       "\t1669.0\n",
       "\t986.0\n",
       "\t1790.0\n",
       "\t1611.0\n",
       "\t1354.0\n",
       "\t5041.0\n",
       "]"
      ]
     },
     "execution_count": 62,
     "metadata": {},
     "output_type": "execute_result"
    }
   ],
   "source": [
    "# impressions is a float, can we convert to int?\n",
    "df['impressions']"
   ]
  },
  {
   "cell_type": "code",
   "execution_count": 64,
   "metadata": {
    "scrolled": true
   },
   "outputs": [
    {
     "data": {
      "text/html": [
       "<div><style>\n",
       ".dataframe > thead > tr > th,\n",
       ".dataframe > tbody > tr > td {\n",
       "  text-align: right;\n",
       "}\n",
       "</style>\n",
       "<small>shape: (5791,)</small><table border=\"1\" class=\"dataframe\"><thead><tr><th>impressions</th></tr><tr><td>i32</td></tr></thead><tbody><tr><td>1465</td></tr><tr><td>154</td></tr><tr><td>1024</td></tr><tr><td>1419</td></tr><tr><td>198</td></tr><tr><td>170</td></tr><tr><td>104</td></tr><tr><td>189</td></tr><tr><td>900</td></tr><tr><td>252</td></tr><tr><td>1610</td></tr><tr><td>165</td></tr><tr><td>&hellip;</td></tr><tr><td>416</td></tr><tr><td>15840</td></tr><tr><td>22557</td></tr><tr><td>1586</td></tr><tr><td>4641</td></tr><tr><td>1969</td></tr><tr><td>1669</td></tr><tr><td>986</td></tr><tr><td>1790</td></tr><tr><td>1611</td></tr><tr><td>1354</td></tr><tr><td>5041</td></tr></tbody></table></div>"
      ],
      "text/plain": [
       "shape: (5_791,)\n",
       "Series: 'impressions' [i32]\n",
       "[\n",
       "\t1465\n",
       "\t154\n",
       "\t1024\n",
       "\t1419\n",
       "\t198\n",
       "\t170\n",
       "\t104\n",
       "\t189\n",
       "\t900\n",
       "\t252\n",
       "\t1610\n",
       "\t165\n",
       "\t…\n",
       "\t8416\n",
       "\t416\n",
       "\t15840\n",
       "\t22557\n",
       "\t1586\n",
       "\t4641\n",
       "\t1969\n",
       "\t1669\n",
       "\t986\n",
       "\t1790\n",
       "\t1611\n",
       "\t1354\n",
       "\t5041\n",
       "]"
      ]
     },
     "execution_count": 64,
     "metadata": {},
     "output_type": "execute_result"
    }
   ],
   "source": [
    "df['impressions'].cast(pl.Int32)"
   ]
  },
  {
   "cell_type": "code",
   "execution_count": 63,
   "metadata": {
    "scrolled": true
   },
   "outputs": [
    {
     "data": {
      "text/html": [
       "<div><style>\n",
       ".dataframe > thead > tr > th,\n",
       ".dataframe > tbody > tr > td {\n",
       "  text-align: right;\n",
       "}\n",
       "</style>\n",
       "<small>shape: (5791, 1)</small><table border=\"1\" class=\"dataframe\"><thead><tr><th>impressions</th></tr><tr><td>i32</td></tr></thead><tbody><tr><td>1465</td></tr><tr><td>154</td></tr><tr><td>1024</td></tr><tr><td>1419</td></tr><tr><td>198</td></tr><tr><td>170</td></tr><tr><td>104</td></tr><tr><td>189</td></tr><tr><td>900</td></tr><tr><td>252</td></tr><tr><td>1610</td></tr><tr><td>165</td></tr><tr><td>&hellip;</td></tr><tr><td>416</td></tr><tr><td>15840</td></tr><tr><td>22557</td></tr><tr><td>1586</td></tr><tr><td>4641</td></tr><tr><td>1969</td></tr><tr><td>1669</td></tr><tr><td>986</td></tr><tr><td>1790</td></tr><tr><td>1611</td></tr><tr><td>1354</td></tr><tr><td>5041</td></tr></tbody></table></div>"
      ],
      "text/plain": [
       "shape: (5_791, 1)\n",
       "┌─────────────┐\n",
       "│ impressions │\n",
       "│ ---         │\n",
       "│ i32         │\n",
       "╞═════════════╡\n",
       "│ 1465        │\n",
       "│ 154         │\n",
       "│ 1024        │\n",
       "│ 1419        │\n",
       "│ …           │\n",
       "│ 1790        │\n",
       "│ 1611        │\n",
       "│ 1354        │\n",
       "│ 5041        │\n",
       "└─────────────┘"
      ]
     },
     "execution_count": 63,
     "metadata": {},
     "output_type": "execute_result"
    }
   ],
   "source": [
    "# Work with expression\n",
    "df.select(pl.col('impressions').cast(pl.Int32))"
   ]
  },
  {
   "cell_type": "code",
   "execution_count": 66,
   "metadata": {
    "scrolled": true
   },
   "outputs": [
    {
     "data": {
      "text/html": [
       "<div><style>\n",
       ".dataframe > thead > tr > th,\n",
       ".dataframe > tbody > tr > td {\n",
       "  text-align: right;\n",
       "}\n",
       "</style>\n",
       "<small>shape: (5791, 40)</small><table border=\"1\" class=\"dataframe\"><thead><tr><th>Tweet id</th><th>Tweet permalink</th><th>Tweet text</th><th>time</th><th>impressions</th><th>engagements</th><th>engagement rate</th><th>retweets</th><th>replies</th><th>likes</th><th>user profile clicks</th><th>url clicks</th><th>hashtag clicks</th><th>detail expands</th><th>permalink clicks</th><th>app opens</th><th>app installs</th><th>follows</th><th>email tweet</th><th>dial phone</th><th>media views</th><th>media engagements</th><th>promoted impressions</th><th>promoted engagements</th><th>promoted engagement rate</th><th>promoted retweets</th><th>promoted replies</th><th>promoted likes</th><th>promoted user profile clicks</th><th>promoted url clicks</th><th>promoted hashtag clicks</th><th>promoted detail expands</th><th>promoted permalink clicks</th><th>promoted app opens</th><th>promoted app installs</th><th>promoted follows</th><th>promoted email tweet</th><th>promoted dial phone</th><th>promoted media views</th><th>promoted media engagements</th></tr><tr><td>i64</td><td>str</td><td>str</td><td>str</td><td>i32</td><td>f64</td><td>f64</td><td>f64</td><td>f64</td><td>f64</td><td>f64</td><td>f64</td><td>f64</td><td>f64</td><td>f64</td><td>i64</td><td>i64</td><td>i64</td><td>i64</td><td>i64</td><td>i64</td><td>i64</td><td>str</td><td>str</td><td>str</td><td>str</td><td>str</td><td>str</td><td>str</td><td>str</td><td>str</td><td>str</td><td>str</td><td>str</td><td>str</td><td>str</td><td>str</td><td>str</td><td>str</td><td>str</td></tr></thead><tbody><tr><td>1212580517905780737</td><td>&quot;https://twitte…</td><td>&quot;Sounds like a …</td><td>&quot;2020-01-02 03:…</td><td>1465</td><td>7.0</td><td>0.004778</td><td>0.0</td><td>0.0</td><td>3.0</td><td>3.0</td><td>0.0</td><td>0.0</td><td>1.0</td><td>0.0</td><td>0</td><td>0</td><td>0</td><td>0</td><td>0</td><td>0</td><td>0</td><td>null</td><td>null</td><td>null</td><td>null</td><td>null</td><td>null</td><td>null</td><td>null</td><td>null</td><td>null</td><td>null</td><td>null</td><td>null</td><td>null</td><td>null</td><td>null</td><td>null</td><td>null</td></tr><tr><td>1212582494828036097</td><td>&quot;https://twitte…</td><td>&quot;@FogleBird Loo…</td><td>&quot;2020-01-02 03:…</td><td>154</td><td>3.0</td><td>0.019481</td><td>0.0</td><td>0.0</td><td>1.0</td><td>1.0</td><td>0.0</td><td>0.0</td><td>1.0</td><td>0.0</td><td>0</td><td>0</td><td>0</td><td>0</td><td>0</td><td>0</td><td>0</td><td>null</td><td>null</td><td>null</td><td>null</td><td>null</td><td>null</td><td>null</td><td>null</td><td>null</td><td>null</td><td>null</td><td>null</td><td>null</td><td>null</td><td>null</td><td>null</td><td>null</td><td>null</td></tr><tr><td>1212613735698690049</td><td>&quot;https://twitte…</td><td>&quot;@afilina That&#x27;…</td><td>&quot;2020-01-02 05:…</td><td>1024</td><td>6.0</td><td>0.005859</td><td>0.0</td><td>0.0</td><td>1.0</td><td>2.0</td><td>0.0</td><td>0.0</td><td>3.0</td><td>0.0</td><td>0</td><td>0</td><td>0</td><td>0</td><td>0</td><td>0</td><td>0</td><td>null</td><td>null</td><td>null</td><td>null</td><td>null</td><td>null</td><td>null</td><td>null</td><td>null</td><td>null</td><td>null</td><td>null</td><td>null</td><td>null</td><td>null</td><td>null</td><td>null</td><td>null</td></tr><tr><td>1212911749617242113</td><td>&quot;https://twitte…</td><td>&quot;@randal_olson …</td><td>&quot;2020-01-03 01:…</td><td>1419</td><td>14.0</td><td>0.009866</td><td>0.0</td><td>1.0</td><td>5.0</td><td>7.0</td><td>0.0</td><td>0.0</td><td>1.0</td><td>0.0</td><td>0</td><td>0</td><td>0</td><td>0</td><td>0</td><td>0</td><td>0</td><td>null</td><td>null</td><td>null</td><td>null</td><td>null</td><td>null</td><td>null</td><td>null</td><td>null</td><td>null</td><td>null</td><td>null</td><td>null</td><td>null</td><td>null</td><td>null</td><td>null</td><td>null</td></tr><tr><td>1212920556028252160</td><td>&quot;https://twitte…</td><td>&quot;@AlSweigart So…</td><td>&quot;2020-01-03 02:…</td><td>198</td><td>1.0</td><td>0.005051</td><td>0.0</td><td>0.0</td><td>1.0</td><td>0.0</td><td>0.0</td><td>0.0</td><td>0.0</td><td>0.0</td><td>0</td><td>0</td><td>0</td><td>0</td><td>0</td><td>0</td><td>0</td><td>null</td><td>null</td><td>null</td><td>null</td><td>null</td><td>null</td><td>null</td><td>null</td><td>null</td><td>null</td><td>null</td><td>null</td><td>null</td><td>null</td><td>null</td><td>null</td><td>null</td><td>null</td></tr><tr><td>1212921038356434947</td><td>&quot;https://twitte…</td><td>&quot;@tmarthal @Ted…</td><td>&quot;2020-01-03 02:…</td><td>170</td><td>3.0</td><td>0.017647</td><td>0.0</td><td>0.0</td><td>1.0</td><td>1.0</td><td>0.0</td><td>0.0</td><td>1.0</td><td>0.0</td><td>0</td><td>0</td><td>0</td><td>0</td><td>0</td><td>0</td><td>0</td><td>null</td><td>null</td><td>null</td><td>null</td><td>null</td><td>null</td><td>null</td><td>null</td><td>null</td><td>null</td><td>null</td><td>null</td><td>null</td><td>null</td><td>null</td><td>null</td><td>null</td><td>null</td></tr><tr><td>1212921192287330304</td><td>&quot;https://twitte…</td><td>&quot;@gabegundy It&#x27;…</td><td>&quot;2020-01-03 02:…</td><td>104</td><td>2.0</td><td>0.019231</td><td>0.0</td><td>1.0</td><td>1.0</td><td>0.0</td><td>0.0</td><td>0.0</td><td>0.0</td><td>0.0</td><td>0</td><td>0</td><td>0</td><td>0</td><td>0</td><td>0</td><td>0</td><td>null</td><td>null</td><td>null</td><td>null</td><td>null</td><td>null</td><td>null</td><td>null</td><td>null</td><td>null</td><td>null</td><td>null</td><td>null</td><td>null</td><td>null</td><td>null</td><td>null</td><td>null</td></tr><tr><td>1212969747186208768</td><td>&quot;https://twitte…</td><td>&quot;@anthonypjshaw…</td><td>&quot;2020-01-03 05:…</td><td>189</td><td>0.0</td><td>0.0</td><td>0.0</td><td>0.0</td><td>0.0</td><td>0.0</td><td>0.0</td><td>0.0</td><td>0.0</td><td>0.0</td><td>0</td><td>0</td><td>0</td><td>0</td><td>0</td><td>0</td><td>0</td><td>null</td><td>null</td><td>null</td><td>null</td><td>null</td><td>null</td><td>null</td><td>null</td><td>null</td><td>null</td><td>null</td><td>null</td><td>null</td><td>null</td><td>null</td><td>null</td><td>null</td><td>null</td></tr><tr><td>1212971634019033088</td><td>&quot;https://twitte…</td><td>&quot;@jet_set A lit…</td><td>&quot;2020-01-03 05:…</td><td>900</td><td>4.0</td><td>0.004444</td><td>0.0</td><td>0.0</td><td>0.0</td><td>4.0</td><td>0.0</td><td>0.0</td><td>0.0</td><td>0.0</td><td>0</td><td>0</td><td>0</td><td>0</td><td>0</td><td>0</td><td>0</td><td>null</td><td>null</td><td>null</td><td>null</td><td>null</td><td>null</td><td>null</td><td>null</td><td>null</td><td>null</td><td>null</td><td>null</td><td>null</td><td>null</td><td>null</td><td>null</td><td>null</td><td>null</td></tr><tr><td>1213194379793293312</td><td>&quot;https://twitte…</td><td>&quot;@juliasilge @r…</td><td>&quot;2020-01-03 20:…</td><td>252</td><td>2.0</td><td>0.007937</td><td>0.0</td><td>0.0</td><td>1.0</td><td>1.0</td><td>0.0</td><td>0.0</td><td>0.0</td><td>0.0</td><td>0</td><td>0</td><td>0</td><td>0</td><td>0</td><td>0</td><td>0</td><td>null</td><td>null</td><td>null</td><td>null</td><td>null</td><td>null</td><td>null</td><td>null</td><td>null</td><td>null</td><td>null</td><td>null</td><td>null</td><td>null</td><td>null</td><td>null</td><td>null</td><td>null</td></tr><tr><td>1213699561962631168</td><td>&quot;https://twitte…</td><td>&quot;Herein you wil…</td><td>&quot;2020-01-05 05:…</td><td>1610</td><td>6.0</td><td>0.003727</td><td>0.0</td><td>0.0</td><td>2.0</td><td>2.0</td><td>0.0</td><td>0.0</td><td>2.0</td><td>0.0</td><td>0</td><td>0</td><td>0</td><td>0</td><td>0</td><td>0</td><td>0</td><td>null</td><td>null</td><td>null</td><td>null</td><td>null</td><td>null</td><td>null</td><td>null</td><td>null</td><td>null</td><td>null</td><td>null</td><td>null</td><td>null</td><td>null</td><td>null</td><td>null</td><td>null</td></tr><tr><td>1213896543985516544</td><td>&quot;https://twitte…</td><td>&quot;@Austen Care t…</td><td>&quot;2020-01-05 18:…</td><td>165</td><td>3.0</td><td>0.018182</td><td>0.0</td><td>0.0</td><td>0.0</td><td>1.0</td><td>0.0</td><td>0.0</td><td>2.0</td><td>0.0</td><td>0</td><td>0</td><td>0</td><td>0</td><td>0</td><td>0</td><td>0</td><td>null</td><td>null</td><td>null</td><td>null</td><td>null</td><td>null</td><td>null</td><td>null</td><td>null</td><td>null</td><td>null</td><td>null</td><td>null</td><td>null</td><td>null</td><td>null</td><td>null</td><td>null</td></tr><tr><td>&hellip;</td><td>&hellip;</td><td>&hellip;</td><td>&hellip;</td><td>&hellip;</td><td>&hellip;</td><td>&hellip;</td><td>&hellip;</td><td>&hellip;</td><td>&hellip;</td><td>&hellip;</td><td>&hellip;</td><td>&hellip;</td><td>&hellip;</td><td>&hellip;</td><td>&hellip;</td><td>&hellip;</td><td>&hellip;</td><td>&hellip;</td><td>&hellip;</td><td>&hellip;</td><td>&hellip;</td><td>&hellip;</td><td>&hellip;</td><td>&hellip;</td><td>&hellip;</td><td>&hellip;</td><td>&hellip;</td><td>&hellip;</td><td>&hellip;</td><td>&hellip;</td><td>&hellip;</td><td>&hellip;</td><td>&hellip;</td><td>&hellip;</td><td>&hellip;</td><td>&hellip;</td><td>&hellip;</td><td>&hellip;</td><td>&hellip;</td></tr><tr><td>1474805013343981570</td><td>&quot;https://twitte…</td><td>&quot;@EricSchles @s…</td><td>&quot;2021-12-25 18:…</td><td>416</td><td>3.0</td><td>0.007212</td><td>0.0</td><td>0.0</td><td>2.0</td><td>1.0</td><td>0.0</td><td>0.0</td><td>0.0</td><td>0.0</td><td>0</td><td>0</td><td>0</td><td>0</td><td>0</td><td>0</td><td>0</td><td>null</td><td>null</td><td>null</td><td>null</td><td>null</td><td>null</td><td>null</td><td>null</td><td>null</td><td>null</td><td>null</td><td>null</td><td>null</td><td>null</td><td>null</td><td>null</td><td>null</td><td>null</td></tr><tr><td>1474820707234185217</td><td>&quot;https://twitte…</td><td>&quot;Mele kalikimak…</td><td>&quot;2021-12-25 19:…</td><td>15840</td><td>372.0</td><td>0.023485</td><td>0.0</td><td>2.0</td><td>61.0</td><td>59.0</td><td>6.0</td><td>0.0</td><td>66.0</td><td>0.0</td><td>0</td><td>0</td><td>0</td><td>0</td><td>0</td><td>178</td><td>178</td><td>null</td><td>null</td><td>null</td><td>null</td><td>null</td><td>null</td><td>null</td><td>null</td><td>null</td><td>null</td><td>null</td><td>null</td><td>null</td><td>null</td><td>null</td><td>null</td><td>null</td><td>null</td></tr><tr><td>1475023008620154882</td><td>&quot;https://twitte…</td><td>&quot;Good looking c…</td><td>&quot;2021-12-26 08:…</td><td>22557</td><td>501.0</td><td>0.02221</td><td>0.0</td><td>9.0</td><td>50.0</td><td>89.0</td><td>14.0</td><td>0.0</td><td>118.0</td><td>0.0</td><td>0</td><td>0</td><td>0</td><td>0</td><td>0</td><td>221</td><td>221</td><td>null</td><td>null</td><td>null</td><td>null</td><td>null</td><td>null</td><td>null</td><td>null</td><td>null</td><td>null</td><td>null</td><td>null</td><td>null</td><td>null</td><td>null</td><td>null</td><td>null</td><td>null</td></tr><tr><td>1475299210291343362</td><td>&quot;https://twitte…</td><td>&quot;@youtah A litt…</td><td>&quot;2021-12-27 02:…</td><td>1586</td><td>35.0</td><td>0.022068</td><td>0.0</td><td>0.0</td><td>2.0</td><td>1.0</td><td>1.0</td><td>0.0</td><td>0.0</td><td>0.0</td><td>0</td><td>0</td><td>0</td><td>0</td><td>0</td><td>31</td><td>31</td><td>null</td><td>null</td><td>null</td><td>null</td><td>null</td><td>null</td><td>null</td><td>null</td><td>null</td><td>null</td><td>null</td><td>null</td><td>null</td><td>null</td><td>null</td><td>null</td><td>null</td><td>null</td></tr><tr><td>1475299401681682434</td><td>&quot;https://twitte…</td><td>&quot;@mathsppblog S…</td><td>&quot;2021-12-27 02:…</td><td>4641</td><td>35.0</td><td>0.007541</td><td>0.0</td><td>4.0</td><td>11.0</td><td>10.0</td><td>0.0</td><td>0.0</td><td>10.0</td><td>0.0</td><td>0</td><td>0</td><td>0</td><td>0</td><td>0</td><td>0</td><td>0</td><td>null</td><td>null</td><td>null</td><td>null</td><td>null</td><td>null</td><td>null</td><td>null</td><td>null</td><td>null</td><td>null</td><td>null</td><td>null</td><td>null</td><td>null</td><td>null</td><td>null</td><td>null</td></tr><tr><td>1475299848093978626</td><td>&quot;https://twitte…</td><td>&quot;@willmcgugan P…</td><td>&quot;2021-12-27 02:…</td><td>1969</td><td>4.0</td><td>0.002031</td><td>0.0</td><td>0.0</td><td>4.0</td><td>0.0</td><td>0.0</td><td>0.0</td><td>0.0</td><td>0.0</td><td>0</td><td>0</td><td>0</td><td>0</td><td>0</td><td>0</td><td>0</td><td>null</td><td>null</td><td>null</td><td>null</td><td>null</td><td>null</td><td>null</td><td>null</td><td>null</td><td>null</td><td>null</td><td>null</td><td>null</td><td>null</td><td>null</td><td>null</td><td>null</td><td>null</td></tr><tr><td>1475300370138087426</td><td>&quot;https://twitte…</td><td>&quot;@reuvenmlerner…</td><td>&quot;2021-12-27 02:…</td><td>1669</td><td>5.0</td><td>0.002996</td><td>0.0</td><td>0.0</td><td>3.0</td><td>0.0</td><td>0.0</td><td>0.0</td><td>2.0</td><td>0.0</td><td>0</td><td>0</td><td>0</td><td>0</td><td>0</td><td>0</td><td>0</td><td>null</td><td>null</td><td>null</td><td>null</td><td>null</td><td>null</td><td>null</td><td>null</td><td>null</td><td>null</td><td>null</td><td>null</td><td>null</td><td>null</td><td>null</td><td>null</td><td>null</td><td>null</td></tr><tr><td>1475300661851934721</td><td>&quot;https://twitte…</td><td>&quot;@allison_horst…</td><td>&quot;2021-12-27 03:…</td><td>986</td><td>1.0</td><td>0.001014</td><td>0.0</td><td>0.0</td><td>0.0</td><td>0.0</td><td>0.0</td><td>0.0</td><td>1.0</td><td>0.0</td><td>0</td><td>0</td><td>0</td><td>0</td><td>0</td><td>0</td><td>0</td><td>null</td><td>null</td><td>null</td><td>null</td><td>null</td><td>null</td><td>null</td><td>null</td><td>null</td><td>null</td><td>null</td><td>null</td><td>null</td><td>null</td><td>null</td><td>null</td><td>null</td><td>null</td></tr><tr><td>1475518143690801156</td><td>&quot;https://twitte…</td><td>&quot;@willmcgugan Y…</td><td>&quot;2021-12-27 17:…</td><td>1790</td><td>7.0</td><td>0.003911</td><td>0.0</td><td>0.0</td><td>3.0</td><td>1.0</td><td>0.0</td><td>0.0</td><td>3.0</td><td>0.0</td><td>0</td><td>0</td><td>0</td><td>0</td><td>0</td><td>0</td><td>0</td><td>null</td><td>null</td><td>null</td><td>null</td><td>null</td><td>null</td><td>null</td><td>null</td><td>null</td><td>null</td><td>null</td><td>null</td><td>null</td><td>null</td><td>null</td><td>null</td><td>null</td><td>null</td></tr><tr><td>1475891441243025408</td><td>&quot;https://twitte…</td><td>&quot;@posco Visitin…</td><td>&quot;2021-12-28 18:…</td><td>1611</td><td>12.0</td><td>0.007449</td><td>0.0</td><td>0.0</td><td>4.0</td><td>4.0</td><td>0.0</td><td>0.0</td><td>4.0</td><td>0.0</td><td>0</td><td>0</td><td>0</td><td>0</td><td>0</td><td>0</td><td>0</td><td>null</td><td>null</td><td>null</td><td>null</td><td>null</td><td>null</td><td>null</td><td>null</td><td>null</td><td>null</td><td>null</td><td>null</td><td>null</td><td>null</td><td>null</td><td>null</td><td>null</td><td>null</td></tr><tr><td>1476453819751878656</td><td>&quot;https://twitte…</td><td>&quot;@johndsaunders…</td><td>&quot;2021-12-30 07:…</td><td>1354</td><td>8.0</td><td>0.005908</td><td>0.0</td><td>0.0</td><td>2.0</td><td>4.0</td><td>0.0</td><td>0.0</td><td>2.0</td><td>0.0</td><td>0</td><td>0</td><td>0</td><td>0</td><td>0</td><td>0</td><td>0</td><td>null</td><td>null</td><td>null</td><td>null</td><td>null</td><td>null</td><td>null</td><td>null</td><td>null</td><td>null</td><td>null</td><td>null</td><td>null</td><td>null</td><td>null</td><td>null</td><td>null</td><td>null</td></tr><tr><td>1477024722051158018</td><td>&quot;https://twitte…</td><td>&quot;@tunguz Xgboos…</td><td>&quot;2021-12-31 21:…</td><td>5041</td><td>63.0</td><td>0.012498</td><td>0.0</td><td>3.0</td><td>23.0</td><td>8.0</td><td>0.0</td><td>0.0</td><td>29.0</td><td>0.0</td><td>0</td><td>0</td><td>0</td><td>0</td><td>0</td><td>0</td><td>0</td><td>null</td><td>null</td><td>null</td><td>null</td><td>null</td><td>null</td><td>null</td><td>null</td><td>null</td><td>null</td><td>null</td><td>null</td><td>null</td><td>null</td><td>null</td><td>null</td><td>null</td><td>null</td></tr></tbody></table></div>"
      ],
      "text/plain": [
       "shape: (5_791, 40)\n",
       "┌─────────┬────────────┬──────────┬────────┬───┬────────────┬────────────┬────────────┬────────────┐\n",
       "│ Tweet   ┆ Tweet      ┆ Tweet    ┆ time   ┆ … ┆ promoted   ┆ promoted   ┆ promoted   ┆ promoted   │\n",
       "│ id      ┆ permalink  ┆ text     ┆ ---    ┆   ┆ email      ┆ dial phone ┆ media      ┆ media enga │\n",
       "│ ---     ┆ ---        ┆ ---      ┆ str    ┆   ┆ tweet      ┆ ---        ┆ views      ┆ gements    │\n",
       "│ i64     ┆ str        ┆ str      ┆        ┆   ┆ ---        ┆ str        ┆ ---        ┆ ---        │\n",
       "│         ┆            ┆          ┆        ┆   ┆ str        ┆            ┆ str        ┆ str        │\n",
       "╞═════════╪════════════╪══════════╪════════╪═══╪════════════╪════════════╪════════════╪════════════╡\n",
       "│ 1212580 ┆ https://tw ┆ Sounds   ┆ 2020-0 ┆ … ┆ null       ┆ null       ┆ null       ┆ null       │\n",
       "│ 5179057 ┆ itter.com/ ┆ like a   ┆ 1-02   ┆   ┆            ┆            ┆            ┆            │\n",
       "│ 80737   ┆ __mharriso ┆ great    ┆ 03:44: ┆   ┆            ┆            ┆            ┆            │\n",
       "│         ┆ n_…        ┆ topic!   ┆ 00+00: ┆   ┆            ┆            ┆            ┆            │\n",
       "│         ┆            ┆ https…   ┆ 00     ┆   ┆            ┆            ┆            ┆            │\n",
       "│ 1212582 ┆ https://tw ┆ @FogleBi ┆ 2020-0 ┆ … ┆ null       ┆ null       ┆ null       ┆ null       │\n",
       "│ 4948280 ┆ itter.com/ ┆ rd Looks ┆ 1-02   ┆   ┆            ┆            ┆            ┆            │\n",
       "│ 36097   ┆ __mharriso ┆ like     ┆ 03:52: ┆   ┆            ┆            ┆            ┆            │\n",
       "│         ┆ n_…        ┆ SLC. I   ┆ 00+00: ┆   ┆            ┆            ┆            ┆            │\n",
       "│         ┆            ┆ can…     ┆ 00     ┆   ┆            ┆            ┆            ┆            │\n",
       "│ 1212613 ┆ https://tw ┆ @afilina ┆ 2020-0 ┆ … ┆ null       ┆ null       ┆ null       ┆ null       │\n",
       "│ 7356986 ┆ itter.com/ ┆ That's   ┆ 1-02   ┆   ┆            ┆            ┆            ┆            │\n",
       "│ 90049   ┆ __mharriso ┆ really   ┆ 05:56: ┆   ┆            ┆            ┆            ┆            │\n",
       "│         ┆ n_…        ┆ amount   ┆ 00+00: ┆   ┆            ┆            ┆            ┆            │\n",
       "│         ┆            ┆ an…      ┆ 00     ┆   ┆            ┆            ┆            ┆            │\n",
       "│ 1212911 ┆ https://tw ┆ @randal_ ┆ 2020-0 ┆ … ┆ null       ┆ null       ┆ null       ┆ null       │\n",
       "│ 7496172 ┆ itter.com/ ┆ olson I  ┆ 1-03   ┆   ┆            ┆            ┆            ┆            │\n",
       "│ 42113   ┆ __mharriso ┆ use      ┆ 01:41: ┆   ┆            ┆            ┆            ┆            │\n",
       "│         ┆ n_…        ┆ anaconda ┆ 00+00: ┆   ┆            ┆            ┆            ┆            │\n",
       "│         ┆            ┆ whe…     ┆ 00     ┆   ┆            ┆            ┆            ┆            │\n",
       "│ …       ┆ …          ┆ …        ┆ …      ┆ … ┆ …          ┆ …          ┆ …          ┆ …          │\n",
       "│ 1475518 ┆ https://tw ┆ @willmcg ┆ 2021-1 ┆ … ┆ null       ┆ null       ┆ null       ┆ null       │\n",
       "│ 1436908 ┆ itter.com/ ┆ ugan You ┆ 2-27   ┆   ┆            ┆            ┆            ┆            │\n",
       "│ 01156   ┆ __mharriso ┆ need to  ┆ 17:25: ┆   ┆            ┆            ┆            ┆            │\n",
       "│         ┆ n_…        ┆ find ou… ┆ 00+00: ┆   ┆            ┆            ┆            ┆            │\n",
       "│         ┆            ┆          ┆ 00     ┆   ┆            ┆            ┆            ┆            │\n",
       "│ 1475891 ┆ https://tw ┆ @posco   ┆ 2021-1 ┆ … ┆ null       ┆ null       ┆ null       ┆ null       │\n",
       "│ 4412430 ┆ itter.com/ ┆ Visiting ┆ 2-28   ┆   ┆            ┆            ┆            ┆            │\n",
       "│ 25408   ┆ __mharriso ┆ Hawaii   ┆ 18:08: ┆   ┆            ┆            ┆            ┆            │\n",
       "│         ┆ n_…        ┆ for the  ┆ 00+00: ┆   ┆            ┆            ┆            ┆            │\n",
       "│         ┆            ┆ h…       ┆ 00     ┆   ┆            ┆            ┆            ┆            │\n",
       "│ 1476453 ┆ https://tw ┆ @johndsa ┆ 2021-1 ┆ … ┆ null       ┆ null       ┆ null       ┆ null       │\n",
       "│ 8197518 ┆ itter.com/ ┆ unders   ┆ 2-30   ┆   ┆            ┆            ┆            ┆            │\n",
       "│ 78656   ┆ __mharriso ┆ My son   ┆ 07:23: ┆   ┆            ┆            ┆            ┆            │\n",
       "│         ┆ n_…        ┆ just     ┆ 00+00: ┆   ┆            ┆            ┆            ┆            │\n",
       "│         ┆            ┆ built…   ┆ 00     ┆   ┆            ┆            ┆            ┆            │\n",
       "│ 1477024 ┆ https://tw ┆ @tunguz  ┆ 2021-1 ┆ … ┆ null       ┆ null       ┆ null       ┆ null       │\n",
       "│ 7220511 ┆ itter.com/ ┆ Xgboost  ┆ 2-31   ┆   ┆            ┆            ┆            ┆            │\n",
       "│ 58018   ┆ __mharriso ┆          ┆ 21:11: ┆   ┆            ┆            ┆            ┆            │\n",
       "│         ┆ n_…        ┆          ┆ 00+00: ┆   ┆            ┆            ┆            ┆            │\n",
       "│         ┆            ┆          ┆ 00     ┆   ┆            ┆            ┆            ┆            │\n",
       "└─────────┴────────────┴──────────┴────────┴───┴────────────┴────────────┴────────────┴────────────┘"
      ]
     },
     "execution_count": 66,
     "metadata": {},
     "output_type": "execute_result"
    }
   ],
   "source": [
    "# Stick it back in dataframe\n",
    "(df\n",
    " .with_columns(pl.col('impressions').cast(pl.Int32))\n",
    ")"
   ]
  },
  {
   "cell_type": "code",
   "execution_count": 67,
   "metadata": {
    "scrolled": true
   },
   "outputs": [
    {
     "ename": "ComputeError",
     "evalue": "strict conversion from `f64` to `i8` failed for value(s) [128.0, 129.0, … 856749.0]; if you were trying to cast Utf8 to temporal dtypes, consider using `strptime`",
     "output_type": "error",
     "traceback": [
      "\u001b[0;31m---------------------------------------------------------------------------\u001b[0m",
      "\u001b[0;31mComputeError\u001b[0m                              Traceback (most recent call last)",
      "Cell \u001b[0;32mIn[67], line 3\u001b[0m\n\u001b[1;32m      1\u001b[0m \u001b[38;5;66;03m# Try it w/ Int8\u001b[39;00m\n\u001b[1;32m      2\u001b[0m (\u001b[43mdf\u001b[49m\n\u001b[0;32m----> 3\u001b[0m \u001b[43m \u001b[49m\u001b[38;5;241;43m.\u001b[39;49m\u001b[43mwith_columns\u001b[49m\u001b[43m(\u001b[49m\u001b[43mpl\u001b[49m\u001b[38;5;241;43m.\u001b[39;49m\u001b[43mcol\u001b[49m\u001b[43m(\u001b[49m\u001b[38;5;124;43m'\u001b[39;49m\u001b[38;5;124;43mimpressions\u001b[39;49m\u001b[38;5;124;43m'\u001b[39;49m\u001b[43m)\u001b[49m\u001b[38;5;241;43m.\u001b[39;49m\u001b[43mcast\u001b[49m\u001b[43m(\u001b[49m\u001b[43mpl\u001b[49m\u001b[38;5;241;43m.\u001b[39;49m\u001b[43mInt8\u001b[49m\u001b[43m)\u001b[49m\u001b[43m)\u001b[49m\n\u001b[1;32m      4\u001b[0m )\n",
      "File \u001b[0;32m~/.envs/2023env/lib/python3.10/site-packages/polars/dataframe/frame.py:7004\u001b[0m, in \u001b[0;36mDataFrame.with_columns\u001b[0;34m(self, exprs, *more_exprs, **named_exprs)\u001b[0m\n\u001b[1;32m   6853\u001b[0m \u001b[38;5;28;01mdef\u001b[39;00m \u001b[38;5;21mwith_columns\u001b[39m(\n\u001b[1;32m   6854\u001b[0m     \u001b[38;5;28mself\u001b[39m,\n\u001b[1;32m   6855\u001b[0m     exprs: IntoExpr \u001b[38;5;241m|\u001b[39m Iterable[IntoExpr] \u001b[38;5;241m=\u001b[39m \u001b[38;5;28;01mNone\u001b[39;00m,\n\u001b[1;32m   6856\u001b[0m     \u001b[38;5;241m*\u001b[39mmore_exprs: IntoExpr,\n\u001b[1;32m   6857\u001b[0m     \u001b[38;5;241m*\u001b[39m\u001b[38;5;241m*\u001b[39mnamed_exprs: IntoExpr,\n\u001b[1;32m   6858\u001b[0m ) \u001b[38;5;241m-\u001b[39m\u001b[38;5;241m>\u001b[39m Self:\n\u001b[1;32m   6859\u001b[0m \u001b[38;5;250m    \u001b[39m\u001b[38;5;124;03m\"\"\"\u001b[39;00m\n\u001b[1;32m   6860\u001b[0m \u001b[38;5;124;03m    Add columns to this DataFrame.\u001b[39;00m\n\u001b[1;32m   6861\u001b[0m \n\u001b[0;32m   (...)\u001b[0m\n\u001b[1;32m   7001\u001b[0m \n\u001b[1;32m   7002\u001b[0m \u001b[38;5;124;03m    \"\"\"\u001b[39;00m\n\u001b[1;32m   7003\u001b[0m     \u001b[38;5;28;01mreturn\u001b[39;00m \u001b[38;5;28mself\u001b[39m\u001b[38;5;241m.\u001b[39m_from_pydf(\n\u001b[0;32m-> 7004\u001b[0m         \u001b[38;5;28;43mself\u001b[39;49m\u001b[38;5;241;43m.\u001b[39;49m\u001b[43mlazy\u001b[49m\u001b[43m(\u001b[49m\u001b[43m)\u001b[49m\n\u001b[1;32m   7005\u001b[0m \u001b[43m        \u001b[49m\u001b[38;5;241;43m.\u001b[39;49m\u001b[43mwith_columns\u001b[49m\u001b[43m(\u001b[49m\u001b[43mexprs\u001b[49m\u001b[43m,\u001b[49m\u001b[43m \u001b[49m\u001b[38;5;241;43m*\u001b[39;49m\u001b[43mmore_exprs\u001b[49m\u001b[43m,\u001b[49m\u001b[43m \u001b[49m\u001b[38;5;241;43m*\u001b[39;49m\u001b[38;5;241;43m*\u001b[39;49m\u001b[43mnamed_exprs\u001b[49m\u001b[43m)\u001b[49m\n\u001b[1;32m   7006\u001b[0m \u001b[43m        \u001b[49m\u001b[38;5;241;43m.\u001b[39;49m\u001b[43mcollect\u001b[49m\u001b[43m(\u001b[49m\u001b[43mno_optimization\u001b[49m\u001b[38;5;241;43m=\u001b[39;49m\u001b[38;5;28;43;01mTrue\u001b[39;49;00m\u001b[43m)\u001b[49m\n\u001b[1;32m   7007\u001b[0m         \u001b[38;5;241m.\u001b[39m_df\n\u001b[1;32m   7008\u001b[0m     )\n",
      "File \u001b[0;32m~/.envs/2023env/lib/python3.10/site-packages/polars/lazyframe/frame.py:1606\u001b[0m, in \u001b[0;36mLazyFrame.collect\u001b[0;34m(self, type_coercion, predicate_pushdown, projection_pushdown, simplify_expression, no_optimization, slice_pushdown, common_subplan_elimination, streaming)\u001b[0m\n\u001b[1;32m   1595\u001b[0m     common_subplan_elimination \u001b[38;5;241m=\u001b[39m \u001b[38;5;28;01mFalse\u001b[39;00m\n\u001b[1;32m   1597\u001b[0m ldf \u001b[38;5;241m=\u001b[39m \u001b[38;5;28mself\u001b[39m\u001b[38;5;241m.\u001b[39m_ldf\u001b[38;5;241m.\u001b[39moptimization_toggle(\n\u001b[1;32m   1598\u001b[0m     type_coercion,\n\u001b[1;32m   1599\u001b[0m     predicate_pushdown,\n\u001b[0;32m   (...)\u001b[0m\n\u001b[1;32m   1604\u001b[0m     streaming,\n\u001b[1;32m   1605\u001b[0m )\n\u001b[0;32m-> 1606\u001b[0m \u001b[38;5;28;01mreturn\u001b[39;00m wrap_df(\u001b[43mldf\u001b[49m\u001b[38;5;241;43m.\u001b[39;49m\u001b[43mcollect\u001b[49m\u001b[43m(\u001b[49m\u001b[43m)\u001b[49m)\n",
      "\u001b[0;31mComputeError\u001b[0m: strict conversion from `f64` to `i8` failed for value(s) [128.0, 129.0, … 856749.0]; if you were trying to cast Utf8 to temporal dtypes, consider using `strptime`"
     ]
    }
   ],
   "source": [
    "# Try it w/ Int8\n",
    "(df\n",
    " .with_columns(pl.col('impressions').cast(pl.Int8))\n",
    ")"
   ]
  },
  {
   "cell_type": "code",
   "execution_count": 68,
   "metadata": {
    "scrolled": true
   },
   "outputs": [
    {
     "data": {
      "text/plain": [
       "856749.0"
      ]
     },
     "execution_count": 68,
     "metadata": {},
     "output_type": "execute_result"
    }
   ],
   "source": [
    "# check range of type conversion\n",
    "df['impressions'].max()"
   ]
  },
  {
   "cell_type": "code",
   "execution_count": 70,
   "metadata": {
    "scrolled": true
   },
   "outputs": [
    {
     "data": {
      "text/plain": [
       "856749"
      ]
     },
     "execution_count": 70,
     "metadata": {},
     "output_type": "execute_result"
    }
   ],
   "source": [
    "(df\n",
    " .with_columns(pl.col('impressions').cast(pl.Int32))\n",
    " ['impressions']\n",
    " .max()\n",
    ")"
   ]
  },
  {
   "cell_type": "code",
   "execution_count": 71,
   "metadata": {},
   "outputs": [
    {
     "data": {
      "text/plain": [
       "iinfo(min=0, max=255, dtype=uint8)"
      ]
     },
     "execution_count": 71,
     "metadata": {},
     "output_type": "execute_result"
    }
   ],
   "source": [
    "# look at smaller values\n",
    "np.iinfo(np.uint8)"
   ]
  },
  {
   "cell_type": "code",
   "execution_count": 72,
   "metadata": {
    "scrolled": true
   },
   "outputs": [
    {
     "ename": "TypeError",
     "evalue": "'<=' not supported between instances of 'str' and 'int'",
     "output_type": "error",
     "traceback": [
      "\u001b[0;31m---------------------------------------------------------------------------\u001b[0m",
      "\u001b[0;31mTypeError\u001b[0m                                 Traceback (most recent call last)",
      "Cell \u001b[0;32mIn[72], line 5\u001b[0m\n\u001b[1;32m      1\u001b[0m \u001b[38;5;66;03m# try to get columns where row/max value <= 255\u001b[39;00m\n\u001b[1;32m      2\u001b[0m (df\n\u001b[1;32m      3\u001b[0m  \u001b[38;5;241m.\u001b[39mselect(pl\u001b[38;5;241m.\u001b[39mcol([pl\u001b[38;5;241m.\u001b[39mFloat64, pl\u001b[38;5;241m.\u001b[39mInt64]))\n\u001b[1;32m      4\u001b[0m  \u001b[38;5;241m.\u001b[39mpipe(pd_describe)\n\u001b[0;32m----> 5\u001b[0m  \u001b[38;5;241m.\u001b[39mselect([pl\u001b[38;5;241m.\u001b[39mcol(col) \n\u001b[1;32m      6\u001b[0m          \u001b[38;5;28;01mfor\u001b[39;00m col \u001b[38;5;129;01min\u001b[39;00m df\u001b[38;5;241m.\u001b[39mcolumns\n\u001b[1;32m      7\u001b[0m          \u001b[38;5;28;01mif\u001b[39;00m df[col]\u001b[38;5;241m.\u001b[39mmax() \u001b[38;5;241m<\u001b[39m\u001b[38;5;241m=\u001b[39m \u001b[38;5;241m255\u001b[39m\n\u001b[1;32m      8\u001b[0m          ])\n\u001b[1;32m      9\u001b[0m )\n",
      "Cell \u001b[0;32mIn[72], line 7\u001b[0m, in \u001b[0;36m<listcomp>\u001b[0;34m(.0)\u001b[0m\n\u001b[1;32m      1\u001b[0m \u001b[38;5;66;03m# try to get columns where row/max value <= 255\u001b[39;00m\n\u001b[1;32m      2\u001b[0m (df\n\u001b[1;32m      3\u001b[0m  \u001b[38;5;241m.\u001b[39mselect(pl\u001b[38;5;241m.\u001b[39mcol([pl\u001b[38;5;241m.\u001b[39mFloat64, pl\u001b[38;5;241m.\u001b[39mInt64]))\n\u001b[1;32m      4\u001b[0m  \u001b[38;5;241m.\u001b[39mpipe(pd_describe)\n\u001b[1;32m      5\u001b[0m  \u001b[38;5;241m.\u001b[39mselect([pl\u001b[38;5;241m.\u001b[39mcol(col) \n\u001b[1;32m      6\u001b[0m          \u001b[38;5;28;01mfor\u001b[39;00m col \u001b[38;5;129;01min\u001b[39;00m df\u001b[38;5;241m.\u001b[39mcolumns\n\u001b[0;32m----> 7\u001b[0m          \u001b[38;5;28;01mif\u001b[39;00m \u001b[43mdf\u001b[49m\u001b[43m[\u001b[49m\u001b[43mcol\u001b[49m\u001b[43m]\u001b[49m\u001b[38;5;241;43m.\u001b[39;49m\u001b[43mmax\u001b[49m\u001b[43m(\u001b[49m\u001b[43m)\u001b[49m\u001b[43m \u001b[49m\u001b[38;5;241;43m<\u001b[39;49m\u001b[38;5;241;43m=\u001b[39;49m\u001b[43m \u001b[49m\u001b[38;5;241;43m255\u001b[39;49m\n\u001b[1;32m      8\u001b[0m          ])\n\u001b[1;32m      9\u001b[0m )\n",
      "\u001b[0;31mTypeError\u001b[0m: '<=' not supported between instances of 'str' and 'int'"
     ]
    }
   ],
   "source": [
    "# try to get columns where row/max value <= 255\n",
    "(df\n",
    " .select(pl.col([pl.Float64, pl.Int64]))\n",
    " .pipe(pd_describe)\n",
    " .select([pl.col(col) \n",
    "         for col in df.columns\n",
    "         if df[col].max() <= 255\n",
    "         ])\n",
    ")"
   ]
  },
  {
   "cell_type": "code",
   "execution_count": 73,
   "metadata": {},
   "outputs": [
    {
     "name": "stdout",
     "output_type": "stream",
     "text": [
      "['describe', 'impressions', 'engagements', 'engagement rate', 'retweets', 'replies', 'likes', 'user profile clicks', 'url clicks', 'hashtag clicks', 'detail expands', 'permalink clicks', 'app opens', 'app installs', 'follows', 'email tweet', 'dial phone', 'media views', 'media engagements']\n"
     ]
    }
   ],
   "source": [
    "# notice that engagement_rate isn't an integer\n",
    "def filter_cols(a_df):\n",
    "    cols = [pl.col(col) \n",
    "             for col in a_df.columns\n",
    "             if col != 'describe' and a_df[col][-2] <= 255\n",
    "             ]\n",
    "    \n",
    "    return (a_df\n",
    "            .select([pl.col('describe'), *cols])\n",
    "           )\n",
    "\n",
    "print(df\n",
    " .select(pl.col([pl.Float64, pl.Int64]))\n",
    " .pipe(pd_describe)\n",
    " .pipe(filter_cols) \n",
    " .columns\n",
    ")"
   ]
  },
  {
   "cell_type": "code",
   "execution_count": null,
   "metadata": {},
   "outputs": [],
   "source": [
    "np.iinfo(np.uint16)"
   ]
  },
  {
   "cell_type": "code",
   "execution_count": 74,
   "metadata": {},
   "outputs": [
    {
     "name": "stdout",
     "output_type": "stream",
     "text": [
      "['describe', 'impressions', 'engagements', 'engagement rate', 'retweets', 'replies', 'likes', 'user profile clicks', 'url clicks', 'hashtag clicks', 'detail expands', 'permalink clicks', 'app opens', 'app installs', 'follows', 'email tweet', 'dial phone', 'media views', 'media engagements']\n"
     ]
    }
   ],
   "source": [
    "def filter_cols(a_df, max_val):\n",
    "    cols = [pl.col(col) \n",
    "             for col in a_df.columns\n",
    "             if col != 'describe' and a_df[col][-2] <= max_val #65_535\n",
    "             ]\n",
    "    return (a_df\n",
    "            .select(['describe', *cols])\n",
    "           )\n",
    "\n",
    "print(df\n",
    " .select(pl.col([pl.Float64, pl.Int64]))\n",
    " .pipe(pd_describe)\n",
    " .pipe(filter_cols, max_val=65_535) \n",
    " .columns\n",
    ")"
   ]
  },
  {
   "cell_type": "code",
   "execution_count": 75,
   "metadata": {
    "scrolled": true
   },
   "outputs": [
    {
     "data": {
      "text/html": [
       "<div><style>\n",
       ".dataframe > thead > tr > th,\n",
       ".dataframe > tbody > tr > td {\n",
       "  text-align: right;\n",
       "}\n",
       "</style>\n",
       "<small>shape: (5791, 40)</small><table border=\"1\" class=\"dataframe\"><thead><tr><th>Tweet id</th><th>Tweet permalink</th><th>Tweet text</th><th>time</th><th>impressions</th><th>engagements</th><th>engagement rate</th><th>retweets</th><th>replies</th><th>likes</th><th>user profile clicks</th><th>url clicks</th><th>hashtag clicks</th><th>detail expands</th><th>permalink clicks</th><th>app opens</th><th>app installs</th><th>follows</th><th>email tweet</th><th>dial phone</th><th>media views</th><th>media engagements</th><th>promoted impressions</th><th>promoted engagements</th><th>promoted engagement rate</th><th>promoted retweets</th><th>promoted replies</th><th>promoted likes</th><th>promoted user profile clicks</th><th>promoted url clicks</th><th>promoted hashtag clicks</th><th>promoted detail expands</th><th>promoted permalink clicks</th><th>promoted app opens</th><th>promoted app installs</th><th>promoted follows</th><th>promoted email tweet</th><th>promoted dial phone</th><th>promoted media views</th><th>promoted media engagements</th></tr><tr><td>i64</td><td>str</td><td>str</td><td>str</td><td>f64</td><td>u16</td><td>f64</td><td>u16</td><td>u16</td><td>u16</td><td>u16</td><td>u16</td><td>u16</td><td>u16</td><td>u16</td><td>u16</td><td>u16</td><td>u16</td><td>u16</td><td>u16</td><td>u16</td><td>u16</td><td>str</td><td>str</td><td>str</td><td>str</td><td>str</td><td>str</td><td>str</td><td>str</td><td>str</td><td>str</td><td>str</td><td>str</td><td>str</td><td>str</td><td>str</td><td>str</td><td>str</td><td>str</td></tr></thead><tbody><tr><td>1212580517905780737</td><td>&quot;https://twitte…</td><td>&quot;Sounds like a …</td><td>&quot;2020-01-02 03:…</td><td>1465.0</td><td>7</td><td>0.004778</td><td>0</td><td>0</td><td>3</td><td>3</td><td>0</td><td>0</td><td>1</td><td>0</td><td>0</td><td>0</td><td>0</td><td>0</td><td>0</td><td>0</td><td>0</td><td>null</td><td>null</td><td>null</td><td>null</td><td>null</td><td>null</td><td>null</td><td>null</td><td>null</td><td>null</td><td>null</td><td>null</td><td>null</td><td>null</td><td>null</td><td>null</td><td>null</td><td>null</td></tr><tr><td>1212582494828036097</td><td>&quot;https://twitte…</td><td>&quot;@FogleBird Loo…</td><td>&quot;2020-01-02 03:…</td><td>154.0</td><td>3</td><td>0.019481</td><td>0</td><td>0</td><td>1</td><td>1</td><td>0</td><td>0</td><td>1</td><td>0</td><td>0</td><td>0</td><td>0</td><td>0</td><td>0</td><td>0</td><td>0</td><td>null</td><td>null</td><td>null</td><td>null</td><td>null</td><td>null</td><td>null</td><td>null</td><td>null</td><td>null</td><td>null</td><td>null</td><td>null</td><td>null</td><td>null</td><td>null</td><td>null</td><td>null</td></tr><tr><td>1212613735698690049</td><td>&quot;https://twitte…</td><td>&quot;@afilina That&#x27;…</td><td>&quot;2020-01-02 05:…</td><td>1024.0</td><td>6</td><td>0.005859</td><td>0</td><td>0</td><td>1</td><td>2</td><td>0</td><td>0</td><td>3</td><td>0</td><td>0</td><td>0</td><td>0</td><td>0</td><td>0</td><td>0</td><td>0</td><td>null</td><td>null</td><td>null</td><td>null</td><td>null</td><td>null</td><td>null</td><td>null</td><td>null</td><td>null</td><td>null</td><td>null</td><td>null</td><td>null</td><td>null</td><td>null</td><td>null</td><td>null</td></tr><tr><td>1212911749617242113</td><td>&quot;https://twitte…</td><td>&quot;@randal_olson …</td><td>&quot;2020-01-03 01:…</td><td>1419.0</td><td>14</td><td>0.009866</td><td>0</td><td>1</td><td>5</td><td>7</td><td>0</td><td>0</td><td>1</td><td>0</td><td>0</td><td>0</td><td>0</td><td>0</td><td>0</td><td>0</td><td>0</td><td>null</td><td>null</td><td>null</td><td>null</td><td>null</td><td>null</td><td>null</td><td>null</td><td>null</td><td>null</td><td>null</td><td>null</td><td>null</td><td>null</td><td>null</td><td>null</td><td>null</td><td>null</td></tr><tr><td>1212920556028252160</td><td>&quot;https://twitte…</td><td>&quot;@AlSweigart So…</td><td>&quot;2020-01-03 02:…</td><td>198.0</td><td>1</td><td>0.005051</td><td>0</td><td>0</td><td>1</td><td>0</td><td>0</td><td>0</td><td>0</td><td>0</td><td>0</td><td>0</td><td>0</td><td>0</td><td>0</td><td>0</td><td>0</td><td>null</td><td>null</td><td>null</td><td>null</td><td>null</td><td>null</td><td>null</td><td>null</td><td>null</td><td>null</td><td>null</td><td>null</td><td>null</td><td>null</td><td>null</td><td>null</td><td>null</td><td>null</td></tr><tr><td>1212921038356434947</td><td>&quot;https://twitte…</td><td>&quot;@tmarthal @Ted…</td><td>&quot;2020-01-03 02:…</td><td>170.0</td><td>3</td><td>0.017647</td><td>0</td><td>0</td><td>1</td><td>1</td><td>0</td><td>0</td><td>1</td><td>0</td><td>0</td><td>0</td><td>0</td><td>0</td><td>0</td><td>0</td><td>0</td><td>null</td><td>null</td><td>null</td><td>null</td><td>null</td><td>null</td><td>null</td><td>null</td><td>null</td><td>null</td><td>null</td><td>null</td><td>null</td><td>null</td><td>null</td><td>null</td><td>null</td><td>null</td></tr><tr><td>1212921192287330304</td><td>&quot;https://twitte…</td><td>&quot;@gabegundy It&#x27;…</td><td>&quot;2020-01-03 02:…</td><td>104.0</td><td>2</td><td>0.019231</td><td>0</td><td>1</td><td>1</td><td>0</td><td>0</td><td>0</td><td>0</td><td>0</td><td>0</td><td>0</td><td>0</td><td>0</td><td>0</td><td>0</td><td>0</td><td>null</td><td>null</td><td>null</td><td>null</td><td>null</td><td>null</td><td>null</td><td>null</td><td>null</td><td>null</td><td>null</td><td>null</td><td>null</td><td>null</td><td>null</td><td>null</td><td>null</td><td>null</td></tr><tr><td>1212969747186208768</td><td>&quot;https://twitte…</td><td>&quot;@anthonypjshaw…</td><td>&quot;2020-01-03 05:…</td><td>189.0</td><td>0</td><td>0.0</td><td>0</td><td>0</td><td>0</td><td>0</td><td>0</td><td>0</td><td>0</td><td>0</td><td>0</td><td>0</td><td>0</td><td>0</td><td>0</td><td>0</td><td>0</td><td>null</td><td>null</td><td>null</td><td>null</td><td>null</td><td>null</td><td>null</td><td>null</td><td>null</td><td>null</td><td>null</td><td>null</td><td>null</td><td>null</td><td>null</td><td>null</td><td>null</td><td>null</td></tr><tr><td>1212971634019033088</td><td>&quot;https://twitte…</td><td>&quot;@jet_set A lit…</td><td>&quot;2020-01-03 05:…</td><td>900.0</td><td>4</td><td>0.004444</td><td>0</td><td>0</td><td>0</td><td>4</td><td>0</td><td>0</td><td>0</td><td>0</td><td>0</td><td>0</td><td>0</td><td>0</td><td>0</td><td>0</td><td>0</td><td>null</td><td>null</td><td>null</td><td>null</td><td>null</td><td>null</td><td>null</td><td>null</td><td>null</td><td>null</td><td>null</td><td>null</td><td>null</td><td>null</td><td>null</td><td>null</td><td>null</td><td>null</td></tr><tr><td>1213194379793293312</td><td>&quot;https://twitte…</td><td>&quot;@juliasilge @r…</td><td>&quot;2020-01-03 20:…</td><td>252.0</td><td>2</td><td>0.007937</td><td>0</td><td>0</td><td>1</td><td>1</td><td>0</td><td>0</td><td>0</td><td>0</td><td>0</td><td>0</td><td>0</td><td>0</td><td>0</td><td>0</td><td>0</td><td>null</td><td>null</td><td>null</td><td>null</td><td>null</td><td>null</td><td>null</td><td>null</td><td>null</td><td>null</td><td>null</td><td>null</td><td>null</td><td>null</td><td>null</td><td>null</td><td>null</td><td>null</td></tr><tr><td>1213699561962631168</td><td>&quot;https://twitte…</td><td>&quot;Herein you wil…</td><td>&quot;2020-01-05 05:…</td><td>1610.0</td><td>6</td><td>0.003727</td><td>0</td><td>0</td><td>2</td><td>2</td><td>0</td><td>0</td><td>2</td><td>0</td><td>0</td><td>0</td><td>0</td><td>0</td><td>0</td><td>0</td><td>0</td><td>null</td><td>null</td><td>null</td><td>null</td><td>null</td><td>null</td><td>null</td><td>null</td><td>null</td><td>null</td><td>null</td><td>null</td><td>null</td><td>null</td><td>null</td><td>null</td><td>null</td><td>null</td></tr><tr><td>1213896543985516544</td><td>&quot;https://twitte…</td><td>&quot;@Austen Care t…</td><td>&quot;2020-01-05 18:…</td><td>165.0</td><td>3</td><td>0.018182</td><td>0</td><td>0</td><td>0</td><td>1</td><td>0</td><td>0</td><td>2</td><td>0</td><td>0</td><td>0</td><td>0</td><td>0</td><td>0</td><td>0</td><td>0</td><td>null</td><td>null</td><td>null</td><td>null</td><td>null</td><td>null</td><td>null</td><td>null</td><td>null</td><td>null</td><td>null</td><td>null</td><td>null</td><td>null</td><td>null</td><td>null</td><td>null</td><td>null</td></tr><tr><td>&hellip;</td><td>&hellip;</td><td>&hellip;</td><td>&hellip;</td><td>&hellip;</td><td>&hellip;</td><td>&hellip;</td><td>&hellip;</td><td>&hellip;</td><td>&hellip;</td><td>&hellip;</td><td>&hellip;</td><td>&hellip;</td><td>&hellip;</td><td>&hellip;</td><td>&hellip;</td><td>&hellip;</td><td>&hellip;</td><td>&hellip;</td><td>&hellip;</td><td>&hellip;</td><td>&hellip;</td><td>&hellip;</td><td>&hellip;</td><td>&hellip;</td><td>&hellip;</td><td>&hellip;</td><td>&hellip;</td><td>&hellip;</td><td>&hellip;</td><td>&hellip;</td><td>&hellip;</td><td>&hellip;</td><td>&hellip;</td><td>&hellip;</td><td>&hellip;</td><td>&hellip;</td><td>&hellip;</td><td>&hellip;</td><td>&hellip;</td></tr><tr><td>1474805013343981570</td><td>&quot;https://twitte…</td><td>&quot;@EricSchles @s…</td><td>&quot;2021-12-25 18:…</td><td>416.0</td><td>3</td><td>0.007212</td><td>0</td><td>0</td><td>2</td><td>1</td><td>0</td><td>0</td><td>0</td><td>0</td><td>0</td><td>0</td><td>0</td><td>0</td><td>0</td><td>0</td><td>0</td><td>null</td><td>null</td><td>null</td><td>null</td><td>null</td><td>null</td><td>null</td><td>null</td><td>null</td><td>null</td><td>null</td><td>null</td><td>null</td><td>null</td><td>null</td><td>null</td><td>null</td><td>null</td></tr><tr><td>1474820707234185217</td><td>&quot;https://twitte…</td><td>&quot;Mele kalikimak…</td><td>&quot;2021-12-25 19:…</td><td>15840.0</td><td>372</td><td>0.023485</td><td>0</td><td>2</td><td>61</td><td>59</td><td>6</td><td>0</td><td>66</td><td>0</td><td>0</td><td>0</td><td>0</td><td>0</td><td>0</td><td>178</td><td>178</td><td>null</td><td>null</td><td>null</td><td>null</td><td>null</td><td>null</td><td>null</td><td>null</td><td>null</td><td>null</td><td>null</td><td>null</td><td>null</td><td>null</td><td>null</td><td>null</td><td>null</td><td>null</td></tr><tr><td>1475023008620154882</td><td>&quot;https://twitte…</td><td>&quot;Good looking c…</td><td>&quot;2021-12-26 08:…</td><td>22557.0</td><td>501</td><td>0.02221</td><td>0</td><td>9</td><td>50</td><td>89</td><td>14</td><td>0</td><td>118</td><td>0</td><td>0</td><td>0</td><td>0</td><td>0</td><td>0</td><td>221</td><td>221</td><td>null</td><td>null</td><td>null</td><td>null</td><td>null</td><td>null</td><td>null</td><td>null</td><td>null</td><td>null</td><td>null</td><td>null</td><td>null</td><td>null</td><td>null</td><td>null</td><td>null</td><td>null</td></tr><tr><td>1475299210291343362</td><td>&quot;https://twitte…</td><td>&quot;@youtah A litt…</td><td>&quot;2021-12-27 02:…</td><td>1586.0</td><td>35</td><td>0.022068</td><td>0</td><td>0</td><td>2</td><td>1</td><td>1</td><td>0</td><td>0</td><td>0</td><td>0</td><td>0</td><td>0</td><td>0</td><td>0</td><td>31</td><td>31</td><td>null</td><td>null</td><td>null</td><td>null</td><td>null</td><td>null</td><td>null</td><td>null</td><td>null</td><td>null</td><td>null</td><td>null</td><td>null</td><td>null</td><td>null</td><td>null</td><td>null</td><td>null</td></tr><tr><td>1475299401681682434</td><td>&quot;https://twitte…</td><td>&quot;@mathsppblog S…</td><td>&quot;2021-12-27 02:…</td><td>4641.0</td><td>35</td><td>0.007541</td><td>0</td><td>4</td><td>11</td><td>10</td><td>0</td><td>0</td><td>10</td><td>0</td><td>0</td><td>0</td><td>0</td><td>0</td><td>0</td><td>0</td><td>0</td><td>null</td><td>null</td><td>null</td><td>null</td><td>null</td><td>null</td><td>null</td><td>null</td><td>null</td><td>null</td><td>null</td><td>null</td><td>null</td><td>null</td><td>null</td><td>null</td><td>null</td><td>null</td></tr><tr><td>1475299848093978626</td><td>&quot;https://twitte…</td><td>&quot;@willmcgugan P…</td><td>&quot;2021-12-27 02:…</td><td>1969.0</td><td>4</td><td>0.002031</td><td>0</td><td>0</td><td>4</td><td>0</td><td>0</td><td>0</td><td>0</td><td>0</td><td>0</td><td>0</td><td>0</td><td>0</td><td>0</td><td>0</td><td>0</td><td>null</td><td>null</td><td>null</td><td>null</td><td>null</td><td>null</td><td>null</td><td>null</td><td>null</td><td>null</td><td>null</td><td>null</td><td>null</td><td>null</td><td>null</td><td>null</td><td>null</td><td>null</td></tr><tr><td>1475300370138087426</td><td>&quot;https://twitte…</td><td>&quot;@reuvenmlerner…</td><td>&quot;2021-12-27 02:…</td><td>1669.0</td><td>5</td><td>0.002996</td><td>0</td><td>0</td><td>3</td><td>0</td><td>0</td><td>0</td><td>2</td><td>0</td><td>0</td><td>0</td><td>0</td><td>0</td><td>0</td><td>0</td><td>0</td><td>null</td><td>null</td><td>null</td><td>null</td><td>null</td><td>null</td><td>null</td><td>null</td><td>null</td><td>null</td><td>null</td><td>null</td><td>null</td><td>null</td><td>null</td><td>null</td><td>null</td><td>null</td></tr><tr><td>1475300661851934721</td><td>&quot;https://twitte…</td><td>&quot;@allison_horst…</td><td>&quot;2021-12-27 03:…</td><td>986.0</td><td>1</td><td>0.001014</td><td>0</td><td>0</td><td>0</td><td>0</td><td>0</td><td>0</td><td>1</td><td>0</td><td>0</td><td>0</td><td>0</td><td>0</td><td>0</td><td>0</td><td>0</td><td>null</td><td>null</td><td>null</td><td>null</td><td>null</td><td>null</td><td>null</td><td>null</td><td>null</td><td>null</td><td>null</td><td>null</td><td>null</td><td>null</td><td>null</td><td>null</td><td>null</td><td>null</td></tr><tr><td>1475518143690801156</td><td>&quot;https://twitte…</td><td>&quot;@willmcgugan Y…</td><td>&quot;2021-12-27 17:…</td><td>1790.0</td><td>7</td><td>0.003911</td><td>0</td><td>0</td><td>3</td><td>1</td><td>0</td><td>0</td><td>3</td><td>0</td><td>0</td><td>0</td><td>0</td><td>0</td><td>0</td><td>0</td><td>0</td><td>null</td><td>null</td><td>null</td><td>null</td><td>null</td><td>null</td><td>null</td><td>null</td><td>null</td><td>null</td><td>null</td><td>null</td><td>null</td><td>null</td><td>null</td><td>null</td><td>null</td><td>null</td></tr><tr><td>1475891441243025408</td><td>&quot;https://twitte…</td><td>&quot;@posco Visitin…</td><td>&quot;2021-12-28 18:…</td><td>1611.0</td><td>12</td><td>0.007449</td><td>0</td><td>0</td><td>4</td><td>4</td><td>0</td><td>0</td><td>4</td><td>0</td><td>0</td><td>0</td><td>0</td><td>0</td><td>0</td><td>0</td><td>0</td><td>null</td><td>null</td><td>null</td><td>null</td><td>null</td><td>null</td><td>null</td><td>null</td><td>null</td><td>null</td><td>null</td><td>null</td><td>null</td><td>null</td><td>null</td><td>null</td><td>null</td><td>null</td></tr><tr><td>1476453819751878656</td><td>&quot;https://twitte…</td><td>&quot;@johndsaunders…</td><td>&quot;2021-12-30 07:…</td><td>1354.0</td><td>8</td><td>0.005908</td><td>0</td><td>0</td><td>2</td><td>4</td><td>0</td><td>0</td><td>2</td><td>0</td><td>0</td><td>0</td><td>0</td><td>0</td><td>0</td><td>0</td><td>0</td><td>null</td><td>null</td><td>null</td><td>null</td><td>null</td><td>null</td><td>null</td><td>null</td><td>null</td><td>null</td><td>null</td><td>null</td><td>null</td><td>null</td><td>null</td><td>null</td><td>null</td><td>null</td></tr><tr><td>1477024722051158018</td><td>&quot;https://twitte…</td><td>&quot;@tunguz Xgboos…</td><td>&quot;2021-12-31 21:…</td><td>5041.0</td><td>63</td><td>0.012498</td><td>0</td><td>3</td><td>23</td><td>8</td><td>0</td><td>0</td><td>29</td><td>0</td><td>0</td><td>0</td><td>0</td><td>0</td><td>0</td><td>0</td><td>0</td><td>null</td><td>null</td><td>null</td><td>null</td><td>null</td><td>null</td><td>null</td><td>null</td><td>null</td><td>null</td><td>null</td><td>null</td><td>null</td><td>null</td><td>null</td><td>null</td><td>null</td><td>null</td></tr></tbody></table></div>"
      ],
      "text/plain": [
       "shape: (5_791, 40)\n",
       "┌─────────┬────────────┬──────────┬────────┬───┬────────────┬────────────┬────────────┬────────────┐\n",
       "│ Tweet   ┆ Tweet      ┆ Tweet    ┆ time   ┆ … ┆ promoted   ┆ promoted   ┆ promoted   ┆ promoted   │\n",
       "│ id      ┆ permalink  ┆ text     ┆ ---    ┆   ┆ email      ┆ dial phone ┆ media      ┆ media enga │\n",
       "│ ---     ┆ ---        ┆ ---      ┆ str    ┆   ┆ tweet      ┆ ---        ┆ views      ┆ gements    │\n",
       "│ i64     ┆ str        ┆ str      ┆        ┆   ┆ ---        ┆ str        ┆ ---        ┆ ---        │\n",
       "│         ┆            ┆          ┆        ┆   ┆ str        ┆            ┆ str        ┆ str        │\n",
       "╞═════════╪════════════╪══════════╪════════╪═══╪════════════╪════════════╪════════════╪════════════╡\n",
       "│ 1212580 ┆ https://tw ┆ Sounds   ┆ 2020-0 ┆ … ┆ null       ┆ null       ┆ null       ┆ null       │\n",
       "│ 5179057 ┆ itter.com/ ┆ like a   ┆ 1-02   ┆   ┆            ┆            ┆            ┆            │\n",
       "│ 80737   ┆ __mharriso ┆ great    ┆ 03:44: ┆   ┆            ┆            ┆            ┆            │\n",
       "│         ┆ n_…        ┆ topic!   ┆ 00+00: ┆   ┆            ┆            ┆            ┆            │\n",
       "│         ┆            ┆ https…   ┆ 00     ┆   ┆            ┆            ┆            ┆            │\n",
       "│ 1212582 ┆ https://tw ┆ @FogleBi ┆ 2020-0 ┆ … ┆ null       ┆ null       ┆ null       ┆ null       │\n",
       "│ 4948280 ┆ itter.com/ ┆ rd Looks ┆ 1-02   ┆   ┆            ┆            ┆            ┆            │\n",
       "│ 36097   ┆ __mharriso ┆ like     ┆ 03:52: ┆   ┆            ┆            ┆            ┆            │\n",
       "│         ┆ n_…        ┆ SLC. I   ┆ 00+00: ┆   ┆            ┆            ┆            ┆            │\n",
       "│         ┆            ┆ can…     ┆ 00     ┆   ┆            ┆            ┆            ┆            │\n",
       "│ 1212613 ┆ https://tw ┆ @afilina ┆ 2020-0 ┆ … ┆ null       ┆ null       ┆ null       ┆ null       │\n",
       "│ 7356986 ┆ itter.com/ ┆ That's   ┆ 1-02   ┆   ┆            ┆            ┆            ┆            │\n",
       "│ 90049   ┆ __mharriso ┆ really   ┆ 05:56: ┆   ┆            ┆            ┆            ┆            │\n",
       "│         ┆ n_…        ┆ amount   ┆ 00+00: ┆   ┆            ┆            ┆            ┆            │\n",
       "│         ┆            ┆ an…      ┆ 00     ┆   ┆            ┆            ┆            ┆            │\n",
       "│ 1212911 ┆ https://tw ┆ @randal_ ┆ 2020-0 ┆ … ┆ null       ┆ null       ┆ null       ┆ null       │\n",
       "│ 7496172 ┆ itter.com/ ┆ olson I  ┆ 1-03   ┆   ┆            ┆            ┆            ┆            │\n",
       "│ 42113   ┆ __mharriso ┆ use      ┆ 01:41: ┆   ┆            ┆            ┆            ┆            │\n",
       "│         ┆ n_…        ┆ anaconda ┆ 00+00: ┆   ┆            ┆            ┆            ┆            │\n",
       "│         ┆            ┆ whe…     ┆ 00     ┆   ┆            ┆            ┆            ┆            │\n",
       "│ …       ┆ …          ┆ …        ┆ …      ┆ … ┆ …          ┆ …          ┆ …          ┆ …          │\n",
       "│ 1475518 ┆ https://tw ┆ @willmcg ┆ 2021-1 ┆ … ┆ null       ┆ null       ┆ null       ┆ null       │\n",
       "│ 1436908 ┆ itter.com/ ┆ ugan You ┆ 2-27   ┆   ┆            ┆            ┆            ┆            │\n",
       "│ 01156   ┆ __mharriso ┆ need to  ┆ 17:25: ┆   ┆            ┆            ┆            ┆            │\n",
       "│         ┆ n_…        ┆ find ou… ┆ 00+00: ┆   ┆            ┆            ┆            ┆            │\n",
       "│         ┆            ┆          ┆ 00     ┆   ┆            ┆            ┆            ┆            │\n",
       "│ 1475891 ┆ https://tw ┆ @posco   ┆ 2021-1 ┆ … ┆ null       ┆ null       ┆ null       ┆ null       │\n",
       "│ 4412430 ┆ itter.com/ ┆ Visiting ┆ 2-28   ┆   ┆            ┆            ┆            ┆            │\n",
       "│ 25408   ┆ __mharriso ┆ Hawaii   ┆ 18:08: ┆   ┆            ┆            ┆            ┆            │\n",
       "│         ┆ n_…        ┆ for the  ┆ 00+00: ┆   ┆            ┆            ┆            ┆            │\n",
       "│         ┆            ┆ h…       ┆ 00     ┆   ┆            ┆            ┆            ┆            │\n",
       "│ 1476453 ┆ https://tw ┆ @johndsa ┆ 2021-1 ┆ … ┆ null       ┆ null       ┆ null       ┆ null       │\n",
       "│ 8197518 ┆ itter.com/ ┆ unders   ┆ 2-30   ┆   ┆            ┆            ┆            ┆            │\n",
       "│ 78656   ┆ __mharriso ┆ My son   ┆ 07:23: ┆   ┆            ┆            ┆            ┆            │\n",
       "│         ┆ n_…        ┆ just     ┆ 00+00: ┆   ┆            ┆            ┆            ┆            │\n",
       "│         ┆            ┆ built…   ┆ 00     ┆   ┆            ┆            ┆            ┆            │\n",
       "│ 1477024 ┆ https://tw ┆ @tunguz  ┆ 2021-1 ┆ … ┆ null       ┆ null       ┆ null       ┆ null       │\n",
       "│ 7220511 ┆ itter.com/ ┆ Xgboost  ┆ 2-31   ┆   ┆            ┆            ┆            ┆            │\n",
       "│ 58018   ┆ __mharriso ┆          ┆ 21:11: ┆   ┆            ┆            ┆            ┆            │\n",
       "│         ┆ n_…        ┆          ┆ 00+00: ┆   ┆            ┆            ┆            ┆            │\n",
       "│         ┆            ┆          ┆ 00     ┆   ┆            ┆            ┆            ┆            │\n",
       "└─────────┴────────────┴──────────┴────────┴───┴────────────┴────────────┴────────────┴────────────┘"
      ]
     },
     "execution_count": 75,
     "metadata": {},
     "output_type": "execute_result"
    }
   ],
   "source": [
    "# removed eng_rate (not an integer)\n",
    "(df\n",
    " .with_columns([pl.col(col).cast(pl.UInt16)\n",
    "                for col in \n",
    "              ['engagements', 'retweets', 'replies', 'likes', 'user profile clicks', 'url clicks', \n",
    "               'hashtag clicks', 'detail expands', 'permalink clicks', 'app opens', 'app installs', \n",
    "               'follows', 'email tweet', 'dial phone', 'media views', 'media engagements']])\n",
    ")"
   ]
  },
  {
   "cell_type": "code",
   "execution_count": 78,
   "metadata": {
    "scrolled": true
   },
   "outputs": [
    {
     "data": {
      "text/html": [
       "<div><style>\n",
       ".dataframe > thead > tr > th,\n",
       ".dataframe > tbody > tr > td {\n",
       "  text-align: right;\n",
       "}\n",
       "</style>\n",
       "<small>shape: (5791, 40)</small><table border=\"1\" class=\"dataframe\"><thead><tr><th>Tweet id</th><th>Tweet permalink</th><th>Tweet text</th><th>time</th><th>impressions</th><th>engagements</th><th>engagement rate</th><th>retweets</th><th>replies</th><th>likes</th><th>user profile clicks</th><th>url clicks</th><th>hashtag clicks</th><th>detail expands</th><th>permalink clicks</th><th>app opens</th><th>app installs</th><th>follows</th><th>email tweet</th><th>dial phone</th><th>media views</th><th>media engagements</th><th>promoted impressions</th><th>promoted engagements</th><th>promoted engagement rate</th><th>promoted retweets</th><th>promoted replies</th><th>promoted likes</th><th>promoted user profile clicks</th><th>promoted url clicks</th><th>promoted hashtag clicks</th><th>promoted detail expands</th><th>promoted permalink clicks</th><th>promoted app opens</th><th>promoted app installs</th><th>promoted follows</th><th>promoted email tweet</th><th>promoted dial phone</th><th>promoted media views</th><th>promoted media engagements</th></tr><tr><td>i64</td><td>str</td><td>str</td><td>str</td><td>f64</td><td>u16</td><td>f64</td><td>u16</td><td>u16</td><td>u16</td><td>u16</td><td>u16</td><td>u16</td><td>u16</td><td>u16</td><td>u16</td><td>u16</td><td>u16</td><td>u16</td><td>u16</td><td>u16</td><td>u16</td><td>str</td><td>str</td><td>str</td><td>str</td><td>str</td><td>str</td><td>str</td><td>str</td><td>str</td><td>str</td><td>str</td><td>str</td><td>str</td><td>str</td><td>str</td><td>str</td><td>str</td><td>str</td></tr></thead><tbody><tr><td>1212580517905780737</td><td>&quot;https://twitte…</td><td>&quot;Sounds like a …</td><td>&quot;2020-01-02 03:…</td><td>1465.0</td><td>7</td><td>0.004778</td><td>0</td><td>0</td><td>3</td><td>3</td><td>0</td><td>0</td><td>1</td><td>0</td><td>0</td><td>0</td><td>0</td><td>0</td><td>0</td><td>0</td><td>0</td><td>null</td><td>null</td><td>null</td><td>null</td><td>null</td><td>null</td><td>null</td><td>null</td><td>null</td><td>null</td><td>null</td><td>null</td><td>null</td><td>null</td><td>null</td><td>null</td><td>null</td><td>null</td></tr><tr><td>1212582494828036097</td><td>&quot;https://twitte…</td><td>&quot;@FogleBird Loo…</td><td>&quot;2020-01-02 03:…</td><td>154.0</td><td>3</td><td>0.019481</td><td>0</td><td>0</td><td>1</td><td>1</td><td>0</td><td>0</td><td>1</td><td>0</td><td>0</td><td>0</td><td>0</td><td>0</td><td>0</td><td>0</td><td>0</td><td>null</td><td>null</td><td>null</td><td>null</td><td>null</td><td>null</td><td>null</td><td>null</td><td>null</td><td>null</td><td>null</td><td>null</td><td>null</td><td>null</td><td>null</td><td>null</td><td>null</td><td>null</td></tr><tr><td>1212613735698690049</td><td>&quot;https://twitte…</td><td>&quot;@afilina That&#x27;…</td><td>&quot;2020-01-02 05:…</td><td>1024.0</td><td>6</td><td>0.005859</td><td>0</td><td>0</td><td>1</td><td>2</td><td>0</td><td>0</td><td>3</td><td>0</td><td>0</td><td>0</td><td>0</td><td>0</td><td>0</td><td>0</td><td>0</td><td>null</td><td>null</td><td>null</td><td>null</td><td>null</td><td>null</td><td>null</td><td>null</td><td>null</td><td>null</td><td>null</td><td>null</td><td>null</td><td>null</td><td>null</td><td>null</td><td>null</td><td>null</td></tr><tr><td>1212911749617242113</td><td>&quot;https://twitte…</td><td>&quot;@randal_olson …</td><td>&quot;2020-01-03 01:…</td><td>1419.0</td><td>14</td><td>0.009866</td><td>0</td><td>1</td><td>5</td><td>7</td><td>0</td><td>0</td><td>1</td><td>0</td><td>0</td><td>0</td><td>0</td><td>0</td><td>0</td><td>0</td><td>0</td><td>null</td><td>null</td><td>null</td><td>null</td><td>null</td><td>null</td><td>null</td><td>null</td><td>null</td><td>null</td><td>null</td><td>null</td><td>null</td><td>null</td><td>null</td><td>null</td><td>null</td><td>null</td></tr><tr><td>1212920556028252160</td><td>&quot;https://twitte…</td><td>&quot;@AlSweigart So…</td><td>&quot;2020-01-03 02:…</td><td>198.0</td><td>1</td><td>0.005051</td><td>0</td><td>0</td><td>1</td><td>0</td><td>0</td><td>0</td><td>0</td><td>0</td><td>0</td><td>0</td><td>0</td><td>0</td><td>0</td><td>0</td><td>0</td><td>null</td><td>null</td><td>null</td><td>null</td><td>null</td><td>null</td><td>null</td><td>null</td><td>null</td><td>null</td><td>null</td><td>null</td><td>null</td><td>null</td><td>null</td><td>null</td><td>null</td><td>null</td></tr><tr><td>1212921038356434947</td><td>&quot;https://twitte…</td><td>&quot;@tmarthal @Ted…</td><td>&quot;2020-01-03 02:…</td><td>170.0</td><td>3</td><td>0.017647</td><td>0</td><td>0</td><td>1</td><td>1</td><td>0</td><td>0</td><td>1</td><td>0</td><td>0</td><td>0</td><td>0</td><td>0</td><td>0</td><td>0</td><td>0</td><td>null</td><td>null</td><td>null</td><td>null</td><td>null</td><td>null</td><td>null</td><td>null</td><td>null</td><td>null</td><td>null</td><td>null</td><td>null</td><td>null</td><td>null</td><td>null</td><td>null</td><td>null</td></tr><tr><td>1212921192287330304</td><td>&quot;https://twitte…</td><td>&quot;@gabegundy It&#x27;…</td><td>&quot;2020-01-03 02:…</td><td>104.0</td><td>2</td><td>0.019231</td><td>0</td><td>1</td><td>1</td><td>0</td><td>0</td><td>0</td><td>0</td><td>0</td><td>0</td><td>0</td><td>0</td><td>0</td><td>0</td><td>0</td><td>0</td><td>null</td><td>null</td><td>null</td><td>null</td><td>null</td><td>null</td><td>null</td><td>null</td><td>null</td><td>null</td><td>null</td><td>null</td><td>null</td><td>null</td><td>null</td><td>null</td><td>null</td><td>null</td></tr><tr><td>1212969747186208768</td><td>&quot;https://twitte…</td><td>&quot;@anthonypjshaw…</td><td>&quot;2020-01-03 05:…</td><td>189.0</td><td>0</td><td>0.0</td><td>0</td><td>0</td><td>0</td><td>0</td><td>0</td><td>0</td><td>0</td><td>0</td><td>0</td><td>0</td><td>0</td><td>0</td><td>0</td><td>0</td><td>0</td><td>null</td><td>null</td><td>null</td><td>null</td><td>null</td><td>null</td><td>null</td><td>null</td><td>null</td><td>null</td><td>null</td><td>null</td><td>null</td><td>null</td><td>null</td><td>null</td><td>null</td><td>null</td></tr><tr><td>1212971634019033088</td><td>&quot;https://twitte…</td><td>&quot;@jet_set A lit…</td><td>&quot;2020-01-03 05:…</td><td>900.0</td><td>4</td><td>0.004444</td><td>0</td><td>0</td><td>0</td><td>4</td><td>0</td><td>0</td><td>0</td><td>0</td><td>0</td><td>0</td><td>0</td><td>0</td><td>0</td><td>0</td><td>0</td><td>null</td><td>null</td><td>null</td><td>null</td><td>null</td><td>null</td><td>null</td><td>null</td><td>null</td><td>null</td><td>null</td><td>null</td><td>null</td><td>null</td><td>null</td><td>null</td><td>null</td><td>null</td></tr><tr><td>1213194379793293312</td><td>&quot;https://twitte…</td><td>&quot;@juliasilge @r…</td><td>&quot;2020-01-03 20:…</td><td>252.0</td><td>2</td><td>0.007937</td><td>0</td><td>0</td><td>1</td><td>1</td><td>0</td><td>0</td><td>0</td><td>0</td><td>0</td><td>0</td><td>0</td><td>0</td><td>0</td><td>0</td><td>0</td><td>null</td><td>null</td><td>null</td><td>null</td><td>null</td><td>null</td><td>null</td><td>null</td><td>null</td><td>null</td><td>null</td><td>null</td><td>null</td><td>null</td><td>null</td><td>null</td><td>null</td><td>null</td></tr><tr><td>1213699561962631168</td><td>&quot;https://twitte…</td><td>&quot;Herein you wil…</td><td>&quot;2020-01-05 05:…</td><td>1610.0</td><td>6</td><td>0.003727</td><td>0</td><td>0</td><td>2</td><td>2</td><td>0</td><td>0</td><td>2</td><td>0</td><td>0</td><td>0</td><td>0</td><td>0</td><td>0</td><td>0</td><td>0</td><td>null</td><td>null</td><td>null</td><td>null</td><td>null</td><td>null</td><td>null</td><td>null</td><td>null</td><td>null</td><td>null</td><td>null</td><td>null</td><td>null</td><td>null</td><td>null</td><td>null</td><td>null</td></tr><tr><td>1213896543985516544</td><td>&quot;https://twitte…</td><td>&quot;@Austen Care t…</td><td>&quot;2020-01-05 18:…</td><td>165.0</td><td>3</td><td>0.018182</td><td>0</td><td>0</td><td>0</td><td>1</td><td>0</td><td>0</td><td>2</td><td>0</td><td>0</td><td>0</td><td>0</td><td>0</td><td>0</td><td>0</td><td>0</td><td>null</td><td>null</td><td>null</td><td>null</td><td>null</td><td>null</td><td>null</td><td>null</td><td>null</td><td>null</td><td>null</td><td>null</td><td>null</td><td>null</td><td>null</td><td>null</td><td>null</td><td>null</td></tr><tr><td>&hellip;</td><td>&hellip;</td><td>&hellip;</td><td>&hellip;</td><td>&hellip;</td><td>&hellip;</td><td>&hellip;</td><td>&hellip;</td><td>&hellip;</td><td>&hellip;</td><td>&hellip;</td><td>&hellip;</td><td>&hellip;</td><td>&hellip;</td><td>&hellip;</td><td>&hellip;</td><td>&hellip;</td><td>&hellip;</td><td>&hellip;</td><td>&hellip;</td><td>&hellip;</td><td>&hellip;</td><td>&hellip;</td><td>&hellip;</td><td>&hellip;</td><td>&hellip;</td><td>&hellip;</td><td>&hellip;</td><td>&hellip;</td><td>&hellip;</td><td>&hellip;</td><td>&hellip;</td><td>&hellip;</td><td>&hellip;</td><td>&hellip;</td><td>&hellip;</td><td>&hellip;</td><td>&hellip;</td><td>&hellip;</td><td>&hellip;</td></tr><tr><td>1474805013343981570</td><td>&quot;https://twitte…</td><td>&quot;@EricSchles @s…</td><td>&quot;2021-12-25 18:…</td><td>416.0</td><td>3</td><td>0.007212</td><td>0</td><td>0</td><td>2</td><td>1</td><td>0</td><td>0</td><td>0</td><td>0</td><td>0</td><td>0</td><td>0</td><td>0</td><td>0</td><td>0</td><td>0</td><td>null</td><td>null</td><td>null</td><td>null</td><td>null</td><td>null</td><td>null</td><td>null</td><td>null</td><td>null</td><td>null</td><td>null</td><td>null</td><td>null</td><td>null</td><td>null</td><td>null</td><td>null</td></tr><tr><td>1474820707234185217</td><td>&quot;https://twitte…</td><td>&quot;Mele kalikimak…</td><td>&quot;2021-12-25 19:…</td><td>15840.0</td><td>372</td><td>0.023485</td><td>0</td><td>2</td><td>61</td><td>59</td><td>6</td><td>0</td><td>66</td><td>0</td><td>0</td><td>0</td><td>0</td><td>0</td><td>0</td><td>178</td><td>178</td><td>null</td><td>null</td><td>null</td><td>null</td><td>null</td><td>null</td><td>null</td><td>null</td><td>null</td><td>null</td><td>null</td><td>null</td><td>null</td><td>null</td><td>null</td><td>null</td><td>null</td><td>null</td></tr><tr><td>1475023008620154882</td><td>&quot;https://twitte…</td><td>&quot;Good looking c…</td><td>&quot;2021-12-26 08:…</td><td>22557.0</td><td>501</td><td>0.02221</td><td>0</td><td>9</td><td>50</td><td>89</td><td>14</td><td>0</td><td>118</td><td>0</td><td>0</td><td>0</td><td>0</td><td>0</td><td>0</td><td>221</td><td>221</td><td>null</td><td>null</td><td>null</td><td>null</td><td>null</td><td>null</td><td>null</td><td>null</td><td>null</td><td>null</td><td>null</td><td>null</td><td>null</td><td>null</td><td>null</td><td>null</td><td>null</td><td>null</td></tr><tr><td>1475299210291343362</td><td>&quot;https://twitte…</td><td>&quot;@youtah A litt…</td><td>&quot;2021-12-27 02:…</td><td>1586.0</td><td>35</td><td>0.022068</td><td>0</td><td>0</td><td>2</td><td>1</td><td>1</td><td>0</td><td>0</td><td>0</td><td>0</td><td>0</td><td>0</td><td>0</td><td>0</td><td>31</td><td>31</td><td>null</td><td>null</td><td>null</td><td>null</td><td>null</td><td>null</td><td>null</td><td>null</td><td>null</td><td>null</td><td>null</td><td>null</td><td>null</td><td>null</td><td>null</td><td>null</td><td>null</td><td>null</td></tr><tr><td>1475299401681682434</td><td>&quot;https://twitte…</td><td>&quot;@mathsppblog S…</td><td>&quot;2021-12-27 02:…</td><td>4641.0</td><td>35</td><td>0.007541</td><td>0</td><td>4</td><td>11</td><td>10</td><td>0</td><td>0</td><td>10</td><td>0</td><td>0</td><td>0</td><td>0</td><td>0</td><td>0</td><td>0</td><td>0</td><td>null</td><td>null</td><td>null</td><td>null</td><td>null</td><td>null</td><td>null</td><td>null</td><td>null</td><td>null</td><td>null</td><td>null</td><td>null</td><td>null</td><td>null</td><td>null</td><td>null</td><td>null</td></tr><tr><td>1475299848093978626</td><td>&quot;https://twitte…</td><td>&quot;@willmcgugan P…</td><td>&quot;2021-12-27 02:…</td><td>1969.0</td><td>4</td><td>0.002031</td><td>0</td><td>0</td><td>4</td><td>0</td><td>0</td><td>0</td><td>0</td><td>0</td><td>0</td><td>0</td><td>0</td><td>0</td><td>0</td><td>0</td><td>0</td><td>null</td><td>null</td><td>null</td><td>null</td><td>null</td><td>null</td><td>null</td><td>null</td><td>null</td><td>null</td><td>null</td><td>null</td><td>null</td><td>null</td><td>null</td><td>null</td><td>null</td><td>null</td></tr><tr><td>1475300370138087426</td><td>&quot;https://twitte…</td><td>&quot;@reuvenmlerner…</td><td>&quot;2021-12-27 02:…</td><td>1669.0</td><td>5</td><td>0.002996</td><td>0</td><td>0</td><td>3</td><td>0</td><td>0</td><td>0</td><td>2</td><td>0</td><td>0</td><td>0</td><td>0</td><td>0</td><td>0</td><td>0</td><td>0</td><td>null</td><td>null</td><td>null</td><td>null</td><td>null</td><td>null</td><td>null</td><td>null</td><td>null</td><td>null</td><td>null</td><td>null</td><td>null</td><td>null</td><td>null</td><td>null</td><td>null</td><td>null</td></tr><tr><td>1475300661851934721</td><td>&quot;https://twitte…</td><td>&quot;@allison_horst…</td><td>&quot;2021-12-27 03:…</td><td>986.0</td><td>1</td><td>0.001014</td><td>0</td><td>0</td><td>0</td><td>0</td><td>0</td><td>0</td><td>1</td><td>0</td><td>0</td><td>0</td><td>0</td><td>0</td><td>0</td><td>0</td><td>0</td><td>null</td><td>null</td><td>null</td><td>null</td><td>null</td><td>null</td><td>null</td><td>null</td><td>null</td><td>null</td><td>null</td><td>null</td><td>null</td><td>null</td><td>null</td><td>null</td><td>null</td><td>null</td></tr><tr><td>1475518143690801156</td><td>&quot;https://twitte…</td><td>&quot;@willmcgugan Y…</td><td>&quot;2021-12-27 17:…</td><td>1790.0</td><td>7</td><td>0.003911</td><td>0</td><td>0</td><td>3</td><td>1</td><td>0</td><td>0</td><td>3</td><td>0</td><td>0</td><td>0</td><td>0</td><td>0</td><td>0</td><td>0</td><td>0</td><td>null</td><td>null</td><td>null</td><td>null</td><td>null</td><td>null</td><td>null</td><td>null</td><td>null</td><td>null</td><td>null</td><td>null</td><td>null</td><td>null</td><td>null</td><td>null</td><td>null</td><td>null</td></tr><tr><td>1475891441243025408</td><td>&quot;https://twitte…</td><td>&quot;@posco Visitin…</td><td>&quot;2021-12-28 18:…</td><td>1611.0</td><td>12</td><td>0.007449</td><td>0</td><td>0</td><td>4</td><td>4</td><td>0</td><td>0</td><td>4</td><td>0</td><td>0</td><td>0</td><td>0</td><td>0</td><td>0</td><td>0</td><td>0</td><td>null</td><td>null</td><td>null</td><td>null</td><td>null</td><td>null</td><td>null</td><td>null</td><td>null</td><td>null</td><td>null</td><td>null</td><td>null</td><td>null</td><td>null</td><td>null</td><td>null</td><td>null</td></tr><tr><td>1476453819751878656</td><td>&quot;https://twitte…</td><td>&quot;@johndsaunders…</td><td>&quot;2021-12-30 07:…</td><td>1354.0</td><td>8</td><td>0.005908</td><td>0</td><td>0</td><td>2</td><td>4</td><td>0</td><td>0</td><td>2</td><td>0</td><td>0</td><td>0</td><td>0</td><td>0</td><td>0</td><td>0</td><td>0</td><td>null</td><td>null</td><td>null</td><td>null</td><td>null</td><td>null</td><td>null</td><td>null</td><td>null</td><td>null</td><td>null</td><td>null</td><td>null</td><td>null</td><td>null</td><td>null</td><td>null</td><td>null</td></tr><tr><td>1477024722051158018</td><td>&quot;https://twitte…</td><td>&quot;@tunguz Xgboos…</td><td>&quot;2021-12-31 21:…</td><td>5041.0</td><td>63</td><td>0.012498</td><td>0</td><td>3</td><td>23</td><td>8</td><td>0</td><td>0</td><td>29</td><td>0</td><td>0</td><td>0</td><td>0</td><td>0</td><td>0</td><td>0</td><td>0</td><td>null</td><td>null</td><td>null</td><td>null</td><td>null</td><td>null</td><td>null</td><td>null</td><td>null</td><td>null</td><td>null</td><td>null</td><td>null</td><td>null</td><td>null</td><td>null</td><td>null</td><td>null</td></tr></tbody></table></div>"
      ],
      "text/plain": [
       "shape: (5_791, 40)\n",
       "┌─────────┬────────────┬──────────┬────────┬───┬────────────┬────────────┬────────────┬────────────┐\n",
       "│ Tweet   ┆ Tweet      ┆ Tweet    ┆ time   ┆ … ┆ promoted   ┆ promoted   ┆ promoted   ┆ promoted   │\n",
       "│ id      ┆ permalink  ┆ text     ┆ ---    ┆   ┆ email      ┆ dial phone ┆ media      ┆ media enga │\n",
       "│ ---     ┆ ---        ┆ ---      ┆ str    ┆   ┆ tweet      ┆ ---        ┆ views      ┆ gements    │\n",
       "│ i64     ┆ str        ┆ str      ┆        ┆   ┆ ---        ┆ str        ┆ ---        ┆ ---        │\n",
       "│         ┆            ┆          ┆        ┆   ┆ str        ┆            ┆ str        ┆ str        │\n",
       "╞═════════╪════════════╪══════════╪════════╪═══╪════════════╪════════════╪════════════╪════════════╡\n",
       "│ 1212580 ┆ https://tw ┆ Sounds   ┆ 2020-0 ┆ … ┆ null       ┆ null       ┆ null       ┆ null       │\n",
       "│ 5179057 ┆ itter.com/ ┆ like a   ┆ 1-02   ┆   ┆            ┆            ┆            ┆            │\n",
       "│ 80737   ┆ __mharriso ┆ great    ┆ 03:44: ┆   ┆            ┆            ┆            ┆            │\n",
       "│         ┆ n_…        ┆ topic!   ┆ 00+00: ┆   ┆            ┆            ┆            ┆            │\n",
       "│         ┆            ┆ https…   ┆ 00     ┆   ┆            ┆            ┆            ┆            │\n",
       "│ 1212582 ┆ https://tw ┆ @FogleBi ┆ 2020-0 ┆ … ┆ null       ┆ null       ┆ null       ┆ null       │\n",
       "│ 4948280 ┆ itter.com/ ┆ rd Looks ┆ 1-02   ┆   ┆            ┆            ┆            ┆            │\n",
       "│ 36097   ┆ __mharriso ┆ like     ┆ 03:52: ┆   ┆            ┆            ┆            ┆            │\n",
       "│         ┆ n_…        ┆ SLC. I   ┆ 00+00: ┆   ┆            ┆            ┆            ┆            │\n",
       "│         ┆            ┆ can…     ┆ 00     ┆   ┆            ┆            ┆            ┆            │\n",
       "│ 1212613 ┆ https://tw ┆ @afilina ┆ 2020-0 ┆ … ┆ null       ┆ null       ┆ null       ┆ null       │\n",
       "│ 7356986 ┆ itter.com/ ┆ That's   ┆ 1-02   ┆   ┆            ┆            ┆            ┆            │\n",
       "│ 90049   ┆ __mharriso ┆ really   ┆ 05:56: ┆   ┆            ┆            ┆            ┆            │\n",
       "│         ┆ n_…        ┆ amount   ┆ 00+00: ┆   ┆            ┆            ┆            ┆            │\n",
       "│         ┆            ┆ an…      ┆ 00     ┆   ┆            ┆            ┆            ┆            │\n",
       "│ 1212911 ┆ https://tw ┆ @randal_ ┆ 2020-0 ┆ … ┆ null       ┆ null       ┆ null       ┆ null       │\n",
       "│ 7496172 ┆ itter.com/ ┆ olson I  ┆ 1-03   ┆   ┆            ┆            ┆            ┆            │\n",
       "│ 42113   ┆ __mharriso ┆ use      ┆ 01:41: ┆   ┆            ┆            ┆            ┆            │\n",
       "│         ┆ n_…        ┆ anaconda ┆ 00+00: ┆   ┆            ┆            ┆            ┆            │\n",
       "│         ┆            ┆ whe…     ┆ 00     ┆   ┆            ┆            ┆            ┆            │\n",
       "│ …       ┆ …          ┆ …        ┆ …      ┆ … ┆ …          ┆ …          ┆ …          ┆ …          │\n",
       "│ 1475518 ┆ https://tw ┆ @willmcg ┆ 2021-1 ┆ … ┆ null       ┆ null       ┆ null       ┆ null       │\n",
       "│ 1436908 ┆ itter.com/ ┆ ugan You ┆ 2-27   ┆   ┆            ┆            ┆            ┆            │\n",
       "│ 01156   ┆ __mharriso ┆ need to  ┆ 17:25: ┆   ┆            ┆            ┆            ┆            │\n",
       "│         ┆ n_…        ┆ find ou… ┆ 00+00: ┆   ┆            ┆            ┆            ┆            │\n",
       "│         ┆            ┆          ┆ 00     ┆   ┆            ┆            ┆            ┆            │\n",
       "│ 1475891 ┆ https://tw ┆ @posco   ┆ 2021-1 ┆ … ┆ null       ┆ null       ┆ null       ┆ null       │\n",
       "│ 4412430 ┆ itter.com/ ┆ Visiting ┆ 2-28   ┆   ┆            ┆            ┆            ┆            │\n",
       "│ 25408   ┆ __mharriso ┆ Hawaii   ┆ 18:08: ┆   ┆            ┆            ┆            ┆            │\n",
       "│         ┆ n_…        ┆ for the  ┆ 00+00: ┆   ┆            ┆            ┆            ┆            │\n",
       "│         ┆            ┆ h…       ┆ 00     ┆   ┆            ┆            ┆            ┆            │\n",
       "│ 1476453 ┆ https://tw ┆ @johndsa ┆ 2021-1 ┆ … ┆ null       ┆ null       ┆ null       ┆ null       │\n",
       "│ 8197518 ┆ itter.com/ ┆ unders   ┆ 2-30   ┆   ┆            ┆            ┆            ┆            │\n",
       "│ 78656   ┆ __mharriso ┆ My son   ┆ 07:23: ┆   ┆            ┆            ┆            ┆            │\n",
       "│         ┆ n_…        ┆ just     ┆ 00+00: ┆   ┆            ┆            ┆            ┆            │\n",
       "│         ┆            ┆ built…   ┆ 00     ┆   ┆            ┆            ┆            ┆            │\n",
       "│ 1477024 ┆ https://tw ┆ @tunguz  ┆ 2021-1 ┆ … ┆ null       ┆ null       ┆ null       ┆ null       │\n",
       "│ 7220511 ┆ itter.com/ ┆ Xgboost  ┆ 2-31   ┆   ┆            ┆            ┆            ┆            │\n",
       "│ 58018   ┆ __mharriso ┆          ┆ 21:11: ┆   ┆            ┆            ┆            ┆            │\n",
       "│         ┆ n_…        ┆          ┆ 00+00: ┆   ┆            ┆            ┆            ┆            │\n",
       "│         ┆            ┆          ┆ 00     ┆   ┆            ┆            ┆            ┆            │\n",
       "└─────────┴────────────┴──────────┴────────┴───┴────────────┴────────────┴────────────┴────────────┘"
      ]
     },
     "execution_count": 78,
     "metadata": {},
     "output_type": "execute_result"
    }
   ],
   "source": [
    "# remove list comprehension\n",
    "# work with expressions!\n",
    "(df\n",
    " .with_columns(pl\n",
    "               .col(['engagements', 'retweets', 'replies', 'likes', 'user profile clicks', \n",
    "                     'url clicks', 'hashtag clicks', 'detail expands', 'permalink clicks', \n",
    "                     'app opens', 'app installs', 'follows', 'email tweet', 'dial phone', \n",
    "                     'media views', 'media engagements'])\n",
    "               .cast(pl.UInt16))\n",
    ")"
   ]
  },
  {
   "cell_type": "code",
   "execution_count": 79,
   "metadata": {
    "scrolled": true
   },
   "outputs": [
    {
     "name": "stdout",
     "output_type": "stream",
     "text": [
      "415 µs ± 39.9 µs per loop (mean ± std. dev. of 7 runs, 1,000 loops each)\n"
     ]
    }
   ],
   "source": [
    "%%timeit\n",
    "# removed eng_rate (not an integer)\n",
    "(df\n",
    " .with_columns([pl.col(col).cast(pl.UInt16)\n",
    "                for col in \n",
    "              ['engagements', 'retweets', 'replies', 'likes', 'user profile clicks', 'url clicks', \n",
    "               'hashtag clicks', 'detail expands', 'permalink clicks', 'app opens', 'app installs', \n",
    "               'follows', 'email tweet', 'dial phone', 'media views', 'media engagements']])\n",
    ")"
   ]
  },
  {
   "cell_type": "code",
   "execution_count": 80,
   "metadata": {
    "scrolled": true
   },
   "outputs": [
    {
     "name": "stdout",
     "output_type": "stream",
     "text": [
      "397 µs ± 31.2 µs per loop (mean ± std. dev. of 7 runs, 1,000 loops each)\n"
     ]
    }
   ],
   "source": [
    "%%timeit\n",
    "# remove list comprehension\n",
    "# work with expressions!\n",
    "(df\n",
    " .with_columns(pl\n",
    "               .col(['engagements', 'retweets', 'replies', 'likes', 'user profile clicks',\n",
    "                     'url clicks', 'hashtag clicks', 'detail expands', 'permalink clicks', \n",
    "                     'app opens', 'app installs', 'follows', 'email tweet', 'dial phone', \n",
    "                     'media views', 'media engagements'])\n",
    "               .cast(pl.UInt16))\n",
    ")"
   ]
  },
  {
   "cell_type": "code",
   "execution_count": 81,
   "metadata": {
    "scrolled": true
   },
   "outputs": [
    {
     "name": "stdout",
     "output_type": "stream",
     "text": [
      "367 µs ± 29.8 µs per loop (mean ± std. dev. of 7 runs, 1,000 loops each)\n"
     ]
    }
   ],
   "source": [
    "%%timeit\n",
    "# try being lazy\n",
    "(df\n",
    " .lazy()\n",
    " .with_columns(pl\n",
    "               .col(['engagements', 'retweets', 'replies', 'likes', 'user profile clicks',\n",
    "                     'url clicks', 'hashtag clicks', 'detail expands', 'permalink clicks', \n",
    "                     'app opens', 'app installs', 'follows', 'email tweet', 'dial phone', \n",
    "                     'media views', 'media engagements'])\n",
    "               .cast(pl.UInt16))\n",
    " .collect()\n",
    ")"
   ]
  },
  {
   "cell_type": "code",
   "execution_count": 83,
   "metadata": {},
   "outputs": [
    {
     "data": {
      "text/plain": [
       "iinfo(min=0, max=4294967295, dtype=uint32)"
      ]
     },
     "execution_count": 83,
     "metadata": {},
     "output_type": "execute_result"
    }
   ],
   "source": [
    "np.iinfo(np.uint32)"
   ]
  },
  {
   "cell_type": "code",
   "execution_count": 82,
   "metadata": {},
   "outputs": [
    {
     "name": "stdout",
     "output_type": "stream",
     "text": [
      "['describe']\n"
     ]
    }
   ],
   "source": [
    "# find large uint32\n",
    "def filter_cols(a_df):\n",
    "    cols = [pl.col(col) \n",
    "             for col in a_df.columns\n",
    "             if col != 'describe' and a_df[col][-2] > 65_535 and a_df[col][-2] <= 4_294_967_295 \n",
    "             ]\n",
    "    return (a_df\n",
    "            .select(['describe', *cols])\n",
    "           )\n",
    "\n",
    "print(df\n",
    " .select(pl.col([pl.Float64, pl.Int64]))\n",
    " .pipe(pd_describe)\n",
    " .pipe(filter_cols) \n",
    " .columns\n",
    ")"
   ]
  },
  {
   "cell_type": "code",
   "execution_count": 84,
   "metadata": {
    "scrolled": true
   },
   "outputs": [
    {
     "data": {
      "text/html": [
       "<div><style>\n",
       ".dataframe > thead > tr > th,\n",
       ".dataframe > tbody > tr > td {\n",
       "  text-align: right;\n",
       "}\n",
       "</style>\n",
       "<small>shape: (5791, 40)</small><table border=\"1\" class=\"dataframe\"><thead><tr><th>Tweet id</th><th>Tweet permalink</th><th>Tweet text</th><th>time</th><th>impressions</th><th>engagements</th><th>engagement rate</th><th>retweets</th><th>replies</th><th>likes</th><th>user profile clicks</th><th>url clicks</th><th>hashtag clicks</th><th>detail expands</th><th>permalink clicks</th><th>app opens</th><th>app installs</th><th>follows</th><th>email tweet</th><th>dial phone</th><th>media views</th><th>media engagements</th><th>promoted impressions</th><th>promoted engagements</th><th>promoted engagement rate</th><th>promoted retweets</th><th>promoted replies</th><th>promoted likes</th><th>promoted user profile clicks</th><th>promoted url clicks</th><th>promoted hashtag clicks</th><th>promoted detail expands</th><th>promoted permalink clicks</th><th>promoted app opens</th><th>promoted app installs</th><th>promoted follows</th><th>promoted email tweet</th><th>promoted dial phone</th><th>promoted media views</th><th>promoted media engagements</th></tr><tr><td>i64</td><td>str</td><td>str</td><td>str</td><td>u32</td><td>u16</td><td>f64</td><td>u16</td><td>u8</td><td>u16</td><td>u16</td><td>u16</td><td>u8</td><td>u16</td><td>u8</td><td>u8</td><td>u8</td><td>u8</td><td>u8</td><td>u8</td><td>u16</td><td>u16</td><td>str</td><td>str</td><td>str</td><td>str</td><td>str</td><td>str</td><td>str</td><td>str</td><td>str</td><td>str</td><td>str</td><td>str</td><td>str</td><td>str</td><td>str</td><td>str</td><td>str</td><td>str</td></tr></thead><tbody><tr><td>1212580517905780737</td><td>&quot;https://twitte…</td><td>&quot;Sounds like a …</td><td>&quot;2020-01-02 03:…</td><td>1465</td><td>7</td><td>0.004778</td><td>0</td><td>0</td><td>3</td><td>3</td><td>0</td><td>0</td><td>1</td><td>0</td><td>0</td><td>0</td><td>0</td><td>0</td><td>0</td><td>0</td><td>0</td><td>null</td><td>null</td><td>null</td><td>null</td><td>null</td><td>null</td><td>null</td><td>null</td><td>null</td><td>null</td><td>null</td><td>null</td><td>null</td><td>null</td><td>null</td><td>null</td><td>null</td><td>null</td></tr><tr><td>1212582494828036097</td><td>&quot;https://twitte…</td><td>&quot;@FogleBird Loo…</td><td>&quot;2020-01-02 03:…</td><td>154</td><td>3</td><td>0.019481</td><td>0</td><td>0</td><td>1</td><td>1</td><td>0</td><td>0</td><td>1</td><td>0</td><td>0</td><td>0</td><td>0</td><td>0</td><td>0</td><td>0</td><td>0</td><td>null</td><td>null</td><td>null</td><td>null</td><td>null</td><td>null</td><td>null</td><td>null</td><td>null</td><td>null</td><td>null</td><td>null</td><td>null</td><td>null</td><td>null</td><td>null</td><td>null</td><td>null</td></tr><tr><td>1212613735698690049</td><td>&quot;https://twitte…</td><td>&quot;@afilina That&#x27;…</td><td>&quot;2020-01-02 05:…</td><td>1024</td><td>6</td><td>0.005859</td><td>0</td><td>0</td><td>1</td><td>2</td><td>0</td><td>0</td><td>3</td><td>0</td><td>0</td><td>0</td><td>0</td><td>0</td><td>0</td><td>0</td><td>0</td><td>null</td><td>null</td><td>null</td><td>null</td><td>null</td><td>null</td><td>null</td><td>null</td><td>null</td><td>null</td><td>null</td><td>null</td><td>null</td><td>null</td><td>null</td><td>null</td><td>null</td><td>null</td></tr><tr><td>1212911749617242113</td><td>&quot;https://twitte…</td><td>&quot;@randal_olson …</td><td>&quot;2020-01-03 01:…</td><td>1419</td><td>14</td><td>0.009866</td><td>0</td><td>1</td><td>5</td><td>7</td><td>0</td><td>0</td><td>1</td><td>0</td><td>0</td><td>0</td><td>0</td><td>0</td><td>0</td><td>0</td><td>0</td><td>null</td><td>null</td><td>null</td><td>null</td><td>null</td><td>null</td><td>null</td><td>null</td><td>null</td><td>null</td><td>null</td><td>null</td><td>null</td><td>null</td><td>null</td><td>null</td><td>null</td><td>null</td></tr><tr><td>1212920556028252160</td><td>&quot;https://twitte…</td><td>&quot;@AlSweigart So…</td><td>&quot;2020-01-03 02:…</td><td>198</td><td>1</td><td>0.005051</td><td>0</td><td>0</td><td>1</td><td>0</td><td>0</td><td>0</td><td>0</td><td>0</td><td>0</td><td>0</td><td>0</td><td>0</td><td>0</td><td>0</td><td>0</td><td>null</td><td>null</td><td>null</td><td>null</td><td>null</td><td>null</td><td>null</td><td>null</td><td>null</td><td>null</td><td>null</td><td>null</td><td>null</td><td>null</td><td>null</td><td>null</td><td>null</td><td>null</td></tr><tr><td>1212921038356434947</td><td>&quot;https://twitte…</td><td>&quot;@tmarthal @Ted…</td><td>&quot;2020-01-03 02:…</td><td>170</td><td>3</td><td>0.017647</td><td>0</td><td>0</td><td>1</td><td>1</td><td>0</td><td>0</td><td>1</td><td>0</td><td>0</td><td>0</td><td>0</td><td>0</td><td>0</td><td>0</td><td>0</td><td>null</td><td>null</td><td>null</td><td>null</td><td>null</td><td>null</td><td>null</td><td>null</td><td>null</td><td>null</td><td>null</td><td>null</td><td>null</td><td>null</td><td>null</td><td>null</td><td>null</td><td>null</td></tr><tr><td>1212921192287330304</td><td>&quot;https://twitte…</td><td>&quot;@gabegundy It&#x27;…</td><td>&quot;2020-01-03 02:…</td><td>104</td><td>2</td><td>0.019231</td><td>0</td><td>1</td><td>1</td><td>0</td><td>0</td><td>0</td><td>0</td><td>0</td><td>0</td><td>0</td><td>0</td><td>0</td><td>0</td><td>0</td><td>0</td><td>null</td><td>null</td><td>null</td><td>null</td><td>null</td><td>null</td><td>null</td><td>null</td><td>null</td><td>null</td><td>null</td><td>null</td><td>null</td><td>null</td><td>null</td><td>null</td><td>null</td><td>null</td></tr><tr><td>1212969747186208768</td><td>&quot;https://twitte…</td><td>&quot;@anthonypjshaw…</td><td>&quot;2020-01-03 05:…</td><td>189</td><td>0</td><td>0.0</td><td>0</td><td>0</td><td>0</td><td>0</td><td>0</td><td>0</td><td>0</td><td>0</td><td>0</td><td>0</td><td>0</td><td>0</td><td>0</td><td>0</td><td>0</td><td>null</td><td>null</td><td>null</td><td>null</td><td>null</td><td>null</td><td>null</td><td>null</td><td>null</td><td>null</td><td>null</td><td>null</td><td>null</td><td>null</td><td>null</td><td>null</td><td>null</td><td>null</td></tr><tr><td>1212971634019033088</td><td>&quot;https://twitte…</td><td>&quot;@jet_set A lit…</td><td>&quot;2020-01-03 05:…</td><td>900</td><td>4</td><td>0.004444</td><td>0</td><td>0</td><td>0</td><td>4</td><td>0</td><td>0</td><td>0</td><td>0</td><td>0</td><td>0</td><td>0</td><td>0</td><td>0</td><td>0</td><td>0</td><td>null</td><td>null</td><td>null</td><td>null</td><td>null</td><td>null</td><td>null</td><td>null</td><td>null</td><td>null</td><td>null</td><td>null</td><td>null</td><td>null</td><td>null</td><td>null</td><td>null</td><td>null</td></tr><tr><td>1213194379793293312</td><td>&quot;https://twitte…</td><td>&quot;@juliasilge @r…</td><td>&quot;2020-01-03 20:…</td><td>252</td><td>2</td><td>0.007937</td><td>0</td><td>0</td><td>1</td><td>1</td><td>0</td><td>0</td><td>0</td><td>0</td><td>0</td><td>0</td><td>0</td><td>0</td><td>0</td><td>0</td><td>0</td><td>null</td><td>null</td><td>null</td><td>null</td><td>null</td><td>null</td><td>null</td><td>null</td><td>null</td><td>null</td><td>null</td><td>null</td><td>null</td><td>null</td><td>null</td><td>null</td><td>null</td><td>null</td></tr><tr><td>1213699561962631168</td><td>&quot;https://twitte…</td><td>&quot;Herein you wil…</td><td>&quot;2020-01-05 05:…</td><td>1610</td><td>6</td><td>0.003727</td><td>0</td><td>0</td><td>2</td><td>2</td><td>0</td><td>0</td><td>2</td><td>0</td><td>0</td><td>0</td><td>0</td><td>0</td><td>0</td><td>0</td><td>0</td><td>null</td><td>null</td><td>null</td><td>null</td><td>null</td><td>null</td><td>null</td><td>null</td><td>null</td><td>null</td><td>null</td><td>null</td><td>null</td><td>null</td><td>null</td><td>null</td><td>null</td><td>null</td></tr><tr><td>1213896543985516544</td><td>&quot;https://twitte…</td><td>&quot;@Austen Care t…</td><td>&quot;2020-01-05 18:…</td><td>165</td><td>3</td><td>0.018182</td><td>0</td><td>0</td><td>0</td><td>1</td><td>0</td><td>0</td><td>2</td><td>0</td><td>0</td><td>0</td><td>0</td><td>0</td><td>0</td><td>0</td><td>0</td><td>null</td><td>null</td><td>null</td><td>null</td><td>null</td><td>null</td><td>null</td><td>null</td><td>null</td><td>null</td><td>null</td><td>null</td><td>null</td><td>null</td><td>null</td><td>null</td><td>null</td><td>null</td></tr><tr><td>&hellip;</td><td>&hellip;</td><td>&hellip;</td><td>&hellip;</td><td>&hellip;</td><td>&hellip;</td><td>&hellip;</td><td>&hellip;</td><td>&hellip;</td><td>&hellip;</td><td>&hellip;</td><td>&hellip;</td><td>&hellip;</td><td>&hellip;</td><td>&hellip;</td><td>&hellip;</td><td>&hellip;</td><td>&hellip;</td><td>&hellip;</td><td>&hellip;</td><td>&hellip;</td><td>&hellip;</td><td>&hellip;</td><td>&hellip;</td><td>&hellip;</td><td>&hellip;</td><td>&hellip;</td><td>&hellip;</td><td>&hellip;</td><td>&hellip;</td><td>&hellip;</td><td>&hellip;</td><td>&hellip;</td><td>&hellip;</td><td>&hellip;</td><td>&hellip;</td><td>&hellip;</td><td>&hellip;</td><td>&hellip;</td><td>&hellip;</td></tr><tr><td>1474805013343981570</td><td>&quot;https://twitte…</td><td>&quot;@EricSchles @s…</td><td>&quot;2021-12-25 18:…</td><td>416</td><td>3</td><td>0.007212</td><td>0</td><td>0</td><td>2</td><td>1</td><td>0</td><td>0</td><td>0</td><td>0</td><td>0</td><td>0</td><td>0</td><td>0</td><td>0</td><td>0</td><td>0</td><td>null</td><td>null</td><td>null</td><td>null</td><td>null</td><td>null</td><td>null</td><td>null</td><td>null</td><td>null</td><td>null</td><td>null</td><td>null</td><td>null</td><td>null</td><td>null</td><td>null</td><td>null</td></tr><tr><td>1474820707234185217</td><td>&quot;https://twitte…</td><td>&quot;Mele kalikimak…</td><td>&quot;2021-12-25 19:…</td><td>15840</td><td>372</td><td>0.023485</td><td>0</td><td>2</td><td>61</td><td>59</td><td>6</td><td>0</td><td>66</td><td>0</td><td>0</td><td>0</td><td>0</td><td>0</td><td>0</td><td>178</td><td>178</td><td>null</td><td>null</td><td>null</td><td>null</td><td>null</td><td>null</td><td>null</td><td>null</td><td>null</td><td>null</td><td>null</td><td>null</td><td>null</td><td>null</td><td>null</td><td>null</td><td>null</td><td>null</td></tr><tr><td>1475023008620154882</td><td>&quot;https://twitte…</td><td>&quot;Good looking c…</td><td>&quot;2021-12-26 08:…</td><td>22557</td><td>501</td><td>0.02221</td><td>0</td><td>9</td><td>50</td><td>89</td><td>14</td><td>0</td><td>118</td><td>0</td><td>0</td><td>0</td><td>0</td><td>0</td><td>0</td><td>221</td><td>221</td><td>null</td><td>null</td><td>null</td><td>null</td><td>null</td><td>null</td><td>null</td><td>null</td><td>null</td><td>null</td><td>null</td><td>null</td><td>null</td><td>null</td><td>null</td><td>null</td><td>null</td><td>null</td></tr><tr><td>1475299210291343362</td><td>&quot;https://twitte…</td><td>&quot;@youtah A litt…</td><td>&quot;2021-12-27 02:…</td><td>1586</td><td>35</td><td>0.022068</td><td>0</td><td>0</td><td>2</td><td>1</td><td>1</td><td>0</td><td>0</td><td>0</td><td>0</td><td>0</td><td>0</td><td>0</td><td>0</td><td>31</td><td>31</td><td>null</td><td>null</td><td>null</td><td>null</td><td>null</td><td>null</td><td>null</td><td>null</td><td>null</td><td>null</td><td>null</td><td>null</td><td>null</td><td>null</td><td>null</td><td>null</td><td>null</td><td>null</td></tr><tr><td>1475299401681682434</td><td>&quot;https://twitte…</td><td>&quot;@mathsppblog S…</td><td>&quot;2021-12-27 02:…</td><td>4641</td><td>35</td><td>0.007541</td><td>0</td><td>4</td><td>11</td><td>10</td><td>0</td><td>0</td><td>10</td><td>0</td><td>0</td><td>0</td><td>0</td><td>0</td><td>0</td><td>0</td><td>0</td><td>null</td><td>null</td><td>null</td><td>null</td><td>null</td><td>null</td><td>null</td><td>null</td><td>null</td><td>null</td><td>null</td><td>null</td><td>null</td><td>null</td><td>null</td><td>null</td><td>null</td><td>null</td></tr><tr><td>1475299848093978626</td><td>&quot;https://twitte…</td><td>&quot;@willmcgugan P…</td><td>&quot;2021-12-27 02:…</td><td>1969</td><td>4</td><td>0.002031</td><td>0</td><td>0</td><td>4</td><td>0</td><td>0</td><td>0</td><td>0</td><td>0</td><td>0</td><td>0</td><td>0</td><td>0</td><td>0</td><td>0</td><td>0</td><td>null</td><td>null</td><td>null</td><td>null</td><td>null</td><td>null</td><td>null</td><td>null</td><td>null</td><td>null</td><td>null</td><td>null</td><td>null</td><td>null</td><td>null</td><td>null</td><td>null</td><td>null</td></tr><tr><td>1475300370138087426</td><td>&quot;https://twitte…</td><td>&quot;@reuvenmlerner…</td><td>&quot;2021-12-27 02:…</td><td>1669</td><td>5</td><td>0.002996</td><td>0</td><td>0</td><td>3</td><td>0</td><td>0</td><td>0</td><td>2</td><td>0</td><td>0</td><td>0</td><td>0</td><td>0</td><td>0</td><td>0</td><td>0</td><td>null</td><td>null</td><td>null</td><td>null</td><td>null</td><td>null</td><td>null</td><td>null</td><td>null</td><td>null</td><td>null</td><td>null</td><td>null</td><td>null</td><td>null</td><td>null</td><td>null</td><td>null</td></tr><tr><td>1475300661851934721</td><td>&quot;https://twitte…</td><td>&quot;@allison_horst…</td><td>&quot;2021-12-27 03:…</td><td>986</td><td>1</td><td>0.001014</td><td>0</td><td>0</td><td>0</td><td>0</td><td>0</td><td>0</td><td>1</td><td>0</td><td>0</td><td>0</td><td>0</td><td>0</td><td>0</td><td>0</td><td>0</td><td>null</td><td>null</td><td>null</td><td>null</td><td>null</td><td>null</td><td>null</td><td>null</td><td>null</td><td>null</td><td>null</td><td>null</td><td>null</td><td>null</td><td>null</td><td>null</td><td>null</td><td>null</td></tr><tr><td>1475518143690801156</td><td>&quot;https://twitte…</td><td>&quot;@willmcgugan Y…</td><td>&quot;2021-12-27 17:…</td><td>1790</td><td>7</td><td>0.003911</td><td>0</td><td>0</td><td>3</td><td>1</td><td>0</td><td>0</td><td>3</td><td>0</td><td>0</td><td>0</td><td>0</td><td>0</td><td>0</td><td>0</td><td>0</td><td>null</td><td>null</td><td>null</td><td>null</td><td>null</td><td>null</td><td>null</td><td>null</td><td>null</td><td>null</td><td>null</td><td>null</td><td>null</td><td>null</td><td>null</td><td>null</td><td>null</td><td>null</td></tr><tr><td>1475891441243025408</td><td>&quot;https://twitte…</td><td>&quot;@posco Visitin…</td><td>&quot;2021-12-28 18:…</td><td>1611</td><td>12</td><td>0.007449</td><td>0</td><td>0</td><td>4</td><td>4</td><td>0</td><td>0</td><td>4</td><td>0</td><td>0</td><td>0</td><td>0</td><td>0</td><td>0</td><td>0</td><td>0</td><td>null</td><td>null</td><td>null</td><td>null</td><td>null</td><td>null</td><td>null</td><td>null</td><td>null</td><td>null</td><td>null</td><td>null</td><td>null</td><td>null</td><td>null</td><td>null</td><td>null</td><td>null</td></tr><tr><td>1476453819751878656</td><td>&quot;https://twitte…</td><td>&quot;@johndsaunders…</td><td>&quot;2021-12-30 07:…</td><td>1354</td><td>8</td><td>0.005908</td><td>0</td><td>0</td><td>2</td><td>4</td><td>0</td><td>0</td><td>2</td><td>0</td><td>0</td><td>0</td><td>0</td><td>0</td><td>0</td><td>0</td><td>0</td><td>null</td><td>null</td><td>null</td><td>null</td><td>null</td><td>null</td><td>null</td><td>null</td><td>null</td><td>null</td><td>null</td><td>null</td><td>null</td><td>null</td><td>null</td><td>null</td><td>null</td><td>null</td></tr><tr><td>1477024722051158018</td><td>&quot;https://twitte…</td><td>&quot;@tunguz Xgboos…</td><td>&quot;2021-12-31 21:…</td><td>5041</td><td>63</td><td>0.012498</td><td>0</td><td>3</td><td>23</td><td>8</td><td>0</td><td>0</td><td>29</td><td>0</td><td>0</td><td>0</td><td>0</td><td>0</td><td>0</td><td>0</td><td>0</td><td>null</td><td>null</td><td>null</td><td>null</td><td>null</td><td>null</td><td>null</td><td>null</td><td>null</td><td>null</td><td>null</td><td>null</td><td>null</td><td>null</td><td>null</td><td>null</td><td>null</td><td>null</td></tr></tbody></table></div>"
      ],
      "text/plain": [
       "shape: (5_791, 40)\n",
       "┌─────────┬────────────┬──────────┬────────┬───┬────────────┬────────────┬────────────┬────────────┐\n",
       "│ Tweet   ┆ Tweet      ┆ Tweet    ┆ time   ┆ … ┆ promoted   ┆ promoted   ┆ promoted   ┆ promoted   │\n",
       "│ id      ┆ permalink  ┆ text     ┆ ---    ┆   ┆ email      ┆ dial phone ┆ media      ┆ media enga │\n",
       "│ ---     ┆ ---        ┆ ---      ┆ str    ┆   ┆ tweet      ┆ ---        ┆ views      ┆ gements    │\n",
       "│ i64     ┆ str        ┆ str      ┆        ┆   ┆ ---        ┆ str        ┆ ---        ┆ ---        │\n",
       "│         ┆            ┆          ┆        ┆   ┆ str        ┆            ┆ str        ┆ str        │\n",
       "╞═════════╪════════════╪══════════╪════════╪═══╪════════════╪════════════╪════════════╪════════════╡\n",
       "│ 1212580 ┆ https://tw ┆ Sounds   ┆ 2020-0 ┆ … ┆ null       ┆ null       ┆ null       ┆ null       │\n",
       "│ 5179057 ┆ itter.com/ ┆ like a   ┆ 1-02   ┆   ┆            ┆            ┆            ┆            │\n",
       "│ 80737   ┆ __mharriso ┆ great    ┆ 03:44: ┆   ┆            ┆            ┆            ┆            │\n",
       "│         ┆ n_…        ┆ topic!   ┆ 00+00: ┆   ┆            ┆            ┆            ┆            │\n",
       "│         ┆            ┆ https…   ┆ 00     ┆   ┆            ┆            ┆            ┆            │\n",
       "│ 1212582 ┆ https://tw ┆ @FogleBi ┆ 2020-0 ┆ … ┆ null       ┆ null       ┆ null       ┆ null       │\n",
       "│ 4948280 ┆ itter.com/ ┆ rd Looks ┆ 1-02   ┆   ┆            ┆            ┆            ┆            │\n",
       "│ 36097   ┆ __mharriso ┆ like     ┆ 03:52: ┆   ┆            ┆            ┆            ┆            │\n",
       "│         ┆ n_…        ┆ SLC. I   ┆ 00+00: ┆   ┆            ┆            ┆            ┆            │\n",
       "│         ┆            ┆ can…     ┆ 00     ┆   ┆            ┆            ┆            ┆            │\n",
       "│ 1212613 ┆ https://tw ┆ @afilina ┆ 2020-0 ┆ … ┆ null       ┆ null       ┆ null       ┆ null       │\n",
       "│ 7356986 ┆ itter.com/ ┆ That's   ┆ 1-02   ┆   ┆            ┆            ┆            ┆            │\n",
       "│ 90049   ┆ __mharriso ┆ really   ┆ 05:56: ┆   ┆            ┆            ┆            ┆            │\n",
       "│         ┆ n_…        ┆ amount   ┆ 00+00: ┆   ┆            ┆            ┆            ┆            │\n",
       "│         ┆            ┆ an…      ┆ 00     ┆   ┆            ┆            ┆            ┆            │\n",
       "│ 1212911 ┆ https://tw ┆ @randal_ ┆ 2020-0 ┆ … ┆ null       ┆ null       ┆ null       ┆ null       │\n",
       "│ 7496172 ┆ itter.com/ ┆ olson I  ┆ 1-03   ┆   ┆            ┆            ┆            ┆            │\n",
       "│ 42113   ┆ __mharriso ┆ use      ┆ 01:41: ┆   ┆            ┆            ┆            ┆            │\n",
       "│         ┆ n_…        ┆ anaconda ┆ 00+00: ┆   ┆            ┆            ┆            ┆            │\n",
       "│         ┆            ┆ whe…     ┆ 00     ┆   ┆            ┆            ┆            ┆            │\n",
       "│ …       ┆ …          ┆ …        ┆ …      ┆ … ┆ …          ┆ …          ┆ …          ┆ …          │\n",
       "│ 1475518 ┆ https://tw ┆ @willmcg ┆ 2021-1 ┆ … ┆ null       ┆ null       ┆ null       ┆ null       │\n",
       "│ 1436908 ┆ itter.com/ ┆ ugan You ┆ 2-27   ┆   ┆            ┆            ┆            ┆            │\n",
       "│ 01156   ┆ __mharriso ┆ need to  ┆ 17:25: ┆   ┆            ┆            ┆            ┆            │\n",
       "│         ┆ n_…        ┆ find ou… ┆ 00+00: ┆   ┆            ┆            ┆            ┆            │\n",
       "│         ┆            ┆          ┆ 00     ┆   ┆            ┆            ┆            ┆            │\n",
       "│ 1475891 ┆ https://tw ┆ @posco   ┆ 2021-1 ┆ … ┆ null       ┆ null       ┆ null       ┆ null       │\n",
       "│ 4412430 ┆ itter.com/ ┆ Visiting ┆ 2-28   ┆   ┆            ┆            ┆            ┆            │\n",
       "│ 25408   ┆ __mharriso ┆ Hawaii   ┆ 18:08: ┆   ┆            ┆            ┆            ┆            │\n",
       "│         ┆ n_…        ┆ for the  ┆ 00+00: ┆   ┆            ┆            ┆            ┆            │\n",
       "│         ┆            ┆ h…       ┆ 00     ┆   ┆            ┆            ┆            ┆            │\n",
       "│ 1476453 ┆ https://tw ┆ @johndsa ┆ 2021-1 ┆ … ┆ null       ┆ null       ┆ null       ┆ null       │\n",
       "│ 8197518 ┆ itter.com/ ┆ unders   ┆ 2-30   ┆   ┆            ┆            ┆            ┆            │\n",
       "│ 78656   ┆ __mharriso ┆ My son   ┆ 07:23: ┆   ┆            ┆            ┆            ┆            │\n",
       "│         ┆ n_…        ┆ just     ┆ 00+00: ┆   ┆            ┆            ┆            ┆            │\n",
       "│         ┆            ┆ built…   ┆ 00     ┆   ┆            ┆            ┆            ┆            │\n",
       "│ 1477024 ┆ https://tw ┆ @tunguz  ┆ 2021-1 ┆ … ┆ null       ┆ null       ┆ null       ┆ null       │\n",
       "│ 7220511 ┆ itter.com/ ┆ Xgboost  ┆ 2-31   ┆   ┆            ┆            ┆            ┆            │\n",
       "│ 58018   ┆ __mharriso ┆          ┆ 21:11: ┆   ┆            ┆            ┆            ┆            │\n",
       "│         ┆ n_…        ┆          ┆ 00+00: ┆   ┆            ┆            ┆            ┆            │\n",
       "│         ┆            ┆          ┆ 00     ┆   ┆            ┆            ┆            ┆            │\n",
       "└─────────┴────────────┴──────────┴────────┴───┴────────────┴────────────┴────────────┴────────────┘"
      ]
     },
     "execution_count": 84,
     "metadata": {},
     "output_type": "execute_result"
    }
   ],
   "source": [
    "(df\n",
    " .with_columns([\n",
    "    pl.col(['replies', 'hashtag clicks', 'permalink clicks', 'app opens', 'app installs', 'follows', 'email tweet', 'dial phone'])\n",
    "      .cast(pl.UInt8),\n",
    "    pl.col(['engagements', 'retweets', 'likes', 'user profile clicks', 'url clicks',  'detail expands', 'media views', 'media engagements'])\n",
    "      .cast(pl.UInt16),\n",
    "    pl.col('impressions').cast(pl.UInt32)\n",
    "   ])\n",
    ")"
   ]
  },
  {
   "cell_type": "code",
   "execution_count": null,
   "metadata": {},
   "outputs": [],
   "source": [
    "# filter promoted columns"
   ]
  },
  {
   "cell_type": "code",
   "execution_count": 85,
   "metadata": {
    "scrolled": true
   },
   "outputs": [
    {
     "ename": "ValueError",
     "evalue": "The truth value of a DataFrame is ambiguous. Hint: to check if a DataFrame contains any values, use 'is_empty()'",
     "output_type": "error",
     "traceback": [
      "\u001b[0;31m---------------------------------------------------------------------------\u001b[0m",
      "\u001b[0;31mValueError\u001b[0m                                Traceback (most recent call last)",
      "Cell \u001b[0;32mIn[85], line 1\u001b[0m\n\u001b[0;32m----> 1\u001b[0m \u001b[43mget_ipython\u001b[49m\u001b[43m(\u001b[49m\u001b[43m)\u001b[49m\u001b[38;5;241;43m.\u001b[39;49m\u001b[43mrun_line_magic\u001b[49m\u001b[43m(\u001b[49m\u001b[38;5;124;43m'\u001b[39;49m\u001b[38;5;124;43mpinfo\u001b[39;49m\u001b[38;5;124;43m'\u001b[39;49m\u001b[43m,\u001b[49m\u001b[43m \u001b[49m\u001b[38;5;124;43m'\u001b[39;49m\u001b[38;5;124;43mdf.select\u001b[39;49m\u001b[38;5;124;43m'\u001b[39;49m\u001b[43m)\u001b[49m\n",
      "File \u001b[0;32m~/.envs/2023env/lib/python3.10/site-packages/IPython/core/interactiveshell.py:2414\u001b[0m, in \u001b[0;36mInteractiveShell.run_line_magic\u001b[0;34m(self, magic_name, line, _stack_depth)\u001b[0m\n\u001b[1;32m   2412\u001b[0m     kwargs[\u001b[38;5;124m'\u001b[39m\u001b[38;5;124mlocal_ns\u001b[39m\u001b[38;5;124m'\u001b[39m] \u001b[38;5;241m=\u001b[39m \u001b[38;5;28mself\u001b[39m\u001b[38;5;241m.\u001b[39mget_local_scope(stack_depth)\n\u001b[1;32m   2413\u001b[0m \u001b[38;5;28;01mwith\u001b[39;00m \u001b[38;5;28mself\u001b[39m\u001b[38;5;241m.\u001b[39mbuiltin_trap:\n\u001b[0;32m-> 2414\u001b[0m     result \u001b[38;5;241m=\u001b[39m \u001b[43mfn\u001b[49m\u001b[43m(\u001b[49m\u001b[38;5;241;43m*\u001b[39;49m\u001b[43margs\u001b[49m\u001b[43m,\u001b[49m\u001b[43m \u001b[49m\u001b[38;5;241;43m*\u001b[39;49m\u001b[38;5;241;43m*\u001b[39;49m\u001b[43mkwargs\u001b[49m\u001b[43m)\u001b[49m\n\u001b[1;32m   2416\u001b[0m \u001b[38;5;66;03m# The code below prevents the output from being displayed\u001b[39;00m\n\u001b[1;32m   2417\u001b[0m \u001b[38;5;66;03m# when using magics with decodator @output_can_be_silenced\u001b[39;00m\n\u001b[1;32m   2418\u001b[0m \u001b[38;5;66;03m# when the last Python token in the expression is a ';'.\u001b[39;00m\n\u001b[1;32m   2419\u001b[0m \u001b[38;5;28;01mif\u001b[39;00m \u001b[38;5;28mgetattr\u001b[39m(fn, magic\u001b[38;5;241m.\u001b[39mMAGIC_OUTPUT_CAN_BE_SILENCED, \u001b[38;5;28;01mFalse\u001b[39;00m):\n",
      "File \u001b[0;32m~/.envs/2023env/lib/python3.10/site-packages/IPython/core/magics/namespace.py:58\u001b[0m, in \u001b[0;36mNamespaceMagics.pinfo\u001b[0;34m(self, parameter_s, namespaces)\u001b[0m\n\u001b[1;32m     56\u001b[0m     \u001b[38;5;28mself\u001b[39m\u001b[38;5;241m.\u001b[39mpsearch(oname)\n\u001b[1;32m     57\u001b[0m \u001b[38;5;28;01melse\u001b[39;00m:\n\u001b[0;32m---> 58\u001b[0m     \u001b[38;5;28;43mself\u001b[39;49m\u001b[38;5;241;43m.\u001b[39;49m\u001b[43mshell\u001b[49m\u001b[38;5;241;43m.\u001b[39;49m\u001b[43m_inspect\u001b[49m\u001b[43m(\u001b[49m\u001b[38;5;124;43m'\u001b[39;49m\u001b[38;5;124;43mpinfo\u001b[39;49m\u001b[38;5;124;43m'\u001b[39;49m\u001b[43m,\u001b[49m\u001b[43m \u001b[49m\u001b[43moname\u001b[49m\u001b[43m,\u001b[49m\u001b[43m \u001b[49m\u001b[43mdetail_level\u001b[49m\u001b[38;5;241;43m=\u001b[39;49m\u001b[43mdetail_level\u001b[49m\u001b[43m,\u001b[49m\n\u001b[1;32m     59\u001b[0m \u001b[43m                        \u001b[49m\u001b[43mnamespaces\u001b[49m\u001b[38;5;241;43m=\u001b[39;49m\u001b[43mnamespaces\u001b[49m\u001b[43m)\u001b[49m\n",
      "File \u001b[0;32m~/.envs/2023env/lib/python3.10/site-packages/IPython/core/interactiveshell.py:1795\u001b[0m, in \u001b[0;36mInteractiveShell._inspect\u001b[0;34m(self, meth, oname, namespaces, **kw)\u001b[0m\n\u001b[1;32m   1793\u001b[0m     pmethod(info\u001b[38;5;241m.\u001b[39mobj, oname, formatter)\n\u001b[1;32m   1794\u001b[0m \u001b[38;5;28;01melif\u001b[39;00m meth \u001b[38;5;241m==\u001b[39m \u001b[38;5;124m'\u001b[39m\u001b[38;5;124mpinfo\u001b[39m\u001b[38;5;124m'\u001b[39m:\n\u001b[0;32m-> 1795\u001b[0m     \u001b[43mpmethod\u001b[49m\u001b[43m(\u001b[49m\n\u001b[1;32m   1796\u001b[0m \u001b[43m        \u001b[49m\u001b[43minfo\u001b[49m\u001b[38;5;241;43m.\u001b[39;49m\u001b[43mobj\u001b[49m\u001b[43m,\u001b[49m\n\u001b[1;32m   1797\u001b[0m \u001b[43m        \u001b[49m\u001b[43moname\u001b[49m\u001b[43m,\u001b[49m\n\u001b[1;32m   1798\u001b[0m \u001b[43m        \u001b[49m\u001b[43mformatter\u001b[49m\u001b[43m,\u001b[49m\n\u001b[1;32m   1799\u001b[0m \u001b[43m        \u001b[49m\u001b[43minfo\u001b[49m\u001b[43m,\u001b[49m\n\u001b[1;32m   1800\u001b[0m \u001b[43m        \u001b[49m\u001b[43menable_html_pager\u001b[49m\u001b[38;5;241;43m=\u001b[39;49m\u001b[38;5;28;43mself\u001b[39;49m\u001b[38;5;241;43m.\u001b[39;49m\u001b[43menable_html_pager\u001b[49m\u001b[43m,\u001b[49m\n\u001b[1;32m   1801\u001b[0m \u001b[43m        \u001b[49m\u001b[38;5;241;43m*\u001b[39;49m\u001b[38;5;241;43m*\u001b[39;49m\u001b[43mkw\u001b[49m\u001b[43m,\u001b[49m\n\u001b[1;32m   1802\u001b[0m \u001b[43m    \u001b[49m\u001b[43m)\u001b[49m\n\u001b[1;32m   1803\u001b[0m \u001b[38;5;28;01melse\u001b[39;00m:\n\u001b[1;32m   1804\u001b[0m     pmethod(info\u001b[38;5;241m.\u001b[39mobj, oname)\n",
      "File \u001b[0;32m~/.envs/2023env/lib/python3.10/site-packages/IPython/core/oinspect.py:782\u001b[0m, in \u001b[0;36mInspector.pinfo\u001b[0;34m(self, obj, oname, formatter, info, detail_level, enable_html_pager, omit_sections)\u001b[0m\n\u001b[1;32m    758\u001b[0m \u001b[38;5;250m\u001b[39m\u001b[38;5;124;03m\"\"\"Show detailed information about an object.\u001b[39;00m\n\u001b[1;32m    759\u001b[0m \n\u001b[1;32m    760\u001b[0m \u001b[38;5;124;03mOptional arguments:\u001b[39;00m\n\u001b[0;32m   (...)\u001b[0m\n\u001b[1;32m    779\u001b[0m \u001b[38;5;124;03m- omit_sections: set of section keys and titles to omit\u001b[39;00m\n\u001b[1;32m    780\u001b[0m \u001b[38;5;124;03m\"\"\"\u001b[39;00m\n\u001b[1;32m    781\u001b[0m \u001b[38;5;28;01massert\u001b[39;00m info \u001b[38;5;129;01mis\u001b[39;00m \u001b[38;5;129;01mnot\u001b[39;00m \u001b[38;5;28;01mNone\u001b[39;00m\n\u001b[0;32m--> 782\u001b[0m info_b: Bundle \u001b[38;5;241m=\u001b[39m \u001b[38;5;28;43mself\u001b[39;49m\u001b[38;5;241;43m.\u001b[39;49m\u001b[43m_get_info\u001b[49m\u001b[43m(\u001b[49m\n\u001b[1;32m    783\u001b[0m \u001b[43m    \u001b[49m\u001b[43mobj\u001b[49m\u001b[43m,\u001b[49m\u001b[43m \u001b[49m\u001b[43moname\u001b[49m\u001b[43m,\u001b[49m\u001b[43m \u001b[49m\u001b[43mformatter\u001b[49m\u001b[43m,\u001b[49m\u001b[43m \u001b[49m\u001b[43minfo\u001b[49m\u001b[43m,\u001b[49m\u001b[43m \u001b[49m\u001b[43mdetail_level\u001b[49m\u001b[43m,\u001b[49m\u001b[43m \u001b[49m\u001b[43momit_sections\u001b[49m\u001b[38;5;241;43m=\u001b[39;49m\u001b[43momit_sections\u001b[49m\n\u001b[1;32m    784\u001b[0m \u001b[43m\u001b[49m\u001b[43m)\u001b[49m\n\u001b[1;32m    785\u001b[0m \u001b[38;5;28;01mif\u001b[39;00m \u001b[38;5;129;01mnot\u001b[39;00m enable_html_pager:\n\u001b[1;32m    786\u001b[0m     \u001b[38;5;28;01mdel\u001b[39;00m info_b[\u001b[38;5;124m\"\u001b[39m\u001b[38;5;124mtext/html\u001b[39m\u001b[38;5;124m\"\u001b[39m]\n",
      "File \u001b[0;32m~/.envs/2023env/lib/python3.10/site-packages/IPython/core/oinspect.py:738\u001b[0m, in \u001b[0;36mInspector._get_info\u001b[0;34m(self, obj, oname, formatter, info, detail_level, omit_sections)\u001b[0m\n\u001b[1;32m    712\u001b[0m \u001b[38;5;28;01mdef\u001b[39;00m \u001b[38;5;21m_get_info\u001b[39m(\n\u001b[1;32m    713\u001b[0m     \u001b[38;5;28mself\u001b[39m,\n\u001b[1;32m    714\u001b[0m     obj: Any,\n\u001b[0;32m   (...)\u001b[0m\n\u001b[1;32m    719\u001b[0m     omit_sections\u001b[38;5;241m=\u001b[39m(),\n\u001b[1;32m    720\u001b[0m ) \u001b[38;5;241m-\u001b[39m\u001b[38;5;241m>\u001b[39m Bundle:\n\u001b[1;32m    721\u001b[0m \u001b[38;5;250m    \u001b[39m\u001b[38;5;124;03m\"\"\"Retrieve an info dict and format it.\u001b[39;00m\n\u001b[1;32m    722\u001b[0m \n\u001b[1;32m    723\u001b[0m \u001b[38;5;124;03m    Parameters\u001b[39;00m\n\u001b[0;32m   (...)\u001b[0m\n\u001b[1;32m    735\u001b[0m \u001b[38;5;124;03m        Titles or keys to omit from output (can be set, tuple, etc., anything supporting `in`)\u001b[39;00m\n\u001b[1;32m    736\u001b[0m \u001b[38;5;124;03m    \"\"\"\u001b[39;00m\n\u001b[0;32m--> 738\u001b[0m     info_dict \u001b[38;5;241m=\u001b[39m \u001b[38;5;28;43mself\u001b[39;49m\u001b[38;5;241;43m.\u001b[39;49m\u001b[43minfo\u001b[49m\u001b[43m(\u001b[49m\u001b[43mobj\u001b[49m\u001b[43m,\u001b[49m\u001b[43m \u001b[49m\u001b[43moname\u001b[49m\u001b[38;5;241;43m=\u001b[39;49m\u001b[43moname\u001b[49m\u001b[43m,\u001b[49m\u001b[43m \u001b[49m\u001b[43minfo\u001b[49m\u001b[38;5;241;43m=\u001b[39;49m\u001b[43minfo\u001b[49m\u001b[43m,\u001b[49m\u001b[43m \u001b[49m\u001b[43mdetail_level\u001b[49m\u001b[38;5;241;43m=\u001b[39;49m\u001b[43mdetail_level\u001b[49m\u001b[43m)\u001b[49m\n\u001b[1;32m    739\u001b[0m     bundle \u001b[38;5;241m=\u001b[39m \u001b[38;5;28mself\u001b[39m\u001b[38;5;241m.\u001b[39m_make_info_unformatted(\n\u001b[1;32m    740\u001b[0m         obj,\n\u001b[1;32m    741\u001b[0m         info_dict,\n\u001b[0;32m   (...)\u001b[0m\n\u001b[1;32m    744\u001b[0m         omit_sections\u001b[38;5;241m=\u001b[39momit_sections,\n\u001b[1;32m    745\u001b[0m     )\n\u001b[1;32m    746\u001b[0m     \u001b[38;5;28;01mreturn\u001b[39;00m \u001b[38;5;28mself\u001b[39m\u001b[38;5;241m.\u001b[39mformat_mime(bundle)\n",
      "File \u001b[0;32m~/.envs/2023env/lib/python3.10/site-packages/IPython/core/oinspect.py:838\u001b[0m, in \u001b[0;36mInspector.info\u001b[0;34m(self, obj, oname, info, detail_level)\u001b[0m\n\u001b[1;32m    836\u001b[0m parents_docs \u001b[38;5;241m=\u001b[39m \u001b[38;5;28;01mNone\u001b[39;00m\n\u001b[1;32m    837\u001b[0m prelude \u001b[38;5;241m=\u001b[39m \u001b[38;5;124m\"\u001b[39m\u001b[38;5;124m\"\u001b[39m\n\u001b[0;32m--> 838\u001b[0m \u001b[38;5;28;01mif\u001b[39;00m info \u001b[38;5;129;01mand\u001b[39;00m info\u001b[38;5;241m.\u001b[39mparent \u001b[38;5;129;01mand\u001b[39;00m \u001b[38;5;28mhasattr\u001b[39m(info\u001b[38;5;241m.\u001b[39mparent, HOOK_NAME):\n\u001b[1;32m    839\u001b[0m     parents_docs_dict \u001b[38;5;241m=\u001b[39m \u001b[38;5;28mgetattr\u001b[39m(info\u001b[38;5;241m.\u001b[39mparent, HOOK_NAME)\n\u001b[1;32m    840\u001b[0m     parents_docs \u001b[38;5;241m=\u001b[39m parents_docs_dict\u001b[38;5;241m.\u001b[39mget(att_name, \u001b[38;5;28;01mNone\u001b[39;00m)\n",
      "File \u001b[0;32m~/.envs/2023env/lib/python3.10/site-packages/polars/dataframe/frame.py:1321\u001b[0m, in \u001b[0;36mDataFrame.__bool__\u001b[0;34m(self)\u001b[0m\n\u001b[1;32m   1320\u001b[0m \u001b[38;5;28;01mdef\u001b[39;00m \u001b[38;5;21m__bool__\u001b[39m(\u001b[38;5;28mself\u001b[39m) \u001b[38;5;241m-\u001b[39m\u001b[38;5;241m>\u001b[39m NoReturn:\n\u001b[0;32m-> 1321\u001b[0m     \u001b[38;5;28;01mraise\u001b[39;00m \u001b[38;5;167;01mValueError\u001b[39;00m(\n\u001b[1;32m   1322\u001b[0m         \u001b[38;5;124m\"\u001b[39m\u001b[38;5;124mThe truth value of a DataFrame is ambiguous. \u001b[39m\u001b[38;5;124m\"\u001b[39m\n\u001b[1;32m   1323\u001b[0m         \u001b[38;5;124m\"\u001b[39m\u001b[38;5;124mHint: to check if a DataFrame contains any values, use \u001b[39m\u001b[38;5;124m'\u001b[39m\u001b[38;5;124mis_empty()\u001b[39m\u001b[38;5;124m'\u001b[39m\u001b[38;5;124m\"\u001b[39m\n\u001b[1;32m   1324\u001b[0m     )\n",
      "\u001b[0;31mValueError\u001b[0m: The truth value of a DataFrame is ambiguous. Hint: to check if a DataFrame contains any values, use 'is_empty()'"
     ]
    }
   ],
   "source": [
    "df.select?"
   ]
  },
  {
   "cell_type": "code",
   "execution_count": 86,
   "metadata": {
    "scrolled": true
   },
   "outputs": [
    {
     "data": {
      "text/html": [
       "<div><style>\n",
       ".dataframe > thead > tr > th,\n",
       ".dataframe > tbody > tr > td {\n",
       "  text-align: right;\n",
       "}\n",
       "</style>\n",
       "<small>shape: (5791, 18)</small><table border=\"1\" class=\"dataframe\"><thead><tr><th>promoted impressions</th><th>promoted engagements</th><th>promoted engagement rate</th><th>promoted retweets</th><th>promoted replies</th><th>promoted likes</th><th>promoted user profile clicks</th><th>promoted url clicks</th><th>promoted hashtag clicks</th><th>promoted detail expands</th><th>promoted permalink clicks</th><th>promoted app opens</th><th>promoted app installs</th><th>promoted follows</th><th>promoted email tweet</th><th>promoted dial phone</th><th>promoted media views</th><th>promoted media engagements</th></tr><tr><td>str</td><td>str</td><td>str</td><td>str</td><td>str</td><td>str</td><td>str</td><td>str</td><td>str</td><td>str</td><td>str</td><td>str</td><td>str</td><td>str</td><td>str</td><td>str</td><td>str</td><td>str</td></tr></thead><tbody><tr><td>null</td><td>null</td><td>null</td><td>null</td><td>null</td><td>null</td><td>null</td><td>null</td><td>null</td><td>null</td><td>null</td><td>null</td><td>null</td><td>null</td><td>null</td><td>null</td><td>null</td><td>null</td></tr><tr><td>null</td><td>null</td><td>null</td><td>null</td><td>null</td><td>null</td><td>null</td><td>null</td><td>null</td><td>null</td><td>null</td><td>null</td><td>null</td><td>null</td><td>null</td><td>null</td><td>null</td><td>null</td></tr><tr><td>null</td><td>null</td><td>null</td><td>null</td><td>null</td><td>null</td><td>null</td><td>null</td><td>null</td><td>null</td><td>null</td><td>null</td><td>null</td><td>null</td><td>null</td><td>null</td><td>null</td><td>null</td></tr><tr><td>null</td><td>null</td><td>null</td><td>null</td><td>null</td><td>null</td><td>null</td><td>null</td><td>null</td><td>null</td><td>null</td><td>null</td><td>null</td><td>null</td><td>null</td><td>null</td><td>null</td><td>null</td></tr><tr><td>null</td><td>null</td><td>null</td><td>null</td><td>null</td><td>null</td><td>null</td><td>null</td><td>null</td><td>null</td><td>null</td><td>null</td><td>null</td><td>null</td><td>null</td><td>null</td><td>null</td><td>null</td></tr><tr><td>null</td><td>null</td><td>null</td><td>null</td><td>null</td><td>null</td><td>null</td><td>null</td><td>null</td><td>null</td><td>null</td><td>null</td><td>null</td><td>null</td><td>null</td><td>null</td><td>null</td><td>null</td></tr><tr><td>null</td><td>null</td><td>null</td><td>null</td><td>null</td><td>null</td><td>null</td><td>null</td><td>null</td><td>null</td><td>null</td><td>null</td><td>null</td><td>null</td><td>null</td><td>null</td><td>null</td><td>null</td></tr><tr><td>null</td><td>null</td><td>null</td><td>null</td><td>null</td><td>null</td><td>null</td><td>null</td><td>null</td><td>null</td><td>null</td><td>null</td><td>null</td><td>null</td><td>null</td><td>null</td><td>null</td><td>null</td></tr><tr><td>null</td><td>null</td><td>null</td><td>null</td><td>null</td><td>null</td><td>null</td><td>null</td><td>null</td><td>null</td><td>null</td><td>null</td><td>null</td><td>null</td><td>null</td><td>null</td><td>null</td><td>null</td></tr><tr><td>null</td><td>null</td><td>null</td><td>null</td><td>null</td><td>null</td><td>null</td><td>null</td><td>null</td><td>null</td><td>null</td><td>null</td><td>null</td><td>null</td><td>null</td><td>null</td><td>null</td><td>null</td></tr><tr><td>null</td><td>null</td><td>null</td><td>null</td><td>null</td><td>null</td><td>null</td><td>null</td><td>null</td><td>null</td><td>null</td><td>null</td><td>null</td><td>null</td><td>null</td><td>null</td><td>null</td><td>null</td></tr><tr><td>null</td><td>null</td><td>null</td><td>null</td><td>null</td><td>null</td><td>null</td><td>null</td><td>null</td><td>null</td><td>null</td><td>null</td><td>null</td><td>null</td><td>null</td><td>null</td><td>null</td><td>null</td></tr><tr><td>&hellip;</td><td>&hellip;</td><td>&hellip;</td><td>&hellip;</td><td>&hellip;</td><td>&hellip;</td><td>&hellip;</td><td>&hellip;</td><td>&hellip;</td><td>&hellip;</td><td>&hellip;</td><td>&hellip;</td><td>&hellip;</td><td>&hellip;</td><td>&hellip;</td><td>&hellip;</td><td>&hellip;</td><td>&hellip;</td></tr><tr><td>null</td><td>null</td><td>null</td><td>null</td><td>null</td><td>null</td><td>null</td><td>null</td><td>null</td><td>null</td><td>null</td><td>null</td><td>null</td><td>null</td><td>null</td><td>null</td><td>null</td><td>null</td></tr><tr><td>null</td><td>null</td><td>null</td><td>null</td><td>null</td><td>null</td><td>null</td><td>null</td><td>null</td><td>null</td><td>null</td><td>null</td><td>null</td><td>null</td><td>null</td><td>null</td><td>null</td><td>null</td></tr><tr><td>null</td><td>null</td><td>null</td><td>null</td><td>null</td><td>null</td><td>null</td><td>null</td><td>null</td><td>null</td><td>null</td><td>null</td><td>null</td><td>null</td><td>null</td><td>null</td><td>null</td><td>null</td></tr><tr><td>null</td><td>null</td><td>null</td><td>null</td><td>null</td><td>null</td><td>null</td><td>null</td><td>null</td><td>null</td><td>null</td><td>null</td><td>null</td><td>null</td><td>null</td><td>null</td><td>null</td><td>null</td></tr><tr><td>null</td><td>null</td><td>null</td><td>null</td><td>null</td><td>null</td><td>null</td><td>null</td><td>null</td><td>null</td><td>null</td><td>null</td><td>null</td><td>null</td><td>null</td><td>null</td><td>null</td><td>null</td></tr><tr><td>null</td><td>null</td><td>null</td><td>null</td><td>null</td><td>null</td><td>null</td><td>null</td><td>null</td><td>null</td><td>null</td><td>null</td><td>null</td><td>null</td><td>null</td><td>null</td><td>null</td><td>null</td></tr><tr><td>null</td><td>null</td><td>null</td><td>null</td><td>null</td><td>null</td><td>null</td><td>null</td><td>null</td><td>null</td><td>null</td><td>null</td><td>null</td><td>null</td><td>null</td><td>null</td><td>null</td><td>null</td></tr><tr><td>null</td><td>null</td><td>null</td><td>null</td><td>null</td><td>null</td><td>null</td><td>null</td><td>null</td><td>null</td><td>null</td><td>null</td><td>null</td><td>null</td><td>null</td><td>null</td><td>null</td><td>null</td></tr><tr><td>null</td><td>null</td><td>null</td><td>null</td><td>null</td><td>null</td><td>null</td><td>null</td><td>null</td><td>null</td><td>null</td><td>null</td><td>null</td><td>null</td><td>null</td><td>null</td><td>null</td><td>null</td></tr><tr><td>null</td><td>null</td><td>null</td><td>null</td><td>null</td><td>null</td><td>null</td><td>null</td><td>null</td><td>null</td><td>null</td><td>null</td><td>null</td><td>null</td><td>null</td><td>null</td><td>null</td><td>null</td></tr><tr><td>null</td><td>null</td><td>null</td><td>null</td><td>null</td><td>null</td><td>null</td><td>null</td><td>null</td><td>null</td><td>null</td><td>null</td><td>null</td><td>null</td><td>null</td><td>null</td><td>null</td><td>null</td></tr><tr><td>null</td><td>null</td><td>null</td><td>null</td><td>null</td><td>null</td><td>null</td><td>null</td><td>null</td><td>null</td><td>null</td><td>null</td><td>null</td><td>null</td><td>null</td><td>null</td><td>null</td><td>null</td></tr></tbody></table></div>"
      ],
      "text/plain": [
       "shape: (5_791, 18)\n",
       "┌────────────┬────────────┬────────────┬────────────┬───┬────────────┬────────────┬────────────┬────────────┐\n",
       "│ promoted   ┆ promoted   ┆ promoted   ┆ promoted   ┆ … ┆ promoted   ┆ promoted   ┆ promoted   ┆ promoted   │\n",
       "│ impression ┆ engagement ┆ engagement ┆ retweets   ┆   ┆ email      ┆ dial phone ┆ media      ┆ media enga │\n",
       "│ s          ┆ s          ┆ rate       ┆ ---        ┆   ┆ tweet      ┆ ---        ┆ views      ┆ gements    │\n",
       "│ ---        ┆ ---        ┆ ---        ┆ str        ┆   ┆ ---        ┆ str        ┆ ---        ┆ ---        │\n",
       "│ str        ┆ str        ┆ str        ┆            ┆   ┆ str        ┆            ┆ str        ┆ str        │\n",
       "╞════════════╪════════════╪════════════╪════════════╪═══╪════════════╪════════════╪════════════╪════════════╡\n",
       "│ null       ┆ null       ┆ null       ┆ null       ┆ … ┆ null       ┆ null       ┆ null       ┆ null       │\n",
       "│ null       ┆ null       ┆ null       ┆ null       ┆ … ┆ null       ┆ null       ┆ null       ┆ null       │\n",
       "│ null       ┆ null       ┆ null       ┆ null       ┆ … ┆ null       ┆ null       ┆ null       ┆ null       │\n",
       "│ null       ┆ null       ┆ null       ┆ null       ┆ … ┆ null       ┆ null       ┆ null       ┆ null       │\n",
       "│ …          ┆ …          ┆ …          ┆ …          ┆ … ┆ …          ┆ …          ┆ …          ┆ …          │\n",
       "│ null       ┆ null       ┆ null       ┆ null       ┆ … ┆ null       ┆ null       ┆ null       ┆ null       │\n",
       "│ null       ┆ null       ┆ null       ┆ null       ┆ … ┆ null       ┆ null       ┆ null       ┆ null       │\n",
       "│ null       ┆ null       ┆ null       ┆ null       ┆ … ┆ null       ┆ null       ┆ null       ┆ null       │\n",
       "│ null       ┆ null       ┆ null       ┆ null       ┆ … ┆ null       ┆ null       ┆ null       ┆ null       │\n",
       "└────────────┴────────────┴────────────┴────────────┴───┴────────────┴────────────┴────────────┴────────────┘"
      ]
     },
     "execution_count": 86,
     "metadata": {},
     "output_type": "execute_result"
    }
   ],
   "source": [
    "df.select(pl.col(r'^promoted.*$'))"
   ]
  },
  {
   "cell_type": "code",
   "execution_count": 87,
   "metadata": {
    "scrolled": true
   },
   "outputs": [
    {
     "data": {
      "text/html": [
       "<div><style>\n",
       ".dataframe > thead > tr > th,\n",
       ".dataframe > tbody > tr > td {\n",
       "  text-align: right;\n",
       "}\n",
       "</style>\n",
       "<small>shape: (5791, 22)</small><table border=\"1\" class=\"dataframe\"><thead><tr><th>Tweet id</th><th>Tweet permalink</th><th>Tweet text</th><th>time</th><th>impressions</th><th>engagements</th><th>engagement rate</th><th>retweets</th><th>replies</th><th>likes</th><th>user profile clicks</th><th>url clicks</th><th>hashtag clicks</th><th>detail expands</th><th>permalink clicks</th><th>app opens</th><th>app installs</th><th>follows</th><th>email tweet</th><th>dial phone</th><th>media views</th><th>media engagements</th></tr><tr><td>i64</td><td>str</td><td>str</td><td>str</td><td>f64</td><td>f64</td><td>f64</td><td>f64</td><td>f64</td><td>f64</td><td>f64</td><td>f64</td><td>f64</td><td>f64</td><td>f64</td><td>i64</td><td>i64</td><td>i64</td><td>i64</td><td>i64</td><td>i64</td><td>i64</td></tr></thead><tbody><tr><td>1212580517905780737</td><td>&quot;https://twitte…</td><td>&quot;Sounds like a …</td><td>&quot;2020-01-02 03:…</td><td>1465.0</td><td>7.0</td><td>0.004778</td><td>0.0</td><td>0.0</td><td>3.0</td><td>3.0</td><td>0.0</td><td>0.0</td><td>1.0</td><td>0.0</td><td>0</td><td>0</td><td>0</td><td>0</td><td>0</td><td>0</td><td>0</td></tr><tr><td>1212582494828036097</td><td>&quot;https://twitte…</td><td>&quot;@FogleBird Loo…</td><td>&quot;2020-01-02 03:…</td><td>154.0</td><td>3.0</td><td>0.019481</td><td>0.0</td><td>0.0</td><td>1.0</td><td>1.0</td><td>0.0</td><td>0.0</td><td>1.0</td><td>0.0</td><td>0</td><td>0</td><td>0</td><td>0</td><td>0</td><td>0</td><td>0</td></tr><tr><td>1212613735698690049</td><td>&quot;https://twitte…</td><td>&quot;@afilina That&#x27;…</td><td>&quot;2020-01-02 05:…</td><td>1024.0</td><td>6.0</td><td>0.005859</td><td>0.0</td><td>0.0</td><td>1.0</td><td>2.0</td><td>0.0</td><td>0.0</td><td>3.0</td><td>0.0</td><td>0</td><td>0</td><td>0</td><td>0</td><td>0</td><td>0</td><td>0</td></tr><tr><td>1212911749617242113</td><td>&quot;https://twitte…</td><td>&quot;@randal_olson …</td><td>&quot;2020-01-03 01:…</td><td>1419.0</td><td>14.0</td><td>0.009866</td><td>0.0</td><td>1.0</td><td>5.0</td><td>7.0</td><td>0.0</td><td>0.0</td><td>1.0</td><td>0.0</td><td>0</td><td>0</td><td>0</td><td>0</td><td>0</td><td>0</td><td>0</td></tr><tr><td>1212920556028252160</td><td>&quot;https://twitte…</td><td>&quot;@AlSweigart So…</td><td>&quot;2020-01-03 02:…</td><td>198.0</td><td>1.0</td><td>0.005051</td><td>0.0</td><td>0.0</td><td>1.0</td><td>0.0</td><td>0.0</td><td>0.0</td><td>0.0</td><td>0.0</td><td>0</td><td>0</td><td>0</td><td>0</td><td>0</td><td>0</td><td>0</td></tr><tr><td>1212921038356434947</td><td>&quot;https://twitte…</td><td>&quot;@tmarthal @Ted…</td><td>&quot;2020-01-03 02:…</td><td>170.0</td><td>3.0</td><td>0.017647</td><td>0.0</td><td>0.0</td><td>1.0</td><td>1.0</td><td>0.0</td><td>0.0</td><td>1.0</td><td>0.0</td><td>0</td><td>0</td><td>0</td><td>0</td><td>0</td><td>0</td><td>0</td></tr><tr><td>1212921192287330304</td><td>&quot;https://twitte…</td><td>&quot;@gabegundy It&#x27;…</td><td>&quot;2020-01-03 02:…</td><td>104.0</td><td>2.0</td><td>0.019231</td><td>0.0</td><td>1.0</td><td>1.0</td><td>0.0</td><td>0.0</td><td>0.0</td><td>0.0</td><td>0.0</td><td>0</td><td>0</td><td>0</td><td>0</td><td>0</td><td>0</td><td>0</td></tr><tr><td>1212969747186208768</td><td>&quot;https://twitte…</td><td>&quot;@anthonypjshaw…</td><td>&quot;2020-01-03 05:…</td><td>189.0</td><td>0.0</td><td>0.0</td><td>0.0</td><td>0.0</td><td>0.0</td><td>0.0</td><td>0.0</td><td>0.0</td><td>0.0</td><td>0.0</td><td>0</td><td>0</td><td>0</td><td>0</td><td>0</td><td>0</td><td>0</td></tr><tr><td>1212971634019033088</td><td>&quot;https://twitte…</td><td>&quot;@jet_set A lit…</td><td>&quot;2020-01-03 05:…</td><td>900.0</td><td>4.0</td><td>0.004444</td><td>0.0</td><td>0.0</td><td>0.0</td><td>4.0</td><td>0.0</td><td>0.0</td><td>0.0</td><td>0.0</td><td>0</td><td>0</td><td>0</td><td>0</td><td>0</td><td>0</td><td>0</td></tr><tr><td>1213194379793293312</td><td>&quot;https://twitte…</td><td>&quot;@juliasilge @r…</td><td>&quot;2020-01-03 20:…</td><td>252.0</td><td>2.0</td><td>0.007937</td><td>0.0</td><td>0.0</td><td>1.0</td><td>1.0</td><td>0.0</td><td>0.0</td><td>0.0</td><td>0.0</td><td>0</td><td>0</td><td>0</td><td>0</td><td>0</td><td>0</td><td>0</td></tr><tr><td>1213699561962631168</td><td>&quot;https://twitte…</td><td>&quot;Herein you wil…</td><td>&quot;2020-01-05 05:…</td><td>1610.0</td><td>6.0</td><td>0.003727</td><td>0.0</td><td>0.0</td><td>2.0</td><td>2.0</td><td>0.0</td><td>0.0</td><td>2.0</td><td>0.0</td><td>0</td><td>0</td><td>0</td><td>0</td><td>0</td><td>0</td><td>0</td></tr><tr><td>1213896543985516544</td><td>&quot;https://twitte…</td><td>&quot;@Austen Care t…</td><td>&quot;2020-01-05 18:…</td><td>165.0</td><td>3.0</td><td>0.018182</td><td>0.0</td><td>0.0</td><td>0.0</td><td>1.0</td><td>0.0</td><td>0.0</td><td>2.0</td><td>0.0</td><td>0</td><td>0</td><td>0</td><td>0</td><td>0</td><td>0</td><td>0</td></tr><tr><td>&hellip;</td><td>&hellip;</td><td>&hellip;</td><td>&hellip;</td><td>&hellip;</td><td>&hellip;</td><td>&hellip;</td><td>&hellip;</td><td>&hellip;</td><td>&hellip;</td><td>&hellip;</td><td>&hellip;</td><td>&hellip;</td><td>&hellip;</td><td>&hellip;</td><td>&hellip;</td><td>&hellip;</td><td>&hellip;</td><td>&hellip;</td><td>&hellip;</td><td>&hellip;</td><td>&hellip;</td></tr><tr><td>1474805013343981570</td><td>&quot;https://twitte…</td><td>&quot;@EricSchles @s…</td><td>&quot;2021-12-25 18:…</td><td>416.0</td><td>3.0</td><td>0.007212</td><td>0.0</td><td>0.0</td><td>2.0</td><td>1.0</td><td>0.0</td><td>0.0</td><td>0.0</td><td>0.0</td><td>0</td><td>0</td><td>0</td><td>0</td><td>0</td><td>0</td><td>0</td></tr><tr><td>1474820707234185217</td><td>&quot;https://twitte…</td><td>&quot;Mele kalikimak…</td><td>&quot;2021-12-25 19:…</td><td>15840.0</td><td>372.0</td><td>0.023485</td><td>0.0</td><td>2.0</td><td>61.0</td><td>59.0</td><td>6.0</td><td>0.0</td><td>66.0</td><td>0.0</td><td>0</td><td>0</td><td>0</td><td>0</td><td>0</td><td>178</td><td>178</td></tr><tr><td>1475023008620154882</td><td>&quot;https://twitte…</td><td>&quot;Good looking c…</td><td>&quot;2021-12-26 08:…</td><td>22557.0</td><td>501.0</td><td>0.02221</td><td>0.0</td><td>9.0</td><td>50.0</td><td>89.0</td><td>14.0</td><td>0.0</td><td>118.0</td><td>0.0</td><td>0</td><td>0</td><td>0</td><td>0</td><td>0</td><td>221</td><td>221</td></tr><tr><td>1475299210291343362</td><td>&quot;https://twitte…</td><td>&quot;@youtah A litt…</td><td>&quot;2021-12-27 02:…</td><td>1586.0</td><td>35.0</td><td>0.022068</td><td>0.0</td><td>0.0</td><td>2.0</td><td>1.0</td><td>1.0</td><td>0.0</td><td>0.0</td><td>0.0</td><td>0</td><td>0</td><td>0</td><td>0</td><td>0</td><td>31</td><td>31</td></tr><tr><td>1475299401681682434</td><td>&quot;https://twitte…</td><td>&quot;@mathsppblog S…</td><td>&quot;2021-12-27 02:…</td><td>4641.0</td><td>35.0</td><td>0.007541</td><td>0.0</td><td>4.0</td><td>11.0</td><td>10.0</td><td>0.0</td><td>0.0</td><td>10.0</td><td>0.0</td><td>0</td><td>0</td><td>0</td><td>0</td><td>0</td><td>0</td><td>0</td></tr><tr><td>1475299848093978626</td><td>&quot;https://twitte…</td><td>&quot;@willmcgugan P…</td><td>&quot;2021-12-27 02:…</td><td>1969.0</td><td>4.0</td><td>0.002031</td><td>0.0</td><td>0.0</td><td>4.0</td><td>0.0</td><td>0.0</td><td>0.0</td><td>0.0</td><td>0.0</td><td>0</td><td>0</td><td>0</td><td>0</td><td>0</td><td>0</td><td>0</td></tr><tr><td>1475300370138087426</td><td>&quot;https://twitte…</td><td>&quot;@reuvenmlerner…</td><td>&quot;2021-12-27 02:…</td><td>1669.0</td><td>5.0</td><td>0.002996</td><td>0.0</td><td>0.0</td><td>3.0</td><td>0.0</td><td>0.0</td><td>0.0</td><td>2.0</td><td>0.0</td><td>0</td><td>0</td><td>0</td><td>0</td><td>0</td><td>0</td><td>0</td></tr><tr><td>1475300661851934721</td><td>&quot;https://twitte…</td><td>&quot;@allison_horst…</td><td>&quot;2021-12-27 03:…</td><td>986.0</td><td>1.0</td><td>0.001014</td><td>0.0</td><td>0.0</td><td>0.0</td><td>0.0</td><td>0.0</td><td>0.0</td><td>1.0</td><td>0.0</td><td>0</td><td>0</td><td>0</td><td>0</td><td>0</td><td>0</td><td>0</td></tr><tr><td>1475518143690801156</td><td>&quot;https://twitte…</td><td>&quot;@willmcgugan Y…</td><td>&quot;2021-12-27 17:…</td><td>1790.0</td><td>7.0</td><td>0.003911</td><td>0.0</td><td>0.0</td><td>3.0</td><td>1.0</td><td>0.0</td><td>0.0</td><td>3.0</td><td>0.0</td><td>0</td><td>0</td><td>0</td><td>0</td><td>0</td><td>0</td><td>0</td></tr><tr><td>1475891441243025408</td><td>&quot;https://twitte…</td><td>&quot;@posco Visitin…</td><td>&quot;2021-12-28 18:…</td><td>1611.0</td><td>12.0</td><td>0.007449</td><td>0.0</td><td>0.0</td><td>4.0</td><td>4.0</td><td>0.0</td><td>0.0</td><td>4.0</td><td>0.0</td><td>0</td><td>0</td><td>0</td><td>0</td><td>0</td><td>0</td><td>0</td></tr><tr><td>1476453819751878656</td><td>&quot;https://twitte…</td><td>&quot;@johndsaunders…</td><td>&quot;2021-12-30 07:…</td><td>1354.0</td><td>8.0</td><td>0.005908</td><td>0.0</td><td>0.0</td><td>2.0</td><td>4.0</td><td>0.0</td><td>0.0</td><td>2.0</td><td>0.0</td><td>0</td><td>0</td><td>0</td><td>0</td><td>0</td><td>0</td><td>0</td></tr><tr><td>1477024722051158018</td><td>&quot;https://twitte…</td><td>&quot;@tunguz Xgboos…</td><td>&quot;2021-12-31 21:…</td><td>5041.0</td><td>63.0</td><td>0.012498</td><td>0.0</td><td>3.0</td><td>23.0</td><td>8.0</td><td>0.0</td><td>0.0</td><td>29.0</td><td>0.0</td><td>0</td><td>0</td><td>0</td><td>0</td><td>0</td><td>0</td><td>0</td></tr></tbody></table></div>"
      ],
      "text/plain": [
       "shape: (5_791, 22)\n",
       "┌───────────┬────────────┬──────────┬──────────┬───┬───────────┬──────────┬───────────┬────────────┐\n",
       "│ Tweet id  ┆ Tweet      ┆ Tweet    ┆ time     ┆ … ┆ email     ┆ dial     ┆ media     ┆ media enga │\n",
       "│ ---       ┆ permalink  ┆ text     ┆ ---      ┆   ┆ tweet     ┆ phone    ┆ views     ┆ gements    │\n",
       "│ i64       ┆ ---        ┆ ---      ┆ str      ┆   ┆ ---       ┆ ---      ┆ ---       ┆ ---        │\n",
       "│           ┆ str        ┆ str      ┆          ┆   ┆ i64       ┆ i64      ┆ i64       ┆ i64        │\n",
       "╞═══════════╪════════════╪══════════╪══════════╪═══╪═══════════╪══════════╪═══════════╪════════════╡\n",
       "│ 121258051 ┆ https://tw ┆ Sounds   ┆ 2020-01- ┆ … ┆ 0         ┆ 0        ┆ 0         ┆ 0          │\n",
       "│ 790578073 ┆ itter.com/ ┆ like a   ┆ 02 03:44 ┆   ┆           ┆          ┆           ┆            │\n",
       "│ 7         ┆ __mharriso ┆ great    ┆ :00+00:0 ┆   ┆           ┆          ┆           ┆            │\n",
       "│           ┆ n_…        ┆ topic!   ┆ 0        ┆   ┆           ┆          ┆           ┆            │\n",
       "│           ┆            ┆ https…   ┆          ┆   ┆           ┆          ┆           ┆            │\n",
       "│ 121258249 ┆ https://tw ┆ @FogleBi ┆ 2020-01- ┆ … ┆ 0         ┆ 0        ┆ 0         ┆ 0          │\n",
       "│ 482803609 ┆ itter.com/ ┆ rd Looks ┆ 02 03:52 ┆   ┆           ┆          ┆           ┆            │\n",
       "│ 7         ┆ __mharriso ┆ like     ┆ :00+00:0 ┆   ┆           ┆          ┆           ┆            │\n",
       "│           ┆ n_…        ┆ SLC. I   ┆ 0        ┆   ┆           ┆          ┆           ┆            │\n",
       "│           ┆            ┆ can…     ┆          ┆   ┆           ┆          ┆           ┆            │\n",
       "│ 121261373 ┆ https://tw ┆ @afilina ┆ 2020-01- ┆ … ┆ 0         ┆ 0        ┆ 0         ┆ 0          │\n",
       "│ 569869004 ┆ itter.com/ ┆ That's   ┆ 02 05:56 ┆   ┆           ┆          ┆           ┆            │\n",
       "│ 9         ┆ __mharriso ┆ really   ┆ :00+00:0 ┆   ┆           ┆          ┆           ┆            │\n",
       "│           ┆ n_…        ┆ amount   ┆ 0        ┆   ┆           ┆          ┆           ┆            │\n",
       "│           ┆            ┆ an…      ┆          ┆   ┆           ┆          ┆           ┆            │\n",
       "│ 121291174 ┆ https://tw ┆ @randal_ ┆ 2020-01- ┆ … ┆ 0         ┆ 0        ┆ 0         ┆ 0          │\n",
       "│ 961724211 ┆ itter.com/ ┆ olson I  ┆ 03 01:41 ┆   ┆           ┆          ┆           ┆            │\n",
       "│ 3         ┆ __mharriso ┆ use      ┆ :00+00:0 ┆   ┆           ┆          ┆           ┆            │\n",
       "│           ┆ n_…        ┆ anaconda ┆ 0        ┆   ┆           ┆          ┆           ┆            │\n",
       "│           ┆            ┆ whe…     ┆          ┆   ┆           ┆          ┆           ┆            │\n",
       "│ …         ┆ …          ┆ …        ┆ …        ┆ … ┆ …         ┆ …        ┆ …         ┆ …          │\n",
       "│ 147551814 ┆ https://tw ┆ @willmcg ┆ 2021-12- ┆ … ┆ 0         ┆ 0        ┆ 0         ┆ 0          │\n",
       "│ 369080115 ┆ itter.com/ ┆ ugan You ┆ 27 17:25 ┆   ┆           ┆          ┆           ┆            │\n",
       "│ 6         ┆ __mharriso ┆ need to  ┆ :00+00:0 ┆   ┆           ┆          ┆           ┆            │\n",
       "│           ┆ n_…        ┆ find ou… ┆ 0        ┆   ┆           ┆          ┆           ┆            │\n",
       "│ 147589144 ┆ https://tw ┆ @posco   ┆ 2021-12- ┆ … ┆ 0         ┆ 0        ┆ 0         ┆ 0          │\n",
       "│ 124302540 ┆ itter.com/ ┆ Visiting ┆ 28 18:08 ┆   ┆           ┆          ┆           ┆            │\n",
       "│ 8         ┆ __mharriso ┆ Hawaii   ┆ :00+00:0 ┆   ┆           ┆          ┆           ┆            │\n",
       "│           ┆ n_…        ┆ for the  ┆ 0        ┆   ┆           ┆          ┆           ┆            │\n",
       "│           ┆            ┆ h…       ┆          ┆   ┆           ┆          ┆           ┆            │\n",
       "│ 147645381 ┆ https://tw ┆ @johndsa ┆ 2021-12- ┆ … ┆ 0         ┆ 0        ┆ 0         ┆ 0          │\n",
       "│ 975187865 ┆ itter.com/ ┆ unders   ┆ 30 07:23 ┆   ┆           ┆          ┆           ┆            │\n",
       "│ 6         ┆ __mharriso ┆ My son   ┆ :00+00:0 ┆   ┆           ┆          ┆           ┆            │\n",
       "│           ┆ n_…        ┆ just     ┆ 0        ┆   ┆           ┆          ┆           ┆            │\n",
       "│           ┆            ┆ built…   ┆          ┆   ┆           ┆          ┆           ┆            │\n",
       "│ 147702472 ┆ https://tw ┆ @tunguz  ┆ 2021-12- ┆ … ┆ 0         ┆ 0        ┆ 0         ┆ 0          │\n",
       "│ 205115801 ┆ itter.com/ ┆ Xgboost  ┆ 31 21:11 ┆   ┆           ┆          ┆           ┆            │\n",
       "│ 8         ┆ __mharriso ┆          ┆ :00+00:0 ┆   ┆           ┆          ┆           ┆            │\n",
       "│           ┆ n_…        ┆          ┆ 0        ┆   ┆           ┆          ┆           ┆            │\n",
       "└───────────┴────────────┴──────────┴──────────┴───┴───────────┴──────────┴───────────┴────────────┘"
      ]
     },
     "execution_count": 87,
     "metadata": {},
     "output_type": "execute_result"
    }
   ],
   "source": [
    "df.select(pl.all().exclude(r'^promoted.*$'))"
   ]
  },
  {
   "cell_type": "code",
   "execution_count": null,
   "metadata": {},
   "outputs": [],
   "source": [
    "df.drop?"
   ]
  },
  {
   "cell_type": "code",
   "execution_count": 88,
   "metadata": {
    "scrolled": true
   },
   "outputs": [
    {
     "data": {
      "text/html": [
       "<div><style>\n",
       ".dataframe > thead > tr > th,\n",
       ".dataframe > tbody > tr > td {\n",
       "  text-align: right;\n",
       "}\n",
       "</style>\n",
       "<small>shape: (5791, 22)</small><table border=\"1\" class=\"dataframe\"><thead><tr><th>Tweet id</th><th>Tweet permalink</th><th>Tweet text</th><th>time</th><th>impressions</th><th>engagements</th><th>engagement rate</th><th>retweets</th><th>replies</th><th>likes</th><th>user profile clicks</th><th>url clicks</th><th>hashtag clicks</th><th>detail expands</th><th>permalink clicks</th><th>app opens</th><th>app installs</th><th>follows</th><th>email tweet</th><th>dial phone</th><th>media views</th><th>media engagements</th></tr><tr><td>i64</td><td>str</td><td>str</td><td>str</td><td>u32</td><td>u16</td><td>f64</td><td>u16</td><td>u8</td><td>u16</td><td>u16</td><td>u16</td><td>u8</td><td>u16</td><td>u8</td><td>u8</td><td>u8</td><td>u8</td><td>u8</td><td>u8</td><td>u16</td><td>u16</td></tr></thead><tbody><tr><td>1212580517905780737</td><td>&quot;https://twitte…</td><td>&quot;Sounds like a …</td><td>&quot;2020-01-02 03:…</td><td>1465</td><td>7</td><td>0.004778</td><td>0</td><td>0</td><td>3</td><td>3</td><td>0</td><td>0</td><td>1</td><td>0</td><td>0</td><td>0</td><td>0</td><td>0</td><td>0</td><td>0</td><td>0</td></tr><tr><td>1212582494828036097</td><td>&quot;https://twitte…</td><td>&quot;@FogleBird Loo…</td><td>&quot;2020-01-02 03:…</td><td>154</td><td>3</td><td>0.019481</td><td>0</td><td>0</td><td>1</td><td>1</td><td>0</td><td>0</td><td>1</td><td>0</td><td>0</td><td>0</td><td>0</td><td>0</td><td>0</td><td>0</td><td>0</td></tr><tr><td>1212613735698690049</td><td>&quot;https://twitte…</td><td>&quot;@afilina That&#x27;…</td><td>&quot;2020-01-02 05:…</td><td>1024</td><td>6</td><td>0.005859</td><td>0</td><td>0</td><td>1</td><td>2</td><td>0</td><td>0</td><td>3</td><td>0</td><td>0</td><td>0</td><td>0</td><td>0</td><td>0</td><td>0</td><td>0</td></tr><tr><td>1212911749617242113</td><td>&quot;https://twitte…</td><td>&quot;@randal_olson …</td><td>&quot;2020-01-03 01:…</td><td>1419</td><td>14</td><td>0.009866</td><td>0</td><td>1</td><td>5</td><td>7</td><td>0</td><td>0</td><td>1</td><td>0</td><td>0</td><td>0</td><td>0</td><td>0</td><td>0</td><td>0</td><td>0</td></tr><tr><td>1212920556028252160</td><td>&quot;https://twitte…</td><td>&quot;@AlSweigart So…</td><td>&quot;2020-01-03 02:…</td><td>198</td><td>1</td><td>0.005051</td><td>0</td><td>0</td><td>1</td><td>0</td><td>0</td><td>0</td><td>0</td><td>0</td><td>0</td><td>0</td><td>0</td><td>0</td><td>0</td><td>0</td><td>0</td></tr><tr><td>1212921038356434947</td><td>&quot;https://twitte…</td><td>&quot;@tmarthal @Ted…</td><td>&quot;2020-01-03 02:…</td><td>170</td><td>3</td><td>0.017647</td><td>0</td><td>0</td><td>1</td><td>1</td><td>0</td><td>0</td><td>1</td><td>0</td><td>0</td><td>0</td><td>0</td><td>0</td><td>0</td><td>0</td><td>0</td></tr><tr><td>1212921192287330304</td><td>&quot;https://twitte…</td><td>&quot;@gabegundy It&#x27;…</td><td>&quot;2020-01-03 02:…</td><td>104</td><td>2</td><td>0.019231</td><td>0</td><td>1</td><td>1</td><td>0</td><td>0</td><td>0</td><td>0</td><td>0</td><td>0</td><td>0</td><td>0</td><td>0</td><td>0</td><td>0</td><td>0</td></tr><tr><td>1212969747186208768</td><td>&quot;https://twitte…</td><td>&quot;@anthonypjshaw…</td><td>&quot;2020-01-03 05:…</td><td>189</td><td>0</td><td>0.0</td><td>0</td><td>0</td><td>0</td><td>0</td><td>0</td><td>0</td><td>0</td><td>0</td><td>0</td><td>0</td><td>0</td><td>0</td><td>0</td><td>0</td><td>0</td></tr><tr><td>1212971634019033088</td><td>&quot;https://twitte…</td><td>&quot;@jet_set A lit…</td><td>&quot;2020-01-03 05:…</td><td>900</td><td>4</td><td>0.004444</td><td>0</td><td>0</td><td>0</td><td>4</td><td>0</td><td>0</td><td>0</td><td>0</td><td>0</td><td>0</td><td>0</td><td>0</td><td>0</td><td>0</td><td>0</td></tr><tr><td>1213194379793293312</td><td>&quot;https://twitte…</td><td>&quot;@juliasilge @r…</td><td>&quot;2020-01-03 20:…</td><td>252</td><td>2</td><td>0.007937</td><td>0</td><td>0</td><td>1</td><td>1</td><td>0</td><td>0</td><td>0</td><td>0</td><td>0</td><td>0</td><td>0</td><td>0</td><td>0</td><td>0</td><td>0</td></tr><tr><td>1213699561962631168</td><td>&quot;https://twitte…</td><td>&quot;Herein you wil…</td><td>&quot;2020-01-05 05:…</td><td>1610</td><td>6</td><td>0.003727</td><td>0</td><td>0</td><td>2</td><td>2</td><td>0</td><td>0</td><td>2</td><td>0</td><td>0</td><td>0</td><td>0</td><td>0</td><td>0</td><td>0</td><td>0</td></tr><tr><td>1213896543985516544</td><td>&quot;https://twitte…</td><td>&quot;@Austen Care t…</td><td>&quot;2020-01-05 18:…</td><td>165</td><td>3</td><td>0.018182</td><td>0</td><td>0</td><td>0</td><td>1</td><td>0</td><td>0</td><td>2</td><td>0</td><td>0</td><td>0</td><td>0</td><td>0</td><td>0</td><td>0</td><td>0</td></tr><tr><td>&hellip;</td><td>&hellip;</td><td>&hellip;</td><td>&hellip;</td><td>&hellip;</td><td>&hellip;</td><td>&hellip;</td><td>&hellip;</td><td>&hellip;</td><td>&hellip;</td><td>&hellip;</td><td>&hellip;</td><td>&hellip;</td><td>&hellip;</td><td>&hellip;</td><td>&hellip;</td><td>&hellip;</td><td>&hellip;</td><td>&hellip;</td><td>&hellip;</td><td>&hellip;</td><td>&hellip;</td></tr><tr><td>1474805013343981570</td><td>&quot;https://twitte…</td><td>&quot;@EricSchles @s…</td><td>&quot;2021-12-25 18:…</td><td>416</td><td>3</td><td>0.007212</td><td>0</td><td>0</td><td>2</td><td>1</td><td>0</td><td>0</td><td>0</td><td>0</td><td>0</td><td>0</td><td>0</td><td>0</td><td>0</td><td>0</td><td>0</td></tr><tr><td>1474820707234185217</td><td>&quot;https://twitte…</td><td>&quot;Mele kalikimak…</td><td>&quot;2021-12-25 19:…</td><td>15840</td><td>372</td><td>0.023485</td><td>0</td><td>2</td><td>61</td><td>59</td><td>6</td><td>0</td><td>66</td><td>0</td><td>0</td><td>0</td><td>0</td><td>0</td><td>0</td><td>178</td><td>178</td></tr><tr><td>1475023008620154882</td><td>&quot;https://twitte…</td><td>&quot;Good looking c…</td><td>&quot;2021-12-26 08:…</td><td>22557</td><td>501</td><td>0.02221</td><td>0</td><td>9</td><td>50</td><td>89</td><td>14</td><td>0</td><td>118</td><td>0</td><td>0</td><td>0</td><td>0</td><td>0</td><td>0</td><td>221</td><td>221</td></tr><tr><td>1475299210291343362</td><td>&quot;https://twitte…</td><td>&quot;@youtah A litt…</td><td>&quot;2021-12-27 02:…</td><td>1586</td><td>35</td><td>0.022068</td><td>0</td><td>0</td><td>2</td><td>1</td><td>1</td><td>0</td><td>0</td><td>0</td><td>0</td><td>0</td><td>0</td><td>0</td><td>0</td><td>31</td><td>31</td></tr><tr><td>1475299401681682434</td><td>&quot;https://twitte…</td><td>&quot;@mathsppblog S…</td><td>&quot;2021-12-27 02:…</td><td>4641</td><td>35</td><td>0.007541</td><td>0</td><td>4</td><td>11</td><td>10</td><td>0</td><td>0</td><td>10</td><td>0</td><td>0</td><td>0</td><td>0</td><td>0</td><td>0</td><td>0</td><td>0</td></tr><tr><td>1475299848093978626</td><td>&quot;https://twitte…</td><td>&quot;@willmcgugan P…</td><td>&quot;2021-12-27 02:…</td><td>1969</td><td>4</td><td>0.002031</td><td>0</td><td>0</td><td>4</td><td>0</td><td>0</td><td>0</td><td>0</td><td>0</td><td>0</td><td>0</td><td>0</td><td>0</td><td>0</td><td>0</td><td>0</td></tr><tr><td>1475300370138087426</td><td>&quot;https://twitte…</td><td>&quot;@reuvenmlerner…</td><td>&quot;2021-12-27 02:…</td><td>1669</td><td>5</td><td>0.002996</td><td>0</td><td>0</td><td>3</td><td>0</td><td>0</td><td>0</td><td>2</td><td>0</td><td>0</td><td>0</td><td>0</td><td>0</td><td>0</td><td>0</td><td>0</td></tr><tr><td>1475300661851934721</td><td>&quot;https://twitte…</td><td>&quot;@allison_horst…</td><td>&quot;2021-12-27 03:…</td><td>986</td><td>1</td><td>0.001014</td><td>0</td><td>0</td><td>0</td><td>0</td><td>0</td><td>0</td><td>1</td><td>0</td><td>0</td><td>0</td><td>0</td><td>0</td><td>0</td><td>0</td><td>0</td></tr><tr><td>1475518143690801156</td><td>&quot;https://twitte…</td><td>&quot;@willmcgugan Y…</td><td>&quot;2021-12-27 17:…</td><td>1790</td><td>7</td><td>0.003911</td><td>0</td><td>0</td><td>3</td><td>1</td><td>0</td><td>0</td><td>3</td><td>0</td><td>0</td><td>0</td><td>0</td><td>0</td><td>0</td><td>0</td><td>0</td></tr><tr><td>1475891441243025408</td><td>&quot;https://twitte…</td><td>&quot;@posco Visitin…</td><td>&quot;2021-12-28 18:…</td><td>1611</td><td>12</td><td>0.007449</td><td>0</td><td>0</td><td>4</td><td>4</td><td>0</td><td>0</td><td>4</td><td>0</td><td>0</td><td>0</td><td>0</td><td>0</td><td>0</td><td>0</td><td>0</td></tr><tr><td>1476453819751878656</td><td>&quot;https://twitte…</td><td>&quot;@johndsaunders…</td><td>&quot;2021-12-30 07:…</td><td>1354</td><td>8</td><td>0.005908</td><td>0</td><td>0</td><td>2</td><td>4</td><td>0</td><td>0</td><td>2</td><td>0</td><td>0</td><td>0</td><td>0</td><td>0</td><td>0</td><td>0</td><td>0</td></tr><tr><td>1477024722051158018</td><td>&quot;https://twitte…</td><td>&quot;@tunguz Xgboos…</td><td>&quot;2021-12-31 21:…</td><td>5041</td><td>63</td><td>0.012498</td><td>0</td><td>3</td><td>23</td><td>8</td><td>0</td><td>0</td><td>29</td><td>0</td><td>0</td><td>0</td><td>0</td><td>0</td><td>0</td><td>0</td><td>0</td></tr></tbody></table></div>"
      ],
      "text/plain": [
       "shape: (5_791, 22)\n",
       "┌───────────┬────────────┬──────────┬──────────┬───┬───────────┬──────────┬───────────┬────────────┐\n",
       "│ Tweet id  ┆ Tweet      ┆ Tweet    ┆ time     ┆ … ┆ email     ┆ dial     ┆ media     ┆ media enga │\n",
       "│ ---       ┆ permalink  ┆ text     ┆ ---      ┆   ┆ tweet     ┆ phone    ┆ views     ┆ gements    │\n",
       "│ i64       ┆ ---        ┆ ---      ┆ str      ┆   ┆ ---       ┆ ---      ┆ ---       ┆ ---        │\n",
       "│           ┆ str        ┆ str      ┆          ┆   ┆ u8        ┆ u8       ┆ u16       ┆ u16        │\n",
       "╞═══════════╪════════════╪══════════╪══════════╪═══╪═══════════╪══════════╪═══════════╪════════════╡\n",
       "│ 121258051 ┆ https://tw ┆ Sounds   ┆ 2020-01- ┆ … ┆ 0         ┆ 0        ┆ 0         ┆ 0          │\n",
       "│ 790578073 ┆ itter.com/ ┆ like a   ┆ 02 03:44 ┆   ┆           ┆          ┆           ┆            │\n",
       "│ 7         ┆ __mharriso ┆ great    ┆ :00+00:0 ┆   ┆           ┆          ┆           ┆            │\n",
       "│           ┆ n_…        ┆ topic!   ┆ 0        ┆   ┆           ┆          ┆           ┆            │\n",
       "│           ┆            ┆ https…   ┆          ┆   ┆           ┆          ┆           ┆            │\n",
       "│ 121258249 ┆ https://tw ┆ @FogleBi ┆ 2020-01- ┆ … ┆ 0         ┆ 0        ┆ 0         ┆ 0          │\n",
       "│ 482803609 ┆ itter.com/ ┆ rd Looks ┆ 02 03:52 ┆   ┆           ┆          ┆           ┆            │\n",
       "│ 7         ┆ __mharriso ┆ like     ┆ :00+00:0 ┆   ┆           ┆          ┆           ┆            │\n",
       "│           ┆ n_…        ┆ SLC. I   ┆ 0        ┆   ┆           ┆          ┆           ┆            │\n",
       "│           ┆            ┆ can…     ┆          ┆   ┆           ┆          ┆           ┆            │\n",
       "│ 121261373 ┆ https://tw ┆ @afilina ┆ 2020-01- ┆ … ┆ 0         ┆ 0        ┆ 0         ┆ 0          │\n",
       "│ 569869004 ┆ itter.com/ ┆ That's   ┆ 02 05:56 ┆   ┆           ┆          ┆           ┆            │\n",
       "│ 9         ┆ __mharriso ┆ really   ┆ :00+00:0 ┆   ┆           ┆          ┆           ┆            │\n",
       "│           ┆ n_…        ┆ amount   ┆ 0        ┆   ┆           ┆          ┆           ┆            │\n",
       "│           ┆            ┆ an…      ┆          ┆   ┆           ┆          ┆           ┆            │\n",
       "│ 121291174 ┆ https://tw ┆ @randal_ ┆ 2020-01- ┆ … ┆ 0         ┆ 0        ┆ 0         ┆ 0          │\n",
       "│ 961724211 ┆ itter.com/ ┆ olson I  ┆ 03 01:41 ┆   ┆           ┆          ┆           ┆            │\n",
       "│ 3         ┆ __mharriso ┆ use      ┆ :00+00:0 ┆   ┆           ┆          ┆           ┆            │\n",
       "│           ┆ n_…        ┆ anaconda ┆ 0        ┆   ┆           ┆          ┆           ┆            │\n",
       "│           ┆            ┆ whe…     ┆          ┆   ┆           ┆          ┆           ┆            │\n",
       "│ …         ┆ …          ┆ …        ┆ …        ┆ … ┆ …         ┆ …        ┆ …         ┆ …          │\n",
       "│ 147551814 ┆ https://tw ┆ @willmcg ┆ 2021-12- ┆ … ┆ 0         ┆ 0        ┆ 0         ┆ 0          │\n",
       "│ 369080115 ┆ itter.com/ ┆ ugan You ┆ 27 17:25 ┆   ┆           ┆          ┆           ┆            │\n",
       "│ 6         ┆ __mharriso ┆ need to  ┆ :00+00:0 ┆   ┆           ┆          ┆           ┆            │\n",
       "│           ┆ n_…        ┆ find ou… ┆ 0        ┆   ┆           ┆          ┆           ┆            │\n",
       "│ 147589144 ┆ https://tw ┆ @posco   ┆ 2021-12- ┆ … ┆ 0         ┆ 0        ┆ 0         ┆ 0          │\n",
       "│ 124302540 ┆ itter.com/ ┆ Visiting ┆ 28 18:08 ┆   ┆           ┆          ┆           ┆            │\n",
       "│ 8         ┆ __mharriso ┆ Hawaii   ┆ :00+00:0 ┆   ┆           ┆          ┆           ┆            │\n",
       "│           ┆ n_…        ┆ for the  ┆ 0        ┆   ┆           ┆          ┆           ┆            │\n",
       "│           ┆            ┆ h…       ┆          ┆   ┆           ┆          ┆           ┆            │\n",
       "│ 147645381 ┆ https://tw ┆ @johndsa ┆ 2021-12- ┆ … ┆ 0         ┆ 0        ┆ 0         ┆ 0          │\n",
       "│ 975187865 ┆ itter.com/ ┆ unders   ┆ 30 07:23 ┆   ┆           ┆          ┆           ┆            │\n",
       "│ 6         ┆ __mharriso ┆ My son   ┆ :00+00:0 ┆   ┆           ┆          ┆           ┆            │\n",
       "│           ┆ n_…        ┆ just     ┆ 0        ┆   ┆           ┆          ┆           ┆            │\n",
       "│           ┆            ┆ built…   ┆          ┆   ┆           ┆          ┆           ┆            │\n",
       "│ 147702472 ┆ https://tw ┆ @tunguz  ┆ 2021-12- ┆ … ┆ 0         ┆ 0        ┆ 0         ┆ 0          │\n",
       "│ 205115801 ┆ itter.com/ ┆ Xgboost  ┆ 31 21:11 ┆   ┆           ┆          ┆           ┆            │\n",
       "│ 8         ┆ __mharriso ┆          ┆ :00+00:0 ┆   ┆           ┆          ┆           ┆            │\n",
       "│           ┆ n_…        ┆          ┆ 0        ┆   ┆           ┆          ┆           ┆            │\n",
       "└───────────┴────────────┴──────────┴──────────┴───┴───────────┴──────────┴───────────┴────────────┘"
      ]
     },
     "execution_count": 88,
     "metadata": {},
     "output_type": "execute_result"
    }
   ],
   "source": [
    "(df\n",
    " .with_columns([\n",
    "    pl.col(['replies', 'hashtag clicks', 'permalink clicks', 'app opens', 'app installs', 'follows', 'email tweet', 'dial phone'])\n",
    "      .cast(pl.UInt8),\n",
    "    pl.col(['engagements', 'retweets', 'likes', 'user profile clicks', 'url clicks',  'detail expands', 'media views', 'media engagements'])\n",
    "      .cast(pl.UInt16),\n",
    "    pl.col('impressions').cast(pl.UInt32)\n",
    "   ])\n",
    " .drop(['promoted impressions', 'promoted engagements', 'promoted engagement rate', 'promoted retweets', 'promoted replies', 'promoted likes', 'promoted user profile clicks', 'promoted url clicks', 'promoted hashtag clicks', 'promoted detail expands', 'promoted permalink clicks', 'promoted app opens', 'promoted app installs', 'promoted follows', 'promoted email tweet', 'promoted dial phone', 'promoted media views', 'promoted media engagements'])\n",
    ")"
   ]
  },
  {
   "cell_type": "code",
   "execution_count": 89,
   "metadata": {
    "scrolled": true
   },
   "outputs": [
    {
     "name": "stdout",
     "output_type": "stream",
     "text": [
      "['Tweet id', 'Tweet permalink', 'Tweet text', 'time', 'impressions', 'engagements', 'engagement rate', 'retweets', 'replies', 'likes', 'user profile clicks', 'url clicks', 'hashtag clicks', 'detail expands', 'permalink clicks', 'app opens', 'app installs', 'follows', 'email tweet', 'dial phone', 'media views', 'media engagements']\n"
     ]
    }
   ],
   "source": [
    "# rather than drop, we should be explicit about the columns we want\n",
    "# (also allows .lazy mode to make optimizations)\n",
    "print(df\n",
    " .with_columns([\n",
    "    pl.col(['replies', 'hashtag clicks', 'permalink clicks', 'app opens', 'app installs', \n",
    "            'follows', 'email tweet', 'dial phone'])\n",
    "      .cast(pl.UInt8),\n",
    "    pl.col(['engagements', 'retweets', 'likes', 'user profile clicks', 'url clicks',  \n",
    "            'detail expands', 'media views', 'media engagements'])\n",
    "      .cast(pl.UInt16),\n",
    "    pl.col('impressions').cast(pl.UInt32)\n",
    "   ])\n",
    " .drop(['promoted impressions', 'promoted engagements', 'promoted engagement rate', \n",
    "        'promoted retweets', 'promoted replies', 'promoted likes', 'promoted user profile clicks', \n",
    "        'promoted url clicks', 'promoted hashtag clicks', 'promoted detail expands', \n",
    "        'promoted permalink clicks', 'promoted app opens', 'promoted app installs', \n",
    "        'promoted follows', 'promoted email tweet', 'promoted dial phone', 'promoted media views', \n",
    "        'promoted media engagements'])\n",
    " .columns\n",
    ")"
   ]
  },
  {
   "cell_type": "code",
   "execution_count": 90,
   "metadata": {
    "scrolled": true
   },
   "outputs": [
    {
     "data": {
      "text/html": [
       "<div><style>\n",
       ".dataframe > thead > tr > th,\n",
       ".dataframe > tbody > tr > td {\n",
       "  text-align: right;\n",
       "}\n",
       "</style>\n",
       "<small>shape: (5791, 22)</small><table border=\"1\" class=\"dataframe\"><thead><tr><th>Tweet id</th><th>Tweet permalink</th><th>Tweet text</th><th>time</th><th>impressions</th><th>engagements</th><th>engagement rate</th><th>retweets</th><th>replies</th><th>likes</th><th>user profile clicks</th><th>url clicks</th><th>hashtag clicks</th><th>detail expands</th><th>permalink clicks</th><th>app opens</th><th>app installs</th><th>follows</th><th>email tweet</th><th>dial phone</th><th>media views</th><th>media engagements</th></tr><tr><td>i64</td><td>str</td><td>str</td><td>str</td><td>u32</td><td>u16</td><td>f64</td><td>u16</td><td>u8</td><td>u16</td><td>u16</td><td>u16</td><td>u8</td><td>u16</td><td>u8</td><td>u8</td><td>u8</td><td>u8</td><td>u8</td><td>u8</td><td>u16</td><td>u16</td></tr></thead><tbody><tr><td>1212580517905780737</td><td>&quot;https://twitte…</td><td>&quot;Sounds like a …</td><td>&quot;2020-01-02 03:…</td><td>1465</td><td>7</td><td>0.004778</td><td>0</td><td>0</td><td>3</td><td>3</td><td>0</td><td>0</td><td>1</td><td>0</td><td>0</td><td>0</td><td>0</td><td>0</td><td>0</td><td>0</td><td>0</td></tr><tr><td>1212582494828036097</td><td>&quot;https://twitte…</td><td>&quot;@FogleBird Loo…</td><td>&quot;2020-01-02 03:…</td><td>154</td><td>3</td><td>0.019481</td><td>0</td><td>0</td><td>1</td><td>1</td><td>0</td><td>0</td><td>1</td><td>0</td><td>0</td><td>0</td><td>0</td><td>0</td><td>0</td><td>0</td><td>0</td></tr><tr><td>1212613735698690049</td><td>&quot;https://twitte…</td><td>&quot;@afilina That&#x27;…</td><td>&quot;2020-01-02 05:…</td><td>1024</td><td>6</td><td>0.005859</td><td>0</td><td>0</td><td>1</td><td>2</td><td>0</td><td>0</td><td>3</td><td>0</td><td>0</td><td>0</td><td>0</td><td>0</td><td>0</td><td>0</td><td>0</td></tr><tr><td>1212911749617242113</td><td>&quot;https://twitte…</td><td>&quot;@randal_olson …</td><td>&quot;2020-01-03 01:…</td><td>1419</td><td>14</td><td>0.009866</td><td>0</td><td>1</td><td>5</td><td>7</td><td>0</td><td>0</td><td>1</td><td>0</td><td>0</td><td>0</td><td>0</td><td>0</td><td>0</td><td>0</td><td>0</td></tr><tr><td>1212920556028252160</td><td>&quot;https://twitte…</td><td>&quot;@AlSweigart So…</td><td>&quot;2020-01-03 02:…</td><td>198</td><td>1</td><td>0.005051</td><td>0</td><td>0</td><td>1</td><td>0</td><td>0</td><td>0</td><td>0</td><td>0</td><td>0</td><td>0</td><td>0</td><td>0</td><td>0</td><td>0</td><td>0</td></tr><tr><td>1212921038356434947</td><td>&quot;https://twitte…</td><td>&quot;@tmarthal @Ted…</td><td>&quot;2020-01-03 02:…</td><td>170</td><td>3</td><td>0.017647</td><td>0</td><td>0</td><td>1</td><td>1</td><td>0</td><td>0</td><td>1</td><td>0</td><td>0</td><td>0</td><td>0</td><td>0</td><td>0</td><td>0</td><td>0</td></tr><tr><td>1212921192287330304</td><td>&quot;https://twitte…</td><td>&quot;@gabegundy It&#x27;…</td><td>&quot;2020-01-03 02:…</td><td>104</td><td>2</td><td>0.019231</td><td>0</td><td>1</td><td>1</td><td>0</td><td>0</td><td>0</td><td>0</td><td>0</td><td>0</td><td>0</td><td>0</td><td>0</td><td>0</td><td>0</td><td>0</td></tr><tr><td>1212969747186208768</td><td>&quot;https://twitte…</td><td>&quot;@anthonypjshaw…</td><td>&quot;2020-01-03 05:…</td><td>189</td><td>0</td><td>0.0</td><td>0</td><td>0</td><td>0</td><td>0</td><td>0</td><td>0</td><td>0</td><td>0</td><td>0</td><td>0</td><td>0</td><td>0</td><td>0</td><td>0</td><td>0</td></tr><tr><td>1212971634019033088</td><td>&quot;https://twitte…</td><td>&quot;@jet_set A lit…</td><td>&quot;2020-01-03 05:…</td><td>900</td><td>4</td><td>0.004444</td><td>0</td><td>0</td><td>0</td><td>4</td><td>0</td><td>0</td><td>0</td><td>0</td><td>0</td><td>0</td><td>0</td><td>0</td><td>0</td><td>0</td><td>0</td></tr><tr><td>1213194379793293312</td><td>&quot;https://twitte…</td><td>&quot;@juliasilge @r…</td><td>&quot;2020-01-03 20:…</td><td>252</td><td>2</td><td>0.007937</td><td>0</td><td>0</td><td>1</td><td>1</td><td>0</td><td>0</td><td>0</td><td>0</td><td>0</td><td>0</td><td>0</td><td>0</td><td>0</td><td>0</td><td>0</td></tr><tr><td>1213699561962631168</td><td>&quot;https://twitte…</td><td>&quot;Herein you wil…</td><td>&quot;2020-01-05 05:…</td><td>1610</td><td>6</td><td>0.003727</td><td>0</td><td>0</td><td>2</td><td>2</td><td>0</td><td>0</td><td>2</td><td>0</td><td>0</td><td>0</td><td>0</td><td>0</td><td>0</td><td>0</td><td>0</td></tr><tr><td>1213896543985516544</td><td>&quot;https://twitte…</td><td>&quot;@Austen Care t…</td><td>&quot;2020-01-05 18:…</td><td>165</td><td>3</td><td>0.018182</td><td>0</td><td>0</td><td>0</td><td>1</td><td>0</td><td>0</td><td>2</td><td>0</td><td>0</td><td>0</td><td>0</td><td>0</td><td>0</td><td>0</td><td>0</td></tr><tr><td>&hellip;</td><td>&hellip;</td><td>&hellip;</td><td>&hellip;</td><td>&hellip;</td><td>&hellip;</td><td>&hellip;</td><td>&hellip;</td><td>&hellip;</td><td>&hellip;</td><td>&hellip;</td><td>&hellip;</td><td>&hellip;</td><td>&hellip;</td><td>&hellip;</td><td>&hellip;</td><td>&hellip;</td><td>&hellip;</td><td>&hellip;</td><td>&hellip;</td><td>&hellip;</td><td>&hellip;</td></tr><tr><td>1474805013343981570</td><td>&quot;https://twitte…</td><td>&quot;@EricSchles @s…</td><td>&quot;2021-12-25 18:…</td><td>416</td><td>3</td><td>0.007212</td><td>0</td><td>0</td><td>2</td><td>1</td><td>0</td><td>0</td><td>0</td><td>0</td><td>0</td><td>0</td><td>0</td><td>0</td><td>0</td><td>0</td><td>0</td></tr><tr><td>1474820707234185217</td><td>&quot;https://twitte…</td><td>&quot;Mele kalikimak…</td><td>&quot;2021-12-25 19:…</td><td>15840</td><td>372</td><td>0.023485</td><td>0</td><td>2</td><td>61</td><td>59</td><td>6</td><td>0</td><td>66</td><td>0</td><td>0</td><td>0</td><td>0</td><td>0</td><td>0</td><td>178</td><td>178</td></tr><tr><td>1475023008620154882</td><td>&quot;https://twitte…</td><td>&quot;Good looking c…</td><td>&quot;2021-12-26 08:…</td><td>22557</td><td>501</td><td>0.02221</td><td>0</td><td>9</td><td>50</td><td>89</td><td>14</td><td>0</td><td>118</td><td>0</td><td>0</td><td>0</td><td>0</td><td>0</td><td>0</td><td>221</td><td>221</td></tr><tr><td>1475299210291343362</td><td>&quot;https://twitte…</td><td>&quot;@youtah A litt…</td><td>&quot;2021-12-27 02:…</td><td>1586</td><td>35</td><td>0.022068</td><td>0</td><td>0</td><td>2</td><td>1</td><td>1</td><td>0</td><td>0</td><td>0</td><td>0</td><td>0</td><td>0</td><td>0</td><td>0</td><td>31</td><td>31</td></tr><tr><td>1475299401681682434</td><td>&quot;https://twitte…</td><td>&quot;@mathsppblog S…</td><td>&quot;2021-12-27 02:…</td><td>4641</td><td>35</td><td>0.007541</td><td>0</td><td>4</td><td>11</td><td>10</td><td>0</td><td>0</td><td>10</td><td>0</td><td>0</td><td>0</td><td>0</td><td>0</td><td>0</td><td>0</td><td>0</td></tr><tr><td>1475299848093978626</td><td>&quot;https://twitte…</td><td>&quot;@willmcgugan P…</td><td>&quot;2021-12-27 02:…</td><td>1969</td><td>4</td><td>0.002031</td><td>0</td><td>0</td><td>4</td><td>0</td><td>0</td><td>0</td><td>0</td><td>0</td><td>0</td><td>0</td><td>0</td><td>0</td><td>0</td><td>0</td><td>0</td></tr><tr><td>1475300370138087426</td><td>&quot;https://twitte…</td><td>&quot;@reuvenmlerner…</td><td>&quot;2021-12-27 02:…</td><td>1669</td><td>5</td><td>0.002996</td><td>0</td><td>0</td><td>3</td><td>0</td><td>0</td><td>0</td><td>2</td><td>0</td><td>0</td><td>0</td><td>0</td><td>0</td><td>0</td><td>0</td><td>0</td></tr><tr><td>1475300661851934721</td><td>&quot;https://twitte…</td><td>&quot;@allison_horst…</td><td>&quot;2021-12-27 03:…</td><td>986</td><td>1</td><td>0.001014</td><td>0</td><td>0</td><td>0</td><td>0</td><td>0</td><td>0</td><td>1</td><td>0</td><td>0</td><td>0</td><td>0</td><td>0</td><td>0</td><td>0</td><td>0</td></tr><tr><td>1475518143690801156</td><td>&quot;https://twitte…</td><td>&quot;@willmcgugan Y…</td><td>&quot;2021-12-27 17:…</td><td>1790</td><td>7</td><td>0.003911</td><td>0</td><td>0</td><td>3</td><td>1</td><td>0</td><td>0</td><td>3</td><td>0</td><td>0</td><td>0</td><td>0</td><td>0</td><td>0</td><td>0</td><td>0</td></tr><tr><td>1475891441243025408</td><td>&quot;https://twitte…</td><td>&quot;@posco Visitin…</td><td>&quot;2021-12-28 18:…</td><td>1611</td><td>12</td><td>0.007449</td><td>0</td><td>0</td><td>4</td><td>4</td><td>0</td><td>0</td><td>4</td><td>0</td><td>0</td><td>0</td><td>0</td><td>0</td><td>0</td><td>0</td><td>0</td></tr><tr><td>1476453819751878656</td><td>&quot;https://twitte…</td><td>&quot;@johndsaunders…</td><td>&quot;2021-12-30 07:…</td><td>1354</td><td>8</td><td>0.005908</td><td>0</td><td>0</td><td>2</td><td>4</td><td>0</td><td>0</td><td>2</td><td>0</td><td>0</td><td>0</td><td>0</td><td>0</td><td>0</td><td>0</td><td>0</td></tr><tr><td>1477024722051158018</td><td>&quot;https://twitte…</td><td>&quot;@tunguz Xgboos…</td><td>&quot;2021-12-31 21:…</td><td>5041</td><td>63</td><td>0.012498</td><td>0</td><td>3</td><td>23</td><td>8</td><td>0</td><td>0</td><td>29</td><td>0</td><td>0</td><td>0</td><td>0</td><td>0</td><td>0</td><td>0</td><td>0</td></tr></tbody></table></div>"
      ],
      "text/plain": [
       "shape: (5_791, 22)\n",
       "┌───────────┬────────────┬──────────┬──────────┬───┬───────────┬──────────┬───────────┬────────────┐\n",
       "│ Tweet id  ┆ Tweet      ┆ Tweet    ┆ time     ┆ … ┆ email     ┆ dial     ┆ media     ┆ media enga │\n",
       "│ ---       ┆ permalink  ┆ text     ┆ ---      ┆   ┆ tweet     ┆ phone    ┆ views     ┆ gements    │\n",
       "│ i64       ┆ ---        ┆ ---      ┆ str      ┆   ┆ ---       ┆ ---      ┆ ---       ┆ ---        │\n",
       "│           ┆ str        ┆ str      ┆          ┆   ┆ u8        ┆ u8       ┆ u16       ┆ u16        │\n",
       "╞═══════════╪════════════╪══════════╪══════════╪═══╪═══════════╪══════════╪═══════════╪════════════╡\n",
       "│ 121258051 ┆ https://tw ┆ Sounds   ┆ 2020-01- ┆ … ┆ 0         ┆ 0        ┆ 0         ┆ 0          │\n",
       "│ 790578073 ┆ itter.com/ ┆ like a   ┆ 02 03:44 ┆   ┆           ┆          ┆           ┆            │\n",
       "│ 7         ┆ __mharriso ┆ great    ┆ :00+00:0 ┆   ┆           ┆          ┆           ┆            │\n",
       "│           ┆ n_…        ┆ topic!   ┆ 0        ┆   ┆           ┆          ┆           ┆            │\n",
       "│           ┆            ┆ https…   ┆          ┆   ┆           ┆          ┆           ┆            │\n",
       "│ 121258249 ┆ https://tw ┆ @FogleBi ┆ 2020-01- ┆ … ┆ 0         ┆ 0        ┆ 0         ┆ 0          │\n",
       "│ 482803609 ┆ itter.com/ ┆ rd Looks ┆ 02 03:52 ┆   ┆           ┆          ┆           ┆            │\n",
       "│ 7         ┆ __mharriso ┆ like     ┆ :00+00:0 ┆   ┆           ┆          ┆           ┆            │\n",
       "│           ┆ n_…        ┆ SLC. I   ┆ 0        ┆   ┆           ┆          ┆           ┆            │\n",
       "│           ┆            ┆ can…     ┆          ┆   ┆           ┆          ┆           ┆            │\n",
       "│ 121261373 ┆ https://tw ┆ @afilina ┆ 2020-01- ┆ … ┆ 0         ┆ 0        ┆ 0         ┆ 0          │\n",
       "│ 569869004 ┆ itter.com/ ┆ That's   ┆ 02 05:56 ┆   ┆           ┆          ┆           ┆            │\n",
       "│ 9         ┆ __mharriso ┆ really   ┆ :00+00:0 ┆   ┆           ┆          ┆           ┆            │\n",
       "│           ┆ n_…        ┆ amount   ┆ 0        ┆   ┆           ┆          ┆           ┆            │\n",
       "│           ┆            ┆ an…      ┆          ┆   ┆           ┆          ┆           ┆            │\n",
       "│ 121291174 ┆ https://tw ┆ @randal_ ┆ 2020-01- ┆ … ┆ 0         ┆ 0        ┆ 0         ┆ 0          │\n",
       "│ 961724211 ┆ itter.com/ ┆ olson I  ┆ 03 01:41 ┆   ┆           ┆          ┆           ┆            │\n",
       "│ 3         ┆ __mharriso ┆ use      ┆ :00+00:0 ┆   ┆           ┆          ┆           ┆            │\n",
       "│           ┆ n_…        ┆ anaconda ┆ 0        ┆   ┆           ┆          ┆           ┆            │\n",
       "│           ┆            ┆ whe…     ┆          ┆   ┆           ┆          ┆           ┆            │\n",
       "│ …         ┆ …          ┆ …        ┆ …        ┆ … ┆ …         ┆ …        ┆ …         ┆ …          │\n",
       "│ 147551814 ┆ https://tw ┆ @willmcg ┆ 2021-12- ┆ … ┆ 0         ┆ 0        ┆ 0         ┆ 0          │\n",
       "│ 369080115 ┆ itter.com/ ┆ ugan You ┆ 27 17:25 ┆   ┆           ┆          ┆           ┆            │\n",
       "│ 6         ┆ __mharriso ┆ need to  ┆ :00+00:0 ┆   ┆           ┆          ┆           ┆            │\n",
       "│           ┆ n_…        ┆ find ou… ┆ 0        ┆   ┆           ┆          ┆           ┆            │\n",
       "│ 147589144 ┆ https://tw ┆ @posco   ┆ 2021-12- ┆ … ┆ 0         ┆ 0        ┆ 0         ┆ 0          │\n",
       "│ 124302540 ┆ itter.com/ ┆ Visiting ┆ 28 18:08 ┆   ┆           ┆          ┆           ┆            │\n",
       "│ 8         ┆ __mharriso ┆ Hawaii   ┆ :00+00:0 ┆   ┆           ┆          ┆           ┆            │\n",
       "│           ┆ n_…        ┆ for the  ┆ 0        ┆   ┆           ┆          ┆           ┆            │\n",
       "│           ┆            ┆ h…       ┆          ┆   ┆           ┆          ┆           ┆            │\n",
       "│ 147645381 ┆ https://tw ┆ @johndsa ┆ 2021-12- ┆ … ┆ 0         ┆ 0        ┆ 0         ┆ 0          │\n",
       "│ 975187865 ┆ itter.com/ ┆ unders   ┆ 30 07:23 ┆   ┆           ┆          ┆           ┆            │\n",
       "│ 6         ┆ __mharriso ┆ My son   ┆ :00+00:0 ┆   ┆           ┆          ┆           ┆            │\n",
       "│           ┆ n_…        ┆ just     ┆ 0        ┆   ┆           ┆          ┆           ┆            │\n",
       "│           ┆            ┆ built…   ┆          ┆   ┆           ┆          ┆           ┆            │\n",
       "│ 147702472 ┆ https://tw ┆ @tunguz  ┆ 2021-12- ┆ … ┆ 0         ┆ 0        ┆ 0         ┆ 0          │\n",
       "│ 205115801 ┆ itter.com/ ┆ Xgboost  ┆ 31 21:11 ┆   ┆           ┆          ┆           ┆            │\n",
       "│ 8         ┆ __mharriso ┆          ┆ :00+00:0 ┆   ┆           ┆          ┆           ┆            │\n",
       "│           ┆ n_…        ┆          ┆ 0        ┆   ┆           ┆          ┆           ┆            │\n",
       "└───────────┴────────────┴──────────┴──────────┴───┴───────────┴──────────┴───────────┴────────────┘"
      ]
     },
     "execution_count": 90,
     "metadata": {},
     "output_type": "execute_result"
    }
   ],
   "source": [
    "# rather than drop, we should be explicit about the columns we want\n",
    "# (also allows .lazy mode to make optimizations)\n",
    "(df\n",
    " .with_columns([\n",
    "    pl.col(['replies', 'hashtag clicks', 'permalink clicks', 'app opens', 'app installs', \n",
    "            'follows', 'email tweet', 'dial phone'])\n",
    "      .cast(pl.UInt8),\n",
    "    pl.col(['engagements', 'retweets', 'likes', 'user profile clicks', 'url clicks',  \n",
    "            'detail expands', 'media views', 'media engagements'])\n",
    "      .cast(pl.UInt16),\n",
    "    pl.col('impressions').cast(pl.UInt32)\n",
    "   ])\n",
    " .select(pl.col(['Tweet id', 'Tweet permalink', 'Tweet text', 'time', 'impressions', \n",
    "                 'engagements', 'engagement rate', 'retweets', 'replies', 'likes', \n",
    "                 'user profile clicks', 'url clicks', 'hashtag clicks', 'detail expands',\n",
    "                 'permalink clicks', 'app opens', 'app installs', 'follows', 'email tweet', \n",
    "                 'dial phone', 'media views', 'media engagements']))\n",
    ")"
   ]
  },
  {
   "cell_type": "code",
   "execution_count": 93,
   "metadata": {},
   "outputs": [
    {
     "name": "stdout",
     "output_type": "stream",
     "text": [
      "\n",
      "        Rename column names.\n",
      "\n",
      "        Parameters\n",
      "        ----------\n",
      "        mapping\n",
      "            Key value pairs that map from old name to new name.\n",
      "\n",
      "        Examples\n",
      "        --------\n",
      "        >>> df = pl.DataFrame(\n",
      "        ...     {\"foo\": [1, 2, 3], \"bar\": [6, 7, 8], \"ham\": [\"a\", \"b\", \"c\"]}\n",
      "        ... )\n",
      "        >>> df.rename({\"foo\": \"apple\"})\n",
      "        shape: (3, 3)\n",
      "        ┌───────┬─────┬─────┐\n",
      "        │ apple ┆ bar ┆ ham │\n",
      "        │ ---   ┆ --- ┆ --- │\n",
      "        │ i64   ┆ i64 ┆ str │\n",
      "        ╞═══════╪═════╪═════╡\n",
      "        │ 1     ┆ 6   ┆ a   │\n",
      "        │ 2     ┆ 7   ┆ b   │\n",
      "        │ 3     ┆ 8   ┆ c   │\n",
      "        └───────┴─────┴─────┘\n",
      "\n",
      "        \n"
     ]
    }
   ],
   "source": [
    "print(df.rename.__doc__)"
   ]
  },
  {
   "cell_type": "code",
   "execution_count": 95,
   "metadata": {
    "scrolled": true
   },
   "outputs": [
    {
     "data": {
      "text/html": [
       "<div><style>\n",
       ".dataframe > thead > tr > th,\n",
       ".dataframe > tbody > tr > td {\n",
       "  text-align: right;\n",
       "}\n",
       "</style>\n",
       "<small>shape: (5791, 22)</small><table border=\"1\" class=\"dataframe\"><thead><tr><th>tweet_id</th><th>tweet_permalink</th><th>tweet_text</th><th>time</th><th>impressions</th><th>engagements</th><th>engagement_rate</th><th>retweets</th><th>replies</th><th>likes</th><th>user_profile_clicks</th><th>url_clicks</th><th>hashtag_clicks</th><th>detail_expands</th><th>permalink_clicks</th><th>app_opens</th><th>app_installs</th><th>follows</th><th>email_tweet</th><th>dial_phone</th><th>media_views</th><th>media_engagements</th></tr><tr><td>i64</td><td>str</td><td>str</td><td>str</td><td>u32</td><td>u16</td><td>f64</td><td>u16</td><td>u8</td><td>u16</td><td>u16</td><td>u16</td><td>u8</td><td>u16</td><td>u8</td><td>u8</td><td>u8</td><td>u8</td><td>u8</td><td>u8</td><td>u16</td><td>u16</td></tr></thead><tbody><tr><td>1212580517905780737</td><td>&quot;https://twitte…</td><td>&quot;Sounds like a …</td><td>&quot;2020-01-02 03:…</td><td>1465</td><td>7</td><td>0.004778</td><td>0</td><td>0</td><td>3</td><td>3</td><td>0</td><td>0</td><td>1</td><td>0</td><td>0</td><td>0</td><td>0</td><td>0</td><td>0</td><td>0</td><td>0</td></tr><tr><td>1212582494828036097</td><td>&quot;https://twitte…</td><td>&quot;@FogleBird Loo…</td><td>&quot;2020-01-02 03:…</td><td>154</td><td>3</td><td>0.019481</td><td>0</td><td>0</td><td>1</td><td>1</td><td>0</td><td>0</td><td>1</td><td>0</td><td>0</td><td>0</td><td>0</td><td>0</td><td>0</td><td>0</td><td>0</td></tr><tr><td>1212613735698690049</td><td>&quot;https://twitte…</td><td>&quot;@afilina That&#x27;…</td><td>&quot;2020-01-02 05:…</td><td>1024</td><td>6</td><td>0.005859</td><td>0</td><td>0</td><td>1</td><td>2</td><td>0</td><td>0</td><td>3</td><td>0</td><td>0</td><td>0</td><td>0</td><td>0</td><td>0</td><td>0</td><td>0</td></tr><tr><td>1212911749617242113</td><td>&quot;https://twitte…</td><td>&quot;@randal_olson …</td><td>&quot;2020-01-03 01:…</td><td>1419</td><td>14</td><td>0.009866</td><td>0</td><td>1</td><td>5</td><td>7</td><td>0</td><td>0</td><td>1</td><td>0</td><td>0</td><td>0</td><td>0</td><td>0</td><td>0</td><td>0</td><td>0</td></tr><tr><td>1212920556028252160</td><td>&quot;https://twitte…</td><td>&quot;@AlSweigart So…</td><td>&quot;2020-01-03 02:…</td><td>198</td><td>1</td><td>0.005051</td><td>0</td><td>0</td><td>1</td><td>0</td><td>0</td><td>0</td><td>0</td><td>0</td><td>0</td><td>0</td><td>0</td><td>0</td><td>0</td><td>0</td><td>0</td></tr><tr><td>1212921038356434947</td><td>&quot;https://twitte…</td><td>&quot;@tmarthal @Ted…</td><td>&quot;2020-01-03 02:…</td><td>170</td><td>3</td><td>0.017647</td><td>0</td><td>0</td><td>1</td><td>1</td><td>0</td><td>0</td><td>1</td><td>0</td><td>0</td><td>0</td><td>0</td><td>0</td><td>0</td><td>0</td><td>0</td></tr><tr><td>1212921192287330304</td><td>&quot;https://twitte…</td><td>&quot;@gabegundy It&#x27;…</td><td>&quot;2020-01-03 02:…</td><td>104</td><td>2</td><td>0.019231</td><td>0</td><td>1</td><td>1</td><td>0</td><td>0</td><td>0</td><td>0</td><td>0</td><td>0</td><td>0</td><td>0</td><td>0</td><td>0</td><td>0</td><td>0</td></tr><tr><td>1212969747186208768</td><td>&quot;https://twitte…</td><td>&quot;@anthonypjshaw…</td><td>&quot;2020-01-03 05:…</td><td>189</td><td>0</td><td>0.0</td><td>0</td><td>0</td><td>0</td><td>0</td><td>0</td><td>0</td><td>0</td><td>0</td><td>0</td><td>0</td><td>0</td><td>0</td><td>0</td><td>0</td><td>0</td></tr><tr><td>1212971634019033088</td><td>&quot;https://twitte…</td><td>&quot;@jet_set A lit…</td><td>&quot;2020-01-03 05:…</td><td>900</td><td>4</td><td>0.004444</td><td>0</td><td>0</td><td>0</td><td>4</td><td>0</td><td>0</td><td>0</td><td>0</td><td>0</td><td>0</td><td>0</td><td>0</td><td>0</td><td>0</td><td>0</td></tr><tr><td>1213194379793293312</td><td>&quot;https://twitte…</td><td>&quot;@juliasilge @r…</td><td>&quot;2020-01-03 20:…</td><td>252</td><td>2</td><td>0.007937</td><td>0</td><td>0</td><td>1</td><td>1</td><td>0</td><td>0</td><td>0</td><td>0</td><td>0</td><td>0</td><td>0</td><td>0</td><td>0</td><td>0</td><td>0</td></tr><tr><td>1213699561962631168</td><td>&quot;https://twitte…</td><td>&quot;Herein you wil…</td><td>&quot;2020-01-05 05:…</td><td>1610</td><td>6</td><td>0.003727</td><td>0</td><td>0</td><td>2</td><td>2</td><td>0</td><td>0</td><td>2</td><td>0</td><td>0</td><td>0</td><td>0</td><td>0</td><td>0</td><td>0</td><td>0</td></tr><tr><td>1213896543985516544</td><td>&quot;https://twitte…</td><td>&quot;@Austen Care t…</td><td>&quot;2020-01-05 18:…</td><td>165</td><td>3</td><td>0.018182</td><td>0</td><td>0</td><td>0</td><td>1</td><td>0</td><td>0</td><td>2</td><td>0</td><td>0</td><td>0</td><td>0</td><td>0</td><td>0</td><td>0</td><td>0</td></tr><tr><td>&hellip;</td><td>&hellip;</td><td>&hellip;</td><td>&hellip;</td><td>&hellip;</td><td>&hellip;</td><td>&hellip;</td><td>&hellip;</td><td>&hellip;</td><td>&hellip;</td><td>&hellip;</td><td>&hellip;</td><td>&hellip;</td><td>&hellip;</td><td>&hellip;</td><td>&hellip;</td><td>&hellip;</td><td>&hellip;</td><td>&hellip;</td><td>&hellip;</td><td>&hellip;</td><td>&hellip;</td></tr><tr><td>1474805013343981570</td><td>&quot;https://twitte…</td><td>&quot;@EricSchles @s…</td><td>&quot;2021-12-25 18:…</td><td>416</td><td>3</td><td>0.007212</td><td>0</td><td>0</td><td>2</td><td>1</td><td>0</td><td>0</td><td>0</td><td>0</td><td>0</td><td>0</td><td>0</td><td>0</td><td>0</td><td>0</td><td>0</td></tr><tr><td>1474820707234185217</td><td>&quot;https://twitte…</td><td>&quot;Mele kalikimak…</td><td>&quot;2021-12-25 19:…</td><td>15840</td><td>372</td><td>0.023485</td><td>0</td><td>2</td><td>61</td><td>59</td><td>6</td><td>0</td><td>66</td><td>0</td><td>0</td><td>0</td><td>0</td><td>0</td><td>0</td><td>178</td><td>178</td></tr><tr><td>1475023008620154882</td><td>&quot;https://twitte…</td><td>&quot;Good looking c…</td><td>&quot;2021-12-26 08:…</td><td>22557</td><td>501</td><td>0.02221</td><td>0</td><td>9</td><td>50</td><td>89</td><td>14</td><td>0</td><td>118</td><td>0</td><td>0</td><td>0</td><td>0</td><td>0</td><td>0</td><td>221</td><td>221</td></tr><tr><td>1475299210291343362</td><td>&quot;https://twitte…</td><td>&quot;@youtah A litt…</td><td>&quot;2021-12-27 02:…</td><td>1586</td><td>35</td><td>0.022068</td><td>0</td><td>0</td><td>2</td><td>1</td><td>1</td><td>0</td><td>0</td><td>0</td><td>0</td><td>0</td><td>0</td><td>0</td><td>0</td><td>31</td><td>31</td></tr><tr><td>1475299401681682434</td><td>&quot;https://twitte…</td><td>&quot;@mathsppblog S…</td><td>&quot;2021-12-27 02:…</td><td>4641</td><td>35</td><td>0.007541</td><td>0</td><td>4</td><td>11</td><td>10</td><td>0</td><td>0</td><td>10</td><td>0</td><td>0</td><td>0</td><td>0</td><td>0</td><td>0</td><td>0</td><td>0</td></tr><tr><td>1475299848093978626</td><td>&quot;https://twitte…</td><td>&quot;@willmcgugan P…</td><td>&quot;2021-12-27 02:…</td><td>1969</td><td>4</td><td>0.002031</td><td>0</td><td>0</td><td>4</td><td>0</td><td>0</td><td>0</td><td>0</td><td>0</td><td>0</td><td>0</td><td>0</td><td>0</td><td>0</td><td>0</td><td>0</td></tr><tr><td>1475300370138087426</td><td>&quot;https://twitte…</td><td>&quot;@reuvenmlerner…</td><td>&quot;2021-12-27 02:…</td><td>1669</td><td>5</td><td>0.002996</td><td>0</td><td>0</td><td>3</td><td>0</td><td>0</td><td>0</td><td>2</td><td>0</td><td>0</td><td>0</td><td>0</td><td>0</td><td>0</td><td>0</td><td>0</td></tr><tr><td>1475300661851934721</td><td>&quot;https://twitte…</td><td>&quot;@allison_horst…</td><td>&quot;2021-12-27 03:…</td><td>986</td><td>1</td><td>0.001014</td><td>0</td><td>0</td><td>0</td><td>0</td><td>0</td><td>0</td><td>1</td><td>0</td><td>0</td><td>0</td><td>0</td><td>0</td><td>0</td><td>0</td><td>0</td></tr><tr><td>1475518143690801156</td><td>&quot;https://twitte…</td><td>&quot;@willmcgugan Y…</td><td>&quot;2021-12-27 17:…</td><td>1790</td><td>7</td><td>0.003911</td><td>0</td><td>0</td><td>3</td><td>1</td><td>0</td><td>0</td><td>3</td><td>0</td><td>0</td><td>0</td><td>0</td><td>0</td><td>0</td><td>0</td><td>0</td></tr><tr><td>1475891441243025408</td><td>&quot;https://twitte…</td><td>&quot;@posco Visitin…</td><td>&quot;2021-12-28 18:…</td><td>1611</td><td>12</td><td>0.007449</td><td>0</td><td>0</td><td>4</td><td>4</td><td>0</td><td>0</td><td>4</td><td>0</td><td>0</td><td>0</td><td>0</td><td>0</td><td>0</td><td>0</td><td>0</td></tr><tr><td>1476453819751878656</td><td>&quot;https://twitte…</td><td>&quot;@johndsaunders…</td><td>&quot;2021-12-30 07:…</td><td>1354</td><td>8</td><td>0.005908</td><td>0</td><td>0</td><td>2</td><td>4</td><td>0</td><td>0</td><td>2</td><td>0</td><td>0</td><td>0</td><td>0</td><td>0</td><td>0</td><td>0</td><td>0</td></tr><tr><td>1477024722051158018</td><td>&quot;https://twitte…</td><td>&quot;@tunguz Xgboos…</td><td>&quot;2021-12-31 21:…</td><td>5041</td><td>63</td><td>0.012498</td><td>0</td><td>3</td><td>23</td><td>8</td><td>0</td><td>0</td><td>29</td><td>0</td><td>0</td><td>0</td><td>0</td><td>0</td><td>0</td><td>0</td><td>0</td></tr></tbody></table></div>"
      ],
      "text/plain": [
       "shape: (5_791, 22)\n",
       "┌───────────┬────────────┬──────────┬──────────┬───┬───────────┬──────────┬───────────┬────────────┐\n",
       "│ tweet_id  ┆ tweet_perm ┆ tweet_te ┆ time     ┆ … ┆ email_twe ┆ dial_pho ┆ media_vie ┆ media_enga │\n",
       "│ ---       ┆ alink      ┆ xt       ┆ ---      ┆   ┆ et        ┆ ne       ┆ ws        ┆ gements    │\n",
       "│ i64       ┆ ---        ┆ ---      ┆ str      ┆   ┆ ---       ┆ ---      ┆ ---       ┆ ---        │\n",
       "│           ┆ str        ┆ str      ┆          ┆   ┆ u8        ┆ u8       ┆ u16       ┆ u16        │\n",
       "╞═══════════╪════════════╪══════════╪══════════╪═══╪═══════════╪══════════╪═══════════╪════════════╡\n",
       "│ 121258051 ┆ https://tw ┆ Sounds   ┆ 2020-01- ┆ … ┆ 0         ┆ 0        ┆ 0         ┆ 0          │\n",
       "│ 790578073 ┆ itter.com/ ┆ like a   ┆ 02 03:44 ┆   ┆           ┆          ┆           ┆            │\n",
       "│ 7         ┆ __mharriso ┆ great    ┆ :00+00:0 ┆   ┆           ┆          ┆           ┆            │\n",
       "│           ┆ n_…        ┆ topic!   ┆ 0        ┆   ┆           ┆          ┆           ┆            │\n",
       "│           ┆            ┆ https…   ┆          ┆   ┆           ┆          ┆           ┆            │\n",
       "│ 121258249 ┆ https://tw ┆ @FogleBi ┆ 2020-01- ┆ … ┆ 0         ┆ 0        ┆ 0         ┆ 0          │\n",
       "│ 482803609 ┆ itter.com/ ┆ rd Looks ┆ 02 03:52 ┆   ┆           ┆          ┆           ┆            │\n",
       "│ 7         ┆ __mharriso ┆ like     ┆ :00+00:0 ┆   ┆           ┆          ┆           ┆            │\n",
       "│           ┆ n_…        ┆ SLC. I   ┆ 0        ┆   ┆           ┆          ┆           ┆            │\n",
       "│           ┆            ┆ can…     ┆          ┆   ┆           ┆          ┆           ┆            │\n",
       "│ 121261373 ┆ https://tw ┆ @afilina ┆ 2020-01- ┆ … ┆ 0         ┆ 0        ┆ 0         ┆ 0          │\n",
       "│ 569869004 ┆ itter.com/ ┆ That's   ┆ 02 05:56 ┆   ┆           ┆          ┆           ┆            │\n",
       "│ 9         ┆ __mharriso ┆ really   ┆ :00+00:0 ┆   ┆           ┆          ┆           ┆            │\n",
       "│           ┆ n_…        ┆ amount   ┆ 0        ┆   ┆           ┆          ┆           ┆            │\n",
       "│           ┆            ┆ an…      ┆          ┆   ┆           ┆          ┆           ┆            │\n",
       "│ 121291174 ┆ https://tw ┆ @randal_ ┆ 2020-01- ┆ … ┆ 0         ┆ 0        ┆ 0         ┆ 0          │\n",
       "│ 961724211 ┆ itter.com/ ┆ olson I  ┆ 03 01:41 ┆   ┆           ┆          ┆           ┆            │\n",
       "│ 3         ┆ __mharriso ┆ use      ┆ :00+00:0 ┆   ┆           ┆          ┆           ┆            │\n",
       "│           ┆ n_…        ┆ anaconda ┆ 0        ┆   ┆           ┆          ┆           ┆            │\n",
       "│           ┆            ┆ whe…     ┆          ┆   ┆           ┆          ┆           ┆            │\n",
       "│ …         ┆ …          ┆ …        ┆ …        ┆ … ┆ …         ┆ …        ┆ …         ┆ …          │\n",
       "│ 147551814 ┆ https://tw ┆ @willmcg ┆ 2021-12- ┆ … ┆ 0         ┆ 0        ┆ 0         ┆ 0          │\n",
       "│ 369080115 ┆ itter.com/ ┆ ugan You ┆ 27 17:25 ┆   ┆           ┆          ┆           ┆            │\n",
       "│ 6         ┆ __mharriso ┆ need to  ┆ :00+00:0 ┆   ┆           ┆          ┆           ┆            │\n",
       "│           ┆ n_…        ┆ find ou… ┆ 0        ┆   ┆           ┆          ┆           ┆            │\n",
       "│ 147589144 ┆ https://tw ┆ @posco   ┆ 2021-12- ┆ … ┆ 0         ┆ 0        ┆ 0         ┆ 0          │\n",
       "│ 124302540 ┆ itter.com/ ┆ Visiting ┆ 28 18:08 ┆   ┆           ┆          ┆           ┆            │\n",
       "│ 8         ┆ __mharriso ┆ Hawaii   ┆ :00+00:0 ┆   ┆           ┆          ┆           ┆            │\n",
       "│           ┆ n_…        ┆ for the  ┆ 0        ┆   ┆           ┆          ┆           ┆            │\n",
       "│           ┆            ┆ h…       ┆          ┆   ┆           ┆          ┆           ┆            │\n",
       "│ 147645381 ┆ https://tw ┆ @johndsa ┆ 2021-12- ┆ … ┆ 0         ┆ 0        ┆ 0         ┆ 0          │\n",
       "│ 975187865 ┆ itter.com/ ┆ unders   ┆ 30 07:23 ┆   ┆           ┆          ┆           ┆            │\n",
       "│ 6         ┆ __mharriso ┆ My son   ┆ :00+00:0 ┆   ┆           ┆          ┆           ┆            │\n",
       "│           ┆ n_…        ┆ just     ┆ 0        ┆   ┆           ┆          ┆           ┆            │\n",
       "│           ┆            ┆ built…   ┆          ┆   ┆           ┆          ┆           ┆            │\n",
       "│ 147702472 ┆ https://tw ┆ @tunguz  ┆ 2021-12- ┆ … ┆ 0         ┆ 0        ┆ 0         ┆ 0          │\n",
       "│ 205115801 ┆ itter.com/ ┆ Xgboost  ┆ 31 21:11 ┆   ┆           ┆          ┆           ┆            │\n",
       "│ 8         ┆ __mharriso ┆          ┆ :00+00:0 ┆   ┆           ┆          ┆           ┆            │\n",
       "│           ┆ n_…        ┆          ┆ 0        ┆   ┆           ┆          ┆           ┆            │\n",
       "└───────────┴────────────┴──────────┴──────────┴───┴───────────┴──────────┴───────────┴────────────┘"
      ]
     },
     "execution_count": 95,
     "metadata": {},
     "output_type": "execute_result"
    }
   ],
   "source": [
    "# rename columns (pandas style)\n",
    "(df\n",
    " .with_columns([\n",
    "    pl.col(['replies', 'hashtag clicks', 'permalink clicks', 'app opens', 'app installs', \n",
    "            'follows', 'email tweet', 'dial phone'])\n",
    "      .cast(pl.UInt8),\n",
    "    pl.col(['engagements', 'retweets', 'likes', 'user profile clicks', 'url clicks',  \n",
    "            'detail expands', 'media views', 'media engagements'])\n",
    "      .cast(pl.UInt16),\n",
    "    pl.col('impressions').cast(pl.UInt32)\n",
    "   ])\n",
    " .select(pl.col(['Tweet id', 'Tweet permalink', 'Tweet text', 'time', 'impressions', \n",
    "                 'engagements', 'engagement rate', 'retweets', 'replies', 'likes', \n",
    "                 'user profile clicks', 'url clicks', 'hashtag clicks', 'detail expands', \n",
    "                 'permalink clicks', 'app opens', 'app installs', 'follows', 'email tweet', \n",
    "                 'dial phone', 'media views', 'media engagements']))\n",
    " .pipe(lambda a_df: a_df.rename({col:col.replace(' ','_').lower() for col in a_df.columns}))\n",
    ")"
   ]
  },
  {
   "cell_type": "code",
   "execution_count": 96,
   "metadata": {
    "scrolled": false
   },
   "outputs": [
    {
     "data": {
      "text/html": [
       "<h4>NAIVE QUERY PLAN</h4><p>run <b>LazyFrame.show_graph()</b> to see the optimized version</p><?xml version=\"1.0\" encoding=\"UTF-8\" standalone=\"no\"?>\n",
       "<!DOCTYPE svg PUBLIC \"-//W3C//DTD SVG 1.1//EN\"\n",
       " \"http://www.w3.org/Graphics/SVG/1.1/DTD/svg11.dtd\">\n",
       "<!-- Generated by graphviz version 7.1.0 (20230121.1956)\n",
       " -->\n",
       "<!-- Title: polars_query Pages: 1 -->\n",
       "<svg width=\"1499pt\" height=\"277pt\"\n",
       " viewBox=\"0.00 0.00 1499.00 277.00\" xmlns=\"http://www.w3.org/2000/svg\" xmlns:xlink=\"http://www.w3.org/1999/xlink\">\n",
       "<g id=\"graph0\" class=\"graph\" transform=\"scale(1 1) rotate(0) translate(4 273)\">\n",
       "<title>polars_query</title>\n",
       "<polygon fill=\"white\" stroke=\"none\" points=\"-4,4 -4,-273 1495,-273 1495,4 -4,4\"/>\n",
       "<!-- π 22/22 [(0, 0)] -->\n",
       "<g id=\"node1\" class=\"node\">\n",
       "<title>π 22/22 [(0, 0)]</title>\n",
       "<polygon fill=\"none\" stroke=\"black\" points=\"774.5,-269 716.5,-269 716.5,-233 774.5,-233 774.5,-269\"/>\n",
       "<text text-anchor=\"middle\" x=\"745.5\" y=\"-247.3\" font-family=\"Times,serif\" font-size=\"14.00\">π 22/22</text>\n",
       "</g>\n",
       "<!-- π 22/40 [(0, 1)] -->\n",
       "<g id=\"node2\" class=\"node\">\n",
       "<title>π 22/40 [(0, 1)]</title>\n",
       "<polygon fill=\"none\" stroke=\"black\" points=\"774.5,-197 716.5,-197 716.5,-161 774.5,-161 774.5,-197\"/>\n",
       "<text text-anchor=\"middle\" x=\"745.5\" y=\"-175.3\" font-family=\"Times,serif\" font-size=\"14.00\">π 22/40</text>\n",
       "</g>\n",
       "<!-- π 22/22 [(0, 0)]&#45;&#45;π 22/40 [(0, 1)] -->\n",
       "<g id=\"edge1\" class=\"edge\">\n",
       "<title>π 22/22 [(0, 0)]&#45;&#45;π 22/40 [(0, 1)]</title>\n",
       "<path fill=\"none\" stroke=\"black\" d=\"M745.5,-232.7C745.5,-221.85 745.5,-207.92 745.5,-197.1\"/>\n",
       "</g>\n",
       "<!-- WITH COLUMNS [&quot;replies&quot;,&quot;hashtag clicks&quot;,&quot;permalink clicks&quot;,&quot;app opens&quot;,&quot;app installs&quot;,&quot;follows&quot;,&quot;email tweet&quot;,&quot;dial phone&quot;,&quot;engagements&quot;,&quot;retweets&quot;,&quot;likes&quot;,&quot;user profile clicks&quot;,&quot;url clicks&quot;,&quot;detail expands&quot;,&quot;media views&quot;,&quot;media engagements&quot;,&quot;impressions&quot;] [(0, 2)] -->\n",
       "<g id=\"node3\" class=\"node\">\n",
       "<title>WITH COLUMNS [&quot;replies&quot;,&quot;hashtag clicks&quot;,&quot;permalink clicks&quot;,&quot;app opens&quot;,&quot;app installs&quot;,&quot;follows&quot;,&quot;email tweet&quot;,&quot;dial phone&quot;,&quot;engagements&quot;,&quot;retweets&quot;,&quot;likes&quot;,&quot;user profile clicks&quot;,&quot;url clicks&quot;,&quot;detail expands&quot;,&quot;media views&quot;,&quot;media engagements&quot;,&quot;impressions&quot;] [(0, 2)]</title>\n",
       "<polygon fill=\"none\" stroke=\"black\" points=\"1491,-125 0,-125 0,-89 1491,-89 1491,-125\"/>\n",
       "<text text-anchor=\"middle\" x=\"745.5\" y=\"-103.3\" font-family=\"Times,serif\" font-size=\"14.00\">WITH COLUMNS [&quot;replies&quot;,&quot;hashtag clicks&quot;,&quot;permalink clicks&quot;,&quot;app opens&quot;,&quot;app installs&quot;,&quot;follows&quot;,&quot;email tweet&quot;,&quot;dial phone&quot;,&quot;engagements&quot;,&quot;retweets&quot;,&quot;likes&quot;,&quot;user profile clicks&quot;,&quot;url clicks&quot;,&quot;detail expands&quot;,&quot;media views&quot;,&quot;media engagements&quot;,&quot;impressions&quot;]</text>\n",
       "</g>\n",
       "<!-- π 22/40 [(0, 1)]&#45;&#45;WITH COLUMNS [&quot;replies&quot;,&quot;hashtag clicks&quot;,&quot;permalink clicks&quot;,&quot;app opens&quot;,&quot;app installs&quot;,&quot;follows&quot;,&quot;email tweet&quot;,&quot;dial phone&quot;,&quot;engagements&quot;,&quot;retweets&quot;,&quot;likes&quot;,&quot;user profile clicks&quot;,&quot;url clicks&quot;,&quot;detail expands&quot;,&quot;media views&quot;,&quot;media engagements&quot;,&quot;impressions&quot;] [(0, 2)] -->\n",
       "<g id=\"edge2\" class=\"edge\">\n",
       "<title>π 22/40 [(0, 1)]&#45;&#45;WITH COLUMNS [&quot;replies&quot;,&quot;hashtag clicks&quot;,&quot;permalink clicks&quot;,&quot;app opens&quot;,&quot;app installs&quot;,&quot;follows&quot;,&quot;email tweet&quot;,&quot;dial phone&quot;,&quot;engagements&quot;,&quot;retweets&quot;,&quot;likes&quot;,&quot;user profile clicks&quot;,&quot;url clicks&quot;,&quot;detail expands&quot;,&quot;media views&quot;,&quot;media engagements&quot;,&quot;impressions&quot;] [(0, 2)]</title>\n",
       "<path fill=\"none\" stroke=\"black\" d=\"M745.5,-160.7C745.5,-149.85 745.5,-135.92 745.5,-125.1\"/>\n",
       "</g>\n",
       "<!-- TABLE\n",
       "π */40;\n",
       "σ &#45;; [(0, 3)] -->\n",
       "<g id=\"node4\" class=\"node\">\n",
       "<title>TABLE\n",
       "π */40;\n",
       "σ &#45;; [(0, 3)]</title>\n",
       "<polygon fill=\"none\" stroke=\"black\" points=\"775,-53 716,-53 716,0 775,0 775,-53\"/>\n",
       "<text text-anchor=\"middle\" x=\"745.5\" y=\"-37.8\" font-family=\"Times,serif\" font-size=\"14.00\">TABLE</text>\n",
       "<text text-anchor=\"middle\" x=\"745.5\" y=\"-22.8\" font-family=\"Times,serif\" font-size=\"14.00\">π */40;</text>\n",
       "<text text-anchor=\"middle\" x=\"745.5\" y=\"-7.8\" font-family=\"Times,serif\" font-size=\"14.00\">σ &#45;;</text>\n",
       "</g>\n",
       "<!-- WITH COLUMNS [&quot;replies&quot;,&quot;hashtag clicks&quot;,&quot;permalink clicks&quot;,&quot;app opens&quot;,&quot;app installs&quot;,&quot;follows&quot;,&quot;email tweet&quot;,&quot;dial phone&quot;,&quot;engagements&quot;,&quot;retweets&quot;,&quot;likes&quot;,&quot;user profile clicks&quot;,&quot;url clicks&quot;,&quot;detail expands&quot;,&quot;media views&quot;,&quot;media engagements&quot;,&quot;impressions&quot;] [(0, 2)]&#45;&#45;TABLE\n",
       "π */40;\n",
       "σ &#45;; [(0, 3)] -->\n",
       "<g id=\"edge3\" class=\"edge\">\n",
       "<title>WITH COLUMNS [&quot;replies&quot;,&quot;hashtag clicks&quot;,&quot;permalink clicks&quot;,&quot;app opens&quot;,&quot;app installs&quot;,&quot;follows&quot;,&quot;email tweet&quot;,&quot;dial phone&quot;,&quot;engagements&quot;,&quot;retweets&quot;,&quot;likes&quot;,&quot;user profile clicks&quot;,&quot;url clicks&quot;,&quot;detail expands&quot;,&quot;media views&quot;,&quot;media engagements&quot;,&quot;impressions&quot;] [(0, 2)]&#45;&#45;TABLE\n",
       "π */40;\n",
       "σ &#45;; [(0, 3)]</title>\n",
       "<path fill=\"none\" stroke=\"black\" d=\"M745.5,-88.58C745.5,-78.19 745.5,-64.81 745.5,-53.22\"/>\n",
       "</g>\n",
       "</g>\n",
       "</svg>\n"
      ],
      "text/plain": [
       "<polars.LazyFrame object at 0x130159120>"
      ]
     },
     "execution_count": 96,
     "metadata": {},
     "output_type": "execute_result"
    }
   ],
   "source": [
    "# rename columns (polars style)\n",
    "(df\n",
    " .lazy()\n",
    " .with_columns([\n",
    "    pl.col(['replies', 'hashtag clicks', 'permalink clicks', 'app opens', \n",
    "            'app installs', 'follows', 'email tweet', 'dial phone'])\n",
    "      .cast(pl.UInt8),\n",
    "    pl.col(['engagements', 'retweets', 'likes', 'user profile clicks', 'url clicks',  \n",
    "            'detail expands', 'media views', 'media engagements'])\n",
    "      .cast(pl.UInt16),\n",
    "    pl.col('impressions').cast(pl.UInt32)\n",
    "   ])\n",
    " .select(pl.col(['Tweet id', 'Tweet permalink', 'Tweet text', 'time', 'impressions', \n",
    "                 'engagements', 'engagement rate', 'retweets', 'replies', 'likes', \n",
    "                 'user profile clicks', 'url clicks', 'hashtag clicks', \n",
    "                 'detail expands', 'permalink clicks', 'app opens', 'app installs', \n",
    "                 'follows', 'email tweet', 'dial phone', 'media views', 'media engagements']))\n",
    " .select(pl.all().map_alias(lambda name: name.lower().replace(' ', '_')))\n",
    ")"
   ]
  },
  {
   "cell_type": "markdown",
   "metadata": {},
   "source": [
    "## Column Cleanup Exercise\n",
    "(Please don't mutate here!)\n",
    "\n",
    "* Select just the *impressions* and *engagement* columns\n",
    "\n"
   ]
  },
  {
   "cell_type": "code",
   "execution_count": 15,
   "metadata": {},
   "outputs": [
    {
     "data": {
      "text/plain": [
       "['Tweet id',\n",
       " 'Tweet permalink',\n",
       " 'Tweet text',\n",
       " 'time',\n",
       " 'impressions',\n",
       " 'engagements',\n",
       " 'engagement rate',\n",
       " 'retweets',\n",
       " 'replies',\n",
       " 'likes',\n",
       " 'user profile clicks',\n",
       " 'url clicks',\n",
       " 'hashtag clicks',\n",
       " 'detail expands',\n",
       " 'permalink clicks',\n",
       " 'app opens',\n",
       " 'app installs',\n",
       " 'follows',\n",
       " 'email tweet',\n",
       " 'dial phone',\n",
       " 'media views',\n",
       " 'media engagements',\n",
       " 'promoted impressions',\n",
       " 'promoted engagements',\n",
       " 'promoted engagement rate',\n",
       " 'promoted retweets',\n",
       " 'promoted replies',\n",
       " 'promoted likes',\n",
       " 'promoted user profile clicks',\n",
       " 'promoted url clicks',\n",
       " 'promoted hashtag clicks',\n",
       " 'promoted detail expands',\n",
       " 'promoted permalink clicks',\n",
       " 'promoted app opens',\n",
       " 'promoted app installs',\n",
       " 'promoted follows',\n",
       " 'promoted email tweet',\n",
       " 'promoted dial phone',\n",
       " 'promoted media views',\n",
       " 'promoted media engagements']"
      ]
     },
     "execution_count": 15,
     "metadata": {},
     "output_type": "execute_result"
    }
   ],
   "source": [
    "df.columns"
   ]
  },
  {
   "cell_type": "code",
   "execution_count": 16,
   "metadata": {},
   "outputs": [
    {
     "data": {
      "text/html": [
       "<div><style>\n",
       ".dataframe > thead > tr > th,\n",
       ".dataframe > tbody > tr > td {\n",
       "  text-align: right;\n",
       "}\n",
       "</style>\n",
       "<small>shape: (5_791, 2)</small><table border=\"1\" class=\"dataframe\"><thead><tr><th>impressions</th><th>engagements</th></tr><tr><td>f64</td><td>f64</td></tr></thead><tbody><tr><td>1465.0</td><td>7.0</td></tr><tr><td>154.0</td><td>3.0</td></tr><tr><td>1024.0</td><td>6.0</td></tr><tr><td>1419.0</td><td>14.0</td></tr><tr><td>198.0</td><td>1.0</td></tr><tr><td>170.0</td><td>3.0</td></tr><tr><td>104.0</td><td>2.0</td></tr><tr><td>189.0</td><td>0.0</td></tr><tr><td>900.0</td><td>4.0</td></tr><tr><td>252.0</td><td>2.0</td></tr><tr><td>1610.0</td><td>6.0</td></tr><tr><td>165.0</td><td>3.0</td></tr><tr><td>&hellip;</td><td>&hellip;</td></tr><tr><td>416.0</td><td>3.0</td></tr><tr><td>15840.0</td><td>372.0</td></tr><tr><td>22557.0</td><td>501.0</td></tr><tr><td>1586.0</td><td>35.0</td></tr><tr><td>4641.0</td><td>35.0</td></tr><tr><td>1969.0</td><td>4.0</td></tr><tr><td>1669.0</td><td>5.0</td></tr><tr><td>986.0</td><td>1.0</td></tr><tr><td>1790.0</td><td>7.0</td></tr><tr><td>1611.0</td><td>12.0</td></tr><tr><td>1354.0</td><td>8.0</td></tr><tr><td>5041.0</td><td>63.0</td></tr></tbody></table></div>"
      ],
      "text/plain": [
       "shape: (5_791, 2)\n",
       "┌─────────────┬─────────────┐\n",
       "│ impressions ┆ engagements │\n",
       "│ ---         ┆ ---         │\n",
       "│ f64         ┆ f64         │\n",
       "╞═════════════╪═════════════╡\n",
       "│ 1465.0      ┆ 7.0         │\n",
       "│ 154.0       ┆ 3.0         │\n",
       "│ 1024.0      ┆ 6.0         │\n",
       "│ 1419.0      ┆ 14.0        │\n",
       "│ …           ┆ …           │\n",
       "│ 1790.0      ┆ 7.0         │\n",
       "│ 1611.0      ┆ 12.0        │\n",
       "│ 1354.0      ┆ 8.0         │\n",
       "│ 5041.0      ┆ 63.0        │\n",
       "└─────────────┴─────────────┘"
      ]
     },
     "execution_count": 16,
     "metadata": {},
     "output_type": "execute_result"
    }
   ],
   "source": [
    "df.select(pl.col(['impressions','engagements']))"
   ]
  },
  {
   "cell_type": "code",
   "execution_count": 18,
   "metadata": {},
   "outputs": [
    {
     "data": {
      "text/plain": [
       "{'Tweet id',\n",
       " 'Tweet permalink',\n",
       " 'Tweet text',\n",
       " 'app installs',\n",
       " 'app opens',\n",
       " 'detail expands',\n",
       " 'dial phone',\n",
       " 'email tweet',\n",
       " 'engagement rate',\n",
       " 'follows',\n",
       " 'hashtag clicks',\n",
       " 'likes',\n",
       " 'media engagements',\n",
       " 'media views',\n",
       " 'permalink clicks',\n",
       " 'promoted app installs',\n",
       " 'promoted app opens',\n",
       " 'promoted detail expands',\n",
       " 'promoted dial phone',\n",
       " 'promoted email tweet',\n",
       " 'promoted engagement rate',\n",
       " 'promoted engagements',\n",
       " 'promoted follows',\n",
       " 'promoted hashtag clicks',\n",
       " 'promoted impressions',\n",
       " 'promoted likes',\n",
       " 'promoted media engagements',\n",
       " 'promoted media views',\n",
       " 'promoted permalink clicks',\n",
       " 'promoted replies',\n",
       " 'promoted retweets',\n",
       " 'promoted url clicks',\n",
       " 'promoted user profile clicks',\n",
       " 'replies',\n",
       " 'retweets',\n",
       " 'time',\n",
       " 'url clicks',\n",
       " 'user profile clicks'}"
      ]
     },
     "execution_count": 18,
     "metadata": {},
     "output_type": "execute_result"
    }
   ],
   "source": [
    "set(df.columns) - set(['impressions','engagements'])"
   ]
  },
  {
   "cell_type": "code",
   "execution_count": 19,
   "metadata": {},
   "outputs": [
    {
     "data": {
      "text/html": [
       "<div><style>\n",
       ".dataframe > thead > tr > th,\n",
       ".dataframe > tbody > tr > td {\n",
       "  text-align: right;\n",
       "}\n",
       "</style>\n",
       "<small>shape: (5_791, 38)</small><table border=\"1\" class=\"dataframe\"><thead><tr><th>Tweet id</th><th>Tweet permalink</th><th>Tweet text</th><th>app installs</th><th>app opens</th><th>detail expands</th><th>dial phone</th><th>email tweet</th><th>engagement rate</th><th>follows</th><th>hashtag clicks</th><th>likes</th><th>media engagements</th><th>media views</th><th>permalink clicks</th><th>promoted app installs</th><th>promoted app opens</th><th>promoted detail expands</th><th>promoted dial phone</th><th>promoted email tweet</th><th>promoted engagement rate</th><th>promoted engagements</th><th>promoted follows</th><th>promoted hashtag clicks</th><th>promoted impressions</th><th>promoted likes</th><th>promoted media engagements</th><th>promoted media views</th><th>promoted permalink clicks</th><th>promoted replies</th><th>promoted retweets</th><th>promoted url clicks</th><th>promoted user profile clicks</th><th>replies</th><th>retweets</th><th>time</th><th>url clicks</th><th>user profile clicks</th></tr><tr><td>i64</td><td>str</td><td>str</td><td>i64</td><td>i64</td><td>f64</td><td>i64</td><td>i64</td><td>f64</td><td>i64</td><td>f64</td><td>f64</td><td>i64</td><td>i64</td><td>f64</td><td>str</td><td>str</td><td>str</td><td>str</td><td>str</td><td>str</td><td>str</td><td>str</td><td>str</td><td>str</td><td>str</td><td>str</td><td>str</td><td>str</td><td>str</td><td>str</td><td>str</td><td>str</td><td>f64</td><td>f64</td><td>str</td><td>f64</td><td>f64</td></tr></thead><tbody><tr><td>1212580517905780737</td><td>&quot;https://twitte…</td><td>&quot;Sounds like a …</td><td>0</td><td>0</td><td>1.0</td><td>0</td><td>0</td><td>0.004778</td><td>0</td><td>0.0</td><td>3.0</td><td>0</td><td>0</td><td>0.0</td><td>null</td><td>null</td><td>null</td><td>null</td><td>null</td><td>null</td><td>null</td><td>null</td><td>null</td><td>null</td><td>null</td><td>null</td><td>null</td><td>null</td><td>null</td><td>null</td><td>null</td><td>null</td><td>0.0</td><td>0.0</td><td>&quot;2020-01-02 03:…</td><td>0.0</td><td>3.0</td></tr><tr><td>1212582494828036097</td><td>&quot;https://twitte…</td><td>&quot;@FogleBird Loo…</td><td>0</td><td>0</td><td>1.0</td><td>0</td><td>0</td><td>0.019481</td><td>0</td><td>0.0</td><td>1.0</td><td>0</td><td>0</td><td>0.0</td><td>null</td><td>null</td><td>null</td><td>null</td><td>null</td><td>null</td><td>null</td><td>null</td><td>null</td><td>null</td><td>null</td><td>null</td><td>null</td><td>null</td><td>null</td><td>null</td><td>null</td><td>null</td><td>0.0</td><td>0.0</td><td>&quot;2020-01-02 03:…</td><td>0.0</td><td>1.0</td></tr><tr><td>1212613735698690049</td><td>&quot;https://twitte…</td><td>&quot;@afilina That&#x27;…</td><td>0</td><td>0</td><td>3.0</td><td>0</td><td>0</td><td>0.005859</td><td>0</td><td>0.0</td><td>1.0</td><td>0</td><td>0</td><td>0.0</td><td>null</td><td>null</td><td>null</td><td>null</td><td>null</td><td>null</td><td>null</td><td>null</td><td>null</td><td>null</td><td>null</td><td>null</td><td>null</td><td>null</td><td>null</td><td>null</td><td>null</td><td>null</td><td>0.0</td><td>0.0</td><td>&quot;2020-01-02 05:…</td><td>0.0</td><td>2.0</td></tr><tr><td>1212911749617242113</td><td>&quot;https://twitte…</td><td>&quot;@randal_olson …</td><td>0</td><td>0</td><td>1.0</td><td>0</td><td>0</td><td>0.009866</td><td>0</td><td>0.0</td><td>5.0</td><td>0</td><td>0</td><td>0.0</td><td>null</td><td>null</td><td>null</td><td>null</td><td>null</td><td>null</td><td>null</td><td>null</td><td>null</td><td>null</td><td>null</td><td>null</td><td>null</td><td>null</td><td>null</td><td>null</td><td>null</td><td>null</td><td>1.0</td><td>0.0</td><td>&quot;2020-01-03 01:…</td><td>0.0</td><td>7.0</td></tr><tr><td>1212920556028252160</td><td>&quot;https://twitte…</td><td>&quot;@AlSweigart So…</td><td>0</td><td>0</td><td>0.0</td><td>0</td><td>0</td><td>0.005051</td><td>0</td><td>0.0</td><td>1.0</td><td>0</td><td>0</td><td>0.0</td><td>null</td><td>null</td><td>null</td><td>null</td><td>null</td><td>null</td><td>null</td><td>null</td><td>null</td><td>null</td><td>null</td><td>null</td><td>null</td><td>null</td><td>null</td><td>null</td><td>null</td><td>null</td><td>0.0</td><td>0.0</td><td>&quot;2020-01-03 02:…</td><td>0.0</td><td>0.0</td></tr><tr><td>1212921038356434947</td><td>&quot;https://twitte…</td><td>&quot;@tmarthal @Ted…</td><td>0</td><td>0</td><td>1.0</td><td>0</td><td>0</td><td>0.017647</td><td>0</td><td>0.0</td><td>1.0</td><td>0</td><td>0</td><td>0.0</td><td>null</td><td>null</td><td>null</td><td>null</td><td>null</td><td>null</td><td>null</td><td>null</td><td>null</td><td>null</td><td>null</td><td>null</td><td>null</td><td>null</td><td>null</td><td>null</td><td>null</td><td>null</td><td>0.0</td><td>0.0</td><td>&quot;2020-01-03 02:…</td><td>0.0</td><td>1.0</td></tr><tr><td>1212921192287330304</td><td>&quot;https://twitte…</td><td>&quot;@gabegundy It&#x27;…</td><td>0</td><td>0</td><td>0.0</td><td>0</td><td>0</td><td>0.019231</td><td>0</td><td>0.0</td><td>1.0</td><td>0</td><td>0</td><td>0.0</td><td>null</td><td>null</td><td>null</td><td>null</td><td>null</td><td>null</td><td>null</td><td>null</td><td>null</td><td>null</td><td>null</td><td>null</td><td>null</td><td>null</td><td>null</td><td>null</td><td>null</td><td>null</td><td>1.0</td><td>0.0</td><td>&quot;2020-01-03 02:…</td><td>0.0</td><td>0.0</td></tr><tr><td>1212969747186208768</td><td>&quot;https://twitte…</td><td>&quot;@anthonypjshaw…</td><td>0</td><td>0</td><td>0.0</td><td>0</td><td>0</td><td>0.0</td><td>0</td><td>0.0</td><td>0.0</td><td>0</td><td>0</td><td>0.0</td><td>null</td><td>null</td><td>null</td><td>null</td><td>null</td><td>null</td><td>null</td><td>null</td><td>null</td><td>null</td><td>null</td><td>null</td><td>null</td><td>null</td><td>null</td><td>null</td><td>null</td><td>null</td><td>0.0</td><td>0.0</td><td>&quot;2020-01-03 05:…</td><td>0.0</td><td>0.0</td></tr><tr><td>1212971634019033088</td><td>&quot;https://twitte…</td><td>&quot;@jet_set A lit…</td><td>0</td><td>0</td><td>0.0</td><td>0</td><td>0</td><td>0.004444</td><td>0</td><td>0.0</td><td>0.0</td><td>0</td><td>0</td><td>0.0</td><td>null</td><td>null</td><td>null</td><td>null</td><td>null</td><td>null</td><td>null</td><td>null</td><td>null</td><td>null</td><td>null</td><td>null</td><td>null</td><td>null</td><td>null</td><td>null</td><td>null</td><td>null</td><td>0.0</td><td>0.0</td><td>&quot;2020-01-03 05:…</td><td>0.0</td><td>4.0</td></tr><tr><td>1213194379793293312</td><td>&quot;https://twitte…</td><td>&quot;@juliasilge @r…</td><td>0</td><td>0</td><td>0.0</td><td>0</td><td>0</td><td>0.007937</td><td>0</td><td>0.0</td><td>1.0</td><td>0</td><td>0</td><td>0.0</td><td>null</td><td>null</td><td>null</td><td>null</td><td>null</td><td>null</td><td>null</td><td>null</td><td>null</td><td>null</td><td>null</td><td>null</td><td>null</td><td>null</td><td>null</td><td>null</td><td>null</td><td>null</td><td>0.0</td><td>0.0</td><td>&quot;2020-01-03 20:…</td><td>0.0</td><td>1.0</td></tr><tr><td>1213699561962631168</td><td>&quot;https://twitte…</td><td>&quot;Herein you wil…</td><td>0</td><td>0</td><td>2.0</td><td>0</td><td>0</td><td>0.003727</td><td>0</td><td>0.0</td><td>2.0</td><td>0</td><td>0</td><td>0.0</td><td>null</td><td>null</td><td>null</td><td>null</td><td>null</td><td>null</td><td>null</td><td>null</td><td>null</td><td>null</td><td>null</td><td>null</td><td>null</td><td>null</td><td>null</td><td>null</td><td>null</td><td>null</td><td>0.0</td><td>0.0</td><td>&quot;2020-01-05 05:…</td><td>0.0</td><td>2.0</td></tr><tr><td>1213896543985516544</td><td>&quot;https://twitte…</td><td>&quot;@Austen Care t…</td><td>0</td><td>0</td><td>2.0</td><td>0</td><td>0</td><td>0.018182</td><td>0</td><td>0.0</td><td>0.0</td><td>0</td><td>0</td><td>0.0</td><td>null</td><td>null</td><td>null</td><td>null</td><td>null</td><td>null</td><td>null</td><td>null</td><td>null</td><td>null</td><td>null</td><td>null</td><td>null</td><td>null</td><td>null</td><td>null</td><td>null</td><td>null</td><td>0.0</td><td>0.0</td><td>&quot;2020-01-05 18:…</td><td>0.0</td><td>1.0</td></tr><tr><td>&hellip;</td><td>&hellip;</td><td>&hellip;</td><td>&hellip;</td><td>&hellip;</td><td>&hellip;</td><td>&hellip;</td><td>&hellip;</td><td>&hellip;</td><td>&hellip;</td><td>&hellip;</td><td>&hellip;</td><td>&hellip;</td><td>&hellip;</td><td>&hellip;</td><td>&hellip;</td><td>&hellip;</td><td>&hellip;</td><td>&hellip;</td><td>&hellip;</td><td>&hellip;</td><td>&hellip;</td><td>&hellip;</td><td>&hellip;</td><td>&hellip;</td><td>&hellip;</td><td>&hellip;</td><td>&hellip;</td><td>&hellip;</td><td>&hellip;</td><td>&hellip;</td><td>&hellip;</td><td>&hellip;</td><td>&hellip;</td><td>&hellip;</td><td>&hellip;</td><td>&hellip;</td><td>&hellip;</td></tr><tr><td>1474805013343981570</td><td>&quot;https://twitte…</td><td>&quot;@EricSchles @s…</td><td>0</td><td>0</td><td>0.0</td><td>0</td><td>0</td><td>0.007212</td><td>0</td><td>0.0</td><td>2.0</td><td>0</td><td>0</td><td>0.0</td><td>null</td><td>null</td><td>null</td><td>null</td><td>null</td><td>null</td><td>null</td><td>null</td><td>null</td><td>null</td><td>null</td><td>null</td><td>null</td><td>null</td><td>null</td><td>null</td><td>null</td><td>null</td><td>0.0</td><td>0.0</td><td>&quot;2021-12-25 18:…</td><td>0.0</td><td>1.0</td></tr><tr><td>1474820707234185217</td><td>&quot;https://twitte…</td><td>&quot;Mele kalikimak…</td><td>0</td><td>0</td><td>66.0</td><td>0</td><td>0</td><td>0.023485</td><td>0</td><td>0.0</td><td>61.0</td><td>178</td><td>178</td><td>0.0</td><td>null</td><td>null</td><td>null</td><td>null</td><td>null</td><td>null</td><td>null</td><td>null</td><td>null</td><td>null</td><td>null</td><td>null</td><td>null</td><td>null</td><td>null</td><td>null</td><td>null</td><td>null</td><td>2.0</td><td>0.0</td><td>&quot;2021-12-25 19:…</td><td>6.0</td><td>59.0</td></tr><tr><td>1475023008620154882</td><td>&quot;https://twitte…</td><td>&quot;Good looking c…</td><td>0</td><td>0</td><td>118.0</td><td>0</td><td>0</td><td>0.02221</td><td>0</td><td>0.0</td><td>50.0</td><td>221</td><td>221</td><td>0.0</td><td>null</td><td>null</td><td>null</td><td>null</td><td>null</td><td>null</td><td>null</td><td>null</td><td>null</td><td>null</td><td>null</td><td>null</td><td>null</td><td>null</td><td>null</td><td>null</td><td>null</td><td>null</td><td>9.0</td><td>0.0</td><td>&quot;2021-12-26 08:…</td><td>14.0</td><td>89.0</td></tr><tr><td>1475299210291343362</td><td>&quot;https://twitte…</td><td>&quot;@youtah A litt…</td><td>0</td><td>0</td><td>0.0</td><td>0</td><td>0</td><td>0.022068</td><td>0</td><td>0.0</td><td>2.0</td><td>31</td><td>31</td><td>0.0</td><td>null</td><td>null</td><td>null</td><td>null</td><td>null</td><td>null</td><td>null</td><td>null</td><td>null</td><td>null</td><td>null</td><td>null</td><td>null</td><td>null</td><td>null</td><td>null</td><td>null</td><td>null</td><td>0.0</td><td>0.0</td><td>&quot;2021-12-27 02:…</td><td>1.0</td><td>1.0</td></tr><tr><td>1475299401681682434</td><td>&quot;https://twitte…</td><td>&quot;@mathsppblog S…</td><td>0</td><td>0</td><td>10.0</td><td>0</td><td>0</td><td>0.007541</td><td>0</td><td>0.0</td><td>11.0</td><td>0</td><td>0</td><td>0.0</td><td>null</td><td>null</td><td>null</td><td>null</td><td>null</td><td>null</td><td>null</td><td>null</td><td>null</td><td>null</td><td>null</td><td>null</td><td>null</td><td>null</td><td>null</td><td>null</td><td>null</td><td>null</td><td>4.0</td><td>0.0</td><td>&quot;2021-12-27 02:…</td><td>0.0</td><td>10.0</td></tr><tr><td>1475299848093978626</td><td>&quot;https://twitte…</td><td>&quot;@willmcgugan P…</td><td>0</td><td>0</td><td>0.0</td><td>0</td><td>0</td><td>0.002031</td><td>0</td><td>0.0</td><td>4.0</td><td>0</td><td>0</td><td>0.0</td><td>null</td><td>null</td><td>null</td><td>null</td><td>null</td><td>null</td><td>null</td><td>null</td><td>null</td><td>null</td><td>null</td><td>null</td><td>null</td><td>null</td><td>null</td><td>null</td><td>null</td><td>null</td><td>0.0</td><td>0.0</td><td>&quot;2021-12-27 02:…</td><td>0.0</td><td>0.0</td></tr><tr><td>1475300370138087426</td><td>&quot;https://twitte…</td><td>&quot;@reuvenmlerner…</td><td>0</td><td>0</td><td>2.0</td><td>0</td><td>0</td><td>0.002996</td><td>0</td><td>0.0</td><td>3.0</td><td>0</td><td>0</td><td>0.0</td><td>null</td><td>null</td><td>null</td><td>null</td><td>null</td><td>null</td><td>null</td><td>null</td><td>null</td><td>null</td><td>null</td><td>null</td><td>null</td><td>null</td><td>null</td><td>null</td><td>null</td><td>null</td><td>0.0</td><td>0.0</td><td>&quot;2021-12-27 02:…</td><td>0.0</td><td>0.0</td></tr><tr><td>1475300661851934721</td><td>&quot;https://twitte…</td><td>&quot;@allison_horst…</td><td>0</td><td>0</td><td>1.0</td><td>0</td><td>0</td><td>0.001014</td><td>0</td><td>0.0</td><td>0.0</td><td>0</td><td>0</td><td>0.0</td><td>null</td><td>null</td><td>null</td><td>null</td><td>null</td><td>null</td><td>null</td><td>null</td><td>null</td><td>null</td><td>null</td><td>null</td><td>null</td><td>null</td><td>null</td><td>null</td><td>null</td><td>null</td><td>0.0</td><td>0.0</td><td>&quot;2021-12-27 03:…</td><td>0.0</td><td>0.0</td></tr><tr><td>1475518143690801156</td><td>&quot;https://twitte…</td><td>&quot;@willmcgugan Y…</td><td>0</td><td>0</td><td>3.0</td><td>0</td><td>0</td><td>0.003911</td><td>0</td><td>0.0</td><td>3.0</td><td>0</td><td>0</td><td>0.0</td><td>null</td><td>null</td><td>null</td><td>null</td><td>null</td><td>null</td><td>null</td><td>null</td><td>null</td><td>null</td><td>null</td><td>null</td><td>null</td><td>null</td><td>null</td><td>null</td><td>null</td><td>null</td><td>0.0</td><td>0.0</td><td>&quot;2021-12-27 17:…</td><td>0.0</td><td>1.0</td></tr><tr><td>1475891441243025408</td><td>&quot;https://twitte…</td><td>&quot;@posco Visitin…</td><td>0</td><td>0</td><td>4.0</td><td>0</td><td>0</td><td>0.007449</td><td>0</td><td>0.0</td><td>4.0</td><td>0</td><td>0</td><td>0.0</td><td>null</td><td>null</td><td>null</td><td>null</td><td>null</td><td>null</td><td>null</td><td>null</td><td>null</td><td>null</td><td>null</td><td>null</td><td>null</td><td>null</td><td>null</td><td>null</td><td>null</td><td>null</td><td>0.0</td><td>0.0</td><td>&quot;2021-12-28 18:…</td><td>0.0</td><td>4.0</td></tr><tr><td>1476453819751878656</td><td>&quot;https://twitte…</td><td>&quot;@johndsaunders…</td><td>0</td><td>0</td><td>2.0</td><td>0</td><td>0</td><td>0.005908</td><td>0</td><td>0.0</td><td>2.0</td><td>0</td><td>0</td><td>0.0</td><td>null</td><td>null</td><td>null</td><td>null</td><td>null</td><td>null</td><td>null</td><td>null</td><td>null</td><td>null</td><td>null</td><td>null</td><td>null</td><td>null</td><td>null</td><td>null</td><td>null</td><td>null</td><td>0.0</td><td>0.0</td><td>&quot;2021-12-30 07:…</td><td>0.0</td><td>4.0</td></tr><tr><td>1477024722051158018</td><td>&quot;https://twitte…</td><td>&quot;@tunguz Xgboos…</td><td>0</td><td>0</td><td>29.0</td><td>0</td><td>0</td><td>0.012498</td><td>0</td><td>0.0</td><td>23.0</td><td>0</td><td>0</td><td>0.0</td><td>null</td><td>null</td><td>null</td><td>null</td><td>null</td><td>null</td><td>null</td><td>null</td><td>null</td><td>null</td><td>null</td><td>null</td><td>null</td><td>null</td><td>null</td><td>null</td><td>null</td><td>null</td><td>3.0</td><td>0.0</td><td>&quot;2021-12-31 21:…</td><td>0.0</td><td>8.0</td></tr></tbody></table></div>"
      ],
      "text/plain": [
       "shape: (5_791, 38)\n",
       "┌───────────────┬──────────────┬──────────────┬──────────────┬───┬──────────┬──────────────┬────────────┬──────────────┐\n",
       "│ Tweet id      ┆ Tweet        ┆ Tweet text   ┆ app installs ┆ … ┆ retweets ┆ time         ┆ url clicks ┆ user profile │\n",
       "│ ---           ┆ permalink    ┆ ---          ┆ ---          ┆   ┆ ---      ┆ ---          ┆ ---        ┆ clicks       │\n",
       "│ i64           ┆ ---          ┆ str          ┆ i64          ┆   ┆ f64      ┆ str          ┆ f64        ┆ ---          │\n",
       "│               ┆ str          ┆              ┆              ┆   ┆          ┆              ┆            ┆ f64          │\n",
       "╞═══════════════╪══════════════╪══════════════╪══════════════╪═══╪══════════╪══════════════╪════════════╪══════════════╡\n",
       "│ 1212580517905 ┆ https://twit ┆ Sounds like  ┆ 0            ┆ … ┆ 0.0      ┆ 2020-01-02   ┆ 0.0        ┆ 3.0          │\n",
       "│ 780737        ┆ ter.com/__mh ┆ a great      ┆              ┆   ┆          ┆ 03:44:00+00: ┆            ┆              │\n",
       "│               ┆ arrison_…    ┆ topic!       ┆              ┆   ┆          ┆ 00           ┆            ┆              │\n",
       "│               ┆              ┆ https…       ┆              ┆   ┆          ┆              ┆            ┆              │\n",
       "│ 1212582494828 ┆ https://twit ┆ @FogleBird   ┆ 0            ┆ … ┆ 0.0      ┆ 2020-01-02   ┆ 0.0        ┆ 1.0          │\n",
       "│ 036097        ┆ ter.com/__mh ┆ Looks like   ┆              ┆   ┆          ┆ 03:52:00+00: ┆            ┆              │\n",
       "│               ┆ arrison_…    ┆ SLC. I can…  ┆              ┆   ┆          ┆ 00           ┆            ┆              │\n",
       "│ 1212613735698 ┆ https://twit ┆ @afilina     ┆ 0            ┆ … ┆ 0.0      ┆ 2020-01-02   ┆ 0.0        ┆ 2.0          │\n",
       "│ 690049        ┆ ter.com/__mh ┆ That's       ┆              ┆   ┆          ┆ 05:56:00+00: ┆            ┆              │\n",
       "│               ┆ arrison_…    ┆ really       ┆              ┆   ┆          ┆ 00           ┆            ┆              │\n",
       "│               ┆              ┆ amount an…   ┆              ┆   ┆          ┆              ┆            ┆              │\n",
       "│ 1212911749617 ┆ https://twit ┆ @randal_olso ┆ 0            ┆ … ┆ 0.0      ┆ 2020-01-03   ┆ 0.0        ┆ 7.0          │\n",
       "│ 242113        ┆ ter.com/__mh ┆ n I use      ┆              ┆   ┆          ┆ 01:41:00+00: ┆            ┆              │\n",
       "│               ┆ arrison_…    ┆ anaconda     ┆              ┆   ┆          ┆ 00           ┆            ┆              │\n",
       "│               ┆              ┆ whe…         ┆              ┆   ┆          ┆              ┆            ┆              │\n",
       "│ …             ┆ …            ┆ …            ┆ …            ┆ … ┆ …        ┆ …            ┆ …          ┆ …            │\n",
       "│ 1475518143690 ┆ https://twit ┆ @willmcgugan ┆ 0            ┆ … ┆ 0.0      ┆ 2021-12-27   ┆ 0.0        ┆ 1.0          │\n",
       "│ 801156        ┆ ter.com/__mh ┆ You need to  ┆              ┆   ┆          ┆ 17:25:00+00: ┆            ┆              │\n",
       "│               ┆ arrison_…    ┆ find ou…     ┆              ┆   ┆          ┆ 00           ┆            ┆              │\n",
       "│ 1475891441243 ┆ https://twit ┆ @posco       ┆ 0            ┆ … ┆ 0.0      ┆ 2021-12-28   ┆ 0.0        ┆ 4.0          │\n",
       "│ 025408        ┆ ter.com/__mh ┆ Visiting     ┆              ┆   ┆          ┆ 18:08:00+00: ┆            ┆              │\n",
       "│               ┆ arrison_…    ┆ Hawaii for   ┆              ┆   ┆          ┆ 00           ┆            ┆              │\n",
       "│               ┆              ┆ the h…       ┆              ┆   ┆          ┆              ┆            ┆              │\n",
       "│ 1476453819751 ┆ https://twit ┆ @johndsaunde ┆ 0            ┆ … ┆ 0.0      ┆ 2021-12-30   ┆ 0.0        ┆ 4.0          │\n",
       "│ 878656        ┆ ter.com/__mh ┆ rs My son    ┆              ┆   ┆          ┆ 07:23:00+00: ┆            ┆              │\n",
       "│               ┆ arrison_…    ┆ just built…  ┆              ┆   ┆          ┆ 00           ┆            ┆              │\n",
       "│ 1477024722051 ┆ https://twit ┆ @tunguz      ┆ 0            ┆ … ┆ 0.0      ┆ 2021-12-31   ┆ 0.0        ┆ 8.0          │\n",
       "│ 158018        ┆ ter.com/__mh ┆ Xgboost      ┆              ┆   ┆          ┆ 21:11:00+00: ┆            ┆              │\n",
       "│               ┆ arrison_…    ┆              ┆              ┆   ┆          ┆ 00           ┆            ┆              │\n",
       "└───────────────┴──────────────┴──────────────┴──────────────┴───┴──────────┴──────────────┴────────────┴──────────────┘"
      ]
     },
     "execution_count": 19,
     "metadata": {},
     "output_type": "execute_result"
    }
   ],
   "source": [
    "## * Select all the columns except *impressions* and *engagement* columns (without using `.drop`)\n",
    "# rather than drop, we should be explicit about the columns we want\n",
    "(df.select(pl.col(['Tweet id',\n",
    " 'Tweet permalink',\n",
    " 'Tweet text',\n",
    " 'app installs',\n",
    " 'app opens',\n",
    " 'detail expands',\n",
    " 'dial phone',\n",
    " 'email tweet',\n",
    " 'engagement rate',\n",
    " 'follows',\n",
    " 'hashtag clicks',\n",
    " 'likes',\n",
    " 'media engagements',\n",
    " 'media views',\n",
    " 'permalink clicks',\n",
    " 'promoted app installs',\n",
    " 'promoted app opens',\n",
    " 'promoted detail expands',\n",
    " 'promoted dial phone',\n",
    " 'promoted email tweet',\n",
    " 'promoted engagement rate',\n",
    " 'promoted engagements',\n",
    " 'promoted follows',\n",
    " 'promoted hashtag clicks',\n",
    " 'promoted impressions',\n",
    " 'promoted likes',\n",
    " 'promoted media engagements',\n",
    " 'promoted media views',\n",
    " 'promoted permalink clicks',\n",
    " 'promoted replies',\n",
    " 'promoted retweets',\n",
    " 'promoted url clicks',\n",
    " 'promoted user profile clicks',\n",
    " 'replies',\n",
    " 'retweets',\n",
    " 'time',\n",
    " 'url clicks',\n",
    " 'user profile clicks']))\n",
    ")\n",
    "\n"
   ]
  },
  {
   "cell_type": "code",
   "execution_count": 27,
   "metadata": {},
   "outputs": [
    {
     "data": {
      "text/html": [
       "<div><style>\n",
       ".dataframe > thead > tr > th,\n",
       ".dataframe > tbody > tr > td {\n",
       "  text-align: right;\n",
       "}\n",
       "</style>\n",
       "<small>shape: (5_791, 40)</small><table border=\"1\" class=\"dataframe\"><thead><tr><th>Tweet id</th><th>Tweet permalink</th><th>Tweet text</th><th>time</th><th>imp</th><th>eng</th><th>engagement rate</th><th>retweets</th><th>replies</th><th>likes</th><th>user profile clicks</th><th>url clicks</th><th>hashtag clicks</th><th>detail expands</th><th>permalink clicks</th><th>app opens</th><th>app installs</th><th>follows</th><th>email tweet</th><th>dial phone</th><th>media views</th><th>media engagements</th><th>promoted impressions</th><th>promoted engagements</th><th>promoted engagement rate</th><th>promoted retweets</th><th>promoted replies</th><th>promoted likes</th><th>promoted user profile clicks</th><th>promoted url clicks</th><th>promoted hashtag clicks</th><th>promoted detail expands</th><th>promoted permalink clicks</th><th>promoted app opens</th><th>promoted app installs</th><th>promoted follows</th><th>promoted email tweet</th><th>promoted dial phone</th><th>promoted media views</th><th>promoted media engagements</th></tr><tr><td>i64</td><td>str</td><td>str</td><td>str</td><td>f64</td><td>f64</td><td>f64</td><td>f64</td><td>f64</td><td>f64</td><td>f64</td><td>f64</td><td>f64</td><td>f64</td><td>f64</td><td>i64</td><td>i64</td><td>i64</td><td>i64</td><td>i64</td><td>i64</td><td>i64</td><td>str</td><td>str</td><td>str</td><td>str</td><td>str</td><td>str</td><td>str</td><td>str</td><td>str</td><td>str</td><td>str</td><td>str</td><td>str</td><td>str</td><td>str</td><td>str</td><td>str</td><td>str</td></tr></thead><tbody><tr><td>1212580517905780737</td><td>&quot;https://twitte…</td><td>&quot;Sounds like a …</td><td>&quot;2020-01-02 03:…</td><td>1465.0</td><td>7.0</td><td>0.004778</td><td>0.0</td><td>0.0</td><td>3.0</td><td>3.0</td><td>0.0</td><td>0.0</td><td>1.0</td><td>0.0</td><td>0</td><td>0</td><td>0</td><td>0</td><td>0</td><td>0</td><td>0</td><td>null</td><td>null</td><td>null</td><td>null</td><td>null</td><td>null</td><td>null</td><td>null</td><td>null</td><td>null</td><td>null</td><td>null</td><td>null</td><td>null</td><td>null</td><td>null</td><td>null</td><td>null</td></tr><tr><td>1212582494828036097</td><td>&quot;https://twitte…</td><td>&quot;@FogleBird Loo…</td><td>&quot;2020-01-02 03:…</td><td>154.0</td><td>3.0</td><td>0.019481</td><td>0.0</td><td>0.0</td><td>1.0</td><td>1.0</td><td>0.0</td><td>0.0</td><td>1.0</td><td>0.0</td><td>0</td><td>0</td><td>0</td><td>0</td><td>0</td><td>0</td><td>0</td><td>null</td><td>null</td><td>null</td><td>null</td><td>null</td><td>null</td><td>null</td><td>null</td><td>null</td><td>null</td><td>null</td><td>null</td><td>null</td><td>null</td><td>null</td><td>null</td><td>null</td><td>null</td></tr><tr><td>1212613735698690049</td><td>&quot;https://twitte…</td><td>&quot;@afilina That&#x27;…</td><td>&quot;2020-01-02 05:…</td><td>1024.0</td><td>6.0</td><td>0.005859</td><td>0.0</td><td>0.0</td><td>1.0</td><td>2.0</td><td>0.0</td><td>0.0</td><td>3.0</td><td>0.0</td><td>0</td><td>0</td><td>0</td><td>0</td><td>0</td><td>0</td><td>0</td><td>null</td><td>null</td><td>null</td><td>null</td><td>null</td><td>null</td><td>null</td><td>null</td><td>null</td><td>null</td><td>null</td><td>null</td><td>null</td><td>null</td><td>null</td><td>null</td><td>null</td><td>null</td></tr><tr><td>1212911749617242113</td><td>&quot;https://twitte…</td><td>&quot;@randal_olson …</td><td>&quot;2020-01-03 01:…</td><td>1419.0</td><td>14.0</td><td>0.009866</td><td>0.0</td><td>1.0</td><td>5.0</td><td>7.0</td><td>0.0</td><td>0.0</td><td>1.0</td><td>0.0</td><td>0</td><td>0</td><td>0</td><td>0</td><td>0</td><td>0</td><td>0</td><td>null</td><td>null</td><td>null</td><td>null</td><td>null</td><td>null</td><td>null</td><td>null</td><td>null</td><td>null</td><td>null</td><td>null</td><td>null</td><td>null</td><td>null</td><td>null</td><td>null</td><td>null</td></tr><tr><td>1212920556028252160</td><td>&quot;https://twitte…</td><td>&quot;@AlSweigart So…</td><td>&quot;2020-01-03 02:…</td><td>198.0</td><td>1.0</td><td>0.005051</td><td>0.0</td><td>0.0</td><td>1.0</td><td>0.0</td><td>0.0</td><td>0.0</td><td>0.0</td><td>0.0</td><td>0</td><td>0</td><td>0</td><td>0</td><td>0</td><td>0</td><td>0</td><td>null</td><td>null</td><td>null</td><td>null</td><td>null</td><td>null</td><td>null</td><td>null</td><td>null</td><td>null</td><td>null</td><td>null</td><td>null</td><td>null</td><td>null</td><td>null</td><td>null</td><td>null</td></tr><tr><td>1212921038356434947</td><td>&quot;https://twitte…</td><td>&quot;@tmarthal @Ted…</td><td>&quot;2020-01-03 02:…</td><td>170.0</td><td>3.0</td><td>0.017647</td><td>0.0</td><td>0.0</td><td>1.0</td><td>1.0</td><td>0.0</td><td>0.0</td><td>1.0</td><td>0.0</td><td>0</td><td>0</td><td>0</td><td>0</td><td>0</td><td>0</td><td>0</td><td>null</td><td>null</td><td>null</td><td>null</td><td>null</td><td>null</td><td>null</td><td>null</td><td>null</td><td>null</td><td>null</td><td>null</td><td>null</td><td>null</td><td>null</td><td>null</td><td>null</td><td>null</td></tr><tr><td>1212921192287330304</td><td>&quot;https://twitte…</td><td>&quot;@gabegundy It&#x27;…</td><td>&quot;2020-01-03 02:…</td><td>104.0</td><td>2.0</td><td>0.019231</td><td>0.0</td><td>1.0</td><td>1.0</td><td>0.0</td><td>0.0</td><td>0.0</td><td>0.0</td><td>0.0</td><td>0</td><td>0</td><td>0</td><td>0</td><td>0</td><td>0</td><td>0</td><td>null</td><td>null</td><td>null</td><td>null</td><td>null</td><td>null</td><td>null</td><td>null</td><td>null</td><td>null</td><td>null</td><td>null</td><td>null</td><td>null</td><td>null</td><td>null</td><td>null</td><td>null</td></tr><tr><td>1212969747186208768</td><td>&quot;https://twitte…</td><td>&quot;@anthonypjshaw…</td><td>&quot;2020-01-03 05:…</td><td>189.0</td><td>0.0</td><td>0.0</td><td>0.0</td><td>0.0</td><td>0.0</td><td>0.0</td><td>0.0</td><td>0.0</td><td>0.0</td><td>0.0</td><td>0</td><td>0</td><td>0</td><td>0</td><td>0</td><td>0</td><td>0</td><td>null</td><td>null</td><td>null</td><td>null</td><td>null</td><td>null</td><td>null</td><td>null</td><td>null</td><td>null</td><td>null</td><td>null</td><td>null</td><td>null</td><td>null</td><td>null</td><td>null</td><td>null</td></tr><tr><td>1212971634019033088</td><td>&quot;https://twitte…</td><td>&quot;@jet_set A lit…</td><td>&quot;2020-01-03 05:…</td><td>900.0</td><td>4.0</td><td>0.004444</td><td>0.0</td><td>0.0</td><td>0.0</td><td>4.0</td><td>0.0</td><td>0.0</td><td>0.0</td><td>0.0</td><td>0</td><td>0</td><td>0</td><td>0</td><td>0</td><td>0</td><td>0</td><td>null</td><td>null</td><td>null</td><td>null</td><td>null</td><td>null</td><td>null</td><td>null</td><td>null</td><td>null</td><td>null</td><td>null</td><td>null</td><td>null</td><td>null</td><td>null</td><td>null</td><td>null</td></tr><tr><td>1213194379793293312</td><td>&quot;https://twitte…</td><td>&quot;@juliasilge @r…</td><td>&quot;2020-01-03 20:…</td><td>252.0</td><td>2.0</td><td>0.007937</td><td>0.0</td><td>0.0</td><td>1.0</td><td>1.0</td><td>0.0</td><td>0.0</td><td>0.0</td><td>0.0</td><td>0</td><td>0</td><td>0</td><td>0</td><td>0</td><td>0</td><td>0</td><td>null</td><td>null</td><td>null</td><td>null</td><td>null</td><td>null</td><td>null</td><td>null</td><td>null</td><td>null</td><td>null</td><td>null</td><td>null</td><td>null</td><td>null</td><td>null</td><td>null</td><td>null</td></tr><tr><td>1213699561962631168</td><td>&quot;https://twitte…</td><td>&quot;Herein you wil…</td><td>&quot;2020-01-05 05:…</td><td>1610.0</td><td>6.0</td><td>0.003727</td><td>0.0</td><td>0.0</td><td>2.0</td><td>2.0</td><td>0.0</td><td>0.0</td><td>2.0</td><td>0.0</td><td>0</td><td>0</td><td>0</td><td>0</td><td>0</td><td>0</td><td>0</td><td>null</td><td>null</td><td>null</td><td>null</td><td>null</td><td>null</td><td>null</td><td>null</td><td>null</td><td>null</td><td>null</td><td>null</td><td>null</td><td>null</td><td>null</td><td>null</td><td>null</td><td>null</td></tr><tr><td>1213896543985516544</td><td>&quot;https://twitte…</td><td>&quot;@Austen Care t…</td><td>&quot;2020-01-05 18:…</td><td>165.0</td><td>3.0</td><td>0.018182</td><td>0.0</td><td>0.0</td><td>0.0</td><td>1.0</td><td>0.0</td><td>0.0</td><td>2.0</td><td>0.0</td><td>0</td><td>0</td><td>0</td><td>0</td><td>0</td><td>0</td><td>0</td><td>null</td><td>null</td><td>null</td><td>null</td><td>null</td><td>null</td><td>null</td><td>null</td><td>null</td><td>null</td><td>null</td><td>null</td><td>null</td><td>null</td><td>null</td><td>null</td><td>null</td><td>null</td></tr><tr><td>&hellip;</td><td>&hellip;</td><td>&hellip;</td><td>&hellip;</td><td>&hellip;</td><td>&hellip;</td><td>&hellip;</td><td>&hellip;</td><td>&hellip;</td><td>&hellip;</td><td>&hellip;</td><td>&hellip;</td><td>&hellip;</td><td>&hellip;</td><td>&hellip;</td><td>&hellip;</td><td>&hellip;</td><td>&hellip;</td><td>&hellip;</td><td>&hellip;</td><td>&hellip;</td><td>&hellip;</td><td>&hellip;</td><td>&hellip;</td><td>&hellip;</td><td>&hellip;</td><td>&hellip;</td><td>&hellip;</td><td>&hellip;</td><td>&hellip;</td><td>&hellip;</td><td>&hellip;</td><td>&hellip;</td><td>&hellip;</td><td>&hellip;</td><td>&hellip;</td><td>&hellip;</td><td>&hellip;</td><td>&hellip;</td><td>&hellip;</td></tr><tr><td>1474805013343981570</td><td>&quot;https://twitte…</td><td>&quot;@EricSchles @s…</td><td>&quot;2021-12-25 18:…</td><td>416.0</td><td>3.0</td><td>0.007212</td><td>0.0</td><td>0.0</td><td>2.0</td><td>1.0</td><td>0.0</td><td>0.0</td><td>0.0</td><td>0.0</td><td>0</td><td>0</td><td>0</td><td>0</td><td>0</td><td>0</td><td>0</td><td>null</td><td>null</td><td>null</td><td>null</td><td>null</td><td>null</td><td>null</td><td>null</td><td>null</td><td>null</td><td>null</td><td>null</td><td>null</td><td>null</td><td>null</td><td>null</td><td>null</td><td>null</td></tr><tr><td>1474820707234185217</td><td>&quot;https://twitte…</td><td>&quot;Mele kalikimak…</td><td>&quot;2021-12-25 19:…</td><td>15840.0</td><td>372.0</td><td>0.023485</td><td>0.0</td><td>2.0</td><td>61.0</td><td>59.0</td><td>6.0</td><td>0.0</td><td>66.0</td><td>0.0</td><td>0</td><td>0</td><td>0</td><td>0</td><td>0</td><td>178</td><td>178</td><td>null</td><td>null</td><td>null</td><td>null</td><td>null</td><td>null</td><td>null</td><td>null</td><td>null</td><td>null</td><td>null</td><td>null</td><td>null</td><td>null</td><td>null</td><td>null</td><td>null</td><td>null</td></tr><tr><td>1475023008620154882</td><td>&quot;https://twitte…</td><td>&quot;Good looking c…</td><td>&quot;2021-12-26 08:…</td><td>22557.0</td><td>501.0</td><td>0.02221</td><td>0.0</td><td>9.0</td><td>50.0</td><td>89.0</td><td>14.0</td><td>0.0</td><td>118.0</td><td>0.0</td><td>0</td><td>0</td><td>0</td><td>0</td><td>0</td><td>221</td><td>221</td><td>null</td><td>null</td><td>null</td><td>null</td><td>null</td><td>null</td><td>null</td><td>null</td><td>null</td><td>null</td><td>null</td><td>null</td><td>null</td><td>null</td><td>null</td><td>null</td><td>null</td><td>null</td></tr><tr><td>1475299210291343362</td><td>&quot;https://twitte…</td><td>&quot;@youtah A litt…</td><td>&quot;2021-12-27 02:…</td><td>1586.0</td><td>35.0</td><td>0.022068</td><td>0.0</td><td>0.0</td><td>2.0</td><td>1.0</td><td>1.0</td><td>0.0</td><td>0.0</td><td>0.0</td><td>0</td><td>0</td><td>0</td><td>0</td><td>0</td><td>31</td><td>31</td><td>null</td><td>null</td><td>null</td><td>null</td><td>null</td><td>null</td><td>null</td><td>null</td><td>null</td><td>null</td><td>null</td><td>null</td><td>null</td><td>null</td><td>null</td><td>null</td><td>null</td><td>null</td></tr><tr><td>1475299401681682434</td><td>&quot;https://twitte…</td><td>&quot;@mathsppblog S…</td><td>&quot;2021-12-27 02:…</td><td>4641.0</td><td>35.0</td><td>0.007541</td><td>0.0</td><td>4.0</td><td>11.0</td><td>10.0</td><td>0.0</td><td>0.0</td><td>10.0</td><td>0.0</td><td>0</td><td>0</td><td>0</td><td>0</td><td>0</td><td>0</td><td>0</td><td>null</td><td>null</td><td>null</td><td>null</td><td>null</td><td>null</td><td>null</td><td>null</td><td>null</td><td>null</td><td>null</td><td>null</td><td>null</td><td>null</td><td>null</td><td>null</td><td>null</td><td>null</td></tr><tr><td>1475299848093978626</td><td>&quot;https://twitte…</td><td>&quot;@willmcgugan P…</td><td>&quot;2021-12-27 02:…</td><td>1969.0</td><td>4.0</td><td>0.002031</td><td>0.0</td><td>0.0</td><td>4.0</td><td>0.0</td><td>0.0</td><td>0.0</td><td>0.0</td><td>0.0</td><td>0</td><td>0</td><td>0</td><td>0</td><td>0</td><td>0</td><td>0</td><td>null</td><td>null</td><td>null</td><td>null</td><td>null</td><td>null</td><td>null</td><td>null</td><td>null</td><td>null</td><td>null</td><td>null</td><td>null</td><td>null</td><td>null</td><td>null</td><td>null</td><td>null</td></tr><tr><td>1475300370138087426</td><td>&quot;https://twitte…</td><td>&quot;@reuvenmlerner…</td><td>&quot;2021-12-27 02:…</td><td>1669.0</td><td>5.0</td><td>0.002996</td><td>0.0</td><td>0.0</td><td>3.0</td><td>0.0</td><td>0.0</td><td>0.0</td><td>2.0</td><td>0.0</td><td>0</td><td>0</td><td>0</td><td>0</td><td>0</td><td>0</td><td>0</td><td>null</td><td>null</td><td>null</td><td>null</td><td>null</td><td>null</td><td>null</td><td>null</td><td>null</td><td>null</td><td>null</td><td>null</td><td>null</td><td>null</td><td>null</td><td>null</td><td>null</td><td>null</td></tr><tr><td>1475300661851934721</td><td>&quot;https://twitte…</td><td>&quot;@allison_horst…</td><td>&quot;2021-12-27 03:…</td><td>986.0</td><td>1.0</td><td>0.001014</td><td>0.0</td><td>0.0</td><td>0.0</td><td>0.0</td><td>0.0</td><td>0.0</td><td>1.0</td><td>0.0</td><td>0</td><td>0</td><td>0</td><td>0</td><td>0</td><td>0</td><td>0</td><td>null</td><td>null</td><td>null</td><td>null</td><td>null</td><td>null</td><td>null</td><td>null</td><td>null</td><td>null</td><td>null</td><td>null</td><td>null</td><td>null</td><td>null</td><td>null</td><td>null</td><td>null</td></tr><tr><td>1475518143690801156</td><td>&quot;https://twitte…</td><td>&quot;@willmcgugan Y…</td><td>&quot;2021-12-27 17:…</td><td>1790.0</td><td>7.0</td><td>0.003911</td><td>0.0</td><td>0.0</td><td>3.0</td><td>1.0</td><td>0.0</td><td>0.0</td><td>3.0</td><td>0.0</td><td>0</td><td>0</td><td>0</td><td>0</td><td>0</td><td>0</td><td>0</td><td>null</td><td>null</td><td>null</td><td>null</td><td>null</td><td>null</td><td>null</td><td>null</td><td>null</td><td>null</td><td>null</td><td>null</td><td>null</td><td>null</td><td>null</td><td>null</td><td>null</td><td>null</td></tr><tr><td>1475891441243025408</td><td>&quot;https://twitte…</td><td>&quot;@posco Visitin…</td><td>&quot;2021-12-28 18:…</td><td>1611.0</td><td>12.0</td><td>0.007449</td><td>0.0</td><td>0.0</td><td>4.0</td><td>4.0</td><td>0.0</td><td>0.0</td><td>4.0</td><td>0.0</td><td>0</td><td>0</td><td>0</td><td>0</td><td>0</td><td>0</td><td>0</td><td>null</td><td>null</td><td>null</td><td>null</td><td>null</td><td>null</td><td>null</td><td>null</td><td>null</td><td>null</td><td>null</td><td>null</td><td>null</td><td>null</td><td>null</td><td>null</td><td>null</td><td>null</td></tr><tr><td>1476453819751878656</td><td>&quot;https://twitte…</td><td>&quot;@johndsaunders…</td><td>&quot;2021-12-30 07:…</td><td>1354.0</td><td>8.0</td><td>0.005908</td><td>0.0</td><td>0.0</td><td>2.0</td><td>4.0</td><td>0.0</td><td>0.0</td><td>2.0</td><td>0.0</td><td>0</td><td>0</td><td>0</td><td>0</td><td>0</td><td>0</td><td>0</td><td>null</td><td>null</td><td>null</td><td>null</td><td>null</td><td>null</td><td>null</td><td>null</td><td>null</td><td>null</td><td>null</td><td>null</td><td>null</td><td>null</td><td>null</td><td>null</td><td>null</td><td>null</td></tr><tr><td>1477024722051158018</td><td>&quot;https://twitte…</td><td>&quot;@tunguz Xgboos…</td><td>&quot;2021-12-31 21:…</td><td>5041.0</td><td>63.0</td><td>0.012498</td><td>0.0</td><td>3.0</td><td>23.0</td><td>8.0</td><td>0.0</td><td>0.0</td><td>29.0</td><td>0.0</td><td>0</td><td>0</td><td>0</td><td>0</td><td>0</td><td>0</td><td>0</td><td>null</td><td>null</td><td>null</td><td>null</td><td>null</td><td>null</td><td>null</td><td>null</td><td>null</td><td>null</td><td>null</td><td>null</td><td>null</td><td>null</td><td>null</td><td>null</td><td>null</td><td>null</td></tr></tbody></table></div>"
      ],
      "text/plain": [
       "shape: (5_791, 40)\n",
       "┌──────────────┬──────────────┬──────────────┬─────────────┬───┬─────────────┬─────────────┬─────────────┬─────────────┐\n",
       "│ Tweet id     ┆ Tweet        ┆ Tweet text   ┆ time        ┆ … ┆ promoted    ┆ promoted    ┆ promoted    ┆ promoted    │\n",
       "│ ---          ┆ permalink    ┆ ---          ┆ ---         ┆   ┆ email tweet ┆ dial phone  ┆ media views ┆ media       │\n",
       "│ i64          ┆ ---          ┆ str          ┆ str         ┆   ┆ ---         ┆ ---         ┆ ---         ┆ engagements │\n",
       "│              ┆ str          ┆              ┆             ┆   ┆ str         ┆ str         ┆ str         ┆ ---         │\n",
       "│              ┆              ┆              ┆             ┆   ┆             ┆             ┆             ┆ str         │\n",
       "╞══════════════╪══════════════╪══════════════╪═════════════╪═══╪═════════════╪═════════════╪═════════════╪═════════════╡\n",
       "│ 121258051790 ┆ https://twit ┆ Sounds like  ┆ 2020-01-02  ┆ … ┆ null        ┆ null        ┆ null        ┆ null        │\n",
       "│ 5780737      ┆ ter.com/__mh ┆ a great      ┆ 03:44:00+00 ┆   ┆             ┆             ┆             ┆             │\n",
       "│              ┆ arrison_…    ┆ topic!       ┆ :00         ┆   ┆             ┆             ┆             ┆             │\n",
       "│              ┆              ┆ https…       ┆             ┆   ┆             ┆             ┆             ┆             │\n",
       "│ 121258249482 ┆ https://twit ┆ @FogleBird   ┆ 2020-01-02  ┆ … ┆ null        ┆ null        ┆ null        ┆ null        │\n",
       "│ 8036097      ┆ ter.com/__mh ┆ Looks like   ┆ 03:52:00+00 ┆   ┆             ┆             ┆             ┆             │\n",
       "│              ┆ arrison_…    ┆ SLC. I can…  ┆ :00         ┆   ┆             ┆             ┆             ┆             │\n",
       "│ 121261373569 ┆ https://twit ┆ @afilina     ┆ 2020-01-02  ┆ … ┆ null        ┆ null        ┆ null        ┆ null        │\n",
       "│ 8690049      ┆ ter.com/__mh ┆ That's       ┆ 05:56:00+00 ┆   ┆             ┆             ┆             ┆             │\n",
       "│              ┆ arrison_…    ┆ really       ┆ :00         ┆   ┆             ┆             ┆             ┆             │\n",
       "│              ┆              ┆ amount an…   ┆             ┆   ┆             ┆             ┆             ┆             │\n",
       "│ 121291174961 ┆ https://twit ┆ @randal_olso ┆ 2020-01-03  ┆ … ┆ null        ┆ null        ┆ null        ┆ null        │\n",
       "│ 7242113      ┆ ter.com/__mh ┆ n I use      ┆ 01:41:00+00 ┆   ┆             ┆             ┆             ┆             │\n",
       "│              ┆ arrison_…    ┆ anaconda     ┆ :00         ┆   ┆             ┆             ┆             ┆             │\n",
       "│              ┆              ┆ whe…         ┆             ┆   ┆             ┆             ┆             ┆             │\n",
       "│ …            ┆ …            ┆ …            ┆ …           ┆ … ┆ …           ┆ …           ┆ …           ┆ …           │\n",
       "│ 147551814369 ┆ https://twit ┆ @willmcgugan ┆ 2021-12-27  ┆ … ┆ null        ┆ null        ┆ null        ┆ null        │\n",
       "│ 0801156      ┆ ter.com/__mh ┆ You need to  ┆ 17:25:00+00 ┆   ┆             ┆             ┆             ┆             │\n",
       "│              ┆ arrison_…    ┆ find ou…     ┆ :00         ┆   ┆             ┆             ┆             ┆             │\n",
       "│ 147589144124 ┆ https://twit ┆ @posco       ┆ 2021-12-28  ┆ … ┆ null        ┆ null        ┆ null        ┆ null        │\n",
       "│ 3025408      ┆ ter.com/__mh ┆ Visiting     ┆ 18:08:00+00 ┆   ┆             ┆             ┆             ┆             │\n",
       "│              ┆ arrison_…    ┆ Hawaii for   ┆ :00         ┆   ┆             ┆             ┆             ┆             │\n",
       "│              ┆              ┆ the h…       ┆             ┆   ┆             ┆             ┆             ┆             │\n",
       "│ 147645381975 ┆ https://twit ┆ @johndsaunde ┆ 2021-12-30  ┆ … ┆ null        ┆ null        ┆ null        ┆ null        │\n",
       "│ 1878656      ┆ ter.com/__mh ┆ rs My son    ┆ 07:23:00+00 ┆   ┆             ┆             ┆             ┆             │\n",
       "│              ┆ arrison_…    ┆ just built…  ┆ :00         ┆   ┆             ┆             ┆             ┆             │\n",
       "│ 147702472205 ┆ https://twit ┆ @tunguz      ┆ 2021-12-31  ┆ … ┆ null        ┆ null        ┆ null        ┆ null        │\n",
       "│ 1158018      ┆ ter.com/__mh ┆ Xgboost      ┆ 21:11:00+00 ┆   ┆             ┆             ┆             ┆             │\n",
       "│              ┆ arrison_…    ┆              ┆ :00         ┆   ┆             ┆             ┆             ┆             │\n",
       "└──────────────┴──────────────┴──────────────┴─────────────┴───┴─────────────┴─────────────┴─────────────┴─────────────┘"
      ]
     },
     "execution_count": 27,
     "metadata": {},
     "output_type": "execute_result"
    }
   ],
   "source": [
    "## * Use `.rename` to rename *impressions* to *imp* and *engagement* to *eng*\n",
    "# rename columns (pandas style)\n",
    "(df.rename({'impressions':'imp',\n",
    "                                 'engagements':'eng'}\n",
    "          )\n",
    ")\n",
    "\n"
   ]
  },
  {
   "cell_type": "code",
   "execution_count": null,
   "metadata": {},
   "outputs": [],
   "source": []
  },
  {
   "cell_type": "markdown",
   "metadata": {},
   "source": [
    "## Dates"
   ]
  },
  {
   "cell_type": "code",
   "execution_count": 32,
   "metadata": {
    "scrolled": true
   },
   "outputs": [
    {
     "ename": "ComputeError",
     "evalue": "strict conversion from `str` to `datetime[μs]` failed for value(s) [\"2021-01-24 05:03:00+00:00\", \"2020-12-05 06:25:00+00:00\", … \"2021-01-07 16:01:00+00:00\"]; if you were trying to cast Utf8 to temporal dtypes, consider using `strptime`",
     "output_type": "error",
     "traceback": [
      "\u001b[1;31m---------------------------------------------------------------------------\u001b[0m",
      "\u001b[1;31mComputeError\u001b[0m                              Traceback (most recent call last)",
      "\u001b[1;32m~\\AppData\\Local\\Temp/ipykernel_20108/204040857.py\u001b[0m in \u001b[0;36m<module>\u001b[1;34m\u001b[0m\n\u001b[0;32m      1\u001b[0m \u001b[1;31m# rename columns\u001b[0m\u001b[1;33m\u001b[0m\u001b[1;33m\u001b[0m\u001b[1;33m\u001b[0m\u001b[0m\n\u001b[1;32m----> 2\u001b[1;33m (df\n\u001b[0m\u001b[0;32m      3\u001b[0m  .with_columns([\n\u001b[0;32m      4\u001b[0m      pl.col(['replies', 'hashtag clicks', 'permalink clicks', 'app opens', \n\u001b[0;32m      5\u001b[0m              'app installs', 'follows', 'email tweet', 'dial phone'])\n",
      "\u001b[1;32m~\\anaconda3\\lib\\site-packages\\polars\\dataframe\\frame.py\u001b[0m in \u001b[0;36mwith_columns\u001b[1;34m(self, *exprs, **named_exprs)\u001b[0m\n\u001b[0;32m   7588\u001b[0m         \"\"\"\n\u001b[0;32m   7589\u001b[0m         return (\n\u001b[1;32m-> 7590\u001b[1;33m             \u001b[0mself\u001b[0m\u001b[1;33m.\u001b[0m\u001b[0mlazy\u001b[0m\u001b[1;33m(\u001b[0m\u001b[1;33m)\u001b[0m\u001b[1;33m\u001b[0m\u001b[1;33m\u001b[0m\u001b[0m\n\u001b[0m\u001b[0;32m   7591\u001b[0m             \u001b[1;33m.\u001b[0m\u001b[0mwith_columns\u001b[0m\u001b[1;33m(\u001b[0m\u001b[1;33m*\u001b[0m\u001b[0mexprs\u001b[0m\u001b[1;33m,\u001b[0m \u001b[1;33m**\u001b[0m\u001b[0mnamed_exprs\u001b[0m\u001b[1;33m)\u001b[0m\u001b[1;33m\u001b[0m\u001b[1;33m\u001b[0m\u001b[0m\n\u001b[0;32m   7592\u001b[0m             \u001b[1;33m.\u001b[0m\u001b[0mcollect\u001b[0m\u001b[1;33m(\u001b[0m\u001b[0mno_optimization\u001b[0m\u001b[1;33m=\u001b[0m\u001b[1;32mTrue\u001b[0m\u001b[1;33m)\u001b[0m\u001b[1;33m\u001b[0m\u001b[1;33m\u001b[0m\u001b[0m\n",
      "\u001b[1;32m~\\anaconda3\\lib\\site-packages\\polars\\utils\\deprecation.py\u001b[0m in \u001b[0;36mwrapper\u001b[1;34m(*args, **kwargs)\u001b[0m\n\u001b[0;32m     91\u001b[0m                 \u001b[0mold_name\u001b[0m\u001b[1;33m,\u001b[0m \u001b[0mnew_name\u001b[0m\u001b[1;33m,\u001b[0m \u001b[0mkwargs\u001b[0m\u001b[1;33m,\u001b[0m \u001b[0mfunction\u001b[0m\u001b[1;33m.\u001b[0m\u001b[0m__name__\u001b[0m\u001b[1;33m,\u001b[0m \u001b[0mversion\u001b[0m\u001b[1;33m\u001b[0m\u001b[1;33m\u001b[0m\u001b[0m\n\u001b[0;32m     92\u001b[0m             )\n\u001b[1;32m---> 93\u001b[1;33m             \u001b[1;32mreturn\u001b[0m \u001b[0mfunction\u001b[0m\u001b[1;33m(\u001b[0m\u001b[1;33m*\u001b[0m\u001b[0margs\u001b[0m\u001b[1;33m,\u001b[0m \u001b[1;33m**\u001b[0m\u001b[0mkwargs\u001b[0m\u001b[1;33m)\u001b[0m\u001b[1;33m\u001b[0m\u001b[1;33m\u001b[0m\u001b[0m\n\u001b[0m\u001b[0;32m     94\u001b[0m \u001b[1;33m\u001b[0m\u001b[0m\n\u001b[0;32m     95\u001b[0m         \u001b[1;32mreturn\u001b[0m \u001b[0mwrapper\u001b[0m\u001b[1;33m\u001b[0m\u001b[1;33m\u001b[0m\u001b[0m\n",
      "\u001b[1;32m~\\anaconda3\\lib\\site-packages\\polars\\lazyframe\\frame.py\u001b[0m in \u001b[0;36mcollect\u001b[1;34m(self, type_coercion, predicate_pushdown, projection_pushdown, simplify_expression, no_optimization, slice_pushdown, comm_subplan_elim, comm_subexpr_elim, streaming)\u001b[0m\n\u001b[0;32m   1687\u001b[0m             \u001b[0mstreaming\u001b[0m\u001b[1;33m,\u001b[0m\u001b[1;33m\u001b[0m\u001b[1;33m\u001b[0m\u001b[0m\n\u001b[0;32m   1688\u001b[0m         )\n\u001b[1;32m-> 1689\u001b[1;33m         \u001b[1;32mreturn\u001b[0m \u001b[0mwrap_df\u001b[0m\u001b[1;33m(\u001b[0m\u001b[0mldf\u001b[0m\u001b[1;33m.\u001b[0m\u001b[0mcollect\u001b[0m\u001b[1;33m(\u001b[0m\u001b[1;33m)\u001b[0m\u001b[1;33m)\u001b[0m\u001b[1;33m\u001b[0m\u001b[1;33m\u001b[0m\u001b[0m\n\u001b[0m\u001b[0;32m   1690\u001b[0m \u001b[1;33m\u001b[0m\u001b[0m\n\u001b[0;32m   1691\u001b[0m     def sink_parquet(\n",
      "\u001b[1;31mComputeError\u001b[0m: strict conversion from `str` to `datetime[μs]` failed for value(s) [\"2021-01-24 05:03:00+00:00\", \"2020-12-05 06:25:00+00:00\", … \"2021-01-07 16:01:00+00:00\"]; if you were trying to cast Utf8 to temporal dtypes, consider using `strptime`"
     ]
    }
   ],
   "source": [
    "# rename columns\n",
    "(df\n",
    " .with_columns([\n",
    "     pl.col(['replies', 'hashtag clicks', 'permalink clicks', 'app opens', \n",
    "             'app installs', 'follows', 'email tweet', 'dial phone'])\n",
    "       .cast(pl.UInt8),\n",
    "     pl.col(['engagements', 'retweets', 'likes', 'user profile clicks', 'url clicks',  \n",
    "             'detail expands', 'media views', 'media engagements'])\n",
    "       .cast(pl.UInt16),\n",
    "     pl.col('impressions').cast(pl.UInt32),\n",
    "     pl.col('time').cast(pl.Datetime) ### New line\n",
    "   ])\n",
    " .select(pl.col(['Tweet id', 'Tweet permalink', 'Tweet text', 'time', 'impressions', \n",
    "                 'engagements', 'engagement rate', 'retweets', 'replies', 'likes', \n",
    "                 'user profile clicks', 'url clicks', 'hashtag clicks', \n",
    "                 'detail expands', 'permalink clicks', 'app opens', 'app installs', \n",
    "                 'follows', 'email tweet', 'dial phone', 'media views', 'media engagements']))\n",
    " .select(pl.all().map_alias(lambda name: name.lower().replace(' ', '_')))\n",
    ")"
   ]
  },
  {
   "cell_type": "code",
   "execution_count": 33,
   "metadata": {},
   "outputs": [
    {
     "name": "stdout",
     "output_type": "stream",
     "text": [
      "['__class__', '__delattr__', '__dict__', '__dir__', '__doc__', '__eq__', '__format__', '__ge__', '__getattribute__', '__gt__', '__hash__', '__init__', '__init_subclass__', '__le__', '__lt__', '__module__', '__ne__', '__new__', '__reduce__', '__reduce_ex__', '__repr__', '__setattr__', '__sizeof__', '__str__', '__subclasshook__', '__weakref__', '_accessor', '_s', 'concat', 'contains', 'count_match', 'decode', 'encode', 'ends_with', 'explode', 'extract', 'extract_all', 'extract_groups', 'json_extract', 'json_path_match', 'lengths', 'ljust', 'lstrip', 'n_chars', 'parse_int', 'replace', 'replace_all', 'rjust', 'rstrip', 'slice', 'split', 'split_exact', 'splitn', 'starts_with', 'strip', 'strptime', 'to_date', 'to_datetime', 'to_decimal', 'to_lowercase', 'to_time', 'to_titlecase', 'to_uppercase', 'zfill']\n"
     ]
    }
   ],
   "source": [
    "print(dir(df['time'].str))"
   ]
  },
  {
   "cell_type": "code",
   "execution_count": 34,
   "metadata": {
    "scrolled": true
   },
   "outputs": [
    {
     "data": {
      "text/html": [
       "<div><style>\n",
       ".dataframe > thead > tr > th,\n",
       ".dataframe > tbody > tr > td {\n",
       "  text-align: right;\n",
       "}\n",
       "</style>\n",
       "<small>shape: (5_791,)</small><table border=\"1\" class=\"dataframe\"><thead><tr><th>time</th></tr><tr><td>str</td></tr></thead><tbody><tr><td>&quot;2020-01-02 03:…</td></tr><tr><td>&quot;2020-01-02 03:…</td></tr><tr><td>&quot;2020-01-02 05:…</td></tr><tr><td>&quot;2020-01-03 01:…</td></tr><tr><td>&quot;2020-01-03 02:…</td></tr><tr><td>&quot;2020-01-03 02:…</td></tr><tr><td>&quot;2020-01-03 02:…</td></tr><tr><td>&quot;2020-01-03 05:…</td></tr><tr><td>&quot;2020-01-03 05:…</td></tr><tr><td>&quot;2020-01-03 20:…</td></tr><tr><td>&quot;2020-01-05 05:…</td></tr><tr><td>&quot;2020-01-05 18:…</td></tr><tr><td>&hellip;</td></tr><tr><td>&quot;2021-12-25 18:…</td></tr><tr><td>&quot;2021-12-25 19:…</td></tr><tr><td>&quot;2021-12-26 08:…</td></tr><tr><td>&quot;2021-12-27 02:…</td></tr><tr><td>&quot;2021-12-27 02:…</td></tr><tr><td>&quot;2021-12-27 02:…</td></tr><tr><td>&quot;2021-12-27 02:…</td></tr><tr><td>&quot;2021-12-27 03:…</td></tr><tr><td>&quot;2021-12-27 17:…</td></tr><tr><td>&quot;2021-12-28 18:…</td></tr><tr><td>&quot;2021-12-30 07:…</td></tr><tr><td>&quot;2021-12-31 21:…</td></tr></tbody></table></div>"
      ],
      "text/plain": [
       "shape: (5_791,)\n",
       "Series: 'time' [str]\n",
       "[\n",
       "\t\"2020-01-02 03:…\n",
       "\t\"2020-01-02 03:…\n",
       "\t\"2020-01-02 05:…\n",
       "\t\"2020-01-03 01:…\n",
       "\t\"2020-01-03 02:…\n",
       "\t\"2020-01-03 02:…\n",
       "\t\"2020-01-03 02:…\n",
       "\t\"2020-01-03 05:…\n",
       "\t\"2020-01-03 05:…\n",
       "\t\"2020-01-03 20:…\n",
       "\t\"2020-01-05 05:…\n",
       "\t\"2020-01-05 18:…\n",
       "\t…\n",
       "\t\"2021-12-25 14:…\n",
       "\t\"2021-12-25 18:…\n",
       "\t\"2021-12-25 19:…\n",
       "\t\"2021-12-26 08:…\n",
       "\t\"2021-12-27 02:…\n",
       "\t\"2021-12-27 02:…\n",
       "\t\"2021-12-27 02:…\n",
       "\t\"2021-12-27 02:…\n",
       "\t\"2021-12-27 03:…\n",
       "\t\"2021-12-27 17:…\n",
       "\t\"2021-12-28 18:…\n",
       "\t\"2021-12-30 07:…\n",
       "\t\"2021-12-31 21:…\n",
       "]"
      ]
     },
     "execution_count": 34,
     "metadata": {},
     "output_type": "execute_result"
    }
   ],
   "source": [
    "df['time'].str.split('+').apply(lambda vals: vals[0])"
   ]
  },
  {
   "cell_type": "code",
   "execution_count": 101,
   "metadata": {
    "scrolled": true
   },
   "outputs": [
    {
     "data": {
      "text/html": [
       "<div><style>\n",
       ".dataframe > thead > tr > th,\n",
       ".dataframe > tbody > tr > td {\n",
       "  text-align: right;\n",
       "}\n",
       "</style>\n",
       "<small>shape: (5791,)</small><table border=\"1\" class=\"dataframe\"><thead><tr><th>time</th></tr><tr><td>list[str]</td></tr></thead><tbody><tr><td>[&quot;2020-01-02 03:44:00&quot;, &quot;00:00&quot;]</td></tr><tr><td>[&quot;2020-01-02 03:52:00&quot;, &quot;00:00&quot;]</td></tr><tr><td>[&quot;2020-01-02 05:56:00&quot;, &quot;00:00&quot;]</td></tr><tr><td>[&quot;2020-01-03 01:41:00&quot;, &quot;00:00&quot;]</td></tr><tr><td>[&quot;2020-01-03 02:16:00&quot;, &quot;00:00&quot;]</td></tr><tr><td>[&quot;2020-01-03 02:18:00&quot;, &quot;00:00&quot;]</td></tr><tr><td>[&quot;2020-01-03 02:18:00&quot;, &quot;00:00&quot;]</td></tr><tr><td>[&quot;2020-01-03 05:31:00&quot;, &quot;00:00&quot;]</td></tr><tr><td>[&quot;2020-01-03 05:39:00&quot;, &quot;00:00&quot;]</td></tr><tr><td>[&quot;2020-01-03 20:24:00&quot;, &quot;00:00&quot;]</td></tr><tr><td>[&quot;2020-01-05 05:51:00&quot;, &quot;00:00&quot;]</td></tr><tr><td>[&quot;2020-01-05 18:54:00&quot;, &quot;00:00&quot;]</td></tr><tr><td>&hellip;</td></tr><tr><td>[&quot;2021-12-25 18:11:00&quot;, &quot;00:00&quot;]</td></tr><tr><td>[&quot;2021-12-25 19:13:00&quot;, &quot;00:00&quot;]</td></tr><tr><td>[&quot;2021-12-26 08:37:00&quot;, &quot;00:00&quot;]</td></tr><tr><td>[&quot;2021-12-27 02:55:00&quot;, &quot;00:00&quot;]</td></tr><tr><td>[&quot;2021-12-27 02:56:00&quot;, &quot;00:00&quot;]</td></tr><tr><td>[&quot;2021-12-27 02:57:00&quot;, &quot;00:00&quot;]</td></tr><tr><td>[&quot;2021-12-27 02:59:00&quot;, &quot;00:00&quot;]</td></tr><tr><td>[&quot;2021-12-27 03:01:00&quot;, &quot;00:00&quot;]</td></tr><tr><td>[&quot;2021-12-27 17:25:00&quot;, &quot;00:00&quot;]</td></tr><tr><td>[&quot;2021-12-28 18:08:00&quot;, &quot;00:00&quot;]</td></tr><tr><td>[&quot;2021-12-30 07:23:00&quot;, &quot;00:00&quot;]</td></tr><tr><td>[&quot;2021-12-31 21:11:00&quot;, &quot;00:00&quot;]</td></tr></tbody></table></div>"
      ],
      "text/plain": [
       "shape: (5_791,)\n",
       "Series: 'time' [list[str]]\n",
       "[\n",
       "\t[\"2020-01-02 03:44:00\", \"00:00\"]\n",
       "\t[\"2020-01-02 03:52:00\", \"00:00\"]\n",
       "\t[\"2020-01-02 05:56:00\", \"00:00\"]\n",
       "\t[\"2020-01-03 01:41:00\", \"00:00\"]\n",
       "\t[\"2020-01-03 02:16:00\", \"00:00\"]\n",
       "\t[\"2020-01-03 02:18:00\", \"00:00\"]\n",
       "\t[\"2020-01-03 02:18:00\", \"00:00\"]\n",
       "\t[\"2020-01-03 05:31:00\", \"00:00\"]\n",
       "\t[\"2020-01-03 05:39:00\", \"00:00\"]\n",
       "\t[\"2020-01-03 20:24:00\", \"00:00\"]\n",
       "\t[\"2020-01-05 05:51:00\", \"00:00\"]\n",
       "\t[\"2020-01-05 18:54:00\", \"00:00\"]\n",
       "\t…\n",
       "\t[\"2021-12-25 14:14:00\", \"00:00\"]\n",
       "\t[\"2021-12-25 18:11:00\", \"00:00\"]\n",
       "\t[\"2021-12-25 19:13:00\", \"00:00\"]\n",
       "\t[\"2021-12-26 08:37:00\", \"00:00\"]\n",
       "\t[\"2021-12-27 02:55:00\", \"00:00\"]\n",
       "\t[\"2021-12-27 02:56:00\", \"00:00\"]\n",
       "\t[\"2021-12-27 02:57:00\", \"00:00\"]\n",
       "\t[\"2021-12-27 02:59:00\", \"00:00\"]\n",
       "\t[\"2021-12-27 03:01:00\", \"00:00\"]\n",
       "\t[\"2021-12-27 17:25:00\", \"00:00\"]\n",
       "\t[\"2021-12-28 18:08:00\", \"00:00\"]\n",
       "\t[\"2021-12-30 07:23:00\", \"00:00\"]\n",
       "\t[\"2021-12-31 21:11:00\", \"00:00\"]\n",
       "]"
      ]
     },
     "execution_count": 101,
     "metadata": {},
     "output_type": "execute_result"
    }
   ],
   "source": [
    "split = df['time'].str.split('+')\n",
    "split"
   ]
  },
  {
   "cell_type": "code",
   "execution_count": 102,
   "metadata": {
    "scrolled": true
   },
   "outputs": [
    {
     "name": "stdout",
     "output_type": "stream",
     "text": [
      "['__abs__', '__add__', '__and__', '__annotations__', '__array__', '__array_ufunc__', '__bool__', '__class__', '__copy__', '__deepcopy__', '__delattr__', '__dict__', '__dir__', '__doc__', '__eq__', '__floordiv__', '__format__', '__ge__', '__getattribute__', '__getitem__', '__getstate__', '__gt__', '__hash__', '__init__', '__init_subclass__', '__invert__', '__iter__', '__le__', '__len__', '__lt__', '__matmul__', '__mod__', '__module__', '__mul__', '__ne__', '__neg__', '__new__', '__or__', '__pos__', '__pow__', '__radd__', '__rand__', '__reduce__', '__reduce_ex__', '__repr__', '__rfloordiv__', '__rmatmul__', '__rmod__', '__rmul__', '__ror__', '__rpow__', '__rsub__', '__rtruediv__', '__rxor__', '__setattr__', '__setitem__', '__setstate__', '__sizeof__', '__str__', '__sub__', '__subclasshook__', '__truediv__', '__weakref__', '__xor__', '_accessors', '_arithmetic', '_comp', '_from_arrow', '_from_pandas', '_from_pyseries', '_get_ptr', '_pos_idxs', '_repeat', '_repr_html_', '_s', 'abs', 'alias', 'all', 'any', 'append', 'apply', 'arccos', 'arccosh', 'arcsin', 'arcsinh', 'arctan', 'arctanh', 'arg_max', 'arg_min', 'arg_sort', 'arg_true', 'arg_unique', 'arr', 'bin', 'bottom_k', 'cast', 'cat', 'ceil', 'chunk_lengths', 'clear', 'clip', 'clip_max', 'clip_min', 'clone', 'cos', 'cosh', 'cummax', 'cummin', 'cumprod', 'cumsum', 'cumulative_eval', 'cut', 'describe', 'diff', 'dot', 'drop_nans', 'drop_nulls', 'dt', 'dtype', 'entropy', 'eq', 'estimated_size', 'ewm_mean', 'ewm_std', 'ewm_var', 'exp', 'explode', 'extend_constant', 'fill_nan', 'fill_null', 'filter', 'flags', 'floor', 'ge', 'get_chunks', 'gt', 'has_validity', 'hash', 'head', 'hist', 'inner_dtype', 'interpolate', 'is_between', 'is_boolean', 'is_duplicated', 'is_empty', 'is_finite', 'is_first', 'is_float', 'is_in', 'is_infinite', 'is_nan', 'is_not_nan', 'is_not_null', 'is_null', 'is_numeric', 'is_sorted', 'is_temporal', 'is_unique', 'is_utf8', 'item', 'kurtosis', 'le', 'len', 'limit', 'log', 'log10', 'log1p', 'lower_bound', 'lt', 'map_dict', 'max', 'mean', 'median', 'min', 'mode', 'n_chunks', 'n_unique', 'name', 'nan_max', 'nan_min', 'ne', 'new_from_index', 'null_count', 'pct_change', 'peak_max', 'peak_min', 'pow', 'product', 'qcut', 'quantile', 'rank', 'rechunk', 'reinterpret', 'rename', 'reshape', 'reverse', 'rolling_apply', 'rolling_max', 'rolling_mean', 'rolling_median', 'rolling_min', 'rolling_quantile', 'rolling_skew', 'rolling_std', 'rolling_sum', 'rolling_var', 'round', 'sample', 'search_sorted', 'series_equal', 'set', 'set_at_idx', 'set_sorted', 'shape', 'shift', 'shift_and_fill', 'shrink_dtype', 'shrink_to_fit', 'shuffle', 'sign', 'sin', 'sinh', 'skew', 'slice', 'sort', 'sqrt', 'std', 'str', 'struct', 'sum', 'tail', 'take', 'take_every', 'tan', 'tanh', 'time_unit', 'to_arrow', 'to_dummies', 'to_frame', 'to_init_repr', 'to_list', 'to_numpy', 'to_pandas', 'to_physical', 'top_k', 'unique', 'unique_counts', 'upper_bound', 'value_counts', 'var', 'view', 'zip_with']\n"
     ]
    }
   ],
   "source": [
    "print(dir(split))"
   ]
  },
  {
   "cell_type": "code",
   "execution_count": 36,
   "metadata": {
    "scrolled": true
   },
   "outputs": [
    {
     "data": {
      "text/html": [
       "<div><style>\n",
       ".dataframe > thead > tr > th,\n",
       ".dataframe > tbody > tr > td {\n",
       "  text-align: right;\n",
       "}\n",
       "</style>\n",
       "<small>shape: (5_791,)</small><table border=\"1\" class=\"dataframe\"><thead><tr><th>time</th></tr><tr><td>str</td></tr></thead><tbody><tr><td>&quot;2020-01-02 03:…</td></tr><tr><td>&quot;2020-01-02 03:…</td></tr><tr><td>&quot;2020-01-02 05:…</td></tr><tr><td>&quot;2020-01-03 01:…</td></tr><tr><td>&quot;2020-01-03 02:…</td></tr><tr><td>&quot;2020-01-03 02:…</td></tr><tr><td>&quot;2020-01-03 02:…</td></tr><tr><td>&quot;2020-01-03 05:…</td></tr><tr><td>&quot;2020-01-03 05:…</td></tr><tr><td>&quot;2020-01-03 20:…</td></tr><tr><td>&quot;2020-01-05 05:…</td></tr><tr><td>&quot;2020-01-05 18:…</td></tr><tr><td>&hellip;</td></tr><tr><td>&quot;2021-12-25 18:…</td></tr><tr><td>&quot;2021-12-25 19:…</td></tr><tr><td>&quot;2021-12-26 08:…</td></tr><tr><td>&quot;2021-12-27 02:…</td></tr><tr><td>&quot;2021-12-27 02:…</td></tr><tr><td>&quot;2021-12-27 02:…</td></tr><tr><td>&quot;2021-12-27 02:…</td></tr><tr><td>&quot;2021-12-27 03:…</td></tr><tr><td>&quot;2021-12-27 17:…</td></tr><tr><td>&quot;2021-12-28 18:…</td></tr><tr><td>&quot;2021-12-30 07:…</td></tr><tr><td>&quot;2021-12-31 21:…</td></tr></tbody></table></div>"
      ],
      "text/plain": [
       "shape: (5_791,)\n",
       "Series: 'time' [str]\n",
       "[\n",
       "\t\"2020-01-02 03:…\n",
       "\t\"2020-01-02 03:…\n",
       "\t\"2020-01-02 05:…\n",
       "\t\"2020-01-03 01:…\n",
       "\t\"2020-01-03 02:…\n",
       "\t\"2020-01-03 02:…\n",
       "\t\"2020-01-03 02:…\n",
       "\t\"2020-01-03 05:…\n",
       "\t\"2020-01-03 05:…\n",
       "\t\"2020-01-03 20:…\n",
       "\t\"2020-01-05 05:…\n",
       "\t\"2020-01-05 18:…\n",
       "\t…\n",
       "\t\"2021-12-25 14:…\n",
       "\t\"2021-12-25 18:…\n",
       "\t\"2021-12-25 19:…\n",
       "\t\"2021-12-26 08:…\n",
       "\t\"2021-12-27 02:…\n",
       "\t\"2021-12-27 02:…\n",
       "\t\"2021-12-27 02:…\n",
       "\t\"2021-12-27 02:…\n",
       "\t\"2021-12-27 03:…\n",
       "\t\"2021-12-27 17:…\n",
       "\t\"2021-12-28 18:…\n",
       "\t\"2021-12-30 07:…\n",
       "\t\"2021-12-31 21:…\n",
       "]"
      ]
     },
     "execution_count": 36,
     "metadata": {},
     "output_type": "execute_result"
    }
   ],
   "source": [
    "df['time'].str.split('+').list.get(0) "
   ]
  },
  {
   "cell_type": "code",
   "execution_count": 38,
   "metadata": {},
   "outputs": [
    {
     "ename": "ComputeError",
     "evalue": "strict conversion from `str` to `datetime[μs]` failed for value(s) [\"2020-10-14 21:27:00\", \"2020-01-28 13:41:00\", … \"2020-10-01 17:19:00\"]; if you were trying to cast Utf8 to temporal dtypes, consider using `strptime`",
     "output_type": "error",
     "traceback": [
      "\u001b[1;31m---------------------------------------------------------------------------\u001b[0m",
      "\u001b[1;31mComputeError\u001b[0m                              Traceback (most recent call last)",
      "\u001b[1;32m~\\AppData\\Local\\Temp/ipykernel_20108/1685336970.py\u001b[0m in \u001b[0;36m<module>\u001b[1;34m\u001b[0m\n\u001b[1;32m----> 1\u001b[1;33m \u001b[0mdf\u001b[0m\u001b[1;33m[\u001b[0m\u001b[1;34m'time'\u001b[0m\u001b[1;33m]\u001b[0m\u001b[1;33m.\u001b[0m\u001b[0mstr\u001b[0m\u001b[1;33m.\u001b[0m\u001b[0msplit\u001b[0m\u001b[1;33m(\u001b[0m\u001b[1;34m'+'\u001b[0m\u001b[1;33m)\u001b[0m\u001b[1;33m.\u001b[0m\u001b[0mlist\u001b[0m\u001b[1;33m.\u001b[0m\u001b[0mget\u001b[0m\u001b[1;33m(\u001b[0m\u001b[1;36m0\u001b[0m\u001b[1;33m)\u001b[0m\u001b[1;33m.\u001b[0m\u001b[0mcast\u001b[0m\u001b[1;33m(\u001b[0m\u001b[0mpl\u001b[0m\u001b[1;33m.\u001b[0m\u001b[0mDatetime\u001b[0m\u001b[1;33m)\u001b[0m\u001b[1;33m\u001b[0m\u001b[1;33m\u001b[0m\u001b[0m\n\u001b[0m",
      "\u001b[1;32m~\\anaconda3\\lib\\site-packages\\polars\\series\\series.py\u001b[0m in \u001b[0;36mcast\u001b[1;34m(self, dtype, strict)\u001b[0m\n\u001b[0;32m   3341\u001b[0m         \u001b[1;31m# Do not dispatch cast as it is expensive and used in other functions.\u001b[0m\u001b[1;33m\u001b[0m\u001b[1;33m\u001b[0m\u001b[1;33m\u001b[0m\u001b[0m\n\u001b[0;32m   3342\u001b[0m         \u001b[0mdtype\u001b[0m \u001b[1;33m=\u001b[0m \u001b[0mpy_type_to_dtype\u001b[0m\u001b[1;33m(\u001b[0m\u001b[0mdtype\u001b[0m\u001b[1;33m)\u001b[0m\u001b[1;33m\u001b[0m\u001b[1;33m\u001b[0m\u001b[0m\n\u001b[1;32m-> 3343\u001b[1;33m         \u001b[1;32mreturn\u001b[0m \u001b[0mself\u001b[0m\u001b[1;33m.\u001b[0m\u001b[0m_from_pyseries\u001b[0m\u001b[1;33m(\u001b[0m\u001b[0mself\u001b[0m\u001b[1;33m.\u001b[0m\u001b[0m_s\u001b[0m\u001b[1;33m.\u001b[0m\u001b[0mcast\u001b[0m\u001b[1;33m(\u001b[0m\u001b[0mdtype\u001b[0m\u001b[1;33m,\u001b[0m \u001b[0mstrict\u001b[0m\u001b[1;33m)\u001b[0m\u001b[1;33m)\u001b[0m\u001b[1;33m\u001b[0m\u001b[1;33m\u001b[0m\u001b[0m\n\u001b[0m\u001b[0;32m   3344\u001b[0m \u001b[1;33m\u001b[0m\u001b[0m\n\u001b[0;32m   3345\u001b[0m     \u001b[1;32mdef\u001b[0m \u001b[0mto_physical\u001b[0m\u001b[1;33m(\u001b[0m\u001b[0mself\u001b[0m\u001b[1;33m)\u001b[0m \u001b[1;33m->\u001b[0m \u001b[0mSeries\u001b[0m\u001b[1;33m:\u001b[0m\u001b[1;33m\u001b[0m\u001b[1;33m\u001b[0m\u001b[0m\n",
      "\u001b[1;31mComputeError\u001b[0m: strict conversion from `str` to `datetime[μs]` failed for value(s) [\"2020-10-14 21:27:00\", \"2020-01-28 13:41:00\", … \"2020-10-01 17:19:00\"]; if you were trying to cast Utf8 to temporal dtypes, consider using `strptime`"
     ]
    }
   ],
   "source": [
    "df['time'].str.split('+').list.get(0).cast(pl.Datetime)"
   ]
  },
  {
   "cell_type": "code",
   "execution_count": 39,
   "metadata": {
    "scrolled": true
   },
   "outputs": [
    {
     "data": {
      "text/html": [
       "<div><style>\n",
       ".dataframe > thead > tr > th,\n",
       ".dataframe > tbody > tr > td {\n",
       "  text-align: right;\n",
       "}\n",
       "</style>\n",
       "<small>shape: (5_791,)</small><table border=\"1\" class=\"dataframe\"><thead><tr><th>time</th></tr><tr><td>datetime[μs]</td></tr></thead><tbody><tr><td>2020-01-02 03:44:00</td></tr><tr><td>2020-01-02 03:52:00</td></tr><tr><td>2020-01-02 05:56:00</td></tr><tr><td>2020-01-03 01:41:00</td></tr><tr><td>2020-01-03 02:16:00</td></tr><tr><td>2020-01-03 02:18:00</td></tr><tr><td>2020-01-03 02:18:00</td></tr><tr><td>2020-01-03 05:31:00</td></tr><tr><td>2020-01-03 05:39:00</td></tr><tr><td>2020-01-03 20:24:00</td></tr><tr><td>2020-01-05 05:51:00</td></tr><tr><td>2020-01-05 18:54:00</td></tr><tr><td>&hellip;</td></tr><tr><td>2021-12-25 18:11:00</td></tr><tr><td>2021-12-25 19:13:00</td></tr><tr><td>2021-12-26 08:37:00</td></tr><tr><td>2021-12-27 02:55:00</td></tr><tr><td>2021-12-27 02:56:00</td></tr><tr><td>2021-12-27 02:57:00</td></tr><tr><td>2021-12-27 02:59:00</td></tr><tr><td>2021-12-27 03:01:00</td></tr><tr><td>2021-12-27 17:25:00</td></tr><tr><td>2021-12-28 18:08:00</td></tr><tr><td>2021-12-30 07:23:00</td></tr><tr><td>2021-12-31 21:11:00</td></tr></tbody></table></div>"
      ],
      "text/plain": [
       "shape: (5_791,)\n",
       "Series: 'time' [datetime[μs]]\n",
       "[\n",
       "\t2020-01-02 03:44:00\n",
       "\t2020-01-02 03:52:00\n",
       "\t2020-01-02 05:56:00\n",
       "\t2020-01-03 01:41:00\n",
       "\t2020-01-03 02:16:00\n",
       "\t2020-01-03 02:18:00\n",
       "\t2020-01-03 02:18:00\n",
       "\t2020-01-03 05:31:00\n",
       "\t2020-01-03 05:39:00\n",
       "\t2020-01-03 20:24:00\n",
       "\t2020-01-05 05:51:00\n",
       "\t2020-01-05 18:54:00\n",
       "\t…\n",
       "\t2021-12-25 14:14:00\n",
       "\t2021-12-25 18:11:00\n",
       "\t2021-12-25 19:13:00\n",
       "\t2021-12-26 08:37:00\n",
       "\t2021-12-27 02:55:00\n",
       "\t2021-12-27 02:56:00\n",
       "\t2021-12-27 02:57:00\n",
       "\t2021-12-27 02:59:00\n",
       "\t2021-12-27 03:01:00\n",
       "\t2021-12-27 17:25:00\n",
       "\t2021-12-28 18:08:00\n",
       "\t2021-12-30 07:23:00\n",
       "\t2021-12-31 21:11:00\n",
       "]"
      ]
     },
     "execution_count": 39,
     "metadata": {},
     "output_type": "execute_result"
    }
   ],
   "source": [
    "# Explicit is good!\n",
    "df['time'].str.split('+').list.get(0).str.strptime(pl.Datetime, '%Y-%m-%d %H:%M:%S')"
   ]
  },
  {
   "cell_type": "code",
   "execution_count": 40,
   "metadata": {
    "scrolled": true
   },
   "outputs": [
    {
     "data": {
      "text/html": [
       "<div><style>\n",
       ".dataframe > thead > tr > th,\n",
       ".dataframe > tbody > tr > td {\n",
       "  text-align: right;\n",
       "}\n",
       "</style>\n",
       "<small>shape: (5_791, 22)</small><table border=\"1\" class=\"dataframe\"><thead><tr><th>tweet_id</th><th>tweet_permalink</th><th>tweet_text</th><th>time</th><th>impressions</th><th>engagements</th><th>engagement_rate</th><th>retweets</th><th>replies</th><th>likes</th><th>user_profile_clicks</th><th>url_clicks</th><th>hashtag_clicks</th><th>detail_expands</th><th>permalink_clicks</th><th>app_opens</th><th>app_installs</th><th>follows</th><th>email_tweet</th><th>dial_phone</th><th>media_views</th><th>media_engagements</th></tr><tr><td>i64</td><td>str</td><td>str</td><td>datetime[μs]</td><td>u32</td><td>u16</td><td>f64</td><td>u16</td><td>u8</td><td>u16</td><td>u16</td><td>u16</td><td>u8</td><td>u16</td><td>u8</td><td>u8</td><td>u8</td><td>u8</td><td>u8</td><td>u8</td><td>u16</td><td>u16</td></tr></thead><tbody><tr><td>1212580517905780737</td><td>&quot;https://twitte…</td><td>&quot;Sounds like a …</td><td>2020-01-02 03:44:00</td><td>1465</td><td>7</td><td>0.004778</td><td>0</td><td>0</td><td>3</td><td>3</td><td>0</td><td>0</td><td>1</td><td>0</td><td>0</td><td>0</td><td>0</td><td>0</td><td>0</td><td>0</td><td>0</td></tr><tr><td>1212582494828036097</td><td>&quot;https://twitte…</td><td>&quot;@FogleBird Loo…</td><td>2020-01-02 03:52:00</td><td>154</td><td>3</td><td>0.019481</td><td>0</td><td>0</td><td>1</td><td>1</td><td>0</td><td>0</td><td>1</td><td>0</td><td>0</td><td>0</td><td>0</td><td>0</td><td>0</td><td>0</td><td>0</td></tr><tr><td>1212613735698690049</td><td>&quot;https://twitte…</td><td>&quot;@afilina That&#x27;…</td><td>2020-01-02 05:56:00</td><td>1024</td><td>6</td><td>0.005859</td><td>0</td><td>0</td><td>1</td><td>2</td><td>0</td><td>0</td><td>3</td><td>0</td><td>0</td><td>0</td><td>0</td><td>0</td><td>0</td><td>0</td><td>0</td></tr><tr><td>1212911749617242113</td><td>&quot;https://twitte…</td><td>&quot;@randal_olson …</td><td>2020-01-03 01:41:00</td><td>1419</td><td>14</td><td>0.009866</td><td>0</td><td>1</td><td>5</td><td>7</td><td>0</td><td>0</td><td>1</td><td>0</td><td>0</td><td>0</td><td>0</td><td>0</td><td>0</td><td>0</td><td>0</td></tr><tr><td>1212920556028252160</td><td>&quot;https://twitte…</td><td>&quot;@AlSweigart So…</td><td>2020-01-03 02:16:00</td><td>198</td><td>1</td><td>0.005051</td><td>0</td><td>0</td><td>1</td><td>0</td><td>0</td><td>0</td><td>0</td><td>0</td><td>0</td><td>0</td><td>0</td><td>0</td><td>0</td><td>0</td><td>0</td></tr><tr><td>1212921038356434947</td><td>&quot;https://twitte…</td><td>&quot;@tmarthal @Ted…</td><td>2020-01-03 02:18:00</td><td>170</td><td>3</td><td>0.017647</td><td>0</td><td>0</td><td>1</td><td>1</td><td>0</td><td>0</td><td>1</td><td>0</td><td>0</td><td>0</td><td>0</td><td>0</td><td>0</td><td>0</td><td>0</td></tr><tr><td>1212921192287330304</td><td>&quot;https://twitte…</td><td>&quot;@gabegundy It&#x27;…</td><td>2020-01-03 02:18:00</td><td>104</td><td>2</td><td>0.019231</td><td>0</td><td>1</td><td>1</td><td>0</td><td>0</td><td>0</td><td>0</td><td>0</td><td>0</td><td>0</td><td>0</td><td>0</td><td>0</td><td>0</td><td>0</td></tr><tr><td>1212969747186208768</td><td>&quot;https://twitte…</td><td>&quot;@anthonypjshaw…</td><td>2020-01-03 05:31:00</td><td>189</td><td>0</td><td>0.0</td><td>0</td><td>0</td><td>0</td><td>0</td><td>0</td><td>0</td><td>0</td><td>0</td><td>0</td><td>0</td><td>0</td><td>0</td><td>0</td><td>0</td><td>0</td></tr><tr><td>1212971634019033088</td><td>&quot;https://twitte…</td><td>&quot;@jet_set A lit…</td><td>2020-01-03 05:39:00</td><td>900</td><td>4</td><td>0.004444</td><td>0</td><td>0</td><td>0</td><td>4</td><td>0</td><td>0</td><td>0</td><td>0</td><td>0</td><td>0</td><td>0</td><td>0</td><td>0</td><td>0</td><td>0</td></tr><tr><td>1213194379793293312</td><td>&quot;https://twitte…</td><td>&quot;@juliasilge @r…</td><td>2020-01-03 20:24:00</td><td>252</td><td>2</td><td>0.007937</td><td>0</td><td>0</td><td>1</td><td>1</td><td>0</td><td>0</td><td>0</td><td>0</td><td>0</td><td>0</td><td>0</td><td>0</td><td>0</td><td>0</td><td>0</td></tr><tr><td>1213699561962631168</td><td>&quot;https://twitte…</td><td>&quot;Herein you wil…</td><td>2020-01-05 05:51:00</td><td>1610</td><td>6</td><td>0.003727</td><td>0</td><td>0</td><td>2</td><td>2</td><td>0</td><td>0</td><td>2</td><td>0</td><td>0</td><td>0</td><td>0</td><td>0</td><td>0</td><td>0</td><td>0</td></tr><tr><td>1213896543985516544</td><td>&quot;https://twitte…</td><td>&quot;@Austen Care t…</td><td>2020-01-05 18:54:00</td><td>165</td><td>3</td><td>0.018182</td><td>0</td><td>0</td><td>0</td><td>1</td><td>0</td><td>0</td><td>2</td><td>0</td><td>0</td><td>0</td><td>0</td><td>0</td><td>0</td><td>0</td><td>0</td></tr><tr><td>&hellip;</td><td>&hellip;</td><td>&hellip;</td><td>&hellip;</td><td>&hellip;</td><td>&hellip;</td><td>&hellip;</td><td>&hellip;</td><td>&hellip;</td><td>&hellip;</td><td>&hellip;</td><td>&hellip;</td><td>&hellip;</td><td>&hellip;</td><td>&hellip;</td><td>&hellip;</td><td>&hellip;</td><td>&hellip;</td><td>&hellip;</td><td>&hellip;</td><td>&hellip;</td><td>&hellip;</td></tr><tr><td>1474805013343981570</td><td>&quot;https://twitte…</td><td>&quot;@EricSchles @s…</td><td>2021-12-25 18:11:00</td><td>416</td><td>3</td><td>0.007212</td><td>0</td><td>0</td><td>2</td><td>1</td><td>0</td><td>0</td><td>0</td><td>0</td><td>0</td><td>0</td><td>0</td><td>0</td><td>0</td><td>0</td><td>0</td></tr><tr><td>1474820707234185217</td><td>&quot;https://twitte…</td><td>&quot;Mele kalikimak…</td><td>2021-12-25 19:13:00</td><td>15840</td><td>372</td><td>0.023485</td><td>0</td><td>2</td><td>61</td><td>59</td><td>6</td><td>0</td><td>66</td><td>0</td><td>0</td><td>0</td><td>0</td><td>0</td><td>0</td><td>178</td><td>178</td></tr><tr><td>1475023008620154882</td><td>&quot;https://twitte…</td><td>&quot;Good looking c…</td><td>2021-12-26 08:37:00</td><td>22557</td><td>501</td><td>0.02221</td><td>0</td><td>9</td><td>50</td><td>89</td><td>14</td><td>0</td><td>118</td><td>0</td><td>0</td><td>0</td><td>0</td><td>0</td><td>0</td><td>221</td><td>221</td></tr><tr><td>1475299210291343362</td><td>&quot;https://twitte…</td><td>&quot;@youtah A litt…</td><td>2021-12-27 02:55:00</td><td>1586</td><td>35</td><td>0.022068</td><td>0</td><td>0</td><td>2</td><td>1</td><td>1</td><td>0</td><td>0</td><td>0</td><td>0</td><td>0</td><td>0</td><td>0</td><td>0</td><td>31</td><td>31</td></tr><tr><td>1475299401681682434</td><td>&quot;https://twitte…</td><td>&quot;@mathsppblog S…</td><td>2021-12-27 02:56:00</td><td>4641</td><td>35</td><td>0.007541</td><td>0</td><td>4</td><td>11</td><td>10</td><td>0</td><td>0</td><td>10</td><td>0</td><td>0</td><td>0</td><td>0</td><td>0</td><td>0</td><td>0</td><td>0</td></tr><tr><td>1475299848093978626</td><td>&quot;https://twitte…</td><td>&quot;@willmcgugan P…</td><td>2021-12-27 02:57:00</td><td>1969</td><td>4</td><td>0.002031</td><td>0</td><td>0</td><td>4</td><td>0</td><td>0</td><td>0</td><td>0</td><td>0</td><td>0</td><td>0</td><td>0</td><td>0</td><td>0</td><td>0</td><td>0</td></tr><tr><td>1475300370138087426</td><td>&quot;https://twitte…</td><td>&quot;@reuvenmlerner…</td><td>2021-12-27 02:59:00</td><td>1669</td><td>5</td><td>0.002996</td><td>0</td><td>0</td><td>3</td><td>0</td><td>0</td><td>0</td><td>2</td><td>0</td><td>0</td><td>0</td><td>0</td><td>0</td><td>0</td><td>0</td><td>0</td></tr><tr><td>1475300661851934721</td><td>&quot;https://twitte…</td><td>&quot;@allison_horst…</td><td>2021-12-27 03:01:00</td><td>986</td><td>1</td><td>0.001014</td><td>0</td><td>0</td><td>0</td><td>0</td><td>0</td><td>0</td><td>1</td><td>0</td><td>0</td><td>0</td><td>0</td><td>0</td><td>0</td><td>0</td><td>0</td></tr><tr><td>1475518143690801156</td><td>&quot;https://twitte…</td><td>&quot;@willmcgugan Y…</td><td>2021-12-27 17:25:00</td><td>1790</td><td>7</td><td>0.003911</td><td>0</td><td>0</td><td>3</td><td>1</td><td>0</td><td>0</td><td>3</td><td>0</td><td>0</td><td>0</td><td>0</td><td>0</td><td>0</td><td>0</td><td>0</td></tr><tr><td>1475891441243025408</td><td>&quot;https://twitte…</td><td>&quot;@posco Visitin…</td><td>2021-12-28 18:08:00</td><td>1611</td><td>12</td><td>0.007449</td><td>0</td><td>0</td><td>4</td><td>4</td><td>0</td><td>0</td><td>4</td><td>0</td><td>0</td><td>0</td><td>0</td><td>0</td><td>0</td><td>0</td><td>0</td></tr><tr><td>1476453819751878656</td><td>&quot;https://twitte…</td><td>&quot;@johndsaunders…</td><td>2021-12-30 07:23:00</td><td>1354</td><td>8</td><td>0.005908</td><td>0</td><td>0</td><td>2</td><td>4</td><td>0</td><td>0</td><td>2</td><td>0</td><td>0</td><td>0</td><td>0</td><td>0</td><td>0</td><td>0</td><td>0</td></tr><tr><td>1477024722051158018</td><td>&quot;https://twitte…</td><td>&quot;@tunguz Xgboos…</td><td>2021-12-31 21:11:00</td><td>5041</td><td>63</td><td>0.012498</td><td>0</td><td>3</td><td>23</td><td>8</td><td>0</td><td>0</td><td>29</td><td>0</td><td>0</td><td>0</td><td>0</td><td>0</td><td>0</td><td>0</td><td>0</td></tr></tbody></table></div>"
      ],
      "text/plain": [
       "shape: (5_791, 22)\n",
       "┌──────────────┬──────────────┬──────────────┬──────────────┬───┬─────────────┬────────────┬─────────────┬─────────────┐\n",
       "│ tweet_id     ┆ tweet_permal ┆ tweet_text   ┆ time         ┆ … ┆ email_tweet ┆ dial_phone ┆ media_views ┆ media_engag │\n",
       "│ ---          ┆ ink          ┆ ---          ┆ ---          ┆   ┆ ---         ┆ ---        ┆ ---         ┆ ements      │\n",
       "│ i64          ┆ ---          ┆ str          ┆ datetime[μs] ┆   ┆ u8          ┆ u8         ┆ u16         ┆ ---         │\n",
       "│              ┆ str          ┆              ┆              ┆   ┆             ┆            ┆             ┆ u16         │\n",
       "╞══════════════╪══════════════╪══════════════╪══════════════╪═══╪═════════════╪════════════╪═════════════╪═════════════╡\n",
       "│ 121258051790 ┆ https://twit ┆ Sounds like  ┆ 2020-01-02   ┆ … ┆ 0           ┆ 0          ┆ 0           ┆ 0           │\n",
       "│ 5780737      ┆ ter.com/__mh ┆ a great      ┆ 03:44:00     ┆   ┆             ┆            ┆             ┆             │\n",
       "│              ┆ arrison_…    ┆ topic!       ┆              ┆   ┆             ┆            ┆             ┆             │\n",
       "│              ┆              ┆ https…       ┆              ┆   ┆             ┆            ┆             ┆             │\n",
       "│ 121258249482 ┆ https://twit ┆ @FogleBird   ┆ 2020-01-02   ┆ … ┆ 0           ┆ 0          ┆ 0           ┆ 0           │\n",
       "│ 8036097      ┆ ter.com/__mh ┆ Looks like   ┆ 03:52:00     ┆   ┆             ┆            ┆             ┆             │\n",
       "│              ┆ arrison_…    ┆ SLC. I can…  ┆              ┆   ┆             ┆            ┆             ┆             │\n",
       "│ 121261373569 ┆ https://twit ┆ @afilina     ┆ 2020-01-02   ┆ … ┆ 0           ┆ 0          ┆ 0           ┆ 0           │\n",
       "│ 8690049      ┆ ter.com/__mh ┆ That's       ┆ 05:56:00     ┆   ┆             ┆            ┆             ┆             │\n",
       "│              ┆ arrison_…    ┆ really       ┆              ┆   ┆             ┆            ┆             ┆             │\n",
       "│              ┆              ┆ amount an…   ┆              ┆   ┆             ┆            ┆             ┆             │\n",
       "│ 121291174961 ┆ https://twit ┆ @randal_olso ┆ 2020-01-03   ┆ … ┆ 0           ┆ 0          ┆ 0           ┆ 0           │\n",
       "│ 7242113      ┆ ter.com/__mh ┆ n I use      ┆ 01:41:00     ┆   ┆             ┆            ┆             ┆             │\n",
       "│              ┆ arrison_…    ┆ anaconda     ┆              ┆   ┆             ┆            ┆             ┆             │\n",
       "│              ┆              ┆ whe…         ┆              ┆   ┆             ┆            ┆             ┆             │\n",
       "│ …            ┆ …            ┆ …            ┆ …            ┆ … ┆ …           ┆ …          ┆ …           ┆ …           │\n",
       "│ 147551814369 ┆ https://twit ┆ @willmcgugan ┆ 2021-12-27   ┆ … ┆ 0           ┆ 0          ┆ 0           ┆ 0           │\n",
       "│ 0801156      ┆ ter.com/__mh ┆ You need to  ┆ 17:25:00     ┆   ┆             ┆            ┆             ┆             │\n",
       "│              ┆ arrison_…    ┆ find ou…     ┆              ┆   ┆             ┆            ┆             ┆             │\n",
       "│ 147589144124 ┆ https://twit ┆ @posco       ┆ 2021-12-28   ┆ … ┆ 0           ┆ 0          ┆ 0           ┆ 0           │\n",
       "│ 3025408      ┆ ter.com/__mh ┆ Visiting     ┆ 18:08:00     ┆   ┆             ┆            ┆             ┆             │\n",
       "│              ┆ arrison_…    ┆ Hawaii for   ┆              ┆   ┆             ┆            ┆             ┆             │\n",
       "│              ┆              ┆ the h…       ┆              ┆   ┆             ┆            ┆             ┆             │\n",
       "│ 147645381975 ┆ https://twit ┆ @johndsaunde ┆ 2021-12-30   ┆ … ┆ 0           ┆ 0          ┆ 0           ┆ 0           │\n",
       "│ 1878656      ┆ ter.com/__mh ┆ rs My son    ┆ 07:23:00     ┆   ┆             ┆            ┆             ┆             │\n",
       "│              ┆ arrison_…    ┆ just built…  ┆              ┆   ┆             ┆            ┆             ┆             │\n",
       "│ 147702472205 ┆ https://twit ┆ @tunguz      ┆ 2021-12-31   ┆ … ┆ 0           ┆ 0          ┆ 0           ┆ 0           │\n",
       "│ 1158018      ┆ ter.com/__mh ┆ Xgboost      ┆ 21:11:00     ┆   ┆             ┆            ┆             ┆             │\n",
       "│              ┆ arrison_…    ┆              ┆              ┆   ┆             ┆            ┆             ┆             │\n",
       "└──────────────┴──────────────┴──────────────┴──────────────┴───┴─────────────┴────────────┴─────────────┴─────────────┘"
      ]
     },
     "execution_count": 40,
     "metadata": {},
     "output_type": "execute_result"
    }
   ],
   "source": [
    "df2 = (df\n",
    " .with_columns([\n",
    "     pl.col(['replies', 'hashtag clicks', 'permalink clicks', 'app opens', \n",
    "             'app installs', 'follows', 'email tweet', 'dial phone'])\n",
    "       .cast(pl.UInt8),\n",
    "     pl.col(['engagements', 'retweets', 'likes', 'user profile clicks', \n",
    "             'url clicks',  'detail expands', 'media views', 'media engagements'])\n",
    "       .cast(pl.UInt16),\n",
    "     pl.col('impressions').cast(pl.UInt32),\n",
    "     pl.col('time').str.split('+').list.get(0).str.strptime(pl.Datetime, '%Y-%m-%d %H:%M:%S')\n",
    "   ])\n",
    " .select(pl.col(['Tweet id', 'Tweet permalink', 'Tweet text', 'time', \n",
    "                 'impressions', 'engagements', 'engagement rate', 'retweets', \n",
    "                 'replies', 'likes', 'user profile clicks', 'url clicks', \n",
    "                 'hashtag clicks', 'detail expands', 'permalink clicks', \n",
    "                 'app opens', 'app installs', 'follows', 'email tweet', \n",
    "                 'dial phone', 'media views', 'media engagements']))       \n",
    " .select(pl.all().map_alias(lambda name: name.lower().replace(' ', '_')))\n",
    ")\n",
    "df2"
   ]
  },
  {
   "cell_type": "code",
   "execution_count": 107,
   "metadata": {
    "scrolled": true
   },
   "outputs": [
    {
     "name": "stdout",
     "output_type": "stream",
     "text": [
      "['__class__', '__delattr__', '__dict__', '__dir__', '__doc__', '__eq__', '__format__', '__ge__', '__getattribute__', '__getitem__', '__gt__', '__hash__', '__init__', '__init_subclass__', '__le__', '__lt__', '__module__', '__ne__', '__new__', '__reduce__', '__reduce_ex__', '__repr__', '__setattr__', '__sizeof__', '__str__', '__subclasshook__', '__weakref__', '_accessor', '_s', 'cast_time_unit', 'combine', 'convert_time_zone', 'date', 'datetime', 'day', 'days', 'epoch', 'hour', 'hours', 'is_leap_year', 'iso_year', 'max', 'mean', 'median', 'microsecond', 'microseconds', 'millisecond', 'milliseconds', 'min', 'minute', 'minutes', 'month', 'nanosecond', 'nanoseconds', 'offset_by', 'ordinal_day', 'quarter', 'replace_time_zone', 'round', 'second', 'seconds', 'strftime', 'time', 'timestamp', 'truncate', 'week', 'weekday', 'with_time_unit', 'year']\n"
     ]
    }
   ],
   "source": [
    "print(dir(df2['time'].dt))"
   ]
  },
  {
   "cell_type": "code",
   "execution_count": 41,
   "metadata": {
    "scrolled": true
   },
   "outputs": [
    {
     "data": {
      "text/html": [
       "<div><style>\n",
       ".dataframe > thead > tr > th,\n",
       ".dataframe > tbody > tr > td {\n",
       "  text-align: right;\n",
       "}\n",
       "</style>\n",
       "<small>shape: (5_791,)</small><table border=\"1\" class=\"dataframe\"><thead><tr><th>time</th></tr><tr><td>u32</td></tr></thead><tbody><tr><td>1</td></tr><tr><td>1</td></tr><tr><td>1</td></tr><tr><td>1</td></tr><tr><td>1</td></tr><tr><td>1</td></tr><tr><td>1</td></tr><tr><td>1</td></tr><tr><td>1</td></tr><tr><td>1</td></tr><tr><td>1</td></tr><tr><td>1</td></tr><tr><td>&hellip;</td></tr><tr><td>12</td></tr><tr><td>12</td></tr><tr><td>12</td></tr><tr><td>12</td></tr><tr><td>12</td></tr><tr><td>12</td></tr><tr><td>12</td></tr><tr><td>12</td></tr><tr><td>12</td></tr><tr><td>12</td></tr><tr><td>12</td></tr><tr><td>12</td></tr></tbody></table></div>"
      ],
      "text/plain": [
       "shape: (5_791,)\n",
       "Series: 'time' [u32]\n",
       "[\n",
       "\t1\n",
       "\t1\n",
       "\t1\n",
       "\t1\n",
       "\t1\n",
       "\t1\n",
       "\t1\n",
       "\t1\n",
       "\t1\n",
       "\t1\n",
       "\t1\n",
       "\t1\n",
       "\t…\n",
       "\t12\n",
       "\t12\n",
       "\t12\n",
       "\t12\n",
       "\t12\n",
       "\t12\n",
       "\t12\n",
       "\t12\n",
       "\t12\n",
       "\t12\n",
       "\t12\n",
       "\t12\n",
       "\t12\n",
       "]"
      ]
     },
     "execution_count": 41,
     "metadata": {},
     "output_type": "execute_result"
    }
   ],
   "source": [
    "df2['time'].dt.month()"
   ]
  },
  {
   "cell_type": "code",
   "execution_count": 42,
   "metadata": {
    "scrolled": true
   },
   "outputs": [
    {
     "name": "stdout",
     "output_type": "stream",
     "text": [
      "\n",
      "        Convert to given time zone for a Series of type Datetime.\n",
      "\n",
      "        Parameters\n",
      "        ----------\n",
      "        time_zone\n",
      "            Time zone for the `Datetime` Series.\n",
      "\n",
      "        Examples\n",
      "        --------\n",
      "        >>> from datetime import datetime\n",
      "        >>> start = datetime(2020, 3, 1)\n",
      "        >>> stop = datetime(2020, 5, 1)\n",
      "        >>> date = pl.date_range(start, stop, \"1mo\", time_zone=\"UTC\", eager=True)\n",
      "        >>> date\n",
      "        shape: (3,)\n",
      "        Series: 'date' [datetime[μs, UTC]]\n",
      "        [\n",
      "                2020-03-01 00:00:00 UTC\n",
      "                2020-04-01 00:00:00 UTC\n",
      "                2020-05-01 00:00:00 UTC\n",
      "        ]\n",
      "        >>> date = date.dt.convert_time_zone(\"Europe/London\").alias(\"London\")\n",
      "        >>> date\n",
      "        shape: (3,)\n",
      "        Series: 'London' [datetime[μs, Europe/London]]\n",
      "        [\n",
      "            2020-03-01 00:00:00 GMT\n",
      "            2020-04-01 01:00:00 BST\n",
      "            2020-05-01 01:00:00 BST\n",
      "        ]\n",
      "        \n"
     ]
    }
   ],
   "source": [
    "# let's change timezone\n",
    "print(df2['time'].dt.convert_time_zone.__doc__)"
   ]
  },
  {
   "cell_type": "code",
   "execution_count": 43,
   "metadata": {
    "scrolled": true
   },
   "outputs": [
    {
     "data": {
      "text/html": [
       "<div><style>\n",
       ".dataframe > thead > tr > th,\n",
       ".dataframe > tbody > tr > td {\n",
       "  text-align: right;\n",
       "}\n",
       "</style>\n",
       "<small>shape: (5_791,)</small><table border=\"1\" class=\"dataframe\"><thead><tr><th>time</th></tr><tr><td>datetime[μs, UTC]</td></tr></thead><tbody><tr><td>2020-01-02 03:44:00 UTC</td></tr><tr><td>2020-01-02 03:52:00 UTC</td></tr><tr><td>2020-01-02 05:56:00 UTC</td></tr><tr><td>2020-01-03 01:41:00 UTC</td></tr><tr><td>2020-01-03 02:16:00 UTC</td></tr><tr><td>2020-01-03 02:18:00 UTC</td></tr><tr><td>2020-01-03 02:18:00 UTC</td></tr><tr><td>2020-01-03 05:31:00 UTC</td></tr><tr><td>2020-01-03 05:39:00 UTC</td></tr><tr><td>2020-01-03 20:24:00 UTC</td></tr><tr><td>2020-01-05 05:51:00 UTC</td></tr><tr><td>2020-01-05 18:54:00 UTC</td></tr><tr><td>&hellip;</td></tr><tr><td>2021-12-25 18:11:00 UTC</td></tr><tr><td>2021-12-25 19:13:00 UTC</td></tr><tr><td>2021-12-26 08:37:00 UTC</td></tr><tr><td>2021-12-27 02:55:00 UTC</td></tr><tr><td>2021-12-27 02:56:00 UTC</td></tr><tr><td>2021-12-27 02:57:00 UTC</td></tr><tr><td>2021-12-27 02:59:00 UTC</td></tr><tr><td>2021-12-27 03:01:00 UTC</td></tr><tr><td>2021-12-27 17:25:00 UTC</td></tr><tr><td>2021-12-28 18:08:00 UTC</td></tr><tr><td>2021-12-30 07:23:00 UTC</td></tr><tr><td>2021-12-31 21:11:00 UTC</td></tr></tbody></table></div>"
      ],
      "text/plain": [
       "shape: (5_791,)\n",
       "Series: 'time' [datetime[μs, UTC]]\n",
       "[\n",
       "\t2020-01-02 03:44:00 UTC\n",
       "\t2020-01-02 03:52:00 UTC\n",
       "\t2020-01-02 05:56:00 UTC\n",
       "\t2020-01-03 01:41:00 UTC\n",
       "\t2020-01-03 02:16:00 UTC\n",
       "\t2020-01-03 02:18:00 UTC\n",
       "\t2020-01-03 02:18:00 UTC\n",
       "\t2020-01-03 05:31:00 UTC\n",
       "\t2020-01-03 05:39:00 UTC\n",
       "\t2020-01-03 20:24:00 UTC\n",
       "\t2020-01-05 05:51:00 UTC\n",
       "\t2020-01-05 18:54:00 UTC\n",
       "\t…\n",
       "\t2021-12-25 14:14:00 UTC\n",
       "\t2021-12-25 18:11:00 UTC\n",
       "\t2021-12-25 19:13:00 UTC\n",
       "\t2021-12-26 08:37:00 UTC\n",
       "\t2021-12-27 02:55:00 UTC\n",
       "\t2021-12-27 02:56:00 UTC\n",
       "\t2021-12-27 02:57:00 UTC\n",
       "\t2021-12-27 02:59:00 UTC\n",
       "\t2021-12-27 03:01:00 UTC\n",
       "\t2021-12-27 17:25:00 UTC\n",
       "\t2021-12-28 18:08:00 UTC\n",
       "\t2021-12-30 07:23:00 UTC\n",
       "\t2021-12-31 21:11:00 UTC\n",
       "]"
      ]
     },
     "execution_count": 43,
     "metadata": {},
     "output_type": "execute_result"
    }
   ],
   "source": [
    "# let's change timezone\n",
    "df2['time'].dt.replace_time_zone('UTC')"
   ]
  },
  {
   "cell_type": "code",
   "execution_count": 44,
   "metadata": {
    "scrolled": true
   },
   "outputs": [
    {
     "data": {
      "text/html": [
       "<div><style>\n",
       ".dataframe > thead > tr > th,\n",
       ".dataframe > tbody > tr > td {\n",
       "  text-align: right;\n",
       "}\n",
       "</style>\n",
       "<small>shape: (5_791,)</small><table border=\"1\" class=\"dataframe\"><thead><tr><th>time</th></tr><tr><td>datetime[μs, America/Denver]</td></tr></thead><tbody><tr><td>2020-01-01 20:44:00 MST</td></tr><tr><td>2020-01-01 20:52:00 MST</td></tr><tr><td>2020-01-01 22:56:00 MST</td></tr><tr><td>2020-01-02 18:41:00 MST</td></tr><tr><td>2020-01-02 19:16:00 MST</td></tr><tr><td>2020-01-02 19:18:00 MST</td></tr><tr><td>2020-01-02 19:18:00 MST</td></tr><tr><td>2020-01-02 22:31:00 MST</td></tr><tr><td>2020-01-02 22:39:00 MST</td></tr><tr><td>2020-01-03 13:24:00 MST</td></tr><tr><td>2020-01-04 22:51:00 MST</td></tr><tr><td>2020-01-05 11:54:00 MST</td></tr><tr><td>&hellip;</td></tr><tr><td>2021-12-25 11:11:00 MST</td></tr><tr><td>2021-12-25 12:13:00 MST</td></tr><tr><td>2021-12-26 01:37:00 MST</td></tr><tr><td>2021-12-26 19:55:00 MST</td></tr><tr><td>2021-12-26 19:56:00 MST</td></tr><tr><td>2021-12-26 19:57:00 MST</td></tr><tr><td>2021-12-26 19:59:00 MST</td></tr><tr><td>2021-12-26 20:01:00 MST</td></tr><tr><td>2021-12-27 10:25:00 MST</td></tr><tr><td>2021-12-28 11:08:00 MST</td></tr><tr><td>2021-12-30 00:23:00 MST</td></tr><tr><td>2021-12-31 14:11:00 MST</td></tr></tbody></table></div>"
      ],
      "text/plain": [
       "shape: (5_791,)\n",
       "Series: 'time' [datetime[μs, America/Denver]]\n",
       "[\n",
       "\t2020-01-01 20:44:00 MST\n",
       "\t2020-01-01 20:52:00 MST\n",
       "\t2020-01-01 22:56:00 MST\n",
       "\t2020-01-02 18:41:00 MST\n",
       "\t2020-01-02 19:16:00 MST\n",
       "\t2020-01-02 19:18:00 MST\n",
       "\t2020-01-02 19:18:00 MST\n",
       "\t2020-01-02 22:31:00 MST\n",
       "\t2020-01-02 22:39:00 MST\n",
       "\t2020-01-03 13:24:00 MST\n",
       "\t2020-01-04 22:51:00 MST\n",
       "\t2020-01-05 11:54:00 MST\n",
       "\t…\n",
       "\t2021-12-25 07:14:00 MST\n",
       "\t2021-12-25 11:11:00 MST\n",
       "\t2021-12-25 12:13:00 MST\n",
       "\t2021-12-26 01:37:00 MST\n",
       "\t2021-12-26 19:55:00 MST\n",
       "\t2021-12-26 19:56:00 MST\n",
       "\t2021-12-26 19:57:00 MST\n",
       "\t2021-12-26 19:59:00 MST\n",
       "\t2021-12-26 20:01:00 MST\n",
       "\t2021-12-27 10:25:00 MST\n",
       "\t2021-12-28 11:08:00 MST\n",
       "\t2021-12-30 00:23:00 MST\n",
       "\t2021-12-31 14:11:00 MST\n",
       "]"
      ]
     },
     "execution_count": 44,
     "metadata": {},
     "output_type": "execute_result"
    }
   ],
   "source": [
    "# let's change timezone\n",
    "df2['time'].dt.replace_time_zone('UTC').dt.convert_time_zone('America/Denver')"
   ]
  },
  {
   "cell_type": "markdown",
   "metadata": {},
   "source": [
    "## Summary\n",
    "\n",
    "* Correct types save space and enable convenient math, string, and date functionality\n",
    "* Chaining operations will:\n",
    "   * Make code readable\n",
    "   * Remove bugs\n",
    "   * Easier to debug\n",
    "* Embrace chaining.\n",
    "* Lambdas/Comprehensions will slow you down.\n",
    "* Aggregations are powerful. Play with them until they make sense\n",
    "\n",
    "Connect with me on LinkedIn or Twitter (@\\_\\_mharrison\\_\\_)"
   ]
  },
  {
   "cell_type": "code",
   "execution_count": null,
   "metadata": {},
   "outputs": [],
   "source": []
  }
 ],
 "metadata": {
  "jupytext": {
   "formats": "ipynb,py:light"
  },
  "kernelspec": {
   "display_name": "Python 3 (ipykernel)",
   "language": "python",
   "name": "python3"
  },
  "language_info": {
   "codemirror_mode": {
    "name": "ipython",
    "version": 3
   },
   "file_extension": ".py",
   "mimetype": "text/x-python",
   "name": "python",
   "nbconvert_exporter": "python",
   "pygments_lexer": "ipython3",
   "version": "3.8.8"
  }
 },
 "nbformat": 4,
 "nbformat_minor": 4
}
