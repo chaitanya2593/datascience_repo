{
 "cells": [
  {
   "cell_type": "markdown",
   "metadata": {},
   "source": [
    "# Getting Started with Polars"
   ]
  },
  {
   "cell_type": "code",
   "execution_count": 4,
   "metadata": {},
   "outputs": [
    {
     "name": "stderr",
     "output_type": "stream",
     "text": [
      "C:\\Users\\chait\\anaconda3\\lib\\site-packages\\numpy\\_distributor_init.py:30: UserWarning: loaded more than 1 DLL from .libs:\n",
      "C:\\Users\\chait\\anaconda3\\lib\\site-packages\\numpy\\.libs\\libopenblas.WCDJNK7YVMPZQ2ME2ZZHJJRJ3JIKNDB7.gfortran-win_amd64.dll\n",
      "C:\\Users\\chait\\anaconda3\\lib\\site-packages\\numpy\\.libs\\libopenblas64__v0.3.21-gcc_10_3_0.dll\n",
      "  warnings.warn(\"loaded more than 1 DLL from .libs:\"\n"
     ]
    }
   ],
   "source": [
    "import numpy as np\n",
    "import polars as pl"
   ]
  },
  {
   "cell_type": "code",
   "execution_count": 2,
   "metadata": {},
   "outputs": [
    {
     "data": {
      "text/plain": [
       "'0.18.13'"
      ]
     },
     "execution_count": 2,
     "metadata": {},
     "output_type": "execute_result"
    }
   ],
   "source": [
    "pl.__version__"
   ]
  },
  {
   "cell_type": "code",
   "execution_count": 3,
   "metadata": {},
   "outputs": [
    {
     "name": "stdout",
     "output_type": "stream",
     "text": [
      "Requirement already satisfied: polars in c:\\users\\chait\\anaconda3\\lib\\site-packages (0.18.13)\n",
      "Note: you may need to restart the kernel to use updated packages.\n"
     ]
    },
    {
     "name": "stderr",
     "output_type": "stream",
     "text": [
      "WARNING: Ignoring invalid distribution -illow (c:\\users\\chait\\anaconda3\\lib\\site-packages)\n",
      "WARNING: Ignoring invalid distribution -illow (c:\\users\\chait\\anaconda3\\lib\\site-packages)\n",
      "DEPRECATION: plotlyhtmlexporter 0.0.2 has a non-standard dependency specifier nbformat>=4.2traitlets. pip 23.3 will enforce this behaviour change. A possible replacement is to upgrade to a newer version of plotlyhtmlexporter or contact the author to suggest that they release a version with a conforming dependency specifiers. Discussion can be found at https://github.com/pypa/pip/issues/12063\n",
      "DEPRECATION: pyodbc 4.0.0-unsupported has a non-standard version number. pip 23.3 will enforce this behaviour change. A possible replacement is to upgrade to a newer version of pyodbc or contact the author to suggest that they release a version with a conforming version number. Discussion can be found at https://github.com/pypa/pip/issues/12063\n"
     ]
    }
   ],
   "source": [
    "pip install -U polars"
   ]
  },
  {
   "cell_type": "markdown",
   "metadata": {},
   "source": [
    "## Loading Data"
   ]
  },
  {
   "cell_type": "code",
   "execution_count": 8,
   "metadata": {},
   "outputs": [],
   "source": [
    "file = '__mharrison__2020-2021.csv'\n",
    "df = pl.read_csv(file) #, parse_dates=True)"
   ]
  },
  {
   "cell_type": "code",
   "execution_count": 24,
   "metadata": {},
   "outputs": [
    {
     "name": "stdout",
     "output_type": "stream",
     "text": [
      "--2023-04-19 21:10:37--  https://github.com/mattharrison/datasets/raw/master/data/__mharrison__2020-2021.csv\n",
      "Resolving github.com (github.com)... 140.82.114.3\n",
      "Connecting to github.com (github.com)|140.82.114.3|:443... connected.\n",
      "HTTP request sent, awaiting response... 302 Found\n",
      "Location: https://raw.githubusercontent.com/mattharrison/datasets/master/data/__mharrison__2020-2021.csv [following]\n",
      "--2023-04-19 21:10:37--  https://raw.githubusercontent.com/mattharrison/datasets/master/data/__mharrison__2020-2021.csv\n",
      "Resolving raw.githubusercontent.com (raw.githubusercontent.com)... 185.199.111.133, 185.199.109.133, 185.199.108.133, ...\n",
      "Connecting to raw.githubusercontent.com (raw.githubusercontent.com)|185.199.111.133|:443... connected.\n",
      "HTTP request sent, awaiting response... 200 OK\n",
      "Length: 1725101 (1.6M) [text/plain]\n",
      "Saving to: ‘__mharrison__2020-2021.csv’\n",
      "\n",
      "__mharrison__2020-2 100%[===================>]   1.64M  --.-KB/s    in 0.05s   \n",
      "\n",
      "2023-04-19 21:10:37 (32.0 MB/s) - ‘__mharrison__2020-2021.csv’ saved [1725101/1725101]\n",
      "\n"
     ]
    }
   ],
   "source": [
    "## Downlaod the notebook \n",
    "!wget  https://github.com/mattharrison/datasets/raw/master/data/__mharrison__2020-2021.csv"
   ]
  },
  {
   "cell_type": "code",
   "execution_count": 25,
   "metadata": {},
   "outputs": [
    {
     "name": "stdout",
     "output_type": "stream",
     "text": [
      "total 2416\n",
      "-rw-rw-rw- 1 codespace root       738893 Apr 19 21:10 'Polars Intro.ipynb'\n",
      "-rw-rw-rw- 1 codespace root           20 Apr 19 20:59  README.md\n",
      "-rw-rw-rw- 1 codespace codespace 1725101 Apr 19 21:10  __mharrison__2020-2021.csv\n"
     ]
    }
   ],
   "source": [
    "!ls -l"
   ]
  },
  {
   "cell_type": "code",
   "execution_count": 5,
   "metadata": {},
   "outputs": [],
   "source": [
    "url = 'https://github.com/mattharrison/datasets/raw/master/data/__mharrison__2020-2021.csv'\n",
    "df = pl.read_csv(url) #, parse_dates=True)"
   ]
  },
  {
   "cell_type": "code",
   "execution_count": 6,
   "metadata": {
    "scrolled": true
   },
   "outputs": [
    {
     "data": {
      "text/html": [
       "<div><style>\n",
       ".dataframe > thead > tr > th,\n",
       ".dataframe > tbody > tr > td {\n",
       "  text-align: right;\n",
       "}\n",
       "</style>\n",
       "<small>shape: (5_791, 40)</small><table border=\"1\" class=\"dataframe\"><thead><tr><th>Tweet id</th><th>Tweet permalink</th><th>Tweet text</th><th>time</th><th>impressions</th><th>engagements</th><th>engagement rate</th><th>retweets</th><th>replies</th><th>likes</th><th>user profile clicks</th><th>url clicks</th><th>hashtag clicks</th><th>detail expands</th><th>permalink clicks</th><th>app opens</th><th>app installs</th><th>follows</th><th>email tweet</th><th>dial phone</th><th>media views</th><th>media engagements</th><th>promoted impressions</th><th>promoted engagements</th><th>promoted engagement rate</th><th>promoted retweets</th><th>promoted replies</th><th>promoted likes</th><th>promoted user profile clicks</th><th>promoted url clicks</th><th>promoted hashtag clicks</th><th>promoted detail expands</th><th>promoted permalink clicks</th><th>promoted app opens</th><th>promoted app installs</th><th>promoted follows</th><th>promoted email tweet</th><th>promoted dial phone</th><th>promoted media views</th><th>promoted media engagements</th></tr><tr><td>i64</td><td>str</td><td>str</td><td>str</td><td>f64</td><td>f64</td><td>f64</td><td>f64</td><td>f64</td><td>f64</td><td>f64</td><td>f64</td><td>f64</td><td>f64</td><td>f64</td><td>i64</td><td>i64</td><td>i64</td><td>i64</td><td>i64</td><td>i64</td><td>i64</td><td>str</td><td>str</td><td>str</td><td>str</td><td>str</td><td>str</td><td>str</td><td>str</td><td>str</td><td>str</td><td>str</td><td>str</td><td>str</td><td>str</td><td>str</td><td>str</td><td>str</td><td>str</td></tr></thead><tbody><tr><td>1212580517905780737</td><td>&quot;https://twitte…</td><td>&quot;Sounds like a …</td><td>&quot;2020-01-02 03:…</td><td>1465.0</td><td>7.0</td><td>0.004778</td><td>0.0</td><td>0.0</td><td>3.0</td><td>3.0</td><td>0.0</td><td>0.0</td><td>1.0</td><td>0.0</td><td>0</td><td>0</td><td>0</td><td>0</td><td>0</td><td>0</td><td>0</td><td>null</td><td>null</td><td>null</td><td>null</td><td>null</td><td>null</td><td>null</td><td>null</td><td>null</td><td>null</td><td>null</td><td>null</td><td>null</td><td>null</td><td>null</td><td>null</td><td>null</td><td>null</td></tr><tr><td>1212582494828036097</td><td>&quot;https://twitte…</td><td>&quot;@FogleBird Loo…</td><td>&quot;2020-01-02 03:…</td><td>154.0</td><td>3.0</td><td>0.019481</td><td>0.0</td><td>0.0</td><td>1.0</td><td>1.0</td><td>0.0</td><td>0.0</td><td>1.0</td><td>0.0</td><td>0</td><td>0</td><td>0</td><td>0</td><td>0</td><td>0</td><td>0</td><td>null</td><td>null</td><td>null</td><td>null</td><td>null</td><td>null</td><td>null</td><td>null</td><td>null</td><td>null</td><td>null</td><td>null</td><td>null</td><td>null</td><td>null</td><td>null</td><td>null</td><td>null</td></tr><tr><td>1212613735698690049</td><td>&quot;https://twitte…</td><td>&quot;@afilina That&#x27;…</td><td>&quot;2020-01-02 05:…</td><td>1024.0</td><td>6.0</td><td>0.005859</td><td>0.0</td><td>0.0</td><td>1.0</td><td>2.0</td><td>0.0</td><td>0.0</td><td>3.0</td><td>0.0</td><td>0</td><td>0</td><td>0</td><td>0</td><td>0</td><td>0</td><td>0</td><td>null</td><td>null</td><td>null</td><td>null</td><td>null</td><td>null</td><td>null</td><td>null</td><td>null</td><td>null</td><td>null</td><td>null</td><td>null</td><td>null</td><td>null</td><td>null</td><td>null</td><td>null</td></tr><tr><td>1212911749617242113</td><td>&quot;https://twitte…</td><td>&quot;@randal_olson …</td><td>&quot;2020-01-03 01:…</td><td>1419.0</td><td>14.0</td><td>0.009866</td><td>0.0</td><td>1.0</td><td>5.0</td><td>7.0</td><td>0.0</td><td>0.0</td><td>1.0</td><td>0.0</td><td>0</td><td>0</td><td>0</td><td>0</td><td>0</td><td>0</td><td>0</td><td>null</td><td>null</td><td>null</td><td>null</td><td>null</td><td>null</td><td>null</td><td>null</td><td>null</td><td>null</td><td>null</td><td>null</td><td>null</td><td>null</td><td>null</td><td>null</td><td>null</td><td>null</td></tr><tr><td>1212920556028252160</td><td>&quot;https://twitte…</td><td>&quot;@AlSweigart So…</td><td>&quot;2020-01-03 02:…</td><td>198.0</td><td>1.0</td><td>0.005051</td><td>0.0</td><td>0.0</td><td>1.0</td><td>0.0</td><td>0.0</td><td>0.0</td><td>0.0</td><td>0.0</td><td>0</td><td>0</td><td>0</td><td>0</td><td>0</td><td>0</td><td>0</td><td>null</td><td>null</td><td>null</td><td>null</td><td>null</td><td>null</td><td>null</td><td>null</td><td>null</td><td>null</td><td>null</td><td>null</td><td>null</td><td>null</td><td>null</td><td>null</td><td>null</td><td>null</td></tr><tr><td>1212921038356434947</td><td>&quot;https://twitte…</td><td>&quot;@tmarthal @Ted…</td><td>&quot;2020-01-03 02:…</td><td>170.0</td><td>3.0</td><td>0.017647</td><td>0.0</td><td>0.0</td><td>1.0</td><td>1.0</td><td>0.0</td><td>0.0</td><td>1.0</td><td>0.0</td><td>0</td><td>0</td><td>0</td><td>0</td><td>0</td><td>0</td><td>0</td><td>null</td><td>null</td><td>null</td><td>null</td><td>null</td><td>null</td><td>null</td><td>null</td><td>null</td><td>null</td><td>null</td><td>null</td><td>null</td><td>null</td><td>null</td><td>null</td><td>null</td><td>null</td></tr><tr><td>1212921192287330304</td><td>&quot;https://twitte…</td><td>&quot;@gabegundy It&#x27;…</td><td>&quot;2020-01-03 02:…</td><td>104.0</td><td>2.0</td><td>0.019231</td><td>0.0</td><td>1.0</td><td>1.0</td><td>0.0</td><td>0.0</td><td>0.0</td><td>0.0</td><td>0.0</td><td>0</td><td>0</td><td>0</td><td>0</td><td>0</td><td>0</td><td>0</td><td>null</td><td>null</td><td>null</td><td>null</td><td>null</td><td>null</td><td>null</td><td>null</td><td>null</td><td>null</td><td>null</td><td>null</td><td>null</td><td>null</td><td>null</td><td>null</td><td>null</td><td>null</td></tr><tr><td>1212969747186208768</td><td>&quot;https://twitte…</td><td>&quot;@anthonypjshaw…</td><td>&quot;2020-01-03 05:…</td><td>189.0</td><td>0.0</td><td>0.0</td><td>0.0</td><td>0.0</td><td>0.0</td><td>0.0</td><td>0.0</td><td>0.0</td><td>0.0</td><td>0.0</td><td>0</td><td>0</td><td>0</td><td>0</td><td>0</td><td>0</td><td>0</td><td>null</td><td>null</td><td>null</td><td>null</td><td>null</td><td>null</td><td>null</td><td>null</td><td>null</td><td>null</td><td>null</td><td>null</td><td>null</td><td>null</td><td>null</td><td>null</td><td>null</td><td>null</td></tr><tr><td>1212971634019033088</td><td>&quot;https://twitte…</td><td>&quot;@jet_set A lit…</td><td>&quot;2020-01-03 05:…</td><td>900.0</td><td>4.0</td><td>0.004444</td><td>0.0</td><td>0.0</td><td>0.0</td><td>4.0</td><td>0.0</td><td>0.0</td><td>0.0</td><td>0.0</td><td>0</td><td>0</td><td>0</td><td>0</td><td>0</td><td>0</td><td>0</td><td>null</td><td>null</td><td>null</td><td>null</td><td>null</td><td>null</td><td>null</td><td>null</td><td>null</td><td>null</td><td>null</td><td>null</td><td>null</td><td>null</td><td>null</td><td>null</td><td>null</td><td>null</td></tr><tr><td>1213194379793293312</td><td>&quot;https://twitte…</td><td>&quot;@juliasilge @r…</td><td>&quot;2020-01-03 20:…</td><td>252.0</td><td>2.0</td><td>0.007937</td><td>0.0</td><td>0.0</td><td>1.0</td><td>1.0</td><td>0.0</td><td>0.0</td><td>0.0</td><td>0.0</td><td>0</td><td>0</td><td>0</td><td>0</td><td>0</td><td>0</td><td>0</td><td>null</td><td>null</td><td>null</td><td>null</td><td>null</td><td>null</td><td>null</td><td>null</td><td>null</td><td>null</td><td>null</td><td>null</td><td>null</td><td>null</td><td>null</td><td>null</td><td>null</td><td>null</td></tr><tr><td>1213699561962631168</td><td>&quot;https://twitte…</td><td>&quot;Herein you wil…</td><td>&quot;2020-01-05 05:…</td><td>1610.0</td><td>6.0</td><td>0.003727</td><td>0.0</td><td>0.0</td><td>2.0</td><td>2.0</td><td>0.0</td><td>0.0</td><td>2.0</td><td>0.0</td><td>0</td><td>0</td><td>0</td><td>0</td><td>0</td><td>0</td><td>0</td><td>null</td><td>null</td><td>null</td><td>null</td><td>null</td><td>null</td><td>null</td><td>null</td><td>null</td><td>null</td><td>null</td><td>null</td><td>null</td><td>null</td><td>null</td><td>null</td><td>null</td><td>null</td></tr><tr><td>1213896543985516544</td><td>&quot;https://twitte…</td><td>&quot;@Austen Care t…</td><td>&quot;2020-01-05 18:…</td><td>165.0</td><td>3.0</td><td>0.018182</td><td>0.0</td><td>0.0</td><td>0.0</td><td>1.0</td><td>0.0</td><td>0.0</td><td>2.0</td><td>0.0</td><td>0</td><td>0</td><td>0</td><td>0</td><td>0</td><td>0</td><td>0</td><td>null</td><td>null</td><td>null</td><td>null</td><td>null</td><td>null</td><td>null</td><td>null</td><td>null</td><td>null</td><td>null</td><td>null</td><td>null</td><td>null</td><td>null</td><td>null</td><td>null</td><td>null</td></tr><tr><td>&hellip;</td><td>&hellip;</td><td>&hellip;</td><td>&hellip;</td><td>&hellip;</td><td>&hellip;</td><td>&hellip;</td><td>&hellip;</td><td>&hellip;</td><td>&hellip;</td><td>&hellip;</td><td>&hellip;</td><td>&hellip;</td><td>&hellip;</td><td>&hellip;</td><td>&hellip;</td><td>&hellip;</td><td>&hellip;</td><td>&hellip;</td><td>&hellip;</td><td>&hellip;</td><td>&hellip;</td><td>&hellip;</td><td>&hellip;</td><td>&hellip;</td><td>&hellip;</td><td>&hellip;</td><td>&hellip;</td><td>&hellip;</td><td>&hellip;</td><td>&hellip;</td><td>&hellip;</td><td>&hellip;</td><td>&hellip;</td><td>&hellip;</td><td>&hellip;</td><td>&hellip;</td><td>&hellip;</td><td>&hellip;</td><td>&hellip;</td></tr><tr><td>1474805013343981570</td><td>&quot;https://twitte…</td><td>&quot;@EricSchles @s…</td><td>&quot;2021-12-25 18:…</td><td>416.0</td><td>3.0</td><td>0.007212</td><td>0.0</td><td>0.0</td><td>2.0</td><td>1.0</td><td>0.0</td><td>0.0</td><td>0.0</td><td>0.0</td><td>0</td><td>0</td><td>0</td><td>0</td><td>0</td><td>0</td><td>0</td><td>null</td><td>null</td><td>null</td><td>null</td><td>null</td><td>null</td><td>null</td><td>null</td><td>null</td><td>null</td><td>null</td><td>null</td><td>null</td><td>null</td><td>null</td><td>null</td><td>null</td><td>null</td></tr><tr><td>1474820707234185217</td><td>&quot;https://twitte…</td><td>&quot;Mele kalikimak…</td><td>&quot;2021-12-25 19:…</td><td>15840.0</td><td>372.0</td><td>0.023485</td><td>0.0</td><td>2.0</td><td>61.0</td><td>59.0</td><td>6.0</td><td>0.0</td><td>66.0</td><td>0.0</td><td>0</td><td>0</td><td>0</td><td>0</td><td>0</td><td>178</td><td>178</td><td>null</td><td>null</td><td>null</td><td>null</td><td>null</td><td>null</td><td>null</td><td>null</td><td>null</td><td>null</td><td>null</td><td>null</td><td>null</td><td>null</td><td>null</td><td>null</td><td>null</td><td>null</td></tr><tr><td>1475023008620154882</td><td>&quot;https://twitte…</td><td>&quot;Good looking c…</td><td>&quot;2021-12-26 08:…</td><td>22557.0</td><td>501.0</td><td>0.02221</td><td>0.0</td><td>9.0</td><td>50.0</td><td>89.0</td><td>14.0</td><td>0.0</td><td>118.0</td><td>0.0</td><td>0</td><td>0</td><td>0</td><td>0</td><td>0</td><td>221</td><td>221</td><td>null</td><td>null</td><td>null</td><td>null</td><td>null</td><td>null</td><td>null</td><td>null</td><td>null</td><td>null</td><td>null</td><td>null</td><td>null</td><td>null</td><td>null</td><td>null</td><td>null</td><td>null</td></tr><tr><td>1475299210291343362</td><td>&quot;https://twitte…</td><td>&quot;@youtah A litt…</td><td>&quot;2021-12-27 02:…</td><td>1586.0</td><td>35.0</td><td>0.022068</td><td>0.0</td><td>0.0</td><td>2.0</td><td>1.0</td><td>1.0</td><td>0.0</td><td>0.0</td><td>0.0</td><td>0</td><td>0</td><td>0</td><td>0</td><td>0</td><td>31</td><td>31</td><td>null</td><td>null</td><td>null</td><td>null</td><td>null</td><td>null</td><td>null</td><td>null</td><td>null</td><td>null</td><td>null</td><td>null</td><td>null</td><td>null</td><td>null</td><td>null</td><td>null</td><td>null</td></tr><tr><td>1475299401681682434</td><td>&quot;https://twitte…</td><td>&quot;@mathsppblog S…</td><td>&quot;2021-12-27 02:…</td><td>4641.0</td><td>35.0</td><td>0.007541</td><td>0.0</td><td>4.0</td><td>11.0</td><td>10.0</td><td>0.0</td><td>0.0</td><td>10.0</td><td>0.0</td><td>0</td><td>0</td><td>0</td><td>0</td><td>0</td><td>0</td><td>0</td><td>null</td><td>null</td><td>null</td><td>null</td><td>null</td><td>null</td><td>null</td><td>null</td><td>null</td><td>null</td><td>null</td><td>null</td><td>null</td><td>null</td><td>null</td><td>null</td><td>null</td><td>null</td></tr><tr><td>1475299848093978626</td><td>&quot;https://twitte…</td><td>&quot;@willmcgugan P…</td><td>&quot;2021-12-27 02:…</td><td>1969.0</td><td>4.0</td><td>0.002031</td><td>0.0</td><td>0.0</td><td>4.0</td><td>0.0</td><td>0.0</td><td>0.0</td><td>0.0</td><td>0.0</td><td>0</td><td>0</td><td>0</td><td>0</td><td>0</td><td>0</td><td>0</td><td>null</td><td>null</td><td>null</td><td>null</td><td>null</td><td>null</td><td>null</td><td>null</td><td>null</td><td>null</td><td>null</td><td>null</td><td>null</td><td>null</td><td>null</td><td>null</td><td>null</td><td>null</td></tr><tr><td>1475300370138087426</td><td>&quot;https://twitte…</td><td>&quot;@reuvenmlerner…</td><td>&quot;2021-12-27 02:…</td><td>1669.0</td><td>5.0</td><td>0.002996</td><td>0.0</td><td>0.0</td><td>3.0</td><td>0.0</td><td>0.0</td><td>0.0</td><td>2.0</td><td>0.0</td><td>0</td><td>0</td><td>0</td><td>0</td><td>0</td><td>0</td><td>0</td><td>null</td><td>null</td><td>null</td><td>null</td><td>null</td><td>null</td><td>null</td><td>null</td><td>null</td><td>null</td><td>null</td><td>null</td><td>null</td><td>null</td><td>null</td><td>null</td><td>null</td><td>null</td></tr><tr><td>1475300661851934721</td><td>&quot;https://twitte…</td><td>&quot;@allison_horst…</td><td>&quot;2021-12-27 03:…</td><td>986.0</td><td>1.0</td><td>0.001014</td><td>0.0</td><td>0.0</td><td>0.0</td><td>0.0</td><td>0.0</td><td>0.0</td><td>1.0</td><td>0.0</td><td>0</td><td>0</td><td>0</td><td>0</td><td>0</td><td>0</td><td>0</td><td>null</td><td>null</td><td>null</td><td>null</td><td>null</td><td>null</td><td>null</td><td>null</td><td>null</td><td>null</td><td>null</td><td>null</td><td>null</td><td>null</td><td>null</td><td>null</td><td>null</td><td>null</td></tr><tr><td>1475518143690801156</td><td>&quot;https://twitte…</td><td>&quot;@willmcgugan Y…</td><td>&quot;2021-12-27 17:…</td><td>1790.0</td><td>7.0</td><td>0.003911</td><td>0.0</td><td>0.0</td><td>3.0</td><td>1.0</td><td>0.0</td><td>0.0</td><td>3.0</td><td>0.0</td><td>0</td><td>0</td><td>0</td><td>0</td><td>0</td><td>0</td><td>0</td><td>null</td><td>null</td><td>null</td><td>null</td><td>null</td><td>null</td><td>null</td><td>null</td><td>null</td><td>null</td><td>null</td><td>null</td><td>null</td><td>null</td><td>null</td><td>null</td><td>null</td><td>null</td></tr><tr><td>1475891441243025408</td><td>&quot;https://twitte…</td><td>&quot;@posco Visitin…</td><td>&quot;2021-12-28 18:…</td><td>1611.0</td><td>12.0</td><td>0.007449</td><td>0.0</td><td>0.0</td><td>4.0</td><td>4.0</td><td>0.0</td><td>0.0</td><td>4.0</td><td>0.0</td><td>0</td><td>0</td><td>0</td><td>0</td><td>0</td><td>0</td><td>0</td><td>null</td><td>null</td><td>null</td><td>null</td><td>null</td><td>null</td><td>null</td><td>null</td><td>null</td><td>null</td><td>null</td><td>null</td><td>null</td><td>null</td><td>null</td><td>null</td><td>null</td><td>null</td></tr><tr><td>1476453819751878656</td><td>&quot;https://twitte…</td><td>&quot;@johndsaunders…</td><td>&quot;2021-12-30 07:…</td><td>1354.0</td><td>8.0</td><td>0.005908</td><td>0.0</td><td>0.0</td><td>2.0</td><td>4.0</td><td>0.0</td><td>0.0</td><td>2.0</td><td>0.0</td><td>0</td><td>0</td><td>0</td><td>0</td><td>0</td><td>0</td><td>0</td><td>null</td><td>null</td><td>null</td><td>null</td><td>null</td><td>null</td><td>null</td><td>null</td><td>null</td><td>null</td><td>null</td><td>null</td><td>null</td><td>null</td><td>null</td><td>null</td><td>null</td><td>null</td></tr><tr><td>1477024722051158018</td><td>&quot;https://twitte…</td><td>&quot;@tunguz Xgboos…</td><td>&quot;2021-12-31 21:…</td><td>5041.0</td><td>63.0</td><td>0.012498</td><td>0.0</td><td>3.0</td><td>23.0</td><td>8.0</td><td>0.0</td><td>0.0</td><td>29.0</td><td>0.0</td><td>0</td><td>0</td><td>0</td><td>0</td><td>0</td><td>0</td><td>0</td><td>null</td><td>null</td><td>null</td><td>null</td><td>null</td><td>null</td><td>null</td><td>null</td><td>null</td><td>null</td><td>null</td><td>null</td><td>null</td><td>null</td><td>null</td><td>null</td><td>null</td><td>null</td></tr></tbody></table></div>"
      ],
      "text/plain": [
       "shape: (5_791, 40)\n",
       "┌─────────────────────┬───────────────────────────────────┬───────────────────────────────────┬───────────────────────────┬───┬──────────────────────┬─────────────────────┬──────────────────────┬────────────────────────────┐\n",
       "│ Tweet id            ┆ Tweet permalink                   ┆ Tweet text                        ┆ time                      ┆ … ┆ promoted email tweet ┆ promoted dial phone ┆ promoted media views ┆ promoted media engagements │\n",
       "│ ---                 ┆ ---                               ┆ ---                               ┆ ---                       ┆   ┆ ---                  ┆ ---                 ┆ ---                  ┆ ---                        │\n",
       "│ i64                 ┆ str                               ┆ str                               ┆ str                       ┆   ┆ str                  ┆ str                 ┆ str                  ┆ str                        │\n",
       "╞═════════════════════╪═══════════════════════════════════╪═══════════════════════════════════╪═══════════════════════════╪═══╪══════════════════════╪═════════════════════╪══════════════════════╪════════════════════════════╡\n",
       "│ 1212580517905780737 ┆ https://twitter.com/__mharrison_… ┆ Sounds like a great topic! https… ┆ 2020-01-02 03:44:00+00:00 ┆ … ┆ null                 ┆ null                ┆ null                 ┆ null                       │\n",
       "│ 1212582494828036097 ┆ https://twitter.com/__mharrison_… ┆ @FogleBird Looks like SLC. I can… ┆ 2020-01-02 03:52:00+00:00 ┆ … ┆ null                 ┆ null                ┆ null                 ┆ null                       │\n",
       "│ 1212613735698690049 ┆ https://twitter.com/__mharrison_… ┆ @afilina That's really amount an… ┆ 2020-01-02 05:56:00+00:00 ┆ … ┆ null                 ┆ null                ┆ null                 ┆ null                       │\n",
       "│ 1212911749617242113 ┆ https://twitter.com/__mharrison_… ┆ @randal_olson I use anaconda whe… ┆ 2020-01-03 01:41:00+00:00 ┆ … ┆ null                 ┆ null                ┆ null                 ┆ null                       │\n",
       "│ …                   ┆ …                                 ┆ …                                 ┆ …                         ┆ … ┆ …                    ┆ …                   ┆ …                    ┆ …                          │\n",
       "│ 1475518143690801156 ┆ https://twitter.com/__mharrison_… ┆ @willmcgugan You need to find ou… ┆ 2021-12-27 17:25:00+00:00 ┆ … ┆ null                 ┆ null                ┆ null                 ┆ null                       │\n",
       "│ 1475891441243025408 ┆ https://twitter.com/__mharrison_… ┆ @posco Visiting Hawaii for the h… ┆ 2021-12-28 18:08:00+00:00 ┆ … ┆ null                 ┆ null                ┆ null                 ┆ null                       │\n",
       "│ 1476453819751878656 ┆ https://twitter.com/__mharrison_… ┆ @johndsaunders My son just built… ┆ 2021-12-30 07:23:00+00:00 ┆ … ┆ null                 ┆ null                ┆ null                 ┆ null                       │\n",
       "│ 1477024722051158018 ┆ https://twitter.com/__mharrison_… ┆ @tunguz Xgboost                   ┆ 2021-12-31 21:11:00+00:00 ┆ … ┆ null                 ┆ null                ┆ null                 ┆ null                       │\n",
       "└─────────────────────┴───────────────────────────────────┴───────────────────────────────────┴───────────────────────────┴───┴──────────────────────┴─────────────────────┴──────────────────────┴────────────────────────────┘"
      ]
     },
     "execution_count": 6,
     "metadata": {},
     "output_type": "execute_result"
    }
   ],
   "source": [
    "df"
   ]
  },
  {
   "cell_type": "code",
   "execution_count": 11,
   "metadata": {},
   "outputs": [
    {
     "data": {
      "text/html": [
       "<div><style>\n",
       ".dataframe > thead > tr > th,\n",
       ".dataframe > tbody > tr > td {\n",
       "  text-align: right;\n",
       "}\n",
       "</style>\n",
       "<small>shape: (5, 40)</small><table border=\"1\" class=\"dataframe\"><thead><tr><th>Tweet id</th><th>Tweet permalink</th><th>Tweet text</th><th>time</th><th>impressions</th><th>engagements</th><th>engagement rate</th><th>retweets</th><th>replies</th><th>likes</th><th>user profile clicks</th><th>url clicks</th><th>hashtag clicks</th><th>detail expands</th><th>permalink clicks</th><th>app opens</th><th>app installs</th><th>follows</th><th>email tweet</th><th>dial phone</th><th>media views</th><th>media engagements</th><th>promoted impressions</th><th>promoted engagements</th><th>promoted engagement rate</th><th>promoted retweets</th><th>promoted replies</th><th>promoted likes</th><th>promoted user profile clicks</th><th>promoted url clicks</th><th>promoted hashtag clicks</th><th>promoted detail expands</th><th>promoted permalink clicks</th><th>promoted app opens</th><th>promoted app installs</th><th>promoted follows</th><th>promoted email tweet</th><th>promoted dial phone</th><th>promoted media views</th><th>promoted media engagements</th></tr><tr><td>i64</td><td>str</td><td>str</td><td>str</td><td>f64</td><td>f64</td><td>f64</td><td>f64</td><td>f64</td><td>f64</td><td>f64</td><td>f64</td><td>f64</td><td>f64</td><td>f64</td><td>i64</td><td>i64</td><td>i64</td><td>i64</td><td>i64</td><td>i64</td><td>i64</td><td>str</td><td>str</td><td>str</td><td>str</td><td>str</td><td>str</td><td>str</td><td>str</td><td>str</td><td>str</td><td>str</td><td>str</td><td>str</td><td>str</td><td>str</td><td>str</td><td>str</td><td>str</td></tr></thead><tbody><tr><td>1212580517905780737</td><td>&quot;https://twitte…</td><td>&quot;Sounds like a …</td><td>&quot;2020-01-02 03:…</td><td>1465.0</td><td>7.0</td><td>0.004778</td><td>0.0</td><td>0.0</td><td>3.0</td><td>3.0</td><td>0.0</td><td>0.0</td><td>1.0</td><td>0.0</td><td>0</td><td>0</td><td>0</td><td>0</td><td>0</td><td>0</td><td>0</td><td>null</td><td>null</td><td>null</td><td>null</td><td>null</td><td>null</td><td>null</td><td>null</td><td>null</td><td>null</td><td>null</td><td>null</td><td>null</td><td>null</td><td>null</td><td>null</td><td>null</td><td>null</td></tr><tr><td>1212582494828036097</td><td>&quot;https://twitte…</td><td>&quot;@FogleBird Loo…</td><td>&quot;2020-01-02 03:…</td><td>154.0</td><td>3.0</td><td>0.019481</td><td>0.0</td><td>0.0</td><td>1.0</td><td>1.0</td><td>0.0</td><td>0.0</td><td>1.0</td><td>0.0</td><td>0</td><td>0</td><td>0</td><td>0</td><td>0</td><td>0</td><td>0</td><td>null</td><td>null</td><td>null</td><td>null</td><td>null</td><td>null</td><td>null</td><td>null</td><td>null</td><td>null</td><td>null</td><td>null</td><td>null</td><td>null</td><td>null</td><td>null</td><td>null</td><td>null</td></tr><tr><td>1212613735698690049</td><td>&quot;https://twitte…</td><td>&quot;@afilina That&#x27;…</td><td>&quot;2020-01-02 05:…</td><td>1024.0</td><td>6.0</td><td>0.005859</td><td>0.0</td><td>0.0</td><td>1.0</td><td>2.0</td><td>0.0</td><td>0.0</td><td>3.0</td><td>0.0</td><td>0</td><td>0</td><td>0</td><td>0</td><td>0</td><td>0</td><td>0</td><td>null</td><td>null</td><td>null</td><td>null</td><td>null</td><td>null</td><td>null</td><td>null</td><td>null</td><td>null</td><td>null</td><td>null</td><td>null</td><td>null</td><td>null</td><td>null</td><td>null</td><td>null</td></tr><tr><td>1212911749617242113</td><td>&quot;https://twitte…</td><td>&quot;@randal_olson …</td><td>&quot;2020-01-03 01:…</td><td>1419.0</td><td>14.0</td><td>0.009866</td><td>0.0</td><td>1.0</td><td>5.0</td><td>7.0</td><td>0.0</td><td>0.0</td><td>1.0</td><td>0.0</td><td>0</td><td>0</td><td>0</td><td>0</td><td>0</td><td>0</td><td>0</td><td>null</td><td>null</td><td>null</td><td>null</td><td>null</td><td>null</td><td>null</td><td>null</td><td>null</td><td>null</td><td>null</td><td>null</td><td>null</td><td>null</td><td>null</td><td>null</td><td>null</td><td>null</td></tr><tr><td>1212920556028252160</td><td>&quot;https://twitte…</td><td>&quot;@AlSweigart So…</td><td>&quot;2020-01-03 02:…</td><td>198.0</td><td>1.0</td><td>0.005051</td><td>0.0</td><td>0.0</td><td>1.0</td><td>0.0</td><td>0.0</td><td>0.0</td><td>0.0</td><td>0.0</td><td>0</td><td>0</td><td>0</td><td>0</td><td>0</td><td>0</td><td>0</td><td>null</td><td>null</td><td>null</td><td>null</td><td>null</td><td>null</td><td>null</td><td>null</td><td>null</td><td>null</td><td>null</td><td>null</td><td>null</td><td>null</td><td>null</td><td>null</td><td>null</td><td>null</td></tr></tbody></table></div>"
      ],
      "text/plain": [
       "shape: (5, 40)\n",
       "┌──────────────┬──────────────┬──────────────┬─────────────┬───┬─────────────┬─────────────┬─────────────┬─────────────┐\n",
       "│ Tweet id     ┆ Tweet        ┆ Tweet text   ┆ time        ┆ … ┆ promoted    ┆ promoted    ┆ promoted    ┆ promoted    │\n",
       "│ ---          ┆ permalink    ┆ ---          ┆ ---         ┆   ┆ email tweet ┆ dial phone  ┆ media views ┆ media       │\n",
       "│ i64          ┆ ---          ┆ str          ┆ str         ┆   ┆ ---         ┆ ---         ┆ ---         ┆ engagements │\n",
       "│              ┆ str          ┆              ┆             ┆   ┆ str         ┆ str         ┆ str         ┆ ---         │\n",
       "│              ┆              ┆              ┆             ┆   ┆             ┆             ┆             ┆ str         │\n",
       "╞══════════════╪══════════════╪══════════════╪═════════════╪═══╪═════════════╪═════════════╪═════════════╪═════════════╡\n",
       "│ 121258051790 ┆ https://twit ┆ Sounds like  ┆ 2020-01-02  ┆ … ┆ null        ┆ null        ┆ null        ┆ null        │\n",
       "│ 5780737      ┆ ter.com/__mh ┆ a great      ┆ 03:44:00+00 ┆   ┆             ┆             ┆             ┆             │\n",
       "│              ┆ arrison_…    ┆ topic!       ┆ :00         ┆   ┆             ┆             ┆             ┆             │\n",
       "│              ┆              ┆ https…       ┆             ┆   ┆             ┆             ┆             ┆             │\n",
       "│ 121258249482 ┆ https://twit ┆ @FogleBird   ┆ 2020-01-02  ┆ … ┆ null        ┆ null        ┆ null        ┆ null        │\n",
       "│ 8036097      ┆ ter.com/__mh ┆ Looks like   ┆ 03:52:00+00 ┆   ┆             ┆             ┆             ┆             │\n",
       "│              ┆ arrison_…    ┆ SLC. I can…  ┆ :00         ┆   ┆             ┆             ┆             ┆             │\n",
       "│ 121261373569 ┆ https://twit ┆ @afilina     ┆ 2020-01-02  ┆ … ┆ null        ┆ null        ┆ null        ┆ null        │\n",
       "│ 8690049      ┆ ter.com/__mh ┆ That's       ┆ 05:56:00+00 ┆   ┆             ┆             ┆             ┆             │\n",
       "│              ┆ arrison_…    ┆ really       ┆ :00         ┆   ┆             ┆             ┆             ┆             │\n",
       "│              ┆              ┆ amount an…   ┆             ┆   ┆             ┆             ┆             ┆             │\n",
       "│ 121291174961 ┆ https://twit ┆ @randal_olso ┆ 2020-01-03  ┆ … ┆ null        ┆ null        ┆ null        ┆ null        │\n",
       "│ 7242113      ┆ ter.com/__mh ┆ n I use      ┆ 01:41:00+00 ┆   ┆             ┆             ┆             ┆             │\n",
       "│              ┆ arrison_…    ┆ anaconda     ┆ :00         ┆   ┆             ┆             ┆             ┆             │\n",
       "│              ┆              ┆ whe…         ┆             ┆   ┆             ┆             ┆             ┆             │\n",
       "│ 121292055602 ┆ https://twit ┆ @AlSweigart  ┆ 2020-01-03  ┆ … ┆ null        ┆ null        ┆ null        ┆ null        │\n",
       "│ 8252160      ┆ ter.com/__mh ┆ Sometimes    ┆ 02:16:00+00 ┆   ┆             ┆             ┆             ┆             │\n",
       "│              ┆ arrison_…    ┆ the studen…  ┆ :00         ┆   ┆             ┆             ┆             ┆             │\n",
       "└──────────────┴──────────────┴──────────────┴─────────────┴───┴─────────────┴─────────────┴─────────────┴─────────────┘"
      ]
     },
     "execution_count": 11,
     "metadata": {},
     "output_type": "execute_result"
    }
   ],
   "source": [
    "df.head()"
   ]
  },
  {
   "cell_type": "markdown",
   "metadata": {},
   "source": [
    "## Dates Exercise\n",
    "* Create a series with the months of the *time* column\n",
    "* Convert the *time* column to UTC\n",
    "* Convert the *time* column to `America/New_York`"
   ]
  },
  {
   "cell_type": "code",
   "execution_count": 45,
   "metadata": {},
   "outputs": [
    {
     "data": {
      "text/html": [
       "<div><style>\n",
       ".dataframe > thead > tr > th,\n",
       ".dataframe > tbody > tr > td {\n",
       "  text-align: right;\n",
       "}\n",
       "</style>\n",
       "<small>shape: (5_791,)</small><table border=\"1\" class=\"dataframe\"><thead><tr><th>time</th></tr><tr><td>datetime[μs, America/New_York]</td></tr></thead><tbody><tr><td>2020-01-01 22:44:00 EST</td></tr><tr><td>2020-01-01 22:52:00 EST</td></tr><tr><td>2020-01-02 00:56:00 EST</td></tr><tr><td>2020-01-02 20:41:00 EST</td></tr><tr><td>2020-01-02 21:16:00 EST</td></tr><tr><td>2020-01-02 21:18:00 EST</td></tr><tr><td>2020-01-02 21:18:00 EST</td></tr><tr><td>2020-01-03 00:31:00 EST</td></tr><tr><td>2020-01-03 00:39:00 EST</td></tr><tr><td>2020-01-03 15:24:00 EST</td></tr><tr><td>2020-01-05 00:51:00 EST</td></tr><tr><td>2020-01-05 13:54:00 EST</td></tr><tr><td>&hellip;</td></tr><tr><td>2021-12-25 13:11:00 EST</td></tr><tr><td>2021-12-25 14:13:00 EST</td></tr><tr><td>2021-12-26 03:37:00 EST</td></tr><tr><td>2021-12-26 21:55:00 EST</td></tr><tr><td>2021-12-26 21:56:00 EST</td></tr><tr><td>2021-12-26 21:57:00 EST</td></tr><tr><td>2021-12-26 21:59:00 EST</td></tr><tr><td>2021-12-26 22:01:00 EST</td></tr><tr><td>2021-12-27 12:25:00 EST</td></tr><tr><td>2021-12-28 13:08:00 EST</td></tr><tr><td>2021-12-30 02:23:00 EST</td></tr><tr><td>2021-12-31 16:11:00 EST</td></tr></tbody></table></div>"
      ],
      "text/plain": [
       "shape: (5_791,)\n",
       "Series: 'time' [datetime[μs, America/New_York]]\n",
       "[\n",
       "\t2020-01-01 22:44:00 EST\n",
       "\t2020-01-01 22:52:00 EST\n",
       "\t2020-01-02 00:56:00 EST\n",
       "\t2020-01-02 20:41:00 EST\n",
       "\t2020-01-02 21:16:00 EST\n",
       "\t2020-01-02 21:18:00 EST\n",
       "\t2020-01-02 21:18:00 EST\n",
       "\t2020-01-03 00:31:00 EST\n",
       "\t2020-01-03 00:39:00 EST\n",
       "\t2020-01-03 15:24:00 EST\n",
       "\t2020-01-05 00:51:00 EST\n",
       "\t2020-01-05 13:54:00 EST\n",
       "\t…\n",
       "\t2021-12-25 09:14:00 EST\n",
       "\t2021-12-25 13:11:00 EST\n",
       "\t2021-12-25 14:13:00 EST\n",
       "\t2021-12-26 03:37:00 EST\n",
       "\t2021-12-26 21:55:00 EST\n",
       "\t2021-12-26 21:56:00 EST\n",
       "\t2021-12-26 21:57:00 EST\n",
       "\t2021-12-26 21:59:00 EST\n",
       "\t2021-12-26 22:01:00 EST\n",
       "\t2021-12-27 12:25:00 EST\n",
       "\t2021-12-28 13:08:00 EST\n",
       "\t2021-12-30 02:23:00 EST\n",
       "\t2021-12-31 16:11:00 EST\n",
       "]"
      ]
     },
     "execution_count": 45,
     "metadata": {},
     "output_type": "execute_result"
    }
   ],
   "source": [
    "# let's change timezone\n",
    "df2['time'].dt.replace_time_zone('UTC').dt.convert_time_zone('America/New_York')"
   ]
  },
  {
   "cell_type": "code",
   "execution_count": 50,
   "metadata": {},
   "outputs": [
    {
     "ename": "SchemaError",
     "evalue": "invalid series dtype: expected `Utf8`, got `datetime[μs]`",
     "output_type": "error",
     "traceback": [
      "\u001b[1;31m---------------------------------------------------------------------------\u001b[0m",
      "\u001b[1;31mSchemaError\u001b[0m                               Traceback (most recent call last)",
      "\u001b[1;32m~\\AppData\\Local\\Temp/ipykernel_20108/2501954853.py\u001b[0m in \u001b[0;36m<module>\u001b[1;34m\u001b[0m\n\u001b[1;32m----> 1\u001b[1;33m (df2\n\u001b[0m\u001b[0;32m      2\u001b[0m      .with_columns([\n\u001b[0;32m      3\u001b[0m \u001b[1;33m\u001b[0m\u001b[0m\n\u001b[0;32m      4\u001b[0m          \u001b[0mpl\u001b[0m\u001b[1;33m.\u001b[0m\u001b[0mcol\u001b[0m\u001b[1;33m(\u001b[0m\u001b[1;34m'time'\u001b[0m\u001b[1;33m)\u001b[0m\u001b[1;33m.\u001b[0m\u001b[0mstr\u001b[0m\u001b[1;33m.\u001b[0m\u001b[0msplit\u001b[0m\u001b[1;33m(\u001b[0m\u001b[1;34m'+'\u001b[0m\u001b[1;33m)\u001b[0m\u001b[1;33m.\u001b[0m\u001b[0mlist\u001b[0m\u001b[1;33m.\u001b[0m\u001b[0mget\u001b[0m\u001b[1;33m(\u001b[0m\u001b[1;36m0\u001b[0m\u001b[1;33m)\u001b[0m\u001b[1;33m\u001b[0m\u001b[1;33m\u001b[0m\u001b[0m\n\u001b[0;32m      5\u001b[0m             \u001b[1;33m.\u001b[0m\u001b[0mstr\u001b[0m\u001b[1;33m.\u001b[0m\u001b[0mstrptime\u001b[0m\u001b[1;33m(\u001b[0m\u001b[0mpl\u001b[0m\u001b[1;33m.\u001b[0m\u001b[0mDatetime\u001b[0m\u001b[1;33m,\u001b[0m \u001b[1;34m'%Y-%m-%d %H:%M:%S'\u001b[0m\u001b[1;33m)\u001b[0m\u001b[1;33m,\u001b[0m\u001b[1;33m\u001b[0m\u001b[1;33m\u001b[0m\u001b[0m\n",
      "\u001b[1;32m~\\anaconda3\\lib\\site-packages\\polars\\dataframe\\frame.py\u001b[0m in \u001b[0;36mwith_columns\u001b[1;34m(self, *exprs, **named_exprs)\u001b[0m\n\u001b[0;32m   7588\u001b[0m         \"\"\"\n\u001b[0;32m   7589\u001b[0m         return (\n\u001b[1;32m-> 7590\u001b[1;33m             \u001b[0mself\u001b[0m\u001b[1;33m.\u001b[0m\u001b[0mlazy\u001b[0m\u001b[1;33m(\u001b[0m\u001b[1;33m)\u001b[0m\u001b[1;33m\u001b[0m\u001b[1;33m\u001b[0m\u001b[0m\n\u001b[0m\u001b[0;32m   7591\u001b[0m             \u001b[1;33m.\u001b[0m\u001b[0mwith_columns\u001b[0m\u001b[1;33m(\u001b[0m\u001b[1;33m*\u001b[0m\u001b[0mexprs\u001b[0m\u001b[1;33m,\u001b[0m \u001b[1;33m**\u001b[0m\u001b[0mnamed_exprs\u001b[0m\u001b[1;33m)\u001b[0m\u001b[1;33m\u001b[0m\u001b[1;33m\u001b[0m\u001b[0m\n\u001b[0;32m   7592\u001b[0m             \u001b[1;33m.\u001b[0m\u001b[0mcollect\u001b[0m\u001b[1;33m(\u001b[0m\u001b[0mno_optimization\u001b[0m\u001b[1;33m=\u001b[0m\u001b[1;32mTrue\u001b[0m\u001b[1;33m)\u001b[0m\u001b[1;33m\u001b[0m\u001b[1;33m\u001b[0m\u001b[0m\n",
      "\u001b[1;32m~\\anaconda3\\lib\\site-packages\\polars\\utils\\deprecation.py\u001b[0m in \u001b[0;36mwrapper\u001b[1;34m(*args, **kwargs)\u001b[0m\n\u001b[0;32m     91\u001b[0m                 \u001b[0mold_name\u001b[0m\u001b[1;33m,\u001b[0m \u001b[0mnew_name\u001b[0m\u001b[1;33m,\u001b[0m \u001b[0mkwargs\u001b[0m\u001b[1;33m,\u001b[0m \u001b[0mfunction\u001b[0m\u001b[1;33m.\u001b[0m\u001b[0m__name__\u001b[0m\u001b[1;33m,\u001b[0m \u001b[0mversion\u001b[0m\u001b[1;33m\u001b[0m\u001b[1;33m\u001b[0m\u001b[0m\n\u001b[0;32m     92\u001b[0m             )\n\u001b[1;32m---> 93\u001b[1;33m             \u001b[1;32mreturn\u001b[0m \u001b[0mfunction\u001b[0m\u001b[1;33m(\u001b[0m\u001b[1;33m*\u001b[0m\u001b[0margs\u001b[0m\u001b[1;33m,\u001b[0m \u001b[1;33m**\u001b[0m\u001b[0mkwargs\u001b[0m\u001b[1;33m)\u001b[0m\u001b[1;33m\u001b[0m\u001b[1;33m\u001b[0m\u001b[0m\n\u001b[0m\u001b[0;32m     94\u001b[0m \u001b[1;33m\u001b[0m\u001b[0m\n\u001b[0;32m     95\u001b[0m         \u001b[1;32mreturn\u001b[0m \u001b[0mwrapper\u001b[0m\u001b[1;33m\u001b[0m\u001b[1;33m\u001b[0m\u001b[0m\n",
      "\u001b[1;32m~\\anaconda3\\lib\\site-packages\\polars\\lazyframe\\frame.py\u001b[0m in \u001b[0;36mcollect\u001b[1;34m(self, type_coercion, predicate_pushdown, projection_pushdown, simplify_expression, no_optimization, slice_pushdown, comm_subplan_elim, comm_subexpr_elim, streaming)\u001b[0m\n\u001b[0;32m   1687\u001b[0m             \u001b[0mstreaming\u001b[0m\u001b[1;33m,\u001b[0m\u001b[1;33m\u001b[0m\u001b[1;33m\u001b[0m\u001b[0m\n\u001b[0;32m   1688\u001b[0m         )\n\u001b[1;32m-> 1689\u001b[1;33m         \u001b[1;32mreturn\u001b[0m \u001b[0mwrap_df\u001b[0m\u001b[1;33m(\u001b[0m\u001b[0mldf\u001b[0m\u001b[1;33m.\u001b[0m\u001b[0mcollect\u001b[0m\u001b[1;33m(\u001b[0m\u001b[1;33m)\u001b[0m\u001b[1;33m)\u001b[0m\u001b[1;33m\u001b[0m\u001b[1;33m\u001b[0m\u001b[0m\n\u001b[0m\u001b[0;32m   1690\u001b[0m \u001b[1;33m\u001b[0m\u001b[0m\n\u001b[0;32m   1691\u001b[0m     def sink_parquet(\n",
      "\u001b[1;31mSchemaError\u001b[0m: invalid series dtype: expected `Utf8`, got `datetime[μs]`"
     ]
    }
   ],
   "source": [
    "(df2\n",
    "     .with_columns([\n",
    "         \n",
    "         pl.col('time').str.split('+').list.get(0)\n",
    "            .str.strptime(pl.Datetime, '%Y-%m-%d %H:%M:%S'),\n",
    "            pl.col('time').dt.replace_time_zone('UTC').dt.convert_time_zone('America/Denver').alias('Denver_time'),\n",
    "     ])\n",
    ")\n"
   ]
  },
  {
   "cell_type": "code",
   "execution_count": null,
   "metadata": {},
   "outputs": [],
   "source": []
  },
  {
   "cell_type": "markdown",
   "metadata": {},
   "source": [
    "## Function"
   ]
  },
  {
   "cell_type": "code",
   "execution_count": 121,
   "metadata": {
    "lines_to_next_cell": 0,
    "scrolled": true
   },
   "outputs": [
    {
     "data": {
      "text/html": [
       "<div><style>\n",
       ".dataframe > thead > tr > th,\n",
       ".dataframe > tbody > tr > td {\n",
       "  text-align: right;\n",
       "}\n",
       "</style>\n",
       "<small>shape: (5791, 22)</small><table border=\"1\" class=\"dataframe\"><thead><tr><th>tweet_id</th><th>tweet_permalink</th><th>tweet_text</th><th>time</th><th>impressions</th><th>engagements</th><th>engagement_rate</th><th>retweets</th><th>replies</th><th>likes</th><th>user_profile_clicks</th><th>url_clicks</th><th>hashtag_clicks</th><th>detail_expands</th><th>permalink_clicks</th><th>app_opens</th><th>app_installs</th><th>follows</th><th>email_tweet</th><th>dial_phone</th><th>media_views</th><th>media_engagements</th></tr><tr><td>i64</td><td>str</td><td>str</td><td>datetime[μs, America/Denver]</td><td>u32</td><td>u16</td><td>f64</td><td>u16</td><td>u8</td><td>u16</td><td>u16</td><td>u16</td><td>u8</td><td>u16</td><td>u8</td><td>u8</td><td>u8</td><td>u8</td><td>u8</td><td>u8</td><td>u16</td><td>u16</td></tr></thead><tbody><tr><td>1212580517905780737</td><td>&quot;https://twitte…</td><td>&quot;Sounds like a …</td><td>2020-01-01 20:44:00 MST</td><td>1465</td><td>7</td><td>0.004778</td><td>0</td><td>0</td><td>3</td><td>3</td><td>0</td><td>0</td><td>1</td><td>0</td><td>0</td><td>0</td><td>0</td><td>0</td><td>0</td><td>0</td><td>0</td></tr><tr><td>1212582494828036097</td><td>&quot;https://twitte…</td><td>&quot;@FogleBird Loo…</td><td>2020-01-01 20:52:00 MST</td><td>154</td><td>3</td><td>0.019481</td><td>0</td><td>0</td><td>1</td><td>1</td><td>0</td><td>0</td><td>1</td><td>0</td><td>0</td><td>0</td><td>0</td><td>0</td><td>0</td><td>0</td><td>0</td></tr><tr><td>1212613735698690049</td><td>&quot;https://twitte…</td><td>&quot;@afilina That&#x27;…</td><td>2020-01-01 22:56:00 MST</td><td>1024</td><td>6</td><td>0.005859</td><td>0</td><td>0</td><td>1</td><td>2</td><td>0</td><td>0</td><td>3</td><td>0</td><td>0</td><td>0</td><td>0</td><td>0</td><td>0</td><td>0</td><td>0</td></tr><tr><td>1212911749617242113</td><td>&quot;https://twitte…</td><td>&quot;@randal_olson …</td><td>2020-01-02 18:41:00 MST</td><td>1419</td><td>14</td><td>0.009866</td><td>0</td><td>1</td><td>5</td><td>7</td><td>0</td><td>0</td><td>1</td><td>0</td><td>0</td><td>0</td><td>0</td><td>0</td><td>0</td><td>0</td><td>0</td></tr><tr><td>1212920556028252160</td><td>&quot;https://twitte…</td><td>&quot;@AlSweigart So…</td><td>2020-01-02 19:16:00 MST</td><td>198</td><td>1</td><td>0.005051</td><td>0</td><td>0</td><td>1</td><td>0</td><td>0</td><td>0</td><td>0</td><td>0</td><td>0</td><td>0</td><td>0</td><td>0</td><td>0</td><td>0</td><td>0</td></tr><tr><td>1212921038356434947</td><td>&quot;https://twitte…</td><td>&quot;@tmarthal @Ted…</td><td>2020-01-02 19:18:00 MST</td><td>170</td><td>3</td><td>0.017647</td><td>0</td><td>0</td><td>1</td><td>1</td><td>0</td><td>0</td><td>1</td><td>0</td><td>0</td><td>0</td><td>0</td><td>0</td><td>0</td><td>0</td><td>0</td></tr><tr><td>1212921192287330304</td><td>&quot;https://twitte…</td><td>&quot;@gabegundy It&#x27;…</td><td>2020-01-02 19:18:00 MST</td><td>104</td><td>2</td><td>0.019231</td><td>0</td><td>1</td><td>1</td><td>0</td><td>0</td><td>0</td><td>0</td><td>0</td><td>0</td><td>0</td><td>0</td><td>0</td><td>0</td><td>0</td><td>0</td></tr><tr><td>1212969747186208768</td><td>&quot;https://twitte…</td><td>&quot;@anthonypjshaw…</td><td>2020-01-02 22:31:00 MST</td><td>189</td><td>0</td><td>0.0</td><td>0</td><td>0</td><td>0</td><td>0</td><td>0</td><td>0</td><td>0</td><td>0</td><td>0</td><td>0</td><td>0</td><td>0</td><td>0</td><td>0</td><td>0</td></tr><tr><td>1212971634019033088</td><td>&quot;https://twitte…</td><td>&quot;@jet_set A lit…</td><td>2020-01-02 22:39:00 MST</td><td>900</td><td>4</td><td>0.004444</td><td>0</td><td>0</td><td>0</td><td>4</td><td>0</td><td>0</td><td>0</td><td>0</td><td>0</td><td>0</td><td>0</td><td>0</td><td>0</td><td>0</td><td>0</td></tr><tr><td>1213194379793293312</td><td>&quot;https://twitte…</td><td>&quot;@juliasilge @r…</td><td>2020-01-03 13:24:00 MST</td><td>252</td><td>2</td><td>0.007937</td><td>0</td><td>0</td><td>1</td><td>1</td><td>0</td><td>0</td><td>0</td><td>0</td><td>0</td><td>0</td><td>0</td><td>0</td><td>0</td><td>0</td><td>0</td></tr><tr><td>1213699561962631168</td><td>&quot;https://twitte…</td><td>&quot;Herein you wil…</td><td>2020-01-04 22:51:00 MST</td><td>1610</td><td>6</td><td>0.003727</td><td>0</td><td>0</td><td>2</td><td>2</td><td>0</td><td>0</td><td>2</td><td>0</td><td>0</td><td>0</td><td>0</td><td>0</td><td>0</td><td>0</td><td>0</td></tr><tr><td>1213896543985516544</td><td>&quot;https://twitte…</td><td>&quot;@Austen Care t…</td><td>2020-01-05 11:54:00 MST</td><td>165</td><td>3</td><td>0.018182</td><td>0</td><td>0</td><td>0</td><td>1</td><td>0</td><td>0</td><td>2</td><td>0</td><td>0</td><td>0</td><td>0</td><td>0</td><td>0</td><td>0</td><td>0</td></tr><tr><td>&hellip;</td><td>&hellip;</td><td>&hellip;</td><td>&hellip;</td><td>&hellip;</td><td>&hellip;</td><td>&hellip;</td><td>&hellip;</td><td>&hellip;</td><td>&hellip;</td><td>&hellip;</td><td>&hellip;</td><td>&hellip;</td><td>&hellip;</td><td>&hellip;</td><td>&hellip;</td><td>&hellip;</td><td>&hellip;</td><td>&hellip;</td><td>&hellip;</td><td>&hellip;</td><td>&hellip;</td></tr><tr><td>1474805013343981570</td><td>&quot;https://twitte…</td><td>&quot;@EricSchles @s…</td><td>2021-12-25 11:11:00 MST</td><td>416</td><td>3</td><td>0.007212</td><td>0</td><td>0</td><td>2</td><td>1</td><td>0</td><td>0</td><td>0</td><td>0</td><td>0</td><td>0</td><td>0</td><td>0</td><td>0</td><td>0</td><td>0</td></tr><tr><td>1474820707234185217</td><td>&quot;https://twitte…</td><td>&quot;Mele kalikimak…</td><td>2021-12-25 12:13:00 MST</td><td>15840</td><td>372</td><td>0.023485</td><td>0</td><td>2</td><td>61</td><td>59</td><td>6</td><td>0</td><td>66</td><td>0</td><td>0</td><td>0</td><td>0</td><td>0</td><td>0</td><td>178</td><td>178</td></tr><tr><td>1475023008620154882</td><td>&quot;https://twitte…</td><td>&quot;Good looking c…</td><td>2021-12-26 01:37:00 MST</td><td>22557</td><td>501</td><td>0.02221</td><td>0</td><td>9</td><td>50</td><td>89</td><td>14</td><td>0</td><td>118</td><td>0</td><td>0</td><td>0</td><td>0</td><td>0</td><td>0</td><td>221</td><td>221</td></tr><tr><td>1475299210291343362</td><td>&quot;https://twitte…</td><td>&quot;@youtah A litt…</td><td>2021-12-26 19:55:00 MST</td><td>1586</td><td>35</td><td>0.022068</td><td>0</td><td>0</td><td>2</td><td>1</td><td>1</td><td>0</td><td>0</td><td>0</td><td>0</td><td>0</td><td>0</td><td>0</td><td>0</td><td>31</td><td>31</td></tr><tr><td>1475299401681682434</td><td>&quot;https://twitte…</td><td>&quot;@mathsppblog S…</td><td>2021-12-26 19:56:00 MST</td><td>4641</td><td>35</td><td>0.007541</td><td>0</td><td>4</td><td>11</td><td>10</td><td>0</td><td>0</td><td>10</td><td>0</td><td>0</td><td>0</td><td>0</td><td>0</td><td>0</td><td>0</td><td>0</td></tr><tr><td>1475299848093978626</td><td>&quot;https://twitte…</td><td>&quot;@willmcgugan P…</td><td>2021-12-26 19:57:00 MST</td><td>1969</td><td>4</td><td>0.002031</td><td>0</td><td>0</td><td>4</td><td>0</td><td>0</td><td>0</td><td>0</td><td>0</td><td>0</td><td>0</td><td>0</td><td>0</td><td>0</td><td>0</td><td>0</td></tr><tr><td>1475300370138087426</td><td>&quot;https://twitte…</td><td>&quot;@reuvenmlerner…</td><td>2021-12-26 19:59:00 MST</td><td>1669</td><td>5</td><td>0.002996</td><td>0</td><td>0</td><td>3</td><td>0</td><td>0</td><td>0</td><td>2</td><td>0</td><td>0</td><td>0</td><td>0</td><td>0</td><td>0</td><td>0</td><td>0</td></tr><tr><td>1475300661851934721</td><td>&quot;https://twitte…</td><td>&quot;@allison_horst…</td><td>2021-12-26 20:01:00 MST</td><td>986</td><td>1</td><td>0.001014</td><td>0</td><td>0</td><td>0</td><td>0</td><td>0</td><td>0</td><td>1</td><td>0</td><td>0</td><td>0</td><td>0</td><td>0</td><td>0</td><td>0</td><td>0</td></tr><tr><td>1475518143690801156</td><td>&quot;https://twitte…</td><td>&quot;@willmcgugan Y…</td><td>2021-12-27 10:25:00 MST</td><td>1790</td><td>7</td><td>0.003911</td><td>0</td><td>0</td><td>3</td><td>1</td><td>0</td><td>0</td><td>3</td><td>0</td><td>0</td><td>0</td><td>0</td><td>0</td><td>0</td><td>0</td><td>0</td></tr><tr><td>1475891441243025408</td><td>&quot;https://twitte…</td><td>&quot;@posco Visitin…</td><td>2021-12-28 11:08:00 MST</td><td>1611</td><td>12</td><td>0.007449</td><td>0</td><td>0</td><td>4</td><td>4</td><td>0</td><td>0</td><td>4</td><td>0</td><td>0</td><td>0</td><td>0</td><td>0</td><td>0</td><td>0</td><td>0</td></tr><tr><td>1476453819751878656</td><td>&quot;https://twitte…</td><td>&quot;@johndsaunders…</td><td>2021-12-30 00:23:00 MST</td><td>1354</td><td>8</td><td>0.005908</td><td>0</td><td>0</td><td>2</td><td>4</td><td>0</td><td>0</td><td>2</td><td>0</td><td>0</td><td>0</td><td>0</td><td>0</td><td>0</td><td>0</td><td>0</td></tr><tr><td>1477024722051158018</td><td>&quot;https://twitte…</td><td>&quot;@tunguz Xgboos…</td><td>2021-12-31 14:11:00 MST</td><td>5041</td><td>63</td><td>0.012498</td><td>0</td><td>3</td><td>23</td><td>8</td><td>0</td><td>0</td><td>29</td><td>0</td><td>0</td><td>0</td><td>0</td><td>0</td><td>0</td><td>0</td><td>0</td></tr></tbody></table></div>"
      ],
      "text/plain": [
       "shape: (5_791, 22)\n",
       "┌───────────┬────────────┬──────────┬──────────┬───┬───────────┬──────────┬───────────┬────────────┐\n",
       "│ tweet_id  ┆ tweet_perm ┆ tweet_te ┆ time     ┆ … ┆ email_twe ┆ dial_pho ┆ media_vie ┆ media_enga │\n",
       "│ ---       ┆ alink      ┆ xt       ┆ ---      ┆   ┆ et        ┆ ne       ┆ ws        ┆ gements    │\n",
       "│ i64       ┆ ---        ┆ ---      ┆ datetime ┆   ┆ ---       ┆ ---      ┆ ---       ┆ ---        │\n",
       "│           ┆ str        ┆ str      ┆ [μs, Ame ┆   ┆ u8        ┆ u8       ┆ u16       ┆ u16        │\n",
       "│           ┆            ┆          ┆ rica/Den ┆   ┆           ┆          ┆           ┆            │\n",
       "│           ┆            ┆          ┆ ver]     ┆   ┆           ┆          ┆           ┆            │\n",
       "╞═══════════╪════════════╪══════════╪══════════╪═══╪═══════════╪══════════╪═══════════╪════════════╡\n",
       "│ 121258051 ┆ https://tw ┆ Sounds   ┆ 2020-01- ┆ … ┆ 0         ┆ 0        ┆ 0         ┆ 0          │\n",
       "│ 790578073 ┆ itter.com/ ┆ like a   ┆ 01       ┆   ┆           ┆          ┆           ┆            │\n",
       "│ 7         ┆ __mharriso ┆ great    ┆ 20:44:00 ┆   ┆           ┆          ┆           ┆            │\n",
       "│           ┆ n_…        ┆ topic!   ┆ MST      ┆   ┆           ┆          ┆           ┆            │\n",
       "│           ┆            ┆ https…   ┆          ┆   ┆           ┆          ┆           ┆            │\n",
       "│ 121258249 ┆ https://tw ┆ @FogleBi ┆ 2020-01- ┆ … ┆ 0         ┆ 0        ┆ 0         ┆ 0          │\n",
       "│ 482803609 ┆ itter.com/ ┆ rd Looks ┆ 01       ┆   ┆           ┆          ┆           ┆            │\n",
       "│ 7         ┆ __mharriso ┆ like     ┆ 20:52:00 ┆   ┆           ┆          ┆           ┆            │\n",
       "│           ┆ n_…        ┆ SLC. I   ┆ MST      ┆   ┆           ┆          ┆           ┆            │\n",
       "│           ┆            ┆ can…     ┆          ┆   ┆           ┆          ┆           ┆            │\n",
       "│ 121261373 ┆ https://tw ┆ @afilina ┆ 2020-01- ┆ … ┆ 0         ┆ 0        ┆ 0         ┆ 0          │\n",
       "│ 569869004 ┆ itter.com/ ┆ That's   ┆ 01       ┆   ┆           ┆          ┆           ┆            │\n",
       "│ 9         ┆ __mharriso ┆ really   ┆ 22:56:00 ┆   ┆           ┆          ┆           ┆            │\n",
       "│           ┆ n_…        ┆ amount   ┆ MST      ┆   ┆           ┆          ┆           ┆            │\n",
       "│           ┆            ┆ an…      ┆          ┆   ┆           ┆          ┆           ┆            │\n",
       "│ 121291174 ┆ https://tw ┆ @randal_ ┆ 2020-01- ┆ … ┆ 0         ┆ 0        ┆ 0         ┆ 0          │\n",
       "│ 961724211 ┆ itter.com/ ┆ olson I  ┆ 02       ┆   ┆           ┆          ┆           ┆            │\n",
       "│ 3         ┆ __mharriso ┆ use      ┆ 18:41:00 ┆   ┆           ┆          ┆           ┆            │\n",
       "│           ┆ n_…        ┆ anaconda ┆ MST      ┆   ┆           ┆          ┆           ┆            │\n",
       "│           ┆            ┆ whe…     ┆          ┆   ┆           ┆          ┆           ┆            │\n",
       "│ …         ┆ …          ┆ …        ┆ …        ┆ … ┆ …         ┆ …        ┆ …         ┆ …          │\n",
       "│ 147551814 ┆ https://tw ┆ @willmcg ┆ 2021-12- ┆ … ┆ 0         ┆ 0        ┆ 0         ┆ 0          │\n",
       "│ 369080115 ┆ itter.com/ ┆ ugan You ┆ 27       ┆   ┆           ┆          ┆           ┆            │\n",
       "│ 6         ┆ __mharriso ┆ need to  ┆ 10:25:00 ┆   ┆           ┆          ┆           ┆            │\n",
       "│           ┆ n_…        ┆ find ou… ┆ MST      ┆   ┆           ┆          ┆           ┆            │\n",
       "│ 147589144 ┆ https://tw ┆ @posco   ┆ 2021-12- ┆ … ┆ 0         ┆ 0        ┆ 0         ┆ 0          │\n",
       "│ 124302540 ┆ itter.com/ ┆ Visiting ┆ 28       ┆   ┆           ┆          ┆           ┆            │\n",
       "│ 8         ┆ __mharriso ┆ Hawaii   ┆ 11:08:00 ┆   ┆           ┆          ┆           ┆            │\n",
       "│           ┆ n_…        ┆ for the  ┆ MST      ┆   ┆           ┆          ┆           ┆            │\n",
       "│           ┆            ┆ h…       ┆          ┆   ┆           ┆          ┆           ┆            │\n",
       "│ 147645381 ┆ https://tw ┆ @johndsa ┆ 2021-12- ┆ … ┆ 0         ┆ 0        ┆ 0         ┆ 0          │\n",
       "│ 975187865 ┆ itter.com/ ┆ unders   ┆ 30       ┆   ┆           ┆          ┆           ┆            │\n",
       "│ 6         ┆ __mharriso ┆ My son   ┆ 00:23:00 ┆   ┆           ┆          ┆           ┆            │\n",
       "│           ┆ n_…        ┆ just     ┆ MST      ┆   ┆           ┆          ┆           ┆            │\n",
       "│           ┆            ┆ built…   ┆          ┆   ┆           ┆          ┆           ┆            │\n",
       "│ 147702472 ┆ https://tw ┆ @tunguz  ┆ 2021-12- ┆ … ┆ 0         ┆ 0        ┆ 0         ┆ 0          │\n",
       "│ 205115801 ┆ itter.com/ ┆ Xgboost  ┆ 31       ┆   ┆           ┆          ┆           ┆            │\n",
       "│ 8         ┆ __mharriso ┆          ┆ 14:11:00 ┆   ┆           ┆          ┆           ┆            │\n",
       "│           ┆ n_…        ┆          ┆ MST      ┆   ┆           ┆          ┆           ┆            │\n",
       "└───────────┴────────────┴──────────┴──────────┴───┴───────────┴──────────┴───────────┴────────────┘"
      ]
     },
     "execution_count": 121,
     "metadata": {},
     "output_type": "execute_result"
    }
   ],
   "source": [
    "# if lazy do a .select instead of .drop (then CSV reading only looks at selected columns!)\n",
    "# same happens with row filter\n",
    "def tweak_twitter(df):\n",
    "    return (df\n",
    "     .with_columns([\n",
    "         pl.col(['replies', 'hashtag clicks', 'permalink clicks', 'app opens', \n",
    "                 'app installs', 'follows', 'email tweet', 'dial phone'])\n",
    "           .cast(pl.UInt8),\n",
    "         pl.col(['engagements', 'retweets', 'likes', 'user profile clicks', \n",
    "                 'url clicks',  'detail expands', 'media views', 'media engagements'])\n",
    "           .cast(pl.UInt16),\n",
    "         pl.col('impressions').cast(pl.UInt32),\n",
    "         pl.col('time').str.split('+').arr.get(0)\n",
    "            .str.strptime(pl.Datetime, '%Y-%m-%d %H:%M:%S')\n",
    "            .dt.replace_time_zone('UTC').dt.convert_time_zone('America/Denver'),\n",
    "     ])\n",
    "     .select(pl.col(['Tweet id', 'Tweet permalink', 'Tweet text', 'time', \n",
    "                     'impressions', 'engagements', 'engagement rate', 'retweets', \n",
    "                     'replies', 'likes', 'user profile clicks', 'url clicks', \n",
    "                     'hashtag clicks', 'detail expands', 'permalink clicks', \n",
    "                     'app opens', 'app installs', 'follows', 'email tweet', \n",
    "                     'dial phone', 'media views', 'media engagements']))                    \n",
    "     .select(pl.all().map_alias(lambda name: name.lower().replace(' ', '_')))\n",
    "    )\n",
    "\n",
    "tweak_twitter(df)"
   ]
  },
  {
   "cell_type": "code",
   "execution_count": null,
   "metadata": {},
   "outputs": [],
   "source": []
  },
  {
   "cell_type": "code",
   "execution_count": null,
   "metadata": {
    "lines_to_next_cell": 2
   },
   "outputs": [],
   "source": []
  },
  {
   "cell_type": "markdown",
   "metadata": {},
   "source": [
    "## Chaining\n",
    "\n",
    "We are adding teh sequence of steps which are tested individually in the previous steps."
   ]
  },
  {
   "cell_type": "code",
   "execution_count": 123,
   "metadata": {
    "lines_to_next_cell": 0,
    "scrolled": true
   },
   "outputs": [
    {
     "data": {
      "text/html": [
       "<div><style>\n",
       ".dataframe > thead > tr > th,\n",
       ".dataframe > tbody > tr > td {\n",
       "  text-align: right;\n",
       "}\n",
       "</style>\n",
       "<small>shape: (5791, 22)</small><table border=\"1\" class=\"dataframe\"><thead><tr><th>tweet_id</th><th>tweet_permalink</th><th>tweet_text</th><th>time</th><th>impressions</th><th>engagements</th><th>engagement_rate</th><th>retweets</th><th>replies</th><th>likes</th><th>user_profile_clicks</th><th>url_clicks</th><th>hashtag_clicks</th><th>detail_expands</th><th>permalink_clicks</th><th>app_opens</th><th>app_installs</th><th>follows</th><th>email_tweet</th><th>dial_phone</th><th>media_views</th><th>media_engagements</th></tr><tr><td>i64</td><td>str</td><td>str</td><td>datetime[μs, America/Denver]</td><td>u32</td><td>u16</td><td>f64</td><td>u16</td><td>u8</td><td>u16</td><td>u16</td><td>u16</td><td>u8</td><td>u16</td><td>u8</td><td>u8</td><td>u8</td><td>u8</td><td>u8</td><td>u8</td><td>u16</td><td>u16</td></tr></thead><tbody><tr><td>1212580517905780737</td><td>&quot;https://twitte…</td><td>&quot;Sounds like a …</td><td>2020-01-01 20:44:00 MST</td><td>1465</td><td>7</td><td>0.004778</td><td>0</td><td>0</td><td>3</td><td>3</td><td>0</td><td>0</td><td>1</td><td>0</td><td>0</td><td>0</td><td>0</td><td>0</td><td>0</td><td>0</td><td>0</td></tr><tr><td>1212582494828036097</td><td>&quot;https://twitte…</td><td>&quot;@FogleBird Loo…</td><td>2020-01-01 20:52:00 MST</td><td>154</td><td>3</td><td>0.019481</td><td>0</td><td>0</td><td>1</td><td>1</td><td>0</td><td>0</td><td>1</td><td>0</td><td>0</td><td>0</td><td>0</td><td>0</td><td>0</td><td>0</td><td>0</td></tr><tr><td>1212613735698690049</td><td>&quot;https://twitte…</td><td>&quot;@afilina That&#x27;…</td><td>2020-01-01 22:56:00 MST</td><td>1024</td><td>6</td><td>0.005859</td><td>0</td><td>0</td><td>1</td><td>2</td><td>0</td><td>0</td><td>3</td><td>0</td><td>0</td><td>0</td><td>0</td><td>0</td><td>0</td><td>0</td><td>0</td></tr><tr><td>1212911749617242113</td><td>&quot;https://twitte…</td><td>&quot;@randal_olson …</td><td>2020-01-02 18:41:00 MST</td><td>1419</td><td>14</td><td>0.009866</td><td>0</td><td>1</td><td>5</td><td>7</td><td>0</td><td>0</td><td>1</td><td>0</td><td>0</td><td>0</td><td>0</td><td>0</td><td>0</td><td>0</td><td>0</td></tr><tr><td>1212920556028252160</td><td>&quot;https://twitte…</td><td>&quot;@AlSweigart So…</td><td>2020-01-02 19:16:00 MST</td><td>198</td><td>1</td><td>0.005051</td><td>0</td><td>0</td><td>1</td><td>0</td><td>0</td><td>0</td><td>0</td><td>0</td><td>0</td><td>0</td><td>0</td><td>0</td><td>0</td><td>0</td><td>0</td></tr><tr><td>1212921038356434947</td><td>&quot;https://twitte…</td><td>&quot;@tmarthal @Ted…</td><td>2020-01-02 19:18:00 MST</td><td>170</td><td>3</td><td>0.017647</td><td>0</td><td>0</td><td>1</td><td>1</td><td>0</td><td>0</td><td>1</td><td>0</td><td>0</td><td>0</td><td>0</td><td>0</td><td>0</td><td>0</td><td>0</td></tr><tr><td>1212921192287330304</td><td>&quot;https://twitte…</td><td>&quot;@gabegundy It&#x27;…</td><td>2020-01-02 19:18:00 MST</td><td>104</td><td>2</td><td>0.019231</td><td>0</td><td>1</td><td>1</td><td>0</td><td>0</td><td>0</td><td>0</td><td>0</td><td>0</td><td>0</td><td>0</td><td>0</td><td>0</td><td>0</td><td>0</td></tr><tr><td>1212969747186208768</td><td>&quot;https://twitte…</td><td>&quot;@anthonypjshaw…</td><td>2020-01-02 22:31:00 MST</td><td>189</td><td>0</td><td>0.0</td><td>0</td><td>0</td><td>0</td><td>0</td><td>0</td><td>0</td><td>0</td><td>0</td><td>0</td><td>0</td><td>0</td><td>0</td><td>0</td><td>0</td><td>0</td></tr><tr><td>1212971634019033088</td><td>&quot;https://twitte…</td><td>&quot;@jet_set A lit…</td><td>2020-01-02 22:39:00 MST</td><td>900</td><td>4</td><td>0.004444</td><td>0</td><td>0</td><td>0</td><td>4</td><td>0</td><td>0</td><td>0</td><td>0</td><td>0</td><td>0</td><td>0</td><td>0</td><td>0</td><td>0</td><td>0</td></tr><tr><td>1213194379793293312</td><td>&quot;https://twitte…</td><td>&quot;@juliasilge @r…</td><td>2020-01-03 13:24:00 MST</td><td>252</td><td>2</td><td>0.007937</td><td>0</td><td>0</td><td>1</td><td>1</td><td>0</td><td>0</td><td>0</td><td>0</td><td>0</td><td>0</td><td>0</td><td>0</td><td>0</td><td>0</td><td>0</td></tr><tr><td>1213699561962631168</td><td>&quot;https://twitte…</td><td>&quot;Herein you wil…</td><td>2020-01-04 22:51:00 MST</td><td>1610</td><td>6</td><td>0.003727</td><td>0</td><td>0</td><td>2</td><td>2</td><td>0</td><td>0</td><td>2</td><td>0</td><td>0</td><td>0</td><td>0</td><td>0</td><td>0</td><td>0</td><td>0</td></tr><tr><td>1213896543985516544</td><td>&quot;https://twitte…</td><td>&quot;@Austen Care t…</td><td>2020-01-05 11:54:00 MST</td><td>165</td><td>3</td><td>0.018182</td><td>0</td><td>0</td><td>0</td><td>1</td><td>0</td><td>0</td><td>2</td><td>0</td><td>0</td><td>0</td><td>0</td><td>0</td><td>0</td><td>0</td><td>0</td></tr><tr><td>&hellip;</td><td>&hellip;</td><td>&hellip;</td><td>&hellip;</td><td>&hellip;</td><td>&hellip;</td><td>&hellip;</td><td>&hellip;</td><td>&hellip;</td><td>&hellip;</td><td>&hellip;</td><td>&hellip;</td><td>&hellip;</td><td>&hellip;</td><td>&hellip;</td><td>&hellip;</td><td>&hellip;</td><td>&hellip;</td><td>&hellip;</td><td>&hellip;</td><td>&hellip;</td><td>&hellip;</td></tr><tr><td>1474805013343981570</td><td>&quot;https://twitte…</td><td>&quot;@EricSchles @s…</td><td>2021-12-25 11:11:00 MST</td><td>416</td><td>3</td><td>0.007212</td><td>0</td><td>0</td><td>2</td><td>1</td><td>0</td><td>0</td><td>0</td><td>0</td><td>0</td><td>0</td><td>0</td><td>0</td><td>0</td><td>0</td><td>0</td></tr><tr><td>1474820707234185217</td><td>&quot;https://twitte…</td><td>&quot;Mele kalikimak…</td><td>2021-12-25 12:13:00 MST</td><td>15840</td><td>372</td><td>0.023485</td><td>0</td><td>2</td><td>61</td><td>59</td><td>6</td><td>0</td><td>66</td><td>0</td><td>0</td><td>0</td><td>0</td><td>0</td><td>0</td><td>178</td><td>178</td></tr><tr><td>1475023008620154882</td><td>&quot;https://twitte…</td><td>&quot;Good looking c…</td><td>2021-12-26 01:37:00 MST</td><td>22557</td><td>501</td><td>0.02221</td><td>0</td><td>9</td><td>50</td><td>89</td><td>14</td><td>0</td><td>118</td><td>0</td><td>0</td><td>0</td><td>0</td><td>0</td><td>0</td><td>221</td><td>221</td></tr><tr><td>1475299210291343362</td><td>&quot;https://twitte…</td><td>&quot;@youtah A litt…</td><td>2021-12-26 19:55:00 MST</td><td>1586</td><td>35</td><td>0.022068</td><td>0</td><td>0</td><td>2</td><td>1</td><td>1</td><td>0</td><td>0</td><td>0</td><td>0</td><td>0</td><td>0</td><td>0</td><td>0</td><td>31</td><td>31</td></tr><tr><td>1475299401681682434</td><td>&quot;https://twitte…</td><td>&quot;@mathsppblog S…</td><td>2021-12-26 19:56:00 MST</td><td>4641</td><td>35</td><td>0.007541</td><td>0</td><td>4</td><td>11</td><td>10</td><td>0</td><td>0</td><td>10</td><td>0</td><td>0</td><td>0</td><td>0</td><td>0</td><td>0</td><td>0</td><td>0</td></tr><tr><td>1475299848093978626</td><td>&quot;https://twitte…</td><td>&quot;@willmcgugan P…</td><td>2021-12-26 19:57:00 MST</td><td>1969</td><td>4</td><td>0.002031</td><td>0</td><td>0</td><td>4</td><td>0</td><td>0</td><td>0</td><td>0</td><td>0</td><td>0</td><td>0</td><td>0</td><td>0</td><td>0</td><td>0</td><td>0</td></tr><tr><td>1475300370138087426</td><td>&quot;https://twitte…</td><td>&quot;@reuvenmlerner…</td><td>2021-12-26 19:59:00 MST</td><td>1669</td><td>5</td><td>0.002996</td><td>0</td><td>0</td><td>3</td><td>0</td><td>0</td><td>0</td><td>2</td><td>0</td><td>0</td><td>0</td><td>0</td><td>0</td><td>0</td><td>0</td><td>0</td></tr><tr><td>1475300661851934721</td><td>&quot;https://twitte…</td><td>&quot;@allison_horst…</td><td>2021-12-26 20:01:00 MST</td><td>986</td><td>1</td><td>0.001014</td><td>0</td><td>0</td><td>0</td><td>0</td><td>0</td><td>0</td><td>1</td><td>0</td><td>0</td><td>0</td><td>0</td><td>0</td><td>0</td><td>0</td><td>0</td></tr><tr><td>1475518143690801156</td><td>&quot;https://twitte…</td><td>&quot;@willmcgugan Y…</td><td>2021-12-27 10:25:00 MST</td><td>1790</td><td>7</td><td>0.003911</td><td>0</td><td>0</td><td>3</td><td>1</td><td>0</td><td>0</td><td>3</td><td>0</td><td>0</td><td>0</td><td>0</td><td>0</td><td>0</td><td>0</td><td>0</td></tr><tr><td>1475891441243025408</td><td>&quot;https://twitte…</td><td>&quot;@posco Visitin…</td><td>2021-12-28 11:08:00 MST</td><td>1611</td><td>12</td><td>0.007449</td><td>0</td><td>0</td><td>4</td><td>4</td><td>0</td><td>0</td><td>4</td><td>0</td><td>0</td><td>0</td><td>0</td><td>0</td><td>0</td><td>0</td><td>0</td></tr><tr><td>1476453819751878656</td><td>&quot;https://twitte…</td><td>&quot;@johndsaunders…</td><td>2021-12-30 00:23:00 MST</td><td>1354</td><td>8</td><td>0.005908</td><td>0</td><td>0</td><td>2</td><td>4</td><td>0</td><td>0</td><td>2</td><td>0</td><td>0</td><td>0</td><td>0</td><td>0</td><td>0</td><td>0</td><td>0</td></tr><tr><td>1477024722051158018</td><td>&quot;https://twitte…</td><td>&quot;@tunguz Xgboos…</td><td>2021-12-31 14:11:00 MST</td><td>5041</td><td>63</td><td>0.012498</td><td>0</td><td>3</td><td>23</td><td>8</td><td>0</td><td>0</td><td>29</td><td>0</td><td>0</td><td>0</td><td>0</td><td>0</td><td>0</td><td>0</td><td>0</td></tr></tbody></table></div>"
      ],
      "text/plain": [
       "shape: (5_791, 22)\n",
       "┌───────────┬────────────┬──────────┬──────────┬───┬───────────┬──────────┬───────────┬────────────┐\n",
       "│ tweet_id  ┆ tweet_perm ┆ tweet_te ┆ time     ┆ … ┆ email_twe ┆ dial_pho ┆ media_vie ┆ media_enga │\n",
       "│ ---       ┆ alink      ┆ xt       ┆ ---      ┆   ┆ et        ┆ ne       ┆ ws        ┆ gements    │\n",
       "│ i64       ┆ ---        ┆ ---      ┆ datetime ┆   ┆ ---       ┆ ---      ┆ ---       ┆ ---        │\n",
       "│           ┆ str        ┆ str      ┆ [μs, Ame ┆   ┆ u8        ┆ u8       ┆ u16       ┆ u16        │\n",
       "│           ┆            ┆          ┆ rica/Den ┆   ┆           ┆          ┆           ┆            │\n",
       "│           ┆            ┆          ┆ ver]     ┆   ┆           ┆          ┆           ┆            │\n",
       "╞═══════════╪════════════╪══════════╪══════════╪═══╪═══════════╪══════════╪═══════════╪════════════╡\n",
       "│ 121258051 ┆ https://tw ┆ Sounds   ┆ 2020-01- ┆ … ┆ 0         ┆ 0        ┆ 0         ┆ 0          │\n",
       "│ 790578073 ┆ itter.com/ ┆ like a   ┆ 01       ┆   ┆           ┆          ┆           ┆            │\n",
       "│ 7         ┆ __mharriso ┆ great    ┆ 20:44:00 ┆   ┆           ┆          ┆           ┆            │\n",
       "│           ┆ n_…        ┆ topic!   ┆ MST      ┆   ┆           ┆          ┆           ┆            │\n",
       "│           ┆            ┆ https…   ┆          ┆   ┆           ┆          ┆           ┆            │\n",
       "│ 121258249 ┆ https://tw ┆ @FogleBi ┆ 2020-01- ┆ … ┆ 0         ┆ 0        ┆ 0         ┆ 0          │\n",
       "│ 482803609 ┆ itter.com/ ┆ rd Looks ┆ 01       ┆   ┆           ┆          ┆           ┆            │\n",
       "│ 7         ┆ __mharriso ┆ like     ┆ 20:52:00 ┆   ┆           ┆          ┆           ┆            │\n",
       "│           ┆ n_…        ┆ SLC. I   ┆ MST      ┆   ┆           ┆          ┆           ┆            │\n",
       "│           ┆            ┆ can…     ┆          ┆   ┆           ┆          ┆           ┆            │\n",
       "│ 121261373 ┆ https://tw ┆ @afilina ┆ 2020-01- ┆ … ┆ 0         ┆ 0        ┆ 0         ┆ 0          │\n",
       "│ 569869004 ┆ itter.com/ ┆ That's   ┆ 01       ┆   ┆           ┆          ┆           ┆            │\n",
       "│ 9         ┆ __mharriso ┆ really   ┆ 22:56:00 ┆   ┆           ┆          ┆           ┆            │\n",
       "│           ┆ n_…        ┆ amount   ┆ MST      ┆   ┆           ┆          ┆           ┆            │\n",
       "│           ┆            ┆ an…      ┆          ┆   ┆           ┆          ┆           ┆            │\n",
       "│ 121291174 ┆ https://tw ┆ @randal_ ┆ 2020-01- ┆ … ┆ 0         ┆ 0        ┆ 0         ┆ 0          │\n",
       "│ 961724211 ┆ itter.com/ ┆ olson I  ┆ 02       ┆   ┆           ┆          ┆           ┆            │\n",
       "│ 3         ┆ __mharriso ┆ use      ┆ 18:41:00 ┆   ┆           ┆          ┆           ┆            │\n",
       "│           ┆ n_…        ┆ anaconda ┆ MST      ┆   ┆           ┆          ┆           ┆            │\n",
       "│           ┆            ┆ whe…     ┆          ┆   ┆           ┆          ┆           ┆            │\n",
       "│ …         ┆ …          ┆ …        ┆ …        ┆ … ┆ …         ┆ …        ┆ …         ┆ …          │\n",
       "│ 147551814 ┆ https://tw ┆ @willmcg ┆ 2021-12- ┆ … ┆ 0         ┆ 0        ┆ 0         ┆ 0          │\n",
       "│ 369080115 ┆ itter.com/ ┆ ugan You ┆ 27       ┆   ┆           ┆          ┆           ┆            │\n",
       "│ 6         ┆ __mharriso ┆ need to  ┆ 10:25:00 ┆   ┆           ┆          ┆           ┆            │\n",
       "│           ┆ n_…        ┆ find ou… ┆ MST      ┆   ┆           ┆          ┆           ┆            │\n",
       "│ 147589144 ┆ https://tw ┆ @posco   ┆ 2021-12- ┆ … ┆ 0         ┆ 0        ┆ 0         ┆ 0          │\n",
       "│ 124302540 ┆ itter.com/ ┆ Visiting ┆ 28       ┆   ┆           ┆          ┆           ┆            │\n",
       "│ 8         ┆ __mharriso ┆ Hawaii   ┆ 11:08:00 ┆   ┆           ┆          ┆           ┆            │\n",
       "│           ┆ n_…        ┆ for the  ┆ MST      ┆   ┆           ┆          ┆           ┆            │\n",
       "│           ┆            ┆ h…       ┆          ┆   ┆           ┆          ┆           ┆            │\n",
       "│ 147645381 ┆ https://tw ┆ @johndsa ┆ 2021-12- ┆ … ┆ 0         ┆ 0        ┆ 0         ┆ 0          │\n",
       "│ 975187865 ┆ itter.com/ ┆ unders   ┆ 30       ┆   ┆           ┆          ┆           ┆            │\n",
       "│ 6         ┆ __mharriso ┆ My son   ┆ 00:23:00 ┆   ┆           ┆          ┆           ┆            │\n",
       "│           ┆ n_…        ┆ just     ┆ MST      ┆   ┆           ┆          ┆           ┆            │\n",
       "│           ┆            ┆ built…   ┆          ┆   ┆           ┆          ┆           ┆            │\n",
       "│ 147702472 ┆ https://tw ┆ @tunguz  ┆ 2021-12- ┆ … ┆ 0         ┆ 0        ┆ 0         ┆ 0          │\n",
       "│ 205115801 ┆ itter.com/ ┆ Xgboost  ┆ 31       ┆   ┆           ┆          ┆           ┆            │\n",
       "│ 8         ┆ __mharriso ┆          ┆ 14:11:00 ┆   ┆           ┆          ┆           ┆            │\n",
       "│           ┆ n_…        ┆          ┆ MST      ┆   ┆           ┆          ┆           ┆            │\n",
       "└───────────┴────────────┴──────────┴──────────┴───┴───────────┴──────────┴───────────┴────────────┘"
      ]
     },
     "execution_count": 123,
     "metadata": {},
     "output_type": "execute_result"
    }
   ],
   "source": [
    "def tweak_twitter_lazy(df):\n",
    "    return (df\n",
    "     .lazy()\n",
    "     .with_columns([\n",
    "         pl.col(['replies', 'hashtag clicks', 'permalink clicks', 'app opens', \n",
    "                 'app installs', 'follows', 'email tweet', 'dial phone'])\n",
    "           .cast(pl.UInt8),\n",
    "         pl.col(['engagements', 'retweets', 'likes', 'user profile clicks', \n",
    "                 'url clicks',  'detail expands', 'media views', 'media engagements'])\n",
    "           .cast(pl.UInt16),\n",
    "         pl.col('impressions').cast(pl.UInt32),\n",
    "         pl.col('time').str.split('+').arr.get(0)\n",
    "            .str.strptime(pl.Datetime, '%Y-%m-%d %H:%M:%S')\n",
    "            .dt.replace_time_zone('UTC').dt.convert_time_zone('America/Denver'),\n",
    "     ])\n",
    "     .select(pl.col(['Tweet id', 'Tweet permalink', 'Tweet text', 'time', \n",
    "                     'impressions', 'engagements', 'engagement rate', 'retweets', \n",
    "                     'replies', 'likes', 'user profile clicks', 'url clicks', \n",
    "                     'hashtag clicks', 'detail expands', 'permalink clicks', \n",
    "                     'app opens', 'app installs', 'follows', 'email tweet', \n",
    "                     'dial phone', 'media views', 'media engagements']))                    \n",
    "     .select(pl.all().map_alias(lambda name: name.lower().replace(' ', '_')))\n",
    "     .collect()\n",
    "    )\n",
    "\n",
    "tweak_twitter_lazy(df)"
   ]
  },
  {
   "cell_type": "code",
   "execution_count": 124,
   "metadata": {},
   "outputs": [
    {
     "name": "stdout",
     "output_type": "stream",
     "text": [
      "1.94 ms ± 91.3 µs per loop (mean ± std. dev. of 7 runs, 1,000 loops each)\n"
     ]
    }
   ],
   "source": [
    "%%timeit\n",
    "# data is already in memory\n",
    "# try with scan_csv (the lazy version)\n",
    "tweak_twitter_lazy(df)"
   ]
  },
  {
   "cell_type": "code",
   "execution_count": 3,
   "metadata": {
    "scrolled": false
   },
   "outputs": [
    {
     "ename": "NameError",
     "evalue": "name 'tweak_twitter' is not defined",
     "output_type": "error",
     "traceback": [
      "\u001b[1;31m---------------------------------------------------------------------------\u001b[0m",
      "\u001b[1;31mNameError\u001b[0m                                 Traceback (most recent call last)",
      "\u001b[1;32m~\\AppData\\Local\\Temp/ipykernel_11404/510905212.py\u001b[0m in \u001b[0;36m<module>\u001b[1;34m\u001b[0m\n\u001b[1;32m----> 1\u001b[1;33m \u001b[0mget_ipython\u001b[0m\u001b[1;33m(\u001b[0m\u001b[1;33m)\u001b[0m\u001b[1;33m.\u001b[0m\u001b[0mrun_cell_magic\u001b[0m\u001b[1;33m(\u001b[0m\u001b[1;34m'timeit'\u001b[0m\u001b[1;33m,\u001b[0m \u001b[1;34m''\u001b[0m\u001b[1;33m,\u001b[0m \u001b[1;34m'tweak_twitter(df)\\n'\u001b[0m\u001b[1;33m)\u001b[0m\u001b[1;33m\u001b[0m\u001b[1;33m\u001b[0m\u001b[0m\n\u001b[0m",
      "\u001b[1;32m~\\anaconda3\\lib\\site-packages\\IPython\\core\\interactiveshell.py\u001b[0m in \u001b[0;36mrun_cell_magic\u001b[1;34m(self, magic_name, line, cell)\u001b[0m\n\u001b[0;32m   2417\u001b[0m             \u001b[1;32mwith\u001b[0m \u001b[0mself\u001b[0m\u001b[1;33m.\u001b[0m\u001b[0mbuiltin_trap\u001b[0m\u001b[1;33m:\u001b[0m\u001b[1;33m\u001b[0m\u001b[1;33m\u001b[0m\u001b[0m\n\u001b[0;32m   2418\u001b[0m                 \u001b[0margs\u001b[0m \u001b[1;33m=\u001b[0m \u001b[1;33m(\u001b[0m\u001b[0mmagic_arg_s\u001b[0m\u001b[1;33m,\u001b[0m \u001b[0mcell\u001b[0m\u001b[1;33m)\u001b[0m\u001b[1;33m\u001b[0m\u001b[1;33m\u001b[0m\u001b[0m\n\u001b[1;32m-> 2419\u001b[1;33m                 \u001b[0mresult\u001b[0m \u001b[1;33m=\u001b[0m \u001b[0mfn\u001b[0m\u001b[1;33m(\u001b[0m\u001b[1;33m*\u001b[0m\u001b[0margs\u001b[0m\u001b[1;33m,\u001b[0m \u001b[1;33m**\u001b[0m\u001b[0mkwargs\u001b[0m\u001b[1;33m)\u001b[0m\u001b[1;33m\u001b[0m\u001b[1;33m\u001b[0m\u001b[0m\n\u001b[0m\u001b[0;32m   2420\u001b[0m             \u001b[1;32mreturn\u001b[0m \u001b[0mresult\u001b[0m\u001b[1;33m\u001b[0m\u001b[1;33m\u001b[0m\u001b[0m\n\u001b[0;32m   2421\u001b[0m \u001b[1;33m\u001b[0m\u001b[0m\n",
      "\u001b[1;32m~\\anaconda3\\lib\\site-packages\\decorator.py\u001b[0m in \u001b[0;36mfun\u001b[1;34m(*args, **kw)\u001b[0m\n\u001b[0;32m    230\u001b[0m             \u001b[1;32mif\u001b[0m \u001b[1;32mnot\u001b[0m \u001b[0mkwsyntax\u001b[0m\u001b[1;33m:\u001b[0m\u001b[1;33m\u001b[0m\u001b[1;33m\u001b[0m\u001b[0m\n\u001b[0;32m    231\u001b[0m                 \u001b[0margs\u001b[0m\u001b[1;33m,\u001b[0m \u001b[0mkw\u001b[0m \u001b[1;33m=\u001b[0m \u001b[0mfix\u001b[0m\u001b[1;33m(\u001b[0m\u001b[0margs\u001b[0m\u001b[1;33m,\u001b[0m \u001b[0mkw\u001b[0m\u001b[1;33m,\u001b[0m \u001b[0msig\u001b[0m\u001b[1;33m)\u001b[0m\u001b[1;33m\u001b[0m\u001b[1;33m\u001b[0m\u001b[0m\n\u001b[1;32m--> 232\u001b[1;33m             \u001b[1;32mreturn\u001b[0m \u001b[0mcaller\u001b[0m\u001b[1;33m(\u001b[0m\u001b[0mfunc\u001b[0m\u001b[1;33m,\u001b[0m \u001b[1;33m*\u001b[0m\u001b[1;33m(\u001b[0m\u001b[0mextras\u001b[0m \u001b[1;33m+\u001b[0m \u001b[0margs\u001b[0m\u001b[1;33m)\u001b[0m\u001b[1;33m,\u001b[0m \u001b[1;33m**\u001b[0m\u001b[0mkw\u001b[0m\u001b[1;33m)\u001b[0m\u001b[1;33m\u001b[0m\u001b[1;33m\u001b[0m\u001b[0m\n\u001b[0m\u001b[0;32m    233\u001b[0m     \u001b[0mfun\u001b[0m\u001b[1;33m.\u001b[0m\u001b[0m__name__\u001b[0m \u001b[1;33m=\u001b[0m \u001b[0mfunc\u001b[0m\u001b[1;33m.\u001b[0m\u001b[0m__name__\u001b[0m\u001b[1;33m\u001b[0m\u001b[1;33m\u001b[0m\u001b[0m\n\u001b[0;32m    234\u001b[0m     \u001b[0mfun\u001b[0m\u001b[1;33m.\u001b[0m\u001b[0m__doc__\u001b[0m \u001b[1;33m=\u001b[0m \u001b[0mfunc\u001b[0m\u001b[1;33m.\u001b[0m\u001b[0m__doc__\u001b[0m\u001b[1;33m\u001b[0m\u001b[1;33m\u001b[0m\u001b[0m\n",
      "\u001b[1;32m~\\anaconda3\\lib\\site-packages\\IPython\\core\\magic.py\u001b[0m in \u001b[0;36m<lambda>\u001b[1;34m(f, *a, **k)\u001b[0m\n\u001b[0;32m    185\u001b[0m     \u001b[1;31m# but it's overkill for just that one bit of state.\u001b[0m\u001b[1;33m\u001b[0m\u001b[1;33m\u001b[0m\u001b[1;33m\u001b[0m\u001b[0m\n\u001b[0;32m    186\u001b[0m     \u001b[1;32mdef\u001b[0m \u001b[0mmagic_deco\u001b[0m\u001b[1;33m(\u001b[0m\u001b[0marg\u001b[0m\u001b[1;33m)\u001b[0m\u001b[1;33m:\u001b[0m\u001b[1;33m\u001b[0m\u001b[1;33m\u001b[0m\u001b[0m\n\u001b[1;32m--> 187\u001b[1;33m         \u001b[0mcall\u001b[0m \u001b[1;33m=\u001b[0m \u001b[1;32mlambda\u001b[0m \u001b[0mf\u001b[0m\u001b[1;33m,\u001b[0m \u001b[1;33m*\u001b[0m\u001b[0ma\u001b[0m\u001b[1;33m,\u001b[0m \u001b[1;33m**\u001b[0m\u001b[0mk\u001b[0m\u001b[1;33m:\u001b[0m \u001b[0mf\u001b[0m\u001b[1;33m(\u001b[0m\u001b[1;33m*\u001b[0m\u001b[0ma\u001b[0m\u001b[1;33m,\u001b[0m \u001b[1;33m**\u001b[0m\u001b[0mk\u001b[0m\u001b[1;33m)\u001b[0m\u001b[1;33m\u001b[0m\u001b[1;33m\u001b[0m\u001b[0m\n\u001b[0m\u001b[0;32m    188\u001b[0m \u001b[1;33m\u001b[0m\u001b[0m\n\u001b[0;32m    189\u001b[0m         \u001b[1;32mif\u001b[0m \u001b[0mcallable\u001b[0m\u001b[1;33m(\u001b[0m\u001b[0marg\u001b[0m\u001b[1;33m)\u001b[0m\u001b[1;33m:\u001b[0m\u001b[1;33m\u001b[0m\u001b[1;33m\u001b[0m\u001b[0m\n",
      "\u001b[1;32m~\\anaconda3\\lib\\site-packages\\IPython\\core\\magics\\execution.py\u001b[0m in \u001b[0;36mtimeit\u001b[1;34m(self, line, cell, local_ns)\u001b[0m\n\u001b[0;32m   1178\u001b[0m             \u001b[1;32mfor\u001b[0m \u001b[0mindex\u001b[0m \u001b[1;32min\u001b[0m \u001b[0mrange\u001b[0m\u001b[1;33m(\u001b[0m\u001b[1;36m0\u001b[0m\u001b[1;33m,\u001b[0m \u001b[1;36m10\u001b[0m\u001b[1;33m)\u001b[0m\u001b[1;33m:\u001b[0m\u001b[1;33m\u001b[0m\u001b[1;33m\u001b[0m\u001b[0m\n\u001b[0;32m   1179\u001b[0m                 \u001b[0mnumber\u001b[0m \u001b[1;33m=\u001b[0m \u001b[1;36m10\u001b[0m \u001b[1;33m**\u001b[0m \u001b[0mindex\u001b[0m\u001b[1;33m\u001b[0m\u001b[1;33m\u001b[0m\u001b[0m\n\u001b[1;32m-> 1180\u001b[1;33m                 \u001b[0mtime_number\u001b[0m \u001b[1;33m=\u001b[0m \u001b[0mtimer\u001b[0m\u001b[1;33m.\u001b[0m\u001b[0mtimeit\u001b[0m\u001b[1;33m(\u001b[0m\u001b[0mnumber\u001b[0m\u001b[1;33m)\u001b[0m\u001b[1;33m\u001b[0m\u001b[1;33m\u001b[0m\u001b[0m\n\u001b[0m\u001b[0;32m   1181\u001b[0m                 \u001b[1;32mif\u001b[0m \u001b[0mtime_number\u001b[0m \u001b[1;33m>=\u001b[0m \u001b[1;36m0.2\u001b[0m\u001b[1;33m:\u001b[0m\u001b[1;33m\u001b[0m\u001b[1;33m\u001b[0m\u001b[0m\n\u001b[0;32m   1182\u001b[0m                     \u001b[1;32mbreak\u001b[0m\u001b[1;33m\u001b[0m\u001b[1;33m\u001b[0m\u001b[0m\n",
      "\u001b[1;32m~\\anaconda3\\lib\\site-packages\\IPython\\core\\magics\\execution.py\u001b[0m in \u001b[0;36mtimeit\u001b[1;34m(self, number)\u001b[0m\n\u001b[0;32m    167\u001b[0m         \u001b[0mgc\u001b[0m\u001b[1;33m.\u001b[0m\u001b[0mdisable\u001b[0m\u001b[1;33m(\u001b[0m\u001b[1;33m)\u001b[0m\u001b[1;33m\u001b[0m\u001b[1;33m\u001b[0m\u001b[0m\n\u001b[0;32m    168\u001b[0m         \u001b[1;32mtry\u001b[0m\u001b[1;33m:\u001b[0m\u001b[1;33m\u001b[0m\u001b[1;33m\u001b[0m\u001b[0m\n\u001b[1;32m--> 169\u001b[1;33m             \u001b[0mtiming\u001b[0m \u001b[1;33m=\u001b[0m \u001b[0mself\u001b[0m\u001b[1;33m.\u001b[0m\u001b[0minner\u001b[0m\u001b[1;33m(\u001b[0m\u001b[0mit\u001b[0m\u001b[1;33m,\u001b[0m \u001b[0mself\u001b[0m\u001b[1;33m.\u001b[0m\u001b[0mtimer\u001b[0m\u001b[1;33m)\u001b[0m\u001b[1;33m\u001b[0m\u001b[1;33m\u001b[0m\u001b[0m\n\u001b[0m\u001b[0;32m    170\u001b[0m         \u001b[1;32mfinally\u001b[0m\u001b[1;33m:\u001b[0m\u001b[1;33m\u001b[0m\u001b[1;33m\u001b[0m\u001b[0m\n\u001b[0;32m    171\u001b[0m             \u001b[1;32mif\u001b[0m \u001b[0mgcold\u001b[0m\u001b[1;33m:\u001b[0m\u001b[1;33m\u001b[0m\u001b[1;33m\u001b[0m\u001b[0m\n",
      "\u001b[1;32m<magic-timeit>\u001b[0m in \u001b[0;36minner\u001b[1;34m(_it, _timer)\u001b[0m\n",
      "\u001b[1;31mNameError\u001b[0m: name 'tweak_twitter' is not defined"
     ]
    }
   ],
   "source": [
    "%%timeit\n",
    "tweak_twitter(df)"
   ]
  },
  {
   "cell_type": "code",
   "execution_count": 2,
   "metadata": {
    "lines_to_next_cell": 0,
    "scrolled": true
   },
   "outputs": [
    {
     "ename": "NameError",
     "evalue": "name 'file' is not defined",
     "output_type": "error",
     "traceback": [
      "\u001b[1;31m---------------------------------------------------------------------------\u001b[0m",
      "\u001b[1;31mNameError\u001b[0m                                 Traceback (most recent call last)",
      "\u001b[1;32m~\\AppData\\Local\\Temp/ipykernel_11404/65821748.py\u001b[0m in \u001b[0;36m<module>\u001b[1;34m\u001b[0m\n\u001b[0;32m     26\u001b[0m \u001b[1;33m\u001b[0m\u001b[0m\n\u001b[0;32m     27\u001b[0m \u001b[1;31m# doesn't work with URL\u001b[0m\u001b[1;33m\u001b[0m\u001b[1;33m\u001b[0m\u001b[1;33m\u001b[0m\u001b[0m\n\u001b[1;32m---> 28\u001b[1;33m \u001b[0mtweak_twitter_lazy\u001b[0m\u001b[1;33m(\u001b[0m\u001b[0mfile\u001b[0m\u001b[1;33m)\u001b[0m\u001b[1;33m\u001b[0m\u001b[1;33m\u001b[0m\u001b[0m\n\u001b[0m",
      "\u001b[1;31mNameError\u001b[0m: name 'file' is not defined"
     ]
    }
   ],
   "source": [
    "# add file reading\n",
    "def tweak_twitter_lazy(file):\n",
    "    return (pl.scan_csv(file) ## adding the reading the file.\n",
    "     .lazy()\n",
    "     .with_columns([\n",
    "         pl.col(['replies', 'hashtag clicks', 'permalink clicks', 'app opens', \n",
    "                 'app installs', 'follows', 'email tweet', 'dial phone'])\n",
    "           .cast(pl.UInt8),\n",
    "         pl.col(['engagements', 'retweets', 'likes', 'user profile clicks', \n",
    "                 'url clicks',  'detail expands', 'media views', 'media engagements'])\n",
    "           .cast(pl.UInt16),\n",
    "         pl.col('impressions').cast(pl.UInt32),\n",
    "         pl.col('time').str.split('+').arr.get(0)\n",
    "            .str.strptime(pl.Datetime, '%Y-%m-%d %H:%M:%S')\n",
    "            .dt.replace_time_zone('UTC').dt.convert_time_zone('America/Denver'),\n",
    "     ])\n",
    "     .select(pl.col(['Tweet id', 'Tweet permalink', 'Tweet text', 'time', \n",
    "                     'impressions', 'engagements', 'engagement rate', 'retweets', \n",
    "                     'replies', 'likes', 'user profile clicks', 'url clicks', \n",
    "                     'hashtag clicks', 'detail expands', 'permalink clicks', \n",
    "                     'app opens', 'app installs', 'follows', 'email tweet', \n",
    "                     'dial phone', 'media views', 'media engagements']))                    \n",
    "     .select(pl.all().map_alias(lambda name: name.lower().replace(' ', '_')))\n",
    "     .collect()\n",
    "    )\n",
    "\n",
    "# doesn't work with URL\n",
    "tweak_twitter_lazy(file)"
   ]
  },
  {
   "cell_type": "code",
   "execution_count": 1,
   "metadata": {
    "scrolled": true
   },
   "outputs": [
    {
     "ename": "NameError",
     "evalue": "name 'tweak_twitter_lazy' is not defined",
     "output_type": "error",
     "traceback": [
      "\u001b[1;31m---------------------------------------------------------------------------\u001b[0m",
      "\u001b[1;31mNameError\u001b[0m                                 Traceback (most recent call last)",
      "\u001b[1;32m~\\AppData\\Local\\Temp/ipykernel_11404/3786511266.py\u001b[0m in \u001b[0;36m<module>\u001b[1;34m\u001b[0m\n\u001b[1;32m----> 1\u001b[1;33m \u001b[0mget_ipython\u001b[0m\u001b[1;33m(\u001b[0m\u001b[1;33m)\u001b[0m\u001b[1;33m.\u001b[0m\u001b[0mrun_cell_magic\u001b[0m\u001b[1;33m(\u001b[0m\u001b[1;34m'timeit'\u001b[0m\u001b[1;33m,\u001b[0m \u001b[1;34m''\u001b[0m\u001b[1;33m,\u001b[0m \u001b[1;34m'tweak_twitter_lazy(file)\\n'\u001b[0m\u001b[1;33m)\u001b[0m\u001b[1;33m\u001b[0m\u001b[1;33m\u001b[0m\u001b[0m\n\u001b[0m",
      "\u001b[1;32m~\\anaconda3\\lib\\site-packages\\IPython\\core\\interactiveshell.py\u001b[0m in \u001b[0;36mrun_cell_magic\u001b[1;34m(self, magic_name, line, cell)\u001b[0m\n\u001b[0;32m   2417\u001b[0m             \u001b[1;32mwith\u001b[0m \u001b[0mself\u001b[0m\u001b[1;33m.\u001b[0m\u001b[0mbuiltin_trap\u001b[0m\u001b[1;33m:\u001b[0m\u001b[1;33m\u001b[0m\u001b[1;33m\u001b[0m\u001b[0m\n\u001b[0;32m   2418\u001b[0m                 \u001b[0margs\u001b[0m \u001b[1;33m=\u001b[0m \u001b[1;33m(\u001b[0m\u001b[0mmagic_arg_s\u001b[0m\u001b[1;33m,\u001b[0m \u001b[0mcell\u001b[0m\u001b[1;33m)\u001b[0m\u001b[1;33m\u001b[0m\u001b[1;33m\u001b[0m\u001b[0m\n\u001b[1;32m-> 2419\u001b[1;33m                 \u001b[0mresult\u001b[0m \u001b[1;33m=\u001b[0m \u001b[0mfn\u001b[0m\u001b[1;33m(\u001b[0m\u001b[1;33m*\u001b[0m\u001b[0margs\u001b[0m\u001b[1;33m,\u001b[0m \u001b[1;33m**\u001b[0m\u001b[0mkwargs\u001b[0m\u001b[1;33m)\u001b[0m\u001b[1;33m\u001b[0m\u001b[1;33m\u001b[0m\u001b[0m\n\u001b[0m\u001b[0;32m   2420\u001b[0m             \u001b[1;32mreturn\u001b[0m \u001b[0mresult\u001b[0m\u001b[1;33m\u001b[0m\u001b[1;33m\u001b[0m\u001b[0m\n\u001b[0;32m   2421\u001b[0m \u001b[1;33m\u001b[0m\u001b[0m\n",
      "\u001b[1;32m~\\anaconda3\\lib\\site-packages\\decorator.py\u001b[0m in \u001b[0;36mfun\u001b[1;34m(*args, **kw)\u001b[0m\n\u001b[0;32m    230\u001b[0m             \u001b[1;32mif\u001b[0m \u001b[1;32mnot\u001b[0m \u001b[0mkwsyntax\u001b[0m\u001b[1;33m:\u001b[0m\u001b[1;33m\u001b[0m\u001b[1;33m\u001b[0m\u001b[0m\n\u001b[0;32m    231\u001b[0m                 \u001b[0margs\u001b[0m\u001b[1;33m,\u001b[0m \u001b[0mkw\u001b[0m \u001b[1;33m=\u001b[0m \u001b[0mfix\u001b[0m\u001b[1;33m(\u001b[0m\u001b[0margs\u001b[0m\u001b[1;33m,\u001b[0m \u001b[0mkw\u001b[0m\u001b[1;33m,\u001b[0m \u001b[0msig\u001b[0m\u001b[1;33m)\u001b[0m\u001b[1;33m\u001b[0m\u001b[1;33m\u001b[0m\u001b[0m\n\u001b[1;32m--> 232\u001b[1;33m             \u001b[1;32mreturn\u001b[0m \u001b[0mcaller\u001b[0m\u001b[1;33m(\u001b[0m\u001b[0mfunc\u001b[0m\u001b[1;33m,\u001b[0m \u001b[1;33m*\u001b[0m\u001b[1;33m(\u001b[0m\u001b[0mextras\u001b[0m \u001b[1;33m+\u001b[0m \u001b[0margs\u001b[0m\u001b[1;33m)\u001b[0m\u001b[1;33m,\u001b[0m \u001b[1;33m**\u001b[0m\u001b[0mkw\u001b[0m\u001b[1;33m)\u001b[0m\u001b[1;33m\u001b[0m\u001b[1;33m\u001b[0m\u001b[0m\n\u001b[0m\u001b[0;32m    233\u001b[0m     \u001b[0mfun\u001b[0m\u001b[1;33m.\u001b[0m\u001b[0m__name__\u001b[0m \u001b[1;33m=\u001b[0m \u001b[0mfunc\u001b[0m\u001b[1;33m.\u001b[0m\u001b[0m__name__\u001b[0m\u001b[1;33m\u001b[0m\u001b[1;33m\u001b[0m\u001b[0m\n\u001b[0;32m    234\u001b[0m     \u001b[0mfun\u001b[0m\u001b[1;33m.\u001b[0m\u001b[0m__doc__\u001b[0m \u001b[1;33m=\u001b[0m \u001b[0mfunc\u001b[0m\u001b[1;33m.\u001b[0m\u001b[0m__doc__\u001b[0m\u001b[1;33m\u001b[0m\u001b[1;33m\u001b[0m\u001b[0m\n",
      "\u001b[1;32m~\\anaconda3\\lib\\site-packages\\IPython\\core\\magic.py\u001b[0m in \u001b[0;36m<lambda>\u001b[1;34m(f, *a, **k)\u001b[0m\n\u001b[0;32m    185\u001b[0m     \u001b[1;31m# but it's overkill for just that one bit of state.\u001b[0m\u001b[1;33m\u001b[0m\u001b[1;33m\u001b[0m\u001b[1;33m\u001b[0m\u001b[0m\n\u001b[0;32m    186\u001b[0m     \u001b[1;32mdef\u001b[0m \u001b[0mmagic_deco\u001b[0m\u001b[1;33m(\u001b[0m\u001b[0marg\u001b[0m\u001b[1;33m)\u001b[0m\u001b[1;33m:\u001b[0m\u001b[1;33m\u001b[0m\u001b[1;33m\u001b[0m\u001b[0m\n\u001b[1;32m--> 187\u001b[1;33m         \u001b[0mcall\u001b[0m \u001b[1;33m=\u001b[0m \u001b[1;32mlambda\u001b[0m \u001b[0mf\u001b[0m\u001b[1;33m,\u001b[0m \u001b[1;33m*\u001b[0m\u001b[0ma\u001b[0m\u001b[1;33m,\u001b[0m \u001b[1;33m**\u001b[0m\u001b[0mk\u001b[0m\u001b[1;33m:\u001b[0m \u001b[0mf\u001b[0m\u001b[1;33m(\u001b[0m\u001b[1;33m*\u001b[0m\u001b[0ma\u001b[0m\u001b[1;33m,\u001b[0m \u001b[1;33m**\u001b[0m\u001b[0mk\u001b[0m\u001b[1;33m)\u001b[0m\u001b[1;33m\u001b[0m\u001b[1;33m\u001b[0m\u001b[0m\n\u001b[0m\u001b[0;32m    188\u001b[0m \u001b[1;33m\u001b[0m\u001b[0m\n\u001b[0;32m    189\u001b[0m         \u001b[1;32mif\u001b[0m \u001b[0mcallable\u001b[0m\u001b[1;33m(\u001b[0m\u001b[0marg\u001b[0m\u001b[1;33m)\u001b[0m\u001b[1;33m:\u001b[0m\u001b[1;33m\u001b[0m\u001b[1;33m\u001b[0m\u001b[0m\n",
      "\u001b[1;32m~\\anaconda3\\lib\\site-packages\\IPython\\core\\magics\\execution.py\u001b[0m in \u001b[0;36mtimeit\u001b[1;34m(self, line, cell, local_ns)\u001b[0m\n\u001b[0;32m   1178\u001b[0m             \u001b[1;32mfor\u001b[0m \u001b[0mindex\u001b[0m \u001b[1;32min\u001b[0m \u001b[0mrange\u001b[0m\u001b[1;33m(\u001b[0m\u001b[1;36m0\u001b[0m\u001b[1;33m,\u001b[0m \u001b[1;36m10\u001b[0m\u001b[1;33m)\u001b[0m\u001b[1;33m:\u001b[0m\u001b[1;33m\u001b[0m\u001b[1;33m\u001b[0m\u001b[0m\n\u001b[0;32m   1179\u001b[0m                 \u001b[0mnumber\u001b[0m \u001b[1;33m=\u001b[0m \u001b[1;36m10\u001b[0m \u001b[1;33m**\u001b[0m \u001b[0mindex\u001b[0m\u001b[1;33m\u001b[0m\u001b[1;33m\u001b[0m\u001b[0m\n\u001b[1;32m-> 1180\u001b[1;33m                 \u001b[0mtime_number\u001b[0m \u001b[1;33m=\u001b[0m \u001b[0mtimer\u001b[0m\u001b[1;33m.\u001b[0m\u001b[0mtimeit\u001b[0m\u001b[1;33m(\u001b[0m\u001b[0mnumber\u001b[0m\u001b[1;33m)\u001b[0m\u001b[1;33m\u001b[0m\u001b[1;33m\u001b[0m\u001b[0m\n\u001b[0m\u001b[0;32m   1181\u001b[0m                 \u001b[1;32mif\u001b[0m \u001b[0mtime_number\u001b[0m \u001b[1;33m>=\u001b[0m \u001b[1;36m0.2\u001b[0m\u001b[1;33m:\u001b[0m\u001b[1;33m\u001b[0m\u001b[1;33m\u001b[0m\u001b[0m\n\u001b[0;32m   1182\u001b[0m                     \u001b[1;32mbreak\u001b[0m\u001b[1;33m\u001b[0m\u001b[1;33m\u001b[0m\u001b[0m\n",
      "\u001b[1;32m~\\anaconda3\\lib\\site-packages\\IPython\\core\\magics\\execution.py\u001b[0m in \u001b[0;36mtimeit\u001b[1;34m(self, number)\u001b[0m\n\u001b[0;32m    167\u001b[0m         \u001b[0mgc\u001b[0m\u001b[1;33m.\u001b[0m\u001b[0mdisable\u001b[0m\u001b[1;33m(\u001b[0m\u001b[1;33m)\u001b[0m\u001b[1;33m\u001b[0m\u001b[1;33m\u001b[0m\u001b[0m\n\u001b[0;32m    168\u001b[0m         \u001b[1;32mtry\u001b[0m\u001b[1;33m:\u001b[0m\u001b[1;33m\u001b[0m\u001b[1;33m\u001b[0m\u001b[0m\n\u001b[1;32m--> 169\u001b[1;33m             \u001b[0mtiming\u001b[0m \u001b[1;33m=\u001b[0m \u001b[0mself\u001b[0m\u001b[1;33m.\u001b[0m\u001b[0minner\u001b[0m\u001b[1;33m(\u001b[0m\u001b[0mit\u001b[0m\u001b[1;33m,\u001b[0m \u001b[0mself\u001b[0m\u001b[1;33m.\u001b[0m\u001b[0mtimer\u001b[0m\u001b[1;33m)\u001b[0m\u001b[1;33m\u001b[0m\u001b[1;33m\u001b[0m\u001b[0m\n\u001b[0m\u001b[0;32m    170\u001b[0m         \u001b[1;32mfinally\u001b[0m\u001b[1;33m:\u001b[0m\u001b[1;33m\u001b[0m\u001b[1;33m\u001b[0m\u001b[0m\n\u001b[0;32m    171\u001b[0m             \u001b[1;32mif\u001b[0m \u001b[0mgcold\u001b[0m\u001b[1;33m:\u001b[0m\u001b[1;33m\u001b[0m\u001b[1;33m\u001b[0m\u001b[0m\n",
      "\u001b[1;32m<magic-timeit>\u001b[0m in \u001b[0;36minner\u001b[1;34m(_it, _timer)\u001b[0m\n",
      "\u001b[1;31mNameError\u001b[0m: name 'tweak_twitter_lazy' is not defined"
     ]
    }
   ],
   "source": [
    "%%timeit\n",
    "tweak_twitter_lazy(file)"
   ]
  },
  {
   "cell_type": "code",
   "execution_count": null,
   "metadata": {},
   "outputs": [],
   "source": []
  },
  {
   "cell_type": "code",
   "execution_count": 132,
   "metadata": {
    "lines_to_next_cell": 0,
    "scrolled": true
   },
   "outputs": [
    {
     "data": {
      "text/html": [
       "<h4>NAIVE QUERY PLAN</h4><p>run <b>LazyFrame.show_graph()</b> to see the optimized version</p><?xml version=\"1.0\" encoding=\"UTF-8\" standalone=\"no\"?>\n",
       "<!DOCTYPE svg PUBLIC \"-//W3C//DTD SVG 1.1//EN\"\n",
       " \"http://www.w3.org/Graphics/SVG/1.1/DTD/svg11.dtd\">\n",
       "<!-- Generated by graphviz version 7.1.0 (20230121.1956)\n",
       " -->\n",
       "<!-- Title: polars_query Pages: 1 -->\n",
       "<svg width=\"1540pt\" height=\"277pt\"\n",
       " viewBox=\"0.00 0.00 1540.00 277.00\" xmlns=\"http://www.w3.org/2000/svg\" xmlns:xlink=\"http://www.w3.org/1999/xlink\">\n",
       "<g id=\"graph0\" class=\"graph\" transform=\"scale(1 1) rotate(0) translate(4 273)\">\n",
       "<title>polars_query</title>\n",
       "<polygon fill=\"white\" stroke=\"none\" points=\"-4,4 -4,-273 1536,-273 1536,4 -4,4\"/>\n",
       "<!-- π 22/22 [(0, 0)] -->\n",
       "<g id=\"node1\" class=\"node\">\n",
       "<title>π 22/22 [(0, 0)]</title>\n",
       "<polygon fill=\"none\" stroke=\"black\" points=\"795,-269 737,-269 737,-233 795,-233 795,-269\"/>\n",
       "<text text-anchor=\"middle\" x=\"766\" y=\"-247.3\" font-family=\"Times,serif\" font-size=\"14.00\">π 22/22</text>\n",
       "</g>\n",
       "<!-- π 22/40 [(0, 1)] -->\n",
       "<g id=\"node2\" class=\"node\">\n",
       "<title>π 22/40 [(0, 1)]</title>\n",
       "<polygon fill=\"none\" stroke=\"black\" points=\"795,-197 737,-197 737,-161 795,-161 795,-197\"/>\n",
       "<text text-anchor=\"middle\" x=\"766\" y=\"-175.3\" font-family=\"Times,serif\" font-size=\"14.00\">π 22/40</text>\n",
       "</g>\n",
       "<!-- π 22/22 [(0, 0)]&#45;&#45;π 22/40 [(0, 1)] -->\n",
       "<g id=\"edge1\" class=\"edge\">\n",
       "<title>π 22/22 [(0, 0)]&#45;&#45;π 22/40 [(0, 1)]</title>\n",
       "<path fill=\"none\" stroke=\"black\" d=\"M766,-232.7C766,-221.85 766,-207.92 766,-197.1\"/>\n",
       "</g>\n",
       "<!-- WITH COLUMNS [&quot;replies&quot;,&quot;hashtag clicks&quot;,&quot;permalink clicks&quot;,&quot;app opens&quot;,&quot;app installs&quot;,&quot;follows&quot;,&quot;email tweet&quot;,&quot;dial phone&quot;,&quot;engagements&quot;,&quot;retweets&quot;,&quot;likes&quot;,&quot;user profile clicks&quot;,&quot;url clicks&quot;,&quot;detail expands&quot;,&quot;media views&quot;,&quot;media engagements&quot;,&quot;impressions&quot;,&quot;time&quot;] [(0, 2)] -->\n",
       "<g id=\"node3\" class=\"node\">\n",
       "<title>WITH COLUMNS [&quot;replies&quot;,&quot;hashtag clicks&quot;,&quot;permalink clicks&quot;,&quot;app opens&quot;,&quot;app installs&quot;,&quot;follows&quot;,&quot;email tweet&quot;,&quot;dial phone&quot;,&quot;engagements&quot;,&quot;retweets&quot;,&quot;likes&quot;,&quot;user profile clicks&quot;,&quot;url clicks&quot;,&quot;detail expands&quot;,&quot;media views&quot;,&quot;media engagements&quot;,&quot;impressions&quot;,&quot;time&quot;] [(0, 2)]</title>\n",
       "<polygon fill=\"none\" stroke=\"black\" points=\"1532,-125 0,-125 0,-89 1532,-89 1532,-125\"/>\n",
       "<text text-anchor=\"middle\" x=\"766\" y=\"-103.3\" font-family=\"Times,serif\" font-size=\"14.00\">WITH COLUMNS [&quot;replies&quot;,&quot;hashtag clicks&quot;,&quot;permalink clicks&quot;,&quot;app opens&quot;,&quot;app installs&quot;,&quot;follows&quot;,&quot;email tweet&quot;,&quot;dial phone&quot;,&quot;engagements&quot;,&quot;retweets&quot;,&quot;likes&quot;,&quot;user profile clicks&quot;,&quot;url clicks&quot;,&quot;detail expands&quot;,&quot;media views&quot;,&quot;media engagements&quot;,&quot;impressions&quot;,&quot;time&quot;]</text>\n",
       "</g>\n",
       "<!-- π 22/40 [(0, 1)]&#45;&#45;WITH COLUMNS [&quot;replies&quot;,&quot;hashtag clicks&quot;,&quot;permalink clicks&quot;,&quot;app opens&quot;,&quot;app installs&quot;,&quot;follows&quot;,&quot;email tweet&quot;,&quot;dial phone&quot;,&quot;engagements&quot;,&quot;retweets&quot;,&quot;likes&quot;,&quot;user profile clicks&quot;,&quot;url clicks&quot;,&quot;detail expands&quot;,&quot;media views&quot;,&quot;media engagements&quot;,&quot;impressions&quot;,&quot;time&quot;] [(0, 2)] -->\n",
       "<g id=\"edge2\" class=\"edge\">\n",
       "<title>π 22/40 [(0, 1)]&#45;&#45;WITH COLUMNS [&quot;replies&quot;,&quot;hashtag clicks&quot;,&quot;permalink clicks&quot;,&quot;app opens&quot;,&quot;app installs&quot;,&quot;follows&quot;,&quot;email tweet&quot;,&quot;dial phone&quot;,&quot;engagements&quot;,&quot;retweets&quot;,&quot;likes&quot;,&quot;user profile clicks&quot;,&quot;url clicks&quot;,&quot;detail expands&quot;,&quot;media views&quot;,&quot;media engagements&quot;,&quot;impressions&quot;,&quot;time&quot;] [(0, 2)]</title>\n",
       "<path fill=\"none\" stroke=\"black\" d=\"M766,-160.7C766,-149.85 766,-135.92 766,-125.1\"/>\n",
       "</g>\n",
       "<!-- CSV SCAN /Users/matt/Dropbox/work/pylib/datasets/data/__mharrison__2020&#45;2021.csv;\n",
       "π */40;\n",
       "σ &#45; [(0, 3)] -->\n",
       "<g id=\"node4\" class=\"node\">\n",
       "<title>CSV SCAN /Users/matt/Dropbox/work/pylib/datasets/data/__mharrison__2020&#45;2021.csv;\n",
       "π */40;\n",
       "σ &#45; [(0, 3)]</title>\n",
       "<polygon fill=\"none\" stroke=\"black\" points=\"1019.5,-53 512.5,-53 512.5,0 1019.5,0 1019.5,-53\"/>\n",
       "<text text-anchor=\"middle\" x=\"766\" y=\"-37.8\" font-family=\"Times,serif\" font-size=\"14.00\">CSV SCAN /Users/matt/Dropbox/work/pylib/datasets/data/__mharrison__2020&#45;2021.csv;</text>\n",
       "<text text-anchor=\"middle\" x=\"766\" y=\"-22.8\" font-family=\"Times,serif\" font-size=\"14.00\">π */40;</text>\n",
       "<text text-anchor=\"middle\" x=\"766\" y=\"-7.8\" font-family=\"Times,serif\" font-size=\"14.00\">σ &#45;</text>\n",
       "</g>\n",
       "<!-- WITH COLUMNS [&quot;replies&quot;,&quot;hashtag clicks&quot;,&quot;permalink clicks&quot;,&quot;app opens&quot;,&quot;app installs&quot;,&quot;follows&quot;,&quot;email tweet&quot;,&quot;dial phone&quot;,&quot;engagements&quot;,&quot;retweets&quot;,&quot;likes&quot;,&quot;user profile clicks&quot;,&quot;url clicks&quot;,&quot;detail expands&quot;,&quot;media views&quot;,&quot;media engagements&quot;,&quot;impressions&quot;,&quot;time&quot;] [(0, 2)]&#45;&#45;CSV SCAN /Users/matt/Dropbox/work/pylib/datasets/data/__mharrison__2020&#45;2021.csv;\n",
       "π */40;\n",
       "σ &#45; [(0, 3)] -->\n",
       "<g id=\"edge3\" class=\"edge\">\n",
       "<title>WITH COLUMNS [&quot;replies&quot;,&quot;hashtag clicks&quot;,&quot;permalink clicks&quot;,&quot;app opens&quot;,&quot;app installs&quot;,&quot;follows&quot;,&quot;email tweet&quot;,&quot;dial phone&quot;,&quot;engagements&quot;,&quot;retweets&quot;,&quot;likes&quot;,&quot;user profile clicks&quot;,&quot;url clicks&quot;,&quot;detail expands&quot;,&quot;media views&quot;,&quot;media engagements&quot;,&quot;impressions&quot;,&quot;time&quot;] [(0, 2)]&#45;&#45;CSV SCAN /Users/matt/Dropbox/work/pylib/datasets/data/__mharrison__2020&#45;2021.csv;\n",
       "π */40;\n",
       "σ &#45; [(0, 3)]</title>\n",
       "<path fill=\"none\" stroke=\"black\" d=\"M766,-88.58C766,-78.19 766,-64.81 766,-53.22\"/>\n",
       "</g>\n",
       "</g>\n",
       "</svg>\n"
      ],
      "text/plain": [
       "<polars.LazyFrame object at 0x13195FAC0>"
      ]
     },
     "execution_count": 132,
     "metadata": {},
     "output_type": "execute_result"
    }
   ],
   "source": [
    "# add file reading\n",
    "def tweak_twitter_lazy_plan(file):\n",
    "    return (pl.scan_csv(file)\n",
    "     .lazy()\n",
    "     .with_columns([\n",
    "         pl.col(['replies', 'hashtag clicks', 'permalink clicks', 'app opens', \n",
    "                 'app installs', 'follows', 'email tweet', 'dial phone'])\n",
    "           .cast(pl.UInt8),\n",
    "         pl.col(['engagements', 'retweets', 'likes', 'user profile clicks', \n",
    "                 'url clicks',  'detail expands', 'media views', 'media engagements'])\n",
    "           .cast(pl.UInt16),\n",
    "         pl.col('impressions').cast(pl.UInt32),\n",
    "         pl.col('time').str.split('+').arr.get(0)\n",
    "            .str.strptime(pl.Datetime, '%Y-%m-%d %H:%M:%S')\n",
    "            .dt.replace_time_zone('UTC').dt.convert_time_zone('America/Denver'),\n",
    "     ])\n",
    "     .select(pl.col(['Tweet id', 'Tweet permalink', 'Tweet text', 'time', \n",
    "                     'impressions', 'engagements', 'engagement rate', 'retweets', \n",
    "                     'replies', 'likes', 'user profile clicks', 'url clicks', \n",
    "                     'hashtag clicks', 'detail expands', 'permalink clicks', \n",
    "                     'app opens', 'app installs', 'follows', 'email tweet', \n",
    "                     'dial phone', 'media views', 'media engagements']))                    \n",
    "     .select(pl.all().map_alias(lambda name: name.lower().replace(' ', '_')))\n",
    "#     .collect()\n",
    "    )\n",
    "\n",
    "# doesn't work with URL\n",
    "tweak_twitter_lazy_plan(file)"
   ]
  },
  {
   "cell_type": "markdown",
   "metadata": {},
   "source": [
    "## Chain Exercise\n",
    "* Use `.pipe` to print the shape of the dataframe after every step in the chain of the `tweak_twitter` function"
   ]
  },
  {
   "cell_type": "code",
   "execution_count": 16,
   "metadata": {},
   "outputs": [
    {
     "ename": "SyntaxError",
     "evalue": "invalid syntax (Temp/ipykernel_11404/3133398323.py, line 13)",
     "output_type": "error",
     "traceback": [
      "\u001b[1;36m  File \u001b[1;32m\"C:\\Users\\chait\\AppData\\Local\\Temp/ipykernel_11404/3133398323.py\"\u001b[1;36m, line \u001b[1;32m13\u001b[0m\n\u001b[1;33m    .pipe(debug_code, extra='update columns')\u001b[0m\n\u001b[1;37m    ^\u001b[0m\n\u001b[1;31mSyntaxError\u001b[0m\u001b[1;31m:\u001b[0m invalid syntax\n"
     ]
    }
   ],
   "source": [
    "# add file reading\n",
    "def debug_code(df, extra=''):\n",
    "    print(f'{extra} {df.shape}')\n",
    "    return df\n",
    "\n",
    "def tweak_twitter_lazy_plan(df):\n",
    "    return (df\n",
    "     .pipe(debug_code, extra='Start')\n",
    "     .with_columns([\n",
    "         pl.col(['replies', 'hashtag clicks', 'permalink clicks', 'app opens', \n",
    "                 'app installs', 'follows', 'email tweet', 'dial phone'])\n",
    "           .cast(pl.UInt8),\n",
    "         \n",
    "         pl.col(['engagements', 'retweets', 'likes', 'user profile clicks', \n",
    "                 'url clicks',  'detail expands', 'media views', 'media engagements'])\n",
    "           .cast(pl.UInt16),\n",
    "         pl.col('impressions').cast(pl.UInt32),\n",
    "         pl.col('time').str.split('+').arr.get(0)\n",
    "            .str.strptime(pl.Datetime, '%Y-%m-%d %H:%M:%S')\n",
    "            .dt.replace_time_zone('UTC').dt.convert_time_zone('America/Denver'),\n",
    "     ])\n",
    "     .pipe(debug_code, extra='update columns')   \n",
    "     .select(pl.col(['Tweet id', 'Tweet permalink', 'Tweet text', 'time', \n",
    "                     'impressions', 'engagements', 'engagement rate', 'retweets', \n",
    "                     'replies', 'likes', 'user profile clicks', 'url clicks', \n",
    "                     'hashtag clicks', 'detail expands', 'permalink clicks', \n",
    "                     'app opens', 'app installs', 'follows', 'email tweet', \n",
    "                     'dial phone', 'media views', 'media engagements']))                    \n",
    "     .select(pl.all().map_alias(lambda name: name.lower().replace(' ', '_')))\n",
    "#     .collect()\n",
    "    )\n",
    "\n",
    "# doesn't work with URL\n",
    "tweak_twitter_lazy_plan(df)"
   ]
  },
  {
   "cell_type": "code",
   "execution_count": 13,
   "metadata": {},
   "outputs": [
    {
     "data": {
      "text/html": [
       "<div><style>\n",
       ".dataframe > thead > tr > th,\n",
       ".dataframe > tbody > tr > td {\n",
       "  text-align: right;\n",
       "}\n",
       "</style>\n",
       "<small>shape: (5_791, 40)</small><table border=\"1\" class=\"dataframe\"><thead><tr><th>Tweet id</th><th>Tweet permalink</th><th>Tweet text</th><th>time</th><th>impressions</th><th>engagements</th><th>engagement rate</th><th>retweets</th><th>replies</th><th>likes</th><th>user profile clicks</th><th>url clicks</th><th>hashtag clicks</th><th>detail expands</th><th>permalink clicks</th><th>app opens</th><th>app installs</th><th>follows</th><th>email tweet</th><th>dial phone</th><th>media views</th><th>media engagements</th><th>promoted impressions</th><th>promoted engagements</th><th>promoted engagement rate</th><th>promoted retweets</th><th>promoted replies</th><th>promoted likes</th><th>promoted user profile clicks</th><th>promoted url clicks</th><th>promoted hashtag clicks</th><th>promoted detail expands</th><th>promoted permalink clicks</th><th>promoted app opens</th><th>promoted app installs</th><th>promoted follows</th><th>promoted email tweet</th><th>promoted dial phone</th><th>promoted media views</th><th>promoted media engagements</th></tr><tr><td>i64</td><td>str</td><td>str</td><td>str</td><td>f64</td><td>f64</td><td>f64</td><td>f64</td><td>f64</td><td>f64</td><td>f64</td><td>f64</td><td>f64</td><td>f64</td><td>f64</td><td>i64</td><td>i64</td><td>i64</td><td>i64</td><td>i64</td><td>i64</td><td>i64</td><td>str</td><td>str</td><td>str</td><td>str</td><td>str</td><td>str</td><td>str</td><td>str</td><td>str</td><td>str</td><td>str</td><td>str</td><td>str</td><td>str</td><td>str</td><td>str</td><td>str</td><td>str</td></tr></thead><tbody><tr><td>1212580517905780737</td><td>&quot;https://twitte…</td><td>&quot;Sounds like a …</td><td>&quot;2020-01-02 03:…</td><td>1465.0</td><td>7.0</td><td>0.004778</td><td>0.0</td><td>0.0</td><td>3.0</td><td>3.0</td><td>0.0</td><td>0.0</td><td>1.0</td><td>0.0</td><td>0</td><td>0</td><td>0</td><td>0</td><td>0</td><td>0</td><td>0</td><td>null</td><td>null</td><td>null</td><td>null</td><td>null</td><td>null</td><td>null</td><td>null</td><td>null</td><td>null</td><td>null</td><td>null</td><td>null</td><td>null</td><td>null</td><td>null</td><td>null</td><td>null</td></tr><tr><td>1212582494828036097</td><td>&quot;https://twitte…</td><td>&quot;@FogleBird Loo…</td><td>&quot;2020-01-02 03:…</td><td>154.0</td><td>3.0</td><td>0.019481</td><td>0.0</td><td>0.0</td><td>1.0</td><td>1.0</td><td>0.0</td><td>0.0</td><td>1.0</td><td>0.0</td><td>0</td><td>0</td><td>0</td><td>0</td><td>0</td><td>0</td><td>0</td><td>null</td><td>null</td><td>null</td><td>null</td><td>null</td><td>null</td><td>null</td><td>null</td><td>null</td><td>null</td><td>null</td><td>null</td><td>null</td><td>null</td><td>null</td><td>null</td><td>null</td><td>null</td></tr><tr><td>1212613735698690049</td><td>&quot;https://twitte…</td><td>&quot;@afilina That&#x27;…</td><td>&quot;2020-01-02 05:…</td><td>1024.0</td><td>6.0</td><td>0.005859</td><td>0.0</td><td>0.0</td><td>1.0</td><td>2.0</td><td>0.0</td><td>0.0</td><td>3.0</td><td>0.0</td><td>0</td><td>0</td><td>0</td><td>0</td><td>0</td><td>0</td><td>0</td><td>null</td><td>null</td><td>null</td><td>null</td><td>null</td><td>null</td><td>null</td><td>null</td><td>null</td><td>null</td><td>null</td><td>null</td><td>null</td><td>null</td><td>null</td><td>null</td><td>null</td><td>null</td></tr><tr><td>1212911749617242113</td><td>&quot;https://twitte…</td><td>&quot;@randal_olson …</td><td>&quot;2020-01-03 01:…</td><td>1419.0</td><td>14.0</td><td>0.009866</td><td>0.0</td><td>1.0</td><td>5.0</td><td>7.0</td><td>0.0</td><td>0.0</td><td>1.0</td><td>0.0</td><td>0</td><td>0</td><td>0</td><td>0</td><td>0</td><td>0</td><td>0</td><td>null</td><td>null</td><td>null</td><td>null</td><td>null</td><td>null</td><td>null</td><td>null</td><td>null</td><td>null</td><td>null</td><td>null</td><td>null</td><td>null</td><td>null</td><td>null</td><td>null</td><td>null</td></tr><tr><td>1212920556028252160</td><td>&quot;https://twitte…</td><td>&quot;@AlSweigart So…</td><td>&quot;2020-01-03 02:…</td><td>198.0</td><td>1.0</td><td>0.005051</td><td>0.0</td><td>0.0</td><td>1.0</td><td>0.0</td><td>0.0</td><td>0.0</td><td>0.0</td><td>0.0</td><td>0</td><td>0</td><td>0</td><td>0</td><td>0</td><td>0</td><td>0</td><td>null</td><td>null</td><td>null</td><td>null</td><td>null</td><td>null</td><td>null</td><td>null</td><td>null</td><td>null</td><td>null</td><td>null</td><td>null</td><td>null</td><td>null</td><td>null</td><td>null</td><td>null</td></tr><tr><td>1212921038356434947</td><td>&quot;https://twitte…</td><td>&quot;@tmarthal @Ted…</td><td>&quot;2020-01-03 02:…</td><td>170.0</td><td>3.0</td><td>0.017647</td><td>0.0</td><td>0.0</td><td>1.0</td><td>1.0</td><td>0.0</td><td>0.0</td><td>1.0</td><td>0.0</td><td>0</td><td>0</td><td>0</td><td>0</td><td>0</td><td>0</td><td>0</td><td>null</td><td>null</td><td>null</td><td>null</td><td>null</td><td>null</td><td>null</td><td>null</td><td>null</td><td>null</td><td>null</td><td>null</td><td>null</td><td>null</td><td>null</td><td>null</td><td>null</td><td>null</td></tr><tr><td>1212921192287330304</td><td>&quot;https://twitte…</td><td>&quot;@gabegundy It&#x27;…</td><td>&quot;2020-01-03 02:…</td><td>104.0</td><td>2.0</td><td>0.019231</td><td>0.0</td><td>1.0</td><td>1.0</td><td>0.0</td><td>0.0</td><td>0.0</td><td>0.0</td><td>0.0</td><td>0</td><td>0</td><td>0</td><td>0</td><td>0</td><td>0</td><td>0</td><td>null</td><td>null</td><td>null</td><td>null</td><td>null</td><td>null</td><td>null</td><td>null</td><td>null</td><td>null</td><td>null</td><td>null</td><td>null</td><td>null</td><td>null</td><td>null</td><td>null</td><td>null</td></tr><tr><td>1212969747186208768</td><td>&quot;https://twitte…</td><td>&quot;@anthonypjshaw…</td><td>&quot;2020-01-03 05:…</td><td>189.0</td><td>0.0</td><td>0.0</td><td>0.0</td><td>0.0</td><td>0.0</td><td>0.0</td><td>0.0</td><td>0.0</td><td>0.0</td><td>0.0</td><td>0</td><td>0</td><td>0</td><td>0</td><td>0</td><td>0</td><td>0</td><td>null</td><td>null</td><td>null</td><td>null</td><td>null</td><td>null</td><td>null</td><td>null</td><td>null</td><td>null</td><td>null</td><td>null</td><td>null</td><td>null</td><td>null</td><td>null</td><td>null</td><td>null</td></tr><tr><td>1212971634019033088</td><td>&quot;https://twitte…</td><td>&quot;@jet_set A lit…</td><td>&quot;2020-01-03 05:…</td><td>900.0</td><td>4.0</td><td>0.004444</td><td>0.0</td><td>0.0</td><td>0.0</td><td>4.0</td><td>0.0</td><td>0.0</td><td>0.0</td><td>0.0</td><td>0</td><td>0</td><td>0</td><td>0</td><td>0</td><td>0</td><td>0</td><td>null</td><td>null</td><td>null</td><td>null</td><td>null</td><td>null</td><td>null</td><td>null</td><td>null</td><td>null</td><td>null</td><td>null</td><td>null</td><td>null</td><td>null</td><td>null</td><td>null</td><td>null</td></tr><tr><td>1213194379793293312</td><td>&quot;https://twitte…</td><td>&quot;@juliasilge @r…</td><td>&quot;2020-01-03 20:…</td><td>252.0</td><td>2.0</td><td>0.007937</td><td>0.0</td><td>0.0</td><td>1.0</td><td>1.0</td><td>0.0</td><td>0.0</td><td>0.0</td><td>0.0</td><td>0</td><td>0</td><td>0</td><td>0</td><td>0</td><td>0</td><td>0</td><td>null</td><td>null</td><td>null</td><td>null</td><td>null</td><td>null</td><td>null</td><td>null</td><td>null</td><td>null</td><td>null</td><td>null</td><td>null</td><td>null</td><td>null</td><td>null</td><td>null</td><td>null</td></tr><tr><td>1213699561962631168</td><td>&quot;https://twitte…</td><td>&quot;Herein you wil…</td><td>&quot;2020-01-05 05:…</td><td>1610.0</td><td>6.0</td><td>0.003727</td><td>0.0</td><td>0.0</td><td>2.0</td><td>2.0</td><td>0.0</td><td>0.0</td><td>2.0</td><td>0.0</td><td>0</td><td>0</td><td>0</td><td>0</td><td>0</td><td>0</td><td>0</td><td>null</td><td>null</td><td>null</td><td>null</td><td>null</td><td>null</td><td>null</td><td>null</td><td>null</td><td>null</td><td>null</td><td>null</td><td>null</td><td>null</td><td>null</td><td>null</td><td>null</td><td>null</td></tr><tr><td>1213896543985516544</td><td>&quot;https://twitte…</td><td>&quot;@Austen Care t…</td><td>&quot;2020-01-05 18:…</td><td>165.0</td><td>3.0</td><td>0.018182</td><td>0.0</td><td>0.0</td><td>0.0</td><td>1.0</td><td>0.0</td><td>0.0</td><td>2.0</td><td>0.0</td><td>0</td><td>0</td><td>0</td><td>0</td><td>0</td><td>0</td><td>0</td><td>null</td><td>null</td><td>null</td><td>null</td><td>null</td><td>null</td><td>null</td><td>null</td><td>null</td><td>null</td><td>null</td><td>null</td><td>null</td><td>null</td><td>null</td><td>null</td><td>null</td><td>null</td></tr><tr><td>&hellip;</td><td>&hellip;</td><td>&hellip;</td><td>&hellip;</td><td>&hellip;</td><td>&hellip;</td><td>&hellip;</td><td>&hellip;</td><td>&hellip;</td><td>&hellip;</td><td>&hellip;</td><td>&hellip;</td><td>&hellip;</td><td>&hellip;</td><td>&hellip;</td><td>&hellip;</td><td>&hellip;</td><td>&hellip;</td><td>&hellip;</td><td>&hellip;</td><td>&hellip;</td><td>&hellip;</td><td>&hellip;</td><td>&hellip;</td><td>&hellip;</td><td>&hellip;</td><td>&hellip;</td><td>&hellip;</td><td>&hellip;</td><td>&hellip;</td><td>&hellip;</td><td>&hellip;</td><td>&hellip;</td><td>&hellip;</td><td>&hellip;</td><td>&hellip;</td><td>&hellip;</td><td>&hellip;</td><td>&hellip;</td><td>&hellip;</td></tr><tr><td>1474805013343981570</td><td>&quot;https://twitte…</td><td>&quot;@EricSchles @s…</td><td>&quot;2021-12-25 18:…</td><td>416.0</td><td>3.0</td><td>0.007212</td><td>0.0</td><td>0.0</td><td>2.0</td><td>1.0</td><td>0.0</td><td>0.0</td><td>0.0</td><td>0.0</td><td>0</td><td>0</td><td>0</td><td>0</td><td>0</td><td>0</td><td>0</td><td>null</td><td>null</td><td>null</td><td>null</td><td>null</td><td>null</td><td>null</td><td>null</td><td>null</td><td>null</td><td>null</td><td>null</td><td>null</td><td>null</td><td>null</td><td>null</td><td>null</td><td>null</td></tr><tr><td>1474820707234185217</td><td>&quot;https://twitte…</td><td>&quot;Mele kalikimak…</td><td>&quot;2021-12-25 19:…</td><td>15840.0</td><td>372.0</td><td>0.023485</td><td>0.0</td><td>2.0</td><td>61.0</td><td>59.0</td><td>6.0</td><td>0.0</td><td>66.0</td><td>0.0</td><td>0</td><td>0</td><td>0</td><td>0</td><td>0</td><td>178</td><td>178</td><td>null</td><td>null</td><td>null</td><td>null</td><td>null</td><td>null</td><td>null</td><td>null</td><td>null</td><td>null</td><td>null</td><td>null</td><td>null</td><td>null</td><td>null</td><td>null</td><td>null</td><td>null</td></tr><tr><td>1475023008620154882</td><td>&quot;https://twitte…</td><td>&quot;Good looking c…</td><td>&quot;2021-12-26 08:…</td><td>22557.0</td><td>501.0</td><td>0.02221</td><td>0.0</td><td>9.0</td><td>50.0</td><td>89.0</td><td>14.0</td><td>0.0</td><td>118.0</td><td>0.0</td><td>0</td><td>0</td><td>0</td><td>0</td><td>0</td><td>221</td><td>221</td><td>null</td><td>null</td><td>null</td><td>null</td><td>null</td><td>null</td><td>null</td><td>null</td><td>null</td><td>null</td><td>null</td><td>null</td><td>null</td><td>null</td><td>null</td><td>null</td><td>null</td><td>null</td></tr><tr><td>1475299210291343362</td><td>&quot;https://twitte…</td><td>&quot;@youtah A litt…</td><td>&quot;2021-12-27 02:…</td><td>1586.0</td><td>35.0</td><td>0.022068</td><td>0.0</td><td>0.0</td><td>2.0</td><td>1.0</td><td>1.0</td><td>0.0</td><td>0.0</td><td>0.0</td><td>0</td><td>0</td><td>0</td><td>0</td><td>0</td><td>31</td><td>31</td><td>null</td><td>null</td><td>null</td><td>null</td><td>null</td><td>null</td><td>null</td><td>null</td><td>null</td><td>null</td><td>null</td><td>null</td><td>null</td><td>null</td><td>null</td><td>null</td><td>null</td><td>null</td></tr><tr><td>1475299401681682434</td><td>&quot;https://twitte…</td><td>&quot;@mathsppblog S…</td><td>&quot;2021-12-27 02:…</td><td>4641.0</td><td>35.0</td><td>0.007541</td><td>0.0</td><td>4.0</td><td>11.0</td><td>10.0</td><td>0.0</td><td>0.0</td><td>10.0</td><td>0.0</td><td>0</td><td>0</td><td>0</td><td>0</td><td>0</td><td>0</td><td>0</td><td>null</td><td>null</td><td>null</td><td>null</td><td>null</td><td>null</td><td>null</td><td>null</td><td>null</td><td>null</td><td>null</td><td>null</td><td>null</td><td>null</td><td>null</td><td>null</td><td>null</td><td>null</td></tr><tr><td>1475299848093978626</td><td>&quot;https://twitte…</td><td>&quot;@willmcgugan P…</td><td>&quot;2021-12-27 02:…</td><td>1969.0</td><td>4.0</td><td>0.002031</td><td>0.0</td><td>0.0</td><td>4.0</td><td>0.0</td><td>0.0</td><td>0.0</td><td>0.0</td><td>0.0</td><td>0</td><td>0</td><td>0</td><td>0</td><td>0</td><td>0</td><td>0</td><td>null</td><td>null</td><td>null</td><td>null</td><td>null</td><td>null</td><td>null</td><td>null</td><td>null</td><td>null</td><td>null</td><td>null</td><td>null</td><td>null</td><td>null</td><td>null</td><td>null</td><td>null</td></tr><tr><td>1475300370138087426</td><td>&quot;https://twitte…</td><td>&quot;@reuvenmlerner…</td><td>&quot;2021-12-27 02:…</td><td>1669.0</td><td>5.0</td><td>0.002996</td><td>0.0</td><td>0.0</td><td>3.0</td><td>0.0</td><td>0.0</td><td>0.0</td><td>2.0</td><td>0.0</td><td>0</td><td>0</td><td>0</td><td>0</td><td>0</td><td>0</td><td>0</td><td>null</td><td>null</td><td>null</td><td>null</td><td>null</td><td>null</td><td>null</td><td>null</td><td>null</td><td>null</td><td>null</td><td>null</td><td>null</td><td>null</td><td>null</td><td>null</td><td>null</td><td>null</td></tr><tr><td>1475300661851934721</td><td>&quot;https://twitte…</td><td>&quot;@allison_horst…</td><td>&quot;2021-12-27 03:…</td><td>986.0</td><td>1.0</td><td>0.001014</td><td>0.0</td><td>0.0</td><td>0.0</td><td>0.0</td><td>0.0</td><td>0.0</td><td>1.0</td><td>0.0</td><td>0</td><td>0</td><td>0</td><td>0</td><td>0</td><td>0</td><td>0</td><td>null</td><td>null</td><td>null</td><td>null</td><td>null</td><td>null</td><td>null</td><td>null</td><td>null</td><td>null</td><td>null</td><td>null</td><td>null</td><td>null</td><td>null</td><td>null</td><td>null</td><td>null</td></tr><tr><td>1475518143690801156</td><td>&quot;https://twitte…</td><td>&quot;@willmcgugan Y…</td><td>&quot;2021-12-27 17:…</td><td>1790.0</td><td>7.0</td><td>0.003911</td><td>0.0</td><td>0.0</td><td>3.0</td><td>1.0</td><td>0.0</td><td>0.0</td><td>3.0</td><td>0.0</td><td>0</td><td>0</td><td>0</td><td>0</td><td>0</td><td>0</td><td>0</td><td>null</td><td>null</td><td>null</td><td>null</td><td>null</td><td>null</td><td>null</td><td>null</td><td>null</td><td>null</td><td>null</td><td>null</td><td>null</td><td>null</td><td>null</td><td>null</td><td>null</td><td>null</td></tr><tr><td>1475891441243025408</td><td>&quot;https://twitte…</td><td>&quot;@posco Visitin…</td><td>&quot;2021-12-28 18:…</td><td>1611.0</td><td>12.0</td><td>0.007449</td><td>0.0</td><td>0.0</td><td>4.0</td><td>4.0</td><td>0.0</td><td>0.0</td><td>4.0</td><td>0.0</td><td>0</td><td>0</td><td>0</td><td>0</td><td>0</td><td>0</td><td>0</td><td>null</td><td>null</td><td>null</td><td>null</td><td>null</td><td>null</td><td>null</td><td>null</td><td>null</td><td>null</td><td>null</td><td>null</td><td>null</td><td>null</td><td>null</td><td>null</td><td>null</td><td>null</td></tr><tr><td>1476453819751878656</td><td>&quot;https://twitte…</td><td>&quot;@johndsaunders…</td><td>&quot;2021-12-30 07:…</td><td>1354.0</td><td>8.0</td><td>0.005908</td><td>0.0</td><td>0.0</td><td>2.0</td><td>4.0</td><td>0.0</td><td>0.0</td><td>2.0</td><td>0.0</td><td>0</td><td>0</td><td>0</td><td>0</td><td>0</td><td>0</td><td>0</td><td>null</td><td>null</td><td>null</td><td>null</td><td>null</td><td>null</td><td>null</td><td>null</td><td>null</td><td>null</td><td>null</td><td>null</td><td>null</td><td>null</td><td>null</td><td>null</td><td>null</td><td>null</td></tr><tr><td>1477024722051158018</td><td>&quot;https://twitte…</td><td>&quot;@tunguz Xgboos…</td><td>&quot;2021-12-31 21:…</td><td>5041.0</td><td>63.0</td><td>0.012498</td><td>0.0</td><td>3.0</td><td>23.0</td><td>8.0</td><td>0.0</td><td>0.0</td><td>29.0</td><td>0.0</td><td>0</td><td>0</td><td>0</td><td>0</td><td>0</td><td>0</td><td>0</td><td>null</td><td>null</td><td>null</td><td>null</td><td>null</td><td>null</td><td>null</td><td>null</td><td>null</td><td>null</td><td>null</td><td>null</td><td>null</td><td>null</td><td>null</td><td>null</td><td>null</td><td>null</td></tr></tbody></table></div>"
      ],
      "text/plain": [
       "shape: (5_791, 40)\n",
       "┌─────────────────────┬───────────────────────────────────┬───────────────────────────────────┬───────────────────────────┬───┬──────────────────────┬─────────────────────┬──────────────────────┬────────────────────────────┐\n",
       "│ Tweet id            ┆ Tweet permalink                   ┆ Tweet text                        ┆ time                      ┆ … ┆ promoted email tweet ┆ promoted dial phone ┆ promoted media views ┆ promoted media engagements │\n",
       "│ ---                 ┆ ---                               ┆ ---                               ┆ ---                       ┆   ┆ ---                  ┆ ---                 ┆ ---                  ┆ ---                        │\n",
       "│ i64                 ┆ str                               ┆ str                               ┆ str                       ┆   ┆ str                  ┆ str                 ┆ str                  ┆ str                        │\n",
       "╞═════════════════════╪═══════════════════════════════════╪═══════════════════════════════════╪═══════════════════════════╪═══╪══════════════════════╪═════════════════════╪══════════════════════╪════════════════════════════╡\n",
       "│ 1212580517905780737 ┆ https://twitter.com/__mharrison_… ┆ Sounds like a great topic! https… ┆ 2020-01-02 03:44:00+00:00 ┆ … ┆ null                 ┆ null                ┆ null                 ┆ null                       │\n",
       "│ 1212582494828036097 ┆ https://twitter.com/__mharrison_… ┆ @FogleBird Looks like SLC. I can… ┆ 2020-01-02 03:52:00+00:00 ┆ … ┆ null                 ┆ null                ┆ null                 ┆ null                       │\n",
       "│ 1212613735698690049 ┆ https://twitter.com/__mharrison_… ┆ @afilina That's really amount an… ┆ 2020-01-02 05:56:00+00:00 ┆ … ┆ null                 ┆ null                ┆ null                 ┆ null                       │\n",
       "│ 1212911749617242113 ┆ https://twitter.com/__mharrison_… ┆ @randal_olson I use anaconda whe… ┆ 2020-01-03 01:41:00+00:00 ┆ … ┆ null                 ┆ null                ┆ null                 ┆ null                       │\n",
       "│ …                   ┆ …                                 ┆ …                                 ┆ …                         ┆ … ┆ …                    ┆ …                   ┆ …                    ┆ …                          │\n",
       "│ 1475518143690801156 ┆ https://twitter.com/__mharrison_… ┆ @willmcgugan You need to find ou… ┆ 2021-12-27 17:25:00+00:00 ┆ … ┆ null                 ┆ null                ┆ null                 ┆ null                       │\n",
       "│ 1475891441243025408 ┆ https://twitter.com/__mharrison_… ┆ @posco Visiting Hawaii for the h… ┆ 2021-12-28 18:08:00+00:00 ┆ … ┆ null                 ┆ null                ┆ null                 ┆ null                       │\n",
       "│ 1476453819751878656 ┆ https://twitter.com/__mharrison_… ┆ @johndsaunders My son just built… ┆ 2021-12-30 07:23:00+00:00 ┆ … ┆ null                 ┆ null                ┆ null                 ┆ null                       │\n",
       "│ 1477024722051158018 ┆ https://twitter.com/__mharrison_… ┆ @tunguz Xgboost                   ┆ 2021-12-31 21:11:00+00:00 ┆ … ┆ null                 ┆ null                ┆ null                 ┆ null                       │\n",
       "└─────────────────────┴───────────────────────────────────┴───────────────────────────────────┴───────────────────────────┴───┴──────────────────────┴─────────────────────┴──────────────────────┴────────────────────────────┘"
      ]
     },
     "execution_count": 13,
     "metadata": {},
     "output_type": "execute_result"
    }
   ],
   "source": [
    "df"
   ]
  },
  {
   "cell_type": "code",
   "execution_count": null,
   "metadata": {},
   "outputs": [],
   "source": []
  },
  {
   "cell_type": "code",
   "execution_count": null,
   "metadata": {},
   "outputs": [],
   "source": []
  },
  {
   "cell_type": "code",
   "execution_count": null,
   "metadata": {},
   "outputs": [],
   "source": []
  },
  {
   "cell_type": "code",
   "execution_count": null,
   "metadata": {},
   "outputs": [],
   "source": []
  },
  {
   "cell_type": "markdown",
   "metadata": {},
   "source": [
    "## Pandas Comparison"
   ]
  },
  {
   "cell_type": "code",
   "execution_count": 133,
   "metadata": {},
   "outputs": [],
   "source": [
    "import pandas as pd\n",
    "def tweak_twitter_pd(df):\n",
    "    return (df\n",
    "     .rename(columns=lambda col_name: col_name.replace(' ', '_'))\n",
    "     .pipe(lambda df_: df_.drop(columns=[c for c in df_.columns if 'promoted' in c]))\n",
    "     .drop(columns=['permalink_clicks', 'app_opens', 'app_installs', 'email_tweet', 'dial_phone'])\n",
    "     .assign(impressions=df.impressions.astype('uint32'),\n",
    "             engagements=df.engagements.astype('uint16'),\n",
    "             **{c:lambda df_, c=c:df_[c].astype('uint8') for c in ['replies', 'hashtag_clicks', 'follows']},  # less than 255\n",
    "             **{c:lambda df_, c=c:df_[c].astype('uint16') for c in ['retweets', 'likes', 'user_profile_clicks', 'url_clicks', \n",
    "                                              'detail_expands', 'media_views', 'media_engagements']},  # less than 65,535\n",
    "             Tweet_permalink=lambda df_: pd.Series('https://twitter.com/__mharrison__/status/', dtype='category', \n",
    "                                                   index=df_.index),\n",
    "             time=lambda df_: df_.time.dt.tz_convert('America/Denver')\n",
    "            )\n",
    "    )\n",
    "\n",
    "url = 'https://github.com/mattharrison/datasets/raw/master/data/__mharrison__2020-2021.csv'\n",
    "df_pd = pd.read_csv(url, parse_dates=['time'])\n",
    "twit_df_pd = tweak_twitter_pd(df_pd)"
   ]
  },
  {
   "cell_type": "code",
   "execution_count": 134,
   "metadata": {},
   "outputs": [
    {
     "name": "stdout",
     "output_type": "stream",
     "text": [
      "2.74 ms ± 116 µs per loop (mean ± std. dev. of 7 runs, 100 loops each)\n"
     ]
    }
   ],
   "source": [
    "%%timeit\n",
    "tweak_twitter_pd(df_pd)"
   ]
  },
  {
   "cell_type": "code",
   "execution_count": 135,
   "metadata": {},
   "outputs": [
    {
     "name": "stdout",
     "output_type": "stream",
     "text": [
      "47.6 ms ± 2 ms per loop (mean ± std. dev. of 7 runs, 10 loops each)\n"
     ]
    }
   ],
   "source": [
    "%%timeit\n",
    "df_pd = pd.read_csv(file, parse_dates=['time'])\n",
    "twit_df_pd = tweak_twitter_pd(df_pd)"
   ]
  },
  {
   "cell_type": "code",
   "execution_count": null,
   "metadata": {},
   "outputs": [],
   "source": []
  },
  {
   "cell_type": "code",
   "execution_count": null,
   "metadata": {},
   "outputs": [],
   "source": []
  },
  {
   "cell_type": "markdown",
   "metadata": {},
   "source": [
    "## Apply"
   ]
  },
  {
   "cell_type": "code",
   "execution_count": 136,
   "metadata": {},
   "outputs": [],
   "source": [
    "twit_df = tweak_twitter(df)"
   ]
  },
  {
   "cell_type": "code",
   "execution_count": 138,
   "metadata": {
    "scrolled": true
   },
   "outputs": [
    {
     "data": {
      "text/html": [
       "<div><style>\n",
       ".dataframe > thead > tr > th,\n",
       ".dataframe > tbody > tr > td {\n",
       "  text-align: right;\n",
       "}\n",
       "</style>\n",
       "<small>shape: (5791, 23)</small><table border=\"1\" class=\"dataframe\"><thead><tr><th>tweet_id</th><th>tweet_permalink</th><th>tweet_text</th><th>time</th><th>impressions</th><th>engagements</th><th>engagement_rate</th><th>retweets</th><th>replies</th><th>likes</th><th>user_profile_clicks</th><th>url_clicks</th><th>hashtag_clicks</th><th>detail_expands</th><th>permalink_clicks</th><th>app_opens</th><th>app_installs</th><th>follows</th><th>email_tweet</th><th>dial_phone</th><th>media_views</th><th>media_engagements</th><th>engagement_percent</th></tr><tr><td>i64</td><td>str</td><td>str</td><td>datetime[μs, America/Denver]</td><td>u32</td><td>u16</td><td>f64</td><td>u16</td><td>u8</td><td>u16</td><td>u16</td><td>u16</td><td>u8</td><td>u16</td><td>u8</td><td>u8</td><td>u8</td><td>u8</td><td>u8</td><td>u8</td><td>u16</td><td>u16</td><td>f64</td></tr></thead><tbody><tr><td>1212580517905780737</td><td>&quot;https://twitte…</td><td>&quot;Sounds like a …</td><td>2020-01-01 20:44:00 MST</td><td>1465</td><td>7</td><td>0.004778</td><td>0</td><td>0</td><td>3</td><td>3</td><td>0</td><td>0</td><td>1</td><td>0</td><td>0</td><td>0</td><td>0</td><td>0</td><td>0</td><td>0</td><td>0</td><td>0.477816</td></tr><tr><td>1212582494828036097</td><td>&quot;https://twitte…</td><td>&quot;@FogleBird Loo…</td><td>2020-01-01 20:52:00 MST</td><td>154</td><td>3</td><td>0.019481</td><td>0</td><td>0</td><td>1</td><td>1</td><td>0</td><td>0</td><td>1</td><td>0</td><td>0</td><td>0</td><td>0</td><td>0</td><td>0</td><td>0</td><td>0</td><td>1.948052</td></tr><tr><td>1212613735698690049</td><td>&quot;https://twitte…</td><td>&quot;@afilina That&#x27;…</td><td>2020-01-01 22:56:00 MST</td><td>1024</td><td>6</td><td>0.005859</td><td>0</td><td>0</td><td>1</td><td>2</td><td>0</td><td>0</td><td>3</td><td>0</td><td>0</td><td>0</td><td>0</td><td>0</td><td>0</td><td>0</td><td>0</td><td>0.5859375</td></tr><tr><td>1212911749617242113</td><td>&quot;https://twitte…</td><td>&quot;@randal_olson …</td><td>2020-01-02 18:41:00 MST</td><td>1419</td><td>14</td><td>0.009866</td><td>0</td><td>1</td><td>5</td><td>7</td><td>0</td><td>0</td><td>1</td><td>0</td><td>0</td><td>0</td><td>0</td><td>0</td><td>0</td><td>0</td><td>0</td><td>0.98661</td></tr><tr><td>1212920556028252160</td><td>&quot;https://twitte…</td><td>&quot;@AlSweigart So…</td><td>2020-01-02 19:16:00 MST</td><td>198</td><td>1</td><td>0.005051</td><td>0</td><td>0</td><td>1</td><td>0</td><td>0</td><td>0</td><td>0</td><td>0</td><td>0</td><td>0</td><td>0</td><td>0</td><td>0</td><td>0</td><td>0</td><td>0.505051</td></tr><tr><td>1212921038356434947</td><td>&quot;https://twitte…</td><td>&quot;@tmarthal @Ted…</td><td>2020-01-02 19:18:00 MST</td><td>170</td><td>3</td><td>0.017647</td><td>0</td><td>0</td><td>1</td><td>1</td><td>0</td><td>0</td><td>1</td><td>0</td><td>0</td><td>0</td><td>0</td><td>0</td><td>0</td><td>0</td><td>0</td><td>1.764706</td></tr><tr><td>1212921192287330304</td><td>&quot;https://twitte…</td><td>&quot;@gabegundy It&#x27;…</td><td>2020-01-02 19:18:00 MST</td><td>104</td><td>2</td><td>0.019231</td><td>0</td><td>1</td><td>1</td><td>0</td><td>0</td><td>0</td><td>0</td><td>0</td><td>0</td><td>0</td><td>0</td><td>0</td><td>0</td><td>0</td><td>0</td><td>1.923077</td></tr><tr><td>1212969747186208768</td><td>&quot;https://twitte…</td><td>&quot;@anthonypjshaw…</td><td>2020-01-02 22:31:00 MST</td><td>189</td><td>0</td><td>0.0</td><td>0</td><td>0</td><td>0</td><td>0</td><td>0</td><td>0</td><td>0</td><td>0</td><td>0</td><td>0</td><td>0</td><td>0</td><td>0</td><td>0</td><td>0</td><td>0.0</td></tr><tr><td>1212971634019033088</td><td>&quot;https://twitte…</td><td>&quot;@jet_set A lit…</td><td>2020-01-02 22:39:00 MST</td><td>900</td><td>4</td><td>0.004444</td><td>0</td><td>0</td><td>0</td><td>4</td><td>0</td><td>0</td><td>0</td><td>0</td><td>0</td><td>0</td><td>0</td><td>0</td><td>0</td><td>0</td><td>0</td><td>0.444444</td></tr><tr><td>1213194379793293312</td><td>&quot;https://twitte…</td><td>&quot;@juliasilge @r…</td><td>2020-01-03 13:24:00 MST</td><td>252</td><td>2</td><td>0.007937</td><td>0</td><td>0</td><td>1</td><td>1</td><td>0</td><td>0</td><td>0</td><td>0</td><td>0</td><td>0</td><td>0</td><td>0</td><td>0</td><td>0</td><td>0</td><td>0.793651</td></tr><tr><td>1213699561962631168</td><td>&quot;https://twitte…</td><td>&quot;Herein you wil…</td><td>2020-01-04 22:51:00 MST</td><td>1610</td><td>6</td><td>0.003727</td><td>0</td><td>0</td><td>2</td><td>2</td><td>0</td><td>0</td><td>2</td><td>0</td><td>0</td><td>0</td><td>0</td><td>0</td><td>0</td><td>0</td><td>0</td><td>0.372671</td></tr><tr><td>1213896543985516544</td><td>&quot;https://twitte…</td><td>&quot;@Austen Care t…</td><td>2020-01-05 11:54:00 MST</td><td>165</td><td>3</td><td>0.018182</td><td>0</td><td>0</td><td>0</td><td>1</td><td>0</td><td>0</td><td>2</td><td>0</td><td>0</td><td>0</td><td>0</td><td>0</td><td>0</td><td>0</td><td>0</td><td>1.818182</td></tr><tr><td>&hellip;</td><td>&hellip;</td><td>&hellip;</td><td>&hellip;</td><td>&hellip;</td><td>&hellip;</td><td>&hellip;</td><td>&hellip;</td><td>&hellip;</td><td>&hellip;</td><td>&hellip;</td><td>&hellip;</td><td>&hellip;</td><td>&hellip;</td><td>&hellip;</td><td>&hellip;</td><td>&hellip;</td><td>&hellip;</td><td>&hellip;</td><td>&hellip;</td><td>&hellip;</td><td>&hellip;</td><td>&hellip;</td></tr><tr><td>1474805013343981570</td><td>&quot;https://twitte…</td><td>&quot;@EricSchles @s…</td><td>2021-12-25 11:11:00 MST</td><td>416</td><td>3</td><td>0.007212</td><td>0</td><td>0</td><td>2</td><td>1</td><td>0</td><td>0</td><td>0</td><td>0</td><td>0</td><td>0</td><td>0</td><td>0</td><td>0</td><td>0</td><td>0</td><td>0.721154</td></tr><tr><td>1474820707234185217</td><td>&quot;https://twitte…</td><td>&quot;Mele kalikimak…</td><td>2021-12-25 12:13:00 MST</td><td>15840</td><td>372</td><td>0.023485</td><td>0</td><td>2</td><td>61</td><td>59</td><td>6</td><td>0</td><td>66</td><td>0</td><td>0</td><td>0</td><td>0</td><td>0</td><td>0</td><td>178</td><td>178</td><td>2.348485</td></tr><tr><td>1475023008620154882</td><td>&quot;https://twitte…</td><td>&quot;Good looking c…</td><td>2021-12-26 01:37:00 MST</td><td>22557</td><td>501</td><td>0.02221</td><td>0</td><td>9</td><td>50</td><td>89</td><td>14</td><td>0</td><td>118</td><td>0</td><td>0</td><td>0</td><td>0</td><td>0</td><td>0</td><td>221</td><td>221</td><td>2.22104</td></tr><tr><td>1475299210291343362</td><td>&quot;https://twitte…</td><td>&quot;@youtah A litt…</td><td>2021-12-26 19:55:00 MST</td><td>1586</td><td>35</td><td>0.022068</td><td>0</td><td>0</td><td>2</td><td>1</td><td>1</td><td>0</td><td>0</td><td>0</td><td>0</td><td>0</td><td>0</td><td>0</td><td>0</td><td>31</td><td>31</td><td>2.20681</td></tr><tr><td>1475299401681682434</td><td>&quot;https://twitte…</td><td>&quot;@mathsppblog S…</td><td>2021-12-26 19:56:00 MST</td><td>4641</td><td>35</td><td>0.007541</td><td>0</td><td>4</td><td>11</td><td>10</td><td>0</td><td>0</td><td>10</td><td>0</td><td>0</td><td>0</td><td>0</td><td>0</td><td>0</td><td>0</td><td>0</td><td>0.754148</td></tr><tr><td>1475299848093978626</td><td>&quot;https://twitte…</td><td>&quot;@willmcgugan P…</td><td>2021-12-26 19:57:00 MST</td><td>1969</td><td>4</td><td>0.002031</td><td>0</td><td>0</td><td>4</td><td>0</td><td>0</td><td>0</td><td>0</td><td>0</td><td>0</td><td>0</td><td>0</td><td>0</td><td>0</td><td>0</td><td>0</td><td>0.203149</td></tr><tr><td>1475300370138087426</td><td>&quot;https://twitte…</td><td>&quot;@reuvenmlerner…</td><td>2021-12-26 19:59:00 MST</td><td>1669</td><td>5</td><td>0.002996</td><td>0</td><td>0</td><td>3</td><td>0</td><td>0</td><td>0</td><td>2</td><td>0</td><td>0</td><td>0</td><td>0</td><td>0</td><td>0</td><td>0</td><td>0</td><td>0.299581</td></tr><tr><td>1475300661851934721</td><td>&quot;https://twitte…</td><td>&quot;@allison_horst…</td><td>2021-12-26 20:01:00 MST</td><td>986</td><td>1</td><td>0.001014</td><td>0</td><td>0</td><td>0</td><td>0</td><td>0</td><td>0</td><td>1</td><td>0</td><td>0</td><td>0</td><td>0</td><td>0</td><td>0</td><td>0</td><td>0</td><td>0.10142</td></tr><tr><td>1475518143690801156</td><td>&quot;https://twitte…</td><td>&quot;@willmcgugan Y…</td><td>2021-12-27 10:25:00 MST</td><td>1790</td><td>7</td><td>0.003911</td><td>0</td><td>0</td><td>3</td><td>1</td><td>0</td><td>0</td><td>3</td><td>0</td><td>0</td><td>0</td><td>0</td><td>0</td><td>0</td><td>0</td><td>0</td><td>0.391061</td></tr><tr><td>1475891441243025408</td><td>&quot;https://twitte…</td><td>&quot;@posco Visitin…</td><td>2021-12-28 11:08:00 MST</td><td>1611</td><td>12</td><td>0.007449</td><td>0</td><td>0</td><td>4</td><td>4</td><td>0</td><td>0</td><td>4</td><td>0</td><td>0</td><td>0</td><td>0</td><td>0</td><td>0</td><td>0</td><td>0</td><td>0.744879</td></tr><tr><td>1476453819751878656</td><td>&quot;https://twitte…</td><td>&quot;@johndsaunders…</td><td>2021-12-30 00:23:00 MST</td><td>1354</td><td>8</td><td>0.005908</td><td>0</td><td>0</td><td>2</td><td>4</td><td>0</td><td>0</td><td>2</td><td>0</td><td>0</td><td>0</td><td>0</td><td>0</td><td>0</td><td>0</td><td>0</td><td>0.590842</td></tr><tr><td>1477024722051158018</td><td>&quot;https://twitte…</td><td>&quot;@tunguz Xgboos…</td><td>2021-12-31 14:11:00 MST</td><td>5041</td><td>63</td><td>0.012498</td><td>0</td><td>3</td><td>23</td><td>8</td><td>0</td><td>0</td><td>29</td><td>0</td><td>0</td><td>0</td><td>0</td><td>0</td><td>0</td><td>0</td><td>0</td><td>1.249752</td></tr></tbody></table></div>"
      ],
      "text/plain": [
       "shape: (5_791, 23)\n",
       "┌──────────┬────────────┬──────────┬──────────┬───┬──────────┬───────────┬────────────┬────────────┐\n",
       "│ tweet_id ┆ tweet_perm ┆ tweet_te ┆ time     ┆ … ┆ dial_pho ┆ media_vie ┆ media_enga ┆ engagement │\n",
       "│ ---      ┆ alink      ┆ xt       ┆ ---      ┆   ┆ ne       ┆ ws        ┆ gements    ┆ _percent   │\n",
       "│ i64      ┆ ---        ┆ ---      ┆ datetime ┆   ┆ ---      ┆ ---       ┆ ---        ┆ ---        │\n",
       "│          ┆ str        ┆ str      ┆ [μs, Ame ┆   ┆ u8       ┆ u16       ┆ u16        ┆ f64        │\n",
       "│          ┆            ┆          ┆ rica/Den ┆   ┆          ┆           ┆            ┆            │\n",
       "│          ┆            ┆          ┆ ver]     ┆   ┆          ┆           ┆            ┆            │\n",
       "╞══════════╪════════════╪══════════╪══════════╪═══╪══════════╪═══════════╪════════════╪════════════╡\n",
       "│ 12125805 ┆ https://tw ┆ Sounds   ┆ 2020-01- ┆ … ┆ 0        ┆ 0         ┆ 0          ┆ 0.477816   │\n",
       "│ 17905780 ┆ itter.com/ ┆ like a   ┆ 01       ┆   ┆          ┆           ┆            ┆            │\n",
       "│ 737      ┆ __mharriso ┆ great    ┆ 20:44:00 ┆   ┆          ┆           ┆            ┆            │\n",
       "│          ┆ n_…        ┆ topic!   ┆ MST      ┆   ┆          ┆           ┆            ┆            │\n",
       "│          ┆            ┆ https…   ┆          ┆   ┆          ┆           ┆            ┆            │\n",
       "│ 12125824 ┆ https://tw ┆ @FogleBi ┆ 2020-01- ┆ … ┆ 0        ┆ 0         ┆ 0          ┆ 1.948052   │\n",
       "│ 94828036 ┆ itter.com/ ┆ rd Looks ┆ 01       ┆   ┆          ┆           ┆            ┆            │\n",
       "│ 097      ┆ __mharriso ┆ like     ┆ 20:52:00 ┆   ┆          ┆           ┆            ┆            │\n",
       "│          ┆ n_…        ┆ SLC. I   ┆ MST      ┆   ┆          ┆           ┆            ┆            │\n",
       "│          ┆            ┆ can…     ┆          ┆   ┆          ┆           ┆            ┆            │\n",
       "│ 12126137 ┆ https://tw ┆ @afilina ┆ 2020-01- ┆ … ┆ 0        ┆ 0         ┆ 0          ┆ 0.5859375  │\n",
       "│ 35698690 ┆ itter.com/ ┆ That's   ┆ 01       ┆   ┆          ┆           ┆            ┆            │\n",
       "│ 049      ┆ __mharriso ┆ really   ┆ 22:56:00 ┆   ┆          ┆           ┆            ┆            │\n",
       "│          ┆ n_…        ┆ amount   ┆ MST      ┆   ┆          ┆           ┆            ┆            │\n",
       "│          ┆            ┆ an…      ┆          ┆   ┆          ┆           ┆            ┆            │\n",
       "│ 12129117 ┆ https://tw ┆ @randal_ ┆ 2020-01- ┆ … ┆ 0        ┆ 0         ┆ 0          ┆ 0.98661    │\n",
       "│ 49617242 ┆ itter.com/ ┆ olson I  ┆ 02       ┆   ┆          ┆           ┆            ┆            │\n",
       "│ 113      ┆ __mharriso ┆ use      ┆ 18:41:00 ┆   ┆          ┆           ┆            ┆            │\n",
       "│          ┆ n_…        ┆ anaconda ┆ MST      ┆   ┆          ┆           ┆            ┆            │\n",
       "│          ┆            ┆ whe…     ┆          ┆   ┆          ┆           ┆            ┆            │\n",
       "│ …        ┆ …          ┆ …        ┆ …        ┆ … ┆ …        ┆ …         ┆ …          ┆ …          │\n",
       "│ 14755181 ┆ https://tw ┆ @willmcg ┆ 2021-12- ┆ … ┆ 0        ┆ 0         ┆ 0          ┆ 0.391061   │\n",
       "│ 43690801 ┆ itter.com/ ┆ ugan You ┆ 27       ┆   ┆          ┆           ┆            ┆            │\n",
       "│ 156      ┆ __mharriso ┆ need to  ┆ 10:25:00 ┆   ┆          ┆           ┆            ┆            │\n",
       "│          ┆ n_…        ┆ find ou… ┆ MST      ┆   ┆          ┆           ┆            ┆            │\n",
       "│ 14758914 ┆ https://tw ┆ @posco   ┆ 2021-12- ┆ … ┆ 0        ┆ 0         ┆ 0          ┆ 0.744879   │\n",
       "│ 41243025 ┆ itter.com/ ┆ Visiting ┆ 28       ┆   ┆          ┆           ┆            ┆            │\n",
       "│ 408      ┆ __mharriso ┆ Hawaii   ┆ 11:08:00 ┆   ┆          ┆           ┆            ┆            │\n",
       "│          ┆ n_…        ┆ for the  ┆ MST      ┆   ┆          ┆           ┆            ┆            │\n",
       "│          ┆            ┆ h…       ┆          ┆   ┆          ┆           ┆            ┆            │\n",
       "│ 14764538 ┆ https://tw ┆ @johndsa ┆ 2021-12- ┆ … ┆ 0        ┆ 0         ┆ 0          ┆ 0.590842   │\n",
       "│ 19751878 ┆ itter.com/ ┆ unders   ┆ 30       ┆   ┆          ┆           ┆            ┆            │\n",
       "│ 656      ┆ __mharriso ┆ My son   ┆ 00:23:00 ┆   ┆          ┆           ┆            ┆            │\n",
       "│          ┆ n_…        ┆ just     ┆ MST      ┆   ┆          ┆           ┆            ┆            │\n",
       "│          ┆            ┆ built…   ┆          ┆   ┆          ┆           ┆            ┆            │\n",
       "│ 14770247 ┆ https://tw ┆ @tunguz  ┆ 2021-12- ┆ … ┆ 0        ┆ 0         ┆ 0          ┆ 1.249752   │\n",
       "│ 22051158 ┆ itter.com/ ┆ Xgboost  ┆ 31       ┆   ┆          ┆           ┆            ┆            │\n",
       "│ 018      ┆ __mharriso ┆          ┆ 14:11:00 ┆   ┆          ┆           ┆            ┆            │\n",
       "│          ┆ n_…        ┆          ┆ MST      ┆   ┆          ┆           ┆            ┆            │\n",
       "└──────────┴────────────┴──────────┴──────────┴───┴──────────┴───────────┴────────────┴────────────┘"
      ]
     },
     "execution_count": 138,
     "metadata": {},
     "output_type": "execute_result"
    }
   ],
   "source": [
    "def pct(row):\n",
    "    return row * 100 #1/0\n",
    "\n",
    "(twit_df\n",
    " .with_columns(pl.col('engagement_rate').apply(pct).alias('engagement_percent'))\n",
    ")"
   ]
  },
  {
   "cell_type": "code",
   "execution_count": 139,
   "metadata": {
    "scrolled": true
   },
   "outputs": [
    {
     "name": "stdout",
     "output_type": "stream",
     "text": [
      "867 µs ± 26.4 µs per loop (mean ± std. dev. of 7 runs, 1,000 loops each)\n"
     ]
    }
   ],
   "source": [
    "%%timeit\n",
    "(twit_df\n",
    " .with_columns(pl.col('engagement_rate').apply(pct).alias('engagement_percent'))\n",
    ")"
   ]
  },
  {
   "cell_type": "code",
   "execution_count": 140,
   "metadata": {
    "scrolled": true
   },
   "outputs": [
    {
     "name": "stdout",
     "output_type": "stream",
     "text": [
      "98.9 µs ± 7.86 µs per loop (mean ± std. dev. of 7 runs, 10,000 loops each)\n"
     ]
    }
   ],
   "source": [
    "%%timeit\n",
    "(twit_df\n",
    " .with_columns((pl.col('engagement_rate') * 100).alias('engagement_percent'))\n",
    ")"
   ]
  },
  {
   "cell_type": "code",
   "execution_count": 141,
   "metadata": {
    "scrolled": true
   },
   "outputs": [
    {
     "name": "stdout",
     "output_type": "stream",
     "text": [
      "2.65 ms ± 95.1 µs per loop (mean ± std. dev. of 7 runs, 100 loops each)\n"
     ]
    }
   ],
   "source": [
    "%%timeit\n",
    "# apply is element-wise\n",
    "(twit_df\n",
    " .with_columns(pl.col('engagement_rate').apply(np.sin).alias('engagement_percent'))\n",
    ")"
   ]
  },
  {
   "cell_type": "code",
   "execution_count": 142,
   "metadata": {
    "scrolled": true
   },
   "outputs": [
    {
     "name": "stdout",
     "output_type": "stream",
     "text": [
      "306 µs ± 18.1 µs per loop (mean ± std. dev. of 7 runs, 1,000 loops each)\n"
     ]
    }
   ],
   "source": [
    "%%timeit\n",
    "# map does column-wise\n",
    "(twit_df\n",
    " .with_columns(pl.col('engagement_rate').map(np.sin).alias('engagement_percent'))\n",
    ")"
   ]
  },
  {
   "cell_type": "code",
   "execution_count": 143,
   "metadata": {
    "scrolled": true
   },
   "outputs": [
    {
     "name": "stdout",
     "output_type": "stream",
     "text": [
      "284 µs ± 12.8 µs per loop (mean ± std. dev. of 7 runs, 1,000 loops each)\n"
     ]
    }
   ],
   "source": [
    "%%timeit\n",
    "# unlike Pandas, polars has an expression for sin\n",
    "(twit_df\n",
    " .with_columns(pl.col('engagement_rate').sin().alias('engagement_percent'))\n",
    ")"
   ]
  },
  {
   "cell_type": "code",
   "execution_count": 144,
   "metadata": {},
   "outputs": [],
   "source": [
    "import math"
   ]
  },
  {
   "cell_type": "code",
   "execution_count": 145,
   "metadata": {
    "scrolled": true
   },
   "outputs": [
    {
     "name": "stdout",
     "output_type": "stream",
     "text": [
      "744 µs ± 19.9 µs per loop (mean ± std. dev. of 7 runs, 1,000 loops each)\n"
     ]
    }
   ],
   "source": [
    "%%timeit\n",
    "(twit_df\n",
    " .with_columns(pl.col('engagement_rate').apply(math.sin).alias('engagement_percent'))\n",
    ")"
   ]
  },
  {
   "cell_type": "code",
   "execution_count": 146,
   "metadata": {
    "scrolled": true
   },
   "outputs": [
    {
     "ename": "AttributeError",
     "evalue": "'ExprStringNameSpace' object has no attribute 'startswith'",
     "output_type": "error",
     "traceback": [
      "\u001b[0;31m---------------------------------------------------------------------------\u001b[0m",
      "\u001b[0;31mAttributeError\u001b[0m                            Traceback (most recent call last)",
      "Cell \u001b[0;32mIn[146], line 3\u001b[0m\n\u001b[1;32m      1\u001b[0m \u001b[38;5;66;03m#string ops\u001b[39;00m\n\u001b[1;32m      2\u001b[0m (twit_df\n\u001b[0;32m----> 3\u001b[0m  \u001b[38;5;241m.\u001b[39mwith_columns(\u001b[43mpl\u001b[49m\u001b[38;5;241;43m.\u001b[39;49m\u001b[43mcol\u001b[49m\u001b[43m(\u001b[49m\u001b[38;5;124;43m'\u001b[39;49m\u001b[38;5;124;43mtweet_text\u001b[39;49m\u001b[38;5;124;43m'\u001b[39;49m\u001b[43m)\u001b[49m\u001b[38;5;241;43m.\u001b[39;49m\u001b[43mstr\u001b[49m\u001b[38;5;241;43m.\u001b[39;49m\u001b[43mstartswith\u001b[49m(\u001b[38;5;124m'\u001b[39m\u001b[38;5;124m@\u001b[39m\u001b[38;5;124m'\u001b[39m))\n\u001b[1;32m      4\u001b[0m )\n",
      "\u001b[0;31mAttributeError\u001b[0m: 'ExprStringNameSpace' object has no attribute 'startswith'"
     ]
    }
   ],
   "source": [
    "#string ops\n",
    "(twit_df\n",
    " .with_columns(pl.col('tweet_text').str.startswith('@'))\n",
    ")"
   ]
  },
  {
   "cell_type": "code",
   "execution_count": 148,
   "metadata": {},
   "outputs": [
    {
     "data": {
      "text/plain": [
       "True"
      ]
     },
     "execution_count": 148,
     "metadata": {},
     "output_type": "execute_result"
    }
   ],
   "source": [
    "'matt'.startswith('m')"
   ]
  },
  {
   "cell_type": "code",
   "execution_count": 149,
   "metadata": {
    "scrolled": true
   },
   "outputs": [
    {
     "name": "stdout",
     "output_type": "stream",
     "text": [
      "['__class__', '__delattr__', '__dict__', '__dir__', '__doc__', '__eq__', '__format__', '__ge__', '__getattribute__', '__gt__', '__hash__', '__init__', '__init_subclass__', '__le__', '__lt__', '__module__', '__ne__', '__new__', '__reduce__', '__reduce_ex__', '__repr__', '__setattr__', '__sizeof__', '__str__', '__subclasshook__', '__weakref__', '_accessor', '_pyexpr', 'concat', 'contains', 'count_match', 'decode', 'encode', 'ends_with', 'explode', 'extract', 'extract_all', 'json_extract', 'json_path_match', 'lengths', 'ljust', 'lstrip', 'n_chars', 'parse_int', 'replace', 'replace_all', 'rjust', 'rstrip', 'slice', 'split', 'split_exact', 'splitn', 'starts_with', 'strip', 'strptime', 'to_lowercase', 'to_uppercase', 'zfill']\n"
     ]
    }
   ],
   "source": [
    "print(dir(pl.col('*').str))"
   ]
  },
  {
   "cell_type": "code",
   "execution_count": 150,
   "metadata": {
    "scrolled": true
   },
   "outputs": [
    {
     "name": "stdout",
     "output_type": "stream",
     "text": [
      "192 µs ± 19.3 µs per loop (mean ± std. dev. of 7 runs, 10,000 loops each)\n"
     ]
    }
   ],
   "source": [
    "%%timeit\n",
    "#string ops\n",
    "\n",
    "(twit_df\n",
    " .with_columns(pl.col('tweet_text').str.starts_with('@').alias('is_reply'))\n",
    ")"
   ]
  },
  {
   "cell_type": "code",
   "execution_count": 151,
   "metadata": {
    "scrolled": true
   },
   "outputs": [
    {
     "name": "stdout",
     "output_type": "stream",
     "text": [
      "1.85 ms ± 28.6 µs per loop (mean ± std. dev. of 7 runs, 1,000 loops each)\n"
     ]
    }
   ],
   "source": [
    "%%timeit\n",
    "#string ops\n",
    "(twit_df\n",
    " .with_columns(pl.col('tweet_text').apply(lambda val: val.startswith('@')).alias('is_reply'))\n",
    ")"
   ]
  },
  {
   "cell_type": "code",
   "execution_count": null,
   "metadata": {
    "scrolled": true
   },
   "outputs": [],
   "source": [
    "print(dir(pl.col('*').dt))"
   ]
  },
  {
   "cell_type": "code",
   "execution_count": 45,
   "metadata": {
    "lines_to_next_cell": 0,
    "scrolled": true
   },
   "outputs": [
    {
     "data": {
      "text/html": [
       "<div><style>\n",
       ".dataframe > thead > tr > th,\n",
       ".dataframe > tbody > tr > td {\n",
       "  text-align: right;\n",
       "}\n",
       "</style>\n",
       "<small>shape: (5_791, 29)</small><table border=\"1\" class=\"dataframe\"><thead><tr><th>tweet_id</th><th>tweet_permalink</th><th>tweet_text</th><th>time</th><th>impressions</th><th>engagements</th><th>engagement_rate</th><th>retweets</th><th>replies</th><th>likes</th><th>user_profile_clicks</th><th>url_clicks</th><th>hashtag_clicks</th><th>detail_expands</th><th>app_opens</th><th>follows</th><th>media_views</th><th>media_engagements</th><th>is_reply</th><th>length</th><th>num_words</th><th>at_tweet</th><th>has_newlines</th><th>num_lines</th><th>num_mentions</th><th>has_hashtags</th><th>hour</th><th>dom</th><th>dow</th></tr><tr><td>i64</td><td>str</td><td>str</td><td>datetime[μs, America/Denver]</td><td>u32</td><td>u16</td><td>f64</td><td>u16</td><td>u8</td><td>u16</td><td>u16</td><td>u16</td><td>u8</td><td>u16</td><td>u8</td><td>u8</td><td>u16</td><td>u16</td><td>bool</td><td>u32</td><td>u32</td><td>bool</td><td>bool</td><td>u32</td><td>u32</td><td>bool</td><td>u32</td><td>u32</td><td>u32</td></tr></thead><tbody><tr><td>1212580517905780737</td><td>&quot;https://twitte…</td><td>&quot;Sounds like a …</td><td>2020-01-01 20:44:00 MST</td><td>1465</td><td>7</td><td>0.004778</td><td>0</td><td>0</td><td>3</td><td>3</td><td>0</td><td>0</td><td>1</td><td>0</td><td>0</td><td>0</td><td>0</td><td>false</td><td>50</td><td>6</td><td>false</td><td>false</td><td>0</td><td>0</td><td>false</td><td>20</td><td>1</td><td>3</td></tr><tr><td>1212582494828036097</td><td>&quot;https://twitte…</td><td>&quot;@FogleBird Loo…</td><td>2020-01-01 20:52:00 MST</td><td>154</td><td>3</td><td>0.019481</td><td>0</td><td>0</td><td>1</td><td>1</td><td>0</td><td>0</td><td>1</td><td>0</td><td>0</td><td>0</td><td>0</td><td>true</td><td>44</td><td>9</td><td>true</td><td>false</td><td>0</td><td>1</td><td>false</td><td>20</td><td>1</td><td>3</td></tr><tr><td>1212613735698690049</td><td>&quot;https://twitte…</td><td>&quot;@afilina That&#x27;…</td><td>2020-01-01 22:56:00 MST</td><td>1024</td><td>6</td><td>0.005859</td><td>0</td><td>0</td><td>1</td><td>2</td><td>0</td><td>0</td><td>3</td><td>0</td><td>0</td><td>0</td><td>0</td><td>true</td><td>189</td><td>33</td><td>true</td><td>false</td><td>0</td><td>1</td><td>false</td><td>22</td><td>1</td><td>3</td></tr><tr><td>1212911749617242113</td><td>&quot;https://twitte…</td><td>&quot;@randal_olson …</td><td>2020-01-02 18:41:00 MST</td><td>1419</td><td>14</td><td>0.009866</td><td>0</td><td>1</td><td>5</td><td>7</td><td>0</td><td>0</td><td>1</td><td>0</td><td>0</td><td>0</td><td>0</td><td>true</td><td>180</td><td>28</td><td>true</td><td>false</td><td>0</td><td>1</td><td>false</td><td>18</td><td>2</td><td>4</td></tr><tr><td>1212920556028252160</td><td>&quot;https://twitte…</td><td>&quot;@AlSweigart So…</td><td>2020-01-02 19:16:00 MST</td><td>198</td><td>1</td><td>0.005051</td><td>0</td><td>0</td><td>1</td><td>0</td><td>0</td><td>0</td><td>0</td><td>0</td><td>0</td><td>0</td><td>0</td><td>true</td><td>112</td><td>18</td><td>true</td><td>false</td><td>0</td><td>1</td><td>false</td><td>19</td><td>2</td><td>4</td></tr><tr><td>1212921038356434947</td><td>&quot;https://twitte…</td><td>&quot;@tmarthal @Ted…</td><td>2020-01-02 19:18:00 MST</td><td>170</td><td>3</td><td>0.017647</td><td>0</td><td>0</td><td>1</td><td>1</td><td>0</td><td>0</td><td>1</td><td>0</td><td>0</td><td>0</td><td>0</td><td>true</td><td>49</td><td>7</td><td>true</td><td>false</td><td>0</td><td>2</td><td>false</td><td>19</td><td>2</td><td>4</td></tr><tr><td>1212921192287330304</td><td>&quot;https://twitte…</td><td>&quot;@gabegundy It&#x27;…</td><td>2020-01-02 19:18:00 MST</td><td>104</td><td>2</td><td>0.019231</td><td>0</td><td>1</td><td>1</td><td>0</td><td>0</td><td>0</td><td>0</td><td>0</td><td>0</td><td>0</td><td>0</td><td>true</td><td>51</td><td>9</td><td>true</td><td>false</td><td>0</td><td>1</td><td>false</td><td>19</td><td>2</td><td>4</td></tr><tr><td>1212969747186208768</td><td>&quot;https://twitte…</td><td>&quot;@anthonypjshaw…</td><td>2020-01-02 22:31:00 MST</td><td>189</td><td>0</td><td>0.0</td><td>0</td><td>0</td><td>0</td><td>0</td><td>0</td><td>0</td><td>0</td><td>0</td><td>0</td><td>0</td><td>0</td><td>true</td><td>59</td><td>6</td><td>true</td><td>false</td><td>0</td><td>3</td><td>false</td><td>22</td><td>2</td><td>4</td></tr><tr><td>1212971634019033088</td><td>&quot;https://twitte…</td><td>&quot;@jet_set A lit…</td><td>2020-01-02 22:39:00 MST</td><td>900</td><td>4</td><td>0.004444</td><td>0</td><td>0</td><td>0</td><td>4</td><td>0</td><td>0</td><td>0</td><td>0</td><td>0</td><td>0</td><td>0</td><td>true</td><td>32</td><td>5</td><td>true</td><td>false</td><td>0</td><td>1</td><td>false</td><td>22</td><td>2</td><td>4</td></tr><tr><td>1213194379793293312</td><td>&quot;https://twitte…</td><td>&quot;@juliasilge @r…</td><td>2020-01-03 13:24:00 MST</td><td>252</td><td>2</td><td>0.007937</td><td>0</td><td>0</td><td>1</td><td>1</td><td>0</td><td>0</td><td>0</td><td>0</td><td>0</td><td>0</td><td>0</td><td>true</td><td>45</td><td>6</td><td>true</td><td>false</td><td>0</td><td>2</td><td>false</td><td>13</td><td>3</td><td>5</td></tr><tr><td>1213699561962631168</td><td>&quot;https://twitte…</td><td>&quot;Herein you wil…</td><td>2020-01-04 22:51:00 MST</td><td>1610</td><td>6</td><td>0.003727</td><td>0</td><td>0</td><td>2</td><td>2</td><td>0</td><td>0</td><td>2</td><td>0</td><td>0</td><td>0</td><td>0</td><td>false</td><td>91</td><td>11</td><td>false</td><td>false</td><td>0</td><td>0</td><td>false</td><td>22</td><td>4</td><td>6</td></tr><tr><td>1213896543985516544</td><td>&quot;https://twitte…</td><td>&quot;@Austen Care t…</td><td>2020-01-05 11:54:00 MST</td><td>165</td><td>3</td><td>0.018182</td><td>0</td><td>0</td><td>0</td><td>1</td><td>0</td><td>0</td><td>2</td><td>0</td><td>0</td><td>0</td><td>0</td><td>true</td><td>59</td><td>10</td><td>true</td><td>false</td><td>0</td><td>1</td><td>false</td><td>11</td><td>5</td><td>7</td></tr><tr><td>&hellip;</td><td>&hellip;</td><td>&hellip;</td><td>&hellip;</td><td>&hellip;</td><td>&hellip;</td><td>&hellip;</td><td>&hellip;</td><td>&hellip;</td><td>&hellip;</td><td>&hellip;</td><td>&hellip;</td><td>&hellip;</td><td>&hellip;</td><td>&hellip;</td><td>&hellip;</td><td>&hellip;</td><td>&hellip;</td><td>&hellip;</td><td>&hellip;</td><td>&hellip;</td><td>&hellip;</td><td>&hellip;</td><td>&hellip;</td><td>&hellip;</td><td>&hellip;</td><td>&hellip;</td><td>&hellip;</td><td>&hellip;</td></tr><tr><td>1474805013343981570</td><td>&quot;https://twitte…</td><td>&quot;@EricSchles @s…</td><td>2021-12-25 11:11:00 MST</td><td>416</td><td>3</td><td>0.007212</td><td>0</td><td>0</td><td>2</td><td>1</td><td>0</td><td>0</td><td>0</td><td>0</td><td>0</td><td>0</td><td>0</td><td>true</td><td>155</td><td>25</td><td>true</td><td>false</td><td>0</td><td>2</td><td>false</td><td>11</td><td>25</td><td>6</td></tr><tr><td>1474820707234185217</td><td>&quot;https://twitte…</td><td>&quot;Mele kalikimak…</td><td>2021-12-25 12:13:00 MST</td><td>15840</td><td>372</td><td>0.023485</td><td>0</td><td>2</td><td>61</td><td>59</td><td>6</td><td>0</td><td>66</td><td>0</td><td>0</td><td>178</td><td>178</td><td>false</td><td>81</td><td>10</td><td>false</td><td>true</td><td>2</td><td>0</td><td>false</td><td>12</td><td>25</td><td>6</td></tr><tr><td>1475023008620154882</td><td>&quot;https://twitte…</td><td>&quot;Good looking c…</td><td>2021-12-26 01:37:00 MST</td><td>22557</td><td>501</td><td>0.02221</td><td>0</td><td>9</td><td>50</td><td>89</td><td>14</td><td>0</td><td>118</td><td>0</td><td>0</td><td>221</td><td>221</td><td>false</td><td>42</td><td>4</td><td>false</td><td>false</td><td>0</td><td>0</td><td>false</td><td>1</td><td>26</td><td>7</td></tr><tr><td>1475299210291343362</td><td>&quot;https://twitte…</td><td>&quot;@youtah A litt…</td><td>2021-12-26 19:55:00 MST</td><td>1586</td><td>35</td><td>0.022068</td><td>0</td><td>0</td><td>2</td><td>1</td><td>1</td><td>0</td><td>0</td><td>0</td><td>0</td><td>31</td><td>31</td><td>true</td><td>93</td><td>11</td><td>true</td><td>false</td><td>0</td><td>1</td><td>false</td><td>19</td><td>26</td><td>7</td></tr><tr><td>1475299401681682434</td><td>&quot;https://twitte…</td><td>&quot;@mathsppblog S…</td><td>2021-12-26 19:56:00 MST</td><td>4641</td><td>35</td><td>0.007541</td><td>0</td><td>4</td><td>11</td><td>10</td><td>0</td><td>0</td><td>10</td><td>0</td><td>0</td><td>0</td><td>0</td><td>true</td><td>63</td><td>9</td><td>true</td><td>false</td><td>0</td><td>1</td><td>false</td><td>19</td><td>26</td><td>7</td></tr><tr><td>1475299848093978626</td><td>&quot;https://twitte…</td><td>&quot;@willmcgugan P…</td><td>2021-12-26 19:57:00 MST</td><td>1969</td><td>4</td><td>0.002031</td><td>0</td><td>0</td><td>4</td><td>0</td><td>0</td><td>0</td><td>0</td><td>0</td><td>0</td><td>0</td><td>0</td><td>true</td><td>162</td><td>30</td><td>true</td><td>false</td><td>0</td><td>1</td><td>false</td><td>19</td><td>26</td><td>7</td></tr><tr><td>1475300370138087426</td><td>&quot;https://twitte…</td><td>&quot;@reuvenmlerner…</td><td>2021-12-26 19:59:00 MST</td><td>1669</td><td>5</td><td>0.002996</td><td>0</td><td>0</td><td>3</td><td>0</td><td>0</td><td>0</td><td>2</td><td>0</td><td>0</td><td>0</td><td>0</td><td>true</td><td>186</td><td>34</td><td>true</td><td>false</td><td>0</td><td>1</td><td>false</td><td>19</td><td>26</td><td>7</td></tr><tr><td>1475300661851934721</td><td>&quot;https://twitte…</td><td>&quot;@allison_horst…</td><td>2021-12-26 20:01:00 MST</td><td>986</td><td>1</td><td>0.001014</td><td>0</td><td>0</td><td>0</td><td>0</td><td>0</td><td>0</td><td>1</td><td>0</td><td>0</td><td>0</td><td>0</td><td>true</td><td>30</td><td>3</td><td>true</td><td>false</td><td>0</td><td>1</td><td>false</td><td>20</td><td>26</td><td>7</td></tr><tr><td>1475518143690801156</td><td>&quot;https://twitte…</td><td>&quot;@willmcgugan Y…</td><td>2021-12-27 10:25:00 MST</td><td>1790</td><td>7</td><td>0.003911</td><td>0</td><td>0</td><td>3</td><td>1</td><td>0</td><td>0</td><td>3</td><td>0</td><td>0</td><td>0</td><td>0</td><td>true</td><td>140</td><td>24</td><td>true</td><td>false</td><td>0</td><td>1</td><td>false</td><td>10</td><td>27</td><td>1</td></tr><tr><td>1475891441243025408</td><td>&quot;https://twitte…</td><td>&quot;@posco Visitin…</td><td>2021-12-28 11:08:00 MST</td><td>1611</td><td>12</td><td>0.007449</td><td>0</td><td>0</td><td>4</td><td>4</td><td>0</td><td>0</td><td>4</td><td>0</td><td>0</td><td>0</td><td>0</td><td>true</td><td>197</td><td>35</td><td>true</td><td>false</td><td>0</td><td>1</td><td>false</td><td>11</td><td>28</td><td>2</td></tr><tr><td>1476453819751878656</td><td>&quot;https://twitte…</td><td>&quot;@johndsaunders…</td><td>2021-12-30 00:23:00 MST</td><td>1354</td><td>8</td><td>0.005908</td><td>0</td><td>0</td><td>2</td><td>4</td><td>0</td><td>0</td><td>2</td><td>0</td><td>0</td><td>0</td><td>0</td><td>true</td><td>38</td><td>6</td><td>true</td><td>false</td><td>0</td><td>1</td><td>false</td><td>0</td><td>30</td><td>4</td></tr><tr><td>1477024722051158018</td><td>&quot;https://twitte…</td><td>&quot;@tunguz Xgboos…</td><td>2021-12-31 14:11:00 MST</td><td>5041</td><td>63</td><td>0.012498</td><td>0</td><td>3</td><td>23</td><td>8</td><td>0</td><td>0</td><td>29</td><td>0</td><td>0</td><td>0</td><td>0</td><td>true</td><td>15</td><td>2</td><td>true</td><td>false</td><td>0</td><td>1</td><td>false</td><td>14</td><td>31</td><td>5</td></tr></tbody></table></div>"
      ],
      "text/plain": [
       "shape: (5_791, 29)\n",
       "┌─────────────────────┬───────────────────────────────────┬───────────────────────────────────┬──────────────────────────────┬───┬──────────────┬──────┬─────┬─────┐\n",
       "│ tweet_id            ┆ tweet_permalink                   ┆ tweet_text                        ┆ time                         ┆ … ┆ has_hashtags ┆ hour ┆ dom ┆ dow │\n",
       "│ ---                 ┆ ---                               ┆ ---                               ┆ ---                          ┆   ┆ ---          ┆ ---  ┆ --- ┆ --- │\n",
       "│ i64                 ┆ str                               ┆ str                               ┆ datetime[μs, America/Denver] ┆   ┆ bool         ┆ u32  ┆ u32 ┆ u32 │\n",
       "╞═════════════════════╪═══════════════════════════════════╪═══════════════════════════════════╪══════════════════════════════╪═══╪══════════════╪══════╪═════╪═════╡\n",
       "│ 1212580517905780737 ┆ https://twitter.com/__mharrison_… ┆ Sounds like a great topic! https… ┆ 2020-01-01 20:44:00 MST      ┆ … ┆ false        ┆ 20   ┆ 1   ┆ 3   │\n",
       "│ 1212582494828036097 ┆ https://twitter.com/__mharrison_… ┆ @FogleBird Looks like SLC. I can… ┆ 2020-01-01 20:52:00 MST      ┆ … ┆ false        ┆ 20   ┆ 1   ┆ 3   │\n",
       "│ 1212613735698690049 ┆ https://twitter.com/__mharrison_… ┆ @afilina That's really amount an… ┆ 2020-01-01 22:56:00 MST      ┆ … ┆ false        ┆ 22   ┆ 1   ┆ 3   │\n",
       "│ 1212911749617242113 ┆ https://twitter.com/__mharrison_… ┆ @randal_olson I use anaconda whe… ┆ 2020-01-02 18:41:00 MST      ┆ … ┆ false        ┆ 18   ┆ 2   ┆ 4   │\n",
       "│ …                   ┆ …                                 ┆ …                                 ┆ …                            ┆ … ┆ …            ┆ …    ┆ …   ┆ …   │\n",
       "│ 1475518143690801156 ┆ https://twitter.com/__mharrison_… ┆ @willmcgugan You need to find ou… ┆ 2021-12-27 10:25:00 MST      ┆ … ┆ false        ┆ 10   ┆ 27  ┆ 1   │\n",
       "│ 1475891441243025408 ┆ https://twitter.com/__mharrison_… ┆ @posco Visiting Hawaii for the h… ┆ 2021-12-28 11:08:00 MST      ┆ … ┆ false        ┆ 11   ┆ 28  ┆ 2   │\n",
       "│ 1476453819751878656 ┆ https://twitter.com/__mharrison_… ┆ @johndsaunders My son just built… ┆ 2021-12-30 00:23:00 MST      ┆ … ┆ false        ┆ 0    ┆ 30  ┆ 4   │\n",
       "│ 1477024722051158018 ┆ https://twitter.com/__mharrison_… ┆ @tunguz Xgboost                   ┆ 2021-12-31 14:11:00 MST      ┆ … ┆ false        ┆ 14   ┆ 31  ┆ 5   │\n",
       "└─────────────────────┴───────────────────────────────────┴───────────────────────────────────┴──────────────────────────────┴───┴──────────────┴──────┴─────┴─────┘"
      ]
     },
     "execution_count": 45,
     "metadata": {},
     "output_type": "execute_result"
    }
   ],
   "source": [
    "def tweak_twitter_lazy(df):\n",
    "    return (df\n",
    "     .lazy()\n",
    "     .select(pl.col(['Tweet id', 'Tweet permalink', 'Tweet text', 'time', \n",
    "                     'impressions', 'engagements', 'engagement rate', 'retweets', \n",
    "                     'replies', 'likes', 'user profile clicks', 'url clicks', \n",
    "                     'hashtag clicks', 'detail expands', 'app opens', 'follows', \n",
    "                     'media views', 'media engagements']))  \n",
    "     .select(pl.all().map_alias(lambda name: name.lower().replace(' ', '_')))            \n",
    "     .with_columns([\n",
    "         pl.col(['replies', 'hashtag_clicks', 'app_opens', \n",
    "                 'follows'])\n",
    "           .cast(pl.UInt8),\n",
    "         pl.col(['engagements', 'retweets', 'likes', 'user_profile_clicks', \n",
    "                 'url_clicks',  'detail_expands', 'media_views', 'media_engagements'])\n",
    "           .cast(pl.UInt16),\n",
    "         pl.col('impressions').cast(pl.UInt32),\n",
    "         pl.col('time').str.split('+').list.get(0)\n",
    "            .str.strptime(pl.Datetime, '%Y-%m-%d %H:%M:%S')\n",
    "            .dt.replace_time_zone('UTC').dt.convert_time_zone('America/Denver'),\n",
    "          pl.col('tweet_text').str.starts_with('@').alias('is_reply'),\n",
    "         pl.col('tweet_text').str.lengths().alias('length'),\n",
    "         pl.col('tweet_text').str.split(' ').alias('num_words').list.lengths(), # apply(lambda vals: len(vals)),\n",
    "         pl.col('tweet_text').alias('at_tweet').str.contains('@'),\n",
    "         pl.col('tweet_text').alias('has_newlines').str.contains('\\n'),\n",
    "         pl.col('tweet_text').alias('num_lines').str.count_match('\\n'),\n",
    "         pl.col('tweet_text').alias('num_mentions').str.count_match('@'),\n",
    "         pl.col('tweet_text').alias('has_hashtags').str.contains('#'),\n",
    "     ])      \n",
    "    .with_columns([\n",
    "         pl.col('time').dt.hour().alias('hour'),\n",
    "         pl.col('time').dt.day().alias('dom'),\n",
    "         pl.col('time').dt.weekday().alias('dow'),\n",
    "     ])            \n",
    "     .collect()\n",
    "    )\n",
    "\n",
    "# doesn't work with URL\n",
    "tweak_twitter_lazy(df)"
   ]
  },
  {
   "cell_type": "code",
   "execution_count": null,
   "metadata": {},
   "outputs": [],
   "source": []
  },
  {
   "cell_type": "markdown",
   "metadata": {},
   "source": [
    "## Apply Exercise\n",
    "* Calculate engagement ratio by dividing *engagements* by *impressions*\n",
    "* Calculate engagement ratio 2 by dividing the sum of *replies*, *retweets*, *likes*, *user_profile_clicks*, and *detail_expands* by *impressions*"
   ]
  },
  {
   "cell_type": "code",
   "execution_count": 40,
   "metadata": {},
   "outputs": [
    {
     "data": {
      "text/html": [
       "<div><style>\n",
       ".dataframe > thead > tr > th,\n",
       ".dataframe > tbody > tr > td {\n",
       "  text-align: right;\n",
       "}\n",
       "</style>\n",
       "<small>shape: (5_791, 3)</small><table border=\"1\" class=\"dataframe\"><thead><tr><th>impressions</th><th>engagements</th><th>engagements_to_impressions</th></tr><tr><td>f64</td><td>f64</td><td>f64</td></tr></thead><tbody><tr><td>1465.0</td><td>7.0</td><td>0.004778</td></tr><tr><td>154.0</td><td>3.0</td><td>0.019481</td></tr><tr><td>1024.0</td><td>6.0</td><td>0.005859</td></tr><tr><td>1419.0</td><td>14.0</td><td>0.009866</td></tr><tr><td>198.0</td><td>1.0</td><td>0.005051</td></tr><tr><td>170.0</td><td>3.0</td><td>0.017647</td></tr><tr><td>104.0</td><td>2.0</td><td>0.019231</td></tr><tr><td>189.0</td><td>0.0</td><td>0.0</td></tr><tr><td>900.0</td><td>4.0</td><td>0.004444</td></tr><tr><td>252.0</td><td>2.0</td><td>0.007937</td></tr><tr><td>1610.0</td><td>6.0</td><td>0.003727</td></tr><tr><td>165.0</td><td>3.0</td><td>0.018182</td></tr><tr><td>&hellip;</td><td>&hellip;</td><td>&hellip;</td></tr><tr><td>416.0</td><td>3.0</td><td>0.007212</td></tr><tr><td>15840.0</td><td>372.0</td><td>0.023485</td></tr><tr><td>22557.0</td><td>501.0</td><td>0.02221</td></tr><tr><td>1586.0</td><td>35.0</td><td>0.022068</td></tr><tr><td>4641.0</td><td>35.0</td><td>0.007541</td></tr><tr><td>1969.0</td><td>4.0</td><td>0.002031</td></tr><tr><td>1669.0</td><td>5.0</td><td>0.002996</td></tr><tr><td>986.0</td><td>1.0</td><td>0.001014</td></tr><tr><td>1790.0</td><td>7.0</td><td>0.003911</td></tr><tr><td>1611.0</td><td>12.0</td><td>0.007449</td></tr><tr><td>1354.0</td><td>8.0</td><td>0.005908</td></tr><tr><td>5041.0</td><td>63.0</td><td>0.012498</td></tr></tbody></table></div>"
      ],
      "text/plain": [
       "shape: (5_791, 3)\n",
       "┌─────────────┬─────────────┬────────────────────────────┐\n",
       "│ impressions ┆ engagements ┆ engagements_to_impressions │\n",
       "│ ---         ┆ ---         ┆ ---                        │\n",
       "│ f64         ┆ f64         ┆ f64                        │\n",
       "╞═════════════╪═════════════╪════════════════════════════╡\n",
       "│ 1465.0      ┆ 7.0         ┆ 0.004778                   │\n",
       "│ 154.0       ┆ 3.0         ┆ 0.019481                   │\n",
       "│ 1024.0      ┆ 6.0         ┆ 0.005859                   │\n",
       "│ 1419.0      ┆ 14.0        ┆ 0.009866                   │\n",
       "│ …           ┆ …           ┆ …                          │\n",
       "│ 1790.0      ┆ 7.0         ┆ 0.003911                   │\n",
       "│ 1611.0      ┆ 12.0        ┆ 0.007449                   │\n",
       "│ 1354.0      ┆ 8.0         ┆ 0.005908                   │\n",
       "│ 5041.0      ┆ 63.0        ┆ 0.012498                   │\n",
       "└─────────────┴─────────────┴────────────────────────────┘"
      ]
     },
     "execution_count": 40,
     "metadata": {},
     "output_type": "execute_result"
    }
   ],
   "source": [
    "# df.engagements/df.engagements\n",
    "\n",
    "(df\n",
    "#  .lazy()\n",
    " .with_columns(\n",
    "     (pl.col('engagements')/pl.col('impressions'))\n",
    "     .alias('engagements_to_impressions')\n",
    "     )\n",
    "#  .collect()\n",
    " \n",
    " .select(pl.col(['impressions', 'engagements','engagements_to_impressions']))  \n",
    "    )"
   ]
  },
  {
   "cell_type": "code",
   "execution_count": 35,
   "metadata": {},
   "outputs": [
    {
     "data": {
      "text/plain": [
       "['Tweet id',\n",
       " 'Tweet permalink',\n",
       " 'Tweet text',\n",
       " 'time',\n",
       " 'impressions',\n",
       " 'engagements',\n",
       " 'engagement rate',\n",
       " 'retweets',\n",
       " 'replies',\n",
       " 'likes',\n",
       " 'user profile clicks',\n",
       " 'url clicks',\n",
       " 'hashtag clicks',\n",
       " 'detail expands',\n",
       " 'permalink clicks',\n",
       " 'app opens',\n",
       " 'app installs',\n",
       " 'follows',\n",
       " 'email tweet',\n",
       " 'dial phone',\n",
       " 'media views',\n",
       " 'media engagements',\n",
       " 'promoted impressions',\n",
       " 'promoted engagements',\n",
       " 'promoted engagement rate',\n",
       " 'promoted retweets',\n",
       " 'promoted replies',\n",
       " 'promoted likes',\n",
       " 'promoted user profile clicks',\n",
       " 'promoted url clicks',\n",
       " 'promoted hashtag clicks',\n",
       " 'promoted detail expands',\n",
       " 'promoted permalink clicks',\n",
       " 'promoted app opens',\n",
       " 'promoted app installs',\n",
       " 'promoted follows',\n",
       " 'promoted email tweet',\n",
       " 'promoted dial phone',\n",
       " 'promoted media views',\n",
       " 'promoted media engagements']"
      ]
     },
     "execution_count": 35,
     "metadata": {},
     "output_type": "execute_result"
    }
   ],
   "source": [
    "df.columns"
   ]
  },
  {
   "cell_type": "code",
   "execution_count": 38,
   "metadata": {},
   "outputs": [
    {
     "data": {
      "text/html": [
       "<div><style>\n",
       ".dataframe > thead > tr > th,\n",
       ".dataframe > tbody > tr > td {\n",
       "  text-align: right;\n",
       "}\n",
       "</style>\n",
       "<small>shape: (5_791, 4)</small><table border=\"1\" class=\"dataframe\"><thead><tr><th>impressions</th><th>engagements</th><th>engagement_ratio_2</th><th>engagement_ratio_3</th></tr><tr><td>f64</td><td>f64</td><td>f64</td><td>f64</td></tr></thead><tbody><tr><td>1465.0</td><td>7.0</td><td>7.0</td><td>0.004778</td></tr><tr><td>154.0</td><td>3.0</td><td>3.0</td><td>0.019481</td></tr><tr><td>1024.0</td><td>6.0</td><td>6.0</td><td>0.005859</td></tr><tr><td>1419.0</td><td>14.0</td><td>14.0</td><td>0.009866</td></tr><tr><td>198.0</td><td>1.0</td><td>1.0</td><td>0.005051</td></tr><tr><td>170.0</td><td>3.0</td><td>3.0</td><td>0.017647</td></tr><tr><td>104.0</td><td>2.0</td><td>2.0</td><td>0.019231</td></tr><tr><td>189.0</td><td>0.0</td><td>0.0</td><td>0.0</td></tr><tr><td>900.0</td><td>4.0</td><td>4.0</td><td>0.004444</td></tr><tr><td>252.0</td><td>2.0</td><td>2.0</td><td>0.007937</td></tr><tr><td>1610.0</td><td>6.0</td><td>6.0</td><td>0.003727</td></tr><tr><td>165.0</td><td>3.0</td><td>3.0</td><td>0.018182</td></tr><tr><td>&hellip;</td><td>&hellip;</td><td>&hellip;</td><td>&hellip;</td></tr><tr><td>416.0</td><td>3.0</td><td>3.0</td><td>0.007212</td></tr><tr><td>15840.0</td><td>372.0</td><td>188.0</td><td>0.011869</td></tr><tr><td>22557.0</td><td>501.0</td><td>266.0</td><td>0.011792</td></tr><tr><td>1586.0</td><td>35.0</td><td>3.0</td><td>0.001892</td></tr><tr><td>4641.0</td><td>35.0</td><td>35.0</td><td>0.007541</td></tr><tr><td>1969.0</td><td>4.0</td><td>4.0</td><td>0.002031</td></tr><tr><td>1669.0</td><td>5.0</td><td>5.0</td><td>0.002996</td></tr><tr><td>986.0</td><td>1.0</td><td>1.0</td><td>0.001014</td></tr><tr><td>1790.0</td><td>7.0</td><td>7.0</td><td>0.003911</td></tr><tr><td>1611.0</td><td>12.0</td><td>12.0</td><td>0.007449</td></tr><tr><td>1354.0</td><td>8.0</td><td>8.0</td><td>0.005908</td></tr><tr><td>5041.0</td><td>63.0</td><td>63.0</td><td>0.012498</td></tr></tbody></table></div>"
      ],
      "text/plain": [
       "shape: (5_791, 4)\n",
       "┌─────────────┬─────────────┬────────────────────┬────────────────────┐\n",
       "│ impressions ┆ engagements ┆ engagement_ratio_2 ┆ engagement_ratio_3 │\n",
       "│ ---         ┆ ---         ┆ ---                ┆ ---                │\n",
       "│ f64         ┆ f64         ┆ f64                ┆ f64                │\n",
       "╞═════════════╪═════════════╪════════════════════╪════════════════════╡\n",
       "│ 1465.0      ┆ 7.0         ┆ 7.0                ┆ 0.004778           │\n",
       "│ 154.0       ┆ 3.0         ┆ 3.0                ┆ 0.019481           │\n",
       "│ 1024.0      ┆ 6.0         ┆ 6.0                ┆ 0.005859           │\n",
       "│ 1419.0      ┆ 14.0        ┆ 14.0               ┆ 0.009866           │\n",
       "│ …           ┆ …           ┆ …                  ┆ …                  │\n",
       "│ 1790.0      ┆ 7.0         ┆ 7.0                ┆ 0.003911           │\n",
       "│ 1611.0      ┆ 12.0        ┆ 12.0               ┆ 0.007449           │\n",
       "│ 1354.0      ┆ 8.0         ┆ 8.0                ┆ 0.005908           │\n",
       "│ 5041.0      ┆ 63.0        ┆ 63.0               ┆ 0.012498           │\n",
       "└─────────────┴─────────────┴────────────────────┴────────────────────┘"
      ]
     },
     "execution_count": 38,
     "metadata": {},
     "output_type": "execute_result"
    }
   ],
   "source": [
    "# Calculate engagement ratio 2 by dividing the sum of replies, retweets, likes, user_profile_clicks, and detail_expands by impressionsca\n",
    "\n",
    "(df\n",
    " .lazy()\n",
    " .with_columns(\n",
    "                 (pl.col('replies')\n",
    "                  +pl.col('retweets')\n",
    "                 +pl.col('likes')\n",
    "                 +pl.col('user profile clicks')\n",
    "                 +pl.col('detail expands')\n",
    "                 \n",
    "                 )\n",
    "                 .alias('engagement_ratio_2')\n",
    "             )\n",
    " .with_columns(\n",
    "                 (pl.col('engagement_ratio_2')\n",
    "                  /pl.col('impressions')\n",
    "                 )\n",
    "                 .alias('engagement_ratio_3')\n",
    "             ).collect()\n",
    " \n",
    " .select(pl.col(['impressions', 'engagements','engagement_ratio_2','engagement_ratio_3']))  \n",
    "    )"
   ]
  },
  {
   "cell_type": "code",
   "execution_count": null,
   "metadata": {},
   "outputs": [],
   "source": []
  },
  {
   "cell_type": "code",
   "execution_count": null,
   "metadata": {},
   "outputs": [],
   "source": []
  },
  {
   "cell_type": "markdown",
   "metadata": {},
   "source": [
    "## Aggregation"
   ]
  },
  {
   "cell_type": "code",
   "execution_count": 174,
   "metadata": {},
   "outputs": [
    {
     "data": {
      "text/html": [
       "<div><style>\n",
       ".dataframe > thead > tr > th,\n",
       ".dataframe > tbody > tr > td {\n",
       "  text-align: right;\n",
       "}\n",
       "</style>\n",
       "<small>shape: (2, 30)</small><table border=\"1\" class=\"dataframe\"><thead><tr><th>year</th><th>tweet_id</th><th>tweet_permalink</th><th>tweet_text</th><th>time</th><th>impressions</th><th>engagements</th><th>engagement_rate</th><th>retweets</th><th>replies</th><th>likes</th><th>user_profile_clicks</th><th>url_clicks</th><th>hashtag_clicks</th><th>detail_expands</th><th>app_opens</th><th>follows</th><th>media_views</th><th>media_engagements</th><th>is_reply</th><th>length</th><th>num_words</th><th>at_tweet</th><th>has_newlines</th><th>num_lines</th><th>num_mentions</th><th>has_hashtags</th><th>hour</th><th>dom</th><th>dow</th></tr><tr><td>i32</td><td>f64</td><td>str</td><td>str</td><td>datetime[μs, America/Denver]</td><td>f64</td><td>f64</td><td>f64</td><td>f64</td><td>f64</td><td>f64</td><td>f64</td><td>f64</td><td>f64</td><td>f64</td><td>f64</td><td>f64</td><td>f64</td><td>f64</td><td>f64</td><td>f64</td><td>f64</td><td>f64</td><td>f64</td><td>f64</td><td>f64</td><td>f64</td><td>f64</td><td>f64</td><td>f64</td></tr></thead><tbody><tr><td>2020</td><td>1.2943e18</td><td>null</td><td>null</td><td>null</td><td>1017.074979</td><td>55.406379</td><td>0.033115</td><td>0.360812</td><td>0.632146</td><td>3.487572</td><td>3.982601</td><td>3.747722</td><td>0.033969</td><td>12.557995</td><td>0.002486</td><td>0.002071</td><td>30.692212</td><td>30.37034</td><td>0.666529</td><td>95.005385</td><td>14.514913</td><td>0.702154</td><td>0.061723</td><td>0.172328</td><td>1.077051</td><td>0.048882</td><td>14.03024</td><td>15.707125</td><td>3.655758</td></tr><tr><td>2021</td><td>1.4076e18</td><td>null</td><td>null</td><td>null</td><td>3213.342908</td><td>151.427895</td><td>0.035916</td><td>1.422268</td><td>1.476458</td><td>13.62748</td><td>32.469351</td><td>5.041753</td><td>0.009476</td><td>50.456618</td><td>0.0</td><td>0.231566</td><td>46.428783</td><td>46.390583</td><td>0.702695</td><td>95.977199</td><td>14.752443</td><td>0.723423</td><td>0.174119</td><td>0.54042</td><td>1.065739</td><td>0.00385</td><td>13.057744</td><td>15.748001</td><td>3.509032</td></tr></tbody></table></div>"
      ],
      "text/plain": [
       "shape: (2, 30)\n",
       "┌──────┬───────────┬────────────┬────────────┬───┬──────────────┬───────────┬───────────┬──────────┐\n",
       "│ year ┆ tweet_id  ┆ tweet_perm ┆ tweet_text ┆ … ┆ has_hashtags ┆ hour      ┆ dom       ┆ dow      │\n",
       "│ ---  ┆ ---       ┆ alink      ┆ ---        ┆   ┆ ---          ┆ ---       ┆ ---       ┆ ---      │\n",
       "│ i32  ┆ f64       ┆ ---        ┆ str        ┆   ┆ f64          ┆ f64       ┆ f64       ┆ f64      │\n",
       "│      ┆           ┆ str        ┆            ┆   ┆              ┆           ┆           ┆          │\n",
       "╞══════╪═══════════╪════════════╪════════════╪═══╪══════════════╪═══════════╪═══════════╪══════════╡\n",
       "│ 2020 ┆ 1.2943e18 ┆ null       ┆ null       ┆ … ┆ 0.048882     ┆ 14.03024  ┆ 15.707125 ┆ 3.655758 │\n",
       "│ 2021 ┆ 1.4076e18 ┆ null       ┆ null       ┆ … ┆ 0.00385      ┆ 13.057744 ┆ 15.748001 ┆ 3.509032 │\n",
       "└──────┴───────────┴────────────┴────────────┴───┴──────────────┴───────────┴───────────┴──────────┘"
      ]
     },
     "execution_count": 174,
     "metadata": {},
     "output_type": "execute_result"
    }
   ],
   "source": [
    "(tweak_twitter_lazy(df)\n",
    " .groupby(pl.col('time').dt.year().alias('year'))\n",
    " .mean()\n",
    ")"
   ]
  },
  {
   "cell_type": "code",
   "execution_count": 178,
   "metadata": {},
   "outputs": [
    {
     "data": {
      "text/html": [
       "<div><style>\n",
       ".dataframe > thead > tr > th,\n",
       ".dataframe > tbody > tr > td {\n",
       "  text-align: right;\n",
       "}\n",
       "</style>\n",
       "<small>shape: (2, 3)</small><table border=\"1\" class=\"dataframe\"><thead><tr><th>year</th><th>impressions</th><th>row_nr</th></tr><tr><td>i32</td><td>f64</td><td>u32</td></tr></thead><tbody><tr><td>2020</td><td>1017.074979</td><td>0</td></tr><tr><td>2021</td><td>3213.342908</td><td>2414</td></tr></tbody></table></div>"
      ],
      "text/plain": [
       "shape: (2, 3)\n",
       "┌──────┬─────────────┬────────┐\n",
       "│ year ┆ impressions ┆ row_nr │\n",
       "│ ---  ┆ ---         ┆ ---    │\n",
       "│ i32  ┆ f64         ┆ u32    │\n",
       "╞══════╪═════════════╪════════╡\n",
       "│ 2020 ┆ 1017.074979 ┆ 0      │\n",
       "│ 2021 ┆ 3213.342908 ┆ 2414   │\n",
       "└──────┴─────────────┴────────┘"
      ]
     },
     "execution_count": 178,
     "metadata": {},
     "output_type": "execute_result"
    }
   ],
   "source": [
    "(tweak_twitter_lazy(df)\n",
    " .with_row_count() # here row count is simulating index value\n",
    " .groupby(pl.col('time').dt.year().alias('year'))\n",
    " .agg([pl.col('impressions').mean(), pl.col('row_nr').first()])\n",
    ")"
   ]
  },
  {
   "cell_type": "code",
   "execution_count": 176,
   "metadata": {},
   "outputs": [
    {
     "data": {
      "text/html": [
       "<div><style>\n",
       ".dataframe > thead > tr > th,\n",
       ".dataframe > tbody > tr > td {\n",
       "  text-align: right;\n",
       "}\n",
       "</style>\n",
       "<small>shape: (2, 3)</small><table border=\"1\" class=\"dataframe\"><thead><tr><th>year</th><th>impressions</th><th>replies</th></tr><tr><td>i32</td><td>f64</td><td>f64</td></tr></thead><tbody><tr><td>2020</td><td>1017.074979</td><td>0.632146</td></tr><tr><td>2021</td><td>3213.342908</td><td>1.476458</td></tr></tbody></table></div>"
      ],
      "text/plain": [
       "shape: (2, 3)\n",
       "┌──────┬─────────────┬──────────┐\n",
       "│ year ┆ impressions ┆ replies  │\n",
       "│ ---  ┆ ---         ┆ ---      │\n",
       "│ i32  ┆ f64         ┆ f64      │\n",
       "╞══════╪═════════════╪══════════╡\n",
       "│ 2020 ┆ 1017.074979 ┆ 0.632146 │\n",
       "│ 2021 ┆ 3213.342908 ┆ 1.476458 │\n",
       "└──────┴─────────────┴──────────┘"
      ]
     },
     "execution_count": 176,
     "metadata": {},
     "output_type": "execute_result"
    }
   ],
   "source": [
    "# Should parallelize these two mean aggregations\n",
    "(tweak_twitter_lazy(df)\n",
    " .groupby(pl.col('time').dt.year().alias('year'))\n",
    " .agg([pl.col('impressions').mean(),\n",
    "       pl.col('replies').mean(),\n",
    "      ])\n",
    ")"
   ]
  },
  {
   "cell_type": "code",
   "execution_count": 181,
   "metadata": {
    "scrolled": true
   },
   "outputs": [
    {
     "data": {
      "text/html": [
       "<div><style>\n",
       ".dataframe > thead > tr > th,\n",
       ".dataframe > tbody > tr > td {\n",
       "  text-align: right;\n",
       "}\n",
       "</style>\n",
       "<small>shape: (24, 4)</small><table border=\"1\" class=\"dataframe\"><thead><tr><th>year</th><th>month</th><th>impressions</th><th>replies</th></tr><tr><td>i32</td><td>u32</td><td>f64</td><td>f64</td></tr></thead><tbody><tr><td>2021</td><td>4</td><td>1935.60396</td><td>0.894389</td></tr><tr><td>2021</td><td>8</td><td>6137.069182</td><td>2.974843</td></tr><tr><td>2020</td><td>6</td><td>918.264</td><td>0.504</td></tr><tr><td>2020</td><td>4</td><td>1016.109804</td><td>0.607843</td></tr><tr><td>2020</td><td>9</td><td>1110.756219</td><td>0.791045</td></tr><tr><td>2020</td><td>11</td><td>1165.642857</td><td>0.785714</td></tr><tr><td>2020</td><td>1</td><td>1487.65</td><td>0.416667</td></tr><tr><td>2020</td><td>2</td><td>1171.571429</td><td>0.417582</td></tr><tr><td>2021</td><td>10</td><td>4253.404255</td><td>2.421986</td></tr><tr><td>2021</td><td>3</td><td>1427.23219</td><td>1.224274</td></tr><tr><td>2021</td><td>6</td><td>5890.532258</td><td>1.639785</td></tr><tr><td>2021</td><td>9</td><td>3705.576159</td><td>1.622517</td></tr><tr><td>2020</td><td>8</td><td>942.424242</td><td>0.626263</td></tr><tr><td>2020</td><td>7</td><td>1211.015504</td><td>0.527132</td></tr><tr><td>2021</td><td>5</td><td>2383.799213</td><td>1.114173</td></tr><tr><td>2021</td><td>2</td><td>1175.945245</td><td>0.930836</td></tr><tr><td>2021</td><td>7</td><td>12441.654206</td><td>3.093458</td></tr><tr><td>2021</td><td>12</td><td>3934.084142</td><td>1.867314</td></tr><tr><td>2021</td><td>1</td><td>869.838791</td><td>0.72796</td></tr><tr><td>2021</td><td>11</td><td>4057.727273</td><td>1.411932</td></tr><tr><td>2020</td><td>12</td><td>986.690104</td><td>0.580729</td></tr><tr><td>2020</td><td>5</td><td>766.308176</td><td>0.578616</td></tr><tr><td>2020</td><td>10</td><td>889.151007</td><td>0.697987</td></tr><tr><td>2020</td><td>3</td><td>862.533333</td><td>0.566667</td></tr></tbody></table></div>"
      ],
      "text/plain": [
       "shape: (24, 4)\n",
       "┌──────┬───────┬─────────────┬──────────┐\n",
       "│ year ┆ month ┆ impressions ┆ replies  │\n",
       "│ ---  ┆ ---   ┆ ---         ┆ ---      │\n",
       "│ i32  ┆ u32   ┆ f64         ┆ f64      │\n",
       "╞══════╪═══════╪═════════════╪══════════╡\n",
       "│ 2021 ┆ 4     ┆ 1935.60396  ┆ 0.894389 │\n",
       "│ 2021 ┆ 8     ┆ 6137.069182 ┆ 2.974843 │\n",
       "│ 2020 ┆ 6     ┆ 918.264     ┆ 0.504    │\n",
       "│ 2020 ┆ 4     ┆ 1016.109804 ┆ 0.607843 │\n",
       "│ …    ┆ …     ┆ …           ┆ …        │\n",
       "│ 2020 ┆ 12    ┆ 986.690104  ┆ 0.580729 │\n",
       "│ 2020 ┆ 5     ┆ 766.308176  ┆ 0.578616 │\n",
       "│ 2020 ┆ 10    ┆ 889.151007  ┆ 0.697987 │\n",
       "│ 2020 ┆ 3     ┆ 862.533333  ┆ 0.566667 │\n",
       "└──────┴───────┴─────────────┴──────────┘"
      ]
     },
     "execution_count": 181,
     "metadata": {},
     "output_type": "execute_result"
    }
   ],
   "source": [
    "# aggregate by multiple columns\n",
    "# not sorted because uses a hash join\n",
    "(tweak_twitter_lazy(df)\n",
    " .groupby([pl.col('time').dt.year().alias('year'),\n",
    "           pl.col('time').dt.month().alias('month')])\n",
    " .agg([pl.col('impressions').mean(),\n",
    "       pl.col('replies').mean(),\n",
    "      ])\n",
    ")"
   ]
  },
  {
   "cell_type": "code",
   "execution_count": 182,
   "metadata": {
    "scrolled": true
   },
   "outputs": [
    {
     "data": {
      "text/html": [
       "<div><style>\n",
       ".dataframe > thead > tr > th,\n",
       ".dataframe > tbody > tr > td {\n",
       "  text-align: right;\n",
       "}\n",
       "</style>\n",
       "<small>shape: (24, 4)</small><table border=\"1\" class=\"dataframe\"><thead><tr><th>year</th><th>month</th><th>impressions</th><th>replies</th></tr><tr><td>i32</td><td>u32</td><td>f64</td><td>f64</td></tr></thead><tbody><tr><td>2020</td><td>1</td><td>1487.65</td><td>0.416667</td></tr><tr><td>2020</td><td>2</td><td>1171.571429</td><td>0.417582</td></tr><tr><td>2020</td><td>3</td><td>862.533333</td><td>0.566667</td></tr><tr><td>2020</td><td>4</td><td>1016.109804</td><td>0.607843</td></tr><tr><td>2020</td><td>5</td><td>766.308176</td><td>0.578616</td></tr><tr><td>2020</td><td>6</td><td>918.264</td><td>0.504</td></tr><tr><td>2020</td><td>7</td><td>1211.015504</td><td>0.527132</td></tr><tr><td>2020</td><td>8</td><td>942.424242</td><td>0.626263</td></tr><tr><td>2020</td><td>9</td><td>1110.756219</td><td>0.791045</td></tr><tr><td>2020</td><td>10</td><td>889.151007</td><td>0.697987</td></tr><tr><td>2020</td><td>11</td><td>1165.642857</td><td>0.785714</td></tr><tr><td>2020</td><td>12</td><td>986.690104</td><td>0.580729</td></tr><tr><td>2021</td><td>1</td><td>869.838791</td><td>0.72796</td></tr><tr><td>2021</td><td>2</td><td>1175.945245</td><td>0.930836</td></tr><tr><td>2021</td><td>3</td><td>1427.23219</td><td>1.224274</td></tr><tr><td>2021</td><td>4</td><td>1935.60396</td><td>0.894389</td></tr><tr><td>2021</td><td>5</td><td>2383.799213</td><td>1.114173</td></tr><tr><td>2021</td><td>6</td><td>5890.532258</td><td>1.639785</td></tr><tr><td>2021</td><td>7</td><td>12441.654206</td><td>3.093458</td></tr><tr><td>2021</td><td>8</td><td>6137.069182</td><td>2.974843</td></tr><tr><td>2021</td><td>9</td><td>3705.576159</td><td>1.622517</td></tr><tr><td>2021</td><td>10</td><td>4253.404255</td><td>2.421986</td></tr><tr><td>2021</td><td>11</td><td>4057.727273</td><td>1.411932</td></tr><tr><td>2021</td><td>12</td><td>3934.084142</td><td>1.867314</td></tr></tbody></table></div>"
      ],
      "text/plain": [
       "shape: (24, 4)\n",
       "┌──────┬───────┬─────────────┬──────────┐\n",
       "│ year ┆ month ┆ impressions ┆ replies  │\n",
       "│ ---  ┆ ---   ┆ ---         ┆ ---      │\n",
       "│ i32  ┆ u32   ┆ f64         ┆ f64      │\n",
       "╞══════╪═══════╪═════════════╪══════════╡\n",
       "│ 2020 ┆ 1     ┆ 1487.65     ┆ 0.416667 │\n",
       "│ 2020 ┆ 2     ┆ 1171.571429 ┆ 0.417582 │\n",
       "│ 2020 ┆ 3     ┆ 862.533333  ┆ 0.566667 │\n",
       "│ 2020 ┆ 4     ┆ 1016.109804 ┆ 0.607843 │\n",
       "│ …    ┆ …     ┆ …           ┆ …        │\n",
       "│ 2021 ┆ 9     ┆ 3705.576159 ┆ 1.622517 │\n",
       "│ 2021 ┆ 10    ┆ 4253.404255 ┆ 2.421986 │\n",
       "│ 2021 ┆ 11    ┆ 4057.727273 ┆ 1.411932 │\n",
       "│ 2021 ┆ 12    ┆ 3934.084142 ┆ 1.867314 │\n",
       "└──────┴───────┴─────────────┴──────────┘"
      ]
     },
     "execution_count": 182,
     "metadata": {},
     "output_type": "execute_result"
    }
   ],
   "source": [
    "# sort the result\n",
    "(tweak_twitter_lazy(df)\n",
    " .groupby([pl.col('time').dt.year().alias('year'),\n",
    "           pl.col('time').dt.month().alias('month')])\n",
    " .agg([pl.col('impressions').mean(),\n",
    "       pl.col('replies').mean(),\n",
    "      ])\n",
    " .sort(['year', 'month'])\n",
    ")"
   ]
  },
  {
   "cell_type": "code",
   "execution_count": 183,
   "metadata": {
    "collapsed": true
   },
   "outputs": [
    {
     "data": {
      "text/html": [
       "<div><style>\n",
       ".dataframe > thead > tr > th,\n",
       ".dataframe > tbody > tr > td {\n",
       "  text-align: right;\n",
       "}\n",
       "</style>\n",
       "<small>shape: (24, 4)</small><table border=\"1\" class=\"dataframe\"><thead><tr><th>year</th><th>month</th><th>impressions</th><th>replies</th></tr><tr><td>i32</td><td>u32</td><td>f64</td><td>f64</td></tr></thead><tbody><tr><td>2020</td><td>1</td><td>1487.65</td><td>0.416667</td></tr><tr><td>2020</td><td>2</td><td>1171.571429</td><td>0.417582</td></tr><tr><td>2020</td><td>3</td><td>862.533333</td><td>0.566667</td></tr><tr><td>2020</td><td>4</td><td>1016.109804</td><td>0.607843</td></tr><tr><td>2020</td><td>5</td><td>766.308176</td><td>0.578616</td></tr><tr><td>2020</td><td>6</td><td>918.264</td><td>0.504</td></tr><tr><td>2020</td><td>7</td><td>1211.015504</td><td>0.527132</td></tr><tr><td>2020</td><td>8</td><td>942.424242</td><td>0.626263</td></tr><tr><td>2020</td><td>9</td><td>1110.756219</td><td>0.791045</td></tr><tr><td>2020</td><td>10</td><td>889.151007</td><td>0.697987</td></tr><tr><td>2020</td><td>11</td><td>1165.642857</td><td>0.785714</td></tr><tr><td>2020</td><td>12</td><td>986.690104</td><td>0.580729</td></tr><tr><td>2021</td><td>1</td><td>869.838791</td><td>0.72796</td></tr><tr><td>2021</td><td>2</td><td>1175.945245</td><td>0.930836</td></tr><tr><td>2021</td><td>3</td><td>1427.23219</td><td>1.224274</td></tr><tr><td>2021</td><td>4</td><td>1935.60396</td><td>0.894389</td></tr><tr><td>2021</td><td>5</td><td>2383.799213</td><td>1.114173</td></tr><tr><td>2021</td><td>6</td><td>5890.532258</td><td>1.639785</td></tr><tr><td>2021</td><td>7</td><td>12441.654206</td><td>3.093458</td></tr><tr><td>2021</td><td>8</td><td>6137.069182</td><td>2.974843</td></tr><tr><td>2021</td><td>9</td><td>3705.576159</td><td>1.622517</td></tr><tr><td>2021</td><td>10</td><td>4253.404255</td><td>2.421986</td></tr><tr><td>2021</td><td>11</td><td>4057.727273</td><td>1.411932</td></tr><tr><td>2021</td><td>12</td><td>3934.084142</td><td>1.867314</td></tr></tbody></table></div>"
      ],
      "text/plain": [
       "shape: (24, 4)\n",
       "┌──────┬───────┬─────────────┬──────────┐\n",
       "│ year ┆ month ┆ impressions ┆ replies  │\n",
       "│ ---  ┆ ---   ┆ ---         ┆ ---      │\n",
       "│ i32  ┆ u32   ┆ f64         ┆ f64      │\n",
       "╞══════╪═══════╪═════════════╪══════════╡\n",
       "│ 2020 ┆ 1     ┆ 1487.65     ┆ 0.416667 │\n",
       "│ 2020 ┆ 2     ┆ 1171.571429 ┆ 0.417582 │\n",
       "│ 2020 ┆ 3     ┆ 862.533333  ┆ 0.566667 │\n",
       "│ 2020 ┆ 4     ┆ 1016.109804 ┆ 0.607843 │\n",
       "│ …    ┆ …     ┆ …           ┆ …        │\n",
       "│ 2021 ┆ 9     ┆ 3705.576159 ┆ 1.622517 │\n",
       "│ 2021 ┆ 10    ┆ 4253.404255 ┆ 2.421986 │\n",
       "│ 2021 ┆ 11    ┆ 4057.727273 ┆ 1.411932 │\n",
       "│ 2021 ┆ 12    ┆ 3934.084142 ┆ 1.867314 │\n",
       "└──────┴───────┴─────────────┴──────────┘"
      ]
     },
     "execution_count": 183,
     "metadata": {},
     "output_type": "execute_result"
    }
   ],
   "source": [
    "# sort the result with .groupby( ... maintain_order=True)\n",
    "(tweak_twitter_lazy(df)\n",
    " .groupby([pl.col('time').dt.year().alias('year'),\n",
    "           pl.col('time').dt.month().alias('month')],\n",
    "         maintain_order=True)  # preferred to .sort\n",
    " .agg([pl.col('impressions').mean(),\n",
    "       pl.col('replies').mean(),\n",
    "      ])\n",
    " #.sort(['year', 'month'])\n",
    ")"
   ]
  },
  {
   "cell_type": "code",
   "execution_count": 192,
   "metadata": {
    "collapsed": true
   },
   "outputs": [
    {
     "data": {
      "text/html": [
       "<div><style>\n",
       ".dataframe > thead > tr > th,\n",
       ".dataframe > tbody > tr > td {\n",
       "  text-align: right;\n",
       "}\n",
       "</style>\n",
       "<small>shape: (24, 3)</small><table border=\"1\" class=\"dataframe\"><thead><tr><th>month</th><th>impressions</th><th>replies</th></tr><tr><td>str</td><td>f64</td><td>f64</td></tr></thead><tbody><tr><td>&quot;2020-01&quot;</td><td>1487.65</td><td>0.416667</td></tr><tr><td>&quot;2020-02&quot;</td><td>1171.571429</td><td>0.417582</td></tr><tr><td>&quot;2020-03&quot;</td><td>862.533333</td><td>0.566667</td></tr><tr><td>&quot;2020-04&quot;</td><td>1016.109804</td><td>0.607843</td></tr><tr><td>&quot;2020-05&quot;</td><td>766.308176</td><td>0.578616</td></tr><tr><td>&quot;2020-06&quot;</td><td>918.264</td><td>0.504</td></tr><tr><td>&quot;2020-07&quot;</td><td>1211.015504</td><td>0.527132</td></tr><tr><td>&quot;2020-08&quot;</td><td>942.424242</td><td>0.626263</td></tr><tr><td>&quot;2020-09&quot;</td><td>1110.756219</td><td>0.791045</td></tr><tr><td>&quot;2020-10&quot;</td><td>889.151007</td><td>0.697987</td></tr><tr><td>&quot;2020-11&quot;</td><td>1165.642857</td><td>0.785714</td></tr><tr><td>&quot;2020-12&quot;</td><td>986.690104</td><td>0.580729</td></tr><tr><td>&quot;2021-01&quot;</td><td>869.838791</td><td>0.72796</td></tr><tr><td>&quot;2021-02&quot;</td><td>1175.945245</td><td>0.930836</td></tr><tr><td>&quot;2021-03&quot;</td><td>1427.23219</td><td>1.224274</td></tr><tr><td>&quot;2021-04&quot;</td><td>1935.60396</td><td>0.894389</td></tr><tr><td>&quot;2021-05&quot;</td><td>2383.799213</td><td>1.114173</td></tr><tr><td>&quot;2021-06&quot;</td><td>5890.532258</td><td>1.639785</td></tr><tr><td>&quot;2021-07&quot;</td><td>12441.654206</td><td>3.093458</td></tr><tr><td>&quot;2021-08&quot;</td><td>6137.069182</td><td>2.974843</td></tr><tr><td>&quot;2021-09&quot;</td><td>3705.576159</td><td>1.622517</td></tr><tr><td>&quot;2021-10&quot;</td><td>4253.404255</td><td>2.421986</td></tr><tr><td>&quot;2021-11&quot;</td><td>4057.727273</td><td>1.411932</td></tr><tr><td>&quot;2021-12&quot;</td><td>3934.084142</td><td>1.867314</td></tr></tbody></table></div>"
      ],
      "text/plain": [
       "shape: (24, 3)\n",
       "┌─────────┬─────────────┬──────────┐\n",
       "│ month   ┆ impressions ┆ replies  │\n",
       "│ ---     ┆ ---         ┆ ---      │\n",
       "│ str     ┆ f64         ┆ f64      │\n",
       "╞═════════╪═════════════╪══════════╡\n",
       "│ 2020-01 ┆ 1487.65     ┆ 0.416667 │\n",
       "│ 2020-02 ┆ 1171.571429 ┆ 0.417582 │\n",
       "│ 2020-03 ┆ 862.533333  ┆ 0.566667 │\n",
       "│ 2020-04 ┆ 1016.109804 ┆ 0.607843 │\n",
       "│ …       ┆ …           ┆ …        │\n",
       "│ 2021-09 ┆ 3705.576159 ┆ 1.622517 │\n",
       "│ 2021-10 ┆ 4253.404255 ┆ 2.421986 │\n",
       "│ 2021-11 ┆ 4057.727273 ┆ 1.411932 │\n",
       "│ 2021-12 ┆ 3934.084142 ┆ 1.867314 │\n",
       "└─────────┴─────────────┴──────────┘"
      ]
     },
     "execution_count": 192,
     "metadata": {},
     "output_type": "execute_result"
    }
   ],
   "source": [
    "# note that if you sort a grouping column, polars has a fast-path \n",
    "# with .set_sorted()\n",
    "(tweak_twitter_lazy(df)\n",
    " .sort('time')\n",
    " .groupby([pl.col('time').dt.strftime('%Y-%m').set_sorted().alias('month')],\n",
    "          maintain_order=True\n",
    "         )\n",
    " .agg([pl.col('impressions').mean(),\n",
    "       pl.col('replies').mean(),\n",
    "      ])\n",
    ")"
   ]
  },
  {
   "cell_type": "code",
   "execution_count": null,
   "metadata": {},
   "outputs": [],
   "source": [
    "df.groupby_dynamic?"
   ]
  },
  {
   "cell_type": "code",
   "execution_count": 199,
   "metadata": {
    "scrolled": false
   },
   "outputs": [
    {
     "data": {
      "text/html": [
       "<div><style>\n",
       ".dataframe > thead > tr > th,\n",
       ".dataframe > tbody > tr > td {\n",
       "  text-align: right;\n",
       "}\n",
       "</style>\n",
       "<small>shape: (12, 3)</small><table border=\"1\" class=\"dataframe\"><thead><tr><th>time</th><th>impressions</th><th>replies</th></tr><tr><td>datetime[μs, America/Denver]</td><td>f64</td><td>f64</td></tr></thead><tbody><tr><td>2020-01-01 00:00:00 MST</td><td>1297.165563</td><td>0.417219</td></tr><tr><td>2020-03-01 00:00:00 MST</td><td>959.22963</td><td>0.592593</td></tr><tr><td>2020-05-01 00:00:00 MDT</td><td>833.190141</td><td>0.545775</td></tr><tr><td>2020-07-01 00:00:00 MDT</td><td>1048.382263</td><td>0.587156</td></tr><tr><td>2020-09-01 00:00:00 MDT</td><td>978.41483</td><td>0.735471</td></tr><tr><td>2020-11-01 00:00:00 MDT</td><td>1073.774064</td><td>0.680481</td></tr><tr><td>2021-01-01 00:00:00 MST</td><td>1012.606183</td><td>0.822581</td></tr><tr><td>2021-03-01 00:00:00 MST</td><td>1653.092375</td><td>1.077713</td></tr><tr><td>2021-05-01 00:00:00 MDT</td><td>3866.190909</td><td>1.336364</td></tr><tr><td>2021-07-01 00:00:00 MDT</td><td>8673.12406</td><td>3.022556</td></tr><tr><td>2021-09-01 00:00:00 MDT</td><td>3970.109589</td><td>2.008562</td></tr><tr><td>2021-11-01 00:00:00 MDT</td><td>3999.927383</td><td>1.624811</td></tr></tbody></table></div>"
      ],
      "text/plain": [
       "shape: (12, 3)\n",
       "┌──────────────────────────────┬─────────────┬──────────┐\n",
       "│ time                         ┆ impressions ┆ replies  │\n",
       "│ ---                          ┆ ---         ┆ ---      │\n",
       "│ datetime[μs, America/Denver] ┆ f64         ┆ f64      │\n",
       "╞══════════════════════════════╪═════════════╪══════════╡\n",
       "│ 2020-01-01 00:00:00 MST      ┆ 1297.165563 ┆ 0.417219 │\n",
       "│ 2020-03-01 00:00:00 MST      ┆ 959.22963   ┆ 0.592593 │\n",
       "│ 2020-05-01 00:00:00 MDT      ┆ 833.190141  ┆ 0.545775 │\n",
       "│ 2020-07-01 00:00:00 MDT      ┆ 1048.382263 ┆ 0.587156 │\n",
       "│ …                            ┆ …           ┆ …        │\n",
       "│ 2021-05-01 00:00:00 MDT      ┆ 3866.190909 ┆ 1.336364 │\n",
       "│ 2021-07-01 00:00:00 MDT      ┆ 8673.12406  ┆ 3.022556 │\n",
       "│ 2021-09-01 00:00:00 MDT      ┆ 3970.109589 ┆ 2.008562 │\n",
       "│ 2021-11-01 00:00:00 MDT      ┆ 3999.927383 ┆ 1.624811 │\n",
       "└──────────────────────────────┴─────────────┴──────────┘"
      ]
     },
     "execution_count": 199,
     "metadata": {},
     "output_type": "execute_result"
    }
   ],
   "source": [
    "(tweak_twitter_lazy(df)\n",
    " .groupby_dynamic(index_column='time', every='2mo')\n",
    " .agg([pl.col('impressions').mean(),\n",
    "       pl.col('replies').mean(),\n",
    "      ])\n",
    ")"
   ]
  },
  {
   "cell_type": "code",
   "execution_count": 200,
   "metadata": {
    "scrolled": true
   },
   "outputs": [
    {
     "data": {
      "text/html": [
       "<div><style>\n",
       ".dataframe > thead > tr > th,\n",
       ".dataframe > tbody > tr > td {\n",
       "  text-align: right;\n",
       "}\n",
       "</style>\n",
       "<small>shape: (223, 3)</small><table border=\"1\" class=\"dataframe\"><thead><tr><th>time</th><th>impressions</th><th>replies</th></tr><tr><td>datetime[μs, America/Denver]</td><td>f64</td><td>f64</td></tr></thead><tbody><tr><td>2020-01-01 20:44:00 MST</td><td>680.454545</td><td>0.181818</td></tr><tr><td>2020-01-05 01:44:00 MST</td><td>1120.6</td><td>0.4</td></tr><tr><td>2020-01-08 06:44:00 MST</td><td>3494.538462</td><td>0.384615</td></tr><tr><td>2020-01-11 11:44:00 MST</td><td>424.5</td><td>0.5</td></tr><tr><td>2020-01-14 16:44:00 MST</td><td>1670.25</td><td>1.25</td></tr><tr><td>2020-01-17 21:44:00 MST</td><td>766.5</td><td>0.0</td></tr><tr><td>2020-01-21 02:44:00 MST</td><td>631.363636</td><td>0.272727</td></tr><tr><td>2020-01-24 07:44:00 MST</td><td>810.4</td><td>0.2</td></tr><tr><td>2020-01-27 12:44:00 MST</td><td>1373.5</td><td>0.5</td></tr><tr><td>2020-01-30 17:44:00 MST</td><td>860.5</td><td>0.25</td></tr><tr><td>2020-02-02 22:44:00 MST</td><td>1768.0</td><td>0.2</td></tr><tr><td>2020-02-06 03:44:00 MST</td><td>486.6</td><td>0.3</td></tr><tr><td>&hellip;</td><td>&hellip;</td><td>&hellip;</td></tr><tr><td>2021-11-24 20:44:00 MST</td><td>2977.047619</td><td>0.619048</td></tr><tr><td>2021-11-28 01:44:00 MST</td><td>3275.0</td><td>0.294118</td></tr><tr><td>2021-12-01 06:44:00 MST</td><td>4566.545455</td><td>2.064935</td></tr><tr><td>2021-12-04 11:44:00 MST</td><td>2970.854545</td><td>1.090909</td></tr><tr><td>2021-12-07 16:44:00 MST</td><td>3500.904762</td><td>1.095238</td></tr><tr><td>2021-12-10 21:44:00 MST</td><td>3086.52381</td><td>0.52381</td></tr><tr><td>2021-12-14 02:44:00 MST</td><td>6082.44186</td><td>5.418605</td></tr><tr><td>2021-12-17 07:44:00 MST</td><td>2607.225806</td><td>0.774194</td></tr><tr><td>2021-12-20 12:44:00 MST</td><td>152.666667</td><td>0.0</td></tr><tr><td>2021-12-23 17:44:00 MST</td><td>6018.3</td><td>1.7</td></tr><tr><td>2021-12-26 22:44:00 MST</td><td>1585.0</td><td>0.0</td></tr><tr><td>2021-12-30 03:44:00 MST</td><td>5041.0</td><td>3.0</td></tr></tbody></table></div>"
      ],
      "text/plain": [
       "shape: (223, 3)\n",
       "┌──────────────────────────────┬─────────────┬──────────┐\n",
       "│ time                         ┆ impressions ┆ replies  │\n",
       "│ ---                          ┆ ---         ┆ ---      │\n",
       "│ datetime[μs, America/Denver] ┆ f64         ┆ f64      │\n",
       "╞══════════════════════════════╪═════════════╪══════════╡\n",
       "│ 2020-01-01 20:44:00 MST      ┆ 680.454545  ┆ 0.181818 │\n",
       "│ 2020-01-05 01:44:00 MST      ┆ 1120.6      ┆ 0.4      │\n",
       "│ 2020-01-08 06:44:00 MST      ┆ 3494.538462 ┆ 0.384615 │\n",
       "│ 2020-01-11 11:44:00 MST      ┆ 424.5       ┆ 0.5      │\n",
       "│ …                            ┆ …           ┆ …        │\n",
       "│ 2021-12-20 12:44:00 MST      ┆ 152.666667  ┆ 0.0      │\n",
       "│ 2021-12-23 17:44:00 MST      ┆ 6018.3      ┆ 1.7      │\n",
       "│ 2021-12-26 22:44:00 MST      ┆ 1585.0      ┆ 0.0      │\n",
       "│ 2021-12-30 03:44:00 MST      ┆ 5041.0      ┆ 3.0      │\n",
       "└──────────────────────────────┴─────────────┴──────────┘"
      ]
     },
     "execution_count": 200,
     "metadata": {},
     "output_type": "execute_result"
    }
   ],
   "source": [
    "# Change frequency to every 2 weeks 3 days 5 hours\n",
    "(tweak_twitter_lazy(df)\n",
    " .groupby_dynamic(index_column='time', every='2w3d5h')\n",
    " .agg([pl.col('impressions').mean(),\n",
    "       pl.col('replies').mean(),\n",
    "      ])\n",
    ")"
   ]
  },
  {
   "cell_type": "code",
   "execution_count": 201,
   "metadata": {
    "scrolled": false
   },
   "outputs": [
    {
     "data": {
      "text/plain": [
       "<Axes: xlabel='time'>"
      ]
     },
     "execution_count": 201,
     "metadata": {},
     "output_type": "execute_result"
    },
    {
     "data": {
      "image/png": "[encoded data removed]",
      "text/plain": [
       "<Figure size 640x480 with 1 Axes>"
      ]
     },
     "metadata": {},
     "output_type": "display_data"
    }
   ],
   "source": [
    "# plot - use pandas\n",
    "# polars doesn't want to do plotting\n",
    "(tweak_twitter_lazy(df)\n",
    " .groupby_dynamic(index_column='time', every='2mo')\n",
    " .agg([pl.col('impressions').mean(),\n",
    "       pl.col('replies').mean(),\n",
    "      ])\n",
    " .to_pandas()\n",
    " .set_index('time')\n",
    " .plot()\n",
    ")"
   ]
  },
  {
   "cell_type": "code",
   "execution_count": 202,
   "metadata": {
    "scrolled": false
   },
   "outputs": [
    {
     "data": {
      "text/plain": [
       "<Axes: xlabel='time'>"
      ]
     },
     "execution_count": 202,
     "metadata": {},
     "output_type": "execute_result"
    },
    {
     "data": {
      "image/png": "[encoded data removed]",
      "text/plain": [
       "<Figure size 640x480 with 1 Axes>"
      ]
     },
     "metadata": {},
     "output_type": "display_data"
    }
   ],
   "source": [
    "# Change frequency to every 2 weeks\n",
    "(tweak_twitter_lazy(df)\n",
    " .groupby_dynamic(index_column='time', every='2w')\n",
    " .agg([pl.col('impressions').mean(),\n",
    "       pl.col('replies').mean(),\n",
    "      ])\n",
    " .to_pandas()\n",
    " .set_index('time')\n",
    " .plot()\n",
    ")"
   ]
  },
  {
   "cell_type": "code",
   "execution_count": 226,
   "metadata": {},
   "outputs": [
    {
     "name": "stdout",
     "output_type": "stream",
     "text": [
      "Help on method pivot in module polars.dataframe.frame:\n",
      "\n",
      "pivot(values: 'Sequence[str] | str', index: 'Sequence[str] | str', columns: 'Sequence[str] | str', aggregate_function: 'PivotAgg | Expr | None | NoDefault' = <no_default>, *, maintain_order: 'bool' = True, sort_columns: 'bool' = False, separator: 'str' = '_') -> 'Self' method of polars.dataframe.frame.DataFrame instance\n",
      "    Create a spreadsheet-style pivot table as a DataFrame.\n",
      "    \n",
      "    Parameters\n",
      "    ----------\n",
      "    values\n",
      "        Column values to aggregate. Can be multiple columns if the *columns*\n",
      "        arguments contains multiple columns as well.\n",
      "    index\n",
      "        One or multiple keys to group by.\n",
      "    columns\n",
      "        Name of the column(s) whose values will be used as the header of the output\n",
      "        DataFrame.\n",
      "    aggregate_function : {'first', 'sum', 'max', 'min', 'mean', 'median', 'last', 'count'}\n",
      "        A predefined aggregate function str or an expression.\n",
      "    maintain_order\n",
      "        Sort the grouped keys so that the output order is predictable.\n",
      "    sort_columns\n",
      "        Sort the transposed columns by name. Default is by order of discovery.\n",
      "    separator\n",
      "        Used as separator/delimiter in generated column names.\n",
      "    \n",
      "    Returns\n",
      "    -------\n",
      "    DataFrame\n",
      "    \n",
      "    Examples\n",
      "    --------\n",
      "    >>> df = pl.DataFrame(\n",
      "    ...     {\n",
      "    ...         \"foo\": [\"one\", \"one\", \"one\", \"two\", \"two\", \"two\"],\n",
      "    ...         \"bar\": [\"A\", \"B\", \"C\", \"A\", \"B\", \"C\"],\n",
      "    ...         \"baz\": [1, 2, 3, 4, 5, 6],\n",
      "    ...     }\n",
      "    ... )\n",
      "    >>> df.pivot(\n",
      "    ...     values=\"baz\", index=\"foo\", columns=\"bar\", aggregate_function=\"first\"\n",
      "    ... )\n",
      "    shape: (2, 4)\n",
      "    ┌─────┬─────┬─────┬─────┐\n",
      "    │ foo ┆ A   ┆ B   ┆ C   │\n",
      "    │ --- ┆ --- ┆ --- ┆ --- │\n",
      "    │ str ┆ i64 ┆ i64 ┆ i64 │\n",
      "    ╞═════╪═════╪═════╪═════╡\n",
      "    │ one ┆ 1   ┆ 2   ┆ 3   │\n",
      "    │ two ┆ 4   ┆ 5   ┆ 6   │\n",
      "    └─────┴─────┴─────┴─────┘\n",
      "    \n",
      "    Run an expression as aggregation function\n",
      "    >>> df = pl.DataFrame(\n",
      "    ...     {\n",
      "    ...         \"col1\": [\"a\", \"a\", \"a\", \"b\", \"b\", \"b\"],\n",
      "    ...         \"col2\": [\"x\", \"x\", \"x\", \"x\", \"y\", \"y\"],\n",
      "    ...         \"col3\": [6, 7, 3, 2, 5, 7],\n",
      "    ...     }\n",
      "    ... )\n",
      "    >>> df.pivot(\n",
      "    ...     index=\"col1\",\n",
      "    ...     columns=\"col2\",\n",
      "    ...     values=\"col3\",\n",
      "    ...     aggregate_function=pl.element().tanh().mean(),\n",
      "    ... )\n",
      "    shape: (2, 3)\n",
      "    ┌──────┬──────────┬──────────┐\n",
      "    │ col1 ┆ x        ┆ y        │\n",
      "    │ ---  ┆ ---      ┆ ---      │\n",
      "    │ str  ┆ f64      ┆ f64      │\n",
      "    ╞══════╪══════════╪══════════╡\n",
      "    │ a    ┆ 0.998347 ┆ null     │\n",
      "    │ b    ┆ 0.964028 ┆ 0.999954 │\n",
      "    └──────┴──────────┴──────────┘\n",
      "\n"
     ]
    }
   ],
   "source": [
    "help(df.pivot)"
   ]
  },
  {
   "cell_type": "code",
   "execution_count": 232,
   "metadata": {
    "scrolled": true
   },
   "outputs": [
    {
     "data": {
      "text/html": [
       "<div><style>\n",
       ".dataframe > thead > tr > th,\n",
       ".dataframe > tbody > tr > td {\n",
       "  text-align: right;\n",
       "}\n",
       "</style>\n",
       "<small>shape: (24, 5)</small><table border=\"1\" class=\"dataframe\"><thead><tr><th>month</th><th>impressions_is_reply_false</th><th>impressions_is_reply_true</th><th>replies_is_reply_false</th><th>replies_is_reply_true</th></tr><tr><td>str</td><td>f64</td><td>f64</td><td>f64</td><td>f64</td></tr></thead><tbody><tr><td>&quot;2020-01&quot;</td><td>2938.26087</td><td>585.918919</td><td>0.521739</td><td>0.351351</td></tr><tr><td>&quot;2020-02&quot;</td><td>1825.682927</td><td>635.2</td><td>0.414634</td><td>0.42</td></tr><tr><td>&quot;2020-03&quot;</td><td>1857.086957</td><td>422.634615</td><td>0.869565</td><td>0.432692</td></tr><tr><td>&quot;2020-04&quot;</td><td>1979.9375</td><td>434.176101</td><td>0.8125</td><td>0.484277</td></tr><tr><td>&quot;2020-05&quot;</td><td>1804.054054</td><td>451.581967</td><td>0.675676</td><td>0.54918</td></tr><tr><td>&quot;2020-06&quot;</td><td>2439.685714</td><td>326.6</td><td>0.828571</td><td>0.377778</td></tr><tr><td>&quot;2020-07&quot;</td><td>2628.285714</td><td>342.9375</td><td>0.755102</td><td>0.3875</td></tr><tr><td>&quot;2020-08&quot;</td><td>2367.611111</td><td>407.979167</td><td>0.907407</td><td>0.520833</td></tr><tr><td>&quot;2020-09&quot;</td><td>2258.486842</td><td>412.936</td><td>1.157895</td><td>0.568</td></tr><tr><td>&quot;2020-10&quot;</td><td>1675.442478</td><td>408.875676</td><td>1.00885</td><td>0.508108</td></tr><tr><td>&quot;2020-11&quot;</td><td>2032.551402</td><td>804.712062</td><td>0.775701</td><td>0.789883</td></tr><tr><td>&quot;2020-12&quot;</td><td>1921.34375</td><td>519.363281</td><td>0.78125</td><td>0.480469</td></tr><tr><td>&quot;2021-01&quot;</td><td>2051.690909</td><td>416.864111</td><td>1.436364</td><td>0.456446</td></tr><tr><td>&quot;2021-02&quot;</td><td>2087.804688</td><td>642.986301</td><td>1.609375</td><td>0.534247</td></tr><tr><td>&quot;2021-03&quot;</td><td>3198.8</td><td>606.428571</td><td>2.591667</td><td>0.590734</td></tr><tr><td>&quot;2021-04&quot;</td><td>4579.315217</td><td>782.895735</td><td>1.836957</td><td>0.483412</td></tr><tr><td>&quot;2021-05&quot;</td><td>6073.243243</td><td>867.027778</td><td>2.554054</td><td>0.522222</td></tr><tr><td>&quot;2021-06&quot;</td><td>22303.465116</td><td>955.174825</td><td>5.302326</td><td>0.538462</td></tr><tr><td>&quot;2021-07&quot;</td><td>34692.72973</td><td>680.371429</td><td>7.675676</td><td>0.671429</td></tr><tr><td>&quot;2021-08&quot;</td><td>33788.333333</td><td>1221.288889</td><td>16.041667</td><td>0.651852</td></tr><tr><td>&quot;2021-09&quot;</td><td>8206.954128</td><td>1163.34715</td><td>3.220183</td><td>0.720207</td></tr><tr><td>&quot;2021-10&quot;</td><td>12462.614458</td><td>829.462312</td><td>6.783133</td><td>0.603015</td></tr><tr><td>&quot;2021-11&quot;</td><td>14014.804598</td><td>788.8</td><td>4.0</td><td>0.562264</td></tr><tr><td>&quot;2021-12&quot;</td><td>10178.298969</td><td>1077.061321</td><td>4.597938</td><td>0.617925</td></tr></tbody></table></div>"
      ],
      "text/plain": [
       "shape: (24, 5)\n",
       "┌─────────┬──────────────────────┬─────────────────────┬─────────────────────┬─────────────────────┐\n",
       "│ month   ┆ impressions_is_reply ┆ impressions_is_repl ┆ replies_is_reply_fa ┆ replies_is_reply_tr │\n",
       "│ ---     ┆ _false               ┆ y_true              ┆ lse                 ┆ ue                  │\n",
       "│ str     ┆ ---                  ┆ ---                 ┆ ---                 ┆ ---                 │\n",
       "│         ┆ f64                  ┆ f64                 ┆ f64                 ┆ f64                 │\n",
       "╞═════════╪══════════════════════╪═════════════════════╪═════════════════════╪═════════════════════╡\n",
       "│ 2020-01 ┆ 2938.26087           ┆ 585.918919          ┆ 0.521739            ┆ 0.351351            │\n",
       "│ 2020-02 ┆ 1825.682927          ┆ 635.2               ┆ 0.414634            ┆ 0.42                │\n",
       "│ 2020-03 ┆ 1857.086957          ┆ 422.634615          ┆ 0.869565            ┆ 0.432692            │\n",
       "│ 2020-04 ┆ 1979.9375            ┆ 434.176101          ┆ 0.8125              ┆ 0.484277            │\n",
       "│ …       ┆ …                    ┆ …                   ┆ …                   ┆ …                   │\n",
       "│ 2021-09 ┆ 8206.954128          ┆ 1163.34715          ┆ 3.220183            ┆ 0.720207            │\n",
       "│ 2021-10 ┆ 12462.614458         ┆ 829.462312          ┆ 6.783133            ┆ 0.603015            │\n",
       "│ 2021-11 ┆ 14014.804598         ┆ 788.8               ┆ 4.0                 ┆ 0.562264            │\n",
       "│ 2021-12 ┆ 10178.298969         ┆ 1077.061321         ┆ 4.597938            ┆ 0.617925            │\n",
       "└─────────┴──────────────────────┴─────────────────────┴─────────────────────┴─────────────────────┘"
      ]
     },
     "execution_count": 232,
     "metadata": {},
     "output_type": "execute_result"
    }
   ],
   "source": [
    "# Can't use dynamic with pivot\n",
    "\n",
    "(tweak_twitter_lazy(df)\n",
    " .with_columns([pl.col('time').dt.strftime('%Y-%m').alias('month'),\n",
    "                pl.col('replies').cast(pl.UInt32),\n",
    "               ])\n",
    " .pivot(index='month', values=['impressions', 'replies'], \n",
    "        columns='is_reply', aggregate_function='mean')\n",
    "    )"
   ]
  },
  {
   "cell_type": "code",
   "execution_count": 233,
   "metadata": {
    "scrolled": true
   },
   "outputs": [
    {
     "data": {
      "text/html": [
       "<div><style>\n",
       ".dataframe > thead > tr > th,\n",
       ".dataframe > tbody > tr > td {\n",
       "  text-align: right;\n",
       "}\n",
       "</style>\n",
       "<small>shape: (24, 3)</small><table border=\"1\" class=\"dataframe\"><thead><tr><th>month</th><th>false</th><th>true</th></tr><tr><td>str</td><td>f64</td><td>f64</td></tr></thead><tbody><tr><td>&quot;2020-01&quot;</td><td>2938.26087</td><td>585.918919</td></tr><tr><td>&quot;2020-02&quot;</td><td>1825.682927</td><td>635.2</td></tr><tr><td>&quot;2020-03&quot;</td><td>1857.086957</td><td>422.634615</td></tr><tr><td>&quot;2020-04&quot;</td><td>1979.9375</td><td>434.176101</td></tr><tr><td>&quot;2020-05&quot;</td><td>1804.054054</td><td>451.581967</td></tr><tr><td>&quot;2020-06&quot;</td><td>2439.685714</td><td>326.6</td></tr><tr><td>&quot;2020-07&quot;</td><td>2628.285714</td><td>342.9375</td></tr><tr><td>&quot;2020-08&quot;</td><td>2367.611111</td><td>407.979167</td></tr><tr><td>&quot;2020-09&quot;</td><td>2258.486842</td><td>412.936</td></tr><tr><td>&quot;2020-10&quot;</td><td>1675.442478</td><td>408.875676</td></tr><tr><td>&quot;2020-11&quot;</td><td>2032.551402</td><td>804.712062</td></tr><tr><td>&quot;2020-12&quot;</td><td>1921.34375</td><td>519.363281</td></tr><tr><td>&quot;2021-01&quot;</td><td>2051.690909</td><td>416.864111</td></tr><tr><td>&quot;2021-02&quot;</td><td>2087.804688</td><td>642.986301</td></tr><tr><td>&quot;2021-03&quot;</td><td>3198.8</td><td>606.428571</td></tr><tr><td>&quot;2021-04&quot;</td><td>4579.315217</td><td>782.895735</td></tr><tr><td>&quot;2021-05&quot;</td><td>6073.243243</td><td>867.027778</td></tr><tr><td>&quot;2021-06&quot;</td><td>22303.465116</td><td>955.174825</td></tr><tr><td>&quot;2021-07&quot;</td><td>34692.72973</td><td>680.371429</td></tr><tr><td>&quot;2021-08&quot;</td><td>33788.333333</td><td>1221.288889</td></tr><tr><td>&quot;2021-09&quot;</td><td>8206.954128</td><td>1163.34715</td></tr><tr><td>&quot;2021-10&quot;</td><td>12462.614458</td><td>829.462312</td></tr><tr><td>&quot;2021-11&quot;</td><td>14014.804598</td><td>788.8</td></tr><tr><td>&quot;2021-12&quot;</td><td>10178.298969</td><td>1077.061321</td></tr></tbody></table></div>"
      ],
      "text/plain": [
       "shape: (24, 3)\n",
       "┌─────────┬──────────────┬─────────────┐\n",
       "│ month   ┆ false        ┆ true        │\n",
       "│ ---     ┆ ---          ┆ ---         │\n",
       "│ str     ┆ f64          ┆ f64         │\n",
       "╞═════════╪══════════════╪═════════════╡\n",
       "│ 2020-01 ┆ 2938.26087   ┆ 585.918919  │\n",
       "│ 2020-02 ┆ 1825.682927  ┆ 635.2       │\n",
       "│ 2020-03 ┆ 1857.086957  ┆ 422.634615  │\n",
       "│ 2020-04 ┆ 1979.9375    ┆ 434.176101  │\n",
       "│ …       ┆ …            ┆ …           │\n",
       "│ 2021-09 ┆ 8206.954128  ┆ 1163.34715  │\n",
       "│ 2021-10 ┆ 12462.614458 ┆ 829.462312  │\n",
       "│ 2021-11 ┆ 14014.804598 ┆ 788.8       │\n",
       "│ 2021-12 ┆ 10178.298969 ┆ 1077.061321 │\n",
       "└─────────┴──────────────┴─────────────┘"
      ]
     },
     "execution_count": 233,
     "metadata": {},
     "output_type": "execute_result"
    }
   ],
   "source": [
    "(tweak_twitter_lazy(df)\n",
    " .with_columns(pl.col('time').dt.strftime('%Y-%m').alias('month'))\n",
    " .pivot(index='month', #values=['impressions', 'replies'], \n",
    "        values='impressions',\n",
    "        columns='is_reply', aggregate_function='mean')\n",
    "    )"
   ]
  },
  {
   "cell_type": "code",
   "execution_count": 234,
   "metadata": {
    "collapsed": true
   },
   "outputs": [
    {
     "data": {
      "text/html": [
       "<div><style>\n",
       ".dataframe > thead > tr > th,\n",
       ".dataframe > tbody > tr > td {\n",
       "  text-align: right;\n",
       "}\n",
       "</style>\n",
       "<small>shape: (24, 5)</small><table border=\"1\" class=\"dataframe\"><thead><tr><th>month</th><th>impressions_is_reply_false</th><th>impressions_is_reply_true</th><th>replies_is_reply_false</th><th>replies_is_reply_true</th></tr><tr><td>str</td><td>f64</td><td>f64</td><td>f64</td><td>f64</td></tr></thead><tbody><tr><td>&quot;2020-01&quot;</td><td>2938.26087</td><td>585.918919</td><td>0.521739</td><td>0.351351</td></tr><tr><td>&quot;2020-02&quot;</td><td>1825.682927</td><td>635.2</td><td>0.414634</td><td>0.42</td></tr><tr><td>&quot;2020-03&quot;</td><td>1857.086957</td><td>422.634615</td><td>0.869565</td><td>0.432692</td></tr><tr><td>&quot;2020-04&quot;</td><td>1979.9375</td><td>434.176101</td><td>0.8125</td><td>0.484277</td></tr><tr><td>&quot;2020-05&quot;</td><td>1804.054054</td><td>451.581967</td><td>0.675676</td><td>0.54918</td></tr><tr><td>&quot;2020-06&quot;</td><td>2439.685714</td><td>326.6</td><td>0.828571</td><td>0.377778</td></tr><tr><td>&quot;2020-07&quot;</td><td>2628.285714</td><td>342.9375</td><td>0.755102</td><td>0.3875</td></tr><tr><td>&quot;2020-08&quot;</td><td>2367.611111</td><td>407.979167</td><td>0.907407</td><td>0.520833</td></tr><tr><td>&quot;2020-09&quot;</td><td>2258.486842</td><td>412.936</td><td>1.157895</td><td>0.568</td></tr><tr><td>&quot;2020-10&quot;</td><td>1675.442478</td><td>408.875676</td><td>1.00885</td><td>0.508108</td></tr><tr><td>&quot;2020-11&quot;</td><td>2032.551402</td><td>804.712062</td><td>0.775701</td><td>0.789883</td></tr><tr><td>&quot;2020-12&quot;</td><td>1921.34375</td><td>519.363281</td><td>0.78125</td><td>0.480469</td></tr><tr><td>&quot;2021-01&quot;</td><td>2051.690909</td><td>416.864111</td><td>1.436364</td><td>0.456446</td></tr><tr><td>&quot;2021-02&quot;</td><td>2087.804688</td><td>642.986301</td><td>1.609375</td><td>0.534247</td></tr><tr><td>&quot;2021-03&quot;</td><td>3198.8</td><td>606.428571</td><td>2.591667</td><td>0.590734</td></tr><tr><td>&quot;2021-04&quot;</td><td>4579.315217</td><td>782.895735</td><td>1.836957</td><td>0.483412</td></tr><tr><td>&quot;2021-05&quot;</td><td>6073.243243</td><td>867.027778</td><td>2.554054</td><td>0.522222</td></tr><tr><td>&quot;2021-06&quot;</td><td>22303.465116</td><td>955.174825</td><td>5.302326</td><td>0.538462</td></tr><tr><td>&quot;2021-07&quot;</td><td>34692.72973</td><td>680.371429</td><td>7.675676</td><td>0.671429</td></tr><tr><td>&quot;2021-08&quot;</td><td>33788.333333</td><td>1221.288889</td><td>16.041667</td><td>0.651852</td></tr><tr><td>&quot;2021-09&quot;</td><td>8206.954128</td><td>1163.34715</td><td>3.220183</td><td>0.720207</td></tr><tr><td>&quot;2021-10&quot;</td><td>12462.614458</td><td>829.462312</td><td>6.783133</td><td>0.603015</td></tr><tr><td>&quot;2021-11&quot;</td><td>14014.804598</td><td>788.8</td><td>4.0</td><td>0.562264</td></tr><tr><td>&quot;2021-12&quot;</td><td>10178.298969</td><td>1077.061321</td><td>4.597938</td><td>0.617925</td></tr></tbody></table></div>"
      ],
      "text/plain": [
       "shape: (24, 5)\n",
       "┌─────────┬──────────────────────┬─────────────────────┬─────────────────────┬─────────────────────┐\n",
       "│ month   ┆ impressions_is_reply ┆ impressions_is_repl ┆ replies_is_reply_fa ┆ replies_is_reply_tr │\n",
       "│ ---     ┆ _false               ┆ y_true              ┆ lse                 ┆ ue                  │\n",
       "│ str     ┆ ---                  ┆ ---                 ┆ ---                 ┆ ---                 │\n",
       "│         ┆ f64                  ┆ f64                 ┆ f64                 ┆ f64                 │\n",
       "╞═════════╪══════════════════════╪═════════════════════╪═════════════════════╪═════════════════════╡\n",
       "│ 2020-01 ┆ 2938.26087           ┆ 585.918919          ┆ 0.521739            ┆ 0.351351            │\n",
       "│ 2020-02 ┆ 1825.682927          ┆ 635.2               ┆ 0.414634            ┆ 0.42                │\n",
       "│ 2020-03 ┆ 1857.086957          ┆ 422.634615          ┆ 0.869565            ┆ 0.432692            │\n",
       "│ 2020-04 ┆ 1979.9375            ┆ 434.176101          ┆ 0.8125              ┆ 0.484277            │\n",
       "│ …       ┆ …                    ┆ …                   ┆ …                   ┆ …                   │\n",
       "│ 2021-09 ┆ 8206.954128          ┆ 1163.34715          ┆ 3.220183            ┆ 0.720207            │\n",
       "│ 2021-10 ┆ 12462.614458         ┆ 829.462312          ┆ 6.783133            ┆ 0.603015            │\n",
       "│ 2021-11 ┆ 14014.804598         ┆ 788.8               ┆ 4.0                 ┆ 0.562264            │\n",
       "│ 2021-12 ┆ 10178.298969         ┆ 1077.061321         ┆ 4.597938            ┆ 0.617925            │\n",
       "└─────────┴──────────────────────┴─────────────────────┴─────────────────────┴─────────────────────┘"
      ]
     },
     "execution_count": 234,
     "metadata": {},
     "output_type": "execute_result"
    }
   ],
   "source": [
    "(tweak_twitter_lazy(df)\n",
    " .with_columns(pl.col('time').dt.strftime('%Y-%m').alias('month'))\n",
    " .pivot(index='month', values=['impressions', 'replies'], \n",
    "        columns='is_reply', aggregate_function='mean')\n",
    "    )"
   ]
  },
  {
   "cell_type": "code",
   "execution_count": 236,
   "metadata": {
    "scrolled": false
   },
   "outputs": [
    {
     "data": {
      "text/plain": [
       "<Axes: xlabel='month'>"
      ]
     },
     "execution_count": 236,
     "metadata": {},
     "output_type": "execute_result"
    },
    {
     "data": {
      "image/png": "[encoded data removed]",
      "text/plain": [
       "<Figure size 640x480 with 1 Axes>"
      ]
     },
     "metadata": {},
     "output_type": "display_data"
    }
   ],
   "source": [
    "(tweak_twitter_lazy(df)\n",
    " .with_columns([pl.col('time').dt.strftime('%Y-%m').alias('month'),\n",
    "               ])\n",
    " .pivot(index='month', values=['impressions', 'replies'], \n",
    "        columns='is_reply', separator='*', aggregate_function='mean')\n",
    " .to_pandas()\n",
    " .set_index('month')\n",
    " .plot()\n",
    ")"
   ]
  },
  {
   "cell_type": "markdown",
   "metadata": {},
   "source": [
    "## Aggregation Exercise\n",
    "* What were the total impressions for each year?\n",
    "* What were the total impressions for each month?\n",
    "* Plot the previous\n",
    "* What were the total impressions for reply and non-reply tweets for each month?\n",
    "* Plot the previous"
   ]
  },
  {
   "cell_type": "code",
   "execution_count": 46,
   "metadata": {},
   "outputs": [
    {
     "ename": "InvalidOperationError",
     "evalue": "argument in operation 'groupby_dynamic' is not explicitly sorted\n\n- If your data is ALREADY sorted, set the sorted flag with: '.set_sorted()'.\n- If your data is NOT sorted, sort the 'expr/series/column' first.\n    ",
     "output_type": "error",
     "traceback": [
      "\u001b[1;31m---------------------------------------------------------------------------\u001b[0m",
      "\u001b[1;31mInvalidOperationError\u001b[0m                     Traceback (most recent call last)",
      "\u001b[1;32m~\\AppData\\Local\\Temp/ipykernel_11404/1885433571.py\u001b[0m in \u001b[0;36m<module>\u001b[1;34m\u001b[0m\n\u001b[0;32m      1\u001b[0m \u001b[1;31m# What were the total impressions for each year?\u001b[0m\u001b[1;33m\u001b[0m\u001b[1;33m\u001b[0m\u001b[1;33m\u001b[0m\u001b[0m\n\u001b[0;32m      2\u001b[0m \u001b[1;31m# Change frequency to every 2 weeks 3 days 5 hours\u001b[0m\u001b[1;33m\u001b[0m\u001b[1;33m\u001b[0m\u001b[1;33m\u001b[0m\u001b[0m\n\u001b[1;32m----> 3\u001b[1;33m (tweak_twitter_lazy(df)\n\u001b[0m\u001b[0;32m      4\u001b[0m  \u001b[1;33m.\u001b[0m\u001b[0mgroupby_dynamic\u001b[0m\u001b[1;33m(\u001b[0m\u001b[0mindex_column\u001b[0m\u001b[1;33m=\u001b[0m\u001b[1;34m'time'\u001b[0m\u001b[1;33m,\u001b[0m \u001b[0mevery\u001b[0m\u001b[1;33m=\u001b[0m\u001b[1;34m'1y'\u001b[0m\u001b[1;33m)\u001b[0m\u001b[1;33m\u001b[0m\u001b[1;33m\u001b[0m\u001b[0m\n\u001b[0;32m      5\u001b[0m  .agg([pl.col('impressions').sum(),\n",
      "\u001b[1;32m~\\anaconda3\\lib\\site-packages\\polars\\dataframe\\groupby.py\u001b[0m in \u001b[0;36magg\u001b[1;34m(self, *aggs, **named_aggs)\u001b[0m\n\u001b[0;32m   1068\u001b[0m         \"\"\"\n\u001b[0;32m   1069\u001b[0m         return (\n\u001b[1;32m-> 1070\u001b[1;33m             \u001b[0mself\u001b[0m\u001b[1;33m.\u001b[0m\u001b[0mdf\u001b[0m\u001b[1;33m.\u001b[0m\u001b[0mlazy\u001b[0m\u001b[1;33m(\u001b[0m\u001b[1;33m)\u001b[0m\u001b[1;33m\u001b[0m\u001b[1;33m\u001b[0m\u001b[0m\n\u001b[0m\u001b[0;32m   1071\u001b[0m             .groupby_dynamic(\n\u001b[0;32m   1072\u001b[0m                 \u001b[0mindex_column\u001b[0m\u001b[1;33m=\u001b[0m\u001b[0mself\u001b[0m\u001b[1;33m.\u001b[0m\u001b[0mtime_column\u001b[0m\u001b[1;33m,\u001b[0m\u001b[1;33m\u001b[0m\u001b[1;33m\u001b[0m\u001b[0m\n",
      "\u001b[1;32m~\\anaconda3\\lib\\site-packages\\polars\\utils\\deprecation.py\u001b[0m in \u001b[0;36mwrapper\u001b[1;34m(*args, **kwargs)\u001b[0m\n\u001b[0;32m     91\u001b[0m                 \u001b[0mold_name\u001b[0m\u001b[1;33m,\u001b[0m \u001b[0mnew_name\u001b[0m\u001b[1;33m,\u001b[0m \u001b[0mkwargs\u001b[0m\u001b[1;33m,\u001b[0m \u001b[0mfunction\u001b[0m\u001b[1;33m.\u001b[0m\u001b[0m__name__\u001b[0m\u001b[1;33m,\u001b[0m \u001b[0mversion\u001b[0m\u001b[1;33m\u001b[0m\u001b[1;33m\u001b[0m\u001b[0m\n\u001b[0;32m     92\u001b[0m             )\n\u001b[1;32m---> 93\u001b[1;33m             \u001b[1;32mreturn\u001b[0m \u001b[0mfunction\u001b[0m\u001b[1;33m(\u001b[0m\u001b[1;33m*\u001b[0m\u001b[0margs\u001b[0m\u001b[1;33m,\u001b[0m \u001b[1;33m**\u001b[0m\u001b[0mkwargs\u001b[0m\u001b[1;33m)\u001b[0m\u001b[1;33m\u001b[0m\u001b[1;33m\u001b[0m\u001b[0m\n\u001b[0m\u001b[0;32m     94\u001b[0m \u001b[1;33m\u001b[0m\u001b[0m\n\u001b[0;32m     95\u001b[0m         \u001b[1;32mreturn\u001b[0m \u001b[0mwrapper\u001b[0m\u001b[1;33m\u001b[0m\u001b[1;33m\u001b[0m\u001b[0m\n",
      "\u001b[1;32m~\\anaconda3\\lib\\site-packages\\polars\\lazyframe\\frame.py\u001b[0m in \u001b[0;36mcollect\u001b[1;34m(self, type_coercion, predicate_pushdown, projection_pushdown, simplify_expression, no_optimization, slice_pushdown, comm_subplan_elim, comm_subexpr_elim, streaming)\u001b[0m\n\u001b[0;32m   1687\u001b[0m             \u001b[0mstreaming\u001b[0m\u001b[1;33m,\u001b[0m\u001b[1;33m\u001b[0m\u001b[1;33m\u001b[0m\u001b[0m\n\u001b[0;32m   1688\u001b[0m         )\n\u001b[1;32m-> 1689\u001b[1;33m         \u001b[1;32mreturn\u001b[0m \u001b[0mwrap_df\u001b[0m\u001b[1;33m(\u001b[0m\u001b[0mldf\u001b[0m\u001b[1;33m.\u001b[0m\u001b[0mcollect\u001b[0m\u001b[1;33m(\u001b[0m\u001b[1;33m)\u001b[0m\u001b[1;33m)\u001b[0m\u001b[1;33m\u001b[0m\u001b[1;33m\u001b[0m\u001b[0m\n\u001b[0m\u001b[0;32m   1690\u001b[0m \u001b[1;33m\u001b[0m\u001b[0m\n\u001b[0;32m   1691\u001b[0m     def sink_parquet(\n",
      "\u001b[1;31mInvalidOperationError\u001b[0m: argument in operation 'groupby_dynamic' is not explicitly sorted\n\n- If your data is ALREADY sorted, set the sorted flag with: '.set_sorted()'.\n- If your data is NOT sorted, sort the 'expr/series/column' first.\n    "
     ]
    }
   ],
   "source": [
    "# What were the total impressions for each year?\n",
    "# Change frequency to every 2 weeks 3 days 5 hours\n",
    "(tweak_twitter_lazy(df)\n",
    " .groupby_dynamic(index_column='time', every='1y')\n",
    " .agg([pl.col('impressions').sum(),\n",
    "       \n",
    "      ])\n",
    ")"
   ]
  },
  {
   "cell_type": "code",
   "execution_count": 47,
   "metadata": {},
   "outputs": [
    {
     "data": {
      "text/html": [
       "<div><style>\n",
       ".dataframe > thead > tr > th,\n",
       ".dataframe > tbody > tr > td {\n",
       "  text-align: right;\n",
       "}\n",
       "</style>\n",
       "<small>shape: (2, 2)</small><table border=\"1\" class=\"dataframe\"><thead><tr><th>time</th><th>impressions</th></tr><tr><td>datetime[μs, America/Denver]</td><td>u32</td></tr></thead><tbody><tr><td>2020-01-01 00:00:00 MST</td><td>2455219</td></tr><tr><td>2021-01-01 00:00:00 MST</td><td>10851459</td></tr></tbody></table></div>"
      ],
      "text/plain": [
       "shape: (2, 2)\n",
       "┌──────────────────────────────┬─────────────┐\n",
       "│ time                         ┆ impressions │\n",
       "│ ---                          ┆ ---         │\n",
       "│ datetime[μs, America/Denver] ┆ u32         │\n",
       "╞══════════════════════════════╪═════════════╡\n",
       "│ 2020-01-01 00:00:00 MST      ┆ 2455219     │\n",
       "│ 2021-01-01 00:00:00 MST      ┆ 10851459    │\n",
       "└──────────────────────────────┴─────────────┘"
      ]
     },
     "execution_count": 47,
     "metadata": {},
     "output_type": "execute_result"
    }
   ],
   "source": [
    "# What were the total impressions for each year?\n",
    "# Change frequency to every 2 weeks 3 days 5 hours\n",
    "(tweak_twitter_lazy(df)\n",
    " .sort('time')\n",
    " .groupby_dynamic(index_column='time', every='1y')\n",
    " .agg([pl.col('impressions').sum(),\n",
    "       \n",
    "      ])\n",
    ")"
   ]
  },
  {
   "cell_type": "code",
   "execution_count": 50,
   "metadata": {},
   "outputs": [
    {
     "data": {
      "text/html": [
       "<div><style>\n",
       ".dataframe > thead > tr > th,\n",
       ".dataframe > tbody > tr > td {\n",
       "  text-align: right;\n",
       "}\n",
       "</style>\n",
       "<small>shape: (24, 2)</small><table border=\"1\" class=\"dataframe\"><thead><tr><th>time</th><th>impressions</th></tr><tr><td>datetime[μs, America/Denver]</td><td>u32</td></tr></thead><tbody><tr><td>2020-01-01 00:00:00 MST</td><td>89259</td></tr><tr><td>2020-02-01 00:00:00 MST</td><td>106613</td></tr><tr><td>2020-03-01 00:00:00 MST</td><td>129380</td></tr><tr><td>2020-04-01 00:00:00 MDT</td><td>259108</td></tr><tr><td>2020-05-01 00:00:00 MDT</td><td>121843</td></tr><tr><td>2020-06-01 00:00:00 MDT</td><td>114783</td></tr><tr><td>2020-07-01 00:00:00 MDT</td><td>156221</td></tr><tr><td>2020-08-01 00:00:00 MDT</td><td>186600</td></tr><tr><td>2020-09-01 00:00:00 MDT</td><td>223262</td></tr><tr><td>2020-10-01 00:00:00 MDT</td><td>264967</td></tr><tr><td>2020-11-01 00:00:00 MDT</td><td>424294</td></tr><tr><td>2020-12-01 00:00:00 MST</td><td>378889</td></tr><tr><td>2021-01-01 00:00:00 MST</td><td>345326</td></tr><tr><td>2021-02-01 00:00:00 MST</td><td>408053</td></tr><tr><td>2021-03-01 00:00:00 MST</td><td>540921</td></tr><tr><td>2021-04-01 00:00:00 MDT</td><td>586488</td></tr><tr><td>2021-05-01 00:00:00 MDT</td><td>605485</td></tr><tr><td>2021-06-01 00:00:00 MDT</td><td>1095639</td></tr><tr><td>2021-07-01 00:00:00 MDT</td><td>1331257</td></tr><tr><td>2021-08-01 00:00:00 MDT</td><td>975794</td></tr><tr><td>2021-09-01 00:00:00 MDT</td><td>1119084</td></tr><tr><td>2021-10-01 00:00:00 MDT</td><td>1199460</td></tr><tr><td>2021-11-01 00:00:00 MDT</td><td>1428320</td></tr><tr><td>2021-12-01 00:00:00 MST</td><td>1215632</td></tr></tbody></table></div>"
      ],
      "text/plain": [
       "shape: (24, 2)\n",
       "┌──────────────────────────────┬─────────────┐\n",
       "│ time                         ┆ impressions │\n",
       "│ ---                          ┆ ---         │\n",
       "│ datetime[μs, America/Denver] ┆ u32         │\n",
       "╞══════════════════════════════╪═════════════╡\n",
       "│ 2020-01-01 00:00:00 MST      ┆ 89259       │\n",
       "│ 2020-02-01 00:00:00 MST      ┆ 106613      │\n",
       "│ 2020-03-01 00:00:00 MST      ┆ 129380      │\n",
       "│ 2020-04-01 00:00:00 MDT      ┆ 259108      │\n",
       "│ …                            ┆ …           │\n",
       "│ 2021-09-01 00:00:00 MDT      ┆ 1119084     │\n",
       "│ 2021-10-01 00:00:00 MDT      ┆ 1199460     │\n",
       "│ 2021-11-01 00:00:00 MDT      ┆ 1428320     │\n",
       "│ 2021-12-01 00:00:00 MST      ┆ 1215632     │\n",
       "└──────────────────────────────┴─────────────┘"
      ]
     },
     "execution_count": 50,
     "metadata": {},
     "output_type": "execute_result"
    }
   ],
   "source": [
    "# What were the total impressions for each year?\n",
    "# Change frequency to every 2 weeks 3 days 5 hours\n",
    "(tweak_twitter_lazy(df)\n",
    " .sort('time')\n",
    " .groupby_dynamic(index_column='time', every='1mo')\n",
    " .agg([pl.col('impressions').sum(),\n",
    "       \n",
    "      ])\n",
    ")"
   ]
  },
  {
   "cell_type": "code",
   "execution_count": 51,
   "metadata": {},
   "outputs": [
    {
     "data": {
      "text/plain": [
       "<AxesSubplot:xlabel='time'>"
      ]
     },
     "execution_count": 51,
     "metadata": {},
     "output_type": "execute_result"
    },
    {
     "data": {
      "image/png": "[encoded data removed]",
      "text/plain": [
       "<Figure size 432x288 with 1 Axes>"
      ]
     },
     "metadata": {
      "needs_background": "light"
     },
     "output_type": "display_data"
    }
   ],
   "source": [
    "# What were the total impressions for each year?\n",
    "# Change frequency to every 2 weeks 3 days 5 hours\n",
    "(tweak_twitter_lazy(df)\n",
    " .sort('time')\n",
    " .groupby_dynamic(index_column='time', every='1mo')\n",
    " .agg([pl.col('impressions').sum(),\n",
    "       \n",
    "      ]) .to_pandas()\n",
    " .set_index('time')\n",
    " .plot()\n",
    ")"
   ]
  },
  {
   "cell_type": "code",
   "execution_count": 56,
   "metadata": {},
   "outputs": [
    {
     "data": {
      "text/plain": [
       "<AxesSubplot:xlabel='month'>"
      ]
     },
     "execution_count": 56,
     "metadata": {},
     "output_type": "execute_result"
    },
    {
     "data": {
      "image/png": "[encoded data removed]",
      "text/plain": [
       "<Figure size 432x288 with 1 Axes>"
      ]
     },
     "metadata": {
      "needs_background": "light"
     },
     "output_type": "display_data"
    }
   ],
   "source": [
    "## What were the total impressions for reply and non-reply tweets for each month?\n",
    "(tweak_twitter_lazy(df)\n",
    " .with_columns([pl.col('time').dt.strftime('%Y-%m').alias('month'),\n",
    "               ])\n",
    " .pivot(index='month', values=['impressions'], \n",
    "        columns='is_reply', separator='*', aggregate_function='mean')\n",
    " .to_pandas()\n",
    " .set_index('month')\n",
    " .plot()\n",
    ")"
   ]
  },
  {
   "cell_type": "code",
   "execution_count": 52,
   "metadata": {},
   "outputs": [
    {
     "data": {
      "text/plain": [
       "['Tweet id',\n",
       " 'Tweet permalink',\n",
       " 'Tweet text',\n",
       " 'time',\n",
       " 'impressions',\n",
       " 'engagements',\n",
       " 'engagement rate',\n",
       " 'retweets',\n",
       " 'replies',\n",
       " 'likes',\n",
       " 'user profile clicks',\n",
       " 'url clicks',\n",
       " 'hashtag clicks',\n",
       " 'detail expands',\n",
       " 'permalink clicks',\n",
       " 'app opens',\n",
       " 'app installs',\n",
       " 'follows',\n",
       " 'email tweet',\n",
       " 'dial phone',\n",
       " 'media views',\n",
       " 'media engagements',\n",
       " 'promoted impressions',\n",
       " 'promoted engagements',\n",
       " 'promoted engagement rate',\n",
       " 'promoted retweets',\n",
       " 'promoted replies',\n",
       " 'promoted likes',\n",
       " 'promoted user profile clicks',\n",
       " 'promoted url clicks',\n",
       " 'promoted hashtag clicks',\n",
       " 'promoted detail expands',\n",
       " 'promoted permalink clicks',\n",
       " 'promoted app opens',\n",
       " 'promoted app installs',\n",
       " 'promoted follows',\n",
       " 'promoted email tweet',\n",
       " 'promoted dial phone',\n",
       " 'promoted media views',\n",
       " 'promoted media engagements']"
      ]
     },
     "execution_count": 52,
     "metadata": {},
     "output_type": "execute_result"
    }
   ],
   "source": [
    "df.columns"
   ]
  },
  {
   "cell_type": "markdown",
   "metadata": {},
   "source": [
    "## Summary\n",
    "\n",
    "* Correct types save space and enable convenient math, string, and date functionality\n",
    "* Chaining operations will:\n",
    "   * Make code readable\n",
    "   * Remove bugs\n",
    "   * Easier to debug\n",
    "* Embrace chaining.\n",
    "* Lambdas/Comprehensions will slow you down.\n",
    "* Aggregations are powerful. Play with them until they make sense\n",
    "\n",
    "Connect with me on LinkedIn or Twitter (@\\_\\_mharrison\\_\\_)"
   ]
  },
  {
   "cell_type": "code",
   "execution_count": null,
   "metadata": {},
   "outputs": [],
   "source": []
  }
 ],
 "metadata": {
  "jupytext": {
   "formats": "ipynb,py:light"
  },
  "kernelspec": {
   "display_name": "Python 3 (ipykernel)",
   "language": "python",
   "name": "python3"
  },
  "language_info": {
   "codemirror_mode": {
    "name": "ipython",
    "version": 3
   },
   "file_extension": ".py",
   "mimetype": "text/x-python",
   "name": "python",
   "nbconvert_exporter": "python",
   "pygments_lexer": "ipython3",
   "version": "3.8.8"
  }
 },
 "nbformat": 4,
 "nbformat_minor": 4
}
