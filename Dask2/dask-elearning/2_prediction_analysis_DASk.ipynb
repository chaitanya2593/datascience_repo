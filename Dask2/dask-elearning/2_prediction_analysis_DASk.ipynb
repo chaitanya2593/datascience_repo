{
 "cells": [
  {
   "cell_type": "markdown",
   "id": "aeda268e",
   "metadata": {},
   "source": [
    "# Covenant Violation and Amendment Prediction Analysis\n",
    "\n",
    "In this notebook we will analysis on the prediction results \n",
    "\n",
    "There are three main steps.\n",
    "1. Graphs on the results .\n",
    "2. Creation of the new Violation column.\n",
    "3. Analysis in the results \n"
   ]
  },
  {
   "cell_type": "code",
   "execution_count": 1,
   "id": "5d9846a3",
   "metadata": {},
   "outputs": [
    {
     "name": "stderr",
     "output_type": "stream",
     "text": [
      "C:\\Users\\chait\\anaconda3\\lib\\site-packages\\numpy\\_distributor_init.py:30: UserWarning: loaded more than 1 DLL from .libs:\n",
      "C:\\Users\\chait\\anaconda3\\lib\\site-packages\\numpy\\.libs\\libopenblas.WCDJNK7YVMPZQ2ME2ZZHJJRJ3JIKNDB7.gfortran-win_amd64.dll\n",
      "C:\\Users\\chait\\anaconda3\\lib\\site-packages\\numpy\\.libs\\libopenblas64__v0.3.21-gcc_10_3_0.dll\n",
      "  warnings.warn(\"loaded more than 1 DLL from .libs:\"\n",
      "C:\\Users\\chait\\anaconda3\\lib\\site-packages\\dask\\dataframe\\utils.py:369: FutureWarning: pandas.Int64Index is deprecated and will be removed from pandas in a future version. Use pandas.Index with the appropriate dtype instead.\n",
      "  _numeric_index_types = (pd.Int64Index, pd.Float64Index, pd.UInt64Index)\n",
      "C:\\Users\\chait\\anaconda3\\lib\\site-packages\\dask\\dataframe\\utils.py:369: FutureWarning: pandas.Float64Index is deprecated and will be removed from pandas in a future version. Use pandas.Index with the appropriate dtype instead.\n",
      "  _numeric_index_types = (pd.Int64Index, pd.Float64Index, pd.UInt64Index)\n",
      "C:\\Users\\chait\\anaconda3\\lib\\site-packages\\dask\\dataframe\\utils.py:369: FutureWarning: pandas.UInt64Index is deprecated and will be removed from pandas in a future version. Use pandas.Index with the appropriate dtype instead.\n",
      "  _numeric_index_types = (pd.Int64Index, pd.Float64Index, pd.UInt64Index)\n"
     ]
    }
   ],
   "source": [
    "import pandas as pd\n",
    "import numpy as np\n",
    "import os\n",
    "from pathlib import Path\n",
    "import logging\n",
    "import requests\n",
    "logging.basicConfig()\n",
    "logger = logging.getLogger()\n",
    "\n",
    "\n",
    "import regex as re\n",
    "import re\n",
    "\n",
    "import lxml\n",
    "import string\n",
    "\n",
    "\n",
    "import time\n",
    "import seaborn as sns\n",
    "\n",
    "\n",
    "\n",
    "import sys\n",
    "import matplotlib.pyplot as plt\n",
    "#%matplotlib inline\n",
    "\n",
    "import numpy as np\n",
    "\n",
    "from lxml import html, etree\n",
    "\n",
    "import dask.dataframe as dd\n"
   ]
  },
  {
   "cell_type": "code",
   "execution_count": 2,
   "id": "2eb0e8c5",
   "metadata": {},
   "outputs": [],
   "source": [
    "model_prediction = r\"C:\\Users\\chait\\OneDrive - fs-students.de\\FSFM_MADS\\Master_thesis\\data\\model_predictions\\\\\""
   ]
  },
  {
   "cell_type": "code",
   "execution_count": 10,
   "id": "2563dc67",
   "metadata": {},
   "outputs": [],
   "source": [
    "new_df = pd.read_parquet(model_prediction + \"s3_master_final_predictions_v2.parquet\")"
   ]
  },
  {
   "cell_type": "code",
   "execution_count": 11,
   "id": "0486e0b4",
   "metadata": {},
   "outputs": [],
   "source": [
    "new_df.to_parquet(\"s3_master_final_predictions_v2_pratice.parquet\" , \n",
    "                  row_group_size=25000, \n",
    "                  engine=\"pyarrow\")"
   ]
  },
  {
   "cell_type": "code",
   "execution_count": 12,
   "id": "24684da9",
   "metadata": {},
   "outputs": [],
   "source": [
    "new_df = dd.read_parquet(\"s3_master_final_predictions_v2_pratice.parquet\")"
   ]
  },
  {
   "cell_type": "code",
   "execution_count": 13,
   "id": "da5ac0f3",
   "metadata": {},
   "outputs": [
    {
     "data": {
      "text/plain": [
       "75"
      ]
     },
     "execution_count": 13,
     "metadata": {},
     "output_type": "execute_result"
    }
   ],
   "source": [
    "new_df.npartitions"
   ]
  },
  {
   "cell_type": "code",
   "execution_count": 14,
   "id": "3d7fea9c",
   "metadata": {},
   "outputs": [
    {
     "name": "stdout",
     "output_type": "stream",
     "text": [
      "5.25 s ± 208 ms per loop (mean ± std. dev. of 7 runs, 1 loop each)\n"
     ]
    }
   ],
   "source": [
    "%%timeit\n",
    "new_df.map_partitions(len).compute()"
   ]
  },
  {
   "cell_type": "code",
   "execution_count": 234,
   "id": "32e8611e",
   "metadata": {},
   "outputs": [],
   "source": [
    "# new_df.rename(columns={'predicted_label_y':'predicted_label'}, inplace=True)"
   ]
  },
  {
   "cell_type": "code",
   "execution_count": 15,
   "id": "d3994f8a",
   "metadata": {},
   "outputs": [],
   "source": [
    "new_df2 = new_df[new_df['filing_type'] != '8_K']"
   ]
  },
  {
   "cell_type": "code",
   "execution_count": 16,
   "id": "0c6371e4",
   "metadata": {},
   "outputs": [],
   "source": [
    "# extarct the CIK number from the file path\n",
    "new_df2['cik'] = new_df2['file_path'].str.split('\\\\').str[-1].str.split('_').str[0]\n"
   ]
  },
  {
   "cell_type": "code",
   "execution_count": 17,
   "id": "86529a30",
   "metadata": {},
   "outputs": [],
   "source": [
    "new_df2['cik'] = dd.to_numeric(new_df2['cik'], errors='coerce')\n"
   ]
  },
  {
   "cell_type": "code",
   "execution_count": 18,
   "id": "6fef412c",
   "metadata": {},
   "outputs": [],
   "source": [
    "new_df2 = new_df2[~new_df2['cik'].isnull()]"
   ]
  },
  {
   "cell_type": "code",
   "execution_count": 19,
   "id": "be810a34",
   "metadata": {},
   "outputs": [],
   "source": [
    "new_df2 = new_df2.sort_values(['cik'], inplace=True)\n",
    "new_df2 = new_df2.sort_values(['reporting_date'], inplace=True)"
   ]
  },
  {
   "cell_type": "code",
   "execution_count": 13,
   "id": "f852cf13",
   "metadata": {},
   "outputs": [
    {
     "data": {
      "text/plain": [
       "584417"
      ]
     },
     "execution_count": 13,
     "metadata": {},
     "output_type": "execute_result"
    }
   ],
   "source": [
    "len(new_df2)"
   ]
  },
  {
   "cell_type": "code",
   "execution_count": null,
   "id": "53175211",
   "metadata": {},
   "outputs": [],
   "source": [
    "new_df2['cik'].value_counts(dropna=False).compute()"
   ]
  },
  {
   "cell_type": "code",
   "execution_count": 20,
   "id": "6bcd199d",
   "metadata": {},
   "outputs": [
    {
     "data": {
      "text/plain": [
       "Index(['file_path', 'html_path', 'reporting_date', 'filing_date',\n",
       "       'violation_info', 'ishtml', 'extraction_data', 'extraction_data_len',\n",
       "       'filing_type', 'year', 'date_extracted', 'predicted_label',\n",
       "       'extraction_data_cove', 'predicted_label_date_unfiltered', 'cik'],\n",
       "      dtype='object')"
      ]
     },
     "execution_count": 20,
     "metadata": {},
     "output_type": "execute_result"
    }
   ],
   "source": [
    "new_df2.columns"
   ]
  },
  {
   "cell_type": "code",
   "execution_count": 25,
   "id": "2080db1c",
   "metadata": {},
   "outputs": [
    {
     "data": {
      "text/html": [
       "<div>\n",
       "<style scoped>\n",
       "    .dataframe tbody tr th:only-of-type {\n",
       "        vertical-align: middle;\n",
       "    }\n",
       "\n",
       "    .dataframe tbody tr th {\n",
       "        vertical-align: top;\n",
       "    }\n",
       "\n",
       "    .dataframe thead th {\n",
       "        text-align: right;\n",
       "    }\n",
       "</style>\n",
       "<table border=\"1\" class=\"dataframe\">\n",
       "  <thead>\n",
       "    <tr style=\"text-align: right;\">\n",
       "      <th></th>\n",
       "      <th>file_path</th>\n",
       "      <th>html_path</th>\n",
       "      <th>reporting_date</th>\n",
       "      <th>filing_date</th>\n",
       "      <th>violation_info</th>\n",
       "      <th>ishtml</th>\n",
       "      <th>extraction_data</th>\n",
       "      <th>extraction_data_len</th>\n",
       "      <th>filing_type</th>\n",
       "      <th>year</th>\n",
       "      <th>date_extracted</th>\n",
       "      <th>predicted_label</th>\n",
       "      <th>extraction_data_cove</th>\n",
       "      <th>predicted_label_date_unfiltered</th>\n",
       "      <th>cik</th>\n",
       "    </tr>\n",
       "  </thead>\n",
       "  <tbody>\n",
       "    <tr>\n",
       "      <th>113435</th>\n",
       "      <td>F:\\Master_Thesis_NLP\\\\sec_filings_10QK\\2000\\10...</td>\n",
       "      <td>https://www.sec.gov/Archives/edgar/data/112297...</td>\n",
       "      <td>2000-09-30</td>\n",
       "      <td>2000_11_14</td>\n",
       "      <td>0</td>\n",
       "      <td>True</td>\n",
       "      <td>[]</td>\n",
       "      <td>0</td>\n",
       "      <td>10_Q</td>\n",
       "      <td>2000.0</td>\n",
       "      <td>None</td>\n",
       "      <td>0.0</td>\n",
       "      <td>None</td>\n",
       "      <td>0.0</td>\n",
       "      <td>1122976.0</td>\n",
       "    </tr>\n",
       "    <tr>\n",
       "      <th>118416</th>\n",
       "      <td>F:\\Master_Thesis_NLP\\\\sec_filings_10QK\\2000\\10...</td>\n",
       "      <td>https://www.sec.gov/Archives/edgar/data/112297...</td>\n",
       "      <td>2000-12-31</td>\n",
       "      <td>2001_03_28</td>\n",
       "      <td>1_2</td>\n",
       "      <td>True</td>\n",
       "      <td>[ons of such covenants as to the court will ap...</td>\n",
       "      <td>1</td>\n",
       "      <td>10_K</td>\n",
       "      <td>2000.0</td>\n",
       "      <td>None</td>\n",
       "      <td>0.0</td>\n",
       "      <td>None</td>\n",
       "      <td>0.0</td>\n",
       "      <td>1122976.0</td>\n",
       "    </tr>\n",
       "    <tr>\n",
       "      <th>128642</th>\n",
       "      <td>F:\\Master_Thesis_NLP\\\\sec_filings_10QK\\2001\\10...</td>\n",
       "      <td>https://www.sec.gov/Archives/edgar/data/112297...</td>\n",
       "      <td>2001-03-31</td>\n",
       "      <td>2001_05_15</td>\n",
       "      <td>0</td>\n",
       "      <td>True</td>\n",
       "      <td>[]</td>\n",
       "      <td>0</td>\n",
       "      <td>10_Q</td>\n",
       "      <td>2001.0</td>\n",
       "      <td>None</td>\n",
       "      <td>0.0</td>\n",
       "      <td>None</td>\n",
       "      <td>0.0</td>\n",
       "      <td>1122976.0</td>\n",
       "    </tr>\n",
       "    <tr>\n",
       "      <th>134363</th>\n",
       "      <td>F:\\Master_Thesis_NLP\\\\sec_filings_10QK\\2001\\10...</td>\n",
       "      <td>https://www.sec.gov/Archives/edgar/data/112297...</td>\n",
       "      <td>2001-06-30</td>\n",
       "      <td>2001_08_14</td>\n",
       "      <td>0</td>\n",
       "      <td>True</td>\n",
       "      <td>[]</td>\n",
       "      <td>0</td>\n",
       "      <td>10_Q</td>\n",
       "      <td>2001.0</td>\n",
       "      <td>None</td>\n",
       "      <td>0.0</td>\n",
       "      <td>None</td>\n",
       "      <td>0.0</td>\n",
       "      <td>1122976.0</td>\n",
       "    </tr>\n",
       "    <tr>\n",
       "      <th>140004</th>\n",
       "      <td>F:\\Master_Thesis_NLP\\\\sec_filings_10QK\\2001\\10...</td>\n",
       "      <td>https://www.sec.gov/Archives/edgar/data/112297...</td>\n",
       "      <td>2001-09-30</td>\n",
       "      <td>2001_11_14</td>\n",
       "      <td>0</td>\n",
       "      <td>True</td>\n",
       "      <td>[]</td>\n",
       "      <td>0</td>\n",
       "      <td>10_Q</td>\n",
       "      <td>2001.0</td>\n",
       "      <td>None</td>\n",
       "      <td>0.0</td>\n",
       "      <td>None</td>\n",
       "      <td>0.0</td>\n",
       "      <td>1122976.0</td>\n",
       "    </tr>\n",
       "    <tr>\n",
       "      <th>...</th>\n",
       "      <td>...</td>\n",
       "      <td>...</td>\n",
       "      <td>...</td>\n",
       "      <td>...</td>\n",
       "      <td>...</td>\n",
       "      <td>...</td>\n",
       "      <td>...</td>\n",
       "      <td>...</td>\n",
       "      <td>...</td>\n",
       "      <td>...</td>\n",
       "      <td>...</td>\n",
       "      <td>...</td>\n",
       "      <td>...</td>\n",
       "      <td>...</td>\n",
       "      <td>...</td>\n",
       "    </tr>\n",
       "    <tr>\n",
       "      <th>1282152</th>\n",
       "      <td>F:\\Master_Thesis_NLP\\\\sec_filings_10QK\\2021\\10...</td>\n",
       "      <td>https://www.sec.gov/Archives/edgar/data/112297...</td>\n",
       "      <td>2021-09-30</td>\n",
       "      <td>2021_10_28</td>\n",
       "      <td>1_2</td>\n",
       "      <td>True</td>\n",
       "      <td>[ with affiliates, create dividend or other pa...</td>\n",
       "      <td>2</td>\n",
       "      <td>10_Q</td>\n",
       "      <td>2021.0</td>\n",
       "      <td>None</td>\n",
       "      <td>0.0</td>\n",
       "      <td>None</td>\n",
       "      <td>0.0</td>\n",
       "      <td>1122976.0</td>\n",
       "    </tr>\n",
       "    <tr>\n",
       "      <th>1268052</th>\n",
       "      <td>F:\\Master_Thesis_NLP\\\\sec_filings_10QK\\2021\\10...</td>\n",
       "      <td>https://www.sec.gov/Archives/edgar/data/112297...</td>\n",
       "      <td>2021-12-31</td>\n",
       "      <td>2022_02_22</td>\n",
       "      <td>1_2</td>\n",
       "      <td>True</td>\n",
       "      <td>[The agreements governing our Revolving Credit...</td>\n",
       "      <td>2</td>\n",
       "      <td>10_K</td>\n",
       "      <td>2021.0</td>\n",
       "      <td>None</td>\n",
       "      <td>0.0</td>\n",
       "      <td>None</td>\n",
       "      <td>0.0</td>\n",
       "      <td>1122976.0</td>\n",
       "    </tr>\n",
       "    <tr>\n",
       "      <th>1288756</th>\n",
       "      <td>F:\\Master_Thesis_NLP\\\\sec_filings_10QK\\2022\\10...</td>\n",
       "      <td>https://www.sec.gov/Archives/edgar/data/112297...</td>\n",
       "      <td>2022-03-31</td>\n",
       "      <td>2022_04_27</td>\n",
       "      <td>1_2</td>\n",
       "      <td>True</td>\n",
       "      <td>[ with affiliates, create dividend or other pa...</td>\n",
       "      <td>2</td>\n",
       "      <td>10_Q</td>\n",
       "      <td>2022.0</td>\n",
       "      <td>None</td>\n",
       "      <td>0.0</td>\n",
       "      <td>None</td>\n",
       "      <td>0.0</td>\n",
       "      <td>1122976.0</td>\n",
       "    </tr>\n",
       "    <tr>\n",
       "      <th>1293564</th>\n",
       "      <td>F:\\Master_Thesis_NLP\\\\sec_filings_10QK\\2022\\10...</td>\n",
       "      <td>https://www.sec.gov/Archives/edgar/data/112297...</td>\n",
       "      <td>2022-06-30</td>\n",
       "      <td>2022_07_26</td>\n",
       "      <td>1_2</td>\n",
       "      <td>True</td>\n",
       "      <td>[ with affiliates, create dividend or other pa...</td>\n",
       "      <td>2</td>\n",
       "      <td>10_Q</td>\n",
       "      <td>2022.0</td>\n",
       "      <td>None</td>\n",
       "      <td>0.0</td>\n",
       "      <td>None</td>\n",
       "      <td>0.0</td>\n",
       "      <td>1122976.0</td>\n",
       "    </tr>\n",
       "    <tr>\n",
       "      <th>1298317</th>\n",
       "      <td>F:\\Master_Thesis_NLP\\\\sec_filings_10QK\\2022\\10...</td>\n",
       "      <td>https://www.sec.gov/Archives/edgar/data/112297...</td>\n",
       "      <td>2022-09-30</td>\n",
       "      <td>2022_11_02</td>\n",
       "      <td>1_2</td>\n",
       "      <td>True</td>\n",
       "      <td>[ with affiliates, create dividend or other pa...</td>\n",
       "      <td>2</td>\n",
       "      <td>10_Q</td>\n",
       "      <td>2022.0</td>\n",
       "      <td>None</td>\n",
       "      <td>0.0</td>\n",
       "      <td>None</td>\n",
       "      <td>0.0</td>\n",
       "      <td>1122976.0</td>\n",
       "    </tr>\n",
       "  </tbody>\n",
       "</table>\n",
       "<p>88 rows × 15 columns</p>\n",
       "</div>"
      ],
      "text/plain": [
       "                                                 file_path  \\\n",
       "113435   F:\\Master_Thesis_NLP\\\\sec_filings_10QK\\2000\\10...   \n",
       "118416   F:\\Master_Thesis_NLP\\\\sec_filings_10QK\\2000\\10...   \n",
       "128642   F:\\Master_Thesis_NLP\\\\sec_filings_10QK\\2001\\10...   \n",
       "134363   F:\\Master_Thesis_NLP\\\\sec_filings_10QK\\2001\\10...   \n",
       "140004   F:\\Master_Thesis_NLP\\\\sec_filings_10QK\\2001\\10...   \n",
       "...                                                    ...   \n",
       "1282152  F:\\Master_Thesis_NLP\\\\sec_filings_10QK\\2021\\10...   \n",
       "1268052  F:\\Master_Thesis_NLP\\\\sec_filings_10QK\\2021\\10...   \n",
       "1288756  F:\\Master_Thesis_NLP\\\\sec_filings_10QK\\2022\\10...   \n",
       "1293564  F:\\Master_Thesis_NLP\\\\sec_filings_10QK\\2022\\10...   \n",
       "1298317  F:\\Master_Thesis_NLP\\\\sec_filings_10QK\\2022\\10...   \n",
       "\n",
       "                                                 html_path reporting_date  \\\n",
       "113435   https://www.sec.gov/Archives/edgar/data/112297...     2000-09-30   \n",
       "118416   https://www.sec.gov/Archives/edgar/data/112297...     2000-12-31   \n",
       "128642   https://www.sec.gov/Archives/edgar/data/112297...     2001-03-31   \n",
       "134363   https://www.sec.gov/Archives/edgar/data/112297...     2001-06-30   \n",
       "140004   https://www.sec.gov/Archives/edgar/data/112297...     2001-09-30   \n",
       "...                                                    ...            ...   \n",
       "1282152  https://www.sec.gov/Archives/edgar/data/112297...     2021-09-30   \n",
       "1268052  https://www.sec.gov/Archives/edgar/data/112297...     2021-12-31   \n",
       "1288756  https://www.sec.gov/Archives/edgar/data/112297...     2022-03-31   \n",
       "1293564  https://www.sec.gov/Archives/edgar/data/112297...     2022-06-30   \n",
       "1298317  https://www.sec.gov/Archives/edgar/data/112297...     2022-09-30   \n",
       "\n",
       "        filing_date violation_info  ishtml  \\\n",
       "113435   2000_11_14              0    True   \n",
       "118416   2001_03_28            1_2    True   \n",
       "128642   2001_05_15              0    True   \n",
       "134363   2001_08_14              0    True   \n",
       "140004   2001_11_14              0    True   \n",
       "...             ...            ...     ...   \n",
       "1282152  2021_10_28            1_2    True   \n",
       "1268052  2022_02_22            1_2    True   \n",
       "1288756  2022_04_27            1_2    True   \n",
       "1293564  2022_07_26            1_2    True   \n",
       "1298317  2022_11_02            1_2    True   \n",
       "\n",
       "                                           extraction_data  \\\n",
       "113435                                                  []   \n",
       "118416   [ons of such covenants as to the court will ap...   \n",
       "128642                                                  []   \n",
       "134363                                                  []   \n",
       "140004                                                  []   \n",
       "...                                                    ...   \n",
       "1282152  [ with affiliates, create dividend or other pa...   \n",
       "1268052  [The agreements governing our Revolving Credit...   \n",
       "1288756  [ with affiliates, create dividend or other pa...   \n",
       "1293564  [ with affiliates, create dividend or other pa...   \n",
       "1298317  [ with affiliates, create dividend or other pa...   \n",
       "\n",
       "         extraction_data_len filing_type    year date_extracted  \\\n",
       "113435                     0        10_Q  2000.0           None   \n",
       "118416                     1        10_K  2000.0           None   \n",
       "128642                     0        10_Q  2001.0           None   \n",
       "134363                     0        10_Q  2001.0           None   \n",
       "140004                     0        10_Q  2001.0           None   \n",
       "...                      ...         ...     ...            ...   \n",
       "1282152                    2        10_Q  2021.0           None   \n",
       "1268052                    2        10_K  2021.0           None   \n",
       "1288756                    2        10_Q  2022.0           None   \n",
       "1293564                    2        10_Q  2022.0           None   \n",
       "1298317                    2        10_Q  2022.0           None   \n",
       "\n",
       "         predicted_label extraction_data_cove  \\\n",
       "113435               0.0                 None   \n",
       "118416               0.0                 None   \n",
       "128642               0.0                 None   \n",
       "134363               0.0                 None   \n",
       "140004               0.0                 None   \n",
       "...                  ...                  ...   \n",
       "1282152              0.0                 None   \n",
       "1268052              0.0                 None   \n",
       "1288756              0.0                 None   \n",
       "1293564              0.0                 None   \n",
       "1298317              0.0                 None   \n",
       "\n",
       "         predicted_label_date_unfiltered        cik  \n",
       "113435                               0.0  1122976.0  \n",
       "118416                               0.0  1122976.0  \n",
       "128642                               0.0  1122976.0  \n",
       "134363                               0.0  1122976.0  \n",
       "140004                               0.0  1122976.0  \n",
       "...                                  ...        ...  \n",
       "1282152                              0.0  1122976.0  \n",
       "1268052                              0.0  1122976.0  \n",
       "1288756                              0.0  1122976.0  \n",
       "1293564                              0.0  1122976.0  \n",
       "1298317                              0.0  1122976.0  \n",
       "\n",
       "[88 rows x 15 columns]"
      ]
     },
     "execution_count": 25,
     "metadata": {},
     "output_type": "execute_result"
    }
   ],
   "source": [
    "# new_df2[ new_df2['cik'] == 1122976].compute()"
   ]
  },
  {
   "cell_type": "code",
   "execution_count": 21,
   "id": "b40cb401",
   "metadata": {},
   "outputs": [],
   "source": [
    "new_df2['reporting_date_month'] = new_df2['reporting_date'].dt.month"
   ]
  },
  {
   "cell_type": "code",
   "execution_count": null,
   "id": "d42a8779",
   "metadata": {},
   "outputs": [],
   "source": [
    "# new_df2.head()"
   ]
  },
  {
   "cell_type": "markdown",
   "id": "958ba52f",
   "metadata": {},
   "source": [
    "- This approach might not work effective in this case as the filings are reported in differnt months across years . Also in few instances there are missing filings which makes even harder to guess if it is a delayed reporting or missing donwload"
   ]
  },
  {
   "cell_type": "markdown",
   "id": "e26c966f",
   "metadata": {},
   "source": [
    "## New Violation and Amendment"
   ]
  },
  {
   "cell_type": "code",
   "execution_count": 32,
   "id": "2ebdeffc",
   "metadata": {},
   "outputs": [],
   "source": [
    "# new_df2['isviolated'] = dd.where(new_df2['predicted_label']==1 , 1, 0)\n",
    "# new_df2['isamended'] = dd.where(new_df2['predicted_label']==2 , 1, 0)"
   ]
  },
  {
   "cell_type": "code",
   "execution_count": 22,
   "id": "059938b4",
   "metadata": {},
   "outputs": [],
   "source": [
    "new_df2['isviolated'] = new_df2['predicted_label'].where(new_df2['predicted_label']==1 , 1)\n",
    "new_df2['isviolated'] = new_df2['predicted_label'].where(new_df2['predicted_label']!=1 , 0)"
   ]
  },
  {
   "cell_type": "code",
   "execution_count": 23,
   "id": "666665ff",
   "metadata": {},
   "outputs": [],
   "source": [
    "new_df2['isamended'] = new_df2['predicted_label'].where(new_df2['predicted_label']==2 , 1)\n",
    "new_df2['isamended'] = new_df2['predicted_label'].where(new_df2['predicted_label']!=2 , 0)"
   ]
  },
  {
   "cell_type": "code",
   "execution_count": null,
   "id": "4d7202c4",
   "metadata": {},
   "outputs": [],
   "source": [
    "new_df2['isamended'].value_counts().compute()"
   ]
  },
  {
   "cell_type": "code",
   "execution_count": 37,
   "id": "fff420c7",
   "metadata": {},
   "outputs": [
    {
     "data": {
      "text/plain": [
       "81955.0      8\n",
       "796505.0     8\n",
       "727346.0     7\n",
       "1121783.0    7\n",
       "106455.0     7\n",
       "            ..\n",
       "878324.0     1\n",
       "878774.0     1\n",
       "879235.0     1\n",
       "879303.0     1\n",
       "1805385.0    1\n",
       "Name: cik, Length: 1110, dtype: int64"
      ]
     },
     "execution_count": 37,
     "metadata": {},
     "output_type": "execute_result"
    }
   ],
   "source": [
    "# new_df2[(new_df2['predicted_label']==1) & (new_df2['filing_type'] == '10_K')]['cik'].value_counts().compute()"
   ]
  },
  {
   "cell_type": "code",
   "execution_count": null,
   "id": "82f29e02",
   "metadata": {},
   "outputs": [],
   "source": []
  },
  {
   "cell_type": "code",
   "execution_count": 24,
   "id": "401a61ca",
   "metadata": {},
   "outputs": [],
   "source": [
    "new_df2 = new_df2.reset_index( drop=True)"
   ]
  },
  {
   "cell_type": "code",
   "execution_count": 25,
   "id": "5f29a126",
   "metadata": {},
   "outputs": [],
   "source": [
    "def cal_new_violation(df99):\n",
    "    col_pred, new_col = 'isviolated', 'new_violation'\n",
    "    df99['next_10k'] =  pd.Series(df99[ (df99['filing_type'] == '10_K')].index) - pd.Series(df99[ (df99['filing_type'] == '10_K')].index).shift(1)\n",
    "    df99['next_10k'] = df99['next_10k'].apply(lambda x: min(4, x))\n",
    "    for val in df99[(df99['predicted_label'] == 1) & (df99['filing_type'] == '10_K')].index:\n",
    "        df99.loc[val, new_col] = df99.loc[val-3:val-1, col_pred].max()\n",
    "    return df99"
   ]
  },
  {
   "cell_type": "code",
   "execution_count": 26,
   "id": "6beffa3e",
   "metadata": {},
   "outputs": [],
   "source": [
    "def cal_new_amendment(df99):\n",
    "    col_pred, new_col = 'isamended', 'new_amendment'\n",
    "    df99['next_10k'] =  pd.Series(df99[ (df99['filing_type'] == '10_K')].index) - pd.Series(df99[ (df99['filing_type'] == '10_K')].index).shift(1)\n",
    "    df99['next_10k'] = df99['next_10k'].apply(lambda x: min(4, x))\n",
    "    for val in df99[(df99[col_pred] == 1) & (df99['filing_type'] == '10_K')].index:\n",
    "        df99.loc[val, new_col] = df99.loc[val-3:val-1, col_pred].max()\n",
    "    return df99"
   ]
  },
  {
   "cell_type": "code",
   "execution_count": 27,
   "id": "9889d05f",
   "metadata": {},
   "outputs": [
    {
     "name": "stderr",
     "output_type": "stream",
     "text": [
      "C:\\Users\\chait\\AppData\\Local\\Temp/ipykernel_6388/4109241860.py:3: UserWarning: `meta` is not specified, inferred from partial data. Please provide `meta` if the result is unexpected.\n",
      "  Before: .apply(func)\n",
      "  After:  .apply(func, meta={'x': 'f8', 'y': 'f8'}) for dataframe result\n",
      "  or:     .apply(func, meta=('x', 'f8'))            for series result\n",
      "  df = new_df2.groupby('cik').apply(cal_new_violation)\n"
     ]
    }
   ],
   "source": [
    "new_df2 = new_df2.sort_values(['cik'], inplace=True)\n",
    "new_df2 = new_df2.reset_index( drop=True)\n",
    "df = new_df2.groupby('cik').apply(cal_new_violation)"
   ]
  },
  {
   "cell_type": "code",
   "execution_count": 29,
   "id": "6764e89b",
   "metadata": {},
   "outputs": [
    {
     "data": {
      "text/html": [
       "<div>\n",
       "<style scoped>\n",
       "    .dataframe tbody tr th:only-of-type {\n",
       "        vertical-align: middle;\n",
       "    }\n",
       "\n",
       "    .dataframe tbody tr th {\n",
       "        vertical-align: top;\n",
       "    }\n",
       "\n",
       "    .dataframe thead th {\n",
       "        text-align: right;\n",
       "    }\n",
       "</style>\n",
       "<table border=\"1\" class=\"dataframe\">\n",
       "  <thead>\n",
       "    <tr style=\"text-align: right;\">\n",
       "      <th></th>\n",
       "      <th>file_path</th>\n",
       "      <th>html_path</th>\n",
       "      <th>reporting_date</th>\n",
       "      <th>filing_date</th>\n",
       "      <th>violation_info</th>\n",
       "      <th>ishtml</th>\n",
       "      <th>extraction_data</th>\n",
       "      <th>extraction_data_len</th>\n",
       "      <th>filing_type</th>\n",
       "      <th>year</th>\n",
       "      <th>date_extracted</th>\n",
       "      <th>predicted_label</th>\n",
       "      <th>extraction_data_cove</th>\n",
       "      <th>predicted_label_date_unfiltered</th>\n",
       "      <th>cik</th>\n",
       "      <th>reporting_date_month</th>\n",
       "      <th>isviolated</th>\n",
       "      <th>isamended</th>\n",
       "    </tr>\n",
       "  </thead>\n",
       "  <tbody>\n",
       "    <tr>\n",
       "      <th>0</th>\n",
       "      <td>F:\\Master_Thesis_NLP\\\\sec_filings_10QK\\1999\\10...</td>\n",
       "      <td>https://www.sec.gov/Archives/edgar/data/20/000...</td>\n",
       "      <td>1999-10-02</td>\n",
       "      <td>1999_10_26</td>\n",
       "      <td>0</td>\n",
       "      <td>False</td>\n",
       "      <td>[]</td>\n",
       "      <td>0</td>\n",
       "      <td>10_Q</td>\n",
       "      <td>1999.0</td>\n",
       "      <td>None</td>\n",
       "      <td>0.0</td>\n",
       "      <td>None</td>\n",
       "      <td>0.0</td>\n",
       "      <td>20.0</td>\n",
       "      <td>10</td>\n",
       "      <td>0.0</td>\n",
       "      <td>0.0</td>\n",
       "    </tr>\n",
       "    <tr>\n",
       "      <th>1</th>\n",
       "      <td>F:\\Master_Thesis_NLP\\\\sec_filings_10QK\\2009\\10...</td>\n",
       "      <td>https://www.sec.gov/Archives/edgar/data/20/000...</td>\n",
       "      <td>2009-01-03</td>\n",
       "      <td>2009_03_13</td>\n",
       "      <td>1_2</td>\n",
       "      <td>True</td>\n",
       "      <td>[rs were in compliance with these covenants. I...</td>\n",
       "      <td>2</td>\n",
       "      <td>10_K</td>\n",
       "      <td>2009.0</td>\n",
       "      <td>None</td>\n",
       "      <td>0.0</td>\n",
       "      <td>None</td>\n",
       "      <td>0.0</td>\n",
       "      <td>20.0</td>\n",
       "      <td>1</td>\n",
       "      <td>0.0</td>\n",
       "      <td>0.0</td>\n",
       "    </tr>\n",
       "    <tr>\n",
       "      <th>2</th>\n",
       "      <td>F:\\Master_Thesis_NLP\\\\sec_filings_10QK\\1998\\10...</td>\n",
       "      <td>https://www.sec.gov/Archives/edgar/data/20/000...</td>\n",
       "      <td>1998-04-04</td>\n",
       "      <td>1998_05_04</td>\n",
       "      <td>0</td>\n",
       "      <td>False</td>\n",
       "      <td>[]</td>\n",
       "      <td>0</td>\n",
       "      <td>10_Q</td>\n",
       "      <td>1998.0</td>\n",
       "      <td>None</td>\n",
       "      <td>0.0</td>\n",
       "      <td>None</td>\n",
       "      <td>0.0</td>\n",
       "      <td>20.0</td>\n",
       "      <td>4</td>\n",
       "      <td>0.0</td>\n",
       "      <td>0.0</td>\n",
       "    </tr>\n",
       "    <tr>\n",
       "      <th>3</th>\n",
       "      <td>F:\\Master_Thesis_NLP\\\\sec_filings_10QK\\2003\\10...</td>\n",
       "      <td>https://www.sec.gov/Archives/edgar/data/20/000...</td>\n",
       "      <td>2002-12-28</td>\n",
       "      <td>2003_03_27</td>\n",
       "      <td>1_2</td>\n",
       "      <td>True</td>\n",
       "      <td>[riginal term loan\\nfacility and the refinance...</td>\n",
       "      <td>2</td>\n",
       "      <td>10_K</td>\n",
       "      <td>2002.0</td>\n",
       "      <td>None</td>\n",
       "      <td>0.0</td>\n",
       "      <td>None</td>\n",
       "      <td>0.0</td>\n",
       "      <td>20.0</td>\n",
       "      <td>12</td>\n",
       "      <td>0.0</td>\n",
       "      <td>0.0</td>\n",
       "    </tr>\n",
       "    <tr>\n",
       "      <th>4</th>\n",
       "      <td>F:\\Master_Thesis_NLP\\\\sec_filings_10QK\\1997\\10...</td>\n",
       "      <td>https://www.sec.gov/Archives/edgar/data/20/000...</td>\n",
       "      <td>1997-03-29</td>\n",
       "      <td>1997_04_30</td>\n",
       "      <td>0</td>\n",
       "      <td>False</td>\n",
       "      <td>[]</td>\n",
       "      <td>0</td>\n",
       "      <td>10_Q</td>\n",
       "      <td>1997.0</td>\n",
       "      <td>None</td>\n",
       "      <td>0.0</td>\n",
       "      <td>None</td>\n",
       "      <td>0.0</td>\n",
       "      <td>20.0</td>\n",
       "      <td>3</td>\n",
       "      <td>0.0</td>\n",
       "      <td>0.0</td>\n",
       "    </tr>\n",
       "  </tbody>\n",
       "</table>\n",
       "</div>"
      ],
      "text/plain": [
       "                                           file_path  \\\n",
       "0  F:\\Master_Thesis_NLP\\\\sec_filings_10QK\\1999\\10...   \n",
       "1  F:\\Master_Thesis_NLP\\\\sec_filings_10QK\\2009\\10...   \n",
       "2  F:\\Master_Thesis_NLP\\\\sec_filings_10QK\\1998\\10...   \n",
       "3  F:\\Master_Thesis_NLP\\\\sec_filings_10QK\\2003\\10...   \n",
       "4  F:\\Master_Thesis_NLP\\\\sec_filings_10QK\\1997\\10...   \n",
       "\n",
       "                                           html_path reporting_date  \\\n",
       "0  https://www.sec.gov/Archives/edgar/data/20/000...     1999-10-02   \n",
       "1  https://www.sec.gov/Archives/edgar/data/20/000...     2009-01-03   \n",
       "2  https://www.sec.gov/Archives/edgar/data/20/000...     1998-04-04   \n",
       "3  https://www.sec.gov/Archives/edgar/data/20/000...     2002-12-28   \n",
       "4  https://www.sec.gov/Archives/edgar/data/20/000...     1997-03-29   \n",
       "\n",
       "  filing_date violation_info  ishtml  \\\n",
       "0  1999_10_26              0   False   \n",
       "1  2009_03_13            1_2    True   \n",
       "2  1998_05_04              0   False   \n",
       "3  2003_03_27            1_2    True   \n",
       "4  1997_04_30              0   False   \n",
       "\n",
       "                                     extraction_data  extraction_data_len  \\\n",
       "0                                                 []                    0   \n",
       "1  [rs were in compliance with these covenants. I...                    2   \n",
       "2                                                 []                    0   \n",
       "3  [riginal term loan\\nfacility and the refinance...                    2   \n",
       "4                                                 []                    0   \n",
       "\n",
       "  filing_type    year date_extracted  predicted_label extraction_data_cove  \\\n",
       "0        10_Q  1999.0           None              0.0                 None   \n",
       "1        10_K  2009.0           None              0.0                 None   \n",
       "2        10_Q  1998.0           None              0.0                 None   \n",
       "3        10_K  2002.0           None              0.0                 None   \n",
       "4        10_Q  1997.0           None              0.0                 None   \n",
       "\n",
       "   predicted_label_date_unfiltered   cik  reporting_date_month  isviolated  \\\n",
       "0                              0.0  20.0                    10         0.0   \n",
       "1                              0.0  20.0                     1         0.0   \n",
       "2                              0.0  20.0                     4         0.0   \n",
       "3                              0.0  20.0                    12         0.0   \n",
       "4                              0.0  20.0                     3         0.0   \n",
       "\n",
       "   isamended  \n",
       "0        0.0  \n",
       "1        0.0  \n",
       "2        0.0  \n",
       "3        0.0  \n",
       "4        0.0  "
      ]
     },
     "execution_count": 29,
     "metadata": {},
     "output_type": "execute_result"
    }
   ],
   "source": [
    "new_df2.head()"
   ]
  },
  {
   "cell_type": "code",
   "execution_count": 32,
   "id": "3d1a3acc",
   "metadata": {},
   "outputs": [],
   "source": [
    "df99 = new_df2.copy()\n"
   ]
  },
  {
   "cell_type": "code",
   "execution_count": 33,
   "id": "6237a2b0",
   "metadata": {},
   "outputs": [
    {
     "ename": "TypeError",
     "evalue": "'_LocIndexer' object does not support item assignment",
     "output_type": "error",
     "traceback": [
      "\u001b[1;31m---------------------------------------------------------------------------\u001b[0m",
      "\u001b[1;31mTypeError\u001b[0m                                 Traceback (most recent call last)",
      "\u001b[1;32m~\\AppData\\Local\\Temp/ipykernel_6388/3499184022.py\u001b[0m in \u001b[0;36m<module>\u001b[1;34m\u001b[0m\n\u001b[0;32m      3\u001b[0m \u001b[1;33m\u001b[0m\u001b[0m\n\u001b[0;32m      4\u001b[0m \u001b[1;32mfor\u001b[0m \u001b[0mval\u001b[0m \u001b[1;32min\u001b[0m \u001b[0mdf99\u001b[0m\u001b[1;33m[\u001b[0m\u001b[1;33m(\u001b[0m\u001b[0mdf99\u001b[0m\u001b[1;33m[\u001b[0m\u001b[1;34m'predicted_label'\u001b[0m\u001b[1;33m]\u001b[0m \u001b[1;33m==\u001b[0m \u001b[1;36m1\u001b[0m\u001b[1;33m)\u001b[0m \u001b[1;33m&\u001b[0m \u001b[1;33m(\u001b[0m\u001b[0mdf99\u001b[0m\u001b[1;33m[\u001b[0m\u001b[1;34m'filing_type'\u001b[0m\u001b[1;33m]\u001b[0m \u001b[1;33m==\u001b[0m \u001b[1;34m'10_K'\u001b[0m\u001b[1;33m)\u001b[0m\u001b[1;33m]\u001b[0m\u001b[1;33m.\u001b[0m\u001b[0mindex\u001b[0m\u001b[1;33m:\u001b[0m\u001b[1;33m\u001b[0m\u001b[1;33m\u001b[0m\u001b[0m\n\u001b[1;32m----> 5\u001b[1;33m         \u001b[0mdf99\u001b[0m\u001b[1;33m.\u001b[0m\u001b[0mloc\u001b[0m\u001b[1;33m[\u001b[0m\u001b[0mval\u001b[0m\u001b[1;33m,\u001b[0m \u001b[0mnew_col\u001b[0m\u001b[1;33m]\u001b[0m \u001b[1;33m=\u001b[0m \u001b[0mdf99\u001b[0m\u001b[1;33m.\u001b[0m\u001b[0mloc\u001b[0m\u001b[1;33m[\u001b[0m\u001b[0mval\u001b[0m\u001b[1;33m-\u001b[0m\u001b[1;36m3\u001b[0m\u001b[1;33m:\u001b[0m\u001b[0mval\u001b[0m\u001b[1;33m-\u001b[0m\u001b[1;36m1\u001b[0m\u001b[1;33m,\u001b[0m \u001b[0mcol_pred\u001b[0m\u001b[1;33m]\u001b[0m\u001b[1;33m.\u001b[0m\u001b[0mmax\u001b[0m\u001b[1;33m(\u001b[0m\u001b[1;33m)\u001b[0m\u001b[1;33m\u001b[0m\u001b[1;33m\u001b[0m\u001b[0m\n\u001b[0m",
      "\u001b[1;31mTypeError\u001b[0m: '_LocIndexer' object does not support item assignment"
     ]
    }
   ],
   "source": [
    "col_pred, new_col = 'isviolated', 'new_violation'\n",
    "df99[new_col]  = 0\n",
    "\n",
    "for val in df99[(df99['predicted_label'] == 1) & (df99['filing_type'] == '10_K')].index:\n",
    "        df99.loc[val, new_col] = df99.loc[val-3:val-1, col_pred].max()\n",
    "        df99[new_col] = df99[new_col].mask(new_col == 0b100, -1)"
   ]
  },
  {
   "cell_type": "code",
   "execution_count": 35,
   "id": "5e200185",
   "metadata": {},
   "outputs": [
    {
     "data": {
      "text/plain": [
       "47"
      ]
     },
     "execution_count": 35,
     "metadata": {},
     "output_type": "execute_result"
    }
   ],
   "source": [
    "val"
   ]
  },
  {
   "cell_type": "code",
   "execution_count": 51,
   "id": "22365623",
   "metadata": {},
   "outputs": [
    {
     "data": {
      "text/plain": [
       "0    584416\n",
       "dtype: int64"
      ]
     },
     "execution_count": 51,
     "metadata": {},
     "output_type": "execute_result"
    }
   ],
   "source": [
    "new_df2.map_partitions(len).compute()"
   ]
  },
  {
   "cell_type": "code",
   "execution_count": null,
   "id": "eb43e462",
   "metadata": {},
   "outputs": [],
   "source": []
  },
  {
   "cell_type": "code",
   "execution_count": null,
   "id": "344d9fbf",
   "metadata": {},
   "outputs": [],
   "source": []
  },
  {
   "cell_type": "code",
   "execution_count": 45,
   "id": "224a7cc0",
   "metadata": {},
   "outputs": [
    {
     "data": {
      "text/plain": [
       "Index(['file_path', 'html_path', 'reporting_date', 'filing_date',\n",
       "       'violation_info', 'ishtml', 'extraction_data', 'extraction_data_len',\n",
       "       'filing_type', 'year', 'date_extracted', 'predicted_label',\n",
       "       'extraction_data_cove', 'predicted_label_date_unfiltered', 'cik',\n",
       "       'reporting_date_month', 'isviolated', 'isamended', 'next_10k'],\n",
       "      dtype='object')"
      ]
     },
     "execution_count": 45,
     "metadata": {},
     "output_type": "execute_result"
    }
   ],
   "source": [
    "df.columns"
   ]
  },
  {
   "cell_type": "code",
   "execution_count": 44,
   "id": "c8bac1f9",
   "metadata": {},
   "outputs": [
    {
     "ename": "ValueError",
     "evalue": "The columns in the computed data do not match the columns in the provided metadata\n  Extra:   ['new_violation']\n  Missing: []",
     "output_type": "error",
     "traceback": [
      "\u001b[1;31m---------------------------------------------------------------------------\u001b[0m",
      "\u001b[1;31mValueError\u001b[0m                                Traceback (most recent call last)",
      "\u001b[1;32m~\\AppData\\Local\\Temp/ipykernel_17388/3037774726.py\u001b[0m in \u001b[0;36m<module>\u001b[1;34m\u001b[0m\n\u001b[1;32m----> 1\u001b[1;33m \u001b[0mdf\u001b[0m \u001b[1;33m=\u001b[0m \u001b[0mdf\u001b[0m\u001b[1;33m.\u001b[0m\u001b[0msort_values\u001b[0m\u001b[1;33m(\u001b[0m\u001b[1;33m[\u001b[0m\u001b[1;34m'cik'\u001b[0m\u001b[1;33m]\u001b[0m\u001b[1;33m,\u001b[0m \u001b[0minplace\u001b[0m\u001b[1;33m=\u001b[0m\u001b[1;32mTrue\u001b[0m\u001b[1;33m)\u001b[0m\u001b[1;33m\u001b[0m\u001b[1;33m\u001b[0m\u001b[0m\n\u001b[0m\u001b[0;32m      2\u001b[0m \u001b[0mdf\u001b[0m \u001b[1;33m=\u001b[0m \u001b[0mdf\u001b[0m\u001b[1;33m.\u001b[0m\u001b[0mreset_index\u001b[0m\u001b[1;33m(\u001b[0m \u001b[0mdrop\u001b[0m\u001b[1;33m=\u001b[0m\u001b[1;32mTrue\u001b[0m\u001b[1;33m)\u001b[0m\u001b[1;33m\u001b[0m\u001b[1;33m\u001b[0m\u001b[0m\n\u001b[0;32m      3\u001b[0m \u001b[0mdf\u001b[0m \u001b[1;33m=\u001b[0m \u001b[0mdf\u001b[0m\u001b[1;33m.\u001b[0m\u001b[0mgroupby\u001b[0m\u001b[1;33m(\u001b[0m\u001b[1;34m'cik'\u001b[0m\u001b[1;33m)\u001b[0m\u001b[1;33m.\u001b[0m\u001b[0mapply\u001b[0m\u001b[1;33m(\u001b[0m\u001b[0mcal_new_amendment\u001b[0m\u001b[1;33m)\u001b[0m\u001b[1;33m\u001b[0m\u001b[1;33m\u001b[0m\u001b[0m\n",
      "\u001b[1;32m~\\anaconda3\\lib\\site-packages\\dask\\dataframe\\core.py\u001b[0m in \u001b[0;36msort_values\u001b[1;34m(self, by, npartitions, ascending, **kwargs)\u001b[0m\n\u001b[0;32m   3987\u001b[0m         \u001b[1;32mfrom\u001b[0m \u001b[1;33m.\u001b[0m\u001b[0mshuffle\u001b[0m \u001b[1;32mimport\u001b[0m \u001b[0msort_values\u001b[0m\u001b[1;33m\u001b[0m\u001b[1;33m\u001b[0m\u001b[0m\n\u001b[0;32m   3988\u001b[0m \u001b[1;33m\u001b[0m\u001b[0m\n\u001b[1;32m-> 3989\u001b[1;33m         return sort_values(\n\u001b[0m\u001b[0;32m   3990\u001b[0m             \u001b[0mself\u001b[0m\u001b[1;33m,\u001b[0m\u001b[1;33m\u001b[0m\u001b[1;33m\u001b[0m\u001b[0m\n\u001b[0;32m   3991\u001b[0m             \u001b[0mby\u001b[0m\u001b[1;33m,\u001b[0m\u001b[1;33m\u001b[0m\u001b[1;33m\u001b[0m\u001b[0m\n",
      "\u001b[1;32m~\\anaconda3\\lib\\site-packages\\dask\\dataframe\\shuffle.py\u001b[0m in \u001b[0;36msort_values\u001b[1;34m(df, by, npartitions, ascending, upsample, partition_size, **kwargs)\u001b[0m\n\u001b[0;32m     98\u001b[0m     \u001b[0msort_by_col\u001b[0m \u001b[1;33m=\u001b[0m \u001b[0mdf\u001b[0m\u001b[1;33m[\u001b[0m\u001b[0mby\u001b[0m\u001b[1;33m]\u001b[0m\u001b[1;33m\u001b[0m\u001b[1;33m\u001b[0m\u001b[0m\n\u001b[0;32m     99\u001b[0m \u001b[1;33m\u001b[0m\u001b[0m\n\u001b[1;32m--> 100\u001b[1;33m     divisions, mins, maxes = _calculate_divisions(\n\u001b[0m\u001b[0;32m    101\u001b[0m         \u001b[0mdf\u001b[0m\u001b[1;33m,\u001b[0m \u001b[0msort_by_col\u001b[0m\u001b[1;33m,\u001b[0m \u001b[0mrepartition\u001b[0m\u001b[1;33m,\u001b[0m \u001b[0mnpartitions\u001b[0m\u001b[1;33m,\u001b[0m \u001b[0mupsample\u001b[0m\u001b[1;33m,\u001b[0m \u001b[0mpartition_size\u001b[0m\u001b[1;33m\u001b[0m\u001b[1;33m\u001b[0m\u001b[0m\n\u001b[0;32m    102\u001b[0m     )\n",
      "\u001b[1;32m~\\anaconda3\\lib\\site-packages\\dask\\dataframe\\shuffle.py\u001b[0m in \u001b[0;36m_calculate_divisions\u001b[1;34m(df, partition_col, repartition, npartitions, upsample, partition_size)\u001b[0m\n\u001b[0;32m     33\u001b[0m     \u001b[0mmins\u001b[0m \u001b[1;33m=\u001b[0m \u001b[0mpartition_col\u001b[0m\u001b[1;33m.\u001b[0m\u001b[0mmap_partitions\u001b[0m\u001b[1;33m(\u001b[0m\u001b[0mM\u001b[0m\u001b[1;33m.\u001b[0m\u001b[0mmin\u001b[0m\u001b[1;33m)\u001b[0m\u001b[1;33m\u001b[0m\u001b[1;33m\u001b[0m\u001b[0m\n\u001b[0;32m     34\u001b[0m     \u001b[0mmaxes\u001b[0m \u001b[1;33m=\u001b[0m \u001b[0mpartition_col\u001b[0m\u001b[1;33m.\u001b[0m\u001b[0mmap_partitions\u001b[0m\u001b[1;33m(\u001b[0m\u001b[0mM\u001b[0m\u001b[1;33m.\u001b[0m\u001b[0mmax\u001b[0m\u001b[1;33m)\u001b[0m\u001b[1;33m\u001b[0m\u001b[1;33m\u001b[0m\u001b[0m\n\u001b[1;32m---> 35\u001b[1;33m     \u001b[0mdivisions\u001b[0m\u001b[1;33m,\u001b[0m \u001b[0msizes\u001b[0m\u001b[1;33m,\u001b[0m \u001b[0mmins\u001b[0m\u001b[1;33m,\u001b[0m \u001b[0mmaxes\u001b[0m \u001b[1;33m=\u001b[0m \u001b[0mbase\u001b[0m\u001b[1;33m.\u001b[0m\u001b[0mcompute\u001b[0m\u001b[1;33m(\u001b[0m\u001b[0mdivisions\u001b[0m\u001b[1;33m,\u001b[0m \u001b[0msizes\u001b[0m\u001b[1;33m,\u001b[0m \u001b[0mmins\u001b[0m\u001b[1;33m,\u001b[0m \u001b[0mmaxes\u001b[0m\u001b[1;33m)\u001b[0m\u001b[1;33m\u001b[0m\u001b[1;33m\u001b[0m\u001b[0m\n\u001b[0m\u001b[0;32m     36\u001b[0m     \u001b[0mdivisions\u001b[0m \u001b[1;33m=\u001b[0m \u001b[0mmethods\u001b[0m\u001b[1;33m.\u001b[0m\u001b[0mtolist\u001b[0m\u001b[1;33m(\u001b[0m\u001b[0mdivisions\u001b[0m\u001b[1;33m)\u001b[0m\u001b[1;33m\u001b[0m\u001b[1;33m\u001b[0m\u001b[0m\n\u001b[0;32m     37\u001b[0m     \u001b[1;32mif\u001b[0m \u001b[0mtype\u001b[0m\u001b[1;33m(\u001b[0m\u001b[0msizes\u001b[0m\u001b[1;33m)\u001b[0m \u001b[1;32mis\u001b[0m \u001b[1;32mnot\u001b[0m \u001b[0mlist\u001b[0m\u001b[1;33m:\u001b[0m\u001b[1;33m\u001b[0m\u001b[1;33m\u001b[0m\u001b[0m\n",
      "\u001b[1;32m~\\anaconda3\\lib\\site-packages\\dask\\base.py\u001b[0m in \u001b[0;36mcompute\u001b[1;34m(*args, **kwargs)\u001b[0m\n\u001b[0;32m    564\u001b[0m         \u001b[0mpostcomputes\u001b[0m\u001b[1;33m.\u001b[0m\u001b[0mappend\u001b[0m\u001b[1;33m(\u001b[0m\u001b[0mx\u001b[0m\u001b[1;33m.\u001b[0m\u001b[0m__dask_postcompute__\u001b[0m\u001b[1;33m(\u001b[0m\u001b[1;33m)\u001b[0m\u001b[1;33m)\u001b[0m\u001b[1;33m\u001b[0m\u001b[1;33m\u001b[0m\u001b[0m\n\u001b[0;32m    565\u001b[0m \u001b[1;33m\u001b[0m\u001b[0m\n\u001b[1;32m--> 566\u001b[1;33m     \u001b[0mresults\u001b[0m \u001b[1;33m=\u001b[0m \u001b[0mschedule\u001b[0m\u001b[1;33m(\u001b[0m\u001b[0mdsk\u001b[0m\u001b[1;33m,\u001b[0m \u001b[0mkeys\u001b[0m\u001b[1;33m,\u001b[0m \u001b[1;33m**\u001b[0m\u001b[0mkwargs\u001b[0m\u001b[1;33m)\u001b[0m\u001b[1;33m\u001b[0m\u001b[1;33m\u001b[0m\u001b[0m\n\u001b[0m\u001b[0;32m    567\u001b[0m     \u001b[1;32mreturn\u001b[0m \u001b[0mrepack\u001b[0m\u001b[1;33m(\u001b[0m\u001b[1;33m[\u001b[0m\u001b[0mf\u001b[0m\u001b[1;33m(\u001b[0m\u001b[0mr\u001b[0m\u001b[1;33m,\u001b[0m \u001b[1;33m*\u001b[0m\u001b[0ma\u001b[0m\u001b[1;33m)\u001b[0m \u001b[1;32mfor\u001b[0m \u001b[0mr\u001b[0m\u001b[1;33m,\u001b[0m \u001b[1;33m(\u001b[0m\u001b[0mf\u001b[0m\u001b[1;33m,\u001b[0m \u001b[0ma\u001b[0m\u001b[1;33m)\u001b[0m \u001b[1;32min\u001b[0m \u001b[0mzip\u001b[0m\u001b[1;33m(\u001b[0m\u001b[0mresults\u001b[0m\u001b[1;33m,\u001b[0m \u001b[0mpostcomputes\u001b[0m\u001b[1;33m)\u001b[0m\u001b[1;33m]\u001b[0m\u001b[1;33m)\u001b[0m\u001b[1;33m\u001b[0m\u001b[1;33m\u001b[0m\u001b[0m\n\u001b[0;32m    568\u001b[0m \u001b[1;33m\u001b[0m\u001b[0m\n",
      "\u001b[1;32m~\\anaconda3\\lib\\site-packages\\dask\\threaded.py\u001b[0m in \u001b[0;36mget\u001b[1;34m(dsk, result, cache, num_workers, pool, **kwargs)\u001b[0m\n\u001b[0;32m     77\u001b[0m             \u001b[0mpool\u001b[0m \u001b[1;33m=\u001b[0m \u001b[0mMultiprocessingPoolExecutor\u001b[0m\u001b[1;33m(\u001b[0m\u001b[0mpool\u001b[0m\u001b[1;33m)\u001b[0m\u001b[1;33m\u001b[0m\u001b[1;33m\u001b[0m\u001b[0m\n\u001b[0;32m     78\u001b[0m \u001b[1;33m\u001b[0m\u001b[0m\n\u001b[1;32m---> 79\u001b[1;33m     results = get_async(\n\u001b[0m\u001b[0;32m     80\u001b[0m         \u001b[0mpool\u001b[0m\u001b[1;33m.\u001b[0m\u001b[0msubmit\u001b[0m\u001b[1;33m,\u001b[0m\u001b[1;33m\u001b[0m\u001b[1;33m\u001b[0m\u001b[0m\n\u001b[0;32m     81\u001b[0m         \u001b[0mpool\u001b[0m\u001b[1;33m.\u001b[0m\u001b[0m_max_workers\u001b[0m\u001b[1;33m,\u001b[0m\u001b[1;33m\u001b[0m\u001b[1;33m\u001b[0m\u001b[0m\n",
      "\u001b[1;32m~\\anaconda3\\lib\\site-packages\\dask\\local.py\u001b[0m in \u001b[0;36mget_async\u001b[1;34m(submit, num_workers, dsk, result, cache, get_id, rerun_exceptions_locally, pack_exception, raise_exception, callbacks, dumps, loads, chunksize, **kwargs)\u001b[0m\n\u001b[0;32m    512\u001b[0m                             \u001b[0m_execute_task\u001b[0m\u001b[1;33m(\u001b[0m\u001b[0mtask\u001b[0m\u001b[1;33m,\u001b[0m \u001b[0mdata\u001b[0m\u001b[1;33m)\u001b[0m  \u001b[1;31m# Re-execute locally\u001b[0m\u001b[1;33m\u001b[0m\u001b[1;33m\u001b[0m\u001b[0m\n\u001b[0;32m    513\u001b[0m                         \u001b[1;32melse\u001b[0m\u001b[1;33m:\u001b[0m\u001b[1;33m\u001b[0m\u001b[1;33m\u001b[0m\u001b[0m\n\u001b[1;32m--> 514\u001b[1;33m                             \u001b[0mraise_exception\u001b[0m\u001b[1;33m(\u001b[0m\u001b[0mexc\u001b[0m\u001b[1;33m,\u001b[0m \u001b[0mtb\u001b[0m\u001b[1;33m)\u001b[0m\u001b[1;33m\u001b[0m\u001b[1;33m\u001b[0m\u001b[0m\n\u001b[0m\u001b[0;32m    515\u001b[0m                     \u001b[0mres\u001b[0m\u001b[1;33m,\u001b[0m \u001b[0mworker_id\u001b[0m \u001b[1;33m=\u001b[0m \u001b[0mloads\u001b[0m\u001b[1;33m(\u001b[0m\u001b[0mres_info\u001b[0m\u001b[1;33m)\u001b[0m\u001b[1;33m\u001b[0m\u001b[1;33m\u001b[0m\u001b[0m\n\u001b[0;32m    516\u001b[0m                     \u001b[0mstate\u001b[0m\u001b[1;33m[\u001b[0m\u001b[1;34m\"cache\"\u001b[0m\u001b[1;33m]\u001b[0m\u001b[1;33m[\u001b[0m\u001b[0mkey\u001b[0m\u001b[1;33m]\u001b[0m \u001b[1;33m=\u001b[0m \u001b[0mres\u001b[0m\u001b[1;33m\u001b[0m\u001b[1;33m\u001b[0m\u001b[0m\n",
      "\u001b[1;32m~\\anaconda3\\lib\\site-packages\\dask\\local.py\u001b[0m in \u001b[0;36mreraise\u001b[1;34m(exc, tb)\u001b[0m\n\u001b[0;32m    323\u001b[0m     \u001b[1;32mif\u001b[0m \u001b[0mexc\u001b[0m\u001b[1;33m.\u001b[0m\u001b[0m__traceback__\u001b[0m \u001b[1;32mis\u001b[0m \u001b[1;32mnot\u001b[0m \u001b[0mtb\u001b[0m\u001b[1;33m:\u001b[0m\u001b[1;33m\u001b[0m\u001b[1;33m\u001b[0m\u001b[0m\n\u001b[0;32m    324\u001b[0m         \u001b[1;32mraise\u001b[0m \u001b[0mexc\u001b[0m\u001b[1;33m.\u001b[0m\u001b[0mwith_traceback\u001b[0m\u001b[1;33m(\u001b[0m\u001b[0mtb\u001b[0m\u001b[1;33m)\u001b[0m\u001b[1;33m\u001b[0m\u001b[1;33m\u001b[0m\u001b[0m\n\u001b[1;32m--> 325\u001b[1;33m     \u001b[1;32mraise\u001b[0m \u001b[0mexc\u001b[0m\u001b[1;33m\u001b[0m\u001b[1;33m\u001b[0m\u001b[0m\n\u001b[0m\u001b[0;32m    326\u001b[0m \u001b[1;33m\u001b[0m\u001b[0m\n\u001b[0;32m    327\u001b[0m \u001b[1;33m\u001b[0m\u001b[0m\n",
      "\u001b[1;32m~\\anaconda3\\lib\\site-packages\\dask\\local.py\u001b[0m in \u001b[0;36mexecute_task\u001b[1;34m(key, task_info, dumps, loads, get_id, pack_exception)\u001b[0m\n\u001b[0;32m    221\u001b[0m     \u001b[1;32mtry\u001b[0m\u001b[1;33m:\u001b[0m\u001b[1;33m\u001b[0m\u001b[1;33m\u001b[0m\u001b[0m\n\u001b[0;32m    222\u001b[0m         \u001b[0mtask\u001b[0m\u001b[1;33m,\u001b[0m \u001b[0mdata\u001b[0m \u001b[1;33m=\u001b[0m \u001b[0mloads\u001b[0m\u001b[1;33m(\u001b[0m\u001b[0mtask_info\u001b[0m\u001b[1;33m)\u001b[0m\u001b[1;33m\u001b[0m\u001b[1;33m\u001b[0m\u001b[0m\n\u001b[1;32m--> 223\u001b[1;33m         \u001b[0mresult\u001b[0m \u001b[1;33m=\u001b[0m \u001b[0m_execute_task\u001b[0m\u001b[1;33m(\u001b[0m\u001b[0mtask\u001b[0m\u001b[1;33m,\u001b[0m \u001b[0mdata\u001b[0m\u001b[1;33m)\u001b[0m\u001b[1;33m\u001b[0m\u001b[1;33m\u001b[0m\u001b[0m\n\u001b[0m\u001b[0;32m    224\u001b[0m         \u001b[0mid\u001b[0m \u001b[1;33m=\u001b[0m \u001b[0mget_id\u001b[0m\u001b[1;33m(\u001b[0m\u001b[1;33m)\u001b[0m\u001b[1;33m\u001b[0m\u001b[1;33m\u001b[0m\u001b[0m\n\u001b[0;32m    225\u001b[0m         \u001b[0mresult\u001b[0m \u001b[1;33m=\u001b[0m \u001b[0mdumps\u001b[0m\u001b[1;33m(\u001b[0m\u001b[1;33m(\u001b[0m\u001b[0mresult\u001b[0m\u001b[1;33m,\u001b[0m \u001b[0mid\u001b[0m\u001b[1;33m)\u001b[0m\u001b[1;33m)\u001b[0m\u001b[1;33m\u001b[0m\u001b[1;33m\u001b[0m\u001b[0m\n",
      "\u001b[1;32m~\\anaconda3\\lib\\site-packages\\dask\\core.py\u001b[0m in \u001b[0;36m_execute_task\u001b[1;34m(arg, cache, dsk)\u001b[0m\n\u001b[0;32m    119\u001b[0m         \u001b[1;31m# temporaries by their reference count and can execute certain\u001b[0m\u001b[1;33m\u001b[0m\u001b[1;33m\u001b[0m\u001b[1;33m\u001b[0m\u001b[0m\n\u001b[0;32m    120\u001b[0m         \u001b[1;31m# operations in-place.\u001b[0m\u001b[1;33m\u001b[0m\u001b[1;33m\u001b[0m\u001b[1;33m\u001b[0m\u001b[0m\n\u001b[1;32m--> 121\u001b[1;33m         \u001b[1;32mreturn\u001b[0m \u001b[0mfunc\u001b[0m\u001b[1;33m(\u001b[0m\u001b[1;33m*\u001b[0m\u001b[1;33m(\u001b[0m\u001b[0m_execute_task\u001b[0m\u001b[1;33m(\u001b[0m\u001b[0ma\u001b[0m\u001b[1;33m,\u001b[0m \u001b[0mcache\u001b[0m\u001b[1;33m)\u001b[0m \u001b[1;32mfor\u001b[0m \u001b[0ma\u001b[0m \u001b[1;32min\u001b[0m \u001b[0margs\u001b[0m\u001b[1;33m)\u001b[0m\u001b[1;33m)\u001b[0m\u001b[1;33m\u001b[0m\u001b[1;33m\u001b[0m\u001b[0m\n\u001b[0m\u001b[0;32m    122\u001b[0m     \u001b[1;32melif\u001b[0m \u001b[1;32mnot\u001b[0m \u001b[0mishashable\u001b[0m\u001b[1;33m(\u001b[0m\u001b[0marg\u001b[0m\u001b[1;33m)\u001b[0m\u001b[1;33m:\u001b[0m\u001b[1;33m\u001b[0m\u001b[1;33m\u001b[0m\u001b[0m\n\u001b[0;32m    123\u001b[0m         \u001b[1;32mreturn\u001b[0m \u001b[0marg\u001b[0m\u001b[1;33m\u001b[0m\u001b[1;33m\u001b[0m\u001b[0m\n",
      "\u001b[1;32m~\\anaconda3\\lib\\site-packages\\dask\\core.py\u001b[0m in \u001b[0;36m<genexpr>\u001b[1;34m(.0)\u001b[0m\n\u001b[0;32m    119\u001b[0m         \u001b[1;31m# temporaries by their reference count and can execute certain\u001b[0m\u001b[1;33m\u001b[0m\u001b[1;33m\u001b[0m\u001b[1;33m\u001b[0m\u001b[0m\n\u001b[0;32m    120\u001b[0m         \u001b[1;31m# operations in-place.\u001b[0m\u001b[1;33m\u001b[0m\u001b[1;33m\u001b[0m\u001b[1;33m\u001b[0m\u001b[0m\n\u001b[1;32m--> 121\u001b[1;33m         \u001b[1;32mreturn\u001b[0m \u001b[0mfunc\u001b[0m\u001b[1;33m(\u001b[0m\u001b[1;33m*\u001b[0m\u001b[1;33m(\u001b[0m\u001b[0m_execute_task\u001b[0m\u001b[1;33m(\u001b[0m\u001b[0ma\u001b[0m\u001b[1;33m,\u001b[0m \u001b[0mcache\u001b[0m\u001b[1;33m)\u001b[0m \u001b[1;32mfor\u001b[0m \u001b[0ma\u001b[0m \u001b[1;32min\u001b[0m \u001b[0margs\u001b[0m\u001b[1;33m)\u001b[0m\u001b[1;33m)\u001b[0m\u001b[1;33m\u001b[0m\u001b[1;33m\u001b[0m\u001b[0m\n\u001b[0m\u001b[0;32m    122\u001b[0m     \u001b[1;32melif\u001b[0m \u001b[1;32mnot\u001b[0m \u001b[0mishashable\u001b[0m\u001b[1;33m(\u001b[0m\u001b[0marg\u001b[0m\u001b[1;33m)\u001b[0m\u001b[1;33m:\u001b[0m\u001b[1;33m\u001b[0m\u001b[1;33m\u001b[0m\u001b[0m\n\u001b[0;32m    123\u001b[0m         \u001b[1;32mreturn\u001b[0m \u001b[0marg\u001b[0m\u001b[1;33m\u001b[0m\u001b[1;33m\u001b[0m\u001b[0m\n",
      "\u001b[1;32m~\\anaconda3\\lib\\site-packages\\dask\\core.py\u001b[0m in \u001b[0;36m_execute_task\u001b[1;34m(arg, cache, dsk)\u001b[0m\n\u001b[0;32m    119\u001b[0m         \u001b[1;31m# temporaries by their reference count and can execute certain\u001b[0m\u001b[1;33m\u001b[0m\u001b[1;33m\u001b[0m\u001b[1;33m\u001b[0m\u001b[0m\n\u001b[0;32m    120\u001b[0m         \u001b[1;31m# operations in-place.\u001b[0m\u001b[1;33m\u001b[0m\u001b[1;33m\u001b[0m\u001b[1;33m\u001b[0m\u001b[0m\n\u001b[1;32m--> 121\u001b[1;33m         \u001b[1;32mreturn\u001b[0m \u001b[0mfunc\u001b[0m\u001b[1;33m(\u001b[0m\u001b[1;33m*\u001b[0m\u001b[1;33m(\u001b[0m\u001b[0m_execute_task\u001b[0m\u001b[1;33m(\u001b[0m\u001b[0ma\u001b[0m\u001b[1;33m,\u001b[0m \u001b[0mcache\u001b[0m\u001b[1;33m)\u001b[0m \u001b[1;32mfor\u001b[0m \u001b[0ma\u001b[0m \u001b[1;32min\u001b[0m \u001b[0margs\u001b[0m\u001b[1;33m)\u001b[0m\u001b[1;33m)\u001b[0m\u001b[1;33m\u001b[0m\u001b[1;33m\u001b[0m\u001b[0m\n\u001b[0m\u001b[0;32m    122\u001b[0m     \u001b[1;32melif\u001b[0m \u001b[1;32mnot\u001b[0m \u001b[0mishashable\u001b[0m\u001b[1;33m(\u001b[0m\u001b[0marg\u001b[0m\u001b[1;33m)\u001b[0m\u001b[1;33m:\u001b[0m\u001b[1;33m\u001b[0m\u001b[1;33m\u001b[0m\u001b[0m\n\u001b[0;32m    123\u001b[0m         \u001b[1;32mreturn\u001b[0m \u001b[0marg\u001b[0m\u001b[1;33m\u001b[0m\u001b[1;33m\u001b[0m\u001b[0m\n",
      "\u001b[1;32m~\\anaconda3\\lib\\site-packages\\dask\\optimization.py\u001b[0m in \u001b[0;36m__call__\u001b[1;34m(self, *args)\u001b[0m\n\u001b[0;32m    961\u001b[0m         \u001b[1;32mif\u001b[0m \u001b[1;32mnot\u001b[0m \u001b[0mlen\u001b[0m\u001b[1;33m(\u001b[0m\u001b[0margs\u001b[0m\u001b[1;33m)\u001b[0m \u001b[1;33m==\u001b[0m \u001b[0mlen\u001b[0m\u001b[1;33m(\u001b[0m\u001b[0mself\u001b[0m\u001b[1;33m.\u001b[0m\u001b[0minkeys\u001b[0m\u001b[1;33m)\u001b[0m\u001b[1;33m:\u001b[0m\u001b[1;33m\u001b[0m\u001b[1;33m\u001b[0m\u001b[0m\n\u001b[0;32m    962\u001b[0m             \u001b[1;32mraise\u001b[0m \u001b[0mValueError\u001b[0m\u001b[1;33m(\u001b[0m\u001b[1;34m\"Expected %d args, got %d\"\u001b[0m \u001b[1;33m%\u001b[0m \u001b[1;33m(\u001b[0m\u001b[0mlen\u001b[0m\u001b[1;33m(\u001b[0m\u001b[0mself\u001b[0m\u001b[1;33m.\u001b[0m\u001b[0minkeys\u001b[0m\u001b[1;33m)\u001b[0m\u001b[1;33m,\u001b[0m \u001b[0mlen\u001b[0m\u001b[1;33m(\u001b[0m\u001b[0margs\u001b[0m\u001b[1;33m)\u001b[0m\u001b[1;33m)\u001b[0m\u001b[1;33m)\u001b[0m\u001b[1;33m\u001b[0m\u001b[1;33m\u001b[0m\u001b[0m\n\u001b[1;32m--> 963\u001b[1;33m         \u001b[1;32mreturn\u001b[0m \u001b[0mcore\u001b[0m\u001b[1;33m.\u001b[0m\u001b[0mget\u001b[0m\u001b[1;33m(\u001b[0m\u001b[0mself\u001b[0m\u001b[1;33m.\u001b[0m\u001b[0mdsk\u001b[0m\u001b[1;33m,\u001b[0m \u001b[0mself\u001b[0m\u001b[1;33m.\u001b[0m\u001b[0moutkey\u001b[0m\u001b[1;33m,\u001b[0m \u001b[0mdict\u001b[0m\u001b[1;33m(\u001b[0m\u001b[0mzip\u001b[0m\u001b[1;33m(\u001b[0m\u001b[0mself\u001b[0m\u001b[1;33m.\u001b[0m\u001b[0minkeys\u001b[0m\u001b[1;33m,\u001b[0m \u001b[0margs\u001b[0m\u001b[1;33m)\u001b[0m\u001b[1;33m)\u001b[0m\u001b[1;33m)\u001b[0m\u001b[1;33m\u001b[0m\u001b[1;33m\u001b[0m\u001b[0m\n\u001b[0m\u001b[0;32m    964\u001b[0m \u001b[1;33m\u001b[0m\u001b[0m\n\u001b[0;32m    965\u001b[0m     \u001b[1;32mdef\u001b[0m \u001b[0m__reduce__\u001b[0m\u001b[1;33m(\u001b[0m\u001b[0mself\u001b[0m\u001b[1;33m)\u001b[0m\u001b[1;33m:\u001b[0m\u001b[1;33m\u001b[0m\u001b[1;33m\u001b[0m\u001b[0m\n",
      "\u001b[1;32m~\\anaconda3\\lib\\site-packages\\dask\\core.py\u001b[0m in \u001b[0;36mget\u001b[1;34m(dsk, out, cache)\u001b[0m\n\u001b[0;32m    149\u001b[0m     \u001b[1;32mfor\u001b[0m \u001b[0mkey\u001b[0m \u001b[1;32min\u001b[0m \u001b[0mtoposort\u001b[0m\u001b[1;33m(\u001b[0m\u001b[0mdsk\u001b[0m\u001b[1;33m)\u001b[0m\u001b[1;33m:\u001b[0m\u001b[1;33m\u001b[0m\u001b[1;33m\u001b[0m\u001b[0m\n\u001b[0;32m    150\u001b[0m         \u001b[0mtask\u001b[0m \u001b[1;33m=\u001b[0m \u001b[0mdsk\u001b[0m\u001b[1;33m[\u001b[0m\u001b[0mkey\u001b[0m\u001b[1;33m]\u001b[0m\u001b[1;33m\u001b[0m\u001b[1;33m\u001b[0m\u001b[0m\n\u001b[1;32m--> 151\u001b[1;33m         \u001b[0mresult\u001b[0m \u001b[1;33m=\u001b[0m \u001b[0m_execute_task\u001b[0m\u001b[1;33m(\u001b[0m\u001b[0mtask\u001b[0m\u001b[1;33m,\u001b[0m \u001b[0mcache\u001b[0m\u001b[1;33m)\u001b[0m\u001b[1;33m\u001b[0m\u001b[1;33m\u001b[0m\u001b[0m\n\u001b[0m\u001b[0;32m    152\u001b[0m         \u001b[0mcache\u001b[0m\u001b[1;33m[\u001b[0m\u001b[0mkey\u001b[0m\u001b[1;33m]\u001b[0m \u001b[1;33m=\u001b[0m \u001b[0mresult\u001b[0m\u001b[1;33m\u001b[0m\u001b[1;33m\u001b[0m\u001b[0m\n\u001b[0;32m    153\u001b[0m     \u001b[0mresult\u001b[0m \u001b[1;33m=\u001b[0m \u001b[0m_execute_task\u001b[0m\u001b[1;33m(\u001b[0m\u001b[0mout\u001b[0m\u001b[1;33m,\u001b[0m \u001b[0mcache\u001b[0m\u001b[1;33m)\u001b[0m\u001b[1;33m\u001b[0m\u001b[1;33m\u001b[0m\u001b[0m\n",
      "\u001b[1;32m~\\anaconda3\\lib\\site-packages\\dask\\core.py\u001b[0m in \u001b[0;36m_execute_task\u001b[1;34m(arg, cache, dsk)\u001b[0m\n\u001b[0;32m    119\u001b[0m         \u001b[1;31m# temporaries by their reference count and can execute certain\u001b[0m\u001b[1;33m\u001b[0m\u001b[1;33m\u001b[0m\u001b[1;33m\u001b[0m\u001b[0m\n\u001b[0;32m    120\u001b[0m         \u001b[1;31m# operations in-place.\u001b[0m\u001b[1;33m\u001b[0m\u001b[1;33m\u001b[0m\u001b[1;33m\u001b[0m\u001b[0m\n\u001b[1;32m--> 121\u001b[1;33m         \u001b[1;32mreturn\u001b[0m \u001b[0mfunc\u001b[0m\u001b[1;33m(\u001b[0m\u001b[1;33m*\u001b[0m\u001b[1;33m(\u001b[0m\u001b[0m_execute_task\u001b[0m\u001b[1;33m(\u001b[0m\u001b[0ma\u001b[0m\u001b[1;33m,\u001b[0m \u001b[0mcache\u001b[0m\u001b[1;33m)\u001b[0m \u001b[1;32mfor\u001b[0m \u001b[0ma\u001b[0m \u001b[1;32min\u001b[0m \u001b[0margs\u001b[0m\u001b[1;33m)\u001b[0m\u001b[1;33m)\u001b[0m\u001b[1;33m\u001b[0m\u001b[1;33m\u001b[0m\u001b[0m\n\u001b[0m\u001b[0;32m    122\u001b[0m     \u001b[1;32melif\u001b[0m \u001b[1;32mnot\u001b[0m \u001b[0mishashable\u001b[0m\u001b[1;33m(\u001b[0m\u001b[0marg\u001b[0m\u001b[1;33m)\u001b[0m\u001b[1;33m:\u001b[0m\u001b[1;33m\u001b[0m\u001b[1;33m\u001b[0m\u001b[0m\n\u001b[0;32m    123\u001b[0m         \u001b[1;32mreturn\u001b[0m \u001b[0marg\u001b[0m\u001b[1;33m\u001b[0m\u001b[1;33m\u001b[0m\u001b[0m\n",
      "\u001b[1;32m~\\anaconda3\\lib\\site-packages\\dask\\utils.py\u001b[0m in \u001b[0;36mapply\u001b[1;34m(func, args, kwargs)\u001b[0m\n\u001b[0;32m     32\u001b[0m \u001b[1;32mdef\u001b[0m \u001b[0mapply\u001b[0m\u001b[1;33m(\u001b[0m\u001b[0mfunc\u001b[0m\u001b[1;33m,\u001b[0m \u001b[0margs\u001b[0m\u001b[1;33m,\u001b[0m \u001b[0mkwargs\u001b[0m\u001b[1;33m=\u001b[0m\u001b[1;32mNone\u001b[0m\u001b[1;33m)\u001b[0m\u001b[1;33m:\u001b[0m\u001b[1;33m\u001b[0m\u001b[1;33m\u001b[0m\u001b[0m\n\u001b[0;32m     33\u001b[0m     \u001b[1;32mif\u001b[0m \u001b[0mkwargs\u001b[0m\u001b[1;33m:\u001b[0m\u001b[1;33m\u001b[0m\u001b[1;33m\u001b[0m\u001b[0m\n\u001b[1;32m---> 34\u001b[1;33m         \u001b[1;32mreturn\u001b[0m \u001b[0mfunc\u001b[0m\u001b[1;33m(\u001b[0m\u001b[1;33m*\u001b[0m\u001b[0margs\u001b[0m\u001b[1;33m,\u001b[0m \u001b[1;33m**\u001b[0m\u001b[0mkwargs\u001b[0m\u001b[1;33m)\u001b[0m\u001b[1;33m\u001b[0m\u001b[1;33m\u001b[0m\u001b[0m\n\u001b[0m\u001b[0;32m     35\u001b[0m     \u001b[1;32melse\u001b[0m\u001b[1;33m:\u001b[0m\u001b[1;33m\u001b[0m\u001b[1;33m\u001b[0m\u001b[0m\n\u001b[0;32m     36\u001b[0m         \u001b[1;32mreturn\u001b[0m \u001b[0mfunc\u001b[0m\u001b[1;33m(\u001b[0m\u001b[1;33m*\u001b[0m\u001b[0margs\u001b[0m\u001b[1;33m)\u001b[0m\u001b[1;33m\u001b[0m\u001b[1;33m\u001b[0m\u001b[0m\n",
      "\u001b[1;32m~\\anaconda3\\lib\\site-packages\\dask\\dataframe\\core.py\u001b[0m in \u001b[0;36mapply_and_enforce\u001b[1;34m(*args, **kwargs)\u001b[0m\n\u001b[0;32m   5668\u001b[0m             \u001b[1;32mreturn\u001b[0m \u001b[0mmeta\u001b[0m\u001b[1;33m\u001b[0m\u001b[1;33m\u001b[0m\u001b[0m\n\u001b[0;32m   5669\u001b[0m         \u001b[1;32mif\u001b[0m \u001b[0mis_dataframe_like\u001b[0m\u001b[1;33m(\u001b[0m\u001b[0mdf\u001b[0m\u001b[1;33m)\u001b[0m\u001b[1;33m:\u001b[0m\u001b[1;33m\u001b[0m\u001b[1;33m\u001b[0m\u001b[0m\n\u001b[1;32m-> 5670\u001b[1;33m             \u001b[0mcheck_matching_columns\u001b[0m\u001b[1;33m(\u001b[0m\u001b[0mmeta\u001b[0m\u001b[1;33m,\u001b[0m \u001b[0mdf\u001b[0m\u001b[1;33m)\u001b[0m\u001b[1;33m\u001b[0m\u001b[1;33m\u001b[0m\u001b[0m\n\u001b[0m\u001b[0;32m   5671\u001b[0m             \u001b[0mc\u001b[0m \u001b[1;33m=\u001b[0m \u001b[0mmeta\u001b[0m\u001b[1;33m.\u001b[0m\u001b[0mcolumns\u001b[0m\u001b[1;33m\u001b[0m\u001b[1;33m\u001b[0m\u001b[0m\n\u001b[0;32m   5672\u001b[0m         \u001b[1;32melse\u001b[0m\u001b[1;33m:\u001b[0m\u001b[1;33m\u001b[0m\u001b[1;33m\u001b[0m\u001b[0m\n",
      "\u001b[1;32m~\\anaconda3\\lib\\site-packages\\dask\\dataframe\\utils.py\u001b[0m in \u001b[0;36mcheck_matching_columns\u001b[1;34m(meta, actual)\u001b[0m\n\u001b[0;32m    692\u001b[0m         \u001b[1;32melse\u001b[0m\u001b[1;33m:\u001b[0m\u001b[1;33m\u001b[0m\u001b[1;33m\u001b[0m\u001b[0m\n\u001b[0;32m    693\u001b[0m             \u001b[0mextra_info\u001b[0m \u001b[1;33m=\u001b[0m \u001b[1;34m\"Order of columns does not match\"\u001b[0m\u001b[1;33m\u001b[0m\u001b[1;33m\u001b[0m\u001b[0m\n\u001b[1;32m--> 694\u001b[1;33m         raise ValueError(\n\u001b[0m\u001b[0;32m    695\u001b[0m             \u001b[1;34m\"The columns in the computed data do not match\"\u001b[0m\u001b[1;33m\u001b[0m\u001b[1;33m\u001b[0m\u001b[0m\n\u001b[0;32m    696\u001b[0m             \u001b[1;34m\" the columns in the provided metadata\\n\"\u001b[0m\u001b[1;33m\u001b[0m\u001b[1;33m\u001b[0m\u001b[0m\n",
      "\u001b[1;31mValueError\u001b[0m: The columns in the computed data do not match the columns in the provided metadata\n  Extra:   ['new_violation']\n  Missing: []"
     ]
    }
   ],
   "source": [
    "df = df.sort_values(['cik'], inplace=True)\n",
    "df = df.reset_index( drop=True)\n",
    "df = df.groupby('cik').apply(cal_new_amendment)"
   ]
  },
  {
   "cell_type": "code",
   "execution_count": null,
   "id": "a36a19bd",
   "metadata": {},
   "outputs": [],
   "source": []
  },
  {
   "cell_type": "code",
   "execution_count": null,
   "id": "7171c93b",
   "metadata": {
    "scrolled": true
   },
   "outputs": [],
   "source": [
    "df.head().compute()"
   ]
  },
  {
   "cell_type": "code",
   "execution_count": null,
   "id": "f213b943",
   "metadata": {},
   "outputs": [],
   "source": [
    "df.loc[df[(df['isviolated'] == 1) & (df['filing_type'] == '10_Q') ].index, 'new_violation'] =1"
   ]
  },
  {
   "cell_type": "code",
   "execution_count": null,
   "id": "199cd89e",
   "metadata": {},
   "outputs": [],
   "source": [
    "df.loc[df[(df['isamended'] == 1) & (df['filing_type'] == '10_Q') ].index, 'new_amendment'] = 1 "
   ]
  },
  {
   "cell_type": "code",
   "execution_count": null,
   "id": "30949d53",
   "metadata": {},
   "outputs": [],
   "source": [
    "# Final mapping for new violation\n",
    "# the case where for a 10-k previous 10-Q are zero \n",
    "flip_index = df[(df['predicted_label']==1) &(df['new_violation']==0) & (df['filing_type'] == '10_K') ].index\n",
    "df.loc[flip_index, 'new_violation'] = 1\n",
    "\n",
    "# the case where for a 10-k previous 10-Q are 1 which means this is not a new violation\n",
    "flip_index = df[(df['predicted_label']==1) & (df['new_violation']==1) & (df['filing_type'] == '10_K') ].index\n",
    "df.loc[flip_index, 'new_violation'] = 0"
   ]
  },
  {
   "cell_type": "code",
   "execution_count": null,
   "id": "82fb0aaa",
   "metadata": {},
   "outputs": [],
   "source": [
    "# Final mapping for new amendment\n",
    "# the case where for a 10-k previous 10-Q are zero \n",
    "flip_index = df[(df['isamended']==1) & (df['new_amendment']==0) & (df['filing_type'] == '10_K') ].index\n",
    "df.loc[flip_index, 'new_amendment'] = 1\n",
    "\n",
    "# the case where for a 10-k previous 10-Q are 1 which means this is not a new violation\n",
    "flip_index = df[(df['isamended']==1) & (df['new_amendment']==1) & (df['filing_type'] == '10_K') ].index\n",
    "df.loc[flip_index, 'new_amendment'] = 0"
   ]
  },
  {
   "cell_type": "code",
   "execution_count": null,
   "id": "9c1cd8e7",
   "metadata": {},
   "outputs": [],
   "source": []
  },
  {
   "cell_type": "code",
   "execution_count": 293,
   "id": "c04a9576",
   "metadata": {},
   "outputs": [
    {
     "data": {
      "text/plain": [
       "1    4104\n",
       "0    1626\n",
       "Name: new_violation, dtype: int64"
      ]
     },
     "execution_count": 293,
     "metadata": {},
     "output_type": "execute_result"
    }
   ],
   "source": [
    "df['new_violation'].value_counts()"
   ]
  },
  {
   "cell_type": "code",
   "execution_count": 294,
   "id": "6e8294ff",
   "metadata": {},
   "outputs": [
    {
     "data": {
      "text/plain": [
       "0    578650\n",
       "1      5766\n",
       "Name: isviolated, dtype: int64"
      ]
     },
     "execution_count": 294,
     "metadata": {},
     "output_type": "execute_result"
    }
   ],
   "source": [
    "df['isviolated'].value_counts()"
   ]
  },
  {
   "cell_type": "code",
   "execution_count": 296,
   "id": "698c6697",
   "metadata": {},
   "outputs": [
    {
     "data": {
      "text/plain": [
       "0    521273\n",
       "1     63143\n",
       "Name: isamended, dtype: int64"
      ]
     },
     "execution_count": 296,
     "metadata": {},
     "output_type": "execute_result"
    }
   ],
   "source": [
    "df['isamended'].value_counts()"
   ]
  },
  {
   "cell_type": "code",
   "execution_count": 362,
   "id": "06a10146",
   "metadata": {},
   "outputs": [
    {
     "data": {
      "text/plain": [
       "1    54593\n",
       "0     8215\n",
       "Name: new_amendment, dtype: int64"
      ]
     },
     "execution_count": 362,
     "metadata": {},
     "output_type": "execute_result"
    }
   ],
   "source": [
    "df['new_amendment'].value_counts()"
   ]
  },
  {
   "cell_type": "code",
   "execution_count": 297,
   "id": "4f76c34b",
   "metadata": {
    "scrolled": true
   },
   "outputs": [
    {
     "data": {
      "text/plain": [
       "0    515507\n",
       "2     63143\n",
       "1      5766\n",
       "Name: predicted_label, dtype: int64"
      ]
     },
     "execution_count": 297,
     "metadata": {},
     "output_type": "execute_result"
    }
   ],
   "source": [
    "df['predicted_label'].value_counts()"
   ]
  },
  {
   "cell_type": "code",
   "execution_count": 298,
   "id": "8a408095",
   "metadata": {},
   "outputs": [
    {
     "data": {
      "text/plain": [
       "(584416, 21)"
      ]
     },
     "execution_count": 298,
     "metadata": {},
     "output_type": "execute_result"
    }
   ],
   "source": [
    "df.shape"
   ]
  },
  {
   "cell_type": "code",
   "execution_count": null,
   "id": "acaa6132",
   "metadata": {},
   "outputs": [],
   "source": []
  },
  {
   "cell_type": "code",
   "execution_count": null,
   "id": "ce3d5c48",
   "metadata": {},
   "outputs": [],
   "source": []
  },
  {
   "cell_type": "code",
   "execution_count": null,
   "id": "b48ce752",
   "metadata": {},
   "outputs": [],
   "source": []
  },
  {
   "cell_type": "code",
   "execution_count": 299,
   "id": "2b1a8f5f",
   "metadata": {},
   "outputs": [
    {
     "data": {
      "text/html": [
       "<div>\n",
       "<style scoped>\n",
       "    .dataframe tbody tr th:only-of-type {\n",
       "        vertical-align: middle;\n",
       "    }\n",
       "\n",
       "    .dataframe tbody tr th {\n",
       "        vertical-align: top;\n",
       "    }\n",
       "\n",
       "    .dataframe thead th {\n",
       "        text-align: right;\n",
       "    }\n",
       "</style>\n",
       "<table border=\"1\" class=\"dataframe\">\n",
       "  <thead>\n",
       "    <tr style=\"text-align: right;\">\n",
       "      <th></th>\n",
       "      <th>file_path</th>\n",
       "      <th>html_path</th>\n",
       "      <th>reporting_date</th>\n",
       "      <th>filing_date</th>\n",
       "      <th>violation_info</th>\n",
       "      <th>ishtml</th>\n",
       "      <th>extraction_data</th>\n",
       "      <th>extraction_data_len</th>\n",
       "      <th>filing_type</th>\n",
       "      <th>year</th>\n",
       "      <th>...</th>\n",
       "      <th>predicted_label</th>\n",
       "      <th>extraction_data_cove</th>\n",
       "      <th>cik</th>\n",
       "      <th>reporting_date_month</th>\n",
       "      <th>quarter_name</th>\n",
       "      <th>isviolated</th>\n",
       "      <th>isamended</th>\n",
       "      <th>next_10k</th>\n",
       "      <th>new_violation</th>\n",
       "      <th>new_amendment</th>\n",
       "    </tr>\n",
       "  </thead>\n",
       "  <tbody>\n",
       "    <tr>\n",
       "      <th>0</th>\n",
       "      <td>F:\\Master_Thesis_NLP\\\\sec_filings_10QK\\1996\\10...</td>\n",
       "      <td>https://www.sec.gov/Archives/edgar/data/20/000...</td>\n",
       "      <td>1996-03-30</td>\n",
       "      <td>1996_05_02</td>\n",
       "      <td>1_2</td>\n",
       "      <td>False</td>\n",
       "      <td>[ND RESULTS OF OPERATIONS                     ...</td>\n",
       "      <td>2</td>\n",
       "      <td>10_Q</td>\n",
       "      <td>1996</td>\n",
       "      <td>...</td>\n",
       "      <td>1</td>\n",
       "      <td>[]</td>\n",
       "      <td>20</td>\n",
       "      <td>3</td>\n",
       "      <td></td>\n",
       "      <td>1</td>\n",
       "      <td>0</td>\n",
       "      <td>4</td>\n",
       "      <td>1</td>\n",
       "      <td>NaN</td>\n",
       "    </tr>\n",
       "    <tr>\n",
       "      <th>1</th>\n",
       "      <td>F:\\Master_Thesis_NLP\\\\sec_filings_10QK\\1996\\10...</td>\n",
       "      <td>https://www.sec.gov/Archives/edgar/data/20/000...</td>\n",
       "      <td>1996-06-29</td>\n",
       "      <td>1996_07_26</td>\n",
       "      <td>1_2</td>\n",
       "      <td>False</td>\n",
       "      <td>[PERATIONS                          SIX MONTHS...</td>\n",
       "      <td>2</td>\n",
       "      <td>10_Q</td>\n",
       "      <td>1996</td>\n",
       "      <td>...</td>\n",
       "      <td>1</td>\n",
       "      <td>[]</td>\n",
       "      <td>20</td>\n",
       "      <td>6</td>\n",
       "      <td></td>\n",
       "      <td>1</td>\n",
       "      <td>0</td>\n",
       "      <td>4</td>\n",
       "      <td>1</td>\n",
       "      <td>NaN</td>\n",
       "    </tr>\n",
       "    <tr>\n",
       "      <th>2</th>\n",
       "      <td>F:\\Master_Thesis_NLP\\\\sec_filings_10QK\\1996\\10...</td>\n",
       "      <td>https://www.sec.gov/Archives/edgar/data/20/000...</td>\n",
       "      <td>1996-09-28</td>\n",
       "      <td>1996_10_30</td>\n",
       "      <td>1_2</td>\n",
       "      <td>False</td>\n",
       "      <td>[TIONS                       NINE MONTHS ENDED...</td>\n",
       "      <td>2</td>\n",
       "      <td>10_Q</td>\n",
       "      <td>1996</td>\n",
       "      <td>...</td>\n",
       "      <td>1</td>\n",
       "      <td>[]</td>\n",
       "      <td>20</td>\n",
       "      <td>9</td>\n",
       "      <td></td>\n",
       "      <td>1</td>\n",
       "      <td>0</td>\n",
       "      <td>4</td>\n",
       "      <td>1</td>\n",
       "      <td>NaN</td>\n",
       "    </tr>\n",
       "    <tr>\n",
       "      <th>3</th>\n",
       "      <td>F:\\Master_Thesis_NLP\\\\sec_filings_10QK\\1996\\10...</td>\n",
       "      <td>https://www.sec.gov/Archives/edgar/data/20/000...</td>\n",
       "      <td>1996-12-28</td>\n",
       "      <td>1997_03_19</td>\n",
       "      <td>1_2</td>\n",
       "      <td>False</td>\n",
       "      <td>[ discontinuance of the Company s other Colort...</td>\n",
       "      <td>1</td>\n",
       "      <td>10_K</td>\n",
       "      <td>1996</td>\n",
       "      <td>...</td>\n",
       "      <td>1</td>\n",
       "      <td>[]</td>\n",
       "      <td>20</td>\n",
       "      <td>12</td>\n",
       "      <td></td>\n",
       "      <td>1</td>\n",
       "      <td>0</td>\n",
       "      <td>4</td>\n",
       "      <td>0</td>\n",
       "      <td>NaN</td>\n",
       "    </tr>\n",
       "    <tr>\n",
       "      <th>4</th>\n",
       "      <td>F:\\Master_Thesis_NLP\\\\sec_filings_10QK\\1997\\10...</td>\n",
       "      <td>https://www.sec.gov/Archives/edgar/data/20/000...</td>\n",
       "      <td>1997-03-29</td>\n",
       "      <td>1997_04_30</td>\n",
       "      <td>0</td>\n",
       "      <td>False</td>\n",
       "      <td>[]</td>\n",
       "      <td>0</td>\n",
       "      <td>10_Q</td>\n",
       "      <td>1997</td>\n",
       "      <td>...</td>\n",
       "      <td>0</td>\n",
       "      <td>None</td>\n",
       "      <td>20</td>\n",
       "      <td>3</td>\n",
       "      <td></td>\n",
       "      <td>0</td>\n",
       "      <td>0</td>\n",
       "      <td>3</td>\n",
       "      <td>NaN</td>\n",
       "      <td>NaN</td>\n",
       "    </tr>\n",
       "  </tbody>\n",
       "</table>\n",
       "<p>5 rows × 21 columns</p>\n",
       "</div>"
      ],
      "text/plain": [
       "                                           file_path  \\\n",
       "0  F:\\Master_Thesis_NLP\\\\sec_filings_10QK\\1996\\10...   \n",
       "1  F:\\Master_Thesis_NLP\\\\sec_filings_10QK\\1996\\10...   \n",
       "2  F:\\Master_Thesis_NLP\\\\sec_filings_10QK\\1996\\10...   \n",
       "3  F:\\Master_Thesis_NLP\\\\sec_filings_10QK\\1996\\10...   \n",
       "4  F:\\Master_Thesis_NLP\\\\sec_filings_10QK\\1997\\10...   \n",
       "\n",
       "                                           html_path reporting_date  \\\n",
       "0  https://www.sec.gov/Archives/edgar/data/20/000...     1996-03-30   \n",
       "1  https://www.sec.gov/Archives/edgar/data/20/000...     1996-06-29   \n",
       "2  https://www.sec.gov/Archives/edgar/data/20/000...     1996-09-28   \n",
       "3  https://www.sec.gov/Archives/edgar/data/20/000...     1996-12-28   \n",
       "4  https://www.sec.gov/Archives/edgar/data/20/000...     1997-03-29   \n",
       "\n",
       "  filing_date violation_info  ishtml  \\\n",
       "0  1996_05_02            1_2   False   \n",
       "1  1996_07_26            1_2   False   \n",
       "2  1996_10_30            1_2   False   \n",
       "3  1997_03_19            1_2   False   \n",
       "4  1997_04_30              0   False   \n",
       "\n",
       "                                     extraction_data  extraction_data_len  \\\n",
       "0  [ND RESULTS OF OPERATIONS                     ...                    2   \n",
       "1  [PERATIONS                          SIX MONTHS...                    2   \n",
       "2  [TIONS                       NINE MONTHS ENDED...                    2   \n",
       "3  [ discontinuance of the Company s other Colort...                    1   \n",
       "4                                                 []                    0   \n",
       "\n",
       "  filing_type  year  ... predicted_label  extraction_data_cove cik  \\\n",
       "0        10_Q  1996  ...               1                    []  20   \n",
       "1        10_Q  1996  ...               1                    []  20   \n",
       "2        10_Q  1996  ...               1                    []  20   \n",
       "3        10_K  1996  ...               1                    []  20   \n",
       "4        10_Q  1997  ...               0                  None  20   \n",
       "\n",
       "   reporting_date_month  quarter_name isviolated  isamended  next_10k  \\\n",
       "0                     3                        1          0         4   \n",
       "1                     6                        1          0         4   \n",
       "2                     9                        1          0         4   \n",
       "3                    12                        1          0         4   \n",
       "4                     3                        0          0         3   \n",
       "\n",
       "   new_violation  new_amendment  \n",
       "0              1            NaN  \n",
       "1              1            NaN  \n",
       "2              1            NaN  \n",
       "3              0            NaN  \n",
       "4            NaN            NaN  \n",
       "\n",
       "[5 rows x 21 columns]"
      ]
     },
     "execution_count": 299,
     "metadata": {},
     "output_type": "execute_result"
    }
   ],
   "source": [
    "df.head()"
   ]
  },
  {
   "cell_type": "code",
   "execution_count": null,
   "id": "4df6452a",
   "metadata": {},
   "outputs": [],
   "source": []
  },
  {
   "cell_type": "code",
   "execution_count": 375,
   "id": "2eba2b3e",
   "metadata": {},
   "outputs": [],
   "source": [
    "\n",
    "\n",
    "plotly_df = df[['year', 'new_violation']].fillna(0).value_counts().to_frame('count').reset_index()"
   ]
  },
  {
   "cell_type": "code",
   "execution_count": 376,
   "id": "5ef3cbaa",
   "metadata": {},
   "outputs": [
    {
     "data": {
      "text/html": [
       "<div>\n",
       "<style scoped>\n",
       "    .dataframe tbody tr th:only-of-type {\n",
       "        vertical-align: middle;\n",
       "    }\n",
       "\n",
       "    .dataframe tbody tr th {\n",
       "        vertical-align: top;\n",
       "    }\n",
       "\n",
       "    .dataframe thead th {\n",
       "        text-align: right;\n",
       "    }\n",
       "</style>\n",
       "<table border=\"1\" class=\"dataframe\">\n",
       "  <thead>\n",
       "    <tr style=\"text-align: right;\">\n",
       "      <th></th>\n",
       "      <th>year</th>\n",
       "      <th>new_violation</th>\n",
       "      <th>count</th>\n",
       "    </tr>\n",
       "  </thead>\n",
       "  <tbody>\n",
       "    <tr>\n",
       "      <th>27</th>\n",
       "      <td>2001</td>\n",
       "      <td>1</td>\n",
       "      <td>383</td>\n",
       "    </tr>\n",
       "    <tr>\n",
       "      <th>28</th>\n",
       "      <td>2002</td>\n",
       "      <td>1</td>\n",
       "      <td>342</td>\n",
       "    </tr>\n",
       "    <tr>\n",
       "      <th>29</th>\n",
       "      <td>1999</td>\n",
       "      <td>1</td>\n",
       "      <td>281</td>\n",
       "    </tr>\n",
       "    <tr>\n",
       "      <th>30</th>\n",
       "      <td>2009</td>\n",
       "      <td>1</td>\n",
       "      <td>259</td>\n",
       "    </tr>\n",
       "    <tr>\n",
       "      <th>31</th>\n",
       "      <td>2000</td>\n",
       "      <td>1</td>\n",
       "      <td>253</td>\n",
       "    </tr>\n",
       "    <tr>\n",
       "      <th>32</th>\n",
       "      <td>1998</td>\n",
       "      <td>1</td>\n",
       "      <td>244</td>\n",
       "    </tr>\n",
       "    <tr>\n",
       "      <th>33</th>\n",
       "      <td>2010</td>\n",
       "      <td>1</td>\n",
       "      <td>219</td>\n",
       "    </tr>\n",
       "    <tr>\n",
       "      <th>34</th>\n",
       "      <td>2003</td>\n",
       "      <td>1</td>\n",
       "      <td>216</td>\n",
       "    </tr>\n",
       "    <tr>\n",
       "      <th>35</th>\n",
       "      <td>1996</td>\n",
       "      <td>1</td>\n",
       "      <td>181</td>\n",
       "    </tr>\n",
       "    <tr>\n",
       "      <th>36</th>\n",
       "      <td>2008</td>\n",
       "      <td>1</td>\n",
       "      <td>170</td>\n",
       "    </tr>\n",
       "    <tr>\n",
       "      <th>37</th>\n",
       "      <td>1997</td>\n",
       "      <td>1</td>\n",
       "      <td>167</td>\n",
       "    </tr>\n",
       "    <tr>\n",
       "      <th>38</th>\n",
       "      <td>2004</td>\n",
       "      <td>1</td>\n",
       "      <td>163</td>\n",
       "    </tr>\n",
       "    <tr>\n",
       "      <th>39</th>\n",
       "      <td>2016</td>\n",
       "      <td>1</td>\n",
       "      <td>153</td>\n",
       "    </tr>\n",
       "    <tr>\n",
       "      <th>40</th>\n",
       "      <td>2013</td>\n",
       "      <td>1</td>\n",
       "      <td>151</td>\n",
       "    </tr>\n",
       "    <tr>\n",
       "      <th>41</th>\n",
       "      <td>2012</td>\n",
       "      <td>1</td>\n",
       "      <td>148</td>\n",
       "    </tr>\n",
       "    <tr>\n",
       "      <th>42</th>\n",
       "      <td>2007</td>\n",
       "      <td>1</td>\n",
       "      <td>143</td>\n",
       "    </tr>\n",
       "    <tr>\n",
       "      <th>43</th>\n",
       "      <td>2017</td>\n",
       "      <td>1</td>\n",
       "      <td>142</td>\n",
       "    </tr>\n",
       "    <tr>\n",
       "      <th>44</th>\n",
       "      <td>2005</td>\n",
       "      <td>1</td>\n",
       "      <td>139</td>\n",
       "    </tr>\n",
       "    <tr>\n",
       "      <th>45</th>\n",
       "      <td>2018</td>\n",
       "      <td>1</td>\n",
       "      <td>132</td>\n",
       "    </tr>\n",
       "    <tr>\n",
       "      <th>46</th>\n",
       "      <td>2006</td>\n",
       "      <td>1</td>\n",
       "      <td>131</td>\n",
       "    </tr>\n",
       "    <tr>\n",
       "      <th>47</th>\n",
       "      <td>2020</td>\n",
       "      <td>1</td>\n",
       "      <td>128</td>\n",
       "    </tr>\n",
       "    <tr>\n",
       "      <th>48</th>\n",
       "      <td>2015</td>\n",
       "      <td>1</td>\n",
       "      <td>122</td>\n",
       "    </tr>\n",
       "    <tr>\n",
       "      <th>49</th>\n",
       "      <td>2011</td>\n",
       "      <td>1</td>\n",
       "      <td>107</td>\n",
       "    </tr>\n",
       "    <tr>\n",
       "      <th>50</th>\n",
       "      <td>2014</td>\n",
       "      <td>1</td>\n",
       "      <td>104</td>\n",
       "    </tr>\n",
       "    <tr>\n",
       "      <th>51</th>\n",
       "      <td>2019</td>\n",
       "      <td>1</td>\n",
       "      <td>96</td>\n",
       "    </tr>\n",
       "    <tr>\n",
       "      <th>52</th>\n",
       "      <td>2022</td>\n",
       "      <td>1</td>\n",
       "      <td>63</td>\n",
       "    </tr>\n",
       "    <tr>\n",
       "      <th>53</th>\n",
       "      <td>2021</td>\n",
       "      <td>1</td>\n",
       "      <td>57</td>\n",
       "    </tr>\n",
       "  </tbody>\n",
       "</table>\n",
       "</div>"
      ],
      "text/plain": [
       "    year  new_violation  count\n",
       "27  2001              1    383\n",
       "28  2002              1    342\n",
       "29  1999              1    281\n",
       "30  2009              1    259\n",
       "31  2000              1    253\n",
       "32  1998              1    244\n",
       "33  2010              1    219\n",
       "34  2003              1    216\n",
       "35  1996              1    181\n",
       "36  2008              1    170\n",
       "37  1997              1    167\n",
       "38  2004              1    163\n",
       "39  2016              1    153\n",
       "40  2013              1    151\n",
       "41  2012              1    148\n",
       "42  2007              1    143\n",
       "43  2017              1    142\n",
       "44  2005              1    139\n",
       "45  2018              1    132\n",
       "46  2006              1    131\n",
       "47  2020              1    128\n",
       "48  2015              1    122\n",
       "49  2011              1    107\n",
       "50  2014              1    104\n",
       "51  2019              1     96\n",
       "52  2022              1     63\n",
       "53  2021              1     57"
      ]
     },
     "execution_count": 376,
     "metadata": {},
     "output_type": "execute_result"
    }
   ],
   "source": [
    "plotly_df[plotly_df['new_violation']==1]"
   ]
  },
  {
   "cell_type": "code",
   "execution_count": 377,
   "id": "151366e0",
   "metadata": {},
   "outputs": [
    {
     "data": {
      "application/vnd.plotly.v1+json": {
       "config": {
        "plotlyServerURL": "https://plot.ly"
       },
       "data": [
        {
         "alignmentgroup": "True",
         "hovertemplate": "year=%{x}<br>count=%{y}<extra></extra>",
         "legendgroup": "",
         "marker": {
          "color": "#31417A",
          "pattern": {
           "shape": ""
          }
         },
         "name": "",
         "offsetgroup": "",
         "orientation": "v",
         "showlegend": false,
         "textposition": "auto",
         "type": "bar",
         "x": [
          2001,
          2002,
          1999,
          2009,
          2000,
          1998,
          2010,
          2003,
          1996,
          2008,
          1997,
          2004,
          2016,
          2013,
          2012,
          2007,
          2017,
          2005,
          2018,
          2006,
          2020,
          2015,
          2011,
          2014,
          2019,
          2022,
          2021
         ],
         "xaxis": "x",
         "y": [
          383,
          342,
          281,
          259,
          253,
          244,
          219,
          216,
          181,
          170,
          167,
          163,
          153,
          151,
          148,
          143,
          142,
          139,
          132,
          131,
          128,
          122,
          107,
          104,
          96,
          63,
          57
         ],
         "yaxis": "y"
        }
       ],
       "layout": {
        "barmode": "relative",
        "font": {
         "family": "Times New Roman"
        },
        "legend": {
         "tracegroupgap": 0
        },
        "plot_bgcolor": "#f2f2f2",
        "template": {
         "data": {
          "bar": [
           {
            "error_x": {
             "color": "#2a3f5f"
            },
            "error_y": {
             "color": "#2a3f5f"
            },
            "marker": {
             "line": {
              "color": "#E5ECF6",
              "width": 0.5
             },
             "pattern": {
              "fillmode": "overlay",
              "size": 10,
              "solidity": 0.2
             }
            },
            "type": "bar"
           }
          ],
          "barpolar": [
           {
            "marker": {
             "line": {
              "color": "#E5ECF6",
              "width": 0.5
             },
             "pattern": {
              "fillmode": "overlay",
              "size": 10,
              "solidity": 0.2
             }
            },
            "type": "barpolar"
           }
          ],
          "carpet": [
           {
            "aaxis": {
             "endlinecolor": "#2a3f5f",
             "gridcolor": "white",
             "linecolor": "white",
             "minorgridcolor": "white",
             "startlinecolor": "#2a3f5f"
            },
            "baxis": {
             "endlinecolor": "#2a3f5f",
             "gridcolor": "white",
             "linecolor": "white",
             "minorgridcolor": "white",
             "startlinecolor": "#2a3f5f"
            },
            "type": "carpet"
           }
          ],
          "choropleth": [
           {
            "colorbar": {
             "outlinewidth": 0,
             "ticks": ""
            },
            "type": "choropleth"
           }
          ],
          "contour": [
           {
            "colorbar": {
             "outlinewidth": 0,
             "ticks": ""
            },
            "colorscale": [
             [
              0,
              "#0d0887"
             ],
             [
              0.1111111111111111,
              "#46039f"
             ],
             [
              0.2222222222222222,
              "#7201a8"
             ],
             [
              0.3333333333333333,
              "#9c179e"
             ],
             [
              0.4444444444444444,
              "#bd3786"
             ],
             [
              0.5555555555555556,
              "#d8576b"
             ],
             [
              0.6666666666666666,
              "#ed7953"
             ],
             [
              0.7777777777777778,
              "#fb9f3a"
             ],
             [
              0.8888888888888888,
              "#fdca26"
             ],
             [
              1,
              "#f0f921"
             ]
            ],
            "type": "contour"
           }
          ],
          "contourcarpet": [
           {
            "colorbar": {
             "outlinewidth": 0,
             "ticks": ""
            },
            "type": "contourcarpet"
           }
          ],
          "heatmap": [
           {
            "colorbar": {
             "outlinewidth": 0,
             "ticks": ""
            },
            "colorscale": [
             [
              0,
              "#0d0887"
             ],
             [
              0.1111111111111111,
              "#46039f"
             ],
             [
              0.2222222222222222,
              "#7201a8"
             ],
             [
              0.3333333333333333,
              "#9c179e"
             ],
             [
              0.4444444444444444,
              "#bd3786"
             ],
             [
              0.5555555555555556,
              "#d8576b"
             ],
             [
              0.6666666666666666,
              "#ed7953"
             ],
             [
              0.7777777777777778,
              "#fb9f3a"
             ],
             [
              0.8888888888888888,
              "#fdca26"
             ],
             [
              1,
              "#f0f921"
             ]
            ],
            "type": "heatmap"
           }
          ],
          "heatmapgl": [
           {
            "colorbar": {
             "outlinewidth": 0,
             "ticks": ""
            },
            "colorscale": [
             [
              0,
              "#0d0887"
             ],
             [
              0.1111111111111111,
              "#46039f"
             ],
             [
              0.2222222222222222,
              "#7201a8"
             ],
             [
              0.3333333333333333,
              "#9c179e"
             ],
             [
              0.4444444444444444,
              "#bd3786"
             ],
             [
              0.5555555555555556,
              "#d8576b"
             ],
             [
              0.6666666666666666,
              "#ed7953"
             ],
             [
              0.7777777777777778,
              "#fb9f3a"
             ],
             [
              0.8888888888888888,
              "#fdca26"
             ],
             [
              1,
              "#f0f921"
             ]
            ],
            "type": "heatmapgl"
           }
          ],
          "histogram": [
           {
            "marker": {
             "pattern": {
              "fillmode": "overlay",
              "size": 10,
              "solidity": 0.2
             }
            },
            "type": "histogram"
           }
          ],
          "histogram2d": [
           {
            "colorbar": {
             "outlinewidth": 0,
             "ticks": ""
            },
            "colorscale": [
             [
              0,
              "#0d0887"
             ],
             [
              0.1111111111111111,
              "#46039f"
             ],
             [
              0.2222222222222222,
              "#7201a8"
             ],
             [
              0.3333333333333333,
              "#9c179e"
             ],
             [
              0.4444444444444444,
              "#bd3786"
             ],
             [
              0.5555555555555556,
              "#d8576b"
             ],
             [
              0.6666666666666666,
              "#ed7953"
             ],
             [
              0.7777777777777778,
              "#fb9f3a"
             ],
             [
              0.8888888888888888,
              "#fdca26"
             ],
             [
              1,
              "#f0f921"
             ]
            ],
            "type": "histogram2d"
           }
          ],
          "histogram2dcontour": [
           {
            "colorbar": {
             "outlinewidth": 0,
             "ticks": ""
            },
            "colorscale": [
             [
              0,
              "#0d0887"
             ],
             [
              0.1111111111111111,
              "#46039f"
             ],
             [
              0.2222222222222222,
              "#7201a8"
             ],
             [
              0.3333333333333333,
              "#9c179e"
             ],
             [
              0.4444444444444444,
              "#bd3786"
             ],
             [
              0.5555555555555556,
              "#d8576b"
             ],
             [
              0.6666666666666666,
              "#ed7953"
             ],
             [
              0.7777777777777778,
              "#fb9f3a"
             ],
             [
              0.8888888888888888,
              "#fdca26"
             ],
             [
              1,
              "#f0f921"
             ]
            ],
            "type": "histogram2dcontour"
           }
          ],
          "mesh3d": [
           {
            "colorbar": {
             "outlinewidth": 0,
             "ticks": ""
            },
            "type": "mesh3d"
           }
          ],
          "parcoords": [
           {
            "line": {
             "colorbar": {
              "outlinewidth": 0,
              "ticks": ""
             }
            },
            "type": "parcoords"
           }
          ],
          "pie": [
           {
            "automargin": true,
            "type": "pie"
           }
          ],
          "scatter": [
           {
            "fillpattern": {
             "fillmode": "overlay",
             "size": 10,
             "solidity": 0.2
            },
            "type": "scatter"
           }
          ],
          "scatter3d": [
           {
            "line": {
             "colorbar": {
              "outlinewidth": 0,
              "ticks": ""
             }
            },
            "marker": {
             "colorbar": {
              "outlinewidth": 0,
              "ticks": ""
             }
            },
            "type": "scatter3d"
           }
          ],
          "scattercarpet": [
           {
            "marker": {
             "colorbar": {
              "outlinewidth": 0,
              "ticks": ""
             }
            },
            "type": "scattercarpet"
           }
          ],
          "scattergeo": [
           {
            "marker": {
             "colorbar": {
              "outlinewidth": 0,
              "ticks": ""
             }
            },
            "type": "scattergeo"
           }
          ],
          "scattergl": [
           {
            "marker": {
             "colorbar": {
              "outlinewidth": 0,
              "ticks": ""
             }
            },
            "type": "scattergl"
           }
          ],
          "scattermapbox": [
           {
            "marker": {
             "colorbar": {
              "outlinewidth": 0,
              "ticks": ""
             }
            },
            "type": "scattermapbox"
           }
          ],
          "scatterpolar": [
           {
            "marker": {
             "colorbar": {
              "outlinewidth": 0,
              "ticks": ""
             }
            },
            "type": "scatterpolar"
           }
          ],
          "scatterpolargl": [
           {
            "marker": {
             "colorbar": {
              "outlinewidth": 0,
              "ticks": ""
             }
            },
            "type": "scatterpolargl"
           }
          ],
          "scatterternary": [
           {
            "marker": {
             "colorbar": {
              "outlinewidth": 0,
              "ticks": ""
             }
            },
            "type": "scatterternary"
           }
          ],
          "surface": [
           {
            "colorbar": {
             "outlinewidth": 0,
             "ticks": ""
            },
            "colorscale": [
             [
              0,
              "#0d0887"
             ],
             [
              0.1111111111111111,
              "#46039f"
             ],
             [
              0.2222222222222222,
              "#7201a8"
             ],
             [
              0.3333333333333333,
              "#9c179e"
             ],
             [
              0.4444444444444444,
              "#bd3786"
             ],
             [
              0.5555555555555556,
              "#d8576b"
             ],
             [
              0.6666666666666666,
              "#ed7953"
             ],
             [
              0.7777777777777778,
              "#fb9f3a"
             ],
             [
              0.8888888888888888,
              "#fdca26"
             ],
             [
              1,
              "#f0f921"
             ]
            ],
            "type": "surface"
           }
          ],
          "table": [
           {
            "cells": {
             "fill": {
              "color": "#EBF0F8"
             },
             "line": {
              "color": "white"
             }
            },
            "header": {
             "fill": {
              "color": "#C8D4E3"
             },
             "line": {
              "color": "white"
             }
            },
            "type": "table"
           }
          ]
         },
         "layout": {
          "annotationdefaults": {
           "arrowcolor": "#2a3f5f",
           "arrowhead": 0,
           "arrowwidth": 1
          },
          "autotypenumbers": "strict",
          "coloraxis": {
           "colorbar": {
            "outlinewidth": 0,
            "ticks": ""
           }
          },
          "colorscale": {
           "diverging": [
            [
             0,
             "#8e0152"
            ],
            [
             0.1,
             "#c51b7d"
            ],
            [
             0.2,
             "#de77ae"
            ],
            [
             0.3,
             "#f1b6da"
            ],
            [
             0.4,
             "#fde0ef"
            ],
            [
             0.5,
             "#f7f7f7"
            ],
            [
             0.6,
             "#e6f5d0"
            ],
            [
             0.7,
             "#b8e186"
            ],
            [
             0.8,
             "#7fbc41"
            ],
            [
             0.9,
             "#4d9221"
            ],
            [
             1,
             "#276419"
            ]
           ],
           "sequential": [
            [
             0,
             "#0d0887"
            ],
            [
             0.1111111111111111,
             "#46039f"
            ],
            [
             0.2222222222222222,
             "#7201a8"
            ],
            [
             0.3333333333333333,
             "#9c179e"
            ],
            [
             0.4444444444444444,
             "#bd3786"
            ],
            [
             0.5555555555555556,
             "#d8576b"
            ],
            [
             0.6666666666666666,
             "#ed7953"
            ],
            [
             0.7777777777777778,
             "#fb9f3a"
            ],
            [
             0.8888888888888888,
             "#fdca26"
            ],
            [
             1,
             "#f0f921"
            ]
           ],
           "sequentialminus": [
            [
             0,
             "#0d0887"
            ],
            [
             0.1111111111111111,
             "#46039f"
            ],
            [
             0.2222222222222222,
             "#7201a8"
            ],
            [
             0.3333333333333333,
             "#9c179e"
            ],
            [
             0.4444444444444444,
             "#bd3786"
            ],
            [
             0.5555555555555556,
             "#d8576b"
            ],
            [
             0.6666666666666666,
             "#ed7953"
            ],
            [
             0.7777777777777778,
             "#fb9f3a"
            ],
            [
             0.8888888888888888,
             "#fdca26"
            ],
            [
             1,
             "#f0f921"
            ]
           ]
          },
          "colorway": [
           "#636efa",
           "#EF553B",
           "#00cc96",
           "#ab63fa",
           "#FFA15A",
           "#19d3f3",
           "#FF6692",
           "#B6E880",
           "#FF97FF",
           "#FECB52"
          ],
          "font": {
           "color": "#2a3f5f"
          },
          "geo": {
           "bgcolor": "white",
           "lakecolor": "white",
           "landcolor": "#E5ECF6",
           "showlakes": true,
           "showland": true,
           "subunitcolor": "white"
          },
          "hoverlabel": {
           "align": "left"
          },
          "hovermode": "closest",
          "mapbox": {
           "style": "light"
          },
          "paper_bgcolor": "white",
          "plot_bgcolor": "#E5ECF6",
          "polar": {
           "angularaxis": {
            "gridcolor": "white",
            "linecolor": "white",
            "ticks": ""
           },
           "bgcolor": "#E5ECF6",
           "radialaxis": {
            "gridcolor": "white",
            "linecolor": "white",
            "ticks": ""
           }
          },
          "scene": {
           "xaxis": {
            "backgroundcolor": "#E5ECF6",
            "gridcolor": "white",
            "gridwidth": 2,
            "linecolor": "white",
            "showbackground": true,
            "ticks": "",
            "zerolinecolor": "white"
           },
           "yaxis": {
            "backgroundcolor": "#E5ECF6",
            "gridcolor": "white",
            "gridwidth": 2,
            "linecolor": "white",
            "showbackground": true,
            "ticks": "",
            "zerolinecolor": "white"
           },
           "zaxis": {
            "backgroundcolor": "#E5ECF6",
            "gridcolor": "white",
            "gridwidth": 2,
            "linecolor": "white",
            "showbackground": true,
            "ticks": "",
            "zerolinecolor": "white"
           }
          },
          "shapedefaults": {
           "line": {
            "color": "#2a3f5f"
           }
          },
          "ternary": {
           "aaxis": {
            "gridcolor": "white",
            "linecolor": "white",
            "ticks": ""
           },
           "baxis": {
            "gridcolor": "white",
            "linecolor": "white",
            "ticks": ""
           },
           "bgcolor": "#E5ECF6",
           "caxis": {
            "gridcolor": "white",
            "linecolor": "white",
            "ticks": ""
           }
          },
          "title": {
           "x": 0.05
          },
          "xaxis": {
           "automargin": true,
           "gridcolor": "white",
           "linecolor": "white",
           "ticks": "",
           "title": {
            "standoff": 15
           },
           "zerolinecolor": "white",
           "zerolinewidth": 2
          },
          "yaxis": {
           "automargin": true,
           "gridcolor": "white",
           "linecolor": "white",
           "ticks": "",
           "title": {
            "standoff": 15
           },
           "zerolinecolor": "white",
           "zerolinewidth": 2
          }
         }
        },
        "title": {
         "font": {
          "family": "Times New Roman"
         },
         "text": "10Q/K Violations Count over the year",
         "x": 0.5,
         "xanchor": "center",
         "y": 0.9,
         "yanchor": "top"
        },
        "xaxis": {
         "anchor": "y",
         "domain": [
          0,
          1
         ],
         "showgrid": false,
         "title": {
          "text": "Year"
         }
        },
        "yaxis": {
         "anchor": "x",
         "domain": [
          0,
          1
         ],
         "showgrid": false,
         "title": {
          "text": "Count of violation cases"
         }
        }
       }
      },
      "text/html": [
       "<div>                            <div id=\"b38e1874-2f58-4966-9fe8-396615fa7a41\" class=\"plotly-graph-div\" style=\"height:525px; width:100%;\"></div>            <script type=\"text/javascript\">                require([\"plotly\"], function(Plotly) {                    window.PLOTLYENV=window.PLOTLYENV || {};                                    if (document.getElementById(\"b38e1874-2f58-4966-9fe8-396615fa7a41\")) {                    Plotly.newPlot(                        \"b38e1874-2f58-4966-9fe8-396615fa7a41\",                        [{\"alignmentgroup\":\"True\",\"hovertemplate\":\"year=%{x}<br>count=%{y}<extra></extra>\",\"legendgroup\":\"\",\"marker\":{\"color\":\"#31417A\",\"pattern\":{\"shape\":\"\"}},\"name\":\"\",\"offsetgroup\":\"\",\"orientation\":\"v\",\"showlegend\":false,\"textposition\":\"auto\",\"x\":[2001.0,2002.0,1999.0,2009.0,2000.0,1998.0,2010.0,2003.0,1996.0,2008.0,1997.0,2004.0,2016.0,2013.0,2012.0,2007.0,2017.0,2005.0,2018.0,2006.0,2020.0,2015.0,2011.0,2014.0,2019.0,2022.0,2021.0],\"xaxis\":\"x\",\"y\":[383,342,281,259,253,244,219,216,181,170,167,163,153,151,148,143,142,139,132,131,128,122,107,104,96,63,57],\"yaxis\":\"y\",\"type\":\"bar\"}],                        {\"template\":{\"data\":{\"histogram2dcontour\":[{\"type\":\"histogram2dcontour\",\"colorbar\":{\"outlinewidth\":0,\"ticks\":\"\"},\"colorscale\":[[0.0,\"#0d0887\"],[0.1111111111111111,\"#46039f\"],[0.2222222222222222,\"#7201a8\"],[0.3333333333333333,\"#9c179e\"],[0.4444444444444444,\"#bd3786\"],[0.5555555555555556,\"#d8576b\"],[0.6666666666666666,\"#ed7953\"],[0.7777777777777778,\"#fb9f3a\"],[0.8888888888888888,\"#fdca26\"],[1.0,\"#f0f921\"]]}],\"choropleth\":[{\"type\":\"choropleth\",\"colorbar\":{\"outlinewidth\":0,\"ticks\":\"\"}}],\"histogram2d\":[{\"type\":\"histogram2d\",\"colorbar\":{\"outlinewidth\":0,\"ticks\":\"\"},\"colorscale\":[[0.0,\"#0d0887\"],[0.1111111111111111,\"#46039f\"],[0.2222222222222222,\"#7201a8\"],[0.3333333333333333,\"#9c179e\"],[0.4444444444444444,\"#bd3786\"],[0.5555555555555556,\"#d8576b\"],[0.6666666666666666,\"#ed7953\"],[0.7777777777777778,\"#fb9f3a\"],[0.8888888888888888,\"#fdca26\"],[1.0,\"#f0f921\"]]}],\"heatmap\":[{\"type\":\"heatmap\",\"colorbar\":{\"outlinewidth\":0,\"ticks\":\"\"},\"colorscale\":[[0.0,\"#0d0887\"],[0.1111111111111111,\"#46039f\"],[0.2222222222222222,\"#7201a8\"],[0.3333333333333333,\"#9c179e\"],[0.4444444444444444,\"#bd3786\"],[0.5555555555555556,\"#d8576b\"],[0.6666666666666666,\"#ed7953\"],[0.7777777777777778,\"#fb9f3a\"],[0.8888888888888888,\"#fdca26\"],[1.0,\"#f0f921\"]]}],\"heatmapgl\":[{\"type\":\"heatmapgl\",\"colorbar\":{\"outlinewidth\":0,\"ticks\":\"\"},\"colorscale\":[[0.0,\"#0d0887\"],[0.1111111111111111,\"#46039f\"],[0.2222222222222222,\"#7201a8\"],[0.3333333333333333,\"#9c179e\"],[0.4444444444444444,\"#bd3786\"],[0.5555555555555556,\"#d8576b\"],[0.6666666666666666,\"#ed7953\"],[0.7777777777777778,\"#fb9f3a\"],[0.8888888888888888,\"#fdca26\"],[1.0,\"#f0f921\"]]}],\"contourcarpet\":[{\"type\":\"contourcarpet\",\"colorbar\":{\"outlinewidth\":0,\"ticks\":\"\"}}],\"contour\":[{\"type\":\"contour\",\"colorbar\":{\"outlinewidth\":0,\"ticks\":\"\"},\"colorscale\":[[0.0,\"#0d0887\"],[0.1111111111111111,\"#46039f\"],[0.2222222222222222,\"#7201a8\"],[0.3333333333333333,\"#9c179e\"],[0.4444444444444444,\"#bd3786\"],[0.5555555555555556,\"#d8576b\"],[0.6666666666666666,\"#ed7953\"],[0.7777777777777778,\"#fb9f3a\"],[0.8888888888888888,\"#fdca26\"],[1.0,\"#f0f921\"]]}],\"surface\":[{\"type\":\"surface\",\"colorbar\":{\"outlinewidth\":0,\"ticks\":\"\"},\"colorscale\":[[0.0,\"#0d0887\"],[0.1111111111111111,\"#46039f\"],[0.2222222222222222,\"#7201a8\"],[0.3333333333333333,\"#9c179e\"],[0.4444444444444444,\"#bd3786\"],[0.5555555555555556,\"#d8576b\"],[0.6666666666666666,\"#ed7953\"],[0.7777777777777778,\"#fb9f3a\"],[0.8888888888888888,\"#fdca26\"],[1.0,\"#f0f921\"]]}],\"mesh3d\":[{\"type\":\"mesh3d\",\"colorbar\":{\"outlinewidth\":0,\"ticks\":\"\"}}],\"scatter\":[{\"fillpattern\":{\"fillmode\":\"overlay\",\"size\":10,\"solidity\":0.2},\"type\":\"scatter\"}],\"parcoords\":[{\"type\":\"parcoords\",\"line\":{\"colorbar\":{\"outlinewidth\":0,\"ticks\":\"\"}}}],\"scatterpolargl\":[{\"type\":\"scatterpolargl\",\"marker\":{\"colorbar\":{\"outlinewidth\":0,\"ticks\":\"\"}}}],\"bar\":[{\"error_x\":{\"color\":\"#2a3f5f\"},\"error_y\":{\"color\":\"#2a3f5f\"},\"marker\":{\"line\":{\"color\":\"#E5ECF6\",\"width\":0.5},\"pattern\":{\"fillmode\":\"overlay\",\"size\":10,\"solidity\":0.2}},\"type\":\"bar\"}],\"scattergeo\":[{\"type\":\"scattergeo\",\"marker\":{\"colorbar\":{\"outlinewidth\":0,\"ticks\":\"\"}}}],\"scatterpolar\":[{\"type\":\"scatterpolar\",\"marker\":{\"colorbar\":{\"outlinewidth\":0,\"ticks\":\"\"}}}],\"histogram\":[{\"marker\":{\"pattern\":{\"fillmode\":\"overlay\",\"size\":10,\"solidity\":0.2}},\"type\":\"histogram\"}],\"scattergl\":[{\"type\":\"scattergl\",\"marker\":{\"colorbar\":{\"outlinewidth\":0,\"ticks\":\"\"}}}],\"scatter3d\":[{\"type\":\"scatter3d\",\"line\":{\"colorbar\":{\"outlinewidth\":0,\"ticks\":\"\"}},\"marker\":{\"colorbar\":{\"outlinewidth\":0,\"ticks\":\"\"}}}],\"scattermapbox\":[{\"type\":\"scattermapbox\",\"marker\":{\"colorbar\":{\"outlinewidth\":0,\"ticks\":\"\"}}}],\"scatterternary\":[{\"type\":\"scatterternary\",\"marker\":{\"colorbar\":{\"outlinewidth\":0,\"ticks\":\"\"}}}],\"scattercarpet\":[{\"type\":\"scattercarpet\",\"marker\":{\"colorbar\":{\"outlinewidth\":0,\"ticks\":\"\"}}}],\"carpet\":[{\"aaxis\":{\"endlinecolor\":\"#2a3f5f\",\"gridcolor\":\"white\",\"linecolor\":\"white\",\"minorgridcolor\":\"white\",\"startlinecolor\":\"#2a3f5f\"},\"baxis\":{\"endlinecolor\":\"#2a3f5f\",\"gridcolor\":\"white\",\"linecolor\":\"white\",\"minorgridcolor\":\"white\",\"startlinecolor\":\"#2a3f5f\"},\"type\":\"carpet\"}],\"table\":[{\"cells\":{\"fill\":{\"color\":\"#EBF0F8\"},\"line\":{\"color\":\"white\"}},\"header\":{\"fill\":{\"color\":\"#C8D4E3\"},\"line\":{\"color\":\"white\"}},\"type\":\"table\"}],\"barpolar\":[{\"marker\":{\"line\":{\"color\":\"#E5ECF6\",\"width\":0.5},\"pattern\":{\"fillmode\":\"overlay\",\"size\":10,\"solidity\":0.2}},\"type\":\"barpolar\"}],\"pie\":[{\"automargin\":true,\"type\":\"pie\"}]},\"layout\":{\"autotypenumbers\":\"strict\",\"colorway\":[\"#636efa\",\"#EF553B\",\"#00cc96\",\"#ab63fa\",\"#FFA15A\",\"#19d3f3\",\"#FF6692\",\"#B6E880\",\"#FF97FF\",\"#FECB52\"],\"font\":{\"color\":\"#2a3f5f\"},\"hovermode\":\"closest\",\"hoverlabel\":{\"align\":\"left\"},\"paper_bgcolor\":\"white\",\"plot_bgcolor\":\"#E5ECF6\",\"polar\":{\"bgcolor\":\"#E5ECF6\",\"angularaxis\":{\"gridcolor\":\"white\",\"linecolor\":\"white\",\"ticks\":\"\"},\"radialaxis\":{\"gridcolor\":\"white\",\"linecolor\":\"white\",\"ticks\":\"\"}},\"ternary\":{\"bgcolor\":\"#E5ECF6\",\"aaxis\":{\"gridcolor\":\"white\",\"linecolor\":\"white\",\"ticks\":\"\"},\"baxis\":{\"gridcolor\":\"white\",\"linecolor\":\"white\",\"ticks\":\"\"},\"caxis\":{\"gridcolor\":\"white\",\"linecolor\":\"white\",\"ticks\":\"\"}},\"coloraxis\":{\"colorbar\":{\"outlinewidth\":0,\"ticks\":\"\"}},\"colorscale\":{\"sequential\":[[0.0,\"#0d0887\"],[0.1111111111111111,\"#46039f\"],[0.2222222222222222,\"#7201a8\"],[0.3333333333333333,\"#9c179e\"],[0.4444444444444444,\"#bd3786\"],[0.5555555555555556,\"#d8576b\"],[0.6666666666666666,\"#ed7953\"],[0.7777777777777778,\"#fb9f3a\"],[0.8888888888888888,\"#fdca26\"],[1.0,\"#f0f921\"]],\"sequentialminus\":[[0.0,\"#0d0887\"],[0.1111111111111111,\"#46039f\"],[0.2222222222222222,\"#7201a8\"],[0.3333333333333333,\"#9c179e\"],[0.4444444444444444,\"#bd3786\"],[0.5555555555555556,\"#d8576b\"],[0.6666666666666666,\"#ed7953\"],[0.7777777777777778,\"#fb9f3a\"],[0.8888888888888888,\"#fdca26\"],[1.0,\"#f0f921\"]],\"diverging\":[[0,\"#8e0152\"],[0.1,\"#c51b7d\"],[0.2,\"#de77ae\"],[0.3,\"#f1b6da\"],[0.4,\"#fde0ef\"],[0.5,\"#f7f7f7\"],[0.6,\"#e6f5d0\"],[0.7,\"#b8e186\"],[0.8,\"#7fbc41\"],[0.9,\"#4d9221\"],[1,\"#276419\"]]},\"xaxis\":{\"gridcolor\":\"white\",\"linecolor\":\"white\",\"ticks\":\"\",\"title\":{\"standoff\":15},\"zerolinecolor\":\"white\",\"automargin\":true,\"zerolinewidth\":2},\"yaxis\":{\"gridcolor\":\"white\",\"linecolor\":\"white\",\"ticks\":\"\",\"title\":{\"standoff\":15},\"zerolinecolor\":\"white\",\"automargin\":true,\"zerolinewidth\":2},\"scene\":{\"xaxis\":{\"backgroundcolor\":\"#E5ECF6\",\"gridcolor\":\"white\",\"linecolor\":\"white\",\"showbackground\":true,\"ticks\":\"\",\"zerolinecolor\":\"white\",\"gridwidth\":2},\"yaxis\":{\"backgroundcolor\":\"#E5ECF6\",\"gridcolor\":\"white\",\"linecolor\":\"white\",\"showbackground\":true,\"ticks\":\"\",\"zerolinecolor\":\"white\",\"gridwidth\":2},\"zaxis\":{\"backgroundcolor\":\"#E5ECF6\",\"gridcolor\":\"white\",\"linecolor\":\"white\",\"showbackground\":true,\"ticks\":\"\",\"zerolinecolor\":\"white\",\"gridwidth\":2}},\"shapedefaults\":{\"line\":{\"color\":\"#2a3f5f\"}},\"annotationdefaults\":{\"arrowcolor\":\"#2a3f5f\",\"arrowhead\":0,\"arrowwidth\":1},\"geo\":{\"bgcolor\":\"white\",\"landcolor\":\"#E5ECF6\",\"subunitcolor\":\"white\",\"showland\":true,\"showlakes\":true,\"lakecolor\":\"white\"},\"title\":{\"x\":0.05},\"mapbox\":{\"style\":\"light\"}}},\"xaxis\":{\"anchor\":\"y\",\"domain\":[0.0,1.0],\"title\":{\"text\":\"Year\"},\"showgrid\":false},\"yaxis\":{\"anchor\":\"x\",\"domain\":[0.0,1.0],\"title\":{\"text\":\"Count of violation cases\"},\"showgrid\":false},\"legend\":{\"tracegroupgap\":0},\"title\":{\"text\":\"10Q/K Violations Count over the year\",\"font\":{\"family\":\"Times New Roman\"},\"y\":0.9,\"x\":0.5,\"xanchor\":\"center\",\"yanchor\":\"top\"},\"barmode\":\"relative\",\"font\":{\"family\":\"Times New Roman\"},\"plot_bgcolor\":\"#f2f2f2\"},                        {\"responsive\": true}                    ).then(function(){\n",
       "                            \n",
       "var gd = document.getElementById('b38e1874-2f58-4966-9fe8-396615fa7a41');\n",
       "var x = new MutationObserver(function (mutations, observer) {{\n",
       "        var display = window.getComputedStyle(gd).display;\n",
       "        if (!display || display === 'none') {{\n",
       "            console.log([gd, 'removed!']);\n",
       "            Plotly.purge(gd);\n",
       "            observer.disconnect();\n",
       "        }}\n",
       "}});\n",
       "\n",
       "// Listen for the removal of the full notebook cells\n",
       "var notebookContainer = gd.closest('#notebook-container');\n",
       "if (notebookContainer) {{\n",
       "    x.observe(notebookContainer, {childList: true});\n",
       "}}\n",
       "\n",
       "// Listen for the clearing of the current output cell\n",
       "var outputEl = gd.closest('.output');\n",
       "if (outputEl) {{\n",
       "    x.observe(outputEl, {childList: true});\n",
       "}}\n",
       "\n",
       "                        })                };                });            </script>        </div>"
      ]
     },
     "metadata": {},
     "output_type": "display_data"
    }
   ],
   "source": [
    "# # Violation Plots\n",
    "\n",
    "import plotly.express as px\n",
    "\n",
    "\n",
    "fig = px.bar(plotly_df[plotly_df['new_violation']==1], \n",
    "             x=\"year\", \n",
    "             y ='count',\n",
    "             title='10Q/K Violations Count over the year',\n",
    "             \n",
    "              \n",
    "             )\n",
    "\n",
    "\n",
    "\n",
    "\n",
    "fig.update_traces(marker_color='#31417A')\n",
    "fig.update_layout(  \n",
    "    yaxis_title=\"Count of violation cases\",\n",
    "    font_family=\"Times New Roman\",    \n",
    "    title_font_family=\"Times New Roman\",\n",
    "    xaxis_title=\"Year\",\n",
    "    xaxis=dict(showgrid=False),\n",
    "    yaxis=dict(showgrid=False),\n",
    "    plot_bgcolor='#f2f2f2',  # Gray background color,\n",
    "    title={\n",
    "       \n",
    "        'y':0.9,\n",
    "        'x':0.5,\n",
    "        'xanchor': 'center',\n",
    "        'yanchor': 'top'})\n",
    "fig.show()"
   ]
  },
  {
   "cell_type": "code",
   "execution_count": 303,
   "id": "0b899e30",
   "metadata": {},
   "outputs": [
    {
     "data": {
      "text/plain": [
       "<Axes: xlabel='year', ylabel='count'>"
      ]
     },
     "execution_count": 303,
     "metadata": {},
     "output_type": "execute_result"
    },
    {
     "data": {
      "image/png": "[encoded data removed]",
      "text/plain": [
       "<Figure size 1500x800 with 1 Axes>"
      ]
     },
     "metadata": {},
     "output_type": "display_data"
    }
   ],
   "source": [
    "plt.figure(figsize=(15,8))\n",
    "sns.barplot(plotly_df[plotly_df['new_violation']==1], \n",
    "             x=\"year\", \n",
    "             y ='count',color='#2596be'\n",
    "             ) #title='Count Of violations over the year'"
   ]
  },
  {
   "cell_type": "code",
   "execution_count": 363,
   "id": "232ad766",
   "metadata": {},
   "outputs": [],
   "source": [
    "\n",
    "\n",
    "plotly_df = df[['year', 'new_amendment']].fillna(0).value_counts().to_frame('count').reset_index()"
   ]
  },
  {
   "cell_type": "code",
   "execution_count": 364,
   "id": "bae31c9d",
   "metadata": {},
   "outputs": [
    {
     "data": {
      "text/html": [
       "<div>\n",
       "<style scoped>\n",
       "    .dataframe tbody tr th:only-of-type {\n",
       "        vertical-align: middle;\n",
       "    }\n",
       "\n",
       "    .dataframe tbody tr th {\n",
       "        vertical-align: top;\n",
       "    }\n",
       "\n",
       "    .dataframe thead th {\n",
       "        text-align: right;\n",
       "    }\n",
       "</style>\n",
       "<table border=\"1\" class=\"dataframe\">\n",
       "  <thead>\n",
       "    <tr style=\"text-align: right;\">\n",
       "      <th></th>\n",
       "      <th>year</th>\n",
       "      <th>new_amendment</th>\n",
       "      <th>count</th>\n",
       "    </tr>\n",
       "  </thead>\n",
       "  <tbody>\n",
       "    <tr>\n",
       "      <th>0</th>\n",
       "      <td>1997</td>\n",
       "      <td>0</td>\n",
       "      <td>23142</td>\n",
       "    </tr>\n",
       "    <tr>\n",
       "      <th>1</th>\n",
       "      <td>1998</td>\n",
       "      <td>0</td>\n",
       "      <td>23052</td>\n",
       "    </tr>\n",
       "    <tr>\n",
       "      <th>2</th>\n",
       "      <td>1999</td>\n",
       "      <td>0</td>\n",
       "      <td>22334</td>\n",
       "    </tr>\n",
       "    <tr>\n",
       "      <th>3</th>\n",
       "      <td>2008</td>\n",
       "      <td>0</td>\n",
       "      <td>21940</td>\n",
       "    </tr>\n",
       "    <tr>\n",
       "      <th>4</th>\n",
       "      <td>2000</td>\n",
       "      <td>0</td>\n",
       "      <td>21917</td>\n",
       "    </tr>\n",
       "  </tbody>\n",
       "</table>\n",
       "</div>"
      ],
      "text/plain": [
       "   year  new_amendment  count\n",
       "0  1997              0  23142\n",
       "1  1998              0  23052\n",
       "2  1999              0  22334\n",
       "3  2008              0  21940\n",
       "4  2000              0  21917"
      ]
     },
     "execution_count": 364,
     "metadata": {},
     "output_type": "execute_result"
    }
   ],
   "source": [
    "plotly_df.head()"
   ]
  },
  {
   "cell_type": "code",
   "execution_count": 373,
   "id": "c90d51b5",
   "metadata": {},
   "outputs": [
    {
     "data": {
      "application/vnd.plotly.v1+json": {
       "config": {
        "plotlyServerURL": "https://plot.ly"
       },
       "data": [
        {
         "alignmentgroup": "True",
         "hovertemplate": "year=%{x}<br>count=%{y}<extra></extra>",
         "legendgroup": "",
         "marker": {
          "color": "#31417A",
          "pattern": {
           "shape": ""
          }
         },
         "name": "",
         "offsetgroup": "",
         "orientation": "v",
         "showlegend": false,
         "textposition": "auto",
         "type": "bar",
         "x": [
          2002,
          2009,
          2001,
          2000,
          2020,
          2005,
          2004,
          2007,
          2006,
          1999,
          2003,
          2008,
          2015,
          2014,
          2010,
          2016,
          2021,
          2013,
          2011,
          2018,
          1998,
          2012,
          2017,
          1997,
          2019,
          2022,
          1996
         ],
         "xaxis": "x",
         "y": [
          2778,
          2555,
          2502,
          2334,
          2307,
          2241,
          2228,
          2185,
          2183,
          2182,
          2181,
          2167,
          2051,
          2025,
          1997,
          1991,
          1986,
          1957,
          1865,
          1798,
          1791,
          1770,
          1757,
          1562,
          1552,
          1344,
          1304
         ],
         "yaxis": "y"
        }
       ],
       "layout": {
        "barmode": "relative",
        "font": {
         "family": "Times New Roman",
         "size": 12
        },
        "legend": {
         "tracegroupgap": 0
        },
        "plot_bgcolor": "#f2f2f2",
        "template": {
         "data": {
          "bar": [
           {
            "error_x": {
             "color": "#2a3f5f"
            },
            "error_y": {
             "color": "#2a3f5f"
            },
            "marker": {
             "line": {
              "color": "#E5ECF6",
              "width": 0.5
             },
             "pattern": {
              "fillmode": "overlay",
              "size": 10,
              "solidity": 0.2
             }
            },
            "type": "bar"
           }
          ],
          "barpolar": [
           {
            "marker": {
             "line": {
              "color": "#E5ECF6",
              "width": 0.5
             },
             "pattern": {
              "fillmode": "overlay",
              "size": 10,
              "solidity": 0.2
             }
            },
            "type": "barpolar"
           }
          ],
          "carpet": [
           {
            "aaxis": {
             "endlinecolor": "#2a3f5f",
             "gridcolor": "white",
             "linecolor": "white",
             "minorgridcolor": "white",
             "startlinecolor": "#2a3f5f"
            },
            "baxis": {
             "endlinecolor": "#2a3f5f",
             "gridcolor": "white",
             "linecolor": "white",
             "minorgridcolor": "white",
             "startlinecolor": "#2a3f5f"
            },
            "type": "carpet"
           }
          ],
          "choropleth": [
           {
            "colorbar": {
             "outlinewidth": 0,
             "ticks": ""
            },
            "type": "choropleth"
           }
          ],
          "contour": [
           {
            "colorbar": {
             "outlinewidth": 0,
             "ticks": ""
            },
            "colorscale": [
             [
              0,
              "#0d0887"
             ],
             [
              0.1111111111111111,
              "#46039f"
             ],
             [
              0.2222222222222222,
              "#7201a8"
             ],
             [
              0.3333333333333333,
              "#9c179e"
             ],
             [
              0.4444444444444444,
              "#bd3786"
             ],
             [
              0.5555555555555556,
              "#d8576b"
             ],
             [
              0.6666666666666666,
              "#ed7953"
             ],
             [
              0.7777777777777778,
              "#fb9f3a"
             ],
             [
              0.8888888888888888,
              "#fdca26"
             ],
             [
              1,
              "#f0f921"
             ]
            ],
            "type": "contour"
           }
          ],
          "contourcarpet": [
           {
            "colorbar": {
             "outlinewidth": 0,
             "ticks": ""
            },
            "type": "contourcarpet"
           }
          ],
          "heatmap": [
           {
            "colorbar": {
             "outlinewidth": 0,
             "ticks": ""
            },
            "colorscale": [
             [
              0,
              "#0d0887"
             ],
             [
              0.1111111111111111,
              "#46039f"
             ],
             [
              0.2222222222222222,
              "#7201a8"
             ],
             [
              0.3333333333333333,
              "#9c179e"
             ],
             [
              0.4444444444444444,
              "#bd3786"
             ],
             [
              0.5555555555555556,
              "#d8576b"
             ],
             [
              0.6666666666666666,
              "#ed7953"
             ],
             [
              0.7777777777777778,
              "#fb9f3a"
             ],
             [
              0.8888888888888888,
              "#fdca26"
             ],
             [
              1,
              "#f0f921"
             ]
            ],
            "type": "heatmap"
           }
          ],
          "heatmapgl": [
           {
            "colorbar": {
             "outlinewidth": 0,
             "ticks": ""
            },
            "colorscale": [
             [
              0,
              "#0d0887"
             ],
             [
              0.1111111111111111,
              "#46039f"
             ],
             [
              0.2222222222222222,
              "#7201a8"
             ],
             [
              0.3333333333333333,
              "#9c179e"
             ],
             [
              0.4444444444444444,
              "#bd3786"
             ],
             [
              0.5555555555555556,
              "#d8576b"
             ],
             [
              0.6666666666666666,
              "#ed7953"
             ],
             [
              0.7777777777777778,
              "#fb9f3a"
             ],
             [
              0.8888888888888888,
              "#fdca26"
             ],
             [
              1,
              "#f0f921"
             ]
            ],
            "type": "heatmapgl"
           }
          ],
          "histogram": [
           {
            "marker": {
             "pattern": {
              "fillmode": "overlay",
              "size": 10,
              "solidity": 0.2
             }
            },
            "type": "histogram"
           }
          ],
          "histogram2d": [
           {
            "colorbar": {
             "outlinewidth": 0,
             "ticks": ""
            },
            "colorscale": [
             [
              0,
              "#0d0887"
             ],
             [
              0.1111111111111111,
              "#46039f"
             ],
             [
              0.2222222222222222,
              "#7201a8"
             ],
             [
              0.3333333333333333,
              "#9c179e"
             ],
             [
              0.4444444444444444,
              "#bd3786"
             ],
             [
              0.5555555555555556,
              "#d8576b"
             ],
             [
              0.6666666666666666,
              "#ed7953"
             ],
             [
              0.7777777777777778,
              "#fb9f3a"
             ],
             [
              0.8888888888888888,
              "#fdca26"
             ],
             [
              1,
              "#f0f921"
             ]
            ],
            "type": "histogram2d"
           }
          ],
          "histogram2dcontour": [
           {
            "colorbar": {
             "outlinewidth": 0,
             "ticks": ""
            },
            "colorscale": [
             [
              0,
              "#0d0887"
             ],
             [
              0.1111111111111111,
              "#46039f"
             ],
             [
              0.2222222222222222,
              "#7201a8"
             ],
             [
              0.3333333333333333,
              "#9c179e"
             ],
             [
              0.4444444444444444,
              "#bd3786"
             ],
             [
              0.5555555555555556,
              "#d8576b"
             ],
             [
              0.6666666666666666,
              "#ed7953"
             ],
             [
              0.7777777777777778,
              "#fb9f3a"
             ],
             [
              0.8888888888888888,
              "#fdca26"
             ],
             [
              1,
              "#f0f921"
             ]
            ],
            "type": "histogram2dcontour"
           }
          ],
          "mesh3d": [
           {
            "colorbar": {
             "outlinewidth": 0,
             "ticks": ""
            },
            "type": "mesh3d"
           }
          ],
          "parcoords": [
           {
            "line": {
             "colorbar": {
              "outlinewidth": 0,
              "ticks": ""
             }
            },
            "type": "parcoords"
           }
          ],
          "pie": [
           {
            "automargin": true,
            "type": "pie"
           }
          ],
          "scatter": [
           {
            "fillpattern": {
             "fillmode": "overlay",
             "size": 10,
             "solidity": 0.2
            },
            "type": "scatter"
           }
          ],
          "scatter3d": [
           {
            "line": {
             "colorbar": {
              "outlinewidth": 0,
              "ticks": ""
             }
            },
            "marker": {
             "colorbar": {
              "outlinewidth": 0,
              "ticks": ""
             }
            },
            "type": "scatter3d"
           }
          ],
          "scattercarpet": [
           {
            "marker": {
             "colorbar": {
              "outlinewidth": 0,
              "ticks": ""
             }
            },
            "type": "scattercarpet"
           }
          ],
          "scattergeo": [
           {
            "marker": {
             "colorbar": {
              "outlinewidth": 0,
              "ticks": ""
             }
            },
            "type": "scattergeo"
           }
          ],
          "scattergl": [
           {
            "marker": {
             "colorbar": {
              "outlinewidth": 0,
              "ticks": ""
             }
            },
            "type": "scattergl"
           }
          ],
          "scattermapbox": [
           {
            "marker": {
             "colorbar": {
              "outlinewidth": 0,
              "ticks": ""
             }
            },
            "type": "scattermapbox"
           }
          ],
          "scatterpolar": [
           {
            "marker": {
             "colorbar": {
              "outlinewidth": 0,
              "ticks": ""
             }
            },
            "type": "scatterpolar"
           }
          ],
          "scatterpolargl": [
           {
            "marker": {
             "colorbar": {
              "outlinewidth": 0,
              "ticks": ""
             }
            },
            "type": "scatterpolargl"
           }
          ],
          "scatterternary": [
           {
            "marker": {
             "colorbar": {
              "outlinewidth": 0,
              "ticks": ""
             }
            },
            "type": "scatterternary"
           }
          ],
          "surface": [
           {
            "colorbar": {
             "outlinewidth": 0,
             "ticks": ""
            },
            "colorscale": [
             [
              0,
              "#0d0887"
             ],
             [
              0.1111111111111111,
              "#46039f"
             ],
             [
              0.2222222222222222,
              "#7201a8"
             ],
             [
              0.3333333333333333,
              "#9c179e"
             ],
             [
              0.4444444444444444,
              "#bd3786"
             ],
             [
              0.5555555555555556,
              "#d8576b"
             ],
             [
              0.6666666666666666,
              "#ed7953"
             ],
             [
              0.7777777777777778,
              "#fb9f3a"
             ],
             [
              0.8888888888888888,
              "#fdca26"
             ],
             [
              1,
              "#f0f921"
             ]
            ],
            "type": "surface"
           }
          ],
          "table": [
           {
            "cells": {
             "fill": {
              "color": "#EBF0F8"
             },
             "line": {
              "color": "white"
             }
            },
            "header": {
             "fill": {
              "color": "#C8D4E3"
             },
             "line": {
              "color": "white"
             }
            },
            "type": "table"
           }
          ]
         },
         "layout": {
          "annotationdefaults": {
           "arrowcolor": "#2a3f5f",
           "arrowhead": 0,
           "arrowwidth": 1
          },
          "autotypenumbers": "strict",
          "coloraxis": {
           "colorbar": {
            "outlinewidth": 0,
            "ticks": ""
           }
          },
          "colorscale": {
           "diverging": [
            [
             0,
             "#8e0152"
            ],
            [
             0.1,
             "#c51b7d"
            ],
            [
             0.2,
             "#de77ae"
            ],
            [
             0.3,
             "#f1b6da"
            ],
            [
             0.4,
             "#fde0ef"
            ],
            [
             0.5,
             "#f7f7f7"
            ],
            [
             0.6,
             "#e6f5d0"
            ],
            [
             0.7,
             "#b8e186"
            ],
            [
             0.8,
             "#7fbc41"
            ],
            [
             0.9,
             "#4d9221"
            ],
            [
             1,
             "#276419"
            ]
           ],
           "sequential": [
            [
             0,
             "#0d0887"
            ],
            [
             0.1111111111111111,
             "#46039f"
            ],
            [
             0.2222222222222222,
             "#7201a8"
            ],
            [
             0.3333333333333333,
             "#9c179e"
            ],
            [
             0.4444444444444444,
             "#bd3786"
            ],
            [
             0.5555555555555556,
             "#d8576b"
            ],
            [
             0.6666666666666666,
             "#ed7953"
            ],
            [
             0.7777777777777778,
             "#fb9f3a"
            ],
            [
             0.8888888888888888,
             "#fdca26"
            ],
            [
             1,
             "#f0f921"
            ]
           ],
           "sequentialminus": [
            [
             0,
             "#0d0887"
            ],
            [
             0.1111111111111111,
             "#46039f"
            ],
            [
             0.2222222222222222,
             "#7201a8"
            ],
            [
             0.3333333333333333,
             "#9c179e"
            ],
            [
             0.4444444444444444,
             "#bd3786"
            ],
            [
             0.5555555555555556,
             "#d8576b"
            ],
            [
             0.6666666666666666,
             "#ed7953"
            ],
            [
             0.7777777777777778,
             "#fb9f3a"
            ],
            [
             0.8888888888888888,
             "#fdca26"
            ],
            [
             1,
             "#f0f921"
            ]
           ]
          },
          "colorway": [
           "#636efa",
           "#EF553B",
           "#00cc96",
           "#ab63fa",
           "#FFA15A",
           "#19d3f3",
           "#FF6692",
           "#B6E880",
           "#FF97FF",
           "#FECB52"
          ],
          "font": {
           "color": "#2a3f5f"
          },
          "geo": {
           "bgcolor": "white",
           "lakecolor": "white",
           "landcolor": "#E5ECF6",
           "showlakes": true,
           "showland": true,
           "subunitcolor": "white"
          },
          "hoverlabel": {
           "align": "left"
          },
          "hovermode": "closest",
          "mapbox": {
           "style": "light"
          },
          "paper_bgcolor": "white",
          "plot_bgcolor": "#E5ECF6",
          "polar": {
           "angularaxis": {
            "gridcolor": "white",
            "linecolor": "white",
            "ticks": ""
           },
           "bgcolor": "#E5ECF6",
           "radialaxis": {
            "gridcolor": "white",
            "linecolor": "white",
            "ticks": ""
           }
          },
          "scene": {
           "xaxis": {
            "backgroundcolor": "#E5ECF6",
            "gridcolor": "white",
            "gridwidth": 2,
            "linecolor": "white",
            "showbackground": true,
            "ticks": "",
            "zerolinecolor": "white"
           },
           "yaxis": {
            "backgroundcolor": "#E5ECF6",
            "gridcolor": "white",
            "gridwidth": 2,
            "linecolor": "white",
            "showbackground": true,
            "ticks": "",
            "zerolinecolor": "white"
           },
           "zaxis": {
            "backgroundcolor": "#E5ECF6",
            "gridcolor": "white",
            "gridwidth": 2,
            "linecolor": "white",
            "showbackground": true,
            "ticks": "",
            "zerolinecolor": "white"
           }
          },
          "shapedefaults": {
           "line": {
            "color": "#2a3f5f"
           }
          },
          "ternary": {
           "aaxis": {
            "gridcolor": "white",
            "linecolor": "white",
            "ticks": ""
           },
           "baxis": {
            "gridcolor": "white",
            "linecolor": "white",
            "ticks": ""
           },
           "bgcolor": "#E5ECF6",
           "caxis": {
            "gridcolor": "white",
            "linecolor": "white",
            "ticks": ""
           }
          },
          "title": {
           "x": 0.05
          },
          "xaxis": {
           "automargin": true,
           "gridcolor": "white",
           "linecolor": "white",
           "ticks": "",
           "title": {
            "standoff": 15
           },
           "zerolinecolor": "white",
           "zerolinewidth": 2
          },
          "yaxis": {
           "automargin": true,
           "gridcolor": "white",
           "linecolor": "white",
           "ticks": "",
           "title": {
            "standoff": 15
           },
           "zerolinecolor": "white",
           "zerolinewidth": 2
          }
         }
        },
        "title": {
         "font": {
          "family": "Times New Roman"
         },
         "text": "10Q/K Amendment Count over the year",
         "x": 0.5,
         "xanchor": "center",
         "y": 0.9,
         "yanchor": "top"
        },
        "xaxis": {
         "anchor": "y",
         "domain": [
          0,
          1
         ],
         "showgrid": false,
         "title": {
          "text": "Year"
         }
        },
        "yaxis": {
         "anchor": "x",
         "domain": [
          0,
          1
         ],
         "showgrid": false,
         "title": {
          "text": "Count of amendment cases"
         }
        }
       }
      },
      "text/html": [
       "<div>                            <div id=\"98bd440b-4054-4b33-bb9e-08255c9e8794\" class=\"plotly-graph-div\" style=\"height:525px; width:100%;\"></div>            <script type=\"text/javascript\">                require([\"plotly\"], function(Plotly) {                    window.PLOTLYENV=window.PLOTLYENV || {};                                    if (document.getElementById(\"98bd440b-4054-4b33-bb9e-08255c9e8794\")) {                    Plotly.newPlot(                        \"98bd440b-4054-4b33-bb9e-08255c9e8794\",                        [{\"alignmentgroup\":\"True\",\"hovertemplate\":\"year=%{x}<br>count=%{y}<extra></extra>\",\"legendgroup\":\"\",\"marker\":{\"color\":\"#31417A\",\"pattern\":{\"shape\":\"\"}},\"name\":\"\",\"offsetgroup\":\"\",\"orientation\":\"v\",\"showlegend\":false,\"textposition\":\"auto\",\"x\":[2002.0,2009.0,2001.0,2000.0,2020.0,2005.0,2004.0,2007.0,2006.0,1999.0,2003.0,2008.0,2015.0,2014.0,2010.0,2016.0,2021.0,2013.0,2011.0,2018.0,1998.0,2012.0,2017.0,1997.0,2019.0,2022.0,1996.0],\"xaxis\":\"x\",\"y\":[2778,2555,2502,2334,2307,2241,2228,2185,2183,2182,2181,2167,2051,2025,1997,1991,1986,1957,1865,1798,1791,1770,1757,1562,1552,1344,1304],\"yaxis\":\"y\",\"type\":\"bar\"}],                        {\"template\":{\"data\":{\"histogram2dcontour\":[{\"type\":\"histogram2dcontour\",\"colorbar\":{\"outlinewidth\":0,\"ticks\":\"\"},\"colorscale\":[[0.0,\"#0d0887\"],[0.1111111111111111,\"#46039f\"],[0.2222222222222222,\"#7201a8\"],[0.3333333333333333,\"#9c179e\"],[0.4444444444444444,\"#bd3786\"],[0.5555555555555556,\"#d8576b\"],[0.6666666666666666,\"#ed7953\"],[0.7777777777777778,\"#fb9f3a\"],[0.8888888888888888,\"#fdca26\"],[1.0,\"#f0f921\"]]}],\"choropleth\":[{\"type\":\"choropleth\",\"colorbar\":{\"outlinewidth\":0,\"ticks\":\"\"}}],\"histogram2d\":[{\"type\":\"histogram2d\",\"colorbar\":{\"outlinewidth\":0,\"ticks\":\"\"},\"colorscale\":[[0.0,\"#0d0887\"],[0.1111111111111111,\"#46039f\"],[0.2222222222222222,\"#7201a8\"],[0.3333333333333333,\"#9c179e\"],[0.4444444444444444,\"#bd3786\"],[0.5555555555555556,\"#d8576b\"],[0.6666666666666666,\"#ed7953\"],[0.7777777777777778,\"#fb9f3a\"],[0.8888888888888888,\"#fdca26\"],[1.0,\"#f0f921\"]]}],\"heatmap\":[{\"type\":\"heatmap\",\"colorbar\":{\"outlinewidth\":0,\"ticks\":\"\"},\"colorscale\":[[0.0,\"#0d0887\"],[0.1111111111111111,\"#46039f\"],[0.2222222222222222,\"#7201a8\"],[0.3333333333333333,\"#9c179e\"],[0.4444444444444444,\"#bd3786\"],[0.5555555555555556,\"#d8576b\"],[0.6666666666666666,\"#ed7953\"],[0.7777777777777778,\"#fb9f3a\"],[0.8888888888888888,\"#fdca26\"],[1.0,\"#f0f921\"]]}],\"heatmapgl\":[{\"type\":\"heatmapgl\",\"colorbar\":{\"outlinewidth\":0,\"ticks\":\"\"},\"colorscale\":[[0.0,\"#0d0887\"],[0.1111111111111111,\"#46039f\"],[0.2222222222222222,\"#7201a8\"],[0.3333333333333333,\"#9c179e\"],[0.4444444444444444,\"#bd3786\"],[0.5555555555555556,\"#d8576b\"],[0.6666666666666666,\"#ed7953\"],[0.7777777777777778,\"#fb9f3a\"],[0.8888888888888888,\"#fdca26\"],[1.0,\"#f0f921\"]]}],\"contourcarpet\":[{\"type\":\"contourcarpet\",\"colorbar\":{\"outlinewidth\":0,\"ticks\":\"\"}}],\"contour\":[{\"type\":\"contour\",\"colorbar\":{\"outlinewidth\":0,\"ticks\":\"\"},\"colorscale\":[[0.0,\"#0d0887\"],[0.1111111111111111,\"#46039f\"],[0.2222222222222222,\"#7201a8\"],[0.3333333333333333,\"#9c179e\"],[0.4444444444444444,\"#bd3786\"],[0.5555555555555556,\"#d8576b\"],[0.6666666666666666,\"#ed7953\"],[0.7777777777777778,\"#fb9f3a\"],[0.8888888888888888,\"#fdca26\"],[1.0,\"#f0f921\"]]}],\"surface\":[{\"type\":\"surface\",\"colorbar\":{\"outlinewidth\":0,\"ticks\":\"\"},\"colorscale\":[[0.0,\"#0d0887\"],[0.1111111111111111,\"#46039f\"],[0.2222222222222222,\"#7201a8\"],[0.3333333333333333,\"#9c179e\"],[0.4444444444444444,\"#bd3786\"],[0.5555555555555556,\"#d8576b\"],[0.6666666666666666,\"#ed7953\"],[0.7777777777777778,\"#fb9f3a\"],[0.8888888888888888,\"#fdca26\"],[1.0,\"#f0f921\"]]}],\"mesh3d\":[{\"type\":\"mesh3d\",\"colorbar\":{\"outlinewidth\":0,\"ticks\":\"\"}}],\"scatter\":[{\"fillpattern\":{\"fillmode\":\"overlay\",\"size\":10,\"solidity\":0.2},\"type\":\"scatter\"}],\"parcoords\":[{\"type\":\"parcoords\",\"line\":{\"colorbar\":{\"outlinewidth\":0,\"ticks\":\"\"}}}],\"scatterpolargl\":[{\"type\":\"scatterpolargl\",\"marker\":{\"colorbar\":{\"outlinewidth\":0,\"ticks\":\"\"}}}],\"bar\":[{\"error_x\":{\"color\":\"#2a3f5f\"},\"error_y\":{\"color\":\"#2a3f5f\"},\"marker\":{\"line\":{\"color\":\"#E5ECF6\",\"width\":0.5},\"pattern\":{\"fillmode\":\"overlay\",\"size\":10,\"solidity\":0.2}},\"type\":\"bar\"}],\"scattergeo\":[{\"type\":\"scattergeo\",\"marker\":{\"colorbar\":{\"outlinewidth\":0,\"ticks\":\"\"}}}],\"scatterpolar\":[{\"type\":\"scatterpolar\",\"marker\":{\"colorbar\":{\"outlinewidth\":0,\"ticks\":\"\"}}}],\"histogram\":[{\"marker\":{\"pattern\":{\"fillmode\":\"overlay\",\"size\":10,\"solidity\":0.2}},\"type\":\"histogram\"}],\"scattergl\":[{\"type\":\"scattergl\",\"marker\":{\"colorbar\":{\"outlinewidth\":0,\"ticks\":\"\"}}}],\"scatter3d\":[{\"type\":\"scatter3d\",\"line\":{\"colorbar\":{\"outlinewidth\":0,\"ticks\":\"\"}},\"marker\":{\"colorbar\":{\"outlinewidth\":0,\"ticks\":\"\"}}}],\"scattermapbox\":[{\"type\":\"scattermapbox\",\"marker\":{\"colorbar\":{\"outlinewidth\":0,\"ticks\":\"\"}}}],\"scatterternary\":[{\"type\":\"scatterternary\",\"marker\":{\"colorbar\":{\"outlinewidth\":0,\"ticks\":\"\"}}}],\"scattercarpet\":[{\"type\":\"scattercarpet\",\"marker\":{\"colorbar\":{\"outlinewidth\":0,\"ticks\":\"\"}}}],\"carpet\":[{\"aaxis\":{\"endlinecolor\":\"#2a3f5f\",\"gridcolor\":\"white\",\"linecolor\":\"white\",\"minorgridcolor\":\"white\",\"startlinecolor\":\"#2a3f5f\"},\"baxis\":{\"endlinecolor\":\"#2a3f5f\",\"gridcolor\":\"white\",\"linecolor\":\"white\",\"minorgridcolor\":\"white\",\"startlinecolor\":\"#2a3f5f\"},\"type\":\"carpet\"}],\"table\":[{\"cells\":{\"fill\":{\"color\":\"#EBF0F8\"},\"line\":{\"color\":\"white\"}},\"header\":{\"fill\":{\"color\":\"#C8D4E3\"},\"line\":{\"color\":\"white\"}},\"type\":\"table\"}],\"barpolar\":[{\"marker\":{\"line\":{\"color\":\"#E5ECF6\",\"width\":0.5},\"pattern\":{\"fillmode\":\"overlay\",\"size\":10,\"solidity\":0.2}},\"type\":\"barpolar\"}],\"pie\":[{\"automargin\":true,\"type\":\"pie\"}]},\"layout\":{\"autotypenumbers\":\"strict\",\"colorway\":[\"#636efa\",\"#EF553B\",\"#00cc96\",\"#ab63fa\",\"#FFA15A\",\"#19d3f3\",\"#FF6692\",\"#B6E880\",\"#FF97FF\",\"#FECB52\"],\"font\":{\"color\":\"#2a3f5f\"},\"hovermode\":\"closest\",\"hoverlabel\":{\"align\":\"left\"},\"paper_bgcolor\":\"white\",\"plot_bgcolor\":\"#E5ECF6\",\"polar\":{\"bgcolor\":\"#E5ECF6\",\"angularaxis\":{\"gridcolor\":\"white\",\"linecolor\":\"white\",\"ticks\":\"\"},\"radialaxis\":{\"gridcolor\":\"white\",\"linecolor\":\"white\",\"ticks\":\"\"}},\"ternary\":{\"bgcolor\":\"#E5ECF6\",\"aaxis\":{\"gridcolor\":\"white\",\"linecolor\":\"white\",\"ticks\":\"\"},\"baxis\":{\"gridcolor\":\"white\",\"linecolor\":\"white\",\"ticks\":\"\"},\"caxis\":{\"gridcolor\":\"white\",\"linecolor\":\"white\",\"ticks\":\"\"}},\"coloraxis\":{\"colorbar\":{\"outlinewidth\":0,\"ticks\":\"\"}},\"colorscale\":{\"sequential\":[[0.0,\"#0d0887\"],[0.1111111111111111,\"#46039f\"],[0.2222222222222222,\"#7201a8\"],[0.3333333333333333,\"#9c179e\"],[0.4444444444444444,\"#bd3786\"],[0.5555555555555556,\"#d8576b\"],[0.6666666666666666,\"#ed7953\"],[0.7777777777777778,\"#fb9f3a\"],[0.8888888888888888,\"#fdca26\"],[1.0,\"#f0f921\"]],\"sequentialminus\":[[0.0,\"#0d0887\"],[0.1111111111111111,\"#46039f\"],[0.2222222222222222,\"#7201a8\"],[0.3333333333333333,\"#9c179e\"],[0.4444444444444444,\"#bd3786\"],[0.5555555555555556,\"#d8576b\"],[0.6666666666666666,\"#ed7953\"],[0.7777777777777778,\"#fb9f3a\"],[0.8888888888888888,\"#fdca26\"],[1.0,\"#f0f921\"]],\"diverging\":[[0,\"#8e0152\"],[0.1,\"#c51b7d\"],[0.2,\"#de77ae\"],[0.3,\"#f1b6da\"],[0.4,\"#fde0ef\"],[0.5,\"#f7f7f7\"],[0.6,\"#e6f5d0\"],[0.7,\"#b8e186\"],[0.8,\"#7fbc41\"],[0.9,\"#4d9221\"],[1,\"#276419\"]]},\"xaxis\":{\"gridcolor\":\"white\",\"linecolor\":\"white\",\"ticks\":\"\",\"title\":{\"standoff\":15},\"zerolinecolor\":\"white\",\"automargin\":true,\"zerolinewidth\":2},\"yaxis\":{\"gridcolor\":\"white\",\"linecolor\":\"white\",\"ticks\":\"\",\"title\":{\"standoff\":15},\"zerolinecolor\":\"white\",\"automargin\":true,\"zerolinewidth\":2},\"scene\":{\"xaxis\":{\"backgroundcolor\":\"#E5ECF6\",\"gridcolor\":\"white\",\"linecolor\":\"white\",\"showbackground\":true,\"ticks\":\"\",\"zerolinecolor\":\"white\",\"gridwidth\":2},\"yaxis\":{\"backgroundcolor\":\"#E5ECF6\",\"gridcolor\":\"white\",\"linecolor\":\"white\",\"showbackground\":true,\"ticks\":\"\",\"zerolinecolor\":\"white\",\"gridwidth\":2},\"zaxis\":{\"backgroundcolor\":\"#E5ECF6\",\"gridcolor\":\"white\",\"linecolor\":\"white\",\"showbackground\":true,\"ticks\":\"\",\"zerolinecolor\":\"white\",\"gridwidth\":2}},\"shapedefaults\":{\"line\":{\"color\":\"#2a3f5f\"}},\"annotationdefaults\":{\"arrowcolor\":\"#2a3f5f\",\"arrowhead\":0,\"arrowwidth\":1},\"geo\":{\"bgcolor\":\"white\",\"landcolor\":\"#E5ECF6\",\"subunitcolor\":\"white\",\"showland\":true,\"showlakes\":true,\"lakecolor\":\"white\"},\"title\":{\"x\":0.05},\"mapbox\":{\"style\":\"light\"}}},\"xaxis\":{\"anchor\":\"y\",\"domain\":[0.0,1.0],\"title\":{\"text\":\"Year\"},\"showgrid\":false},\"yaxis\":{\"anchor\":\"x\",\"domain\":[0.0,1.0],\"title\":{\"text\":\"Count of amendment cases\"},\"showgrid\":false},\"legend\":{\"tracegroupgap\":0},\"title\":{\"text\":\"10Q/K Amendment Count over the year\",\"font\":{\"family\":\"Times New Roman\"},\"y\":0.9,\"x\":0.5,\"xanchor\":\"center\",\"yanchor\":\"top\"},\"barmode\":\"relative\",\"font\":{\"family\":\"Times New Roman\",\"size\":12},\"plot_bgcolor\":\"#f2f2f2\"},                        {\"responsive\": true}                    ).then(function(){\n",
       "                            \n",
       "var gd = document.getElementById('98bd440b-4054-4b33-bb9e-08255c9e8794');\n",
       "var x = new MutationObserver(function (mutations, observer) {{\n",
       "        var display = window.getComputedStyle(gd).display;\n",
       "        if (!display || display === 'none') {{\n",
       "            console.log([gd, 'removed!']);\n",
       "            Plotly.purge(gd);\n",
       "            observer.disconnect();\n",
       "        }}\n",
       "}});\n",
       "\n",
       "// Listen for the removal of the full notebook cells\n",
       "var notebookContainer = gd.closest('#notebook-container');\n",
       "if (notebookContainer) {{\n",
       "    x.observe(notebookContainer, {childList: true});\n",
       "}}\n",
       "\n",
       "// Listen for the clearing of the current output cell\n",
       "var outputEl = gd.closest('.output');\n",
       "if (outputEl) {{\n",
       "    x.observe(outputEl, {childList: true});\n",
       "}}\n",
       "\n",
       "                        })                };                });            </script>        </div>"
      ]
     },
     "metadata": {},
     "output_type": "display_data"
    }
   ],
   "source": [
    "# # Violation Plots\n",
    "\n",
    "import plotly.express as px\n",
    "\n",
    "\n",
    "fig = px.bar(plotly_df[plotly_df['new_amendment']==1], \n",
    "             x=\"year\", \n",
    "             y ='count',\n",
    "             title='10Q/K Amendment Count over the year', \n",
    "             \n",
    "              \n",
    "             )\n",
    "\n",
    "\n",
    "\n",
    "\n",
    "fig.update_traces(marker_color='#31417A')\n",
    "fig.update_layout(  \n",
    "    \n",
    "    font_family=\"Times New Roman\",    \n",
    "    title_font_family=\"Times New Roman\",\n",
    "    \n",
    "    xaxis=dict(showgrid=False),\n",
    "    yaxis=dict(showgrid=False),\n",
    "     font=dict(\n",
    "        \n",
    "        size=12,\n",
    "        \n",
    "    ),\n",
    "    xaxis_title=\"Year\",\n",
    "    yaxis_title=\"Count of amendment cases\",\n",
    "    plot_bgcolor='#f2f2f2',  # Gray background color,\n",
    "    title={\n",
    "       \n",
    "        'y':0.9,\n",
    "        'x':0.5,\n",
    "        'xanchor': 'center',\n",
    "        'yanchor': 'top'})\n",
    "fig.show()"
   ]
  },
  {
   "cell_type": "markdown",
   "id": "f4a6ef74",
   "metadata": {},
   "source": [
    "## Analyzing the 8K filings"
   ]
  },
  {
   "cell_type": "code",
   "execution_count": 479,
   "id": "e2b0c467",
   "metadata": {},
   "outputs": [],
   "source": [
    "new_df8 = new_df[new_df['filing_type'] == '8_K']"
   ]
  },
  {
   "cell_type": "code",
   "execution_count": 480,
   "id": "036afca0",
   "metadata": {},
   "outputs": [
    {
     "data": {
      "text/plain": [
       "2006    65920\n",
       "2008    65768\n",
       "2007    65724\n",
       "2005    65509\n",
       "2010    64700\n",
       "2009    64460\n",
       "2011    63728\n",
       "2012    63699\n",
       "2013    63211\n",
       "2004    60997\n",
       "2014    60500\n",
       "2017    59712\n",
       "2020    59022\n",
       "2021    58613\n",
       "2018    58091\n",
       "2022    57548\n",
       "2019    56888\n",
       "2016    56018\n",
       "2003    35833\n",
       "2002    27236\n",
       "2001    20927\n",
       "2000    17222\n",
       "2015    16813\n",
       "1998    16312\n",
       "1999    15687\n",
       "1997    14743\n",
       "1996    10204\n",
       "Name: year, dtype: int64"
      ]
     },
     "execution_count": 480,
     "metadata": {},
     "output_type": "execute_result"
    }
   ],
   "source": [
    "new_df8['year'].value_counts()"
   ]
  },
  {
   "cell_type": "code",
   "execution_count": 481,
   "id": "0bb26637",
   "metadata": {},
   "outputs": [
    {
     "name": "stderr",
     "output_type": "stream",
     "text": [
      "C:\\Users\\Madduri\\AppData\\Local\\Temp\\ipykernel_29680\\1773038467.py:1: SettingWithCopyWarning:\n",
      "\n",
      "\n",
      "A value is trying to be set on a copy of a slice from a DataFrame.\n",
      "Try using .loc[row_indexer,col_indexer] = value instead\n",
      "\n",
      "See the caveats in the documentation: https://pandas.pydata.org/pandas-docs/stable/user_guide/indexing.html#returning-a-view-versus-a-copy\n",
      "\n"
     ]
    }
   ],
   "source": [
    "new_df8['dummy'] = 1"
   ]
  },
  {
   "cell_type": "code",
   "execution_count": 482,
   "id": "acae229d",
   "metadata": {},
   "outputs": [
    {
     "data": {
      "text/plain": [
       "Index(['file_path', 'html_path', 'reporting_date', 'filing_date',\n",
       "       'violation_info', 'ishtml', 'extraction_data', 'extraction_data_len',\n",
       "       'filing_type', 'year', 'date_extracted', 'predicted_label',\n",
       "       'extraction_data_cove', 'predicted_label_date_unfiltered', 'dummy'],\n",
       "      dtype='object')"
      ]
     },
     "execution_count": 482,
     "metadata": {},
     "output_type": "execute_result"
    }
   ],
   "source": [
    "new_df8.columns"
   ]
  },
  {
   "cell_type": "code",
   "execution_count": 483,
   "id": "f098eac1",
   "metadata": {},
   "outputs": [],
   "source": [
    "new_df81 = new_df8.pivot_table(index = ['year'], \n",
    "                    columns=['predicted_label'], #, 'predicted_label_date_unfiltered'\n",
    "                    values='dummy', \n",
    "                    aggfunc=np.sum ,margins=True,margins_name='record_total').iloc[:-1,:]"
   ]
  },
  {
   "cell_type": "code",
   "execution_count": 484,
   "id": "8e56f1cf",
   "metadata": {},
   "outputs": [],
   "source": [
    "new_df81.reset_index(inplace=True)"
   ]
  },
  {
   "cell_type": "code",
   "execution_count": 485,
   "id": "e7b191f2",
   "metadata": {},
   "outputs": [
    {
     "data": {
      "text/html": [
       "<div>\n",
       "<style scoped>\n",
       "    .dataframe tbody tr th:only-of-type {\n",
       "        vertical-align: middle;\n",
       "    }\n",
       "\n",
       "    .dataframe tbody tr th {\n",
       "        vertical-align: top;\n",
       "    }\n",
       "\n",
       "    .dataframe thead th {\n",
       "        text-align: right;\n",
       "    }\n",
       "</style>\n",
       "<table border=\"1\" class=\"dataframe\">\n",
       "  <thead>\n",
       "    <tr style=\"text-align: right;\">\n",
       "      <th>predicted_label</th>\n",
       "      <th>year</th>\n",
       "      <th>0.0</th>\n",
       "      <th>1.0</th>\n",
       "      <th>2.0</th>\n",
       "      <th>record_total</th>\n",
       "    </tr>\n",
       "  </thead>\n",
       "  <tbody>\n",
       "    <tr>\n",
       "      <th>0</th>\n",
       "      <td>1996</td>\n",
       "      <td>9994</td>\n",
       "      <td>22</td>\n",
       "      <td>188</td>\n",
       "      <td>10204</td>\n",
       "    </tr>\n",
       "    <tr>\n",
       "      <th>1</th>\n",
       "      <td>1997</td>\n",
       "      <td>14499</td>\n",
       "      <td>34</td>\n",
       "      <td>210</td>\n",
       "      <td>14743</td>\n",
       "    </tr>\n",
       "    <tr>\n",
       "      <th>2</th>\n",
       "      <td>1998</td>\n",
       "      <td>16001</td>\n",
       "      <td>45</td>\n",
       "      <td>266</td>\n",
       "      <td>16312</td>\n",
       "    </tr>\n",
       "    <tr>\n",
       "      <th>3</th>\n",
       "      <td>1999</td>\n",
       "      <td>15355</td>\n",
       "      <td>31</td>\n",
       "      <td>301</td>\n",
       "      <td>15687</td>\n",
       "    </tr>\n",
       "    <tr>\n",
       "      <th>4</th>\n",
       "      <td>2000</td>\n",
       "      <td>16897</td>\n",
       "      <td>38</td>\n",
       "      <td>287</td>\n",
       "      <td>17222</td>\n",
       "    </tr>\n",
       "    <tr>\n",
       "      <th>5</th>\n",
       "      <td>2001</td>\n",
       "      <td>20494</td>\n",
       "      <td>41</td>\n",
       "      <td>392</td>\n",
       "      <td>20927</td>\n",
       "    </tr>\n",
       "    <tr>\n",
       "      <th>6</th>\n",
       "      <td>2002</td>\n",
       "      <td>26732</td>\n",
       "      <td>44</td>\n",
       "      <td>460</td>\n",
       "      <td>27236</td>\n",
       "    </tr>\n",
       "    <tr>\n",
       "      <th>7</th>\n",
       "      <td>2003</td>\n",
       "      <td>35347</td>\n",
       "      <td>57</td>\n",
       "      <td>429</td>\n",
       "      <td>35833</td>\n",
       "    </tr>\n",
       "    <tr>\n",
       "      <th>8</th>\n",
       "      <td>2004</td>\n",
       "      <td>60336</td>\n",
       "      <td>44</td>\n",
       "      <td>617</td>\n",
       "      <td>60997</td>\n",
       "    </tr>\n",
       "    <tr>\n",
       "      <th>9</th>\n",
       "      <td>2005</td>\n",
       "      <td>64760</td>\n",
       "      <td>30</td>\n",
       "      <td>719</td>\n",
       "      <td>65509</td>\n",
       "    </tr>\n",
       "    <tr>\n",
       "      <th>10</th>\n",
       "      <td>2006</td>\n",
       "      <td>65231</td>\n",
       "      <td>28</td>\n",
       "      <td>661</td>\n",
       "      <td>65920</td>\n",
       "    </tr>\n",
       "    <tr>\n",
       "      <th>11</th>\n",
       "      <td>2007</td>\n",
       "      <td>65034</td>\n",
       "      <td>32</td>\n",
       "      <td>658</td>\n",
       "      <td>65724</td>\n",
       "    </tr>\n",
       "    <tr>\n",
       "      <th>12</th>\n",
       "      <td>2008</td>\n",
       "      <td>65060</td>\n",
       "      <td>39</td>\n",
       "      <td>669</td>\n",
       "      <td>65768</td>\n",
       "    </tr>\n",
       "    <tr>\n",
       "      <th>13</th>\n",
       "      <td>2009</td>\n",
       "      <td>63536</td>\n",
       "      <td>71</td>\n",
       "      <td>853</td>\n",
       "      <td>64460</td>\n",
       "    </tr>\n",
       "    <tr>\n",
       "      <th>14</th>\n",
       "      <td>2010</td>\n",
       "      <td>64119</td>\n",
       "      <td>36</td>\n",
       "      <td>545</td>\n",
       "      <td>64700</td>\n",
       "    </tr>\n",
       "    <tr>\n",
       "      <th>15</th>\n",
       "      <td>2011</td>\n",
       "      <td>63186</td>\n",
       "      <td>24</td>\n",
       "      <td>518</td>\n",
       "      <td>63728</td>\n",
       "    </tr>\n",
       "    <tr>\n",
       "      <th>16</th>\n",
       "      <td>2012</td>\n",
       "      <td>63155</td>\n",
       "      <td>18</td>\n",
       "      <td>526</td>\n",
       "      <td>63699</td>\n",
       "    </tr>\n",
       "    <tr>\n",
       "      <th>17</th>\n",
       "      <td>2013</td>\n",
       "      <td>62741</td>\n",
       "      <td>12</td>\n",
       "      <td>458</td>\n",
       "      <td>63211</td>\n",
       "    </tr>\n",
       "    <tr>\n",
       "      <th>18</th>\n",
       "      <td>2014</td>\n",
       "      <td>60117</td>\n",
       "      <td>13</td>\n",
       "      <td>370</td>\n",
       "      <td>60500</td>\n",
       "    </tr>\n",
       "    <tr>\n",
       "      <th>19</th>\n",
       "      <td>2015</td>\n",
       "      <td>16704</td>\n",
       "      <td>5</td>\n",
       "      <td>104</td>\n",
       "      <td>16813</td>\n",
       "    </tr>\n",
       "    <tr>\n",
       "      <th>20</th>\n",
       "      <td>2016</td>\n",
       "      <td>55603</td>\n",
       "      <td>18</td>\n",
       "      <td>397</td>\n",
       "      <td>56018</td>\n",
       "    </tr>\n",
       "    <tr>\n",
       "      <th>21</th>\n",
       "      <td>2017</td>\n",
       "      <td>59307</td>\n",
       "      <td>14</td>\n",
       "      <td>391</td>\n",
       "      <td>59712</td>\n",
       "    </tr>\n",
       "    <tr>\n",
       "      <th>22</th>\n",
       "      <td>2018</td>\n",
       "      <td>57738</td>\n",
       "      <td>12</td>\n",
       "      <td>341</td>\n",
       "      <td>58091</td>\n",
       "    </tr>\n",
       "    <tr>\n",
       "      <th>23</th>\n",
       "      <td>2019</td>\n",
       "      <td>56559</td>\n",
       "      <td>21</td>\n",
       "      <td>308</td>\n",
       "      <td>56888</td>\n",
       "    </tr>\n",
       "    <tr>\n",
       "      <th>24</th>\n",
       "      <td>2020</td>\n",
       "      <td>58488</td>\n",
       "      <td>27</td>\n",
       "      <td>507</td>\n",
       "      <td>59022</td>\n",
       "    </tr>\n",
       "    <tr>\n",
       "      <th>25</th>\n",
       "      <td>2021</td>\n",
       "      <td>58276</td>\n",
       "      <td>20</td>\n",
       "      <td>317</td>\n",
       "      <td>58613</td>\n",
       "    </tr>\n",
       "    <tr>\n",
       "      <th>26</th>\n",
       "      <td>2022</td>\n",
       "      <td>57264</td>\n",
       "      <td>4</td>\n",
       "      <td>280</td>\n",
       "      <td>57548</td>\n",
       "    </tr>\n",
       "  </tbody>\n",
       "</table>\n",
       "</div>"
      ],
      "text/plain": [
       "predicted_label  year    0.0  1.0  2.0  record_total\n",
       "0                1996   9994   22  188         10204\n",
       "1                1997  14499   34  210         14743\n",
       "2                1998  16001   45  266         16312\n",
       "3                1999  15355   31  301         15687\n",
       "4                2000  16897   38  287         17222\n",
       "5                2001  20494   41  392         20927\n",
       "6                2002  26732   44  460         27236\n",
       "7                2003  35347   57  429         35833\n",
       "8                2004  60336   44  617         60997\n",
       "9                2005  64760   30  719         65509\n",
       "10               2006  65231   28  661         65920\n",
       "11               2007  65034   32  658         65724\n",
       "12               2008  65060   39  669         65768\n",
       "13               2009  63536   71  853         64460\n",
       "14               2010  64119   36  545         64700\n",
       "15               2011  63186   24  518         63728\n",
       "16               2012  63155   18  526         63699\n",
       "17               2013  62741   12  458         63211\n",
       "18               2014  60117   13  370         60500\n",
       "19               2015  16704    5  104         16813\n",
       "20               2016  55603   18  397         56018\n",
       "21               2017  59307   14  391         59712\n",
       "22               2018  57738   12  341         58091\n",
       "23               2019  56559   21  308         56888\n",
       "24               2020  58488   27  507         59022\n",
       "25               2021  58276   20  317         58613\n",
       "26               2022  57264    4  280         57548"
      ]
     },
     "execution_count": 485,
     "metadata": {},
     "output_type": "execute_result"
    }
   ],
   "source": [
    "new_df81"
   ]
  },
  {
   "cell_type": "code",
   "execution_count": 486,
   "id": "14501f53",
   "metadata": {},
   "outputs": [
    {
     "data": {
      "text/plain": [
       "Index(['year', 0.0, 1.0, 2.0, 'record_total'], dtype='object', name='predicted_label')"
      ]
     },
     "execution_count": 486,
     "metadata": {},
     "output_type": "execute_result"
    }
   ],
   "source": [
    "new_df81.columns"
   ]
  },
  {
   "cell_type": "code",
   "execution_count": 386,
   "id": "67eda12e",
   "metadata": {},
   "outputs": [
    {
     "data": {
      "application/vnd.plotly.v1+json": {
       "config": {
        "plotlyServerURL": "https://plot.ly"
       },
       "data": [
        {
         "type": "scatter",
         "x": [
          1996,
          1997,
          1998,
          1999,
          2000,
          2001,
          2002,
          2003,
          2004,
          2005,
          2006,
          2007,
          2008,
          2009,
          2010,
          2011,
          2012,
          2013,
          2014,
          2015,
          2016,
          2017,
          2018,
          2019,
          2020,
          2021,
          2022
         ],
         "y": [
          10204,
          14743,
          16312,
          15687,
          17222,
          20927,
          27236,
          35833,
          60997,
          65509,
          65920,
          65724,
          65768,
          64460,
          64700,
          63728,
          63699,
          63211,
          60500,
          16813,
          56018,
          59712,
          58091,
          56888,
          59022,
          58613,
          57548
         ]
        },
        {
         "type": "bar",
         "x": [
          1996,
          1997,
          1998,
          1999,
          2000,
          2001,
          2002,
          2003,
          2004,
          2005,
          2006,
          2007,
          2008,
          2009,
          2010,
          2011,
          2012,
          2013,
          2014,
          2015,
          2016,
          2017,
          2018,
          2019,
          2020,
          2021,
          2022
         ],
         "y": [
          22,
          34,
          45,
          31,
          38,
          41,
          44,
          57,
          44,
          30,
          28,
          32,
          39,
          71,
          36,
          24,
          18,
          12,
          13,
          5,
          18,
          14,
          12,
          21,
          27,
          20,
          4
         ]
        }
       ],
       "layout": {
        "template": {
         "data": {
          "bar": [
           {
            "error_x": {
             "color": "#2a3f5f"
            },
            "error_y": {
             "color": "#2a3f5f"
            },
            "marker": {
             "line": {
              "color": "#E5ECF6",
              "width": 0.5
             },
             "pattern": {
              "fillmode": "overlay",
              "size": 10,
              "solidity": 0.2
             }
            },
            "type": "bar"
           }
          ],
          "barpolar": [
           {
            "marker": {
             "line": {
              "color": "#E5ECF6",
              "width": 0.5
             },
             "pattern": {
              "fillmode": "overlay",
              "size": 10,
              "solidity": 0.2
             }
            },
            "type": "barpolar"
           }
          ],
          "carpet": [
           {
            "aaxis": {
             "endlinecolor": "#2a3f5f",
             "gridcolor": "white",
             "linecolor": "white",
             "minorgridcolor": "white",
             "startlinecolor": "#2a3f5f"
            },
            "baxis": {
             "endlinecolor": "#2a3f5f",
             "gridcolor": "white",
             "linecolor": "white",
             "minorgridcolor": "white",
             "startlinecolor": "#2a3f5f"
            },
            "type": "carpet"
           }
          ],
          "choropleth": [
           {
            "colorbar": {
             "outlinewidth": 0,
             "ticks": ""
            },
            "type": "choropleth"
           }
          ],
          "contour": [
           {
            "colorbar": {
             "outlinewidth": 0,
             "ticks": ""
            },
            "colorscale": [
             [
              0,
              "#0d0887"
             ],
             [
              0.1111111111111111,
              "#46039f"
             ],
             [
              0.2222222222222222,
              "#7201a8"
             ],
             [
              0.3333333333333333,
              "#9c179e"
             ],
             [
              0.4444444444444444,
              "#bd3786"
             ],
             [
              0.5555555555555556,
              "#d8576b"
             ],
             [
              0.6666666666666666,
              "#ed7953"
             ],
             [
              0.7777777777777778,
              "#fb9f3a"
             ],
             [
              0.8888888888888888,
              "#fdca26"
             ],
             [
              1,
              "#f0f921"
             ]
            ],
            "type": "contour"
           }
          ],
          "contourcarpet": [
           {
            "colorbar": {
             "outlinewidth": 0,
             "ticks": ""
            },
            "type": "contourcarpet"
           }
          ],
          "heatmap": [
           {
            "colorbar": {
             "outlinewidth": 0,
             "ticks": ""
            },
            "colorscale": [
             [
              0,
              "#0d0887"
             ],
             [
              0.1111111111111111,
              "#46039f"
             ],
             [
              0.2222222222222222,
              "#7201a8"
             ],
             [
              0.3333333333333333,
              "#9c179e"
             ],
             [
              0.4444444444444444,
              "#bd3786"
             ],
             [
              0.5555555555555556,
              "#d8576b"
             ],
             [
              0.6666666666666666,
              "#ed7953"
             ],
             [
              0.7777777777777778,
              "#fb9f3a"
             ],
             [
              0.8888888888888888,
              "#fdca26"
             ],
             [
              1,
              "#f0f921"
             ]
            ],
            "type": "heatmap"
           }
          ],
          "heatmapgl": [
           {
            "colorbar": {
             "outlinewidth": 0,
             "ticks": ""
            },
            "colorscale": [
             [
              0,
              "#0d0887"
             ],
             [
              0.1111111111111111,
              "#46039f"
             ],
             [
              0.2222222222222222,
              "#7201a8"
             ],
             [
              0.3333333333333333,
              "#9c179e"
             ],
             [
              0.4444444444444444,
              "#bd3786"
             ],
             [
              0.5555555555555556,
              "#d8576b"
             ],
             [
              0.6666666666666666,
              "#ed7953"
             ],
             [
              0.7777777777777778,
              "#fb9f3a"
             ],
             [
              0.8888888888888888,
              "#fdca26"
             ],
             [
              1,
              "#f0f921"
             ]
            ],
            "type": "heatmapgl"
           }
          ],
          "histogram": [
           {
            "marker": {
             "pattern": {
              "fillmode": "overlay",
              "size": 10,
              "solidity": 0.2
             }
            },
            "type": "histogram"
           }
          ],
          "histogram2d": [
           {
            "colorbar": {
             "outlinewidth": 0,
             "ticks": ""
            },
            "colorscale": [
             [
              0,
              "#0d0887"
             ],
             [
              0.1111111111111111,
              "#46039f"
             ],
             [
              0.2222222222222222,
              "#7201a8"
             ],
             [
              0.3333333333333333,
              "#9c179e"
             ],
             [
              0.4444444444444444,
              "#bd3786"
             ],
             [
              0.5555555555555556,
              "#d8576b"
             ],
             [
              0.6666666666666666,
              "#ed7953"
             ],
             [
              0.7777777777777778,
              "#fb9f3a"
             ],
             [
              0.8888888888888888,
              "#fdca26"
             ],
             [
              1,
              "#f0f921"
             ]
            ],
            "type": "histogram2d"
           }
          ],
          "histogram2dcontour": [
           {
            "colorbar": {
             "outlinewidth": 0,
             "ticks": ""
            },
            "colorscale": [
             [
              0,
              "#0d0887"
             ],
             [
              0.1111111111111111,
              "#46039f"
             ],
             [
              0.2222222222222222,
              "#7201a8"
             ],
             [
              0.3333333333333333,
              "#9c179e"
             ],
             [
              0.4444444444444444,
              "#bd3786"
             ],
             [
              0.5555555555555556,
              "#d8576b"
             ],
             [
              0.6666666666666666,
              "#ed7953"
             ],
             [
              0.7777777777777778,
              "#fb9f3a"
             ],
             [
              0.8888888888888888,
              "#fdca26"
             ],
             [
              1,
              "#f0f921"
             ]
            ],
            "type": "histogram2dcontour"
           }
          ],
          "mesh3d": [
           {
            "colorbar": {
             "outlinewidth": 0,
             "ticks": ""
            },
            "type": "mesh3d"
           }
          ],
          "parcoords": [
           {
            "line": {
             "colorbar": {
              "outlinewidth": 0,
              "ticks": ""
             }
            },
            "type": "parcoords"
           }
          ],
          "pie": [
           {
            "automargin": true,
            "type": "pie"
           }
          ],
          "scatter": [
           {
            "fillpattern": {
             "fillmode": "overlay",
             "size": 10,
             "solidity": 0.2
            },
            "type": "scatter"
           }
          ],
          "scatter3d": [
           {
            "line": {
             "colorbar": {
              "outlinewidth": 0,
              "ticks": ""
             }
            },
            "marker": {
             "colorbar": {
              "outlinewidth": 0,
              "ticks": ""
             }
            },
            "type": "scatter3d"
           }
          ],
          "scattercarpet": [
           {
            "marker": {
             "colorbar": {
              "outlinewidth": 0,
              "ticks": ""
             }
            },
            "type": "scattercarpet"
           }
          ],
          "scattergeo": [
           {
            "marker": {
             "colorbar": {
              "outlinewidth": 0,
              "ticks": ""
             }
            },
            "type": "scattergeo"
           }
          ],
          "scattergl": [
           {
            "marker": {
             "colorbar": {
              "outlinewidth": 0,
              "ticks": ""
             }
            },
            "type": "scattergl"
           }
          ],
          "scattermapbox": [
           {
            "marker": {
             "colorbar": {
              "outlinewidth": 0,
              "ticks": ""
             }
            },
            "type": "scattermapbox"
           }
          ],
          "scatterpolar": [
           {
            "marker": {
             "colorbar": {
              "outlinewidth": 0,
              "ticks": ""
             }
            },
            "type": "scatterpolar"
           }
          ],
          "scatterpolargl": [
           {
            "marker": {
             "colorbar": {
              "outlinewidth": 0,
              "ticks": ""
             }
            },
            "type": "scatterpolargl"
           }
          ],
          "scatterternary": [
           {
            "marker": {
             "colorbar": {
              "outlinewidth": 0,
              "ticks": ""
             }
            },
            "type": "scatterternary"
           }
          ],
          "surface": [
           {
            "colorbar": {
             "outlinewidth": 0,
             "ticks": ""
            },
            "colorscale": [
             [
              0,
              "#0d0887"
             ],
             [
              0.1111111111111111,
              "#46039f"
             ],
             [
              0.2222222222222222,
              "#7201a8"
             ],
             [
              0.3333333333333333,
              "#9c179e"
             ],
             [
              0.4444444444444444,
              "#bd3786"
             ],
             [
              0.5555555555555556,
              "#d8576b"
             ],
             [
              0.6666666666666666,
              "#ed7953"
             ],
             [
              0.7777777777777778,
              "#fb9f3a"
             ],
             [
              0.8888888888888888,
              "#fdca26"
             ],
             [
              1,
              "#f0f921"
             ]
            ],
            "type": "surface"
           }
          ],
          "table": [
           {
            "cells": {
             "fill": {
              "color": "#EBF0F8"
             },
             "line": {
              "color": "white"
             }
            },
            "header": {
             "fill": {
              "color": "#C8D4E3"
             },
             "line": {
              "color": "white"
             }
            },
            "type": "table"
           }
          ]
         },
         "layout": {
          "annotationdefaults": {
           "arrowcolor": "#2a3f5f",
           "arrowhead": 0,
           "arrowwidth": 1
          },
          "autotypenumbers": "strict",
          "coloraxis": {
           "colorbar": {
            "outlinewidth": 0,
            "ticks": ""
           }
          },
          "colorscale": {
           "diverging": [
            [
             0,
             "#8e0152"
            ],
            [
             0.1,
             "#c51b7d"
            ],
            [
             0.2,
             "#de77ae"
            ],
            [
             0.3,
             "#f1b6da"
            ],
            [
             0.4,
             "#fde0ef"
            ],
            [
             0.5,
             "#f7f7f7"
            ],
            [
             0.6,
             "#e6f5d0"
            ],
            [
             0.7,
             "#b8e186"
            ],
            [
             0.8,
             "#7fbc41"
            ],
            [
             0.9,
             "#4d9221"
            ],
            [
             1,
             "#276419"
            ]
           ],
           "sequential": [
            [
             0,
             "#0d0887"
            ],
            [
             0.1111111111111111,
             "#46039f"
            ],
            [
             0.2222222222222222,
             "#7201a8"
            ],
            [
             0.3333333333333333,
             "#9c179e"
            ],
            [
             0.4444444444444444,
             "#bd3786"
            ],
            [
             0.5555555555555556,
             "#d8576b"
            ],
            [
             0.6666666666666666,
             "#ed7953"
            ],
            [
             0.7777777777777778,
             "#fb9f3a"
            ],
            [
             0.8888888888888888,
             "#fdca26"
            ],
            [
             1,
             "#f0f921"
            ]
           ],
           "sequentialminus": [
            [
             0,
             "#0d0887"
            ],
            [
             0.1111111111111111,
             "#46039f"
            ],
            [
             0.2222222222222222,
             "#7201a8"
            ],
            [
             0.3333333333333333,
             "#9c179e"
            ],
            [
             0.4444444444444444,
             "#bd3786"
            ],
            [
             0.5555555555555556,
             "#d8576b"
            ],
            [
             0.6666666666666666,
             "#ed7953"
            ],
            [
             0.7777777777777778,
             "#fb9f3a"
            ],
            [
             0.8888888888888888,
             "#fdca26"
            ],
            [
             1,
             "#f0f921"
            ]
           ]
          },
          "colorway": [
           "#636efa",
           "#EF553B",
           "#00cc96",
           "#ab63fa",
           "#FFA15A",
           "#19d3f3",
           "#FF6692",
           "#B6E880",
           "#FF97FF",
           "#FECB52"
          ],
          "font": {
           "color": "#2a3f5f"
          },
          "geo": {
           "bgcolor": "white",
           "lakecolor": "white",
           "landcolor": "#E5ECF6",
           "showlakes": true,
           "showland": true,
           "subunitcolor": "white"
          },
          "hoverlabel": {
           "align": "left"
          },
          "hovermode": "closest",
          "mapbox": {
           "style": "light"
          },
          "paper_bgcolor": "white",
          "plot_bgcolor": "#E5ECF6",
          "polar": {
           "angularaxis": {
            "gridcolor": "white",
            "linecolor": "white",
            "ticks": ""
           },
           "bgcolor": "#E5ECF6",
           "radialaxis": {
            "gridcolor": "white",
            "linecolor": "white",
            "ticks": ""
           }
          },
          "scene": {
           "xaxis": {
            "backgroundcolor": "#E5ECF6",
            "gridcolor": "white",
            "gridwidth": 2,
            "linecolor": "white",
            "showbackground": true,
            "ticks": "",
            "zerolinecolor": "white"
           },
           "yaxis": {
            "backgroundcolor": "#E5ECF6",
            "gridcolor": "white",
            "gridwidth": 2,
            "linecolor": "white",
            "showbackground": true,
            "ticks": "",
            "zerolinecolor": "white"
           },
           "zaxis": {
            "backgroundcolor": "#E5ECF6",
            "gridcolor": "white",
            "gridwidth": 2,
            "linecolor": "white",
            "showbackground": true,
            "ticks": "",
            "zerolinecolor": "white"
           }
          },
          "shapedefaults": {
           "line": {
            "color": "#2a3f5f"
           }
          },
          "ternary": {
           "aaxis": {
            "gridcolor": "white",
            "linecolor": "white",
            "ticks": ""
           },
           "baxis": {
            "gridcolor": "white",
            "linecolor": "white",
            "ticks": ""
           },
           "bgcolor": "#E5ECF6",
           "caxis": {
            "gridcolor": "white",
            "linecolor": "white",
            "ticks": ""
           }
          },
          "title": {
           "x": 0.05
          },
          "xaxis": {
           "automargin": true,
           "gridcolor": "white",
           "linecolor": "white",
           "ticks": "",
           "title": {
            "standoff": 15
           },
           "zerolinecolor": "white",
           "zerolinewidth": 2
          },
          "yaxis": {
           "automargin": true,
           "gridcolor": "white",
           "linecolor": "white",
           "ticks": "",
           "title": {
            "standoff": 15
           },
           "zerolinecolor": "white",
           "zerolinewidth": 2
          }
         }
        },
        "title": {
         "text": "8K violations count over the year"
        },
        "xaxis": {
         "title": {
          "text": "Date"
         }
        },
        "yaxis": {
         "title": {
          "text": "Violation Count"
         }
        }
       }
      },
      "text/html": [
       "<div>                            <div id=\"1c03562d-748d-4691-bb2b-ecca7707acdb\" class=\"plotly-graph-div\" style=\"height:525px; width:100%;\"></div>            <script type=\"text/javascript\">                require([\"plotly\"], function(Plotly) {                    window.PLOTLYENV=window.PLOTLYENV || {};                                    if (document.getElementById(\"1c03562d-748d-4691-bb2b-ecca7707acdb\")) {                    Plotly.newPlot(                        \"1c03562d-748d-4691-bb2b-ecca7707acdb\",                        [{\"x\":[1996.0,1997.0,1998.0,1999.0,2000.0,2001.0,2002.0,2003.0,2004.0,2005.0,2006.0,2007.0,2008.0,2009.0,2010.0,2011.0,2012.0,2013.0,2014.0,2015.0,2016.0,2017.0,2018.0,2019.0,2020.0,2021.0,2022.0],\"y\":[10204,14743,16312,15687,17222,20927,27236,35833,60997,65509,65920,65724,65768,64460,64700,63728,63699,63211,60500,16813,56018,59712,58091,56888,59022,58613,57548],\"type\":\"scatter\"},{\"x\":[1996.0,1997.0,1998.0,1999.0,2000.0,2001.0,2002.0,2003.0,2004.0,2005.0,2006.0,2007.0,2008.0,2009.0,2010.0,2011.0,2012.0,2013.0,2014.0,2015.0,2016.0,2017.0,2018.0,2019.0,2020.0,2021.0,2022.0],\"y\":[22,34,45,31,38,41,44,57,44,30,28,32,39,71,36,24,18,12,13,5,18,14,12,21,27,20,4],\"type\":\"bar\"}],                        {\"template\":{\"data\":{\"histogram2dcontour\":[{\"type\":\"histogram2dcontour\",\"colorbar\":{\"outlinewidth\":0,\"ticks\":\"\"},\"colorscale\":[[0.0,\"#0d0887\"],[0.1111111111111111,\"#46039f\"],[0.2222222222222222,\"#7201a8\"],[0.3333333333333333,\"#9c179e\"],[0.4444444444444444,\"#bd3786\"],[0.5555555555555556,\"#d8576b\"],[0.6666666666666666,\"#ed7953\"],[0.7777777777777778,\"#fb9f3a\"],[0.8888888888888888,\"#fdca26\"],[1.0,\"#f0f921\"]]}],\"choropleth\":[{\"type\":\"choropleth\",\"colorbar\":{\"outlinewidth\":0,\"ticks\":\"\"}}],\"histogram2d\":[{\"type\":\"histogram2d\",\"colorbar\":{\"outlinewidth\":0,\"ticks\":\"\"},\"colorscale\":[[0.0,\"#0d0887\"],[0.1111111111111111,\"#46039f\"],[0.2222222222222222,\"#7201a8\"],[0.3333333333333333,\"#9c179e\"],[0.4444444444444444,\"#bd3786\"],[0.5555555555555556,\"#d8576b\"],[0.6666666666666666,\"#ed7953\"],[0.7777777777777778,\"#fb9f3a\"],[0.8888888888888888,\"#fdca26\"],[1.0,\"#f0f921\"]]}],\"heatmap\":[{\"type\":\"heatmap\",\"colorbar\":{\"outlinewidth\":0,\"ticks\":\"\"},\"colorscale\":[[0.0,\"#0d0887\"],[0.1111111111111111,\"#46039f\"],[0.2222222222222222,\"#7201a8\"],[0.3333333333333333,\"#9c179e\"],[0.4444444444444444,\"#bd3786\"],[0.5555555555555556,\"#d8576b\"],[0.6666666666666666,\"#ed7953\"],[0.7777777777777778,\"#fb9f3a\"],[0.8888888888888888,\"#fdca26\"],[1.0,\"#f0f921\"]]}],\"heatmapgl\":[{\"type\":\"heatmapgl\",\"colorbar\":{\"outlinewidth\":0,\"ticks\":\"\"},\"colorscale\":[[0.0,\"#0d0887\"],[0.1111111111111111,\"#46039f\"],[0.2222222222222222,\"#7201a8\"],[0.3333333333333333,\"#9c179e\"],[0.4444444444444444,\"#bd3786\"],[0.5555555555555556,\"#d8576b\"],[0.6666666666666666,\"#ed7953\"],[0.7777777777777778,\"#fb9f3a\"],[0.8888888888888888,\"#fdca26\"],[1.0,\"#f0f921\"]]}],\"contourcarpet\":[{\"type\":\"contourcarpet\",\"colorbar\":{\"outlinewidth\":0,\"ticks\":\"\"}}],\"contour\":[{\"type\":\"contour\",\"colorbar\":{\"outlinewidth\":0,\"ticks\":\"\"},\"colorscale\":[[0.0,\"#0d0887\"],[0.1111111111111111,\"#46039f\"],[0.2222222222222222,\"#7201a8\"],[0.3333333333333333,\"#9c179e\"],[0.4444444444444444,\"#bd3786\"],[0.5555555555555556,\"#d8576b\"],[0.6666666666666666,\"#ed7953\"],[0.7777777777777778,\"#fb9f3a\"],[0.8888888888888888,\"#fdca26\"],[1.0,\"#f0f921\"]]}],\"surface\":[{\"type\":\"surface\",\"colorbar\":{\"outlinewidth\":0,\"ticks\":\"\"},\"colorscale\":[[0.0,\"#0d0887\"],[0.1111111111111111,\"#46039f\"],[0.2222222222222222,\"#7201a8\"],[0.3333333333333333,\"#9c179e\"],[0.4444444444444444,\"#bd3786\"],[0.5555555555555556,\"#d8576b\"],[0.6666666666666666,\"#ed7953\"],[0.7777777777777778,\"#fb9f3a\"],[0.8888888888888888,\"#fdca26\"],[1.0,\"#f0f921\"]]}],\"mesh3d\":[{\"type\":\"mesh3d\",\"colorbar\":{\"outlinewidth\":0,\"ticks\":\"\"}}],\"scatter\":[{\"fillpattern\":{\"fillmode\":\"overlay\",\"size\":10,\"solidity\":0.2},\"type\":\"scatter\"}],\"parcoords\":[{\"type\":\"parcoords\",\"line\":{\"colorbar\":{\"outlinewidth\":0,\"ticks\":\"\"}}}],\"scatterpolargl\":[{\"type\":\"scatterpolargl\",\"marker\":{\"colorbar\":{\"outlinewidth\":0,\"ticks\":\"\"}}}],\"bar\":[{\"error_x\":{\"color\":\"#2a3f5f\"},\"error_y\":{\"color\":\"#2a3f5f\"},\"marker\":{\"line\":{\"color\":\"#E5ECF6\",\"width\":0.5},\"pattern\":{\"fillmode\":\"overlay\",\"size\":10,\"solidity\":0.2}},\"type\":\"bar\"}],\"scattergeo\":[{\"type\":\"scattergeo\",\"marker\":{\"colorbar\":{\"outlinewidth\":0,\"ticks\":\"\"}}}],\"scatterpolar\":[{\"type\":\"scatterpolar\",\"marker\":{\"colorbar\":{\"outlinewidth\":0,\"ticks\":\"\"}}}],\"histogram\":[{\"marker\":{\"pattern\":{\"fillmode\":\"overlay\",\"size\":10,\"solidity\":0.2}},\"type\":\"histogram\"}],\"scattergl\":[{\"type\":\"scattergl\",\"marker\":{\"colorbar\":{\"outlinewidth\":0,\"ticks\":\"\"}}}],\"scatter3d\":[{\"type\":\"scatter3d\",\"line\":{\"colorbar\":{\"outlinewidth\":0,\"ticks\":\"\"}},\"marker\":{\"colorbar\":{\"outlinewidth\":0,\"ticks\":\"\"}}}],\"scattermapbox\":[{\"type\":\"scattermapbox\",\"marker\":{\"colorbar\":{\"outlinewidth\":0,\"ticks\":\"\"}}}],\"scatterternary\":[{\"type\":\"scatterternary\",\"marker\":{\"colorbar\":{\"outlinewidth\":0,\"ticks\":\"\"}}}],\"scattercarpet\":[{\"type\":\"scattercarpet\",\"marker\":{\"colorbar\":{\"outlinewidth\":0,\"ticks\":\"\"}}}],\"carpet\":[{\"aaxis\":{\"endlinecolor\":\"#2a3f5f\",\"gridcolor\":\"white\",\"linecolor\":\"white\",\"minorgridcolor\":\"white\",\"startlinecolor\":\"#2a3f5f\"},\"baxis\":{\"endlinecolor\":\"#2a3f5f\",\"gridcolor\":\"white\",\"linecolor\":\"white\",\"minorgridcolor\":\"white\",\"startlinecolor\":\"#2a3f5f\"},\"type\":\"carpet\"}],\"table\":[{\"cells\":{\"fill\":{\"color\":\"#EBF0F8\"},\"line\":{\"color\":\"white\"}},\"header\":{\"fill\":{\"color\":\"#C8D4E3\"},\"line\":{\"color\":\"white\"}},\"type\":\"table\"}],\"barpolar\":[{\"marker\":{\"line\":{\"color\":\"#E5ECF6\",\"width\":0.5},\"pattern\":{\"fillmode\":\"overlay\",\"size\":10,\"solidity\":0.2}},\"type\":\"barpolar\"}],\"pie\":[{\"automargin\":true,\"type\":\"pie\"}]},\"layout\":{\"autotypenumbers\":\"strict\",\"colorway\":[\"#636efa\",\"#EF553B\",\"#00cc96\",\"#ab63fa\",\"#FFA15A\",\"#19d3f3\",\"#FF6692\",\"#B6E880\",\"#FF97FF\",\"#FECB52\"],\"font\":{\"color\":\"#2a3f5f\"},\"hovermode\":\"closest\",\"hoverlabel\":{\"align\":\"left\"},\"paper_bgcolor\":\"white\",\"plot_bgcolor\":\"#E5ECF6\",\"polar\":{\"bgcolor\":\"#E5ECF6\",\"angularaxis\":{\"gridcolor\":\"white\",\"linecolor\":\"white\",\"ticks\":\"\"},\"radialaxis\":{\"gridcolor\":\"white\",\"linecolor\":\"white\",\"ticks\":\"\"}},\"ternary\":{\"bgcolor\":\"#E5ECF6\",\"aaxis\":{\"gridcolor\":\"white\",\"linecolor\":\"white\",\"ticks\":\"\"},\"baxis\":{\"gridcolor\":\"white\",\"linecolor\":\"white\",\"ticks\":\"\"},\"caxis\":{\"gridcolor\":\"white\",\"linecolor\":\"white\",\"ticks\":\"\"}},\"coloraxis\":{\"colorbar\":{\"outlinewidth\":0,\"ticks\":\"\"}},\"colorscale\":{\"sequential\":[[0.0,\"#0d0887\"],[0.1111111111111111,\"#46039f\"],[0.2222222222222222,\"#7201a8\"],[0.3333333333333333,\"#9c179e\"],[0.4444444444444444,\"#bd3786\"],[0.5555555555555556,\"#d8576b\"],[0.6666666666666666,\"#ed7953\"],[0.7777777777777778,\"#fb9f3a\"],[0.8888888888888888,\"#fdca26\"],[1.0,\"#f0f921\"]],\"sequentialminus\":[[0.0,\"#0d0887\"],[0.1111111111111111,\"#46039f\"],[0.2222222222222222,\"#7201a8\"],[0.3333333333333333,\"#9c179e\"],[0.4444444444444444,\"#bd3786\"],[0.5555555555555556,\"#d8576b\"],[0.6666666666666666,\"#ed7953\"],[0.7777777777777778,\"#fb9f3a\"],[0.8888888888888888,\"#fdca26\"],[1.0,\"#f0f921\"]],\"diverging\":[[0,\"#8e0152\"],[0.1,\"#c51b7d\"],[0.2,\"#de77ae\"],[0.3,\"#f1b6da\"],[0.4,\"#fde0ef\"],[0.5,\"#f7f7f7\"],[0.6,\"#e6f5d0\"],[0.7,\"#b8e186\"],[0.8,\"#7fbc41\"],[0.9,\"#4d9221\"],[1,\"#276419\"]]},\"xaxis\":{\"gridcolor\":\"white\",\"linecolor\":\"white\",\"ticks\":\"\",\"title\":{\"standoff\":15},\"zerolinecolor\":\"white\",\"automargin\":true,\"zerolinewidth\":2},\"yaxis\":{\"gridcolor\":\"white\",\"linecolor\":\"white\",\"ticks\":\"\",\"title\":{\"standoff\":15},\"zerolinecolor\":\"white\",\"automargin\":true,\"zerolinewidth\":2},\"scene\":{\"xaxis\":{\"backgroundcolor\":\"#E5ECF6\",\"gridcolor\":\"white\",\"linecolor\":\"white\",\"showbackground\":true,\"ticks\":\"\",\"zerolinecolor\":\"white\",\"gridwidth\":2},\"yaxis\":{\"backgroundcolor\":\"#E5ECF6\",\"gridcolor\":\"white\",\"linecolor\":\"white\",\"showbackground\":true,\"ticks\":\"\",\"zerolinecolor\":\"white\",\"gridwidth\":2},\"zaxis\":{\"backgroundcolor\":\"#E5ECF6\",\"gridcolor\":\"white\",\"linecolor\":\"white\",\"showbackground\":true,\"ticks\":\"\",\"zerolinecolor\":\"white\",\"gridwidth\":2}},\"shapedefaults\":{\"line\":{\"color\":\"#2a3f5f\"}},\"annotationdefaults\":{\"arrowcolor\":\"#2a3f5f\",\"arrowhead\":0,\"arrowwidth\":1},\"geo\":{\"bgcolor\":\"white\",\"landcolor\":\"#E5ECF6\",\"subunitcolor\":\"white\",\"showland\":true,\"showlakes\":true,\"lakecolor\":\"white\"},\"title\":{\"x\":0.05},\"mapbox\":{\"style\":\"light\"}}},\"title\":{\"text\":\"8K violations count over the year\"},\"xaxis\":{\"title\":{\"text\":\"Date\"}},\"yaxis\":{\"title\":{\"text\":\"Violation Count\"}}},                        {\"responsive\": true}                    ).then(function(){\n",
       "                            \n",
       "var gd = document.getElementById('1c03562d-748d-4691-bb2b-ecca7707acdb');\n",
       "var x = new MutationObserver(function (mutations, observer) {{\n",
       "        var display = window.getComputedStyle(gd).display;\n",
       "        if (!display || display === 'none') {{\n",
       "            console.log([gd, 'removed!']);\n",
       "            Plotly.purge(gd);\n",
       "            observer.disconnect();\n",
       "        }}\n",
       "}});\n",
       "\n",
       "// Listen for the removal of the full notebook cells\n",
       "var notebookContainer = gd.closest('#notebook-container');\n",
       "if (notebookContainer) {{\n",
       "    x.observe(notebookContainer, {childList: true});\n",
       "}}\n",
       "\n",
       "// Listen for the clearing of the current output cell\n",
       "var outputEl = gd.closest('.output');\n",
       "if (outputEl) {{\n",
       "    x.observe(outputEl, {childList: true});\n",
       "}}\n",
       "\n",
       "                        })                };                });            </script>        </div>"
      ]
     },
     "metadata": {},
     "output_type": "display_data"
    }
   ],
   "source": [
    "import plotly.graph_objects as go\n",
    "\n",
    "\n",
    "# Create the figure object and specify the layout\n",
    "fig = go.Figure()\n",
    "\n",
    "\n",
    "\n",
    "# Line Plot\n",
    "\n",
    "\n",
    "fig.add_trace( \n",
    "    go.Scatter(       x=new_df81['year'], \n",
    "                      y=new_df81['record_total'], \n",
    "                     #   mode='lines', \n",
    "                        #name='Total files'\n",
    "              )\n",
    "            )\n",
    "\n",
    "# Bar Plot\n",
    "fig.add_trace( \n",
    "        go.Bar(\n",
    "                  x=new_df81[\"year\"], \n",
    "                     y=new_df81[1.0]\n",
    "                     )\n",
    "        )\n",
    "\n",
    "\n",
    "fig.update_layout(title='8K violations count over the year', \n",
    "                  xaxis_title='Date', \n",
    "                  yaxis_title='Violation Count')\n",
    "\n",
    "# fig.update_yaxes(title_text=\"<b>secondary</b> yaxis title\", secondary_y=True)\n",
    "# Show the plot\n",
    "fig.show()"
   ]
  },
  {
   "cell_type": "code",
   "execution_count": 387,
   "id": "b5a8bcf7",
   "metadata": {},
   "outputs": [
    {
     "data": {
      "application/vnd.plotly.v1+json": {
       "config": {
        "plotlyServerURL": "https://plot.ly"
       },
       "data": [
        {
         "alignmentgroup": "True",
         "hovertemplate": "year=%{x}<br>1.0=%{y}<extra></extra>",
         "legendgroup": "",
         "marker": {
          "color": "#636efa",
          "pattern": {
           "shape": ""
          }
         },
         "name": "",
         "offsetgroup": "",
         "orientation": "v",
         "showlegend": false,
         "textposition": "auto",
         "type": "bar",
         "x": [
          1996,
          1997,
          1998,
          1999,
          2000,
          2001,
          2002,
          2003,
          2004,
          2005,
          2006,
          2007,
          2008,
          2009,
          2010,
          2011,
          2012,
          2013,
          2014,
          2015,
          2016,
          2017,
          2018,
          2019,
          2020,
          2021,
          2022
         ],
         "xaxis": "x",
         "y": [
          22,
          34,
          45,
          31,
          38,
          41,
          44,
          57,
          44,
          30,
          28,
          32,
          39,
          71,
          36,
          24,
          18,
          12,
          13,
          5,
          18,
          14,
          12,
          21,
          27,
          20,
          4
         ],
         "yaxis": "y"
        }
       ],
       "layout": {
        "barmode": "relative",
        "legend": {
         "tracegroupgap": 0
        },
        "template": {
         "data": {
          "bar": [
           {
            "error_x": {
             "color": "#2a3f5f"
            },
            "error_y": {
             "color": "#2a3f5f"
            },
            "marker": {
             "line": {
              "color": "#E5ECF6",
              "width": 0.5
             },
             "pattern": {
              "fillmode": "overlay",
              "size": 10,
              "solidity": 0.2
             }
            },
            "type": "bar"
           }
          ],
          "barpolar": [
           {
            "marker": {
             "line": {
              "color": "#E5ECF6",
              "width": 0.5
             },
             "pattern": {
              "fillmode": "overlay",
              "size": 10,
              "solidity": 0.2
             }
            },
            "type": "barpolar"
           }
          ],
          "carpet": [
           {
            "aaxis": {
             "endlinecolor": "#2a3f5f",
             "gridcolor": "white",
             "linecolor": "white",
             "minorgridcolor": "white",
             "startlinecolor": "#2a3f5f"
            },
            "baxis": {
             "endlinecolor": "#2a3f5f",
             "gridcolor": "white",
             "linecolor": "white",
             "minorgridcolor": "white",
             "startlinecolor": "#2a3f5f"
            },
            "type": "carpet"
           }
          ],
          "choropleth": [
           {
            "colorbar": {
             "outlinewidth": 0,
             "ticks": ""
            },
            "type": "choropleth"
           }
          ],
          "contour": [
           {
            "colorbar": {
             "outlinewidth": 0,
             "ticks": ""
            },
            "colorscale": [
             [
              0,
              "#0d0887"
             ],
             [
              0.1111111111111111,
              "#46039f"
             ],
             [
              0.2222222222222222,
              "#7201a8"
             ],
             [
              0.3333333333333333,
              "#9c179e"
             ],
             [
              0.4444444444444444,
              "#bd3786"
             ],
             [
              0.5555555555555556,
              "#d8576b"
             ],
             [
              0.6666666666666666,
              "#ed7953"
             ],
             [
              0.7777777777777778,
              "#fb9f3a"
             ],
             [
              0.8888888888888888,
              "#fdca26"
             ],
             [
              1,
              "#f0f921"
             ]
            ],
            "type": "contour"
           }
          ],
          "contourcarpet": [
           {
            "colorbar": {
             "outlinewidth": 0,
             "ticks": ""
            },
            "type": "contourcarpet"
           }
          ],
          "heatmap": [
           {
            "colorbar": {
             "outlinewidth": 0,
             "ticks": ""
            },
            "colorscale": [
             [
              0,
              "#0d0887"
             ],
             [
              0.1111111111111111,
              "#46039f"
             ],
             [
              0.2222222222222222,
              "#7201a8"
             ],
             [
              0.3333333333333333,
              "#9c179e"
             ],
             [
              0.4444444444444444,
              "#bd3786"
             ],
             [
              0.5555555555555556,
              "#d8576b"
             ],
             [
              0.6666666666666666,
              "#ed7953"
             ],
             [
              0.7777777777777778,
              "#fb9f3a"
             ],
             [
              0.8888888888888888,
              "#fdca26"
             ],
             [
              1,
              "#f0f921"
             ]
            ],
            "type": "heatmap"
           }
          ],
          "heatmapgl": [
           {
            "colorbar": {
             "outlinewidth": 0,
             "ticks": ""
            },
            "colorscale": [
             [
              0,
              "#0d0887"
             ],
             [
              0.1111111111111111,
              "#46039f"
             ],
             [
              0.2222222222222222,
              "#7201a8"
             ],
             [
              0.3333333333333333,
              "#9c179e"
             ],
             [
              0.4444444444444444,
              "#bd3786"
             ],
             [
              0.5555555555555556,
              "#d8576b"
             ],
             [
              0.6666666666666666,
              "#ed7953"
             ],
             [
              0.7777777777777778,
              "#fb9f3a"
             ],
             [
              0.8888888888888888,
              "#fdca26"
             ],
             [
              1,
              "#f0f921"
             ]
            ],
            "type": "heatmapgl"
           }
          ],
          "histogram": [
           {
            "marker": {
             "pattern": {
              "fillmode": "overlay",
              "size": 10,
              "solidity": 0.2
             }
            },
            "type": "histogram"
           }
          ],
          "histogram2d": [
           {
            "colorbar": {
             "outlinewidth": 0,
             "ticks": ""
            },
            "colorscale": [
             [
              0,
              "#0d0887"
             ],
             [
              0.1111111111111111,
              "#46039f"
             ],
             [
              0.2222222222222222,
              "#7201a8"
             ],
             [
              0.3333333333333333,
              "#9c179e"
             ],
             [
              0.4444444444444444,
              "#bd3786"
             ],
             [
              0.5555555555555556,
              "#d8576b"
             ],
             [
              0.6666666666666666,
              "#ed7953"
             ],
             [
              0.7777777777777778,
              "#fb9f3a"
             ],
             [
              0.8888888888888888,
              "#fdca26"
             ],
             [
              1,
              "#f0f921"
             ]
            ],
            "type": "histogram2d"
           }
          ],
          "histogram2dcontour": [
           {
            "colorbar": {
             "outlinewidth": 0,
             "ticks": ""
            },
            "colorscale": [
             [
              0,
              "#0d0887"
             ],
             [
              0.1111111111111111,
              "#46039f"
             ],
             [
              0.2222222222222222,
              "#7201a8"
             ],
             [
              0.3333333333333333,
              "#9c179e"
             ],
             [
              0.4444444444444444,
              "#bd3786"
             ],
             [
              0.5555555555555556,
              "#d8576b"
             ],
             [
              0.6666666666666666,
              "#ed7953"
             ],
             [
              0.7777777777777778,
              "#fb9f3a"
             ],
             [
              0.8888888888888888,
              "#fdca26"
             ],
             [
              1,
              "#f0f921"
             ]
            ],
            "type": "histogram2dcontour"
           }
          ],
          "mesh3d": [
           {
            "colorbar": {
             "outlinewidth": 0,
             "ticks": ""
            },
            "type": "mesh3d"
           }
          ],
          "parcoords": [
           {
            "line": {
             "colorbar": {
              "outlinewidth": 0,
              "ticks": ""
             }
            },
            "type": "parcoords"
           }
          ],
          "pie": [
           {
            "automargin": true,
            "type": "pie"
           }
          ],
          "scatter": [
           {
            "fillpattern": {
             "fillmode": "overlay",
             "size": 10,
             "solidity": 0.2
            },
            "type": "scatter"
           }
          ],
          "scatter3d": [
           {
            "line": {
             "colorbar": {
              "outlinewidth": 0,
              "ticks": ""
             }
            },
            "marker": {
             "colorbar": {
              "outlinewidth": 0,
              "ticks": ""
             }
            },
            "type": "scatter3d"
           }
          ],
          "scattercarpet": [
           {
            "marker": {
             "colorbar": {
              "outlinewidth": 0,
              "ticks": ""
             }
            },
            "type": "scattercarpet"
           }
          ],
          "scattergeo": [
           {
            "marker": {
             "colorbar": {
              "outlinewidth": 0,
              "ticks": ""
             }
            },
            "type": "scattergeo"
           }
          ],
          "scattergl": [
           {
            "marker": {
             "colorbar": {
              "outlinewidth": 0,
              "ticks": ""
             }
            },
            "type": "scattergl"
           }
          ],
          "scattermapbox": [
           {
            "marker": {
             "colorbar": {
              "outlinewidth": 0,
              "ticks": ""
             }
            },
            "type": "scattermapbox"
           }
          ],
          "scatterpolar": [
           {
            "marker": {
             "colorbar": {
              "outlinewidth": 0,
              "ticks": ""
             }
            },
            "type": "scatterpolar"
           }
          ],
          "scatterpolargl": [
           {
            "marker": {
             "colorbar": {
              "outlinewidth": 0,
              "ticks": ""
             }
            },
            "type": "scatterpolargl"
           }
          ],
          "scatterternary": [
           {
            "marker": {
             "colorbar": {
              "outlinewidth": 0,
              "ticks": ""
             }
            },
            "type": "scatterternary"
           }
          ],
          "surface": [
           {
            "colorbar": {
             "outlinewidth": 0,
             "ticks": ""
            },
            "colorscale": [
             [
              0,
              "#0d0887"
             ],
             [
              0.1111111111111111,
              "#46039f"
             ],
             [
              0.2222222222222222,
              "#7201a8"
             ],
             [
              0.3333333333333333,
              "#9c179e"
             ],
             [
              0.4444444444444444,
              "#bd3786"
             ],
             [
              0.5555555555555556,
              "#d8576b"
             ],
             [
              0.6666666666666666,
              "#ed7953"
             ],
             [
              0.7777777777777778,
              "#fb9f3a"
             ],
             [
              0.8888888888888888,
              "#fdca26"
             ],
             [
              1,
              "#f0f921"
             ]
            ],
            "type": "surface"
           }
          ],
          "table": [
           {
            "cells": {
             "fill": {
              "color": "#EBF0F8"
             },
             "line": {
              "color": "white"
             }
            },
            "header": {
             "fill": {
              "color": "#C8D4E3"
             },
             "line": {
              "color": "white"
             }
            },
            "type": "table"
           }
          ]
         },
         "layout": {
          "annotationdefaults": {
           "arrowcolor": "#2a3f5f",
           "arrowhead": 0,
           "arrowwidth": 1
          },
          "autotypenumbers": "strict",
          "coloraxis": {
           "colorbar": {
            "outlinewidth": 0,
            "ticks": ""
           }
          },
          "colorscale": {
           "diverging": [
            [
             0,
             "#8e0152"
            ],
            [
             0.1,
             "#c51b7d"
            ],
            [
             0.2,
             "#de77ae"
            ],
            [
             0.3,
             "#f1b6da"
            ],
            [
             0.4,
             "#fde0ef"
            ],
            [
             0.5,
             "#f7f7f7"
            ],
            [
             0.6,
             "#e6f5d0"
            ],
            [
             0.7,
             "#b8e186"
            ],
            [
             0.8,
             "#7fbc41"
            ],
            [
             0.9,
             "#4d9221"
            ],
            [
             1,
             "#276419"
            ]
           ],
           "sequential": [
            [
             0,
             "#0d0887"
            ],
            [
             0.1111111111111111,
             "#46039f"
            ],
            [
             0.2222222222222222,
             "#7201a8"
            ],
            [
             0.3333333333333333,
             "#9c179e"
            ],
            [
             0.4444444444444444,
             "#bd3786"
            ],
            [
             0.5555555555555556,
             "#d8576b"
            ],
            [
             0.6666666666666666,
             "#ed7953"
            ],
            [
             0.7777777777777778,
             "#fb9f3a"
            ],
            [
             0.8888888888888888,
             "#fdca26"
            ],
            [
             1,
             "#f0f921"
            ]
           ],
           "sequentialminus": [
            [
             0,
             "#0d0887"
            ],
            [
             0.1111111111111111,
             "#46039f"
            ],
            [
             0.2222222222222222,
             "#7201a8"
            ],
            [
             0.3333333333333333,
             "#9c179e"
            ],
            [
             0.4444444444444444,
             "#bd3786"
            ],
            [
             0.5555555555555556,
             "#d8576b"
            ],
            [
             0.6666666666666666,
             "#ed7953"
            ],
            [
             0.7777777777777778,
             "#fb9f3a"
            ],
            [
             0.8888888888888888,
             "#fdca26"
            ],
            [
             1,
             "#f0f921"
            ]
           ]
          },
          "colorway": [
           "#636efa",
           "#EF553B",
           "#00cc96",
           "#ab63fa",
           "#FFA15A",
           "#19d3f3",
           "#FF6692",
           "#B6E880",
           "#FF97FF",
           "#FECB52"
          ],
          "font": {
           "color": "#2a3f5f"
          },
          "geo": {
           "bgcolor": "white",
           "lakecolor": "white",
           "landcolor": "#E5ECF6",
           "showlakes": true,
           "showland": true,
           "subunitcolor": "white"
          },
          "hoverlabel": {
           "align": "left"
          },
          "hovermode": "closest",
          "mapbox": {
           "style": "light"
          },
          "paper_bgcolor": "white",
          "plot_bgcolor": "#E5ECF6",
          "polar": {
           "angularaxis": {
            "gridcolor": "white",
            "linecolor": "white",
            "ticks": ""
           },
           "bgcolor": "#E5ECF6",
           "radialaxis": {
            "gridcolor": "white",
            "linecolor": "white",
            "ticks": ""
           }
          },
          "scene": {
           "xaxis": {
            "backgroundcolor": "#E5ECF6",
            "gridcolor": "white",
            "gridwidth": 2,
            "linecolor": "white",
            "showbackground": true,
            "ticks": "",
            "zerolinecolor": "white"
           },
           "yaxis": {
            "backgroundcolor": "#E5ECF6",
            "gridcolor": "white",
            "gridwidth": 2,
            "linecolor": "white",
            "showbackground": true,
            "ticks": "",
            "zerolinecolor": "white"
           },
           "zaxis": {
            "backgroundcolor": "#E5ECF6",
            "gridcolor": "white",
            "gridwidth": 2,
            "linecolor": "white",
            "showbackground": true,
            "ticks": "",
            "zerolinecolor": "white"
           }
          },
          "shapedefaults": {
           "line": {
            "color": "#2a3f5f"
           }
          },
          "ternary": {
           "aaxis": {
            "gridcolor": "white",
            "linecolor": "white",
            "ticks": ""
           },
           "baxis": {
            "gridcolor": "white",
            "linecolor": "white",
            "ticks": ""
           },
           "bgcolor": "#E5ECF6",
           "caxis": {
            "gridcolor": "white",
            "linecolor": "white",
            "ticks": ""
           }
          },
          "title": {
           "x": 0.05
          },
          "xaxis": {
           "automargin": true,
           "gridcolor": "white",
           "linecolor": "white",
           "ticks": "",
           "title": {
            "standoff": 15
           },
           "zerolinecolor": "white",
           "zerolinewidth": 2
          },
          "yaxis": {
           "automargin": true,
           "gridcolor": "white",
           "linecolor": "white",
           "ticks": "",
           "title": {
            "standoff": 15
           },
           "zerolinecolor": "white",
           "zerolinewidth": 2
          }
         }
        },
        "title": {
         "text": "8K violations count over the year"
        },
        "xaxis": {
         "anchor": "y",
         "domain": [
          0,
          1
         ],
         "title": {
          "text": "year"
         }
        },
        "yaxis": {
         "anchor": "x",
         "domain": [
          0,
          1
         ],
         "title": {
          "text": "1.0"
         }
        }
       }
      },
      "text/html": [
       "<div>                            <div id=\"8d896ddd-376b-490c-9517-bfa6913379bf\" class=\"plotly-graph-div\" style=\"height:525px; width:100%;\"></div>            <script type=\"text/javascript\">                require([\"plotly\"], function(Plotly) {                    window.PLOTLYENV=window.PLOTLYENV || {};                                    if (document.getElementById(\"8d896ddd-376b-490c-9517-bfa6913379bf\")) {                    Plotly.newPlot(                        \"8d896ddd-376b-490c-9517-bfa6913379bf\",                        [{\"alignmentgroup\":\"True\",\"hovertemplate\":\"year=%{x}<br>1.0=%{y}<extra></extra>\",\"legendgroup\":\"\",\"marker\":{\"color\":\"#636efa\",\"pattern\":{\"shape\":\"\"}},\"name\":\"\",\"offsetgroup\":\"\",\"orientation\":\"v\",\"showlegend\":false,\"textposition\":\"auto\",\"x\":[1996.0,1997.0,1998.0,1999.0,2000.0,2001.0,2002.0,2003.0,2004.0,2005.0,2006.0,2007.0,2008.0,2009.0,2010.0,2011.0,2012.0,2013.0,2014.0,2015.0,2016.0,2017.0,2018.0,2019.0,2020.0,2021.0,2022.0],\"xaxis\":\"x\",\"y\":[22,34,45,31,38,41,44,57,44,30,28,32,39,71,36,24,18,12,13,5,18,14,12,21,27,20,4],\"yaxis\":\"y\",\"type\":\"bar\"}],                        {\"template\":{\"data\":{\"histogram2dcontour\":[{\"type\":\"histogram2dcontour\",\"colorbar\":{\"outlinewidth\":0,\"ticks\":\"\"},\"colorscale\":[[0.0,\"#0d0887\"],[0.1111111111111111,\"#46039f\"],[0.2222222222222222,\"#7201a8\"],[0.3333333333333333,\"#9c179e\"],[0.4444444444444444,\"#bd3786\"],[0.5555555555555556,\"#d8576b\"],[0.6666666666666666,\"#ed7953\"],[0.7777777777777778,\"#fb9f3a\"],[0.8888888888888888,\"#fdca26\"],[1.0,\"#f0f921\"]]}],\"choropleth\":[{\"type\":\"choropleth\",\"colorbar\":{\"outlinewidth\":0,\"ticks\":\"\"}}],\"histogram2d\":[{\"type\":\"histogram2d\",\"colorbar\":{\"outlinewidth\":0,\"ticks\":\"\"},\"colorscale\":[[0.0,\"#0d0887\"],[0.1111111111111111,\"#46039f\"],[0.2222222222222222,\"#7201a8\"],[0.3333333333333333,\"#9c179e\"],[0.4444444444444444,\"#bd3786\"],[0.5555555555555556,\"#d8576b\"],[0.6666666666666666,\"#ed7953\"],[0.7777777777777778,\"#fb9f3a\"],[0.8888888888888888,\"#fdca26\"],[1.0,\"#f0f921\"]]}],\"heatmap\":[{\"type\":\"heatmap\",\"colorbar\":{\"outlinewidth\":0,\"ticks\":\"\"},\"colorscale\":[[0.0,\"#0d0887\"],[0.1111111111111111,\"#46039f\"],[0.2222222222222222,\"#7201a8\"],[0.3333333333333333,\"#9c179e\"],[0.4444444444444444,\"#bd3786\"],[0.5555555555555556,\"#d8576b\"],[0.6666666666666666,\"#ed7953\"],[0.7777777777777778,\"#fb9f3a\"],[0.8888888888888888,\"#fdca26\"],[1.0,\"#f0f921\"]]}],\"heatmapgl\":[{\"type\":\"heatmapgl\",\"colorbar\":{\"outlinewidth\":0,\"ticks\":\"\"},\"colorscale\":[[0.0,\"#0d0887\"],[0.1111111111111111,\"#46039f\"],[0.2222222222222222,\"#7201a8\"],[0.3333333333333333,\"#9c179e\"],[0.4444444444444444,\"#bd3786\"],[0.5555555555555556,\"#d8576b\"],[0.6666666666666666,\"#ed7953\"],[0.7777777777777778,\"#fb9f3a\"],[0.8888888888888888,\"#fdca26\"],[1.0,\"#f0f921\"]]}],\"contourcarpet\":[{\"type\":\"contourcarpet\",\"colorbar\":{\"outlinewidth\":0,\"ticks\":\"\"}}],\"contour\":[{\"type\":\"contour\",\"colorbar\":{\"outlinewidth\":0,\"ticks\":\"\"},\"colorscale\":[[0.0,\"#0d0887\"],[0.1111111111111111,\"#46039f\"],[0.2222222222222222,\"#7201a8\"],[0.3333333333333333,\"#9c179e\"],[0.4444444444444444,\"#bd3786\"],[0.5555555555555556,\"#d8576b\"],[0.6666666666666666,\"#ed7953\"],[0.7777777777777778,\"#fb9f3a\"],[0.8888888888888888,\"#fdca26\"],[1.0,\"#f0f921\"]]}],\"surface\":[{\"type\":\"surface\",\"colorbar\":{\"outlinewidth\":0,\"ticks\":\"\"},\"colorscale\":[[0.0,\"#0d0887\"],[0.1111111111111111,\"#46039f\"],[0.2222222222222222,\"#7201a8\"],[0.3333333333333333,\"#9c179e\"],[0.4444444444444444,\"#bd3786\"],[0.5555555555555556,\"#d8576b\"],[0.6666666666666666,\"#ed7953\"],[0.7777777777777778,\"#fb9f3a\"],[0.8888888888888888,\"#fdca26\"],[1.0,\"#f0f921\"]]}],\"mesh3d\":[{\"type\":\"mesh3d\",\"colorbar\":{\"outlinewidth\":0,\"ticks\":\"\"}}],\"scatter\":[{\"fillpattern\":{\"fillmode\":\"overlay\",\"size\":10,\"solidity\":0.2},\"type\":\"scatter\"}],\"parcoords\":[{\"type\":\"parcoords\",\"line\":{\"colorbar\":{\"outlinewidth\":0,\"ticks\":\"\"}}}],\"scatterpolargl\":[{\"type\":\"scatterpolargl\",\"marker\":{\"colorbar\":{\"outlinewidth\":0,\"ticks\":\"\"}}}],\"bar\":[{\"error_x\":{\"color\":\"#2a3f5f\"},\"error_y\":{\"color\":\"#2a3f5f\"},\"marker\":{\"line\":{\"color\":\"#E5ECF6\",\"width\":0.5},\"pattern\":{\"fillmode\":\"overlay\",\"size\":10,\"solidity\":0.2}},\"type\":\"bar\"}],\"scattergeo\":[{\"type\":\"scattergeo\",\"marker\":{\"colorbar\":{\"outlinewidth\":0,\"ticks\":\"\"}}}],\"scatterpolar\":[{\"type\":\"scatterpolar\",\"marker\":{\"colorbar\":{\"outlinewidth\":0,\"ticks\":\"\"}}}],\"histogram\":[{\"marker\":{\"pattern\":{\"fillmode\":\"overlay\",\"size\":10,\"solidity\":0.2}},\"type\":\"histogram\"}],\"scattergl\":[{\"type\":\"scattergl\",\"marker\":{\"colorbar\":{\"outlinewidth\":0,\"ticks\":\"\"}}}],\"scatter3d\":[{\"type\":\"scatter3d\",\"line\":{\"colorbar\":{\"outlinewidth\":0,\"ticks\":\"\"}},\"marker\":{\"colorbar\":{\"outlinewidth\":0,\"ticks\":\"\"}}}],\"scattermapbox\":[{\"type\":\"scattermapbox\",\"marker\":{\"colorbar\":{\"outlinewidth\":0,\"ticks\":\"\"}}}],\"scatterternary\":[{\"type\":\"scatterternary\",\"marker\":{\"colorbar\":{\"outlinewidth\":0,\"ticks\":\"\"}}}],\"scattercarpet\":[{\"type\":\"scattercarpet\",\"marker\":{\"colorbar\":{\"outlinewidth\":0,\"ticks\":\"\"}}}],\"carpet\":[{\"aaxis\":{\"endlinecolor\":\"#2a3f5f\",\"gridcolor\":\"white\",\"linecolor\":\"white\",\"minorgridcolor\":\"white\",\"startlinecolor\":\"#2a3f5f\"},\"baxis\":{\"endlinecolor\":\"#2a3f5f\",\"gridcolor\":\"white\",\"linecolor\":\"white\",\"minorgridcolor\":\"white\",\"startlinecolor\":\"#2a3f5f\"},\"type\":\"carpet\"}],\"table\":[{\"cells\":{\"fill\":{\"color\":\"#EBF0F8\"},\"line\":{\"color\":\"white\"}},\"header\":{\"fill\":{\"color\":\"#C8D4E3\"},\"line\":{\"color\":\"white\"}},\"type\":\"table\"}],\"barpolar\":[{\"marker\":{\"line\":{\"color\":\"#E5ECF6\",\"width\":0.5},\"pattern\":{\"fillmode\":\"overlay\",\"size\":10,\"solidity\":0.2}},\"type\":\"barpolar\"}],\"pie\":[{\"automargin\":true,\"type\":\"pie\"}]},\"layout\":{\"autotypenumbers\":\"strict\",\"colorway\":[\"#636efa\",\"#EF553B\",\"#00cc96\",\"#ab63fa\",\"#FFA15A\",\"#19d3f3\",\"#FF6692\",\"#B6E880\",\"#FF97FF\",\"#FECB52\"],\"font\":{\"color\":\"#2a3f5f\"},\"hovermode\":\"closest\",\"hoverlabel\":{\"align\":\"left\"},\"paper_bgcolor\":\"white\",\"plot_bgcolor\":\"#E5ECF6\",\"polar\":{\"bgcolor\":\"#E5ECF6\",\"angularaxis\":{\"gridcolor\":\"white\",\"linecolor\":\"white\",\"ticks\":\"\"},\"radialaxis\":{\"gridcolor\":\"white\",\"linecolor\":\"white\",\"ticks\":\"\"}},\"ternary\":{\"bgcolor\":\"#E5ECF6\",\"aaxis\":{\"gridcolor\":\"white\",\"linecolor\":\"white\",\"ticks\":\"\"},\"baxis\":{\"gridcolor\":\"white\",\"linecolor\":\"white\",\"ticks\":\"\"},\"caxis\":{\"gridcolor\":\"white\",\"linecolor\":\"white\",\"ticks\":\"\"}},\"coloraxis\":{\"colorbar\":{\"outlinewidth\":0,\"ticks\":\"\"}},\"colorscale\":{\"sequential\":[[0.0,\"#0d0887\"],[0.1111111111111111,\"#46039f\"],[0.2222222222222222,\"#7201a8\"],[0.3333333333333333,\"#9c179e\"],[0.4444444444444444,\"#bd3786\"],[0.5555555555555556,\"#d8576b\"],[0.6666666666666666,\"#ed7953\"],[0.7777777777777778,\"#fb9f3a\"],[0.8888888888888888,\"#fdca26\"],[1.0,\"#f0f921\"]],\"sequentialminus\":[[0.0,\"#0d0887\"],[0.1111111111111111,\"#46039f\"],[0.2222222222222222,\"#7201a8\"],[0.3333333333333333,\"#9c179e\"],[0.4444444444444444,\"#bd3786\"],[0.5555555555555556,\"#d8576b\"],[0.6666666666666666,\"#ed7953\"],[0.7777777777777778,\"#fb9f3a\"],[0.8888888888888888,\"#fdca26\"],[1.0,\"#f0f921\"]],\"diverging\":[[0,\"#8e0152\"],[0.1,\"#c51b7d\"],[0.2,\"#de77ae\"],[0.3,\"#f1b6da\"],[0.4,\"#fde0ef\"],[0.5,\"#f7f7f7\"],[0.6,\"#e6f5d0\"],[0.7,\"#b8e186\"],[0.8,\"#7fbc41\"],[0.9,\"#4d9221\"],[1,\"#276419\"]]},\"xaxis\":{\"gridcolor\":\"white\",\"linecolor\":\"white\",\"ticks\":\"\",\"title\":{\"standoff\":15},\"zerolinecolor\":\"white\",\"automargin\":true,\"zerolinewidth\":2},\"yaxis\":{\"gridcolor\":\"white\",\"linecolor\":\"white\",\"ticks\":\"\",\"title\":{\"standoff\":15},\"zerolinecolor\":\"white\",\"automargin\":true,\"zerolinewidth\":2},\"scene\":{\"xaxis\":{\"backgroundcolor\":\"#E5ECF6\",\"gridcolor\":\"white\",\"linecolor\":\"white\",\"showbackground\":true,\"ticks\":\"\",\"zerolinecolor\":\"white\",\"gridwidth\":2},\"yaxis\":{\"backgroundcolor\":\"#E5ECF6\",\"gridcolor\":\"white\",\"linecolor\":\"white\",\"showbackground\":true,\"ticks\":\"\",\"zerolinecolor\":\"white\",\"gridwidth\":2},\"zaxis\":{\"backgroundcolor\":\"#E5ECF6\",\"gridcolor\":\"white\",\"linecolor\":\"white\",\"showbackground\":true,\"ticks\":\"\",\"zerolinecolor\":\"white\",\"gridwidth\":2}},\"shapedefaults\":{\"line\":{\"color\":\"#2a3f5f\"}},\"annotationdefaults\":{\"arrowcolor\":\"#2a3f5f\",\"arrowhead\":0,\"arrowwidth\":1},\"geo\":{\"bgcolor\":\"white\",\"landcolor\":\"#E5ECF6\",\"subunitcolor\":\"white\",\"showland\":true,\"showlakes\":true,\"lakecolor\":\"white\"},\"title\":{\"x\":0.05},\"mapbox\":{\"style\":\"light\"}}},\"xaxis\":{\"anchor\":\"y\",\"domain\":[0.0,1.0],\"title\":{\"text\":\"year\"}},\"yaxis\":{\"anchor\":\"x\",\"domain\":[0.0,1.0],\"title\":{\"text\":\"1.0\"}},\"legend\":{\"tracegroupgap\":0},\"title\":{\"text\":\"8K violations count over the year\"},\"barmode\":\"relative\"},                        {\"responsive\": true}                    ).then(function(){\n",
       "                            \n",
       "var gd = document.getElementById('8d896ddd-376b-490c-9517-bfa6913379bf');\n",
       "var x = new MutationObserver(function (mutations, observer) {{\n",
       "        var display = window.getComputedStyle(gd).display;\n",
       "        if (!display || display === 'none') {{\n",
       "            console.log([gd, 'removed!']);\n",
       "            Plotly.purge(gd);\n",
       "            observer.disconnect();\n",
       "        }}\n",
       "}});\n",
       "\n",
       "// Listen for the removal of the full notebook cells\n",
       "var notebookContainer = gd.closest('#notebook-container');\n",
       "if (notebookContainer) {{\n",
       "    x.observe(notebookContainer, {childList: true});\n",
       "}}\n",
       "\n",
       "// Listen for the clearing of the current output cell\n",
       "var outputEl = gd.closest('.output');\n",
       "if (outputEl) {{\n",
       "    x.observe(outputEl, {childList: true});\n",
       "}}\n",
       "\n",
       "                        })                };                });            </script>        </div>"
      ]
     },
     "metadata": {},
     "output_type": "display_data"
    }
   ],
   "source": [
    "# import seaborn \n",
    "# seaborn.lineplot(new_df_4.sample(100), x='reporting_date', y='predicted_label' )\n",
    "import plotly.graph_objects as go\n",
    "\n",
    "\n",
    "\n",
    "import plotly.express as px\n",
    "\n",
    "fig = px.line(x=new_df81['year'], \n",
    "              y=new_df81['record_total'], \n",
    "              \n",
    "             labels=dict(x=\"year\", y=\"record_total\"))\n",
    "\n",
    "\n",
    "fig = px.bar(new_df81, \n",
    "             x=\"year\", \n",
    "             y=1.0, \n",
    "             title='8K violations count over the year',\n",
    "              \n",
    "             )\n",
    "fig.show()"
   ]
  },
  {
   "cell_type": "code",
   "execution_count": 435,
   "id": "6c49fc64",
   "metadata": {},
   "outputs": [
    {
     "data": {
      "application/vnd.plotly.v1+json": {
       "config": {
        "plotlyServerURL": "https://plot.ly"
       },
       "data": [
        {
         "alignmentgroup": "True",
         "hovertemplate": "year=%{x}<br>1=%{y}<extra></extra>",
         "legendgroup": "",
         "marker": {
          "color": "#31417A",
          "pattern": {
           "shape": ""
          }
         },
         "name": "",
         "offsetgroup": "",
         "orientation": "v",
         "showlegend": false,
         "textposition": "auto",
         "type": "bar",
         "x": [
          1996,
          1997,
          1998,
          1999,
          2000,
          2001,
          2002,
          2003,
          2004,
          2005,
          2006,
          2007,
          2008,
          2009,
          2010,
          2011,
          2012,
          2013,
          2014,
          2015,
          2016,
          2017,
          2018,
          2019,
          2020,
          2021,
          2022
         ],
         "xaxis": "x",
         "y": [
          22,
          34,
          45,
          31,
          38,
          41,
          44,
          57,
          44,
          30,
          28,
          32,
          39,
          71,
          36,
          24,
          18,
          12,
          13,
          5,
          18,
          14,
          12,
          21,
          27,
          20,
          4
         ],
         "yaxis": "y"
        }
       ],
       "layout": {
        "barmode": "relative",
        "font": {
         "family": "Times New Roman",
         "size": 12
        },
        "legend": {
         "tracegroupgap": 0
        },
        "plot_bgcolor": "#f2f2f2",
        "template": {
         "data": {
          "bar": [
           {
            "error_x": {
             "color": "#2a3f5f"
            },
            "error_y": {
             "color": "#2a3f5f"
            },
            "marker": {
             "line": {
              "color": "#E5ECF6",
              "width": 0.5
             },
             "pattern": {
              "fillmode": "overlay",
              "size": 10,
              "solidity": 0.2
             }
            },
            "type": "bar"
           }
          ],
          "barpolar": [
           {
            "marker": {
             "line": {
              "color": "#E5ECF6",
              "width": 0.5
             },
             "pattern": {
              "fillmode": "overlay",
              "size": 10,
              "solidity": 0.2
             }
            },
            "type": "barpolar"
           }
          ],
          "carpet": [
           {
            "aaxis": {
             "endlinecolor": "#2a3f5f",
             "gridcolor": "white",
             "linecolor": "white",
             "minorgridcolor": "white",
             "startlinecolor": "#2a3f5f"
            },
            "baxis": {
             "endlinecolor": "#2a3f5f",
             "gridcolor": "white",
             "linecolor": "white",
             "minorgridcolor": "white",
             "startlinecolor": "#2a3f5f"
            },
            "type": "carpet"
           }
          ],
          "choropleth": [
           {
            "colorbar": {
             "outlinewidth": 0,
             "ticks": ""
            },
            "type": "choropleth"
           }
          ],
          "contour": [
           {
            "colorbar": {
             "outlinewidth": 0,
             "ticks": ""
            },
            "colorscale": [
             [
              0,
              "#0d0887"
             ],
             [
              0.1111111111111111,
              "#46039f"
             ],
             [
              0.2222222222222222,
              "#7201a8"
             ],
             [
              0.3333333333333333,
              "#9c179e"
             ],
             [
              0.4444444444444444,
              "#bd3786"
             ],
             [
              0.5555555555555556,
              "#d8576b"
             ],
             [
              0.6666666666666666,
              "#ed7953"
             ],
             [
              0.7777777777777778,
              "#fb9f3a"
             ],
             [
              0.8888888888888888,
              "#fdca26"
             ],
             [
              1,
              "#f0f921"
             ]
            ],
            "type": "contour"
           }
          ],
          "contourcarpet": [
           {
            "colorbar": {
             "outlinewidth": 0,
             "ticks": ""
            },
            "type": "contourcarpet"
           }
          ],
          "heatmap": [
           {
            "colorbar": {
             "outlinewidth": 0,
             "ticks": ""
            },
            "colorscale": [
             [
              0,
              "#0d0887"
             ],
             [
              0.1111111111111111,
              "#46039f"
             ],
             [
              0.2222222222222222,
              "#7201a8"
             ],
             [
              0.3333333333333333,
              "#9c179e"
             ],
             [
              0.4444444444444444,
              "#bd3786"
             ],
             [
              0.5555555555555556,
              "#d8576b"
             ],
             [
              0.6666666666666666,
              "#ed7953"
             ],
             [
              0.7777777777777778,
              "#fb9f3a"
             ],
             [
              0.8888888888888888,
              "#fdca26"
             ],
             [
              1,
              "#f0f921"
             ]
            ],
            "type": "heatmap"
           }
          ],
          "heatmapgl": [
           {
            "colorbar": {
             "outlinewidth": 0,
             "ticks": ""
            },
            "colorscale": [
             [
              0,
              "#0d0887"
             ],
             [
              0.1111111111111111,
              "#46039f"
             ],
             [
              0.2222222222222222,
              "#7201a8"
             ],
             [
              0.3333333333333333,
              "#9c179e"
             ],
             [
              0.4444444444444444,
              "#bd3786"
             ],
             [
              0.5555555555555556,
              "#d8576b"
             ],
             [
              0.6666666666666666,
              "#ed7953"
             ],
             [
              0.7777777777777778,
              "#fb9f3a"
             ],
             [
              0.8888888888888888,
              "#fdca26"
             ],
             [
              1,
              "#f0f921"
             ]
            ],
            "type": "heatmapgl"
           }
          ],
          "histogram": [
           {
            "marker": {
             "pattern": {
              "fillmode": "overlay",
              "size": 10,
              "solidity": 0.2
             }
            },
            "type": "histogram"
           }
          ],
          "histogram2d": [
           {
            "colorbar": {
             "outlinewidth": 0,
             "ticks": ""
            },
            "colorscale": [
             [
              0,
              "#0d0887"
             ],
             [
              0.1111111111111111,
              "#46039f"
             ],
             [
              0.2222222222222222,
              "#7201a8"
             ],
             [
              0.3333333333333333,
              "#9c179e"
             ],
             [
              0.4444444444444444,
              "#bd3786"
             ],
             [
              0.5555555555555556,
              "#d8576b"
             ],
             [
              0.6666666666666666,
              "#ed7953"
             ],
             [
              0.7777777777777778,
              "#fb9f3a"
             ],
             [
              0.8888888888888888,
              "#fdca26"
             ],
             [
              1,
              "#f0f921"
             ]
            ],
            "type": "histogram2d"
           }
          ],
          "histogram2dcontour": [
           {
            "colorbar": {
             "outlinewidth": 0,
             "ticks": ""
            },
            "colorscale": [
             [
              0,
              "#0d0887"
             ],
             [
              0.1111111111111111,
              "#46039f"
             ],
             [
              0.2222222222222222,
              "#7201a8"
             ],
             [
              0.3333333333333333,
              "#9c179e"
             ],
             [
              0.4444444444444444,
              "#bd3786"
             ],
             [
              0.5555555555555556,
              "#d8576b"
             ],
             [
              0.6666666666666666,
              "#ed7953"
             ],
             [
              0.7777777777777778,
              "#fb9f3a"
             ],
             [
              0.8888888888888888,
              "#fdca26"
             ],
             [
              1,
              "#f0f921"
             ]
            ],
            "type": "histogram2dcontour"
           }
          ],
          "mesh3d": [
           {
            "colorbar": {
             "outlinewidth": 0,
             "ticks": ""
            },
            "type": "mesh3d"
           }
          ],
          "parcoords": [
           {
            "line": {
             "colorbar": {
              "outlinewidth": 0,
              "ticks": ""
             }
            },
            "type": "parcoords"
           }
          ],
          "pie": [
           {
            "automargin": true,
            "type": "pie"
           }
          ],
          "scatter": [
           {
            "fillpattern": {
             "fillmode": "overlay",
             "size": 10,
             "solidity": 0.2
            },
            "type": "scatter"
           }
          ],
          "scatter3d": [
           {
            "line": {
             "colorbar": {
              "outlinewidth": 0,
              "ticks": ""
             }
            },
            "marker": {
             "colorbar": {
              "outlinewidth": 0,
              "ticks": ""
             }
            },
            "type": "scatter3d"
           }
          ],
          "scattercarpet": [
           {
            "marker": {
             "colorbar": {
              "outlinewidth": 0,
              "ticks": ""
             }
            },
            "type": "scattercarpet"
           }
          ],
          "scattergeo": [
           {
            "marker": {
             "colorbar": {
              "outlinewidth": 0,
              "ticks": ""
             }
            },
            "type": "scattergeo"
           }
          ],
          "scattergl": [
           {
            "marker": {
             "colorbar": {
              "outlinewidth": 0,
              "ticks": ""
             }
            },
            "type": "scattergl"
           }
          ],
          "scattermapbox": [
           {
            "marker": {
             "colorbar": {
              "outlinewidth": 0,
              "ticks": ""
             }
            },
            "type": "scattermapbox"
           }
          ],
          "scatterpolar": [
           {
            "marker": {
             "colorbar": {
              "outlinewidth": 0,
              "ticks": ""
             }
            },
            "type": "scatterpolar"
           }
          ],
          "scatterpolargl": [
           {
            "marker": {
             "colorbar": {
              "outlinewidth": 0,
              "ticks": ""
             }
            },
            "type": "scatterpolargl"
           }
          ],
          "scatterternary": [
           {
            "marker": {
             "colorbar": {
              "outlinewidth": 0,
              "ticks": ""
             }
            },
            "type": "scatterternary"
           }
          ],
          "surface": [
           {
            "colorbar": {
             "outlinewidth": 0,
             "ticks": ""
            },
            "colorscale": [
             [
              0,
              "#0d0887"
             ],
             [
              0.1111111111111111,
              "#46039f"
             ],
             [
              0.2222222222222222,
              "#7201a8"
             ],
             [
              0.3333333333333333,
              "#9c179e"
             ],
             [
              0.4444444444444444,
              "#bd3786"
             ],
             [
              0.5555555555555556,
              "#d8576b"
             ],
             [
              0.6666666666666666,
              "#ed7953"
             ],
             [
              0.7777777777777778,
              "#fb9f3a"
             ],
             [
              0.8888888888888888,
              "#fdca26"
             ],
             [
              1,
              "#f0f921"
             ]
            ],
            "type": "surface"
           }
          ],
          "table": [
           {
            "cells": {
             "fill": {
              "color": "#EBF0F8"
             },
             "line": {
              "color": "white"
             }
            },
            "header": {
             "fill": {
              "color": "#C8D4E3"
             },
             "line": {
              "color": "white"
             }
            },
            "type": "table"
           }
          ]
         },
         "layout": {
          "annotationdefaults": {
           "arrowcolor": "#2a3f5f",
           "arrowhead": 0,
           "arrowwidth": 1
          },
          "autotypenumbers": "strict",
          "coloraxis": {
           "colorbar": {
            "outlinewidth": 0,
            "ticks": ""
           }
          },
          "colorscale": {
           "diverging": [
            [
             0,
             "#8e0152"
            ],
            [
             0.1,
             "#c51b7d"
            ],
            [
             0.2,
             "#de77ae"
            ],
            [
             0.3,
             "#f1b6da"
            ],
            [
             0.4,
             "#fde0ef"
            ],
            [
             0.5,
             "#f7f7f7"
            ],
            [
             0.6,
             "#e6f5d0"
            ],
            [
             0.7,
             "#b8e186"
            ],
            [
             0.8,
             "#7fbc41"
            ],
            [
             0.9,
             "#4d9221"
            ],
            [
             1,
             "#276419"
            ]
           ],
           "sequential": [
            [
             0,
             "#0d0887"
            ],
            [
             0.1111111111111111,
             "#46039f"
            ],
            [
             0.2222222222222222,
             "#7201a8"
            ],
            [
             0.3333333333333333,
             "#9c179e"
            ],
            [
             0.4444444444444444,
             "#bd3786"
            ],
            [
             0.5555555555555556,
             "#d8576b"
            ],
            [
             0.6666666666666666,
             "#ed7953"
            ],
            [
             0.7777777777777778,
             "#fb9f3a"
            ],
            [
             0.8888888888888888,
             "#fdca26"
            ],
            [
             1,
             "#f0f921"
            ]
           ],
           "sequentialminus": [
            [
             0,
             "#0d0887"
            ],
            [
             0.1111111111111111,
             "#46039f"
            ],
            [
             0.2222222222222222,
             "#7201a8"
            ],
            [
             0.3333333333333333,
             "#9c179e"
            ],
            [
             0.4444444444444444,
             "#bd3786"
            ],
            [
             0.5555555555555556,
             "#d8576b"
            ],
            [
             0.6666666666666666,
             "#ed7953"
            ],
            [
             0.7777777777777778,
             "#fb9f3a"
            ],
            [
             0.8888888888888888,
             "#fdca26"
            ],
            [
             1,
             "#f0f921"
            ]
           ]
          },
          "colorway": [
           "#636efa",
           "#EF553B",
           "#00cc96",
           "#ab63fa",
           "#FFA15A",
           "#19d3f3",
           "#FF6692",
           "#B6E880",
           "#FF97FF",
           "#FECB52"
          ],
          "font": {
           "color": "#2a3f5f"
          },
          "geo": {
           "bgcolor": "white",
           "lakecolor": "white",
           "landcolor": "#E5ECF6",
           "showlakes": true,
           "showland": true,
           "subunitcolor": "white"
          },
          "hoverlabel": {
           "align": "left"
          },
          "hovermode": "closest",
          "mapbox": {
           "style": "light"
          },
          "paper_bgcolor": "white",
          "plot_bgcolor": "#E5ECF6",
          "polar": {
           "angularaxis": {
            "gridcolor": "white",
            "linecolor": "white",
            "ticks": ""
           },
           "bgcolor": "#E5ECF6",
           "radialaxis": {
            "gridcolor": "white",
            "linecolor": "white",
            "ticks": ""
           }
          },
          "scene": {
           "xaxis": {
            "backgroundcolor": "#E5ECF6",
            "gridcolor": "white",
            "gridwidth": 2,
            "linecolor": "white",
            "showbackground": true,
            "ticks": "",
            "zerolinecolor": "white"
           },
           "yaxis": {
            "backgroundcolor": "#E5ECF6",
            "gridcolor": "white",
            "gridwidth": 2,
            "linecolor": "white",
            "showbackground": true,
            "ticks": "",
            "zerolinecolor": "white"
           },
           "zaxis": {
            "backgroundcolor": "#E5ECF6",
            "gridcolor": "white",
            "gridwidth": 2,
            "linecolor": "white",
            "showbackground": true,
            "ticks": "",
            "zerolinecolor": "white"
           }
          },
          "shapedefaults": {
           "line": {
            "color": "#2a3f5f"
           }
          },
          "ternary": {
           "aaxis": {
            "gridcolor": "white",
            "linecolor": "white",
            "ticks": ""
           },
           "baxis": {
            "gridcolor": "white",
            "linecolor": "white",
            "ticks": ""
           },
           "bgcolor": "#E5ECF6",
           "caxis": {
            "gridcolor": "white",
            "linecolor": "white",
            "ticks": ""
           }
          },
          "title": {
           "x": 0.05
          },
          "xaxis": {
           "automargin": true,
           "gridcolor": "white",
           "linecolor": "white",
           "ticks": "",
           "title": {
            "standoff": 15
           },
           "zerolinecolor": "white",
           "zerolinewidth": 2
          },
          "yaxis": {
           "automargin": true,
           "gridcolor": "white",
           "linecolor": "white",
           "ticks": "",
           "title": {
            "standoff": 15
           },
           "zerolinecolor": "white",
           "zerolinewidth": 2
          }
         }
        },
        "title": {
         "font": {
          "family": "Times New Roman"
         },
         "text": "8-k Violation count over the year",
         "x": 0.5,
         "xanchor": "center",
         "y": 0.9,
         "yanchor": "top"
        },
        "xaxis": {
         "anchor": "y",
         "domain": [
          0,
          1
         ],
         "showgrid": false,
         "title": {
          "text": "Year"
         }
        },
        "yaxis": {
         "anchor": "x",
         "domain": [
          0,
          1
         ],
         "showgrid": false,
         "title": {
          "text": "Count of Violation cases"
         }
        }
       }
      },
      "text/html": [
       "<div>                            <div id=\"d9f33718-4814-4ffe-a0bf-9c2dd04f7f02\" class=\"plotly-graph-div\" style=\"height:525px; width:100%;\"></div>            <script type=\"text/javascript\">                require([\"plotly\"], function(Plotly) {                    window.PLOTLYENV=window.PLOTLYENV || {};                                    if (document.getElementById(\"d9f33718-4814-4ffe-a0bf-9c2dd04f7f02\")) {                    Plotly.newPlot(                        \"d9f33718-4814-4ffe-a0bf-9c2dd04f7f02\",                        [{\"alignmentgroup\":\"True\",\"hovertemplate\":\"year=%{x}<br>1=%{y}<extra></extra>\",\"legendgroup\":\"\",\"marker\":{\"color\":\"#31417A\",\"pattern\":{\"shape\":\"\"}},\"name\":\"\",\"offsetgroup\":\"\",\"orientation\":\"v\",\"showlegend\":false,\"textposition\":\"auto\",\"x\":[1996.0,1997.0,1998.0,1999.0,2000.0,2001.0,2002.0,2003.0,2004.0,2005.0,2006.0,2007.0,2008.0,2009.0,2010.0,2011.0,2012.0,2013.0,2014.0,2015.0,2016.0,2017.0,2018.0,2019.0,2020.0,2021.0,2022.0],\"xaxis\":\"x\",\"y\":[22,34,45,31,38,41,44,57,44,30,28,32,39,71,36,24,18,12,13,5,18,14,12,21,27,20,4],\"yaxis\":\"y\",\"type\":\"bar\"}],                        {\"template\":{\"data\":{\"histogram2dcontour\":[{\"type\":\"histogram2dcontour\",\"colorbar\":{\"outlinewidth\":0,\"ticks\":\"\"},\"colorscale\":[[0.0,\"#0d0887\"],[0.1111111111111111,\"#46039f\"],[0.2222222222222222,\"#7201a8\"],[0.3333333333333333,\"#9c179e\"],[0.4444444444444444,\"#bd3786\"],[0.5555555555555556,\"#d8576b\"],[0.6666666666666666,\"#ed7953\"],[0.7777777777777778,\"#fb9f3a\"],[0.8888888888888888,\"#fdca26\"],[1.0,\"#f0f921\"]]}],\"choropleth\":[{\"type\":\"choropleth\",\"colorbar\":{\"outlinewidth\":0,\"ticks\":\"\"}}],\"histogram2d\":[{\"type\":\"histogram2d\",\"colorbar\":{\"outlinewidth\":0,\"ticks\":\"\"},\"colorscale\":[[0.0,\"#0d0887\"],[0.1111111111111111,\"#46039f\"],[0.2222222222222222,\"#7201a8\"],[0.3333333333333333,\"#9c179e\"],[0.4444444444444444,\"#bd3786\"],[0.5555555555555556,\"#d8576b\"],[0.6666666666666666,\"#ed7953\"],[0.7777777777777778,\"#fb9f3a\"],[0.8888888888888888,\"#fdca26\"],[1.0,\"#f0f921\"]]}],\"heatmap\":[{\"type\":\"heatmap\",\"colorbar\":{\"outlinewidth\":0,\"ticks\":\"\"},\"colorscale\":[[0.0,\"#0d0887\"],[0.1111111111111111,\"#46039f\"],[0.2222222222222222,\"#7201a8\"],[0.3333333333333333,\"#9c179e\"],[0.4444444444444444,\"#bd3786\"],[0.5555555555555556,\"#d8576b\"],[0.6666666666666666,\"#ed7953\"],[0.7777777777777778,\"#fb9f3a\"],[0.8888888888888888,\"#fdca26\"],[1.0,\"#f0f921\"]]}],\"heatmapgl\":[{\"type\":\"heatmapgl\",\"colorbar\":{\"outlinewidth\":0,\"ticks\":\"\"},\"colorscale\":[[0.0,\"#0d0887\"],[0.1111111111111111,\"#46039f\"],[0.2222222222222222,\"#7201a8\"],[0.3333333333333333,\"#9c179e\"],[0.4444444444444444,\"#bd3786\"],[0.5555555555555556,\"#d8576b\"],[0.6666666666666666,\"#ed7953\"],[0.7777777777777778,\"#fb9f3a\"],[0.8888888888888888,\"#fdca26\"],[1.0,\"#f0f921\"]]}],\"contourcarpet\":[{\"type\":\"contourcarpet\",\"colorbar\":{\"outlinewidth\":0,\"ticks\":\"\"}}],\"contour\":[{\"type\":\"contour\",\"colorbar\":{\"outlinewidth\":0,\"ticks\":\"\"},\"colorscale\":[[0.0,\"#0d0887\"],[0.1111111111111111,\"#46039f\"],[0.2222222222222222,\"#7201a8\"],[0.3333333333333333,\"#9c179e\"],[0.4444444444444444,\"#bd3786\"],[0.5555555555555556,\"#d8576b\"],[0.6666666666666666,\"#ed7953\"],[0.7777777777777778,\"#fb9f3a\"],[0.8888888888888888,\"#fdca26\"],[1.0,\"#f0f921\"]]}],\"surface\":[{\"type\":\"surface\",\"colorbar\":{\"outlinewidth\":0,\"ticks\":\"\"},\"colorscale\":[[0.0,\"#0d0887\"],[0.1111111111111111,\"#46039f\"],[0.2222222222222222,\"#7201a8\"],[0.3333333333333333,\"#9c179e\"],[0.4444444444444444,\"#bd3786\"],[0.5555555555555556,\"#d8576b\"],[0.6666666666666666,\"#ed7953\"],[0.7777777777777778,\"#fb9f3a\"],[0.8888888888888888,\"#fdca26\"],[1.0,\"#f0f921\"]]}],\"mesh3d\":[{\"type\":\"mesh3d\",\"colorbar\":{\"outlinewidth\":0,\"ticks\":\"\"}}],\"scatter\":[{\"fillpattern\":{\"fillmode\":\"overlay\",\"size\":10,\"solidity\":0.2},\"type\":\"scatter\"}],\"parcoords\":[{\"type\":\"parcoords\",\"line\":{\"colorbar\":{\"outlinewidth\":0,\"ticks\":\"\"}}}],\"scatterpolargl\":[{\"type\":\"scatterpolargl\",\"marker\":{\"colorbar\":{\"outlinewidth\":0,\"ticks\":\"\"}}}],\"bar\":[{\"error_x\":{\"color\":\"#2a3f5f\"},\"error_y\":{\"color\":\"#2a3f5f\"},\"marker\":{\"line\":{\"color\":\"#E5ECF6\",\"width\":0.5},\"pattern\":{\"fillmode\":\"overlay\",\"size\":10,\"solidity\":0.2}},\"type\":\"bar\"}],\"scattergeo\":[{\"type\":\"scattergeo\",\"marker\":{\"colorbar\":{\"outlinewidth\":0,\"ticks\":\"\"}}}],\"scatterpolar\":[{\"type\":\"scatterpolar\",\"marker\":{\"colorbar\":{\"outlinewidth\":0,\"ticks\":\"\"}}}],\"histogram\":[{\"marker\":{\"pattern\":{\"fillmode\":\"overlay\",\"size\":10,\"solidity\":0.2}},\"type\":\"histogram\"}],\"scattergl\":[{\"type\":\"scattergl\",\"marker\":{\"colorbar\":{\"outlinewidth\":0,\"ticks\":\"\"}}}],\"scatter3d\":[{\"type\":\"scatter3d\",\"line\":{\"colorbar\":{\"outlinewidth\":0,\"ticks\":\"\"}},\"marker\":{\"colorbar\":{\"outlinewidth\":0,\"ticks\":\"\"}}}],\"scattermapbox\":[{\"type\":\"scattermapbox\",\"marker\":{\"colorbar\":{\"outlinewidth\":0,\"ticks\":\"\"}}}],\"scatterternary\":[{\"type\":\"scatterternary\",\"marker\":{\"colorbar\":{\"outlinewidth\":0,\"ticks\":\"\"}}}],\"scattercarpet\":[{\"type\":\"scattercarpet\",\"marker\":{\"colorbar\":{\"outlinewidth\":0,\"ticks\":\"\"}}}],\"carpet\":[{\"aaxis\":{\"endlinecolor\":\"#2a3f5f\",\"gridcolor\":\"white\",\"linecolor\":\"white\",\"minorgridcolor\":\"white\",\"startlinecolor\":\"#2a3f5f\"},\"baxis\":{\"endlinecolor\":\"#2a3f5f\",\"gridcolor\":\"white\",\"linecolor\":\"white\",\"minorgridcolor\":\"white\",\"startlinecolor\":\"#2a3f5f\"},\"type\":\"carpet\"}],\"table\":[{\"cells\":{\"fill\":{\"color\":\"#EBF0F8\"},\"line\":{\"color\":\"white\"}},\"header\":{\"fill\":{\"color\":\"#C8D4E3\"},\"line\":{\"color\":\"white\"}},\"type\":\"table\"}],\"barpolar\":[{\"marker\":{\"line\":{\"color\":\"#E5ECF6\",\"width\":0.5},\"pattern\":{\"fillmode\":\"overlay\",\"size\":10,\"solidity\":0.2}},\"type\":\"barpolar\"}],\"pie\":[{\"automargin\":true,\"type\":\"pie\"}]},\"layout\":{\"autotypenumbers\":\"strict\",\"colorway\":[\"#636efa\",\"#EF553B\",\"#00cc96\",\"#ab63fa\",\"#FFA15A\",\"#19d3f3\",\"#FF6692\",\"#B6E880\",\"#FF97FF\",\"#FECB52\"],\"font\":{\"color\":\"#2a3f5f\"},\"hovermode\":\"closest\",\"hoverlabel\":{\"align\":\"left\"},\"paper_bgcolor\":\"white\",\"plot_bgcolor\":\"#E5ECF6\",\"polar\":{\"bgcolor\":\"#E5ECF6\",\"angularaxis\":{\"gridcolor\":\"white\",\"linecolor\":\"white\",\"ticks\":\"\"},\"radialaxis\":{\"gridcolor\":\"white\",\"linecolor\":\"white\",\"ticks\":\"\"}},\"ternary\":{\"bgcolor\":\"#E5ECF6\",\"aaxis\":{\"gridcolor\":\"white\",\"linecolor\":\"white\",\"ticks\":\"\"},\"baxis\":{\"gridcolor\":\"white\",\"linecolor\":\"white\",\"ticks\":\"\"},\"caxis\":{\"gridcolor\":\"white\",\"linecolor\":\"white\",\"ticks\":\"\"}},\"coloraxis\":{\"colorbar\":{\"outlinewidth\":0,\"ticks\":\"\"}},\"colorscale\":{\"sequential\":[[0.0,\"#0d0887\"],[0.1111111111111111,\"#46039f\"],[0.2222222222222222,\"#7201a8\"],[0.3333333333333333,\"#9c179e\"],[0.4444444444444444,\"#bd3786\"],[0.5555555555555556,\"#d8576b\"],[0.6666666666666666,\"#ed7953\"],[0.7777777777777778,\"#fb9f3a\"],[0.8888888888888888,\"#fdca26\"],[1.0,\"#f0f921\"]],\"sequentialminus\":[[0.0,\"#0d0887\"],[0.1111111111111111,\"#46039f\"],[0.2222222222222222,\"#7201a8\"],[0.3333333333333333,\"#9c179e\"],[0.4444444444444444,\"#bd3786\"],[0.5555555555555556,\"#d8576b\"],[0.6666666666666666,\"#ed7953\"],[0.7777777777777778,\"#fb9f3a\"],[0.8888888888888888,\"#fdca26\"],[1.0,\"#f0f921\"]],\"diverging\":[[0,\"#8e0152\"],[0.1,\"#c51b7d\"],[0.2,\"#de77ae\"],[0.3,\"#f1b6da\"],[0.4,\"#fde0ef\"],[0.5,\"#f7f7f7\"],[0.6,\"#e6f5d0\"],[0.7,\"#b8e186\"],[0.8,\"#7fbc41\"],[0.9,\"#4d9221\"],[1,\"#276419\"]]},\"xaxis\":{\"gridcolor\":\"white\",\"linecolor\":\"white\",\"ticks\":\"\",\"title\":{\"standoff\":15},\"zerolinecolor\":\"white\",\"automargin\":true,\"zerolinewidth\":2},\"yaxis\":{\"gridcolor\":\"white\",\"linecolor\":\"white\",\"ticks\":\"\",\"title\":{\"standoff\":15},\"zerolinecolor\":\"white\",\"automargin\":true,\"zerolinewidth\":2},\"scene\":{\"xaxis\":{\"backgroundcolor\":\"#E5ECF6\",\"gridcolor\":\"white\",\"linecolor\":\"white\",\"showbackground\":true,\"ticks\":\"\",\"zerolinecolor\":\"white\",\"gridwidth\":2},\"yaxis\":{\"backgroundcolor\":\"#E5ECF6\",\"gridcolor\":\"white\",\"linecolor\":\"white\",\"showbackground\":true,\"ticks\":\"\",\"zerolinecolor\":\"white\",\"gridwidth\":2},\"zaxis\":{\"backgroundcolor\":\"#E5ECF6\",\"gridcolor\":\"white\",\"linecolor\":\"white\",\"showbackground\":true,\"ticks\":\"\",\"zerolinecolor\":\"white\",\"gridwidth\":2}},\"shapedefaults\":{\"line\":{\"color\":\"#2a3f5f\"}},\"annotationdefaults\":{\"arrowcolor\":\"#2a3f5f\",\"arrowhead\":0,\"arrowwidth\":1},\"geo\":{\"bgcolor\":\"white\",\"landcolor\":\"#E5ECF6\",\"subunitcolor\":\"white\",\"showland\":true,\"showlakes\":true,\"lakecolor\":\"white\"},\"title\":{\"x\":0.05},\"mapbox\":{\"style\":\"light\"}}},\"xaxis\":{\"anchor\":\"y\",\"domain\":[0.0,1.0],\"title\":{\"text\":\"Year\"},\"showgrid\":false},\"yaxis\":{\"anchor\":\"x\",\"domain\":[0.0,1.0],\"title\":{\"text\":\"Count of Violation cases\"},\"showgrid\":false},\"legend\":{\"tracegroupgap\":0},\"title\":{\"text\":\"8-k Violation count over the year\",\"font\":{\"family\":\"Times New Roman\"},\"y\":0.9,\"x\":0.5,\"xanchor\":\"center\",\"yanchor\":\"top\"},\"barmode\":\"relative\",\"font\":{\"family\":\"Times New Roman\",\"size\":12},\"plot_bgcolor\":\"#f2f2f2\"},                        {\"responsive\": true}                    ).then(function(){\n",
       "                            \n",
       "var gd = document.getElementById('d9f33718-4814-4ffe-a0bf-9c2dd04f7f02');\n",
       "var x = new MutationObserver(function (mutations, observer) {{\n",
       "        var display = window.getComputedStyle(gd).display;\n",
       "        if (!display || display === 'none') {{\n",
       "            console.log([gd, 'removed!']);\n",
       "            Plotly.purge(gd);\n",
       "            observer.disconnect();\n",
       "        }}\n",
       "}});\n",
       "\n",
       "// Listen for the removal of the full notebook cells\n",
       "var notebookContainer = gd.closest('#notebook-container');\n",
       "if (notebookContainer) {{\n",
       "    x.observe(notebookContainer, {childList: true});\n",
       "}}\n",
       "\n",
       "// Listen for the clearing of the current output cell\n",
       "var outputEl = gd.closest('.output');\n",
       "if (outputEl) {{\n",
       "    x.observe(outputEl, {childList: true});\n",
       "}}\n",
       "\n",
       "                        })                };                });            </script>        </div>"
      ]
     },
     "metadata": {},
     "output_type": "display_data"
    }
   ],
   "source": [
    "# # Violation Plots\n",
    "\n",
    "import plotly.express as px\n",
    "\n",
    "\n",
    "fig = px.bar(new_df81, \n",
    "             x=\"year\", \n",
    "             y =1,\n",
    "             title='8-k Violation count over the year',        \n",
    "             )\n",
    "\n",
    "\n",
    "fig.update_traces(marker_color='#31417A')\n",
    "fig.update_layout(  \n",
    "    \n",
    "    font_family=\"Times New Roman\",    \n",
    "    title_font_family=\"Times New Roman\",\n",
    "    \n",
    "    xaxis=dict(showgrid=False),\n",
    "    yaxis=dict(showgrid=False),\n",
    "     font=dict(\n",
    "        \n",
    "        size=12,\n",
    "        \n",
    "    ),\n",
    "    xaxis_title=\"Year\",\n",
    "    yaxis_title=\"Count of Violation cases\",\n",
    "    plot_bgcolor='#f2f2f2',  # Gray background color,\n",
    "    title={\n",
    "       \n",
    "        'y':0.9,\n",
    "        'x':0.5,\n",
    "        'xanchor': 'center',\n",
    "        'yanchor': 'top'})\n",
    "fig.show()"
   ]
  },
  {
   "cell_type": "code",
   "execution_count": 436,
   "id": "f6f94a48",
   "metadata": {},
   "outputs": [
    {
     "data": {
      "text/plain": [
       "<Axes: xlabel='year', ylabel='count'>"
      ]
     },
     "execution_count": 436,
     "metadata": {},
     "output_type": "execute_result"
    },
    {
     "data": {
      "image/png": "[encoded data removed]",
      "text/plain": [
       "<Figure size 1500x800 with 1 Axes>"
      ]
     },
     "metadata": {},
     "output_type": "display_data"
    }
   ],
   "source": [
    "plt.figure(figsize=(15,8))\n",
    "sns.barplot(plotly_df[plotly_df['new_violation']==1], \n",
    "             x=\"year\", \n",
    "             y ='count',color='#2596be'\n",
    "             ) #title='Count Of violations over the year'"
   ]
  },
  {
   "cell_type": "code",
   "execution_count": 437,
   "id": "aadd7194",
   "metadata": {},
   "outputs": [
    {
     "data": {
      "application/vnd.plotly.v1+json": {
       "config": {
        "plotlyServerURL": "https://plot.ly"
       },
       "data": [
        {
         "alignmentgroup": "True",
         "hovertemplate": "year=%{x}<br>2=%{y}<extra></extra>",
         "legendgroup": "",
         "marker": {
          "color": "#31417A",
          "pattern": {
           "shape": ""
          }
         },
         "name": "",
         "offsetgroup": "",
         "orientation": "v",
         "showlegend": false,
         "textposition": "auto",
         "type": "bar",
         "x": [
          1996,
          1997,
          1998,
          1999,
          2000,
          2001,
          2002,
          2003,
          2004,
          2005,
          2006,
          2007,
          2008,
          2009,
          2010,
          2011,
          2012,
          2013,
          2014,
          2015,
          2016,
          2017,
          2018,
          2019,
          2020,
          2021,
          2022
         ],
         "xaxis": "x",
         "y": [
          188,
          210,
          266,
          301,
          287,
          392,
          460,
          429,
          617,
          719,
          661,
          658,
          669,
          853,
          545,
          518,
          526,
          458,
          370,
          104,
          397,
          391,
          341,
          308,
          507,
          317,
          280
         ],
         "yaxis": "y"
        }
       ],
       "layout": {
        "barmode": "relative",
        "font": {
         "family": "Times New Roman",
         "size": 12
        },
        "legend": {
         "tracegroupgap": 0
        },
        "plot_bgcolor": "#f2f2f2",
        "template": {
         "data": {
          "bar": [
           {
            "error_x": {
             "color": "#2a3f5f"
            },
            "error_y": {
             "color": "#2a3f5f"
            },
            "marker": {
             "line": {
              "color": "#E5ECF6",
              "width": 0.5
             },
             "pattern": {
              "fillmode": "overlay",
              "size": 10,
              "solidity": 0.2
             }
            },
            "type": "bar"
           }
          ],
          "barpolar": [
           {
            "marker": {
             "line": {
              "color": "#E5ECF6",
              "width": 0.5
             },
             "pattern": {
              "fillmode": "overlay",
              "size": 10,
              "solidity": 0.2
             }
            },
            "type": "barpolar"
           }
          ],
          "carpet": [
           {
            "aaxis": {
             "endlinecolor": "#2a3f5f",
             "gridcolor": "white",
             "linecolor": "white",
             "minorgridcolor": "white",
             "startlinecolor": "#2a3f5f"
            },
            "baxis": {
             "endlinecolor": "#2a3f5f",
             "gridcolor": "white",
             "linecolor": "white",
             "minorgridcolor": "white",
             "startlinecolor": "#2a3f5f"
            },
            "type": "carpet"
           }
          ],
          "choropleth": [
           {
            "colorbar": {
             "outlinewidth": 0,
             "ticks": ""
            },
            "type": "choropleth"
           }
          ],
          "contour": [
           {
            "colorbar": {
             "outlinewidth": 0,
             "ticks": ""
            },
            "colorscale": [
             [
              0,
              "#0d0887"
             ],
             [
              0.1111111111111111,
              "#46039f"
             ],
             [
              0.2222222222222222,
              "#7201a8"
             ],
             [
              0.3333333333333333,
              "#9c179e"
             ],
             [
              0.4444444444444444,
              "#bd3786"
             ],
             [
              0.5555555555555556,
              "#d8576b"
             ],
             [
              0.6666666666666666,
              "#ed7953"
             ],
             [
              0.7777777777777778,
              "#fb9f3a"
             ],
             [
              0.8888888888888888,
              "#fdca26"
             ],
             [
              1,
              "#f0f921"
             ]
            ],
            "type": "contour"
           }
          ],
          "contourcarpet": [
           {
            "colorbar": {
             "outlinewidth": 0,
             "ticks": ""
            },
            "type": "contourcarpet"
           }
          ],
          "heatmap": [
           {
            "colorbar": {
             "outlinewidth": 0,
             "ticks": ""
            },
            "colorscale": [
             [
              0,
              "#0d0887"
             ],
             [
              0.1111111111111111,
              "#46039f"
             ],
             [
              0.2222222222222222,
              "#7201a8"
             ],
             [
              0.3333333333333333,
              "#9c179e"
             ],
             [
              0.4444444444444444,
              "#bd3786"
             ],
             [
              0.5555555555555556,
              "#d8576b"
             ],
             [
              0.6666666666666666,
              "#ed7953"
             ],
             [
              0.7777777777777778,
              "#fb9f3a"
             ],
             [
              0.8888888888888888,
              "#fdca26"
             ],
             [
              1,
              "#f0f921"
             ]
            ],
            "type": "heatmap"
           }
          ],
          "heatmapgl": [
           {
            "colorbar": {
             "outlinewidth": 0,
             "ticks": ""
            },
            "colorscale": [
             [
              0,
              "#0d0887"
             ],
             [
              0.1111111111111111,
              "#46039f"
             ],
             [
              0.2222222222222222,
              "#7201a8"
             ],
             [
              0.3333333333333333,
              "#9c179e"
             ],
             [
              0.4444444444444444,
              "#bd3786"
             ],
             [
              0.5555555555555556,
              "#d8576b"
             ],
             [
              0.6666666666666666,
              "#ed7953"
             ],
             [
              0.7777777777777778,
              "#fb9f3a"
             ],
             [
              0.8888888888888888,
              "#fdca26"
             ],
             [
              1,
              "#f0f921"
             ]
            ],
            "type": "heatmapgl"
           }
          ],
          "histogram": [
           {
            "marker": {
             "pattern": {
              "fillmode": "overlay",
              "size": 10,
              "solidity": 0.2
             }
            },
            "type": "histogram"
           }
          ],
          "histogram2d": [
           {
            "colorbar": {
             "outlinewidth": 0,
             "ticks": ""
            },
            "colorscale": [
             [
              0,
              "#0d0887"
             ],
             [
              0.1111111111111111,
              "#46039f"
             ],
             [
              0.2222222222222222,
              "#7201a8"
             ],
             [
              0.3333333333333333,
              "#9c179e"
             ],
             [
              0.4444444444444444,
              "#bd3786"
             ],
             [
              0.5555555555555556,
              "#d8576b"
             ],
             [
              0.6666666666666666,
              "#ed7953"
             ],
             [
              0.7777777777777778,
              "#fb9f3a"
             ],
             [
              0.8888888888888888,
              "#fdca26"
             ],
             [
              1,
              "#f0f921"
             ]
            ],
            "type": "histogram2d"
           }
          ],
          "histogram2dcontour": [
           {
            "colorbar": {
             "outlinewidth": 0,
             "ticks": ""
            },
            "colorscale": [
             [
              0,
              "#0d0887"
             ],
             [
              0.1111111111111111,
              "#46039f"
             ],
             [
              0.2222222222222222,
              "#7201a8"
             ],
             [
              0.3333333333333333,
              "#9c179e"
             ],
             [
              0.4444444444444444,
              "#bd3786"
             ],
             [
              0.5555555555555556,
              "#d8576b"
             ],
             [
              0.6666666666666666,
              "#ed7953"
             ],
             [
              0.7777777777777778,
              "#fb9f3a"
             ],
             [
              0.8888888888888888,
              "#fdca26"
             ],
             [
              1,
              "#f0f921"
             ]
            ],
            "type": "histogram2dcontour"
           }
          ],
          "mesh3d": [
           {
            "colorbar": {
             "outlinewidth": 0,
             "ticks": ""
            },
            "type": "mesh3d"
           }
          ],
          "parcoords": [
           {
            "line": {
             "colorbar": {
              "outlinewidth": 0,
              "ticks": ""
             }
            },
            "type": "parcoords"
           }
          ],
          "pie": [
           {
            "automargin": true,
            "type": "pie"
           }
          ],
          "scatter": [
           {
            "fillpattern": {
             "fillmode": "overlay",
             "size": 10,
             "solidity": 0.2
            },
            "type": "scatter"
           }
          ],
          "scatter3d": [
           {
            "line": {
             "colorbar": {
              "outlinewidth": 0,
              "ticks": ""
             }
            },
            "marker": {
             "colorbar": {
              "outlinewidth": 0,
              "ticks": ""
             }
            },
            "type": "scatter3d"
           }
          ],
          "scattercarpet": [
           {
            "marker": {
             "colorbar": {
              "outlinewidth": 0,
              "ticks": ""
             }
            },
            "type": "scattercarpet"
           }
          ],
          "scattergeo": [
           {
            "marker": {
             "colorbar": {
              "outlinewidth": 0,
              "ticks": ""
             }
            },
            "type": "scattergeo"
           }
          ],
          "scattergl": [
           {
            "marker": {
             "colorbar": {
              "outlinewidth": 0,
              "ticks": ""
             }
            },
            "type": "scattergl"
           }
          ],
          "scattermapbox": [
           {
            "marker": {
             "colorbar": {
              "outlinewidth": 0,
              "ticks": ""
             }
            },
            "type": "scattermapbox"
           }
          ],
          "scatterpolar": [
           {
            "marker": {
             "colorbar": {
              "outlinewidth": 0,
              "ticks": ""
             }
            },
            "type": "scatterpolar"
           }
          ],
          "scatterpolargl": [
           {
            "marker": {
             "colorbar": {
              "outlinewidth": 0,
              "ticks": ""
             }
            },
            "type": "scatterpolargl"
           }
          ],
          "scatterternary": [
           {
            "marker": {
             "colorbar": {
              "outlinewidth": 0,
              "ticks": ""
             }
            },
            "type": "scatterternary"
           }
          ],
          "surface": [
           {
            "colorbar": {
             "outlinewidth": 0,
             "ticks": ""
            },
            "colorscale": [
             [
              0,
              "#0d0887"
             ],
             [
              0.1111111111111111,
              "#46039f"
             ],
             [
              0.2222222222222222,
              "#7201a8"
             ],
             [
              0.3333333333333333,
              "#9c179e"
             ],
             [
              0.4444444444444444,
              "#bd3786"
             ],
             [
              0.5555555555555556,
              "#d8576b"
             ],
             [
              0.6666666666666666,
              "#ed7953"
             ],
             [
              0.7777777777777778,
              "#fb9f3a"
             ],
             [
              0.8888888888888888,
              "#fdca26"
             ],
             [
              1,
              "#f0f921"
             ]
            ],
            "type": "surface"
           }
          ],
          "table": [
           {
            "cells": {
             "fill": {
              "color": "#EBF0F8"
             },
             "line": {
              "color": "white"
             }
            },
            "header": {
             "fill": {
              "color": "#C8D4E3"
             },
             "line": {
              "color": "white"
             }
            },
            "type": "table"
           }
          ]
         },
         "layout": {
          "annotationdefaults": {
           "arrowcolor": "#2a3f5f",
           "arrowhead": 0,
           "arrowwidth": 1
          },
          "autotypenumbers": "strict",
          "coloraxis": {
           "colorbar": {
            "outlinewidth": 0,
            "ticks": ""
           }
          },
          "colorscale": {
           "diverging": [
            [
             0,
             "#8e0152"
            ],
            [
             0.1,
             "#c51b7d"
            ],
            [
             0.2,
             "#de77ae"
            ],
            [
             0.3,
             "#f1b6da"
            ],
            [
             0.4,
             "#fde0ef"
            ],
            [
             0.5,
             "#f7f7f7"
            ],
            [
             0.6,
             "#e6f5d0"
            ],
            [
             0.7,
             "#b8e186"
            ],
            [
             0.8,
             "#7fbc41"
            ],
            [
             0.9,
             "#4d9221"
            ],
            [
             1,
             "#276419"
            ]
           ],
           "sequential": [
            [
             0,
             "#0d0887"
            ],
            [
             0.1111111111111111,
             "#46039f"
            ],
            [
             0.2222222222222222,
             "#7201a8"
            ],
            [
             0.3333333333333333,
             "#9c179e"
            ],
            [
             0.4444444444444444,
             "#bd3786"
            ],
            [
             0.5555555555555556,
             "#d8576b"
            ],
            [
             0.6666666666666666,
             "#ed7953"
            ],
            [
             0.7777777777777778,
             "#fb9f3a"
            ],
            [
             0.8888888888888888,
             "#fdca26"
            ],
            [
             1,
             "#f0f921"
            ]
           ],
           "sequentialminus": [
            [
             0,
             "#0d0887"
            ],
            [
             0.1111111111111111,
             "#46039f"
            ],
            [
             0.2222222222222222,
             "#7201a8"
            ],
            [
             0.3333333333333333,
             "#9c179e"
            ],
            [
             0.4444444444444444,
             "#bd3786"
            ],
            [
             0.5555555555555556,
             "#d8576b"
            ],
            [
             0.6666666666666666,
             "#ed7953"
            ],
            [
             0.7777777777777778,
             "#fb9f3a"
            ],
            [
             0.8888888888888888,
             "#fdca26"
            ],
            [
             1,
             "#f0f921"
            ]
           ]
          },
          "colorway": [
           "#636efa",
           "#EF553B",
           "#00cc96",
           "#ab63fa",
           "#FFA15A",
           "#19d3f3",
           "#FF6692",
           "#B6E880",
           "#FF97FF",
           "#FECB52"
          ],
          "font": {
           "color": "#2a3f5f"
          },
          "geo": {
           "bgcolor": "white",
           "lakecolor": "white",
           "landcolor": "#E5ECF6",
           "showlakes": true,
           "showland": true,
           "subunitcolor": "white"
          },
          "hoverlabel": {
           "align": "left"
          },
          "hovermode": "closest",
          "mapbox": {
           "style": "light"
          },
          "paper_bgcolor": "white",
          "plot_bgcolor": "#E5ECF6",
          "polar": {
           "angularaxis": {
            "gridcolor": "white",
            "linecolor": "white",
            "ticks": ""
           },
           "bgcolor": "#E5ECF6",
           "radialaxis": {
            "gridcolor": "white",
            "linecolor": "white",
            "ticks": ""
           }
          },
          "scene": {
           "xaxis": {
            "backgroundcolor": "#E5ECF6",
            "gridcolor": "white",
            "gridwidth": 2,
            "linecolor": "white",
            "showbackground": true,
            "ticks": "",
            "zerolinecolor": "white"
           },
           "yaxis": {
            "backgroundcolor": "#E5ECF6",
            "gridcolor": "white",
            "gridwidth": 2,
            "linecolor": "white",
            "showbackground": true,
            "ticks": "",
            "zerolinecolor": "white"
           },
           "zaxis": {
            "backgroundcolor": "#E5ECF6",
            "gridcolor": "white",
            "gridwidth": 2,
            "linecolor": "white",
            "showbackground": true,
            "ticks": "",
            "zerolinecolor": "white"
           }
          },
          "shapedefaults": {
           "line": {
            "color": "#2a3f5f"
           }
          },
          "ternary": {
           "aaxis": {
            "gridcolor": "white",
            "linecolor": "white",
            "ticks": ""
           },
           "baxis": {
            "gridcolor": "white",
            "linecolor": "white",
            "ticks": ""
           },
           "bgcolor": "#E5ECF6",
           "caxis": {
            "gridcolor": "white",
            "linecolor": "white",
            "ticks": ""
           }
          },
          "title": {
           "x": 0.05
          },
          "xaxis": {
           "automargin": true,
           "gridcolor": "white",
           "linecolor": "white",
           "ticks": "",
           "title": {
            "standoff": 15
           },
           "zerolinecolor": "white",
           "zerolinewidth": 2
          },
          "yaxis": {
           "automargin": true,
           "gridcolor": "white",
           "linecolor": "white",
           "ticks": "",
           "title": {
            "standoff": 15
           },
           "zerolinecolor": "white",
           "zerolinewidth": 2
          }
         }
        },
        "title": {
         "font": {
          "family": "Times New Roman"
         },
         "text": "8-k amendment count over the year",
         "x": 0.5,
         "xanchor": "center",
         "y": 0.9,
         "yanchor": "top"
        },
        "xaxis": {
         "anchor": "y",
         "domain": [
          0,
          1
         ],
         "showgrid": false,
         "title": {
          "text": "Year"
         }
        },
        "yaxis": {
         "anchor": "x",
         "domain": [
          0,
          1
         ],
         "showgrid": false,
         "title": {
          "text": "Count of Amendment cases"
         }
        }
       }
      },
      "text/html": [
       "<div>                            <div id=\"5382facb-aaef-45a9-84b4-457119966650\" class=\"plotly-graph-div\" style=\"height:525px; width:100%;\"></div>            <script type=\"text/javascript\">                require([\"plotly\"], function(Plotly) {                    window.PLOTLYENV=window.PLOTLYENV || {};                                    if (document.getElementById(\"5382facb-aaef-45a9-84b4-457119966650\")) {                    Plotly.newPlot(                        \"5382facb-aaef-45a9-84b4-457119966650\",                        [{\"alignmentgroup\":\"True\",\"hovertemplate\":\"year=%{x}<br>2=%{y}<extra></extra>\",\"legendgroup\":\"\",\"marker\":{\"color\":\"#31417A\",\"pattern\":{\"shape\":\"\"}},\"name\":\"\",\"offsetgroup\":\"\",\"orientation\":\"v\",\"showlegend\":false,\"textposition\":\"auto\",\"x\":[1996.0,1997.0,1998.0,1999.0,2000.0,2001.0,2002.0,2003.0,2004.0,2005.0,2006.0,2007.0,2008.0,2009.0,2010.0,2011.0,2012.0,2013.0,2014.0,2015.0,2016.0,2017.0,2018.0,2019.0,2020.0,2021.0,2022.0],\"xaxis\":\"x\",\"y\":[188,210,266,301,287,392,460,429,617,719,661,658,669,853,545,518,526,458,370,104,397,391,341,308,507,317,280],\"yaxis\":\"y\",\"type\":\"bar\"}],                        {\"template\":{\"data\":{\"histogram2dcontour\":[{\"type\":\"histogram2dcontour\",\"colorbar\":{\"outlinewidth\":0,\"ticks\":\"\"},\"colorscale\":[[0.0,\"#0d0887\"],[0.1111111111111111,\"#46039f\"],[0.2222222222222222,\"#7201a8\"],[0.3333333333333333,\"#9c179e\"],[0.4444444444444444,\"#bd3786\"],[0.5555555555555556,\"#d8576b\"],[0.6666666666666666,\"#ed7953\"],[0.7777777777777778,\"#fb9f3a\"],[0.8888888888888888,\"#fdca26\"],[1.0,\"#f0f921\"]]}],\"choropleth\":[{\"type\":\"choropleth\",\"colorbar\":{\"outlinewidth\":0,\"ticks\":\"\"}}],\"histogram2d\":[{\"type\":\"histogram2d\",\"colorbar\":{\"outlinewidth\":0,\"ticks\":\"\"},\"colorscale\":[[0.0,\"#0d0887\"],[0.1111111111111111,\"#46039f\"],[0.2222222222222222,\"#7201a8\"],[0.3333333333333333,\"#9c179e\"],[0.4444444444444444,\"#bd3786\"],[0.5555555555555556,\"#d8576b\"],[0.6666666666666666,\"#ed7953\"],[0.7777777777777778,\"#fb9f3a\"],[0.8888888888888888,\"#fdca26\"],[1.0,\"#f0f921\"]]}],\"heatmap\":[{\"type\":\"heatmap\",\"colorbar\":{\"outlinewidth\":0,\"ticks\":\"\"},\"colorscale\":[[0.0,\"#0d0887\"],[0.1111111111111111,\"#46039f\"],[0.2222222222222222,\"#7201a8\"],[0.3333333333333333,\"#9c179e\"],[0.4444444444444444,\"#bd3786\"],[0.5555555555555556,\"#d8576b\"],[0.6666666666666666,\"#ed7953\"],[0.7777777777777778,\"#fb9f3a\"],[0.8888888888888888,\"#fdca26\"],[1.0,\"#f0f921\"]]}],\"heatmapgl\":[{\"type\":\"heatmapgl\",\"colorbar\":{\"outlinewidth\":0,\"ticks\":\"\"},\"colorscale\":[[0.0,\"#0d0887\"],[0.1111111111111111,\"#46039f\"],[0.2222222222222222,\"#7201a8\"],[0.3333333333333333,\"#9c179e\"],[0.4444444444444444,\"#bd3786\"],[0.5555555555555556,\"#d8576b\"],[0.6666666666666666,\"#ed7953\"],[0.7777777777777778,\"#fb9f3a\"],[0.8888888888888888,\"#fdca26\"],[1.0,\"#f0f921\"]]}],\"contourcarpet\":[{\"type\":\"contourcarpet\",\"colorbar\":{\"outlinewidth\":0,\"ticks\":\"\"}}],\"contour\":[{\"type\":\"contour\",\"colorbar\":{\"outlinewidth\":0,\"ticks\":\"\"},\"colorscale\":[[0.0,\"#0d0887\"],[0.1111111111111111,\"#46039f\"],[0.2222222222222222,\"#7201a8\"],[0.3333333333333333,\"#9c179e\"],[0.4444444444444444,\"#bd3786\"],[0.5555555555555556,\"#d8576b\"],[0.6666666666666666,\"#ed7953\"],[0.7777777777777778,\"#fb9f3a\"],[0.8888888888888888,\"#fdca26\"],[1.0,\"#f0f921\"]]}],\"surface\":[{\"type\":\"surface\",\"colorbar\":{\"outlinewidth\":0,\"ticks\":\"\"},\"colorscale\":[[0.0,\"#0d0887\"],[0.1111111111111111,\"#46039f\"],[0.2222222222222222,\"#7201a8\"],[0.3333333333333333,\"#9c179e\"],[0.4444444444444444,\"#bd3786\"],[0.5555555555555556,\"#d8576b\"],[0.6666666666666666,\"#ed7953\"],[0.7777777777777778,\"#fb9f3a\"],[0.8888888888888888,\"#fdca26\"],[1.0,\"#f0f921\"]]}],\"mesh3d\":[{\"type\":\"mesh3d\",\"colorbar\":{\"outlinewidth\":0,\"ticks\":\"\"}}],\"scatter\":[{\"fillpattern\":{\"fillmode\":\"overlay\",\"size\":10,\"solidity\":0.2},\"type\":\"scatter\"}],\"parcoords\":[{\"type\":\"parcoords\",\"line\":{\"colorbar\":{\"outlinewidth\":0,\"ticks\":\"\"}}}],\"scatterpolargl\":[{\"type\":\"scatterpolargl\",\"marker\":{\"colorbar\":{\"outlinewidth\":0,\"ticks\":\"\"}}}],\"bar\":[{\"error_x\":{\"color\":\"#2a3f5f\"},\"error_y\":{\"color\":\"#2a3f5f\"},\"marker\":{\"line\":{\"color\":\"#E5ECF6\",\"width\":0.5},\"pattern\":{\"fillmode\":\"overlay\",\"size\":10,\"solidity\":0.2}},\"type\":\"bar\"}],\"scattergeo\":[{\"type\":\"scattergeo\",\"marker\":{\"colorbar\":{\"outlinewidth\":0,\"ticks\":\"\"}}}],\"scatterpolar\":[{\"type\":\"scatterpolar\",\"marker\":{\"colorbar\":{\"outlinewidth\":0,\"ticks\":\"\"}}}],\"histogram\":[{\"marker\":{\"pattern\":{\"fillmode\":\"overlay\",\"size\":10,\"solidity\":0.2}},\"type\":\"histogram\"}],\"scattergl\":[{\"type\":\"scattergl\",\"marker\":{\"colorbar\":{\"outlinewidth\":0,\"ticks\":\"\"}}}],\"scatter3d\":[{\"type\":\"scatter3d\",\"line\":{\"colorbar\":{\"outlinewidth\":0,\"ticks\":\"\"}},\"marker\":{\"colorbar\":{\"outlinewidth\":0,\"ticks\":\"\"}}}],\"scattermapbox\":[{\"type\":\"scattermapbox\",\"marker\":{\"colorbar\":{\"outlinewidth\":0,\"ticks\":\"\"}}}],\"scatterternary\":[{\"type\":\"scatterternary\",\"marker\":{\"colorbar\":{\"outlinewidth\":0,\"ticks\":\"\"}}}],\"scattercarpet\":[{\"type\":\"scattercarpet\",\"marker\":{\"colorbar\":{\"outlinewidth\":0,\"ticks\":\"\"}}}],\"carpet\":[{\"aaxis\":{\"endlinecolor\":\"#2a3f5f\",\"gridcolor\":\"white\",\"linecolor\":\"white\",\"minorgridcolor\":\"white\",\"startlinecolor\":\"#2a3f5f\"},\"baxis\":{\"endlinecolor\":\"#2a3f5f\",\"gridcolor\":\"white\",\"linecolor\":\"white\",\"minorgridcolor\":\"white\",\"startlinecolor\":\"#2a3f5f\"},\"type\":\"carpet\"}],\"table\":[{\"cells\":{\"fill\":{\"color\":\"#EBF0F8\"},\"line\":{\"color\":\"white\"}},\"header\":{\"fill\":{\"color\":\"#C8D4E3\"},\"line\":{\"color\":\"white\"}},\"type\":\"table\"}],\"barpolar\":[{\"marker\":{\"line\":{\"color\":\"#E5ECF6\",\"width\":0.5},\"pattern\":{\"fillmode\":\"overlay\",\"size\":10,\"solidity\":0.2}},\"type\":\"barpolar\"}],\"pie\":[{\"automargin\":true,\"type\":\"pie\"}]},\"layout\":{\"autotypenumbers\":\"strict\",\"colorway\":[\"#636efa\",\"#EF553B\",\"#00cc96\",\"#ab63fa\",\"#FFA15A\",\"#19d3f3\",\"#FF6692\",\"#B6E880\",\"#FF97FF\",\"#FECB52\"],\"font\":{\"color\":\"#2a3f5f\"},\"hovermode\":\"closest\",\"hoverlabel\":{\"align\":\"left\"},\"paper_bgcolor\":\"white\",\"plot_bgcolor\":\"#E5ECF6\",\"polar\":{\"bgcolor\":\"#E5ECF6\",\"angularaxis\":{\"gridcolor\":\"white\",\"linecolor\":\"white\",\"ticks\":\"\"},\"radialaxis\":{\"gridcolor\":\"white\",\"linecolor\":\"white\",\"ticks\":\"\"}},\"ternary\":{\"bgcolor\":\"#E5ECF6\",\"aaxis\":{\"gridcolor\":\"white\",\"linecolor\":\"white\",\"ticks\":\"\"},\"baxis\":{\"gridcolor\":\"white\",\"linecolor\":\"white\",\"ticks\":\"\"},\"caxis\":{\"gridcolor\":\"white\",\"linecolor\":\"white\",\"ticks\":\"\"}},\"coloraxis\":{\"colorbar\":{\"outlinewidth\":0,\"ticks\":\"\"}},\"colorscale\":{\"sequential\":[[0.0,\"#0d0887\"],[0.1111111111111111,\"#46039f\"],[0.2222222222222222,\"#7201a8\"],[0.3333333333333333,\"#9c179e\"],[0.4444444444444444,\"#bd3786\"],[0.5555555555555556,\"#d8576b\"],[0.6666666666666666,\"#ed7953\"],[0.7777777777777778,\"#fb9f3a\"],[0.8888888888888888,\"#fdca26\"],[1.0,\"#f0f921\"]],\"sequentialminus\":[[0.0,\"#0d0887\"],[0.1111111111111111,\"#46039f\"],[0.2222222222222222,\"#7201a8\"],[0.3333333333333333,\"#9c179e\"],[0.4444444444444444,\"#bd3786\"],[0.5555555555555556,\"#d8576b\"],[0.6666666666666666,\"#ed7953\"],[0.7777777777777778,\"#fb9f3a\"],[0.8888888888888888,\"#fdca26\"],[1.0,\"#f0f921\"]],\"diverging\":[[0,\"#8e0152\"],[0.1,\"#c51b7d\"],[0.2,\"#de77ae\"],[0.3,\"#f1b6da\"],[0.4,\"#fde0ef\"],[0.5,\"#f7f7f7\"],[0.6,\"#e6f5d0\"],[0.7,\"#b8e186\"],[0.8,\"#7fbc41\"],[0.9,\"#4d9221\"],[1,\"#276419\"]]},\"xaxis\":{\"gridcolor\":\"white\",\"linecolor\":\"white\",\"ticks\":\"\",\"title\":{\"standoff\":15},\"zerolinecolor\":\"white\",\"automargin\":true,\"zerolinewidth\":2},\"yaxis\":{\"gridcolor\":\"white\",\"linecolor\":\"white\",\"ticks\":\"\",\"title\":{\"standoff\":15},\"zerolinecolor\":\"white\",\"automargin\":true,\"zerolinewidth\":2},\"scene\":{\"xaxis\":{\"backgroundcolor\":\"#E5ECF6\",\"gridcolor\":\"white\",\"linecolor\":\"white\",\"showbackground\":true,\"ticks\":\"\",\"zerolinecolor\":\"white\",\"gridwidth\":2},\"yaxis\":{\"backgroundcolor\":\"#E5ECF6\",\"gridcolor\":\"white\",\"linecolor\":\"white\",\"showbackground\":true,\"ticks\":\"\",\"zerolinecolor\":\"white\",\"gridwidth\":2},\"zaxis\":{\"backgroundcolor\":\"#E5ECF6\",\"gridcolor\":\"white\",\"linecolor\":\"white\",\"showbackground\":true,\"ticks\":\"\",\"zerolinecolor\":\"white\",\"gridwidth\":2}},\"shapedefaults\":{\"line\":{\"color\":\"#2a3f5f\"}},\"annotationdefaults\":{\"arrowcolor\":\"#2a3f5f\",\"arrowhead\":0,\"arrowwidth\":1},\"geo\":{\"bgcolor\":\"white\",\"landcolor\":\"#E5ECF6\",\"subunitcolor\":\"white\",\"showland\":true,\"showlakes\":true,\"lakecolor\":\"white\"},\"title\":{\"x\":0.05},\"mapbox\":{\"style\":\"light\"}}},\"xaxis\":{\"anchor\":\"y\",\"domain\":[0.0,1.0],\"title\":{\"text\":\"Year\"},\"showgrid\":false},\"yaxis\":{\"anchor\":\"x\",\"domain\":[0.0,1.0],\"title\":{\"text\":\"Count of Amendment cases\"},\"showgrid\":false},\"legend\":{\"tracegroupgap\":0},\"title\":{\"text\":\"8-k amendment count over the year\",\"font\":{\"family\":\"Times New Roman\"},\"y\":0.9,\"x\":0.5,\"xanchor\":\"center\",\"yanchor\":\"top\"},\"barmode\":\"relative\",\"font\":{\"family\":\"Times New Roman\",\"size\":12},\"plot_bgcolor\":\"#f2f2f2\"},                        {\"responsive\": true}                    ).then(function(){\n",
       "                            \n",
       "var gd = document.getElementById('5382facb-aaef-45a9-84b4-457119966650');\n",
       "var x = new MutationObserver(function (mutations, observer) {{\n",
       "        var display = window.getComputedStyle(gd).display;\n",
       "        if (!display || display === 'none') {{\n",
       "            console.log([gd, 'removed!']);\n",
       "            Plotly.purge(gd);\n",
       "            observer.disconnect();\n",
       "        }}\n",
       "}});\n",
       "\n",
       "// Listen for the removal of the full notebook cells\n",
       "var notebookContainer = gd.closest('#notebook-container');\n",
       "if (notebookContainer) {{\n",
       "    x.observe(notebookContainer, {childList: true});\n",
       "}}\n",
       "\n",
       "// Listen for the clearing of the current output cell\n",
       "var outputEl = gd.closest('.output');\n",
       "if (outputEl) {{\n",
       "    x.observe(outputEl, {childList: true});\n",
       "}}\n",
       "\n",
       "                        })                };                });            </script>        </div>"
      ]
     },
     "metadata": {},
     "output_type": "display_data"
    }
   ],
   "source": [
    "# # Violation Plots\n",
    "\n",
    "import plotly.express as px\n",
    "\n",
    "\n",
    "fig = px.bar(new_df81, \n",
    "             x=\"year\", \n",
    "             y =2,\n",
    "             title='8-k amendment count over the year',        \n",
    "             )\n",
    "\n",
    "\n",
    "fig.update_traces(marker_color='#31417A')\n",
    "fig.update_layout(  \n",
    "    \n",
    "    font_family=\"Times New Roman\",    \n",
    "    title_font_family=\"Times New Roman\",\n",
    "    \n",
    "    xaxis=dict(showgrid=False),\n",
    "    yaxis=dict(showgrid=False),\n",
    "     font=dict(\n",
    "        \n",
    "        size=12,\n",
    "        \n",
    "    ),\n",
    "    xaxis_title=\"Year\",\n",
    "    yaxis_title=\"Count of Amendment cases\",\n",
    "    plot_bgcolor='#f2f2f2',  # Gray background color,\n",
    "    title={\n",
    "       \n",
    "        'y':0.9,\n",
    "        'x':0.5,\n",
    "        'xanchor': 'center',\n",
    "        'yanchor': 'top'})\n",
    "fig.show()"
   ]
  },
  {
   "cell_type": "markdown",
   "id": "bced3ab1",
   "metadata": {},
   "source": [
    "## Analyzing the 8K filings with unfiltered predicted labels"
   ]
  },
  {
   "cell_type": "code",
   "execution_count": 487,
   "id": "35e9721b",
   "metadata": {},
   "outputs": [],
   "source": [
    "new_df82= new_df8.pivot_table(index = ['year'], \n",
    "                    columns=['predicted_label_date_unfiltered'], #, 'predicted_label_date_unfiltered'\n",
    "                    values='dummy', \n",
    "                    aggfunc=np.sum ,margins=True,margins_name='record_total').iloc[:-1,:]"
   ]
  },
  {
   "cell_type": "code",
   "execution_count": 488,
   "id": "9807192d",
   "metadata": {},
   "outputs": [
    {
     "data": {
      "text/html": [
       "<div>\n",
       "<style scoped>\n",
       "    .dataframe tbody tr th:only-of-type {\n",
       "        vertical-align: middle;\n",
       "    }\n",
       "\n",
       "    .dataframe tbody tr th {\n",
       "        vertical-align: top;\n",
       "    }\n",
       "\n",
       "    .dataframe thead th {\n",
       "        text-align: right;\n",
       "    }\n",
       "</style>\n",
       "<table border=\"1\" class=\"dataframe\">\n",
       "  <thead>\n",
       "    <tr style=\"text-align: right;\">\n",
       "      <th>predicted_label_date_unfiltered</th>\n",
       "      <th>year</th>\n",
       "      <th>0.0</th>\n",
       "      <th>1.0</th>\n",
       "      <th>2.0</th>\n",
       "      <th>record_total</th>\n",
       "    </tr>\n",
       "  </thead>\n",
       "  <tbody>\n",
       "    <tr>\n",
       "      <th>0</th>\n",
       "      <td>1996</td>\n",
       "      <td>9864</td>\n",
       "      <td>21</td>\n",
       "      <td>319</td>\n",
       "      <td>10204</td>\n",
       "    </tr>\n",
       "    <tr>\n",
       "      <th>1</th>\n",
       "      <td>1997</td>\n",
       "      <td>14287</td>\n",
       "      <td>37</td>\n",
       "      <td>419</td>\n",
       "      <td>14743</td>\n",
       "    </tr>\n",
       "    <tr>\n",
       "      <th>2</th>\n",
       "      <td>1998</td>\n",
       "      <td>15818</td>\n",
       "      <td>55</td>\n",
       "      <td>439</td>\n",
       "      <td>16312</td>\n",
       "    </tr>\n",
       "    <tr>\n",
       "      <th>3</th>\n",
       "      <td>1999</td>\n",
       "      <td>15192</td>\n",
       "      <td>39</td>\n",
       "      <td>456</td>\n",
       "      <td>15687</td>\n",
       "    </tr>\n",
       "    <tr>\n",
       "      <th>4</th>\n",
       "      <td>2000</td>\n",
       "      <td>16700</td>\n",
       "      <td>49</td>\n",
       "      <td>473</td>\n",
       "      <td>17222</td>\n",
       "    </tr>\n",
       "  </tbody>\n",
       "</table>\n",
       "</div>"
      ],
      "text/plain": [
       "predicted_label_date_unfiltered  year    0.0  1.0  2.0  record_total\n",
       "0                                1996   9864   21  319         10204\n",
       "1                                1997  14287   37  419         14743\n",
       "2                                1998  15818   55  439         16312\n",
       "3                                1999  15192   39  456         15687\n",
       "4                                2000  16700   49  473         17222"
      ]
     },
     "execution_count": 488,
     "metadata": {},
     "output_type": "execute_result"
    }
   ],
   "source": [
    "new_df82.reset_index(inplace=True)\n",
    "new_df82.head()"
   ]
  },
  {
   "cell_type": "code",
   "execution_count": 489,
   "id": "66864e50",
   "metadata": {},
   "outputs": [],
   "source": [
    "new_df82.columns = ['year', 'unfilter_0', 'unfilter_1', 'unfilter_2', 'record_total']"
   ]
  },
  {
   "cell_type": "code",
   "execution_count": 490,
   "id": "49eb5897",
   "metadata": {},
   "outputs": [],
   "source": [
    "new_df8_final = pd.concat([new_df81, new_df82[['unfilter_0', 'unfilter_1', 'unfilter_2']]], axis=1)"
   ]
  },
  {
   "cell_type": "code",
   "execution_count": 491,
   "id": "aa1e9698",
   "metadata": {},
   "outputs": [
    {
     "data": {
      "text/html": [
       "<div>\n",
       "<style scoped>\n",
       "    .dataframe tbody tr th:only-of-type {\n",
       "        vertical-align: middle;\n",
       "    }\n",
       "\n",
       "    .dataframe tbody tr th {\n",
       "        vertical-align: top;\n",
       "    }\n",
       "\n",
       "    .dataframe thead th {\n",
       "        text-align: right;\n",
       "    }\n",
       "</style>\n",
       "<table border=\"1\" class=\"dataframe\">\n",
       "  <thead>\n",
       "    <tr style=\"text-align: right;\">\n",
       "      <th></th>\n",
       "      <th>year</th>\n",
       "      <th>0.0</th>\n",
       "      <th>1.0</th>\n",
       "      <th>2.0</th>\n",
       "      <th>record_total</th>\n",
       "      <th>unfilter_0</th>\n",
       "      <th>unfilter_1</th>\n",
       "      <th>unfilter_2</th>\n",
       "    </tr>\n",
       "  </thead>\n",
       "  <tbody>\n",
       "    <tr>\n",
       "      <th>0</th>\n",
       "      <td>1996</td>\n",
       "      <td>9994</td>\n",
       "      <td>22</td>\n",
       "      <td>188</td>\n",
       "      <td>10204</td>\n",
       "      <td>9864</td>\n",
       "      <td>21</td>\n",
       "      <td>319</td>\n",
       "    </tr>\n",
       "    <tr>\n",
       "      <th>1</th>\n",
       "      <td>1997</td>\n",
       "      <td>14499</td>\n",
       "      <td>34</td>\n",
       "      <td>210</td>\n",
       "      <td>14743</td>\n",
       "      <td>14287</td>\n",
       "      <td>37</td>\n",
       "      <td>419</td>\n",
       "    </tr>\n",
       "    <tr>\n",
       "      <th>2</th>\n",
       "      <td>1998</td>\n",
       "      <td>16001</td>\n",
       "      <td>45</td>\n",
       "      <td>266</td>\n",
       "      <td>16312</td>\n",
       "      <td>15818</td>\n",
       "      <td>55</td>\n",
       "      <td>439</td>\n",
       "    </tr>\n",
       "    <tr>\n",
       "      <th>3</th>\n",
       "      <td>1999</td>\n",
       "      <td>15355</td>\n",
       "      <td>31</td>\n",
       "      <td>301</td>\n",
       "      <td>15687</td>\n",
       "      <td>15192</td>\n",
       "      <td>39</td>\n",
       "      <td>456</td>\n",
       "    </tr>\n",
       "    <tr>\n",
       "      <th>4</th>\n",
       "      <td>2000</td>\n",
       "      <td>16897</td>\n",
       "      <td>38</td>\n",
       "      <td>287</td>\n",
       "      <td>17222</td>\n",
       "      <td>16700</td>\n",
       "      <td>49</td>\n",
       "      <td>473</td>\n",
       "    </tr>\n",
       "    <tr>\n",
       "      <th>5</th>\n",
       "      <td>2001</td>\n",
       "      <td>20494</td>\n",
       "      <td>41</td>\n",
       "      <td>392</td>\n",
       "      <td>20927</td>\n",
       "      <td>20301</td>\n",
       "      <td>52</td>\n",
       "      <td>574</td>\n",
       "    </tr>\n",
       "    <tr>\n",
       "      <th>6</th>\n",
       "      <td>2002</td>\n",
       "      <td>26732</td>\n",
       "      <td>44</td>\n",
       "      <td>460</td>\n",
       "      <td>27236</td>\n",
       "      <td>26546</td>\n",
       "      <td>51</td>\n",
       "      <td>639</td>\n",
       "    </tr>\n",
       "    <tr>\n",
       "      <th>7</th>\n",
       "      <td>2003</td>\n",
       "      <td>35347</td>\n",
       "      <td>57</td>\n",
       "      <td>429</td>\n",
       "      <td>35833</td>\n",
       "      <td>35182</td>\n",
       "      <td>66</td>\n",
       "      <td>585</td>\n",
       "    </tr>\n",
       "    <tr>\n",
       "      <th>8</th>\n",
       "      <td>2004</td>\n",
       "      <td>60336</td>\n",
       "      <td>44</td>\n",
       "      <td>617</td>\n",
       "      <td>60997</td>\n",
       "      <td>60041</td>\n",
       "      <td>61</td>\n",
       "      <td>895</td>\n",
       "    </tr>\n",
       "    <tr>\n",
       "      <th>9</th>\n",
       "      <td>2005</td>\n",
       "      <td>64760</td>\n",
       "      <td>30</td>\n",
       "      <td>719</td>\n",
       "      <td>65509</td>\n",
       "      <td>64497</td>\n",
       "      <td>35</td>\n",
       "      <td>977</td>\n",
       "    </tr>\n",
       "    <tr>\n",
       "      <th>10</th>\n",
       "      <td>2006</td>\n",
       "      <td>65231</td>\n",
       "      <td>28</td>\n",
       "      <td>661</td>\n",
       "      <td>65920</td>\n",
       "      <td>64943</td>\n",
       "      <td>37</td>\n",
       "      <td>940</td>\n",
       "    </tr>\n",
       "    <tr>\n",
       "      <th>11</th>\n",
       "      <td>2007</td>\n",
       "      <td>65034</td>\n",
       "      <td>32</td>\n",
       "      <td>658</td>\n",
       "      <td>65724</td>\n",
       "      <td>64742</td>\n",
       "      <td>42</td>\n",
       "      <td>940</td>\n",
       "    </tr>\n",
       "    <tr>\n",
       "      <th>12</th>\n",
       "      <td>2008</td>\n",
       "      <td>65060</td>\n",
       "      <td>39</td>\n",
       "      <td>669</td>\n",
       "      <td>65768</td>\n",
       "      <td>64782</td>\n",
       "      <td>46</td>\n",
       "      <td>940</td>\n",
       "    </tr>\n",
       "    <tr>\n",
       "      <th>13</th>\n",
       "      <td>2009</td>\n",
       "      <td>63536</td>\n",
       "      <td>71</td>\n",
       "      <td>853</td>\n",
       "      <td>64460</td>\n",
       "      <td>63233</td>\n",
       "      <td>77</td>\n",
       "      <td>1150</td>\n",
       "    </tr>\n",
       "    <tr>\n",
       "      <th>14</th>\n",
       "      <td>2010</td>\n",
       "      <td>64119</td>\n",
       "      <td>36</td>\n",
       "      <td>545</td>\n",
       "      <td>64700</td>\n",
       "      <td>63865</td>\n",
       "      <td>41</td>\n",
       "      <td>794</td>\n",
       "    </tr>\n",
       "    <tr>\n",
       "      <th>15</th>\n",
       "      <td>2011</td>\n",
       "      <td>63186</td>\n",
       "      <td>24</td>\n",
       "      <td>518</td>\n",
       "      <td>63728</td>\n",
       "      <td>62914</td>\n",
       "      <td>28</td>\n",
       "      <td>786</td>\n",
       "    </tr>\n",
       "    <tr>\n",
       "      <th>16</th>\n",
       "      <td>2012</td>\n",
       "      <td>63155</td>\n",
       "      <td>18</td>\n",
       "      <td>526</td>\n",
       "      <td>63699</td>\n",
       "      <td>62946</td>\n",
       "      <td>23</td>\n",
       "      <td>730</td>\n",
       "    </tr>\n",
       "    <tr>\n",
       "      <th>17</th>\n",
       "      <td>2013</td>\n",
       "      <td>62741</td>\n",
       "      <td>12</td>\n",
       "      <td>458</td>\n",
       "      <td>63211</td>\n",
       "      <td>62522</td>\n",
       "      <td>19</td>\n",
       "      <td>670</td>\n",
       "    </tr>\n",
       "    <tr>\n",
       "      <th>18</th>\n",
       "      <td>2014</td>\n",
       "      <td>60117</td>\n",
       "      <td>13</td>\n",
       "      <td>370</td>\n",
       "      <td>60500</td>\n",
       "      <td>59944</td>\n",
       "      <td>18</td>\n",
       "      <td>538</td>\n",
       "    </tr>\n",
       "    <tr>\n",
       "      <th>19</th>\n",
       "      <td>2015</td>\n",
       "      <td>16704</td>\n",
       "      <td>5</td>\n",
       "      <td>104</td>\n",
       "      <td>16813</td>\n",
       "      <td>16655</td>\n",
       "      <td>5</td>\n",
       "      <td>153</td>\n",
       "    </tr>\n",
       "    <tr>\n",
       "      <th>20</th>\n",
       "      <td>2016</td>\n",
       "      <td>55603</td>\n",
       "      <td>18</td>\n",
       "      <td>397</td>\n",
       "      <td>56018</td>\n",
       "      <td>55425</td>\n",
       "      <td>21</td>\n",
       "      <td>572</td>\n",
       "    </tr>\n",
       "    <tr>\n",
       "      <th>21</th>\n",
       "      <td>2017</td>\n",
       "      <td>59307</td>\n",
       "      <td>14</td>\n",
       "      <td>391</td>\n",
       "      <td>59712</td>\n",
       "      <td>59131</td>\n",
       "      <td>19</td>\n",
       "      <td>562</td>\n",
       "    </tr>\n",
       "    <tr>\n",
       "      <th>22</th>\n",
       "      <td>2018</td>\n",
       "      <td>57738</td>\n",
       "      <td>12</td>\n",
       "      <td>341</td>\n",
       "      <td>58091</td>\n",
       "      <td>57585</td>\n",
       "      <td>13</td>\n",
       "      <td>493</td>\n",
       "    </tr>\n",
       "    <tr>\n",
       "      <th>23</th>\n",
       "      <td>2019</td>\n",
       "      <td>56559</td>\n",
       "      <td>21</td>\n",
       "      <td>308</td>\n",
       "      <td>56888</td>\n",
       "      <td>56426</td>\n",
       "      <td>22</td>\n",
       "      <td>440</td>\n",
       "    </tr>\n",
       "    <tr>\n",
       "      <th>24</th>\n",
       "      <td>2020</td>\n",
       "      <td>58488</td>\n",
       "      <td>27</td>\n",
       "      <td>507</td>\n",
       "      <td>59022</td>\n",
       "      <td>58342</td>\n",
       "      <td>29</td>\n",
       "      <td>651</td>\n",
       "    </tr>\n",
       "    <tr>\n",
       "      <th>25</th>\n",
       "      <td>2021</td>\n",
       "      <td>58276</td>\n",
       "      <td>20</td>\n",
       "      <td>317</td>\n",
       "      <td>58613</td>\n",
       "      <td>58145</td>\n",
       "      <td>23</td>\n",
       "      <td>445</td>\n",
       "    </tr>\n",
       "    <tr>\n",
       "      <th>26</th>\n",
       "      <td>2022</td>\n",
       "      <td>57264</td>\n",
       "      <td>4</td>\n",
       "      <td>280</td>\n",
       "      <td>57548</td>\n",
       "      <td>57147</td>\n",
       "      <td>4</td>\n",
       "      <td>397</td>\n",
       "    </tr>\n",
       "  </tbody>\n",
       "</table>\n",
       "</div>"
      ],
      "text/plain": [
       "    year    0.0  1.0  2.0  record_total  unfilter_0  unfilter_1  unfilter_2\n",
       "0   1996   9994   22  188         10204        9864          21         319\n",
       "1   1997  14499   34  210         14743       14287          37         419\n",
       "2   1998  16001   45  266         16312       15818          55         439\n",
       "3   1999  15355   31  301         15687       15192          39         456\n",
       "4   2000  16897   38  287         17222       16700          49         473\n",
       "5   2001  20494   41  392         20927       20301          52         574\n",
       "6   2002  26732   44  460         27236       26546          51         639\n",
       "7   2003  35347   57  429         35833       35182          66         585\n",
       "8   2004  60336   44  617         60997       60041          61         895\n",
       "9   2005  64760   30  719         65509       64497          35         977\n",
       "10  2006  65231   28  661         65920       64943          37         940\n",
       "11  2007  65034   32  658         65724       64742          42         940\n",
       "12  2008  65060   39  669         65768       64782          46         940\n",
       "13  2009  63536   71  853         64460       63233          77        1150\n",
       "14  2010  64119   36  545         64700       63865          41         794\n",
       "15  2011  63186   24  518         63728       62914          28         786\n",
       "16  2012  63155   18  526         63699       62946          23         730\n",
       "17  2013  62741   12  458         63211       62522          19         670\n",
       "18  2014  60117   13  370         60500       59944          18         538\n",
       "19  2015  16704    5  104         16813       16655           5         153\n",
       "20  2016  55603   18  397         56018       55425          21         572\n",
       "21  2017  59307   14  391         59712       59131          19         562\n",
       "22  2018  57738   12  341         58091       57585          13         493\n",
       "23  2019  56559   21  308         56888       56426          22         440\n",
       "24  2020  58488   27  507         59022       58342          29         651\n",
       "25  2021  58276   20  317         58613       58145          23         445\n",
       "26  2022  57264    4  280         57548       57147           4         397"
      ]
     },
     "execution_count": 491,
     "metadata": {},
     "output_type": "execute_result"
    }
   ],
   "source": [
    "new_df8_final"
   ]
  },
  {
   "cell_type": "code",
   "execution_count": 502,
   "id": "9cee29c6",
   "metadata": {},
   "outputs": [],
   "source": [
    "new_df8_final['amend_diff'] = new_df8_final['unfilter_2'] - new_df8_final[2]\n",
    "new_df8_final['violation_diff'] = new_df8_final['unfilter_1'] - new_df8_final[1]"
   ]
  },
  {
   "cell_type": "code",
   "execution_count": 504,
   "id": "797d6aef",
   "metadata": {},
   "outputs": [
    {
     "data": {
      "text/html": [
       "<div>\n",
       "<style scoped>\n",
       "    .dataframe tbody tr th:only-of-type {\n",
       "        vertical-align: middle;\n",
       "    }\n",
       "\n",
       "    .dataframe tbody tr th {\n",
       "        vertical-align: top;\n",
       "    }\n",
       "\n",
       "    .dataframe thead th {\n",
       "        text-align: right;\n",
       "    }\n",
       "</style>\n",
       "<table border=\"1\" class=\"dataframe\">\n",
       "  <thead>\n",
       "    <tr style=\"text-align: right;\">\n",
       "      <th></th>\n",
       "      <th>year</th>\n",
       "      <th>0.0</th>\n",
       "      <th>1.0</th>\n",
       "      <th>2.0</th>\n",
       "      <th>record_total</th>\n",
       "      <th>unfilter_0</th>\n",
       "      <th>unfilter_1</th>\n",
       "      <th>unfilter_2</th>\n",
       "      <th>amend_diff</th>\n",
       "      <th>violation_diff</th>\n",
       "    </tr>\n",
       "  </thead>\n",
       "  <tbody>\n",
       "    <tr>\n",
       "      <th>count</th>\n",
       "      <td>27</td>\n",
       "      <td>27</td>\n",
       "      <td>27</td>\n",
       "      <td>27</td>\n",
       "      <td>27</td>\n",
       "      <td>27</td>\n",
       "      <td>27</td>\n",
       "      <td>27</td>\n",
       "      <td>27</td>\n",
       "      <td>27</td>\n",
       "    </tr>\n",
       "    <tr>\n",
       "      <th>mean</th>\n",
       "      <td>2009</td>\n",
       "      <td>47131</td>\n",
       "      <td>29</td>\n",
       "      <td>436</td>\n",
       "      <td>47596</td>\n",
       "      <td>46932</td>\n",
       "      <td>35</td>\n",
       "      <td>629</td>\n",
       "      <td>193</td>\n",
       "      <td>6</td>\n",
       "    </tr>\n",
       "    <tr>\n",
       "      <th>std</th>\n",
       "      <td>8</td>\n",
       "      <td>20796</td>\n",
       "      <td>16</td>\n",
       "      <td>180</td>\n",
       "      <td>20917</td>\n",
       "      <td>20765</td>\n",
       "      <td>18</td>\n",
       "      <td>235</td>\n",
       "      <td>62</td>\n",
       "      <td>4</td>\n",
       "    </tr>\n",
       "    <tr>\n",
       "      <th>min</th>\n",
       "      <td>1996</td>\n",
       "      <td>9994</td>\n",
       "      <td>4</td>\n",
       "      <td>104</td>\n",
       "      <td>10204</td>\n",
       "      <td>9864</td>\n",
       "      <td>4</td>\n",
       "      <td>153</td>\n",
       "      <td>49</td>\n",
       "      <td>-1</td>\n",
       "    </tr>\n",
       "    <tr>\n",
       "      <th>25%</th>\n",
       "      <td>2002</td>\n",
       "      <td>23613</td>\n",
       "      <td>18</td>\n",
       "      <td>304</td>\n",
       "      <td>24082</td>\n",
       "      <td>23424</td>\n",
       "      <td>21</td>\n",
       "      <td>450</td>\n",
       "      <td>154</td>\n",
       "      <td>3</td>\n",
       "    </tr>\n",
       "    <tr>\n",
       "      <th>50%</th>\n",
       "      <td>2009</td>\n",
       "      <td>58276</td>\n",
       "      <td>28</td>\n",
       "      <td>397</td>\n",
       "      <td>58613</td>\n",
       "      <td>58145</td>\n",
       "      <td>35</td>\n",
       "      <td>574</td>\n",
       "      <td>179</td>\n",
       "      <td>5</td>\n",
       "    </tr>\n",
       "    <tr>\n",
       "      <th>75%</th>\n",
       "      <td>2016</td>\n",
       "      <td>63170</td>\n",
       "      <td>38</td>\n",
       "      <td>536</td>\n",
       "      <td>63714</td>\n",
       "      <td>62930</td>\n",
       "      <td>48</td>\n",
       "      <td>790</td>\n",
       "      <td>254</td>\n",
       "      <td>8</td>\n",
       "    </tr>\n",
       "    <tr>\n",
       "      <th>max</th>\n",
       "      <td>2022</td>\n",
       "      <td>65231</td>\n",
       "      <td>71</td>\n",
       "      <td>853</td>\n",
       "      <td>65920</td>\n",
       "      <td>64943</td>\n",
       "      <td>77</td>\n",
       "      <td>1150</td>\n",
       "      <td>297</td>\n",
       "      <td>17</td>\n",
       "    </tr>\n",
       "  </tbody>\n",
       "</table>\n",
       "</div>"
      ],
      "text/plain": [
       "       year   0.0  1.0  2.0  record_total  unfilter_0  unfilter_1  unfilter_2  \\\n",
       "count    27    27   27   27            27          27          27          27   \n",
       "mean   2009 47131   29  436         47596       46932          35         629   \n",
       "std       8 20796   16  180         20917       20765          18         235   \n",
       "min    1996  9994    4  104         10204        9864           4         153   \n",
       "25%    2002 23613   18  304         24082       23424          21         450   \n",
       "50%    2009 58276   28  397         58613       58145          35         574   \n",
       "75%    2016 63170   38  536         63714       62930          48         790   \n",
       "max    2022 65231   71  853         65920       64943          77        1150   \n",
       "\n",
       "       amend_diff  violation_diff  \n",
       "count          27              27  \n",
       "mean          193               6  \n",
       "std            62               4  \n",
       "min            49              -1  \n",
       "25%           154               3  \n",
       "50%           179               5  \n",
       "75%           254               8  \n",
       "max           297              17  "
      ]
     },
     "execution_count": 504,
     "metadata": {},
     "output_type": "execute_result"
    }
   ],
   "source": [
    "new_df8_final.describe()"
   ]
  },
  {
   "cell_type": "code",
   "execution_count": 505,
   "id": "8e3c6bbc",
   "metadata": {},
   "outputs": [
    {
     "data": {
      "text/plain": [
       "year               54243\n",
       "0.0              1272533\n",
       "1.0                  780\n",
       "2.0                11772\n",
       "record_total     1285085\n",
       "unfilter_0       1267175\n",
       "unfilter_1           933\n",
       "unfilter_2         16977\n",
       "amend_diff          5205\n",
       "violation_diff       153\n",
       "dtype: float64"
      ]
     },
     "execution_count": 505,
     "metadata": {},
     "output_type": "execute_result"
    }
   ],
   "source": [
    "new_df8_final.sum()"
   ]
  },
  {
   "cell_type": "code",
   "execution_count": 500,
   "id": "82764dec",
   "metadata": {},
   "outputs": [
    {
     "data": {
      "application/vnd.plotly.v1+json": {
       "config": {
        "plotlyServerURL": "https://plot.ly"
       },
       "data": [
        {
         "marker": {
          "color": "indianred"
         },
         "name": "Primary Product",
         "type": "bar",
         "x": [
          1996,
          1997,
          1998,
          1999,
          2000,
          2001,
          2002,
          2003,
          2004,
          2005,
          2006,
          2007,
          2008,
          2009,
          2010,
          2011,
          2012,
          2013,
          2014,
          2015,
          2016,
          2017,
          2018,
          2019,
          2020,
          2021,
          2022
         ],
         "y": [
          188,
          210,
          266,
          301,
          287,
          392,
          460,
          429,
          617,
          719,
          661,
          658,
          669,
          853,
          545,
          518,
          526,
          458,
          370,
          104,
          397,
          391,
          341,
          308,
          507,
          317,
          280
         ]
        },
        {
         "marker": {
          "color": "lightsalmon"
         },
         "name": "Secondary Product",
         "type": "bar",
         "x": [
          1996,
          1997,
          1998,
          1999,
          2000,
          2001,
          2002,
          2003,
          2004,
          2005,
          2006,
          2007,
          2008,
          2009,
          2010,
          2011,
          2012,
          2013,
          2014,
          2015,
          2016,
          2017,
          2018,
          2019,
          2020,
          2021,
          2022
         ],
         "y": [
          319,
          419,
          439,
          456,
          473,
          574,
          639,
          585,
          895,
          977,
          940,
          940,
          940,
          1150,
          794,
          786,
          730,
          670,
          538,
          153,
          572,
          562,
          493,
          440,
          651,
          445,
          397
         ]
        }
       ],
       "layout": {
        "font": {
         "family": "Times New Roman",
         "size": 12
        },
        "plot_bgcolor": "#f2f2f2",
        "template": {
         "data": {
          "bar": [
           {
            "error_x": {
             "color": "#2a3f5f"
            },
            "error_y": {
             "color": "#2a3f5f"
            },
            "marker": {
             "line": {
              "color": "#E5ECF6",
              "width": 0.5
             },
             "pattern": {
              "fillmode": "overlay",
              "size": 10,
              "solidity": 0.2
             }
            },
            "type": "bar"
           }
          ],
          "barpolar": [
           {
            "marker": {
             "line": {
              "color": "#E5ECF6",
              "width": 0.5
             },
             "pattern": {
              "fillmode": "overlay",
              "size": 10,
              "solidity": 0.2
             }
            },
            "type": "barpolar"
           }
          ],
          "carpet": [
           {
            "aaxis": {
             "endlinecolor": "#2a3f5f",
             "gridcolor": "white",
             "linecolor": "white",
             "minorgridcolor": "white",
             "startlinecolor": "#2a3f5f"
            },
            "baxis": {
             "endlinecolor": "#2a3f5f",
             "gridcolor": "white",
             "linecolor": "white",
             "minorgridcolor": "white",
             "startlinecolor": "#2a3f5f"
            },
            "type": "carpet"
           }
          ],
          "choropleth": [
           {
            "colorbar": {
             "outlinewidth": 0,
             "ticks": ""
            },
            "type": "choropleth"
           }
          ],
          "contour": [
           {
            "colorbar": {
             "outlinewidth": 0,
             "ticks": ""
            },
            "colorscale": [
             [
              0,
              "#0d0887"
             ],
             [
              0.1111111111111111,
              "#46039f"
             ],
             [
              0.2222222222222222,
              "#7201a8"
             ],
             [
              0.3333333333333333,
              "#9c179e"
             ],
             [
              0.4444444444444444,
              "#bd3786"
             ],
             [
              0.5555555555555556,
              "#d8576b"
             ],
             [
              0.6666666666666666,
              "#ed7953"
             ],
             [
              0.7777777777777778,
              "#fb9f3a"
             ],
             [
              0.8888888888888888,
              "#fdca26"
             ],
             [
              1,
              "#f0f921"
             ]
            ],
            "type": "contour"
           }
          ],
          "contourcarpet": [
           {
            "colorbar": {
             "outlinewidth": 0,
             "ticks": ""
            },
            "type": "contourcarpet"
           }
          ],
          "heatmap": [
           {
            "colorbar": {
             "outlinewidth": 0,
             "ticks": ""
            },
            "colorscale": [
             [
              0,
              "#0d0887"
             ],
             [
              0.1111111111111111,
              "#46039f"
             ],
             [
              0.2222222222222222,
              "#7201a8"
             ],
             [
              0.3333333333333333,
              "#9c179e"
             ],
             [
              0.4444444444444444,
              "#bd3786"
             ],
             [
              0.5555555555555556,
              "#d8576b"
             ],
             [
              0.6666666666666666,
              "#ed7953"
             ],
             [
              0.7777777777777778,
              "#fb9f3a"
             ],
             [
              0.8888888888888888,
              "#fdca26"
             ],
             [
              1,
              "#f0f921"
             ]
            ],
            "type": "heatmap"
           }
          ],
          "heatmapgl": [
           {
            "colorbar": {
             "outlinewidth": 0,
             "ticks": ""
            },
            "colorscale": [
             [
              0,
              "#0d0887"
             ],
             [
              0.1111111111111111,
              "#46039f"
             ],
             [
              0.2222222222222222,
              "#7201a8"
             ],
             [
              0.3333333333333333,
              "#9c179e"
             ],
             [
              0.4444444444444444,
              "#bd3786"
             ],
             [
              0.5555555555555556,
              "#d8576b"
             ],
             [
              0.6666666666666666,
              "#ed7953"
             ],
             [
              0.7777777777777778,
              "#fb9f3a"
             ],
             [
              0.8888888888888888,
              "#fdca26"
             ],
             [
              1,
              "#f0f921"
             ]
            ],
            "type": "heatmapgl"
           }
          ],
          "histogram": [
           {
            "marker": {
             "pattern": {
              "fillmode": "overlay",
              "size": 10,
              "solidity": 0.2
             }
            },
            "type": "histogram"
           }
          ],
          "histogram2d": [
           {
            "colorbar": {
             "outlinewidth": 0,
             "ticks": ""
            },
            "colorscale": [
             [
              0,
              "#0d0887"
             ],
             [
              0.1111111111111111,
              "#46039f"
             ],
             [
              0.2222222222222222,
              "#7201a8"
             ],
             [
              0.3333333333333333,
              "#9c179e"
             ],
             [
              0.4444444444444444,
              "#bd3786"
             ],
             [
              0.5555555555555556,
              "#d8576b"
             ],
             [
              0.6666666666666666,
              "#ed7953"
             ],
             [
              0.7777777777777778,
              "#fb9f3a"
             ],
             [
              0.8888888888888888,
              "#fdca26"
             ],
             [
              1,
              "#f0f921"
             ]
            ],
            "type": "histogram2d"
           }
          ],
          "histogram2dcontour": [
           {
            "colorbar": {
             "outlinewidth": 0,
             "ticks": ""
            },
            "colorscale": [
             [
              0,
              "#0d0887"
             ],
             [
              0.1111111111111111,
              "#46039f"
             ],
             [
              0.2222222222222222,
              "#7201a8"
             ],
             [
              0.3333333333333333,
              "#9c179e"
             ],
             [
              0.4444444444444444,
              "#bd3786"
             ],
             [
              0.5555555555555556,
              "#d8576b"
             ],
             [
              0.6666666666666666,
              "#ed7953"
             ],
             [
              0.7777777777777778,
              "#fb9f3a"
             ],
             [
              0.8888888888888888,
              "#fdca26"
             ],
             [
              1,
              "#f0f921"
             ]
            ],
            "type": "histogram2dcontour"
           }
          ],
          "mesh3d": [
           {
            "colorbar": {
             "outlinewidth": 0,
             "ticks": ""
            },
            "type": "mesh3d"
           }
          ],
          "parcoords": [
           {
            "line": {
             "colorbar": {
              "outlinewidth": 0,
              "ticks": ""
             }
            },
            "type": "parcoords"
           }
          ],
          "pie": [
           {
            "automargin": true,
            "type": "pie"
           }
          ],
          "scatter": [
           {
            "fillpattern": {
             "fillmode": "overlay",
             "size": 10,
             "solidity": 0.2
            },
            "type": "scatter"
           }
          ],
          "scatter3d": [
           {
            "line": {
             "colorbar": {
              "outlinewidth": 0,
              "ticks": ""
             }
            },
            "marker": {
             "colorbar": {
              "outlinewidth": 0,
              "ticks": ""
             }
            },
            "type": "scatter3d"
           }
          ],
          "scattercarpet": [
           {
            "marker": {
             "colorbar": {
              "outlinewidth": 0,
              "ticks": ""
             }
            },
            "type": "scattercarpet"
           }
          ],
          "scattergeo": [
           {
            "marker": {
             "colorbar": {
              "outlinewidth": 0,
              "ticks": ""
             }
            },
            "type": "scattergeo"
           }
          ],
          "scattergl": [
           {
            "marker": {
             "colorbar": {
              "outlinewidth": 0,
              "ticks": ""
             }
            },
            "type": "scattergl"
           }
          ],
          "scattermapbox": [
           {
            "marker": {
             "colorbar": {
              "outlinewidth": 0,
              "ticks": ""
             }
            },
            "type": "scattermapbox"
           }
          ],
          "scatterpolar": [
           {
            "marker": {
             "colorbar": {
              "outlinewidth": 0,
              "ticks": ""
             }
            },
            "type": "scatterpolar"
           }
          ],
          "scatterpolargl": [
           {
            "marker": {
             "colorbar": {
              "outlinewidth": 0,
              "ticks": ""
             }
            },
            "type": "scatterpolargl"
           }
          ],
          "scatterternary": [
           {
            "marker": {
             "colorbar": {
              "outlinewidth": 0,
              "ticks": ""
             }
            },
            "type": "scatterternary"
           }
          ],
          "surface": [
           {
            "colorbar": {
             "outlinewidth": 0,
             "ticks": ""
            },
            "colorscale": [
             [
              0,
              "#0d0887"
             ],
             [
              0.1111111111111111,
              "#46039f"
             ],
             [
              0.2222222222222222,
              "#7201a8"
             ],
             [
              0.3333333333333333,
              "#9c179e"
             ],
             [
              0.4444444444444444,
              "#bd3786"
             ],
             [
              0.5555555555555556,
              "#d8576b"
             ],
             [
              0.6666666666666666,
              "#ed7953"
             ],
             [
              0.7777777777777778,
              "#fb9f3a"
             ],
             [
              0.8888888888888888,
              "#fdca26"
             ],
             [
              1,
              "#f0f921"
             ]
            ],
            "type": "surface"
           }
          ],
          "table": [
           {
            "cells": {
             "fill": {
              "color": "#EBF0F8"
             },
             "line": {
              "color": "white"
             }
            },
            "header": {
             "fill": {
              "color": "#C8D4E3"
             },
             "line": {
              "color": "white"
             }
            },
            "type": "table"
           }
          ]
         },
         "layout": {
          "annotationdefaults": {
           "arrowcolor": "#2a3f5f",
           "arrowhead": 0,
           "arrowwidth": 1
          },
          "autotypenumbers": "strict",
          "coloraxis": {
           "colorbar": {
            "outlinewidth": 0,
            "ticks": ""
           }
          },
          "colorscale": {
           "diverging": [
            [
             0,
             "#8e0152"
            ],
            [
             0.1,
             "#c51b7d"
            ],
            [
             0.2,
             "#de77ae"
            ],
            [
             0.3,
             "#f1b6da"
            ],
            [
             0.4,
             "#fde0ef"
            ],
            [
             0.5,
             "#f7f7f7"
            ],
            [
             0.6,
             "#e6f5d0"
            ],
            [
             0.7,
             "#b8e186"
            ],
            [
             0.8,
             "#7fbc41"
            ],
            [
             0.9,
             "#4d9221"
            ],
            [
             1,
             "#276419"
            ]
           ],
           "sequential": [
            [
             0,
             "#0d0887"
            ],
            [
             0.1111111111111111,
             "#46039f"
            ],
            [
             0.2222222222222222,
             "#7201a8"
            ],
            [
             0.3333333333333333,
             "#9c179e"
            ],
            [
             0.4444444444444444,
             "#bd3786"
            ],
            [
             0.5555555555555556,
             "#d8576b"
            ],
            [
             0.6666666666666666,
             "#ed7953"
            ],
            [
             0.7777777777777778,
             "#fb9f3a"
            ],
            [
             0.8888888888888888,
             "#fdca26"
            ],
            [
             1,
             "#f0f921"
            ]
           ],
           "sequentialminus": [
            [
             0,
             "#0d0887"
            ],
            [
             0.1111111111111111,
             "#46039f"
            ],
            [
             0.2222222222222222,
             "#7201a8"
            ],
            [
             0.3333333333333333,
             "#9c179e"
            ],
            [
             0.4444444444444444,
             "#bd3786"
            ],
            [
             0.5555555555555556,
             "#d8576b"
            ],
            [
             0.6666666666666666,
             "#ed7953"
            ],
            [
             0.7777777777777778,
             "#fb9f3a"
            ],
            [
             0.8888888888888888,
             "#fdca26"
            ],
            [
             1,
             "#f0f921"
            ]
           ]
          },
          "colorway": [
           "#636efa",
           "#EF553B",
           "#00cc96",
           "#ab63fa",
           "#FFA15A",
           "#19d3f3",
           "#FF6692",
           "#B6E880",
           "#FF97FF",
           "#FECB52"
          ],
          "font": {
           "color": "#2a3f5f"
          },
          "geo": {
           "bgcolor": "white",
           "lakecolor": "white",
           "landcolor": "#E5ECF6",
           "showlakes": true,
           "showland": true,
           "subunitcolor": "white"
          },
          "hoverlabel": {
           "align": "left"
          },
          "hovermode": "closest",
          "mapbox": {
           "style": "light"
          },
          "paper_bgcolor": "white",
          "plot_bgcolor": "#E5ECF6",
          "polar": {
           "angularaxis": {
            "gridcolor": "white",
            "linecolor": "white",
            "ticks": ""
           },
           "bgcolor": "#E5ECF6",
           "radialaxis": {
            "gridcolor": "white",
            "linecolor": "white",
            "ticks": ""
           }
          },
          "scene": {
           "xaxis": {
            "backgroundcolor": "#E5ECF6",
            "gridcolor": "white",
            "gridwidth": 2,
            "linecolor": "white",
            "showbackground": true,
            "ticks": "",
            "zerolinecolor": "white"
           },
           "yaxis": {
            "backgroundcolor": "#E5ECF6",
            "gridcolor": "white",
            "gridwidth": 2,
            "linecolor": "white",
            "showbackground": true,
            "ticks": "",
            "zerolinecolor": "white"
           },
           "zaxis": {
            "backgroundcolor": "#E5ECF6",
            "gridcolor": "white",
            "gridwidth": 2,
            "linecolor": "white",
            "showbackground": true,
            "ticks": "",
            "zerolinecolor": "white"
           }
          },
          "shapedefaults": {
           "line": {
            "color": "#2a3f5f"
           }
          },
          "ternary": {
           "aaxis": {
            "gridcolor": "white",
            "linecolor": "white",
            "ticks": ""
           },
           "baxis": {
            "gridcolor": "white",
            "linecolor": "white",
            "ticks": ""
           },
           "bgcolor": "#E5ECF6",
           "caxis": {
            "gridcolor": "white",
            "linecolor": "white",
            "ticks": ""
           }
          },
          "title": {
           "x": 0.05
          },
          "xaxis": {
           "automargin": true,
           "gridcolor": "white",
           "linecolor": "white",
           "ticks": "",
           "title": {
            "standoff": 15
           },
           "zerolinecolor": "white",
           "zerolinewidth": 2
          },
          "yaxis": {
           "automargin": true,
           "gridcolor": "white",
           "linecolor": "white",
           "ticks": "",
           "title": {
            "standoff": 15
           },
           "zerolinecolor": "white",
           "zerolinewidth": 2
          }
         }
        },
        "title": {
         "font": {
          "family": "Times New Roman"
         },
         "x": 0.5,
         "xanchor": "center",
         "y": 0.9,
         "yanchor": "top"
        },
        "xaxis": {
         "showgrid": false,
         "title": {
          "text": "Year"
         }
        },
        "yaxis": {
         "showgrid": false,
         "title": {
          "text": "Count of Amendment cases"
         }
        }
       }
      },
      "text/html": [
       "<div>                            <div id=\"e1e205c2-83ee-4b5d-8bc3-c6f1943a5111\" class=\"plotly-graph-div\" style=\"height:525px; width:100%;\"></div>            <script type=\"text/javascript\">                require([\"plotly\"], function(Plotly) {                    window.PLOTLYENV=window.PLOTLYENV || {};                                    if (document.getElementById(\"e1e205c2-83ee-4b5d-8bc3-c6f1943a5111\")) {                    Plotly.newPlot(                        \"e1e205c2-83ee-4b5d-8bc3-c6f1943a5111\",                        [{\"marker\":{\"color\":\"indianred\"},\"name\":\"Primary Product\",\"x\":[1996.0,1997.0,1998.0,1999.0,2000.0,2001.0,2002.0,2003.0,2004.0,2005.0,2006.0,2007.0,2008.0,2009.0,2010.0,2011.0,2012.0,2013.0,2014.0,2015.0,2016.0,2017.0,2018.0,2019.0,2020.0,2021.0,2022.0],\"y\":[188,210,266,301,287,392,460,429,617,719,661,658,669,853,545,518,526,458,370,104,397,391,341,308,507,317,280],\"type\":\"bar\"},{\"marker\":{\"color\":\"lightsalmon\"},\"name\":\"Secondary Product\",\"x\":[1996.0,1997.0,1998.0,1999.0,2000.0,2001.0,2002.0,2003.0,2004.0,2005.0,2006.0,2007.0,2008.0,2009.0,2010.0,2011.0,2012.0,2013.0,2014.0,2015.0,2016.0,2017.0,2018.0,2019.0,2020.0,2021.0,2022.0],\"y\":[319,419,439,456,473,574,639,585,895,977,940,940,940,1150,794,786,730,670,538,153,572,562,493,440,651,445,397],\"type\":\"bar\"}],                        {\"template\":{\"data\":{\"histogram2dcontour\":[{\"type\":\"histogram2dcontour\",\"colorbar\":{\"outlinewidth\":0,\"ticks\":\"\"},\"colorscale\":[[0.0,\"#0d0887\"],[0.1111111111111111,\"#46039f\"],[0.2222222222222222,\"#7201a8\"],[0.3333333333333333,\"#9c179e\"],[0.4444444444444444,\"#bd3786\"],[0.5555555555555556,\"#d8576b\"],[0.6666666666666666,\"#ed7953\"],[0.7777777777777778,\"#fb9f3a\"],[0.8888888888888888,\"#fdca26\"],[1.0,\"#f0f921\"]]}],\"choropleth\":[{\"type\":\"choropleth\",\"colorbar\":{\"outlinewidth\":0,\"ticks\":\"\"}}],\"histogram2d\":[{\"type\":\"histogram2d\",\"colorbar\":{\"outlinewidth\":0,\"ticks\":\"\"},\"colorscale\":[[0.0,\"#0d0887\"],[0.1111111111111111,\"#46039f\"],[0.2222222222222222,\"#7201a8\"],[0.3333333333333333,\"#9c179e\"],[0.4444444444444444,\"#bd3786\"],[0.5555555555555556,\"#d8576b\"],[0.6666666666666666,\"#ed7953\"],[0.7777777777777778,\"#fb9f3a\"],[0.8888888888888888,\"#fdca26\"],[1.0,\"#f0f921\"]]}],\"heatmap\":[{\"type\":\"heatmap\",\"colorbar\":{\"outlinewidth\":0,\"ticks\":\"\"},\"colorscale\":[[0.0,\"#0d0887\"],[0.1111111111111111,\"#46039f\"],[0.2222222222222222,\"#7201a8\"],[0.3333333333333333,\"#9c179e\"],[0.4444444444444444,\"#bd3786\"],[0.5555555555555556,\"#d8576b\"],[0.6666666666666666,\"#ed7953\"],[0.7777777777777778,\"#fb9f3a\"],[0.8888888888888888,\"#fdca26\"],[1.0,\"#f0f921\"]]}],\"heatmapgl\":[{\"type\":\"heatmapgl\",\"colorbar\":{\"outlinewidth\":0,\"ticks\":\"\"},\"colorscale\":[[0.0,\"#0d0887\"],[0.1111111111111111,\"#46039f\"],[0.2222222222222222,\"#7201a8\"],[0.3333333333333333,\"#9c179e\"],[0.4444444444444444,\"#bd3786\"],[0.5555555555555556,\"#d8576b\"],[0.6666666666666666,\"#ed7953\"],[0.7777777777777778,\"#fb9f3a\"],[0.8888888888888888,\"#fdca26\"],[1.0,\"#f0f921\"]]}],\"contourcarpet\":[{\"type\":\"contourcarpet\",\"colorbar\":{\"outlinewidth\":0,\"ticks\":\"\"}}],\"contour\":[{\"type\":\"contour\",\"colorbar\":{\"outlinewidth\":0,\"ticks\":\"\"},\"colorscale\":[[0.0,\"#0d0887\"],[0.1111111111111111,\"#46039f\"],[0.2222222222222222,\"#7201a8\"],[0.3333333333333333,\"#9c179e\"],[0.4444444444444444,\"#bd3786\"],[0.5555555555555556,\"#d8576b\"],[0.6666666666666666,\"#ed7953\"],[0.7777777777777778,\"#fb9f3a\"],[0.8888888888888888,\"#fdca26\"],[1.0,\"#f0f921\"]]}],\"surface\":[{\"type\":\"surface\",\"colorbar\":{\"outlinewidth\":0,\"ticks\":\"\"},\"colorscale\":[[0.0,\"#0d0887\"],[0.1111111111111111,\"#46039f\"],[0.2222222222222222,\"#7201a8\"],[0.3333333333333333,\"#9c179e\"],[0.4444444444444444,\"#bd3786\"],[0.5555555555555556,\"#d8576b\"],[0.6666666666666666,\"#ed7953\"],[0.7777777777777778,\"#fb9f3a\"],[0.8888888888888888,\"#fdca26\"],[1.0,\"#f0f921\"]]}],\"mesh3d\":[{\"type\":\"mesh3d\",\"colorbar\":{\"outlinewidth\":0,\"ticks\":\"\"}}],\"scatter\":[{\"fillpattern\":{\"fillmode\":\"overlay\",\"size\":10,\"solidity\":0.2},\"type\":\"scatter\"}],\"parcoords\":[{\"type\":\"parcoords\",\"line\":{\"colorbar\":{\"outlinewidth\":0,\"ticks\":\"\"}}}],\"scatterpolargl\":[{\"type\":\"scatterpolargl\",\"marker\":{\"colorbar\":{\"outlinewidth\":0,\"ticks\":\"\"}}}],\"bar\":[{\"error_x\":{\"color\":\"#2a3f5f\"},\"error_y\":{\"color\":\"#2a3f5f\"},\"marker\":{\"line\":{\"color\":\"#E5ECF6\",\"width\":0.5},\"pattern\":{\"fillmode\":\"overlay\",\"size\":10,\"solidity\":0.2}},\"type\":\"bar\"}],\"scattergeo\":[{\"type\":\"scattergeo\",\"marker\":{\"colorbar\":{\"outlinewidth\":0,\"ticks\":\"\"}}}],\"scatterpolar\":[{\"type\":\"scatterpolar\",\"marker\":{\"colorbar\":{\"outlinewidth\":0,\"ticks\":\"\"}}}],\"histogram\":[{\"marker\":{\"pattern\":{\"fillmode\":\"overlay\",\"size\":10,\"solidity\":0.2}},\"type\":\"histogram\"}],\"scattergl\":[{\"type\":\"scattergl\",\"marker\":{\"colorbar\":{\"outlinewidth\":0,\"ticks\":\"\"}}}],\"scatter3d\":[{\"type\":\"scatter3d\",\"line\":{\"colorbar\":{\"outlinewidth\":0,\"ticks\":\"\"}},\"marker\":{\"colorbar\":{\"outlinewidth\":0,\"ticks\":\"\"}}}],\"scattermapbox\":[{\"type\":\"scattermapbox\",\"marker\":{\"colorbar\":{\"outlinewidth\":0,\"ticks\":\"\"}}}],\"scatterternary\":[{\"type\":\"scatterternary\",\"marker\":{\"colorbar\":{\"outlinewidth\":0,\"ticks\":\"\"}}}],\"scattercarpet\":[{\"type\":\"scattercarpet\",\"marker\":{\"colorbar\":{\"outlinewidth\":0,\"ticks\":\"\"}}}],\"carpet\":[{\"aaxis\":{\"endlinecolor\":\"#2a3f5f\",\"gridcolor\":\"white\",\"linecolor\":\"white\",\"minorgridcolor\":\"white\",\"startlinecolor\":\"#2a3f5f\"},\"baxis\":{\"endlinecolor\":\"#2a3f5f\",\"gridcolor\":\"white\",\"linecolor\":\"white\",\"minorgridcolor\":\"white\",\"startlinecolor\":\"#2a3f5f\"},\"type\":\"carpet\"}],\"table\":[{\"cells\":{\"fill\":{\"color\":\"#EBF0F8\"},\"line\":{\"color\":\"white\"}},\"header\":{\"fill\":{\"color\":\"#C8D4E3\"},\"line\":{\"color\":\"white\"}},\"type\":\"table\"}],\"barpolar\":[{\"marker\":{\"line\":{\"color\":\"#E5ECF6\",\"width\":0.5},\"pattern\":{\"fillmode\":\"overlay\",\"size\":10,\"solidity\":0.2}},\"type\":\"barpolar\"}],\"pie\":[{\"automargin\":true,\"type\":\"pie\"}]},\"layout\":{\"autotypenumbers\":\"strict\",\"colorway\":[\"#636efa\",\"#EF553B\",\"#00cc96\",\"#ab63fa\",\"#FFA15A\",\"#19d3f3\",\"#FF6692\",\"#B6E880\",\"#FF97FF\",\"#FECB52\"],\"font\":{\"color\":\"#2a3f5f\"},\"hovermode\":\"closest\",\"hoverlabel\":{\"align\":\"left\"},\"paper_bgcolor\":\"white\",\"plot_bgcolor\":\"#E5ECF6\",\"polar\":{\"bgcolor\":\"#E5ECF6\",\"angularaxis\":{\"gridcolor\":\"white\",\"linecolor\":\"white\",\"ticks\":\"\"},\"radialaxis\":{\"gridcolor\":\"white\",\"linecolor\":\"white\",\"ticks\":\"\"}},\"ternary\":{\"bgcolor\":\"#E5ECF6\",\"aaxis\":{\"gridcolor\":\"white\",\"linecolor\":\"white\",\"ticks\":\"\"},\"baxis\":{\"gridcolor\":\"white\",\"linecolor\":\"white\",\"ticks\":\"\"},\"caxis\":{\"gridcolor\":\"white\",\"linecolor\":\"white\",\"ticks\":\"\"}},\"coloraxis\":{\"colorbar\":{\"outlinewidth\":0,\"ticks\":\"\"}},\"colorscale\":{\"sequential\":[[0.0,\"#0d0887\"],[0.1111111111111111,\"#46039f\"],[0.2222222222222222,\"#7201a8\"],[0.3333333333333333,\"#9c179e\"],[0.4444444444444444,\"#bd3786\"],[0.5555555555555556,\"#d8576b\"],[0.6666666666666666,\"#ed7953\"],[0.7777777777777778,\"#fb9f3a\"],[0.8888888888888888,\"#fdca26\"],[1.0,\"#f0f921\"]],\"sequentialminus\":[[0.0,\"#0d0887\"],[0.1111111111111111,\"#46039f\"],[0.2222222222222222,\"#7201a8\"],[0.3333333333333333,\"#9c179e\"],[0.4444444444444444,\"#bd3786\"],[0.5555555555555556,\"#d8576b\"],[0.6666666666666666,\"#ed7953\"],[0.7777777777777778,\"#fb9f3a\"],[0.8888888888888888,\"#fdca26\"],[1.0,\"#f0f921\"]],\"diverging\":[[0,\"#8e0152\"],[0.1,\"#c51b7d\"],[0.2,\"#de77ae\"],[0.3,\"#f1b6da\"],[0.4,\"#fde0ef\"],[0.5,\"#f7f7f7\"],[0.6,\"#e6f5d0\"],[0.7,\"#b8e186\"],[0.8,\"#7fbc41\"],[0.9,\"#4d9221\"],[1,\"#276419\"]]},\"xaxis\":{\"gridcolor\":\"white\",\"linecolor\":\"white\",\"ticks\":\"\",\"title\":{\"standoff\":15},\"zerolinecolor\":\"white\",\"automargin\":true,\"zerolinewidth\":2},\"yaxis\":{\"gridcolor\":\"white\",\"linecolor\":\"white\",\"ticks\":\"\",\"title\":{\"standoff\":15},\"zerolinecolor\":\"white\",\"automargin\":true,\"zerolinewidth\":2},\"scene\":{\"xaxis\":{\"backgroundcolor\":\"#E5ECF6\",\"gridcolor\":\"white\",\"linecolor\":\"white\",\"showbackground\":true,\"ticks\":\"\",\"zerolinecolor\":\"white\",\"gridwidth\":2},\"yaxis\":{\"backgroundcolor\":\"#E5ECF6\",\"gridcolor\":\"white\",\"linecolor\":\"white\",\"showbackground\":true,\"ticks\":\"\",\"zerolinecolor\":\"white\",\"gridwidth\":2},\"zaxis\":{\"backgroundcolor\":\"#E5ECF6\",\"gridcolor\":\"white\",\"linecolor\":\"white\",\"showbackground\":true,\"ticks\":\"\",\"zerolinecolor\":\"white\",\"gridwidth\":2}},\"shapedefaults\":{\"line\":{\"color\":\"#2a3f5f\"}},\"annotationdefaults\":{\"arrowcolor\":\"#2a3f5f\",\"arrowhead\":0,\"arrowwidth\":1},\"geo\":{\"bgcolor\":\"white\",\"landcolor\":\"#E5ECF6\",\"subunitcolor\":\"white\",\"showland\":true,\"showlakes\":true,\"lakecolor\":\"white\"},\"title\":{\"x\":0.05},\"mapbox\":{\"style\":\"light\"}}},\"font\":{\"family\":\"Times New Roman\",\"size\":12},\"title\":{\"font\":{\"family\":\"Times New Roman\"},\"y\":0.9,\"x\":0.5,\"xanchor\":\"center\",\"yanchor\":\"top\"},\"xaxis\":{\"showgrid\":false,\"title\":{\"text\":\"Year\"}},\"yaxis\":{\"showgrid\":false,\"title\":{\"text\":\"Count of Amendment cases\"}},\"plot_bgcolor\":\"#f2f2f2\"},                        {\"responsive\": true}                    ).then(function(){\n",
       "                            \n",
       "var gd = document.getElementById('e1e205c2-83ee-4b5d-8bc3-c6f1943a5111');\n",
       "var x = new MutationObserver(function (mutations, observer) {{\n",
       "        var display = window.getComputedStyle(gd).display;\n",
       "        if (!display || display === 'none') {{\n",
       "            console.log([gd, 'removed!']);\n",
       "            Plotly.purge(gd);\n",
       "            observer.disconnect();\n",
       "        }}\n",
       "}});\n",
       "\n",
       "// Listen for the removal of the full notebook cells\n",
       "var notebookContainer = gd.closest('#notebook-container');\n",
       "if (notebookContainer) {{\n",
       "    x.observe(notebookContainer, {childList: true});\n",
       "}}\n",
       "\n",
       "// Listen for the clearing of the current output cell\n",
       "var outputEl = gd.closest('.output');\n",
       "if (outputEl) {{\n",
       "    x.observe(outputEl, {childList: true});\n",
       "}}\n",
       "\n",
       "                        })                };                });            </script>        </div>"
      ]
     },
     "metadata": {},
     "output_type": "display_data"
    }
   ],
   "source": [
    "# # Violation Plots\n",
    "\n",
    "import plotly.express as px\n",
    "import plotly.graph_objects as go\n",
    "\n",
    "# fig = px.bar(new_df81, \n",
    "#              x=\"year\", \n",
    "#              y =[2,'unfilter_2'],\n",
    "#              title='8-k amendment count over the year',        \n",
    "#              )\n",
    "\n",
    "\n",
    "# fig = go.Figure(data=[\n",
    "#     go.Bar(name='filan Predictions', x=\"year\", y=2),\n",
    "#     go.Bar(name='unfiltered Precitions', x=\"year\", y='unfilter_2')\n",
    "# ])\n",
    "\n",
    "fig = go.Figure()\n",
    "fig.add_trace(go.Bar(\n",
    "    x=new_df8_final[\"year\"],\n",
    "    y=new_df8_final[2],\n",
    "    name='Primary Product',\n",
    "    marker_color='indianred'\n",
    "))\n",
    "fig.add_trace(go.Bar(\n",
    "    x=new_df8_final[\"year\"],\n",
    "    y=new_df8_final['unfilter_2'],\n",
    "    name='Secondary Product',\n",
    "    marker_color='lightsalmon'\n",
    "))\n",
    "\n",
    "\n",
    "\n",
    "\n",
    "\n",
    "# fig.update_traces(marker_color='#31417A')\n",
    "fig.update_layout(  \n",
    "    \n",
    "    font_family=\"Times New Roman\",    \n",
    "    title_font_family=\"Times New Roman\",\n",
    "    \n",
    "    xaxis=dict(showgrid=False),\n",
    "    yaxis=dict(showgrid=False),\n",
    "     font=dict(\n",
    "        \n",
    "        size=12,\n",
    "        \n",
    "    ),\n",
    "    xaxis_title=\"Year\",\n",
    "    yaxis_title=\"Count of Amendment cases\",\n",
    "    plot_bgcolor='#f2f2f2',  # Gray background color,\n",
    "    title={\n",
    "       \n",
    "        'y':0.9,\n",
    "        'x':0.5,\n",
    "        'xanchor': 'center',\n",
    "        'yanchor': 'top'})\n",
    "fig.show()"
   ]
  },
  {
   "cell_type": "code",
   "execution_count": 501,
   "id": "25372957",
   "metadata": {},
   "outputs": [
    {
     "data": {
      "application/vnd.plotly.v1+json": {
       "config": {
        "plotlyServerURL": "https://plot.ly"
       },
       "data": [
        {
         "marker": {
          "color": "indianred"
         },
         "name": "Primary Product",
         "type": "bar",
         "x": [
          1996,
          1997,
          1998,
          1999,
          2000,
          2001,
          2002,
          2003,
          2004,
          2005,
          2006,
          2007,
          2008,
          2009,
          2010,
          2011,
          2012,
          2013,
          2014,
          2015,
          2016,
          2017,
          2018,
          2019,
          2020,
          2021,
          2022
         ],
         "y": [
          22,
          34,
          45,
          31,
          38,
          41,
          44,
          57,
          44,
          30,
          28,
          32,
          39,
          71,
          36,
          24,
          18,
          12,
          13,
          5,
          18,
          14,
          12,
          21,
          27,
          20,
          4
         ]
        },
        {
         "marker": {
          "color": "lightsalmon"
         },
         "name": "Secondary Product",
         "type": "bar",
         "x": [
          1996,
          1997,
          1998,
          1999,
          2000,
          2001,
          2002,
          2003,
          2004,
          2005,
          2006,
          2007,
          2008,
          2009,
          2010,
          2011,
          2012,
          2013,
          2014,
          2015,
          2016,
          2017,
          2018,
          2019,
          2020,
          2021,
          2022
         ],
         "y": [
          21,
          37,
          55,
          39,
          49,
          52,
          51,
          66,
          61,
          35,
          37,
          42,
          46,
          77,
          41,
          28,
          23,
          19,
          18,
          5,
          21,
          19,
          13,
          22,
          29,
          23,
          4
         ]
        }
       ],
       "layout": {
        "font": {
         "family": "Times New Roman",
         "size": 12
        },
        "plot_bgcolor": "#f2f2f2",
        "template": {
         "data": {
          "bar": [
           {
            "error_x": {
             "color": "#2a3f5f"
            },
            "error_y": {
             "color": "#2a3f5f"
            },
            "marker": {
             "line": {
              "color": "#E5ECF6",
              "width": 0.5
             },
             "pattern": {
              "fillmode": "overlay",
              "size": 10,
              "solidity": 0.2
             }
            },
            "type": "bar"
           }
          ],
          "barpolar": [
           {
            "marker": {
             "line": {
              "color": "#E5ECF6",
              "width": 0.5
             },
             "pattern": {
              "fillmode": "overlay",
              "size": 10,
              "solidity": 0.2
             }
            },
            "type": "barpolar"
           }
          ],
          "carpet": [
           {
            "aaxis": {
             "endlinecolor": "#2a3f5f",
             "gridcolor": "white",
             "linecolor": "white",
             "minorgridcolor": "white",
             "startlinecolor": "#2a3f5f"
            },
            "baxis": {
             "endlinecolor": "#2a3f5f",
             "gridcolor": "white",
             "linecolor": "white",
             "minorgridcolor": "white",
             "startlinecolor": "#2a3f5f"
            },
            "type": "carpet"
           }
          ],
          "choropleth": [
           {
            "colorbar": {
             "outlinewidth": 0,
             "ticks": ""
            },
            "type": "choropleth"
           }
          ],
          "contour": [
           {
            "colorbar": {
             "outlinewidth": 0,
             "ticks": ""
            },
            "colorscale": [
             [
              0,
              "#0d0887"
             ],
             [
              0.1111111111111111,
              "#46039f"
             ],
             [
              0.2222222222222222,
              "#7201a8"
             ],
             [
              0.3333333333333333,
              "#9c179e"
             ],
             [
              0.4444444444444444,
              "#bd3786"
             ],
             [
              0.5555555555555556,
              "#d8576b"
             ],
             [
              0.6666666666666666,
              "#ed7953"
             ],
             [
              0.7777777777777778,
              "#fb9f3a"
             ],
             [
              0.8888888888888888,
              "#fdca26"
             ],
             [
              1,
              "#f0f921"
             ]
            ],
            "type": "contour"
           }
          ],
          "contourcarpet": [
           {
            "colorbar": {
             "outlinewidth": 0,
             "ticks": ""
            },
            "type": "contourcarpet"
           }
          ],
          "heatmap": [
           {
            "colorbar": {
             "outlinewidth": 0,
             "ticks": ""
            },
            "colorscale": [
             [
              0,
              "#0d0887"
             ],
             [
              0.1111111111111111,
              "#46039f"
             ],
             [
              0.2222222222222222,
              "#7201a8"
             ],
             [
              0.3333333333333333,
              "#9c179e"
             ],
             [
              0.4444444444444444,
              "#bd3786"
             ],
             [
              0.5555555555555556,
              "#d8576b"
             ],
             [
              0.6666666666666666,
              "#ed7953"
             ],
             [
              0.7777777777777778,
              "#fb9f3a"
             ],
             [
              0.8888888888888888,
              "#fdca26"
             ],
             [
              1,
              "#f0f921"
             ]
            ],
            "type": "heatmap"
           }
          ],
          "heatmapgl": [
           {
            "colorbar": {
             "outlinewidth": 0,
             "ticks": ""
            },
            "colorscale": [
             [
              0,
              "#0d0887"
             ],
             [
              0.1111111111111111,
              "#46039f"
             ],
             [
              0.2222222222222222,
              "#7201a8"
             ],
             [
              0.3333333333333333,
              "#9c179e"
             ],
             [
              0.4444444444444444,
              "#bd3786"
             ],
             [
              0.5555555555555556,
              "#d8576b"
             ],
             [
              0.6666666666666666,
              "#ed7953"
             ],
             [
              0.7777777777777778,
              "#fb9f3a"
             ],
             [
              0.8888888888888888,
              "#fdca26"
             ],
             [
              1,
              "#f0f921"
             ]
            ],
            "type": "heatmapgl"
           }
          ],
          "histogram": [
           {
            "marker": {
             "pattern": {
              "fillmode": "overlay",
              "size": 10,
              "solidity": 0.2
             }
            },
            "type": "histogram"
           }
          ],
          "histogram2d": [
           {
            "colorbar": {
             "outlinewidth": 0,
             "ticks": ""
            },
            "colorscale": [
             [
              0,
              "#0d0887"
             ],
             [
              0.1111111111111111,
              "#46039f"
             ],
             [
              0.2222222222222222,
              "#7201a8"
             ],
             [
              0.3333333333333333,
              "#9c179e"
             ],
             [
              0.4444444444444444,
              "#bd3786"
             ],
             [
              0.5555555555555556,
              "#d8576b"
             ],
             [
              0.6666666666666666,
              "#ed7953"
             ],
             [
              0.7777777777777778,
              "#fb9f3a"
             ],
             [
              0.8888888888888888,
              "#fdca26"
             ],
             [
              1,
              "#f0f921"
             ]
            ],
            "type": "histogram2d"
           }
          ],
          "histogram2dcontour": [
           {
            "colorbar": {
             "outlinewidth": 0,
             "ticks": ""
            },
            "colorscale": [
             [
              0,
              "#0d0887"
             ],
             [
              0.1111111111111111,
              "#46039f"
             ],
             [
              0.2222222222222222,
              "#7201a8"
             ],
             [
              0.3333333333333333,
              "#9c179e"
             ],
             [
              0.4444444444444444,
              "#bd3786"
             ],
             [
              0.5555555555555556,
              "#d8576b"
             ],
             [
              0.6666666666666666,
              "#ed7953"
             ],
             [
              0.7777777777777778,
              "#fb9f3a"
             ],
             [
              0.8888888888888888,
              "#fdca26"
             ],
             [
              1,
              "#f0f921"
             ]
            ],
            "type": "histogram2dcontour"
           }
          ],
          "mesh3d": [
           {
            "colorbar": {
             "outlinewidth": 0,
             "ticks": ""
            },
            "type": "mesh3d"
           }
          ],
          "parcoords": [
           {
            "line": {
             "colorbar": {
              "outlinewidth": 0,
              "ticks": ""
             }
            },
            "type": "parcoords"
           }
          ],
          "pie": [
           {
            "automargin": true,
            "type": "pie"
           }
          ],
          "scatter": [
           {
            "fillpattern": {
             "fillmode": "overlay",
             "size": 10,
             "solidity": 0.2
            },
            "type": "scatter"
           }
          ],
          "scatter3d": [
           {
            "line": {
             "colorbar": {
              "outlinewidth": 0,
              "ticks": ""
             }
            },
            "marker": {
             "colorbar": {
              "outlinewidth": 0,
              "ticks": ""
             }
            },
            "type": "scatter3d"
           }
          ],
          "scattercarpet": [
           {
            "marker": {
             "colorbar": {
              "outlinewidth": 0,
              "ticks": ""
             }
            },
            "type": "scattercarpet"
           }
          ],
          "scattergeo": [
           {
            "marker": {
             "colorbar": {
              "outlinewidth": 0,
              "ticks": ""
             }
            },
            "type": "scattergeo"
           }
          ],
          "scattergl": [
           {
            "marker": {
             "colorbar": {
              "outlinewidth": 0,
              "ticks": ""
             }
            },
            "type": "scattergl"
           }
          ],
          "scattermapbox": [
           {
            "marker": {
             "colorbar": {
              "outlinewidth": 0,
              "ticks": ""
             }
            },
            "type": "scattermapbox"
           }
          ],
          "scatterpolar": [
           {
            "marker": {
             "colorbar": {
              "outlinewidth": 0,
              "ticks": ""
             }
            },
            "type": "scatterpolar"
           }
          ],
          "scatterpolargl": [
           {
            "marker": {
             "colorbar": {
              "outlinewidth": 0,
              "ticks": ""
             }
            },
            "type": "scatterpolargl"
           }
          ],
          "scatterternary": [
           {
            "marker": {
             "colorbar": {
              "outlinewidth": 0,
              "ticks": ""
             }
            },
            "type": "scatterternary"
           }
          ],
          "surface": [
           {
            "colorbar": {
             "outlinewidth": 0,
             "ticks": ""
            },
            "colorscale": [
             [
              0,
              "#0d0887"
             ],
             [
              0.1111111111111111,
              "#46039f"
             ],
             [
              0.2222222222222222,
              "#7201a8"
             ],
             [
              0.3333333333333333,
              "#9c179e"
             ],
             [
              0.4444444444444444,
              "#bd3786"
             ],
             [
              0.5555555555555556,
              "#d8576b"
             ],
             [
              0.6666666666666666,
              "#ed7953"
             ],
             [
              0.7777777777777778,
              "#fb9f3a"
             ],
             [
              0.8888888888888888,
              "#fdca26"
             ],
             [
              1,
              "#f0f921"
             ]
            ],
            "type": "surface"
           }
          ],
          "table": [
           {
            "cells": {
             "fill": {
              "color": "#EBF0F8"
             },
             "line": {
              "color": "white"
             }
            },
            "header": {
             "fill": {
              "color": "#C8D4E3"
             },
             "line": {
              "color": "white"
             }
            },
            "type": "table"
           }
          ]
         },
         "layout": {
          "annotationdefaults": {
           "arrowcolor": "#2a3f5f",
           "arrowhead": 0,
           "arrowwidth": 1
          },
          "autotypenumbers": "strict",
          "coloraxis": {
           "colorbar": {
            "outlinewidth": 0,
            "ticks": ""
           }
          },
          "colorscale": {
           "diverging": [
            [
             0,
             "#8e0152"
            ],
            [
             0.1,
             "#c51b7d"
            ],
            [
             0.2,
             "#de77ae"
            ],
            [
             0.3,
             "#f1b6da"
            ],
            [
             0.4,
             "#fde0ef"
            ],
            [
             0.5,
             "#f7f7f7"
            ],
            [
             0.6,
             "#e6f5d0"
            ],
            [
             0.7,
             "#b8e186"
            ],
            [
             0.8,
             "#7fbc41"
            ],
            [
             0.9,
             "#4d9221"
            ],
            [
             1,
             "#276419"
            ]
           ],
           "sequential": [
            [
             0,
             "#0d0887"
            ],
            [
             0.1111111111111111,
             "#46039f"
            ],
            [
             0.2222222222222222,
             "#7201a8"
            ],
            [
             0.3333333333333333,
             "#9c179e"
            ],
            [
             0.4444444444444444,
             "#bd3786"
            ],
            [
             0.5555555555555556,
             "#d8576b"
            ],
            [
             0.6666666666666666,
             "#ed7953"
            ],
            [
             0.7777777777777778,
             "#fb9f3a"
            ],
            [
             0.8888888888888888,
             "#fdca26"
            ],
            [
             1,
             "#f0f921"
            ]
           ],
           "sequentialminus": [
            [
             0,
             "#0d0887"
            ],
            [
             0.1111111111111111,
             "#46039f"
            ],
            [
             0.2222222222222222,
             "#7201a8"
            ],
            [
             0.3333333333333333,
             "#9c179e"
            ],
            [
             0.4444444444444444,
             "#bd3786"
            ],
            [
             0.5555555555555556,
             "#d8576b"
            ],
            [
             0.6666666666666666,
             "#ed7953"
            ],
            [
             0.7777777777777778,
             "#fb9f3a"
            ],
            [
             0.8888888888888888,
             "#fdca26"
            ],
            [
             1,
             "#f0f921"
            ]
           ]
          },
          "colorway": [
           "#636efa",
           "#EF553B",
           "#00cc96",
           "#ab63fa",
           "#FFA15A",
           "#19d3f3",
           "#FF6692",
           "#B6E880",
           "#FF97FF",
           "#FECB52"
          ],
          "font": {
           "color": "#2a3f5f"
          },
          "geo": {
           "bgcolor": "white",
           "lakecolor": "white",
           "landcolor": "#E5ECF6",
           "showlakes": true,
           "showland": true,
           "subunitcolor": "white"
          },
          "hoverlabel": {
           "align": "left"
          },
          "hovermode": "closest",
          "mapbox": {
           "style": "light"
          },
          "paper_bgcolor": "white",
          "plot_bgcolor": "#E5ECF6",
          "polar": {
           "angularaxis": {
            "gridcolor": "white",
            "linecolor": "white",
            "ticks": ""
           },
           "bgcolor": "#E5ECF6",
           "radialaxis": {
            "gridcolor": "white",
            "linecolor": "white",
            "ticks": ""
           }
          },
          "scene": {
           "xaxis": {
            "backgroundcolor": "#E5ECF6",
            "gridcolor": "white",
            "gridwidth": 2,
            "linecolor": "white",
            "showbackground": true,
            "ticks": "",
            "zerolinecolor": "white"
           },
           "yaxis": {
            "backgroundcolor": "#E5ECF6",
            "gridcolor": "white",
            "gridwidth": 2,
            "linecolor": "white",
            "showbackground": true,
            "ticks": "",
            "zerolinecolor": "white"
           },
           "zaxis": {
            "backgroundcolor": "#E5ECF6",
            "gridcolor": "white",
            "gridwidth": 2,
            "linecolor": "white",
            "showbackground": true,
            "ticks": "",
            "zerolinecolor": "white"
           }
          },
          "shapedefaults": {
           "line": {
            "color": "#2a3f5f"
           }
          },
          "ternary": {
           "aaxis": {
            "gridcolor": "white",
            "linecolor": "white",
            "ticks": ""
           },
           "baxis": {
            "gridcolor": "white",
            "linecolor": "white",
            "ticks": ""
           },
           "bgcolor": "#E5ECF6",
           "caxis": {
            "gridcolor": "white",
            "linecolor": "white",
            "ticks": ""
           }
          },
          "title": {
           "x": 0.05
          },
          "xaxis": {
           "automargin": true,
           "gridcolor": "white",
           "linecolor": "white",
           "ticks": "",
           "title": {
            "standoff": 15
           },
           "zerolinecolor": "white",
           "zerolinewidth": 2
          },
          "yaxis": {
           "automargin": true,
           "gridcolor": "white",
           "linecolor": "white",
           "ticks": "",
           "title": {
            "standoff": 15
           },
           "zerolinecolor": "white",
           "zerolinewidth": 2
          }
         }
        },
        "title": {
         "font": {
          "family": "Times New Roman"
         },
         "x": 0.5,
         "xanchor": "center",
         "y": 0.9,
         "yanchor": "top"
        },
        "xaxis": {
         "showgrid": false,
         "title": {
          "text": "Year"
         }
        },
        "yaxis": {
         "showgrid": false,
         "title": {
          "text": "Count of Amendment cases"
         }
        }
       }
      },
      "text/html": [
       "<div>                            <div id=\"89d8b790-4f8a-4ecc-954c-cfd88337daf6\" class=\"plotly-graph-div\" style=\"height:525px; width:100%;\"></div>            <script type=\"text/javascript\">                require([\"plotly\"], function(Plotly) {                    window.PLOTLYENV=window.PLOTLYENV || {};                                    if (document.getElementById(\"89d8b790-4f8a-4ecc-954c-cfd88337daf6\")) {                    Plotly.newPlot(                        \"89d8b790-4f8a-4ecc-954c-cfd88337daf6\",                        [{\"marker\":{\"color\":\"indianred\"},\"name\":\"Primary Product\",\"x\":[1996.0,1997.0,1998.0,1999.0,2000.0,2001.0,2002.0,2003.0,2004.0,2005.0,2006.0,2007.0,2008.0,2009.0,2010.0,2011.0,2012.0,2013.0,2014.0,2015.0,2016.0,2017.0,2018.0,2019.0,2020.0,2021.0,2022.0],\"y\":[22,34,45,31,38,41,44,57,44,30,28,32,39,71,36,24,18,12,13,5,18,14,12,21,27,20,4],\"type\":\"bar\"},{\"marker\":{\"color\":\"lightsalmon\"},\"name\":\"Secondary Product\",\"x\":[1996.0,1997.0,1998.0,1999.0,2000.0,2001.0,2002.0,2003.0,2004.0,2005.0,2006.0,2007.0,2008.0,2009.0,2010.0,2011.0,2012.0,2013.0,2014.0,2015.0,2016.0,2017.0,2018.0,2019.0,2020.0,2021.0,2022.0],\"y\":[21,37,55,39,49,52,51,66,61,35,37,42,46,77,41,28,23,19,18,5,21,19,13,22,29,23,4],\"type\":\"bar\"}],                        {\"template\":{\"data\":{\"histogram2dcontour\":[{\"type\":\"histogram2dcontour\",\"colorbar\":{\"outlinewidth\":0,\"ticks\":\"\"},\"colorscale\":[[0.0,\"#0d0887\"],[0.1111111111111111,\"#46039f\"],[0.2222222222222222,\"#7201a8\"],[0.3333333333333333,\"#9c179e\"],[0.4444444444444444,\"#bd3786\"],[0.5555555555555556,\"#d8576b\"],[0.6666666666666666,\"#ed7953\"],[0.7777777777777778,\"#fb9f3a\"],[0.8888888888888888,\"#fdca26\"],[1.0,\"#f0f921\"]]}],\"choropleth\":[{\"type\":\"choropleth\",\"colorbar\":{\"outlinewidth\":0,\"ticks\":\"\"}}],\"histogram2d\":[{\"type\":\"histogram2d\",\"colorbar\":{\"outlinewidth\":0,\"ticks\":\"\"},\"colorscale\":[[0.0,\"#0d0887\"],[0.1111111111111111,\"#46039f\"],[0.2222222222222222,\"#7201a8\"],[0.3333333333333333,\"#9c179e\"],[0.4444444444444444,\"#bd3786\"],[0.5555555555555556,\"#d8576b\"],[0.6666666666666666,\"#ed7953\"],[0.7777777777777778,\"#fb9f3a\"],[0.8888888888888888,\"#fdca26\"],[1.0,\"#f0f921\"]]}],\"heatmap\":[{\"type\":\"heatmap\",\"colorbar\":{\"outlinewidth\":0,\"ticks\":\"\"},\"colorscale\":[[0.0,\"#0d0887\"],[0.1111111111111111,\"#46039f\"],[0.2222222222222222,\"#7201a8\"],[0.3333333333333333,\"#9c179e\"],[0.4444444444444444,\"#bd3786\"],[0.5555555555555556,\"#d8576b\"],[0.6666666666666666,\"#ed7953\"],[0.7777777777777778,\"#fb9f3a\"],[0.8888888888888888,\"#fdca26\"],[1.0,\"#f0f921\"]]}],\"heatmapgl\":[{\"type\":\"heatmapgl\",\"colorbar\":{\"outlinewidth\":0,\"ticks\":\"\"},\"colorscale\":[[0.0,\"#0d0887\"],[0.1111111111111111,\"#46039f\"],[0.2222222222222222,\"#7201a8\"],[0.3333333333333333,\"#9c179e\"],[0.4444444444444444,\"#bd3786\"],[0.5555555555555556,\"#d8576b\"],[0.6666666666666666,\"#ed7953\"],[0.7777777777777778,\"#fb9f3a\"],[0.8888888888888888,\"#fdca26\"],[1.0,\"#f0f921\"]]}],\"contourcarpet\":[{\"type\":\"contourcarpet\",\"colorbar\":{\"outlinewidth\":0,\"ticks\":\"\"}}],\"contour\":[{\"type\":\"contour\",\"colorbar\":{\"outlinewidth\":0,\"ticks\":\"\"},\"colorscale\":[[0.0,\"#0d0887\"],[0.1111111111111111,\"#46039f\"],[0.2222222222222222,\"#7201a8\"],[0.3333333333333333,\"#9c179e\"],[0.4444444444444444,\"#bd3786\"],[0.5555555555555556,\"#d8576b\"],[0.6666666666666666,\"#ed7953\"],[0.7777777777777778,\"#fb9f3a\"],[0.8888888888888888,\"#fdca26\"],[1.0,\"#f0f921\"]]}],\"surface\":[{\"type\":\"surface\",\"colorbar\":{\"outlinewidth\":0,\"ticks\":\"\"},\"colorscale\":[[0.0,\"#0d0887\"],[0.1111111111111111,\"#46039f\"],[0.2222222222222222,\"#7201a8\"],[0.3333333333333333,\"#9c179e\"],[0.4444444444444444,\"#bd3786\"],[0.5555555555555556,\"#d8576b\"],[0.6666666666666666,\"#ed7953\"],[0.7777777777777778,\"#fb9f3a\"],[0.8888888888888888,\"#fdca26\"],[1.0,\"#f0f921\"]]}],\"mesh3d\":[{\"type\":\"mesh3d\",\"colorbar\":{\"outlinewidth\":0,\"ticks\":\"\"}}],\"scatter\":[{\"fillpattern\":{\"fillmode\":\"overlay\",\"size\":10,\"solidity\":0.2},\"type\":\"scatter\"}],\"parcoords\":[{\"type\":\"parcoords\",\"line\":{\"colorbar\":{\"outlinewidth\":0,\"ticks\":\"\"}}}],\"scatterpolargl\":[{\"type\":\"scatterpolargl\",\"marker\":{\"colorbar\":{\"outlinewidth\":0,\"ticks\":\"\"}}}],\"bar\":[{\"error_x\":{\"color\":\"#2a3f5f\"},\"error_y\":{\"color\":\"#2a3f5f\"},\"marker\":{\"line\":{\"color\":\"#E5ECF6\",\"width\":0.5},\"pattern\":{\"fillmode\":\"overlay\",\"size\":10,\"solidity\":0.2}},\"type\":\"bar\"}],\"scattergeo\":[{\"type\":\"scattergeo\",\"marker\":{\"colorbar\":{\"outlinewidth\":0,\"ticks\":\"\"}}}],\"scatterpolar\":[{\"type\":\"scatterpolar\",\"marker\":{\"colorbar\":{\"outlinewidth\":0,\"ticks\":\"\"}}}],\"histogram\":[{\"marker\":{\"pattern\":{\"fillmode\":\"overlay\",\"size\":10,\"solidity\":0.2}},\"type\":\"histogram\"}],\"scattergl\":[{\"type\":\"scattergl\",\"marker\":{\"colorbar\":{\"outlinewidth\":0,\"ticks\":\"\"}}}],\"scatter3d\":[{\"type\":\"scatter3d\",\"line\":{\"colorbar\":{\"outlinewidth\":0,\"ticks\":\"\"}},\"marker\":{\"colorbar\":{\"outlinewidth\":0,\"ticks\":\"\"}}}],\"scattermapbox\":[{\"type\":\"scattermapbox\",\"marker\":{\"colorbar\":{\"outlinewidth\":0,\"ticks\":\"\"}}}],\"scatterternary\":[{\"type\":\"scatterternary\",\"marker\":{\"colorbar\":{\"outlinewidth\":0,\"ticks\":\"\"}}}],\"scattercarpet\":[{\"type\":\"scattercarpet\",\"marker\":{\"colorbar\":{\"outlinewidth\":0,\"ticks\":\"\"}}}],\"carpet\":[{\"aaxis\":{\"endlinecolor\":\"#2a3f5f\",\"gridcolor\":\"white\",\"linecolor\":\"white\",\"minorgridcolor\":\"white\",\"startlinecolor\":\"#2a3f5f\"},\"baxis\":{\"endlinecolor\":\"#2a3f5f\",\"gridcolor\":\"white\",\"linecolor\":\"white\",\"minorgridcolor\":\"white\",\"startlinecolor\":\"#2a3f5f\"},\"type\":\"carpet\"}],\"table\":[{\"cells\":{\"fill\":{\"color\":\"#EBF0F8\"},\"line\":{\"color\":\"white\"}},\"header\":{\"fill\":{\"color\":\"#C8D4E3\"},\"line\":{\"color\":\"white\"}},\"type\":\"table\"}],\"barpolar\":[{\"marker\":{\"line\":{\"color\":\"#E5ECF6\",\"width\":0.5},\"pattern\":{\"fillmode\":\"overlay\",\"size\":10,\"solidity\":0.2}},\"type\":\"barpolar\"}],\"pie\":[{\"automargin\":true,\"type\":\"pie\"}]},\"layout\":{\"autotypenumbers\":\"strict\",\"colorway\":[\"#636efa\",\"#EF553B\",\"#00cc96\",\"#ab63fa\",\"#FFA15A\",\"#19d3f3\",\"#FF6692\",\"#B6E880\",\"#FF97FF\",\"#FECB52\"],\"font\":{\"color\":\"#2a3f5f\"},\"hovermode\":\"closest\",\"hoverlabel\":{\"align\":\"left\"},\"paper_bgcolor\":\"white\",\"plot_bgcolor\":\"#E5ECF6\",\"polar\":{\"bgcolor\":\"#E5ECF6\",\"angularaxis\":{\"gridcolor\":\"white\",\"linecolor\":\"white\",\"ticks\":\"\"},\"radialaxis\":{\"gridcolor\":\"white\",\"linecolor\":\"white\",\"ticks\":\"\"}},\"ternary\":{\"bgcolor\":\"#E5ECF6\",\"aaxis\":{\"gridcolor\":\"white\",\"linecolor\":\"white\",\"ticks\":\"\"},\"baxis\":{\"gridcolor\":\"white\",\"linecolor\":\"white\",\"ticks\":\"\"},\"caxis\":{\"gridcolor\":\"white\",\"linecolor\":\"white\",\"ticks\":\"\"}},\"coloraxis\":{\"colorbar\":{\"outlinewidth\":0,\"ticks\":\"\"}},\"colorscale\":{\"sequential\":[[0.0,\"#0d0887\"],[0.1111111111111111,\"#46039f\"],[0.2222222222222222,\"#7201a8\"],[0.3333333333333333,\"#9c179e\"],[0.4444444444444444,\"#bd3786\"],[0.5555555555555556,\"#d8576b\"],[0.6666666666666666,\"#ed7953\"],[0.7777777777777778,\"#fb9f3a\"],[0.8888888888888888,\"#fdca26\"],[1.0,\"#f0f921\"]],\"sequentialminus\":[[0.0,\"#0d0887\"],[0.1111111111111111,\"#46039f\"],[0.2222222222222222,\"#7201a8\"],[0.3333333333333333,\"#9c179e\"],[0.4444444444444444,\"#bd3786\"],[0.5555555555555556,\"#d8576b\"],[0.6666666666666666,\"#ed7953\"],[0.7777777777777778,\"#fb9f3a\"],[0.8888888888888888,\"#fdca26\"],[1.0,\"#f0f921\"]],\"diverging\":[[0,\"#8e0152\"],[0.1,\"#c51b7d\"],[0.2,\"#de77ae\"],[0.3,\"#f1b6da\"],[0.4,\"#fde0ef\"],[0.5,\"#f7f7f7\"],[0.6,\"#e6f5d0\"],[0.7,\"#b8e186\"],[0.8,\"#7fbc41\"],[0.9,\"#4d9221\"],[1,\"#276419\"]]},\"xaxis\":{\"gridcolor\":\"white\",\"linecolor\":\"white\",\"ticks\":\"\",\"title\":{\"standoff\":15},\"zerolinecolor\":\"white\",\"automargin\":true,\"zerolinewidth\":2},\"yaxis\":{\"gridcolor\":\"white\",\"linecolor\":\"white\",\"ticks\":\"\",\"title\":{\"standoff\":15},\"zerolinecolor\":\"white\",\"automargin\":true,\"zerolinewidth\":2},\"scene\":{\"xaxis\":{\"backgroundcolor\":\"#E5ECF6\",\"gridcolor\":\"white\",\"linecolor\":\"white\",\"showbackground\":true,\"ticks\":\"\",\"zerolinecolor\":\"white\",\"gridwidth\":2},\"yaxis\":{\"backgroundcolor\":\"#E5ECF6\",\"gridcolor\":\"white\",\"linecolor\":\"white\",\"showbackground\":true,\"ticks\":\"\",\"zerolinecolor\":\"white\",\"gridwidth\":2},\"zaxis\":{\"backgroundcolor\":\"#E5ECF6\",\"gridcolor\":\"white\",\"linecolor\":\"white\",\"showbackground\":true,\"ticks\":\"\",\"zerolinecolor\":\"white\",\"gridwidth\":2}},\"shapedefaults\":{\"line\":{\"color\":\"#2a3f5f\"}},\"annotationdefaults\":{\"arrowcolor\":\"#2a3f5f\",\"arrowhead\":0,\"arrowwidth\":1},\"geo\":{\"bgcolor\":\"white\",\"landcolor\":\"#E5ECF6\",\"subunitcolor\":\"white\",\"showland\":true,\"showlakes\":true,\"lakecolor\":\"white\"},\"title\":{\"x\":0.05},\"mapbox\":{\"style\":\"light\"}}},\"font\":{\"family\":\"Times New Roman\",\"size\":12},\"title\":{\"font\":{\"family\":\"Times New Roman\"},\"y\":0.9,\"x\":0.5,\"xanchor\":\"center\",\"yanchor\":\"top\"},\"xaxis\":{\"showgrid\":false,\"title\":{\"text\":\"Year\"}},\"yaxis\":{\"showgrid\":false,\"title\":{\"text\":\"Count of Amendment cases\"}},\"plot_bgcolor\":\"#f2f2f2\"},                        {\"responsive\": true}                    ).then(function(){\n",
       "                            \n",
       "var gd = document.getElementById('89d8b790-4f8a-4ecc-954c-cfd88337daf6');\n",
       "var x = new MutationObserver(function (mutations, observer) {{\n",
       "        var display = window.getComputedStyle(gd).display;\n",
       "        if (!display || display === 'none') {{\n",
       "            console.log([gd, 'removed!']);\n",
       "            Plotly.purge(gd);\n",
       "            observer.disconnect();\n",
       "        }}\n",
       "}});\n",
       "\n",
       "// Listen for the removal of the full notebook cells\n",
       "var notebookContainer = gd.closest('#notebook-container');\n",
       "if (notebookContainer) {{\n",
       "    x.observe(notebookContainer, {childList: true});\n",
       "}}\n",
       "\n",
       "// Listen for the clearing of the current output cell\n",
       "var outputEl = gd.closest('.output');\n",
       "if (outputEl) {{\n",
       "    x.observe(outputEl, {childList: true});\n",
       "}}\n",
       "\n",
       "                        })                };                });            </script>        </div>"
      ]
     },
     "metadata": {},
     "output_type": "display_data"
    }
   ],
   "source": [
    "# # Violation Plots\n",
    "\n",
    "import plotly.express as px\n",
    "import plotly.graph_objects as go\n",
    "\n",
    "# fig = px.bar(new_df81, \n",
    "#              x=\"year\", \n",
    "#              y =[2,'unfilter_2'],\n",
    "#              title='8-k amendment count over the year',        \n",
    "#              )\n",
    "\n",
    "\n",
    "# fig = go.Figure(data=[\n",
    "#     go.Bar(name='filan Predictions', x=\"year\", y=2),\n",
    "#     go.Bar(name='unfiltered Precitions', x=\"year\", y='unfilter_2')\n",
    "# ])\n",
    "\n",
    "fig = go.Figure()\n",
    "fig.add_trace(go.Bar(\n",
    "    x=new_df8_final[\"year\"],\n",
    "    y=new_df8_final[1],\n",
    "    name='Primary Product',\n",
    "    marker_color='indianred'\n",
    "))\n",
    "fig.add_trace(go.Bar(\n",
    "    x=new_df8_final[\"year\"],\n",
    "    y=new_df8_final['unfilter_1'],\n",
    "    name='Secondary Product',\n",
    "    marker_color='lightsalmon'\n",
    "))\n",
    "\n",
    "\n",
    "\n",
    "\n",
    "\n",
    "# fig.update_traces(marker_color='#31417A')\n",
    "fig.update_layout(  \n",
    "    \n",
    "    font_family=\"Times New Roman\",    \n",
    "    title_font_family=\"Times New Roman\",\n",
    "    \n",
    "    xaxis=dict(showgrid=False),\n",
    "    yaxis=dict(showgrid=False),\n",
    "     font=dict(\n",
    "        \n",
    "        size=12,\n",
    "        \n",
    "    ),\n",
    "    xaxis_title=\"Year\",\n",
    "    yaxis_title=\"Count of Amendment cases\",\n",
    "    plot_bgcolor='#f2f2f2',  # Gray background color,\n",
    "    title={\n",
    "       \n",
    "        'y':0.9,\n",
    "        'x':0.5,\n",
    "        'xanchor': 'center',\n",
    "        'yanchor': 'top'})\n",
    "fig.show()"
   ]
  },
  {
   "cell_type": "code",
   "execution_count": 509,
   "id": "ba2f01c7",
   "metadata": {},
   "outputs": [],
   "source": [
    "new_df8[new_df8['predicted_label'] != new_df8['predicted_label_date_unfiltered']].sample(20).to_csv(\"filter_correction_iumpact.csv\")"
   ]
  },
  {
   "cell_type": "code",
   "execution_count": null,
   "id": "a6821eb5",
   "metadata": {},
   "outputs": [],
   "source": []
  },
  {
   "cell_type": "code",
   "execution_count": null,
   "id": "7bc48e5a",
   "metadata": {},
   "outputs": [],
   "source": []
  },
  {
   "cell_type": "code",
   "execution_count": null,
   "id": "0e9d97cd",
   "metadata": {},
   "outputs": [],
   "source": []
  },
  {
   "cell_type": "code",
   "execution_count": null,
   "id": "5f7dd3c5",
   "metadata": {},
   "outputs": [],
   "source": []
  },
  {
   "cell_type": "code",
   "execution_count": null,
   "id": "9543f356",
   "metadata": {},
   "outputs": [],
   "source": []
  },
  {
   "cell_type": "markdown",
   "id": "8bb42a55",
   "metadata": {},
   "source": [
    "## checking teh model performance th 40 8K files"
   ]
  },
  {
   "cell_type": "code",
   "execution_count": null,
   "id": "ccfa7ff0",
   "metadata": {},
   "outputs": [],
   "source": []
  },
  {
   "cell_type": "code",
   "execution_count": 397,
   "id": "7451ca81",
   "metadata": {},
   "outputs": [],
   "source": [
    "new_df8_valid = pd.concat([new_df8[new_df8['predicted_label']==1].sample(20), \n",
    "                          new_df8[new_df8['predicted_label']==2].sample(20)])"
   ]
  },
  {
   "cell_type": "code",
   "execution_count": 402,
   "id": "5363c61d",
   "metadata": {},
   "outputs": [],
   "source": [
    "new_df8_valid.to_excel('85_validation_sample.xlsx', index=None)"
   ]
  },
  {
   "cell_type": "code",
   "execution_count": 408,
   "id": "7cdbee01",
   "metadata": {},
   "outputs": [],
   "source": [
    "new_df8_valid = pd.read_excel('85_validation_sample.xlsx')"
   ]
  },
  {
   "cell_type": "code",
   "execution_count": 409,
   "id": "8f4a332a",
   "metadata": {},
   "outputs": [
    {
     "data": {
      "text/html": [
       "<div>\n",
       "<style scoped>\n",
       "    .dataframe tbody tr th:only-of-type {\n",
       "        vertical-align: middle;\n",
       "    }\n",
       "\n",
       "    .dataframe tbody tr th {\n",
       "        vertical-align: top;\n",
       "    }\n",
       "\n",
       "    .dataframe thead th {\n",
       "        text-align: right;\n",
       "    }\n",
       "</style>\n",
       "<table border=\"1\" class=\"dataframe\">\n",
       "  <thead>\n",
       "    <tr style=\"text-align: right;\">\n",
       "      <th></th>\n",
       "      <th>file_path</th>\n",
       "      <th>html_path</th>\n",
       "      <th>reporting_date</th>\n",
       "      <th>filing_date</th>\n",
       "      <th>violation_info</th>\n",
       "      <th>ishtml</th>\n",
       "      <th>extraction_data</th>\n",
       "      <th>extraction_data_len</th>\n",
       "      <th>filing_type</th>\n",
       "      <th>year</th>\n",
       "      <th>date_extracted</th>\n",
       "      <th>predicted_label</th>\n",
       "      <th>extraction_data_cove</th>\n",
       "      <th>manual_label</th>\n",
       "      <th>dummy</th>\n",
       "      <th>Unnamed: 15</th>\n",
       "    </tr>\n",
       "  </thead>\n",
       "  <tbody>\n",
       "    <tr>\n",
       "      <th>0</th>\n",
       "      <td>F:\\Master_Thesis_NLP\\\\sec_filings_10QK\\1996\\8_...</td>\n",
       "      <td>https://www.sec.gov/Archives/edgar/data/878897...</td>\n",
       "      <td>1996-09-30</td>\n",
       "      <td>1996_09_23</td>\n",
       "      <td>1_2</td>\n",
       "      <td>False</td>\n",
       "      <td>[\" ownership interest back to PPC for a nomina...</td>\n",
       "      <td>1</td>\n",
       "      <td>8_K</td>\n",
       "      <td>1996</td>\n",
       "      <td>['February 1, 1996']</td>\n",
       "      <td>1</td>\n",
       "      <td>['net worth']</td>\n",
       "      <td>1</td>\n",
       "      <td>1</td>\n",
       "      <td>NaN</td>\n",
       "    </tr>\n",
       "    <tr>\n",
       "      <th>1</th>\n",
       "      <td>F:\\Master_Thesis_NLP\\\\sec_filings_10QK\\2008\\8_...</td>\n",
       "      <td>https://www.sec.gov/Archives/edgar/data/778164...</td>\n",
       "      <td>2008-03-26</td>\n",
       "      <td>2008_03_27</td>\n",
       "      <td>1_2</td>\n",
       "      <td>True</td>\n",
       "      <td>['me aware of various events or circumstances ...</td>\n",
       "      <td>1</td>\n",
       "      <td>8_K</td>\n",
       "      <td>2008</td>\n",
       "      <td>['December 31, 2007']</td>\n",
       "      <td>1</td>\n",
       "      <td>[]</td>\n",
       "      <td>1</td>\n",
       "      <td>1</td>\n",
       "      <td>NaN</td>\n",
       "    </tr>\n",
       "    <tr>\n",
       "      <th>2</th>\n",
       "      <td>F:\\Master_Thesis_NLP\\\\sec_filings_10QK\\2000\\8_...</td>\n",
       "      <td>https://www.sec.gov/Archives/edgar/data/109570...</td>\n",
       "      <td>2000-07-20</td>\n",
       "      <td>2000_07_20</td>\n",
       "      <td>1_2</td>\n",
       "      <td>False</td>\n",
       "      <td>['     1998, the Predecessor Company has not b...</td>\n",
       "      <td>1</td>\n",
       "      <td>8_K</td>\n",
       "      <td>2000</td>\n",
       "      <td>['1998']</td>\n",
       "      <td>1</td>\n",
       "      <td>['work capital']</td>\n",
       "      <td>1</td>\n",
       "      <td>1</td>\n",
       "      <td>NaN</td>\n",
       "    </tr>\n",
       "    <tr>\n",
       "      <th>3</th>\n",
       "      <td>F:\\Master_Thesis_NLP\\\\sec_filings_10QK\\2012\\8_...</td>\n",
       "      <td>https://www.sec.gov/Archives/edgar/data/921768...</td>\n",
       "      <td>2012-03-13</td>\n",
       "      <td>2012_03_16</td>\n",
       "      <td>1_2</td>\n",
       "      <td>True</td>\n",
       "      <td>['g. As previously disclosed, the Court of Cha...</td>\n",
       "      <td>1</td>\n",
       "      <td>8_K</td>\n",
       "      <td>2012</td>\n",
       "      <td>['November 1, 2011']</td>\n",
       "      <td>1</td>\n",
       "      <td>[]</td>\n",
       "      <td>1</td>\n",
       "      <td>1</td>\n",
       "      <td>NaN</td>\n",
       "    </tr>\n",
       "    <tr>\n",
       "      <th>4</th>\n",
       "      <td>F:\\Master_Thesis_NLP\\\\sec_filings_10QK\\2002\\8_...</td>\n",
       "      <td>https://www.sec.gov/Archives/edgar/data/111352...</td>\n",
       "      <td>2002-08-14</td>\n",
       "      <td>2002_10_21</td>\n",
       "      <td>1_2</td>\n",
       "      <td>False</td>\n",
       "      <td>['                                Page 2      ...</td>\n",
       "      <td>1</td>\n",
       "      <td>8_K</td>\n",
       "      <td>2002</td>\n",
       "      <td>['third quarter']</td>\n",
       "      <td>1</td>\n",
       "      <td>[]</td>\n",
       "      <td>1</td>\n",
       "      <td>1</td>\n",
       "      <td>NaN</td>\n",
       "    </tr>\n",
       "  </tbody>\n",
       "</table>\n",
       "</div>"
      ],
      "text/plain": [
       "                                           file_path  \\\n",
       "0  F:\\Master_Thesis_NLP\\\\sec_filings_10QK\\1996\\8_...   \n",
       "1  F:\\Master_Thesis_NLP\\\\sec_filings_10QK\\2008\\8_...   \n",
       "2  F:\\Master_Thesis_NLP\\\\sec_filings_10QK\\2000\\8_...   \n",
       "3  F:\\Master_Thesis_NLP\\\\sec_filings_10QK\\2012\\8_...   \n",
       "4  F:\\Master_Thesis_NLP\\\\sec_filings_10QK\\2002\\8_...   \n",
       "\n",
       "                                           html_path reporting_date  \\\n",
       "0  https://www.sec.gov/Archives/edgar/data/878897...     1996-09-30   \n",
       "1  https://www.sec.gov/Archives/edgar/data/778164...     2008-03-26   \n",
       "2  https://www.sec.gov/Archives/edgar/data/109570...     2000-07-20   \n",
       "3  https://www.sec.gov/Archives/edgar/data/921768...     2012-03-13   \n",
       "4  https://www.sec.gov/Archives/edgar/data/111352...     2002-08-14   \n",
       "\n",
       "  filing_date violation_info  ishtml  \\\n",
       "0  1996_09_23            1_2   False   \n",
       "1  2008_03_27            1_2    True   \n",
       "2  2000_07_20            1_2   False   \n",
       "3  2012_03_16            1_2    True   \n",
       "4  2002_10_21            1_2   False   \n",
       "\n",
       "                                     extraction_data  extraction_data_len  \\\n",
       "0  [\" ownership interest back to PPC for a nomina...                    1   \n",
       "1  ['me aware of various events or circumstances ...                    1   \n",
       "2  ['     1998, the Predecessor Company has not b...                    1   \n",
       "3  ['g. As previously disclosed, the Court of Cha...                    1   \n",
       "4  ['                                Page 2      ...                    1   \n",
       "\n",
       "  filing_type  year         date_extracted  predicted_label  \\\n",
       "0         8_K  1996   ['February 1, 1996']                1   \n",
       "1         8_K  2008  ['December 31, 2007']                1   \n",
       "2         8_K  2000               ['1998']                1   \n",
       "3         8_K  2012   ['November 1, 2011']                1   \n",
       "4         8_K  2002      ['third quarter']                1   \n",
       "\n",
       "  extraction_data_cove  manual_label  dummy Unnamed: 15  \n",
       "0        ['net worth']             1      1         NaN  \n",
       "1                   []             1      1         NaN  \n",
       "2     ['work capital']             1      1         NaN  \n",
       "3                   []             1      1         NaN  \n",
       "4                   []             1      1         NaN  "
      ]
     },
     "execution_count": 409,
     "metadata": {},
     "output_type": "execute_result"
    }
   ],
   "source": [
    "new_df8_valid.head()"
   ]
  },
  {
   "cell_type": "code",
   "execution_count": 410,
   "id": "cb6bf563",
   "metadata": {},
   "outputs": [
    {
     "data": {
      "text/html": [
       "<div>\n",
       "<style scoped>\n",
       "    .dataframe tbody tr th:only-of-type {\n",
       "        vertical-align: middle;\n",
       "    }\n",
       "\n",
       "    .dataframe tbody tr th {\n",
       "        vertical-align: top;\n",
       "    }\n",
       "\n",
       "    .dataframe thead th {\n",
       "        text-align: right;\n",
       "    }\n",
       "</style>\n",
       "<table border=\"1\" class=\"dataframe\">\n",
       "  <thead>\n",
       "    <tr style=\"text-align: right;\">\n",
       "      <th></th>\n",
       "      <th>manual_label</th>\n",
       "      <th>predicted_label</th>\n",
       "    </tr>\n",
       "  </thead>\n",
       "  <tbody>\n",
       "    <tr>\n",
       "      <th>0</th>\n",
       "      <td>1</td>\n",
       "      <td>1</td>\n",
       "    </tr>\n",
       "    <tr>\n",
       "      <th>1</th>\n",
       "      <td>1</td>\n",
       "      <td>1</td>\n",
       "    </tr>\n",
       "    <tr>\n",
       "      <th>2</th>\n",
       "      <td>1</td>\n",
       "      <td>1</td>\n",
       "    </tr>\n",
       "    <tr>\n",
       "      <th>3</th>\n",
       "      <td>1</td>\n",
       "      <td>1</td>\n",
       "    </tr>\n",
       "    <tr>\n",
       "      <th>4</th>\n",
       "      <td>1</td>\n",
       "      <td>1</td>\n",
       "    </tr>\n",
       "    <tr>\n",
       "      <th>5</th>\n",
       "      <td>1</td>\n",
       "      <td>1</td>\n",
       "    </tr>\n",
       "    <tr>\n",
       "      <th>6</th>\n",
       "      <td>1</td>\n",
       "      <td>1</td>\n",
       "    </tr>\n",
       "    <tr>\n",
       "      <th>7</th>\n",
       "      <td>1</td>\n",
       "      <td>1</td>\n",
       "    </tr>\n",
       "    <tr>\n",
       "      <th>8</th>\n",
       "      <td>1</td>\n",
       "      <td>1</td>\n",
       "    </tr>\n",
       "    <tr>\n",
       "      <th>9</th>\n",
       "      <td>1</td>\n",
       "      <td>1</td>\n",
       "    </tr>\n",
       "    <tr>\n",
       "      <th>10</th>\n",
       "      <td>1</td>\n",
       "      <td>1</td>\n",
       "    </tr>\n",
       "    <tr>\n",
       "      <th>11</th>\n",
       "      <td>1</td>\n",
       "      <td>1</td>\n",
       "    </tr>\n",
       "    <tr>\n",
       "      <th>12</th>\n",
       "      <td>1</td>\n",
       "      <td>1</td>\n",
       "    </tr>\n",
       "    <tr>\n",
       "      <th>13</th>\n",
       "      <td>1</td>\n",
       "      <td>1</td>\n",
       "    </tr>\n",
       "    <tr>\n",
       "      <th>14</th>\n",
       "      <td>1</td>\n",
       "      <td>1</td>\n",
       "    </tr>\n",
       "    <tr>\n",
       "      <th>15</th>\n",
       "      <td>1</td>\n",
       "      <td>1</td>\n",
       "    </tr>\n",
       "    <tr>\n",
       "      <th>16</th>\n",
       "      <td>1</td>\n",
       "      <td>1</td>\n",
       "    </tr>\n",
       "    <tr>\n",
       "      <th>17</th>\n",
       "      <td>1</td>\n",
       "      <td>1</td>\n",
       "    </tr>\n",
       "    <tr>\n",
       "      <th>18</th>\n",
       "      <td>1</td>\n",
       "      <td>1</td>\n",
       "    </tr>\n",
       "    <tr>\n",
       "      <th>19</th>\n",
       "      <td>2</td>\n",
       "      <td>1</td>\n",
       "    </tr>\n",
       "    <tr>\n",
       "      <th>20</th>\n",
       "      <td>2</td>\n",
       "      <td>2</td>\n",
       "    </tr>\n",
       "    <tr>\n",
       "      <th>21</th>\n",
       "      <td>2</td>\n",
       "      <td>2</td>\n",
       "    </tr>\n",
       "    <tr>\n",
       "      <th>22</th>\n",
       "      <td>0</td>\n",
       "      <td>2</td>\n",
       "    </tr>\n",
       "    <tr>\n",
       "      <th>23</th>\n",
       "      <td>0</td>\n",
       "      <td>2</td>\n",
       "    </tr>\n",
       "    <tr>\n",
       "      <th>24</th>\n",
       "      <td>2</td>\n",
       "      <td>2</td>\n",
       "    </tr>\n",
       "    <tr>\n",
       "      <th>25</th>\n",
       "      <td>2</td>\n",
       "      <td>2</td>\n",
       "    </tr>\n",
       "    <tr>\n",
       "      <th>26</th>\n",
       "      <td>2</td>\n",
       "      <td>2</td>\n",
       "    </tr>\n",
       "    <tr>\n",
       "      <th>27</th>\n",
       "      <td>2</td>\n",
       "      <td>2</td>\n",
       "    </tr>\n",
       "    <tr>\n",
       "      <th>28</th>\n",
       "      <td>0</td>\n",
       "      <td>2</td>\n",
       "    </tr>\n",
       "    <tr>\n",
       "      <th>29</th>\n",
       "      <td>2</td>\n",
       "      <td>2</td>\n",
       "    </tr>\n",
       "    <tr>\n",
       "      <th>30</th>\n",
       "      <td>0</td>\n",
       "      <td>2</td>\n",
       "    </tr>\n",
       "    <tr>\n",
       "      <th>31</th>\n",
       "      <td>2</td>\n",
       "      <td>2</td>\n",
       "    </tr>\n",
       "    <tr>\n",
       "      <th>32</th>\n",
       "      <td>0</td>\n",
       "      <td>2</td>\n",
       "    </tr>\n",
       "    <tr>\n",
       "      <th>33</th>\n",
       "      <td>2</td>\n",
       "      <td>2</td>\n",
       "    </tr>\n",
       "    <tr>\n",
       "      <th>34</th>\n",
       "      <td>2</td>\n",
       "      <td>2</td>\n",
       "    </tr>\n",
       "    <tr>\n",
       "      <th>35</th>\n",
       "      <td>2</td>\n",
       "      <td>2</td>\n",
       "    </tr>\n",
       "    <tr>\n",
       "      <th>36</th>\n",
       "      <td>0</td>\n",
       "      <td>2</td>\n",
       "    </tr>\n",
       "    <tr>\n",
       "      <th>37</th>\n",
       "      <td>2</td>\n",
       "      <td>2</td>\n",
       "    </tr>\n",
       "    <tr>\n",
       "      <th>38</th>\n",
       "      <td>2</td>\n",
       "      <td>2</td>\n",
       "    </tr>\n",
       "    <tr>\n",
       "      <th>39</th>\n",
       "      <td>2</td>\n",
       "      <td>2</td>\n",
       "    </tr>\n",
       "  </tbody>\n",
       "</table>\n",
       "</div>"
      ],
      "text/plain": [
       "    manual_label  predicted_label\n",
       "0              1                1\n",
       "1              1                1\n",
       "2              1                1\n",
       "3              1                1\n",
       "4              1                1\n",
       "5              1                1\n",
       "6              1                1\n",
       "7              1                1\n",
       "8              1                1\n",
       "9              1                1\n",
       "10             1                1\n",
       "11             1                1\n",
       "12             1                1\n",
       "13             1                1\n",
       "14             1                1\n",
       "15             1                1\n",
       "16             1                1\n",
       "17             1                1\n",
       "18             1                1\n",
       "19             2                1\n",
       "20             2                2\n",
       "21             2                2\n",
       "22             0                2\n",
       "23             0                2\n",
       "24             2                2\n",
       "25             2                2\n",
       "26             2                2\n",
       "27             2                2\n",
       "28             0                2\n",
       "29             2                2\n",
       "30             0                2\n",
       "31             2                2\n",
       "32             0                2\n",
       "33             2                2\n",
       "34             2                2\n",
       "35             2                2\n",
       "36             0                2\n",
       "37             2                2\n",
       "38             2                2\n",
       "39             2                2"
      ]
     },
     "execution_count": 410,
     "metadata": {},
     "output_type": "execute_result"
    }
   ],
   "source": [
    "new_df8_valid[['manual_label','predicted_label']]"
   ]
  },
  {
   "cell_type": "code",
   "execution_count": 414,
   "id": "e1dde7f0",
   "metadata": {},
   "outputs": [
    {
     "data": {
      "text/plain": [
       "0.95"
      ]
     },
     "execution_count": 414,
     "metadata": {},
     "output_type": "execute_result"
    }
   ],
   "source": [
    "# Violation class \n",
    "from sklearn.metrics import confusion_matrix,classification_report, accuracy_score\n",
    "accuracy_score(new_df8_valid['manual_label'].iloc[:20], new_df8_valid['predicted_label'].iloc[:20] )"
   ]
  },
  {
   "cell_type": "code",
   "execution_count": 415,
   "id": "6eadbe1a",
   "metadata": {},
   "outputs": [
    {
     "data": {
      "text/plain": [
       "0.7"
      ]
     },
     "execution_count": 415,
     "metadata": {},
     "output_type": "execute_result"
    }
   ],
   "source": [
    "# amendment class \n",
    "from sklearn.metrics import confusion_matrix,classification_report, accuracy_score\n",
    "accuracy_score(new_df8_valid['manual_label'].iloc[20:], new_df8_valid['predicted_label'].iloc[20:] )"
   ]
  },
  {
   "cell_type": "code",
   "execution_count": 412,
   "id": "e4436af0",
   "metadata": {},
   "outputs": [
    {
     "data": {
      "image/png": "[encoded data removed]",
      "text/plain": [
       "<Figure size 500x400 with 2 Axes>"
      ]
     },
     "metadata": {},
     "output_type": "display_data"
    }
   ],
   "source": [
    "import matplotlib.pyplot as plt\n",
    "import seaborn as sns\n",
    "cnf_matrix = confusion_matrix(new_df8_valid['manual_label'], new_df8_valid['predicted_label'] )\n",
    "#Plotting the confusion matrix\n",
    "\n",
    "# Creating a dataframe for a array-formatted Confusion matrix,so it will be easy for plotting.\n",
    "cm_df = pd.DataFrame(cnf_matrix,\n",
    "                     index = ['No Violation','Violation','amendment'], \n",
    "                     columns = ['No Violation','Violation','amendment'])\n",
    "plt.figure(figsize=(5,4))\n",
    "\n",
    "sns.heatmap(cm_df, annot=True,  cmap=\"YlGnBu\",  fmt='g')\n",
    "plt.title('Confusion Matrix')\n",
    "plt.ylabel('Actal Values')\n",
    "plt.xlabel('Predicted Values')\n",
    "plt.show()"
   ]
  },
  {
   "cell_type": "code",
   "execution_count": null,
   "id": "14150911",
   "metadata": {},
   "outputs": [],
   "source": []
  },
  {
   "cell_type": "code",
   "execution_count": null,
   "id": "16a50c29",
   "metadata": {},
   "outputs": [],
   "source": []
  },
  {
   "cell_type": "code",
   "execution_count": 525,
   "id": "8fd27a29",
   "metadata": {},
   "outputs": [],
   "source": [
    "df.to_parquet(model_prediction + \"s4_new_violation_amend_10QK.parquet\")"
   ]
  },
  {
   "cell_type": "markdown",
   "id": "44966c6c",
   "metadata": {},
   "source": [
    "## Plots \n",
    "\n",
    "- Year which previaled the maximium violations - The graphs above show case this \n",
    "- Company secific violation \n"
   ]
  },
  {
   "cell_type": "markdown",
   "id": "f7257edd",
   "metadata": {},
   "source": [
    "### Yealy disturbution of the number of files "
   ]
  },
  {
   "cell_type": "code",
   "execution_count": 511,
   "id": "2178936c",
   "metadata": {},
   "outputs": [],
   "source": [
    "df23 = pd.read_excel(r\"C:\\Users\\Madduri\\OneDrive - fs-students.de\\FSFM_MADS\\Master_thesis\\data\\extarction_stats.xlsx\")"
   ]
  },
  {
   "cell_type": "code",
   "execution_count": 512,
   "id": "c170772c",
   "metadata": {},
   "outputs": [
    {
     "data": {
      "text/html": [
       "<div>\n",
       "<style scoped>\n",
       "    .dataframe tbody tr th:only-of-type {\n",
       "        vertical-align: middle;\n",
       "    }\n",
       "\n",
       "    .dataframe tbody tr th {\n",
       "        vertical-align: top;\n",
       "    }\n",
       "\n",
       "    .dataframe thead th {\n",
       "        text-align: right;\n",
       "    }\n",
       "</style>\n",
       "<table border=\"1\" class=\"dataframe\">\n",
       "  <thead>\n",
       "    <tr style=\"text-align: right;\">\n",
       "      <th></th>\n",
       "      <th>year</th>\n",
       "      <th>10_k</th>\n",
       "      <th>10_q</th>\n",
       "      <th>8_k</th>\n",
       "      <th>8_k_2</th>\n",
       "      <th>8_k_3</th>\n",
       "      <th>8_k_4</th>\n",
       "      <th>All</th>\n",
       "    </tr>\n",
       "  </thead>\n",
       "  <tbody>\n",
       "    <tr>\n",
       "      <th>0</th>\n",
       "      <td>1996</td>\n",
       "      <td>1111</td>\n",
       "      <td>21289</td>\n",
       "      <td>9665</td>\n",
       "      <td>1885</td>\n",
       "      <td>0</td>\n",
       "      <td>0</td>\n",
       "      <td>33950</td>\n",
       "    </tr>\n",
       "    <tr>\n",
       "      <th>1</th>\n",
       "      <td>1997</td>\n",
       "      <td>4524</td>\n",
       "      <td>20180</td>\n",
       "      <td>13944</td>\n",
       "      <td>2009</td>\n",
       "      <td>0</td>\n",
       "      <td>1</td>\n",
       "      <td>40658</td>\n",
       "    </tr>\n",
       "    <tr>\n",
       "      <th>2</th>\n",
       "      <td>1998</td>\n",
       "      <td>4524</td>\n",
       "      <td>20319</td>\n",
       "      <td>15614</td>\n",
       "      <td>1994</td>\n",
       "      <td>0</td>\n",
       "      <td>0</td>\n",
       "      <td>42451</td>\n",
       "    </tr>\n",
       "    <tr>\n",
       "      <th>3</th>\n",
       "      <td>1999</td>\n",
       "      <td>4443</td>\n",
       "      <td>20073</td>\n",
       "      <td>15052</td>\n",
       "      <td>1939</td>\n",
       "      <td>0</td>\n",
       "      <td>0</td>\n",
       "      <td>41507</td>\n",
       "    </tr>\n",
       "    <tr>\n",
       "      <th>4</th>\n",
       "      <td>2000</td>\n",
       "      <td>4366</td>\n",
       "      <td>19885</td>\n",
       "      <td>16405</td>\n",
       "      <td>2022</td>\n",
       "      <td>0</td>\n",
       "      <td>0</td>\n",
       "      <td>42678</td>\n",
       "    </tr>\n",
       "  </tbody>\n",
       "</table>\n",
       "</div>"
      ],
      "text/plain": [
       "   year  10_k   10_q    8_k  8_k_2  8_k_3  8_k_4    All\n",
       "0  1996  1111  21289   9665   1885      0      0  33950\n",
       "1  1997  4524  20180  13944   2009      0      1  40658\n",
       "2  1998  4524  20319  15614   1994      0      0  42451\n",
       "3  1999  4443  20073  15052   1939      0      0  41507\n",
       "4  2000  4366  19885  16405   2022      0      0  42678"
      ]
     },
     "execution_count": 512,
     "metadata": {},
     "output_type": "execute_result"
    }
   ],
   "source": [
    "df23.head()"
   ]
  },
  {
   "cell_type": "code",
   "execution_count": 513,
   "id": "c82ababf",
   "metadata": {},
   "outputs": [],
   "source": [
    "df23['8_k_whole'] = df23['8_k'] + df23['8_k_2'] + df23['8_k_3'] + df23['8_k_4']"
   ]
  },
  {
   "cell_type": "code",
   "execution_count": 515,
   "id": "157a8505",
   "metadata": {},
   "outputs": [
    {
     "data": {
      "text/html": [
       "<div>\n",
       "<style scoped>\n",
       "    .dataframe tbody tr th:only-of-type {\n",
       "        vertical-align: middle;\n",
       "    }\n",
       "\n",
       "    .dataframe tbody tr th {\n",
       "        vertical-align: top;\n",
       "    }\n",
       "\n",
       "    .dataframe thead th {\n",
       "        text-align: right;\n",
       "    }\n",
       "</style>\n",
       "<table border=\"1\" class=\"dataframe\">\n",
       "  <thead>\n",
       "    <tr style=\"text-align: right;\">\n",
       "      <th></th>\n",
       "      <th>year</th>\n",
       "      <th>10_k</th>\n",
       "      <th>10_q</th>\n",
       "      <th>8_k</th>\n",
       "      <th>8_k_2</th>\n",
       "      <th>8_k_3</th>\n",
       "      <th>8_k_4</th>\n",
       "      <th>All</th>\n",
       "      <th>8_k_whole</th>\n",
       "    </tr>\n",
       "  </thead>\n",
       "  <tbody>\n",
       "    <tr>\n",
       "      <th>0</th>\n",
       "      <td>1996</td>\n",
       "      <td>1111</td>\n",
       "      <td>21289</td>\n",
       "      <td>9665</td>\n",
       "      <td>1885</td>\n",
       "      <td>0</td>\n",
       "      <td>0</td>\n",
       "      <td>33950</td>\n",
       "      <td>11550</td>\n",
       "    </tr>\n",
       "    <tr>\n",
       "      <th>1</th>\n",
       "      <td>1997</td>\n",
       "      <td>4524</td>\n",
       "      <td>20180</td>\n",
       "      <td>13944</td>\n",
       "      <td>2009</td>\n",
       "      <td>0</td>\n",
       "      <td>1</td>\n",
       "      <td>40658</td>\n",
       "      <td>15954</td>\n",
       "    </tr>\n",
       "    <tr>\n",
       "      <th>2</th>\n",
       "      <td>1998</td>\n",
       "      <td>4524</td>\n",
       "      <td>20319</td>\n",
       "      <td>15614</td>\n",
       "      <td>1994</td>\n",
       "      <td>0</td>\n",
       "      <td>0</td>\n",
       "      <td>42451</td>\n",
       "      <td>17608</td>\n",
       "    </tr>\n",
       "    <tr>\n",
       "      <th>3</th>\n",
       "      <td>1999</td>\n",
       "      <td>4443</td>\n",
       "      <td>20073</td>\n",
       "      <td>15052</td>\n",
       "      <td>1939</td>\n",
       "      <td>0</td>\n",
       "      <td>0</td>\n",
       "      <td>41507</td>\n",
       "      <td>16991</td>\n",
       "    </tr>\n",
       "    <tr>\n",
       "      <th>4</th>\n",
       "      <td>2000</td>\n",
       "      <td>4366</td>\n",
       "      <td>19885</td>\n",
       "      <td>16405</td>\n",
       "      <td>2022</td>\n",
       "      <td>0</td>\n",
       "      <td>0</td>\n",
       "      <td>42678</td>\n",
       "      <td>18427</td>\n",
       "    </tr>\n",
       "  </tbody>\n",
       "</table>\n",
       "</div>"
      ],
      "text/plain": [
       "   year  10_k   10_q    8_k  8_k_2  8_k_3  8_k_4    All  8_k_whole\n",
       "0  1996  1111  21289   9665   1885      0      0  33950      11550\n",
       "1  1997  4524  20180  13944   2009      0      1  40658      15954\n",
       "2  1998  4524  20319  15614   1994      0      0  42451      17608\n",
       "3  1999  4443  20073  15052   1939      0      0  41507      16991\n",
       "4  2000  4366  19885  16405   2022      0      0  42678      18427"
      ]
     },
     "execution_count": 515,
     "metadata": {},
     "output_type": "execute_result"
    }
   ],
   "source": [
    "df23.head()"
   ]
  },
  {
   "cell_type": "code",
   "execution_count": 524,
   "id": "88849e0c",
   "metadata": {},
   "outputs": [
    {
     "data": {
      "application/vnd.plotly.v1+json": {
       "config": {
        "plotlyServerURL": "https://plot.ly"
       },
       "data": [
        {
         "marker": {
          "color": "#31417a"
         },
         "mode": "lines+markers",
         "name": "10-K",
         "type": "scatter",
         "x": [
          1996,
          1997,
          1998,
          1999,
          2000,
          2001,
          2002,
          2003,
          2004,
          2005,
          2006,
          2007,
          2008,
          2009,
          2010,
          2011,
          2012,
          2013,
          2014,
          2015,
          2016,
          2017,
          2018,
          2019,
          2020,
          2021,
          2022
         ],
         "y": [
          1111,
          4524,
          4524,
          4443,
          4366,
          4305,
          5716,
          5200,
          5319,
          5278,
          5211,
          5254,
          5872,
          5914,
          5805,
          5670,
          5566,
          5551,
          5460,
          5268,
          5086,
          4921,
          4850,
          4787,
          4882,
          5084,
          966
         ]
        },
        {
         "marker": {
          "color": "#266399"
         },
         "mode": "lines+markers",
         "name": "10-Q",
         "type": "scatter",
         "x": [
          1996,
          1997,
          1998,
          1999,
          2000,
          2001,
          2002,
          2003,
          2004,
          2005,
          2006,
          2007,
          2008,
          2009,
          2010,
          2011,
          2012,
          2013,
          2014,
          2015,
          2016,
          2017,
          2018,
          2019,
          2020,
          2021,
          2022
         ],
         "y": [
          21289,
          20180,
          20319,
          20073,
          19885,
          18775,
          17646,
          12635,
          15977,
          15886,
          15705,
          15465,
          18306,
          18197,
          17683,
          17314,
          16975,
          16565,
          16577,
          16298,
          15530,
          14900,
          14653,
          14428,
          14298,
          15144,
          14428
         ]
        },
        {
         "marker": {
          "color": "#1595c6"
         },
         "mode": "lines+markers",
         "name": "8-K",
         "type": "scatter",
         "x": [
          1996,
          1997,
          1998,
          1999,
          2000,
          2001,
          2002,
          2003,
          2004,
          2005,
          2006,
          2007,
          2008,
          2009,
          2010,
          2011,
          2012,
          2013,
          2014,
          2015,
          2016,
          2017,
          2018,
          2019,
          2020,
          2021,
          2022
         ],
         "y": [
          11550,
          15954,
          17608,
          16991,
          18427,
          21760,
          28323,
          37183,
          62343,
          67195,
          67194,
          67137,
          67142,
          65705,
          66915,
          66527,
          66559,
          65961,
          62673,
          62651,
          62654,
          62624,
          61537,
          60481,
          62599,
          62574,
          61438
         ]
        }
       ],
       "layout": {
        "font": {
         "family": "Times New Roman",
         "size": 12
        },
        "plot_bgcolor": "#f2f2f2",
        "template": {
         "data": {
          "bar": [
           {
            "error_x": {
             "color": "#2a3f5f"
            },
            "error_y": {
             "color": "#2a3f5f"
            },
            "marker": {
             "line": {
              "color": "#E5ECF6",
              "width": 0.5
             },
             "pattern": {
              "fillmode": "overlay",
              "size": 10,
              "solidity": 0.2
             }
            },
            "type": "bar"
           }
          ],
          "barpolar": [
           {
            "marker": {
             "line": {
              "color": "#E5ECF6",
              "width": 0.5
             },
             "pattern": {
              "fillmode": "overlay",
              "size": 10,
              "solidity": 0.2
             }
            },
            "type": "barpolar"
           }
          ],
          "carpet": [
           {
            "aaxis": {
             "endlinecolor": "#2a3f5f",
             "gridcolor": "white",
             "linecolor": "white",
             "minorgridcolor": "white",
             "startlinecolor": "#2a3f5f"
            },
            "baxis": {
             "endlinecolor": "#2a3f5f",
             "gridcolor": "white",
             "linecolor": "white",
             "minorgridcolor": "white",
             "startlinecolor": "#2a3f5f"
            },
            "type": "carpet"
           }
          ],
          "choropleth": [
           {
            "colorbar": {
             "outlinewidth": 0,
             "ticks": ""
            },
            "type": "choropleth"
           }
          ],
          "contour": [
           {
            "colorbar": {
             "outlinewidth": 0,
             "ticks": ""
            },
            "colorscale": [
             [
              0,
              "#0d0887"
             ],
             [
              0.1111111111111111,
              "#46039f"
             ],
             [
              0.2222222222222222,
              "#7201a8"
             ],
             [
              0.3333333333333333,
              "#9c179e"
             ],
             [
              0.4444444444444444,
              "#bd3786"
             ],
             [
              0.5555555555555556,
              "#d8576b"
             ],
             [
              0.6666666666666666,
              "#ed7953"
             ],
             [
              0.7777777777777778,
              "#fb9f3a"
             ],
             [
              0.8888888888888888,
              "#fdca26"
             ],
             [
              1,
              "#f0f921"
             ]
            ],
            "type": "contour"
           }
          ],
          "contourcarpet": [
           {
            "colorbar": {
             "outlinewidth": 0,
             "ticks": ""
            },
            "type": "contourcarpet"
           }
          ],
          "heatmap": [
           {
            "colorbar": {
             "outlinewidth": 0,
             "ticks": ""
            },
            "colorscale": [
             [
              0,
              "#0d0887"
             ],
             [
              0.1111111111111111,
              "#46039f"
             ],
             [
              0.2222222222222222,
              "#7201a8"
             ],
             [
              0.3333333333333333,
              "#9c179e"
             ],
             [
              0.4444444444444444,
              "#bd3786"
             ],
             [
              0.5555555555555556,
              "#d8576b"
             ],
             [
              0.6666666666666666,
              "#ed7953"
             ],
             [
              0.7777777777777778,
              "#fb9f3a"
             ],
             [
              0.8888888888888888,
              "#fdca26"
             ],
             [
              1,
              "#f0f921"
             ]
            ],
            "type": "heatmap"
           }
          ],
          "heatmapgl": [
           {
            "colorbar": {
             "outlinewidth": 0,
             "ticks": ""
            },
            "colorscale": [
             [
              0,
              "#0d0887"
             ],
             [
              0.1111111111111111,
              "#46039f"
             ],
             [
              0.2222222222222222,
              "#7201a8"
             ],
             [
              0.3333333333333333,
              "#9c179e"
             ],
             [
              0.4444444444444444,
              "#bd3786"
             ],
             [
              0.5555555555555556,
              "#d8576b"
             ],
             [
              0.6666666666666666,
              "#ed7953"
             ],
             [
              0.7777777777777778,
              "#fb9f3a"
             ],
             [
              0.8888888888888888,
              "#fdca26"
             ],
             [
              1,
              "#f0f921"
             ]
            ],
            "type": "heatmapgl"
           }
          ],
          "histogram": [
           {
            "marker": {
             "pattern": {
              "fillmode": "overlay",
              "size": 10,
              "solidity": 0.2
             }
            },
            "type": "histogram"
           }
          ],
          "histogram2d": [
           {
            "colorbar": {
             "outlinewidth": 0,
             "ticks": ""
            },
            "colorscale": [
             [
              0,
              "#0d0887"
             ],
             [
              0.1111111111111111,
              "#46039f"
             ],
             [
              0.2222222222222222,
              "#7201a8"
             ],
             [
              0.3333333333333333,
              "#9c179e"
             ],
             [
              0.4444444444444444,
              "#bd3786"
             ],
             [
              0.5555555555555556,
              "#d8576b"
             ],
             [
              0.6666666666666666,
              "#ed7953"
             ],
             [
              0.7777777777777778,
              "#fb9f3a"
             ],
             [
              0.8888888888888888,
              "#fdca26"
             ],
             [
              1,
              "#f0f921"
             ]
            ],
            "type": "histogram2d"
           }
          ],
          "histogram2dcontour": [
           {
            "colorbar": {
             "outlinewidth": 0,
             "ticks": ""
            },
            "colorscale": [
             [
              0,
              "#0d0887"
             ],
             [
              0.1111111111111111,
              "#46039f"
             ],
             [
              0.2222222222222222,
              "#7201a8"
             ],
             [
              0.3333333333333333,
              "#9c179e"
             ],
             [
              0.4444444444444444,
              "#bd3786"
             ],
             [
              0.5555555555555556,
              "#d8576b"
             ],
             [
              0.6666666666666666,
              "#ed7953"
             ],
             [
              0.7777777777777778,
              "#fb9f3a"
             ],
             [
              0.8888888888888888,
              "#fdca26"
             ],
             [
              1,
              "#f0f921"
             ]
            ],
            "type": "histogram2dcontour"
           }
          ],
          "mesh3d": [
           {
            "colorbar": {
             "outlinewidth": 0,
             "ticks": ""
            },
            "type": "mesh3d"
           }
          ],
          "parcoords": [
           {
            "line": {
             "colorbar": {
              "outlinewidth": 0,
              "ticks": ""
             }
            },
            "type": "parcoords"
           }
          ],
          "pie": [
           {
            "automargin": true,
            "type": "pie"
           }
          ],
          "scatter": [
           {
            "fillpattern": {
             "fillmode": "overlay",
             "size": 10,
             "solidity": 0.2
            },
            "type": "scatter"
           }
          ],
          "scatter3d": [
           {
            "line": {
             "colorbar": {
              "outlinewidth": 0,
              "ticks": ""
             }
            },
            "marker": {
             "colorbar": {
              "outlinewidth": 0,
              "ticks": ""
             }
            },
            "type": "scatter3d"
           }
          ],
          "scattercarpet": [
           {
            "marker": {
             "colorbar": {
              "outlinewidth": 0,
              "ticks": ""
             }
            },
            "type": "scattercarpet"
           }
          ],
          "scattergeo": [
           {
            "marker": {
             "colorbar": {
              "outlinewidth": 0,
              "ticks": ""
             }
            },
            "type": "scattergeo"
           }
          ],
          "scattergl": [
           {
            "marker": {
             "colorbar": {
              "outlinewidth": 0,
              "ticks": ""
             }
            },
            "type": "scattergl"
           }
          ],
          "scattermapbox": [
           {
            "marker": {
             "colorbar": {
              "outlinewidth": 0,
              "ticks": ""
             }
            },
            "type": "scattermapbox"
           }
          ],
          "scatterpolar": [
           {
            "marker": {
             "colorbar": {
              "outlinewidth": 0,
              "ticks": ""
             }
            },
            "type": "scatterpolar"
           }
          ],
          "scatterpolargl": [
           {
            "marker": {
             "colorbar": {
              "outlinewidth": 0,
              "ticks": ""
             }
            },
            "type": "scatterpolargl"
           }
          ],
          "scatterternary": [
           {
            "marker": {
             "colorbar": {
              "outlinewidth": 0,
              "ticks": ""
             }
            },
            "type": "scatterternary"
           }
          ],
          "surface": [
           {
            "colorbar": {
             "outlinewidth": 0,
             "ticks": ""
            },
            "colorscale": [
             [
              0,
              "#0d0887"
             ],
             [
              0.1111111111111111,
              "#46039f"
             ],
             [
              0.2222222222222222,
              "#7201a8"
             ],
             [
              0.3333333333333333,
              "#9c179e"
             ],
             [
              0.4444444444444444,
              "#bd3786"
             ],
             [
              0.5555555555555556,
              "#d8576b"
             ],
             [
              0.6666666666666666,
              "#ed7953"
             ],
             [
              0.7777777777777778,
              "#fb9f3a"
             ],
             [
              0.8888888888888888,
              "#fdca26"
             ],
             [
              1,
              "#f0f921"
             ]
            ],
            "type": "surface"
           }
          ],
          "table": [
           {
            "cells": {
             "fill": {
              "color": "#EBF0F8"
             },
             "line": {
              "color": "white"
             }
            },
            "header": {
             "fill": {
              "color": "#C8D4E3"
             },
             "line": {
              "color": "white"
             }
            },
            "type": "table"
           }
          ]
         },
         "layout": {
          "annotationdefaults": {
           "arrowcolor": "#2a3f5f",
           "arrowhead": 0,
           "arrowwidth": 1
          },
          "autotypenumbers": "strict",
          "coloraxis": {
           "colorbar": {
            "outlinewidth": 0,
            "ticks": ""
           }
          },
          "colorscale": {
           "diverging": [
            [
             0,
             "#8e0152"
            ],
            [
             0.1,
             "#c51b7d"
            ],
            [
             0.2,
             "#de77ae"
            ],
            [
             0.3,
             "#f1b6da"
            ],
            [
             0.4,
             "#fde0ef"
            ],
            [
             0.5,
             "#f7f7f7"
            ],
            [
             0.6,
             "#e6f5d0"
            ],
            [
             0.7,
             "#b8e186"
            ],
            [
             0.8,
             "#7fbc41"
            ],
            [
             0.9,
             "#4d9221"
            ],
            [
             1,
             "#276419"
            ]
           ],
           "sequential": [
            [
             0,
             "#0d0887"
            ],
            [
             0.1111111111111111,
             "#46039f"
            ],
            [
             0.2222222222222222,
             "#7201a8"
            ],
            [
             0.3333333333333333,
             "#9c179e"
            ],
            [
             0.4444444444444444,
             "#bd3786"
            ],
            [
             0.5555555555555556,
             "#d8576b"
            ],
            [
             0.6666666666666666,
             "#ed7953"
            ],
            [
             0.7777777777777778,
             "#fb9f3a"
            ],
            [
             0.8888888888888888,
             "#fdca26"
            ],
            [
             1,
             "#f0f921"
            ]
           ],
           "sequentialminus": [
            [
             0,
             "#0d0887"
            ],
            [
             0.1111111111111111,
             "#46039f"
            ],
            [
             0.2222222222222222,
             "#7201a8"
            ],
            [
             0.3333333333333333,
             "#9c179e"
            ],
            [
             0.4444444444444444,
             "#bd3786"
            ],
            [
             0.5555555555555556,
             "#d8576b"
            ],
            [
             0.6666666666666666,
             "#ed7953"
            ],
            [
             0.7777777777777778,
             "#fb9f3a"
            ],
            [
             0.8888888888888888,
             "#fdca26"
            ],
            [
             1,
             "#f0f921"
            ]
           ]
          },
          "colorway": [
           "#636efa",
           "#EF553B",
           "#00cc96",
           "#ab63fa",
           "#FFA15A",
           "#19d3f3",
           "#FF6692",
           "#B6E880",
           "#FF97FF",
           "#FECB52"
          ],
          "font": {
           "color": "#2a3f5f"
          },
          "geo": {
           "bgcolor": "white",
           "lakecolor": "white",
           "landcolor": "#E5ECF6",
           "showlakes": true,
           "showland": true,
           "subunitcolor": "white"
          },
          "hoverlabel": {
           "align": "left"
          },
          "hovermode": "closest",
          "mapbox": {
           "style": "light"
          },
          "paper_bgcolor": "white",
          "plot_bgcolor": "#E5ECF6",
          "polar": {
           "angularaxis": {
            "gridcolor": "white",
            "linecolor": "white",
            "ticks": ""
           },
           "bgcolor": "#E5ECF6",
           "radialaxis": {
            "gridcolor": "white",
            "linecolor": "white",
            "ticks": ""
           }
          },
          "scene": {
           "xaxis": {
            "backgroundcolor": "#E5ECF6",
            "gridcolor": "white",
            "gridwidth": 2,
            "linecolor": "white",
            "showbackground": true,
            "ticks": "",
            "zerolinecolor": "white"
           },
           "yaxis": {
            "backgroundcolor": "#E5ECF6",
            "gridcolor": "white",
            "gridwidth": 2,
            "linecolor": "white",
            "showbackground": true,
            "ticks": "",
            "zerolinecolor": "white"
           },
           "zaxis": {
            "backgroundcolor": "#E5ECF6",
            "gridcolor": "white",
            "gridwidth": 2,
            "linecolor": "white",
            "showbackground": true,
            "ticks": "",
            "zerolinecolor": "white"
           }
          },
          "shapedefaults": {
           "line": {
            "color": "#2a3f5f"
           }
          },
          "ternary": {
           "aaxis": {
            "gridcolor": "white",
            "linecolor": "white",
            "ticks": ""
           },
           "baxis": {
            "gridcolor": "white",
            "linecolor": "white",
            "ticks": ""
           },
           "bgcolor": "#E5ECF6",
           "caxis": {
            "gridcolor": "white",
            "linecolor": "white",
            "ticks": ""
           }
          },
          "title": {
           "x": 0.05
          },
          "xaxis": {
           "automargin": true,
           "gridcolor": "white",
           "linecolor": "white",
           "ticks": "",
           "title": {
            "standoff": 15
           },
           "zerolinecolor": "white",
           "zerolinewidth": 2
          },
          "yaxis": {
           "automargin": true,
           "gridcolor": "white",
           "linecolor": "white",
           "ticks": "",
           "title": {
            "standoff": 15
           },
           "zerolinecolor": "white",
           "zerolinewidth": 2
          }
         }
        },
        "title": {
         "font": {
          "family": "Times New Roman"
         },
         "text": "Yearly count of filings",
         "x": 0.5,
         "xanchor": "center",
         "y": 0.9,
         "yanchor": "top"
        },
        "xaxis": {
         "showgrid": false,
         "title": {
          "text": "Year"
         }
        },
        "yaxis": {
         "showgrid": false,
         "title": {
          "text": "No of files"
         }
        }
       }
      },
      "text/html": [
       "<div>                            <div id=\"198af516-9fc4-4e20-a50e-7580e514687a\" class=\"plotly-graph-div\" style=\"height:525px; width:100%;\"></div>            <script type=\"text/javascript\">                require([\"plotly\"], function(Plotly) {                    window.PLOTLYENV=window.PLOTLYENV || {};                                    if (document.getElementById(\"198af516-9fc4-4e20-a50e-7580e514687a\")) {                    Plotly.newPlot(                        \"198af516-9fc4-4e20-a50e-7580e514687a\",                        [{\"marker\":{\"color\":\"#31417a\"},\"mode\":\"lines+markers\",\"name\":\"10-K\",\"x\":[1996,1997,1998,1999,2000,2001,2002,2003,2004,2005,2006,2007,2008,2009,2010,2011,2012,2013,2014,2015,2016,2017,2018,2019,2020,2021,2022],\"y\":[1111,4524,4524,4443,4366,4305,5716,5200,5319,5278,5211,5254,5872,5914,5805,5670,5566,5551,5460,5268,5086,4921,4850,4787,4882,5084,966],\"type\":\"scatter\"},{\"marker\":{\"color\":\"#266399\"},\"mode\":\"lines+markers\",\"name\":\"10-Q\",\"x\":[1996,1997,1998,1999,2000,2001,2002,2003,2004,2005,2006,2007,2008,2009,2010,2011,2012,2013,2014,2015,2016,2017,2018,2019,2020,2021,2022],\"y\":[21289,20180,20319,20073,19885,18775,17646,12635,15977,15886,15705,15465,18306,18197,17683,17314,16975,16565,16577,16298,15530,14900,14653,14428,14298,15144,14428],\"type\":\"scatter\"},{\"marker\":{\"color\":\"#1595c6\"},\"mode\":\"lines+markers\",\"name\":\"8-K\",\"x\":[1996,1997,1998,1999,2000,2001,2002,2003,2004,2005,2006,2007,2008,2009,2010,2011,2012,2013,2014,2015,2016,2017,2018,2019,2020,2021,2022],\"y\":[11550,15954,17608,16991,18427,21760,28323,37183,62343,67195,67194,67137,67142,65705,66915,66527,66559,65961,62673,62651,62654,62624,61537,60481,62599,62574,61438],\"type\":\"scatter\"}],                        {\"template\":{\"data\":{\"histogram2dcontour\":[{\"type\":\"histogram2dcontour\",\"colorbar\":{\"outlinewidth\":0,\"ticks\":\"\"},\"colorscale\":[[0.0,\"#0d0887\"],[0.1111111111111111,\"#46039f\"],[0.2222222222222222,\"#7201a8\"],[0.3333333333333333,\"#9c179e\"],[0.4444444444444444,\"#bd3786\"],[0.5555555555555556,\"#d8576b\"],[0.6666666666666666,\"#ed7953\"],[0.7777777777777778,\"#fb9f3a\"],[0.8888888888888888,\"#fdca26\"],[1.0,\"#f0f921\"]]}],\"choropleth\":[{\"type\":\"choropleth\",\"colorbar\":{\"outlinewidth\":0,\"ticks\":\"\"}}],\"histogram2d\":[{\"type\":\"histogram2d\",\"colorbar\":{\"outlinewidth\":0,\"ticks\":\"\"},\"colorscale\":[[0.0,\"#0d0887\"],[0.1111111111111111,\"#46039f\"],[0.2222222222222222,\"#7201a8\"],[0.3333333333333333,\"#9c179e\"],[0.4444444444444444,\"#bd3786\"],[0.5555555555555556,\"#d8576b\"],[0.6666666666666666,\"#ed7953\"],[0.7777777777777778,\"#fb9f3a\"],[0.8888888888888888,\"#fdca26\"],[1.0,\"#f0f921\"]]}],\"heatmap\":[{\"type\":\"heatmap\",\"colorbar\":{\"outlinewidth\":0,\"ticks\":\"\"},\"colorscale\":[[0.0,\"#0d0887\"],[0.1111111111111111,\"#46039f\"],[0.2222222222222222,\"#7201a8\"],[0.3333333333333333,\"#9c179e\"],[0.4444444444444444,\"#bd3786\"],[0.5555555555555556,\"#d8576b\"],[0.6666666666666666,\"#ed7953\"],[0.7777777777777778,\"#fb9f3a\"],[0.8888888888888888,\"#fdca26\"],[1.0,\"#f0f921\"]]}],\"heatmapgl\":[{\"type\":\"heatmapgl\",\"colorbar\":{\"outlinewidth\":0,\"ticks\":\"\"},\"colorscale\":[[0.0,\"#0d0887\"],[0.1111111111111111,\"#46039f\"],[0.2222222222222222,\"#7201a8\"],[0.3333333333333333,\"#9c179e\"],[0.4444444444444444,\"#bd3786\"],[0.5555555555555556,\"#d8576b\"],[0.6666666666666666,\"#ed7953\"],[0.7777777777777778,\"#fb9f3a\"],[0.8888888888888888,\"#fdca26\"],[1.0,\"#f0f921\"]]}],\"contourcarpet\":[{\"type\":\"contourcarpet\",\"colorbar\":{\"outlinewidth\":0,\"ticks\":\"\"}}],\"contour\":[{\"type\":\"contour\",\"colorbar\":{\"outlinewidth\":0,\"ticks\":\"\"},\"colorscale\":[[0.0,\"#0d0887\"],[0.1111111111111111,\"#46039f\"],[0.2222222222222222,\"#7201a8\"],[0.3333333333333333,\"#9c179e\"],[0.4444444444444444,\"#bd3786\"],[0.5555555555555556,\"#d8576b\"],[0.6666666666666666,\"#ed7953\"],[0.7777777777777778,\"#fb9f3a\"],[0.8888888888888888,\"#fdca26\"],[1.0,\"#f0f921\"]]}],\"surface\":[{\"type\":\"surface\",\"colorbar\":{\"outlinewidth\":0,\"ticks\":\"\"},\"colorscale\":[[0.0,\"#0d0887\"],[0.1111111111111111,\"#46039f\"],[0.2222222222222222,\"#7201a8\"],[0.3333333333333333,\"#9c179e\"],[0.4444444444444444,\"#bd3786\"],[0.5555555555555556,\"#d8576b\"],[0.6666666666666666,\"#ed7953\"],[0.7777777777777778,\"#fb9f3a\"],[0.8888888888888888,\"#fdca26\"],[1.0,\"#f0f921\"]]}],\"mesh3d\":[{\"type\":\"mesh3d\",\"colorbar\":{\"outlinewidth\":0,\"ticks\":\"\"}}],\"scatter\":[{\"fillpattern\":{\"fillmode\":\"overlay\",\"size\":10,\"solidity\":0.2},\"type\":\"scatter\"}],\"parcoords\":[{\"type\":\"parcoords\",\"line\":{\"colorbar\":{\"outlinewidth\":0,\"ticks\":\"\"}}}],\"scatterpolargl\":[{\"type\":\"scatterpolargl\",\"marker\":{\"colorbar\":{\"outlinewidth\":0,\"ticks\":\"\"}}}],\"bar\":[{\"error_x\":{\"color\":\"#2a3f5f\"},\"error_y\":{\"color\":\"#2a3f5f\"},\"marker\":{\"line\":{\"color\":\"#E5ECF6\",\"width\":0.5},\"pattern\":{\"fillmode\":\"overlay\",\"size\":10,\"solidity\":0.2}},\"type\":\"bar\"}],\"scattergeo\":[{\"type\":\"scattergeo\",\"marker\":{\"colorbar\":{\"outlinewidth\":0,\"ticks\":\"\"}}}],\"scatterpolar\":[{\"type\":\"scatterpolar\",\"marker\":{\"colorbar\":{\"outlinewidth\":0,\"ticks\":\"\"}}}],\"histogram\":[{\"marker\":{\"pattern\":{\"fillmode\":\"overlay\",\"size\":10,\"solidity\":0.2}},\"type\":\"histogram\"}],\"scattergl\":[{\"type\":\"scattergl\",\"marker\":{\"colorbar\":{\"outlinewidth\":0,\"ticks\":\"\"}}}],\"scatter3d\":[{\"type\":\"scatter3d\",\"line\":{\"colorbar\":{\"outlinewidth\":0,\"ticks\":\"\"}},\"marker\":{\"colorbar\":{\"outlinewidth\":0,\"ticks\":\"\"}}}],\"scattermapbox\":[{\"type\":\"scattermapbox\",\"marker\":{\"colorbar\":{\"outlinewidth\":0,\"ticks\":\"\"}}}],\"scatterternary\":[{\"type\":\"scatterternary\",\"marker\":{\"colorbar\":{\"outlinewidth\":0,\"ticks\":\"\"}}}],\"scattercarpet\":[{\"type\":\"scattercarpet\",\"marker\":{\"colorbar\":{\"outlinewidth\":0,\"ticks\":\"\"}}}],\"carpet\":[{\"aaxis\":{\"endlinecolor\":\"#2a3f5f\",\"gridcolor\":\"white\",\"linecolor\":\"white\",\"minorgridcolor\":\"white\",\"startlinecolor\":\"#2a3f5f\"},\"baxis\":{\"endlinecolor\":\"#2a3f5f\",\"gridcolor\":\"white\",\"linecolor\":\"white\",\"minorgridcolor\":\"white\",\"startlinecolor\":\"#2a3f5f\"},\"type\":\"carpet\"}],\"table\":[{\"cells\":{\"fill\":{\"color\":\"#EBF0F8\"},\"line\":{\"color\":\"white\"}},\"header\":{\"fill\":{\"color\":\"#C8D4E3\"},\"line\":{\"color\":\"white\"}},\"type\":\"table\"}],\"barpolar\":[{\"marker\":{\"line\":{\"color\":\"#E5ECF6\",\"width\":0.5},\"pattern\":{\"fillmode\":\"overlay\",\"size\":10,\"solidity\":0.2}},\"type\":\"barpolar\"}],\"pie\":[{\"automargin\":true,\"type\":\"pie\"}]},\"layout\":{\"autotypenumbers\":\"strict\",\"colorway\":[\"#636efa\",\"#EF553B\",\"#00cc96\",\"#ab63fa\",\"#FFA15A\",\"#19d3f3\",\"#FF6692\",\"#B6E880\",\"#FF97FF\",\"#FECB52\"],\"font\":{\"color\":\"#2a3f5f\"},\"hovermode\":\"closest\",\"hoverlabel\":{\"align\":\"left\"},\"paper_bgcolor\":\"white\",\"plot_bgcolor\":\"#E5ECF6\",\"polar\":{\"bgcolor\":\"#E5ECF6\",\"angularaxis\":{\"gridcolor\":\"white\",\"linecolor\":\"white\",\"ticks\":\"\"},\"radialaxis\":{\"gridcolor\":\"white\",\"linecolor\":\"white\",\"ticks\":\"\"}},\"ternary\":{\"bgcolor\":\"#E5ECF6\",\"aaxis\":{\"gridcolor\":\"white\",\"linecolor\":\"white\",\"ticks\":\"\"},\"baxis\":{\"gridcolor\":\"white\",\"linecolor\":\"white\",\"ticks\":\"\"},\"caxis\":{\"gridcolor\":\"white\",\"linecolor\":\"white\",\"ticks\":\"\"}},\"coloraxis\":{\"colorbar\":{\"outlinewidth\":0,\"ticks\":\"\"}},\"colorscale\":{\"sequential\":[[0.0,\"#0d0887\"],[0.1111111111111111,\"#46039f\"],[0.2222222222222222,\"#7201a8\"],[0.3333333333333333,\"#9c179e\"],[0.4444444444444444,\"#bd3786\"],[0.5555555555555556,\"#d8576b\"],[0.6666666666666666,\"#ed7953\"],[0.7777777777777778,\"#fb9f3a\"],[0.8888888888888888,\"#fdca26\"],[1.0,\"#f0f921\"]],\"sequentialminus\":[[0.0,\"#0d0887\"],[0.1111111111111111,\"#46039f\"],[0.2222222222222222,\"#7201a8\"],[0.3333333333333333,\"#9c179e\"],[0.4444444444444444,\"#bd3786\"],[0.5555555555555556,\"#d8576b\"],[0.6666666666666666,\"#ed7953\"],[0.7777777777777778,\"#fb9f3a\"],[0.8888888888888888,\"#fdca26\"],[1.0,\"#f0f921\"]],\"diverging\":[[0,\"#8e0152\"],[0.1,\"#c51b7d\"],[0.2,\"#de77ae\"],[0.3,\"#f1b6da\"],[0.4,\"#fde0ef\"],[0.5,\"#f7f7f7\"],[0.6,\"#e6f5d0\"],[0.7,\"#b8e186\"],[0.8,\"#7fbc41\"],[0.9,\"#4d9221\"],[1,\"#276419\"]]},\"xaxis\":{\"gridcolor\":\"white\",\"linecolor\":\"white\",\"ticks\":\"\",\"title\":{\"standoff\":15},\"zerolinecolor\":\"white\",\"automargin\":true,\"zerolinewidth\":2},\"yaxis\":{\"gridcolor\":\"white\",\"linecolor\":\"white\",\"ticks\":\"\",\"title\":{\"standoff\":15},\"zerolinecolor\":\"white\",\"automargin\":true,\"zerolinewidth\":2},\"scene\":{\"xaxis\":{\"backgroundcolor\":\"#E5ECF6\",\"gridcolor\":\"white\",\"linecolor\":\"white\",\"showbackground\":true,\"ticks\":\"\",\"zerolinecolor\":\"white\",\"gridwidth\":2},\"yaxis\":{\"backgroundcolor\":\"#E5ECF6\",\"gridcolor\":\"white\",\"linecolor\":\"white\",\"showbackground\":true,\"ticks\":\"\",\"zerolinecolor\":\"white\",\"gridwidth\":2},\"zaxis\":{\"backgroundcolor\":\"#E5ECF6\",\"gridcolor\":\"white\",\"linecolor\":\"white\",\"showbackground\":true,\"ticks\":\"\",\"zerolinecolor\":\"white\",\"gridwidth\":2}},\"shapedefaults\":{\"line\":{\"color\":\"#2a3f5f\"}},\"annotationdefaults\":{\"arrowcolor\":\"#2a3f5f\",\"arrowhead\":0,\"arrowwidth\":1},\"geo\":{\"bgcolor\":\"white\",\"landcolor\":\"#E5ECF6\",\"subunitcolor\":\"white\",\"showland\":true,\"showlakes\":true,\"lakecolor\":\"white\"},\"title\":{\"x\":0.05},\"mapbox\":{\"style\":\"light\"}}},\"font\":{\"family\":\"Times New Roman\",\"size\":12},\"title\":{\"font\":{\"family\":\"Times New Roman\"},\"text\":\"Yearly count of filings\",\"y\":0.9,\"x\":0.5,\"xanchor\":\"center\",\"yanchor\":\"top\"},\"xaxis\":{\"showgrid\":false,\"title\":{\"text\":\"Year\"}},\"yaxis\":{\"showgrid\":false,\"title\":{\"text\":\"No of files\"}},\"plot_bgcolor\":\"#f2f2f2\"},                        {\"responsive\": true}                    ).then(function(){\n",
       "                            \n",
       "var gd = document.getElementById('198af516-9fc4-4e20-a50e-7580e514687a');\n",
       "var x = new MutationObserver(function (mutations, observer) {{\n",
       "        var display = window.getComputedStyle(gd).display;\n",
       "        if (!display || display === 'none') {{\n",
       "            console.log([gd, 'removed!']);\n",
       "            Plotly.purge(gd);\n",
       "            observer.disconnect();\n",
       "        }}\n",
       "}});\n",
       "\n",
       "// Listen for the removal of the full notebook cells\n",
       "var notebookContainer = gd.closest('#notebook-container');\n",
       "if (notebookContainer) {{\n",
       "    x.observe(notebookContainer, {childList: true});\n",
       "}}\n",
       "\n",
       "// Listen for the clearing of the current output cell\n",
       "var outputEl = gd.closest('.output');\n",
       "if (outputEl) {{\n",
       "    x.observe(outputEl, {childList: true});\n",
       "}}\n",
       "\n",
       "                        })                };                });            </script>        </div>"
      ]
     },
     "metadata": {},
     "output_type": "display_data"
    }
   ],
   "source": [
    "# # Violation Plots\n",
    "\n",
    "import plotly.express as px\n",
    "import plotly.graph_objects as go\n",
    "\n",
    "\n",
    "fig = go.Figure()\n",
    "fig.add_trace(go.Scatter(\n",
    "    x=df23[\"year\"],\n",
    "    y=df23['10_k'],\n",
    "    name='10-K',\n",
    "    mode='lines+markers',\n",
    "    marker_color='#31417a'\n",
    "))\n",
    "fig.add_trace(go.Scatter(\n",
    "    x=df23[\"year\"],\n",
    "    y=df23['10_q'],\n",
    "    name='10-Q',\n",
    "    mode='lines+markers',\n",
    "    marker_color='#266399'\n",
    "))\n",
    "\n",
    "fig.add_trace(go.Scatter(\n",
    "    x=df23[\"year\"],\n",
    "    y=df23['8_k_whole'],\n",
    "    name='8-K',\n",
    "    mode='lines+markers',\n",
    "    marker_color='#1595c6'\n",
    "))\n",
    "\n",
    "\n",
    "\n",
    "\n",
    "# fig.update_traces(marker_color='#31417A')\n",
    "fig.update_layout(  \n",
    "     \n",
    "    font_family=\"Times New Roman\",    \n",
    "    title_font_family=\"Times New Roman\",\n",
    "    \n",
    "    xaxis=dict(showgrid=False),\n",
    "    yaxis=dict(showgrid=False),\n",
    "     font=dict(\n",
    "        \n",
    "        size=12,\n",
    "        \n",
    "    ),\n",
    "    xaxis_title=\"Year\",\n",
    "    yaxis_title=\"No of files\",\n",
    "    plot_bgcolor='#f2f2f2',  # Gray background color,\n",
    "    title={\n",
    "     'text':\"Yearly count of filings\",\n",
    "        'y':0.9,\n",
    "        'x':0.5,\n",
    "        'xanchor': 'center',\n",
    "        'yanchor': 'top'})\n",
    "fig.show()"
   ]
  },
  {
   "cell_type": "markdown",
   "id": "2c6f155c",
   "metadata": {},
   "source": [
    "### SIC wise covenant violation "
   ]
  },
  {
   "cell_type": "code",
   "execution_count": 526,
   "id": "360a4415",
   "metadata": {},
   "outputs": [
    {
     "data": {
      "text/html": [
       "<div>\n",
       "<style scoped>\n",
       "    .dataframe tbody tr th:only-of-type {\n",
       "        vertical-align: middle;\n",
       "    }\n",
       "\n",
       "    .dataframe tbody tr th {\n",
       "        vertical-align: top;\n",
       "    }\n",
       "\n",
       "    .dataframe thead th {\n",
       "        text-align: right;\n",
       "    }\n",
       "</style>\n",
       "<table border=\"1\" class=\"dataframe\">\n",
       "  <thead>\n",
       "    <tr style=\"text-align: right;\">\n",
       "      <th></th>\n",
       "      <th>file_path</th>\n",
       "      <th>html_path</th>\n",
       "      <th>reporting_date</th>\n",
       "      <th>filing_date</th>\n",
       "      <th>violation_info</th>\n",
       "      <th>ishtml</th>\n",
       "      <th>extraction_data</th>\n",
       "      <th>extraction_data_len</th>\n",
       "      <th>filing_type</th>\n",
       "      <th>year</th>\n",
       "      <th>...</th>\n",
       "      <th>predicted_label</th>\n",
       "      <th>extraction_data_cove</th>\n",
       "      <th>cik</th>\n",
       "      <th>reporting_date_month</th>\n",
       "      <th>quarter_name</th>\n",
       "      <th>isviolated</th>\n",
       "      <th>isamended</th>\n",
       "      <th>next_10k</th>\n",
       "      <th>new_violation</th>\n",
       "      <th>new_amendment</th>\n",
       "    </tr>\n",
       "  </thead>\n",
       "  <tbody>\n",
       "    <tr>\n",
       "      <th>0</th>\n",
       "      <td>F:\\Master_Thesis_NLP\\\\sec_filings_10QK\\1996\\10...</td>\n",
       "      <td>https://www.sec.gov/Archives/edgar/data/20/000...</td>\n",
       "      <td>1996-03-30</td>\n",
       "      <td>1996_05_02</td>\n",
       "      <td>1_2</td>\n",
       "      <td>False</td>\n",
       "      <td>[ND RESULTS OF OPERATIONS                     ...</td>\n",
       "      <td>2</td>\n",
       "      <td>10_Q</td>\n",
       "      <td>1996</td>\n",
       "      <td>...</td>\n",
       "      <td>1</td>\n",
       "      <td>[]</td>\n",
       "      <td>20</td>\n",
       "      <td>3</td>\n",
       "      <td></td>\n",
       "      <td>1</td>\n",
       "      <td>0</td>\n",
       "      <td>4</td>\n",
       "      <td>1</td>\n",
       "      <td>NaN</td>\n",
       "    </tr>\n",
       "    <tr>\n",
       "      <th>1</th>\n",
       "      <td>F:\\Master_Thesis_NLP\\\\sec_filings_10QK\\1996\\10...</td>\n",
       "      <td>https://www.sec.gov/Archives/edgar/data/20/000...</td>\n",
       "      <td>1996-06-29</td>\n",
       "      <td>1996_07_26</td>\n",
       "      <td>1_2</td>\n",
       "      <td>False</td>\n",
       "      <td>[PERATIONS                          SIX MONTHS...</td>\n",
       "      <td>2</td>\n",
       "      <td>10_Q</td>\n",
       "      <td>1996</td>\n",
       "      <td>...</td>\n",
       "      <td>1</td>\n",
       "      <td>[]</td>\n",
       "      <td>20</td>\n",
       "      <td>6</td>\n",
       "      <td></td>\n",
       "      <td>1</td>\n",
       "      <td>0</td>\n",
       "      <td>4</td>\n",
       "      <td>1</td>\n",
       "      <td>NaN</td>\n",
       "    </tr>\n",
       "    <tr>\n",
       "      <th>2</th>\n",
       "      <td>F:\\Master_Thesis_NLP\\\\sec_filings_10QK\\1996\\10...</td>\n",
       "      <td>https://www.sec.gov/Archives/edgar/data/20/000...</td>\n",
       "      <td>1996-09-28</td>\n",
       "      <td>1996_10_30</td>\n",
       "      <td>1_2</td>\n",
       "      <td>False</td>\n",
       "      <td>[TIONS                       NINE MONTHS ENDED...</td>\n",
       "      <td>2</td>\n",
       "      <td>10_Q</td>\n",
       "      <td>1996</td>\n",
       "      <td>...</td>\n",
       "      <td>1</td>\n",
       "      <td>[]</td>\n",
       "      <td>20</td>\n",
       "      <td>9</td>\n",
       "      <td></td>\n",
       "      <td>1</td>\n",
       "      <td>0</td>\n",
       "      <td>4</td>\n",
       "      <td>1</td>\n",
       "      <td>NaN</td>\n",
       "    </tr>\n",
       "    <tr>\n",
       "      <th>3</th>\n",
       "      <td>F:\\Master_Thesis_NLP\\\\sec_filings_10QK\\1996\\10...</td>\n",
       "      <td>https://www.sec.gov/Archives/edgar/data/20/000...</td>\n",
       "      <td>1996-12-28</td>\n",
       "      <td>1997_03_19</td>\n",
       "      <td>1_2</td>\n",
       "      <td>False</td>\n",
       "      <td>[ discontinuance of the Company s other Colort...</td>\n",
       "      <td>1</td>\n",
       "      <td>10_K</td>\n",
       "      <td>1996</td>\n",
       "      <td>...</td>\n",
       "      <td>1</td>\n",
       "      <td>[]</td>\n",
       "      <td>20</td>\n",
       "      <td>12</td>\n",
       "      <td></td>\n",
       "      <td>1</td>\n",
       "      <td>0</td>\n",
       "      <td>4</td>\n",
       "      <td>1</td>\n",
       "      <td>NaN</td>\n",
       "    </tr>\n",
       "    <tr>\n",
       "      <th>4</th>\n",
       "      <td>F:\\Master_Thesis_NLP\\\\sec_filings_10QK\\1997\\10...</td>\n",
       "      <td>https://www.sec.gov/Archives/edgar/data/20/000...</td>\n",
       "      <td>1997-03-29</td>\n",
       "      <td>1997_04_30</td>\n",
       "      <td>0</td>\n",
       "      <td>False</td>\n",
       "      <td>[]</td>\n",
       "      <td>0</td>\n",
       "      <td>10_Q</td>\n",
       "      <td>1997</td>\n",
       "      <td>...</td>\n",
       "      <td>0</td>\n",
       "      <td>None</td>\n",
       "      <td>20</td>\n",
       "      <td>3</td>\n",
       "      <td></td>\n",
       "      <td>0</td>\n",
       "      <td>0</td>\n",
       "      <td>3</td>\n",
       "      <td>NaN</td>\n",
       "      <td>NaN</td>\n",
       "    </tr>\n",
       "  </tbody>\n",
       "</table>\n",
       "<p>5 rows × 21 columns</p>\n",
       "</div>"
      ],
      "text/plain": [
       "                                           file_path  \\\n",
       "0  F:\\Master_Thesis_NLP\\\\sec_filings_10QK\\1996\\10...   \n",
       "1  F:\\Master_Thesis_NLP\\\\sec_filings_10QK\\1996\\10...   \n",
       "2  F:\\Master_Thesis_NLP\\\\sec_filings_10QK\\1996\\10...   \n",
       "3  F:\\Master_Thesis_NLP\\\\sec_filings_10QK\\1996\\10...   \n",
       "4  F:\\Master_Thesis_NLP\\\\sec_filings_10QK\\1997\\10...   \n",
       "\n",
       "                                           html_path reporting_date  \\\n",
       "0  https://www.sec.gov/Archives/edgar/data/20/000...     1996-03-30   \n",
       "1  https://www.sec.gov/Archives/edgar/data/20/000...     1996-06-29   \n",
       "2  https://www.sec.gov/Archives/edgar/data/20/000...     1996-09-28   \n",
       "3  https://www.sec.gov/Archives/edgar/data/20/000...     1996-12-28   \n",
       "4  https://www.sec.gov/Archives/edgar/data/20/000...     1997-03-29   \n",
       "\n",
       "  filing_date violation_info  ishtml  \\\n",
       "0  1996_05_02            1_2   False   \n",
       "1  1996_07_26            1_2   False   \n",
       "2  1996_10_30            1_2   False   \n",
       "3  1997_03_19            1_2   False   \n",
       "4  1997_04_30              0   False   \n",
       "\n",
       "                                     extraction_data  extraction_data_len  \\\n",
       "0  [ND RESULTS OF OPERATIONS                     ...                    2   \n",
       "1  [PERATIONS                          SIX MONTHS...                    2   \n",
       "2  [TIONS                       NINE MONTHS ENDED...                    2   \n",
       "3  [ discontinuance of the Company s other Colort...                    1   \n",
       "4                                                 []                    0   \n",
       "\n",
       "  filing_type  year  ... predicted_label  extraction_data_cove cik  \\\n",
       "0        10_Q  1996  ...               1                    []  20   \n",
       "1        10_Q  1996  ...               1                    []  20   \n",
       "2        10_Q  1996  ...               1                    []  20   \n",
       "3        10_K  1996  ...               1                    []  20   \n",
       "4        10_Q  1997  ...               0                  None  20   \n",
       "\n",
       "   reporting_date_month  quarter_name isviolated  isamended  next_10k  \\\n",
       "0                     3                        1          0         4   \n",
       "1                     6                        1          0         4   \n",
       "2                     9                        1          0         4   \n",
       "3                    12                        1          0         4   \n",
       "4                     3                        0          0         3   \n",
       "\n",
       "   new_violation  new_amendment  \n",
       "0              1            NaN  \n",
       "1              1            NaN  \n",
       "2              1            NaN  \n",
       "3              1            NaN  \n",
       "4            NaN            NaN  \n",
       "\n",
       "[5 rows x 21 columns]"
      ]
     },
     "execution_count": 526,
     "metadata": {},
     "output_type": "execute_result"
    }
   ],
   "source": [
    "df.head()"
   ]
  },
  {
   "cell_type": "code",
   "execution_count": 530,
   "id": "da072399",
   "metadata": {},
   "outputs": [],
   "source": [
    "data_folder = r\"C:\\Users\\Madduri\\OneDrive - fs-students.de\\FSFM_MADS\\Master_thesis\\data\\\\\"\n",
    "\n",
    "# the input file \n",
    "select_cik = pd.read_csv(data_folder + \"Fundamentals_quarterly94-22.csv\")"
   ]
  },
  {
   "cell_type": "code",
   "execution_count": 531,
   "id": "5916c6ba",
   "metadata": {},
   "outputs": [
    {
     "data": {
      "text/plain": [
       "(854915, 20)"
      ]
     },
     "execution_count": 531,
     "metadata": {},
     "output_type": "execute_result"
    }
   ],
   "source": [
    "select_cik.shape"
   ]
  },
  {
   "cell_type": "code",
   "execution_count": 532,
   "id": "1a0ee040",
   "metadata": {},
   "outputs": [
    {
     "data": {
      "text/html": [
       "<div>\n",
       "<style scoped>\n",
       "    .dataframe tbody tr th:only-of-type {\n",
       "        vertical-align: middle;\n",
       "    }\n",
       "\n",
       "    .dataframe tbody tr th {\n",
       "        vertical-align: top;\n",
       "    }\n",
       "\n",
       "    .dataframe thead th {\n",
       "        text-align: right;\n",
       "    }\n",
       "</style>\n",
       "<table border=\"1\" class=\"dataframe\">\n",
       "  <thead>\n",
       "    <tr style=\"text-align: right;\">\n",
       "      <th></th>\n",
       "      <th>gvkey</th>\n",
       "      <th>datadate</th>\n",
       "      <th>fyearq</th>\n",
       "      <th>fqtr</th>\n",
       "      <th>indfmt</th>\n",
       "      <th>consol</th>\n",
       "      <th>popsrc</th>\n",
       "      <th>datafmt</th>\n",
       "      <th>tic</th>\n",
       "      <th>conm</th>\n",
       "      <th>curcdq</th>\n",
       "      <th>datacqtr</th>\n",
       "      <th>datafqtr</th>\n",
       "      <th>atq</th>\n",
       "      <th>cshoq</th>\n",
       "      <th>saleq</th>\n",
       "      <th>cik</th>\n",
       "      <th>costat</th>\n",
       "      <th>prccq</th>\n",
       "      <th>sic</th>\n",
       "    </tr>\n",
       "  </thead>\n",
       "  <tbody>\n",
       "    <tr>\n",
       "      <th>0</th>\n",
       "      <td>1004</td>\n",
       "      <td>19960229</td>\n",
       "      <td>1995</td>\n",
       "      <td>3</td>\n",
       "      <td>INDL</td>\n",
       "      <td>C</td>\n",
       "      <td>D</td>\n",
       "      <td>STD</td>\n",
       "      <td>AIR</td>\n",
       "      <td>AAR CORP</td>\n",
       "      <td>USD</td>\n",
       "      <td>1996Q1</td>\n",
       "      <td>1995Q3</td>\n",
       "      <td>429</td>\n",
       "      <td>16</td>\n",
       "      <td>136</td>\n",
       "      <td>1750</td>\n",
       "      <td>A</td>\n",
       "      <td>20</td>\n",
       "      <td>5080</td>\n",
       "    </tr>\n",
       "    <tr>\n",
       "      <th>1</th>\n",
       "      <td>1004</td>\n",
       "      <td>19960531</td>\n",
       "      <td>1995</td>\n",
       "      <td>4</td>\n",
       "      <td>INDL</td>\n",
       "      <td>C</td>\n",
       "      <td>D</td>\n",
       "      <td>STD</td>\n",
       "      <td>AIR</td>\n",
       "      <td>AAR CORP</td>\n",
       "      <td>USD</td>\n",
       "      <td>1996Q2</td>\n",
       "      <td>1995Q4</td>\n",
       "      <td>438</td>\n",
       "      <td>16</td>\n",
       "      <td>138</td>\n",
       "      <td>1750</td>\n",
       "      <td>A</td>\n",
       "      <td>22</td>\n",
       "      <td>5080</td>\n",
       "    </tr>\n",
       "    <tr>\n",
       "      <th>2</th>\n",
       "      <td>1004</td>\n",
       "      <td>19960831</td>\n",
       "      <td>1996</td>\n",
       "      <td>1</td>\n",
       "      <td>INDL</td>\n",
       "      <td>C</td>\n",
       "      <td>D</td>\n",
       "      <td>STD</td>\n",
       "      <td>AIR</td>\n",
       "      <td>AAR CORP</td>\n",
       "      <td>USD</td>\n",
       "      <td>1996Q3</td>\n",
       "      <td>1996Q1</td>\n",
       "      <td>450</td>\n",
       "      <td>16</td>\n",
       "      <td>136</td>\n",
       "      <td>1750</td>\n",
       "      <td>A</td>\n",
       "      <td>22</td>\n",
       "      <td>5080</td>\n",
       "    </tr>\n",
       "    <tr>\n",
       "      <th>3</th>\n",
       "      <td>1004</td>\n",
       "      <td>19961130</td>\n",
       "      <td>1996</td>\n",
       "      <td>2</td>\n",
       "      <td>INDL</td>\n",
       "      <td>C</td>\n",
       "      <td>D</td>\n",
       "      <td>STD</td>\n",
       "      <td>AIR</td>\n",
       "      <td>AAR CORP</td>\n",
       "      <td>USD</td>\n",
       "      <td>1996Q4</td>\n",
       "      <td>1996Q2</td>\n",
       "      <td>469</td>\n",
       "      <td>16</td>\n",
       "      <td>136</td>\n",
       "      <td>1750</td>\n",
       "      <td>A</td>\n",
       "      <td>30</td>\n",
       "      <td>5080</td>\n",
       "    </tr>\n",
       "    <tr>\n",
       "      <th>4</th>\n",
       "      <td>1004</td>\n",
       "      <td>19970228</td>\n",
       "      <td>1996</td>\n",
       "      <td>3</td>\n",
       "      <td>INDL</td>\n",
       "      <td>C</td>\n",
       "      <td>D</td>\n",
       "      <td>STD</td>\n",
       "      <td>AIR</td>\n",
       "      <td>AAR CORP</td>\n",
       "      <td>USD</td>\n",
       "      <td>1997Q1</td>\n",
       "      <td>1996Q3</td>\n",
       "      <td>524</td>\n",
       "      <td>18</td>\n",
       "      <td>154</td>\n",
       "      <td>1750</td>\n",
       "      <td>A</td>\n",
       "      <td>26</td>\n",
       "      <td>5080</td>\n",
       "    </tr>\n",
       "  </tbody>\n",
       "</table>\n",
       "</div>"
      ],
      "text/plain": [
       "   gvkey  datadate  fyearq  fqtr indfmt consol popsrc datafmt  tic      conm  \\\n",
       "0   1004  19960229    1995     3   INDL      C      D     STD  AIR  AAR CORP   \n",
       "1   1004  19960531    1995     4   INDL      C      D     STD  AIR  AAR CORP   \n",
       "2   1004  19960831    1996     1   INDL      C      D     STD  AIR  AAR CORP   \n",
       "3   1004  19961130    1996     2   INDL      C      D     STD  AIR  AAR CORP   \n",
       "4   1004  19970228    1996     3   INDL      C      D     STD  AIR  AAR CORP   \n",
       "\n",
       "  curcdq datacqtr datafqtr  atq  cshoq  saleq  cik costat  prccq   sic  \n",
       "0    USD   1996Q1   1995Q3  429     16    136 1750      A     20  5080  \n",
       "1    USD   1996Q2   1995Q4  438     16    138 1750      A     22  5080  \n",
       "2    USD   1996Q3   1996Q1  450     16    136 1750      A     22  5080  \n",
       "3    USD   1996Q4   1996Q2  469     16    136 1750      A     30  5080  \n",
       "4    USD   1997Q1   1996Q3  524     18    154 1750      A     26  5080  "
      ]
     },
     "execution_count": 532,
     "metadata": {},
     "output_type": "execute_result"
    }
   ],
   "source": [
    "select_cik.head()"
   ]
  },
  {
   "cell_type": "code",
   "execution_count": 533,
   "id": "b22491f4",
   "metadata": {},
   "outputs": [],
   "source": [
    "select_cik = select_cik[['cik','sic']].drop_duplicates() "
   ]
  },
  {
   "cell_type": "code",
   "execution_count": 537,
   "id": "c95e7e81",
   "metadata": {},
   "outputs": [],
   "source": [
    "df = df.merge(select_cik, how='left')"
   ]
  },
  {
   "cell_type": "code",
   "execution_count": 538,
   "id": "7b4b5d47",
   "metadata": {},
   "outputs": [
    {
     "data": {
      "text/plain": [
       "6020    45517\n",
       "2836    26294\n",
       "6798    21931\n",
       "7370    21758\n",
       "7372    20496\n",
       "        ...  \n",
       "4961       16\n",
       "8600       16\n",
       "5064       14\n",
       "4900        9\n",
       "5271        2\n",
       "Name: sic, Length: 443, dtype: int64"
      ]
     },
     "execution_count": 538,
     "metadata": {},
     "output_type": "execute_result"
    }
   ],
   "source": [
    "df.sic.value_counts()"
   ]
  },
  {
   "cell_type": "code",
   "execution_count": 539,
   "id": "93098ec4",
   "metadata": {},
   "outputs": [],
   "source": [
    "df_sic = pd.read_excel(data_folder + \"sic_info.xlsx\")"
   ]
  },
  {
   "cell_type": "code",
   "execution_count": 544,
   "id": "1226b9cc",
   "metadata": {},
   "outputs": [
    {
     "name": "stderr",
     "output_type": "stream",
     "text": [
      "C:\\Users\\Madduri\\AppData\\Local\\Temp\\ipykernel_29680\\3942156032.py:1: FutureWarning:\n",
      "\n",
      "In a future version of pandas all arguments of StringMethods.split except for the argument 'pat' will be keyword-only.\n",
      "\n"
     ]
    }
   ],
   "source": [
    "df_sic[['SIC_range_start','SIC_range_end']] = df_sic['SIC_range'].str.split('-', 1, expand=True)"
   ]
  },
  {
   "cell_type": "code",
   "execution_count": 545,
   "id": "bf1df908",
   "metadata": {},
   "outputs": [
    {
     "data": {
      "text/html": [
       "<div>\n",
       "<style scoped>\n",
       "    .dataframe tbody tr th:only-of-type {\n",
       "        vertical-align: middle;\n",
       "    }\n",
       "\n",
       "    .dataframe tbody tr th {\n",
       "        vertical-align: top;\n",
       "    }\n",
       "\n",
       "    .dataframe thead th {\n",
       "        text-align: right;\n",
       "    }\n",
       "</style>\n",
       "<table border=\"1\" class=\"dataframe\">\n",
       "  <thead>\n",
       "    <tr style=\"text-align: right;\">\n",
       "      <th></th>\n",
       "      <th>SIC_range</th>\n",
       "      <th>Classification</th>\n",
       "      <th>SIC_range_start</th>\n",
       "      <th>SIC_range_end</th>\n",
       "    </tr>\n",
       "  </thead>\n",
       "  <tbody>\n",
       "    <tr>\n",
       "      <th>0</th>\n",
       "      <td>0100-0999</td>\n",
       "      <td>Agriculture, forestry and fishing</td>\n",
       "      <td>0100</td>\n",
       "      <td>0999</td>\n",
       "    </tr>\n",
       "    <tr>\n",
       "      <th>1</th>\n",
       "      <td>1000-1499</td>\n",
       "      <td>Mining</td>\n",
       "      <td>1000</td>\n",
       "      <td>1499</td>\n",
       "    </tr>\n",
       "    <tr>\n",
       "      <th>2</th>\n",
       "      <td>1500-1799</td>\n",
       "      <td>Construction</td>\n",
       "      <td>1500</td>\n",
       "      <td>1799</td>\n",
       "    </tr>\n",
       "    <tr>\n",
       "      <th>3</th>\n",
       "      <td>2000-3999</td>\n",
       "      <td>Manufacturing</td>\n",
       "      <td>2000</td>\n",
       "      <td>3999</td>\n",
       "    </tr>\n",
       "    <tr>\n",
       "      <th>4</th>\n",
       "      <td>4000-4999</td>\n",
       "      <td>Transportation, communications, electric, gas ...</td>\n",
       "      <td>4000</td>\n",
       "      <td>4999</td>\n",
       "    </tr>\n",
       "    <tr>\n",
       "      <th>5</th>\n",
       "      <td>5000-5199</td>\n",
       "      <td>Wholesale trade</td>\n",
       "      <td>5000</td>\n",
       "      <td>5199</td>\n",
       "    </tr>\n",
       "    <tr>\n",
       "      <th>6</th>\n",
       "      <td>5200-5999</td>\n",
       "      <td>Retail trade</td>\n",
       "      <td>5200</td>\n",
       "      <td>5999</td>\n",
       "    </tr>\n",
       "    <tr>\n",
       "      <th>7</th>\n",
       "      <td>6000-6799</td>\n",
       "      <td>Finance, insurance and real estate</td>\n",
       "      <td>6000</td>\n",
       "      <td>6799</td>\n",
       "    </tr>\n",
       "    <tr>\n",
       "      <th>8</th>\n",
       "      <td>7000-8999</td>\n",
       "      <td>Services</td>\n",
       "      <td>7000</td>\n",
       "      <td>8999</td>\n",
       "    </tr>\n",
       "  </tbody>\n",
       "</table>\n",
       "</div>"
      ],
      "text/plain": [
       "   SIC_range                                     Classification  \\\n",
       "0  0100-0999                  Agriculture, forestry and fishing   \n",
       "1  1000-1499                                             Mining   \n",
       "2  1500-1799                                       Construction   \n",
       "3  2000-3999                                      Manufacturing   \n",
       "4  4000-4999  Transportation, communications, electric, gas ...   \n",
       "5  5000-5199                                    Wholesale trade   \n",
       "6  5200-5999                                       Retail trade   \n",
       "7  6000-6799                 Finance, insurance and real estate   \n",
       "8  7000-8999                                           Services   \n",
       "\n",
       "  SIC_range_start SIC_range_end  \n",
       "0            0100          0999  \n",
       "1            1000          1499  \n",
       "2            1500          1799  \n",
       "3            2000          3999  \n",
       "4            4000          4999  \n",
       "5            5000          5199  \n",
       "6            5200          5999  \n",
       "7            6000          6799  \n",
       "8            7000          8999  "
      ]
     },
     "execution_count": 545,
     "metadata": {},
     "output_type": "execute_result"
    }
   ],
   "source": [
    "df_sic"
   ]
  },
  {
   "cell_type": "code",
   "execution_count": 557,
   "id": "b38d40f1",
   "metadata": {},
   "outputs": [],
   "source": [
    "df_sic['SIC_range_start'] = df_sic['SIC_range_start'].astype(int)\n",
    "df_sic['SIC_range_end'] = df_sic['SIC_range_end'].astype(int)"
   ]
  },
  {
   "cell_type": "code",
   "execution_count": 552,
   "id": "54c09a41",
   "metadata": {},
   "outputs": [],
   "source": [
    "comp_sic = pd.DataFrame(df.sic.unique(), columns=['SIC'])"
   ]
  },
  {
   "cell_type": "code",
   "execution_count": 555,
   "id": "bd47aab5",
   "metadata": {},
   "outputs": [],
   "source": [
    "comp_sic['SIC'] = comp_sic['SIC'].fillna(0).astype(int)"
   ]
  },
  {
   "cell_type": "code",
   "execution_count": 576,
   "id": "5a10f0d7",
   "metadata": {},
   "outputs": [],
   "source": [
    "comp_sic['SIC_class'] = ''"
   ]
  },
  {
   "cell_type": "code",
   "execution_count": 589,
   "id": "1f64ecca",
   "metadata": {},
   "outputs": [],
   "source": [
    "for class_name  in df_sic['Classification'].unique():\n",
    "    sl = df_sic[df_sic['Classification'] == class_name]\n",
    "    comp_sic['SIC_class'] = np.where(comp_sic['SIC'].between(sl['SIC_range_start'].values[0], sl['SIC_range_end'].values[0]), \n",
    "                                                             class_name, \n",
    "                                                             comp_sic['SIC_class'])"
   ]
  },
  {
   "cell_type": "code",
   "execution_count": 590,
   "id": "f91a57df",
   "metadata": {},
   "outputs": [
    {
     "data": {
      "text/plain": [
       "0      3823\n",
       "1      5080\n",
       "2      2670\n",
       "3      3845\n",
       "4      8700\n",
       "       ... \n",
       "439    8600\n",
       "440    8900\n",
       "441    2092\n",
       "442    6022\n",
       "443    4900\n",
       "Name: SIC, Length: 444, dtype: int32"
      ]
     },
     "execution_count": 590,
     "metadata": {},
     "output_type": "execute_result"
    }
   ],
   "source": [
    "comp_sic['SIC']"
   ]
  },
  {
   "cell_type": "code",
   "execution_count": 591,
   "id": "a4d1c2f5",
   "metadata": {},
   "outputs": [
    {
     "data": {
      "text/html": [
       "<div>\n",
       "<style scoped>\n",
       "    .dataframe tbody tr th:only-of-type {\n",
       "        vertical-align: middle;\n",
       "    }\n",
       "\n",
       "    .dataframe tbody tr th {\n",
       "        vertical-align: top;\n",
       "    }\n",
       "\n",
       "    .dataframe thead th {\n",
       "        text-align: right;\n",
       "    }\n",
       "</style>\n",
       "<table border=\"1\" class=\"dataframe\">\n",
       "  <thead>\n",
       "    <tr style=\"text-align: right;\">\n",
       "      <th></th>\n",
       "      <th>SIC</th>\n",
       "      <th>SIC_class</th>\n",
       "    </tr>\n",
       "  </thead>\n",
       "  <tbody>\n",
       "    <tr>\n",
       "      <th>0</th>\n",
       "      <td>3823</td>\n",
       "      <td>Manufacturing</td>\n",
       "    </tr>\n",
       "    <tr>\n",
       "      <th>1</th>\n",
       "      <td>5080</td>\n",
       "      <td>Wholesale trade</td>\n",
       "    </tr>\n",
       "    <tr>\n",
       "      <th>2</th>\n",
       "      <td>2670</td>\n",
       "      <td>Manufacturing</td>\n",
       "    </tr>\n",
       "    <tr>\n",
       "      <th>3</th>\n",
       "      <td>3845</td>\n",
       "      <td>Manufacturing</td>\n",
       "    </tr>\n",
       "    <tr>\n",
       "      <th>4</th>\n",
       "      <td>8700</td>\n",
       "      <td>Services</td>\n",
       "    </tr>\n",
       "    <tr>\n",
       "      <th>...</th>\n",
       "      <td>...</td>\n",
       "      <td>...</td>\n",
       "    </tr>\n",
       "    <tr>\n",
       "      <th>439</th>\n",
       "      <td>8600</td>\n",
       "      <td>Services</td>\n",
       "    </tr>\n",
       "    <tr>\n",
       "      <th>440</th>\n",
       "      <td>8900</td>\n",
       "      <td>Services</td>\n",
       "    </tr>\n",
       "    <tr>\n",
       "      <th>441</th>\n",
       "      <td>2092</td>\n",
       "      <td>Manufacturing</td>\n",
       "    </tr>\n",
       "    <tr>\n",
       "      <th>442</th>\n",
       "      <td>6022</td>\n",
       "      <td>Finance, insurance and real estate</td>\n",
       "    </tr>\n",
       "    <tr>\n",
       "      <th>443</th>\n",
       "      <td>4900</td>\n",
       "      <td>Transportation, communications, electric, gas ...</td>\n",
       "    </tr>\n",
       "  </tbody>\n",
       "</table>\n",
       "<p>444 rows × 2 columns</p>\n",
       "</div>"
      ],
      "text/plain": [
       "      SIC                                          SIC_class\n",
       "0    3823                                      Manufacturing\n",
       "1    5080                                    Wholesale trade\n",
       "2    2670                                      Manufacturing\n",
       "3    3845                                      Manufacturing\n",
       "4    8700                                           Services\n",
       "..    ...                                                ...\n",
       "439  8600                                           Services\n",
       "440  8900                                           Services\n",
       "441  2092                                      Manufacturing\n",
       "442  6022                 Finance, insurance and real estate\n",
       "443  4900  Transportation, communications, electric, gas ...\n",
       "\n",
       "[444 rows x 2 columns]"
      ]
     },
     "execution_count": 591,
     "metadata": {},
     "output_type": "execute_result"
    }
   ],
   "source": [
    "comp_sic"
   ]
  },
  {
   "cell_type": "code",
   "execution_count": 604,
   "id": "36ddfc17",
   "metadata": {},
   "outputs": [
    {
     "data": {
      "text/plain": [
       "Manufacturing                                                         217\n",
       "Services                                                               62\n",
       "Finance, insurance and real estate                                     39\n",
       "Transportation, communications, electric, gas and sanitary service     36\n",
       "Wholesale trade                                                        33\n",
       "Retail trade                                                           30\n",
       "Mining                                                                 11\n",
       "Construction                                                            7\n",
       "Agriculture, forestry and fishing                                       5\n",
       "                                                                        4\n",
       "Name: SIC_class, dtype: int64"
      ]
     },
     "execution_count": 604,
     "metadata": {},
     "output_type": "execute_result"
    }
   ],
   "source": [
    "comp_sic['SIC_class'].value_counts(dropna=False)"
   ]
  },
  {
   "cell_type": "code",
   "execution_count": 594,
   "id": "1b348d4f",
   "metadata": {},
   "outputs": [],
   "source": [
    "df = df.merge(comp_sic, \n",
    "         how='left', \n",
    "         left_on = 'sic', \n",
    "         right_on = 'SIC')"
   ]
  },
  {
   "cell_type": "code",
   "execution_count": 607,
   "id": "12bb896a",
   "metadata": {},
   "outputs": [
    {
     "data": {
      "text/plain": [
       "Manufacturing                                                         220536\n",
       "Finance, insurance and real estate                                    128357\n",
       "Services                                                              100002\n",
       "Transportation, communications, electric, gas and sanitary service     42913\n",
       "Retail trade                                                           30758\n",
       "Mining                                                                 28326\n",
       "Wholesale trade                                                        17338\n",
       "                                                                        7973\n",
       "Construction                                                            6155\n",
       "Agriculture, forestry and fishing                                       2011\n",
       "0                                                                         47\n",
       "Name: SIC_class, dtype: int64"
      ]
     },
     "execution_count": 607,
     "metadata": {},
     "output_type": "execute_result"
    }
   ],
   "source": [
    "df['SIC_class'].value_counts(dropna=False)"
   ]
  },
  {
   "cell_type": "code",
   "execution_count": 609,
   "id": "94a456c5",
   "metadata": {},
   "outputs": [
    {
     "data": {
      "text/plain": [
       "array(['Manufacturing', 'Wholesale\\xa0trade', 'Services', 'Construction',\n",
       "       'Transportation, communications, electric, gas and sanitary service',\n",
       "       'Finance,\\xa0insurance\\xa0and\\xa0real estate', 'Retail\\xa0trade',\n",
       "       'Agriculture,\\xa0forestry\\xa0and\\xa0fishing', 'Mining', '', 0],\n",
       "      dtype=object)"
      ]
     },
     "execution_count": 609,
     "metadata": {},
     "output_type": "execute_result"
    }
   ],
   "source": [
    "df['SIC_class'].unique()"
   ]
  },
  {
   "cell_type": "code",
   "execution_count": 614,
   "id": "af0518c0",
   "metadata": {},
   "outputs": [],
   "source": [
    "df['SIC_class'] = np.where(df['SIC_class'] == '', 'others', df['SIC_class'])\n",
    "df['SIC_class'] = np.where(df['SIC_class'] == 0, 'others', df['SIC_class'])"
   ]
  },
  {
   "cell_type": "code",
   "execution_count": 648,
   "id": "b0958bc0",
   "metadata": {},
   "outputs": [],
   "source": [
    "from IPython.display import display\n",
    "pd.options.display.float_format = '{:,.4f}'.format"
   ]
  },
  {
   "cell_type": "code",
   "execution_count": 643,
   "id": "bd9612d6",
   "metadata": {},
   "outputs": [],
   "source": [
    "df.fillna(0, inplace=True)"
   ]
  },
  {
   "cell_type": "code",
   "execution_count": 649,
   "id": "44d91efb",
   "metadata": {},
   "outputs": [],
   "source": [
    "summary_sic = df.pivot_table(index=['SIC_class'], \n",
    "                             values=['new_violation','new_amendment'], \n",
    "                             aggfunc=np.sum)"
   ]
  },
  {
   "cell_type": "code",
   "execution_count": 650,
   "id": "bea1c53d",
   "metadata": {},
   "outputs": [],
   "source": [
    "summary_sic.reset_index(inplace=True)"
   ]
  },
  {
   "cell_type": "code",
   "execution_count": 651,
   "id": "8c23ab37",
   "metadata": {},
   "outputs": [],
   "source": [
    "summary_sic['new_amendment'] = summary_sic['new_amendment']/summary_sic['new_amendment'].sum()\n",
    "summary_sic['new_violation'] = summary_sic['new_violation']/summary_sic['new_violation'].sum()"
   ]
  },
  {
   "cell_type": "code",
   "execution_count": 636,
   "id": "58a23e48",
   "metadata": {},
   "outputs": [],
   "source": [
    "pd.set_option('display.precision', 2)"
   ]
  },
  {
   "cell_type": "code",
   "execution_count": 655,
   "id": "ae301e7b",
   "metadata": {},
   "outputs": [
    {
     "data": {
      "text/html": [
       "<div>\n",
       "<style scoped>\n",
       "    .dataframe tbody tr th:only-of-type {\n",
       "        vertical-align: middle;\n",
       "    }\n",
       "\n",
       "    .dataframe tbody tr th {\n",
       "        vertical-align: top;\n",
       "    }\n",
       "\n",
       "    .dataframe thead th {\n",
       "        text-align: right;\n",
       "    }\n",
       "</style>\n",
       "<table border=\"1\" class=\"dataframe\">\n",
       "  <thead>\n",
       "    <tr style=\"text-align: right;\">\n",
       "      <th></th>\n",
       "      <th>SIC_class</th>\n",
       "      <th>new_amendment</th>\n",
       "      <th>new_violation</th>\n",
       "    </tr>\n",
       "  </thead>\n",
       "  <tbody>\n",
       "    <tr>\n",
       "      <th>0</th>\n",
       "      <td>Agriculture, forestry and fishing</td>\n",
       "      <td>0.0039</td>\n",
       "      <td>0.0023</td>\n",
       "    </tr>\n",
       "    <tr>\n",
       "      <th>1</th>\n",
       "      <td>Construction</td>\n",
       "      <td>0.0155</td>\n",
       "      <td>0.0173</td>\n",
       "    </tr>\n",
       "    <tr>\n",
       "      <th>2</th>\n",
       "      <td>Finance, insurance and real estate</td>\n",
       "      <td>0.1105</td>\n",
       "      <td>0.1472</td>\n",
       "    </tr>\n",
       "    <tr>\n",
       "      <th>3</th>\n",
       "      <td>Manufacturing</td>\n",
       "      <td>0.4088</td>\n",
       "      <td>0.3873</td>\n",
       "    </tr>\n",
       "    <tr>\n",
       "      <th>4</th>\n",
       "      <td>Mining</td>\n",
       "      <td>0.0536</td>\n",
       "      <td>0.0673</td>\n",
       "    </tr>\n",
       "    <tr>\n",
       "      <th>5</th>\n",
       "      <td>Retail trade</td>\n",
       "      <td>0.0685</td>\n",
       "      <td>0.0530</td>\n",
       "    </tr>\n",
       "    <tr>\n",
       "      <th>6</th>\n",
       "      <td>Services</td>\n",
       "      <td>0.2036</td>\n",
       "      <td>0.1866</td>\n",
       "    </tr>\n",
       "    <tr>\n",
       "      <th>7</th>\n",
       "      <td>Transportation, communications, electric, gas ...</td>\n",
       "      <td>0.0865</td>\n",
       "      <td>0.0859</td>\n",
       "    </tr>\n",
       "    <tr>\n",
       "      <th>8</th>\n",
       "      <td>Wholesale trade</td>\n",
       "      <td>0.0406</td>\n",
       "      <td>0.0394</td>\n",
       "    </tr>\n",
       "    <tr>\n",
       "      <th>9</th>\n",
       "      <td>others</td>\n",
       "      <td>0.0085</td>\n",
       "      <td>0.0136</td>\n",
       "    </tr>\n",
       "  </tbody>\n",
       "</table>\n",
       "</div>"
      ],
      "text/plain": [
       "                                           SIC_class  new_amendment  \\\n",
       "0                  Agriculture, forestry and fishing         0.0039   \n",
       "1                                       Construction         0.0155   \n",
       "2                 Finance, insurance and real estate         0.1105   \n",
       "3                                      Manufacturing         0.4088   \n",
       "4                                             Mining         0.0536   \n",
       "5                                       Retail trade         0.0685   \n",
       "6                                           Services         0.2036   \n",
       "7  Transportation, communications, electric, gas ...         0.0865   \n",
       "8                                    Wholesale trade         0.0406   \n",
       "9                                             others         0.0085   \n",
       "\n",
       "   new_violation  \n",
       "0         0.0023  \n",
       "1         0.0173  \n",
       "2         0.1472  \n",
       "3         0.3873  \n",
       "4         0.0673  \n",
       "5         0.0530  \n",
       "6         0.1866  \n",
       "7         0.0859  \n",
       "8         0.0394  \n",
       "9         0.0136  "
      ]
     },
     "execution_count": 655,
     "metadata": {},
     "output_type": "execute_result"
    }
   ],
   "source": [
    "summary_sic"
   ]
  },
  {
   "cell_type": "code",
   "execution_count": 654,
   "id": "e08ce189",
   "metadata": {},
   "outputs": [],
   "source": [
    "summary_sic.to_excel(\"SIC_summary.xlsx\", index=False)"
   ]
  },
  {
   "cell_type": "markdown",
   "id": "6c5ff2fd",
   "metadata": {},
   "source": [
    "# Appendix\n",
    "## Company Specific analysis"
   ]
  },
  {
   "cell_type": "markdown",
   "id": "0be3726d",
   "metadata": {},
   "source": [
    "### List the companies based on the violation and amendment count"
   ]
  },
  {
   "cell_type": "code",
   "execution_count": 504,
   "id": "6c9bdc2b",
   "metadata": {},
   "outputs": [
    {
     "data": {
      "text/plain": [
       "1287750    71\n",
       "1326003    53\n",
       "1476765    47\n",
       "1019849    44\n",
       "784539     42\n",
       "           ..\n",
       "904901      1\n",
       "901077      1\n",
       "900091      1\n",
       "899597      1\n",
       "1850079     1\n",
       "Name: cik, Length: 2342, dtype: int64"
      ]
     },
     "execution_count": 504,
     "metadata": {},
     "output_type": "execute_result"
    }
   ],
   "source": [
    "## Violations\n",
    "new_df2[(new_df2['predicted_label']==1)]['cik'].value_counts()"
   ]
  },
  {
   "cell_type": "code",
   "execution_count": 500,
   "id": "9ab4c63e",
   "metadata": {},
   "outputs": [
    {
     "data": {
      "text/html": [
       "<div>\n",
       "<style scoped>\n",
       "    .dataframe tbody tr th:only-of-type {\n",
       "        vertical-align: middle;\n",
       "    }\n",
       "\n",
       "    .dataframe tbody tr th {\n",
       "        vertical-align: top;\n",
       "    }\n",
       "\n",
       "    .dataframe thead th {\n",
       "        text-align: right;\n",
       "    }\n",
       "</style>\n",
       "<table border=\"1\" class=\"dataframe\">\n",
       "  <thead>\n",
       "    <tr style=\"text-align: right;\">\n",
       "      <th></th>\n",
       "      <th>file_path</th>\n",
       "      <th>html_path</th>\n",
       "      <th>reporting_date</th>\n",
       "      <th>filing_date</th>\n",
       "      <th>violation_info</th>\n",
       "      <th>ishtml</th>\n",
       "      <th>extraction_data</th>\n",
       "      <th>extraction_data_len</th>\n",
       "      <th>filing_type</th>\n",
       "      <th>predicted_label</th>\n",
       "      <th>year</th>\n",
       "      <th>date_extracted</th>\n",
       "      <th>extraction_data_cove</th>\n",
       "      <th>cik</th>\n",
       "      <th>reporting_date_month</th>\n",
       "      <th>isviolated</th>\n",
       "      <th>isamended</th>\n",
       "    </tr>\n",
       "  </thead>\n",
       "  <tbody>\n",
       "    <tr>\n",
       "      <th>468222</th>\n",
       "      <td>F:\\Master_Thesis_NLP\\\\sec_filings_10QK\\2004\\10...</td>\n",
       "      <td>https://www.sec.gov/Archives/edgar/data/128775...</td>\n",
       "      <td>2004-12-31</td>\n",
       "      <td>2005_03_30</td>\n",
       "      <td>1_2</td>\n",
       "      <td>True</td>\n",
       "      <td>[rming as expected and the risk factors are ne...</td>\n",
       "      <td>2</td>\n",
       "      <td>10_K</td>\n",
       "      <td>1</td>\n",
       "      <td>2004</td>\n",
       "      <td>[]</td>\n",
       "      <td>[]</td>\n",
       "      <td>1287750</td>\n",
       "      <td>12</td>\n",
       "      <td>1</td>\n",
       "      <td>0</td>\n",
       "    </tr>\n",
       "    <tr>\n",
       "      <th>468223</th>\n",
       "      <td>F:\\Master_Thesis_NLP\\\\sec_filings_10QK\\2005\\10...</td>\n",
       "      <td>https://www.sec.gov/Archives/edgar/data/128775...</td>\n",
       "      <td>2005-03-31</td>\n",
       "      <td>2005_05_04</td>\n",
       "      <td>1_2</td>\n",
       "      <td>True</td>\n",
       "      <td>[rming as expected and the risk factors are ne...</td>\n",
       "      <td>2</td>\n",
       "      <td>10_Q</td>\n",
       "      <td>1</td>\n",
       "      <td>2005</td>\n",
       "      <td>[]</td>\n",
       "      <td>[]</td>\n",
       "      <td>1287750</td>\n",
       "      <td>3</td>\n",
       "      <td>1</td>\n",
       "      <td>0</td>\n",
       "    </tr>\n",
       "    <tr>\n",
       "      <th>468224</th>\n",
       "      <td>F:\\Master_Thesis_NLP\\\\sec_filings_10QK\\2005\\10...</td>\n",
       "      <td>https://www.sec.gov/Archives/edgar/data/128775...</td>\n",
       "      <td>2005-06-30</td>\n",
       "      <td>2005_08_08</td>\n",
       "      <td>1_2</td>\n",
       "      <td>True</td>\n",
       "      <td>[rming as expected and the risk factors are ne...</td>\n",
       "      <td>2</td>\n",
       "      <td>10_Q</td>\n",
       "      <td>1</td>\n",
       "      <td>2005</td>\n",
       "      <td>[]</td>\n",
       "      <td>[]</td>\n",
       "      <td>1287750</td>\n",
       "      <td>6</td>\n",
       "      <td>1</td>\n",
       "      <td>0</td>\n",
       "    </tr>\n",
       "    <tr>\n",
       "      <th>468225</th>\n",
       "      <td>F:\\Master_Thesis_NLP\\\\sec_filings_10QK\\2005\\10...</td>\n",
       "      <td>https://www.sec.gov/Archives/edgar/data/128775...</td>\n",
       "      <td>2005-09-30</td>\n",
       "      <td>2005_11_14</td>\n",
       "      <td>1_2</td>\n",
       "      <td>True</td>\n",
       "      <td>[rming as expected and the risk factors are ne...</td>\n",
       "      <td>2</td>\n",
       "      <td>10_Q</td>\n",
       "      <td>1</td>\n",
       "      <td>2005</td>\n",
       "      <td>[]</td>\n",
       "      <td>[]</td>\n",
       "      <td>1287750</td>\n",
       "      <td>9</td>\n",
       "      <td>1</td>\n",
       "      <td>0</td>\n",
       "    </tr>\n",
       "    <tr>\n",
       "      <th>468226</th>\n",
       "      <td>F:\\Master_Thesis_NLP\\\\sec_filings_10QK\\2005\\10...</td>\n",
       "      <td>https://www.sec.gov/Archives/edgar/data/128775...</td>\n",
       "      <td>2005-12-31</td>\n",
       "      <td>2006_02_28</td>\n",
       "      <td>1_2</td>\n",
       "      <td>True</td>\n",
       "      <td>[rming as expected and the risk factors are ne...</td>\n",
       "      <td>2</td>\n",
       "      <td>10_K</td>\n",
       "      <td>1</td>\n",
       "      <td>2005</td>\n",
       "      <td>[December 31, 2005]</td>\n",
       "      <td>[]</td>\n",
       "      <td>1287750</td>\n",
       "      <td>12</td>\n",
       "      <td>1</td>\n",
       "      <td>0</td>\n",
       "    </tr>\n",
       "  </tbody>\n",
       "</table>\n",
       "</div>"
      ],
      "text/plain": [
       "                                                file_path  \\\n",
       "468222  F:\\Master_Thesis_NLP\\\\sec_filings_10QK\\2004\\10...   \n",
       "468223  F:\\Master_Thesis_NLP\\\\sec_filings_10QK\\2005\\10...   \n",
       "468224  F:\\Master_Thesis_NLP\\\\sec_filings_10QK\\2005\\10...   \n",
       "468225  F:\\Master_Thesis_NLP\\\\sec_filings_10QK\\2005\\10...   \n",
       "468226  F:\\Master_Thesis_NLP\\\\sec_filings_10QK\\2005\\10...   \n",
       "\n",
       "                                                html_path reporting_date  \\\n",
       "468222  https://www.sec.gov/Archives/edgar/data/128775...     2004-12-31   \n",
       "468223  https://www.sec.gov/Archives/edgar/data/128775...     2005-03-31   \n",
       "468224  https://www.sec.gov/Archives/edgar/data/128775...     2005-06-30   \n",
       "468225  https://www.sec.gov/Archives/edgar/data/128775...     2005-09-30   \n",
       "468226  https://www.sec.gov/Archives/edgar/data/128775...     2005-12-31   \n",
       "\n",
       "       filing_date violation_info  ishtml  \\\n",
       "468222  2005_03_30            1_2    True   \n",
       "468223  2005_05_04            1_2    True   \n",
       "468224  2005_08_08            1_2    True   \n",
       "468225  2005_11_14            1_2    True   \n",
       "468226  2006_02_28            1_2    True   \n",
       "\n",
       "                                          extraction_data  \\\n",
       "468222  [rming as expected and the risk factors are ne...   \n",
       "468223  [rming as expected and the risk factors are ne...   \n",
       "468224  [rming as expected and the risk factors are ne...   \n",
       "468225  [rming as expected and the risk factors are ne...   \n",
       "468226  [rming as expected and the risk factors are ne...   \n",
       "\n",
       "        extraction_data_len filing_type  predicted_label  year  \\\n",
       "468222                    2        10_K                1  2004   \n",
       "468223                    2        10_Q                1  2005   \n",
       "468224                    2        10_Q                1  2005   \n",
       "468225                    2        10_Q                1  2005   \n",
       "468226                    2        10_K                1  2005   \n",
       "\n",
       "             date_extracted extraction_data_cove     cik  \\\n",
       "468222                   []                   [] 1287750   \n",
       "468223                   []                   [] 1287750   \n",
       "468224                   []                   [] 1287750   \n",
       "468225                   []                   [] 1287750   \n",
       "468226  [December 31, 2005]                   [] 1287750   \n",
       "\n",
       "        reporting_date_month  isviolated  isamended  \n",
       "468222                    12           1          0  \n",
       "468223                     3           1          0  \n",
       "468224                     6           1          0  \n",
       "468225                     9           1          0  \n",
       "468226                    12           1          0  "
      ]
     },
     "execution_count": 500,
     "metadata": {},
     "output_type": "execute_result"
    }
   ],
   "source": [
    "new_df2[(new_df2['predicted_label']==1) & (new_df2['cik'] == 1287750)].head()"
   ]
  },
  {
   "cell_type": "code",
   "execution_count": 506,
   "id": "360af021",
   "metadata": {},
   "outputs": [
    {
     "data": {
      "text/plain": [
       "array([array(['Involves\\n      a borrower performing below expectations and indicates that the loan’s\\n      risk has increased somewhat since origination. The borrower may be out of\\n      compliance with debt covenants; however; loan payments are generally not\\n      past due. ',\n",
       "              'Involves\\n      a borrower performing materially below expectations and indicates that the\\n      loan’s risk has increased materially since origination. In addition to the\\n      borrower being generally out of compliance with debt covenants, loan\\n      payments may be past due (but generally not more than 180 days past due).\\n      For loans graded 2, we will implement a plan to increase monitoring of the\\n      borrower. ',\n",
       "              'Indicates\\n      that the borrower is performing substantially below expectations and the\\n      loan risk has substantially increased since origination. Most or all of\\n      the debt covenants are out of compliance and payments are substantially\\n      delinquent. Loans graded 1 are not anticipated to be repaid in full and we\\n      will reduce the fair market value of the loan to the amount\\xa0we\\n      anticipate will be recovered. '],\n",
       "             dtype=object)                                                                                                                                                                                                                                                                                                                                                                                                                                                ,\n",
       "       array(['Involves\\n      a borrower performing below expectations and indicates that the loan’s\\n      risk has increased somewhat since origination. The borrower may be out of\\n      compliance with debt covenants; however; loan payments are generally not\\n      past due.',\n",
       "              'Involves\\n      a borrower performing materially below expectations and indicates that the\\n      loan’s risk has increased materially since origination. In addition to the\\n      borrower being generally out of compliance with debt covenants, loan\\n      payments may be past due (but generally not more than 180 days past due).\\n      For loans graded 2, we will implement a plan to increase monitoring of the\\n      borrower.',\n",
       "              'Indicates\\n      that the borrower is performing substantially below expectations and the\\n      loan risk has substantially increased since origination. Most or all of\\n      the debt covenants are out of compliance and payments are substantially\\n      delinquent. Loans graded 1 are not anticipated to be repaid in full and we\\n      will reduce the fair market value of the loan to the amountwe anticipate\\n      will be recovered.'],\n",
       "             dtype=object)                                                                                                                                                                                                                                                                                                                                                                                                                                           ,\n",
       "       array(['Involves a borrower performing below expectations and indicates that the loan\\x92s risk has increased somewhat since origination. The borrower may be out of compliance with debt covenants; however; loan payments are generally not past due.',\n",
       "              'Involves a borrower performing materially below and indicates that the loan\\x92s risk has increased materially since origination. In addition to the borrower being generally out of compliance with debt covenants, loan payments may be past due (but generally not more than 180 days past due).',\n",
       "              'Indicates that the borrower is performing substantially below expectations and the loan risk has substantially increased since origination. Most or all of the debt covenants are out of compliance and payments are substantially delinquent. Loans graded 1 are not anticipated to be repaid in full and we will reduce the fair market value of the loan to the amount we anticipate will be recovered.',\n",
       "              'A portfolio company\\x92s failure to satisfy financial or operating covenants imposed by us or other lenders could lead to defaults and, potentially, termination of its loans and foreclosure on its assets. This could trigger cross-defaults under other agreements and jeopardize such portfolio company\\x92s ability to meet its obligations under the debt or equity securities that we hold. We may incur expenses to the extent necessary to seek recovery upon default or to negotiate new terms, which may include the waiver of certain financial covenants, with a defaulting portfolio company. '],\n",
       "             dtype=object)                                                                                                                                                                                                                                                                                                                                                                                                                                                                                                                                                                                                    ,\n",
       "       array(['Involves\\n      a borrower performing below expectations and indicates that the loan’s\\n      risk has increased somewhat since origination. The borrower may be out of\\n      compliance with debt covenants; however; loan payments are generally not\\n      past due.',\n",
       "              'Involves\\n      a borrower performing materially below and indicates that the loan’s risk\\n      has increased materially since origination. In addition to the borrower\\n      being generally out of compliance with debt covenants, loan payments may\\n      be past due (but generally not more than 180 days past\\n    due).',\n",
       "              'Indicates\\n      that the borrower is performing substantially below expectations and the\\n      loan risk has substantially increased since origination. Most or all of\\n      the debt covenants are out of compliance and payments are substantially\\n      delinquent. Loans graded 1 are not anticipated to be repaid in full, and\\n      we reduce the fair market value of the loan to the amount we anticipate\\n      recovering.'],\n",
       "             dtype=object)                                                                                                                                                                                                                                                                                                                                                                                                                                 ,\n",
       "       array(['Involves a borrower performing below expectations and indicates that the loan’s risk has increased somewhat since origination. The borrower may be out of compliance with debt covenants; however; loan payments are generally not past due.',\n",
       "              'Involves a borrower performing materially below and indicates that the loan’s risk has increased materially since origination. In addition to the borrower being generally out of compliance with debt covenants, loan payments may be past due (but generally not more than 180 days past due).',\n",
       "              'Indicates that the borrower is performing substantially below expectations and the loan risk has substantially increased since origination. Most or all of the debt covenants are out of compliance and payments are substantially delinquent. Loans graded 1 are not anticipated to be repaid in full and we will reduce the fair market value of the loan to the amount we anticipate will be recovered.'],\n",
       "             dtype=object)                                                                                                                                                                                                                                                                                                                                                                                                  ,\n",
       "       array([], dtype=object),\n",
       "       array(['Involves a borrower performing below expectations and indicates that the loan\\x92s risk has increased somewhat since origination. The borrower may be out of compliance with debt covenants; however, loan payments are generally not past due.',\n",
       "              'Involves a borrower performing materially below expectations and indicates that the loan\\x92s risk has increased materially since origination. In addition to the borrower being generally out of compliance with debt covenants, loan payments may be past due (but generally not more than 180 days past due).',\n",
       "              'Involves a borrower performing substantially below expectations and indicates that the loan\\x92s risk has substantially increased since origination. Most or all of the debt covenants are out of compliance and payments are substantially delinquent. Loans rated 1 are not anticipated to be repaid in full and we will reduce the fair market value of the loan to the amount we anticipate will be recovered.',\n",
       "              'A portfolio company\\x92s failure to satisfy financial or operating covenants imposed by us or other lenders could lead to defaults and, potentially, termination of its loans and foreclosure on its assets. This could trigger cross-defaults under other agreements and jeopardize such portfolio company\\x92s ability to meet its obligations under the debt or equity securities that we hold. We may incur expenses to the extent necessary to seek recovery upon default or to negotiate new terms, which may include the waiver of certain financial covenants, with a defaulting portfolio company. '],\n",
       "             dtype=object)                                                                                                                                                                                                                                                                                                                                                                                                                                                                                                                                                                                                    ,\n",
       "       array([], dtype=object), array([], dtype=object),\n",
       "       array([], dtype=object), array([], dtype=object),\n",
       "       array([], dtype=object), array([], dtype=object),\n",
       "       array([], dtype=object), array([], dtype=object),\n",
       "       array([], dtype=object), array([], dtype=object),\n",
       "       array([], dtype=object), array([], dtype=object),\n",
       "       array([], dtype=object), array([], dtype=object),\n",
       "       array([], dtype=object), array([], dtype=object),\n",
       "       array([], dtype=object), array([], dtype=object),\n",
       "       array([], dtype=object), array([], dtype=object),\n",
       "       array([], dtype=object), array([], dtype=object),\n",
       "       array([], dtype=object), array([], dtype=object),\n",
       "       array([], dtype=object), array([], dtype=object),\n",
       "       array([], dtype=object), array([], dtype=object),\n",
       "       array([], dtype=object), array([], dtype=object),\n",
       "       array([], dtype=object), array([], dtype=object),\n",
       "       array([], dtype=object), array([], dtype=object),\n",
       "       array([], dtype=object), array([], dtype=object),\n",
       "       array([], dtype=object), array([], dtype=object),\n",
       "       array([], dtype=object), array([], dtype=object)], dtype=object)"
      ]
     },
     "execution_count": 506,
     "metadata": {},
     "output_type": "execute_result"
    }
   ],
   "source": [
    "new_df2[(new_df2['predicted_label']==1) & (new_df2['cik'] == 1476765)]['extraction_data'].values"
   ]
  },
  {
   "cell_type": "markdown",
   "id": "82ab48ca",
   "metadata": {},
   "source": [
    "- In the above case after the close look into the filing we have realised that it is a disclamier or just for information and it is not actual covenant annoucment.\n",
    "\n",
    "CIK checked :\n",
    "- 1326003\n",
    "- 1287750"
   ]
  },
  {
   "cell_type": "code",
   "execution_count": 505,
   "id": "64dbc1e9",
   "metadata": {},
   "outputs": [
    {
     "data": {
      "text/plain": [
       "array([array(['assessment of success of the portfolio company in adhering to its business plan and compliance with covenants; ',\n",
       "              ' Investments in portfolio companies whose performance is below the Advisor\\x92s expectations\\nand for which risk has increased materially since origination. Some loss of investment return is expected, but no loss of principal is expected. Companies graded 3 will generally be out of compliance with debt covenants and will be unlikely to make\\ndebt repayments on their original schedule. As of December\\xa031, 2006, the Advisor rated approximately 2% of our portfolio companies representing approximately 2% of the value of our total investments as Grade 3. ',\n",
       "              'At December\\xa031, 2006, the Company was in compliance with all financial and operational covenants required by the Credit Agreement. '],\n",
       "             dtype=object)                                                                                                                                                                                                                                                                                                                                                                                                                                                                                                                                                                     ,\n",
       "       array(['At March\\xa031, 2007 and December\\xa031, 2006, respectively, the Company was in compliance with all financial and operational covenants required by\\nthe Credit Agreement. ',\n",
       "              ' Investments in portfolio companies whose performance is below the Investment\\nAdvisor\\x92s expectations and for which risk has increased materially since origination. Some loss of investment return is expected, but no loss of principal is expected. Companies graded 3 will generally be out of compliance with debt covenants\\nand will be unlikely to make debt repayments on their original schedule. As of March\\xa031, 2007, the Investment Advisor rated none of our portfolio companies as Grade\\xa03. '],\n",
       "             dtype=object)                                                                                                                                                                                                                                                                                                                                                                                                                                                                                                            ,\n",
       "       array(['At June\\xa030, 2007 and December\\xa031, 2006, respectively, the Company was in compliance with all\\nfinancial and operational covenants required by the Credit Agreement. ',\n",
       "              ' Investments in portfolio companies whose performance is below the Investment Advisor\\x92s expectations and for which risk has increased\\nmaterially since origination. Some loss of investment return is expected, but no loss of principal is expected. Companies graded 3 will generally be out of compliance with debt covenants and will be unlikely to make debt repayments on their original\\nschedule. As of June\\xa030, 2007, the Investment Advisor rated one of our portfolio companies representing approximately 1% of the value of our total investments as Grade 3. '],\n",
       "             dtype=object)                                                                                                                                                                                                                                                                                                                                                                                                                                                                                                                                                                           ,\n",
       "       array(['At September\\xa030, 2007 and December\\xa031, 2006, the Company was in compliance with all financial and\\noperational covenants required by the Credit Agreement. ',\n",
       "              ' Investments in portfolio companies whose performance is below the Investment Advisor\\x92s expectations and for which risk has increased materially since origination. Some loss of investment return is\\nexpected, but no loss of principal is expected. Companies graded 3 will generally be out of compliance with debt covenants and will be unlikely to make debt repayments on their original schedule. '],\n",
       "             dtype=object)                                                                                                                                                                                                                                                                                                                                                                                                      ,\n",
       "       array(['assessment of success of the portfolio company in adhering to its business plan and compliance with covenants; ',\n",
       "              ' Investments in portfolio companies whose performance is below the Advisor\\x92s\\nexpectations and for which risk has increased materially since origination. Some loss of investment return is expected, but no loss of principal is expected. Companies graded 3 generally will be out of compliance with debt covenants and will be\\nunlikely to make debt repayments on their original schedule. ',\n",
       "              'At December\\xa031, 2007 and 2006, the Company was in compliance with all financial and operational covenants required by the Credit Agreement.\\n'],\n",
       "             dtype=object)                                                                                                                                                                                                                                                                                                                                                                                           ,\n",
       "       array(['At March\\xa031, 2008, the Company was in compliance with all financial and\\noperational covenants required by the Credit Agreement. ',\n",
       "              ' Investments in portfolio companies whose performance is below the Advisor\\x92s expectations and for which risk has increased materially\\nsince origination. Some loss of investment return is expected, but no loss of principal is expected. Companies graded 3 will generally be out of compliance with debt covenants and will be unlikely to make debt repayments on their original schedule.\\n'],\n",
       "             dtype=object)                                                                                                                                                                                                                                                                                                                                                                                            ,\n",
       "       array(['At June\\xa030, 2008, the Company was in compliance with all financial and operational covenants\\nrequired by the Credit Agreement. ',\n",
       "              ' Investments in portfolio companies whose performance is below the Advisor\\x92s expectations and for which risk has increased materially since origination. Some loss of investment return is expected,\\nbut no loss of principal is expected. Companies graded 3 will generally be out of compliance with debt covenants and will be unlikely to make debt repayments on their original schedule. '],\n",
       "             dtype=object)                                                                                                                                                                                                                                                                                                                                                                                           ,\n",
       "       array(['At September\\xa030,\\n2008, the Company was in compliance with all financial and operational covenants required by the Credit Agreement. ',\n",
       "              ' Investments in portfolio companies whose performance is below the Advisor\\x92s expectations and for which risk has increased materially since origination. Some loss of investment return is expected,\\nbut no loss of principal is expected. Companies graded 3 will generally be out of compliance with debt covenants and will be unlikely to make debt repayments on their original schedule. '],\n",
       "             dtype=object)                                                                                                                                                                                                                                                                                                                                                                                           ,\n",
       "       array(['assessment of success of the portfolio company in adhering to its business plan and compliance with covenants; ',\n",
       "              ' Investments in portfolio companies whose\\nperformance is below the Advisor\\x92s expectations and for which risk has increased materially since origination. Some loss of investment return is expected, but no loss of principal is expected. Companies graded 3 generally will be out of\\ncompliance with debt covenants and will be unlikely to make debt repayments on their original schedule. ',\n",
       "              'As of December\\xa031, 2008, we were in compliance with these covenants.\\xa0However, our continued compliance with these covenants depends on many factors, some of which are beyond our control.\\xa0For example,\\nduring the year ended December\\xa031, 2008, net unrealized depreciation in our portfolio increased and may continue to increase in the future.\\xa0Any such further increase could result in our inability to comply with our obligati',\n",
       "              'on to restrict\\nthe level of indebtedness that we are able to incur in relation to the value of our assets or to maintain a minimum level of stockholders\\x92 equity. Accordingly, there are no assurances that we will continue to comply with the covenants in our\\nCredit Facility. Failure to comply with these covenants would result in a default under this facility which, if we were unable to obtain a waiver from the lenders thereunder, could result in an acceleration of repayments under the facility and\\nthereby have a material adverse impact on our bu',\n",
       "              'contains covenants regarding the maintenance of certain minimum asset coverage and net worth requirements which are affected by the decrease in value of our\\nportfolio. Failure to meet these requirements would result in a default which, if we are unable to obtain a waiver from our lenders, could result in the acceleration of our repayment obligations under the credit facility. ',\n",
       "              'ember\\xa06, 2010, the termination date of the Credit Facility, and term loans, once repaid, may not be\\nreborrowed. At December\\xa031, 2008, we had $426,000,000 drawn and outstanding under the Credit Facility, with $119,000,000 available to us, subject to compliance with customary affirmative and negative covenants, including the maintenance of a\\nminimum stockholders\\x92 equity, the maintenance of a ratio of not less than 200% of total assets (less total liabilities other than indebtedness) to total indebtedness, and restrictions on certain payments and issuance of debt. ',\n",
       "              'Although we were in compliance with these covenants as of December\\xa031, 2008, continued compliance with such covenants depends on many factors, some\\nof which are beyond our control. For example, during the year ended December\\xa031, 2008, net unrealized depreciation in our portfolio increased and may continue to increase in the future.\\xa0Any such further increase could result in our\\ninability to comply with our obligati',\n",
       "              'on to restrict the level of indebtedness that we are able to incur in relation to the value of our assets or to maintain a minimum level of stockholders\\x92 equity. Accordingly, there are no assurances that we\\nwill continue to comply with the covenants in our Credit Facility. Failure to comply with these covenants would result in a default under this facility which, if we were unable to obtain a waiver from the lenders thereunder, could result in an\\nacceleration of repayments under the facility and thereby have a material adverse impact on our op',\n",
       "              'At December\\xa031, 2008, the Company was in compliance with all\\nfinancial and operational covenants required by the Credit Agreement. '],\n",
       "             dtype=object)                                                                                                                                                                                                                                                                                                                                                                                                                                                                                                                                                                                          ,\n",
       "       array(['At March\\xa031, 2009, the Company was in compliance with all financial and operational covenants\\nrequired by the Credit Agreement. ',\n",
       "              ' Investments in portfolio companies whose performance is below the Advisor\\x92s expectations and for which risk has increased materially since origination. Some loss of investment return is expected,\\nbut no loss of principal is expected. Companies graded 3 generally will be out of compliance with debt covenants and will be unlikely to make debt repayments on their original schedule. ',\n",
       "              'December\\xa06, 2010, the termination date of the Credit Facility, and term loans, once repaid, may not be reborrowed. At March\\xa031,\\n2009, we had $421,500,000 drawn and outstanding under the Credit Facility, with $123,500,000 available to us, subject to compliance with customary affirmative and negative covenants, including the maintenance of a minimum stockholders\\x92 equity,\\nthe maintenance of a ratio of not less than 200% of total assets (less total liabilities other than indebtedness) to total indebtedness, and restrictions on certain payments and issuance of debt. '],\n",
       "             dtype=object)                                                                                                                                                                                                                                                                                                                                                                                                                                                                                                                                                                                           ,\n",
       "       array(['At June\\xa030, 2009, the\\nCompany was in compliance with all financial and operational covenants required by the Credit Agreement. ',\n",
       "              ' Investments in portfolio companies whose\\nperformance is below the Advisor\\x92s expectations and for which risk has increased materially since origination. Some loss of investment return is expected, but no loss of principal is expected. Companies graded 3 generally will be out of\\ncompliance with debt covenants and will be unlikely to make debt repayments on their original schedule. ',\n",
       "              'redit Facility is secured by substantially all of the assets in our portfolio, including cash and cash equivalents. At June\\xa030, 2009, we had $376,000,000 drawn and\\noutstanding under the Credit Facility, with $169,000,000 available to us, subject to compliance with customary affirmative and negative covenants, including the maintenance of a minimum stockholders\\x92 equity, the maintenance of a ratio of not\\nless than 200% of total assets (less total liabilities other than indebtedness) to total indebtedness, and restrictions on certain payments and issuance of debt. '],\n",
       "             dtype=object)                                                                                                                                                                                                                                                                                                                                                                                                                                                                                                                                                                                        ,\n",
       "       array(['At\\nSeptember\\xa030, 2009, the Company was in compliance with all financial and operational covenants required by the Credit Agreement. ',\n",
       "              ' Investments in portfolio companies whose performance is below the Advisor\\x92s expectations and for which\\nrisk has increased materially since origination. Some loss of investment return is expected, but no loss of principal is expected. Companies graded 3 generally will be out of compliance with debt covenants and will be unlikely to make debt\\nrepayments on their original schedule. ',\n",
       "              ' Facility is secured by substantially all of the assets in our portfolio, including cash and cash\\nequivalents. At September\\xa030, 2009, we had $347,500,000 drawn and outstanding under the Credit Facility, with $197,500,000 available to us, subject to compliance with customary affirmative and negative covenants, including the maintenance of a\\nminimum stockholders\\x92 equity, the maintenance of a ratio of not less than 200% of total assets (less total liabilities other than indebtedness) to total indebtedness, and restrictions on certain payments and issuance of debt. '],\n",
       "             dtype=object)                                                                                                                                                                                                                                                                                                                                                                                                                                                                                                                                                                                        ,\n",
       "       array(['assessment of success of the portfolio company in adhering to its business plan and compliance with covenants; ',\n",
       "              ' Investments in portfolio companies whose performance is below the Advisor\\x92s expectations and for which risk has\\nincreased materially since origination. Some loss of investment return is expected, but no loss of principal is expected. Companies graded 3 generally will be out of compliance with debt covenants and will be unlikely to make debt repayments on\\ntheir original schedule. ',\n",
       "              'As of December\\xa031, 2009, we were in compliance with these covenants.\\xa0However, our continued compliance with these covenants\\ndepends on many factors, some of which are beyond our control.\\xa0Accordingly, there are no assurances that we will continue to comply with the covenants in our Credit Facility. Failure to comply with these covenants would result in a default\\nunder this facility which, if we were unable to obtain a waiver from the lenders thereunder, could result in an acceleration of repayments under the facility and thereby have a material adverse impact on our business, financial condition and results\\nof operations. ',\n",
       "              'The economic downturn may also\\ncontinue to decrease the value of collateral securing some of our loans, as well as the value of our investments, which may impact our ability to borrow under our credit facility. Additionally, our credit facility contains covenants regarding the\\nmaintenance of certain minimum asset coverage and net worth requirements which are affected by decreases in the value of our portfolio. Failure to meet these requirements would result in a default which, if we are unable to obtain a waiver from our\\nlenders, could result in the acceleration of our repayment obligations under the credit facility. ',\n",
       "              't Facility is secured by substantially all of the assets in our portfolio, including cash and cash\\nequivalents. At December\\xa031, 2009, we had $296,000,000 drawn and outstanding under the Credit Facility, with $249,000,000 available to us, subject to compliance with customary affirmative and negative covenants, including the maintenance of a\\nminimum stockholders\\x92 equity, the maintenance of a ratio of not less than 200% of total assets (less total liabilities other than indebtedness) to total indebtedness, and restrictions on certain payments and issuance of debt. At\\nDecember\\xa031, 2009, we were in complian',\n",
       "              'At\\nDecember\\xa031, 2009, the Company was in compliance with all financial and operational covenants required by the Credit Facility. '],\n",
       "             dtype=object)                                                                                                                                                                                                                                                                                                                                                                                                                                                                                                                                                                                                                                                        ,\n",
       "       array(['At March\\xa031, 2010, the Company was in compliance with all financial and operational\\ncovenants required by the Credit Facility. ',\n",
       "              ' Investments in portfolio companies whose performance is below the Advisor\\x92s expectations and for which risk has\\nincreased materially since origination. Some loss of investment return is expected, but no loss of principal is expected. Companies graded 3 generally will be out of compliance with debt covenants and will be unlikely to make debt repayments on\\ntheir original schedule. ',\n",
       "              '\\nincluding cash and cash equivalents. At March\\xa031, 2010, we had $253,500,000 drawn and outstanding under the Credit Facility, with $291,500,000 available to us, subject to compliance with\\ncustomary affirmative and negative covenants, including the maintenance of a minimum stockholders\\x92 equity, the maintenance of a ratio of not less than 200% of total assets (less total liabilities other than indebtedness) to total indebtedness,\\nand restrictions on certain payments and issuance of debt. See \\x93Recent developments\\x94 below. '],\n",
       "             dtype=object)                                                                                                                                                                                                                                                                                                                                                                                                                                                                                                                                                   ,\n",
       "       array(['The April 2010 amendment to the Credit Facility did not substantially change the financial and operational covenants required under the\\nprevious agreement. At June\\xa030, 2010, the Company was in compliance with all such covenants. ',\n",
       "              ' Investments in portfolio companies whose performance is below the Advisor\\x92s expectations and for which risk has\\nincreased materially since origination. Some loss of investment return is expected, but no loss of principal is expected. Companies graded 3 generally will be out of compliance with debt covenants and will be unlikely to make debt repayments on\\ntheir original schedule. ',\n",
       "              'redit Facility is secured by substantially all of the assets\\nin our portfolio, including cash and cash equivalents. At June\\xa030, 2010, we had $145,000,000 drawn and outstanding under the Credit Facility, with $475,000,000 available to us, subject to compliance with customary affirmative and negative\\ncovenants, '],\n",
       "             dtype=object)                                                                                                                                                                                                                                                                                                                                                                                           ,\n",
       "       array(['The April 2010 amendment to the Credit\\nFacility did not substantially change the financial and operational covenants required under the previous agreement. At September\\xa030, 2010, the Company was in compliance with all such covenants. ',\n",
       "              ' Investments in portfolio companies whose performance is below the Advisor\\x92s expectations and for which risk has\\nincreased materially since origination. Some loss of investment return is expected, but no loss of principal is expected. Companies graded 3 generally will be out of compliance with debt covenants and will be unlikely to make debt repayments on\\ntheir original schedule. ',\n",
       "              ' Facility is\\nsecured by substantially all of the assets in our portfolio, including cash and cash equivalents. At September\\xa030, 2010, we had $205,500,000 drawn and outstanding under the Credit Facility, with $414,500,000 available to us, subject to\\ncompliance with customary affirmative and negative covenants, including the maintenance of a minimum stockholders\\x92 equity, the maintenance of a ratio of not less than 200% of total assets (less total liabilities other than indebtedness) to\\ntotal indebtedness, and restrictions on certain payments and issuance of debt. Of the amount drawn at September\\xa030, 2010'],\n",
       "             dtype=object)                                                                                                                                                                                                                                                                                                                                                                                                                                                                                                                                                                                                                                     ,\n",
       "       array(['assessment of success of the portfolio company in adhering to its business plan and compliance with covenants; ',\n",
       "              ' Investments in portfolio companies whose performance is below the Advisor\\x92s expectations and for which risk has increased materially since origination. Some loss of investment return\\nis expected, but no loss of principal is expected. Companies graded 3 generally will be out of compliance with debt covenants and will be unlikely to make debt repayments on their original schedule. ',\n",
       "              'Facility (and the incurrence of certain other permitted debt) are subject to compliance with a borrowing base\\nthat applies different advance rates to different types of assets in the Company\\x92s portfolio. At December\\xa031, 2010, we were in compliance with all financial and operational covenants required by the Credit Facility. ',\n",
       "              'As of December\\xa031, 2010, we were in compliance with all applicable covenants for our outstanding borrowings.\\xa0However, our\\ncontinued compliance with these covenants depends on many factors, some of which are beyond our control.\\xa0Accordingly, there are no assurances that we will continue to comply with the covenants in our debt arrangements. Failure to comply with\\nthese covenants would result in a default under these arrangements which, if we were unable to obtain a waiver from the lenders thereunder, could result in an acceleration of repayments on our debt and thereby have a material adverse impact on our\\nbusiness, financial condition and results of operations. ',\n",
       "              'the Company\\x92s equity\\ncapital to make additional portfolio investments and for other general corporate purposes. At December\\xa031, 2010, we had $170,000,000 drawn and outstanding under the Credit Facility, with $205,000,000 available to us, subject to compliance with\\ncustomary affirmative and negative covenants, including the maintenance of a minimum stockholders\\x92 equity, the maintenance of a ratio of not less than 200% of total assets (less total liabilities other than indebtedness) to total indebtedness,\\nand restrictions on certain payments and issuance of debt. In addition, borrowings under the Credit ',\n",
       "              'Facility (and the incurrence of certain other permitted debt) are subject to compliance with a borrowing base that applies different advance rates to\\ndifferent types of assets in the Company\\x92s portfolio. At December\\xa031, 2010, we were in compliance with all financial and operational covenants required by the Credit Facility. ',\n",
       "              'At December\\xa031, 2010, the Company had\\n$170,000,000 drawn on the Credit Facility versus $296,000,000 at December\\xa031, 2009. The average debt outstanding on the Credit Facility during the years ended December\\xa031, 2010, 2009 and 2008 was $205,151,507, $397,464,757 and\\n$453,241,284, respectively. The maximum amounts borrowed during the years ended December\\xa031, 2010, 2009 and 2008 were $314,000,000, $434,000,000 and $491,000,000, respectively. Subject to compliance with applicable covenants and borrowing base\\nlimitations, the remaining amount available under the Credit Facility was $205,000,000 at December\\xa031, 2010. ',\n",
       "              'The April 2010 amendment to the Credit Facility did not substantially change the financial and\\noperational covenants required under the previous agreement. At December\\xa031, 2010, the Company was in compliance with all such covenants. '],\n",
       "             dtype=object)                                                                                                                                                                                                                                                                                                                                                                                                                                                                                                                                                                                                                                                                                                ,\n",
       "       array(['At March\\xa031, 2011, the Company had $100,000,000 drawn on the Credit Facility versus $170,000,000 at December\\xa031, 2010. Subject to compliance with applicable covenants and borrowing base\\nlimitations, the remaining amount available under the Credit Facility was $275,000,000 at March\\xa031, 2011. ',\n",
       "              'At March\\xa031, 2011, the Company was in compliance with all covenants required under the Credit Facility and the Senior Secured Notes.\\n',\n",
       "              '\\nInvestments in portfolio companies whose performance is below the Advisor\\x92s expectations and for which risk has increased materially since origination. Some loss of investment return is expected, but no loss of principal is expected. Companies\\ngraded 3 generally will be out of compliance with debt covenants and will be unlikely to make debt repayments on their original schedule. ',\n",
       "              'nt the Company\\x92s equity capital to make additional portfolio investments and for other general\\ncorporate purposes. At March\\xa031, 2011, we had $100,000,000 drawn and outstanding under the Credit Facility, with $275,000,000 available to us, subject to compliance with customary affirmative and negative covenants, including the maintenance of\\na minimum stockholders\\x92 equity, the maintenance of a ratio of not less than 200% of total assets (less total liabilities other than indebtedness) to total indebtedness, and restrictions on certain payments and issuance of debt. In addition,\\nborrowings under the Credit ',\n",
       "              '\\nInterest on the Senior Secured Notes is due semi-annually on January\\xa018 and July\\xa018, commencing on July\\xa018, 2011. The proceeds from the issuance of the Senior Secured Notes were\\nused to fund new portfolio investments, reduce outstanding borrowings under the Credit Facility and for general corporate purposes. The Senior Secured Notes contain customary affirmative and negative covenants substantially similar to those in our\\nCredit Facility. At March 31, 2011, we were in compliance with all financial and operational covenants required by the Credit Facility and Senior Secured Notes. '],\n",
       "             dtype=object)                                                                                                                                                                                                                                                                                                                                                                                                                                                                                                                                                                                                                                    ,\n",
       "       array([], dtype=object), array([], dtype=object),\n",
       "       array(['assessment of success of the portfolio company in adhering to its business plan and compliance with covenants; ',\n",
       "              ' Investments in portfolio companies whose performance is below the Advisor\\x92s expectations and for which risk has increased materially since origination. Some loss of investment return\\nis expected, but no loss of principal is expected. Companies graded 3 generally will be out of compliance with debt covenants and will be unlikely to make debt repayments on their original schedule. ',\n",
       "              'Facility (and the incurrence of certain other permitted debt) are subject to compliance with a borrowing base that applies different advance rates to different types of assets in the Company\\x92s portfolio. At December\\xa031, 2011, we were in\\ncompliance with all financial and operational covenants required by the Credit Facility. ',\n",
       "              'As of December\\xa031, 2011, we were in compliance with all applicable covenants for our outstanding borrowings.\\xa0However, our\\ncontinued compliance with these covenants depends on many factors, some of which are beyond our control.\\xa0Accordingly, there are no assurances that we will continue to comply with the covenants in our debt arrangements. Failure to comply with\\nthese covenants would result in a default under these arrangements which, if we were unable to obtain a waiver from the lenders thereunder, could result in an acceleration of repayments on our debt and thereby have a material adverse impact on our\\nbusiness, financial condition and results of operations. ',\n",
       "              'the Company\\x92s equity capital to make additional portfolio investments and for other general corporate purposes. At\\nDecember\\xa031, 2011, we had $168,000,000 drawn and outstanding under the Credit Facility, with $207,000,000 available to us, subject to compliance with customary affirmative and negative covenants, including the maintenance of a minimum\\nstockholders\\x92 equity, the maintenance of a ratio of not less than 200% of total assets (less total liabilities other than indebtedness) to total indebtedness, and restrictions on certain payments and issuance of debt. At December 31, 2011, the\\nCompany was in ',\n",
       "              '\\nwith regulatory coverage requirements with an asset coverage ratio of approximately 301% and was in compliance with all financial covenants under our debt agreements. In addition, borrowings\\nunder the Credit Facility (and the incurrence of certain other permitted debt) are subject to compliance with a borrowing base that applies different advance rates to different types of assets in the Company\\x92s portfolio. ',\n",
       "              'ly\\xa018, commencing on July\\xa018, 2011. The proceeds from the issuance of the Senior Secured Notes were used to fund new portfolio investments, reduce\\noutstanding borrowings under the Credit Facility and for general corporate purposes. The Senior Secured Notes contain customary affirmative and negative covenants substantially similar to those in our Credit Facility. At December 31, 2011, we were\\nin compliance with all financial and operational covenants required by the Credit Facility and Senior Secured Notes. ',\n",
       "              'At December\\xa031, 2011, the Company had $168,000,000 drawn on the Credit Facility versus $170,000,000 at December\\xa031, 2010.\\nSubject to compliance with applicable covenants and borrowing base limitations, the remaining amount available under the Credit Facility was $207,000,000 at December\\xa031, 2011. ',\n",
       "              'At December\\xa031, 2011, the Company was in compliance with all covenants required under the Credit Facility and the Senior\\nSecured Notes. '],\n",
       "             dtype=object)                                                                                                                                                                                                                                                                                                                                                                                                                                                                                                                                                                                                                                                                                                ,\n",
       "       array([], dtype=object), array([], dtype=object),\n",
       "       array([], dtype=object), array([], dtype=object),\n",
       "       array([], dtype=object), array([], dtype=object),\n",
       "       array([], dtype=object), array([], dtype=object),\n",
       "       array([], dtype=object), array([], dtype=object),\n",
       "       array([], dtype=object), array([], dtype=object),\n",
       "       array([], dtype=object), array([], dtype=object),\n",
       "       array([], dtype=object), array([], dtype=object),\n",
       "       array([], dtype=object), array([], dtype=object),\n",
       "       array([], dtype=object), array([], dtype=object),\n",
       "       array([], dtype=object), array([], dtype=object),\n",
       "       array([], dtype=object), array([], dtype=object),\n",
       "       array([], dtype=object), array([], dtype=object),\n",
       "       array([], dtype=object), array([], dtype=object),\n",
       "       array([], dtype=object), array([], dtype=object),\n",
       "       array([], dtype=object), array([], dtype=object)], dtype=object)"
      ]
     },
     "execution_count": 505,
     "metadata": {},
     "output_type": "execute_result"
    }
   ],
   "source": [
    "new_df2[(new_df2['predicted_label']==1) & (new_df2['cik'] == 1326003)]['extraction_data'].values"
   ]
  },
  {
   "cell_type": "code",
   "execution_count": 16,
   "id": "693536bf",
   "metadata": {},
   "outputs": [],
   "source": [
    "new_df2_para = pd.read_parquet(model_prediction + \"s3_master_final_paragraph_predictions.parquet\")"
   ]
  },
  {
   "cell_type": "code",
   "execution_count": 17,
   "id": "79a4f66d",
   "metadata": {},
   "outputs": [],
   "source": [
    "# extarct the CIK number from the file path\n",
    "new_df2_para['cik'] = new_df2_para['file_path'].str.split('\\\\').str[-1].str.split('_').str[0]\n",
    "new_df2_para['cik'] = pd.to_numeric(new_df2_para['cik'], errors='coerce')\n",
    "new_df2_para.sort_values(['cik','reporting_date'], inplace=True)"
   ]
  },
  {
   "cell_type": "code",
   "execution_count": 18,
   "id": "9825b728",
   "metadata": {},
   "outputs": [
    {
     "data": {
      "text/html": [
       "<div>\n",
       "<style scoped>\n",
       "    .dataframe tbody tr th:only-of-type {\n",
       "        vertical-align: middle;\n",
       "    }\n",
       "\n",
       "    .dataframe tbody tr th {\n",
       "        vertical-align: top;\n",
       "    }\n",
       "\n",
       "    .dataframe thead th {\n",
       "        text-align: right;\n",
       "    }\n",
       "</style>\n",
       "<table border=\"1\" class=\"dataframe\">\n",
       "  <thead>\n",
       "    <tr style=\"text-align: right;\">\n",
       "      <th></th>\n",
       "      <th>file_path</th>\n",
       "      <th>html_path</th>\n",
       "      <th>reporting_date</th>\n",
       "      <th>filing_date</th>\n",
       "      <th>violation_info</th>\n",
       "      <th>ishtml</th>\n",
       "      <th>extraction_data</th>\n",
       "      <th>extraction_data_len</th>\n",
       "      <th>predicted_label</th>\n",
       "      <th>filing_type</th>\n",
       "      <th>date_extracted</th>\n",
       "      <th>extraction_data_cove</th>\n",
       "      <th>cik</th>\n",
       "    </tr>\n",
       "  </thead>\n",
       "  <tbody>\n",
       "    <tr>\n",
       "      <th>215152</th>\n",
       "      <td>F:\\Master_Thesis_NLP\\\\sec_filings_10QK\\2010\\10...</td>\n",
       "      <td>https://www.sec.gov/Archives/edgar/data/147676...</td>\n",
       "      <td>2010-03-31</td>\n",
       "      <td>2010_05_13</td>\n",
       "      <td>1_2</td>\n",
       "      <td>True</td>\n",
       "      <td>Involves\\n      a borrower performing below ex...</td>\n",
       "      <td>3</td>\n",
       "      <td>1</td>\n",
       "      <td>10_Q</td>\n",
       "      <td></td>\n",
       "      <td>[]</td>\n",
       "      <td>1476765</td>\n",
       "    </tr>\n",
       "    <tr>\n",
       "      <th>215153</th>\n",
       "      <td>F:\\Master_Thesis_NLP\\\\sec_filings_10QK\\2010\\10...</td>\n",
       "      <td>https://www.sec.gov/Archives/edgar/data/147676...</td>\n",
       "      <td>2010-03-31</td>\n",
       "      <td>2010_05_13</td>\n",
       "      <td>1_2</td>\n",
       "      <td>True</td>\n",
       "      <td>Indicates\\n      that the borrower is performi...</td>\n",
       "      <td>3</td>\n",
       "      <td>1</td>\n",
       "      <td>10_Q</td>\n",
       "      <td></td>\n",
       "      <td>[]</td>\n",
       "      <td>1476765</td>\n",
       "    </tr>\n",
       "  </tbody>\n",
       "</table>\n",
       "</div>"
      ],
      "text/plain": [
       "                                                file_path  \\\n",
       "215152  F:\\Master_Thesis_NLP\\\\sec_filings_10QK\\2010\\10...   \n",
       "215153  F:\\Master_Thesis_NLP\\\\sec_filings_10QK\\2010\\10...   \n",
       "\n",
       "                                                html_path reporting_date  \\\n",
       "215152  https://www.sec.gov/Archives/edgar/data/147676...     2010-03-31   \n",
       "215153  https://www.sec.gov/Archives/edgar/data/147676...     2010-03-31   \n",
       "\n",
       "       filing_date violation_info  ishtml  \\\n",
       "215152  2010_05_13            1_2    True   \n",
       "215153  2010_05_13            1_2    True   \n",
       "\n",
       "                                          extraction_data  \\\n",
       "215152  Involves\\n      a borrower performing below ex...   \n",
       "215153  Indicates\\n      that the borrower is performi...   \n",
       "\n",
       "        extraction_data_len  predicted_label filing_type date_extracted  \\\n",
       "215152                    3                1        10_Q                  \n",
       "215153                    3                1        10_Q                  \n",
       "\n",
       "       extraction_data_cove      cik  \n",
       "215152                   []  1476765  \n",
       "215153                   []  1476765  "
      ]
     },
     "execution_count": 18,
     "metadata": {},
     "output_type": "execute_result"
    }
   ],
   "source": [
    "new_df2_para[new_df2_para['html_path'] == new_df2[(new_df2['predicted_label']==1) & (new_df2['cik'] == 1476765)]['html_path'].values[0]]"
   ]
  },
  {
   "cell_type": "code",
   "execution_count": 19,
   "id": "52dee5c9",
   "metadata": {},
   "outputs": [
    {
     "data": {
      "text/plain": [
       "array(['Involves\\n      a borrower performing below expectations and indicates that the loan’s\\n      risk has increased somewhat since origination. The borrower may be out of\\n      compliance with debt covenants; however; loan payments are generally not\\n      past due. ',\n",
       "       'Indicates\\n      that the borrower is performing substantially below expectations and the\\n      loan risk has substantially increased since origination. Most or all of\\n      the debt covenants are out of compliance and payments are substantially\\n      delinquent. Loans graded 1 are not anticipated to be repaid in full and we\\n      will reduce the fair market value of the loan to the amount\\xa0we\\n      anticipate will be recovered. '],\n",
       "      dtype=object)"
      ]
     },
     "execution_count": 19,
     "metadata": {},
     "output_type": "execute_result"
    }
   ],
   "source": [
    "new_df2_para[new_df2_para['html_path'] == new_df2[(new_df2['predicted_label']==1) & (new_df2['cik'] == 1476765)]['html_path'].values[0]]['extraction_data'].values"
   ]
  },
  {
   "cell_type": "code",
   "execution_count": 521,
   "id": "3acd2202",
   "metadata": {},
   "outputs": [
    {
     "data": {
      "text/plain": [
       "array(['Involves\\n      a borrower performing below expectations and indicates that the loan’s\\n      risk has increased somewhat since origination. The borrower may be out of\\n      compliance with debt covenants; however; loan payments are generally not\\n      past due. ',\n",
       "       'Indicates\\n      that the borrower is performing substantially below expectations and the\\n      loan risk has substantially increased since origination. Most or all of\\n      the debt covenants are out of compliance and payments are substantially\\n      delinquent. Loans graded 1 are not anticipated to be repaid in full and we\\n      will reduce the fair market value of the loan to the amount\\xa0we\\n      anticipate will be recovered. ',\n",
       "       'Involves\\n      a borrower performing below expectations and indicates that the loan’s\\n      risk has increased somewhat since origination. The borrower may be out of\\n      compliance with debt covenants; however; loan payments are generally not\\n      past due.',\n",
       "       'Indicates\\n      that the borrower is performing substantially below expectations and the\\n      loan risk has substantially increased since origination. Most or all of\\n      the debt covenants are out of compliance and payments are substantially\\n      delinquent. Loans graded 1 are not anticipated to be repaid in full and we\\n      will reduce the fair market value of the loan to the amountwe anticipate\\n      will be recovered.',\n",
       "       'Involves a borrower performing below expectations and indicates that the loan\\x92s risk has increased somewhat since origination. The borrower may be out of compliance with debt covenants; however; loan payments are generally not past due.',\n",
       "       'Involves a borrower performing materially below and indicates that the loan\\x92s risk has increased materially since origination. In addition to the borrower being generally out of compliance with debt covenants, loan payments may be past due (but generally not more than 180 days past due).',\n",
       "       'Indicates that the borrower is performing substantially below expectations and the loan risk has substantially increased since origination. Most or all of the debt covenants are out of compliance and payments are substantially delinquent. Loans graded 1 are not anticipated to be repaid in full and we will reduce the fair market value of the loan to the amount we anticipate will be recovered.',\n",
       "       'Involves\\n      a borrower performing below expectations and indicates that the loan’s\\n      risk has increased somewhat since origination. The borrower may be out of\\n      compliance with debt covenants; however; loan payments are generally not\\n      past due.',\n",
       "       'Involves\\n      a borrower performing materially below and indicates that the loan’s risk\\n      has increased materially since origination. In addition to the borrower\\n      being generally out of compliance with debt covenants, loan payments may\\n      be past due (but generally not more than 180 days past\\n    due).',\n",
       "       'Indicates\\n      that the borrower is performing substantially below expectations and the\\n      loan risk has substantially increased since origination. Most or all of\\n      the debt covenants are out of compliance and payments are substantially\\n      delinquent. Loans graded 1 are not anticipated to be repaid in full, and\\n      we reduce the fair market value of the loan to the amount we anticipate\\n      recovering.',\n",
       "       'Involves a borrower performing below expectations and indicates that the loan’s risk has increased somewhat since origination. The borrower may be out of compliance with debt covenants; however; loan payments are generally not past due.',\n",
       "       'Involves a borrower performing materially below and indicates that the loan’s risk has increased materially since origination. In addition to the borrower being generally out of compliance with debt covenants, loan payments may be past due (but generally not more than 180 days past due).',\n",
       "       'Indicates that the borrower is performing substantially below expectations and the loan risk has substantially increased since origination. Most or all of the debt covenants are out of compliance and payments are substantially delinquent. Loans graded 1 are not anticipated to be repaid in full and we will reduce the fair market value of the loan to the amount we anticipate will be recovered.',\n",
       "       'Involves a borrower performing below expectations and indicates that the loan\\x92s risk has increased somewhat since origination. The borrower may be out of compliance with debt covenants; however, loan payments are generally not past due.',\n",
       "       'Involves a borrower performing materially below expectations and indicates that the loan\\x92s risk has increased materially since origination. In addition to the borrower being generally out of compliance with debt covenants, loan payments may be past due (but generally not more than 180 days past due).',\n",
       "       'Involves a borrower performing substantially below expectations and indicates that the loan\\x92s risk has substantially increased since origination. Most or all of the debt covenants are out of compliance and payments are substantially delinquent. Loans rated 1 are not anticipated to be repaid in full and we will reduce the fair market value of the loan to the amount we anticipate will be recovered.',\n",
       "       'Involves a borrower performing below expectations and indicates that the loan’s risk has increased somewhat since origination. The borrower may be out of compliance with debt covenants; however; loan payments are generally not past due.',\n",
       "       'Involves a borrower performing materially below and indicates that the loan’s risk has increased materially since origination. In addition to the borrower being generally out of compliance with debt covenants, loan payments may be past due (but generally not more than 180 days past due).',\n",
       "       'Indicates that the borrower is performing substantially below expectations and the loan risk has substantially increased since origination. Most or all of the debt covenants are out of compliance and payments are substantially delinquent. Loans graded 1 are not anticipated to be repaid in full and we will reduce the fair market value of the loan to the amount we anticipate will be recovered.',\n",
       "       'Involves a borrower performing below expectations and indicates that the loan’s risk has increased somewhat since origination. The borrower may be out of compliance with debt covenants; however, loan payments are generally not past due.',\n",
       "       'Involves a borrower performing materially below expectations and indicates that the loan’s risk has increased materially since origination. In addition to the borrower being generally out of compliance with debt covenants, loan payments may be past due (but generally not more than 180 days past due).',\n",
       "       'Involves a borrower performing substantially below expectations and indicates that the loan’s risk has substantially increased since origination. Most or all of the debt covenants are out of compliance and payments are substantially delinquent. Loans rated 1 are not anticipated to be repaid in full and we will reduce the fair market value of the loan to the amount we anticipate will be recovered.',\n",
       "       'ower is generally performing as expected, and the risk factors are neutral to favorable.      \\xa0     \\xa0     \\xa0      3     \\xa0     Involves a borrower performing below expectations and indicates that the loan’s risk has increased somewhat since origination. The borrower may be out of compliance with debt covenants; however, loan payments are generally not past due.      \\xa0     \\xa0     \\xa0      2     \\xa0     Involves a borrower performing materially below expectations and indicates that the loan’s risk has increased materially since origination. In addition to the borrower being generally out of compliance with debt',\n",
       "       ' covenants, loan payments may be past due (but generally not more than 180 days past due).      \\xa0     \\xa0     \\xa0      1     \\xa0     Involves a borrower performing substantially below expectations and indicates that the loan’s risk has substantially increased since origination. Most or all of the debt covenants are out of compliance and payments are substantially delinquent. Loans rated 1 are not anticipated to be repaid in full and we will reduce the fair market value of the loan to the amount we anticipate will be recovered.  \\xa0       4     \\xa0       \\xa0  The following table shows the distribution of our inv',\n",
       "       'Involves a borrower performing below expectations and indicates that the loan’s risk has increased somewhat since origination. The borrower may be out of compliance with debt covenants; however, loan payments are generally not past due.',\n",
       "       'Involves a borrower performing materially below expectations and indicates that the loan’s risk has increased materially since origination. In addition to the borrower being generally out of compliance with debt covenants, loan payments may be past due (but generally not more than 180 days past due).',\n",
       "       'Involves a borrower performing substantially below expectations and indicates that the loan’s risk has substantially increased since origination. Most or all of the debt covenants are out of compliance and payments are substantially delinquent. Loans rated 1 are not anticipated to be repaid in full and we will reduce the fair market value of the loan to the amount we anticipate will be recovered.',\n",
       "       'Involves a borrower performing below expectations and indicates that the loan’s risk has increased somewhat since origination. The borrower may be out of compliance with debt covenants; however, loan payments are generally not past due.',\n",
       "       'Involves a borrower performing materially below expectations and indicates that the loan’s risk has increased materially since origination. In addition to the borrower being generally out of compliance with debt covenants, loan payments may be past due (but generally not more than 180 days past due).',\n",
       "       'Involves a borrower performing substantially below expectations and indicates that the loan’s risk has substantially increased since origination. Most or all of the debt covenants are out of compliance and payments are substantially delinquent. Loans rated 1 are not anticipated to be repaid in full and we will reduce the fair market value of the loan to the amount we anticipate will be recovered.',\n",
       "       'Involves a borrower performing below expectations and indicates that the loan\\x92s risk has increased somewhat since origination. The borrower may be out of compliance with debt covenants; however, loan payments are generally not past due.',\n",
       "       'Involves a borrower performing materially below expectations and indicates that the loan\\x92s risk has increased materially since origination. In addition to the borrower being generally out of compliance with debt covenants, loan payments may be past due (but generally not more than 180 days past due).',\n",
       "       'Involves a borrower performing substantially below expectations and indicates that the loan\\x92s risk has substantially increased since origination. Most or all of the debt covenants are out of compliance and payments are substantially delinquent. Loans rated 1 are not anticipated to be repaid in full and we will reduce the fair market value of the loan to the amount we anticipate will be recovered.',\n",
       "       'Involves a borrower performing below expectations and indicates that the loan\\x92s risk has increased somewhat since origination. The borrower may be out of compliance with debt covenants; however, loan payments are generally not past due.',\n",
       "       'Involves a borrower performing materially below expectations and indicates that the loan\\x92s risk has increased materially since origination. In addition to the borrower being generally out of compliance with debt covenants, loan payments may be past due (but generally not more than 180 days past due).',\n",
       "       'Involves a borrower performing substantially below expectations and indicates that the loan\\x92s risk has substantially increased since origination. Most or all of the debt covenants are out of compliance and payments are substantially delinquent. Loans rated 1 are not anticipated to be repaid in full and we will reduce the fair market value of the loan to the amount we anticipate will be recovered.',\n",
       "       'Involves a borrower performing below expectations and indicates that the loan’s risk has increased somewhat since origination. The borrower may be out of compliance with debt covenants; however, loan payments are generally not past due.',\n",
       "       'Involves a borrower performing materially below expectations and indicates that the loan’s risk has increased materially since origination. In addition to the borrower being generally out of compliance with debt covenants, loan payments may be past due (but generally not more than 180 days past due).',\n",
       "       'Involves a borrower performing substantially below expectations and indicates that the loan’s risk has substantially increased since origination. Most or all of the debt covenants are out of compliance and payments are substantially delinquent. Loans rated 1 are not anticipated to be repaid in full and we will reduce the fair market value of the loan to the amount we anticipate will be recovered.',\n",
       "       'yments may be past due (but generally not more than 180 days past due).       1     \\xa0     Involves a borrower performing substantially below expectations and indicates that the loan’s risk has substantially increased since origination. Most or all of the debt covenants are out of compliance and payments are substantially delinquent. Loans scored 1 are not anticipated to be repaid in full and we will reduce the fair market value of the loan to the amount the Company anticipates will be recovered.       \\xa0         4     \\xa0         \\xa0  \\xa0  The following table shows the ',\n",
       "       'Involves a borrower performing below expectations and indicates that the loan’s risk has increased somewhat since origination. The borrower may be out of compliance with debt covenants; however, loan payments are generally not past due.',\n",
       "       'Involves a borrower performing materially below expectations and indicates that the loan’s risk has increased materially since origination. In addition to the borrower being generally out of compliance with debt covenants, loan payments may be past due (but generally not more than 180 days past due).',\n",
       "       'Involves a borrower performing substantially below expectations and indicates that the loan’s risk has substantially increased since origination. Most or all of the debt covenants are out of compliance and payments are substantially delinquent. Loans rated 1 are not anticipated to be repaid in full and we will reduce the fair market value of the loan to the amount we anticipate will be recovered.',\n",
       "       'Involves a borrower performing below expectations and indicates that the loan\\x92s risk has increased somewhat since origination. The borrower may be out of compliance with debt covenants; however, loan payments are generally not past due.',\n",
       "       'Involves a borrower performing materially below expectations and indicates that the loan\\x92s risk has increased materially since origination. In addition to the borrower being generally out of compliance with debt covenants, loan payments may be past due (but generally not more than 180 days past due).',\n",
       "       'Involves a borrower performing substantially below expectations and indicates that the loan\\x92s risk has substantially increased since origination. Most or all of the debt covenants are out of compliance and payments are substantially delinquent. Loans rated 1 are not anticipated to be repaid in full and we will reduce the fair market value of the loan to the amount we anticipate will be recovered.',\n",
       "       'um or\\nPrivateBank\\x92s prime rate plus 0.50% per annum for the period subsequent to November 22, 2014. The Revolver is secured by all of the assets held by Revolver Funding. Both the Company and Revolver Funding have made customary representations and warranties and are required to comply with various covenants, reporting requirements and other customary requirements for similar credit facilities. Borrowing under the Revolver is subject to the leverage restrictions contained in the Investment Company Act of 1940, as amended. In addition, the Company pays a fee of 0.25% per annum on any unused portion of t',\n",
       "       'um or\\nPrivateBank\\x92s prime rate plus 0.50% per annum for the period subsequent to November 22, 2014. The Revolver is secured by all of the assets held by Revolver Funding. Both the Company and Revolver Funding have made customary representations and warranties and are required to comply with various covenants, reporting requirements and other customary requirements for similar credit facilities. Borrowing under the Revolver is subject to the leverage restrictions contained in the Investment Company Act of 1940, as amended. In addition, the Company pays a fee of 0.25% per annum on any unused portion of t',\n",
       "       'r the PrivateBank’s prime rate plus 0.50% per annum for\\nthe period subsequent to November 22, 2014. The Revolver is secured by all of the assets held by Revolver Funding. Both the Company\\nand Revolver Funding have made customary representations and warranties and are required to comply with various covenants, reporting\\nrequirements and other customary requirements for similar credit facilities. Borrowing under the Revolver is subject to the leverage\\nrestrictions contained in the Investment Company Act of 1940, as amended.',\n",
       "       'rivateBank’s prime rate plus 0.50% per\\nannum for the period subsequent to November 22, 2014. The Revolver is collateralized by all of the assets held by Revolver Funding.\\nBoth the Company and Revolver Funding have made customary representations and warranties and are required to comply with various\\ncovenants, reporting requirements and other customary requirements for similar credit facilities. Borrowing under the Revolver\\nis subject to the leverage restrictions contained in the Investment Company Act of 1940, as amended. In addition, the Company\\npays a fee of 0.25% per annum on any unused portion of t',\n",
       "       'Involves a borrower performing below expectations and indicates\\n    that the loan’s risk has increased somewhat since origination. The borrower may be out of compliance with debt covenants;\\n    however, loan payments are generally not past due.',\n",
       "       'Involves a borrower performing materially below expectations and\\n    indicates that the loan’s risk has increased materially since origination. In addition to the borrower being generally\\n    out of compliance with debt covenants, loan payments may be past due (but generally not more than 180 days past due). ',\n",
       "       'Involves a borrower performing substantially below expectations\\n    and indicates that the loan’s risk has substantially increased since origination. Most or all of the debt covenants\\n    are out of compliance and payments are substantially delinquent. Loans rated 1 are not anticipated to be repaid in full and\\n    we will reduce the fair market value of the loan to the amount we anticipate will be recovered.',\n",
       "       'ower is generally performing as expected, and the risk factors are neutral to favorable.      \\xa0     \\xa0     \\xa0      3     \\xa0     Involves a borrower performing below expectations and indicates that the loan’s risk has increased somewhat since origination. The borrower may be out of compliance with debt covenants; however, loan payments are generally not past due.      \\xa0     \\xa0     \\xa0      2     \\xa0     Involves a borrower performing materially below expectations and indicates that the loan’s risk has increased materially since origination. In addition to the borrower being generally out of compliance with debt',\n",
       "       ' covenants, loan payments may be past due (but generally not more than 180 days past due).       \\xa0     \\xa0     \\xa0      1     \\xa0     Involves a borrower performing substantially below expectations and indicates that the loan’s risk has substantially increased since origination. Most or all of the debt covenants are out of compliance and payments are substantially delinquent. Loans rated 1 are not anticipated to be repaid in full and we will reduce the fair market value of the loan to the amount we anticipate will be recovered.  \\xa0         3     \\xa0       \\xa0  Our internal performance ratings do not constitute ',\n",
       "       'rivateBank’s prime rate plus 0.50% per annum for the\\nperiod subsequent to November 22, 2014. The Revolver is collateralized by all of the assets held by Revolver Funding. Both the\\nCompany and Revolver Funding have made customary representations and warranties and are required to comply with various covenants,\\nreporting requirements and other customary requirements for similar credit facilities. Borrowing under the Revolver is subject\\nto the leverage restrictions contained in the 1940 Act, as amended. In addition, the Company pays a fee of 0.25% per annum on any\\nunused portion of the Revolver.',\n",
       "       'Involves a borrower performing below expectations and indicates that the loan’s risk has increased somewhat since origination. The borrower may be out of compliance with debt covenants; however, loan payments are generally not past due.',\n",
       "       'Involves a borrower performing materially below expectations and indicates that the loan’s risk has increased materially since origination. In addition to the borrower being generally out of compliance with debt covenants, loan payments may be past due (but generally not more than 180 days past due). ',\n",
       "       'Involves a borrower performing substantially below expectations and indicates that the loan’s risk has substantially increased since origination. Most or all of the debt covenants are out of compliance and payments are substantially delinquent. Loans rated 1 are not anticipated to be repaid in full and we will reduce the fair market value of the loan to the amount we anticipate will be recovered.',\n",
       "       'Involves a borrower performing below expectations and indicates that the loan’s risk has increased somewhat since origination. The borrower may be out of compliance with debt covenants; however, loan payments are generally not past due.',\n",
       "       'Involves a borrower performing materially below expectations and indicates that the loan’s risk has increased materially since origination. In addition to the borrower being generally out of compliance with debt covenants, loan payments may be past due (but generally not more than 180 days past due). ',\n",
       "       'Involves a borrower performing substantially below expectations and indicates that the loan’s risk has substantially increased since origination. Most or all of the debt covenants are out of compliance and payments are substantially delinquent. Loans rated 1 are not anticipated to be repaid in full and we will reduce the fair market value of the loan to the amount we anticipate will be recovered.',\n",
       "       'Involves a borrower performing below expectations and indicates that the loan\\x92s risk has increased somewhat since origination. The borrower may be out of compliance with debt covenants; however, loan payments are generally not past due.',\n",
       "       'Involves a borrower performing materially below expectations and indicates that the loan\\x92s risk has increased materially since origination. In addition to the borrower being generally out of compliance with debt covenants, loan payments may be past due (but generally not more than 180 days past due).',\n",
       "       'Involves a borrower performing substantially below expectations and indicates that the loan\\x92s risk has substantially increased since origination. Most or all of the debt covenants are out of compliance and payments are substantially delinquent. Loans rated 1 are not anticipated to be repaid in full and we will reduce the fair market value of the loan to the amount we anticipate will be recovered.',\n",
       "       'As previously disclosed, the Revolver is secured by all of the\\nassets held by Revolver Funding. Both the Company and Revolver Funding have made customary representations and warranties and are\\nrequired to comply with various covenants, reporting requirements and other customary requirements for similar credit facilities.\\nBorrowing under the Revolver is subject to the leverage restrictions contained in the Investment Company Act of 1940, as amended.',\n",
       "       'Involves a borrower performing below expectations and indicates that the loan’s risk\\n    has increased somewhat since origination. The borrower may be out of compliance with debt covenants; however, loan payments\\n    are generally not past due.',\n",
       "       'Involves a borrower performing materially below expectations and indicates that the loan’s\\n    risk has increased materially since origination. In addition to the borrower being generally out of compliance with debt covenants,\\n    loan payments may be past due (but generally not more than 180 days past due).',\n",
       "       'Involves a borrower performing substantially below expectations and indicates that the loan’s\\n    risk has substantially increased since origination. Most or all of the debt covenants are out of compliance and payments are\\n    substantially delinquent. Loans rated 1 are not anticipated to be repaid in full and we will reduce the fair market value\\n    of the loan to the amount we anticipate will be recovered.',\n",
       "       'Involves a borrower performing below expectations and indicates that the loan’s risk has increased somewhat since origination. The borrower may be out of compliance with debt covenants; however, loan payments are generally not past due.',\n",
       "       'Involves a borrower performing materially below expectations and indicates that the loan’s risk has increased materially since origination. In addition to the borrower being generally out of compliance with debt covenants, loan payments may be past due (but generally not more than 180 days past due).',\n",
       "       'Involves a borrower performing substantially below expectations and indicates that the loan’s risk has substantially increased since origination. Most or all of the debt covenants are out of compliance and payments are substantially delinquent. Loans rated 1 are not anticipated to be repaid in full and we will reduce the fair market value of the loan to the amount we anticipate will be recovered.',\n",
       "       'Involves a borrower performing below expectations and indicates that the loan’s risk has increased somewhat since\\n    origination. The borrower may be out of compliance with debt covenants; however, loan payments are generally not past due.',\n",
       "       'Involves a borrower performing materially below expectations and indicates that the loan’s risk has increased materially\\n    since origination. In addition to the borrower being generally out of compliance with debt covenants, loan payments may be\\n    past due (but generally not more than 180 days past due).',\n",
       "       'Involves a borrower performing substantially below expectations and indicates that the loan’s risk has substantially\\n    increased since origination. Most or all of the debt covenants are out of compliance and payments are substantially delinquent.\\n    Loans rated 1 are not anticipated to be repaid in full and we will reduce the fair market value of the loan to the amount\\n    we anticipate will be recovered.',\n",
       "       'Involves a borrower performing below expectations and indicates that the loan\\x92s risk has increased somewhat since origination. The borrower may be out of compliance with debt covenants; however, loan payments are generally not past due.',\n",
       "       'Involves a borrower performing materially below expectations and indicates that the loan\\x92s risk has increased materially since origination. In addition to the borrower being generally out of compliance with debt covenants, loan payments may be past due (but generally not more than 180 days past due).',\n",
       "       'Involves a borrower performing substantially below expectations and indicates that the loan\\x92s risk has substantially increased since origination. Most or all of the debt covenants are out of compliance and payments are substantially delinquent. Loans rated 1 are not anticipated to be repaid in full and we will reduce the fair market value of the loan to the amount we anticipate will be recovered.',\n",
       "       'Involves a borrower performing below expectations and indicates that the loan’s risk has increased somewhat since origination. The borrower may be out of compliance with debt covenants; however, loan payments are generally not past due.',\n",
       "       'Involves a borrower performing materially below expectations and indicates that the loan’s risk has increased materially since origination. In addition to the borrower being generally out of compliance with debt covenants, loan payments may be past due (but generally not more than 180 days past due). ',\n",
       "       'Involves a borrower performing substantially below expectations and indicates that the loan’s risk has substantially increased since origination. Most or all of the debt covenants are out of compliance and payments are substantially delinquent. Loans rated 1 are not anticipated to be repaid in full and we will reduce the fair market value of the loan to the amount we anticipate will be recovered.',\n",
       "       'Involves a borrower performing below expectations and indicates that the loan’s risk has increased somewhat since origination. The borrower may be out of compliance with debt covenants; however, loan payments are generally not past due.',\n",
       "       'Involves a borrower performing materially below expectations and indicates that the loan’s risk has increased materially since origination. In addition to the borrower being generally out of compliance with debt covenants, loan payments may be past due (but generally not more than 180 days past due).',\n",
       "       'Involves a borrower performing substantially below expectations and indicates that the loan’s risk has substantially increased since origination. Most or all of the debt covenants are out of compliance and payments are substantially delinquent. Loans rated 1 are not anticipated to be repaid in full and we will reduce the fair market value of the loan to the amount we anticipate will be recovered.',\n",
       "       'Involves a borrower performing below expectations and indicates that the loan’s risk has increased somewhat since origination. The borrower may be out of compliance with debt covenants; however, loan payments are generally not past due.',\n",
       "       'Involves a borrower performing materially below expectations and indicates that the loan’s risk has increased materially since origination. In addition to the borrower being generally out of compliance with debt covenants, loan payments may be past due (but generally not more than 180 days past due). ',\n",
       "       'Involves a borrower performing substantially below expectations and indicates that the loan’s risk has substantially increased since origination. Most or all of the debt covenants are out of compliance and payments are substantially delinquent. Loans rated 1 are not anticipated to be repaid in full and we will reduce the fair market value of the loan to the amount we anticipate will be recovered.',\n",
       "       'Involves a borrower performing below expectations and indicates that the loan’s risk has increased somewhat since origination. The borrower may be out of compliance with debt covenants; however, loan payments are generally not past due.',\n",
       "       'Involves a borrower performing materially below expectations and indicates that the loan’s risk has increased materially since origination. In addition to the borrower being generally out of compliance with debt covenants, loan payments may be past due (but generally not more than 180 days past due).',\n",
       "       'Involves a borrower performing substantially below expectations and indicates that the loan’s risk has substantially increased since origination. Most or all of the debt covenants are out of compliance and payments are substantially delinquent. Loans rated 1 are not anticipated to be repaid in full and we will reduce the fair market value of the loan to the amount we anticipate will be recovered.',\n",
       "       'Involves a borrower performing below expectations and indicates that the loan’s risk has increased somewhat since origination. The borrower may be out of compliance with debt covenants; however, loan payments are generally not past due.',\n",
       "       'Involves a borrower performing materially below expectations and indicates that the loan’s risk has increased materially since origination. In addition to the borrower being generally out of compliance with debt covenants, loan payments may be past due (but generally not more than 180 days past due). ',\n",
       "       'Involves a borrower performing substantially below expectations and indicates that the loan’s risk has substantially increased since origination. Most or all of the debt covenants are out of compliance and payments are substantially delinquent. Loans rated 1 are not anticipated to be repaid in full and we will reduce the fair market value of the loan to the amount we anticipate will be recovered.',\n",
       "       'Involves a borrower performing below expectations and indicates that the loan’s risk has increased somewhat since origination. The borrower may be out of compliance with debt covenants; however, loan payments are generally not past due.',\n",
       "       'Involves a borrower performing materially below expectations and indicates that the loan’s risk has increased materially since origination. In addition to the borrower being generally out of compliance with debt covenants, loan payments may be past due (but generally not more than 180 days past due). ',\n",
       "       'Involves a borrower performing substantially below expectations and indicates that the loan’s risk has substantially increased since origination. Most or all of the debt covenants are out of compliance and payments are substantially delinquent. Loans rated 1 are not anticipated to be repaid in full and we will reduce the fair market value of the loan to the amount we anticipate will be recovered.',\n",
       "       'Involves a borrower performing below expectations and indicates that the loan’s risk has increased somewhat since origination. The borrower may be out of compliance with debt covenants; however, loan payments are generally not past due.',\n",
       "       'Involves a borrower performing materially below expectations and indicates that the loan’s risk has increased materially since origination. In addition to the borrower being generally out of compliance with debt covenants, loan payments may be past due (but generally not more than 180 days past due). ',\n",
       "       'Involves a borrower performing substantially below expectations and indicates that the loan’s risk has substantially increased since origination. Most or all of the debt covenants are out of compliance and payments are substantially delinquent. Loans rated 1 are not anticipated to be repaid in full and we will reduce the fair market value of the loan to the amount we anticipate will be recovered.',\n",
       "       'Involves a borrower performing below expectations and indicates that the loan’s risk has increased somewhat since origination. The borrower may be out of compliance with debt covenants; however, loan payments are generally not past due.',\n",
       "       'Involves a borrower performing materially below expectations and indicates that the loan’s risk has increased materially since origination. In addition to the borrower being generally out of compliance with debt covenants, loan payments may be past due (but generally not more than 180 days past due).',\n",
       "       'Involves a borrower performing substantially below expectations and indicates that the loan’s risk has substantially increased since origination. Most or all of the debt covenants are out of compliance and payments are substantially delinquent. Loans rated 1 are not anticipated to be repaid in full and we will reduce the fair market value of the loan to the amount we anticipate will be recovered.',\n",
       "       'st due (but generally not more than 180 days past due). 1\\xa0Involves a borrower performing substantially below expectations and indicates that the loan’s risk has substantially increased since origination. Most or all of the debt covenants are out of compliance and payments are substantially delinquent. Loans rated 1 are not anticipated to be repaid in full and we will reduce the fair market value of the loan to the amount we anticipate will be recovered.Our internal performance ratings do not constitute any rating of investments by ',\n",
       "       ' 0.1% 0.1% 0.1% 0.2% 0.2%\\r\\n\\r\\n  \\xa0     Rating Definition\\r\\n 5 Borrower is performing above expectations and the trends and risk factors are generally favorable\\r\\n 4 Borrower is generally performing as expected and the risk factors are neutral to favorable\\r\\n 3 Borrower may be out of compliance with debt covenants; however, loan payments are generally not past due\\r\\n 2 Borrower is performing materially below expectations and the loan’s risk has increased materially since origination\\r\\n 1 Borrower is performing substantially below expectations and the loan’s risk has substantially increased since origination\\r\\n ',\n",
       "       'Involves a borrower performing below expectations and indicates that the loan’s risk has increased somewhat since origination. The borrower may be out of compliance with debt covenants; however, loan payments are generally not past due.',\n",
       "       'Involves a borrower performing materially below expectations and indicates that the loan’s risk has increased materially since origination. In addition to the borrower being generally out of compliance with debt covenants, loan payments may be past due (but generally not more than 180 days past due). ',\n",
       "       'Involves a borrower performing substantially below expectations and indicates that the loan’s risk has substantially increased since origination. Most or all of the debt covenants are out of compliance and payments are substantially delinquent. Loans rated 1 are not anticipated to be repaid in full and we will reduce the fair market value of the loan to the amount we anticipate will be recovered.',\n",
       "       'Involves a borrower performing below expectations and indicates that the loan’s risk has increased somewhat since origination. The borrower may be out of compliance with debt covenants; however, loan payments are generally not past due.',\n",
       "       'Involves a borrower performing materially below expectations and indicates that the loan’s risk has increased materially since origination. In addition to the borrower being generally out of compliance with debt covenants, loan payments may be past due (but generally not more than 180 days past due). ',\n",
       "       'Involves a borrower performing substantially below expectations and indicates that the loan’s risk has substantially increased since origination. Most or all of the debt covenants are out of compliance and payments are substantially delinquent. Loans rated 1 are not anticipated to be repaid in full and we will reduce the fair market value of the loan to the amount we anticipate will be recovered.',\n",
       "       'der the collateral management agreement, but will be reimbursed for expenses incurred in the performance of such obligations other than any ordinary overhead expenses, which shall not be reimbursed. The 2010 Issuer made customary representations and warranties and is required to comply with various covenants, reporting requirements and other customary requirements for similar credit facilities. Borrowing under the MS Credit Facility is subject to the leverage restrictions contained in the Investment Company Act of 1940, as amended.',\n",
       "       'der the collateral management agreement, but will be reimbursed for expenses incurred in the performance of such obligations other than any ordinary overhead expenses, which shall not be reimbursed. The 2010 Issuer made customary representations and warranties and is required to comply with various covenants, reporting requirements and other customary requirements for similar credit facilities. Borrowing under the MS Credit Facility is subject to the leverage restrictions contained in the Investment Company Act of 1940, as amended.',\n",
       "       'Involves a borrower performing below expectations and indicates that the loan’s risk has increased somewhat since origination. The borrower may be out of compliance with debt covenants; however, loan payments are generally not past due.',\n",
       "       'Involves a borrower performing materially below expectations and indicates that the loan’s risk has increased materially since origination. In addition to the borrower being generally out of compliance with debt covenants, loan payments may be past due (but generally not more than 180 days past due). ',\n",
       "       'Involves a borrower performing substantially below expectations and indicates that the loan’s risk has substantially increased since origination. Most or all of the debt covenants are out of compliance and payments are substantially delinquent. Loans rated 1 are not anticipated to be repaid in full and we will reduce the fair market value of the loan to the amount we anticipate will be recovered.',\n",
       "       'Involves a borrower performing below expectations and indicates that the loan’s risk has increased somewhat since origination. The borrower may be out of compliance with debt covenants; however, loan payments are generally not past due.',\n",
       "       'Involves a borrower performing materially below expectations and indicates that the loan’s risk has increased materially since origination. In addition to the borrower being generally out of compliance with debt covenants, loan payments may be past due (but generally not more than 180 days past due).',\n",
       "       'Involves a borrower performing substantially below expectations and indicates that the loan’s risk has substantially increased since origination. Most or all of the debt covenants are out of compliance and payments are substantially delinquent. Loans rated 1 are not anticipated to be repaid in full and we will reduce the fair market value of the loan to the amount we anticipate will be recovered.',\n",
       "       'Involves a borrower performing below expectations and indicates that the loan’s risk has increased somewhat since origination. The borrower may be out of compliance with debt covenants; however, loan payments are generally not past due.',\n",
       "       'Involves a borrower performing materially below expectations and indicates that the loan’s risk has increased materially since origination. In addition to the borrower being generally out of compliance with debt covenants, loan payments may be past due (but generally not more than 180 days past due). ',\n",
       "       'Involves a borrower performing substantially below expectations and indicates that the loan’s risk has substantially increased since origination. Most or all of the debt covenants are out of compliance and payments are substantially delinquent. Loans rated 1 are not anticipated to be repaid in full and we will reduce the fair market value of the loan to the amount we anticipate will be recovered.',\n",
       "       'Involves a borrower performing below expectations and indicates that the loan’s risk has increased somewhat since origination. The borrower may be out of compliance with debt covenants; however, loan payments are generally not past due.',\n",
       "       'Involves a borrower performing materially below expectations and indicates that the loan’s risk has increased materially since origination. In addition to the borrower being generally out of compliance with debt covenants, loan payments may be past due (but generally not more than 180 days past due). ',\n",
       "       'Involves a borrower performing substantially below expectations and indicates that the loan’s risk has substantially increased since origination. Most or all of the debt covenants are out of compliance and payments are substantially delinquent. Loans rated 1 are not anticipated to be repaid in full and we will reduce the fair market value of the loan to the amount we anticipate will be recovered.',\n",
       "       'Involves a borrower performing below expectations and indicates that the loan’s risk has increased somewhat since origination. The borrower may be out of compliance with debt covenants; however, loan payments are generally not past due.',\n",
       "       'Involves a borrower performing materially below expectations and indicates that the loan’s risk has increased materially since origination. In addition to the borrower being generally out of compliance with debt covenants, loan payments may be past due (but generally not more than 180 days past due). ',\n",
       "       'Involves a borrower performing substantially below expectations and indicates that the loan’s risk has substantially increased since origination. Most or all of the debt covenants are out of compliance and payments are substantially delinquent. Loans rated 1 are not anticipated to be repaid in full and we will reduce the fair market value of the loan to the amount we anticipate will be recovered.',\n",
       "       'Involves a borrower performing below expectations and indicates that the loan’s risk has increased somewhat since origination. The borrower may be out of compliance with debt covenants; however, loan payments are generally not past due.',\n",
       "       'Involves a borrower performing materially below expectations and indicates that the loan’s risk has increased materially since origination. In addition to the borrower being generally out of compliance with debt covenants, loan payments may be past due (but generally not more than 180 days past due). ',\n",
       "       'Involves a borrower performing substantially below expectations and indicates that the loan’s risk has substantially increased since origination. Most or all of the debt covenants are out of compliance and payments are substantially delinquent. Loans rated 1 are not anticipated to be repaid in full and we will reduce the fair market value of the loan to the amount we anticipate will be recovered.',\n",
       "       'As previously disclosed, the MS Credit Facility II is secured\\nby all of the assets held by Funding II. Both the Company and Funding II have made customary representations and warranties and\\nare required to comply with various covenants, reporting requirements and other customary requirements for similar credit facilities.\\xa0Borrowing\\nunder the MS Credit Facility II remains subject to the leverage restrictions contained in the Investment Company Act of 1940, as\\namended (the “1940 Act”). In accordance with the 1940 Act, with certain ',\n",
       "       'Involves a borrower performing below expectations and indicates that the loan’s risk has increased somewhat since origination. The borrower may be out of compliance with debt covenants; however, loan payments are generally not past due.',\n",
       "       'Involves a borrower performing materially below expectations and indicates that the loan’s risk has increased materially since origination. In addition to the borrower being generally out of compliance with debt covenants, loan payments may be past due (but generally not more than 180 days past due).',\n",
       "       'Involves a borrower performing substantially below expectations and indicates that the loan’s risk has substantially increased since origination. Most or all of the debt covenants are out of compliance and payments are substantially delinquent. Loans rated 1 are not anticipated to be repaid in full and we will reduce the fair market value of the loan to the amount we anticipate will be recovered.',\n",
       "       'Involves a borrower performing below expectations and indicates that the loan’s risk has increased somewhat since origination. The borrower may be out of compliance with debt covenants; however, loan payments are generally not past due.',\n",
       "       'Involves a borrower performing materially below expectations and indicates that the loan’s risk has increased materially since origination. In addition to the borrower being generally out of compliance with debt covenants, loan payments may be past due (but generally not more than 180 days past due). ',\n",
       "       'Involves a borrower performing substantially below expectations and indicates that the loan’s risk has substantially increased since origination. Most or all of the debt covenants are out of compliance and payments are substantially delinquent. Loans rated 1 are not anticipated to be repaid in full and we will reduce the fair market value of the loan to the amount we anticipate will be recovered.',\n",
       "       'As previously disclosed, the MS Credit Facility II is secured\\nby all of the assets held by Funding II. Both the Company and Funding II have made customary representations and warranties and\\nare required to comply with various covenants, reporting requirements and other customary requirements for similar credit facilities.\\xa0Borrowing\\nunder the MS Credit Facility II remains subject to the leverage restrictions contained in the Investment Company Act of 1940, as\\namended (the “1940 Act”). In accordance with the 1940 Act, with certain ',\n",
       "       'Involves a borrower performing below expectations and indicates that the loan’s risk has increased somewhat since origination. The borrower could be out of compliance with debt covenants; however, loan payments are generally not past due.',\n",
       "       'Involves a borrower performing materially below expectations and indicates that the loan’s risk has increased materially since origination. In addition to the borrower being generally out of compliance with debt covenants, loan payments could be past due (but generally not more than 180 days past due).',\n",
       "       'Involves a borrower performing substantially below expectations and indicates that the loan’s risk has substantially increased since origination. Most or all of the debt covenants are out of compliance and payments are substantially delinquent. Loans rated 1 are not anticipated to be repaid in full and we will reduce the fair market value of the loan to the amount we anticipate will be recovered.',\n",
       "       'As previously disclosed, the MS Credit Facility II is secured\\nby all of the assets held by Funding II. Both the Company and Funding II have made customary representations and warranties and\\nare required to comply with various covenants, reporting requirements and other customary requirements for similar credit facilities.\\xa0Borrowing\\nunder the MS Credit Facility II remains subject to the leverage restrictions contained in the Investment Company Act of 1940, as\\namended (the “1940 Act”). In accordance with the 1940 Act, with certain ',\n",
       "       'As previously disclosed, the MS Credit Facility II is secured\\nby all of the assets held by Funding II. Both the Company and Funding II have made customary representations and warranties and\\nare required to comply with various covenants, reporting requirements and other customary requirements for similar credit facilities.\\xa0Borrowing\\nunder the MS Credit Facility II remains subject to the leverage restrictions contained in the Investment Company Act of 1940, as\\namended (the “1940 Act”). In accordance with the 1940 Act, with certain ',\n",
       "       'Involves a borrower performing below expectations and indicates that the loan’s risk has increased somewhat since origination. The borrower could be out of compliance with debt covenants; however, loan payments are generally not past due.',\n",
       "       'Involves a borrower performing materially below expectations and indicates that the loan’s risk has increased materially since origination. In addition to the borrower being generally out of compliance with debt covenants, loan payments could be past due (but generally not more than 180 days past due).',\n",
       "       'Involves a borrower performing substantially below expectations and indicates that the loan’s risk has substantially increased since origination. Most or all of the debt covenants are out of compliance and payments are substantially delinquent. Loans rated 1 are not anticipated to be repaid in full and we will reduce the fair market value of the loan to the amount we anticipate will be recovered.',\n",
       "       'Involves a borrower performing below expectations and indicates that the loan’s risk has increased somewhat since origination. The borrower could be out of compliance with debt covenants; however, loan payments are generally not past due.',\n",
       "       'Involves a borrower performing materially below expectations and indicates that the loan’s risk has increased materially since origination. In addition to the borrower being generally out of compliance with debt covenants, loan payments could be past due (but generally not more than 180 days past due).',\n",
       "       'Involves a borrower performing substantially below expectations and indicates that the loan’s risk has substantially increased since origination. Most or all of the debt covenants are out of compliance and payments are substantially delinquent. Loans rated 1 are not anticipated to be repaid in full and we will reduce the fair market value of the loan to the amount we anticipate will be recovered.',\n",
       "       'Involves a borrower performing below expectations and indicates that the loan’s risk has increased somewhat since origination. The borrower could be out of compliance with debt covenants; however, loan payments are generally not past due.',\n",
       "       'Involves a borrower performing materially below expectations and indicates that the loan’s risk has increased materially since origination. In addition to the borrower being generally out of compliance with debt covenants, loan payments could be past due (but generally not more than 180 days past due).',\n",
       "       'Involves a borrower performing substantially below expectations and indicates that the loan’s risk has substantially increased since origination. Most or all of the debt covenants are out of compliance and payments are substantially delinquent. Loans rated 1 are not anticipated to be repaid in full and we will reduce the fair market value of the loan to the amount we anticipate will be recovered.',\n",
       "       'Involves a borrower performing below expectations and indicates that the loan’s risk has increased somewhat since origination. The borrower could be out of compliance with debt covenants; however, loan payments are generally not past due.',\n",
       "       'Involves a borrower performing materially below expectations and indicates that the loan’s risk has increased materially since origination. In addition to the borrower being generally out of compliance with debt covenants, loan payments could be past due (but generally not more than 180 days past due).',\n",
       "       'Involves a borrower performing substantially below expectations and indicates that the loan’s risk has substantially increased since origination. Most or all of the debt covenants are out of compliance and payments are substantially delinquent. Loans rated 1 are not anticipated to be repaid in full and we will reduce the fair market value of the loan to the amount we anticipate will be recovered.',\n",
       "       'Involves a borrower performing below expectations and indicates that the loan’s risk has increased somewhat since origination. The borrower could be out of compliance with debt covenants; however, loan payments are generally not past due.',\n",
       "       'Involves a borrower performing materially below expectations and indicates that the loan’s risk has increased materially since origination. In addition to the borrower being generally out of compliance with debt covenants, loan payments could be past due (but generally not more than 180 days past due).',\n",
       "       'Involves a borrower performing substantially below expectations and indicates that the loan’s risk has substantially increased since origination. Most or all of the debt covenants are out of compliance and payments are substantially delinquent. Loans rated 1 are not anticipated to be repaid in full and we will reduce the fair market value of the loan to the amount we anticipate will be recovered.',\n",
       "       'Involves a borrower performing below expectations and indicates that the loan’s risk has increased somewhat since origination. The borrower could be out of compliance with debt covenants; however, loan payments are generally not past due.',\n",
       "       'Involves a borrower performing materially below expectations and indicates that the loan’s risk has increased materially since origination. In addition to the borrower being generally out of compliance with debt covenants, loan payments could be past due (but generally not more than 180 days past due).',\n",
       "       'Involves a borrower performing substantially below expectations and indicates that the loan’s risk has substantially increased since origination. Most or all of the debt covenants are out of compliance and payments are substantially delinquent. Loans rated 1 are not anticipated to be repaid in full and we will reduce the fair market value of the loan to the amount we anticipate will be recovered.',\n",
       "       'Involves a borrower performing below expectations and indicates that the loan’s risk has increased somewhat since origination. The borrower could be out of compliance with debt covenants; however, loan payments are generally not past due.',\n",
       "       'Involves a borrower performing materially below expectations and indicates that the loan’s risk has increased materially since origination. In addition to the borrower being generally out of compliance with debt covenants, loan payments could be past due (but generally not more than 180 days past due).',\n",
       "       'Involves a borrower performing substantially below expectations and indicates that the loan’s risk has substantially increased since origination. Most or all of the debt covenants are out of compliance and payments are substantially delinquent. Loans rated 1 are not anticipated to be repaid in full and we will reduce the fair market value of the loan to the amount we anticipate will be recovered.',\n",
       "       'Involves a borrower performing below expectations and indicates that the loan’s risk has increased somewhat since origination. The borrower could be out of compliance with debt covenants; however, loan payments are generally not past due.',\n",
       "       'Involves a borrower performing materially below expectations and indicates that the loan’s risk has increased materially since origination. In addition to the borrower being generally out of compliance with debt covenants, loan payments could be past due (but generally not more than 180 days past due).',\n",
       "       'Involves a borrower performing substantially below expectations and indicates that the loan’s risk has substantially increased since origination. Most or all of the debt covenants are out of compliance and payments are substantially delinquent. Loans rated 1 are not anticipated to be repaid in full and we will reduce the fair market value of the loan to the amount we anticipate will be recovered.',\n",
       "       'Involves a borrower performing below expectations and indicates that the loan’s risk has increased somewhat since origination. The borrower could be out of compliance with debt covenants; however, loan payments are generally not past due.',\n",
       "       'Involves a borrower performing materially below expectations and indicates that the loan’s risk has increased materially since origination. In addition to the borrower being generally out of compliance with debt covenants, loan payments could be past due (but generally not more than 180 days past due).',\n",
       "       'Involves a borrower performing substantially below expectations and indicates that the loan’s risk has substantially increased since origination. Most or all of the debt covenants are out of compliance and payments are substantially delinquent. Loans rated 1 are not anticipated to be repaid in full and we will reduce the fair market value of the loan to the amount we anticipate will be recovered.',\n",
       "       'Involves a borrower performing below expectations and indicates that the loan’s risk has increased somewhat since origination. The borrower could be out of compliance with debt covenants; however, loan payments are generally not past due.',\n",
       "       'Involves a borrower performing materially below expectations and indicates that the loan’s risk has increased materially since origination. In addition to the borrower being generally out of compliance with debt covenants, loan payments could be past due (but generally not more than 180 days past due).',\n",
       "       'Involves a borrower performing substantially below expectations and indicates that the loan’s risk has substantially increased since origination. Most or all of the debt covenants are out of compliance and payments are substantially delinquent. Loans rated 1 are not anticipated to be repaid in full and we will reduce the fair market value of the loan to the amount we anticipate will be recovered.',\n",
       "       'past due (but generally not more than 180 days past due). 1\\xa0Involves a borrower performing substantially below expectations and indicates that the loan’s risk has substantially increased since origination. Most or all of the debt covenants are out of compliance and payments are substantially delinquent. Loans rated 1 are not anticipated to be repaid in full and we will reduce the fair market value of the loan to the amount we anticipate will be recovered.Our internal performance ratings do not constitute any rating of investments by ',\n",
       "       'Involves a borrower performing below expectations and indicates that the loan’s risk has increased somewhat since origination. The borrower could be out of compliance with debt covenants; however, loan payments are generally not past due.',\n",
       "       'Involves a borrower performing materially below expectations and indicates that the loan’s risk has increased materially since origination. In addition to the borrower being generally out of compliance with debt covenants, loan payments could be past due (but generally not more than 180 days past due).',\n",
       "       'Involves a borrower performing substantially below expectations and indicates that the loan’s risk has substantially increased since origination. Most or all of the debt covenants are out of compliance and payments are substantially delinquent. Loans rated 1 are not anticipated to be repaid in full and we will reduce the fair market value of the loan to the amount we anticipate will be recovered.',\n",
       "       'Involves a borrower performing below expectations and indicates that the loan’s risk has increased somewhat since origination. The borrower could be out of compliance with debt covenants; however, loan payments are generally not past due.',\n",
       "       'Involves a borrower performing materially below expectations and indicates that the loan’s risk has increased materially since origination. In addition to the borrower being generally out of compliance with debt covenants, loan payments could be past due (but generally not more than 180 days past due).',\n",
       "       'Involves a borrower performing substantially below expectations and indicates that the loan’s risk has substantially increased since origination. Most or all of the debt covenants are out of compliance and payments are substantially delinquent. Loans rated 1 are not anticipated to be repaid in full and we will reduce the fair market value of the loan to the amount we anticipate will be recovered.',\n",
       "       'Involves a borrower performing below expectations and indicates that the loan’s risk has increased somewhat since origination. The borrower could be out of compliance with debt covenants; however, loan payments are generally not past due.',\n",
       "       'Involves a borrower performing materially below expectations and indicates that the loan’s risk has increased materially since origination. In addition to the borrower being generally out of compliance with debt covenants, loan payments could be past due (but generally not more than 180 days past due).',\n",
       "       'Involves a borrower performing substantially below expectations and indicates that the loan’s risk has substantially increased since origination. Most or all of the debt covenants are out of compliance and payments are substantially delinquent. Loans rated 1 are not anticipated to be repaid in full and we will reduce the fair market value of the loan to the amount we anticipate will be recovered.',\n",
       "       'Involves a borrower performing below expectations and indicates that the loan’s risk has increased somewhat since origination. The borrower could be out of compliance with debt covenants; however, loan payments are generally not past due.',\n",
       "       'Involves a borrower performing materially below expectations and indicates that the loan’s risk has increased materially since origination. In addition to the borrower being generally out of compliance with debt covenants, loan payments could be past due (but generally not more than 180 days past due).',\n",
       "       'Involves a borrower performing substantially below expectations and indicates that the loan’s risk has substantially increased since origination. Most or all of the debt covenants are out of compliance and payments are substantially delinquent. Loans rated 1 are not anticipated to be repaid in full and we will reduce the fair market value of the loan to the amount we anticipate will be recovered.'],\n",
       "      dtype=object)"
      ]
     },
     "execution_count": 521,
     "metadata": {},
     "output_type": "execute_result"
    }
   ],
   "source": [
    "new_df2_para[new_df2_para['cik'] ==  1476765]['extraction_data'].values"
   ]
  },
  {
   "cell_type": "code",
   "execution_count": 529,
   "id": "4233d4a7",
   "metadata": {},
   "outputs": [
    {
     "data": {
      "text/plain": [
       "array(['ND RESULTS OF OPERATIONS                        THREE MONTHS ENDED MARCH 30, 1996  Overview - --------       As reported in the Company s Annual Report on Form 10-K for the fiscal year ended December 30, 1995, the Company and its U.S.  manufacturing subsidiary are in default under several financial covenants contained in their loan agreement with three U.S.  banks, and the Company s Swiss manufacturing subsidiary is in violation of certain equity guarantees contained in its loan agreements with several Swiss lenders, resulting in a default under each of those loan agreements. These defaults are continu',\n",
       "       '  OTHER INFORMATION  Item 3.  Defaults Upon Senior Securities          -------------------------------       As reported in the Company s Annual Report on Form 10-K for the fiscal year ended December 30, 1995, the Company and its U.S.  manufacturing subsidiary are in default under several financial covenants contained in their loan agreement with three U.S.  banks, and the Company s Swiss manufacturing subsidiary is in violation of certain equity guarantees contained in its loan agreements with several Swiss lenders, resulting in a default under each of those loan agreements. These defaults are continu',\n",
       "       'PERATIONS                          SIX MONTHS ENDED JUNE 29, 1996 Overview           As reported in the Company s Annual Report on Form 10-K for the fiscal year ended December 30, 1995, at the end of that year the Company and its U.S. manufacturing subsidiary were in default under several financial covenants contained in their loan agreement with three U.S. banks, while the Company s Swiss manufacturing subsidiary was in violation of certain equity guarantees contained in its loan agreements with several Swiss lenders, resulting in a default under each of the loan agreements. In June 1996 the Company s',\n",
       "       ...,\n",
       "       'total book net worth plus minority interest, less loans to officers, shareholders, and affiliates minus intangible assets and accumulated amortization) not to exceed 4.0 to 1, tested at the end of each fiscal quarter. As of December 31, 2021, FGI Industries was not in compliance with this financial covenant; ',\n",
       "       'Additionally, the overall slowdown in the cannabis industry during 2022 has resulted in lower forecasted earnings for us during the look-forward period.  The look-forward period also contemplates favorable regulatory changes in certain states in which we operate. If our operating results during the look-forward period is not in line with forecasted earnings, we may be at risk of not meeting our financial covenants under the Acquisition Facility, as amended.',\n",
       "       'ed in lower forecasted earnings for us during the look-forward period.  The look-forward period also contemplates favorable regulatory changes in certain states in which we operate. We are at risk of not meeting our forecasted earnings and as a result may not be in compliance with certain financial covenants under the Acquisition Facility, as amended, during the look-forward period. As a result, we have classified the outstanding balance of $65,000 under the Acquisition Facility as of September\\xa030, 2022 as a current liability. These conditions raise substantial doubt regarding our ability to continue a'],\n",
       "      dtype=object)"
      ]
     },
     "execution_count": 529,
     "metadata": {},
     "output_type": "execute_result"
    }
   ],
   "source": [
    "new_df2_para[(new_df2_para['predicted_label'] ==  1) & (new_df2_para['date_extracted']!= '')]['extraction_data'].values"
   ]
  },
  {
   "cell_type": "code",
   "execution_count": 20,
   "id": "934fe43e",
   "metadata": {},
   "outputs": [
    {
     "data": {
      "text/plain": [
       "file_path                    0\n",
       "html_path                    0\n",
       "reporting_date               0\n",
       "filing_date                  0\n",
       "violation_info               0\n",
       "ishtml                       0\n",
       "extraction_data              0\n",
       "extraction_data_len          0\n",
       "predicted_label              0\n",
       "filing_type             126606\n",
       "date_extracted               0\n",
       "extraction_data_cove         0\n",
       "cik                          0\n",
       "dtype: int64"
      ]
     },
     "execution_count": 20,
     "metadata": {},
     "output_type": "execute_result"
    }
   ],
   "source": [
    "new_df2_para.isnull().sum()"
   ]
  },
  {
   "cell_type": "code",
   "execution_count": 21,
   "id": "d0d8f4b4",
   "metadata": {},
   "outputs": [],
   "source": [
    "flip_index = new_df2_para[(new_df2_para['predicted_label'].isin([1,2])) & (new_df2_para['date_extracted']== '')].index"
   ]
  },
  {
   "cell_type": "code",
   "execution_count": 22,
   "id": "4af6cca1",
   "metadata": {},
   "outputs": [],
   "source": [
    "new_df2_para.loc[flip_index, 'predicted_label'] = 0"
   ]
  },
  {
   "cell_type": "code",
   "execution_count": 23,
   "id": "8f757026",
   "metadata": {},
   "outputs": [
    {
     "data": {
      "text/plain": [
       "2    165708\n",
       "0     32939\n",
       "1     26403\n",
       "Name: predicted_label, dtype: int64"
      ]
     },
     "execution_count": 23,
     "metadata": {},
     "output_type": "execute_result"
    }
   ],
   "source": [
    "new_df2_para['predicted_label'].value_counts()"
   ]
  },
  {
   "cell_type": "code",
   "execution_count": 77,
   "id": "1b1e685f",
   "metadata": {},
   "outputs": [],
   "source": [
    "import ast\n",
    "new_df2_para['extraction_data_cove'] = new_df2_para['extraction_data_cove'].apply(lambda x: ast.literal_eval(x))"
   ]
  },
  {
   "cell_type": "code",
   "execution_count": 28,
   "id": "6fa765b7",
   "metadata": {},
   "outputs": [
    {
     "data": {
      "text/plain": [
       "numpy.ndarray"
      ]
     },
     "execution_count": 28,
     "metadata": {},
     "output_type": "execute_result"
    }
   ],
   "source": [
    "type(new_df2_para['extraction_data_cove'][0])"
   ]
  },
  {
   "cell_type": "code",
   "execution_count": 68,
   "id": "366c0388",
   "metadata": {},
   "outputs": [
    {
     "data": {
      "text/plain": [
       "140527                             []\n",
       "154666                             []\n",
       "150995                             []\n",
       "162751                             []\n",
       "54822                              []\n",
       "221847    [fix charge coverage ratio]\n",
       "207344                             []\n",
       "182522                             []\n",
       "139923                             []\n",
       "197139                             []\n",
       "Name: extraction_data_cove, dtype: object"
      ]
     },
     "execution_count": 68,
     "metadata": {},
     "output_type": "execute_result"
    }
   ],
   "source": [
    "new_df2_para['extraction_data_cove']"
   ]
  },
  {
   "cell_type": "code",
   "execution_count": 34,
   "id": "4644a072",
   "metadata": {},
   "outputs": [
    {
     "data": {
      "text/plain": [
       "array([], dtype=object)"
      ]
     },
     "execution_count": 34,
     "metadata": {},
     "output_type": "execute_result"
    }
   ],
   "source": [
    "new_df2_para['extraction_data_cove'][1090]"
   ]
  },
  {
   "cell_type": "code",
   "execution_count": 71,
   "id": "4f94340d",
   "metadata": {},
   "outputs": [],
   "source": [
    "new_df2_para['extraction_data_cove'] = new_df2_para['extraction_data_cove'].astype(str)"
   ]
  },
  {
   "cell_type": "code",
   "execution_count": 78,
   "id": "807e9859",
   "metadata": {},
   "outputs": [],
   "source": [
    "new_df_42 = new_df2_para.groupby(['html_path']).agg({'file_path':'max',\n",
    "                                                 'predicted_label':'max',\n",
    "                                                'reporting_date':'max',\n",
    "                                                'filing_date':'max' ,\n",
    "                                                'predicted_label':'max',\n",
    "                                                'date_extracted':lambda x: ('|'.join(x)),\n",
    "                                                'extraction_data_cove':'sum'})"
   ]
  },
  {
   "cell_type": "code",
   "execution_count": 79,
   "id": "47c5cae2",
   "metadata": {},
   "outputs": [],
   "source": [
    "new_df_42.reset_index(inplace=True)\n"
   ]
  },
  {
   "cell_type": "code",
   "execution_count": 80,
   "id": "3471ad18",
   "metadata": {},
   "outputs": [],
   "source": [
    "new_df_42['date_extracted'] = new_df_42['date_extracted'].apply(lambda x: list(set(x.split('|'))))\n",
    "new_df_42['extraction_data_cove'] = new_df_42['extraction_data_cove'].apply(lambda x: list(set(x)))"
   ]
  },
  {
   "cell_type": "code",
   "execution_count": 81,
   "id": "6ddc3861",
   "metadata": {},
   "outputs": [],
   "source": [
    "# extratcing the filing name again \n",
    "new_df_42['filing_type'] = new_df_42['file_path'].str[-8:-4]\n",
    "new_df_42['filing_type'].replace({'_8_K':'8_K','10-K':'10_K'}, inplace=True)\n",
    "new_df_42['filing_type'] = np.where(new_df_42['filing_type'].isin(['10_K','8_K']), new_df_42['filing_type'], '10_Q')"
   ]
  },
  {
   "cell_type": "code",
   "execution_count": 82,
   "id": "1a369c6f",
   "metadata": {},
   "outputs": [
    {
     "data": {
      "text/html": [
       "<div>\n",
       "<style scoped>\n",
       "    .dataframe tbody tr th:only-of-type {\n",
       "        vertical-align: middle;\n",
       "    }\n",
       "\n",
       "    .dataframe tbody tr th {\n",
       "        vertical-align: top;\n",
       "    }\n",
       "\n",
       "    .dataframe thead th {\n",
       "        text-align: right;\n",
       "    }\n",
       "</style>\n",
       "<table border=\"1\" class=\"dataframe\">\n",
       "  <thead>\n",
       "    <tr style=\"text-align: right;\">\n",
       "      <th></th>\n",
       "      <th>html_path</th>\n",
       "      <th>file_path</th>\n",
       "      <th>predicted_label</th>\n",
       "      <th>reporting_date</th>\n",
       "      <th>filing_date</th>\n",
       "      <th>date_extracted</th>\n",
       "      <th>extraction_data_cove</th>\n",
       "      <th>filing_type</th>\n",
       "    </tr>\n",
       "  </thead>\n",
       "  <tbody>\n",
       "    <tr>\n",
       "      <th>0</th>\n",
       "      <td>https://www.sec.gov/Archives/edgar/data/100001...</td>\n",
       "      <td>F:\\Master_Thesis_NLP\\\\sec_filings_10QK\\2000\\8_...</td>\n",
       "      <td>2</td>\n",
       "      <td>2000_12_11</td>\n",
       "      <td>2000_12_13</td>\n",
       "      <td>[September 30, 2000]</td>\n",
       "      <td>[]</td>\n",
       "      <td>8_K</td>\n",
       "    </tr>\n",
       "    <tr>\n",
       "      <th>1</th>\n",
       "      <td>https://www.sec.gov/Archives/edgar/data/100001...</td>\n",
       "      <td>F:\\Master_Thesis_NLP\\\\sec_filings_10QK\\2002\\8_...</td>\n",
       "      <td>1</td>\n",
       "      <td>2002_02_21</td>\n",
       "      <td>2002_02_28</td>\n",
       "      <td>[December 31, 2001]</td>\n",
       "      <td>[leverage ratio]</td>\n",
       "      <td>8_K</td>\n",
       "    </tr>\n",
       "    <tr>\n",
       "      <th>2</th>\n",
       "      <td>https://www.sec.gov/Archives/edgar/data/100001...</td>\n",
       "      <td>F:\\Master_Thesis_NLP\\\\sec_filings_10QK\\2000\\10...</td>\n",
       "      <td>2</td>\n",
       "      <td>2000-09-30</td>\n",
       "      <td>2000_11_14</td>\n",
       "      <td>[September 30, 2000]</td>\n",
       "      <td>[interest expense]</td>\n",
       "      <td>10_Q</td>\n",
       "    </tr>\n",
       "    <tr>\n",
       "      <th>3</th>\n",
       "      <td>https://www.sec.gov/Archives/edgar/data/100001...</td>\n",
       "      <td>F:\\Master_Thesis_NLP\\\\sec_filings_10QK\\2000\\10...</td>\n",
       "      <td>2</td>\n",
       "      <td>2000-12-31</td>\n",
       "      <td>2001_04_02</td>\n",
       "      <td>[11, 2000, December 31, 2000]</td>\n",
       "      <td>[leverage ratio]</td>\n",
       "      <td>10_K</td>\n",
       "    </tr>\n",
       "    <tr>\n",
       "      <th>4</th>\n",
       "      <td>https://www.sec.gov/Archives/edgar/data/100001...</td>\n",
       "      <td>F:\\Master_Thesis_NLP\\\\sec_filings_10QK\\2001\\10...</td>\n",
       "      <td>2</td>\n",
       "      <td>2001-03-31</td>\n",
       "      <td>2001_05_15</td>\n",
       "      <td>[March 30, 2001]</td>\n",
       "      <td>[leverage ratio]</td>\n",
       "      <td>10_Q</td>\n",
       "    </tr>\n",
       "  </tbody>\n",
       "</table>\n",
       "</div>"
      ],
      "text/plain": [
       "                                           html_path  \\\n",
       "0  https://www.sec.gov/Archives/edgar/data/100001...   \n",
       "1  https://www.sec.gov/Archives/edgar/data/100001...   \n",
       "2  https://www.sec.gov/Archives/edgar/data/100001...   \n",
       "3  https://www.sec.gov/Archives/edgar/data/100001...   \n",
       "4  https://www.sec.gov/Archives/edgar/data/100001...   \n",
       "\n",
       "                                           file_path  predicted_label  \\\n",
       "0  F:\\Master_Thesis_NLP\\\\sec_filings_10QK\\2000\\8_...                2   \n",
       "1  F:\\Master_Thesis_NLP\\\\sec_filings_10QK\\2002\\8_...                1   \n",
       "2  F:\\Master_Thesis_NLP\\\\sec_filings_10QK\\2000\\10...                2   \n",
       "3  F:\\Master_Thesis_NLP\\\\sec_filings_10QK\\2000\\10...                2   \n",
       "4  F:\\Master_Thesis_NLP\\\\sec_filings_10QK\\2001\\10...                2   \n",
       "\n",
       "  reporting_date filing_date                 date_extracted  \\\n",
       "0     2000_12_11  2000_12_13           [September 30, 2000]   \n",
       "1     2002_02_21  2002_02_28            [December 31, 2001]   \n",
       "2     2000-09-30  2000_11_14           [September 30, 2000]   \n",
       "3     2000-12-31  2001_04_02  [11, 2000, December 31, 2000]   \n",
       "4     2001-03-31  2001_05_15               [March 30, 2001]   \n",
       "\n",
       "  extraction_data_cove filing_type  \n",
       "0                   []         8_K  \n",
       "1     [leverage ratio]         8_K  \n",
       "2   [interest expense]        10_Q  \n",
       "3     [leverage ratio]        10_K  \n",
       "4     [leverage ratio]        10_Q  "
      ]
     },
     "execution_count": 82,
     "metadata": {},
     "output_type": "execute_result"
    }
   ],
   "source": [
    "new_df_42.head()"
   ]
  },
  {
   "cell_type": "code",
   "execution_count": 103,
   "id": "089bc343",
   "metadata": {},
   "outputs": [],
   "source": [
    "new_df = new_df.merge(new_df_42[['html_path','date_extracted', 'predicted_label','extraction_data_cove']] , \n",
    "               how='left', \n",
    "               on='html_path')"
   ]
  },
  {
   "cell_type": "code",
   "execution_count": 104,
   "id": "d6c125f9",
   "metadata": {},
   "outputs": [
    {
     "data": {
      "text/plain": [
       "(1869503, 16)"
      ]
     },
     "execution_count": 104,
     "metadata": {},
     "output_type": "execute_result"
    }
   ],
   "source": [
    "new_df.shape"
   ]
  },
  {
   "cell_type": "code",
   "execution_count": 105,
   "id": "3b2f8a60",
   "metadata": {},
   "outputs": [
    {
     "data": {
      "text/html": [
       "<div>\n",
       "<style scoped>\n",
       "    .dataframe tbody tr th:only-of-type {\n",
       "        vertical-align: middle;\n",
       "    }\n",
       "\n",
       "    .dataframe tbody tr th {\n",
       "        vertical-align: top;\n",
       "    }\n",
       "\n",
       "    .dataframe thead th {\n",
       "        text-align: right;\n",
       "    }\n",
       "</style>\n",
       "<table border=\"1\" class=\"dataframe\">\n",
       "  <thead>\n",
       "    <tr style=\"text-align: right;\">\n",
       "      <th></th>\n",
       "      <th>file_path</th>\n",
       "      <th>html_path</th>\n",
       "      <th>reporting_date</th>\n",
       "      <th>filing_date</th>\n",
       "      <th>violation_info</th>\n",
       "      <th>ishtml</th>\n",
       "      <th>extraction_data</th>\n",
       "      <th>extraction_data_len</th>\n",
       "      <th>filing_type</th>\n",
       "      <th>predicted_label_x</th>\n",
       "      <th>year</th>\n",
       "      <th>date_extracted_x</th>\n",
       "      <th>extraction_data_cove_x</th>\n",
       "      <th>date_extracted_y</th>\n",
       "      <th>predicted_label_y</th>\n",
       "      <th>extraction_data_cove_y</th>\n",
       "    </tr>\n",
       "  </thead>\n",
       "  <tbody>\n",
       "    <tr>\n",
       "      <th>0</th>\n",
       "      <td>F:\\Master_Thesis_NLP\\\\sec_filings_10QK\\1996\\10...</td>\n",
       "      <td>https://www.sec.gov/Archives/edgar/data/933589...</td>\n",
       "      <td>1996-12-31</td>\n",
       "      <td>1997_04_17</td>\n",
       "      <td>1_2</td>\n",
       "      <td>False</td>\n",
       "      <td>[tstanding letters of credit issued under  thi...</td>\n",
       "      <td>3</td>\n",
       "      <td>10_K</td>\n",
       "      <td>2</td>\n",
       "      <td>1996</td>\n",
       "      <td>[June 30, 1997, December 31, 1996]</td>\n",
       "      <td>[tangible net worth]</td>\n",
       "      <td>[June 30, 1997, December 31, 1996]</td>\n",
       "      <td>2</td>\n",
       "      <td>[tangible net worth]</td>\n",
       "    </tr>\n",
       "    <tr>\n",
       "      <th>1</th>\n",
       "      <td>F:\\Master_Thesis_NLP\\\\sec_filings_10QK\\1996\\10...</td>\n",
       "      <td>https://www.sec.gov/Archives/edgar/data/933590...</td>\n",
       "      <td>1996-12-31</td>\n",
       "      <td>1997_04_01</td>\n",
       "      <td>0</td>\n",
       "      <td>False</td>\n",
       "      <td>[]</td>\n",
       "      <td>0</td>\n",
       "      <td>10_K</td>\n",
       "      <td>0</td>\n",
       "      <td>1996</td>\n",
       "      <td>None</td>\n",
       "      <td>None</td>\n",
       "      <td>NaN</td>\n",
       "      <td>NaN</td>\n",
       "      <td>NaN</td>\n",
       "    </tr>\n",
       "    <tr>\n",
       "      <th>2</th>\n",
       "      <td>F:\\Master_Thesis_NLP\\\\sec_filings_10QK\\1996\\10...</td>\n",
       "      <td>https://www.sec.gov/Archives/edgar/data/934011...</td>\n",
       "      <td>1996-09-30</td>\n",
       "      <td>1997_01_31</td>\n",
       "      <td>0</td>\n",
       "      <td>False</td>\n",
       "      <td>[]</td>\n",
       "      <td>0</td>\n",
       "      <td>10_K</td>\n",
       "      <td>0</td>\n",
       "      <td>1996</td>\n",
       "      <td>None</td>\n",
       "      <td>None</td>\n",
       "      <td>NaN</td>\n",
       "      <td>NaN</td>\n",
       "      <td>NaN</td>\n",
       "    </tr>\n",
       "    <tr>\n",
       "      <th>3</th>\n",
       "      <td>F:\\Master_Thesis_NLP\\\\sec_filings_10QK\\1996\\10...</td>\n",
       "      <td>https://www.sec.gov/Archives/edgar/data/934599...</td>\n",
       "      <td>1996-12-31</td>\n",
       "      <td>1997_03_04</td>\n",
       "      <td>1_2</td>\n",
       "      <td>False</td>\n",
       "      <td>[de and performed entirely within such Commonw...</td>\n",
       "      <td>8</td>\n",
       "      <td>10_K</td>\n",
       "      <td>0</td>\n",
       "      <td>1996</td>\n",
       "      <td>None</td>\n",
       "      <td>None</td>\n",
       "      <td>NaN</td>\n",
       "      <td>NaN</td>\n",
       "      <td>NaN</td>\n",
       "    </tr>\n",
       "    <tr>\n",
       "      <th>4</th>\n",
       "      <td>F:\\Master_Thesis_NLP\\\\sec_filings_10QK\\1996\\10...</td>\n",
       "      <td>https://www.sec.gov/Archives/edgar/data/934648...</td>\n",
       "      <td>1996-12-31</td>\n",
       "      <td>1997_03_26</td>\n",
       "      <td>0</td>\n",
       "      <td>False</td>\n",
       "      <td>[]</td>\n",
       "      <td>0</td>\n",
       "      <td>10_K</td>\n",
       "      <td>0</td>\n",
       "      <td>1996</td>\n",
       "      <td>None</td>\n",
       "      <td>None</td>\n",
       "      <td>NaN</td>\n",
       "      <td>NaN</td>\n",
       "      <td>NaN</td>\n",
       "    </tr>\n",
       "  </tbody>\n",
       "</table>\n",
       "</div>"
      ],
      "text/plain": [
       "                                           file_path  \\\n",
       "0  F:\\Master_Thesis_NLP\\\\sec_filings_10QK\\1996\\10...   \n",
       "1  F:\\Master_Thesis_NLP\\\\sec_filings_10QK\\1996\\10...   \n",
       "2  F:\\Master_Thesis_NLP\\\\sec_filings_10QK\\1996\\10...   \n",
       "3  F:\\Master_Thesis_NLP\\\\sec_filings_10QK\\1996\\10...   \n",
       "4  F:\\Master_Thesis_NLP\\\\sec_filings_10QK\\1996\\10...   \n",
       "\n",
       "                                           html_path reporting_date  \\\n",
       "0  https://www.sec.gov/Archives/edgar/data/933589...     1996-12-31   \n",
       "1  https://www.sec.gov/Archives/edgar/data/933590...     1996-12-31   \n",
       "2  https://www.sec.gov/Archives/edgar/data/934011...     1996-09-30   \n",
       "3  https://www.sec.gov/Archives/edgar/data/934599...     1996-12-31   \n",
       "4  https://www.sec.gov/Archives/edgar/data/934648...     1996-12-31   \n",
       "\n",
       "  filing_date violation_info  ishtml  \\\n",
       "0  1997_04_17            1_2   False   \n",
       "1  1997_04_01              0   False   \n",
       "2  1997_01_31              0   False   \n",
       "3  1997_03_04            1_2   False   \n",
       "4  1997_03_26              0   False   \n",
       "\n",
       "                                     extraction_data  extraction_data_len  \\\n",
       "0  [tstanding letters of credit issued under  thi...                    3   \n",
       "1                                                 []                    0   \n",
       "2                                                 []                    0   \n",
       "3  [de and performed entirely within such Commonw...                    8   \n",
       "4                                                 []                    0   \n",
       "\n",
       "  filing_type  predicted_label_x  year                    date_extracted_x  \\\n",
       "0        10_K                  2  1996  [June 30, 1997, December 31, 1996]   \n",
       "1        10_K                  0  1996                                None   \n",
       "2        10_K                  0  1996                                None   \n",
       "3        10_K                  0  1996                                None   \n",
       "4        10_K                  0  1996                                None   \n",
       "\n",
       "  extraction_data_cove_x                    date_extracted_y  \\\n",
       "0   [tangible net worth]  [June 30, 1997, December 31, 1996]   \n",
       "1                   None                                 NaN   \n",
       "2                   None                                 NaN   \n",
       "3                   None                                 NaN   \n",
       "4                   None                                 NaN   \n",
       "\n",
       "   predicted_label_y extraction_data_cove_y  \n",
       "0                  2   [tangible net worth]  \n",
       "1                NaN                    NaN  \n",
       "2                NaN                    NaN  \n",
       "3                NaN                    NaN  \n",
       "4                NaN                    NaN  "
      ]
     },
     "execution_count": 105,
     "metadata": {},
     "output_type": "execute_result"
    }
   ],
   "source": [
    "new_df.head()"
   ]
  },
  {
   "cell_type": "code",
   "execution_count": 191,
   "id": "4d34c710",
   "metadata": {},
   "outputs": [
    {
     "data": {
      "text/plain": [
       "array(['F:\\\\Master_Thesis_NLP\\\\\\\\sec_filings_10QK\\\\1996\\\\8_k_2\\\\890175_1996_08_15_96616879_8_K.txt',\n",
       "       'F:\\\\Master_Thesis_NLP\\\\\\\\sec_filings_10QK\\\\1996\\\\8_k_2\\\\890175_1996_08_15_96616840_8_K.txt',\n",
       "       'F:\\\\Master_Thesis_NLP\\\\\\\\sec_filings_10QK\\\\1996\\\\8_k_2\\\\890175_1996_08_15_96616885_8_K.txt',\n",
       "       'F:\\\\Master_Thesis_NLP\\\\\\\\sec_filings_10QK\\\\1996\\\\8_k_2\\\\890175_1996_08_15_96616887_8_K.txt',\n",
       "       'F:\\\\Master_Thesis_NLP\\\\\\\\sec_filings_10QK\\\\1996\\\\8_k_2\\\\890175_1996_08_15_96616890_8_K.txt'],\n",
       "      dtype=object)"
      ]
     },
     "execution_count": 191,
     "metadata": {},
     "output_type": "execute_result"
    }
   ],
   "source": [
    "new_df[new_df['filing_type']=='8_K'] ['file_path'].head().values"
   ]
  },
  {
   "cell_type": "code",
   "execution_count": 391,
   "id": "4ece9115",
   "metadata": {},
   "outputs": [],
   "source": [
    "933589_1996_10_K.txt => CIK_report_date.txt"
   ]
  },
  {
   "cell_type": "code",
   "execution_count": null,
   "id": "02dfb437",
   "metadata": {},
   "outputs": [],
   "source": [
    "933589_1996_10_K.txt => CIK_reportdate.txt\n",
    "789_1996_03_31_QTR2.txt => CIK_report_date_IDXQuarternumber.txt\n",
    "890175_1996_08_15_96616879_8_K.txt => CIK_reportdate_FILMNUMBER.txt"
   ]
  },
  {
   "cell_type": "markdown",
   "id": "26a03120",
   "metadata": {},
   "source": [
    "# End of the Notebook"
   ]
  }
 ],
 "metadata": {
  "kernelspec": {
   "display_name": "Python 3 (ipykernel)",
   "language": "python",
   "name": "python3"
  },
  "language_info": {
   "codemirror_mode": {
    "name": "ipython",
    "version": 3
   },
   "file_extension": ".py",
   "mimetype": "text/x-python",
   "name": "python",
   "nbconvert_exporter": "python",
   "pygments_lexer": "ipython3",
   "version": "3.8.8"
  }
 },
 "nbformat": 4,
 "nbformat_minor": 5
}
