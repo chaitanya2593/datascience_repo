{
 "cells": [
  {
   "cell_type": "markdown",
   "id": "e4e9a1d3",
   "metadata": {},
   "source": [
    "# A Short Guide to Documenting Code\n",
    "Gregory Wheeler, March 1, 2022\n",
    "\n",
    "\n",
    "> <i> Code tells you how the program works. Comments should tell you why it works </i>\n",
    "\n",
    "\n",
    "There are four elements to documenting an Ipython notebook \n",
    "\n",
    "1. _Type Annotation_ of functions\n",
    "2. _Docstrings_\n",
    "3. _Commenting_\n",
    "4. _Markdown_ cells\n",
    "\n",
    "Let's take each in order."
   ]
  },
  {
   "cell_type": "markdown",
   "id": "8af0ae47",
   "metadata": {},
   "source": [
    "## 1 Type Annotation\n",
    "\n",
    "Since Python 3.5, Python supports [type annotation](https://docs.python.org/3/library/typing.html) to make explicit the types your code intends to use. Annotating the types of a function kills two birds with one stone.  By being as explicit as possible, you can  simultaneously clearly convey what a function does while removing ambiguity down the line.\n",
    "\n",
    "For example, consider the function `default_predictor`, which has four inputs:"
   ]
  },
  {
   "cell_type": "code",
   "execution_count": 1,
   "id": "a1ac8539",
   "metadata": {},
   "outputs": [],
   "source": [
    "def default_predictor(market:list, platform:str, country:str, currency:str = 'USD')->float:\n",
    "    \n",
    "    ...\n",
    "    \n",
    "    return default_probability"
   ]
  },
  {
   "cell_type": "markdown",
   "id": "3607a53c",
   "metadata": {},
   "source": [
    "The function `default_predictor` has four inputs:\n",
    "\n",
    " 1. A variable `market` of type <b>list</b>\n",
    " 2. A variable `platform` of type <b>string</b>\n",
    " 3. A variable `country` of type <b>string</b>\n",
    " 4. A variable `currency` of type <b>string</b> with default value `'USD'`.\n",
    " \n",
    "and returns a default probability of type <b>float</b>. \n",
    "\n",
    "---"
   ]
  },
  {
   "cell_type": "markdown",
   "id": "10fe0e33",
   "metadata": {},
   "source": [
    "### Note on Dynamic vs Static Typing\n",
    "Python is a <b>dynamically-typed language</b>, which means that type checking occurs at run time. For example, the following block does not raise a type error, because the mistyped expression `\"two\" + 2` is not evaluated at runtime:"
   ]
  },
  {
   "cell_type": "code",
   "execution_count": null,
   "id": "f8b512de",
   "metadata": {},
   "outputs": [],
   "source": [
    "if False:\n",
    "    \"two\" + 2  # not evaluated at runtime\n",
    "else:\n",
    "    2 + 2"
   ]
  },
  {
   "cell_type": "markdown",
   "id": "ae468a17",
   "metadata": {},
   "source": [
    "If you change `False` to `True`, however, a type error is raised. In comparison, a <i>statically-typed language</i> would generate a type error for both conditions.\n",
    "\n",
    "Therefore, it is important to emphasize that <u>type annotation in Python 3 is a form of documentation</u>, not of a form of static typing. While annotations can be used by some Python IDEs to help maintain consistency, Python remains a dynamically-typed language: types are only checked at runtime.  "
   ]
  },
  {
   "cell_type": "markdown",
   "id": "a02e595b",
   "metadata": {},
   "source": [
    "## 2 Docstrings\n",
    "\n",
    "Docstrings give a standardized way to document your code.\n",
    "\n",
    "Here is an example template:\n",
    "\n",
    "~~~python\n",
    "\n",
    "def yourFunction(x,y):\n",
    "    \"\"\"yourFunction\n",
    "    \n",
    "    Arguments:\n",
    "        x {|type|} -- |description of x|\n",
    "        y {|type|} -- |description of y|\n",
    "        \n",
    "    Raises:\n",
    "        TypeError -- |description of error|\n",
    "        \n",
    "    Returns:\n",
    "        |type| -- |description of output|\n",
    "        \n",
    "    \"\"\"\n",
    "    if x < y:\n",
    "        raise TypeError\n",
    "    return True\n",
    "~~~\n",
    "\n",
    "Then, the documentation for `yourFunction()` might be filled in as follows:\n",
    "\n",
    "~~~python\n",
    "\n",
    "def yourFunction(x,y):\n",
    "    \"\"\"yourFunction \n",
    "    \n",
    "    Arguments:\n",
    "        x integer):  number of children\n",
    "        y (integer): number of chairs\n",
    "        \n",
    "    Raises:\n",
    "        TypeError:   unhappy classroom\n",
    "        \n",
    "    Returns:\n",
    "        (boolean):   returns True if the childern have enough chairs\n",
    "        \n",
    "    \"\"\"\n",
    "    if x < y:\n",
    "        raise TypeError\n",
    "    return True\n",
    "~~~\n",
    "\n",
    "Notice how just even this barebones description gives a clearer understanding of `yourFunction()`.\n",
    "\n",
    "\n",
    "Unlike other python IDEs, such as VScode, sublime, and pytorch, jupyter does not support auto docstring tools like [Python Docstrings Generator](https://marketplace.visualstudio.com/items?itemName=njpwerner.autodocstring). One alternative is to install [nbextensions](https://jupyter-contrib-nbextensions.readthedocs.io/en/latest/):\n",
    "\n",
    "`pip install jupyter_contrib_nbextensions`\n",
    "\n",
    "and define a docstring template using [snippets](https://jupyter-contrib-nbextensions.readthedocs.io/en/latest/nbextensions/snippets/README.html). \n",
    "\n",
    "\n",
    "<div class=\"alert alert-block alert-info\">\n",
    "    <b>Tip:</b> You should write your docstring <i>after</i> you have completed your function.\n",
    "</div>\n"
   ]
  },
  {
   "cell_type": "code",
   "execution_count": 2,
   "id": "a9bc2710",
   "metadata": {},
   "outputs": [],
   "source": [
    "def default_predictor(market:list, platform:str, country:str, currency:str = 'USD')->float:\n",
    "    \"\"\"This function predicts default probabilities for SME and Consumer loans\n",
    "    \n",
    "    Arguments:\n",
    "        market (list):            A list of loan categories e.g., ['SME', 'Consumer']\n",
    "        platform (str):           Name of lending platform\n",
    "        country (str):            Country code\n",
    "        currency (str, optional): Denomination. Defaults to 'USD'\n",
    "    \n",
    "    Returns:\n",
    "        (float):                  Default probability\n",
    "    \n",
    "    \"\"\"\n",
    "    \n",
    "    ...\n",
    "    \n",
    "    return default_probability"
   ]
  },
  {
   "cell_type": "markdown",
   "id": "cc705d15",
   "metadata": {},
   "source": [
    "## 3 Comments\n",
    "\n",
    "Python comments are used to explain a specific line of code and are usually only themselves one line \n",
    "\n",
    "Returning to our running example, "
   ]
  },
  {
   "cell_type": "code",
   "execution_count": 4,
   "id": "cc9acaba",
   "metadata": {},
   "outputs": [],
   "source": [
    "def default_predictor(market:list, platform:str, country:str, currency:str = 'USD')->float:\n",
    "    \"\"\"This function predicts default probabilities for SME and Consumer loans\n",
    "    \n",
    "    Arguments:\n",
    "        market (list):            A list of loan categories e.g., ['SME', 'Consumer']\n",
    "        platform (str):           Name of lending platform\n",
    "        country (str):            Country code\n",
    "        currency (str, optional): Denomination. Defaults to 'USD'\n",
    "    \n",
    "    Returns:\n",
    "        (float):                  Default probability\n",
    "    \n",
    "    \"\"\"\n",
    "    \n",
    "    for m in market:\n",
    "        arg = platform_unpack(platform,country,currency)    # select by platform, country, currency in market segment\n",
    "    \n",
    "    ...\n",
    "    \n",
    "    return default_probability"
   ]
  },
  {
   "cell_type": "markdown",
   "id": "971f8fcc",
   "metadata": {},
   "source": [
    "## 4 Notebook Markdown\n",
    "\n",
    "Lastly, the markdown sections of your notebook should cover:\n",
    "\n",
    " * <b>What does the collection of code blocks do?</b>  \n",
    "   * Introduction & Overview\n",
    "   * List the necessary files\n",
    "   * Who maintains it\n",
    "   * Last date of modification\n",
    " * <b>What is the logic?</b>\n",
    "   * The notebook should be arranged to run, without error, by __Kernel >> Restart & Run__\n",
    "   * There should be a description describing why each subsequent block of code is run if (a) it is not completely obvious or (b) a one-line comment at the start of the code-block is not sufficient.\n",
    "\n",
    "<div class=\"alert alert-block alert-info\">\n",
    "    <b>Tip:</b> Unlike docstrings, you should start writing at least a barebones description of your notebook and its logic from the start. \n",
    "</div> "
   ]
  },
  {
   "cell_type": "code",
   "execution_count": null,
   "id": "287940b5",
   "metadata": {},
   "outputs": [],
   "source": []
  }
 ],
 "metadata": {
  "kernelspec": {
   "display_name": "Python 3 (ipykernel)",
   "language": "python",
   "name": "python3"
  },
  "language_info": {
   "codemirror_mode": {
    "name": "ipython",
    "version": 3
   },
   "file_extension": ".py",
   "mimetype": "text/x-python",
   "name": "python",
   "nbconvert_exporter": "python",
   "pygments_lexer": "ipython3",
   "version": "3.8.8"
  }
 },
 "nbformat": 4,
 "nbformat_minor": 5
}
