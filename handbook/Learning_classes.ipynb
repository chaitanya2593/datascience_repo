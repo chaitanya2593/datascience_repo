{
 "cells": [
  {
   "cell_type": "code",
   "execution_count": null,
   "id": "3d8d9f30",
   "metadata": {},
   "outputs": [],
   "source": [
    "# A Short Guide on defining classes\n",
    "Chaitanya Madduri, June 5, 2022\n",
    "\n",
    "\n",
    "> <i> Understand the concepts of the c;a </i>\n",
    "\n",
    "\n",
    "There are four elements to documenting an Ipython notebook \n",
    "\n",
    "1. _Type Annotation_ of functions\n",
    "2. _Docstrings_\n",
    "3. _Commenting_\n",
    "4. _Markdown_ cells\n",
    "\n",
    "Let's take each in order."
   ]
  },
  {
   "cell_type": "markdown",
   "id": "b081bc0c",
   "metadata": {},
   "source": [
    "## 1. Class without the constructor"
   ]
  },
  {
   "cell_type": "code",
   "execution_count": 53,
   "id": "ee1dd709",
   "metadata": {},
   "outputs": [],
   "source": [
    "'''\n",
    "Class without the constructor \n",
    "'''\n",
    "class BankAccount:\n",
    "    def set_owner(self, owner):\n",
    "        self.owner = owner\n",
    "        \n",
    "    def set_balance(self, balance):\n",
    "        self.balance = balance\n",
    "        \n",
    "    def deposit(self, amount):\n",
    "        self.balance += amount\n",
    "        \n",
    "    def withdraw(self, amount):\n",
    "        self.balance -= amount"
   ]
  },
  {
   "cell_type": "code",
   "execution_count": 54,
   "id": "0a408cbd",
   "metadata": {},
   "outputs": [
    {
     "name": "stdout",
     "output_type": "stream",
     "text": [
      "Michal 700\n"
     ]
    }
   ],
   "source": [
    "my_account = BankAccount()\n",
    "my_account.set_owner(\"Michal\")\n",
    "my_account.set_balance(0)\n",
    "\n",
    "my_account.deposit(1000)\n",
    "my_account.withdraw(300)\n",
    "\n",
    "print(my_account.owner, my_account.balance)"
   ]
  },
  {
   "cell_type": "markdown",
   "id": "864e2926",
   "metadata": {},
   "source": [
    "## 2. With Class const "
   ]
  },
  {
   "cell_type": "code",
   "execution_count": 25,
   "id": "22cc7f27",
   "metadata": {},
   "outputs": [
    {
     "name": "stdout",
     "output_type": "stream",
     "text": [
      "John Doe\n"
     ]
    }
   ],
   "source": [
    "class Employee:\n",
    "    def __init__(self, fname, lname):\n",
    "        self.firstname = fname\n",
    "        self.lastname = lname\n",
    "\n",
    "    def printname(self):\n",
    "        print(self.firstname, self.lastname)\n",
    "\n",
    "    def __str__(self):\n",
    "        print(\"gamma\")\n",
    "\n",
    "    def __ls__(self):\n",
    "        print(\"beta\")\n",
    "#Use the Person class to create an object, and then execute the printname method:\n",
    "\n",
    "x = Person(\"John\", \"Doe\")\n",
    "x.printname()"
   ]
  },
  {
   "cell_type": "code",
   "execution_count": 3,
   "id": "38e8e909",
   "metadata": {},
   "outputs": [],
   "source": [
    "ko = Person(\"Abraham\", \"Jesus\")"
   ]
  },
  {
   "cell_type": "code",
   "execution_count": null,
   "id": "6fb19837",
   "metadata": {},
   "outputs": [],
   "source": [
    "ko."
   ]
  },
  {
   "cell_type": "code",
   "execution_count": 27,
   "id": "784e483a",
   "metadata": {},
   "outputs": [],
   "source": [
    "class Student(Employee):\n",
    "    def __init__(self, fname, lname):\n",
    "        super().__init__(fname, lname)\n",
    "\n",
    "    def __lp__(self):\n",
    "        print(\"kshhdgshdgshg\")\n",
    "    \n",
    "    "
   ]
  },
  {
   "cell_type": "code",
   "execution_count": 28,
   "id": "108b65dd",
   "metadata": {},
   "outputs": [],
   "source": [
    "s1 = Student(\"Abraham\", \"Jesus\")"
   ]
  },
  {
   "cell_type": "code",
   "execution_count": 32,
   "id": "3b5a1210",
   "metadata": {},
   "outputs": [
    {
     "name": "stdout",
     "output_type": "stream",
     "text": [
      "Abraham Jesus\n"
     ]
    }
   ],
   "source": [
    "s1.printname()"
   ]
  },
  {
   "cell_type": "markdown",
   "id": "87e792fe",
   "metadata": {},
   "source": [
    "## 3. Static Method"
   ]
  },
  {
   "cell_type": "code",
   "execution_count": 55,
   "id": "f06c2c65",
   "metadata": {},
   "outputs": [
    {
     "name": "stdout",
     "output_type": "stream",
     "text": [
      "Equal\n"
     ]
    }
   ],
   "source": [
    "class Dates:\n",
    "    def __init__(self, date):\n",
    "        self.date = date\n",
    "        \n",
    "    def getDate(self):\n",
    "        return self.date\n",
    "\n",
    "    @staticmethod\n",
    "    def toDashDate(date):\n",
    "        return date.replace(\"/\", \"-\")\n",
    "\n",
    "class DatesWithSlashes(Dates):\n",
    "    def getDate(self):\n",
    "        return Dates.toDashDate(self.date)\n",
    "    \n",
    "    def toDashDate(date):\n",
    "        return Dates.toDashDate(date)\n",
    "#         return date.replace(\"/\", \"|\")  # this is teh case of teh func overriding \n",
    "\n",
    "#     def getDate(self, isReplace):\n",
    "#         return Dates.toDashDate(self.date.replace(\"/\", \"|\"))\n",
    "\n",
    "date = Dates(\"15-12-2016\")\n",
    "dateFromDB = DatesWithSlashes(\"15/12/2016\")\n",
    "\n",
    "if(date.getDate() == dateFromDB.getDate()):\n",
    "    print(\"Equal\")\n",
    "else:\n",
    "    print(\"Unequal\")"
   ]
  },
  {
   "cell_type": "code",
   "execution_count": 57,
   "id": "2152fabf",
   "metadata": {},
   "outputs": [
    {
     "data": {
      "text/plain": [
       "'15-12-2016'"
      ]
     },
     "execution_count": 57,
     "metadata": {},
     "output_type": "execute_result"
    }
   ],
   "source": [
    "dateFromDB.getDate()"
   ]
  },
  {
   "cell_type": "markdown",
   "id": "a930ceb4",
   "metadata": {},
   "source": [
    "#### Advantages of Static method:\n",
    "    1. it eliminates the need to use the self argument, since the method doesn’t need access to the class instance\n",
    "    2. it reduces memory usage (no need for Python to create a bound method in this case)\n",
    "    3. marking methods as static improves code readability as it immediately tells one this method is a separate piece of code, independent of the state of the class instance."
   ]
  },
  {
   "cell_type": "markdown",
   "id": "38540cd4",
   "metadata": {},
   "source": [
    "## 4. Class method "
   ]
  },
  {
   "cell_type": "code",
   "execution_count": 59,
   "id": "178fd0c6",
   "metadata": {},
   "outputs": [],
   "source": [
    "class BankAccount:\n",
    "\n",
    "    MIN_BALANCE = -10_000\n",
    "    \n",
    "    def __init__(self, owner, account_number, balance=0):\n",
    "        self.owner = owner    \n",
    "        self.account_number = account_number\n",
    "        self.created_at = datetime.now().date()\n",
    "        if balance < self.MIN_BALANCE:\n",
    "            raise ValueError(\"Balance to small!\")\n",
    "        else:\n",
    "            self.balance = balance\n",
    "    \n",
    "    @classmethod\n",
    "    def from_csv(cls, filepath):\n",
    "        with open(filepath, \"r\") as f:\n",
    "            row = csv.reader(f).__next__()\n",
    "            owner, account_number = row\n",
    "        return cls(owner, account_number)\n",
    "    \n",
    "    # other methods not shown"
   ]
  },
  {
   "cell_type": "markdown",
   "id": "1f42599a",
   "metadata": {},
   "source": []
  },
  {
   "cell_type": "code",
   "execution_count": null,
   "id": "b8d7f4a3",
   "metadata": {},
   "outputs": [],
   "source": [
    "my_account = BankAccount.from_csv(\"testfile.csv\")\n",
    "print(my_account._owner, my_account._account_number, my_account._balance)"
   ]
  },
  {
   "cell_type": "code",
   "execution_count": null,
   "id": "b9090399",
   "metadata": {},
   "outputs": [],
   "source": []
  },
  {
   "cell_type": "markdown",
   "id": "babc1965",
   "metadata": {},
   "source": [
    "## 5.  string and reproducible representations\n",
    "Defining the string and reproducible representations for the object makes it human-readable when printed and easy to reproduce, e.g. for debugging. bascially dunder functions "
   ]
  },
  {
   "cell_type": "code",
   "execution_count": 4,
   "id": "f50c6e0b",
   "metadata": {},
   "outputs": [],
   "source": [
    "\n",
    "class Dates:\n",
    "    def __init__(self, date):\n",
    "        self.date = date\n",
    "        \n",
    "    def getDate(self):\n",
    "        return self.date\n",
    "\n",
    "    @staticmethod\n",
    "    def toDashDate(date):\n",
    "        return date.replace(\"/\", \"-\")\n",
    "    \n",
    "    def __str__(self):\n",
    "        return f\"\"\"Date Value : {self.date}\"\"\"  \n",
    "    def __repr__(self):\n",
    "        return f\"\"\"Date Value : {self.date}\"\"\"  "
   ]
  },
  {
   "cell_type": "code",
   "execution_count": 5,
   "id": "510759fd",
   "metadata": {},
   "outputs": [
    {
     "name": "stdout",
     "output_type": "stream",
     "text": [
      "Date Value : 15-12-2016\n"
     ]
    },
    {
     "data": {
      "text/plain": [
       "'Date Value : 15-12-2016'"
      ]
     },
     "execution_count": 5,
     "metadata": {},
     "output_type": "execute_result"
    }
   ],
   "source": [
    "dateobj = Dates(\"15-12-2016\")\n",
    "print(dateobj)\n",
    "repr(dateobj)"
   ]
  },
  {
   "cell_type": "markdown",
   "id": "adcb8c8a",
   "metadata": {},
   "source": [
    "## 6. private methods and attributes\n",
    " In Python, there is no mechanism to make them completely hidden, but we might mark them as private by naming them with a leading double underscore.\n",
    " reference: https://www.geeksforgeeks.org/private-methods-in-python/#:~:text=Private%20methods%20are%20those%20methods,with%20double%20underscore%20%E2%80%9C__%E2%80%9D."
   ]
  },
  {
   "cell_type": "code",
   "execution_count": 38,
   "id": "98f4c040",
   "metadata": {},
   "outputs": [],
   "source": [
    "\n",
    "class Dates:\n",
    "    __day = \"Monday\"\n",
    "    def __init__(self, date):\n",
    "        self.date = date\n",
    "        \n",
    "        \n",
    "    def getDate(self):\n",
    "        return self.date\n",
    "    def __str__(self):\n",
    "        return \"Date : {} and day {}\".format(self.date , self._Dates__day)#__day"
   ]
  },
  {
   "cell_type": "code",
   "execution_count": 39,
   "id": "4fbd9714",
   "metadata": {},
   "outputs": [
    {
     "data": {
      "text/plain": [
       "'Monday'"
      ]
     },
     "execution_count": 39,
     "metadata": {},
     "output_type": "execute_result"
    }
   ],
   "source": [
    "dateobj = Dates(\"15-12-2016\")\n",
    "# dateobj.__day  # since it is an private object we cannot use it lie normal variables\n",
    "dateobj._Dates__day"
   ]
  },
  {
   "cell_type": "code",
   "execution_count": 40,
   "id": "9bc610e8",
   "metadata": {},
   "outputs": [
    {
     "name": "stdout",
     "output_type": "stream",
     "text": [
      "Date : 15-12-2016 and day Monday\n"
     ]
    }
   ],
   "source": [
    "print(dateobj)"
   ]
  },
  {
   "cell_type": "markdown",
   "id": "5372d429",
   "metadata": {},
   "source": [
    "## 7: Set access to attributes \n",
    "Use properties and setters to make attributes read-only and validate their updates."
   ]
  },
  {
   "cell_type": "code",
   "execution_count": 66,
   "id": "bee4fd67",
   "metadata": {},
   "outputs": [],
   "source": [
    "\n",
    "class Dates:\n",
    "    \"\"\"\n",
    "    A class used to represent an Date details.\n",
    "    Attributes\n",
    "    ----------\n",
    "    date : string\n",
    "        captures the date value\n",
    "    Methods\n",
    "    -------\n",
    "    deposit(amount=0)\n",
    "        addas amount to balance\n",
    "    getDate(amount=0)\n",
    "        prints the date value\n",
    "    year_graduation(filepath)\n",
    "        returns graduation year\n",
    "    \"\"\"\n",
    "    __day = \"Monday\"\n",
    "    def __init__(self, date):\n",
    "        self.date = date\n",
    "        self.year = 2022 # to make this unchangable \n",
    "        \n",
    "        \n",
    "    def getDate(self):\n",
    "        return self.date\n",
    "    \n",
    "    @property \n",
    "    def year_graduation(self):\n",
    "        return self.date\n",
    "    \n",
    "    @year_graduation.setter\n",
    "    def year_graduation(self, year):\n",
    "        if year < 2021:\n",
    "            raise ValueError(\"Invalid year\")\n",
    "        else:\n",
    "            self.year = year\n",
    "    \n",
    "    def __str__(self):\n",
    "        return \"Date : {} and day {}\".format(self.date , self._Dates__day)#__day\n",
    "    "
   ]
  },
  {
   "cell_type": "code",
   "execution_count": 67,
   "id": "48baa56b",
   "metadata": {},
   "outputs": [
    {
     "name": "stdout",
     "output_type": "stream",
     "text": [
      "2022\n"
     ]
    }
   ],
   "source": [
    "dateobj = Dates(\"15-12-2016\")\n",
    "print(dateobj.year)\n",
    "dateobj.year_graduation=2023"
   ]
  },
  {
   "cell_type": "code",
   "execution_count": 68,
   "id": "9e01f04d",
   "metadata": {},
   "outputs": [
    {
     "name": "stdout",
     "output_type": "stream",
     "text": [
      "2022\n"
     ]
    },
    {
     "ename": "ValueError",
     "evalue": "Invalid year",
     "output_type": "error",
     "traceback": [
      "\u001b[1;31m---------------------------------------------------------------------------\u001b[0m",
      "\u001b[1;31mValueError\u001b[0m                                Traceback (most recent call last)",
      "\u001b[1;32m~\\AppData\\Local\\Temp/ipykernel_37736/3546754022.py\u001b[0m in \u001b[0;36m<module>\u001b[1;34m\u001b[0m\n\u001b[0;32m      1\u001b[0m \u001b[0mdateobj\u001b[0m \u001b[1;33m=\u001b[0m \u001b[0mDates\u001b[0m\u001b[1;33m(\u001b[0m\u001b[1;34m\"15-12-2016\"\u001b[0m\u001b[1;33m)\u001b[0m\u001b[1;33m\u001b[0m\u001b[1;33m\u001b[0m\u001b[0m\n\u001b[0;32m      2\u001b[0m \u001b[0mprint\u001b[0m\u001b[1;33m(\u001b[0m\u001b[0mdateobj\u001b[0m\u001b[1;33m.\u001b[0m\u001b[0myear\u001b[0m\u001b[1;33m)\u001b[0m\u001b[1;33m\u001b[0m\u001b[1;33m\u001b[0m\u001b[0m\n\u001b[1;32m----> 3\u001b[1;33m \u001b[0mdateobj\u001b[0m\u001b[1;33m.\u001b[0m\u001b[0myear_graduation\u001b[0m\u001b[1;33m=\u001b[0m\u001b[1;36m2020\u001b[0m\u001b[1;33m\u001b[0m\u001b[1;33m\u001b[0m\u001b[0m\n\u001b[0m",
      "\u001b[1;32m~\\AppData\\Local\\Temp/ipykernel_37736/3314558246.py\u001b[0m in \u001b[0;36myear_graduation\u001b[1;34m(self, year)\u001b[0m\n\u001b[0;32m     31\u001b[0m     \u001b[1;32mdef\u001b[0m \u001b[0myear_graduation\u001b[0m\u001b[1;33m(\u001b[0m\u001b[0mself\u001b[0m\u001b[1;33m,\u001b[0m \u001b[0myear\u001b[0m\u001b[1;33m)\u001b[0m\u001b[1;33m:\u001b[0m\u001b[1;33m\u001b[0m\u001b[1;33m\u001b[0m\u001b[0m\n\u001b[0;32m     32\u001b[0m         \u001b[1;32mif\u001b[0m \u001b[0myear\u001b[0m \u001b[1;33m<\u001b[0m \u001b[1;36m2021\u001b[0m\u001b[1;33m:\u001b[0m\u001b[1;33m\u001b[0m\u001b[1;33m\u001b[0m\u001b[0m\n\u001b[1;32m---> 33\u001b[1;33m             \u001b[1;32mraise\u001b[0m \u001b[0mValueError\u001b[0m\u001b[1;33m(\u001b[0m\u001b[1;34m\"Invalid year\"\u001b[0m\u001b[1;33m)\u001b[0m\u001b[1;33m\u001b[0m\u001b[1;33m\u001b[0m\u001b[0m\n\u001b[0m\u001b[0;32m     34\u001b[0m         \u001b[1;32melse\u001b[0m\u001b[1;33m:\u001b[0m\u001b[1;33m\u001b[0m\u001b[1;33m\u001b[0m\u001b[0m\n\u001b[0;32m     35\u001b[0m             \u001b[0mself\u001b[0m\u001b[1;33m.\u001b[0m\u001b[0myear\u001b[0m \u001b[1;33m=\u001b[0m \u001b[0myear\u001b[0m\u001b[1;33m\u001b[0m\u001b[1;33m\u001b[0m\u001b[0m\n",
      "\u001b[1;31mValueError\u001b[0m: Invalid year"
     ]
    }
   ],
   "source": [
    "dateobj = Dates(\"15-12-2016\")\n",
    "print(dateobj.year)\n",
    "dateobj.year_graduation=2020"
   ]
  },
  {
   "cell_type": "code",
   "execution_count": 69,
   "id": "25270af6",
   "metadata": {},
   "outputs": [],
   "source": [
    "dateobj?"
   ]
  },
  {
   "cell_type": "markdown",
   "id": "4286a8dc",
   "metadata": {},
   "source": [
    "## Reference \n",
    "\n",
    "1. Clases and objects \n",
    "- https://www.geeksforgeeks.org/python-classes-and-objects/\n",
    "- https://www.programiz.com/python-programming/methods/built-in/staticmethod#:~:text=What%20is%20a%20static%20method,the%20state%20of%20the%20object.\n",
    "- https://towardsdatascience.com/8-tips-for-object-oriented-programming-in-python-3e98b767ae79\n",
    "\n",
    "2. Difference Between class method and static method\n",
    "\n",
    "- https://www.geeksforgeeks.org/class-method-vs-static-method-python/"
   ]
  }
 ],
 "metadata": {
  "kernelspec": {
   "display_name": "Python 3 (ipykernel)",
   "language": "python",
   "name": "python3"
  },
  "language_info": {
   "codemirror_mode": {
    "name": "ipython",
    "version": 3
   },
   "file_extension": ".py",
   "mimetype": "text/x-python",
   "name": "python",
   "nbconvert_exporter": "python",
   "pygments_lexer": "ipython3",
   "version": "3.8.8"
  }
 },
 "nbformat": 4,
 "nbformat_minor": 5
}
