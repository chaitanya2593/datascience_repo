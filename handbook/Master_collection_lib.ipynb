{
 "cells": [
  {
   "cell_type": "markdown",
   "metadata": {},
   "source": [
    "# Handbook for scripting"
   ]
  },
  {
   "cell_type": "markdown",
   "metadata": {},
   "source": [
    "<h1> Table of Contents </h1>\n",
    "\n",
    "1. [Introduction](#Intro)\n",
    "2. [Importing the packages](#packages)\n",
    "3. [Import the data set](#Data_set)\n",
    "4. [Perform Descriptive Statistics on the dataset](#EDA)\n",
    "5. [Handling missing values](#Missing_values)     \n",
    "6. [Selecting the columns](#Select_columns)\n",
    "7. [Example Snippets](#snippets)\n",
    "8. [Machine Learning Models](#ML)\n",
    "    - 8.1 [Generic functions](#Generic_functions)\n",
    "    - 8.2 [Linear Regression](#Linear_Regression)\n",
    "    - 8.3 [Logistic Regression](#Logistic_Regression)\n",
    "    - 8.4 [Decision Tree - Classification](#RDT)\n",
    "    - 8.5 [Decision Tree - Regression](#RDTR)\n",
    "    - 8.6.[Random Forest_Classification](#Radom_Forest_Class)\n",
    "    - 8.7.[Random Forest_Regression](#Radom_Forest_Reg)\n",
    "    - 8.8 [K-Means](#K-Means)\n"
   ]
  },
  {
   "cell_type": "markdown",
   "metadata": {},
   "source": [
    "## 1. Introduction <a id=\"Intro\">\n",
    "    The main intention of this document is to help the user when he performing the ML activities on the datasets"
   ]
  },
  {
   "cell_type": "markdown",
   "metadata": {},
   "source": [
    "## 2. Importing the packages  <a id='packages'>"
   ]
  },
  {
   "cell_type": "code",
   "execution_count": 1,
   "metadata": {},
   "outputs": [],
   "source": [
    "# Import Required Packages \n",
    "import pandas as pd\n",
    "import numpy as np\n",
    "import pandas_profiling\n",
    "import seaborn as sns\n",
    "import matplotlib.pyplot as plt\n",
    "%matplotlib inline\n",
    "import sklearn \n",
    " \n",
    "from sklearn import metrics"
   ]
  },
  {
   "cell_type": "code",
   "execution_count": null,
   "metadata": {},
   "outputs": [],
   "source": [
    "# to remove teh printing barrier\n",
    "pd.set_option('display.max_columns', None)\n",
    "pd.set_option('display.max_rows', None)"
   ]
  },
  {
   "cell_type": "code",
   "execution_count": null,
   "metadata": {},
   "outputs": [],
   "source": [
    "# TO print multiple outputs in single line\n",
    "from IPython.core.interactiveshell import InteractiveShell\n",
    "InteractiveShell.ast_node_interactivity = \"all\""
   ]
  },
  {
   "cell_type": "markdown",
   "metadata": {},
   "source": [
    "## 3. Import the data set <a id=\"Data_set\">"
   ]
  },
  {
   "cell_type": "code",
   "execution_count": null,
   "metadata": {},
   "outputs": [],
   "source": [
    "#Approach by using path \n",
    "your_local_path=r\"\"\n",
    "train_df = pd.read_csv(your_local_path+\"titanic.csv\")\n",
    "\n",
    "#Approach by uploading the fiel to jupyter using read_csv\n",
    "titanic_data = pd.read_csv(\"attachment_titanic_lyst9961.csv\")\n",
    "\n",
    "#Approach from url\n",
    "url = 'https://raw.githubusercontent.com/upxacademy/ML_with_Python/master/Datasets/bikeshare.csv?token=AYxzdiGnjM610dBT7PuwUnUNOmm3bGcvks5ZFDyLwA%3D%3D'\n",
    "bikes = pd.read_csv(url, index_col='datetime', parse_dates=True)\n",
    "\n",
    "# Loading data from arff files\n",
    "from scipy.io.arff import loadarff\n",
    "phishing_data_raw = loadarff(\"PhishingData.arff\")\n",
    "\n",
    "\n",
    "\n",
    "## Import the DataSet in colabs\n",
    "from google.colab import drive\n",
    "# This will prompt for authorization.\n",
    "drive.mount('/content/drive')\n",
    "\n",
    "\n",
    "# instat import of teh small \n",
    "# from google.colab import files\n",
    "# upload = files.upload()\n",
    "\n",
    "\n",
    "# import the dataset in azure notebooks\n",
    "from azureml import Workspace\n",
    "ws = Workspace()\n",
    "ds = ws.datasets['bidata_Azure_all_data.csv']\n",
    "frame = ds.to_dataframe()\n",
    "\n",
    "import io\n",
    "emp_data = pd.read_csv(io.BytesIO(upload['attachment_train_lyst4523.csv']))"
   ]
  },
  {
   "cell_type": "code",
   "execution_count": null,
   "metadata": {},
   "outputs": [],
   "source": [
    "# report = pandas_profiling.ProfileReport(flight_data) \n",
    "# report.to_file(output_file=\"Flight_dataset_Prandas_profiing.html\")"
   ]
  },
  {
   "cell_type": "code",
   "execution_count": null,
   "metadata": {},
   "outputs": [],
   "source": [
    "titanic_data.head()"
   ]
  },
  {
   "cell_type": "code",
   "execution_count": null,
   "metadata": {},
   "outputs": [],
   "source": [
    "titanic_data.tail()"
   ]
  },
  {
   "cell_type": "code",
   "execution_count": null,
   "metadata": {},
   "outputs": [],
   "source": [
    "titanic_data.sample()"
   ]
  },
  {
   "cell_type": "markdown",
   "metadata": {},
   "source": [
    "## 4. Perform Descriptive Statistics on the dataset <a id=\"EDA\">"
   ]
  },
  {
   "cell_type": "code",
   "execution_count": 1,
   "metadata": {},
   "outputs": [
    {
     "ename": "NameError",
     "evalue": "name 'bank_data' is not defined",
     "output_type": "error",
     "traceback": [
      "\u001b[1;31m---------------------------------------------------------------------------\u001b[0m",
      "\u001b[1;31mNameError\u001b[0m                                 Traceback (most recent call last)",
      "\u001b[1;32m<ipython-input-1-f3faea45eb2f>\u001b[0m in \u001b[0;36m<module>\u001b[1;34m\u001b[0m\n\u001b[1;32m----> 1\u001b[1;33m \u001b[0mbank_data\u001b[0m\u001b[1;33m.\u001b[0m\u001b[0minfo\u001b[0m\u001b[1;33m(\u001b[0m\u001b[1;33m)\u001b[0m\u001b[1;33m\u001b[0m\u001b[1;33m\u001b[0m\u001b[0m\n\u001b[0m",
      "\u001b[1;31mNameError\u001b[0m: name 'bank_data' is not defined"
     ]
    }
   ],
   "source": [
    "titanic_data.info()"
   ]
  },
  {
   "cell_type": "code",
   "execution_count": null,
   "metadata": {},
   "outputs": [],
   "source": [
    "titanic_data.shape"
   ]
  },
  {
   "cell_type": "code",
   "execution_count": null,
   "metadata": {},
   "outputs": [],
   "source": [
    "titanic_data.describe()"
   ]
  },
  {
   "cell_type": "code",
   "execution_count": null,
   "metadata": {},
   "outputs": [],
   "source": [
    "    df =\n",
    "    for col in df.columns:\n",
    "        print(\"=============== \" + str(col) +\" Start===============\")\n",
    "        print(\"\\nUnique values :: \" + str(df[col].nunique()))\n",
    "        print(\"\\nMissing values Count:: \" + str(df[col].isnull().sum()))\n",
    "        print(\"\\nUnique Values Count:: \\n\" + str(df[col].value_counts()))\n",
    "        print(\"=============== \" + str(col) +\" End===============\")\n"
   ]
  },
  {
   "cell_type": "code",
   "execution_count": null,
   "metadata": {},
   "outputs": [],
   "source": [
    "#dropping the duplicates \n",
    "final_df.drop_duplicates(subset =['Company Code', 'Document Nr','Supplier Nr','Item'], \n",
    "                     keep = False, inplace = True) "
   ]
  },
  {
   "cell_type": "code",
   "execution_count": null,
   "metadata": {},
   "outputs": [],
   "source": [
    "#custom designed function\n",
    "def var_summary(df):\n",
    "    '''\n",
    "    To different statistical metrics from a given data set\n",
    "    '''\n",
    "    index_df = [\"Count\", 'Sum','Unique_count', \"Mean\", \"Median\", \"Std\", \"Min\",  \"P1\", \"P5\", \"P10\", \"P25\", \"P50\", \"P75\", \"P90\", \"P95\", \"P99\", \"P99.5\", \"Max\"]\n",
    "    values = [df.count(), df.sum(),df.nunique(), df.mean(), df.median(), df.std(), df.min(),  df.quantile(0.01, axis = 0) , df.quantile(0.05, axis = 0),\n",
    "              df.quantile(0.1, axis = 0),df.quantile(0.25, axis = 0), df.quantile(0.5, axis = 0), df.quantile(0.75, axis = 0), df.quantile(0.9, axis = 0), df.quantile(0.95, axis = 0),\n",
    "              df.quantile(0.99, axis = 0), df.quantile(0.995, axis = 0), df.max() ]    \n",
    "    new_df = pd.DataFrame(values, index = index_df, columns = df.columns)\n",
    "    return new_df"
   ]
  },
  {
   "cell_type": "code",
   "execution_count": null,
   "metadata": {},
   "outputs": [],
   "source": [
    "var_summary(titanic_data)"
   ]
  },
  {
   "cell_type": "code",
   "execution_count": null,
   "metadata": {},
   "outputs": [],
   "source": [
    "df.index = np.arange(1, len(df) + 1)"
   ]
  },
  {
   "cell_type": "markdown",
   "metadata": {},
   "source": [
    "## 5. Handling missing outliers and  values <a id=\"Missing_values\">"
   ]
  },
  {
   "cell_type": "code",
   "execution_count": null,
   "metadata": {},
   "outputs": [],
   "source": [
    "# finding null values\n",
    "titanic_data.isnull().sum()\n",
    "titanic_test_data.isnull().sum()"
   ]
  },
  {
   "cell_type": "code",
   "execution_count": null,
   "metadata": {},
   "outputs": [],
   "source": [
    "def missing_values(df, percentage):\n",
    "  '''\n",
    "  This function is to drop the columns which are having missing values more than the percentage passed\n",
    "  '''\n",
    "  columns = df.columns\n",
    "  percent_missing = df.isnull().sum() * 100 / len(df)\n",
    "  missing_value_df = pd.DataFrame({'percent_missing': percent_missing})\n",
    "  missing_drop = list(missing_value_df[missing_value_df.percent_missing>percentage].columns)\n",
    "  df = df.drop(missing_drop, axis=1)  \n",
    "  return df"
   ]
  },
  {
   "cell_type": "code",
   "execution_count": null,
   "metadata": {},
   "outputs": [],
   "source": [
    "thresh = len(bidata) * .2\n",
    "bidata.dropna(thresh = thresh, axis = 1, inplace = True)"
   ]
  },
  {
   "cell_type": "code",
   "execution_count": null,
   "metadata": {},
   "outputs": [],
   "source": [
    "# using interpolate function\n",
    "titanic_data['Age'] = titanic_data['Age'].interpolate()\n",
    "# using mean\n",
    "titanic_data['Age'] = titanic_data['Age'].mean()\n",
    "# using median\n",
    "titanic_data['Age'] = titanic_data['Age'].mean()\n",
    "#using mode\n",
    "titanic_data['Age'] = titanic_data['Age'].mode()"
   ]
  },
  {
   "cell_type": "code",
   "execution_count": null,
   "metadata": {},
   "outputs": [],
   "source": [
    "# Filling the missing values with the mean of the columns\n",
    "\n",
    "from sklearn.preprocessing import Imputer\n",
    "\n",
    "imp = Imputer(missing_values='NaN', strategy='mean', axis=0)\n",
    "X = imp.fit_transform(features)\n",
    "X"
   ]
  },
  {
   "cell_type": "markdown",
   "metadata": {},
   "source": [
    "## Plots"
   ]
  },
  {
   "cell_type": "code",
   "execution_count": 1,
   "metadata": {},
   "outputs": [
    {
     "ename": "NameError",
     "evalue": "name 'sns' is not defined",
     "output_type": "error",
     "traceback": [
      "\u001b[1;31m---------------------------------------------------------------------------\u001b[0m",
      "\u001b[1;31mNameError\u001b[0m                                 Traceback (most recent call last)",
      "\u001b[1;32m<ipython-input-1-0c7036c8f7c8>\u001b[0m in \u001b[0;36m<module>\u001b[1;34m\u001b[0m\n\u001b[1;32m----> 1\u001b[1;33m \u001b[0msns\u001b[0m\u001b[1;33m.\u001b[0m\u001b[0mdistplot\u001b[0m\u001b[1;33m(\u001b[0m\u001b[0mtrain_df\u001b[0m\u001b[1;33m[\u001b[0m\u001b[1;34m'trip_duration'\u001b[0m\u001b[1;33m]\u001b[0m\u001b[1;33m,\u001b[0m \u001b[0mhist\u001b[0m\u001b[1;33m=\u001b[0m\u001b[1;32mFalse\u001b[0m\u001b[1;33m,\u001b[0m \u001b[0mcolor\u001b[0m\u001b[1;33m=\u001b[0m\u001b[1;34m\"g\"\u001b[0m\u001b[1;33m,\u001b[0m \u001b[0mkde_kws\u001b[0m\u001b[1;33m=\u001b[0m\u001b[1;33m{\u001b[0m\u001b[1;34m\"shade\"\u001b[0m\u001b[1;33m:\u001b[0m \u001b[1;32mTrue\u001b[0m\u001b[1;33m}\u001b[0m\u001b[1;33m)\u001b[0m\u001b[1;33m\u001b[0m\u001b[1;33m\u001b[0m\u001b[0m\n\u001b[0m",
      "\u001b[1;31mNameError\u001b[0m: name 'sns' is not defined"
     ]
    }
   ],
   "source": [
    "sns.distplot(train_df['trip_duration'], hist=False, color=\"g\", kde_kws={\"shade\": True})\n"
   ]
  },
  {
   "cell_type": "code",
   "execution_count": null,
   "metadata": {},
   "outputs": [],
   "source": [
    "spectf_df.hist(bins=10, figsize=(12,30), layout=(9,5))"
   ]
  },
  {
   "cell_type": "markdown",
   "metadata": {},
   "source": [
    "## n.Categorical to Numerical <a id=\"C2N\">"
   ]
  },
  {
   "cell_type": "code",
   "execution_count": null,
   "metadata": {},
   "outputs": [],
   "source": [
    "#Approach 1\n",
    "y_dummies = pd.get_dummies(titanic_data.y, prefix='y', drop_first= False)\n",
    "titanic_data = pd.concat([titanic_data, y_dummies], axis=1)"
   ]
  },
  {
   "cell_type": "code",
   "execution_count": null,
   "metadata": {},
   "outputs": [],
   "source": [
    "nerw_df =  pd.merge(final_df_1, outcome[['Suspicious','Company Code', 'Document Nr','Supplier Nr','Item']], how=\"left\", on=['Company Code', 'Document Nr','Supplier Nr','Item'])"
   ]
  },
  {
   "cell_type": "code",
   "execution_count": null,
   "metadata": {},
   "outputs": [],
   "source": [
    "# For multple columns\n"
   ]
  },
  {
   "cell_type": "code",
   "execution_count": null,
   "metadata": {},
   "outputs": [],
   "source": [
    "# Dummification on all he fields\n",
    "for col in bidata_cate.columns:\n",
    "    y_dummies = pd.get_dummies(bidata[col], prefix=col, drop_first= False)\n",
    "    bidata = pd.concat([bidata, y_dummies], axis=1)"
   ]
  },
  {
   "cell_type": "code",
   "execution_count": null,
   "metadata": {},
   "outputs": [],
   "source": [
    "# dummification by encoding \n",
    "from  sklearn.preprocessing import LabelEncoder\n",
    "encoding_list = ['job','marital','education','default','housing','loan','contact','month','poutcome','y']\n",
    "bank_data[encoding_list] = bank_data[encoding_list].apply(LabelEncoder().fit_transform)"
   ]
  },
  {
   "cell_type": "code",
   "execution_count": null,
   "metadata": {},
   "outputs": [],
   "source": [
    "#Another typr of encoding\n",
    "for feature in combined_set.columns: # Loop through all columns in the dataframe\n",
    "    if combined_set[feature].dtype == 'object': # Only apply for columns with categorical strings\n",
    "        combined_set[feature] = pd.Categorical(combined_set[feature]).codes"
   ]
  },
  {
   "cell_type": "markdown",
   "metadata": {},
   "source": [
    "## 6. Selecting the columns <a id=\"Select_columns\">"
   ]
  },
  {
   "cell_type": "markdown",
   "metadata": {},
   "source": [
    "### 1. Correlation <a id=\"correlation\">"
   ]
  },
  {
   "cell_type": "code",
   "execution_count": null,
   "metadata": {},
   "outputs": [],
   "source": [
    "flight_data_corr=flight_data.drop([]).corr(method='pearson')\n",
    "\n"
   ]
  },
  {
   "cell_type": "markdown",
   "metadata": {},
   "source": [
    "https://datascience.stackexchange.com/questions/64260/pearson-vs-spearman-vs-kendall\n",
    "\n",
    "\n",
    "\n",
    "Parameters\n",
    "method{‘pearson’, ‘kendall’, ‘spearman’} or callable\n",
    "Method of correlation:\n",
    "\n",
    "pearson : standard correlation coefficient\n",
    "\n",
    "kendall : Kendall Tau correlation coefficient\n",
    "\n",
    "spearman : Spearman rank correlation\n",
    "\n",
    "callable: callable with input two 1d ndarrays\n",
    "and returning a float. Note that the returned matrix from corr will have 1 along the diagonals and will be symmetric regardless of the callable’s behavior.\n",
    "\n",
    "min_periodsint, optional\n",
    "Minimum number of observations required per pair of columns to have a valid result. Currently only available for Pearson and Spearman correlation.\n",
    "\n",
    "Returns\n",
    "DataFrame\n",
    "Correlation matrix."
   ]
  },
  {
   "cell_type": "code",
   "execution_count": null,
   "metadata": {},
   "outputs": [],
   "source": [
    "plt.figure(figsize=(20,20))\n",
    "sns.heatmap(flight_data_corr,annot=True, cmap=\"YlGnBu\")"
   ]
  },
  {
   "cell_type": "code",
   "execution_count": null,
   "metadata": {},
   "outputs": [],
   "source": [
    "# custom designed function\n",
    "flight_data_corr=flight_data.corr()\n",
    "plt.figure(figsize=(20,20))\n",
    "sns.heatmap(flight_data_corr,annot=True, cmap=\"YlGnBu\")\n",
    "\n",
    "def extract_x_columns(df_y):\n",
    "    X = df_y[df_y.between(0.1,0.8)].index        \n",
    "    X = X.append(df_y[df_y.between(-0.8,-0.1)].index)    \n",
    "    return X\n",
    "\n",
    "x_columns = extract_x_columns(flight_data_corr)\n",
    "x_columns"
   ]
  },
  {
   "cell_type": "code",
   "execution_count": null,
   "metadata": {},
   "outputs": [],
   "source": [
    "x_columns = extract_x_columns(flight_data_corr)\n",
    "x_columns"
   ]
  },
  {
   "cell_type": "markdown",
   "metadata": {},
   "source": [
    "### Anova code "
   ]
  },
  {
   "cell_type": "code",
   "execution_count": null,
   "metadata": {},
   "outputs": [],
   "source": []
  },
  {
   "cell_type": "markdown",
   "metadata": {},
   "source": [
    "### 2. StandardScalar "
   ]
  },
  {
   "cell_type": "code",
   "execution_count": null,
   "metadata": {},
   "outputs": [],
   "source": [
    "from sklearn.preprocessing import StandardScaler\n",
    "scalar = StandardScaler()\n",
    "spectf_test_nor = scalar.fit_transform(spectf_test)\n",
    "spectf_df_nor = scalar.fit_transform(spectf_df)"
   ]
  },
  {
   "cell_type": "markdown",
   "metadata": {},
   "source": [
    " ### 3. MinMaxScaler- Normilzed Scaling form 0-1"
   ]
  },
  {
   "cell_type": "code",
   "execution_count": 1,
   "metadata": {},
   "outputs": [
    {
     "ename": "NameError",
     "evalue": "name 'x' is not defined",
     "output_type": "error",
     "traceback": [
      "\u001b[1;31m---------------------------------------------------------------------------\u001b[0m",
      "\u001b[1;31mNameError\u001b[0m                                 Traceback (most recent call last)",
      "\u001b[1;32m<ipython-input-1-8013c2e23b4d>\u001b[0m in \u001b[0;36m<module>\u001b[1;34m\u001b[0m\n\u001b[0;32m      1\u001b[0m \u001b[1;31m#Normalized Data\u001b[0m\u001b[1;33m\u001b[0m\u001b[1;33m\u001b[0m\u001b[1;33m\u001b[0m\u001b[0m\n\u001b[1;32m----> 2\u001b[1;33m \u001b[0mnormalized\u001b[0m \u001b[1;33m=\u001b[0m \u001b[1;33m(\u001b[0m\u001b[0mx\u001b[0m\u001b[1;33m-\u001b[0m\u001b[0mmin\u001b[0m\u001b[1;33m(\u001b[0m\u001b[0mx\u001b[0m\u001b[1;33m)\u001b[0m\u001b[1;33m)\u001b[0m\u001b[1;33m/\u001b[0m\u001b[1;33m(\u001b[0m\u001b[0mmax\u001b[0m\u001b[1;33m(\u001b[0m\u001b[0mx\u001b[0m\u001b[1;33m)\u001b[0m\u001b[1;33m-\u001b[0m\u001b[0mmin\u001b[0m\u001b[1;33m(\u001b[0m\u001b[0mx\u001b[0m\u001b[1;33m)\u001b[0m\u001b[1;33m)\u001b[0m\u001b[1;33m\u001b[0m\u001b[1;33m\u001b[0m\u001b[0m\n\u001b[0m",
      "\u001b[1;31mNameError\u001b[0m: name 'x' is not defined"
     ]
    }
   ],
   "source": [
    "from sklearn.preprocessing import MinMaxScaler\n",
    "min_max_scaler = MinMaxScaler()\n",
    "X_train_minmax = min_max_scaler.fit_transform(data)\n",
    "\n"
   ]
  },
  {
   "cell_type": "markdown",
   "metadata": {},
   "source": [
    "## 7. Example code sippnets <a id=\"snippets\">"
   ]
  },
  {
   "cell_type": "markdown",
   "metadata": {},
   "source": [
    "### 1. Using lamda function\n"
   ]
  },
  {
   "cell_type": "code",
   "execution_count": null,
   "metadata": {},
   "outputs": [],
   "source": [
    "titanic_data[\"Sex\"]=  titanic_data[\"Sex\"].apply(lambda x : 0 if x=='male' else 1)"
   ]
  },
  {
   "cell_type": "code",
   "execution_count": null,
   "metadata": {},
   "outputs": [],
   "source": [
    "#repalce \n",
    "kidney_df[['htn','dm','cad','pe','ane']] = kidney_df[['htn','dm','cad','pe','ane']].replace(to_replace={'yes':1,'no':0})"
   ]
  },
  {
   "cell_type": "code",
   "execution_count": null,
   "metadata": {},
   "outputs": [],
   "source": [
    "# to separate numerical and categorical \n",
    "nasa_data_numerical = nasa_data.select_dtypes(include=['float64','int64']) \n",
    "nasa_data_cate = nasa_data.select_dtypes(exclude=['float64','int64']) \n"
   ]
  },
  {
   "cell_type": "code",
   "execution_count": null,
   "metadata": {},
   "outputs": [],
   "source": [
    "# tp onvert the data from bytes to stings \n",
    "Aut_data_df.select_dtypes(include=['object']).stack().str.decode(\"utf-8\").unstack()"
   ]
  },
  {
   "cell_type": "code",
   "execution_count": null,
   "metadata": {},
   "outputs": [],
   "source": [
    "#resetting the index\n",
    "df.index = np.arange(1, len(df) + 1)"
   ]
  },
  {
   "cell_type": "code",
   "execution_count": null,
   "metadata": {},
   "outputs": [],
   "source": [
    "final_df['ICCC Results'] = np.where(final_df['Total Score']>=15, 1,0)"
   ]
  },
  {
   "cell_type": "code",
   "execution_count": null,
   "metadata": {},
   "outputs": [],
   "source": [
    "import datetime\n",
    "from datetime import timedelta\n",
    "\n",
    "\n",
    "def time_diff(date1, date2):\n",
    "    '''\n",
    "    Input time should be of timstamp format\n",
    "    '''\n",
    "    datetimeFormat = '%Y-%m-%d %H:%M:%S.%f'    \n",
    "#     diff = datetime.datetime.strptime(date1, datetimeFormat)\\\n",
    "#         - datetime.datetime.strptime(date2, datetimeFormat)\n",
    "\n",
    "    diff = date1-date2\n",
    "    return diff.days"
   ]
  },
  {
   "cell_type": "markdown",
   "metadata": {},
   "source": [
    "## SMOTE"
   ]
  },
  {
   "cell_type": "code",
   "execution_count": null,
   "metadata": {},
   "outputs": [],
   "source": [
    "unique, count = np.unique(Y, return_counts=True)\n",
    "y_train_dict_value_count = { k:v for (k,v) in zip(unique, count)}\n",
    "y_train_dict_value_count"
   ]
  },
  {
   "cell_type": "code",
   "execution_count": null,
   "metadata": {},
   "outputs": [],
   "source": [
    "from imblearn.over_sampling import SMOTE\n",
    "from imblearn.pipeline import make_pipeline\n",
    "pipe = make_pipeline(\n",
    "    SMOTE(),\n",
    "    LogisticRegression()\n",
    ")\n",
    "\n",
    "weights = np.linspace(0.005, 0.25, 10)\n",
    "from sklearn.model_selection import GridSearchCV\n",
    "gsc = GridSearchCV(\n",
    "    estimator=pipe,\n",
    "    param_grid={\n",
    "        'smote__ratio': weights\n",
    "    },\n",
    "    scoring='f1',\n",
    "    cv=3\n",
    ")\n",
    "grid_result = gsc.fit(x_train, y_train)\n",
    "\n",
    "print(\"Best parameters : %s\" % grid_result.best_params_)\n",
    "weight_f1_score_df = pd.DataFrame({ 'score': grid_result.cv_results_['mean_test_score'],\n",
    "                                   'weight': weights })\n",
    "weight_f1_score_df.plot(x='weight')"
   ]
  },
  {
   "cell_type": "code",
   "execution_count": null,
   "metadata": {},
   "outputs": [],
   "source": [
    "from imblearn.over_sampling import SMOTE\n",
    "from imblearn.pipeline import make_pipeline\n",
    "sm = SMOTE(random_state=12, ratio = 1.0)\n",
    "x_train_smote, y_train_smote = sm.fit_sample(x_train, y_train)\n",
    "x_test_smote, y_test_smote = sm.fit_sample(x_test, y_test)\n",
    "# x_smote, y_smote = sm.fit_sample(X, y_train)\n",
    "\n",
    "\n",
    "\n",
    "from imblearn.over_sampling import SMOTE\n",
    "from imblearn.pipeline import make_pipeline\n",
    "sm = SMOTE(random_state=12, sampling_strategy=0.3)\n",
    "x_smote, y_smote = sm.fit_sample(X_train_minmax, Y)\n",
    "# x_smote, y_smote = sm.fit_sample(X, y_tra"
   ]
  },
  {
   "cell_type": "code",
   "execution_count": null,
   "metadata": {},
   "outputs": [],
   "source": []
  },
  {
   "cell_type": "markdown",
   "metadata": {},
   "source": [
    "## 8. Machine Learning Models <a id=\"ML\">"
   ]
  },
  {
   "cell_type": "markdown",
   "metadata": {},
   "source": [
    "### 1. Generic functions <a id=\"Generic_functions\">"
   ]
  },
  {
   "cell_type": "code",
   "execution_count": null,
   "metadata": {},
   "outputs": [],
   "source": [
    "# define X and Y columns\n",
    "X= titanic_data[X_columns]\n",
    "Y= titanic_data[\"Survived\"]\n",
    "\n",
    "# Approach 2\n",
    "Y= titanic_data[\"Survived\"]\n",
    "X = titanic_data.drop(['default', 'student'], axis=1, inplace=True)"
   ]
  },
  {
   "cell_type": "code",
   "execution_count": null,
   "metadata": {},
   "outputs": [],
   "source": [
    "# Train and test split\n",
    "\n",
    "from sklearn.model_selection import train_test_split\n",
    "x_train, x_test, y_train, y_test = train_test_split(X, Y, test_size=0.30, random_state=62, stratify=Y)\n",
    "x_train.shape\n",
    "x_test.shape\n",
    "y_train.shape\n",
    "y_test.shape"
   ]
  },
  {
   "cell_type": "markdown",
   "metadata": {},
   "source": [
    "### 2. Linear Regression <a id=\"Linear_Regression\">"
   ]
  },
  {
   "cell_type": "code",
   "execution_count": null,
   "metadata": {},
   "outputs": [],
   "source": [
    "from sklearn.linear_model import LinearRegression\n",
    "lm = LinearRegression()"
   ]
  },
  {
   "cell_type": "code",
   "execution_count": null,
   "metadata": {},
   "outputs": [],
   "source": [
    "lm.fit(x_train, y_train)"
   ]
  },
  {
   "cell_type": "code",
   "execution_count": null,
   "metadata": {},
   "outputs": [],
   "source": [
    "predicted = lm.predict(x_test)\n",
    "predicted.shape"
   ]
  },
  {
   "cell_type": "code",
   "execution_count": null,
   "metadata": {},
   "outputs": [],
   "source": [
    "metrics.mean_squared_error(y_test, predicted)\n",
    "metrics.mean_absolute_error(y_test,predicted)"
   ]
  },
  {
   "cell_type": "code",
   "execution_count": null,
   "metadata": {},
   "outputs": [],
   "source": [
    "lm.coef_"
   ]
  },
  {
   "cell_type": "code",
   "execution_count": null,
   "metadata": {},
   "outputs": [],
   "source": [
    "lm.intercept_"
   ]
  },
  {
   "cell_type": "markdown",
   "metadata": {},
   "source": [
    "## 3. Logistic Regression <a id=\"Logistic_Regression\">"
   ]
  },
  {
   "cell_type": "code",
   "execution_count": null,
   "metadata": {},
   "outputs": [],
   "source": [
    "# Building logistic regression model\n",
    "\n",
    "from sklearn.linear_model import LogisticRegression\n",
    "from sklearn import metrics\n",
    "logreg = LogisticRegression(C=0.6)"
   ]
  },
  {
   "cell_type": "code",
   "execution_count": null,
   "metadata": {},
   "outputs": [],
   "source": [
    "logreg.fit(x_train, y_train)"
   ]
  },
  {
   "cell_type": "code",
   "execution_count": null,
   "metadata": {},
   "outputs": [],
   "source": [
    "# now applying our learnt model on test and also on train data\n",
    "\n",
    "y_pred_test = logreg.predict(x_test)\n",
    "y_pred_train = logreg.predict(x_train)"
   ]
  },
  {
   "cell_type": "code",
   "execution_count": null,
   "metadata": {},
   "outputs": [],
   "source": [
    "# comparing the metrics of predicted lebel and real label of test data\n",
    "print(\"Test Accuracy: \", metrics.accuracy_score(y_test, y_pred_test))"
   ]
  },
  {
   "cell_type": "code",
   "execution_count": null,
   "metadata": {},
   "outputs": [],
   "source": [
    "# comparing the metrics of predicted lebel and real label of test data\n",
    "print(\"Train Accuracy: \", metrics.accuracy_score(y_train, y_pred_train))"
   ]
  },
  {
   "cell_type": "code",
   "execution_count": null,
   "metadata": {},
   "outputs": [],
   "source": [
    "# creating a confusion matrix to understand the classification\n",
    "conf = metrics.confusion_matrix(y_test, y_pred_test)"
   ]
  },
  {
   "cell_type": "code",
   "execution_count": null,
   "metadata": {},
   "outputs": [],
   "source": [
    "print(conf)"
   ]
  },
  {
   "cell_type": "code",
   "execution_count": null,
   "metadata": {},
   "outputs": [],
   "source": [
    "cmap = sns.cubehelix_palette(50, hue=0.05, rot=0, light=0.9, dark=0, as_cmap=True)\n",
    "sns.heatmap(conf,cmap = cmap,xticklabels=['Prediction No','Prediction Yes'],yticklabels=['Actual No','Actual Yes'], annot=True,\n",
    "            fmt='d')"
   ]
  },
  {
   "cell_type": "code",
   "execution_count": null,
   "metadata": {},
   "outputs": [],
   "source": [
    "# Creating Classification Report\n",
    "\n",
    "cr = metrics.classification_report(y_test, y_pred_test)\n",
    "print(cr)"
   ]
  },
  {
   "cell_type": "markdown",
   "metadata": {},
   "source": [
    "### 4. Decision Tree - Classification<a id=\"RDT\">"
   ]
  },
  {
   "cell_type": "code",
   "execution_count": null,
   "metadata": {},
   "outputs": [],
   "source": [
    "# Importing the packages for Decision Tree Classifier\n",
    "\n",
    "\n",
    "from sklearn import tree\n",
    "my_tree_one = tree.DecisionTreeClassifier(criterion=\"entropy\", max_depth=3, random_state=42)\n",
    "my_tree_one"
   ]
  },
  {
   "cell_type": "code",
   "execution_count": null,
   "metadata": {},
   "outputs": [],
   "source": [
    "# Fit the decision tree model on your features and label\n",
    "\n",
    "my_tree_one = my_tree_one.fit(X, y)"
   ]
  },
  {
   "cell_type": "code",
   "execution_count": null,
   "metadata": {},
   "outputs": [],
   "source": [
    "# The feature_importances_ attribute make it simple to interpret the significance of the predictors you include\n",
    "\n",
    "list(zip(columns,my_tree_one.feature_importances_))"
   ]
  },
  {
   "cell_type": "code",
   "execution_count": null,
   "metadata": {},
   "outputs": [],
   "source": [
    "# The accuracy of the model\n",
    "\n",
    "print(\"Score of the model:: \" + my_tree_one.score(X, y))"
   ]
  },
  {
   "cell_type": "code",
   "execution_count": null,
   "metadata": {},
   "outputs": [],
   "source": [
    "# Visualize the decision tree graph\n",
    "\n",
    "with open('tree.dot','w') as dotfile:\n",
    "    tree.export_graphviz(my_tree_one, out_file=dotfile, feature_names=columns, filled=True)\n",
    "    dotfile.close()\n",
    "    \n",
    "# You may have to install graphviz package using \n",
    "# conda install graphviz\n",
    "# conda install python-graphviz\n",
    "\n",
    "from graphviz import Source\n",
    "\n",
    "with open('tree.dot','r') as f:\n",
    "    text=f.read()\n",
    "    plot=Source(text)\n",
    "plot   "
   ]
  },
  {
   "cell_type": "code",
   "execution_count": null,
   "metadata": {},
   "outputs": [],
   "source": [
    "#Print Confusion matrix on Train Data\n",
    "from sklearn import metrics\n",
    "\n",
    "pred = my_tree_one.predict(X)\n",
    "df_confusion = metrics.confusion_matrix(y, pred)\n",
    "df_confusion"
   ]
  },
  {
   "cell_type": "code",
   "execution_count": null,
   "metadata": {},
   "outputs": [],
   "source": [
    "cmap = sns.cubehelix_palette(50, hue=0.05, rot=0, light=0.9, dark=0, as_cmap=True)\n",
    "sns.heatmap(df_confusion,cmap = cmap,xticklabels=['Prediction No','Prediction Yes'],yticklabels=['Actual No','Actual Yes'], annot=True,\n",
    "            fmt='d')"
   ]
  },
  {
   "cell_type": "markdown",
   "metadata": {},
   "source": [
    "### 4. Random Decision Tree - Regression<a id=\"RDTR\">"
   ]
  },
  {
   "cell_type": "code",
   "execution_count": null,
   "metadata": {},
   "outputs": [],
   "source": [
    "# Importing the packages for Decision Tree Regression\n",
    "\n",
    "from sklearn.ensemble import RandomForestRegressor\n",
    "forest = RandomForestRegressor(max_depth = 10, n_estimators = 100, random_state = 1)"
   ]
  },
  {
   "cell_type": "code",
   "execution_count": null,
   "metadata": {},
   "outputs": [],
   "source": [
    "# Fit the decision tree model on your features and label\n",
    "my_tree_one = my_tree_one.fit(X, y)"
   ]
  },
  {
   "cell_type": "code",
   "execution_count": null,
   "metadata": {},
   "outputs": [],
   "source": [
    "# The feature_importances_ attribute make it simple to interpret the significance of the predictors you include\n",
    "list(zip(columns,my_tree_one.feature_importances_))"
   ]
  },
  {
   "cell_type": "code",
   "execution_count": null,
   "metadata": {},
   "outputs": [],
   "source": [
    "# The accuracy of the model\n",
    "print(\"Score of the model:: \" + my_tree_one.score(X, y))"
   ]
  },
  {
   "cell_type": "code",
   "execution_count": null,
   "metadata": {},
   "outputs": [],
   "source": [
    "# Visualize the decision tree graph\n",
    "\n",
    "with open('tree.dot','w') as dotfile:\n",
    "    tree.export_graphviz(my_tree_one, out_file=dotfile, feature_names=columns, filled=True)\n",
    "    dotfile.close()\n",
    "    \n",
    "# You may have to install graphviz package using \n",
    "# conda install graphviz\n",
    "# conda install python-graphviz\n",
    "\n",
    "from graphviz import Source\n",
    "\n",
    "with open('tree.dot','r') as f:\n",
    "    text=f.read()\n",
    "    plot=Source(text)\n",
    "plot   "
   ]
  },
  {
   "cell_type": "markdown",
   "metadata": {},
   "source": [
    "### 5.Random Forest <a id=\"Radom_Forest\">"
   ]
  },
  {
   "cell_type": "markdown",
   "metadata": {},
   "source": [
    "### 8.6.Random Forest_Regression<a id=\"Radom_Forest_Reg\">"
   ]
  },
  {
   "cell_type": "code",
   "execution_count": null,
   "metadata": {},
   "outputs": [],
   "source": [
    "from sklearn.ensemble import RandomForestRegressor"
   ]
  },
  {
   "cell_type": "code",
   "execution_count": null,
   "metadata": {},
   "outputs": [],
   "source": [
    "rfr = RandomForestRegressor(max_depth=10, n_estimators=100, random_state=45)"
   ]
  },
  {
   "cell_type": "code",
   "execution_count": null,
   "metadata": {},
   "outputs": [],
   "source": [
    "rfr = rfr.fit(X,Y)"
   ]
  },
  {
   "cell_type": "code",
   "execution_count": null,
   "metadata": {},
   "outputs": [],
   "source": [
    "rfr.score(X,Y)"
   ]
  },
  {
   "cell_type": "markdown",
   "metadata": {},
   "source": [
    "### 8.7.Random Forest_Classification<a id=\"Radom_Forest_Class\">"
   ]
  },
  {
   "cell_type": "code",
   "execution_count": 1,
   "metadata": {},
   "outputs": [],
   "source": [
    "from sklearn.ensemble import RandomForestClassifier\n",
    "\n",
    "forest = RandomForestClassifier(max_depth = 10, n_estimators = 100, random_state = 1)"
   ]
  },
  {
   "cell_type": "code",
   "execution_count": 2,
   "metadata": {},
   "outputs": [
    {
     "ename": "NameError",
     "evalue": "name 'X' is not defined",
     "output_type": "error",
     "traceback": [
      "\u001b[1;31m---------------------------------------------------------------------------\u001b[0m",
      "\u001b[1;31mNameError\u001b[0m                                 Traceback (most recent call last)",
      "\u001b[1;32m<ipython-input-2-1cfa7e502586>\u001b[0m in \u001b[0;36m<module>\u001b[1;34m()\u001b[0m\n\u001b[0;32m      1\u001b[0m \u001b[1;31m# Fitting the model on Train Data\u001b[0m\u001b[1;33m\u001b[0m\u001b[1;33m\u001b[0m\u001b[0m\n\u001b[0;32m      2\u001b[0m \u001b[1;33m\u001b[0m\u001b[0m\n\u001b[1;32m----> 3\u001b[1;33m \u001b[0mmy_forest\u001b[0m \u001b[1;33m=\u001b[0m \u001b[0mforest\u001b[0m\u001b[1;33m.\u001b[0m\u001b[0mfit\u001b[0m\u001b[1;33m(\u001b[0m\u001b[0mX\u001b[0m\u001b[1;33m,\u001b[0m \u001b[0my\u001b[0m\u001b[1;33m)\u001b[0m\u001b[1;33m\u001b[0m\u001b[0m\n\u001b[0m",
      "\u001b[1;31mNameError\u001b[0m: name 'X' is not defined"
     ]
    }
   ],
   "source": [
    "# Fitting the model on Train Data\n",
    "\n",
    "my_forest = forest.fit(X, y)"
   ]
  },
  {
   "cell_type": "code",
   "execution_count": null,
   "metadata": {},
   "outputs": [],
   "source": [
    "# Print the accuracy score of the fitted random forest\n",
    "\n",
    "print(my_forest.score(X, y))"
   ]
  },
  {
   "cell_type": "code",
   "execution_count": null,
   "metadata": {},
   "outputs": [],
   "source": [
    "# Making predictions\n",
    "\n",
    "pred = my_forest.predict(X)"
   ]
  },
  {
   "cell_type": "code",
   "execution_count": null,
   "metadata": {},
   "outputs": [],
   "source": [
    "list(zip(columns,my_forest.feature_importances_))"
   ]
  },
  {
   "cell_type": "code",
   "execution_count": null,
   "metadata": {},
   "outputs": [],
   "source": [
    "df_confusion_rf = metrics.confusion_matrix(y, pred)\n",
    "df_confusion_rf"
   ]
  },
  {
   "cell_type": "code",
   "execution_count": null,
   "metadata": {},
   "outputs": [],
   "source": [
    "cmap = sns.cubehelix_palette(50, hue=0.05, rot=0, light=0.9, dark=0, as_cmap=True)\n",
    "sns.heatmap(df_confusion_rf, cmap = cmap,xticklabels=['Prediction No','Prediction Yes'],yticklabels=['Actual No','Actual Yes'], annot=True,\n",
    "            fmt='d')"
   ]
  },
  {
   "cell_type": "markdown",
   "metadata": {},
   "source": [
    "### 8.8  K-Means<a id=\"K-Means\">"
   ]
  },
  {
   "cell_type": "markdown",
   "metadata": {},
   "source": [
    "### 8.9 Naive Bayes Model <a id=\"NBM\">"
   ]
  },
  {
   "cell_type": "code",
   "execution_count": null,
   "metadata": {},
   "outputs": [],
   "source": [
    "# Train Naive Bayes Classifier\n",
    "\n",
    "\n",
    "from sklearn import naive_bayes\n",
    "clf = naive_bayes.MultinomialNB()"
   ]
  },
  {
   "cell_type": "code",
   "execution_count": null,
   "metadata": {},
   "outputs": [],
   "source": [
    "model=clf.fit(X_train, y_train)"
   ]
  },
  {
   "cell_type": "code",
   "execution_count": null,
   "metadata": {},
   "outputs": [],
   "source": [
    "y_pred = model.predict(X_test)\n",
    "print(y_pred)"
   ]
  },
  {
   "cell_type": "markdown",
   "metadata": {},
   "source": [
    "## 9. Metrics"
   ]
  },
  {
   "cell_type": "code",
   "execution_count": null,
   "metadata": {},
   "outputs": [],
   "source": [
    "def generate_model_report(y_actual, y_predicted):\n",
    "    print(\"Accuracy = \" , accuracy_score(y_actual, y_predicted))\n",
    "    print(\"Precision = \" ,precision_score(y_actual, y_predicted))\n",
    "    print(\"Recall = \" ,recall_score(y_actual, y_predicted))\n",
    "    print(\"F1 Score = \" ,f1_score(y_actual, y_predicted))\n",
    "    "
   ]
  },
  {
   "cell_type": "code",
   "execution_count": null,
   "metadata": {},
   "outputs": [],
   "source": [
    "def generate_auc_roc_curve(clf, X_test):\n",
    "    y_pred_proba = clf.predict_proba(X_test)[:, 1]\n",
    "    fpr, tpr, thresholds = roc_curve(Y_test,  y_pred_proba)\n",
    "    auc = roc_auc_score(Y_test, y_pred_proba)\n",
    "    plt.plot(fpr,tpr,label=\"AUC ROC Curve with Area Under the curve =\"+str(auc))\n",
    "    plt.legend(loc=4)\n",
    "    plt.show()\n",
    "    "
   ]
  },
  {
   "cell_type": "code",
   "execution_count": 4,
   "metadata": {},
   "outputs": [
    {
     "name": "stdout",
     "output_type": "stream",
     "text": [
      "[{0: 0.05, 1: 0.95}, {0: 0.09736842105263158, 1: 0.9026315789473685}, {0: 0.14473684210526316, 1: 0.8552631578947368}, {0: 0.19210526315789472, 1: 0.8078947368421052}, {0: 0.23947368421052628, 1: 0.7605263157894737}, {0: 0.28684210526315784, 1: 0.7131578947368422}, {0: 0.33421052631578946, 1: 0.6657894736842105}, {0: 0.381578947368421, 1: 0.618421052631579}, {0: 0.4289473684210526, 1: 0.5710526315789475}, {0: 0.47631578947368414, 1: 0.5236842105263159}, {0: 0.5236842105263158, 1: 0.47631578947368425}, {0: 0.5710526315789474, 1: 0.42894736842105263}, {0: 0.618421052631579, 1: 0.381578947368421}, {0: 0.6657894736842105, 1: 0.3342105263157895}, {0: 0.7131578947368421, 1: 0.2868421052631579}, {0: 0.7605263157894736, 1: 0.2394736842105264}, {0: 0.8078947368421052, 1: 0.19210526315789478}, {0: 0.8552631578947368, 1: 0.14473684210526316}, {0: 0.9026315789473683, 1: 0.09736842105263166}, {0: 0.95, 1: 0.050000000000000044}]\n"
     ]
    }
   ],
   "source": [
    "weights = np.linspace(0.05, 0.95, 20)\n",
    "print([{0: x, 1: 1.0-x} for x in weights])"
   ]
  },
  {
   "cell_type": "code",
   "execution_count": null,
   "metadata": {},
   "outputs": [],
   "source": []
  },
  {
   "cell_type": "code",
   "execution_count": null,
   "metadata": {
    "collapsed": true
   },
   "outputs": [],
   "source": []
  }
 ],
 "metadata": {
  "kernelspec": {
   "display_name": "Python 3 (ipykernel)",
   "language": "python",
   "name": "python3"
  },
  "language_info": {
   "codemirror_mode": {
    "name": "ipython",
    "version": 3
   },
   "file_extension": ".py",
   "mimetype": "text/x-python",
   "name": "python",
   "nbconvert_exporter": "python",
   "pygments_lexer": "ipython3",
   "version": "3.8.8"
  }
 },
 "nbformat": 4,
 "nbformat_minor": 2
}
