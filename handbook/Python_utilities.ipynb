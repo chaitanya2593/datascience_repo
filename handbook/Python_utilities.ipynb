{
 "cells": [
  {
   "cell_type": "markdown",
   "id": "45879d25",
   "metadata": {},
   "source": [
    "## Itertools\n",
    "\n",
    "https://www.geeksforgeeks.org/python-itertools/"
   ]
  },
  {
   "cell_type": "code",
   "execution_count": null,
   "id": "c8bf0a87",
   "metadata": {},
   "outputs": [],
   "source": [
    "[(str(element) + str(letter)) for element in current_list for letter in self.num_dict[digit]]\n",
    "\n"
   ]
  },
  {
   "cell_type": "code",
   "execution_count": 61,
   "id": "baa185db",
   "metadata": {},
   "outputs": [],
   "source": [
    "import itertools\n",
    "list1=[2,3,5]\n",
    "# itertools.product(list1,list2)\n",
    "\n",
    "\n",
    "# [(str(x) + str(y)) for x in list1 for y in list2]\n",
    "\n",
    "\n",
    "final_list = []\n",
    "for r in range(1, 6):\n",
    "    final_list.extend([x for x in itertools.combinations_with_replacement(list1, r)])"
   ]
  },
  {
   "cell_type": "code",
   "execution_count": 62,
   "id": "32d9708c",
   "metadata": {},
   "outputs": [
    {
     "data": {
      "text/plain": [
       "[(2,),\n",
       " (3,),\n",
       " (5,),\n",
       " (2, 2),\n",
       " (2, 3),\n",
       " (2, 5),\n",
       " (3, 3),\n",
       " (3, 5),\n",
       " (5, 5),\n",
       " (2, 2, 2),\n",
       " (2, 2, 3),\n",
       " (2, 2, 5),\n",
       " (2, 3, 3),\n",
       " (2, 3, 5),\n",
       " (2, 5, 5),\n",
       " (3, 3, 3),\n",
       " (3, 3, 5),\n",
       " (3, 5, 5),\n",
       " (5, 5, 5),\n",
       " (2, 2, 2, 2),\n",
       " (2, 2, 2, 3),\n",
       " (2, 2, 2, 5),\n",
       " (2, 2, 3, 3),\n",
       " (2, 2, 3, 5),\n",
       " (2, 2, 5, 5),\n",
       " (2, 3, 3, 3),\n",
       " (2, 3, 3, 5),\n",
       " (2, 3, 5, 5),\n",
       " (2, 5, 5, 5),\n",
       " (3, 3, 3, 3),\n",
       " (3, 3, 3, 5),\n",
       " (3, 3, 5, 5),\n",
       " (3, 5, 5, 5),\n",
       " (5, 5, 5, 5),\n",
       " (2, 2, 2, 2, 2),\n",
       " (2, 2, 2, 2, 3),\n",
       " (2, 2, 2, 2, 5),\n",
       " (2, 2, 2, 3, 3),\n",
       " (2, 2, 2, 3, 5),\n",
       " (2, 2, 2, 5, 5),\n",
       " (2, 2, 3, 3, 3),\n",
       " (2, 2, 3, 3, 5),\n",
       " (2, 2, 3, 5, 5),\n",
       " (2, 2, 5, 5, 5),\n",
       " (2, 3, 3, 3, 3),\n",
       " (2, 3, 3, 3, 5),\n",
       " (2, 3, 3, 5, 5),\n",
       " (2, 3, 5, 5, 5),\n",
       " (2, 5, 5, 5, 5),\n",
       " (3, 3, 3, 3, 3),\n",
       " (3, 3, 3, 3, 5),\n",
       " (3, 3, 3, 5, 5),\n",
       " (3, 3, 5, 5, 5),\n",
       " (3, 5, 5, 5, 5),\n",
       " (5, 5, 5, 5, 5)]"
      ]
     },
     "execution_count": 62,
     "metadata": {},
     "output_type": "execute_result"
    }
   ],
   "source": [
    "final_list"
   ]
  },
  {
   "cell_type": "code",
   "execution_count": 59,
   "id": "9fe34fa5",
   "metadata": {},
   "outputs": [],
   "source": [
    "import itertools\n",
    "list1=[2,3,5]\n",
    "# itertools.product(list1,list2)\n",
    "\n",
    "\n",
    "# [(str(x) + str(y)) for x in list1 for y in list2]\n",
    "\n",
    "\n",
    "final_list = []\n",
    "for r in range(1, 6):\n",
    "    final_list.extend([x for x in itertools.combinations(list1, r)])"
   ]
  },
  {
   "cell_type": "code",
   "execution_count": 60,
   "id": "99d66573",
   "metadata": {},
   "outputs": [
    {
     "data": {
      "text/plain": [
       "[(2,), (3,), (5,), (2, 3), (2, 5), (3, 5), (2, 3, 5)]"
      ]
     },
     "execution_count": 60,
     "metadata": {},
     "output_type": "execute_result"
    }
   ],
   "source": [
    "final_list"
   ]
  },
  {
   "cell_type": "code",
   "execution_count": 63,
   "id": "0114e127",
   "metadata": {},
   "outputs": [
    {
     "name": "stdout",
     "output_type": "stream",
     "text": [
      "5 10 15 20 25 30 "
     ]
    }
   ],
   "source": [
    "# Python program to demonstrate\n",
    "# infinite iterators\n",
    "\n",
    "import itertools\n",
    "\n",
    "# for in loop\n",
    "for i in itertools.count(5, 5):\n",
    "\tif i == 35:\n",
    "\t\tbreak\n",
    "\telse:\n",
    "\t\tprint(i, end =\" \")\n"
   ]
  },
  {
   "cell_type": "code",
   "execution_count": 67,
   "id": "01b2d4bc",
   "metadata": {},
   "outputs": [
    {
     "ename": "KeyboardInterrupt",
     "evalue": "",
     "output_type": "error",
     "traceback": [
      "\u001b[1;31m---------------------------------------------------------------------------\u001b[0m",
      "\u001b[1;31mKeyboardInterrupt\u001b[0m                         Traceback (most recent call last)",
      "    \u001b[1;31m[... skipping hidden 1 frame]\u001b[0m\n",
      "\u001b[1;32m<ipython-input-67-33be6f367bbe>\u001b[0m in \u001b[0;36m<module>\u001b[1;34m\u001b[0m\n\u001b[1;32m----> 1\u001b[1;33m \u001b[1;33m[\u001b[0m\u001b[0mi\u001b[0m\u001b[1;33m<\u001b[0m\u001b[1;36m500\u001b[0m \u001b[1;32mfor\u001b[0m \u001b[0mi\u001b[0m \u001b[1;32min\u001b[0m \u001b[0mitertools\u001b[0m\u001b[1;33m.\u001b[0m\u001b[0mcount\u001b[0m\u001b[1;33m(\u001b[0m\u001b[1;36m5\u001b[0m\u001b[1;33m,\u001b[0m \u001b[1;36m5\u001b[0m\u001b[1;33m)\u001b[0m\u001b[1;33m]\u001b[0m\u001b[1;33m\u001b[0m\u001b[1;33m\u001b[0m\u001b[0m\n\u001b[0m",
      "\u001b[1;32m<ipython-input-67-33be6f367bbe>\u001b[0m in \u001b[0;36m<listcomp>\u001b[1;34m(.0)\u001b[0m\n\u001b[1;32m----> 1\u001b[1;33m \u001b[1;33m[\u001b[0m\u001b[0mi\u001b[0m\u001b[1;33m<\u001b[0m\u001b[1;36m500\u001b[0m \u001b[1;32mfor\u001b[0m \u001b[0mi\u001b[0m \u001b[1;32min\u001b[0m \u001b[0mitertools\u001b[0m\u001b[1;33m.\u001b[0m\u001b[0mcount\u001b[0m\u001b[1;33m(\u001b[0m\u001b[1;36m5\u001b[0m\u001b[1;33m,\u001b[0m \u001b[1;36m5\u001b[0m\u001b[1;33m)\u001b[0m\u001b[1;33m]\u001b[0m\u001b[1;33m\u001b[0m\u001b[1;33m\u001b[0m\u001b[0m\n\u001b[0m",
      "\u001b[1;31mKeyboardInterrupt\u001b[0m: ",
      "\nDuring handling of the above exception, another exception occurred:\n",
      "\u001b[1;31mKeyboardInterrupt\u001b[0m                         Traceback (most recent call last)",
      "\u001b[1;31mKeyboardInterrupt\u001b[0m: "
     ]
    }
   ],
   "source": [
    "[i<500 for i in itertools.count(5, 5)]"
   ]
  },
  {
   "cell_type": "code",
   "execution_count": 68,
   "id": "f6ed05cf",
   "metadata": {},
   "outputs": [
    {
     "name": "stdout",
     "output_type": "stream",
     "text": [
      "A B A B A B A B "
     ]
    }
   ],
   "source": [
    "# Python program to demonstrate\n",
    "# infinite iterators\n",
    "\n",
    "import itertools\n",
    "\n",
    "count = 0\n",
    "\n",
    "# for in loop\n",
    "for i in itertools.cycle('AB'):\n",
    "\tif count > 7:\n",
    "\t\tbreak\n",
    "\telse:\n",
    "\t\tprint(i, end = \" \")\n",
    "\t\tcount += 1\n"
   ]
  },
  {
   "cell_type": "code",
   "execution_count": 69,
   "id": "b5d969a1",
   "metadata": {},
   "outputs": [],
   "source": [
    "# Python program to demonstrate\n",
    "# infinite iterators\n",
    "\n",
    "import itertools\n",
    "\n",
    "l = ['Geeks', 'for', 'Geeks']\n",
    "\n",
    "# defining iterator\n",
    "iterators = itertools.cycle(l)\n",
    "\n",
    "# for in loop\n",
    "for i in range(6):\n",
    "\t\n",
    "\t# Using next function\n",
    "\tprint(next(iterators), end = \" \")\n"
   ]
  },
  {
   "cell_type": "code",
   "execution_count": 78,
   "id": "cfcf6ddc",
   "metadata": {},
   "outputs": [
    {
     "data": {
      "text/plain": [
       "'A'"
      ]
     },
     "execution_count": 78,
     "metadata": {},
     "output_type": "execute_result"
    }
   ],
   "source": [
    "# using accumulate()\n",
    "# prints the successive multiplication of elements\n",
    "print (\"The product after each iteration is : \", end =\"\")\n",
    "print (list(itertools.accumulate(li1, operator.mul)))"
   ]
  },
  {
   "cell_type": "code",
   "execution_count": null,
   "id": "3436050b",
   "metadata": {},
   "outputs": [],
   "source": [
    "# Python code to demonstrate the working of\n",
    "# and chain()\n",
    "\n",
    "\n",
    "import itertools\n",
    "\n",
    "# initializing list 1\n",
    "li1 = [1, 4, 5, 7]\n",
    "\n",
    "# initializing list 2\n",
    "li2 = [1, 6, 5, 9]\n",
    "\n",
    "# initializing list 3\n",
    "li3 = [8, 10, 5, 4]\n",
    "\n",
    "# using chain() to print all elements of lists\n",
    "print (\"All values in mentioned chain are : \", end =\"\")\n",
    "print (list(itertools.chain(li1, li2, li3)))\n"
   ]
  },
  {
   "cell_type": "code",
   "execution_count": null,
   "id": "4b43918d",
   "metadata": {},
   "outputs": [],
   "source": [
    "# Python code to demonstrate the working of\n",
    "# filterfalse()\n",
    "\n",
    "\n",
    "import itertools\n",
    "\n",
    "# initializing list\n",
    "li = [2, 4, 5, 7, 8]\n",
    "\n",
    "# using filterfalse() to print false values\n",
    "print (\"The values that return false to function are : \", end =\"\")\n",
    "print (list(itertools.filterfalse(lambda x : x % 2 == 0, li)))\n"
   ]
  },
  {
   "cell_type": "code",
   "execution_count": null,
   "id": "3099f0f4",
   "metadata": {},
   "outputs": [],
   "source": [
    "# Python code to demonstrate the working of\n",
    "# tee()\n",
    "\n",
    "\n",
    "import itertools\n",
    "\n",
    "# initializing list\n",
    "li = [2, 4, 6, 7, 8, 10, 20]\n",
    "\n",
    "# storing list in iterator\n",
    "iti = iter(li)\n",
    "\n",
    "# using tee() to make a list of iterators\n",
    "# makes list of 3 iterators having same values.\n",
    "it = itertools.tee(iti, 3)\n",
    "\n",
    "# printing the values of iterators\n",
    "print (\"The iterators are : \")\n",
    "for i in range (0, 3):\n",
    "\tprint (list(it[i]))\n"
   ]
  },
  {
   "cell_type": "code",
   "execution_count": 79,
   "id": "206c7260",
   "metadata": {},
   "outputs": [
    {
     "data": {
      "text/plain": [
       "20"
      ]
     },
     "execution_count": 79,
     "metadata": {},
     "output_type": "execute_result"
    }
   ],
   "source": [
    "li = [2, 4, 6, 7, 8, 10, 20]\n",
    "\n",
    "li.pop()"
   ]
  },
  {
   "cell_type": "code",
   "execution_count": 80,
   "id": "4dffc692",
   "metadata": {},
   "outputs": [
    {
     "data": {
      "text/plain": [
       "[2, 4, 6, 7, 8, 10]"
      ]
     },
     "execution_count": 80,
     "metadata": {},
     "output_type": "execute_result"
    }
   ],
   "source": [
    "li"
   ]
  },
  {
   "cell_type": "code",
   "execution_count": null,
   "id": "d8cce5b0",
   "metadata": {},
   "outputs": [],
   "source": []
  },
  {
   "cell_type": "code",
   "execution_count": 81,
   "id": "8ed3f4ff",
   "metadata": {},
   "outputs": [],
   "source": [
    "class Palindrome_1():\n",
    "\n",
    "    def __init__(self, val):\n",
    "        self.val = val\n",
    "        self.reversed = \"\"\n",
    "        self.master_list= []\n",
    "        self.master_dictionary={}\n",
    "        self.final_dict = {}\n",
    "        self.temp_string = \"\"\n",
    "\n",
    "    def check_substring(self):\n",
    "        temp_string=\"\"\n",
    "        for character in range(len(self.val)):\n",
    "            for next_char_combo in range(character +1, len(self.val)):\n",
    "                temp_string =\"\"\n",
    "                temp_string = temp_string + str(self.val[character: next_char_combo+1])\n",
    "                if temp_string== temp_string[::-1]:\n",
    "                    self.master_list.append(temp_string)\n",
    "        return self.master_list"
   ]
  },
  {
   "cell_type": "code",
   "execution_count": 87,
   "id": "1bc9c621",
   "metadata": {},
   "outputs": [
    {
     "data": {
      "text/plain": [
       "['MAM', 'MAMAM', 'AMA', 'MAM']"
      ]
     },
     "execution_count": 87,
     "metadata": {},
     "output_type": "execute_result"
    }
   ],
   "source": [
    "p1 = Palindrome_1('MAMAMIA')\n",
    "p1.check_substring()"
   ]
  },
  {
   "cell_type": "markdown",
   "id": "16905221",
   "metadata": {},
   "source": [
    "Backtracking is a form of recursion. But it involves choosing only option out of any possibilities. We begin by choosing an option and backtrack from it, if we reach a state where we conclude that this specific option does not give the required solution."
   ]
  },
  {
   "cell_type": "code",
   "execution_count": 101,
   "id": "9aa1d4bf",
   "metadata": {},
   "outputs": [],
   "source": [
    "[ chr(95) for i in range(10)].sort()"
   ]
  },
  {
   "cell_type": "markdown",
   "id": "350e4aa3",
   "metadata": {},
   "source": [
    "Two pointers is really an easy and effective technique that is typically used for searching pairs in a sorted array.\n",
    "Given a sorted array A (sorted in ascending order), having N integers, find if there exists any pair of elements (A[i], A[j]) such that their sum is equal to X.\n",
    "\n",
    "https://www.geeksforgeeks.org/two-pointers-technique/"
   ]
  }
 ],
 "metadata": {
  "kernelspec": {
   "display_name": "Python 3",
   "language": "python",
   "name": "python3"
  },
  "language_info": {
   "codemirror_mode": {
    "name": "ipython",
    "version": 3
   },
   "file_extension": ".py",
   "mimetype": "text/x-python",
   "name": "python",
   "nbconvert_exporter": "python",
   "pygments_lexer": "ipython3",
   "version": "3.8.8"
  }
 },
 "nbformat": 4,
 "nbformat_minor": 5
}
