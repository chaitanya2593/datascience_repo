{
 "cells": [
  {
   "cell_type": "markdown",
   "metadata": {},
   "source": [
    "# Handbook for scripting"
   ]
  },
  {
   "cell_type": "markdown",
   "metadata": {},
   "source": [
    "<h1> Table of Contents </h1>\n",
    "\n",
    "1. [Introduction](#Intro)\n",
    "2. [Importing the packages](#packages)\n",
    "3. [Import the data set](#Data_set)\n",
    "4. [Perform Descriptive Statistics on the dataset](#EDA)\n",
    "5. [Handling missing values](#Missing_values)     \n",
    "6. [Selecting the columns](#Select_columns)\n",
    "7. [Example Snippets](#snippets)\n",
    "8. [Machine Learning Models](#ML)\n",
    "    - 8.1 [Generic functions](#Generic_functions)\n",
    "    - 8.2 [Linear Regression](#Linear_Regression)\n",
    "    - 8.3 [Logistic Regression](#Logistic_Regression)\n",
    "    - 8.4 [Decision Tree - Classification](#RDT)\n",
    "    - 8.5 [Decision Tree - Regression](#RDTR)\n",
    "    - 8.6.[Random Forest_Classification](#Radom_Forest_Class)\n",
    "    - 8.7.[Random Forest_Regression](#Radom_Forest_Reg)\n",
    "    - 8.8 [K-Means](#K-Means)\n"
   ]
  },
  {
   "cell_type": "markdown",
   "metadata": {},
   "source": [
    "## 1. Introduction <a id=\"Intro\">\n",
    "    The main intention of this document is to help the user when he performing the ML activities on the datasets"
   ]
  },
  {
   "cell_type": "markdown",
   "metadata": {},
   "source": [
    "## 2. Importing the packages  <a id='packages'>"
   ]
  },
  {
   "cell_type": "code",
   "execution_count": 1,
   "metadata": {},
   "outputs": [],
   "source": [
    "# Import Required Packages \n",
    "import pandas as pd\n",
    "import numpy as np\n",
    "import pandas_profiling\n",
    "import seaborn as sns\n",
    "import matplotlib.pyplot as plt\n",
    "%matplotlib inline\n",
    "import sklearn \n",
    " \n",
    "from sklearn import metrics"
   ]
  },
  {
   "cell_type": "code",
   "execution_count": null,
   "metadata": {},
   "outputs": [],
   "source": [
    "# to remove teh printing barrier\n",
    "pd.set_option('display.max_columns', None)\n",
    "pd.set_option('display.max_rows', None)"
   ]
  },
  {
   "cell_type": "code",
   "execution_count": null,
   "metadata": {},
   "outputs": [],
   "source": [
    "# TO print multiple outputs in single line\n",
    "from IPython.core.interactiveshell import InteractiveShell\n",
    "InteractiveShell.ast_node_interactivity = \"all\""
   ]
  },
  {
   "cell_type": "markdown",
   "metadata": {},
   "source": [
    "## 3. Import the data set <a id=\"Data_set\">"
   ]
  },
  {
   "cell_type": "code",
   "execution_count": null,
   "metadata": {},
   "outputs": [],
   "source": [
    "#Approach by using path \n",
    "your_local_path=r\"\"\n",
    "train_df = pd.read_csv(your_local_path+\"titanic.csv\")\n",
    "\n",
    "#Approach by uploading the fiel to jupyter using read_csv\n",
    "titanic_data = pd.read_csv(\"attachment_titanic_lyst9961.csv\")\n",
    "\n",
    "#Approach from url\n",
    "url = 'https://raw.githubusercontent.com/upxacademy/ML_with_Python/master/Datasets/bikeshare.csv?token=AYxzdiGnjM610dBT7PuwUnUNOmm3bGcvks5ZFDyLwA%3D%3D'\n",
    "bikes = pd.read_csv(url, index_col='datetime', parse_dates=True)\n",
    "\n",
    "# Loading data from arff files\n",
    "from scipy.io.arff import loadarff\n",
    "phishing_data_raw = loadarff(\"PhishingData.arff\")\n",
    "\n",
    "\n",
    "\n",
    "## Import the DataSet in colabs\n",
    "from google.colab import drive\n",
    "# This will prompt for authorization.\n",
    "drive.mount('/content/drive')\n",
    "\n",
    "\n",
    "# instat import of teh small \n",
    "# from google.colab import files\n",
    "# upload = files.upload()\n",
    "\n",
    "\n",
    "# import the dataset in azure notebooks\n",
    "from azureml import Workspace\n",
    "ws = Workspace()\n",
    "ds = ws.datasets['bidata_Azure_all_data.csv']\n",
    "frame = ds.to_dataframe()\n",
    "\n",
    "import io\n",
    "emp_data = pd.read_csv(io.BytesIO(upload['attachment_train_lyst4523.csv']))"
   ]
  },
  {
   "cell_type": "markdown",
   "metadata": {},
   "source": [
    "# Anomaly Detection"
   ]
  },
  {
   "cell_type": "code",
   "execution_count": null,
   "metadata": {},
   "outputs": [],
   "source": []
  },
  {
   "cell_type": "code",
   "execution_count": null,
   "metadata": {},
   "outputs": [],
   "source": [
    "from tensorflow.python.keras.models import Sequential\n",
    "import tensorflow.python.keras as tf\n",
    "from tensorflow.python.keras.layers import Dense, Dropout\n",
    "from pyod.models.auto_encoder import AutoEncoder \n",
    "clf1 = AutoEncoder(hidden_neurons =[30, 10,2, 10, 30], epochs=100)\n",
    "clf1.fit(X_train)\n",
    "\n",
    "# Get the outlier scores for the train data\n",
    "y_train_scores = clf1.decision_scores_  \n",
    "\n"
   ]
  },
  {
   "cell_type": "markdown",
   "metadata": {},
   "source": [
    "## Isolation Forest "
   ]
  },
  {
   "cell_type": "code",
   "execution_count": null,
   "metadata": {},
   "outputs": [],
   "source": [
    "from sklearn.ensemble import IsolationForest\n",
    "outliers_fraction = i\n",
    "#contamination=outliers_fraction,\n",
    "xx , yy = np.meshgrid(np.linspace(0, 1, 100), np.linspace(0, 1, 100))\n",
    "clf = IsolationForest(contamination=outliers_fraction,random_state=32 , bootstrap=False, \n",
    "                max_features=X_triner_minmax.shape[1], max_samples='auto', n_estimators=500,\n",
    "                n_jobs=-1,)\n",
    "clf.fit(X_triner_minmax)\n",
    "scores_pred = clf.decision_function(X_triner_minmax) * -1\n",
    "\n",
    "y_pred = clf.predict(X_triner_minmax)\n",
    "\n",
    "\n",
    "\n",
    "X_train_minmax.shape[1]\n",
    "\n",
    "\n",
    "final_df['Outliers'] = y_pred\n",
    "final_df['Outliers'].replace({1:0,-1:1}, inplace=True)\n",
    "final_df['Outliers'].value_counts()\n",
    "\n",
    "\n",
    "\n",
    "\n",
    "\n",
    "evaluate(final_df['ICCC Results'],final_df['Outliers'])"
   ]
  },
  {
   "cell_type": "markdown",
   "metadata": {},
   "source": [
    "## Knn Pyod"
   ]
  },
  {
   "cell_type": "code",
   "execution_count": null,
   "metadata": {},
   "outputs": [],
   "source": [
    "from pyod.models.knn import KNN\n",
    "clf = KNN(contamination=0.01)\n",
    "clf.fit(nor_final_df_km_pca)\n",
    "scores_pred = clf.decision_function(nor_final_df_km_pca) * -1\n",
    "y_pred = clf.predict(nor_final_df_km_pca)"
   ]
  },
  {
   "cell_type": "code",
   "execution_count": null,
   "metadata": {},
   "outputs": [],
   "source": []
  },
  {
   "cell_type": "code",
   "execution_count": null,
   "metadata": {},
   "outputs": [],
   "source": [
    "Pickel "
   ]
  },
  {
   "cell_type": "code",
   "execution_count": null,
   "metadata": {},
   "outputs": [],
   "source": [
    "import pickle\n",
    "import os\n",
    "\n",
    "with open('MCMC.pkl', 'wb') as f:  # Python 3: open(..., 'wb')\n",
    "    pickle.dump(xgb_clf, f) "
   ]
  },
  {
   "cell_type": "code",
   "execution_count": null,
   "metadata": {},
   "outputs": [],
   "source": [
    "# import pickle\n",
    "# with open('oct_mar_xgb_clf_f_all_ER_v1.pkl', 'rb') as f:  # Python 3: open(..., 'wb')\n",
    "#     xgb_clf = pickle.load(f) "
   ]
  },
  {
   "cell_type": "code",
   "execution_count": null,
   "metadata": {},
   "outputs": [],
   "source": [
    "import smtplib, ssl\n",
    "import socket\n",
    "socket.getaddrinfo('localhost', 8080)\n",
    "port = 465  # For SSL\n",
    "# password = input(\"Type your password and press enter: \")\n",
    "smtp_server = \"smtp.gmail.com\"\n",
    "receiver_email = sender_email = \"sundar2593@gmail.com\"  # Enter your address\n",
    "# receiver_email = \"venkata.madduri@xs.nestle.com\"  # Enter receiver address\n",
    "\n",
    "\n",
    "# Create a secure SSL context\n",
    "# context = ssl.create_default_context()\n",
    "\n",
    "message = \"\"\"\\\n",
    "Subject: Hi there\n",
    "\n",
    "This message is sent from Python.\"\"\"\n",
    "\n",
    "\n",
    "context = ssl.create_default_context()\n",
    "with smtplib.SMTP_SSL(smtp_server, port, context=context) as server:\n",
    "    server.login(sender_email, \"sundar@1\")\n",
    "    \n",
    "    try:\n",
    "      server.sendmail(sender_email, receiver_email, message)\n",
    "      print(\"messgae sent successfully\")\n",
    "    except Exception as e:\n",
    "      print(e)\n",
    "      print(\"Error: unable to send email\")\n",
    "\n"
   ]
  },
  {
   "cell_type": "code",
   "execution_count": null,
   "metadata": {},
   "outputs": [],
   "source": [
    "import smtplib\n",
    "\n",
    "from email.mime.multipart import MIMEMultipart\n",
    "from email.mime.text import MIMEText\n",
    "part2 = MIMEText(soup, 'html')"
   ]
  },
  {
   "cell_type": "markdown",
   "metadata": {},
   "source": [
    "### Outlook Mail configuration , sending and extracting mails "
   ]
  },
  {
   "cell_type": "code",
   "execution_count": null,
   "metadata": {},
   "outputs": [],
   "source": [
    "from exchangelib import Configuration, Account, DELEGATE\n",
    "from exchangelib import Message, Mailbox, FileAttachment\n",
    "\n",
    "\n",
    "credentials = Credentials(\n",
    "    username='venkata.madduri@xs.nestle.com',  # Or myusername@example.com for O365\n",
    "    password=''\n",
    ")\n",
    "account = Account(\n",
    "    primary_smtp_address='venkata.madduri@xs.nestle.com', \n",
    "    credentials=credentials, \n",
    "    autodiscover=True, \n",
    "    access_type=DELEGATE\n",
    ")\n",
    "\n",
    "\n",
    "  \n",
    "recipients = ['venkata.madduri@xs.nestle.com']\n",
    "for recipient in recipients:\n",
    "    to_recipients.append(Mailbox(email_address=recipient))\n",
    "# Create message\n",
    "m = Message(account=account,\n",
    "            folder=account.sent,\n",
    "            subject=\"Outlook Test Email\",\n",
    "            body=\"It works\",\n",
    "            to_recipients=to_recipients)\n",
    "\n",
    "# attach files\n",
    "attachments = []\n",
    "for attachment_name, attachment_content in attachments or []:\n",
    "    file = FileAttachment(name=attachment_name, content=attachment_content)\n",
    "    m.attach(file)\n",
    "m.send_and_save()\n"
   ]
  },
  {
   "cell_type": "code",
   "execution_count": null,
   "metadata": {},
   "outputs": [],
   "source": [
    "# Print first 100 inbox messages in reverse order\n",
    "# for item in account.inbox.all().order_by('-datetime_received')[:20]:\n",
    "#     print(item.subject, item.body, item.attachments)\n",
    "\n",
    "# specific email extract friom sent items\n",
    "item = account.sent.get(subject='Ticket booking') # subject must be extact or us regex\n",
    "item.body\n",
    "\n",
    "# to convert str html to exchangelib HTML\n",
    "import exchangelib\n",
    "soup_ht = exchangelib.properties.HTMLBody(soup)"
   ]
  },
  {
   "cell_type": "markdown",
   "metadata": {},
   "source": [
    "### XML extracte and operations "
   ]
  },
  {
   "cell_type": "code",
   "execution_count": null,
   "metadata": {},
   "outputs": [],
   "source": []
  },
  {
   "cell_type": "code",
   "execution_count": null,
   "metadata": {},
   "outputs": [],
   "source": [
    "\n",
    "from xml.dom.minidom import parseString\n",
    "\n",
    "\n",
    "def read_xml(xml_file):\n",
    "        with open(xml_file, 'r') as f:\n",
    "                data = f.read()\n",
    "        return parseString(data)\n",
    "\n",
    "dom = read_xml(r\"C:\\Users\\xsmaddurve\\OneDrive - NESTLE\\Prioritize\\Sample.html\")\n",
    "\n",
    "for x in dom.getElementsByTagName('span'):\n",
    "\n",
    "    print(x.toxml())\n",
    "\n",
    "#child node extraction \n",
    "dom.getElementsByTagName('span')[3].childNodes[0].nodeValue = \"shdshd\"\n",
    "dom.getElementsByTagName('span')[3].childNodes[0].nodeValue\n",
    "dom.getElementsByTagName('span')[5].childNodes[0].nodeValue\n"
   ]
  },
  {
   "cell_type": "markdown",
   "metadata": {},
   "source": [
    "#### XML extraction using xml.etree.ElementTree"
   ]
  },
  {
   "cell_type": "code",
   "execution_count": null,
   "metadata": {},
   "outputs": [],
   "source": [
    "import xml.etree.ElementTree as ET\n",
    "import xmltodict\n",
    "import json\n",
    "\n",
    "\n",
    "tree = ET.parse(r\"C:\\Users\\xsmaddurve\\OneDrive - NESTLE\\Prioritize\\Sample.html\")\n",
    "xml_data = tree.getroot()\n",
    "#here you can change the encoding type to be able to set it to the one you need\n",
    "xmlstr = ET.tostring(xml_data, encoding='utf-8', method='xml')\n",
    "\n",
    "data_dict = dict(xmltodict.parse(xmlstr))"
   ]
  },
  {
   "cell_type": "code",
   "execution_count": null,
   "metadata": {},
   "outputs": [],
   "source": [
    "xml_data\n",
    "for elem in tree:\n",
    "    for subelem in elem.findall('span'):\n",
    "    \n",
    "        # if we don't need to know the name of the attribute(s), get the dict\n",
    "        print(subelem.attrib)      \n",
    "    \n",
    "        # if we know the name of the attribute, access it directly\n",
    "#         print(subelem.get('name'))"
   ]
  },
  {
   "cell_type": "markdown",
   "metadata": {},
   "source": [
    "## Sending an mail form outlook"
   ]
  },
  {
   "cell_type": "code",
   "execution_count": null,
   "metadata": {},
   "outputs": [],
   "source": [
    "from exchangelib import Configuration, Account, DELEGATE, Credentials\n",
    "from exchangelib import Message, Mailbox, FileAttachment, properties\n",
    "from bs4 import BeautifulSoup\n",
    "import string\n",
    "\n",
    "\n",
    "\n",
    "#label,\n",
    "def compose_mail(incident, caller, created, priority, description, short_description, label,  business_sevice):\n",
    "    xml_file = r\"/content/Sample.html\"\n",
    "    with open(xml_file, 'r') as f:\n",
    "        data = f.read()\n",
    "#     data=item.body\n",
    "    soup = BeautifulSoup(data,'lxml')\n",
    "    all_links = soup.find_all(\"span\")\n",
    "    for link in range(0,len(all_links)):\n",
    "\n",
    "        if 'Incident number' in  all_links[link].text:           \n",
    "            all_links[link + 1].string = incident\n",
    "            continue\n",
    "        if 'Caller' in  all_links[link].text:        \n",
    "            all_links[link + 1].string = caller\n",
    "            continue\n",
    "        if 'Opened date' in  all_links[link].text:        \n",
    "            all_links[link + 1].string = str(created)\n",
    "            continue\n",
    "        if 'ML Priority' in  all_links[link].text: \n",
    "            print()\n",
    "            all_links[link + 1].string = str(label)\n",
    "            continue\n",
    "        if 'Priority' in  all_links[link].text:        \n",
    "            all_links[link + 1].string = priority\n",
    "            continue\n",
    "\n",
    "        if 'Business service' in  all_links[link].text:        \n",
    "            all_links[link + 1].string = business_sevice\n",
    "            continue\n",
    "        if 'Short description' in  all_links[link].text:        \n",
    "            all_links[link + 1].string = short_description\n",
    "            continue\n",
    "        if 'Description' in  all_links[link].text:        \n",
    "            all_links[link + 1].string = description\n",
    "            continue\n",
    "            \n",
    "    soup_html = properties.HTMLBody(soup)\n",
    "    subject  = incident + ' | SNOW priority '+ priority + ' | Business Priority ' + str(label) + ' |' + business_sevice\n",
    "    return soup_html, subject\n",
    "\n",
    "def send_email(body, subject, sender_list):\n",
    "    \n",
    "    try:\n",
    "        credentials = Credentials(\n",
    "          username='Venkata.Madduri@XS.nestle.com',  # Or myusername@example.com for O365\n",
    "          password='Sundar@001'\n",
    "        )\n",
    "        config = Configuration(server='outlook.office.com', credentials=credentials)\n",
    "\n",
    "        account = Account(\n",
    "          primary_smtp_address='Venkata.Madduri@XS.nestle.com', \n",
    "          credentials=credentials, \n",
    "          autodiscover=True, \n",
    "          access_type=DELEGATE,\n",
    "          # config=config,\n",
    "        )\n",
    "\n",
    "        to_recipients = []\n",
    "        cc_recipients_final = []\n",
    "#         recipients = ['BheeshmaKaradi.Somashekharappa@xs.nestle.com','Venkata.Madduri@XS.nestle.com']\n",
    "        recipients = sender_list\n",
    "        for recipient in recipients:\n",
    "            to_recipients.append(Mailbox(email_address=recipient))\n",
    "        \n",
    "        cc_recipients = ['BheeshmaKaradi.Somashekharappa@xs.nestle.com','Venkata.Madduri@XS.nestle.com']\n",
    "        for cc_recipient in cc_recipients:\n",
    "            cc_recipients_final.append(Mailbox(email_address=cc_recipient))\n",
    "        \n",
    "        # Create message\n",
    "        m = Message(account=account,\n",
    "                  folder=account.sent,\n",
    "                  subject= subject,\n",
    "                  body= body, \n",
    "                  to_recipients=to_recipients,\n",
    "                   cc_recipients=cc_recipients_final)\n",
    "\n",
    "        # attach files\n",
    "        '''with open('Auto_priority_tickets.pdf', 'rb') as f:\n",
    "          content = f.read()\n",
    "        attachments.append(('Auto_priority_tickets.pdf', content))'''\n",
    "\n",
    "        attachments = []\n",
    "        print(\"Checkpoit 1\")\n",
    "        for attachment_name, attachment_content in attachments or []:\n",
    "            file = FileAttachment(name=attachment_name, content=attachment_content)\n",
    "            m.attach(file)\n",
    "        m.send_and_save()\n",
    "        print(\"Sucessfully Triggered the mail to \" + str(sender_list))\n",
    "    except Exception as e:\n",
    "        print(e)\n",
    "        #set the flag\n",
    "\n",
    "\n",
    "    \n",
    "def send_mail_ml_priorized_records(incidents_df, ag_dataframe):\n",
    "    incidents_df['ML_criteria'].fillna('', inplace=True)\n",
    "    sender_dataframe = incidents_df[(incidents_df['ML_criteria']!='No Filter Satisfied') & (incidents_df['ML_criteria']!='')].head(3)\n",
    "    sender_dataframe.index = np.arange(1, len(sender_dataframe) + 1)\n",
    "    for counter in range(1,len(sender_dataframe)+1):\n",
    "        incident = str(sender_dataframe.loc[counter]['Number'])\n",
    "        caller = str(sender_dataframe.loc[counter]['Caller'])\n",
    "        created = str(sender_dataframe.loc[counter]['Created'])\n",
    "        priority = str(sender_dataframe.loc[counter]['Priority'])\n",
    "        description = str(sender_dataframe.loc[counter]['Description'])\n",
    "        short_description = str(sender_dataframe.loc[counter]['Short_description'])\n",
    "        label = sender_dataframe.loc[counter]['ML_Priority']\n",
    "        business_sevice = str(sender_dataframe.loc[counter]['Business_service'])               \n",
    "        ag_name = sender_dataframe.loc[counter]['Assignment_group']              \n",
    "        sender_list = list(ag_dataframe[ag_dataframe['service_now']== ag_name]['email_id'].values)        \n",
    "        # compose mail \n",
    "        mail_html, subject = compose_mail(incident, caller, created, priority, description, short_description, label,  business_sevice)        \n",
    "        # Sending mail to the AG specified  \n",
    "        send_email(mail_html , subject, sender_list)\n",
    "\n"
   ]
  },
  {
   "cell_type": "code",
   "execution_count": null,
   "metadata": {},
   "outputs": [],
   "source": [
    "# K fold training \n"
   ]
  },
  {
   "cell_type": "code",
   "execution_count": 1,
   "metadata": {},
   "outputs": [],
   "source": [
    "### Perform the training using KFolds cross validation method"
   ]
  },
  {
   "cell_type": "code",
   "execution_count": null,
   "metadata": {},
   "outputs": [],
   "source": [
    "\n",
    "# Load the boston dataset\n",
    "data = datasets.load_boston()\n",
    " \n",
    "# extract the predictors and target data.\n",
    "predictors = data.data\n",
    "target = data.target\n",
    "\n",
    "\n",
    "rf_reg = RandomForestRegressor()\n",
    "rf_reg.fit(x_train,y_train)\n",
    "\n",
    "\n",
    "cv_r2_scores_rf = cross_val_score(rf_reg, predictors, target, cv=5,scoring='r2')\n",
    "print(cv_r2_scores_rf)\n",
    "print(\"Mean 5-Fold R Squared: {}\".format(np.mean(cv_r2_scores_rf)))"
   ]
  },
  {
   "cell_type": "code",
   "execution_count": null,
   "metadata": {},
   "outputs": [],
   "source": []
  },
  {
   "cell_type": "code",
   "execution_count": null,
   "metadata": {},
   "outputs": [],
   "source": [
    "\n",
    "kf = KFold(n_splits = 5, shuffle = True)\n",
    "rf_reg = RandomForestRegressor()"
   ]
  },
  {
   "cell_type": "code",
   "execution_count": null,
   "metadata": {},
   "outputs": [],
   "source": [
    "\n",
    "scores = []\n",
    "for i in range(5):\n",
    "    result = next(kf.split(df), None)\n",
    "    x_train = df.iloc[result[0]]\n",
    "    x_test = df.iloc[result[1]]\n",
    "    y_train = y.iloc[result[0]]\n",
    "    y_test = y.iloc[result[1]]\n",
    "    model = rf_reg.fit(x_train,y_train)\n",
    "    predictions = rf_reg.predict(x_test)\n",
    "    scores.append(model.score(x_test,y_test))\n",
    "print('Scores from each Iteration: ', scores)\n",
    "print('Average K-Fold Score :' , np.mean(scores))"
   ]
  }
 ],
 "metadata": {
  "kernelspec": {
   "display_name": "Python 3 (ipykernel)",
   "language": "python",
   "name": "python3"
  },
  "language_info": {
   "codemirror_mode": {
    "name": "ipython",
    "version": 3
   },
   "file_extension": ".py",
   "mimetype": "text/x-python",
   "name": "python",
   "nbconvert_exporter": "python",
   "pygments_lexer": "ipython3",
   "version": "3.8.8"
  }
 },
 "nbformat": 4,
 "nbformat_minor": 2
}
