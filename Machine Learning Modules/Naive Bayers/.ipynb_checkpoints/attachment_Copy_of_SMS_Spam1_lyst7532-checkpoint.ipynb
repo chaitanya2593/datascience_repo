{
 "cells": [
  {
   "cell_type": "markdown",
   "metadata": {
    "colab_type": "text",
    "id": "C93Yq2o02v3f"
   },
   "source": [
    "<img height=\"60\" width=\"120\" src=\"https://shwetkm.github.io/upxlogo.png\"></img>\n",
    "# UpX Academy - Machine Learning Track\n",
    "# Naive Bayes Classifier"
   ]
  },
  {
   "cell_type": "markdown",
   "metadata": {
    "colab_type": "text",
    "id": "ZUvz5dpM2v3g"
   },
   "source": [
    "### Table of Contents\n",
    "\n",
    "1. [Data Description](#dd)\n",
    "2. [Loading the packages and dataset](#load)\n",
    "3. [Text preprocessing](#preprocessing)\n",
    "     - 3.1 [Text Cleaning](#clean)\n",
    "     - 3.2 [Applying TF-IDF](#apply)\n",
    "4. [Separating label and features](#label)\n",
    "5. [Train Test Split](#train)\n",
    "6. [Building the Naive Bayes Model](#nb)\n",
    "7. [Fitting the model](#fitting)\n",
    "8. [Predictions from the model](#pred)\n",
    "9. [Find the probability of assigning a SMS to a specific class](#find)"
   ]
  },
  {
   "cell_type": "markdown",
   "metadata": {
    "colab_type": "text",
    "id": "LUhrcKmr2v3h"
   },
   "source": [
    "### 1. Data Description  <a id='dd'>\n",
    "\n",
    "The dataset is a collection of 5574 SMS messages and the have been classified as Spam messages or Ham(not Spam).\n",
    "We will use NLP to represent the text in the SMS into numbers and perform a classification using Naive Bayes classifier.\n",
    "\n",
    "** Objectives **\n",
    "\n",
    "1.  Convert the words ham and spam to a binary indicator variable(0/1)\n",
    "\n",
    "2.  Convert the txt to a sparse matrix of TFIDF vectors\n",
    "\n",
    "3.  Fit a Naive Bayes Classifier\n",
    "\n",
    "4.  Measure your success using roc_auc_score\n"
   ]
  },
  {
   "cell_type": "markdown",
   "metadata": {
    "colab_type": "text",
    "id": "2y_dDH8s2v3h"
   },
   "source": [
    "### 2. Loading packages and dataset   <a id='load'>"
   ]
  },
  {
   "cell_type": "code",
   "execution_count": 0,
   "metadata": {
    "colab": {},
    "colab_type": "code",
    "id": "LWPuUndQ2v3j"
   },
   "outputs": [],
   "source": [
    "your_local_path=\"\""
   ]
  },
  {
   "cell_type": "code",
   "execution_count": 1,
   "metadata": {
    "colab": {},
    "colab_type": "code",
    "id": "4N15w7tN2v3m"
   },
   "outputs": [],
   "source": [
    "# Loading the packages\n",
    "\n",
    "import pandas as pd\n",
    "from sklearn.metrics import roc_auc_score"
   ]
  },
  {
   "cell_type": "code",
   "execution_count": 0,
   "metadata": {
    "colab": {},
    "colab_type": "code",
    "id": "k-Egqzde2v3p",
    "outputId": "363d1c8d-d179-41c1-be91-bb7579ce391c"
   },
   "outputs": [
    {
     "name": "stdout",
     "output_type": "stream",
     "text": [
      "showing info https://raw.githubusercontent.com/nltk/nltk_data/gh-pages/index.xml\n"
     ]
    },
    {
     "data": {
      "text/plain": [
       "True"
      ]
     },
     "execution_count": 8,
     "metadata": {
      "tags": []
     },
     "output_type": "execute_result"
    }
   ],
   "source": [
    "#nltk.download()"
   ]
  },
  {
   "cell_type": "code",
   "execution_count": 2,
   "metadata": {
    "colab": {},
    "colab_type": "code",
    "id": "RjmkCitb2v3t"
   },
   "outputs": [],
   "source": [
    "# Loading the dataset\n",
    "\n",
    "df= pd.read_csv(\"attachment_sms_spam_lyst3307.csv\")"
   ]
  },
  {
   "cell_type": "code",
   "execution_count": 3,
   "metadata": {
    "colab": {},
    "colab_type": "code",
    "id": "1WICemfS2v3v",
    "outputId": "5ade8c21-9a6a-43dd-aa8f-1611beaf5a34"
   },
   "outputs": [
    {
     "data": {
      "text/plain": [
       "(5574, 2)"
      ]
     },
     "execution_count": 3,
     "metadata": {},
     "output_type": "execute_result"
    }
   ],
   "source": [
    "df.shape"
   ]
  },
  {
   "cell_type": "markdown",
   "metadata": {
    "colab_type": "text",
    "id": "sifPeCTh2v3z"
   },
   "source": [
    "There are 5574 rows and only 2 columns"
   ]
  },
  {
   "cell_type": "code",
   "execution_count": 4,
   "metadata": {
    "colab": {},
    "colab_type": "code",
    "id": "up-qOpxY2v30",
    "outputId": "54549e26-b15b-45ba-c888-3991c22a05e8"
   },
   "outputs": [
    {
     "data": {
      "text/html": [
       "<div>\n",
       "<style scoped>\n",
       "    .dataframe tbody tr th:only-of-type {\n",
       "        vertical-align: middle;\n",
       "    }\n",
       "\n",
       "    .dataframe tbody tr th {\n",
       "        vertical-align: top;\n",
       "    }\n",
       "\n",
       "    .dataframe thead th {\n",
       "        text-align: right;\n",
       "    }\n",
       "</style>\n",
       "<table border=\"1\" class=\"dataframe\">\n",
       "  <thead>\n",
       "    <tr style=\"text-align: right;\">\n",
       "      <th></th>\n",
       "      <th>type</th>\n",
       "      <th>text</th>\n",
       "    </tr>\n",
       "  </thead>\n",
       "  <tbody>\n",
       "    <tr>\n",
       "      <th>0</th>\n",
       "      <td>ham</td>\n",
       "      <td>Go until jurong point, crazy.. Available only ...</td>\n",
       "    </tr>\n",
       "    <tr>\n",
       "      <th>1</th>\n",
       "      <td>ham</td>\n",
       "      <td>Ok lar... Joking wif u oni...</td>\n",
       "    </tr>\n",
       "    <tr>\n",
       "      <th>2</th>\n",
       "      <td>spam</td>\n",
       "      <td>Free entry in 2 a wkly comp to win FA Cup fina...</td>\n",
       "    </tr>\n",
       "    <tr>\n",
       "      <th>3</th>\n",
       "      <td>ham</td>\n",
       "      <td>U dun say so early hor... U c already then say...</td>\n",
       "    </tr>\n",
       "    <tr>\n",
       "      <th>4</th>\n",
       "      <td>ham</td>\n",
       "      <td>Nah I don't think he goes to usf, he lives aro...</td>\n",
       "    </tr>\n",
       "  </tbody>\n",
       "</table>\n",
       "</div>"
      ],
      "text/plain": [
       "   type                                               text\n",
       "0   ham  Go until jurong point, crazy.. Available only ...\n",
       "1   ham                      Ok lar... Joking wif u oni...\n",
       "2  spam  Free entry in 2 a wkly comp to win FA Cup fina...\n",
       "3   ham  U dun say so early hor... U c already then say...\n",
       "4   ham  Nah I don't think he goes to usf, he lives aro..."
      ]
     },
     "execution_count": 4,
     "metadata": {},
     "output_type": "execute_result"
    }
   ],
   "source": [
    "# Observe the first 5 rows\n",
    "\n",
    "df.head()"
   ]
  },
  {
   "cell_type": "markdown",
   "metadata": {
    "colab_type": "text",
    "collapsed": true,
    "id": "LTmeo95b2v34"
   },
   "source": [
    "#### Convert the spam and ham to 1 and 0 values respectively for probability testing"
   ]
  },
  {
   "cell_type": "code",
   "execution_count": 5,
   "metadata": {
    "colab": {},
    "colab_type": "code",
    "id": "hrAnJPjk2v34"
   },
   "outputs": [],
   "source": [
    "df.type.replace('spam', 1, inplace=True)"
   ]
  },
  {
   "cell_type": "code",
   "execution_count": 6,
   "metadata": {
    "colab": {},
    "colab_type": "code",
    "id": "fxmRAQLo2v37"
   },
   "outputs": [],
   "source": [
    "df.type.replace('ham', 0, inplace=True)"
   ]
  },
  {
   "cell_type": "code",
   "execution_count": 7,
   "metadata": {
    "colab": {},
    "colab_type": "code",
    "id": "wqbPkuja2v3-",
    "outputId": "0aef911a-18b4-44b9-f97b-565241e8d95e"
   },
   "outputs": [
    {
     "data": {
      "text/html": [
       "<div>\n",
       "<style scoped>\n",
       "    .dataframe tbody tr th:only-of-type {\n",
       "        vertical-align: middle;\n",
       "    }\n",
       "\n",
       "    .dataframe tbody tr th {\n",
       "        vertical-align: top;\n",
       "    }\n",
       "\n",
       "    .dataframe thead th {\n",
       "        text-align: right;\n",
       "    }\n",
       "</style>\n",
       "<table border=\"1\" class=\"dataframe\">\n",
       "  <thead>\n",
       "    <tr style=\"text-align: right;\">\n",
       "      <th></th>\n",
       "      <th>type</th>\n",
       "      <th>text</th>\n",
       "    </tr>\n",
       "  </thead>\n",
       "  <tbody>\n",
       "    <tr>\n",
       "      <th>0</th>\n",
       "      <td>0</td>\n",
       "      <td>Go until jurong point, crazy.. Available only ...</td>\n",
       "    </tr>\n",
       "    <tr>\n",
       "      <th>1</th>\n",
       "      <td>0</td>\n",
       "      <td>Ok lar... Joking wif u oni...</td>\n",
       "    </tr>\n",
       "    <tr>\n",
       "      <th>2</th>\n",
       "      <td>1</td>\n",
       "      <td>Free entry in 2 a wkly comp to win FA Cup fina...</td>\n",
       "    </tr>\n",
       "    <tr>\n",
       "      <th>3</th>\n",
       "      <td>0</td>\n",
       "      <td>U dun say so early hor... U c already then say...</td>\n",
       "    </tr>\n",
       "    <tr>\n",
       "      <th>4</th>\n",
       "      <td>0</td>\n",
       "      <td>Nah I don't think he goes to usf, he lives aro...</td>\n",
       "    </tr>\n",
       "  </tbody>\n",
       "</table>\n",
       "</div>"
      ],
      "text/plain": [
       "   type                                               text\n",
       "0     0  Go until jurong point, crazy.. Available only ...\n",
       "1     0                      Ok lar... Joking wif u oni...\n",
       "2     1  Free entry in 2 a wkly comp to win FA Cup fina...\n",
       "3     0  U dun say so early hor... U c already then say...\n",
       "4     0  Nah I don't think he goes to usf, he lives aro..."
      ]
     },
     "execution_count": 7,
     "metadata": {},
     "output_type": "execute_result"
    }
   ],
   "source": [
    "df.head()"
   ]
  },
  {
   "cell_type": "markdown",
   "metadata": {
    "colab_type": "text",
    "collapsed": true,
    "id": "z3ThVKJg2v4B"
   },
   "source": [
    "### 3. Text Preprocessing   <a id='preprocessing'>"
   ]
  },
  {
   "cell_type": "markdown",
   "metadata": {
    "colab_type": "text",
    "id": "RJuJph5F2v4C"
   },
   "source": [
    " Here a document is SMS, and the corpus is all the SMS collection."
   ]
  },
  {
   "cell_type": "markdown",
   "metadata": {
    "colab_type": "text",
    "id": "CMc9yTHO2v4D"
   },
   "source": [
    "### 3.1 Text Cleaning   <a id='clean'>"
   ]
  },
  {
   "cell_type": "code",
   "execution_count": 0,
   "metadata": {
    "colab": {},
    "colab_type": "code",
    "id": "PC10LObe2v4E"
   },
   "outputs": [],
   "source": [
    "N = 5574                                                  # Number of messages\n",
    "corpus = []"
   ]
  },
  {
   "cell_type": "code",
   "execution_count": 0,
   "metadata": {
    "colab": {},
    "colab_type": "code",
    "id": "qWw9GAVl2v4H"
   },
   "outputs": [],
   "source": [
    "import re\n",
    "import nltk                                               # For text preprocessing we use nltk                    \n",
    "from nltk.corpus import stopwords                         # Removing all the stopwords\n",
    "from nltk.stem.porter import PorterStemmer                # Reducing words to base form"
   ]
  },
  {
   "cell_type": "markdown",
   "metadata": {
    "colab_type": "text",
    "id": "E520TG8W2v4J"
   },
   "source": [
    "Stopwords: Words which are filtered before applying NLP as they have no meaning.<br>\n",
    "E.g. a, again, am, are, but, etc....\n",
    "\n",
    "Porter Stemmer is used to remove any morphological affixes from words, leaving only the word stem.<br>\n",
    "E.g. running --> run <br>\n",
    "having --> have"
   ]
  },
  {
   "cell_type": "code",
   "execution_count": 0,
   "metadata": {
    "colab": {},
    "colab_type": "code",
    "id": "Kr5q6NLK2v4K"
   },
   "outputs": [],
   "source": [
    "ps = PorterStemmer()\n",
    "\n",
    "for i in range(0, 5574):\n",
    "    sms = re.sub('[^a-zA-Z]', ' ', df['text'][i])         # Removing special symbols like ... ! and keeping only text\n",
    "    sms = sms.lower()                                     # Lower case\n",
    "    sms = sms.split()                                     # string split into words\n",
    "    sms = [ps.stem(word) for word in sms                  # reducing words to base form\n",
    "          if not word in set(stopwords.words('english'))]\n",
    "    sms = \" \".join(sms)\n",
    "    corpus.append(sms)                                 "
   ]
  },
  {
   "cell_type": "code",
   "execution_count": 0,
   "metadata": {
    "colab": {},
    "colab_type": "code",
    "id": "LmeZ7CbP2v4N",
    "outputId": "37ae95fc-98af-424a-dde7-d4936147b939"
   },
   "outputs": [
    {
     "data": {
      "text/plain": [
       "['go jurong point crazi avail bugi n great world la e buffet cine got amor wat',\n",
       " 'ok lar joke wif u oni',\n",
       " 'free entri wkli comp win fa cup final tkt st may text fa receiv entri question std txt rate c appli',\n",
       " 'u dun say earli hor u c alreadi say',\n",
       " 'nah think goe usf live around though',\n",
       " 'freemsg hey darl week word back like fun still tb ok xxx std chg send rcv',\n",
       " 'even brother like speak treat like aid patent',\n",
       " 'per request mell mell oru minnaminungint nurungu vettam set callertun caller press copi friend callertun',\n",
       " 'winner valu network custom select receivea prize reward claim call claim code kl valid hour',\n",
       " 'mobil month u r entitl updat latest colour mobil camera free call mobil updat co free',\n",
       " 'gonna home soon want talk stuff anymor tonight k cri enough today',\n",
       " 'six chanc win cash pound txt csh send cost p day day tsandc appli repli hl info',\n",
       " 'urgent week free membership prize jackpot txt word claim c www dbuk net lccltd pobox ldnw rw',\n",
       " 'search right word thank breather promis wont take help grant fulfil promis wonder bless time',\n",
       " 'date sunday',\n",
       " 'xxxmobilemovieclub use credit click wap link next txt messag click http wap xxxmobilemovieclub com n qjkgighjjgcbl',\n",
       " 'oh k watch',\n",
       " 'eh u rememb spell name ye v naughti make v wet',\n",
       " 'fine way u feel way gota b',\n",
       " 'england v macedonia dont miss goal team news txt ur nation team eg england tri wale scotland txt poboxox w wq',\n",
       " 'serious spell name',\n",
       " 'go tri month ha ha joke',\n",
       " 'pay first lar da stock comin',\n",
       " 'aft finish lunch go str lor ard smth lor u finish ur lunch alreadi',\n",
       " 'ffffffffff alright way meet sooner',\n",
       " 'forc eat slice realli hungri tho suck mark get worri know sick turn pizza lol',\n",
       " 'lol alway convinc',\n",
       " 'catch bu fri egg make tea eat mom left dinner feel love',\n",
       " 'back amp pack car let know room',\n",
       " 'ahhh work vagu rememb feel like lol',\n",
       " 'wait still clear sure sarcast x want live us',\n",
       " 'yeah got v apologet n fallen actin like spoilt child got caught till go badli cheer',\n",
       " 'k tell anyth',\n",
       " 'fear faint housework quick cuppa',\n",
       " 'thank subscript rington uk mobil charg month pleas confirm repli ye repli charg',\n",
       " 'yup ok go home look time msg xuhui go learn nd may lesson',\n",
       " 'oop let know roommat done',\n",
       " 'see letter b car',\n",
       " 'anyth lor u decid',\n",
       " 'hello saturday go text see decid anyth tomo tri invit anyth',\n",
       " 'pl go ahead watt want sure great weekend abiola',\n",
       " 'forget tell want need crave love sweet arabian steed mmmmmm yummi',\n",
       " 'rodger burn msg tri call repli sm free nokia mobil free camcord pleas call deliveri tomorrow',\n",
       " 'see',\n",
       " 'great hope like man well endow lt gt inch',\n",
       " 'call messag miss call',\n",
       " 'get hep b immunis nigeria',\n",
       " 'fair enough anyth go',\n",
       " 'yeah hope tyler could mayb ask around bit',\n",
       " 'u know stubborn even want go hospit kept tell mark weak sucker hospit weak sucker',\n",
       " 'think first time saw class',\n",
       " 'gram usual run like lt gt half eighth smarter though get almost whole second gram lt gt',\n",
       " 'k fyi x ride earli tomorrow morn crash place tonight',\n",
       " 'wow never realiz embarass accomod thought like sinc best could alway seem happi cave sorri give sorri offer sorri room embarass',\n",
       " 'sm ac sptv new jersey devil detroit red wing play ice hockey correct incorrect end repli end sptv',\n",
       " 'know mallika sherawat yesterday find lt url gt',\n",
       " 'congrat year special cinema pass call c suprman v matrix starwar etc free bx ip pm dont miss',\n",
       " 'sorri call later meet',\n",
       " 'tell reach',\n",
       " 'ye gauti sehwag odi seri',\n",
       " 'gonna pick burger way home even move pain kill',\n",
       " 'ha ha ha good joke girl situat seeker',\n",
       " 'part check iq',\n",
       " 'sorri roommat took forev ok come',\n",
       " 'ok lar doubl check wif da hair dresser alreadi said wun cut v short said cut look nice',\n",
       " 'valu custom pleas advis follow recent review mob award bonu prize call',\n",
       " 'today song dedic day song u dedic send ur valuabl frnd first rpli',\n",
       " 'urgent ur award complimentari trip eurodisinc trav aco entri claim txt di morefrmmob shracomorsglsuplt ls aj',\n",
       " 'hear new divorc barbi come ken stuff',\n",
       " 'plane give month end',\n",
       " 'wah lucki man save money hee',\n",
       " 'finish class',\n",
       " 'hi babe im home wanna someth xx',\n",
       " 'k k perform',\n",
       " 'u call',\n",
       " 'wait machan call free',\n",
       " 'that cool gentleman treat digniti respect',\n",
       " 'like peopl much shi pa',\n",
       " 'oper lt gt',\n",
       " 'still look job much ta earn',\n",
       " 'sorri call later',\n",
       " 'k call ah',\n",
       " 'ok way home hi hi',\n",
       " 'place man',\n",
       " 'yup next stop',\n",
       " 'call later network urgnt sm',\n",
       " 'real u get yo need ticket one jacket done alreadi use multi',\n",
       " 'ye start send request make pain came back back bed doubl coin factori gotta cash nitro',\n",
       " 'realli still tonight babe',\n",
       " 'ela kano il download come wen ur free',\n",
       " 'yeah stand close tho catch someth',\n",
       " 'sorri pain ok meet anoth night spent late afternoon casualti mean done stuff moro includ time sheet sorri',\n",
       " 'smile pleasur smile pain smile troubl pour like rain smile sum hurt u smile becoz someon still love see u smile',\n",
       " 'pleas call custom servic repres pm guarante cash prize',\n",
       " 'havent plan buy later check alreadi lido got show e afternoon u finish work alreadi',\n",
       " 'free rington wait collect simpli text password mix verifi get usher britney fml po box mk h ppw',\n",
       " 'watch telugu movi wat abt u',\n",
       " 'see finish load loan pay',\n",
       " 'hi wk ok hol ye bit run forgot hairdress appoint four need get home n shower beforehand caus prob u',\n",
       " 'see cup coffe anim',\n",
       " 'pleas text anymor noth els say',\n",
       " 'okay name ur price long legal wen pick u ave x am xx',\n",
       " 'still look car buy gone drive test yet',\n",
       " 'per request mell mell oru minnaminungint nurungu vettam set callertun caller press copi friend callertun',\n",
       " 'wow right mean guess gave boston men chang search locat nyc someth chang cuz signin page still say boston',\n",
       " 'umma life vava umma love lot dear',\n",
       " 'thank lot wish birthday thank make birthday truli memor',\n",
       " 'aight hit get cash',\n",
       " 'would ip address test consid comput minecraft server',\n",
       " 'know grumpi old peopl mom like better lie alway one play joke',\n",
       " 'dont worri guess busi',\n",
       " 'plural noun research',\n",
       " 'go dinner msg',\n",
       " 'ok wif co like tri new thing scare u dun like mah co u said loud',\n",
       " 'gent tri contact last weekend draw show prize guarante call claim code k valid hr ppm',\n",
       " 'wa ur openin sentenc formal anyway fine juz tt eatin much n puttin weight haha anythin special happen',\n",
       " 'enter cabin pa said happi b day boss felt special askd lunch lunch invit apart went',\n",
       " 'winner u special select receiv holiday flight inc speak live oper claim p min',\n",
       " 'goodo ye must speak friday egg potato ratio tortilla need',\n",
       " 'hmm uncl inform pay school directli pl buy food',\n",
       " 'privat account statement show unredeem bonu point claim call identifi code expir',\n",
       " 'urgent mobil award bonu caller prize final tri contact u call landlin box wr c ppm',\n",
       " 'new address appl pair malarki',\n",
       " 'today voda number end select receiv award match pleas call quot claim code standard rate app',\n",
       " 'go sao mu today done',\n",
       " 'predict wat time finish buy',\n",
       " 'good stuff',\n",
       " 'know yetund sent money yet sent text bother send dont involv anyth impos anyth first place apologis',\n",
       " 'room',\n",
       " 'hey girl r u hope u r well del r bak long time c give call sum time lucyxx',\n",
       " 'k k much cost',\n",
       " 'home',\n",
       " 'dear call tmorrow pl accomod',\n",
       " 'first answer question',\n",
       " 'sunshin quiz wkli q win top soni dvd player u know countri algarv txt ansr sp tyron',\n",
       " 'want get laid tonight want real dog locat sent direct ur mob join uk largest dog network bt txting gravel nt ec p msg p',\n",
       " 'haf msn yiju hotmail com',\n",
       " 'call meet',\n",
       " 'check room befor activ',\n",
       " 'rcv msg chat svc free hardcor servic text go u get noth u must age verifi yr network tri',\n",
       " 'got c lazi type forgot lect saw pouch like v nice',\n",
       " 'k text way',\n",
       " 'sir wait mail',\n",
       " 'swt thought nver get tire littl thing lovabl person coz somtim littl thing occupi biggest part heart gud ni',\n",
       " 'know pl open back',\n",
       " 'ye see ya dot',\n",
       " 'what staff name take class us',\n",
       " 'freemsg repli text randi sexi femal live local luv hear u netcollex ltd p per msg repli stop end',\n",
       " 'ummma call check life begin qatar pl pray hard',\n",
       " 'k delet contact',\n",
       " 'sindu got job birla soft',\n",
       " 'wine flow never',\n",
       " 'yup thk cine better co need go plaza mah',\n",
       " 'ok ur typic repli',\n",
       " 'per request mell mell oru minnaminungint nurungu vettam set callertun caller press copi friend callertun',\n",
       " 'everywher dirt floor window even shirt sometim open mouth come flow dream world without half chore time joy lot tv show see guess like thing must exist like rain hail mist time done becom one',\n",
       " 'aaooooright work',\n",
       " 'leav hous',\n",
       " 'hello love get interview today happi good boy think miss',\n",
       " 'custom servic annonc new year deliveri wait pleas call arrang deliveri',\n",
       " 'winner u special select receiv cash holiday flight inc speak live oper claim',\n",
       " 'keep safe need miss alreadi envi everyon see real life',\n",
       " 'new car hous parent new job hand',\n",
       " 'love excit day spend make happi',\n",
       " 'pl stop bootydeli f invit friend repli ye see www sm ac u bootydeli stop send stop frnd',\n",
       " 'bangbab ur order way u receiv servic msg download ur content u goto wap bangb tv ur mobil internet servic menu',\n",
       " 'place ur point e cultur modul alreadi',\n",
       " 'urgent tri contact last weekend draw show prize guarante call claim code valid hr',\n",
       " 'hi frnd best way avoid missunderstd wit belov one',\n",
       " 'great escap fanci bridg need lager see tomo',\n",
       " 'ye complet form clark also utter wast',\n",
       " 'sir need axi bank account bank address',\n",
       " 'hmmm thk sure got time hop ard ya go free abt muz call u discuss liao',\n",
       " 'time come later',\n",
       " 'bloodi hell cant believ forgot surnam mr ill give u clue spanish begin',\n",
       " 'well gonna finish bath good fine night',\n",
       " 'let know got money carlo make call',\n",
       " 'u still go mall',\n",
       " 'turn friend stay whole show back til lt gt feel free go ahead smoke lt gt worth',\n",
       " 'text doesnt repli let know log',\n",
       " 'hi spoke maneesha v like know satisfi experi repli toll free ye',\n",
       " 'lift hope offer money need especi end month approach hurt studi anyway gr weekend',\n",
       " 'lol u trust',\n",
       " 'ok gentleman treat digniti respect',\n",
       " 'guy close',\n",
       " 'go noth great bye',\n",
       " 'hello handsom find job lazi work toward get back net mummi boytoy miss',\n",
       " 'haha awesom minut',\n",
       " 'pleas call custom servic repres freephon pm guarante cash prize',\n",
       " 'got xma radio time get',\n",
       " 'ju reach home go bath first si use net tell u finish k',\n",
       " 'uniqu enough find th august www areyouuniqu co uk',\n",
       " 'sorri join leagu peopl dont keep touch mean great deal friend time even great person cost great week',\n",
       " 'hi final complet cours',\n",
       " 'stop howev suggest stay someon abl give or everi stool',\n",
       " 'hope settl new school year wishin gr day',\n",
       " 'gud mrng dear hav nice day',\n",
       " 'u got person stori',\n",
       " 'hamster dead hey tmr meet pm orchard mrt',\n",
       " 'hi kate even hope see tomorrow bit bloodi babyjontet txt back u xxx',\n",
       " 'found enc lt gt',\n",
       " 'sent lt gt buck',\n",
       " 'hello darlin ive finish colleg txt u finish u love kate xxx',\n",
       " 'account refil success inr lt decim gt keralacircl prepaid account balanc rs lt decim gt transact id kr lt gt',\n",
       " 'goodmorn sleep ga',\n",
       " 'u call alter ok',\n",
       " 'say like dat dun buy ericsson oso cannot oredi lar',\n",
       " 'enter cabin pa said happi b day boss felt special askd lunch lunch invit apart went',\n",
       " 'aight yo dat straight dogg',\n",
       " 'pleas give us connect today lt decim gt refund bill',\n",
       " 'shoot big load get readi',\n",
       " 'bruv hope great break reward semest',\n",
       " 'home alway chat',\n",
       " 'k k good studi well',\n",
       " 'yup noe leh',\n",
       " 'sound great home',\n",
       " 'final match head toward draw predict',\n",
       " 'tire slept well past night',\n",
       " 'easi ah sen got select mean good',\n",
       " 'take exam march',\n",
       " 'yeah think use gt atm regist sure anyway help let know sure readi',\n",
       " 'ok prob take ur time',\n",
       " 'os call ubandu run without instal hard disk use os copi import file system give repair shop',\n",
       " 'sorri call later',\n",
       " 'u say leh cours noth happen lar say v romant ju bit lor thk e nite sceneri nice leh',\n",
       " 'new mobil must go txt nokia collect today www tc biz optout gbp mtmsg',\n",
       " 'would realli appreci call need someon talk',\n",
       " 'u meet ur dream partner soon ur career flyng start find free txt horo follow ur star sign e g horo ari',\n",
       " 'hey compani elama po mudyadhu',\n",
       " 'life strict teacher bcoz teacher teach lesson amp conduct exam life first conduct exam amp teach lesson happi morn',\n",
       " 'dear good morn',\n",
       " 'get gandhipuram walk cross cut road right side lt gt street road turn first right',\n",
       " 'dear go rubber place',\n",
       " 'sorri batteri die yeah',\n",
       " 'ye tv alway avail work place',\n",
       " 'text meet someon sexi today u find date even flirt u join p repli name age eg sam msg recd thirtyeight penc',\n",
       " 'print oh lt gt come upstair',\n",
       " 'ill littl closer like bu stop street',\n",
       " 'wil reach',\n",
       " 'new theori argument win situat lose person dont argu ur friend kick amp say alway correct',\n",
       " 'u secret admir look make contact u find r reveal think ur special call',\n",
       " 'tomarrow final hear laptop case cant',\n",
       " 'pleassssssseeeee tel v avent done sportsx',\n",
       " 'okay shine meant sign sound better',\n",
       " 'although told u dat baig face watch realli like e watch u gave co fr u thanx everyth dat u done today touch',\n",
       " 'u rememb old commerci',\n",
       " 'late said websit dont slipper',\n",
       " 'ask call ok',\n",
       " 'kalli wont bat nd inning',\n",
       " 'didnt work oh ok goodnight fix readi time wake dearli miss good night sleep',\n",
       " 'congratul ur award cd voucher gift guarante free entri wkli draw txt music tnc www ldew com win ppmx age',\n",
       " 'ranjith cal drpd deeraj deepak min hold',\n",
       " 'wen ur lovabl bcum angri wid u dnt take serious coz angri childish n true way show deep affect care n luv kettoda manda nice day da',\n",
       " '',\n",
       " 'up day also ship compani take wk way usp take week get lag may bribe nipost get stuff',\n",
       " 'back lemm know readi',\n",
       " 'necessarili expect done get back though headin',\n",
       " 'mmm yummi babe nice jolt suzi',\n",
       " 'lover need',\n",
       " 'tri contact repli offer video handset anytim network min unlimit text camcord repli call',\n",
       " 'park next mini come today think',\n",
       " 'yup',\n",
       " 'anyway go shop co si done yet dun disturb u liao',\n",
       " 'luton ring ur around h',\n",
       " 'hey realli horni want chat see nake text hot text charg pm unsubscrib text stop',\n",
       " 'dint come us',\n",
       " 'wana plan trip sometm',\n",
       " 'sure yet still tri get hold',\n",
       " 'ur rington servic chang free credit go club mobil com choos content stop txt club stop p wk club po box mk wt',\n",
       " 'evo download flash jealou',\n",
       " 'rington club get uk singl chart mobil week choos top qualiti rington messag free charg',\n",
       " 'come mu sort narcot situat',\n",
       " 'night end anoth day morn come special way may smile like sunni ray leav worri blue blue bay',\n",
       " 'hmv bonu special pound genuin hmv voucher answer easi question play send hmv info www percent real com',\n",
       " 'usf guess might well take car',\n",
       " 'object bf come',\n",
       " 'thanx',\n",
       " 'tell rob mack gf theater',\n",
       " 'awesom see bit',\n",
       " 'sent type food like',\n",
       " 'done hand celebr full swing yet',\n",
       " 'got call tool',\n",
       " 'wen u miss someon person definit special u person special miss keep touch gdeve',\n",
       " 'ok ask money far',\n",
       " 'oki',\n",
       " 'yeah think usual guy still pass last night get ahold anybodi let know throw',\n",
       " 'k might come tonight class let earli',\n",
       " 'ok',\n",
       " 'hi babi im cruisin girl friend r u give call hour home that alright fone fone love jenni xxx',\n",
       " 'life mean lot love life love peopl life world call friend call world ge',\n",
       " 'dear shall mail tonit busi street shall updat tonit thing look ok varunnathu edukkukaye raksha ollu good one real sens',\n",
       " 'hey told name gautham ah',\n",
       " 'haf u found feel stupid da v cam work',\n",
       " 'oop got bit',\n",
       " 'much buzi',\n",
       " 'accident delet messag resend pleas',\n",
       " 'mobil custom may claim free camera phone upgrad pay go sim card loyalti call offer end thfeb c appli',\n",
       " 'unless situat go gurl would appropri',\n",
       " 'hurt teas make cri end life die plz keep one rose grave say stupid miss u nice day bslvyl',\n",
       " 'cant pick phone right pl send messag',\n",
       " 'need coffe run tomo believ time week alreadi',\n",
       " 'awesom rememb last time got somebodi high first time diesel v',\n",
       " 'shit realli shock scari cant imagin second def night u think somewher could crash night save taxi',\n",
       " 'oh way food fridg want go meal tonight',\n",
       " 'womdarful actor',\n",
       " 'sm ac blind date u rodd aberdeen unit kingdom check http img sm ac w icmb cktz r blind date send hide',\n",
       " 'yup remb think book',\n",
       " 'jo ask u wana meet',\n",
       " 'lol ye friendship hang thread caus u buy stuff',\n",
       " 'themob check newest select content game tone gossip babe sport keep mobil fit funki text wap',\n",
       " 'garag key bookshelf',\n",
       " 'today accept day u accept brother sister lover dear best clo lvblefrnd jstfrnd cutefrnd lifpartnr belovd swtheart bstfrnd rpli mean enemi',\n",
       " 'think ur smart win week weekli quiz text play cs winnersclub po box uz gbp week',\n",
       " 'say give call friend got money definit buy end week',\n",
       " 'hi way u day normal way real ur uniqu hope know u rest mylif hope u find wot lost',\n",
       " 'made day great day',\n",
       " 'k k advanc happi pongal',\n",
       " 'hmmm guess go kb n power yoga haha dunno tahan power yoga anot thk got lo oso forgot liao',\n",
       " 'realli dude friend afraid',\n",
       " 'decemb mobil mth entitl updat latest colour camera mobil free call mobil updat co free',\n",
       " 'coffe cake guess',\n",
       " 'merri christma babe love ya kiss',\n",
       " 'hey dont go watch x men lunch haha',\n",
       " 'cud u tell ppl im gona b bit l co buse hav gon past co full im still waitin pete x',\n",
       " 'would great guild could meet bristol road somewher get touch weekend plan take flight good week',\n",
       " 'problem',\n",
       " 'call messag miss call',\n",
       " 'hi da today class',\n",
       " 'say good sign well know track record read women',\n",
       " 'cool text park',\n",
       " 'read text sent meant joke read light',\n",
       " 'k k apo k good movi',\n",
       " 'mayb could get book tomo return immedi someth',\n",
       " 'call germani penc per minut call fix line via access number prepay direct access',\n",
       " 'chanc might evapor soon violat privaci steal phone number employ paperwork cool pleas contact report supervisor',\n",
       " 'valentin day special win quiz take partner trip lifetim send go p msg rcvd custcar',\n",
       " 'ta daaaaa home babe still',\n",
       " 'cool come havent wine dine',\n",
       " 'sleep surf',\n",
       " 'sorri call later',\n",
       " 'u call right call hand phone',\n",
       " 'ok great thanx lot',\n",
       " 'take post come must text happi read one wiv hello carolin end favourit bless',\n",
       " 'u hide stranger',\n",
       " 'interest like',\n",
       " 'sister clear two round birla soft yesterday',\n",
       " 'gudnit tc practic go',\n",
       " 'di yiju ju saw ur mail case huim havent sent u num di num',\n",
       " 'one small prestig problem',\n",
       " 'fanci shag interest sextextuk com txt xxuk suzi txt cost per msg tnc websit x',\n",
       " 'check realli miss see jeremiah great month',\n",
       " 'nah help never iphon',\n",
       " 'car hour half go apeshit',\n",
       " 'today sorri day ever angri ever misbehav hurt plz plz slap urself bcoz ur fault basic good',\n",
       " 'yo guy ever figur much need alcohol jay tri figur much safe spend weed',\n",
       " 'lt gt ish minut minut ago wtf',\n",
       " 'thank call forgot say happi onam sirji fine rememb met insur person meet qatar insha allah rakhesh ex tata aig join tissco tayseer',\n",
       " 'congratul ur award cd voucher gift guarante free entri wkli draw txt music tnc www ldew com win ppmx age',\n",
       " 'ur cash balanc current pound maxim ur cash send cash p msg cc hg suit land row w j hl',\n",
       " 'actor work work even sleep late sinc unemploy moment alway sleep late unemploy everi day saturday',\n",
       " 'hello got st andrew boy long way cold keep post',\n",
       " 'ha ha cool cool chikku chikku db',\n",
       " 'oh ok prob',\n",
       " 'check audrey statu right',\n",
       " 'busi tri finish new year look forward final meet',\n",
       " 'good afternoon sunshin dawn day refresh happi aliv breath air smile think love alway',\n",
       " 'well know z take care worri',\n",
       " 'updat xma offer latest motorola sonyericsson nokia free bluetooth doubl min txt orang call mobileupd call optout f q',\n",
       " 'discount code rp stop messag repli stop www regalportfolio co uk custom servic',\n",
       " 'wat uniform get',\n",
       " 'cool text readi',\n",
       " 'hello boytoy geeee miss alreadi woke wish bed cuddl love',\n",
       " 'spoil bed well',\n",
       " 'go bath msg next lt gt min',\n",
       " 'cant keep talk peopl sure pay agre price pl tell want realli buy much will pay',\n",
       " 'thank rington order refer charg gbp per week unsubscrib anytim call custom servic',\n",
       " 'say happen',\n",
       " 'could seen recognis face',\n",
       " 'well lot thing happen lindsay new year sigh bar ptbo blue heron someth go',\n",
       " 'keep payasam rinu bring',\n",
       " 'taught ranjith sir call sm like becau he verifi project prabu told today pa dont mistak',\n",
       " 'guess worri must know way bodi repair quit sure worri take slow first test guid ovul relax noth said reason worri keep followin',\n",
       " 'yeah sure give coupl minut track wallet',\n",
       " 'hey leav big deal take care',\n",
       " 'hey late ah meet',\n",
       " 'doubl min txt month free bluetooth orang avail soni nokia motorola phone call mobileupd call optout n dx',\n",
       " 'took mr owl lick',\n",
       " 'custom place call',\n",
       " 'mm time dont like fun',\n",
       " 'mth half price orang line rental latest camera phone free phone mth call mobilesdirect free updat stoptxt',\n",
       " 'yup lunch buffet u eat alreadi',\n",
       " 'huh late fr dinner',\n",
       " 'hey sat go intro pilat kickbox',\n",
       " 'morn ok',\n",
       " 'ye think offic lap room think that last day didnt shut',\n",
       " 'pick bout ish time go',\n",
       " 'perform award calcul everi two month current one month period',\n",
       " 'actual sleep still might u call back text gr rock si send u text wen wake',\n",
       " 'alway put busi put pictur ass facebook one open peopl ever met would think pictur room would hurt make feel violat',\n",
       " 'good even sir al salam wahleykkum share happi news grace god got offer tayseer tissco join hope fine inshah allah meet sometim rakhesh visitor india',\n",
       " 'hmmm k want chang field quickli da wanna get system administr network administr',\n",
       " 'free rington text first poli text get true tone help st free tone x pw e nd txt stop',\n",
       " 'dear chechi talk',\n",
       " 'hair cream ship',\n",
       " 'none happen til get though',\n",
       " 'yep great loxahatche xma tree burn lt gt start hour',\n",
       " 'haha get use drive usf man know lot stoner',\n",
       " 'well slightli disastr class pm fav darl hope day ok coffe wld good stay late tomorrow time place alway',\n",
       " 'hello good week fanci drink someth later',\n",
       " 'headin toward busetop',\n",
       " 'messag text miss sender name miss number miss sent date miss miss u lot that everyth miss sent via fullonsm com',\n",
       " 'come room point iron plan weekend',\n",
       " 'co want thing',\n",
       " 'oki go yan jiu skip ard oso go cine den go mrt one blah blah blah',\n",
       " 'bring home wendi',\n",
       " 'date servic cal l box sk ch',\n",
       " 'whatsup dont u want sleep',\n",
       " 'alright new goal',\n",
       " 'free entri weekli competit text word win c www txttowin co uk',\n",
       " 'alright head minut text meet',\n",
       " 'send logo ur lover name join heart txt love name name mobno eg love adam eve yahoo pobox w wq txtno ad p',\n",
       " 'ye last week take live call',\n",
       " 'someon contact date servic enter phone fanci find call landlin pobox n tf p',\n",
       " 'siva hostel aha',\n",
       " 'urgent mobil number award prize guarante call land line claim valid hr',\n",
       " 'send ur friend receiv someth ur voic speak express childish naughti sentiment rowdi ful attitud romant shi attract funni lt gt irrit lt gt lovabl repli',\n",
       " 'ok ok guess',\n",
       " 'aathi dear',\n",
       " 'pain urin thing els',\n",
       " 'esplanad mind give lift co got car today',\n",
       " 'wnt buy bmw car urgent vri urgent hv shortag lt gt lac sourc arng di amt lt gt lac that prob',\n",
       " 'home watch tv lor',\n",
       " 'usual take fifteen fuck minut respond ye question',\n",
       " 'congrat nokia video camera phone call call cost ppm ave call min vari mobil close post bcm ldn wc n xx',\n",
       " 'book ticket pongal',\n",
       " 'avail like right around hillsborough amp lt gt th',\n",
       " 'messag sent askin lt gt dollar shoul pay lt gt lt gt',\n",
       " 'ask g iouri told stori like ten time alreadi',\n",
       " 'long applebe fuck take',\n",
       " 'hi hope u get txt journey hasnt gd min late think',\n",
       " 'like love arrang',\n",
       " 'ye realli great bhaji told kalli best cricket sachin world tough get',\n",
       " 'suppos wake gt',\n",
       " 'oic saw tot din c found group liao',\n",
       " 'sorri call later',\n",
       " 'hey hey wereth monkeespeopl say monkeyaround howdi gorgeou howu doin foundurself jobyet sausag love jen xxx',\n",
       " 'sorri batteri die come get gram place',\n",
       " 'well done blimey exercis yeah kinda rememb wot hmm',\n",
       " 'wont get concentr dear know mind everyth',\n",
       " 'lol made plan new year',\n",
       " 'min later k',\n",
       " 'hank lotsli',\n",
       " 'thank hope good day today',\n",
       " 'k k detail want transfer acc enough',\n",
       " 'ok tell stay yeah tough optimist thing improv month',\n",
       " 'loan purpos homeown tenant welcom previous refus still help call free text back help',\n",
       " 'si si think ill go make oreo truffl',\n",
       " 'look ami ure beauti intellig woman like u lot know u like like worri',\n",
       " 'hope result consist intellig kind start ask practicum link keep ear open best ttyl',\n",
       " 'call cost guess isnt bad miss ya need ya want ya love ya',\n",
       " 'go thru differ feel waver decis cope individu time heal everyth believ',\n",
       " 'u go phone gonna die stay',\n",
       " 'great never better day give even reason thank god',\n",
       " 'upgrdcentr orang custom may claim free camera phone upgrad loyalti call offer end th juli c appli opt avail',\n",
       " 'sorri call later ok bye',\n",
       " 'ok way railway',\n",
       " 'great princess love give receiv oral doggi style fave posit enjoy make love lt gt time per night',\n",
       " 'put stuff road keep get slipperi',\n",
       " 'go ride bike',\n",
       " 'yup need ju wait e rain stop',\n",
       " 'mani compani tell languag',\n",
       " 'okmail dear dave final notic collect tenerif holiday cash award call landlin tc sae box cw wx ppm',\n",
       " 'long sinc scream princess',\n",
       " 'noth meant money enter account bank remov flat rate someon transfer lt gt account lt gt dollar got remov bank differ charg also differ sure trust ja person send account detail co',\n",
       " 'want get laid tonight want real dog locat sent direct ur mob join uk largest dog network txting moan nyt ec p msg p',\n",
       " 'nice line said broken heart plz cum time infront wise trust u good',\n",
       " 'ok gonna head usf like fifteen minut',\n",
       " 'love aathi love u lot',\n",
       " 'tension ah machi problem',\n",
       " 'k pick anoth th done',\n",
       " 'guy get back g said think stay mcr',\n",
       " 'almost see u sec',\n",
       " 'yo carlo friend alreadi ask work weekend',\n",
       " 'watch tv lor',\n",
       " 'thank babi cant wait tast real thing',\n",
       " 'chang fb jaykwon thuglyf falconerf',\n",
       " 'win realli side long time',\n",
       " 'free messag activ free text messag repli messag word free term condit visit www com',\n",
       " 'dear reach railway happen',\n",
       " 'depend qualiti want type sent boy fade glori want ralph mayb',\n",
       " 'think fix send test messag',\n",
       " 'sorri man account dri would want could trade back half could buy shit credit card',\n",
       " 'congrat year special cinema pass call c suprman v matrix starwar etc free bx ip pm dont miss',\n",
       " 'sorri meet call later',\n",
       " 'class lt gt reunion',\n",
       " 'free call',\n",
       " 'got meh',\n",
       " 'nope think go monday sorri repli late',\n",
       " 'told accentur confirm true',\n",
       " 'kate jackson rec center ish right',\n",
       " 'dear reach room',\n",
       " 'fight world easi u either win lose bt fightng close u dificult u lose u lose u win u still lose',\n",
       " 'come',\n",
       " 'check nuerologist',\n",
       " 'lolnic went fish water',\n",
       " 'congratul week competit draw u prize claim call b cs stop sm ppm',\n",
       " 'wait e car dat bore wat co wait outsid got noth home stuff watch tv wat',\n",
       " 'mayb westshor hyde park villag place near hous',\n",
       " 'know anthoni bring money school fee pay rent stuff like that need help friend need',\n",
       " 'signific',\n",
       " 'opinion jada kusruthi lovabl silent spl charact matur stylish simpl pl repli',\n",
       " 'latest g still scroung ammo want give new ak tri',\n",
       " 'prabha soryda reali frm heart sori',\n",
       " 'lol ok forgiven',\n",
       " 'jst chang tat',\n",
       " 'guarante latest nokia phone gb ipod mp player prize txt word collect ibhltd ldnw h p mtmsgrcvd',\n",
       " 'competit',\n",
       " 'boltblu tone p repli poli mono eg poli cha cha slide yeah slow jamz toxic come stop tone txt',\n",
       " 'credit top http www bubbletext com renew pin tgxxrz',\n",
       " 'way transport less problemat sat night way u want ask n join bday feel free need know definit no book fri',\n",
       " 'usual person unconsci children adult may behav abnorm call',\n",
       " 'ebay might less elsewher',\n",
       " 'shall come get pickl',\n",
       " 'gonna go get taco',\n",
       " 'rude campu',\n",
       " 'urgent mobil award bonu caller prize nd attempt contact call box qu',\n",
       " 'hi b ard christma enjoy n merri x ma',\n",
       " 'today offer claim ur worth discount voucher text ye savamob member offer mobil cs sub unsub repli x',\n",
       " 'ye pretti ladi like singl',\n",
       " 'reciev tone within next hr term condit pleas see channel u teletext pg',\n",
       " 'jay say doubl faggot',\n",
       " 'privat account statement show un redeem point call identifi code expir',\n",
       " 'today sunday sunday holiday work',\n",
       " 'gudnit tc practic go',\n",
       " 'late',\n",
       " 'call hope l r malaria know miss guy miss bani big pl give love especi great day',\n",
       " 'good afternoon love goe day hope mayb got lead job think boytoy send passion kiss across sea',\n",
       " 'probabl gonna see later tonight lt',\n",
       " 'mayb fat finger press button know',\n",
       " 'ummmmmaah mani mani happi return day dear sweet heart happi birthday dear',\n",
       " 'tirupur da start offic call',\n",
       " 'www applausestor com monthlysubscript p msg max month csc web age stop txt stop',\n",
       " 'famou quot develop abil listen anyth uncondit without lose temper self confid mean marri',\n",
       " 'go colleg pa els ill come self pa',\n",
       " 'oclock mine bash flat plan',\n",
       " 'girl stay bed girl need recoveri time id rather pass fun coop bed',\n",
       " 'special',\n",
       " 'know need get hotel got invit apologis cali sweet come english bloke weddin',\n",
       " 'sorri took long omw',\n",
       " 'wait lt gt min',\n",
       " 'ok give minut think see btw alibi cut hair whole time',\n",
       " 'imagin final get sink bath put pace mayb even eat left also imagin feel cage cock surround bath water remind alway own enjoy cuck',\n",
       " 'hurri weed defici like three day',\n",
       " 'sure get acknowledg astoundingli tactless gener faggi demand blood oath fo',\n",
       " 'ok everi night take warm bath drink cup milk see work magic still need loos weight know',\n",
       " 'look fri pan case cheap book perhap silli fri pan like book',\n",
       " 'well uv caus mutat sunscreen like essenti theseday',\n",
       " 'lunch onlin',\n",
       " 'know friend alreadi told',\n",
       " 'hi princess thank pic pretti',\n",
       " 'aiyo u alway c ex one dunno abt mei repli first time u repli fast lucki workin huh got bao ur sugardad ah gee',\n",
       " 'hi msg offic',\n",
       " 'thanx e browni v nice',\n",
       " 'geeeee love much bare stand',\n",
       " 'gent tri contact last weekend draw show prize guarante call claim code k valid hr ppm',\n",
       " 'fuck babe miss alreadi know let send money toward net need want crave',\n",
       " 'ill call u mrw ninish address icki american freek wont stop callin bad jen k eh',\n",
       " 'oooh bed ridden ey think',\n",
       " 'anyway go gym whatev love smile hope ok good day babe miss much alreadi',\n",
       " 'love daddi make scream pleasur go slap ass dick',\n",
       " 'wot u wanna missi',\n",
       " 'yar lor wait mum finish sch lunch lor whole morn stay home clean room room quit clean hee',\n",
       " 'know lab goggl went',\n",
       " 'open door',\n",
       " 'wait call',\n",
       " 'nope wait sch daddi',\n",
       " 'cash prize claim call',\n",
       " 'tire argu week week want',\n",
       " 'wait sch finish ard',\n",
       " 'mobil number claim call us back ring claim hot line',\n",
       " 'arngd marriag u r walkin unfortuntli snake bite u bt love marriag danc frnt snake amp sayin bite bite',\n",
       " 'huh earli dinner outsid izzit',\n",
       " 'ok anyway need chang said',\n",
       " 'tri contact repli offer min textand new video phone call repli free deliveri tomorrow',\n",
       " 'ex wife abl kid want kid one day',\n",
       " 'scotland hope show jjc tendenc take care live dream',\n",
       " 'tell u headach want use hour sick time',\n",
       " 'dun thk quit yet hmmm go jazz yogasana oso go meet em lesson den',\n",
       " 'pete pleas ring meiv hardli gotani credit',\n",
       " 'ya srsli better yi tho',\n",
       " 'meet call later',\n",
       " 'ur chanc win wkli shop spree txt shop c www txt shop com custcar x p wk',\n",
       " 'special select receiv pound award call line close cost ppm cs appli ag promo',\n",
       " 'privat account statement show un redeem point call identifi code expir',\n",
       " 'still grand prix',\n",
       " 'met stranger choos friend long world stand friendship never end let friend forev gud nitz',\n",
       " 'great',\n",
       " 'gud mrng dear nice day',\n",
       " 'import custom servic announc call freephon',\n",
       " 'exhaust train morn much wine pie sleep well',\n",
       " 'go buy mum present ar',\n",
       " 'mind blastin tsunami occur rajnik stop swim indian ocean',\n",
       " 'u send home first ok lor readi yet',\n",
       " 'speak cash yet',\n",
       " 'happi come noon',\n",
       " 'meet lunch la',\n",
       " 'take care n get well soon',\n",
       " 'xclusiv clubsaisai morow soire special zouk nichol pari free rose ladi info',\n",
       " 'meant say cant wait see u get bore bridgwat banter',\n",
       " 'neva mind ok',\n",
       " 'fine imma get drink somethin want come find',\n",
       " 'day kick euro u kept date latest news result daili remov send get txt stop',\n",
       " 'valentin game send di msg ur friend answer r someon realli love u que colour suit best rpli',\n",
       " 'mani depend',\n",
       " 'thanx today cer nice catch ave find time often oh well take care c u soon c',\n",
       " 'call said choos futur',\n",
       " 'happi valentin day know earli hundr handsom beauti wish thought finish aunti uncl st',\n",
       " 'like v shock leh co tell shuhui like tell leona also like dat almost know liao got ask abt ur reaction lor',\n",
       " 'famili happi',\n",
       " 'come n pick come immedi aft ur lesson',\n",
       " 'let snow let snow kind weather bring ppl togeth friendship grow',\n",
       " 'dear got lt gt dollar hi hi',\n",
       " 'good word word may leav u dismay mani time',\n",
       " 'make sure alex know birthday fifteen minut far concern',\n",
       " 'sorri got thing may pub later',\n",
       " 'nah straight bring bud drink someth actual littl use straight cash',\n",
       " 'haha good hear offici paid market th',\n",
       " 'mani lick take get center tootsi pop',\n",
       " 'yup thk r e teacher said make face look longer darren ask cut short',\n",
       " 'new textbuddi chat horni guy ur area p free receiv search postcod gaytextbuddi com txt one name',\n",
       " 'today vodafon number end select receiv award number match call receiv award',\n",
       " 'pleas dont say like hi hi hi',\n",
       " 'thank u',\n",
       " 'oh forward messag thought send',\n",
       " 'got seventeen pound seven hundr ml hope ok',\n",
       " 'dear voucher holder claim week offer pc go http www e tlp co uk expressoff ts cs appli stop text txt stop',\n",
       " 'n funni',\n",
       " 'sweetheart hope kind day one load reason smile biola',\n",
       " 'login dat time dad fetch home',\n",
       " 'shower babi',\n",
       " 'askd u question hour answer',\n",
       " 'well imma definit need restock thanksgiv let know',\n",
       " 'said kiss kiss sound effect gorgeou man kind person need smile brighten day',\n",
       " 'probabl gonna swing wee bit',\n",
       " 'ya nice readi thursday',\n",
       " 'allo brave buse taken train triumph mean b ham jolli good rest week',\n",
       " 'watch cartoon listen music amp eve go templ amp church u',\n",
       " 'mind ask happen dont say uncomfort',\n",
       " 'privat account statement show un redeem point call identifi code expir',\n",
       " 'prob send email',\n",
       " 'cash prize claim call c rstm sw ss ppm',\n",
       " 'that cool sometim slow gentl sonetim rough hard',\n",
       " 'gonna say sorri would normal start panic time sorri see tuesday',\n",
       " 'wait know wesley town bet hella drug',\n",
       " 'fine miss much',\n",
       " 'u got person stori',\n",
       " 'tell drug dealer get impati',\n",
       " 'sun cant come earth send luv ray cloud cant come river send luv rain cant come meet u send care msg u gud evng',\n",
       " 'place man',\n",
       " 'doesnt make sens take unless free need know wikipedia com',\n",
       " 'premium phone servic call',\n",
       " 'sea lay rock rock envelop envelop paper paper word',\n",
       " 'mum repent',\n",
       " 'sorri go home first daddi come fetch later',\n",
       " 'leav de start prepar next',\n",
       " 'ye babi studi posit kama sutra',\n",
       " 'en chikku nang bakra msg kalstiya tea coffe',\n",
       " 'carlo minut still need buy',\n",
       " 'pay lt decim gt lakh',\n",
       " 'good even ttyl',\n",
       " 'u receiv msg',\n",
       " 'ho ho big belli laugh see ya tomo',\n",
       " 'sm ac sun post hello seem cool want say hi hi stop send stop',\n",
       " 'get ur st rington free repli msg tone gr top tone phone everi week per wk opt send stop',\n",
       " 'ditto worri say anyth anymor like said last night whatev want peac',\n",
       " 'got lt gt way could pick',\n",
       " 'dont knw pa drink milk',\n",
       " 'mayb say hi find got card great escap wetherspoon',\n",
       " 'piggi r u awak bet u still sleep go lunch',\n",
       " 'caus freaki lol',\n",
       " 'miss call caus yell scrappi miss u wait u come home lone today',\n",
       " 'hex place talk explain',\n",
       " 'log wat sdryb',\n",
       " 'xy go e lunch',\n",
       " 'hi sue year old work lapdanc love sex text live bedroom text sue textoper g da ppmsg',\n",
       " 'want ask wait finish lect co lect finish hour anyway',\n",
       " 'finish work yet',\n",
       " 'everi king cri babi everi great build map imprtant u r today u wil reach tomorw gud ni',\n",
       " 'dear cherthala case u r come cochin pl call bfore u start shall also reach accordingli tell day u r come tmorow engag an holiday',\n",
       " 'thank love torch bold',\n",
       " 'forward pleas call immedi urgent messag wait',\n",
       " 'farm open',\n",
       " 'sorri troubl u buy dad big small sat n sun thanx',\n",
       " 'sister law hope great month say hey abiola',\n",
       " 'purchas stuff today mail po box number',\n",
       " 'ah poop look like ill prob send laptop get fix cuz gpu problem',\n",
       " 'good good job like entrepreneur',\n",
       " 'aight close still around alex place',\n",
       " 'meet corpor st outsid gap see mind work',\n",
       " 'mum ask buy food home',\n",
       " 'k u also dont msg repli msg',\n",
       " 'much r will pay',\n",
       " 'sorri call later',\n",
       " 'import prevent dehydr give enough fluid',\n",
       " 'that bit weird even suppos happen good idea sure pub',\n",
       " 'true dear sat pray even felt sm time',\n",
       " 'think get away trek long famili town sorri',\n",
       " 'wanna gym harri',\n",
       " 'quit late lar ard anyway wun b drivin',\n",
       " 'review keep fantast nokia n gage game deck club nokia go www cnupdat com newslett unsubscrib alert repli word',\n",
       " 'mth half price orang line rental latest camera phone free phone mth call mobilesdirect free updat stoptxt cs',\n",
       " 'height confid aeronaut professor wer calld amp wer askd sit aeroplan aftr sat wer told dat plane ws made student dey hurri plane bt didnt move said made student wont even start datz confid',\n",
       " 'seem like weird time night g want come smoke day shitstorm attribut alway come make everyon smoke',\n",
       " 'pm cost p',\n",
       " 'save stress person dorm account send account detail money sent',\n",
       " 'also know lunch menu da know',\n",
       " 'stuff sell tell',\n",
       " 'urgent nd attempt contact u u call b csbcm wc n xx callcost ppm mobilesvari max',\n",
       " 'book lesson msg call work sth go get spec membership px',\n",
       " 'guarante cash prize claim yr prize call custom servic repres pm',\n",
       " 'macha dont feel upset assum mindset believ one even wonder plan us let life begin call anytim',\n",
       " 'oh send address',\n",
       " 'fine anytim best',\n",
       " 'wondar full flim',\n",
       " 'ya even cooki jelli',\n",
       " 'world run still mayb feel admit mad correct let call life keep run world may u r also run let run',\n",
       " 'got look scrumptiou daddi want eat night long',\n",
       " 'co lar ba dao ok pm lor u never ask go ah said u would ask fri said u ask today',\n",
       " 'alright omw gotta chang order half th',\n",
       " 'exactli anyway far jide studi visit',\n",
       " 'dunno u ask',\n",
       " 'email alertfrom jeri stewarts kbsubject low cost prescripiton drvgsto listen email call',\n",
       " 'spring come earli yay',\n",
       " 'lol feel bad use money take steak dinner',\n",
       " 'even u dont get troubl convinc tel twice tel neglect msg dont c read dont repli',\n",
       " 'leav qatar tonit search opportun went fast pl add ur prayer dear rakhesh',\n",
       " 'one talk',\n",
       " 'thank look realli appreci',\n",
       " 'hi custom loyalti offer new nokia mobil txtauction txt word start get ctxt tc p mtmsg',\n",
       " 'wish',\n",
       " 'haha mayb u rite u know well da feel like someon gd lor u faster go find one gal group attach liao',\n",
       " 'ye glad made',\n",
       " 'well littl time thing good time ahead',\n",
       " 'got room soon put clock back til shout everyon get realis wahay anoth hour bed',\n",
       " 'ok may free gym',\n",
       " 'men like shorter ladi gaze eye',\n",
       " 'dunno ju say go lido time',\n",
       " 'promis take good care princess run pleas send pic get chanc ttyl',\n",
       " 'u subscrib best mobil content servic uk per day send stop helplin',\n",
       " 'reason spoken year anyway great week best exam',\n",
       " 'monday next week give full gist',\n",
       " 'realiz year thousand old ladi run around tattoo',\n",
       " 'import custom servic announc premier',\n",
       " 'dont gimm lip caveboy',\n",
       " 'get librari',\n",
       " 'reali sorri recognis number confus r u pleas',\n",
       " 'didnt holla',\n",
       " 'cant think anyon spare room top head',\n",
       " 'faith make thing possibl hope make thing work love make thing beauti may three christma merri christma',\n",
       " 'u made appoint',\n",
       " 'call carlo phone vibrat act might hear text',\n",
       " 'romant pari night flight book next year call ts cs appli',\n",
       " 'grandma oh dear u still ill felt shit morn think hungov anoth night leav sat',\n",
       " 'urgent ur guarante award still unclaim call closingd claimcod pmmorefrommobil bremov mobypobox ls yf',\n",
       " 'noth ju tot u would ask co u ba gua went mt faber yest yest ju went alreadi mah today go ju call lor',\n",
       " 'wish famili merri x ma happi new year advanc',\n",
       " 'ur award citi break could win summer shop spree everi wk txt store skilgm tsc winawk age perwksub',\n",
       " 'nt goin got somethin unless meetin dinner lor haha wonder go ti time',\n",
       " 'sorri call later',\n",
       " 'cant pick phone right pl send messag',\n",
       " 'lol know dramat school alreadi close tomorrow appar drive inch snow suppos get',\n",
       " 'get anywher damn job hunt',\n",
       " 'lol u drunkard hair moment yeah still tonight wat plan',\n",
       " 'idc get weasel way shit twice row',\n",
       " 'wil lt gt minut got space',\n",
       " 'sleep surf',\n",
       " 'thank pick trash',\n",
       " 'go tell friend sure want live smoke much spend hour beg come smoke',\n",
       " 'hi kate love see tonight ill phone tomorrow got sing guy gave card xxx',\n",
       " 'happi new year dear brother realli miss got number decid send text wish happi abiola',\n",
       " 'mean get door',\n",
       " 'opinion jada kusruthi lovabl silent spl charact matur stylish simpl pl repli',\n",
       " 'hmmm thought said hour slave late punish',\n",
       " 'beerag',\n",
       " 'import custom servic announc premier call freephon',\n",
       " 'dont think turn like randomlli within min open',\n",
       " 'suppos make still town though',\n",
       " 'time fix spell sometim get complet diff word go figur',\n",
       " 'ever thought live good life perfect partner txt back name age join mobil commun p sm',\n",
       " 'free top polyphon tone call nation rate get toppoli tune sent everi week text subpoli per pole unsub',\n",
       " 'gud mrng dear hav nice day',\n",
       " 'hope enjoy game yesterday sorri touch pl know fondli bein thot great week abiola',\n",
       " 'e best ur drive tmr',\n",
       " 'u dogbreath sound like jan c al',\n",
       " 'omg want scream weigh lost weight woohoo',\n",
       " 'gener one uncount noun u dictionari piec research',\n",
       " 'realli get hang around',\n",
       " 'orang custom may claim free camera phone upgrad loyalti call offer end thmarch c appli opt availa',\n",
       " 'petey boy wherear friendsar thekingshead come canlov nic',\n",
       " 'ok msg u b leav hous',\n",
       " 'gimm lt gt minut ago',\n",
       " 'last chanc claim ur worth discount voucher today text shop savamob offer mobil cs savamob pobox uz sub',\n",
       " 'appt lt time gt fault u listen told u twice',\n",
       " 'free st week nokia tone ur mobil everi week txt nokia get txting tell ur mate www getz co uk pobox w wq norm p tone',\n",
       " 'guarante award even cashto claim ur award call free stop getstop php rg jx',\n",
       " 'k',\n",
       " 'dled imp',\n",
       " 'sure make sure know smokin yet',\n",
       " 'boooo alway work quit',\n",
       " 'take half day leav bec well',\n",
       " 'ugh wanna get bed warm',\n",
       " 'nervou lt gt',\n",
       " 'ring come guy costum gift futur yowif hint hint',\n",
       " 'congratul ur award either cd gift voucher free entri weekli draw txt music tnc www ldew com win ppmx age',\n",
       " 'borrow ur bag ok',\n",
       " 'u outbid simonwatson shinco dvd plyr bid visit sm ac smsreward end bid notif repli end',\n",
       " 'boytoy miss happen',\n",
       " 'lot use one babe model help youi bring match',\n",
       " 'also bring galileo dobbi',\n",
       " 'respond',\n",
       " 'boo babe u enjoyin yourjob u seem b gettin well hunni hope ure ok take care llspeak u soonlot lovem xxxx',\n",
       " 'good afternoon starshin boytoy crave yet ach fuck sip cappuccino miss babe teas kiss',\n",
       " 'road cant txt',\n",
       " 'smsservic yourinclus text credit pl goto www comuk net login qxj unsubscrib stop extra charg help comuk cm ae',\n",
       " 'p alfi moon children need song ur mob tell ur txt tone chariti nokia poli chariti poli zed profit chariti',\n",
       " 'good even ttyl',\n",
       " 'hmm bit piec lol sigh',\n",
       " 'hahaha use brain dear',\n",
       " 'hey got mail',\n",
       " 'sorri light turn green meant anoth friend want lt gt worth may around',\n",
       " 'thank yesterday sir wonder hope enjoy burial mojibiola',\n",
       " 'u secret admir reveal think u r special call opt repli reveal stop per msg recd cust care',\n",
       " 'hi mate rv u hav nice hol messag say hello coz sent u age start drive stay road rvx',\n",
       " 'dear voucher holder claim week offer pc pleas go http www e tlp co uk expressoff ts cs appli stop text txt stop',\n",
       " 'thank much skype wit kz sura didnt get pleasur compani hope good given ultimatum oh countin aburo enjoy messag sent day ago',\n",
       " 'sure result offer',\n",
       " 'good morn dear great amp success day',\n",
       " 'want anytim network min text new video phone five pound per week call repli deliveri tomorrow',\n",
       " 'sir late pay rent past month pay lt gt charg felt would inconsider nag someth give great cost didnt speak howev recess wont abl pay charg month henc askin well ahead month end pleas help thank',\n",
       " 'tri contact offer new video phone anytim network min half price rental camcord call repli deliveri wed',\n",
       " 'last chanc claim ur worth discount voucher text ye savamob member offer mobil cs sub remov txt x stop',\n",
       " 'luv u soo much u understand special u r ring u morrow luv u xxx',\n",
       " 'pl send comprehens mail pay much',\n",
       " 'prashanthettan mother pass away last night pray famili',\n",
       " 'urgent call landlin complimentari ibiza holiday cash await collect sae cs po box sk wp ppm',\n",
       " 'k k go',\n",
       " 'meanwhil shit suit xavier decid give us lt gt second warn samantha come play jay guitar impress shit also think doug realiz live anymor',\n",
       " 'stomach thru much trauma swear eat better lose weight',\n",
       " 'offic what matter msg call break',\n",
       " 'yeah bare enough room two us x mani fuck shoe sorri man see later',\n",
       " 'today offer claim ur worth discount voucher text ye savamob member offer mobil cs sub unsub repli x',\n",
       " 'u reach orchard alreadi u wan go buy ticket first',\n",
       " 'real babi want bring inner tigress',\n",
       " 'da run activ full version da',\n",
       " 'ah poor babi hope urfeel bettersn luv probthat overdos work hey go care spk u sn lot lovejen xxx',\n",
       " 'stop stori told return say order',\n",
       " 'talk sexi make new friend fall love world discreet text date servic text vip see could meet',\n",
       " 'go take babe',\n",
       " 'hai ana tomarrow come morn lt decim gt ill sathi go rto offic repli came home',\n",
       " 'spoon okay',\n",
       " 'say somebodi name tampa',\n",
       " 'work go min',\n",
       " 'brother geniu',\n",
       " 'sorri guess whenev get hold connect mayb hour two text',\n",
       " 'u find time bu coz need sort stuff',\n",
       " 'dude ive see lotta corvett late',\n",
       " 'congratul ur award either yr suppli cd virgin record mysteri gift guarante call ts cs www smsco net pm approx min',\n",
       " 'consid wall bunker shit import never play peac guess place high enough matter',\n",
       " 'privat account statement xxxxxx show un redeem point call identifi code expir',\n",
       " 'hello need posh bird chap user trial prod champney put need address dob asap ta r',\n",
       " 'u want xma free text messag new video phone half price line rental call free find',\n",
       " 'well offici philosoph hole u wanna call home readi save',\n",
       " 'go good problem still need littl experi understand american custom voic',\n",
       " 'text drop x',\n",
       " 'ugh long day exhaust want cuddl take nap',\n",
       " 'talk atleast day otherwis miss best friend world shakespear shesil lt gt',\n",
       " 'shop till u drop either k k cash travel voucher call ntt po box cr bt fixedlin cost ppm mobil vari',\n",
       " 'castor need see someth',\n",
       " 'sunshin quiz wkli q win top soni dvd player u know countri liverpool play mid week txt ansr sp tyron',\n",
       " 'u secret admir look make contact u find r reveal think ur special call',\n",
       " 'u secret admir look make contact u find r reveal think ur special call stopsm',\n",
       " 'remind download content alreadi paid goto http doit mymobi tv collect content',\n",
       " 'see knew give break time woul lead alway want miss curfew gonna gibe til one midnight movi gonna get til need come home need getsleep anyth need b studdi ear train',\n",
       " 'love give massag use lot babi oil fave posit',\n",
       " 'dude go sup',\n",
       " 'yoyyooo u know chang permiss drive mac usb flash drive',\n",
       " 'gibb unsold mike hussey',\n",
       " 'like talk pa abl dont know',\n",
       " 'dun cut short leh u dun like ah fail quit sad',\n",
       " 'unbeliev faglord',\n",
       " 'wife knew time murder exactli',\n",
       " 'ask princess',\n",
       " 'great princess think',\n",
       " 'nutter cutter ctter cttergg cttargg ctargg ctagg ie',\n",
       " 'ok noe u busi realli bore msg u oso dunno wat colour choos one',\n",
       " 'g class earli tomorrow thu tri smoke lt gt',\n",
       " 'superb thought grate u dont everyth u want mean u still opportun happier tomorrow u today',\n",
       " 'hope good week check',\n",
       " 'use hope agent drop sinc book thing year whole boston nyc experi',\n",
       " 'thursday night yeah sure thing work',\n",
       " 'free rington wait collect simpli text password mix verifi get usher britney fml po box mk h ppw',\n",
       " 'probabl money worri thing come due sever outstand invoic work two three month ago',\n",
       " 'possibl teach',\n",
       " 'wonder phone batteri went dead tell love babe',\n",
       " 'love smell bu tobacco',\n",
       " 'get worri derek taylor alreadi assum worst',\n",
       " 'hey charl sorri late repli',\n",
       " 'lastest stereophon marley dizze racal libertin stroke win nookii game flirt click themob wap bookmark text wap',\n",
       " 'give plu said grinul greet whenev speak',\n",
       " 'white fudg oreo store',\n",
       " 'januari male sale hot gay chat cheaper call nation rate p min cheap p min peak stop text call p min',\n",
       " 'love come took long leav zaher got word ym happi see sad left miss',\n",
       " 'sorri hurt',\n",
       " 'feel nauseou piss eat sweet week caus today plan pig diet week hungri',\n",
       " 'ok lor earli still project meet',\n",
       " 'call da wait call',\n",
       " 'could ask carlo could get anybodi els chip',\n",
       " 'actual send remind today wonder weekend',\n",
       " 'peopl see msg think iam addict msging wrong bcoz know iam addict sweet friend bslvyl',\n",
       " 'hey gave photo regist drive ah tmr wanna meet yck',\n",
       " 'dont talk ever ok word',\n",
       " 'u wana see',\n",
       " 'way school pl send ashley number',\n",
       " 'shall fine avalarr hollalat',\n",
       " 'went attend anoth two round today still reach home',\n",
       " 'actual delet old websit blog magicalsong blogspot com',\n",
       " 'k wait chikku il send aftr lt gt min',\n",
       " 'diet ate mani slice pizza yesterday ugh alway diet',\n",
       " 'k give kvb acc detail',\n",
       " 'oh come ah',\n",
       " 'money r lucki winner claim prize text money million give away ppt x normal text rate box w jy',\n",
       " 'realli sorri b abl friday hope u find altern hope yr term go ok',\n",
       " 'congratul ore mo owo wa enjoy wish mani happi moment fro wherev go',\n",
       " 'samu shoulder yet',\n",
       " 'time think need know near campu',\n",
       " 'dear matthew pleas call landlin complimentari lux tenerif holiday cash await collect ppm sae cs box sk xh',\n",
       " 'dun wear jean lor',\n",
       " 'sinc side fever vomitin',\n",
       " 'k k colleg',\n",
       " 'urgent call landlin complimentari tenerif holiday cash await collect sae cs box hp yf ppm',\n",
       " 'better made friday stuf like pig yesterday feel bleh least writh pain kind bleh',\n",
       " 'sell ton coin sell coin someon thru paypal voila money back life pocket',\n",
       " 'theyr lot place hospit medic place safe',\n",
       " 'get touch folk wait compani txt back name age opt enjoy commun p sm',\n",
       " 'also sorta blown coupl time recent id rather text blue look weed',\n",
       " 'sent score sopha secondari applic school think think appli research cost also contact joke ogunrind school one less expens one',\n",
       " 'cant wait see photo use',\n",
       " 'ur cash balanc current pound maxim ur cash send go p msg cc po box tcr w',\n",
       " 'hey book kb sat alreadi lesson go ah keep sat night free need meet confirm lodg',\n",
       " 'chk ur belovd ms dict',\n",
       " 'time want come',\n",
       " 'awesom lemm know whenev around',\n",
       " 'shb b ok lor thanx',\n",
       " 'beauti truth graviti read care heart feel light someon feel heavi someon leav good night',\n",
       " 'also rememb get dobbi bowl car',\n",
       " 'filthi stori girl wait',\n",
       " 'sorri c ur msg yar lor poor thing one night tmr u brand new room sleep',\n",
       " 'love decis feel could decid love life would much simpler less magic',\n",
       " 'welp appar retir',\n",
       " 'sort code acc bank natwest repli confirm sent right person',\n",
       " '',\n",
       " 'u sure u take sick time',\n",
       " 'urgent tri contact u today draw show prize guarante call land line claim valid hr',\n",
       " 'watch cartoon listen music amp eve go templ amp church u',\n",
       " 'yo chad gymnast class wanna take site say christian class full',\n",
       " 'much buzi',\n",
       " 'better still catch let ask sell lt gt',\n",
       " 'sure night menu know noon menu',\n",
       " 'u want come back beauti necklac token heart that give wife like see one give dont call wait till come',\n",
       " 'will go aptitud class',\n",
       " 'wont b tri sort hous ok',\n",
       " 'yar lor wan go c hors race today mah eat earlier lor ate chicken rice u',\n",
       " 'haha awesom omw back',\n",
       " 'yup thk e shop close lor',\n",
       " 'account number',\n",
       " 'eh u send wrongli lar',\n",
       " 'hey ad crap nite borin without ya boggi u bore biatch thanx u wait til nxt time il ave ya',\n",
       " 'ok shall talk',\n",
       " 'dont hesit know second time weak like keep notebook eat day anyth chang day sure noth',\n",
       " 'hey pay salari de lt gt',\n",
       " 'anoth month need chocol weed alcohol',\n",
       " 'start search get job day great potenti talent',\n",
       " 'reckon need town eightish walk carpark',\n",
       " 'congrat mobil g videophon r call videochat wid mate play java game dload polyph music nolin rentl',\n",
       " 'look fuckin time fuck think',\n",
       " 'yo guess drop',\n",
       " 'carlo say mu lt gt minut',\n",
       " 'offic call lt gt min',\n",
       " 'geeee miss alreadi know think fuck wait till next year togeth love kiss',\n",
       " 'yun ah ubi one say wan call tomorrow call look iren ere got bu ubi cre ubi tech park ph st wkg day n',\n",
       " 'ugh gotta drive back sd la butt sore',\n",
       " 'th juli',\n",
       " 'hi im relax time ever get everi day parti good night get home tomorrow ish',\n",
       " 'wan come come lor din c stripe skirt',\n",
       " 'xma stori peac xma msg love xma miracl jesu hav bless month ahead amp wish u merri xma',\n",
       " 'number',\n",
       " 'chang e one next escal',\n",
       " 'yetund class run water make ok pl',\n",
       " 'lot happen feel quiet beth aunt charli work lot helen mo',\n",
       " 'wait bu stop aft ur lect lar dun c go get car come back n pick',\n",
       " ...]"
      ]
     },
     "execution_count": 14,
     "metadata": {
      "tags": []
     },
     "output_type": "execute_result"
    }
   ],
   "source": [
    "corpus"
   ]
  },
  {
   "cell_type": "markdown",
   "metadata": {
    "colab_type": "text",
    "id": "3E3NWtlc2v4T"
   },
   "source": [
    "### 3.2 Applying TF-IDF    <a id='apply'>\n",
    "\n",
    "Tf-idf is an NLP technique to weight words how important they are. <br>\n",
    "How do we calculate the importance of words?  <br>\n",
    "\n",
    "Words that are used frequently in many documents will have a lower weighting while infrequent ones will have a higher weighting. \n",
    "\n",
    "The tf-idf value increases proportionally to the number of times a word appears in the document, but is offset by the frequency of the word in the corpus, which helps to adjust for the fact that some words appear more frequently in general.\n",
    "\n",
    "We calculate the term frequency and inverse document frequency by the following formula <br>\n",
    "    \n",
    "**Term Frequency: TF(t)** = (Number of times term t appears in a document) / (Total number of terms in the document)\n",
    " \n",
    "**Inverse Document Frequency: IDF(t)** = log_e(Total number of documents / Number of documents with term t in it).\n",
    "\n",
    "**tf-idf score**=TF(t)*IDF(t)\n",
    " "
   ]
  },
  {
   "cell_type": "code",
   "execution_count": 0,
   "metadata": {
    "colab": {},
    "colab_type": "code",
    "id": "-v_Z5eq52v4X"
   },
   "outputs": [],
   "source": [
    "from wordcloud import WordCloud, STOPWORDS\n",
    "import matplotlib.pyplot as plt\n",
    "word_string=\" \".join(corpus)\n",
    "wordcloud = WordCloud(stopwords=STOPWORDS,\n",
    "                          background_color='white', \n",
    "                      max_words=300\n",
    "                         ).generate(word_string)"
   ]
  },
  {
   "cell_type": "code",
   "execution_count": 0,
   "metadata": {
    "colab": {},
    "colab_type": "code",
    "id": "zVL-xzck2v4a",
    "outputId": "01bddd63-d7fc-436c-d5e0-2b2ad1d8ec3f"
   },
   "outputs": [
    {
     "data": {
      "image/png": "[encoded data removed]",
      "text/plain": [
       "<Figure size 432x288 with 1 Axes>"
      ]
     },
     "metadata": {
      "tags": []
     },
     "output_type": "display_data"
    }
   ],
   "source": [
    "plt.clf()\n",
    "plt.imshow(wordcloud)\n",
    "plt.axis('off')\n",
    "plt.show()"
   ]
  },
  {
   "cell_type": "markdown",
   "metadata": {
    "colab_type": "text",
    "id": "aOiIghuR2v4i"
   },
   "source": [
    "**Observation** :\n",
    "\n",
    "Most common words are go, call, love and ok"
   ]
  },
  {
   "cell_type": "code",
   "execution_count": 0,
   "metadata": {
    "colab": {},
    "colab_type": "code",
    "id": "507M0TnA2v4j"
   },
   "outputs": [],
   "source": [
    "#TFIDF Vectorizer\n",
    "\n",
    "from sklearn.feature_extraction.text import TfidfVectorizer\n",
    "vectorizer = TfidfVectorizer(use_idf=True, strip_accents='ascii')"
   ]
  },
  {
   "cell_type": "markdown",
   "metadata": {
    "colab_type": "text",
    "id": "UAy02dRM2v4l"
   },
   "source": [
    "### 4. Separating labels and features   <a id='label'>"
   ]
  },
  {
   "cell_type": "code",
   "execution_count": 0,
   "metadata": {
    "colab": {},
    "colab_type": "code",
    "collapsed": true,
    "id": "YOxmcIeA2v4m"
   },
   "outputs": [],
   "source": [
    "##Our dependent variable will be 'spam' or 'ham' \n",
    "y = df.type"
   ]
  },
  {
   "cell_type": "code",
   "execution_count": 0,
   "metadata": {
    "colab": {},
    "colab_type": "code",
    "id": "zEqy6wjc2v4n",
    "outputId": "daec33e0-dc53-43d6-df4e-311070b0c982"
   },
   "outputs": [
    {
     "name": "stderr",
     "output_type": "stream",
     "text": [
      "C:\\Users\\AVINASH\\Anaconda3\\lib\\site-packages\\sklearn\\feature_extraction\\text.py:1015: FutureWarning: Conversion of the second argument of issubdtype from `float` to `np.floating` is deprecated. In future, it will be treated as `np.float64 == np.dtype(float).type`.\n",
      "  if hasattr(X, 'dtype') and np.issubdtype(X.dtype, np.float):\n"
     ]
    }
   ],
   "source": [
    "#Convert df.text from text to features\n",
    "\n",
    "X = vectorizer.fit_transform(corpus)"
   ]
  },
  {
   "cell_type": "code",
   "execution_count": 0,
   "metadata": {
    "colab": {},
    "colab_type": "code",
    "id": "fiAnRgrR2v4r",
    "outputId": "da5dd908-45cf-40a6-a391-8e3b64163a6a"
   },
   "outputs": [
    {
     "data": {
      "text/plain": [
       "(5574, 6296)"
      ]
     },
     "execution_count": 23,
     "metadata": {
      "tags": []
     },
     "output_type": "execute_result"
    }
   ],
   "source": [
    "X.shape"
   ]
  },
  {
   "cell_type": "code",
   "execution_count": 0,
   "metadata": {
    "colab": {},
    "colab_type": "code",
    "id": "Qk0yhVji2v4u",
    "outputId": "276f3add-6a89-4a03-9f8d-5aa442be614f"
   },
   "outputs": [
    {
     "data": {
      "text/plain": [
       "<5574x6296 sparse matrix of type '<class 'numpy.float64'>'\n",
       "\twith 45127 stored elements in Compressed Sparse Row format>"
      ]
     },
     "execution_count": 24,
     "metadata": {
      "tags": []
     },
     "output_type": "execute_result"
    }
   ],
   "source": [
    "X"
   ]
  },
  {
   "cell_type": "markdown",
   "metadata": {
    "colab_type": "text",
    "id": "YkMY2M1P2v4x"
   },
   "source": [
    "** Exploring the First SMS **"
   ]
  },
  {
   "cell_type": "code",
   "execution_count": 0,
   "metadata": {
    "colab": {},
    "colab_type": "code",
    "id": "Ne9GEucg2v4y",
    "outputId": "4051b11f-54fe-4529-b380-ee188c1c855d"
   },
   "outputs": [
    {
     "name": "stdout",
     "output_type": "stream",
     "text": [
      "['go', 'jurong', 'point', 'crazi', 'avail', 'bugi', 'n', 'great', 'world', 'la', 'e', 'buffet', 'cine', 'got', 'amor', 'wat']\n"
     ]
    }
   ],
   "source": [
    "# Spliting the SMS to separate the text into individual words\n",
    "\n",
    "splt_txt1 = corpus[0].split()\n",
    "print(splt_txt1)"
   ]
  },
  {
   "cell_type": "code",
   "execution_count": 0,
   "metadata": {
    "colab": {},
    "colab_type": "code",
    "id": "Q7LbxwTv2v4z",
    "outputId": "97664f9e-1a64-4097-b360-4819285f8273"
   },
   "outputs": [
    {
     "data": {
      "text/plain": [
       "'world'"
      ]
     },
     "execution_count": 26,
     "metadata": {
      "tags": []
     },
     "output_type": "execute_result"
    }
   ],
   "source": [
    "# Finding the most frequent word appearing in the SMS\n",
    "max(splt_txt1)"
   ]
  },
  {
   "cell_type": "code",
   "execution_count": 0,
   "metadata": {
    "colab": {},
    "colab_type": "code",
    "id": "AauFGFuv2v43",
    "outputId": "b5b7cfaa-02a5-4d54-f91c-896a2a6222a9"
   },
   "outputs": [
    {
     "data": {
      "text/plain": [
       "16"
      ]
     },
     "execution_count": 27,
     "metadata": {
      "tags": []
     },
     "output_type": "execute_result"
    }
   ],
   "source": [
    "# Count the number of words in the first SMS\n",
    "len(splt_txt1)"
   ]
  },
  {
   "cell_type": "code",
   "execution_count": 0,
   "metadata": {
    "colab": {},
    "colab_type": "code",
    "id": "N78pHN2O2v47",
    "outputId": "d3b346e2-8d2f-41f7-f51c-2eccd4ba2892"
   },
   "outputs": [
    {
     "data": {
      "text/plain": [
       "<1x6296 sparse matrix of type '<class 'numpy.float64'>'\n",
       "\twith 14 stored elements in Compressed Sparse Row format>"
      ]
     },
     "execution_count": 28,
     "metadata": {
      "tags": []
     },
     "output_type": "execute_result"
    }
   ],
   "source": [
    "X[0]"
   ]
  },
  {
   "cell_type": "markdown",
   "metadata": {
    "colab_type": "text",
    "id": "uWvqIHTy2v4_"
   },
   "source": [
    "** It means in the first SMS there are 16 words & out of which only 14 elements have been taken after tf-idf, that is why we will get only 14 tf-idf values for the first the SMS. Likewise elements or words of all other SMSes are taken into consideration**"
   ]
  },
  {
   "cell_type": "code",
   "execution_count": 0,
   "metadata": {
    "colab": {},
    "colab_type": "code",
    "id": "ylyws4rH2v5C",
    "outputId": "b0f87d9e-8616-49e9-a135-e9c4b0a7f759"
   },
   "outputs": [
    {
     "data": {
      "text/plain": [
       "array([0.19461192, 0.35229072, 0.16499165, 0.29761882, 0.33630022,\n",
       "       0.28505982, 0.23616959, 0.19461192, 0.29761882, 0.26350554,\n",
       "       0.27282811, 0.24055604, 0.35229072, 0.14067037])"
      ]
     },
     "execution_count": 29,
     "metadata": {
      "tags": []
     },
     "output_type": "execute_result"
    }
   ],
   "source": [
    "# Looking at the tf-idf values of SMS 1\n",
    "X[0].data"
   ]
  },
  {
   "cell_type": "markdown",
   "metadata": {
    "colab_type": "text",
    "id": "6dN129p52v5E"
   },
   "source": [
    "** Looking at all the values of X we can observe ** <br>\n",
    "0 is the first SMS. This goes all the way to 5573 SMS. <br>\n",
    "5957, 190 etc are the positions of the elements or the words <br>\n",
    "0.19, 0.35, 0.16 are the tf_idf value of the words <br> \n",
    "Like wise we can find the next SMSes & the tf-idf value of the words of the SMSes"
   ]
  },
  {
   "cell_type": "code",
   "execution_count": 0,
   "metadata": {
    "colab": {},
    "colab_type": "code",
    "id": "WNBsyiZH2v5E",
    "outputId": "8f5d43e3-30f8-4425-d435-f427312b1291"
   },
   "outputs": [
    {
     "name": "stdout",
     "output_type": "stream",
     "text": [
      "  (0, 5957)\t0.19461192334550204\n",
      "  (0, 190)\t0.3522907231821035\n",
      "  (0, 2208)\t0.16499165213970055\n",
      "  (0, 964)\t0.29761882264685163\n",
      "  (0, 736)\t0.3363002173539638\n",
      "  (0, 2932)\t0.28505982276840763\n",
      "  (0, 6135)\t0.23616958793412982\n",
      "  (0, 2245)\t0.19461192334550204\n",
      "  (0, 738)\t0.29761882264685163\n",
      "  (0, 379)\t0.2635055382017557\n",
      "  (0, 1169)\t0.2728281064271195\n",
      "  (0, 4091)\t0.24055604223291527\n",
      "  (0, 2827)\t0.3522907231821035\n",
      "  (0, 2171)\t0.14067036664337382\n",
      "  (1, 3785)\t0.5647876999609088\n",
      "  (1, 6056)\t0.4459772022866927\n",
      "  (1, 2794)\t0.4745431066842695\n",
      "  (1, 2960)\t0.42190021648154313\n",
      "  (1, 3760)\t0.2809416954541812\n",
      "  (2, 262)\t0.18752225984368384\n",
      "  (2, 4364)\t0.18116354579824379\n",
      "  (2, 5695)\t0.1372821093305623\n",
      "  (2, 5131)\t0.2205879043218105\n",
      "  (2, 4319)\t0.1849819473248148\n",
      "  (2, 4402)\t0.18116354579824379\n",
      "  :\t:\n",
      "  (5569, 3972)\t0.2709183149001665\n",
      "  (5569, 4364)\t0.28636418659273954\n",
      "  (5570, 1704)\t0.66522863754861\n",
      "  (5570, 1996)\t0.5740643692603435\n",
      "  (5570, 2457)\t0.3745825198279203\n",
      "  (5570, 2171)\t0.29598799903088946\n",
      "  (5571, 4044)\t0.6374788327133577\n",
      "  (5571, 3439)\t0.5301433136119718\n",
      "  (5571, 5236)\t0.5590785319388801\n",
      "  (5572, 577)\t0.3555703195586284\n",
      "  (5572, 52)\t0.3627070937195934\n",
      "  (5572, 2669)\t0.3172972591534604\n",
      "  (5572, 2290)\t0.2538445561241579\n",
      "  (5572, 2099)\t0.3346445879570241\n",
      "  (5572, 1630)\t0.29663533105830286\n",
      "  (5572, 763)\t0.24830992764777296\n",
      "  (5572, 4986)\t0.24963280021881115\n",
      "  (5572, 5804)\t0.2538445561241579\n",
      "  (5572, 3614)\t0.25533814984782793\n",
      "  (5572, 3042)\t0.19153738962164074\n",
      "  (5572, 5992)\t0.22212255615514528\n",
      "  (5572, 2007)\t0.1930937509662567\n",
      "  (5573, 4541)\t0.6981528910662846\n",
      "  (5573, 5657)\t0.527430500619092\n",
      "  (5573, 3538)\t0.484148332345039\n"
     ]
    }
   ],
   "source": [
    "print(X)"
   ]
  },
  {
   "cell_type": "code",
   "execution_count": 0,
   "metadata": {
    "colab": {},
    "colab_type": "code",
    "id": "OJkHsgfm2v5H",
    "outputId": "eff4883d-a107-40ea-f33b-6fb3baff6ac7"
   },
   "outputs": [
    {
     "data": {
      "text/plain": [
       "'petrol'"
      ]
     },
     "execution_count": 31,
     "metadata": {
      "tags": []
     },
     "output_type": "execute_result"
    }
   ],
   "source": [
    "# 4000 is the position of the word petrol\n",
    "vectorizer.get_feature_names()[4000]                         "
   ]
  },
  {
   "cell_type": "code",
   "execution_count": 0,
   "metadata": {
    "colab": {},
    "colab_type": "code",
    "id": "6E6VG4Fh2v5J",
    "outputId": "932a258b-a5c2-4ef8-f741-1260cccbabd6"
   },
   "outputs": [
    {
     "data": {
      "text/plain": [
       "'zyada'"
      ]
     },
     "execution_count": 32,
     "metadata": {
      "tags": []
     },
     "output_type": "execute_result"
    }
   ],
   "source": [
    "# The most frequent word across all the SMSes\n",
    "max(vectorizer.get_feature_names())"
   ]
  },
  {
   "cell_type": "code",
   "execution_count": 0,
   "metadata": {
    "colab": {},
    "colab_type": "code",
    "id": "z3DHBd1E2v5L",
    "outputId": "33a04c14-a621-443e-925c-7a59fc228fee"
   },
   "outputs": [
    {
     "name": "stdout",
     "output_type": "stream",
     "text": [
      "(5574,)\n",
      "(5574, 6296)\n"
     ]
    }
   ],
   "source": [
    "print (y.shape)\n",
    "print (X.shape)"
   ]
  },
  {
   "cell_type": "markdown",
   "metadata": {
    "colab_type": "text",
    "id": "X_FSF2SG2v5P"
   },
   "source": [
    "### 5. Train Test Split   <a id='train'>"
   ]
  },
  {
   "cell_type": "code",
   "execution_count": 0,
   "metadata": {
    "colab": {},
    "colab_type": "code",
    "collapsed": true,
    "id": "VgvuA8GF2v5R"
   },
   "outputs": [],
   "source": [
    "# Split the test and train\n",
    "from sklearn.cross_validation import train_test_split\n",
    "X_train, X_test, y_train, y_test = train_test_split(X, y, random_state=42)"
   ]
  },
  {
   "cell_type": "markdown",
   "metadata": {
    "colab_type": "text",
    "id": "YtzhpdpH2v5U"
   },
   "source": [
    "### 6. Building the Naive Bayes Model   <a id='nb'>"
   ]
  },
  {
   "cell_type": "code",
   "execution_count": 0,
   "metadata": {
    "colab": {},
    "colab_type": "code",
    "id": "pT51YmZL2v5W"
   },
   "outputs": [],
   "source": [
    "# Train Naive Bayes Classifier\n",
    "# Fast (One pass)\n",
    "# Not affected by sparse data, so most of the 6296 words dont occur in a single observation\n",
    "from sklearn import naive_bayes\n",
    "clf = naive_bayes.MultinomialNB()"
   ]
  },
  {
   "cell_type": "markdown",
   "metadata": {
    "colab_type": "text",
    "id": "Ak0h_Zh32v5b"
   },
   "source": [
    "### 7. Fitting the model   <a id='fitting'>"
   ]
  },
  {
   "cell_type": "code",
   "execution_count": 0,
   "metadata": {
    "colab": {},
    "colab_type": "code",
    "id": "dZI1F1Ys2v5b"
   },
   "outputs": [],
   "source": [
    "model=clf.fit(X_train, y_train)"
   ]
  },
  {
   "cell_type": "markdown",
   "metadata": {
    "colab_type": "text",
    "collapsed": true,
    "id": "1lPmlsLa2v5g"
   },
   "source": [
    "### 8. Predictions from the model   <a id='pred'>"
   ]
  },
  {
   "cell_type": "code",
   "execution_count": 0,
   "metadata": {
    "colab": {},
    "colab_type": "code",
    "id": "IODqbBLr2v5h",
    "outputId": "acfb8b68-f3ca-4567-80cb-4747871f6aae"
   },
   "outputs": [
    {
     "name": "stdout",
     "output_type": "stream",
     "text": [
      "[0 0 0 ... 0 0 0]\n"
     ]
    }
   ],
   "source": [
    "y_pred = model.predict(X_test)\n",
    "print(y_pred)"
   ]
  },
  {
   "cell_type": "markdown",
   "metadata": {
    "colab_type": "text",
    "id": "tryVnzxp2v5m"
   },
   "source": [
    "** First 3 SMSes are correctly assigned to Ham(0) based on the tf-idf scores of the words given in the SMSes  **"
   ]
  },
  {
   "cell_type": "code",
   "execution_count": 0,
   "metadata": {
    "colab": {},
    "colab_type": "code",
    "id": "mhez2V2_2v5m",
    "outputId": "6c4166b3-4ab0-47c5-ff59-865d47e2a62d"
   },
   "outputs": [
    {
     "name": "stdout",
     "output_type": "stream",
     "text": [
      "3690    0\n",
      "3527    0\n",
      "724     0\n",
      "Name: type, dtype: int64\n"
     ]
    }
   ],
   "source": [
    "print(y_test[0:3])"
   ]
  },
  {
   "cell_type": "code",
   "execution_count": 0,
   "metadata": {
    "colab": {},
    "colab_type": "code",
    "id": "aQNDWmUd2v5o",
    "outputId": "ce54bd62-fd04-4330-d743-5badf293b4bd"
   },
   "outputs": [
    {
     "data": {
      "text/html": [
       "<div>\n",
       "<style scoped>\n",
       "    .dataframe tbody tr th:only-of-type {\n",
       "        vertical-align: middle;\n",
       "    }\n",
       "\n",
       "    .dataframe tbody tr th {\n",
       "        vertical-align: top;\n",
       "    }\n",
       "\n",
       "    .dataframe thead th {\n",
       "        text-align: right;\n",
       "    }\n",
       "</style>\n",
       "<table border=\"1\" class=\"dataframe\">\n",
       "  <thead>\n",
       "    <tr style=\"text-align: right;\">\n",
       "      <th></th>\n",
       "      <th>type</th>\n",
       "      <th>text</th>\n",
       "    </tr>\n",
       "  </thead>\n",
       "  <tbody>\n",
       "    <tr>\n",
       "      <th>3690</th>\n",
       "      <td>0</td>\n",
       "      <td>You still coming tonight?</td>\n",
       "    </tr>\n",
       "  </tbody>\n",
       "</table>\n",
       "</div>"
      ],
      "text/plain": [
       "      type                       text\n",
       "3690     0  You still coming tonight?"
      ]
     },
     "execution_count": 40,
     "metadata": {
      "tags": []
     },
     "output_type": "execute_result"
    }
   ],
   "source": [
    "df.loc[[3690]]"
   ]
  },
  {
   "cell_type": "code",
   "execution_count": 0,
   "metadata": {
    "colab": {},
    "colab_type": "code",
    "id": "XqZbNdx92v5r",
    "outputId": "eab7aa65-95a3-43fb-b5f0-7237813d8ad0"
   },
   "outputs": [
    {
     "data": {
      "text/html": [
       "<div>\n",
       "<style scoped>\n",
       "    .dataframe tbody tr th:only-of-type {\n",
       "        vertical-align: middle;\n",
       "    }\n",
       "\n",
       "    .dataframe tbody tr th {\n",
       "        vertical-align: top;\n",
       "    }\n",
       "\n",
       "    .dataframe thead th {\n",
       "        text-align: right;\n",
       "    }\n",
       "</style>\n",
       "<table border=\"1\" class=\"dataframe\">\n",
       "  <thead>\n",
       "    <tr style=\"text-align: right;\">\n",
       "      <th></th>\n",
       "      <th>type</th>\n",
       "      <th>text</th>\n",
       "    </tr>\n",
       "  </thead>\n",
       "  <tbody>\n",
       "    <tr>\n",
       "      <th>3527</th>\n",
       "      <td>0</td>\n",
       "      <td>\"HEY BABE! FAR 2 SPUN-OUT 2 SPK AT DA MO... DE...</td>\n",
       "    </tr>\n",
       "  </tbody>\n",
       "</table>\n",
       "</div>"
      ],
      "text/plain": [
       "      type                                               text\n",
       "3527     0  \"HEY BABE! FAR 2 SPUN-OUT 2 SPK AT DA MO... DE..."
      ]
     },
     "execution_count": 41,
     "metadata": {
      "tags": []
     },
     "output_type": "execute_result"
    }
   ],
   "source": [
    "df.loc[[3527]]"
   ]
  },
  {
   "cell_type": "code",
   "execution_count": 0,
   "metadata": {
    "colab": {},
    "colab_type": "code",
    "id": "Zd-yW-X12v5t",
    "outputId": "a15cfa29-7c90-41a3-fa96-f4d96c695ebf"
   },
   "outputs": [
    {
     "data": {
      "text/html": [
       "<div>\n",
       "<style scoped>\n",
       "    .dataframe tbody tr th:only-of-type {\n",
       "        vertical-align: middle;\n",
       "    }\n",
       "\n",
       "    .dataframe tbody tr th {\n",
       "        vertical-align: top;\n",
       "    }\n",
       "\n",
       "    .dataframe thead th {\n",
       "        text-align: right;\n",
       "    }\n",
       "</style>\n",
       "<table border=\"1\" class=\"dataframe\">\n",
       "  <thead>\n",
       "    <tr style=\"text-align: right;\">\n",
       "      <th></th>\n",
       "      <th>type</th>\n",
       "      <th>text</th>\n",
       "    </tr>\n",
       "  </thead>\n",
       "  <tbody>\n",
       "    <tr>\n",
       "      <th>724</th>\n",
       "      <td>0</td>\n",
       "      <td>Ya even those cookies have jelly on them</td>\n",
       "    </tr>\n",
       "  </tbody>\n",
       "</table>\n",
       "</div>"
      ],
      "text/plain": [
       "     type                                      text\n",
       "724     0  Ya even those cookies have jelly on them"
      ]
     },
     "execution_count": 42,
     "metadata": {
      "tags": []
     },
     "output_type": "execute_result"
    }
   ],
   "source": [
    "df.loc[[724]]"
   ]
  },
  {
   "cell_type": "markdown",
   "metadata": {
    "colab_type": "text",
    "id": "0-E4fQbV2v5w"
   },
   "source": [
    "** WE observed that our first 3 predictions are correct **"
   ]
  },
  {
   "cell_type": "markdown",
   "metadata": {
    "colab_type": "text",
    "id": "spNG1Y4d2v5w"
   },
   "source": [
    "### 9. Find the probability of assigning a SMS to a specific class   <a id='find'>"
   ]
  },
  {
   "cell_type": "code",
   "execution_count": 0,
   "metadata": {
    "colab": {},
    "colab_type": "code",
    "collapsed": true,
    "id": "Hiiq6TPx2v5z"
   },
   "outputs": [],
   "source": [
    "prd=model.predict_proba(X_test)"
   ]
  },
  {
   "cell_type": "code",
   "execution_count": 0,
   "metadata": {
    "colab": {},
    "colab_type": "code",
    "id": "HveAS3Jh2v52",
    "outputId": "6cbfab36-f3fc-4f3a-b701-82dac1d34af7"
   },
   "outputs": [
    {
     "data": {
      "text/plain": [
       "array([[0.99743306, 0.00256694],\n",
       "       [0.97375161, 0.02624839],\n",
       "       [0.92376571, 0.07623429],\n",
       "       ...,\n",
       "       [0.98979911, 0.01020089],\n",
       "       [0.98241132, 0.01758868],\n",
       "       [0.99317651, 0.00682349]])"
      ]
     },
     "execution_count": 44,
     "metadata": {
      "tags": []
     },
     "output_type": "execute_result"
    }
   ],
   "source": [
    "prd"
   ]
  },
  {
   "cell_type": "code",
   "execution_count": 0,
   "metadata": {
    "colab": {},
    "colab_type": "code",
    "id": "DmehYfAR2v54",
    "outputId": "9036d433-60e8-497f-ef9b-3e2b30547ebd"
   },
   "outputs": [
    {
     "data": {
      "text/plain": [
       "array([0.00256694, 0.02624839, 0.07623429, ..., 0.01020089, 0.01758868,\n",
       "       0.00682349])"
      ]
     },
     "execution_count": 45,
     "metadata": {
      "tags": []
     },
     "output_type": "execute_result"
    }
   ],
   "source": [
    "clf.predict_proba(X_test)[:,1]"
   ]
  },
  {
   "cell_type": "code",
   "execution_count": 0,
   "metadata": {
    "colab": {},
    "colab_type": "code",
    "id": "aIaMst2e2v57",
    "outputId": "2ecbde34-b736-40d9-a54b-ce98b409878a"
   },
   "outputs": [
    {
     "data": {
      "text/plain": [
       "0.9812510608296015"
      ]
     },
     "execution_count": 46,
     "metadata": {
      "tags": []
     },
     "output_type": "execute_result"
    }
   ],
   "source": [
    "#Check model's accuracy\n",
    "roc_auc_score(y_test, clf.predict_proba(X_test)[:,1])"
   ]
  },
  {
   "cell_type": "markdown",
   "metadata": {
    "colab_type": "text",
    "collapsed": true,
    "id": "FefStCKe2v6A"
   },
   "source": [
    "### With the model, the success rate is ~98.60%"
   ]
  }
 ],
 "metadata": {
  "colab": {
   "name": "attachment_Copy_of_SMS_Spam1.ipynb",
   "provenance": [],
   "version": "0.3.2"
  },
  "kernelspec": {
   "display_name": "Python 3",
   "language": "python",
   "name": "python3"
  },
  "language_info": {
   "codemirror_mode": {
    "name": "ipython",
    "version": 3
   },
   "file_extension": ".py",
   "mimetype": "text/x-python",
   "name": "python",
   "nbconvert_exporter": "python",
   "pygments_lexer": "ipython3",
   "version": "3.7.3"
  }
 },
 "nbformat": 4,
 "nbformat_minor": 1
}
