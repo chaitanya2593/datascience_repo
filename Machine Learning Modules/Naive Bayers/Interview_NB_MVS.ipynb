{
 "cells": [
  {
   "cell_type": "markdown",
   "metadata": {
    "collapsed": true
   },
   "source": [
    "### Interview Attendance Problem"
   ]
  },
  {
   "cell_type": "markdown",
   "metadata": {},
   "source": [
    "The Dataset consists of details of 1200 + candidates and the interviews they have attended. Also deals with candidate interview attendance for various clients. There are a set of questions that are asked by a recruiter while scheduling the candidate. The answers to these determine whether expected attendance is yes, no or uncertain.\n",
    "\n",
    "**Objective: ** We would like to know if we can predict whether a candidate will attend interviews or not"
   ]
  },
  {
   "cell_type": "markdown",
   "metadata": {},
   "source": [
    "**Attributes description:**\n",
    "\n",
    "1. Date of Interview: This date refers to the day the candidates were scheduled for the interview. The formats vary.<br/>\n",
    "2. Client name: The clients that gave the recruitment vendor the requisite mandate<br/>\n",
    "3. Industry: This refers to the vertical the client belongs(Note Candidates can jump across verticals in their job hunt)<br/>\n",
    "4. LocationRefers: to the current location of the candidate<br/>\n",
    "5. Position to be closed: Niche refers to rare skill sets while routine refers to more common skill sets<br/>\n",
    "6. Nature of Skillset: This refers to the skill the client has and specifies the same<br/>\n",
    "7. Interview Type: There are three types of interview-  <br/>\n",
    " * Walkin drives- these are unscheduled. Candidates are either contacted or they come to the interview on their own volition<br/>\n",
    " * Scheduled- Here the candidates profiles are screened by the client and subsequent to this, the vendor fixes an appointment between the client and the candidate. <br/>\n",
    " * The third one is a scheduled walkin. Here the number of candidates is larger and the candidates are informed beforehand of a tentative date to ascertain their availability. The profiles are screened as in a scheduled interview. In a sense it bears features of both a walk-in and a scheduled interview<br/>\n",
    "8. Name(Cand ID): This is a substitute to keep the candidates identity a secret<br/>\n",
    "9. Gender: Whether the candidate is male or female<br/>\n",
    "10. Candidate Current Location<br/>\n",
    "11. Candidate Job Location<br/>\n",
    "12. Interview Venue<br/>\n",
    "13. Candidate Native location<br/>\n",
    "14. Have you obtained the necessary permission to start at the required time<br/>\n",
    "15. Hope there will be no unscheduled meetings<br/>\n",
    "16. Can I Call you three hours before the interview and follow up on your attendance for the interview<br/>\n",
    "17. Can I have an alternative number/ desk number. I assure you that I will not trouble you too much<br/>\n",
    "18. Have you taken a printout of your updated resume. Have you read the JD and understood the same<br/>\n",
    "19. Are you clear with the venue details and the landmark.<br/>\n",
    "20. Has the call letter been shared<br/>\n",
    "21. Expected Attendance: Whether the candidate was expected to attend the interview. Here the it is either yes no or uncertain<br/>\n",
    "22. Observed Attendance: Whether the candidate attended the interview. This is binary and will form our dependent variable<br/>\n",
    "23. Marital Status: Whether the candidate is married or Single<br/>\n"
   ]
  },
  {
   "cell_type": "markdown",
   "metadata": {},
   "source": [
    "### Importing data <a name='id'></a>"
   ]
  },
  {
   "cell_type": "code",
   "execution_count": 1,
   "metadata": {},
   "outputs": [],
   "source": [
    "# Import basic libraries\n",
    "import numpy as np # linear algebra\n",
    "import pandas as pd # data processing\n",
    "\n",
    "# import visualization libraries\n",
    "import seaborn as sns ### For visualizations\n",
    "import matplotlib.pyplot as plt\n",
    "import sklearn.metrics as metrics\n",
    "%matplotlib inline"
   ]
  },
  {
   "cell_type": "code",
   "execution_count": 2,
   "metadata": {},
   "outputs": [],
   "source": [
    "# to remove teh printing barrier\n",
    "pd.set_option('display.max_columns', None)"
   ]
  },
  {
   "cell_type": "code",
   "execution_count": 3,
   "metadata": {},
   "outputs": [],
   "source": [
    "# TO print multiple outputs in single line\n",
    "from IPython.core.interactiveshell import InteractiveShell\n",
    "InteractiveShell.ast_node_interactivity = \"all\""
   ]
  },
  {
   "cell_type": "code",
   "execution_count": 4,
   "metadata": {},
   "outputs": [],
   "source": [
    "data = pd.read_csv(\"attachment_Interview_lyst6345.csv\")"
   ]
  },
  {
   "cell_type": "code",
   "execution_count": 5,
   "metadata": {},
   "outputs": [
    {
     "data": {
      "text/html": [
       "<div>\n",
       "<style scoped>\n",
       "    .dataframe tbody tr th:only-of-type {\n",
       "        vertical-align: middle;\n",
       "    }\n",
       "\n",
       "    .dataframe tbody tr th {\n",
       "        vertical-align: top;\n",
       "    }\n",
       "\n",
       "    .dataframe thead th {\n",
       "        text-align: right;\n",
       "    }\n",
       "</style>\n",
       "<table border=\"1\" class=\"dataframe\">\n",
       "  <thead>\n",
       "    <tr style=\"text-align: right;\">\n",
       "      <th></th>\n",
       "      <th>Date of Interview</th>\n",
       "      <th>Client name</th>\n",
       "      <th>Industry</th>\n",
       "      <th>Location</th>\n",
       "      <th>Position to be closed</th>\n",
       "      <th>Nature of Skillset</th>\n",
       "      <th>Interview Type</th>\n",
       "      <th>Name(Cand ID)</th>\n",
       "      <th>Gender</th>\n",
       "      <th>Candidate Current Location</th>\n",
       "      <th>Candidate Job Location</th>\n",
       "      <th>Interview Venue</th>\n",
       "      <th>Candidate Native location</th>\n",
       "      <th>Have you obtained the necessary permission to start at the required time</th>\n",
       "      <th>Hope there will be no unscheduled meetings</th>\n",
       "      <th>Can I Call you three hours before the interview and follow up on your attendance for the interview</th>\n",
       "      <th>Can I have an alternative number/ desk number. I assure you that I will not trouble you too much</th>\n",
       "      <th>Have you taken a printout of your updated resume. Have you read the JD and understood the same</th>\n",
       "      <th>Are you clear with the venue details and the landmark.</th>\n",
       "      <th>Has the call letter been shared</th>\n",
       "      <th>Expected Attendance</th>\n",
       "      <th>Observed Attendance</th>\n",
       "      <th>Marital Status</th>\n",
       "    </tr>\n",
       "  </thead>\n",
       "  <tbody>\n",
       "    <tr>\n",
       "      <th>0</th>\n",
       "      <td>13.02.2015</td>\n",
       "      <td>Hospira</td>\n",
       "      <td>Pharmaceuticals</td>\n",
       "      <td>Chennai</td>\n",
       "      <td>Production- Sterile</td>\n",
       "      <td>Routine</td>\n",
       "      <td>Scheduled Walkin</td>\n",
       "      <td>Candidate 1</td>\n",
       "      <td>Male</td>\n",
       "      <td>Chennai</td>\n",
       "      <td>Hosur</td>\n",
       "      <td>Hosur</td>\n",
       "      <td>Hosur</td>\n",
       "      <td>Yes</td>\n",
       "      <td>Yes</td>\n",
       "      <td>Yes</td>\n",
       "      <td>Yes</td>\n",
       "      <td>Yes</td>\n",
       "      <td>Yes</td>\n",
       "      <td>Yes</td>\n",
       "      <td>Yes</td>\n",
       "      <td>No</td>\n",
       "      <td>Single</td>\n",
       "    </tr>\n",
       "    <tr>\n",
       "      <th>1</th>\n",
       "      <td>13.02.2015</td>\n",
       "      <td>Hospira</td>\n",
       "      <td>Pharmaceuticals</td>\n",
       "      <td>Chennai</td>\n",
       "      <td>Production- Sterile</td>\n",
       "      <td>Routine</td>\n",
       "      <td>Scheduled Walkin</td>\n",
       "      <td>Candidate 2</td>\n",
       "      <td>Male</td>\n",
       "      <td>Chennai</td>\n",
       "      <td>Bangalore</td>\n",
       "      <td>Hosur</td>\n",
       "      <td>Trichy</td>\n",
       "      <td>Yes</td>\n",
       "      <td>Yes</td>\n",
       "      <td>Yes</td>\n",
       "      <td>Yes</td>\n",
       "      <td>Yes</td>\n",
       "      <td>Yes</td>\n",
       "      <td>Yes</td>\n",
       "      <td>Yes</td>\n",
       "      <td>No</td>\n",
       "      <td>Single</td>\n",
       "    </tr>\n",
       "    <tr>\n",
       "      <th>2</th>\n",
       "      <td>13.02.2015</td>\n",
       "      <td>Hospira</td>\n",
       "      <td>Pharmaceuticals</td>\n",
       "      <td>Chennai</td>\n",
       "      <td>Production- Sterile</td>\n",
       "      <td>Routine</td>\n",
       "      <td>Scheduled Walkin</td>\n",
       "      <td>Candidate 3</td>\n",
       "      <td>Male</td>\n",
       "      <td>Chennai</td>\n",
       "      <td>Chennai</td>\n",
       "      <td>Hosur</td>\n",
       "      <td>Chennai</td>\n",
       "      <td>NaN</td>\n",
       "      <td>Na</td>\n",
       "      <td>NaN</td>\n",
       "      <td>NaN</td>\n",
       "      <td>NaN</td>\n",
       "      <td>NaN</td>\n",
       "      <td>NaN</td>\n",
       "      <td>Uncertain</td>\n",
       "      <td>No</td>\n",
       "      <td>Single</td>\n",
       "    </tr>\n",
       "    <tr>\n",
       "      <th>3</th>\n",
       "      <td>13.02.2015</td>\n",
       "      <td>Hospira</td>\n",
       "      <td>Pharmaceuticals</td>\n",
       "      <td>Chennai</td>\n",
       "      <td>Production- Sterile</td>\n",
       "      <td>Routine</td>\n",
       "      <td>Scheduled Walkin</td>\n",
       "      <td>Candidate 4</td>\n",
       "      <td>Male</td>\n",
       "      <td>Chennai</td>\n",
       "      <td>Chennai</td>\n",
       "      <td>Hosur</td>\n",
       "      <td>Chennai</td>\n",
       "      <td>Yes</td>\n",
       "      <td>Yes</td>\n",
       "      <td>No</td>\n",
       "      <td>Yes</td>\n",
       "      <td>No</td>\n",
       "      <td>Yes</td>\n",
       "      <td>Yes</td>\n",
       "      <td>Uncertain</td>\n",
       "      <td>No</td>\n",
       "      <td>Single</td>\n",
       "    </tr>\n",
       "    <tr>\n",
       "      <th>4</th>\n",
       "      <td>13.02.2015</td>\n",
       "      <td>Hospira</td>\n",
       "      <td>Pharmaceuticals</td>\n",
       "      <td>Chennai</td>\n",
       "      <td>Production- Sterile</td>\n",
       "      <td>Routine</td>\n",
       "      <td>Scheduled Walkin</td>\n",
       "      <td>Candidate 5</td>\n",
       "      <td>Male</td>\n",
       "      <td>Chennai</td>\n",
       "      <td>Bangalore</td>\n",
       "      <td>Hosur</td>\n",
       "      <td>Chennai</td>\n",
       "      <td>Yes</td>\n",
       "      <td>Yes</td>\n",
       "      <td>Yes</td>\n",
       "      <td>No</td>\n",
       "      <td>Yes</td>\n",
       "      <td>Yes</td>\n",
       "      <td>Yes</td>\n",
       "      <td>Uncertain</td>\n",
       "      <td>No</td>\n",
       "      <td>Married</td>\n",
       "    </tr>\n",
       "  </tbody>\n",
       "</table>\n",
       "</div>"
      ],
      "text/plain": [
       "  Date of Interview Client name         Industry Location  \\\n",
       "0        13.02.2015     Hospira  Pharmaceuticals  Chennai   \n",
       "1        13.02.2015     Hospira  Pharmaceuticals  Chennai   \n",
       "2        13.02.2015     Hospira  Pharmaceuticals  Chennai   \n",
       "3        13.02.2015     Hospira  Pharmaceuticals  Chennai   \n",
       "4        13.02.2015     Hospira  Pharmaceuticals  Chennai   \n",
       "\n",
       "  Position to be closed Nature of Skillset    Interview Type Name(Cand ID)  \\\n",
       "0   Production- Sterile            Routine  Scheduled Walkin   Candidate 1   \n",
       "1   Production- Sterile            Routine  Scheduled Walkin   Candidate 2   \n",
       "2   Production- Sterile            Routine  Scheduled Walkin   Candidate 3   \n",
       "3   Production- Sterile            Routine  Scheduled Walkin   Candidate 4   \n",
       "4   Production- Sterile            Routine  Scheduled Walkin   Candidate 5   \n",
       "\n",
       "  Gender Candidate Current Location Candidate Job Location Interview Venue  \\\n",
       "0   Male                    Chennai                  Hosur           Hosur   \n",
       "1   Male                    Chennai              Bangalore           Hosur   \n",
       "2   Male                    Chennai                Chennai           Hosur   \n",
       "3   Male                    Chennai                Chennai           Hosur   \n",
       "4   Male                    Chennai              Bangalore           Hosur   \n",
       "\n",
       "  Candidate Native location  \\\n",
       "0                     Hosur   \n",
       "1                    Trichy   \n",
       "2                   Chennai   \n",
       "3                   Chennai   \n",
       "4                   Chennai   \n",
       "\n",
       "  Have you obtained the necessary permission to start at the required time  \\\n",
       "0                                                Yes                         \n",
       "1                                                Yes                         \n",
       "2                                                NaN                         \n",
       "3                                                Yes                         \n",
       "4                                                Yes                         \n",
       "\n",
       "  Hope there will be no unscheduled meetings  \\\n",
       "0                                        Yes   \n",
       "1                                        Yes   \n",
       "2                                         Na   \n",
       "3                                        Yes   \n",
       "4                                        Yes   \n",
       "\n",
       "  Can I Call you three hours before the interview and follow up on your attendance for the interview  \\\n",
       "0                                                Yes                                                   \n",
       "1                                                Yes                                                   \n",
       "2                                                NaN                                                   \n",
       "3                                                 No                                                   \n",
       "4                                                Yes                                                   \n",
       "\n",
       "  Can I have an alternative number/ desk number. I assure you that I will not trouble you too much  \\\n",
       "0                                                Yes                                                 \n",
       "1                                                Yes                                                 \n",
       "2                                                NaN                                                 \n",
       "3                                                Yes                                                 \n",
       "4                                                 No                                                 \n",
       "\n",
       "  Have you taken a printout of your updated resume. Have you read the JD and understood the same  \\\n",
       "0                                                Yes                                               \n",
       "1                                                Yes                                               \n",
       "2                                                NaN                                               \n",
       "3                                                 No                                               \n",
       "4                                                Yes                                               \n",
       "\n",
       "  Are you clear with the venue details and the landmark.  \\\n",
       "0                                                Yes       \n",
       "1                                                Yes       \n",
       "2                                                NaN       \n",
       "3                                                Yes       \n",
       "4                                                Yes       \n",
       "\n",
       "  Has the call letter been shared Expected Attendance Observed Attendance  \\\n",
       "0                             Yes                 Yes                  No   \n",
       "1                             Yes                 Yes                  No   \n",
       "2                             NaN           Uncertain                  No   \n",
       "3                             Yes           Uncertain                  No   \n",
       "4                             Yes           Uncertain                  No   \n",
       "\n",
       "  Marital Status  \n",
       "0         Single  \n",
       "1         Single  \n",
       "2         Single  \n",
       "3         Single  \n",
       "4        Married  "
      ]
     },
     "execution_count": 5,
     "metadata": {},
     "output_type": "execute_result"
    }
   ],
   "source": [
    "\n",
    "data.head()"
   ]
  },
  {
   "cell_type": "markdown",
   "metadata": {},
   "source": [
    "**Observations:**<br/>\n",
    "There are missing values.<br/>\n",
    "Most of the variables are categorical data."
   ]
  },
  {
   "cell_type": "code",
   "execution_count": 6,
   "metadata": {},
   "outputs": [],
   "source": [
    "data1 = data.rename(columns={'Have you obtained the necessary permission to start at the required time': 'permission', \n",
    "                             'Hope there will be no unscheduled meetings': 'meetings', 'Can I Call you three hours before the interview and follow up on your attendance for the interview' : 'Reminder',\n",
    "                             'Can I have an alternative number/ desk number. I assure you that I will not trouble you too much': 'Alternate number',\n",
    "                             'Have you taken a printout of your updated resume. Have you read the JD and understood the same' :'Resume printout & JD',\n",
    "                             'Are you clear with the venue details and the landmark.' : 'Venue clear',\n",
    "                             'Has the call letter been shared' : 'Call letter shared',\n",
    "                             'Nature of Skillset' : 'Skillset',\n",
    "                             'Position to be closed' : 'Position',\n",
    "                             'Candidate Native location' : 'Native',\n",
    "                             'Candidate Current Location' : 'Current Location'}) ### renaming column names\n"
   ]
  },
  {
   "cell_type": "markdown",
   "metadata": {},
   "source": [
    "**Note:**<br/>\n",
    "Renamed some column names as short and simple"
   ]
  },
  {
   "cell_type": "code",
   "execution_count": 7,
   "metadata": {},
   "outputs": [
    {
     "name": "stdout",
     "output_type": "stream",
     "text": [
      "<class 'pandas.core.frame.DataFrame'>\n",
      "RangeIndex: 1232 entries, 0 to 1231\n",
      "Data columns (total 23 columns):\n",
      "Date of Interview         1232 non-null object\n",
      "Client name               1232 non-null object\n",
      "Industry                  1232 non-null object\n",
      "Location                  1232 non-null object\n",
      "Position                  1232 non-null object\n",
      "Skillset                  1232 non-null object\n",
      "Interview Type            1232 non-null object\n",
      "Name(Cand ID)             1232 non-null object\n",
      "Gender                    1232 non-null object\n",
      "Current Location          1232 non-null object\n",
      "Candidate Job Location    1232 non-null object\n",
      "Interview Venue           1232 non-null object\n",
      "Native                    1232 non-null object\n",
      "permission                1028 non-null object\n",
      "meetings                  985 non-null object\n",
      "Reminder                  985 non-null object\n",
      "Alternate number          985 non-null object\n",
      "Resume printout & JD      984 non-null object\n",
      "Venue clear               984 non-null object\n",
      "Call letter shared        987 non-null object\n",
      "Expected Attendance       1227 non-null object\n",
      "Observed Attendance       1232 non-null object\n",
      "Marital Status            1232 non-null object\n",
      "dtypes: object(23)\n",
      "memory usage: 221.5+ KB\n"
     ]
    }
   ],
   "source": [
    "data1.info()"
   ]
  },
  {
   "cell_type": "markdown",
   "metadata": {},
   "source": [
    "**Observations**<br/>\n",
    "There are missing values.<br/>\n",
    "23 columns and 1232 rows"
   ]
  },
  {
   "cell_type": "markdown",
   "metadata": {},
   "source": [
    "### Question: Perform Descriptive Statistics on the dataset "
   ]
  },
  {
   "cell_type": "code",
   "execution_count": 8,
   "metadata": {},
   "outputs": [
    {
     "data": {
      "text/plain": [
       "(1232, 23)"
      ]
     },
     "execution_count": 8,
     "metadata": {},
     "output_type": "execute_result"
    }
   ],
   "source": [
    "data1.shape"
   ]
  },
  {
   "cell_type": "code",
   "execution_count": 9,
   "metadata": {},
   "outputs": [
    {
     "data": {
      "text/html": [
       "<div>\n",
       "<style scoped>\n",
       "    .dataframe tbody tr th:only-of-type {\n",
       "        vertical-align: middle;\n",
       "    }\n",
       "\n",
       "    .dataframe tbody tr th {\n",
       "        vertical-align: top;\n",
       "    }\n",
       "\n",
       "    .dataframe thead th {\n",
       "        text-align: right;\n",
       "    }\n",
       "</style>\n",
       "<table border=\"1\" class=\"dataframe\">\n",
       "  <thead>\n",
       "    <tr style=\"text-align: right;\">\n",
       "      <th></th>\n",
       "      <th>Date of Interview</th>\n",
       "      <th>Client name</th>\n",
       "      <th>Industry</th>\n",
       "      <th>Location</th>\n",
       "      <th>Position</th>\n",
       "      <th>Skillset</th>\n",
       "      <th>Interview Type</th>\n",
       "      <th>Name(Cand ID)</th>\n",
       "      <th>Gender</th>\n",
       "      <th>Current Location</th>\n",
       "      <th>Candidate Job Location</th>\n",
       "      <th>Interview Venue</th>\n",
       "      <th>Native</th>\n",
       "      <th>permission</th>\n",
       "      <th>meetings</th>\n",
       "      <th>Reminder</th>\n",
       "      <th>Alternate number</th>\n",
       "      <th>Resume printout &amp; JD</th>\n",
       "      <th>Venue clear</th>\n",
       "      <th>Call letter shared</th>\n",
       "      <th>Expected Attendance</th>\n",
       "      <th>Observed Attendance</th>\n",
       "      <th>Marital Status</th>\n",
       "    </tr>\n",
       "  </thead>\n",
       "  <tbody>\n",
       "    <tr>\n",
       "      <th>count</th>\n",
       "      <td>1232</td>\n",
       "      <td>1232</td>\n",
       "      <td>1232</td>\n",
       "      <td>1232</td>\n",
       "      <td>1232</td>\n",
       "      <td>1232</td>\n",
       "      <td>1232</td>\n",
       "      <td>1232</td>\n",
       "      <td>1232</td>\n",
       "      <td>1232</td>\n",
       "      <td>1232</td>\n",
       "      <td>1232</td>\n",
       "      <td>1232</td>\n",
       "      <td>1028</td>\n",
       "      <td>985</td>\n",
       "      <td>985</td>\n",
       "      <td>985</td>\n",
       "      <td>984</td>\n",
       "      <td>984</td>\n",
       "      <td>987</td>\n",
       "      <td>1227</td>\n",
       "      <td>1232</td>\n",
       "      <td>1232</td>\n",
       "    </tr>\n",
       "    <tr>\n",
       "      <th>unique</th>\n",
       "      <td>95</td>\n",
       "      <td>15</td>\n",
       "      <td>7</td>\n",
       "      <td>11</td>\n",
       "      <td>7</td>\n",
       "      <td>91</td>\n",
       "      <td>6</td>\n",
       "      <td>1232</td>\n",
       "      <td>2</td>\n",
       "      <td>10</td>\n",
       "      <td>7</td>\n",
       "      <td>7</td>\n",
       "      <td>46</td>\n",
       "      <td>7</td>\n",
       "      <td>7</td>\n",
       "      <td>5</td>\n",
       "      <td>6</td>\n",
       "      <td>8</td>\n",
       "      <td>6</td>\n",
       "      <td>12</td>\n",
       "      <td>6</td>\n",
       "      <td>8</td>\n",
       "      <td>2</td>\n",
       "    </tr>\n",
       "    <tr>\n",
       "      <th>top</th>\n",
       "      <td>06.02.2016</td>\n",
       "      <td>Standard Chartered Bank</td>\n",
       "      <td>BFSI</td>\n",
       "      <td>Chennai</td>\n",
       "      <td>Routine</td>\n",
       "      <td>JAVA/J2EE/Struts/Hibernate</td>\n",
       "      <td>Scheduled Walk In</td>\n",
       "      <td>Candidate 815</td>\n",
       "      <td>Male</td>\n",
       "      <td>Chennai</td>\n",
       "      <td>Chennai</td>\n",
       "      <td>Chennai</td>\n",
       "      <td>Chennai</td>\n",
       "      <td>Yes</td>\n",
       "      <td>Yes</td>\n",
       "      <td>Yes</td>\n",
       "      <td>Yes</td>\n",
       "      <td>Yes</td>\n",
       "      <td>Yes</td>\n",
       "      <td>Yes</td>\n",
       "      <td>Yes</td>\n",
       "      <td>Yes</td>\n",
       "      <td>Single</td>\n",
       "    </tr>\n",
       "    <tr>\n",
       "      <th>freq</th>\n",
       "      <td>220</td>\n",
       "      <td>903</td>\n",
       "      <td>948</td>\n",
       "      <td>754</td>\n",
       "      <td>1022</td>\n",
       "      <td>220</td>\n",
       "      <td>456</td>\n",
       "      <td>1</td>\n",
       "      <td>964</td>\n",
       "      <td>754</td>\n",
       "      <td>893</td>\n",
       "      <td>852</td>\n",
       "      <td>595</td>\n",
       "      <td>917</td>\n",
       "      <td>948</td>\n",
       "      <td>950</td>\n",
       "      <td>935</td>\n",
       "      <td>939</td>\n",
       "      <td>946</td>\n",
       "      <td>932</td>\n",
       "      <td>882</td>\n",
       "      <td>700</td>\n",
       "      <td>767</td>\n",
       "    </tr>\n",
       "  </tbody>\n",
       "</table>\n",
       "</div>"
      ],
      "text/plain": [
       "       Date of Interview              Client name Industry Location Position  \\\n",
       "count               1232                     1232     1232     1232     1232   \n",
       "unique                95                       15        7       11        7   \n",
       "top           06.02.2016  Standard Chartered Bank     BFSI  Chennai  Routine   \n",
       "freq                 220                      903      948      754     1022   \n",
       "\n",
       "                          Skillset     Interview Type  Name(Cand ID) Gender  \\\n",
       "count                         1232               1232           1232   1232   \n",
       "unique                          91                  6           1232      2   \n",
       "top     JAVA/J2EE/Struts/Hibernate  Scheduled Walk In  Candidate 815   Male   \n",
       "freq                           220                456              1    964   \n",
       "\n",
       "       Current Location Candidate Job Location Interview Venue   Native  \\\n",
       "count              1232                   1232            1232     1232   \n",
       "unique               10                      7               7       46   \n",
       "top             Chennai                Chennai         Chennai  Chennai   \n",
       "freq                754                    893             852      595   \n",
       "\n",
       "       permission meetings Reminder Alternate number Resume printout & JD  \\\n",
       "count        1028      985      985              985                  984   \n",
       "unique          7        7        5                6                    8   \n",
       "top           Yes      Yes      Yes              Yes                  Yes   \n",
       "freq          917      948      950              935                  939   \n",
       "\n",
       "       Venue clear Call letter shared Expected Attendance Observed Attendance  \\\n",
       "count          984                987                1227                1232   \n",
       "unique           6                 12                   6                   8   \n",
       "top            Yes                Yes                 Yes                 Yes   \n",
       "freq           946                932                 882                 700   \n",
       "\n",
       "       Marital Status  \n",
       "count            1232  \n",
       "unique              2  \n",
       "top            Single  \n",
       "freq              767  "
      ]
     },
     "execution_count": 9,
     "metadata": {},
     "output_type": "execute_result"
    }
   ],
   "source": [
    "data1.describe()"
   ]
  },
  {
   "cell_type": "markdown",
   "metadata": {},
   "source": [
    " Removing the Date of interview and Candidate ID as it be having no impact on the prediction"
   ]
  },
  {
   "cell_type": "code",
   "execution_count": 10,
   "metadata": {},
   "outputs": [],
   "source": [
    "data1.drop(['Date of Interview', 'Name(Cand ID)'], axis=True, inplace=True)"
   ]
  },
  {
   "cell_type": "code",
   "execution_count": 11,
   "metadata": {},
   "outputs": [
    {
     "data": {
      "text/html": [
       "<div>\n",
       "<style scoped>\n",
       "    .dataframe tbody tr th:only-of-type {\n",
       "        vertical-align: middle;\n",
       "    }\n",
       "\n",
       "    .dataframe tbody tr th {\n",
       "        vertical-align: top;\n",
       "    }\n",
       "\n",
       "    .dataframe thead th {\n",
       "        text-align: right;\n",
       "    }\n",
       "</style>\n",
       "<table border=\"1\" class=\"dataframe\">\n",
       "  <thead>\n",
       "    <tr style=\"text-align: right;\">\n",
       "      <th></th>\n",
       "      <th>Client name</th>\n",
       "      <th>Industry</th>\n",
       "      <th>Location</th>\n",
       "      <th>Position</th>\n",
       "      <th>Skillset</th>\n",
       "      <th>Interview Type</th>\n",
       "      <th>Gender</th>\n",
       "      <th>Current Location</th>\n",
       "      <th>Candidate Job Location</th>\n",
       "      <th>Interview Venue</th>\n",
       "      <th>Native</th>\n",
       "      <th>permission</th>\n",
       "      <th>meetings</th>\n",
       "      <th>Reminder</th>\n",
       "      <th>Alternate number</th>\n",
       "      <th>Resume printout &amp; JD</th>\n",
       "      <th>Venue clear</th>\n",
       "      <th>Call letter shared</th>\n",
       "      <th>Expected Attendance</th>\n",
       "      <th>Observed Attendance</th>\n",
       "      <th>Marital Status</th>\n",
       "    </tr>\n",
       "  </thead>\n",
       "  <tbody>\n",
       "    <tr>\n",
       "      <th>0</th>\n",
       "      <td>Hospira</td>\n",
       "      <td>Pharmaceuticals</td>\n",
       "      <td>Chennai</td>\n",
       "      <td>Production- Sterile</td>\n",
       "      <td>Routine</td>\n",
       "      <td>Scheduled Walkin</td>\n",
       "      <td>Male</td>\n",
       "      <td>Chennai</td>\n",
       "      <td>Hosur</td>\n",
       "      <td>Hosur</td>\n",
       "      <td>Hosur</td>\n",
       "      <td>Yes</td>\n",
       "      <td>Yes</td>\n",
       "      <td>Yes</td>\n",
       "      <td>Yes</td>\n",
       "      <td>Yes</td>\n",
       "      <td>Yes</td>\n",
       "      <td>Yes</td>\n",
       "      <td>Yes</td>\n",
       "      <td>No</td>\n",
       "      <td>Single</td>\n",
       "    </tr>\n",
       "    <tr>\n",
       "      <th>1</th>\n",
       "      <td>Hospira</td>\n",
       "      <td>Pharmaceuticals</td>\n",
       "      <td>Chennai</td>\n",
       "      <td>Production- Sterile</td>\n",
       "      <td>Routine</td>\n",
       "      <td>Scheduled Walkin</td>\n",
       "      <td>Male</td>\n",
       "      <td>Chennai</td>\n",
       "      <td>Bangalore</td>\n",
       "      <td>Hosur</td>\n",
       "      <td>Trichy</td>\n",
       "      <td>Yes</td>\n",
       "      <td>Yes</td>\n",
       "      <td>Yes</td>\n",
       "      <td>Yes</td>\n",
       "      <td>Yes</td>\n",
       "      <td>Yes</td>\n",
       "      <td>Yes</td>\n",
       "      <td>Yes</td>\n",
       "      <td>No</td>\n",
       "      <td>Single</td>\n",
       "    </tr>\n",
       "    <tr>\n",
       "      <th>2</th>\n",
       "      <td>Hospira</td>\n",
       "      <td>Pharmaceuticals</td>\n",
       "      <td>Chennai</td>\n",
       "      <td>Production- Sterile</td>\n",
       "      <td>Routine</td>\n",
       "      <td>Scheduled Walkin</td>\n",
       "      <td>Male</td>\n",
       "      <td>Chennai</td>\n",
       "      <td>Chennai</td>\n",
       "      <td>Hosur</td>\n",
       "      <td>Chennai</td>\n",
       "      <td>NaN</td>\n",
       "      <td>Na</td>\n",
       "      <td>NaN</td>\n",
       "      <td>NaN</td>\n",
       "      <td>NaN</td>\n",
       "      <td>NaN</td>\n",
       "      <td>NaN</td>\n",
       "      <td>Uncertain</td>\n",
       "      <td>No</td>\n",
       "      <td>Single</td>\n",
       "    </tr>\n",
       "    <tr>\n",
       "      <th>3</th>\n",
       "      <td>Hospira</td>\n",
       "      <td>Pharmaceuticals</td>\n",
       "      <td>Chennai</td>\n",
       "      <td>Production- Sterile</td>\n",
       "      <td>Routine</td>\n",
       "      <td>Scheduled Walkin</td>\n",
       "      <td>Male</td>\n",
       "      <td>Chennai</td>\n",
       "      <td>Chennai</td>\n",
       "      <td>Hosur</td>\n",
       "      <td>Chennai</td>\n",
       "      <td>Yes</td>\n",
       "      <td>Yes</td>\n",
       "      <td>No</td>\n",
       "      <td>Yes</td>\n",
       "      <td>No</td>\n",
       "      <td>Yes</td>\n",
       "      <td>Yes</td>\n",
       "      <td>Uncertain</td>\n",
       "      <td>No</td>\n",
       "      <td>Single</td>\n",
       "    </tr>\n",
       "    <tr>\n",
       "      <th>4</th>\n",
       "      <td>Hospira</td>\n",
       "      <td>Pharmaceuticals</td>\n",
       "      <td>Chennai</td>\n",
       "      <td>Production- Sterile</td>\n",
       "      <td>Routine</td>\n",
       "      <td>Scheduled Walkin</td>\n",
       "      <td>Male</td>\n",
       "      <td>Chennai</td>\n",
       "      <td>Bangalore</td>\n",
       "      <td>Hosur</td>\n",
       "      <td>Chennai</td>\n",
       "      <td>Yes</td>\n",
       "      <td>Yes</td>\n",
       "      <td>Yes</td>\n",
       "      <td>No</td>\n",
       "      <td>Yes</td>\n",
       "      <td>Yes</td>\n",
       "      <td>Yes</td>\n",
       "      <td>Uncertain</td>\n",
       "      <td>No</td>\n",
       "      <td>Married</td>\n",
       "    </tr>\n",
       "  </tbody>\n",
       "</table>\n",
       "</div>"
      ],
      "text/plain": [
       "  Client name         Industry Location             Position Skillset  \\\n",
       "0     Hospira  Pharmaceuticals  Chennai  Production- Sterile  Routine   \n",
       "1     Hospira  Pharmaceuticals  Chennai  Production- Sterile  Routine   \n",
       "2     Hospira  Pharmaceuticals  Chennai  Production- Sterile  Routine   \n",
       "3     Hospira  Pharmaceuticals  Chennai  Production- Sterile  Routine   \n",
       "4     Hospira  Pharmaceuticals  Chennai  Production- Sterile  Routine   \n",
       "\n",
       "     Interview Type Gender Current Location Candidate Job Location  \\\n",
       "0  Scheduled Walkin   Male          Chennai                  Hosur   \n",
       "1  Scheduled Walkin   Male          Chennai              Bangalore   \n",
       "2  Scheduled Walkin   Male          Chennai                Chennai   \n",
       "3  Scheduled Walkin   Male          Chennai                Chennai   \n",
       "4  Scheduled Walkin   Male          Chennai              Bangalore   \n",
       "\n",
       "  Interview Venue   Native permission meetings Reminder Alternate number  \\\n",
       "0           Hosur    Hosur        Yes      Yes      Yes              Yes   \n",
       "1           Hosur   Trichy        Yes      Yes      Yes              Yes   \n",
       "2           Hosur  Chennai        NaN       Na      NaN              NaN   \n",
       "3           Hosur  Chennai        Yes      Yes       No              Yes   \n",
       "4           Hosur  Chennai        Yes      Yes      Yes               No   \n",
       "\n",
       "  Resume printout & JD Venue clear Call letter shared Expected Attendance  \\\n",
       "0                  Yes         Yes                Yes                 Yes   \n",
       "1                  Yes         Yes                Yes                 Yes   \n",
       "2                  NaN         NaN                NaN           Uncertain   \n",
       "3                   No         Yes                Yes           Uncertain   \n",
       "4                  Yes         Yes                Yes           Uncertain   \n",
       "\n",
       "  Observed Attendance Marital Status  \n",
       "0                  No         Single  \n",
       "1                  No         Single  \n",
       "2                  No         Single  \n",
       "3                  No         Single  \n",
       "4                  No        Married  "
      ]
     },
     "execution_count": 11,
     "metadata": {},
     "output_type": "execute_result"
    }
   ],
   "source": [
    "data1.head()"
   ]
  },
  {
   "cell_type": "code",
   "execution_count": 12,
   "metadata": {},
   "outputs": [
    {
     "data": {
      "text/html": [
       "<div>\n",
       "<style scoped>\n",
       "    .dataframe tbody tr th:only-of-type {\n",
       "        vertical-align: middle;\n",
       "    }\n",
       "\n",
       "    .dataframe tbody tr th {\n",
       "        vertical-align: top;\n",
       "    }\n",
       "\n",
       "    .dataframe thead th {\n",
       "        text-align: right;\n",
       "    }\n",
       "</style>\n",
       "<table border=\"1\" class=\"dataframe\">\n",
       "  <thead>\n",
       "    <tr style=\"text-align: right;\">\n",
       "      <th></th>\n",
       "      <th>Client name</th>\n",
       "      <th>Industry</th>\n",
       "      <th>Location</th>\n",
       "      <th>Position</th>\n",
       "      <th>Skillset</th>\n",
       "      <th>Interview Type</th>\n",
       "      <th>Gender</th>\n",
       "      <th>Current Location</th>\n",
       "      <th>Candidate Job Location</th>\n",
       "      <th>Interview Venue</th>\n",
       "      <th>Native</th>\n",
       "      <th>permission</th>\n",
       "      <th>meetings</th>\n",
       "      <th>Reminder</th>\n",
       "      <th>Alternate number</th>\n",
       "      <th>Resume printout &amp; JD</th>\n",
       "      <th>Venue clear</th>\n",
       "      <th>Call letter shared</th>\n",
       "      <th>Expected Attendance</th>\n",
       "      <th>Observed Attendance</th>\n",
       "      <th>Marital Status</th>\n",
       "    </tr>\n",
       "  </thead>\n",
       "  <tbody>\n",
       "    <tr>\n",
       "      <th>1227</th>\n",
       "      <td>Pfizer</td>\n",
       "      <td>Pharmaceuticals</td>\n",
       "      <td>Chennai</td>\n",
       "      <td>Niche</td>\n",
       "      <td>generic drugs – RA</td>\n",
       "      <td>Scheduled</td>\n",
       "      <td>Male</td>\n",
       "      <td>Chennai</td>\n",
       "      <td>Chennai</td>\n",
       "      <td>Chennai</td>\n",
       "      <td>Bangalore</td>\n",
       "      <td>Yes</td>\n",
       "      <td>Yes</td>\n",
       "      <td>Yes</td>\n",
       "      <td>Yes</td>\n",
       "      <td>Yes</td>\n",
       "      <td>Yes</td>\n",
       "      <td>Yes</td>\n",
       "      <td>Yes</td>\n",
       "      <td>Yes</td>\n",
       "      <td>Married</td>\n",
       "    </tr>\n",
       "    <tr>\n",
       "      <th>1228</th>\n",
       "      <td>Pfizer</td>\n",
       "      <td>Pharmaceuticals</td>\n",
       "      <td>Chennai</td>\n",
       "      <td>Niche</td>\n",
       "      <td>Biosimiliars</td>\n",
       "      <td>Scheduled</td>\n",
       "      <td>Male</td>\n",
       "      <td>Chennai</td>\n",
       "      <td>Chennai</td>\n",
       "      <td>Chennai</td>\n",
       "      <td>Hyderabad</td>\n",
       "      <td>Yes</td>\n",
       "      <td>Yes</td>\n",
       "      <td>Yes</td>\n",
       "      <td>Yes</td>\n",
       "      <td>Yes</td>\n",
       "      <td>Yes</td>\n",
       "      <td>Yes</td>\n",
       "      <td>Yes</td>\n",
       "      <td>Yes</td>\n",
       "      <td>Single</td>\n",
       "    </tr>\n",
       "    <tr>\n",
       "      <th>1229</th>\n",
       "      <td>Pfizer</td>\n",
       "      <td>Pharmaceuticals</td>\n",
       "      <td>Chennai</td>\n",
       "      <td>Niche</td>\n",
       "      <td>Biosimiliars</td>\n",
       "      <td>Scheduled</td>\n",
       "      <td>Male</td>\n",
       "      <td>Chennai</td>\n",
       "      <td>Chennai</td>\n",
       "      <td>Chennai</td>\n",
       "      <td>Hyderabad</td>\n",
       "      <td>Yes</td>\n",
       "      <td>Yes</td>\n",
       "      <td>Yes</td>\n",
       "      <td>Yes</td>\n",
       "      <td>Yes</td>\n",
       "      <td>Yes</td>\n",
       "      <td>Yes</td>\n",
       "      <td>Yes</td>\n",
       "      <td>Yes</td>\n",
       "      <td>Married</td>\n",
       "    </tr>\n",
       "    <tr>\n",
       "      <th>1230</th>\n",
       "      <td>Pfizer</td>\n",
       "      <td>Pharmaceuticals</td>\n",
       "      <td>Chennai</td>\n",
       "      <td>Niche</td>\n",
       "      <td>generic drugs – RA</td>\n",
       "      <td>Scheduled</td>\n",
       "      <td>Male</td>\n",
       "      <td>Chennai</td>\n",
       "      <td>Chennai</td>\n",
       "      <td>Chennai</td>\n",
       "      <td>Chennai</td>\n",
       "      <td>Yes</td>\n",
       "      <td>Yes</td>\n",
       "      <td>Yes</td>\n",
       "      <td>Yes</td>\n",
       "      <td>Yes</td>\n",
       "      <td>Yes</td>\n",
       "      <td>Yes</td>\n",
       "      <td>Yes</td>\n",
       "      <td>Yes</td>\n",
       "      <td>Single</td>\n",
       "    </tr>\n",
       "    <tr>\n",
       "      <th>1231</th>\n",
       "      <td>Pfizer</td>\n",
       "      <td>Pharmaceuticals</td>\n",
       "      <td>Chennai</td>\n",
       "      <td>Niche</td>\n",
       "      <td>generic drugs – RA</td>\n",
       "      <td>Scheduled</td>\n",
       "      <td>Female</td>\n",
       "      <td>Chennai</td>\n",
       "      <td>Chennai</td>\n",
       "      <td>Chennai</td>\n",
       "      <td>Kolkata</td>\n",
       "      <td>NaN</td>\n",
       "      <td>NaN</td>\n",
       "      <td>NaN</td>\n",
       "      <td>NaN</td>\n",
       "      <td>NaN</td>\n",
       "      <td>NaN</td>\n",
       "      <td>NaN</td>\n",
       "      <td>Uncertain</td>\n",
       "      <td>Yes</td>\n",
       "      <td>Single</td>\n",
       "    </tr>\n",
       "  </tbody>\n",
       "</table>\n",
       "</div>"
      ],
      "text/plain": [
       "     Client name         Industry Location Position            Skillset  \\\n",
       "1227      Pfizer  Pharmaceuticals  Chennai    Niche  generic drugs – RA   \n",
       "1228      Pfizer  Pharmaceuticals  Chennai    Niche        Biosimiliars   \n",
       "1229      Pfizer  Pharmaceuticals  Chennai    Niche        Biosimiliars   \n",
       "1230      Pfizer  Pharmaceuticals  Chennai    Niche  generic drugs – RA   \n",
       "1231      Pfizer  Pharmaceuticals  Chennai    Niche  generic drugs – RA   \n",
       "\n",
       "     Interview Type  Gender Current Location Candidate Job Location  \\\n",
       "1227     Scheduled     Male          Chennai                Chennai   \n",
       "1228     Scheduled     Male          Chennai                Chennai   \n",
       "1229     Scheduled     Male          Chennai                Chennai   \n",
       "1230     Scheduled     Male          Chennai                Chennai   \n",
       "1231     Scheduled   Female          Chennai                Chennai   \n",
       "\n",
       "     Interview Venue     Native permission meetings Reminder Alternate number  \\\n",
       "1227         Chennai  Bangalore        Yes      Yes      Yes              Yes   \n",
       "1228         Chennai  Hyderabad        Yes      Yes      Yes              Yes   \n",
       "1229         Chennai  Hyderabad        Yes      Yes      Yes              Yes   \n",
       "1230         Chennai    Chennai        Yes      Yes      Yes              Yes   \n",
       "1231         Chennai    Kolkata        NaN      NaN      NaN              NaN   \n",
       "\n",
       "     Resume printout & JD Venue clear Call letter shared Expected Attendance  \\\n",
       "1227                  Yes         Yes                Yes                 Yes   \n",
       "1228                  Yes         Yes                Yes                 Yes   \n",
       "1229                  Yes         Yes                Yes                 Yes   \n",
       "1230                  Yes         Yes                Yes                 Yes   \n",
       "1231                  NaN         NaN                NaN           Uncertain   \n",
       "\n",
       "     Observed Attendance Marital Status  \n",
       "1227                 Yes        Married  \n",
       "1228                 Yes         Single  \n",
       "1229                 Yes        Married  \n",
       "1230                 Yes         Single  \n",
       "1231                 Yes         Single  "
      ]
     },
     "execution_count": 12,
     "metadata": {},
     "output_type": "execute_result"
    }
   ],
   "source": [
    "data1.tail()"
   ]
  },
  {
   "cell_type": "markdown",
   "metadata": {},
   "source": [
    "###  Question: Remove missing values from the data frame if any"
   ]
  },
  {
   "cell_type": "code",
   "execution_count": 13,
   "metadata": {},
   "outputs": [
    {
     "data": {
      "text/plain": [
       "Client name                 0\n",
       "Industry                    0\n",
       "Location                    0\n",
       "Position                    0\n",
       "Skillset                    0\n",
       "Interview Type              0\n",
       "Gender                      0\n",
       "Current Location            0\n",
       "Candidate Job Location      0\n",
       "Interview Venue             0\n",
       "Native                      0\n",
       "permission                204\n",
       "meetings                  247\n",
       "Reminder                  247\n",
       "Alternate number          247\n",
       "Resume printout & JD      248\n",
       "Venue clear               248\n",
       "Call letter shared        245\n",
       "Expected Attendance         5\n",
       "Observed Attendance         0\n",
       "Marital Status              0\n",
       "dtype: int64"
      ]
     },
     "execution_count": 13,
     "metadata": {},
     "output_type": "execute_result"
    }
   ],
   "source": [
    "data1.isna().sum()"
   ]
  },
  {
   "cell_type": "code",
   "execution_count": 14,
   "metadata": {},
   "outputs": [
    {
     "data": {
      "text/plain": [
       "Standard Chartered Bank            903\n",
       "Pfizer                              75\n",
       "Hospira                             75\n",
       "Aon Hewitt                          28\n",
       "Flextronics                         23\n",
       "ANZ                                 22\n",
       "Hewitt                              20\n",
       "UST                                 18\n",
       "Standard Chartered Bank Chennai     17\n",
       "Prodapt                             17\n",
       "Astrazeneca                         15\n",
       "Williams Lea                        11\n",
       "Barclays                             5\n",
       "Aon hewitt Gurgaon                   2\n",
       "Woori Bank                           1\n",
       "Name: Client name, dtype: int64"
      ]
     },
     "execution_count": 14,
     "metadata": {},
     "output_type": "execute_result"
    }
   ],
   "source": [
    "# Let's look at CLient Name \n",
    "data1['Client name'].value_counts()"
   ]
  },
  {
   "cell_type": "code",
   "execution_count": 15,
   "metadata": {},
   "outputs": [],
   "source": [
    "data1.replace(['Standard Chartered Bank Chennai', 'Aon hewitt Gurgaon', 'Hewitt'],['Standard Chartered Bank','Aon Hewitt','Aon Hewitt'], inplace=True)\n"
   ]
  },
  {
   "cell_type": "code",
   "execution_count": 16,
   "metadata": {},
   "outputs": [],
   "source": [
    "# data1['Client name'].value_counts()"
   ]
  },
  {
   "cell_type": "code",
   "execution_count": 17,
   "metadata": {},
   "outputs": [
    {
     "data": {
      "text/plain": [
       "BFSI                        948\n",
       "Pharmaceuticals             165\n",
       "IT Products and Services     45\n",
       "Electronics                  23\n",
       "IT Services                  23\n",
       "Telecom                      17\n",
       "IT                           11\n",
       "Name: Industry, dtype: int64"
      ]
     },
     "execution_count": 17,
     "metadata": {},
     "output_type": "execute_result"
    }
   ],
   "source": [
    "# industry \n",
    "data1['Industry'].value_counts()"
   ]
  },
  {
   "cell_type": "code",
   "execution_count": 18,
   "metadata": {},
   "outputs": [],
   "source": [
    "data1.replace(['IT Services', 'IT'],['IT Products and Services','IT Products and Services'], inplace=True)"
   ]
  },
  {
   "cell_type": "code",
   "execution_count": 19,
   "metadata": {},
   "outputs": [
    {
     "data": {
      "text/plain": [
       "BFSI                        948\n",
       "Pharmaceuticals             165\n",
       "IT Products and Services     79\n",
       "Electronics                  23\n",
       "Telecom                      17\n",
       "Name: Industry, dtype: int64"
      ]
     },
     "execution_count": 19,
     "metadata": {},
     "output_type": "execute_result"
    }
   ],
   "source": [
    "data1['Industry'].value_counts()"
   ]
  },
  {
   "cell_type": "code",
   "execution_count": 20,
   "metadata": {},
   "outputs": [
    {
     "data": {
      "text/plain": [
       "Chennai       754\n",
       "Bangalore     291\n",
       "chennai        86\n",
       "Hyderabad      38\n",
       "Gurgaon        33\n",
       "Noida          15\n",
       "- Cochin-       9\n",
       "chennai         3\n",
       "CHENNAI         1\n",
       "Delhi           1\n",
       "Gurgaonr        1\n",
       "Name: Location, dtype: int64"
      ]
     },
     "execution_count": 20,
     "metadata": {},
     "output_type": "execute_result"
    }
   ],
   "source": [
    "# Location\n",
    "data1['Location'].value_counts()"
   ]
  },
  {
   "cell_type": "markdown",
   "metadata": {},
   "source": [
    "As we can see there are few cities names which are repeated but with different naming conventions. So wil club them into one"
   ]
  },
  {
   "cell_type": "code",
   "execution_count": 21,
   "metadata": {},
   "outputs": [],
   "source": [
    "data1.replace(['- Cochin- ', 'chennai', 'CHENNAI', 'Gurgaonr'],['Cochin','Chennai', 'Chennai','Gurgaon'], inplace=True)"
   ]
  },
  {
   "cell_type": "code",
   "execution_count": 22,
   "metadata": {},
   "outputs": [
    {
     "data": {
      "text/plain": [
       "Chennai      841\n",
       "Bangalore    291\n",
       "Hyderabad     38\n",
       "Gurgaon       34\n",
       "Noida         15\n",
       "Cochin         9\n",
       "chennai        3\n",
       "Delhi          1\n",
       "Name: Location, dtype: int64"
      ]
     },
     "execution_count": 22,
     "metadata": {},
     "output_type": "execute_result"
    }
   ],
   "source": [
    "data1['Location'].value_counts()"
   ]
  },
  {
   "cell_type": "code",
   "execution_count": 23,
   "metadata": {},
   "outputs": [
    {
     "data": {
      "text/plain": [
       "Routine                1022\n",
       "Niche                   163\n",
       "Dot Net                  18\n",
       "Trade Finance            11\n",
       "AML                       8\n",
       "Production- Sterile       5\n",
       "Selenium testing          5\n",
       "Name: Position, dtype: int64"
      ]
     },
     "execution_count": 23,
     "metadata": {},
     "output_type": "execute_result"
    }
   ],
   "source": [
    "# Position\n",
    "data1['Position'].value_counts()"
   ]
  },
  {
   "cell_type": "markdown",
   "metadata": {},
   "source": [
    "Position Columns values looks perfect and do not require any changes "
   ]
  },
  {
   "cell_type": "code",
   "execution_count": 24,
   "metadata": {},
   "outputs": [
    {
     "data": {
      "text/plain": [
       "Scheduled Walk In    456\n",
       "Scheduled            370\n",
       "Walkin               189\n",
       "Scheduled Walkin     189\n",
       "Walkin                27\n",
       "Sceduled walkin        1\n",
       "Name: Interview Type, dtype: int64"
      ]
     },
     "execution_count": 24,
     "metadata": {},
     "output_type": "execute_result"
    }
   ],
   "source": [
    "data1['Interview Type'].value_counts()"
   ]
  },
  {
   "cell_type": "code",
   "execution_count": 25,
   "metadata": {},
   "outputs": [],
   "source": [
    "data1.replace(['Scheduled Walkin', 'Walkin ', 'Sceduled walkin'],['Scheduled Walk In','Walkin', 'Scheduled Walk In'], inplace=True)"
   ]
  },
  {
   "cell_type": "code",
   "execution_count": 26,
   "metadata": {},
   "outputs": [
    {
     "data": {
      "text/plain": [
       "Scheduled Walk In    646\n",
       "Scheduled            370\n",
       "Walkin               216\n",
       "Name: Interview Type, dtype: int64"
      ]
     },
     "execution_count": 26,
     "metadata": {},
     "output_type": "execute_result"
    }
   ],
   "source": [
    "data1['Interview Type'].value_counts()"
   ]
  },
  {
   "cell_type": "code",
   "execution_count": 27,
   "metadata": {},
   "outputs": [
    {
     "data": {
      "text/plain": [
       "Male      964\n",
       "Female    268\n",
       "Name: Gender, dtype: int64"
      ]
     },
     "execution_count": 27,
     "metadata": {},
     "output_type": "execute_result"
    }
   ],
   "source": [
    "data1['Gender'].value_counts()"
   ]
  },
  {
   "cell_type": "markdown",
   "metadata": {},
   "source": [
    "No changes are requried fro Gender column"
   ]
  },
  {
   "cell_type": "code",
   "execution_count": 28,
   "metadata": {},
   "outputs": [
    {
     "data": {
      "text/plain": [
       "Chennai      841\n",
       "Bangalore    291\n",
       "Hyderabad     38\n",
       "Gurgaon       34\n",
       "Noida         15\n",
       "Cochin         9\n",
       "chennai        3\n",
       "Delhi          1\n",
       "Name: Current Location, dtype: int64"
      ]
     },
     "execution_count": 28,
     "metadata": {},
     "output_type": "execute_result"
    }
   ],
   "source": [
    "data1['Current Location'].value_counts()"
   ]
  },
  {
   "cell_type": "markdown",
   "metadata": {},
   "source": [
    "No changes are requried fro 'Currebt Location' column"
   ]
  },
  {
   "cell_type": "code",
   "execution_count": 29,
   "metadata": {},
   "outputs": [
    {
     "data": {
      "text/plain": [
       "Chennai          893\n",
       "Bangalore        258\n",
       "Gurgaon           35\n",
       "Visakapatinam     21\n",
       "Noida             15\n",
       "Cochin             9\n",
       "Hosur              1\n",
       "Name: Candidate Job Location, dtype: int64"
      ]
     },
     "execution_count": 29,
     "metadata": {},
     "output_type": "execute_result"
    }
   ],
   "source": [
    "data1['Candidate Job Location'].value_counts()"
   ]
  },
  {
   "cell_type": "markdown",
   "metadata": {},
   "source": [
    "No changes are requried fro 'Candidate job Location' column"
   ]
  },
  {
   "cell_type": "code",
   "execution_count": 30,
   "metadata": {},
   "outputs": [
    {
     "data": {
      "text/plain": [
       "Chennai      852\n",
       "Bangalore    276\n",
       "Hyderabad     40\n",
       "Gurgaon       35\n",
       "Noida         15\n",
       "Cochin         9\n",
       "Hosur          5\n",
       "Name: Interview Venue, dtype: int64"
      ]
     },
     "execution_count": 30,
     "metadata": {},
     "output_type": "execute_result"
    }
   ],
   "source": [
    "data1['Interview Venue'].value_counts()"
   ]
  },
  {
   "cell_type": "code",
   "execution_count": 31,
   "metadata": {},
   "outputs": [
    {
     "data": {
      "text/plain": [
       "Chennai          595\n",
       "Hyderabad        172\n",
       "Bangalore        151\n",
       "Cochin            29\n",
       "Gurgaon           26\n",
       "Cuttack           25\n",
       "Pune              22\n",
       "Coimbatore        21\n",
       "Allahabad         20\n",
       "Noida             17\n",
       "Nagercoil         16\n",
       "Visakapatinam     16\n",
       "Trivandrum        14\n",
       "Kolkata           14\n",
       "Trichy            13\n",
       "Vellore           12\n",
       "Mumbai             7\n",
       "Chitoor            6\n",
       "Chandigarh         5\n",
       "Ahmedabad          5\n",
       "Pondicherry        5\n",
       "Vijayawada         4\n",
       "Delhi              4\n",
       "Hosur              3\n",
       "Tirupati           3\n",
       "Salem              3\n",
       "Warangal           3\n",
       "Ambur              2\n",
       "Patna              2\n",
       "Delhi /NCR         2\n",
       "Agra               1\n",
       "Tanjore            1\n",
       "Anantapur          1\n",
       "Lucknow            1\n",
       "Kurnool            1\n",
       "Ghaziabad          1\n",
       "Baddi              1\n",
       "Bhubaneshwar       1\n",
       "Tuticorin          1\n",
       "Belgaum            1\n",
       "Kanpur             1\n",
       "Hissar             1\n",
       "Panjim             1\n",
       "Mysore             1\n",
       "Faizabad           1\n",
       "Name: Native, dtype: int64"
      ]
     },
     "execution_count": 31,
     "metadata": {},
     "output_type": "execute_result"
    }
   ],
   "source": [
    "data1['Native'].value_counts()"
   ]
  },
  {
   "cell_type": "code",
   "execution_count": 32,
   "metadata": {},
   "outputs": [
    {
     "data": {
      "text/plain": [
       "Yes               917\n",
       "No                 79\n",
       "Not yet            18\n",
       "Na                  5\n",
       "yes                 4\n",
       "Yet to confirm      4\n",
       "NO                  1\n",
       "Name: permission, dtype: int64"
      ]
     },
     "execution_count": 32,
     "metadata": {},
     "output_type": "execute_result"
    }
   ],
   "source": [
    "data1['permission'].value_counts()"
   ]
  },
  {
   "cell_type": "code",
   "execution_count": 33,
   "metadata": {},
   "outputs": [],
   "source": [
    "data1.replace(['NO', 'yes', 'Not yet'],['No', 'Yes', 'No'], inplace=True)"
   ]
  },
  {
   "cell_type": "code",
   "execution_count": 34,
   "metadata": {},
   "outputs": [
    {
     "data": {
      "text/plain": [
       "Yes               921\n",
       "No                 98\n",
       "Na                  5\n",
       "Yet to confirm      4\n",
       "Name: permission, dtype: int64"
      ]
     },
     "execution_count": 34,
     "metadata": {},
     "output_type": "execute_result"
    }
   ],
   "source": [
    "data1['permission'].value_counts()"
   ]
  },
  {
   "cell_type": "code",
   "execution_count": 35,
   "metadata": {},
   "outputs": [
    {
     "data": {
      "text/plain": [
       "Yes         953\n",
       "Na           20\n",
       "No            6\n",
       "Not sure      4\n",
       "Not Sure      1\n",
       "cant Say      1\n",
       "Name: meetings, dtype: int64"
      ]
     },
     "execution_count": 35,
     "metadata": {},
     "output_type": "execute_result"
    }
   ],
   "source": [
    "data1['meetings'].value_counts()"
   ]
  },
  {
   "cell_type": "code",
   "execution_count": 36,
   "metadata": {},
   "outputs": [],
   "source": [
    "data1.replace(['cant Say', 'Not sure', 'Not Sure'],['No', 'No', 'No'], inplace=True)"
   ]
  },
  {
   "cell_type": "code",
   "execution_count": 37,
   "metadata": {},
   "outputs": [
    {
     "data": {
      "text/plain": [
       "Yes    953\n",
       "Na      20\n",
       "No      12\n",
       "Name: meetings, dtype: int64"
      ]
     },
     "execution_count": 37,
     "metadata": {},
     "output_type": "execute_result"
    }
   ],
   "source": [
    "data1['meetings'].value_counts()"
   ]
  },
  {
   "cell_type": "code",
   "execution_count": 38,
   "metadata": {},
   "outputs": [
    {
     "data": {
      "text/plain": [
       "Yes        954\n",
       "Na          20\n",
       "No          10\n",
       "No Dont      1\n",
       "Name: Reminder, dtype: int64"
      ]
     },
     "execution_count": 38,
     "metadata": {},
     "output_type": "execute_result"
    }
   ],
   "source": [
    "data1['Reminder'].value_counts()"
   ]
  },
  {
   "cell_type": "code",
   "execution_count": 39,
   "metadata": {},
   "outputs": [],
   "source": [
    "data1.replace(['No Dont'],['No'], inplace=True)"
   ]
  },
  {
   "cell_type": "code",
   "execution_count": 40,
   "metadata": {},
   "outputs": [
    {
     "data": {
      "text/plain": [
       "Yes                          936\n",
       "No                            27\n",
       "Na                            19\n",
       "No I have only thi number      2\n",
       "na                             1\n",
       "Name: Alternate number, dtype: int64"
      ]
     },
     "execution_count": 40,
     "metadata": {},
     "output_type": "execute_result"
    }
   ],
   "source": [
    "data1['Alternate number'].value_counts()"
   ]
  },
  {
   "cell_type": "code",
   "execution_count": 41,
   "metadata": {},
   "outputs": [],
   "source": [
    "data1.replace(['No I have only thi number','na'],['No','Na'], inplace=True)"
   ]
  },
  {
   "cell_type": "code",
   "execution_count": 42,
   "metadata": {},
   "outputs": [
    {
     "data": {
      "text/plain": [
       "Yes                      941\n",
       "Na                        20\n",
       "No                        18\n",
       "Not Yet                    4\n",
       "No- will take it soon      1\n",
       "Name: Resume printout & JD, dtype: int64"
      ]
     },
     "execution_count": 42,
     "metadata": {},
     "output_type": "execute_result"
    }
   ],
   "source": [
    "data1['Resume printout & JD'].value_counts()"
   ]
  },
  {
   "cell_type": "code",
   "execution_count": 43,
   "metadata": {},
   "outputs": [],
   "source": [
    "data1.replace(['Not Yet','No- will take it soon'],['No','No'], inplace=True)"
   ]
  },
  {
   "cell_type": "code",
   "execution_count": 44,
   "metadata": {},
   "outputs": [
    {
     "data": {
      "text/plain": [
       "Yes    941\n",
       "No      23\n",
       "Na      20\n",
       "Name: Resume printout & JD, dtype: int64"
      ]
     },
     "execution_count": 44,
     "metadata": {},
     "output_type": "execute_result"
    }
   ],
   "source": [
    "data1['Resume printout & JD'].value_counts()"
   ]
  },
  {
   "cell_type": "code",
   "execution_count": 45,
   "metadata": {},
   "outputs": [
    {
     "data": {
      "text/plain": [
       "Yes                    948\n",
       "Na                      20\n",
       "No                      14\n",
       "No- I need to check      2\n",
       "Name: Venue clear, dtype: int64"
      ]
     },
     "execution_count": 45,
     "metadata": {},
     "output_type": "execute_result"
    }
   ],
   "source": [
    "data1['Venue clear'].value_counts()"
   ]
  },
  {
   "cell_type": "code",
   "execution_count": 46,
   "metadata": {},
   "outputs": [],
   "source": [
    "data1.replace(['No- I need to check'],['No'], inplace=True)"
   ]
  },
  {
   "cell_type": "code",
   "execution_count": 47,
   "metadata": {},
   "outputs": [
    {
     "data": {
      "text/plain": [
       "Yes               933\n",
       "No                 28\n",
       "Na                 20\n",
       "Need To Check       3\n",
       "Yet to Check        1\n",
       "Havent Checked      1\n",
       "no                  1\n",
       "Name: Call letter shared, dtype: int64"
      ]
     },
     "execution_count": 47,
     "metadata": {},
     "output_type": "execute_result"
    }
   ],
   "source": [
    "data1['Call letter shared'].value_counts()"
   ]
  },
  {
   "cell_type": "code",
   "execution_count": 48,
   "metadata": {},
   "outputs": [],
   "source": [
    "data1.replace(['Need To Check','Havent Checked', 'Yet to Check', 'no'],['No', 'No', 'No', 'No'], inplace=True)"
   ]
  },
  {
   "cell_type": "code",
   "execution_count": 49,
   "metadata": {},
   "outputs": [
    {
     "data": {
      "text/plain": [
       "Yes          883\n",
       "Uncertain    250\n",
       "No            93\n",
       "10.30 Am       1\n",
       "Name: Expected Attendance, dtype: int64"
      ]
     },
     "execution_count": 49,
     "metadata": {},
     "output_type": "execute_result"
    }
   ],
   "source": [
    "data1['Expected Attendance'].value_counts()"
   ]
  },
  {
   "cell_type": "code",
   "execution_count": 50,
   "metadata": {},
   "outputs": [],
   "source": [
    "data1.replace(['10.30 Am'],['No'], inplace=True)"
   ]
  },
  {
   "cell_type": "code",
   "execution_count": 51,
   "metadata": {},
   "outputs": [
    {
     "data": {
      "text/plain": [
       "Yes     781\n",
       "No      443\n",
       "No        6\n",
       "no        1\n",
       "yes       1\n",
       "Name: Observed Attendance, dtype: int64"
      ]
     },
     "execution_count": 51,
     "metadata": {},
     "output_type": "execute_result"
    }
   ],
   "source": [
    "data1['Observed Attendance'].value_counts()"
   ]
  },
  {
   "cell_type": "code",
   "execution_count": 52,
   "metadata": {},
   "outputs": [],
   "source": [
    "data1.replace(['No ','no ', 'yes '],['No', 'No', 'Yes'], inplace=True)"
   ]
  },
  {
   "cell_type": "code",
   "execution_count": 53,
   "metadata": {},
   "outputs": [
    {
     "data": {
      "text/plain": [
       "Yes    782\n",
       "No     450\n",
       "Name: Observed Attendance, dtype: int64"
      ]
     },
     "execution_count": 53,
     "metadata": {},
     "output_type": "execute_result"
    }
   ],
   "source": [
    "data1['Observed Attendance'].value_counts()"
   ]
  },
  {
   "cell_type": "code",
   "execution_count": 54,
   "metadata": {},
   "outputs": [
    {
     "name": "stdout",
     "output_type": "stream",
     "text": [
      "<class 'pandas.core.frame.DataFrame'>\n",
      "RangeIndex: 1232 entries, 0 to 1231\n",
      "Data columns (total 21 columns):\n",
      "Client name               1232 non-null object\n",
      "Industry                  1232 non-null object\n",
      "Location                  1232 non-null object\n",
      "Position                  1232 non-null object\n",
      "Skillset                  1232 non-null object\n",
      "Interview Type            1232 non-null object\n",
      "Gender                    1232 non-null object\n",
      "Current Location          1232 non-null object\n",
      "Candidate Job Location    1232 non-null object\n",
      "Interview Venue           1232 non-null object\n",
      "Native                    1232 non-null object\n",
      "permission                1028 non-null object\n",
      "meetings                  985 non-null object\n",
      "Reminder                  985 non-null object\n",
      "Alternate number          985 non-null object\n",
      "Resume printout & JD      984 non-null object\n",
      "Venue clear               984 non-null object\n",
      "Call letter shared        987 non-null object\n",
      "Expected Attendance       1227 non-null object\n",
      "Observed Attendance       1232 non-null object\n",
      "Marital Status            1232 non-null object\n",
      "dtypes: object(21)\n",
      "memory usage: 202.2+ KB\n"
     ]
    }
   ],
   "source": [
    "data1.info()"
   ]
  },
  {
   "cell_type": "code",
   "execution_count": 80,
   "metadata": {},
   "outputs": [],
   "source": [
    "data1.to_csv(\"Interview_clean.csv\")"
   ]
  },
  {
   "cell_type": "code",
   "execution_count": 55,
   "metadata": {},
   "outputs": [],
   "source": [
    "# # Printing the Unique values in a particular column\n",
    "# missing_col = ['permission', 'meetings', 'Reminder', 'Alternate number', 'Resume printout & JD', 'Venue clear', 'Call letter shared', 'Expected Attendance']\n",
    "# for col in missing_col:\n",
    "#     print(col + \" Column name :: \" + str(data1[col].unique()))\n"
   ]
  },
  {
   "cell_type": "markdown",
   "metadata": {},
   "source": [
    "Since the last record was made on 2016 \n",
    "1. we will replace the Permission missing values with 'No'\n",
    "2. we will replace the Meeting missing values with 'Can't say'\n",
    "3. Since the candidate haven't specified we will replace the Reminder missing values with 'No' \n",
    "4. Since the candidate haven't specified we will replace the Alternative Number missing values with 'No' \n",
    "5.If there is ne entry made will consider the candiate not instereted in interview and haven't read the JD deatils"
   ]
  },
  {
   "cell_type": "code",
   "execution_count": 56,
   "metadata": {},
   "outputs": [],
   "source": [
    "# data1.loc[data1['Expected Attendance']=='10.30 Am']"
   ]
  },
  {
   "cell_type": "code",
   "execution_count": 57,
   "metadata": {},
   "outputs": [],
   "source": [
    "# data1[['permission']] = data1[['permission']].replace(to_replace={'na':'No','Na':'No',np.nan:'No', 'NO':'No', 'yes':'Yes'})\n",
    "# data1[['meetings']] = data1[['meetings']].replace(to_replace={'Na':'cant Say',np.nan:'cant Say','na':'No', 'yes':'Yes'})\n",
    "# data1[['Reminder']] = data1[['Reminder']].replace(to_replace={'Na':'No',np.nan:'No','NO':'No', 'yes':'Yes','na':'No'})\n",
    "# data1[['Alternate number']] = data1[['Alternate number']].replace(to_replace={'Na':'No',np.nan:'No', 'NO':'No', 'yes':'Yes','na':'No'})\n",
    "# data1[['Resume printout & JD']] = data1[['Resume printout & JD']].replace(to_replace={'Na':'No',np.nan:'No', 'NO':'No', 'yes':'Yes','na':'No'})\n",
    "# data1[['Venue clear']] = data1[['Venue clear']].replace(to_replace={'Na':'No',np.nan:'No','NO':'No', 'yes':'Yes','na':'No'})\n",
    "# data1[['Call letter shared']] = data1[['Call letter shared']].replace(to_replace={'Na':'No',np.nan:'No', 'no':'No', 'yes':'Yes','na':'No'})\n",
    "# data1[['Expected Attendance']] = data1[['Expected Attendance']].replace(to_replace={'Na':'No',np.nan:'No','NO':'No', 'yes':'Yes', '10.30 Am':'Yes','na':'No'})\n",
    "# data1[['Observed Attendance']] = data1[['Observed Attendance']].replace(to_replace={'Na':'No',np.nan:'No','no':'No','NO':'No', 'no ':'No', 'No ':'No', 'yes':'Yes', 'yes ':'Yes', '10.30 Am':'Yes','na':'No'})\n"
   ]
  },
  {
   "cell_type": "code",
   "execution_count": 58,
   "metadata": {},
   "outputs": [],
   "source": [
    "# data1.isna().sum()"
   ]
  },
  {
   "cell_type": "code",
   "execution_count": 59,
   "metadata": {},
   "outputs": [],
   "source": [
    "# # Printing the Unique values in a particular column\n",
    "\n",
    "# for col in data1.columns:\n",
    "#     print(col + \" Column name :: \" + str(data1[col].unique()))\n"
   ]
  },
  {
   "cell_type": "markdown",
   "metadata": {},
   "source": [
    "### Question: Perform EDA and find any correlation"
   ]
  },
  {
   "cell_type": "code",
   "execution_count": 60,
   "metadata": {
    "scrolled": false
   },
   "outputs": [
    {
     "data": {
      "text/html": [
       "<div>\n",
       "<style scoped>\n",
       "    .dataframe tbody tr th:only-of-type {\n",
       "        vertical-align: middle;\n",
       "    }\n",
       "\n",
       "    .dataframe tbody tr th {\n",
       "        vertical-align: top;\n",
       "    }\n",
       "\n",
       "    .dataframe thead th {\n",
       "        text-align: right;\n",
       "    }\n",
       "</style>\n",
       "<table border=\"1\" class=\"dataframe\">\n",
       "  <thead>\n",
       "    <tr style=\"text-align: right;\">\n",
       "      <th></th>\n",
       "      <th>Client name</th>\n",
       "      <th>Industry</th>\n",
       "      <th>Location</th>\n",
       "      <th>Position</th>\n",
       "      <th>Skillset</th>\n",
       "      <th>Interview Type</th>\n",
       "      <th>Gender</th>\n",
       "      <th>Current Location</th>\n",
       "      <th>Candidate Job Location</th>\n",
       "      <th>Interview Venue</th>\n",
       "      <th>Native</th>\n",
       "      <th>permission</th>\n",
       "      <th>meetings</th>\n",
       "      <th>Reminder</th>\n",
       "      <th>Alternate number</th>\n",
       "      <th>Resume printout &amp; JD</th>\n",
       "      <th>Venue clear</th>\n",
       "      <th>Call letter shared</th>\n",
       "      <th>Expected Attendance</th>\n",
       "      <th>Observed Attendance</th>\n",
       "      <th>Marital Status</th>\n",
       "    </tr>\n",
       "  </thead>\n",
       "  <tbody>\n",
       "    <tr>\n",
       "      <th>0</th>\n",
       "      <td>Hospira</td>\n",
       "      <td>Pharmaceuticals</td>\n",
       "      <td>Chennai</td>\n",
       "      <td>Production- Sterile</td>\n",
       "      <td>Routine</td>\n",
       "      <td>Scheduled Walk In</td>\n",
       "      <td>Male</td>\n",
       "      <td>Chennai</td>\n",
       "      <td>Hosur</td>\n",
       "      <td>Hosur</td>\n",
       "      <td>Hosur</td>\n",
       "      <td>Yes</td>\n",
       "      <td>Yes</td>\n",
       "      <td>Yes</td>\n",
       "      <td>Yes</td>\n",
       "      <td>Yes</td>\n",
       "      <td>Yes</td>\n",
       "      <td>Yes</td>\n",
       "      <td>Yes</td>\n",
       "      <td>No</td>\n",
       "      <td>Single</td>\n",
       "    </tr>\n",
       "    <tr>\n",
       "      <th>1</th>\n",
       "      <td>Hospira</td>\n",
       "      <td>Pharmaceuticals</td>\n",
       "      <td>Chennai</td>\n",
       "      <td>Production- Sterile</td>\n",
       "      <td>Routine</td>\n",
       "      <td>Scheduled Walk In</td>\n",
       "      <td>Male</td>\n",
       "      <td>Chennai</td>\n",
       "      <td>Bangalore</td>\n",
       "      <td>Hosur</td>\n",
       "      <td>Trichy</td>\n",
       "      <td>Yes</td>\n",
       "      <td>Yes</td>\n",
       "      <td>Yes</td>\n",
       "      <td>Yes</td>\n",
       "      <td>Yes</td>\n",
       "      <td>Yes</td>\n",
       "      <td>Yes</td>\n",
       "      <td>Yes</td>\n",
       "      <td>No</td>\n",
       "      <td>Single</td>\n",
       "    </tr>\n",
       "    <tr>\n",
       "      <th>2</th>\n",
       "      <td>Hospira</td>\n",
       "      <td>Pharmaceuticals</td>\n",
       "      <td>Chennai</td>\n",
       "      <td>Production- Sterile</td>\n",
       "      <td>Routine</td>\n",
       "      <td>Scheduled Walk In</td>\n",
       "      <td>Male</td>\n",
       "      <td>Chennai</td>\n",
       "      <td>Chennai</td>\n",
       "      <td>Hosur</td>\n",
       "      <td>Chennai</td>\n",
       "      <td>NaN</td>\n",
       "      <td>Na</td>\n",
       "      <td>NaN</td>\n",
       "      <td>NaN</td>\n",
       "      <td>NaN</td>\n",
       "      <td>NaN</td>\n",
       "      <td>NaN</td>\n",
       "      <td>Uncertain</td>\n",
       "      <td>No</td>\n",
       "      <td>Single</td>\n",
       "    </tr>\n",
       "    <tr>\n",
       "      <th>3</th>\n",
       "      <td>Hospira</td>\n",
       "      <td>Pharmaceuticals</td>\n",
       "      <td>Chennai</td>\n",
       "      <td>Production- Sterile</td>\n",
       "      <td>Routine</td>\n",
       "      <td>Scheduled Walk In</td>\n",
       "      <td>Male</td>\n",
       "      <td>Chennai</td>\n",
       "      <td>Chennai</td>\n",
       "      <td>Hosur</td>\n",
       "      <td>Chennai</td>\n",
       "      <td>Yes</td>\n",
       "      <td>Yes</td>\n",
       "      <td>No</td>\n",
       "      <td>Yes</td>\n",
       "      <td>No</td>\n",
       "      <td>Yes</td>\n",
       "      <td>Yes</td>\n",
       "      <td>Uncertain</td>\n",
       "      <td>No</td>\n",
       "      <td>Single</td>\n",
       "    </tr>\n",
       "    <tr>\n",
       "      <th>4</th>\n",
       "      <td>Hospira</td>\n",
       "      <td>Pharmaceuticals</td>\n",
       "      <td>Chennai</td>\n",
       "      <td>Production- Sterile</td>\n",
       "      <td>Routine</td>\n",
       "      <td>Scheduled Walk In</td>\n",
       "      <td>Male</td>\n",
       "      <td>Chennai</td>\n",
       "      <td>Bangalore</td>\n",
       "      <td>Hosur</td>\n",
       "      <td>Chennai</td>\n",
       "      <td>Yes</td>\n",
       "      <td>Yes</td>\n",
       "      <td>Yes</td>\n",
       "      <td>No</td>\n",
       "      <td>Yes</td>\n",
       "      <td>Yes</td>\n",
       "      <td>Yes</td>\n",
       "      <td>Uncertain</td>\n",
       "      <td>No</td>\n",
       "      <td>Married</td>\n",
       "    </tr>\n",
       "  </tbody>\n",
       "</table>\n",
       "</div>"
      ],
      "text/plain": [
       "  Client name         Industry Location             Position Skillset  \\\n",
       "0     Hospira  Pharmaceuticals  Chennai  Production- Sterile  Routine   \n",
       "1     Hospira  Pharmaceuticals  Chennai  Production- Sterile  Routine   \n",
       "2     Hospira  Pharmaceuticals  Chennai  Production- Sterile  Routine   \n",
       "3     Hospira  Pharmaceuticals  Chennai  Production- Sterile  Routine   \n",
       "4     Hospira  Pharmaceuticals  Chennai  Production- Sterile  Routine   \n",
       "\n",
       "      Interview Type Gender Current Location Candidate Job Location  \\\n",
       "0  Scheduled Walk In   Male          Chennai                  Hosur   \n",
       "1  Scheduled Walk In   Male          Chennai              Bangalore   \n",
       "2  Scheduled Walk In   Male          Chennai                Chennai   \n",
       "3  Scheduled Walk In   Male          Chennai                Chennai   \n",
       "4  Scheduled Walk In   Male          Chennai              Bangalore   \n",
       "\n",
       "  Interview Venue   Native permission meetings Reminder Alternate number  \\\n",
       "0           Hosur    Hosur        Yes      Yes      Yes              Yes   \n",
       "1           Hosur   Trichy        Yes      Yes      Yes              Yes   \n",
       "2           Hosur  Chennai        NaN       Na      NaN              NaN   \n",
       "3           Hosur  Chennai        Yes      Yes       No              Yes   \n",
       "4           Hosur  Chennai        Yes      Yes      Yes               No   \n",
       "\n",
       "  Resume printout & JD Venue clear Call letter shared Expected Attendance  \\\n",
       "0                  Yes         Yes                Yes                 Yes   \n",
       "1                  Yes         Yes                Yes                 Yes   \n",
       "2                  NaN         NaN                NaN           Uncertain   \n",
       "3                   No         Yes                Yes           Uncertain   \n",
       "4                  Yes         Yes                Yes           Uncertain   \n",
       "\n",
       "  Observed Attendance Marital Status  \n",
       "0                  No         Single  \n",
       "1                  No         Single  \n",
       "2                  No         Single  \n",
       "3                  No         Single  \n",
       "4                  No        Married  "
      ]
     },
     "execution_count": 60,
     "metadata": {},
     "output_type": "execute_result"
    }
   ],
   "source": [
    "data1.head()"
   ]
  },
  {
   "cell_type": "code",
   "execution_count": 61,
   "metadata": {},
   "outputs": [],
   "source": [
    "data1.replace(['Na'], [np.nan], inplace=True)"
   ]
  },
  {
   "cell_type": "code",
   "execution_count": 62,
   "metadata": {},
   "outputs": [],
   "source": [
    "data1 = data1.ffill().bfill()"
   ]
  },
  {
   "cell_type": "code",
   "execution_count": 63,
   "metadata": {},
   "outputs": [
    {
     "data": {
      "text/html": [
       "<div>\n",
       "<style scoped>\n",
       "    .dataframe tbody tr th:only-of-type {\n",
       "        vertical-align: middle;\n",
       "    }\n",
       "\n",
       "    .dataframe tbody tr th {\n",
       "        vertical-align: top;\n",
       "    }\n",
       "\n",
       "    .dataframe thead th {\n",
       "        text-align: right;\n",
       "    }\n",
       "</style>\n",
       "<table border=\"1\" class=\"dataframe\">\n",
       "  <thead>\n",
       "    <tr style=\"text-align: right;\">\n",
       "      <th>Observed Attendance</th>\n",
       "      <th>No</th>\n",
       "      <th>Yes</th>\n",
       "    </tr>\n",
       "    <tr>\n",
       "      <th>permission</th>\n",
       "      <th></th>\n",
       "      <th></th>\n",
       "    </tr>\n",
       "  </thead>\n",
       "  <tbody>\n",
       "    <tr>\n",
       "      <th>No</th>\n",
       "      <td>105.0</td>\n",
       "      <td>21.0</td>\n",
       "    </tr>\n",
       "    <tr>\n",
       "      <th>Yes</th>\n",
       "      <td>341.0</td>\n",
       "      <td>761.0</td>\n",
       "    </tr>\n",
       "    <tr>\n",
       "      <th>Yet to confirm</th>\n",
       "      <td>4.0</td>\n",
       "      <td>NaN</td>\n",
       "    </tr>\n",
       "  </tbody>\n",
       "</table>\n",
       "</div>"
      ],
      "text/plain": [
       "Observed Attendance     No    Yes\n",
       "permission                       \n",
       "No                   105.0   21.0\n",
       "Yes                  341.0  761.0\n",
       "Yet to confirm         4.0    NaN"
      ]
     },
     "execution_count": 63,
     "metadata": {},
     "output_type": "execute_result"
    }
   ],
   "source": [
    "ven = data1.groupby(['permission','Observed Attendance']).size().unstack()\n",
    "ven"
   ]
  },
  {
   "cell_type": "code",
   "execution_count": 64,
   "metadata": {},
   "outputs": [
    {
     "data": {
      "text/plain": [
       "<matplotlib.axes._subplots.AxesSubplot at 0x1cd1ee48358>"
      ]
     },
     "execution_count": 64,
     "metadata": {},
     "output_type": "execute_result"
    },
    {
     "data": {
      "image/png": "[encoded data removed]",
      "text/plain": [
       "<Figure size 432x288 with 1 Axes>"
      ]
     },
     "metadata": {
      "needs_background": "light"
     },
     "output_type": "display_data"
    }
   ],
   "source": [
    "ven.plot(kind = 'bar', stacked = True)"
   ]
  },
  {
   "cell_type": "code",
   "execution_count": 65,
   "metadata": {},
   "outputs": [
    {
     "data": {
      "text/html": [
       "<div>\n",
       "<style scoped>\n",
       "    .dataframe tbody tr th:only-of-type {\n",
       "        vertical-align: middle;\n",
       "    }\n",
       "\n",
       "    .dataframe tbody tr th {\n",
       "        vertical-align: top;\n",
       "    }\n",
       "\n",
       "    .dataframe thead th {\n",
       "        text-align: right;\n",
       "    }\n",
       "</style>\n",
       "<table border=\"1\" class=\"dataframe\">\n",
       "  <thead>\n",
       "    <tr style=\"text-align: right;\">\n",
       "      <th>Observed Attendance</th>\n",
       "      <th>No</th>\n",
       "      <th>Yes</th>\n",
       "      <th>perc</th>\n",
       "    </tr>\n",
       "    <tr>\n",
       "      <th>permission</th>\n",
       "      <th></th>\n",
       "      <th></th>\n",
       "      <th></th>\n",
       "    </tr>\n",
       "  </thead>\n",
       "  <tbody>\n",
       "    <tr>\n",
       "      <th>No</th>\n",
       "      <td>105.0</td>\n",
       "      <td>21.0</td>\n",
       "      <td>0.833333</td>\n",
       "    </tr>\n",
       "    <tr>\n",
       "      <th>Yes</th>\n",
       "      <td>341.0</td>\n",
       "      <td>761.0</td>\n",
       "      <td>0.309437</td>\n",
       "    </tr>\n",
       "    <tr>\n",
       "      <th>Yet to confirm</th>\n",
       "      <td>4.0</td>\n",
       "      <td>NaN</td>\n",
       "      <td>NaN</td>\n",
       "    </tr>\n",
       "  </tbody>\n",
       "</table>\n",
       "</div>"
      ],
      "text/plain": [
       "Observed Attendance     No    Yes      perc\n",
       "permission                                 \n",
       "No                   105.0   21.0  0.833333\n",
       "Yes                  341.0  761.0  0.309437\n",
       "Yet to confirm         4.0    NaN       NaN"
      ]
     },
     "execution_count": 65,
     "metadata": {},
     "output_type": "execute_result"
    }
   ],
   "source": [
    "ven['perc'] = (ven['No']/(ven['Yes'] + ven['No']))\n",
    "ven"
   ]
  },
  {
   "cell_type": "code",
   "execution_count": null,
   "metadata": {},
   "outputs": [],
   "source": []
  },
  {
   "cell_type": "code",
   "execution_count": 66,
   "metadata": {},
   "outputs": [],
   "source": [
    "# #dummification by encoding \n",
    "# data_col = data1.columns\n",
    "\n",
    "# for x in data_col:\n",
    "#     y_dummies = pd.get_dummies(data1[x],  prefix=x , drop_first= True)\n",
    "#     data1.drop([x], axis=1, inplace=True)\n",
    "#     data1 = pd.concat([data1, y_dummies], axis=1)\n",
    "    "
   ]
  },
  {
   "cell_type": "code",
   "execution_count": 67,
   "metadata": {},
   "outputs": [],
   "source": [
    "# dummification by encoding \n",
    "from  sklearn.preprocessing import LabelEncoder\n",
    "\n",
    "data1 = data1.apply(LabelEncoder().fit_transform)"
   ]
  },
  {
   "cell_type": "code",
   "execution_count": 68,
   "metadata": {
    "scrolled": true
   },
   "outputs": [
    {
     "data": {
      "text/html": [
       "<div>\n",
       "<style scoped>\n",
       "    .dataframe tbody tr th:only-of-type {\n",
       "        vertical-align: middle;\n",
       "    }\n",
       "\n",
       "    .dataframe tbody tr th {\n",
       "        vertical-align: top;\n",
       "    }\n",
       "\n",
       "    .dataframe thead th {\n",
       "        text-align: right;\n",
       "    }\n",
       "</style>\n",
       "<table border=\"1\" class=\"dataframe\">\n",
       "  <thead>\n",
       "    <tr style=\"text-align: right;\">\n",
       "      <th></th>\n",
       "      <th>Client name</th>\n",
       "      <th>Industry</th>\n",
       "      <th>Location</th>\n",
       "      <th>Position</th>\n",
       "      <th>Skillset</th>\n",
       "      <th>Interview Type</th>\n",
       "      <th>Gender</th>\n",
       "      <th>Current Location</th>\n",
       "      <th>Candidate Job Location</th>\n",
       "      <th>Interview Venue</th>\n",
       "      <th>Native</th>\n",
       "      <th>permission</th>\n",
       "      <th>meetings</th>\n",
       "      <th>Reminder</th>\n",
       "      <th>Alternate number</th>\n",
       "      <th>Resume printout &amp; JD</th>\n",
       "      <th>Venue clear</th>\n",
       "      <th>Call letter shared</th>\n",
       "      <th>Expected Attendance</th>\n",
       "      <th>Observed Attendance</th>\n",
       "      <th>Marital Status</th>\n",
       "    </tr>\n",
       "  </thead>\n",
       "  <tbody>\n",
       "    <tr>\n",
       "      <th>0</th>\n",
       "      <td>5</td>\n",
       "      <td>3</td>\n",
       "      <td>1</td>\n",
       "      <td>3</td>\n",
       "      <td>70</td>\n",
       "      <td>1</td>\n",
       "      <td>1</td>\n",
       "      <td>1</td>\n",
       "      <td>4</td>\n",
       "      <td>4</td>\n",
       "      <td>21</td>\n",
       "      <td>1</td>\n",
       "      <td>1</td>\n",
       "      <td>1</td>\n",
       "      <td>1</td>\n",
       "      <td>1</td>\n",
       "      <td>1</td>\n",
       "      <td>1</td>\n",
       "      <td>2</td>\n",
       "      <td>0</td>\n",
       "      <td>1</td>\n",
       "    </tr>\n",
       "    <tr>\n",
       "      <th>1</th>\n",
       "      <td>5</td>\n",
       "      <td>3</td>\n",
       "      <td>1</td>\n",
       "      <td>3</td>\n",
       "      <td>70</td>\n",
       "      <td>1</td>\n",
       "      <td>1</td>\n",
       "      <td>1</td>\n",
       "      <td>0</td>\n",
       "      <td>4</td>\n",
       "      <td>38</td>\n",
       "      <td>1</td>\n",
       "      <td>1</td>\n",
       "      <td>1</td>\n",
       "      <td>1</td>\n",
       "      <td>1</td>\n",
       "      <td>1</td>\n",
       "      <td>1</td>\n",
       "      <td>2</td>\n",
       "      <td>0</td>\n",
       "      <td>1</td>\n",
       "    </tr>\n",
       "    <tr>\n",
       "      <th>2</th>\n",
       "      <td>5</td>\n",
       "      <td>3</td>\n",
       "      <td>1</td>\n",
       "      <td>3</td>\n",
       "      <td>70</td>\n",
       "      <td>1</td>\n",
       "      <td>1</td>\n",
       "      <td>1</td>\n",
       "      <td>1</td>\n",
       "      <td>4</td>\n",
       "      <td>10</td>\n",
       "      <td>1</td>\n",
       "      <td>1</td>\n",
       "      <td>1</td>\n",
       "      <td>1</td>\n",
       "      <td>1</td>\n",
       "      <td>1</td>\n",
       "      <td>1</td>\n",
       "      <td>1</td>\n",
       "      <td>0</td>\n",
       "      <td>1</td>\n",
       "    </tr>\n",
       "    <tr>\n",
       "      <th>3</th>\n",
       "      <td>5</td>\n",
       "      <td>3</td>\n",
       "      <td>1</td>\n",
       "      <td>3</td>\n",
       "      <td>70</td>\n",
       "      <td>1</td>\n",
       "      <td>1</td>\n",
       "      <td>1</td>\n",
       "      <td>1</td>\n",
       "      <td>4</td>\n",
       "      <td>10</td>\n",
       "      <td>1</td>\n",
       "      <td>1</td>\n",
       "      <td>0</td>\n",
       "      <td>1</td>\n",
       "      <td>0</td>\n",
       "      <td>1</td>\n",
       "      <td>1</td>\n",
       "      <td>1</td>\n",
       "      <td>0</td>\n",
       "      <td>1</td>\n",
       "    </tr>\n",
       "    <tr>\n",
       "      <th>4</th>\n",
       "      <td>5</td>\n",
       "      <td>3</td>\n",
       "      <td>1</td>\n",
       "      <td>3</td>\n",
       "      <td>70</td>\n",
       "      <td>1</td>\n",
       "      <td>1</td>\n",
       "      <td>1</td>\n",
       "      <td>0</td>\n",
       "      <td>4</td>\n",
       "      <td>10</td>\n",
       "      <td>1</td>\n",
       "      <td>1</td>\n",
       "      <td>1</td>\n",
       "      <td>0</td>\n",
       "      <td>1</td>\n",
       "      <td>1</td>\n",
       "      <td>1</td>\n",
       "      <td>1</td>\n",
       "      <td>0</td>\n",
       "      <td>0</td>\n",
       "    </tr>\n",
       "  </tbody>\n",
       "</table>\n",
       "</div>"
      ],
      "text/plain": [
       "   Client name  Industry  Location  Position  Skillset  Interview Type  \\\n",
       "0            5         3         1         3        70               1   \n",
       "1            5         3         1         3        70               1   \n",
       "2            5         3         1         3        70               1   \n",
       "3            5         3         1         3        70               1   \n",
       "4            5         3         1         3        70               1   \n",
       "\n",
       "   Gender  Current Location  Candidate Job Location  Interview Venue  Native  \\\n",
       "0       1                 1                       4                4      21   \n",
       "1       1                 1                       0                4      38   \n",
       "2       1                 1                       1                4      10   \n",
       "3       1                 1                       1                4      10   \n",
       "4       1                 1                       0                4      10   \n",
       "\n",
       "   permission  meetings  Reminder  Alternate number  Resume printout & JD  \\\n",
       "0           1         1         1                 1                     1   \n",
       "1           1         1         1                 1                     1   \n",
       "2           1         1         1                 1                     1   \n",
       "3           1         1         0                 1                     0   \n",
       "4           1         1         1                 0                     1   \n",
       "\n",
       "   Venue clear  Call letter shared  Expected Attendance  Observed Attendance  \\\n",
       "0            1                   1                    2                    0   \n",
       "1            1                   1                    2                    0   \n",
       "2            1                   1                    1                    0   \n",
       "3            1                   1                    1                    0   \n",
       "4            1                   1                    1                    0   \n",
       "\n",
       "   Marital Status  \n",
       "0               1  \n",
       "1               1  \n",
       "2               1  \n",
       "3               1  \n",
       "4               0  "
      ]
     },
     "execution_count": 68,
     "metadata": {},
     "output_type": "execute_result"
    }
   ],
   "source": [
    "data1.head()"
   ]
  },
  {
   "cell_type": "code",
   "execution_count": 69,
   "metadata": {},
   "outputs": [
    {
     "data": {
      "text/html": [
       "<div>\n",
       "<style scoped>\n",
       "    .dataframe tbody tr th:only-of-type {\n",
       "        vertical-align: middle;\n",
       "    }\n",
       "\n",
       "    .dataframe tbody tr th {\n",
       "        vertical-align: top;\n",
       "    }\n",
       "\n",
       "    .dataframe thead th {\n",
       "        text-align: right;\n",
       "    }\n",
       "</style>\n",
       "<table border=\"1\" class=\"dataframe\">\n",
       "  <thead>\n",
       "    <tr style=\"text-align: right;\">\n",
       "      <th></th>\n",
       "      <th>Client name</th>\n",
       "      <th>Industry</th>\n",
       "      <th>Location</th>\n",
       "      <th>Position</th>\n",
       "      <th>Skillset</th>\n",
       "      <th>Interview Type</th>\n",
       "      <th>Gender</th>\n",
       "      <th>Current Location</th>\n",
       "      <th>Candidate Job Location</th>\n",
       "      <th>Interview Venue</th>\n",
       "      <th>Native</th>\n",
       "      <th>permission</th>\n",
       "      <th>meetings</th>\n",
       "      <th>Reminder</th>\n",
       "      <th>Alternate number</th>\n",
       "      <th>Resume printout &amp; JD</th>\n",
       "      <th>Venue clear</th>\n",
       "      <th>Call letter shared</th>\n",
       "      <th>Expected Attendance</th>\n",
       "      <th>Observed Attendance</th>\n",
       "      <th>Marital Status</th>\n",
       "    </tr>\n",
       "  </thead>\n",
       "  <tbody>\n",
       "    <tr>\n",
       "      <th>Client name</th>\n",
       "      <td>1.000000</td>\n",
       "      <td>-0.530080</td>\n",
       "      <td>-0.476327</td>\n",
       "      <td>0.339549</td>\n",
       "      <td>-0.016136</td>\n",
       "      <td>0.401276</td>\n",
       "      <td>0.018187</td>\n",
       "      <td>-0.476327</td>\n",
       "      <td>-0.436749</td>\n",
       "      <td>-0.468995</td>\n",
       "      <td>-0.141805</td>\n",
       "      <td>0.024545</td>\n",
       "      <td>0.006477</td>\n",
       "      <td>0.056589</td>\n",
       "      <td>0.055467</td>\n",
       "      <td>0.003266</td>\n",
       "      <td>-0.017736</td>\n",
       "      <td>0.022429</td>\n",
       "      <td>0.025637</td>\n",
       "      <td>-0.062912</td>\n",
       "      <td>0.001342</td>\n",
       "    </tr>\n",
       "    <tr>\n",
       "      <th>Industry</th>\n",
       "      <td>-0.530080</td>\n",
       "      <td>1.000000</td>\n",
       "      <td>0.389116</td>\n",
       "      <td>-0.438385</td>\n",
       "      <td>0.191874</td>\n",
       "      <td>-0.359192</td>\n",
       "      <td>0.043980</td>\n",
       "      <td>0.389116</td>\n",
       "      <td>0.406345</td>\n",
       "      <td>0.451178</td>\n",
       "      <td>0.170203</td>\n",
       "      <td>-0.168669</td>\n",
       "      <td>-0.129466</td>\n",
       "      <td>-0.099856</td>\n",
       "      <td>-0.064401</td>\n",
       "      <td>-0.060075</td>\n",
       "      <td>-0.005123</td>\n",
       "      <td>-0.054840</td>\n",
       "      <td>-0.160787</td>\n",
       "      <td>-0.045561</td>\n",
       "      <td>-0.155246</td>\n",
       "    </tr>\n",
       "    <tr>\n",
       "      <th>Location</th>\n",
       "      <td>-0.476327</td>\n",
       "      <td>0.389116</td>\n",
       "      <td>1.000000</td>\n",
       "      <td>-0.068852</td>\n",
       "      <td>0.102834</td>\n",
       "      <td>-0.341174</td>\n",
       "      <td>-0.035912</td>\n",
       "      <td>1.000000</td>\n",
       "      <td>0.775971</td>\n",
       "      <td>0.888242</td>\n",
       "      <td>0.218122</td>\n",
       "      <td>-0.003052</td>\n",
       "      <td>-0.047227</td>\n",
       "      <td>-0.100828</td>\n",
       "      <td>-0.064777</td>\n",
       "      <td>-0.065366</td>\n",
       "      <td>-0.010464</td>\n",
       "      <td>-0.034431</td>\n",
       "      <td>-0.015871</td>\n",
       "      <td>0.045200</td>\n",
       "      <td>-0.029547</td>\n",
       "    </tr>\n",
       "    <tr>\n",
       "      <th>Position</th>\n",
       "      <td>0.339549</td>\n",
       "      <td>-0.438385</td>\n",
       "      <td>-0.068852</td>\n",
       "      <td>1.000000</td>\n",
       "      <td>-0.207354</td>\n",
       "      <td>0.331690</td>\n",
       "      <td>-0.044039</td>\n",
       "      <td>-0.068852</td>\n",
       "      <td>0.019228</td>\n",
       "      <td>-0.082838</td>\n",
       "      <td>-0.119520</td>\n",
       "      <td>0.119652</td>\n",
       "      <td>0.114366</td>\n",
       "      <td>0.046849</td>\n",
       "      <td>0.080738</td>\n",
       "      <td>0.058847</td>\n",
       "      <td>0.028001</td>\n",
       "      <td>0.078023</td>\n",
       "      <td>0.092647</td>\n",
       "      <td>-0.048978</td>\n",
       "      <td>0.037407</td>\n",
       "    </tr>\n",
       "    <tr>\n",
       "      <th>Skillset</th>\n",
       "      <td>-0.016136</td>\n",
       "      <td>0.191874</td>\n",
       "      <td>0.102834</td>\n",
       "      <td>-0.207354</td>\n",
       "      <td>1.000000</td>\n",
       "      <td>-0.260244</td>\n",
       "      <td>-0.018351</td>\n",
       "      <td>0.102834</td>\n",
       "      <td>0.077139</td>\n",
       "      <td>0.119213</td>\n",
       "      <td>0.049373</td>\n",
       "      <td>-0.056117</td>\n",
       "      <td>-0.066011</td>\n",
       "      <td>-0.012372</td>\n",
       "      <td>-0.071187</td>\n",
       "      <td>-0.032729</td>\n",
       "      <td>-0.107126</td>\n",
       "      <td>-0.126780</td>\n",
       "      <td>-0.083310</td>\n",
       "      <td>-0.030034</td>\n",
       "      <td>-0.050925</td>\n",
       "    </tr>\n",
       "    <tr>\n",
       "      <th>Interview Type</th>\n",
       "      <td>0.401276</td>\n",
       "      <td>-0.359192</td>\n",
       "      <td>-0.341174</td>\n",
       "      <td>0.331690</td>\n",
       "      <td>-0.260244</td>\n",
       "      <td>1.000000</td>\n",
       "      <td>-0.013053</td>\n",
       "      <td>-0.341174</td>\n",
       "      <td>-0.332939</td>\n",
       "      <td>-0.360398</td>\n",
       "      <td>-0.193126</td>\n",
       "      <td>0.041584</td>\n",
       "      <td>0.070567</td>\n",
       "      <td>0.074053</td>\n",
       "      <td>0.072747</td>\n",
       "      <td>0.064528</td>\n",
       "      <td>0.061554</td>\n",
       "      <td>0.121539</td>\n",
       "      <td>0.052783</td>\n",
       "      <td>-0.087611</td>\n",
       "      <td>0.058943</td>\n",
       "    </tr>\n",
       "    <tr>\n",
       "      <th>Gender</th>\n",
       "      <td>0.018187</td>\n",
       "      <td>0.043980</td>\n",
       "      <td>-0.035912</td>\n",
       "      <td>-0.044039</td>\n",
       "      <td>-0.018351</td>\n",
       "      <td>-0.013053</td>\n",
       "      <td>1.000000</td>\n",
       "      <td>-0.035912</td>\n",
       "      <td>-0.030932</td>\n",
       "      <td>-0.022365</td>\n",
       "      <td>0.073167</td>\n",
       "      <td>0.047447</td>\n",
       "      <td>-0.019405</td>\n",
       "      <td>-0.034057</td>\n",
       "      <td>0.103182</td>\n",
       "      <td>0.032087</td>\n",
       "      <td>-0.005459</td>\n",
       "      <td>0.047717</td>\n",
       "      <td>0.040507</td>\n",
       "      <td>0.004537</td>\n",
       "      <td>0.222606</td>\n",
       "    </tr>\n",
       "    <tr>\n",
       "      <th>Current Location</th>\n",
       "      <td>-0.476327</td>\n",
       "      <td>0.389116</td>\n",
       "      <td>1.000000</td>\n",
       "      <td>-0.068852</td>\n",
       "      <td>0.102834</td>\n",
       "      <td>-0.341174</td>\n",
       "      <td>-0.035912</td>\n",
       "      <td>1.000000</td>\n",
       "      <td>0.775971</td>\n",
       "      <td>0.888242</td>\n",
       "      <td>0.218122</td>\n",
       "      <td>-0.003052</td>\n",
       "      <td>-0.047227</td>\n",
       "      <td>-0.100828</td>\n",
       "      <td>-0.064777</td>\n",
       "      <td>-0.065366</td>\n",
       "      <td>-0.010464</td>\n",
       "      <td>-0.034431</td>\n",
       "      <td>-0.015871</td>\n",
       "      <td>0.045200</td>\n",
       "      <td>-0.029547</td>\n",
       "    </tr>\n",
       "    <tr>\n",
       "      <th>Candidate Job Location</th>\n",
       "      <td>-0.436749</td>\n",
       "      <td>0.406345</td>\n",
       "      <td>0.775971</td>\n",
       "      <td>0.019228</td>\n",
       "      <td>0.077139</td>\n",
       "      <td>-0.332939</td>\n",
       "      <td>-0.030932</td>\n",
       "      <td>0.775971</td>\n",
       "      <td>1.000000</td>\n",
       "      <td>0.852815</td>\n",
       "      <td>0.249699</td>\n",
       "      <td>0.013160</td>\n",
       "      <td>-0.110484</td>\n",
       "      <td>-0.041510</td>\n",
       "      <td>-0.035607</td>\n",
       "      <td>-0.082093</td>\n",
       "      <td>0.011949</td>\n",
       "      <td>-0.067158</td>\n",
       "      <td>-0.007931</td>\n",
       "      <td>0.051624</td>\n",
       "      <td>-0.020783</td>\n",
       "    </tr>\n",
       "    <tr>\n",
       "      <th>Interview Venue</th>\n",
       "      <td>-0.468995</td>\n",
       "      <td>0.451178</td>\n",
       "      <td>0.888242</td>\n",
       "      <td>-0.082838</td>\n",
       "      <td>0.119213</td>\n",
       "      <td>-0.360398</td>\n",
       "      <td>-0.022365</td>\n",
       "      <td>0.888242</td>\n",
       "      <td>0.852815</td>\n",
       "      <td>1.000000</td>\n",
       "      <td>0.260975</td>\n",
       "      <td>0.002986</td>\n",
       "      <td>-0.079562</td>\n",
       "      <td>-0.133193</td>\n",
       "      <td>-0.071130</td>\n",
       "      <td>-0.071458</td>\n",
       "      <td>-0.006672</td>\n",
       "      <td>-0.038736</td>\n",
       "      <td>-0.027732</td>\n",
       "      <td>0.034357</td>\n",
       "      <td>-0.053416</td>\n",
       "    </tr>\n",
       "    <tr>\n",
       "      <th>Native</th>\n",
       "      <td>-0.141805</td>\n",
       "      <td>0.170203</td>\n",
       "      <td>0.218122</td>\n",
       "      <td>-0.119520</td>\n",
       "      <td>0.049373</td>\n",
       "      <td>-0.193126</td>\n",
       "      <td>0.073167</td>\n",
       "      <td>0.218122</td>\n",
       "      <td>0.249699</td>\n",
       "      <td>0.260975</td>\n",
       "      <td>1.000000</td>\n",
       "      <td>-0.040443</td>\n",
       "      <td>-0.086803</td>\n",
       "      <td>-0.067055</td>\n",
       "      <td>-0.095569</td>\n",
       "      <td>-0.097698</td>\n",
       "      <td>-0.013172</td>\n",
       "      <td>-0.031103</td>\n",
       "      <td>-0.097454</td>\n",
       "      <td>-0.001780</td>\n",
       "      <td>-0.031641</td>\n",
       "    </tr>\n",
       "    <tr>\n",
       "      <th>permission</th>\n",
       "      <td>0.024545</td>\n",
       "      <td>-0.168669</td>\n",
       "      <td>-0.003052</td>\n",
       "      <td>0.119652</td>\n",
       "      <td>-0.056117</td>\n",
       "      <td>0.041584</td>\n",
       "      <td>0.047447</td>\n",
       "      <td>-0.003052</td>\n",
       "      <td>0.013160</td>\n",
       "      <td>0.002986</td>\n",
       "      <td>-0.040443</td>\n",
       "      <td>1.000000</td>\n",
       "      <td>0.213212</td>\n",
       "      <td>0.087689</td>\n",
       "      <td>0.128141</td>\n",
       "      <td>0.190302</td>\n",
       "      <td>0.062687</td>\n",
       "      <td>0.237423</td>\n",
       "      <td>0.660865</td>\n",
       "      <td>0.307523</td>\n",
       "      <td>0.043044</td>\n",
       "    </tr>\n",
       "    <tr>\n",
       "      <th>meetings</th>\n",
       "      <td>0.006477</td>\n",
       "      <td>-0.129466</td>\n",
       "      <td>-0.047227</td>\n",
       "      <td>0.114366</td>\n",
       "      <td>-0.066011</td>\n",
       "      <td>0.070567</td>\n",
       "      <td>-0.019405</td>\n",
       "      <td>-0.047227</td>\n",
       "      <td>-0.110484</td>\n",
       "      <td>-0.079562</td>\n",
       "      <td>-0.086803</td>\n",
       "      <td>0.213212</td>\n",
       "      <td>1.000000</td>\n",
       "      <td>0.048728</td>\n",
       "      <td>0.205476</td>\n",
       "      <td>0.303937</td>\n",
       "      <td>0.168021</td>\n",
       "      <td>0.239603</td>\n",
       "      <td>0.235782</td>\n",
       "      <td>0.109523</td>\n",
       "      <td>-0.004488</td>\n",
       "    </tr>\n",
       "    <tr>\n",
       "      <th>Reminder</th>\n",
       "      <td>0.056589</td>\n",
       "      <td>-0.099856</td>\n",
       "      <td>-0.100828</td>\n",
       "      <td>0.046849</td>\n",
       "      <td>-0.012372</td>\n",
       "      <td>0.074053</td>\n",
       "      <td>-0.034057</td>\n",
       "      <td>-0.100828</td>\n",
       "      <td>-0.041510</td>\n",
       "      <td>-0.133193</td>\n",
       "      <td>-0.067055</td>\n",
       "      <td>0.087689</td>\n",
       "      <td>0.048728</td>\n",
       "      <td>1.000000</td>\n",
       "      <td>0.248135</td>\n",
       "      <td>0.256599</td>\n",
       "      <td>-0.016077</td>\n",
       "      <td>0.051404</td>\n",
       "      <td>0.151875</td>\n",
       "      <td>0.041862</td>\n",
       "      <td>0.065616</td>\n",
       "    </tr>\n",
       "    <tr>\n",
       "      <th>Alternate number</th>\n",
       "      <td>0.055467</td>\n",
       "      <td>-0.064401</td>\n",
       "      <td>-0.064777</td>\n",
       "      <td>0.080738</td>\n",
       "      <td>-0.071187</td>\n",
       "      <td>0.072747</td>\n",
       "      <td>0.103182</td>\n",
       "      <td>-0.064777</td>\n",
       "      <td>-0.035607</td>\n",
       "      <td>-0.071130</td>\n",
       "      <td>-0.095569</td>\n",
       "      <td>0.128141</td>\n",
       "      <td>0.205476</td>\n",
       "      <td>0.248135</td>\n",
       "      <td>1.000000</td>\n",
       "      <td>0.238865</td>\n",
       "      <td>0.127925</td>\n",
       "      <td>0.182425</td>\n",
       "      <td>0.283615</td>\n",
       "      <td>0.133192</td>\n",
       "      <td>-0.009468</td>\n",
       "    </tr>\n",
       "    <tr>\n",
       "      <th>Resume printout &amp; JD</th>\n",
       "      <td>0.003266</td>\n",
       "      <td>-0.060075</td>\n",
       "      <td>-0.065366</td>\n",
       "      <td>0.058847</td>\n",
       "      <td>-0.032729</td>\n",
       "      <td>0.064528</td>\n",
       "      <td>0.032087</td>\n",
       "      <td>-0.065366</td>\n",
       "      <td>-0.082093</td>\n",
       "      <td>-0.071458</td>\n",
       "      <td>-0.097698</td>\n",
       "      <td>0.190302</td>\n",
       "      <td>0.303937</td>\n",
       "      <td>0.256599</td>\n",
       "      <td>0.238865</td>\n",
       "      <td>1.000000</td>\n",
       "      <td>0.159888</td>\n",
       "      <td>0.259867</td>\n",
       "      <td>0.290267</td>\n",
       "      <td>0.134915</td>\n",
       "      <td>-0.032775</td>\n",
       "    </tr>\n",
       "    <tr>\n",
       "      <th>Venue clear</th>\n",
       "      <td>-0.017736</td>\n",
       "      <td>-0.005123</td>\n",
       "      <td>-0.010464</td>\n",
       "      <td>0.028001</td>\n",
       "      <td>-0.107126</td>\n",
       "      <td>0.061554</td>\n",
       "      <td>-0.005459</td>\n",
       "      <td>-0.010464</td>\n",
       "      <td>0.011949</td>\n",
       "      <td>-0.006672</td>\n",
       "      <td>-0.013172</td>\n",
       "      <td>0.062687</td>\n",
       "      <td>0.168021</td>\n",
       "      <td>-0.016077</td>\n",
       "      <td>0.127925</td>\n",
       "      <td>0.159888</td>\n",
       "      <td>1.000000</td>\n",
       "      <td>0.483814</td>\n",
       "      <td>0.279540</td>\n",
       "      <td>0.115983</td>\n",
       "      <td>0.005980</td>\n",
       "    </tr>\n",
       "    <tr>\n",
       "      <th>Call letter shared</th>\n",
       "      <td>0.022429</td>\n",
       "      <td>-0.054840</td>\n",
       "      <td>-0.034431</td>\n",
       "      <td>0.078023</td>\n",
       "      <td>-0.126780</td>\n",
       "      <td>0.121539</td>\n",
       "      <td>0.047717</td>\n",
       "      <td>-0.034431</td>\n",
       "      <td>-0.067158</td>\n",
       "      <td>-0.038736</td>\n",
       "      <td>-0.031103</td>\n",
       "      <td>0.237423</td>\n",
       "      <td>0.239603</td>\n",
       "      <td>0.051404</td>\n",
       "      <td>0.182425</td>\n",
       "      <td>0.259867</td>\n",
       "      <td>0.483814</td>\n",
       "      <td>1.000000</td>\n",
       "      <td>0.354158</td>\n",
       "      <td>0.155884</td>\n",
       "      <td>-0.038710</td>\n",
       "    </tr>\n",
       "    <tr>\n",
       "      <th>Expected Attendance</th>\n",
       "      <td>0.025637</td>\n",
       "      <td>-0.160787</td>\n",
       "      <td>-0.015871</td>\n",
       "      <td>0.092647</td>\n",
       "      <td>-0.083310</td>\n",
       "      <td>0.052783</td>\n",
       "      <td>0.040507</td>\n",
       "      <td>-0.015871</td>\n",
       "      <td>-0.007931</td>\n",
       "      <td>-0.027732</td>\n",
       "      <td>-0.097454</td>\n",
       "      <td>0.660865</td>\n",
       "      <td>0.235782</td>\n",
       "      <td>0.151875</td>\n",
       "      <td>0.283615</td>\n",
       "      <td>0.290267</td>\n",
       "      <td>0.279540</td>\n",
       "      <td>0.354158</td>\n",
       "      <td>1.000000</td>\n",
       "      <td>0.406584</td>\n",
       "      <td>0.047926</td>\n",
       "    </tr>\n",
       "    <tr>\n",
       "      <th>Observed Attendance</th>\n",
       "      <td>-0.062912</td>\n",
       "      <td>-0.045561</td>\n",
       "      <td>0.045200</td>\n",
       "      <td>-0.048978</td>\n",
       "      <td>-0.030034</td>\n",
       "      <td>-0.087611</td>\n",
       "      <td>0.004537</td>\n",
       "      <td>0.045200</td>\n",
       "      <td>0.051624</td>\n",
       "      <td>0.034357</td>\n",
       "      <td>-0.001780</td>\n",
       "      <td>0.307523</td>\n",
       "      <td>0.109523</td>\n",
       "      <td>0.041862</td>\n",
       "      <td>0.133192</td>\n",
       "      <td>0.134915</td>\n",
       "      <td>0.115983</td>\n",
       "      <td>0.155884</td>\n",
       "      <td>0.406584</td>\n",
       "      <td>1.000000</td>\n",
       "      <td>0.021402</td>\n",
       "    </tr>\n",
       "    <tr>\n",
       "      <th>Marital Status</th>\n",
       "      <td>0.001342</td>\n",
       "      <td>-0.155246</td>\n",
       "      <td>-0.029547</td>\n",
       "      <td>0.037407</td>\n",
       "      <td>-0.050925</td>\n",
       "      <td>0.058943</td>\n",
       "      <td>0.222606</td>\n",
       "      <td>-0.029547</td>\n",
       "      <td>-0.020783</td>\n",
       "      <td>-0.053416</td>\n",
       "      <td>-0.031641</td>\n",
       "      <td>0.043044</td>\n",
       "      <td>-0.004488</td>\n",
       "      <td>0.065616</td>\n",
       "      <td>-0.009468</td>\n",
       "      <td>-0.032775</td>\n",
       "      <td>0.005980</td>\n",
       "      <td>-0.038710</td>\n",
       "      <td>0.047926</td>\n",
       "      <td>0.021402</td>\n",
       "      <td>1.000000</td>\n",
       "    </tr>\n",
       "  </tbody>\n",
       "</table>\n",
       "</div>"
      ],
      "text/plain": [
       "                        Client name  Industry  Location  Position  Skillset  \\\n",
       "Client name                1.000000 -0.530080 -0.476327  0.339549 -0.016136   \n",
       "Industry                  -0.530080  1.000000  0.389116 -0.438385  0.191874   \n",
       "Location                  -0.476327  0.389116  1.000000 -0.068852  0.102834   \n",
       "Position                   0.339549 -0.438385 -0.068852  1.000000 -0.207354   \n",
       "Skillset                  -0.016136  0.191874  0.102834 -0.207354  1.000000   \n",
       "Interview Type             0.401276 -0.359192 -0.341174  0.331690 -0.260244   \n",
       "Gender                     0.018187  0.043980 -0.035912 -0.044039 -0.018351   \n",
       "Current Location          -0.476327  0.389116  1.000000 -0.068852  0.102834   \n",
       "Candidate Job Location    -0.436749  0.406345  0.775971  0.019228  0.077139   \n",
       "Interview Venue           -0.468995  0.451178  0.888242 -0.082838  0.119213   \n",
       "Native                    -0.141805  0.170203  0.218122 -0.119520  0.049373   \n",
       "permission                 0.024545 -0.168669 -0.003052  0.119652 -0.056117   \n",
       "meetings                   0.006477 -0.129466 -0.047227  0.114366 -0.066011   \n",
       "Reminder                   0.056589 -0.099856 -0.100828  0.046849 -0.012372   \n",
       "Alternate number           0.055467 -0.064401 -0.064777  0.080738 -0.071187   \n",
       "Resume printout & JD       0.003266 -0.060075 -0.065366  0.058847 -0.032729   \n",
       "Venue clear               -0.017736 -0.005123 -0.010464  0.028001 -0.107126   \n",
       "Call letter shared         0.022429 -0.054840 -0.034431  0.078023 -0.126780   \n",
       "Expected Attendance        0.025637 -0.160787 -0.015871  0.092647 -0.083310   \n",
       "Observed Attendance       -0.062912 -0.045561  0.045200 -0.048978 -0.030034   \n",
       "Marital Status             0.001342 -0.155246 -0.029547  0.037407 -0.050925   \n",
       "\n",
       "                        Interview Type    Gender  Current Location  \\\n",
       "Client name                   0.401276  0.018187         -0.476327   \n",
       "Industry                     -0.359192  0.043980          0.389116   \n",
       "Location                     -0.341174 -0.035912          1.000000   \n",
       "Position                      0.331690 -0.044039         -0.068852   \n",
       "Skillset                     -0.260244 -0.018351          0.102834   \n",
       "Interview Type                1.000000 -0.013053         -0.341174   \n",
       "Gender                       -0.013053  1.000000         -0.035912   \n",
       "Current Location             -0.341174 -0.035912          1.000000   \n",
       "Candidate Job Location       -0.332939 -0.030932          0.775971   \n",
       "Interview Venue              -0.360398 -0.022365          0.888242   \n",
       "Native                       -0.193126  0.073167          0.218122   \n",
       "permission                    0.041584  0.047447         -0.003052   \n",
       "meetings                      0.070567 -0.019405         -0.047227   \n",
       "Reminder                      0.074053 -0.034057         -0.100828   \n",
       "Alternate number              0.072747  0.103182         -0.064777   \n",
       "Resume printout & JD          0.064528  0.032087         -0.065366   \n",
       "Venue clear                   0.061554 -0.005459         -0.010464   \n",
       "Call letter shared            0.121539  0.047717         -0.034431   \n",
       "Expected Attendance           0.052783  0.040507         -0.015871   \n",
       "Observed Attendance          -0.087611  0.004537          0.045200   \n",
       "Marital Status                0.058943  0.222606         -0.029547   \n",
       "\n",
       "                        Candidate Job Location  Interview Venue    Native  \\\n",
       "Client name                          -0.436749        -0.468995 -0.141805   \n",
       "Industry                              0.406345         0.451178  0.170203   \n",
       "Location                              0.775971         0.888242  0.218122   \n",
       "Position                              0.019228        -0.082838 -0.119520   \n",
       "Skillset                              0.077139         0.119213  0.049373   \n",
       "Interview Type                       -0.332939        -0.360398 -0.193126   \n",
       "Gender                               -0.030932        -0.022365  0.073167   \n",
       "Current Location                      0.775971         0.888242  0.218122   \n",
       "Candidate Job Location                1.000000         0.852815  0.249699   \n",
       "Interview Venue                       0.852815         1.000000  0.260975   \n",
       "Native                                0.249699         0.260975  1.000000   \n",
       "permission                            0.013160         0.002986 -0.040443   \n",
       "meetings                             -0.110484        -0.079562 -0.086803   \n",
       "Reminder                             -0.041510        -0.133193 -0.067055   \n",
       "Alternate number                     -0.035607        -0.071130 -0.095569   \n",
       "Resume printout & JD                 -0.082093        -0.071458 -0.097698   \n",
       "Venue clear                           0.011949        -0.006672 -0.013172   \n",
       "Call letter shared                   -0.067158        -0.038736 -0.031103   \n",
       "Expected Attendance                  -0.007931        -0.027732 -0.097454   \n",
       "Observed Attendance                   0.051624         0.034357 -0.001780   \n",
       "Marital Status                       -0.020783        -0.053416 -0.031641   \n",
       "\n",
       "                        permission  meetings  Reminder  Alternate number  \\\n",
       "Client name               0.024545  0.006477  0.056589          0.055467   \n",
       "Industry                 -0.168669 -0.129466 -0.099856         -0.064401   \n",
       "Location                 -0.003052 -0.047227 -0.100828         -0.064777   \n",
       "Position                  0.119652  0.114366  0.046849          0.080738   \n",
       "Skillset                 -0.056117 -0.066011 -0.012372         -0.071187   \n",
       "Interview Type            0.041584  0.070567  0.074053          0.072747   \n",
       "Gender                    0.047447 -0.019405 -0.034057          0.103182   \n",
       "Current Location         -0.003052 -0.047227 -0.100828         -0.064777   \n",
       "Candidate Job Location    0.013160 -0.110484 -0.041510         -0.035607   \n",
       "Interview Venue           0.002986 -0.079562 -0.133193         -0.071130   \n",
       "Native                   -0.040443 -0.086803 -0.067055         -0.095569   \n",
       "permission                1.000000  0.213212  0.087689          0.128141   \n",
       "meetings                  0.213212  1.000000  0.048728          0.205476   \n",
       "Reminder                  0.087689  0.048728  1.000000          0.248135   \n",
       "Alternate number          0.128141  0.205476  0.248135          1.000000   \n",
       "Resume printout & JD      0.190302  0.303937  0.256599          0.238865   \n",
       "Venue clear               0.062687  0.168021 -0.016077          0.127925   \n",
       "Call letter shared        0.237423  0.239603  0.051404          0.182425   \n",
       "Expected Attendance       0.660865  0.235782  0.151875          0.283615   \n",
       "Observed Attendance       0.307523  0.109523  0.041862          0.133192   \n",
       "Marital Status            0.043044 -0.004488  0.065616         -0.009468   \n",
       "\n",
       "                        Resume printout & JD  Venue clear  Call letter shared  \\\n",
       "Client name                         0.003266    -0.017736            0.022429   \n",
       "Industry                           -0.060075    -0.005123           -0.054840   \n",
       "Location                           -0.065366    -0.010464           -0.034431   \n",
       "Position                            0.058847     0.028001            0.078023   \n",
       "Skillset                           -0.032729    -0.107126           -0.126780   \n",
       "Interview Type                      0.064528     0.061554            0.121539   \n",
       "Gender                              0.032087    -0.005459            0.047717   \n",
       "Current Location                   -0.065366    -0.010464           -0.034431   \n",
       "Candidate Job Location             -0.082093     0.011949           -0.067158   \n",
       "Interview Venue                    -0.071458    -0.006672           -0.038736   \n",
       "Native                             -0.097698    -0.013172           -0.031103   \n",
       "permission                          0.190302     0.062687            0.237423   \n",
       "meetings                            0.303937     0.168021            0.239603   \n",
       "Reminder                            0.256599    -0.016077            0.051404   \n",
       "Alternate number                    0.238865     0.127925            0.182425   \n",
       "Resume printout & JD                1.000000     0.159888            0.259867   \n",
       "Venue clear                         0.159888     1.000000            0.483814   \n",
       "Call letter shared                  0.259867     0.483814            1.000000   \n",
       "Expected Attendance                 0.290267     0.279540            0.354158   \n",
       "Observed Attendance                 0.134915     0.115983            0.155884   \n",
       "Marital Status                     -0.032775     0.005980           -0.038710   \n",
       "\n",
       "                        Expected Attendance  Observed Attendance  \\\n",
       "Client name                        0.025637            -0.062912   \n",
       "Industry                          -0.160787            -0.045561   \n",
       "Location                          -0.015871             0.045200   \n",
       "Position                           0.092647            -0.048978   \n",
       "Skillset                          -0.083310            -0.030034   \n",
       "Interview Type                     0.052783            -0.087611   \n",
       "Gender                             0.040507             0.004537   \n",
       "Current Location                  -0.015871             0.045200   \n",
       "Candidate Job Location            -0.007931             0.051624   \n",
       "Interview Venue                   -0.027732             0.034357   \n",
       "Native                            -0.097454            -0.001780   \n",
       "permission                         0.660865             0.307523   \n",
       "meetings                           0.235782             0.109523   \n",
       "Reminder                           0.151875             0.041862   \n",
       "Alternate number                   0.283615             0.133192   \n",
       "Resume printout & JD               0.290267             0.134915   \n",
       "Venue clear                        0.279540             0.115983   \n",
       "Call letter shared                 0.354158             0.155884   \n",
       "Expected Attendance                1.000000             0.406584   \n",
       "Observed Attendance                0.406584             1.000000   \n",
       "Marital Status                     0.047926             0.021402   \n",
       "\n",
       "                        Marital Status  \n",
       "Client name                   0.001342  \n",
       "Industry                     -0.155246  \n",
       "Location                     -0.029547  \n",
       "Position                      0.037407  \n",
       "Skillset                     -0.050925  \n",
       "Interview Type                0.058943  \n",
       "Gender                        0.222606  \n",
       "Current Location             -0.029547  \n",
       "Candidate Job Location       -0.020783  \n",
       "Interview Venue              -0.053416  \n",
       "Native                       -0.031641  \n",
       "permission                    0.043044  \n",
       "meetings                     -0.004488  \n",
       "Reminder                      0.065616  \n",
       "Alternate number             -0.009468  \n",
       "Resume printout & JD         -0.032775  \n",
       "Venue clear                   0.005980  \n",
       "Call letter shared           -0.038710  \n",
       "Expected Attendance           0.047926  \n",
       "Observed Attendance           0.021402  \n",
       "Marital Status                1.000000  "
      ]
     },
     "execution_count": 69,
     "metadata": {},
     "output_type": "execute_result"
    }
   ],
   "source": [
    "# correlation \n",
    "data1_corr = data1.corr()\n",
    "data1_corr"
   ]
  },
  {
   "cell_type": "code",
   "execution_count": 70,
   "metadata": {},
   "outputs": [
    {
     "data": {
      "text/plain": [
       "<Figure size 1440x1440 with 0 Axes>"
      ]
     },
     "execution_count": 70,
     "metadata": {},
     "output_type": "execute_result"
    },
    {
     "data": {
      "text/plain": [
       "<matplotlib.axes._subplots.AxesSubplot at 0x1cd1f24ae80>"
      ]
     },
     "execution_count": 70,
     "metadata": {},
     "output_type": "execute_result"
    },
    {
     "data": {
      "image/png": "[encoded data removed]",
      "text/plain": [
       "<Figure size 1440x1440 with 2 Axes>"
      ]
     },
     "metadata": {
      "needs_background": "light"
     },
     "output_type": "display_data"
    }
   ],
   "source": [
    "plt.figure(figsize=(20,20))\n",
    "sns.heatmap(data1_corr,annot=True, cmap=\"YlGnBu\")"
   ]
  },
  {
   "cell_type": "code",
   "execution_count": 71,
   "metadata": {},
   "outputs": [],
   "source": [
    "# custom designed function\n",
    "def extract_x_columns(df_y):\n",
    "    X = df_y[df_y.between(0.1,0.8)].index        \n",
    "    X = X.append(df_y[df_y.between(-0.8,-0.1)].index)    \n",
    "    return X"
   ]
  },
  {
   "cell_type": "code",
   "execution_count": 72,
   "metadata": {},
   "outputs": [],
   "source": [
    "# x_columns = extract_x_columns(data1_corr['Observed Attendance_Yes'])\n",
    "# x_columns\n",
    "# Y = data1['Observed Attendance_Yes']\n",
    "# X = data1[x_columns]"
   ]
  },
  {
   "cell_type": "code",
   "execution_count": 73,
   "metadata": {},
   "outputs": [],
   "source": [
    "Y = data1['Observed Attendance']\n",
    "X = data1.drop(['Observed Attendance'], axis=True)"
   ]
  },
  {
   "cell_type": "markdown",
   "metadata": {},
   "source": [
    "### Question: Perform classification using Naive Bayes algorithm and explain the performance"
   ]
  },
  {
   "cell_type": "code",
   "execution_count": 74,
   "metadata": {},
   "outputs": [
    {
     "data": {
      "text/plain": [
       "(862, 20)"
      ]
     },
     "execution_count": 74,
     "metadata": {},
     "output_type": "execute_result"
    },
    {
     "data": {
      "text/plain": [
       "(370, 20)"
      ]
     },
     "execution_count": 74,
     "metadata": {},
     "output_type": "execute_result"
    },
    {
     "data": {
      "text/plain": [
       "(862,)"
      ]
     },
     "execution_count": 74,
     "metadata": {},
     "output_type": "execute_result"
    },
    {
     "data": {
      "text/plain": [
       "(370,)"
      ]
     },
     "execution_count": 74,
     "metadata": {},
     "output_type": "execute_result"
    }
   ],
   "source": [
    "# Train and test split\n",
    "\n",
    "from sklearn.model_selection import train_test_split\n",
    "x_train, x_test, y_train, y_test = train_test_split(X, Y, test_size=0.30, random_state=62)\n",
    "x_train.shape\n",
    "x_test.shape\n",
    "y_train.shape\n",
    "y_test.shape"
   ]
  },
  {
   "cell_type": "code",
   "execution_count": 75,
   "metadata": {},
   "outputs": [],
   "source": [
    "from sklearn import naive_bayes\n",
    "nb = naive_bayes.MultinomialNB()"
   ]
  },
  {
   "cell_type": "code",
   "execution_count": 76,
   "metadata": {},
   "outputs": [
    {
     "data": {
      "text/plain": [
       "MultinomialNB(alpha=1.0, class_prior=None, fit_prior=True)"
      ]
     },
     "execution_count": 76,
     "metadata": {},
     "output_type": "execute_result"
    }
   ],
   "source": [
    "nb.fit(x_train, y_train)"
   ]
  },
  {
   "cell_type": "code",
   "execution_count": 77,
   "metadata": {},
   "outputs": [],
   "source": [
    "pred_y = nb.predict(x_test)"
   ]
  },
  {
   "cell_type": "code",
   "execution_count": 78,
   "metadata": {},
   "outputs": [
    {
     "name": "stdout",
     "output_type": "stream",
     "text": [
      "Test Accuracy:  0.6648648648648648\n"
     ]
    }
   ],
   "source": [
    "# comparing the metrics of predicted lebel and real label of test data\n",
    "print(\"Test Accuracy: \", metrics.accuracy_score(y_test, pred_y))"
   ]
  }
 ],
 "metadata": {
  "kernelspec": {
   "display_name": "Python 3",
   "language": "python",
   "name": "python3"
  },
  "language_info": {
   "codemirror_mode": {
    "name": "ipython",
    "version": 3
   },
   "file_extension": ".py",
   "mimetype": "text/x-python",
   "name": "python",
   "nbconvert_exporter": "python",
   "pygments_lexer": "ipython3",
   "version": "3.8.8"
  }
 },
 "nbformat": 4,
 "nbformat_minor": 2
}
