{
 "cells": [
  {
   "cell_type": "markdown",
   "metadata": {},
   "source": [
    "Data Set Name: Autistic Spectrum Disorder Screening Data for Adult  \n",
    "Abstract: Autistic Spectrum Disorder (ASD) is a neurodevelopment  condition associated with significant healthcare costs, and early diagnosis can significantly reduce these. Unfortunately, waiting times for an ASD diagnosis are lengthy and procedures are not cost effective. The economic impact of autism and the increase in the number of ASD cases across the world reveals an urgent need for the development of easily implemented and effective screening methods. Therefore, a time-efficient and accessible ASD screening is imminent to help health professionals and inform individuals whether they should pursue formal clinical diagnosis.  The rapid growth in the number of ASD cases worldwide necessitates datasets related to behaviour traits. However, such datasets are rare making it difficult to perform thorough analyses to improve the efficiency, sensitivity, specificity and predictive accuracy of the ASD screening process. Presently, very limited autism datasets associated with clinical or screening are available and most of them are genetic in nature. Hence, we propose a new dataset related to autism screening of adults that contained 20 features to be utilised for further analysis especially in determining influential autistic traits and improving the classification of ASD cases. In this dataset, we record ten behavioural features (AQ-10-Adult) plus ten individuals characteristics that have proved to be effective in detecting the ASD cases from controls in behaviour science. \n",
    "\n",
    "Data Type: Multivariate OR Univariate OR Sequential OR Time-Series OR Text OR Domain-Theory\n",
    "\n",
    "Nominal / categorical, binary and continuous \n",
    "Task: Classification\n",
    "Attribute Type: Categorical, continuous and binary  \n",
    "Area: Medical, health and social science\n",
    "Format Type: Non-Matrix\n",
    "Does your data set contain missing values? Yes\n",
    "Number of Instances (records in your data set): 704\n",
    "Number of Attributes (fields within each record): 21\n",
    "Relevant Information: For Further information about the attributes/feature see below  table.\n"
   ]
  },
  {
   "cell_type": "markdown",
   "metadata": {},
   "source": [
    "### Columns Description\n",
    "\n",
    "A1_Score - A10_Score columns are questions whose answers are ('0', '1') <br>\n",
    "age - number in years <br>\n",
    "gender - female or male <br>\n",
    "ethnicity - ('White-European', 'Latino', 'Others', 'Black', 'Asian', \"'Middle Eastern '\", 'Pasifika', \"'South Asian'\", <br> 'Hispanic', 'Turkish', 'others') <br>\n",
    "jundice - ('no', 'yes') Whether the case was born with jaundice <br>\n",
    "contry_of_res - Country of residence <br>\n",
    "used_app_before - ('no', 'yes')  <br>\n",
    "result - Result of the test  <br>\n",
    "age_desc - Text description of age (\"'18 and more'\",) <br>\n",
    "relation - Who is completing the test ('Self', 'Parent', \"'Health care professional'\", 'Relative', 'Others') <br>\n",
    "Class/ASD - ('NO', 'YES') Whether the case has Autism Spectral Disorder  <br>\n",
    "austim - ('no', 'yes')  Whether family member had autism <br>"
   ]
  },
  {
   "cell_type": "code",
   "execution_count": 1,
   "metadata": {},
   "outputs": [],
   "source": [
    "# Import Required Packages \n",
    "import pandas as pd\n",
    "import numpy as np\n",
    "import pandas_profiling\n",
    "import seaborn as sns\n",
    "import matplotlib.pyplot as plt\n",
    "%matplotlib inline\n",
    "import sklearn \n",
    "from sklearn.model_selection import train_test_split\n",
    "from sklearn import metrics\n",
    "import unicodedata"
   ]
  },
  {
   "cell_type": "code",
   "execution_count": 2,
   "metadata": {},
   "outputs": [],
   "source": [
    "# to remove teh printing barrier\n",
    "pd.set_option('display.max_columns', None)"
   ]
  },
  {
   "cell_type": "code",
   "execution_count": 3,
   "metadata": {},
   "outputs": [],
   "source": [
    "# TO print multiple outputs in single line\n",
    "from IPython.core.interactiveshell import InteractiveShell\n",
    "InteractiveShell.ast_node_interactivity = \"all\""
   ]
  },
  {
   "cell_type": "code",
   "execution_count": 4,
   "metadata": {},
   "outputs": [],
   "source": [
    "# Loading data from arff files\n",
    "from scipy.io.arff import loadarff\n",
    "Aut_data_raw = loadarff(\"attachment_Autism-Adult-Data_lyst6665.arff\")"
   ]
  },
  {
   "cell_type": "code",
   "execution_count": 5,
   "metadata": {},
   "outputs": [
    {
     "data": {
      "text/plain": [
       "(array([(b'1', b'1', b'1', b'1', b'0', b'0', b'1', b'1', b'0', b'0',  26., b'f', b'White-European', b'no', b'no', b\"'United States'\", b'no',  6., b\"'18 and more'\", b'Self', b'NO'),\n",
       "        (b'1', b'1', b'0', b'1', b'0', b'0', b'0', b'1', b'0', b'1',  24., b'm', b'Latino', b'no', b'yes', b'Brazil', b'no',  5., b\"'18 and more'\", b'Self', b'NO'),\n",
       "        (b'1', b'1', b'0', b'1', b'1', b'0', b'1', b'1', b'1', b'1',  27., b'm', b'Latino', b'yes', b'yes', b'Spain', b'no',  8., b\"'18 and more'\", b'Parent', b'YES'),\n",
       "        (b'1', b'1', b'0', b'1', b'0', b'0', b'1', b'1', b'0', b'1',  35., b'f', b'White-European', b'no', b'yes', b\"'United States'\", b'no',  6., b\"'18 and more'\", b'Self', b'NO'),\n",
       "        (b'1', b'0', b'0', b'0', b'0', b'0', b'0', b'1', b'0', b'0',  40., b'f', b'?', b'no', b'no', b'Egypt', b'no',  2., b\"'18 and more'\", b'?', b'NO'),\n",
       "        (b'1', b'1', b'1', b'1', b'1', b'0', b'1', b'1', b'1', b'1',  36., b'm', b'Others', b'yes', b'no', b\"'United States'\", b'no',  9., b\"'18 and more'\", b'Self', b'YES'),\n",
       "        (b'0', b'1', b'0', b'0', b'0', b'0', b'0', b'1', b'0', b'0',  17., b'f', b'Black', b'no', b'no', b\"'United States'\", b'no',  2., b\"'18 and more'\", b'Self', b'NO'),\n",
       "        (b'1', b'1', b'1', b'1', b'0', b'0', b'0', b'0', b'1', b'0',  64., b'm', b'White-European', b'no', b'no', b\"'New Zealand'\", b'no',  5., b\"'18 and more'\", b'Parent', b'NO'),\n",
       "        (b'1', b'1', b'0', b'0', b'1', b'0', b'0', b'1', b'1', b'1',  29., b'm', b'White-European', b'no', b'no', b\"'United States'\", b'no',  6., b\"'18 and more'\", b'Self', b'NO'),\n",
       "        (b'1', b'1', b'1', b'1', b'0', b'1', b'1', b'1', b'1', b'0',  17., b'm', b'Asian', b'yes', b'yes', b'Bahamas', b'no',  8., b\"'18 and more'\", b\"'Health care professional'\", b'YES'),\n",
       "        (b'1', b'1', b'1', b'1', b'1', b'1', b'1', b'1', b'1', b'1',  33., b'm', b'White-European', b'no', b'no', b\"'United States'\", b'no', 10., b\"'18 and more'\", b'Relative', b'YES'),\n",
       "        (b'0', b'1', b'0', b'1', b'1', b'1', b'1', b'0', b'0', b'1',  18., b'f', b\"'Middle Eastern '\", b'no', b'no', b'Burundi', b'no',  6., b\"'18 and more'\", b'Parent', b'NO'),\n",
       "        (b'0', b'1', b'1', b'1', b'1', b'1', b'0', b'0', b'1', b'0',  17., b'f', b'?', b'no', b'no', b'Bahamas', b'no',  6., b\"'18 and more'\", b'?', b'NO'),\n",
       "        (b'1', b'0', b'0', b'0', b'0', b'0', b'1', b'1', b'0', b'1',  17., b'm', b'?', b'no', b'no', b'Austria', b'no',  4., b\"'18 and more'\", b'?', b'NO'),\n",
       "        (b'1', b'0', b'0', b'0', b'0', b'0', b'1', b'1', b'0', b'1',  17., b'f', b'?', b'no', b'no', b'Argentina', b'no',  4., b\"'18 and more'\", b'?', b'NO'),\n",
       "        (b'1', b'1', b'0', b'1', b'1', b'0', b'0', b'1', b'0', b'1',  18., b'm', b\"'Middle Eastern '\", b'no', b'yes', b\"'New Zealand'\", b'no',  6., b\"'18 and more'\", b'Parent', b'NO'),\n",
       "        (b'1', b'0', b'0', b'0', b'0', b'0', b'1', b'1', b'1', b'1',  31., b'm', b\"'Middle Eastern '\", b'no', b'no', b'Jordan', b'no',  5., b\"'18 and more'\", b'Self', b'NO'),\n",
       "        (b'0', b'0', b'0', b'0', b'0', b'0', b'0', b'1', b'0', b'1',  30., b'm', b'White-European', b'no', b'no', b'Ireland', b'no',  2., b\"'18 and more'\", b'Self', b'NO'),\n",
       "        (b'0', b'0', b'1', b'0', b'1', b'1', b'0', b'0', b'0', b'0',  35., b'f', b\"'Middle Eastern '\", b'no', b'yes', b\"'United Arab Emirates'\", b'no',  3., b\"'18 and more'\", b'Self', b'NO'),\n",
       "        (b'0', b'0', b'0', b'0', b'0', b'0', b'1', b'1', b'0', b'1',  34., b'm', b'?', b'yes', b'no', b\"'United Arab Emirates'\", b'no',  3., b\"'18 and more'\", b'?', b'NO'),\n",
       "        (b'0', b'1', b'1', b'1', b'0', b'0', b'0', b'0', b'0', b'0',  38., b'm', b'?', b'no', b'no', b\"'United Arab Emirates'\", b'no',  3., b\"'18 and more'\", b'?', b'NO'),\n",
       "        (b'0', b'0', b'0', b'0', b'0', b'0', b'0', b'0', b'0', b'0',  27., b'f', b'Black', b'no', b'no', b\"'United Arab Emirates'\", b'no',  0., b\"'18 and more'\", b'Self', b'NO'),\n",
       "        (b'0', b'0', b'0', b'1', b'0', b'0', b'1', b'1', b'1', b'1',  27., b'm', b\"'Middle Eastern '\", b'no', b'no', b'Afghanistan', b'no',  5., b\"'18 and more'\", b'Self', b'NO'),\n",
       "        (b'0', b'0', b'0', b'0', b'0', b'0', b'0', b'1', b'0', b'1',  42., b'm', b\"'Middle Eastern '\", b'yes', b'no', b\"'United Arab Emirates'\", b'no',  2., b\"'18 and more'\", b'Relative', b'NO'),\n",
       "        (b'1', b'1', b'1', b'1', b'0', b'0', b'0', b'1', b'0', b'0',  43., b'm', b'?', b'no', b'no', b'Lebanon', b'no',  5., b\"'18 and more'\", b'?', b'NO'),\n",
       "        (b'0', b'1', b'1', b'0', b'0', b'0', b'0', b'1', b'0', b'0',  24., b'f', b'?', b'yes', b'no', b'Afghanistan', b'no',  3., b\"'18 and more'\", b'?', b'NO'),\n",
       "        (b'0', b'0', b'0', b'0', b'0', b'0', b'0', b'1', b'0', b'0',  40., b'm', b'Pasifika', b'yes', b'yes', b\"'United Arab Emirates'\", b'no',  1., b\"'18 and more'\", b'Self', b'NO'),\n",
       "        (b'0', b'0', b'0', b'0', b'0', b'0', b'0', b'1', b'0', b'0',  40., b'm', b\"'Middle Eastern '\", b'yes', b'yes', b'Afghanistan', b'no',  1., b\"'18 and more'\", b'Parent', b'NO'),\n",
       "        (b'0', b'0', b'0', b'0', b'0', b'0', b'0', b'1', b'0', b'0',  48., b'm', b'Black', b'no', b'no', b\"'New Zealand'\", b'no',  1., b\"'18 and more'\", b'Self', b'NO'),\n",
       "        (b'0', b'1', b'1', b'0', b'0', b'0', b'0', b'0', b'1', b'1',  31., b'm', b\"'Middle Eastern '\", b'no', b'no', b\"'United Kingdom'\", b'no',  4., b\"'18 and more'\", b'Self', b'NO'),\n",
       "        (b'0', b'0', b'0', b'0', b'0', b'0', b'0', b'0', b'0', b'0',  18., b'm', b'White-European', b'no', b'no', b\"'United Kingdom'\", b'no',  0., b\"'18 and more'\", b'Self', b'NO'),\n",
       "        (b'1', b'0', b'0', b'1', b'1', b'1', b'1', b'1', b'0', b'1',  37., b'f', b'White-European', b'no', b'yes', b\"'United States'\", b'no',  7., b\"'18 and more'\", b'Self', b'YES'),\n",
       "        (b'1', b'1', b'0', b'0', b'0', b'0', b'1', b'0', b'0', b'1',  55., b'f', b'Others', b'no', b'no', b\"'New Zealand'\", b'no',  4., b\"'18 and more'\", b'Self', b'NO'),\n",
       "        (b'1', b'1', b'1', b'1', b'1', b'1', b'1', b'1', b'1', b'1',  18., b'f', b'White-European', b'yes', b'no', b\"'South Africa'\", b'no', 10., b\"'18 and more'\", b'Self', b'YES'),\n",
       "        (b'1', b'1', b'1', b'1', b'1', b'1', b'1', b'1', b'1', b'1',  18., b'f', b'White-European', b'no', b'no', b\"'South Africa'\", b'no', 10., b\"'18 and more'\", b'Self', b'YES'),\n",
       "        (b'0', b'0', b'1', b'0', b'0', b'0', b'0', b'0', b'0', b'0',  55., b'm', b'White-European', b'no', b'no', b\"'New Zealand'\", b'no',  1., b\"'18 and more'\", b'Self', b'NO'),\n",
       "        (b'0', b'1', b'1', b'0', b'1', b'0', b'0', b'1', b'1', b'1',  50., b'm', b\"'Middle Eastern '\", b'no', b'no', b\"'United Arab Emirates'\", b'no',  6., b\"'18 and more'\", b'Self', b'NO'),\n",
       "        (b'1', b'0', b'1', b'1', b'1', b'1', b'0', b'0', b'1', b'0',  34., b'f', b'White-European', b'no', b'no', b\"'New Zealand'\", b'no',  6., b\"'18 and more'\", b'Self', b'NO'),\n",
       "        (b'1', b'0', b'0', b'1', b'1', b'1', b'1', b'0', b'1', b'1',  53., b'f', b'White-European', b'no', b'no', b\"'New Zealand'\", b'no',  7., b\"'18 and more'\", b'Self', b'YES'),\n",
       "        (b'1', b'0', b'1', b'1', b'0', b'1', b'1', b'1', b'1', b'1',  35., b'f', b'White-European', b'no', b'yes', b\"'United States'\", b'no',  8., b\"'18 and more'\", b'Self', b'YES'),\n",
       "        (b'1', b'0', b'1', b'1', b'1', b'0', b'1', b'1', b'0', b'1',  20., b'f', b'Latino', b'yes', b'no', b'Italy', b'no',  7., b\"'18 and more'\", b'Self', b'YES'),\n",
       "        (b'0', b'0', b'0', b'0', b'1', b'1', b'0', b'0', b'0', b'0',  28., b'f', b'Asian', b'no', b'no', b'Pakistan', b'no',  2., b\"'18 and more'\", b'Self', b'NO'),\n",
       "        (b'0', b'0', b'1', b'1', b'0', b'0', b'0', b'0', b'0', b'1',  34., b'f', b\"'Middle Eastern '\", b'no', b'yes', b'Egypt', b'no',  3., b\"'18 and more'\", b'Self', b'NO'),\n",
       "        (b'0', b'1', b'1', b'1', b'0', b'0', b'0', b'0', b'0', b'1',  36., b'f', b'White-European', b'yes', b'yes', b\"'United States'\", b'no',  4., b\"'18 and more'\", b'Self', b'NO'),\n",
       "        (b'1', b'1', b'1', b'1', b'1', b'1', b'0', b'1', b'0', b'1',  27., b'f', b'White-European', b'no', b'no', b\"'New Zealand'\", b'no',  8., b\"'18 and more'\", b'Self', b'YES'),\n",
       "        (b'1', b'0', b'1', b'1', b'1', b'1', b'0', b'1', b'1', b'0',  53., b'f', b'White-European', b'no', b'no', b\"'New Zealand'\", b'no',  7., b\"'18 and more'\", b'Relative', b'YES'),\n",
       "        (b'1', b'1', b'1', b'1', b'0', b'1', b'0', b'0', b'0', b'0',  24., b'f', b'Pasifika', b'no', b'no', b\"'New Zealand'\", b'no',  5., b\"'18 and more'\", b'Relative', b'NO'),\n",
       "        (b'0', b'0', b'1', b'1', b'1', b'0', b'1', b'0', b'0', b'0',  24., b'm', b'Pasifika', b'no', b'no', b\"'New Zealand'\", b'no',  4., b\"'18 and more'\", b'Relative', b'NO'),\n",
       "        (b'0', b'1', b'1', b'0', b'0', b'1', b'0', b'0', b'0', b'0',  55., b'm', b'White-European', b'no', b'no', b\"'New Zealand'\", b'no',  3., b\"'18 and more'\", b'Relative', b'NO'),\n",
       "        (b'1', b'1', b'0', b'0', b'0', b'1', b'1', b'1', b'0', b'1',  30., b'f', b'Asian', b'no', b'no', b'Bangladesh', b'no',  6., b\"'18 and more'\", b'Self', b'NO'),\n",
       "        (b'1', b'0', b'0', b'1', b'0', b'0', b'0', b'1', b'0', b'0',  21., b'f', b'Latino', b'no', b'no', b'Chile', b'no',  3., b\"'18 and more'\", b'Self', b'NO'),\n",
       "        (b'1', b'1', b'1', b'1', b'1', b'1', b'1', b'1', b'1', b'1',  35., b'f', b'Black', b'no', b'no', b'France', b'no', 10., b\"'18 and more'\", b'Parent', b'YES'),\n",
       "        (b'1', b'0', b'0', b'0', b'0', b'0', b'0', b'0', b'0', b'0', 383., b'f', b'Pasifika', b'no', b'no', b\"'New Zealand'\", b'no',  1., b\"'18 and more'\", b'Self', b'NO'),\n",
       "        (b'1', b'0', b'1', b'1', b'1', b'1', b'1', b'1', b'0', b'1',  21., b'm', b'Latino', b'no', b'yes', b'Brazil', b'no',  8., b\"'18 and more'\", b'Self', b'YES'),\n",
       "        (b'1', b'1', b'1', b'1', b'1', b'1', b'1', b'1', b'1', b'1',  47., b'm', b'White-European', b'no', b'no', b\"'United States'\", b'no', 10., b\"'18 and more'\", b'Self', b'YES'),\n",
       "        (b'1', b'1', b'1', b'1', b'1', b'1', b'0', b'1', b'1', b'1',  30., b'f', b'Asian', b'no', b'no', b'China', b'no',  9., b\"'18 and more'\", b'Self', b'YES'),\n",
       "        (b'1', b'0', b'1', b'1', b'1', b'1', b'0', b'1', b'1', b'1',  28., b'f', b'White-European', b'no', b'no', b'Australia', b'no',  8., b\"'18 and more'\", b'Self', b'YES'),\n",
       "        (b'1', b'1', b'1', b'1', b'1', b'1', b'0', b'1', b'1', b'1',  43., b'f', b'White-European', b'no', b'no', b'Australia', b'no',  9., b\"'18 and more'\", b'Self', b'YES'),\n",
       "        (b'1', b'0', b'0', b'0', b'1', b'0', b'0', b'1', b'0', b'0',  32., b'f', b\"'South Asian'\", b'no', b'yes', b'Canada', b'no',  3., b\"'18 and more'\", b'Self', b'NO'),\n",
       "        (b'1', b'1', b'1', b'1', b'0', b'0', b'0', b'1', b'0', b'0',  44., b'f', b'White-European', b'no', b'no', b'Australia', b'no',  5., b\"'18 and more'\", b'Self', b'NO'),\n",
       "        (b'1', b'0', b'1', b'1', b'1', b'1', b'1', b'1', b'0', b'1',  20., b'f', b'Others', b'no', b'no', b'Canada', b'no',  8., b\"'18 and more'\", b'Self', b'YES'),\n",
       "        (b'1', b'0', b'1', b'1', b'0', b'1', b'1', b'1', b'0', b'1',  20., b'f', b'Others', b'no', b'no', b'Canada', b'yes',  7., b\"'18 and more'\", b'Self', b'YES'),\n",
       "        (b'0', b'0', b'0', b'0', b'0', b'0', b'0', b'0', b'0', b'0',  nan, b'm', b'?', b'no', b'no', b\"'Saudi Arabia'\", b'no',  0., b\"'18 and more'\", b'?', b'NO'),\n",
       "        (b'1', b'0', b'0', b'1', b'1', b'0', b'0', b'1', b'1', b'0',  19., b'm', b'White-European', b'no', b'no', b'Australia', b'no',  5., b\"'18 and more'\", b'Parent', b'NO'),\n",
       "        (b'1', b'1', b'1', b'1', b'1', b'1', b'1', b'1', b'0', b'1',  29., b'f', b'White-European', b'no', b'no', b'Australia', b'no',  9., b\"'18 and more'\", b'Self', b'YES'),\n",
       "        (b'1', b'0', b'1', b'0', b'0', b'0', b'0', b'1', b'0', b'0',  21., b'm', b\"'Middle Eastern '\", b'no', b'no', b\"'United States'\", b'no',  3., b\"'18 and more'\", b'Self', b'NO'),\n",
       "        (b'0', b'1', b'0', b'0', b'0', b'0', b'0', b'1', b'0', b'0',  27., b'm', b\"'Middle Eastern '\", b'no', b'no', b'France', b'no',  2., b\"'18 and more'\", b'Parent', b'NO'),\n",
       "        (b'1', b'0', b'1', b'0', b'1', b'1', b'1', b'1', b'0', b'0',  21., b'm', b'Hispanic', b'no', b'no', b\"'United States'\", b'no',  6., b\"'18 and more'\", b'Self', b'NO'),\n",
       "        (b'1', b'0', b'0', b'0', b'1', b'0', b'1', b'0', b'0', b'1',  35., b'm', b\"'Middle Eastern '\", b'no', b'no', b\"'Saudi Arabia'\", b'no',  4., b\"'18 and more'\", b'Self', b'NO'),\n",
       "        (b'0', b'0', b'0', b'0', b'1', b'0', b'0', b'0', b'0', b'0',  42., b'm', b'Black', b'no', b'no', b\"'New Zealand'\", b'no',  1., b\"'18 and more'\", b'Self', b'NO'),\n",
       "        (b'1', b'1', b'0', b'0', b'0', b'0', b'1', b'1', b'0', b'1',  29., b'f', b\"'South Asian'\", b'no', b'no', b\"'New Zealand'\", b'no',  5., b\"'18 and more'\", b'Self', b'NO'),\n",
       "        (b'0', b'0', b'1', b'1', b'0', b'0', b'0', b'1', b'0', b'0',  58., b'm', b'Asian', b'no', b'no', b\"'New Zealand'\", b'no',  3., b\"'18 and more'\", b'Self', b'NO'),\n",
       "        (b'1', b'0', b'1', b'1', b'0', b'0', b'1', b'1', b'0', b'1',  21., b'm', b'Others', b'no', b'no', b\"'United States'\", b'no',  6., b\"'18 and more'\", b'Self', b'NO'),\n",
       "        (b'1', b'1', b'1', b'0', b'0', b'0', b'0', b'1', b'1', b'1',  21., b'm', b'Others', b'no', b'no', b\"'United States'\", b'no',  6., b\"'18 and more'\", b'Self', b'NO'),\n",
       "        (b'0', b'0', b'1', b'1', b'1', b'0', b'0', b'1', b'1', b'1',  37., b'f', b'White-European', b'no', b'yes', b\"'United States'\", b'no',  6., b\"'18 and more'\", b'Self', b'NO'),\n",
       "        (b'1', b'1', b'0', b'1', b'1', b'1', b'1', b'1', b'0', b'0',  21., b'm', b'Hispanic', b'no', b'no', b\"'United States'\", b'no',  7., b\"'18 and more'\", b'Self', b'YES'),\n",
       "        (b'1', b'0', b'0', b'0', b'0', b'0', b'1', b'1', b'0', b'0',  20., b'm', b\"'Middle Eastern '\", b'no', b'no', b\"'United States'\", b'no',  3., b\"'18 and more'\", b'Self', b'NO'),\n",
       "        (b'1', b'1', b'0', b'1', b'1', b'1', b'1', b'1', b'1', b'0',  33., b'f', b'Black', b'no', b'yes', b\"'United States'\", b'no',  8., b\"'18 and more'\", b'Self', b'YES'),\n",
       "        (b'1', b'0', b'0', b'1', b'1', b'0', b'0', b'0', b'0', b'1',  20., b'm', b\"'Middle Eastern '\", b'no', b'no', b\"'United States'\", b'no',  4., b\"'18 and more'\", b'Self', b'NO'),\n",
       "        (b'1', b'1', b'0', b'0', b'0', b'0', b'0', b'0', b'0', b'0',  45., b'f', b'?', b'yes', b'no', b'Jordan', b'no',  2., b\"'18 and more'\", b'?', b'NO'),\n",
       "        (b'0', b'0', b'1', b'1', b'0', b'0', b'1', b'1', b'0', b'1',  32., b'm', b'?', b'yes', b'yes', b'Afghanistan', b'no',  5., b\"'18 and more'\", b'?', b'NO'),\n",
       "        (b'1', b'0', b'0', b'0', b'0', b'0', b'1', b'0', b'0', b'1',  30., b'm', b'?', b'no', b'no', b'Jordan', b'no',  3., b\"'18 and more'\", b'?', b'NO'),\n",
       "        (b'1', b'1', b'1', b'1', b'1', b'1', b'1', b'1', b'1', b'1',  33., b'f', b'White-European', b'no', b'yes', b'Netherlands', b'no', 10., b\"'18 and more'\", b'Self', b'YES'),\n",
       "        (b'0', b'0', b'1', b'0', b'1', b'0', b'0', b'1', b'0', b'1',  42., b'f', b\"'Middle Eastern '\", b'no', b'no', b'Jordan', b'no',  4., b\"'18 and more'\", b'Self', b'NO'),\n",
       "        (b'1', b'1', b'0', b'0', b'0', b'0', b'0', b'0', b'0', b'0',  17., b'f', b'White-European', b'no', b'no', b\"'New Zealand'\", b'no',  2., b\"'18 and more'\", b'Self', b'NO'),\n",
       "        (b'1', b'0', b'0', b'0', b'0', b'0', b'0', b'1', b'0', b'1',  27., b'f', b\"'Middle Eastern '\", b'no', b'no', b\"'United States'\", b'no',  3., b\"'18 and more'\", b'Self', b'NO'),\n",
       "        (b'1', b'0', b'0', b'1', b'1', b'1', b'1', b'1', b'1', b'1',  35., b'f', b\"'Middle Eastern '\", b'no', b'yes', b'Afghanistan', b'no',  8., b\"'18 and more'\", b'Parent', b'YES'),\n",
       "        (b'1', b'0', b'0', b'0', b'0', b'0', b'0', b'0', b'0', b'0',  37., b'm', b'White-European', b'no', b'no', b\"'United Kingdom'\", b'no',  1., b\"'18 and more'\", b'Self', b'NO'),\n",
       "        (b'1', b'0', b'0', b'0', b'0', b'0', b'0', b'1', b'1', b'1',  30., b'f', b'White-European', b'no', b'yes', b\"'United Kingdom'\", b'no',  4., b\"'18 and more'\", b'Self', b'NO'),\n",
       "        (b'1', b'1', b'1', b'1', b'1', b'1', b'0', b'1', b'1', b'1',  29., b'f', b'White-European', b'no', b'no', b\"'New Zealand'\", b'no',  9., b\"'18 and more'\", b'Self', b'YES'),\n",
       "        (b'1', b'0', b'1', b'1', b'0', b'0', b'0', b'0', b'0', b'1',  17., b'f', b'White-European', b'no', b'yes', b'Romania', b'no',  4., b\"'18 and more'\", b'Self', b'NO'),\n",
       "        (b'0', b'1', b'0', b'0', b'1', b'0', b'1', b'0', b'0', b'1',  nan, b'f', b'?', b'no', b'no', b'Jordan', b'no',  4., b\"'18 and more'\", b'?', b'NO'),\n",
       "        (b'0', b'0', b'0', b'1', b'1', b'1', b'0', b'1', b'0', b'1',  22., b'f', b'Pasifika', b'no', b'no', b\"'New Zealand'\", b'no',  5., b\"'18 and more'\", b'Self', b'NO'),\n",
       "        (b'1', b'1', b'1', b'0', b'1', b'1', b'1', b'0', b'1', b'1',  19., b'f', b'Latino', b'no', b'yes', b'Brazil', b'no',  8., b\"'18 and more'\", b'Self', b'YES'),\n",
       "        (b'1', b'1', b'1', b'1', b'1', b'0', b'0', b'1', b'1', b'1',  42., b'f', b'White-European', b'no', b'yes', b'Sweden', b'no',  8., b\"'18 and more'\", b'Self', b'YES'),\n",
       "        (b'1', b'1', b'0', b'0', b'0', b'0', b'0', b'1', b'0', b'1',  37., b'f', b'White-European', b'no', b'no', b\"'United Kingdom'\", b'no',  4., b\"'18 and more'\", b'Self', b'NO'),\n",
       "        (b'1', b'0', b'0', b'0', b'1', b'0', b'1', b'1', b'0', b'0',  28., b'f', b'White-European', b'no', b'no', b'Australia', b'no',  4., b\"'18 and more'\", b'Self', b'NO'),\n",
       "        (b'1', b'0', b'0', b'1', b'1', b'0', b'1', b'0', b'0', b'0',  22., b'm', b'Others', b'no', b'no', b\"'New Zealand'\", b'no',  4., b\"'18 and more'\", b'Self', b'NO'),\n",
       "        (b'1', b'1', b'0', b'0', b'0', b'0', b'0', b'1', b'0', b'0',  26., b'f', b'Pasifika', b'no', b'no', b'Tonga', b'no',  3., b\"'18 and more'\", b'Self', b'NO'),\n",
       "        (b'0', b'0', b'0', b'0', b'0', b'0', b'0', b'0', b'1', b'0',  21., b'm', b'Pasifika', b'no', b'no', b'Oman', b'no',  1., b\"'18 and more'\", b'Self', b'NO'),\n",
       "        (b'0', b'1', b'1', b'0', b'0', b'0', b'0', b'1', b'0', b'0',  26., b'f', b\"'South Asian'\", b'no', b'no', b'India', b'no',  3., b\"'18 and more'\", b'Self', b'NO'),\n",
       "        (b'1', b'0', b'0', b'0', b'0', b'0', b'0', b'1', b'0', b'0',  39., b'f', b'Asian', b'no', b'no', b'Philippines', b'no',  2., b\"'18 and more'\", b'Self', b'NO'),\n",
       "        (b'1', b'0', b'0', b'0', b'0', b'0', b'0', b'0', b'1', b'1',  26., b'm', b'Asian', b'no', b'no', b\"'New Zealand'\", b'no',  3., b\"'18 and more'\", b'Self', b'NO'),\n",
       "        (b'1', b'1', b'0', b'0', b'1', b'0', b'1', b'1', b'0', b'0',  26., b'm', b'Asian', b'no', b'no', b'India', b'no',  5., b\"'18 and more'\", b'Self', b'NO'),\n",
       "        (b'0', b'0', b'0', b'0', b'1', b'1', b'0', b'1', b'0', b'1',  21., b'm', b\"'South Asian'\", b'no', b'no', b'India', b'no',  4., b\"'18 and more'\", b'Self', b'NO'),\n",
       "        (b'0', b'0', b'0', b'0', b'0', b'0', b'0', b'0', b'0', b'0',  25., b'm', b'Asian', b'no', b'no', b'India', b'no',  0., b\"'18 and more'\", b'Self', b'NO'),\n",
       "        (b'0', b'0', b'1', b'0', b'1', b'1', b'1', b'1', b'0', b'1',  26., b'm', b\"'South Asian'\", b'no', b'no', b\"'New Zealand'\", b'no',  6., b\"'18 and more'\", b'Self', b'NO'),\n",
       "        (b'1', b'1', b'0', b'1', b'1', b'0', b'1', b'1', b'0', b'1',  30., b'f', b'White-European', b'no', b'no', b\"'United States'\", b'no',  7., b\"'18 and more'\", b'Self', b'YES'),\n",
       "        (b'1', b'0', b'0', b'1', b'1', b'1', b'1', b'0', b'0', b'0',  19., b'f', b'Asian', b'no', b'no', b'India', b'no',  5., b\"'18 and more'\", b'Parent', b'NO'),\n",
       "        (b'1', b'0', b'0', b'0', b'0', b'1', b'1', b'0', b'0', b'0',  19., b'f', b'Asian', b'no', b'no', b'India', b'no',  3., b\"'18 and more'\", b'Parent', b'NO'),\n",
       "        (b'1', b'0', b'1', b'1', b'1', b'1', b'1', b'1', b'1', b'1',  25., b'f', b'White-European', b'no', b'yes', b\"'New Zealand'\", b'no',  9., b\"'18 and more'\", b'Self', b'YES'),\n",
       "        (b'0', b'0', b'1', b'1', b'0', b'1', b'0', b'1', b'1', b'1',  23., b'm', b'White-European', b'no', b'no', b\"'United Kingdom'\", b'no',  6., b\"'18 and more'\", b'Self', b'NO'),\n",
       "        (b'1', b'0', b'0', b'0', b'1', b'0', b'0', b'0', b'0', b'1',  31., b'm', b'Asian', b'no', b'no', b\"'Sri Lanka'\", b'no',  3., b\"'18 and more'\", b'Parent', b'NO'),\n",
       "        (b'0', b'1', b'0', b'0', b'0', b'0', b'0', b'1', b'1', b'1',  27., b'm', b'Asian', b'no', b'no', b\"'New Zealand'\", b'no',  4., b\"'18 and more'\", b'Self', b'NO'),\n",
       "        (b'1', b'1', b'0', b'1', b'1', b'1', b'1', b'1', b'0', b'1',  29., b'f', b\"'Middle Eastern '\", b'no', b'no', b\"'United Arab Emirates'\", b'no',  8., b\"'18 and more'\", b'Self', b'YES'),\n",
       "        (b'1', b'0', b'1', b'1', b'1', b'1', b'0', b'1', b'1', b'0',  38., b'f', b'White-European', b'no', b'no', b\"'United Kingdom'\", b'no',  7., b\"'18 and more'\", b'Parent', b'YES'),\n",
       "        (b'1', b'1', b'1', b'1', b'1', b'1', b'0', b'1', b'0', b'1',  23., b'f', b'White-European', b'no', b'no', b\"'United States'\", b'no',  8., b\"'18 and more'\", b'Self', b'YES'),\n",
       "        (b'1', b'1', b'1', b'0', b'1', b'0', b'1', b'1', b'0', b'0',  27., b'm', b'White-European', b'no', b'no', b\"'United States'\", b'no',  6., b\"'18 and more'\", b'Self', b'NO'),\n",
       "        (b'1', b'1', b'1', b'1', b'1', b'1', b'0', b'1', b'1', b'1',  27., b'f', b'White-European', b'no', b'no', b'Canada', b'no',  9., b\"'18 and more'\", b'Self', b'YES'),\n",
       "        (b'1', b'1', b'1', b'1', b'1', b'1', b'0', b'0', b'1', b'0',  42., b'm', b'White-European', b'no', b'no', b\"'United States'\", b'no',  7., b\"'18 and more'\", b'Self', b'YES'),\n",
       "        (b'1', b'1', b'1', b'1', b'1', b'1', b'0', b'1', b'1', b'1',  20., b'm', b'White-European', b'no', b'no', b\"'United Kingdom'\", b'no',  9., b\"'18 and more'\", b'Self', b'YES'),\n",
       "        (b'1', b'0', b'1', b'1', b'1', b'1', b'1', b'1', b'1', b'1',  17., b'f', b'White-European', b'no', b'no', b\"'United States'\", b'no',  9., b\"'18 and more'\", b'Self', b'YES'),\n",
       "        (b'1', b'0', b'0', b'0', b'0', b'0', b'0', b'0', b'0', b'0',  20., b'f', b'Black', b'no', b'no', b'Spain', b'no',  1., b\"'18 and more'\", b'Self', b'NO'),\n",
       "        (b'1', b'0', b'0', b'1', b'1', b'1', b'1', b'1', b'0', b'1',  30., b'm', b'Asian', b'yes', b'no', b\"'Sierra Leone'\", b'no',  7., b\"'18 and more'\", b'Self', b'YES'),\n",
       "        (b'1', b'0', b'1', b'1', b'1', b'1', b'1', b'1', b'1', b'1',  28., b'f', b'White-European', b'no', b'yes', b'Australia', b'no',  9., b\"'18 and more'\", b'Self', b'YES'),\n",
       "        (b'1', b'1', b'0', b'0', b'1', b'1', b'1', b'1', b'0', b'1',  26., b'f', b'White-European', b'no', b'no', b\"'New Zealand'\", b'no',  7., b\"'18 and more'\", b'Self', b'YES'),\n",
       "        (b'0', b'0', b'0', b'0', b'0', b'0', b'0', b'0', b'0', b'0',  26., b'f', b'White-European', b'no', b'no', b'Australia', b'no',  0., b\"'18 and more'\", b'Self', b'NO'),\n",
       "        (b'1', b'0', b'0', b'1', b'1', b'1', b'0', b'1', b'0', b'1',  31., b'm', b\"'Middle Eastern '\", b'no', b'yes', b'Canada', b'no',  6., b\"'18 and more'\", b'Self', b'NO'),\n",
       "        (b'1', b'0', b'1', b'1', b'0', b'0', b'1', b'0', b'0', b'1',  40., b'f', b'White-European', b'no', b'no', b\"'United Kingdom'\", b'no',  5., b\"'18 and more'\", b'Self', b'NO'),\n",
       "        (b'1', b'0', b'0', b'0', b'1', b'0', b'0', b'0', b'1', b'1',  39., b'f', b'White-European', b'no', b'yes', b'Ireland', b'no',  4., b\"'18 and more'\", b'Relative', b'NO'),\n",
       "        (b'1', b'1', b'0', b'0', b'0', b'0', b'0', b'1', b'0', b'0',  18., b'f', b'White-European', b'no', b'no', b\"'United States'\", b'no',  3., b\"'18 and more'\", b'Self', b'NO'),\n",
       "        (b'1', b'0', b'0', b'0', b'0', b'0', b'0', b'1', b'0', b'1',  24., b'm', b'Black', b'no', b'no', b'Ethiopia', b'no',  3., b\"'18 and more'\", b'Self', b'NO'),\n",
       "        (b'1', b'1', b'0', b'0', b'0', b'0', b'0', b'1', b'0', b'0',  23., b'm', b\"'South Asian'\", b'no', b'no', b'India', b'no',  3., b\"'18 and more'\", b'Self', b'NO'),\n",
       "        (b'1', b'0', b'1', b'1', b'0', b'0', b'0', b'1', b'0', b'1',  24., b'm', b'Asian', b'no', b'no', b'India', b'no',  5., b\"'18 and more'\", b'Self', b'NO'),\n",
       "        (b'0', b'1', b'0', b'0', b'1', b'1', b'0', b'1', b'1', b'0',  24., b'm', b'Asian', b'no', b'no', b\"'New Zealand'\", b'no',  5., b\"'18 and more'\", b'Self', b'NO'),\n",
       "        (b'1', b'0', b'1', b'1', b'0', b'0', b'0', b'1', b'1', b'1',  27., b'm', b'Asian', b'no', b'no', b\"'New Zealand'\", b'no',  6., b\"'18 and more'\", b'Self', b'NO'),\n",
       "        (b'0', b'1', b'1', b'0', b'0', b'1', b'0', b'0', b'1', b'1',  24., b'm', b'Asian', b'no', b'no', b\"'New Zealand'\", b'no',  5., b\"'18 and more'\", b'Self', b'NO'),\n",
       "        (b'0', b'0', b'0', b'0', b'1', b'0', b'0', b'0', b'0', b'1',  25., b'm', b'Asian', b'no', b'no', b'India', b'no',  2., b\"'18 and more'\", b'Self', b'NO'),\n",
       "        (b'1', b'0', b'0', b'0', b'0', b'0', b'1', b'0', b'0', b'1',  22., b'm', b'Asian', b'no', b'no', b\"'New Zealand'\", b'no',  3., b\"'18 and more'\", b'Self', b'NO'),\n",
       "        (b'0', b'1', b'0', b'0', b'0', b'0', b'0', b'0', b'0', b'1',  40., b'f', b'Asian', b'no', b'no', b\"'New Zealand'\", b'no',  2., b\"'18 and more'\", b'Self', b'NO'),\n",
       "        (b'0', b'0', b'1', b'1', b'0', b'0', b'0', b'1', b'0', b'1',  23., b'm', b'Asian', b'no', b'no', b'India', b'no',  4., b\"'18 and more'\", b'Self', b'NO'),\n",
       "        (b'1', b'0', b'0', b'0', b'0', b'0', b'0', b'1', b'0', b'0',  29., b'm', b\"'South Asian'\", b'no', b'no', b'India', b'no',  2., b\"'18 and more'\", b'Self', b'NO'),\n",
       "        (b'1', b'0', b'1', b'0', b'0', b'0', b'0', b'1', b'0', b'0',  25., b'm', b'Asian', b'no', b'no', b'India', b'no',  3., b\"'18 and more'\", b'Self', b'NO'),\n",
       "        (b'1', b'0', b'0', b'1', b'1', b'0', b'0', b'1', b'0', b'0',  27., b'm', b'Asian', b'no', b'no', b'India', b'no',  4., b\"'18 and more'\", b'Self', b'NO'),\n",
       "        (b'0', b'0', b'0', b'0', b'0', b'0', b'0', b'1', b'0', b'0',  22., b'm', b\"'South Asian'\", b'no', b'no', b\"'New Zealand'\", b'no',  1., b\"'18 and more'\", b'Self', b'NO'),\n",
       "        (b'1', b'0', b'0', b'1', b'1', b'1', b'1', b'1', b'1', b'1',  28., b'm', b'White-European', b'no', b'no', b\"'United States'\", b'no',  8., b\"'18 and more'\", b'Parent', b'YES'),\n",
       "        (b'1', b'0', b'1', b'1', b'1', b'1', b'1', b'1', b'1', b'1',  20., b'm', b'White-European', b'no', b'no', b'Australia', b'no',  9., b\"'18 and more'\", b'Self', b'YES'),\n",
       "        (b'1', b'1', b'1', b'1', b'1', b'1', b'1', b'1', b'1', b'1',  19., b'f', b'White-European', b'no', b'no', b'Romania', b'no', 10., b\"'18 and more'\", b'Self', b'YES'),\n",
       "        (b'1', b'1', b'0', b'0', b'1', b'1', b'1', b'1', b'0', b'1',  37., b'f', b'Others', b'no', b'no', b\"'United States'\", b'no',  7., b\"'18 and more'\", b'Self', b'YES'),\n",
       "        (b'1', b'1', b'1', b'1', b'1', b'0', b'1', b'1', b'1', b'0',  35., b'm', b'White-European', b'yes', b'yes', b\"'United States'\", b'no',  8., b\"'18 and more'\", b'Self', b'YES'),\n",
       "        (b'0', b'0', b'0', b'0', b'1', b'0', b'0', b'1', b'0', b'0',  26., b'm', b'Asian', b'no', b'no', b\"'New Zealand'\", b'no',  2., b\"'18 and more'\", b'Self', b'NO'),\n",
       "        (b'0', b'1', b'1', b'1', b'1', b'0', b'1', b'1', b'0', b'1',  23., b'm', b'Asian', b'no', b'no', b\"'Viet Nam'\", b'no',  7., b\"'18 and more'\", b'Self', b'YES'),\n",
       "        (b'1', b'1', b'0', b'0', b'1', b'0', b'0', b'0', b'0', b'1',  32., b'f', b\"'South Asian'\", b'no', b'no', b\"'New Zealand'\", b'no',  4., b\"'18 and more'\", b'Self', b'NO'),\n",
       "        (b'0', b'0', b'1', b'0', b'1', b'0', b'1', b'0', b'1', b'1',  30., b'm', b'Asian', b'no', b'no', b\"'Sri Lanka'\", b'no',  5., b\"'18 and more'\", b'Self', b'NO'),\n",
       "        (b'1', b'0', b'0', b'0', b'1', b'0', b'1', b'0', b'0', b'1',  31., b'm', b'Asian', b'no', b'no', b\"'Sri Lanka'\", b'no',  4., b\"'18 and more'\", b'Self', b'NO'),\n",
       "        (b'0', b'0', b'0', b'0', b'0', b'0', b'1', b'1', b'0', b'1',  28., b'f', b'Asian', b'no', b'no', b\"'New Zealand'\", b'no',  3., b\"'18 and more'\", b'Self', b'NO'),\n",
       "        (b'1', b'0', b'0', b'0', b'0', b'1', b'0', b'1', b'0', b'1',  29., b'f', b'Asian', b'no', b'no', b\"'Sri Lanka'\", b'no',  4., b\"'18 and more'\", b'Self', b'NO'),\n",
       "        (b'0', b'1', b'0', b'0', b'1', b'0', b'0', b'1', b'0', b'1',  29., b'f', b\"'South Asian'\", b'no', b'no', b\"'Sri Lanka'\", b'no',  4., b\"'18 and more'\", b'Self', b'NO'),\n",
       "        (b'1', b'0', b'0', b'1', b'0', b'0', b'0', b'0', b'1', b'1',  29., b'f', b'Asian', b'no', b'no', b'India', b'no',  4., b\"'18 and more'\", b'Self', b'NO'),\n",
       "        (b'1', b'0', b'0', b'0', b'0', b'0', b'1', b'1', b'0', b'0',  31., b'm', b'Asian', b'no', b'no', b'India', b'no',  3., b\"'18 and more'\", b'Self', b'NO'),\n",
       "        (b'0', b'0', b'0', b'0', b'0', b'0', b'0', b'0', b'0', b'0',  36., b'm', b'Asian', b'no', b'no', b'India', b'no',  0., b\"'18 and more'\", b'Parent', b'NO'),\n",
       "        (b'0', b'1', b'0', b'0', b'0', b'0', b'0', b'1', b'0', b'0',  32., b'f', b\"'South Asian'\", b'no', b'no', b'India', b'no',  2., b\"'18 and more'\", b'Self', b'NO'),\n",
       "        (b'0', b'0', b'0', b'0', b'0', b'0', b'0', b'1', b'0', b'0',  34., b'f', b\"'South Asian'\", b'no', b'no', b\"'New Zealand'\", b'no',  1., b\"'18 and more'\", b'Self', b'NO'),\n",
       "        (b'1', b'1', b'0', b'0', b'0', b'0', b'0', b'1', b'0', b'0',  24., b'm', b'Asian', b'no', b'no', b\"'Sri Lanka'\", b'no',  3., b\"'18 and more'\", b'Self', b'NO'),\n",
       "        (b'1', b'0', b'1', b'0', b'1', b'0', b'1', b'1', b'0', b'1',  24., b'f', b'Asian', b'no', b'no', b\"'New Zealand'\", b'no',  6., b\"'18 and more'\", b'Self', b'NO'),\n",
       "        (b'1', b'0', b'0', b'0', b'1', b'0', b'1', b'1', b'0', b'1',  42., b'm', b'Asian', b'no', b'no', b\"'Sri Lanka'\", b'no',  5., b\"'18 and more'\", b'Self', b'NO'),\n",
       "        (b'0', b'0', b'1', b'0', b'0', b'0', b'0', b'1', b'1', b'1',  26., b'f', b'Others', b'no', b'no', b'India', b'no',  4., b\"'18 and more'\", b'Self', b'NO'),\n",
       "        (b'1', b'0', b'0', b'0', b'1', b'0', b'1', b'1', b'0', b'0',  27., b'f', b'Asian', b'no', b'no', b\"'Sri Lanka'\", b'no',  4., b\"'18 and more'\", b'Self', b'NO'),\n",
       "        (b'0', b'0', b'1', b'1', b'1', b'0', b'0', b'1', b'1', b'1',  36., b'f', b'Latino', b'no', b'yes', b'Brazil', b'no',  6., b\"'18 and more'\", b'Self', b'NO'),\n",
       "        (b'1', b'1', b'1', b'1', b'1', b'0', b'0', b'1', b'1', b'1',  36., b'f', b'Latino', b'no', b'yes', b'Brazil', b'no',  8., b\"'18 and more'\", b'Self', b'YES'),\n",
       "        (b'1', b'0', b'1', b'1', b'0', b'0', b'1', b'1', b'0', b'1',  55., b'm', b'Hispanic', b'no', b'no', b\"'United States'\", b'no',  6., b\"'18 and more'\", b'Self', b'NO'),\n",
       "        (b'1', b'1', b'0', b'1', b'0', b'0', b'1', b'0', b'0', b'0',  23., b'f', b'Asian', b'no', b'no', b\"'New Zealand'\", b'no',  4., b\"'18 and more'\", b'Self', b'NO'),\n",
       "        (b'0', b'0', b'1', b'1', b'1', b'0', b'0', b'0', b'0', b'1',  22., b'f', b'Asian', b'no', b'no', b\"'Sri Lanka'\", b'no',  4., b\"'18 and more'\", b'Self', b'NO'),\n",
       "        (b'1', b'0', b'0', b'0', b'0', b'0', b'0', b'1', b'0', b'0',  42., b'f', b\"'Middle Eastern '\", b'no', b'no', b'France', b'no',  2., b\"'18 and more'\", b'Parent', b'NO'),\n",
       "        (b'1', b'0', b'0', b'1', b'0', b'0', b'0', b'1', b'0', b'0',  54., b'm', b'White-European', b'no', b'no', b'Canada', b'no',  3., b\"'18 and more'\", b'Self', b'NO'),\n",
       "        (b'1', b'1', b'0', b'0', b'0', b'0', b'1', b'1', b'1', b'1',  43., b'f', b'Black', b'no', b'no', b\"'United States'\", b'no',  6., b\"'18 and more'\", b'Self', b'NO'),\n",
       "        (b'1', b'1', b'1', b'1', b'1', b'1', b'0', b'1', b'1', b'1',  43., b'f', b'Black', b'no', b'no', b\"'United States'\", b'yes',  9., b\"'18 and more'\", b'Self', b'YES'),\n",
       "        (b'0', b'0', b'1', b'1', b'1', b'0', b'0', b'1', b'1', b'1',  29., b'm', b\"'Middle Eastern '\", b'no', b'no', b'Iran', b'no',  6., b\"'18 and more'\", b'Self', b'NO'),\n",
       "        (b'1', b'0', b'1', b'0', b'1', b'0', b'0', b'1', b'0', b'1',  29., b'm', b\"'Middle Eastern '\", b'no', b'no', b'Iran', b'no',  5., b\"'18 and more'\", b'Self', b'NO'),\n",
       "        (b'1', b'0', b'1', b'0', b'1', b'0', b'1', b'0', b'0', b'0',  37., b'm', b'White-European', b'no', b'no', b'Australia', b'no',  4., b\"'18 and more'\", b'Self', b'NO'),\n",
       "        (b'1', b'0', b'0', b'0', b'1', b'0', b'1', b'0', b'0', b'1',  39., b'f', b'White-European', b'no', b'no', b'Australia', b'no',  4., b\"'18 and more'\", b'Self', b'NO'),\n",
       "        (b'1', b'1', b'1', b'1', b'1', b'0', b'0', b'0', b'0', b'0',  18., b'f', b'Asian', b'no', b'no', b\"'Viet Nam'\", b'no',  5., b\"'18 and more'\", b'Self', b'NO'),\n",
       "        (b'0', b'1', b'0', b'1', b'1', b'1', b'0', b'1', b'0', b'1',  31., b'm', b'White-European', b'no', b'no', b\"'United States'\", b'no',  6., b\"'18 and more'\", b'Others', b'NO'),\n",
       "        (b'0', b'0', b'1', b'1', b'1', b'0', b'0', b'0', b'0', b'1',  34., b'm', b'Asian', b'no', b'no', b\"'New Zealand'\", b'no',  4., b\"'18 and more'\", b'Self', b'NO'),\n",
       "        (b'0', b'0', b'1', b'1', b'1', b'0', b'1', b'0', b'0', b'1',  22., b'm', b'White-European', b'no', b'no', b\"'United States'\", b'no',  5., b\"'18 and more'\", b'Self', b'NO'),\n",
       "        (b'1', b'0', b'1', b'1', b'1', b'1', b'1', b'0', b'1', b'0',  28., b'm', b\"'South Asian'\", b'no', b'no', b'India', b'no',  7., b\"'18 and more'\", b'Self', b'YES'),\n",
       "        (b'1', b'0', b'0', b'0', b'0', b'0', b'1', b'1', b'0', b'1',  38., b'm', b'Others', b'no', b'yes', b'Netherlands', b'no',  4., b\"'18 and more'\", b'Self', b'NO'),\n",
       "        (b'1', b'0', b'0', b'0', b'0', b'0', b'1', b'1', b'0', b'1',  28., b'f', b'White-European', b'no', b'no', b'Australia', b'no',  4., b\"'18 and more'\", b'Self', b'NO'),\n",
       "        (b'1', b'1', b'0', b'1', b'1', b'1', b'0', b'1', b'1', b'1',  53., b'f', b'White-European', b'no', b'yes', b\"'United States'\", b'no',  8., b\"'18 and more'\", b'Self', b'YES'),\n",
       "        (b'1', b'1', b'1', b'0', b'1', b'0', b'1', b'0', b'0', b'0',  26., b'm', b'White-European', b'no', b'no', b\"'United Kingdom'\", b'no',  5., b\"'18 and more'\", b'Self', b'NO'),\n",
       "        (b'1', b'1', b'1', b'1', b'1', b'1', b'0', b'1', b'1', b'1',  37., b'm', b'White-European', b'no', b'no', b\"'United Kingdom'\", b'no',  9., b\"'18 and more'\", b'Self', b'YES'),\n",
       "        (b'1', b'1', b'0', b'1', b'0', b'0', b'0', b'1', b'0', b'1',  42., b'm', b'Latino', b'yes', b'yes', b\"'Costa Rica'\", b'no',  5., b\"'18 and more'\", b'Parent', b'NO'),\n",
       "        (b'1', b'0', b'0', b'0', b'0', b'0', b'0', b'1', b'0', b'1',  43., b'm', b'Hispanic', b'no', b'no', b\"'United States'\", b'no',  3., b\"'18 and more'\", b'Self', b'NO'),\n",
       "        (b'1', b'0', b'0', b'0', b'0', b'0', b'0', b'1', b'0', b'0',  32., b'f', b'Asian', b'no', b'no', b\"'United Kingdom'\", b'no',  2., b\"'18 and more'\", b'Self', b'NO'),\n",
       "        (b'0', b'1', b'0', b'1', b'0', b'0', b'0', b'1', b'0', b'0',  31., b'm', b'White-European', b'no', b'yes', b\"'United Kingdom'\", b'no',  3., b\"'18 and more'\", b'Self', b'NO'),\n",
       "        (b'1', b'0', b'1', b'1', b'1', b'1', b'1', b'1', b'1', b'1',  53., b'f', b'White-European', b'no', b'no', b\"'United States'\", b'no',  9., b\"'18 and more'\", b'Self', b'YES'),\n",
       "        (b'1', b'1', b'1', b'1', b'1', b'1', b'1', b'1', b'1', b'1',  28., b'm', b'White-European', b'no', b'no', b\"'United States'\", b'no', 10., b\"'18 and more'\", b'Self', b'YES'),\n",
       "        (b'1', b'0', b'1', b'1', b'1', b'1', b'1', b'1', b'1', b'1',  38., b'm', b'White-European', b'no', b'no', b'Germany', b'no',  9., b\"'18 and more'\", b'Self', b'YES'),\n",
       "        (b'1', b'1', b'1', b'0', b'1', b'1', b'0', b'1', b'1', b'0',  31., b'm', b'White-European', b'no', b'no', b\"'United States'\", b'no',  7., b\"'18 and more'\", b'Self', b'YES'),\n",
       "        (b'1', b'1', b'1', b'1', b'0', b'0', b'0', b'0', b'0', b'0',  31., b'f', b'Pasifika', b'no', b'yes', b\"'United States'\", b'no',  4., b\"'18 and more'\", b'Self', b'NO'),\n",
       "        (b'1', b'1', b'1', b'1', b'1', b'0', b'1', b'1', b'1', b'1',  21., b'f', b'White-European', b'no', b'no', b'Australia', b'no',  9., b\"'18 and more'\", b'Self', b'YES'),\n",
       "        (b'1', b'1', b'0', b'1', b'1', b'0', b'0', b'0', b'1', b'1',  25., b'f', b'White-European', b'no', b'no', b\"'United States'\", b'no',  6., b\"'18 and more'\", b'Self', b'NO'),\n",
       "        (b'1', b'1', b'0', b'1', b'1', b'0', b'0', b'1', b'1', b'1',  25., b'f', b'White-European', b'no', b'no', b\"'United States'\", b'no',  7., b\"'18 and more'\", b'Self', b'YES'),\n",
       "        (b'1', b'1', b'1', b'1', b'1', b'1', b'1', b'0', b'1', b'1',  60., b'f', b'White-European', b'no', b'yes', b\"'United States'\", b'no',  9., b\"'18 and more'\", b'Relative', b'YES'),\n",
       "        (b'1', b'0', b'1', b'1', b'0', b'0', b'0', b'0', b'0', b'0',  39., b'm', b'White-European', b'no', b'yes', b\"'United States'\", b'no',  3., b\"'18 and more'\", b'Self', b'NO'),\n",
       "        (b'1', b'1', b'1', b'1', b'1', b'1', b'1', b'1', b'1', b'1',  53., b'm', b'White-European', b'no', b'no', b\"'United States'\", b'no', 10., b\"'18 and more'\", b'Self', b'YES'),\n",
       "        (b'1', b'1', b'1', b'1', b'1', b'1', b'1', b'1', b'1', b'1',  20., b'm', b\"'Middle Eastern '\", b'no', b'yes', b\"'United States'\", b'no', 10., b\"'18 and more'\", b'Parent', b'YES'),\n",
       "        (b'1', b'1', b'1', b'0', b'1', b'0', b'0', b'1', b'1', b'1',  25., b'f', b'White-European', b'no', b'no', b\"'United States'\", b'yes',  7., b\"'18 and more'\", b'Self', b'YES'),\n",
       "        (b'1', b'1', b'1', b'1', b'0', b'0', b'1', b'1', b'0', b'0',  50., b'm', b'White-European', b'no', b'no', b\"'United Kingdom'\", b'no',  6., b\"'18 and more'\", b'Self', b'NO'),\n",
       "        (b'1', b'0', b'0', b'1', b'1', b'1', b'1', b'1', b'1', b'1',  28., b'f', b'White-European', b'no', b'no', b\"'United States'\", b'no',  8., b\"'18 and more'\", b'Self', b'YES'),\n",
       "        (b'1', b'0', b'1', b'1', b'1', b'1', b'1', b'1', b'1', b'1',  37., b'f', b'White-European', b'no', b'yes', b\"'United Kingdom'\", b'no',  9., b\"'18 and more'\", b'Self', b'YES'),\n",
       "        (b'0', b'0', b'0', b'1', b'0', b'1', b'0', b'1', b'1', b'1',  30., b'm', b'Asian', b'no', b'yes', b'India', b'no',  5., b\"'18 and more'\", b'Self', b'NO'),\n",
       "        (b'1', b'1', b'0', b'0', b'0', b'1', b'1', b'1', b'0', b'1',  32., b'f', b'White-European', b'no', b'no', b\"'United Kingdom'\", b'no',  6., b\"'18 and more'\", b'Self', b'NO'),\n",
       "        (b'1', b'0', b'1', b'1', b'0', b'0', b'0', b'0', b'0', b'1',  34., b'f', b'White-European', b'no', b'no', b\"'United States'\", b'no',  4., b\"'18 and more'\", b'Self', b'NO'),\n",
       "        (b'1', b'1', b'1', b'1', b'0', b'0', b'0', b'0', b'0', b'1',  42., b'm', b'White-European', b'no', b'no', b\"'United States'\", b'no',  5., b\"'18 and more'\", b'Self', b'NO'),\n",
       "        (b'1', b'1', b'0', b'0', b'1', b'1', b'1', b'1', b'1', b'1',  22., b'f', b'Black', b'no', b'no', b'Spain', b'no',  8., b\"'18 and more'\", b'Self', b'YES'),\n",
       "        (b'1', b'0', b'0', b'0', b'0', b'0', b'1', b'1', b'0', b'1',  37., b'f', b'?', b'yes', b'no', b\"'United Arab Emirates'\", b'no',  4., b\"'18 and more'\", b'?', b'NO'),\n",
       "        (b'1', b'1', b'0', b'0', b'0', b'0', b'0', b'1', b'0', b'1',  39., b'm', b'White-European', b'no', b'yes', b\"'United States'\", b'no',  4., b\"'18 and more'\", b'Parent', b'NO'),\n",
       "        (b'1', b'1', b'0', b'1', b'1', b'0', b'1', b'1', b'0', b'1',  18., b'm', b'White-European', b'no', b'no', b'Bangladesh', b'no',  7., b\"'18 and more'\", b'Self', b'YES'),\n",
       "        (b'1', b'0', b'0', b'1', b'0', b'0', b'0', b'0', b'0', b'0',  54., b'f', b'White-European', b'no', b'yes', b\"'United States'\", b'no',  2., b\"'18 and more'\", b'Parent', b'NO'),\n",
       "        (b'1', b'1', b'0', b'0', b'0', b'0', b'0', b'1', b'0', b'0',  42., b'm', b'White-European', b'no', b'no', b\"'United Kingdom'\", b'no',  3., b\"'18 and more'\", b'Self', b'NO'),\n",
       "        (b'0', b'0', b'1', b'0', b'0', b'0', b'0', b'0', b'0', b'0',  27., b'f', b'?', b'no', b'no', b'Afghanistan', b'no',  1., b\"'18 and more'\", b'?', b'NO'),\n",
       "        (b'1', b'1', b'1', b'1', b'1', b'0', b'0', b'1', b'0', b'0',  22., b'm', b'White-European', b'no', b'no', b\"'United Kingdom'\", b'no',  6., b\"'18 and more'\", b'Self', b'NO'),\n",
       "        (b'1', b'0', b'1', b'1', b'0', b'1', b'1', b'1', b'1', b'1',  22., b'm', b'White-European', b'no', b'no', b\"'United Kingdom'\", b'no',  8., b\"'18 and more'\", b'Self', b'YES'),\n",
       "        (b'1', b'1', b'1', b'1', b'1', b'1', b'1', b'0', b'1', b'1',  21., b'f', b'White-European', b'no', b'no', b\"'United Kingdom'\", b'no',  9., b\"'18 and more'\", b'Self', b'YES'),\n",
       "        (b'0', b'1', b'0', b'1', b'0', b'0', b'0', b'1', b'0', b'1',  28., b'f', b'White-European', b'no', b'no', b\"'United States'\", b'no',  4., b\"'18 and more'\", b'Self', b'NO'),\n",
       "        (b'1', b'1', b'1', b'1', b'1', b'1', b'1', b'0', b'1', b'1',  17., b'm', b'Asian', b'yes', b'no', b'India', b'no',  9., b\"'18 and more'\", b'Relative', b'YES'),\n",
       "        (b'0', b'1', b'0', b'0', b'0', b'0', b'0', b'0', b'0', b'0',  28., b'm', b'White-European', b'no', b'no', b\"'United States'\", b'no',  1., b\"'18 and more'\", b'Self', b'NO'),\n",
       "        (b'0', b'0', b'0', b'1', b'1', b'0', b'1', b'1', b'0', b'1',  21., b'm', b'Latino', b'no', b'no', b'Mexico', b'no',  5., b\"'18 and more'\", b'Self', b'NO'),\n",
       "        (b'1', b'1', b'1', b'1', b'1', b'1', b'1', b'1', b'1', b'1',  31., b'f', b'Asian', b'no', b'no', b\"'New Zealand'\", b'no', 10., b\"'18 and more'\", b'Self', b'YES'),\n",
       "        (b'1', b'0', b'0', b'0', b'0', b'0', b'1', b'1', b'0', b'0',  20., b'm', b\"'South Asian'\", b'no', b'no', b\"'New Zealand'\", b'no',  3., b\"'18 and more'\", b'Self', b'NO'),\n",
       "        (b'1', b'0', b'0', b'1', b'0', b'0', b'0', b'0', b'0', b'0',  21., b'm', b'White-European', b'no', b'no', b\"'United Kingdom'\", b'no',  2., b\"'18 and more'\", b'Self', b'NO'),\n",
       "        (b'1', b'1', b'0', b'0', b'1', b'0', b'0', b'0', b'0', b'0',  22., b'm', b'White-European', b'no', b'no', b\"'New Zealand'\", b'no',  3., b\"'18 and more'\", b'Self', b'NO'),\n",
       "        (b'0', b'1', b'0', b'0', b'0', b'0', b'0', b'1', b'1', b'1',  21., b'm', b'White-European', b'no', b'no', b\"'New Zealand'\", b'no',  4., b\"'18 and more'\", b'Self', b'NO'),\n",
       "        (b'0', b'1', b'1', b'0', b'0', b'0', b'0', b'0', b'0', b'0',  24., b'm', b'Black', b'no', b'no', b\"'New Zealand'\", b'no',  2., b\"'18 and more'\", b'Self', b'NO'),\n",
       "        (b'1', b'0', b'0', b'0', b'0', b'0', b'0', b'1', b'0', b'0',  24., b'm', b\"'South Asian'\", b'no', b'no', b'India', b'no',  2., b\"'18 and more'\", b'Self', b'NO'),\n",
       "        (b'1', b'0', b'0', b'0', b'1', b'1', b'1', b'1', b'0', b'1',  25., b'm', b'Asian', b'no', b'no', b\"'New Zealand'\", b'no',  6., b\"'18 and more'\", b'Self', b'NO'),\n",
       "        (b'1', b'0', b'0', b'0', b'0', b'0', b'0', b'0', b'0', b'1',  17., b'm', b\"'South Asian'\", b'no', b'no', b\"'New Zealand'\", b'no',  2., b\"'18 and more'\", b'Self', b'NO'),\n",
       "        (b'0', b'1', b'0', b'0', b'0', b'0', b'0', b'1', b'1', b'0',  21., b'm', b'?', b'no', b'no', b'Russia', b'no',  3., b\"'18 and more'\", b'?', b'NO'),\n",
       "        (b'1', b'0', b'0', b'0', b'0', b'0', b'0', b'1', b'0', b'0',  23., b'm', b'Pasifika', b'no', b'no', b\"'New Zealand'\", b'no',  2., b\"'18 and more'\", b'Self', b'NO'),\n",
       "        (b'1', b'0', b'0', b'1', b'1', b'0', b'1', b'1', b'0', b'0',  21., b'm', b'Asian', b'no', b'no', b\"'New Zealand'\", b'no',  5., b\"'18 and more'\", b'Self', b'NO'),\n",
       "        (b'1', b'0', b'0', b'0', b'1', b'0', b'1', b'1', b'1', b'1',  22., b'm', b'Others', b'no', b'no', b\"'New Zealand'\", b'no',  6., b\"'18 and more'\", b'Self', b'NO'),\n",
       "        (b'1', b'0', b'0', b'0', b'1', b'0', b'0', b'1', b'0', b'1',  24., b'f', b'Asian', b'no', b'no', b'India', b'no',  4., b\"'18 and more'\", b'Self', b'NO'),\n",
       "        (b'0', b'0', b'1', b'0', b'1', b'1', b'0', b'0', b'1', b'1',  34., b'm', b'Others', b'no', b'no', b\"'New Zealand'\", b'no',  5., b\"'18 and more'\", b'Self', b'NO'),\n",
       "        (b'1', b'0', b'1', b'0', b'1', b'0', b'1', b'1', b'0', b'1',  30., b'm', b'Asian', b'no', b'no', b\"'New Zealand'\", b'no',  6., b\"'18 and more'\", b'Self', b'NO'),\n",
       "        (b'1', b'0', b'0', b'0', b'0', b'0', b'1', b'1', b'0', b'1',  29., b'f', b'Asian', b'no', b'no', b'India', b'no',  4., b\"'18 and more'\", b'Self', b'NO'),\n",
       "        (b'1', b'0', b'0', b'1', b'1', b'0', b'1', b'1', b'0', b'0',  20., b'm', b'Pasifika', b'no', b'no', b\"'New Zealand'\", b'no',  5., b\"'18 and more'\", b'Self', b'NO'),\n",
       "        (b'0', b'0', b'1', b'1', b'0', b'1', b'0', b'1', b'1', b'1',  23., b'm', b'White-European', b'no', b'no', b\"'New Zealand'\", b'no',  6., b\"'18 and more'\", b'Self', b'NO'),\n",
       "        (b'0', b'0', b'0', b'0', b'0', b'0', b'0', b'1', b'0', b'1',  26., b'm', b'Asian', b'no', b'no', b'India', b'no',  2., b\"'18 and more'\", b'Self', b'NO'),\n",
       "        (b'1', b'0', b'0', b'1', b'1', b'1', b'1', b'1', b'1', b'1',  20., b'm', b\"'South Asian'\", b'no', b'no', b\"'New Zealand'\", b'no',  8., b\"'18 and more'\", b'Self', b'YES'),\n",
       "        (b'1', b'0', b'0', b'0', b'0', b'0', b'1', b'1', b'0', b'0',  41., b'm', b'Asian', b'no', b'no', b\"'New Zealand'\", b'no',  3., b\"'18 and more'\", b'Self', b'NO'),\n",
       "        (b'1', b'0', b'0', b'1', b'0', b'0', b'1', b'1', b'0', b'0',  24., b'm', b'Asian', b'no', b'no', b'India', b'no',  4., b\"'18 and more'\", b'Self', b'NO'),\n",
       "        (b'0', b'0', b'0', b'1', b'0', b'0', b'0', b'1', b'0', b'0',  35., b'm', b'Asian', b'no', b'no', b'India', b'no',  2., b\"'18 and more'\", b'Self', b'NO'),\n",
       "        (b'0', b'0', b'0', b'1', b'0', b'0', b'1', b'0', b'0', b'0',  23., b'm', b\"'South Asian'\", b'no', b'no', b'India', b'no',  2., b\"'18 and more'\", b'Self', b'NO'),\n",
       "        (b'1', b'0', b'1', b'0', b'0', b'0', b'1', b'0', b'0', b'0',  36., b'm', b'White-European', b'no', b'no', b\"'New Zealand'\", b'no',  3., b\"'18 and more'\", b'Self', b'NO'),\n",
       "        (b'1', b'1', b'0', b'0', b'1', b'0', b'0', b'1', b'0', b'0',  33., b'm', b'Turkish', b'no', b'no', b'Armenia', b'no',  4., b\"'18 and more'\", b'Self', b'NO'),\n",
       "        (b'1', b'0', b'0', b'0', b'0', b'1', b'0', b'1', b'1', b'1',  24., b'm', b\"'South Asian'\", b'no', b'no', b'India', b'no',  5., b\"'18 and more'\", b'Self', b'NO'),\n",
       "        (b'0', b'1', b'1', b'0', b'1', b'0', b'0', b'1', b'0', b'0',  25., b'm', b'?', b'no', b'no', b\"'New Zealand'\", b'no',  4., b\"'18 and more'\", b'?', b'NO'),\n",
       "        (b'1', b'0', b'0', b'0', b'1', b'1', b'0', b'1', b'0', b'1',  25., b'm', b'Asian', b'no', b'no', b'India', b'no',  5., b\"'18 and more'\", b'Self', b'NO'),\n",
       "        (b'1', b'0', b'0', b'0', b'0', b'0', b'1', b'1', b'1', b'1',  25., b'm', b'Asian', b'no', b'no', b'India', b'no',  5., b\"'18 and more'\", b'Self', b'NO'),\n",
       "        (b'0', b'0', b'0', b'0', b'0', b'0', b'1', b'1', b'0', b'1',  24., b'm', b'Asian', b'no', b'no', b'India', b'no',  3., b\"'18 and more'\", b'Self', b'NO'),\n",
       "        (b'1', b'0', b'1', b'0', b'1', b'0', b'0', b'1', b'0', b'1',  27., b'f', b\"'South Asian'\", b'no', b'no', b'India', b'no',  5., b\"'18 and more'\", b'Self', b'NO'),\n",
       "        (b'1', b'0', b'0', b'0', b'0', b'0', b'1', b'1', b'0', b'0',  26., b'm', b'Asian', b'no', b'no', b'India', b'no',  3., b\"'18 and more'\", b'Self', b'NO'),\n",
       "        (b'0', b'0', b'0', b'0', b'0', b'0', b'0', b'0', b'0', b'0',  26., b'm', b'Others', b'no', b'no', b\"'New Zealand'\", b'no',  0., b\"'18 and more'\", b'Self', b'NO'),\n",
       "        (b'1', b'0', b'0', b'0', b'1', b'0', b'0', b'1', b'1', b'0',  23., b'f', b'Asian', b'no', b'no', b'India', b'no',  4., b\"'18 and more'\", b'Self', b'NO'),\n",
       "        (b'1', b'1', b'1', b'0', b'1', b'0', b'1', b'1', b'0', b'1',  30., b'm', b'Asian', b'no', b'no', b\"'New Zealand'\", b'no',  7., b\"'18 and more'\", b'Self', b'YES'),\n",
       "        (b'1', b'0', b'0', b'1', b'0', b'0', b'0', b'0', b'1', b'0',  25., b'm', b'Asian', b'no', b'no', b'Iceland', b'no',  3., b\"'18 and more'\", b'Self', b'NO'),\n",
       "        (b'1', b'0', b'0', b'0', b'0', b'0', b'0', b'1', b'0', b'1',  23., b'm', b'Pasifika', b'no', b'no', b\"'New Zealand'\", b'no',  3., b\"'18 and more'\", b'Self', b'NO'),\n",
       "        (b'1', b'0', b'1', b'1', b'1', b'0', b'0', b'1', b'0', b'0',  34., b'f', b'White-European', b'no', b'no', b\"'United States'\", b'no',  5., b\"'18 and more'\", b'Self', b'NO'),\n",
       "        (b'1', b'0', b'0', b'1', b'1', b'0', b'1', b'1', b'0', b'1',  20., b'f', b'Asian', b'no', b'no', b\"'New Zealand'\", b'no',  6., b\"'18 and more'\", b'Self', b'NO'),\n",
       "        (b'1', b'0', b'1', b'1', b'1', b'1', b'0', b'0', b'1', b'1',  22., b'f', b'?', b'no', b'yes', b'Russia', b'no',  7., b\"'18 and more'\", b'?', b'YES'),\n",
       "        (b'1', b'1', b'1', b'1', b'0', b'0', b'0', b'1', b'1', b'1',  33., b'f', b'Black', b'no', b'yes', b'France', b'no',  7., b\"'18 and more'\", b'Parent', b'YES'),\n",
       "        (b'1', b'1', b'1', b'1', b'1', b'1', b'1', b'1', b'1', b'1',  46., b'm', b'White-European', b'no', b'no', b'Netherlands', b'no', 10., b\"'18 and more'\", b'Self', b'YES'),\n",
       "        (b'1', b'1', b'0', b'0', b'0', b'0', b'0', b'0', b'0', b'0',  17., b'm', b'White-European', b'no', b'no', b\"'United Kingdom'\", b'no',  2., b\"'18 and more'\", b'Others', b'NO'),\n",
       "        (b'1', b'1', b'1', b'0', b'0', b'0', b'0', b'1', b'0', b'0',  45., b'f', b'White-European', b'no', b'yes', b\"'United States'\", b'no',  4., b\"'18 and more'\", b'Self', b'NO'),\n",
       "        (b'0', b'1', b'1', b'1', b'0', b'0', b'0', b'0', b'1', b'0',  26., b'm', b'Asian', b'no', b'no', b'India', b'no',  4., b\"'18 and more'\", b'Others', b'NO'),\n",
       "        (b'1', b'0', b'0', b'0', b'1', b'0', b'0', b'0', b'1', b'0',  30., b'm', b'?', b'no', b'no', b'Jordan', b'no',  3., b\"'18 and more'\", b'?', b'NO'),\n",
       "        (b'1', b'1', b'0', b'0', b'0', b'0', b'0', b'0', b'0', b'0',  32., b'f', b'?', b'no', b'yes', b'Jordan', b'no',  2., b\"'18 and more'\", b'?', b'NO'),\n",
       "        (b'1', b'0', b'1', b'1', b'1', b'1', b'1', b'1', b'1', b'1',  38., b'f', b'White-European', b'no', b'no', b\"'United Kingdom'\", b'no',  9., b\"'18 and more'\", b'Self', b'YES'),\n",
       "        (b'0', b'1', b'1', b'0', b'1', b'0', b'0', b'0', b'0', b'0',  26., b'm', b'Hispanic', b'yes', b'no', b'Nicaragua', b'no',  3., b\"'18 and more'\", b'Self', b'NO'),\n",
       "        (b'1', b'0', b'0', b'0', b'0', b'0', b'0', b'0', b'0', b'0',  29., b'f', b'Hispanic', b'no', b'yes', b\"'United States'\", b'no',  1., b\"'18 and more'\", b'Self', b'NO'),\n",
       "        (b'1', b'1', b'1', b'1', b'1', b'0', b'0', b'1', b'1', b'1',  33., b'm', b'White-European', b'no', b'no', b'Australia', b'no',  8., b\"'18 and more'\", b'Self', b'YES'),\n",
       "        (b'0', b'1', b'1', b'0', b'1', b'1', b'1', b'0', b'1', b'1',  32., b'f', b'Black', b'no', b'no', b'France', b'no',  7., b\"'18 and more'\", b'Parent', b'YES'),\n",
       "        (b'1', b'1', b'1', b'1', b'1', b'1', b'1', b'1', b'1', b'1',  44., b'f', b'White-European', b'no', b'no', b\"'United States'\", b'no', 10., b\"'18 and more'\", b'Self', b'YES'),\n",
       "        (b'0', b'1', b'0', b'0', b'0', b'0', b'1', b'0', b'0', b'1',  47., b'f', b'White-European', b'yes', b'no', b\"'United Kingdom'\", b'no',  3., b\"'18 and more'\", b'Self', b'NO'),\n",
       "        (b'0', b'0', b'0', b'1', b'1', b'1', b'1', b'0', b'1', b'1',  32., b'f', b'?', b'no', b'no', b\"'Hong Kong'\", b'no',  6., b\"'18 and more'\", b'?', b'NO'),\n",
       "        (b'0', b'0', b'0', b'0', b'0', b'0', b'0', b'0', b'0', b'0',  40., b'm', b'White-European', b'no', b'no', b\"'New Zealand'\", b'no',  0., b\"'18 and more'\", b'Self', b'NO'),\n",
       "        (b'1', b'0', b'0', b'1', b'1', b'0', b'0', b'1', b'0', b'1',  40., b'm', b'White-European', b'no', b'no', b\"'United States'\", b'no',  5., b\"'18 and more'\", b'Self', b'NO'),\n",
       "        (b'0', b'0', b'0', b'0', b'0', b'0', b'0', b'0', b'0', b'0',  44., b'f', b'White-European', b'no', b'no', b\"'New Zealand'\", b'no',  0., b\"'18 and more'\", b'Self', b'NO'),\n",
       "        (b'1', b'1', b'1', b'0', b'1', b'1', b'1', b'0', b'1', b'1',  56., b'm', b'White-European', b'yes', b'no', b\"'United Kingdom'\", b'no',  8., b\"'18 and more'\", b'Self', b'YES'),\n",
       "        (b'1', b'1', b'1', b'0', b'1', b'1', b'1', b'0', b'1', b'1',  23., b'f', b'White-European', b'no', b'no', b'Ireland', b'no',  8., b\"'18 and more'\", b'Self', b'YES'),\n",
       "        (b'1', b'1', b'0', b'1', b'1', b'0', b'0', b'1', b'1', b'1',  32., b'f', b'Black', b'no', b'no', b'Canada', b'no',  7., b\"'18 and more'\", b'Self', b'YES'),\n",
       "        (b'0', b'1', b'1', b'1', b'0', b'0', b'0', b'1', b'0', b'1',  27., b'm', b'White-European', b'no', b'yes', b\"'United Kingdom'\", b'no',  5., b\"'18 and more'\", b'Self', b'NO'),\n",
       "        (b'1', b'0', b'0', b'0', b'1', b'0', b'1', b'0', b'0', b'1',  28., b'f', b'White-European', b'no', b'yes', b\"'United Kingdom'\", b'no',  4., b\"'18 and more'\", b'Self', b'NO'),\n",
       "        (b'0', b'0', b'0', b'0', b'0', b'0', b'0', b'0', b'0', b'0',  40., b'f', b\"'Middle Eastern '\", b'no', b'no', b'Afghanistan', b'no',  0., b\"'18 and more'\", b'Parent', b'NO'),\n",
       "        (b'1', b'0', b'1', b'1', b'1', b'1', b'0', b'0', b'1', b'1',  45., b'f', b'White-European', b'no', b'no', b'Canada', b'no',  7., b\"'18 and more'\", b'Self', b'YES'),\n",
       "        (b'1', b'1', b'1', b'1', b'1', b'1', b'0', b'0', b'1', b'1',  19., b'f', b'White-European', b'yes', b'no', b\"'United Kingdom'\", b'no',  8., b\"'18 and more'\", b'Parent', b'YES'),\n",
       "        (b'1', b'1', b'1', b'1', b'0', b'1', b'0', b'1', b'1', b'1',  55., b'm', b'White-European', b'no', b'yes', b\"'United States'\", b'no',  8., b\"'18 and more'\", b'Others', b'YES'),\n",
       "        (b'1', b'0', b'0', b'1', b'0', b'0', b'1', b'1', b'0', b'1',  27., b'f', b'White-European', b'yes', b'no', b'Australia', b'no',  5., b\"'18 and more'\", b'Self', b'NO'),\n",
       "        (b'1', b'1', b'1', b'1', b'1', b'1', b'1', b'0', b'1', b'1',  19., b'f', b'White-European', b'yes', b'no', b\"'United Kingdom'\", b'no',  9., b\"'18 and more'\", b'Self', b'YES'),\n",
       "        (b'1', b'0', b'0', b'1', b'0', b'0', b'0', b'1', b'0', b'0',  29., b'm', b'White-European', b'no', b'no', b'Ireland', b'no',  3., b\"'18 and more'\", b'Self', b'NO'),\n",
       "        (b'1', b'1', b'1', b'1', b'1', b'1', b'1', b'1', b'1', b'1',  33., b'f', b'White-European', b'yes', b'no', b\"'United Kingdom'\", b'no', 10., b\"'18 and more'\", b'Self', b'YES'),\n",
       "        (b'0', b'0', b'1', b'1', b'1', b'1', b'1', b'1', b'0', b'0',  48., b'f', b'White-European', b'no', b'no', b'Netherlands', b'no',  6., b\"'18 and more'\", b'Self', b'NO'),\n",
       "        (b'0', b'0', b'0', b'0', b'0', b'0', b'0', b'1', b'1', b'0',  37., b'f', b'Others', b'no', b'no', b\"'United Kingdom'\", b'no',  2., b\"'18 and more'\", b'Self', b'NO'),\n",
       "        (b'1', b'1', b'1', b'1', b'1', b'0', b'0', b'0', b'1', b'0',  30., b'm', b'Asian', b'no', b'no', b'Afghanistan', b'no',  6., b\"'18 and more'\", b'Self', b'NO'),\n",
       "        (b'1', b'1', b'0', b'1', b'0', b'0', b'0', b'0', b'0', b'1',  37., b'f', b'White-European', b'no', b'no', b\"'United Kingdom'\", b'no',  4., b\"'18 and more'\", b'Self', b'NO'),\n",
       "        (b'1', b'0', b'0', b'1', b'1', b'0', b'1', b'1', b'1', b'1',  28., b'f', b'?', b'no', b'no', b\"'Saudi Arabia'\", b'no',  7., b\"'18 and more'\", b'?', b'YES'),\n",
       "        (b'1', b'0', b'0', b'1', b'1', b'1', b'1', b'1', b'1', b'1',  20., b'f', b'White-European', b'no', b'no', b'Austria', b'no',  8., b\"'18 and more'\", b'Self', b'YES'),\n",
       "        (b'1', b'1', b'1', b'1', b'1', b'1', b'0', b'0', b'1', b'1',  25., b'f', b'Others', b'no', b'no', b\"'United States'\", b'no',  8., b\"'18 and more'\", b'Self', b'YES'),\n",
       "        (b'1', b'1', b'1', b'1', b'1', b'1', b'0', b'1', b'0', b'0',  58., b'f', b\"'Middle Eastern '\", b'no', b'no', b\"'United Kingdom'\", b'no',  7., b\"'18 and more'\", b'Self', b'YES'),\n",
       "        (b'1', b'0', b'1', b'0', b'0', b'0', b'0', b'0', b'0', b'0',  36., b'f', b'White-European', b'no', b'no', b\"'United States'\", b'no',  2., b\"'18 and more'\", b'Self', b'NO'),\n",
       "        (b'0', b'0', b'1', b'1', b'1', b'0', b'0', b'1', b'0', b'0',  36., b'm', b'White-European', b'yes', b'no', b\"'United States'\", b'no',  4., b\"'18 and more'\", b'Self', b'NO'),\n",
       "        (b'1', b'0', b'1', b'0', b'1', b'1', b'1', b'1', b'1', b'0',  19., b'm', b'Hispanic', b'no', b'no', b\"'United States'\", b'no',  7., b\"'18 and more'\", b'Self', b'YES'),\n",
       "        (b'1', b'0', b'1', b'1', b'1', b'1', b'0', b'1', b'1', b'0',  19., b'm', b'Hispanic', b'no', b'no', b\"'United States'\", b'yes',  7., b\"'18 and more'\", b'Self', b'YES'),\n",
       "        (b'1', b'0', b'0', b'1', b'1', b'0', b'0', b'1', b'0', b'1',  22., b'f', b'White-European', b'no', b'no', b\"'New Zealand'\", b'no',  5., b\"'18 and more'\", b'Self', b'NO'),\n",
       "        (b'1', b'1', b'0', b'0', b'0', b'0', b'0', b'1', b'0', b'0',  20., b'm', b'?', b'no', b'no', b\"'United Arab Emirates'\", b'no',  3., b\"'18 and more'\", b'?', b'NO'),\n",
       "        (b'0', b'1', b'0', b'0', b'0', b'0', b'1', b'1', b'0', b'1',  24., b'f', b\"'Middle Eastern '\", b'no', b'no', b\"'United Arab Emirates'\", b'no',  4., b\"'18 and more'\", b'Self', b'NO'),\n",
       "        (b'0', b'0', b'0', b'1', b'1', b'0', b'0', b'1', b'1', b'0',  19., b'm', b\"'Middle Eastern '\", b'no', b'no', b\"'United Arab Emirates'\", b'no',  4., b\"'18 and more'\", b'Self', b'NO'),\n",
       "        (b'1', b'1', b'1', b'0', b'1', b'0', b'0', b'1', b'0', b'1',  21., b'm', b'Others', b'no', b'no', b\"'United Arab Emirates'\", b'no',  6., b\"'18 and more'\", b'Self', b'NO'),\n",
       "        (b'0', b'0', b'0', b'0', b'0', b'0', b'0', b'0', b'0', b'0',  20., b'm', b\"'Middle Eastern '\", b'no', b'no', b\"'United Arab Emirates'\", b'no',  0., b\"'18 and more'\", b'Self', b'NO'),\n",
       "        (b'1', b'1', b'0', b'0', b'0', b'0', b'0', b'0', b'0', b'0',  18., b'f', b\"'Middle Eastern '\", b'no', b'no', b\"'United Arab Emirates'\", b'no',  2., b\"'18 and more'\", b'Self', b'NO'),\n",
       "        (b'0', b'1', b'1', b'0', b'0', b'0', b'0', b'1', b'0', b'1',  23., b'f', b\"'Middle Eastern '\", b'no', b'no', b\"'United Arab Emirates'\", b'no',  4., b\"'18 and more'\", b'Self', b'NO'),\n",
       "        (b'1', b'1', b'1', b'0', b'1', b'1', b'1', b'1', b'0', b'1',  22., b'm', b\"'Middle Eastern '\", b'no', b'no', b\"'United Arab Emirates'\", b'no',  8., b\"'18 and more'\", b'Self', b'YES'),\n",
       "        (b'1', b'1', b'0', b'1', b'1', b'0', b'0', b'0', b'0', b'0',  18., b'f', b\"'South Asian'\", b'no', b'yes', b'Bangladesh', b'no',  4., b\"'18 and more'\", b'Self', b'NO'),\n",
       "        (b'1', b'0', b'0', b'0', b'0', b'0', b'0', b'0', b'0', b'1',  37., b'f', b'?', b'no', b'no', b\"'United Arab Emirates'\", b'no',  2., b\"'18 and more'\", b'?', b'NO'),\n",
       "        (b'1', b'1', b'1', b'0', b'1', b'0', b'0', b'1', b'0', b'0',  18., b'm', b\"'Middle Eastern '\", b'no', b'no', b\"'United Arab Emirates'\", b'no',  5., b\"'18 and more'\", b'Relative', b'NO'),\n",
       "        (b'1', b'1', b'1', b'0', b'1', b'0', b'0', b'1', b'0', b'0',  18., b'm', b\"'Middle Eastern '\", b'no', b'no', b\"'United Arab Emirates'\", b'no',  5., b\"'18 and more'\", b'Relative', b'NO'),\n",
       "        (b'0', b'0', b'0', b'0', b'1', b'0', b'0', b'1', b'0', b'0',  18., b'm', b\"'Middle Eastern '\", b'no', b'no', b\"'United Arab Emirates'\", b'no',  2., b\"'18 and more'\", b'Relative', b'NO'),\n",
       "        (b'1', b'1', b'1', b'0', b'0', b'0', b'0', b'1', b'0', b'0',  18., b'm', b\"'Middle Eastern '\", b'no', b'no', b\"'United Arab Emirates'\", b'no',  4., b\"'18 and more'\", b'Relative', b'NO'),\n",
       "        (b'0', b'1', b'0', b'0', b'0', b'0', b'1', b'1', b'0', b'0',  18., b'm', b\"'Middle Eastern '\", b'no', b'no', b\"'United Arab Emirates'\", b'no',  3., b\"'18 and more'\", b'Relative', b'NO'),\n",
       "        (b'1', b'1', b'1', b'0', b'0', b'0', b'0', b'1', b'0', b'0',  18., b'm', b\"'Middle Eastern '\", b'no', b'no', b\"'United Arab Emirates'\", b'no',  4., b\"'18 and more'\", b'Relative', b'NO'),\n",
       "        (b'1', b'1', b'1', b'1', b'1', b'1', b'1', b'1', b'1', b'1',  19., b'm', b'White-European', b'no', b'no', b'Austria', b'no', 10., b\"'18 and more'\", b'Self', b'YES'),\n",
       "        (b'1', b'0', b'0', b'1', b'1', b'1', b'1', b'0', b'1', b'1',  55., b'm', b'White-European', b'no', b'no', b\"'United Kingdom'\", b'no',  7., b\"'18 and more'\", b'Self', b'YES'),\n",
       "        (b'1', b'0', b'0', b'0', b'0', b'1', b'1', b'0', b'1', b'1',  32., b'f', b'Asian', b'no', b'no', b'Canada', b'no',  5., b\"'18 and more'\", b'Parent', b'NO'),\n",
       "        (b'1', b'1', b'0', b'1', b'0', b'0', b'1', b'1', b'0', b'0',  50., b'm', b'White-European', b'yes', b'no', b\"'United Kingdom'\", b'no',  5., b\"'18 and more'\", b'Self', b'NO'),\n",
       "        (b'1', b'1', b'1', b'1', b'0', b'0', b'1', b'1', b'0', b'0',  40., b'm', b'White-European', b'no', b'no', b\"'United Kingdom'\", b'no',  6., b\"'18 and more'\", b'Self', b'NO'),\n",
       "        (b'1', b'0', b'0', b'1', b'1', b'1', b'0', b'0', b'0', b'0',  47., b'm', b\"'Middle Eastern '\", b'no', b'no', b'Jordan', b'no',  4., b\"'18 and more'\", b'Self', b'NO'),\n",
       "        (b'1', b'1', b'0', b'0', b'0', b'0', b'0', b'0', b'0', b'1',  20., b'm', b'?', b'no', b'no', b'Jordan', b'no',  3., b\"'18 and more'\", b'?', b'NO'),\n",
       "        (b'1', b'0', b'1', b'0', b'0', b'0', b'1', b'1', b'0', b'0',  22., b'f', b'?', b'no', b'no', b'Jordan', b'no',  4., b\"'18 and more'\", b'?', b'NO'),\n",
       "        (b'1', b'0', b'0', b'0', b'0', b'0', b'1', b'0', b'0', b'0',  21., b'f', b'?', b'no', b'no', b'Jordan', b'no',  2., b\"'18 and more'\", b'?', b'NO'),\n",
       "        (b'1', b'0', b'1', b'1', b'0', b'0', b'1', b'1', b'1', b'0',  21., b'f', b'?', b'no', b'no', b'Jordan', b'no',  6., b\"'18 and more'\", b'?', b'NO'),\n",
       "        (b'1', b'1', b'1', b'1', b'1', b'0', b'0', b'1', b'0', b'0',  19., b'm', b'?', b'no', b'no', b'Jordan', b'no',  6., b\"'18 and more'\", b'?', b'NO'),\n",
       "        (b'1', b'0', b'1', b'1', b'0', b'0', b'0', b'0', b'0', b'0',  21., b'f', b'?', b'no', b'no', b'Jordan', b'no',  3., b\"'18 and more'\", b'?', b'NO'),\n",
       "        (b'1', b'0', b'0', b'1', b'0', b'0', b'0', b'0', b'0', b'0',  21., b'm', b'?', b'no', b'no', b'Jordan', b'no',  2., b\"'18 and more'\", b'?', b'NO'),\n",
       "        (b'0', b'1', b'0', b'1', b'0', b'1', b'0', b'1', b'0', b'1',  23., b'f', b'?', b'no', b'no', b'Jordan', b'no',  5., b\"'18 and more'\", b'?', b'NO'),\n",
       "        (b'1', b'0', b'0', b'0', b'0', b'0', b'0', b'0', b'0', b'0',  21., b'm', b'?', b'no', b'no', b'Jordan', b'no',  1., b\"'18 and more'\", b'?', b'NO'),\n",
       "        (b'1', b'0', b'0', b'0', b'1', b'0', b'1', b'1', b'1', b'0',  21., b'm', b'?', b'no', b'no', b'Jordan', b'no',  5., b\"'18 and more'\", b'?', b'NO'),\n",
       "        (b'0', b'0', b'0', b'0', b'0', b'0', b'0', b'1', b'0', b'0',  23., b'm', b'?', b'no', b'no', b'Jordan', b'no',  1., b\"'18 and more'\", b'?', b'NO'),\n",
       "        (b'1', b'0', b'1', b'1', b'0', b'1', b'1', b'1', b'1', b'1',  20., b'f', b'?', b'no', b'no', b'Jordan', b'no',  8., b\"'18 and more'\", b'?', b'YES'),\n",
       "        (b'1', b'1', b'1', b'0', b'0', b'0', b'0', b'1', b'0', b'1',  21., b'f', b'?', b'no', b'no', b'Jordan', b'no',  5., b\"'18 and more'\", b'?', b'NO'),\n",
       "        (b'1', b'1', b'1', b'0', b'1', b'0', b'1', b'1', b'1', b'1',  20., b'm', b'?', b'no', b'no', b'Argentina', b'no',  8., b\"'18 and more'\", b'?', b'YES'),\n",
       "        (b'1', b'1', b'0', b'0', b'0', b'0', b'1', b'1', b'0', b'0',  19., b'm', b'?', b'no', b'no', b'Jordan', b'no',  4., b\"'18 and more'\", b'?', b'NO'),\n",
       "        (b'0', b'1', b'0', b'0', b'0', b'0', b'0', b'1', b'0', b'0',  21., b'm', b'?', b'no', b'no', b'Jordan', b'no',  2., b\"'18 and more'\", b'?', b'NO'),\n",
       "        (b'1', b'0', b'1', b'0', b'0', b'0', b'1', b'0', b'0', b'0',  26., b'm', b'?', b'no', b'yes', b'Jordan', b'no',  3., b\"'18 and more'\", b'?', b'NO'),\n",
       "        (b'0', b'0', b'0', b'1', b'0', b'0', b'0', b'1', b'0', b'0',  21., b'm', b'?', b'no', b'no', b'Jordan', b'no',  2., b\"'18 and more'\", b'?', b'NO'),\n",
       "        (b'0', b'0', b'0', b'0', b'1', b'0', b'0', b'1', b'0', b'0',  19., b'm', b'?', b'no', b'no', b'Japan', b'no',  2., b\"'18 and more'\", b'?', b'NO'),\n",
       "        (b'1', b'0', b'0', b'1', b'0', b'0', b'0', b'1', b'0', b'1',  22., b'm', b\"'Middle Eastern '\", b'no', b'no', b\"'United Arab Emirates'\", b'no',  4., b\"'18 and more'\", b'Parent', b'NO'),\n",
       "        (b'1', b'0', b'0', b'0', b'0', b'0', b'0', b'1', b'0', b'0',  19., b'f', b\"'Middle Eastern '\", b'no', b'no', b\"'United Arab Emirates'\", b'no',  2., b\"'18 and more'\", b'Self', b'NO'),\n",
       "        (b'1', b'0', b'0', b'1', b'0', b'0', b'1', b'0', b'0', b'1',  22., b'm', b\"'Middle Eastern '\", b'no', b'no', b\"'United Arab Emirates'\", b'no',  4., b\"'18 and more'\", b'Self', b'NO'),\n",
       "        (b'0', b'0', b'1', b'0', b'0', b'0', b'0', b'0', b'0', b'1',  20., b'm', b\"'Middle Eastern '\", b'no', b'no', b\"'United Arab Emirates'\", b'no',  2., b\"'18 and more'\", b'Self', b'NO'),\n",
       "        (b'1', b'0', b'1', b'0', b'1', b'0', b'0', b'1', b'0', b'0',  23., b'm', b\"'Middle Eastern '\", b'no', b'no', b\"'United Arab Emirates'\", b'no',  4., b\"'18 and more'\", b'Self', b'NO'),\n",
       "        (b'0', b'0', b'0', b'0', b'0', b'1', b'0', b'1', b'0', b'0',  19., b'f', b'?', b'no', b'no', b'Ukraine', b'no',  2., b\"'18 and more'\", b'?', b'NO'),\n",
       "        (b'0', b'0', b'0', b'0', b'1', b'0', b'0', b'1', b'0', b'1',  20., b'm', b\"'Middle Eastern '\", b'no', b'no', b\"'United Arab Emirates'\", b'no',  3., b\"'18 and more'\", b'Parent', b'NO'),\n",
       "        (b'0', b'1', b'0', b'1', b'0', b'0', b'0', b'0', b'0', b'0',  24., b'm', b\"'Middle Eastern '\", b'no', b'no', b\"'United Arab Emirates'\", b'no',  2., b\"'18 and more'\", b'Self', b'NO'),\n",
       "        (b'0', b'1', b'1', b'0', b'0', b'0', b'0', b'1', b'0', b'1',  19., b'm', b\"'Middle Eastern '\", b'no', b'no', b\"'United Arab Emirates'\", b'no',  4., b\"'18 and more'\", b'Self', b'NO'),\n",
       "        (b'1', b'0', b'0', b'0', b'0', b'1', b'0', b'1', b'0', b'1',  20., b'm', b'?', b'no', b'no', b\"'United Arab Emirates'\", b'no',  4., b\"'18 and more'\", b'?', b'NO'),\n",
       "        (b'1', b'0', b'1', b'0', b'1', b'0', b'0', b'1', b'0', b'1',  23., b'm', b\"'Middle Eastern '\", b'no', b'yes', b\"'United Arab Emirates'\", b'no',  5., b\"'18 and more'\", b'Self', b'NO'),\n",
       "        (b'0', b'0', b'1', b'1', b'0', b'0', b'1', b'0', b'0', b'1',  20., b'm', b'Others', b'no', b'no', b'Russia', b'no',  4., b\"'18 and more'\", b'Self', b'NO'),\n",
       "        (b'1', b'0', b'1', b'0', b'1', b'0', b'0', b'1', b'0', b'1',  20., b'm', b\"'Middle Eastern '\", b'no', b'no', b\"'United Arab Emirates'\", b'no',  5., b\"'18 and more'\", b'Self', b'NO'),\n",
       "        (b'0', b'0', b'0', b'0', b'0', b'0', b'0', b'1', b'1', b'0',  20., b'm', b'?', b'yes', b'no', b\"'United Arab Emirates'\", b'no',  2., b\"'18 and more'\", b'?', b'NO'),\n",
       "        (b'1', b'0', b'1', b'0', b'0', b'0', b'0', b'0', b'0', b'1',  20., b'f', b'?', b'no', b'no', b\"'United Arab Emirates'\", b'no',  3., b\"'18 and more'\", b'?', b'NO'),\n",
       "        (b'1', b'0', b'0', b'1', b'1', b'0', b'0', b'1', b'0', b'1',  21., b'f', b'Asian', b'no', b'no', b'Afghanistan', b'no',  5., b\"'18 and more'\", b'Self', b'NO'),\n",
       "        (b'0', b'1', b'0', b'0', b'0', b'0', b'0', b'0', b'0', b'1',  19., b'm', b'?', b'no', b'no', b'Kazakhstan', b'no',  2., b\"'18 and more'\", b'?', b'NO'),\n",
       "        (b'1', b'0', b'0', b'0', b'0', b'0', b'0', b'1', b'0', b'1',  20., b'f', b\"'Middle Eastern '\", b'no', b'no', b\"'United Arab Emirates'\", b'no',  3., b\"'18 and more'\", b'Self', b'NO'),\n",
       "        (b'1', b'0', b'0', b'1', b'1', b'0', b'1', b'0', b'0', b'1',  20., b'm', b\"'Middle Eastern '\", b'no', b'no', b\"'Saudi Arabia'\", b'no',  5., b\"'18 and more'\", b'Self', b'NO'),\n",
       "        (b'1', b'0', b'0', b'0', b'0', b'1', b'0', b'0', b'1', b'0',  25., b'm', b\"'Middle Eastern '\", b'yes', b'yes', b'Armenia', b'yes',  3., b\"'18 and more'\", b'Relative', b'NO'),\n",
       "        (b'1', b'0', b'0', b'0', b'0', b'0', b'0', b'1', b'0', b'0',  20., b'f', b\"'Middle Eastern '\", b'no', b'no', b\"'United Arab Emirates'\", b'no',  2., b\"'18 and more'\", b'Self', b'NO'),\n",
       "        (b'1', b'0', b'0', b'0', b'0', b'1', b'1', b'1', b'0', b'1',  22., b'm', b\"'Middle Eastern '\", b'no', b'no', b'AmericanSamoa', b'no',  5., b\"'18 and more'\", b'Self', b'NO'),\n",
       "        (b'1', b'0', b'0', b'0', b'0', b'0', b'0', b'1', b'0', b'0',  20., b'f', b'?', b'no', b'no', b\"'United Arab Emirates'\", b'no',  2., b\"'18 and more'\", b'?', b'NO'),\n",
       "        (b'0', b'1', b'0', b'0', b'1', b'1', b'0', b'0', b'0', b'0',  20., b'm', b'?', b'no', b'no', b\"'United Arab Emirates'\", b'no',  3., b\"'18 and more'\", b'?', b'NO'),\n",
       "        (b'0', b'0', b'0', b'1', b'0', b'0', b'1', b'0', b'0', b'0',  20., b'f', b'?', b'no', b'no', b'Jordan', b'no',  2., b\"'18 and more'\", b'?', b'NO'),\n",
       "        (b'1', b'0', b'0', b'0', b'0', b'0', b'0', b'1', b'0', b'0',  23., b'f', b'?', b'no', b'no', b'Jordan', b'no',  2., b\"'18 and more'\", b'?', b'NO'),\n",
       "        (b'1', b'1', b'1', b'1', b'1', b'0', b'1', b'0', b'1', b'1',  21., b'f', b'?', b'no', b'no', b'Jordan', b'no',  8., b\"'18 and more'\", b'?', b'YES'),\n",
       "        (b'1', b'0', b'0', b'0', b'0', b'0', b'1', b'1', b'0', b'1',  22., b'm', b'?', b'no', b'no', b'Jordan', b'no',  4., b\"'18 and more'\", b'?', b'NO'),\n",
       "        (b'1', b'1', b'0', b'0', b'0', b'0', b'0', b'1', b'0', b'0',  21., b'f', b'?', b'no', b'no', b'Jordan', b'no',  3., b\"'18 and more'\", b'?', b'NO'),\n",
       "        (b'1', b'0', b'1', b'0', b'0', b'0', b'0', b'0', b'0', b'1',  20., b'f', b'?', b'no', b'no', b'Jordan', b'no',  3., b\"'18 and more'\", b'?', b'NO'),\n",
       "        (b'1', b'0', b'0', b'1', b'0', b'0', b'0', b'0', b'0', b'0',  22., b'f', b'?', b'no', b'no', b'Jordan', b'no',  2., b\"'18 and more'\", b'?', b'NO'),\n",
       "        (b'1', b'0', b'1', b'1', b'1', b'0', b'1', b'1', b'0', b'0',  21., b'f', b'?', b'yes', b'no', b'Jordan', b'no',  6., b\"'18 and more'\", b'?', b'NO'),\n",
       "        (b'1', b'1', b'0', b'0', b'1', b'0', b'0', b'1', b'0', b'0',  20., b'f', b'?', b'no', b'no', b'Jordan', b'no',  4., b\"'18 and more'\", b'?', b'NO'),\n",
       "        (b'0', b'1', b'0', b'0', b'0', b'0', b'0', b'1', b'0', b'0',  20., b'f', b\"'Middle Eastern '\", b'no', b'no', b\"'United Arab Emirates'\", b'no',  2., b\"'18 and more'\", b'Self', b'NO'),\n",
       "        (b'1', b'0', b'0', b'0', b'1', b'0', b'0', b'1', b'0', b'0',  21., b'm', b'?', b'no', b'no', b'Jordan', b'no',  3., b\"'18 and more'\", b'?', b'NO'),\n",
       "        (b'1', b'0', b'1', b'1', b'1', b'0', b'0', b'0', b'1', b'1',  21., b'm', b\"'Middle Eastern '\", b'no', b'no', b\"'United Arab Emirates'\", b'no',  6., b\"'18 and more'\", b'Self', b'NO'),\n",
       "        (b'0', b'1', b'0', b'0', b'0', b'1', b'0', b'1', b'0', b'1',  23., b'f', b\"'Middle Eastern '\", b'no', b'no', b\"'United Arab Emirates'\", b'no',  4., b\"'18 and more'\", b'Self', b'NO'),\n",
       "        (b'1', b'1', b'0', b'0', b'0', b'0', b'0', b'1', b'0', b'0',  21., b'f', b'Turkish', b'no', b'no', b\"'United Arab Emirates'\", b'no',  3., b\"'18 and more'\", b'Self', b'NO'),\n",
       "        (b'1', b'0', b'0', b'0', b'1', b'1', b'0', b'1', b'0', b'1',  22., b'f', b'Black', b'no', b'no', b\"'United Arab Emirates'\", b'no',  5., b\"'18 and more'\", b'Self', b'NO'),\n",
       "        (b'0', b'1', b'1', b'1', b'0', b'1', b'0', b'1', b'0', b'0',  19., b'f', b'?', b'no', b'no', b\"'United Arab Emirates'\", b'no',  5., b\"'18 and more'\", b'?', b'NO'),\n",
       "        (b'1', b'1', b'1', b'0', b'1', b'0', b'0', b'0', b'0', b'0',  20., b'f', b'Asian', b'no', b'no', b\"'United Arab Emirates'\", b'no',  4., b\"'18 and more'\", b'Self', b'NO'),\n",
       "        (b'0', b'1', b'0', b'0', b'0', b'0', b'0', b'1', b'0', b'1',  21., b'f', b'Others', b'no', b'no', b\"'United Arab Emirates'\", b'no',  3., b\"'18 and more'\", b'Self', b'NO'),\n",
       "        (b'0', b'1', b'1', b'0', b'0', b'0', b'0', b'1', b'0', b'0',  26., b'm', b\"'Middle Eastern '\", b'no', b'no', b\"'United Arab Emirates'\", b'no',  3., b\"'18 and more'\", b'Self', b'NO'),\n",
       "        (b'1', b'0', b'0', b'0', b'0', b'0', b'0', b'0', b'0', b'0',  19., b'f', b'?', b'no', b'no', b'Kazakhstan', b'no',  1., b\"'18 and more'\", b'?', b'NO'),\n",
       "        (b'1', b'0', b'0', b'1', b'0', b'0', b'1', b'1', b'0', b'1',  20., b'f', b'?', b'no', b'no', b\"'United Arab Emirates'\", b'no',  5., b\"'18 and more'\", b'?', b'NO'),\n",
       "        (b'1', b'0', b'0', b'0', b'0', b'0', b'0', b'1', b'0', b'1',  26., b'f', b'?', b'no', b'no', b\"'United Arab Emirates'\", b'no',  3., b\"'18 and more'\", b'?', b'NO'),\n",
       "        (b'1', b'0', b'0', b'1', b'0', b'0', b'1', b'0', b'0', b'1',  23., b'f', b'Black', b'no', b'no', b\"'United Arab Emirates'\", b'no',  4., b\"'18 and more'\", b'Self', b'NO'),\n",
       "        (b'1', b'0', b'0', b'1', b'0', b'0', b'1', b'0', b'0', b'1',  28., b'f', b'?', b'no', b'no', b\"'United Arab Emirates'\", b'no',  4., b\"'18 and more'\", b'?', b'NO'),\n",
       "        (b'0', b'1', b'0', b'1', b'1', b'0', b'0', b'0', b'0', b'0',  19., b'f', b\"'Middle Eastern '\", b'no', b'no', b\"'United Arab Emirates'\", b'no',  3., b\"'18 and more'\", b'Self', b'NO'),\n",
       "        (b'1', b'0', b'0', b'0', b'0', b'0', b'1', b'1', b'0', b'0',  20., b'f', b\"'Middle Eastern '\", b'no', b'no', b\"'United Arab Emirates'\", b'no',  3., b\"'18 and more'\", b'Self', b'NO'),\n",
       "        (b'0', b'1', b'0', b'0', b'1', b'0', b'1', b'1', b'0', b'1',  19., b'f', b'Black', b'no', b'no', b\"'United Arab Emirates'\", b'no',  5., b\"'18 and more'\", b'Self', b'NO'),\n",
       "        (b'1', b'0', b'1', b'1', b'1', b'1', b'1', b'1', b'1', b'0',  24., b'm', b'Asian', b'no', b'no', b'India', b'no',  8., b\"'18 and more'\", b'Self', b'YES'),\n",
       "        (b'1', b'0', b'0', b'1', b'1', b'0', b'0', b'1', b'0', b'1',  19., b'f', b\"'South Asian'\", b'no', b'no', b\"'United Arab Emirates'\", b'no',  5., b\"'18 and more'\", b'Self', b'NO'),\n",
       "        (b'1', b'1', b'0', b'0', b'0', b'0', b'0', b'0', b'0', b'0',  22., b'f', b\"'Middle Eastern '\", b'no', b'no', b\"'United Arab Emirates'\", b'no',  2., b\"'18 and more'\", b'Self', b'NO'),\n",
       "        (b'1', b'1', b'0', b'1', b'0', b'0', b'0', b'0', b'0', b'1',  20., b'f', b\"'Middle Eastern '\", b'no', b'no', b\"'United Arab Emirates'\", b'no',  4., b\"'18 and more'\", b'Self', b'NO'),\n",
       "        (b'0', b'1', b'0', b'1', b'0', b'0', b'0', b'1', b'0', b'0',  21., b'm', b\"'Middle Eastern '\", b'no', b'no', b\"'United Arab Emirates'\", b'no',  3., b\"'18 and more'\", b'Self', b'NO'),\n",
       "        (b'0', b'0', b'1', b'1', b'1', b'0', b'0', b'1', b'0', b'0',  24., b'f', b'Others', b'no', b'no', b\"'United Arab Emirates'\", b'no',  4., b\"'18 and more'\", b'Self', b'NO'),\n",
       "        (b'0', b'0', b'1', b'1', b'1', b'0', b'0', b'0', b'0', b'1',  18., b'f', b\"'Middle Eastern '\", b'no', b'no', b\"'United Arab Emirates'\", b'no',  4., b\"'18 and more'\", b'Self', b'NO'),\n",
       "        (b'1', b'0', b'1', b'1', b'1', b'0', b'1', b'1', b'0', b'1',  19., b'f', b\"'Middle Eastern '\", b'no', b'no', b\"'United Arab Emirates'\", b'no',  7., b\"'18 and more'\", b'Self', b'YES'),\n",
       "        (b'1', b'0', b'1', b'0', b'0', b'0', b'0', b'0', b'0', b'0',  19., b'f', b\"'Middle Eastern '\", b'no', b'no', b\"'United Arab Emirates'\", b'no',  2., b\"'18 and more'\", b'Self', b'NO'),\n",
       "        (b'1', b'0', b'0', b'0', b'0', b'0', b'1', b'1', b'0', b'1',  31., b'm', b\"'Middle Eastern '\", b'yes', b'no', b\"'United Arab Emirates'\", b'no',  4., b\"'18 and more'\", b'Self', b'NO'),\n",
       "        (b'1', b'1', b'0', b'1', b'0', b'0', b'1', b'1', b'0', b'0',  19., b'm', b\"'Middle Eastern '\", b'no', b'no', b\"'United Arab Emirates'\", b'no',  5., b\"'18 and more'\", b'Self', b'NO'),\n",
       "        (b'1', b'0', b'0', b'0', b'0', b'0', b'1', b'0', b'1', b'1',  21., b'f', b\"'Middle Eastern '\", b'no', b'no', b\"'United Arab Emirates'\", b'no',  4., b\"'18 and more'\", b'Self', b'NO'),\n",
       "        (b'1', b'0', b'0', b'0', b'1', b'0', b'1', b'0', b'0', b'1',  20., b'm', b\"'Middle Eastern '\", b'no', b'no', b\"'United Arab Emirates'\", b'no',  4., b\"'18 and more'\", b'Self', b'NO'),\n",
       "        (b'1', b'0', b'1', b'0', b'1', b'0', b'1', b'1', b'0', b'1',  26., b'f', b\"'Middle Eastern '\", b'no', b'no', b\"'United Arab Emirates'\", b'no',  6., b\"'18 and more'\", b'Self', b'NO'),\n",
       "        (b'0', b'0', b'0', b'0', b'0', b'0', b'1', b'0', b'0', b'0',  27., b'm', b\"'Middle Eastern '\", b'no', b'no', b'Afghanistan', b'no',  1., b\"'18 and more'\", b'Self', b'NO'),\n",
       "        (b'1', b'0', b'1', b'0', b'0', b'1', b'0', b'1', b'0', b'0',  23., b'f', b\"'Middle Eastern '\", b'no', b'no', b\"'United Arab Emirates'\", b'no',  4., b\"'18 and more'\", b'Self', b'NO'),\n",
       "        (b'0', b'1', b'0', b'1', b'0', b'0', b'0', b'0', b'0', b'0',  29., b'f', b'?', b'no', b'no', b\"'United Arab Emirates'\", b'no',  2., b\"'18 and more'\", b'?', b'NO'),\n",
       "        (b'1', b'1', b'1', b'1', b'0', b'0', b'1', b'0', b'0', b'0',  23., b'm', b\"'Middle Eastern '\", b'no', b'no', b\"'United Arab Emirates'\", b'no',  5., b\"'18 and more'\", b'Self', b'NO'),\n",
       "        (b'1', b'0', b'0', b'0', b'0', b'0', b'1', b'1', b'0', b'1',  23., b'm', b'Turkish', b'no', b'no', b\"'United Arab Emirates'\", b'no',  4., b\"'18 and more'\", b'Others', b'NO'),\n",
       "        (b'1', b'0', b'1', b'1', b'1', b'1', b'0', b'1', b'1', b'1',  24., b'm', b'Asian', b'no', b'yes', b'India', b'no',  8., b\"'18 and more'\", b'Self', b'YES'),\n",
       "        (b'1', b'0', b'0', b'1', b'0', b'0', b'1', b'1', b'0', b'0',  21., b'm', b'?', b'no', b'no', b'Jordan', b'no',  4., b\"'18 and more'\", b'?', b'NO'),\n",
       "        (b'0', b'0', b'0', b'0', b'1', b'0', b'1', b'0', b'0', b'0',  20., b'f', b'?', b'no', b'no', b'Brazil', b'yes',  2., b\"'18 and more'\", b'?', b'NO'),\n",
       "        (b'1', b'0', b'1', b'0', b'1', b'0', b'1', b'1', b'1', b'0',  20., b'm', b'?', b'no', b'no', b'Jordan', b'no',  6., b\"'18 and more'\", b'?', b'NO'),\n",
       "        (b'1', b'1', b'1', b'1', b'1', b'1', b'1', b'0', b'1', b'1',  32., b'f', b'Black', b'no', b'no', b'France', b'no',  9., b\"'18 and more'\", b'Parent', b'YES'),\n",
       "        (b'1', b'1', b'1', b'1', b'1', b'1', b'1', b'1', b'1', b'1',  61., b'm', b'White-European', b'yes', b'yes', b'Uruguay', b'no', 10., b\"'18 and more'\", b'Self', b'YES'),\n",
       "        (b'1', b'0', b'0', b'1', b'1', b'0', b'0', b'0', b'0', b'0',  19., b'm', b'?', b'no', b'no', b'Jordan', b'no',  3., b\"'18 and more'\", b'?', b'NO'),\n",
       "        (b'1', b'1', b'1', b'1', b'1', b'1', b'0', b'1', b'1', b'0',  35., b'f', b'White-European', b'no', b'no', b'Italy', b'no',  8., b\"'18 and more'\", b'Self', b'YES'),\n",
       "        (b'1', b'0', b'0', b'0', b'0', b'1', b'0', b'0', b'0', b'1',  34., b'f', b'White-European', b'no', b'no', b'Ukraine', b'yes',  3., b\"'18 and more'\", b'Self', b'NO'),\n",
       "        (b'0', b'0', b'1', b'1', b'0', b'0', b'0', b'0', b'0', b'0',  23., b'f', b\"'Middle Eastern '\", b'no', b'no', b\"'United Arab Emirates'\", b'yes',  2., b\"'18 and more'\", b'Self', b'NO'),\n",
       "        (b'1', b'1', b'1', b'1', b'0', b'0', b'0', b'0', b'0', b'1',  19., b'f', b'White-European', b'no', b'no', b'Serbia', b'no',  5., b\"'18 and more'\", b'Self', b'NO'),\n",
       "        (b'1', b'1', b'0', b'0', b'1', b'1', b'0', b'1', b'0', b'1',  36., b'f', b'Others', b'no', b'no', b'Philippines', b'no',  6., b\"'18 and more'\", b'Parent', b'NO'),\n",
       "        (b'1', b'1', b'0', b'0', b'0', b'0', b'0', b'1', b'0', b'1',  21., b'f', b'?', b'no', b'no', b'Jordan', b'no',  4., b\"'18 and more'\", b'?', b'NO'),\n",
       "        (b'0', b'1', b'0', b'0', b'0', b'0', b'0', b'1', b'0', b'0',  23., b'm', b'White-European', b'no', b'no', b\"'United States'\", b'no',  2., b\"'18 and more'\", b'Self', b'NO'),\n",
       "        (b'1', b'0', b'1', b'1', b'1', b'0', b'1', b'0', b'0', b'1',  17., b'm', b'Black', b'no', b'no', b\"'United States'\", b'no',  6., b\"'18 and more'\", b'Relative', b'NO'),\n",
       "        (b'1', b'0', b'1', b'0', b'0', b'0', b'0', b'0', b'0', b'0',  22., b'm', b'White-European', b'no', b'no', b'Portugal', b'no',  2., b\"'18 and more'\", b'Self', b'NO'),\n",
       "        (b'0', b'1', b'1', b'1', b'1', b'0', b'1', b'0', b'0', b'1',  33., b'm', b'White-European', b'no', b'yes', b'Australia', b'no',  6., b\"'18 and more'\", b'Relative', b'NO'),\n",
       "        (b'1', b'1', b'1', b'1', b'1', b'0', b'0', b'1', b'0', b'1',  23., b'f', b'Asian', b'no', b'no', b'Malaysia', b'no',  7., b\"'18 and more'\", b'Self', b'YES'),\n",
       "        (b'0', b'1', b'1', b'1', b'1', b'1', b'0', b'1', b'0', b'1',  35., b'f', b'White-European', b'no', b'yes', b'Sweden', b'no',  7., b\"'18 and more'\", b'Self', b'YES'),\n",
       "        (b'1', b'0', b'0', b'0', b'0', b'0', b'0', b'1', b'0', b'1',  21., b'm', b'White-European', b'no', b'yes', b'Australia', b'no',  3., b\"'18 and more'\", b'Self', b'NO'),\n",
       "        (b'1', b'0', b'0', b'1', b'1', b'0', b'1', b'1', b'1', b'1',  20., b'f', b'White-European', b'no', b'no', b'Austria', b'no',  7., b\"'18 and more'\", b'Self', b'YES'),\n",
       "        (b'1', b'0', b'0', b'0', b'0', b'0', b'0', b'1', b'0', b'0',  29., b'm', b'White-European', b'no', b'no', b'Netherlands', b'no',  2., b\"'18 and more'\", b\"'Health care professional'\", b'NO'),\n",
       "        (b'1', b'1', b'1', b'1', b'1', b'1', b'1', b'0', b'1', b'1',  59., b'm', b'White-European', b'no', b'no', b\"'United States'\", b'no',  9., b\"'18 and more'\", b'Self', b'YES'),\n",
       "        (b'1', b'1', b'1', b'0', b'0', b'0', b'0', b'1', b'0', b'1',  18., b'f', b'White-European', b'no', b'no', b'Netherlands', b'no',  5., b\"'18 and more'\", b'Self', b'NO'),\n",
       "        (b'1', b'1', b'0', b'0', b'0', b'0', b'0', b'1', b'0', b'0',  19., b'f', b\"'Middle Eastern '\", b'no', b'no', b\"'United Arab Emirates'\", b'no',  3., b\"'18 and more'\", b'Self', b'NO'),\n",
       "        (b'0', b'0', b'1', b'1', b'0', b'0', b'0', b'1', b'0', b'0',  24., b'm', b\"'Middle Eastern '\", b'no', b'no', b\"'United Arab Emirates'\", b'no',  3., b\"'18 and more'\", b'Self', b'NO'),\n",
       "        (b'1', b'1', b'1', b'1', b'1', b'0', b'0', b'1', b'1', b'0',  36., b'f', b'White-European', b'no', b'no', b'Italy', b'no',  7., b\"'18 and more'\", b'Self', b'YES'),\n",
       "        (b'0', b'0', b'1', b'1', b'1', b'0', b'0', b'0', b'0', b'1',  19., b'f', b'?', b'yes', b'no', b'Jordan', b'no',  4., b\"'18 and more'\", b'?', b'NO'),\n",
       "        (b'1', b'1', b'0', b'0', b'0', b'0', b'1', b'0', b'0', b'0',  17., b'f', b'Black', b'no', b'no', b\"'United Arab Emirates'\", b'no',  3., b\"'18 and more'\", b'Self', b'NO'),\n",
       "        (b'1', b'0', b'0', b'0', b'0', b'0', b'0', b'1', b'0', b'1',  52., b'm', b'White-European', b'yes', b'no', b\"'United Kingdom'\", b'no',  3., b\"'18 and more'\", b'Self', b'NO'),\n",
       "        (b'1', b'1', b'0', b'1', b'1', b'0', b'0', b'0', b'0', b'0',  18., b'm', b\"'Middle Eastern '\", b'no', b'no', b\"'United Arab Emirates'\", b'no',  4., b\"'18 and more'\", b'Self', b'NO'),\n",
       "        (b'0', b'0', b'0', b'0', b'0', b'0', b'1', b'0', b'0', b'0',  30., b'm', b'Asian', b'no', b'no', b'Philippines', b'no',  1., b\"'18 and more'\", b'Self', b'NO'),\n",
       "        (b'0', b'1', b'1', b'1', b'1', b'1', b'0', b'1', b'1', b'1',  18., b'm', b\"'Middle Eastern '\", b'yes', b'no', b\"'New Zealand'\", b'no',  8., b\"'18 and more'\", b'Self', b'YES'),\n",
       "        (b'1', b'1', b'1', b'1', b'1', b'0', b'0', b'1', b'0', b'0',  27., b'm', b'Latino', b'no', b'no', b'Ecuador', b'no',  6., b\"'18 and more'\", b'Self', b'NO'),\n",
       "        (b'0', b'0', b'0', b'1', b'0', b'0', b'0', b'0', b'0', b'0',  52., b'f', b'White-European', b'no', b'no', b\"'United Kingdom'\", b'no',  1., b\"'18 and more'\", b'Self', b'NO'),\n",
       "        (b'0', b'0', b'0', b'0', b'0', b'0', b'0', b'1', b'0', b'0',  45., b'f', b'Asian', b'no', b'no', b\"'Viet Nam'\", b'no',  1., b\"'18 and more'\", b'Self', b'NO'),\n",
       "        (b'0', b'1', b'1', b'1', b'1', b'1', b'0', b'0', b'1', b'0',  25., b'f', b'Others', b'no', b'no', b'Afghanistan', b'no',  6., b\"'18 and more'\", b\"'Health care professional'\", b'NO'),\n",
       "        (b'0', b'0', b'0', b'1', b'0', b'0', b'1', b'0', b'0', b'1',  29., b'f', b'White-European', b'no', b'no', b\"'United Kingdom'\", b'no',  3., b\"'18 and more'\", b'Self', b'NO'),\n",
       "        (b'1', b'1', b'0', b'1', b'1', b'1', b'1', b'1', b'0', b'1',  29., b'f', b'White-European', b'yes', b'no', b\"'United States'\", b'no',  8., b\"'18 and more'\", b'Self', b'YES'),\n",
       "        (b'1', b'0', b'0', b'0', b'0', b'1', b'0', b'0', b'0', b'1',  18., b'm', b'White-European', b'no', b'yes', b'Netherlands', b'no',  3., b\"'18 and more'\", b'Self', b'NO'),\n",
       "        (b'0', b'0', b'1', b'1', b'0', b'1', b'1', b'1', b'1', b'1',  18., b'm', b'White-European', b'no', b'no', b'Netherlands', b'no',  7., b\"'18 and more'\", b'Relative', b'YES'),\n",
       "        (b'1', b'0', b'1', b'1', b'0', b'1', b'0', b'0', b'0', b'1',  17., b'm', b'White-European', b'no', b'no', b'Netherlands', b'no',  5., b\"'18 and more'\", b'Relative', b'NO'),\n",
       "        (b'1', b'1', b'1', b'1', b'1', b'1', b'1', b'1', b'1', b'1',  27., b'f', b'Asian', b'no', b'no', b\"'United States'\", b'no', 10., b\"'18 and more'\", b'Self', b'YES'),\n",
       "        (b'0', b'0', b'0', b'0', b'0', b'0', b'0', b'1', b'0', b'0',  22., b'f', b'Asian', b'yes', b'no', b'Malaysia', b'no',  1., b\"'18 and more'\", b'Self', b'NO'),\n",
       "        (b'0', b'0', b'0', b'0', b'0', b'1', b'0', b'1', b'1', b'0',  23., b'm', b'Asian', b'no', b'no', b'India', b'no',  3., b\"'18 and more'\", b'Self', b'NO'),\n",
       "        (b'1', b'1', b'1', b'1', b'1', b'0', b'1', b'1', b'0', b'0',  25., b'm', b'Latino', b'no', b'no', b\"'United Kingdom'\", b'no',  7., b\"'18 and more'\", b'Self', b'YES'),\n",
       "        (b'1', b'0', b'1', b'1', b'1', b'0', b'0', b'0', b'0', b'0',  23., b'f', b\"'South Asian'\", b'no', b'no', b\"'New Zealand'\", b'no',  4., b\"'18 and more'\", b'Self', b'NO'),\n",
       "        (b'1', b'0', b'0', b'0', b'0', b'0', b'0', b'1', b'0', b'1',  29., b'm', b'Asian', b'no', b'no', b'India', b'no',  3., b\"'18 and more'\", b'Self', b'NO'),\n",
       "        (b'1', b'0', b'0', b'1', b'1', b'0', b'1', b'0', b'0', b'0',  27., b'f', b'Asian', b'no', b'no', b\"'Sri Lanka'\", b'no',  4., b\"'18 and more'\", b'Self', b'NO'),\n",
       "        (b'1', b'0', b'0', b'0', b'0', b'1', b'0', b'1', b'0', b'0',  27., b'f', b'Asian', b'no', b'no', b'India', b'no',  3., b\"'18 and more'\", b'Self', b'NO'),\n",
       "        (b'0', b'0', b'0', b'0', b'0', b'0', b'0', b'0', b'0', b'0',  43., b'f', b\"'South Asian'\", b'no', b'no', b'India', b'no',  0., b\"'18 and more'\", b'Parent', b'NO'),\n",
       "        (b'1', b'0', b'0', b'0', b'0', b'0', b'0', b'1', b'0', b'0',  26., b'f', b'Asian', b'no', b'no', b'India', b'no',  2., b\"'18 and more'\", b'Self', b'NO'),\n",
       "        (b'1', b'0', b'0', b'0', b'1', b'0', b'0', b'1', b'0', b'1',  30., b'f', b'Asian', b'no', b'no', b'India', b'no',  4., b\"'18 and more'\", b'Self', b'NO'),\n",
       "        (b'0', b'0', b'0', b'0', b'0', b'0', b'0', b'1', b'0', b'0',  23., b'm', b'White-European', b'no', b'no', b'India', b'no',  1., b\"'18 and more'\", b'Self', b'NO'),\n",
       "        (b'1', b'0', b'0', b'0', b'1', b'0', b'1', b'1', b'0', b'0',  29., b'f', b'Asian', b'no', b'no', b\"'Sri Lanka'\", b'no',  4., b\"'18 and more'\", b'Self', b'NO'),\n",
       "        (b'0', b'0', b'0', b'0', b'0', b'0', b'0', b'1', b'0', b'1',  37., b'm', b'White-European', b'no', b'no', b\"'United Kingdom'\", b'no',  2., b\"'18 and more'\", b'Parent', b'NO'),\n",
       "        (b'0', b'0', b'0', b'0', b'0', b'0', b'1', b'0', b'0', b'1',  28., b'f', b'White-European', b'no', b'no', b\"'United Kingdom'\", b'no',  2., b\"'18 and more'\", b'Self', b'NO'),\n",
       "        (b'1', b'1', b'1', b'1', b'0', b'0', b'1', b'1', b'0', b'0',  25., b'm', b\"'South Asian'\", b'no', b'no', b\"'United States'\", b'no',  6., b\"'18 and more'\", b'Self', b'NO'),\n",
       "        (b'1', b'0', b'1', b'1', b'0', b'0', b'1', b'1', b'0', b'0',  25., b'm', b'Others', b'no', b'no', b'India', b'no',  5., b\"'18 and more'\", b'Self', b'NO'),\n",
       "        (b'0', b'1', b'0', b'0', b'0', b'0', b'0', b'1', b'1', b'0',  21., b'm', b'?', b'no', b'no', b'Jordan', b'no',  3., b\"'18 and more'\", b'?', b'NO'),\n",
       "        (b'1', b'1', b'1', b'1', b'1', b'1', b'1', b'0', b'1', b'1',  43., b'm', b'White-European', b'no', b'no', b\"'United Kingdom'\", b'no',  9., b\"'18 and more'\", b'Self', b'YES'),\n",
       "        (b'1', b'1', b'0', b'1', b'1', b'1', b'0', b'0', b'1', b'1',  30., b'f', b'White-European', b'no', b'no', b\"'United States'\", b'no',  7., b\"'18 and more'\", b'Self', b'YES'),\n",
       "        (b'0', b'1', b'1', b'0', b'0', b'0', b'1', b'0', b'0', b'1',  18., b'm', b'Black', b'no', b'no', b'Niger', b'no',  4., b\"'18 and more'\", b'Self', b'NO'),\n",
       "        (b'1', b'1', b'1', b'1', b'0', b'0', b'0', b'1', b'0', b'0',  18., b'f', b'White-European', b'no', b'no', b'Romania', b'no',  5., b\"'18 and more'\", b'Self', b'NO'),\n",
       "        (b'1', b'1', b'1', b'1', b'0', b'0', b'1', b'1', b'1', b'0',  30., b'm', b'Others', b'no', b'no', b'Canada', b'no',  7., b\"'18 and more'\", b'Self', b'YES'),\n",
       "        (b'0', b'0', b'0', b'0', b'0', b'0', b'0', b'0', b'0', b'0',  31., b'f', b'White-European', b'no', b'no', b'Germany', b'no',  0., b\"'18 and more'\", b'Self', b'NO'),\n",
       "        (b'1', b'0', b'0', b'0', b'1', b'0', b'1', b'1', b'0', b'1',  33., b'm', b'Latino', b'no', b'no', b'Mexico', b'no',  5., b\"'18 and more'\", b'Self', b'NO'),\n",
       "        (b'1', b'1', b'1', b'1', b'1', b'1', b'1', b'1', b'1', b'1',  33., b'm', b'Latino', b'no', b'no', b'Mexico', b'no', 10., b\"'18 and more'\", b'Self', b'YES'),\n",
       "        (b'1', b'1', b'1', b'1', b'0', b'0', b'1', b'0', b'0', b'1',  26., b'm', b'White-European', b'no', b'no', b\"'United Kingdom'\", b'no',  6., b\"'18 and more'\", b'Self', b'NO'),\n",
       "        (b'1', b'0', b'1', b'1', b'0', b'0', b'0', b'0', b'0', b'0',  61., b'f', b'White-European', b'no', b'no', b\"'United States'\", b'no',  3., b\"'18 and more'\", b'Self', b'NO'),\n",
       "        (b'0', b'0', b'0', b'1', b'0', b'0', b'0', b'1', b'0', b'1',  46., b'm', b'Others', b'no', b'no', b\"'Viet Nam'\", b'no',  3., b\"'18 and more'\", b'Self', b'NO'),\n",
       "        (b'0', b'1', b'1', b'1', b'1', b'1', b'1', b'0', b'1', b'1',  33., b'm', b'Asian', b'no', b'no', b'India', b'no',  8., b\"'18 and more'\", b'Self', b'YES'),\n",
       "        (b'1', b'1', b'1', b'1', b'1', b'0', b'1', b'1', b'0', b'1',  38., b'f', b'Black', b'no', b'no', b'Canada', b'no',  8., b\"'18 and more'\", b'Self', b'YES'),\n",
       "        (b'1', b'1', b'0', b'0', b'0', b'0', b'0', b'1', b'0', b'0',  44., b'm', b'Black', b'no', b'no', b'France', b'no',  3., b\"'18 and more'\", b'Parent', b'NO'),\n",
       "        (b'0', b'1', b'1', b'1', b'1', b'0', b'0', b'0', b'1', b'0',  48., b'f', b'Black', b'no', b'yes', b'France', b'no',  5., b\"'18 and more'\", b'Parent', b'NO'),\n",
       "        (b'1', b'1', b'0', b'1', b'1', b'1', b'0', b'1', b'1', b'1',  42., b'f', b'Latino', b'yes', b'no', b'Mexico', b'no',  8., b\"'18 and more'\", b'Self', b'YES'),\n",
       "        (b'0', b'1', b'0', b'0', b'1', b'0', b'1', b'1', b'0', b'0',  37., b'm', b'White-European', b'no', b'no', b'Belgium', b'no',  4., b\"'18 and more'\", b'Self', b'NO'),\n",
       "        (b'1', b'0', b'1', b'1', b'1', b'0', b'0', b'1', b'0', b'1',  23., b'f', b'White-European', b'no', b'yes', b\"'United Kingdom'\", b'no',  6., b\"'18 and more'\", b'Self', b'NO'),\n",
       "        (b'1', b'0', b'1', b'1', b'1', b'0', b'1', b'1', b'1', b'1',  24., b'm', b'White-European', b'no', b'yes', b\"'United Kingdom'\", b'no',  8., b\"'18 and more'\", b'Relative', b'YES'),\n",
       "        (b'1', b'0', b'1', b'0', b'1', b'0', b'1', b'1', b'0', b'1',  41., b'm', b'?', b'yes', b'yes', b\"'United Kingdom'\", b'no',  6., b\"'18 and more'\", b'?', b'NO'),\n",
       "        (b'1', b'0', b'1', b'0', b'0', b'0', b'1', b'0', b'0', b'1',  41., b'm', b'Asian', b'no', b'no', b\"'United Kingdom'\", b'no',  4., b\"'18 and more'\", b'Self', b'NO'),\n",
       "        (b'0', b'1', b'1', b'0', b'1', b'0', b'0', b'1', b'0', b'0',  27., b'm', b'White-European', b'no', b'no', b'Belgium', b'no',  4., b\"'18 and more'\", b'Self', b'NO'),\n",
       "        (b'1', b'1', b'1', b'1', b'1', b'1', b'1', b'1', b'1', b'1',  46., b'f', b'White-European', b'yes', b'yes', b\"'United Kingdom'\", b'no', 10., b\"'18 and more'\", b'Self', b'YES'),\n",
       "        (b'0', b'1', b'0', b'0', b'0', b'0', b'0', b'0', b'0', b'1',  40., b'f', b'White-European', b'yes', b'no', b\"'United States'\", b'no',  2., b\"'18 and more'\", b'Self', b'NO'),\n",
       "        (b'0', b'1', b'1', b'1', b'1', b'1', b'1', b'1', b'0', b'1',  22., b'f', b'White-European', b'no', b'no', b\"'United States'\", b'no',  8., b\"'18 and more'\", b'Self', b'YES'),\n",
       "        (b'1', b'1', b'1', b'1', b'1', b'1', b'1', b'0', b'1', b'1',  42., b'm', b'White-European', b'no', b'no', b\"'United Kingdom'\", b'no',  9., b\"'18 and more'\", b'Self', b'YES'),\n",
       "        (b'1', b'1', b'1', b'0', b'0', b'0', b'0', b'0', b'0', b'1',  18., b'f', b'Asian', b'no', b'no', b\"'Viet Nam'\", b'no',  4., b\"'18 and more'\", b'Self', b'NO'),\n",
       "        (b'1', b'0', b'1', b'1', b'0', b'0', b'0', b'0', b'0', b'0',  44., b'f', b'White-European', b'no', b'no', b\"'United Kingdom'\", b'no',  3., b\"'18 and more'\", b'Self', b'NO'),\n",
       "        (b'1', b'1', b'1', b'1', b'1', b'0', b'1', b'1', b'1', b'1',  30., b'f', b'White-European', b'no', b'no', b\"'United States'\", b'no',  9., b\"'18 and more'\", b'Self', b'YES'),\n",
       "        (b'1', b'1', b'1', b'1', b'1', b'1', b'0', b'1', b'1', b'1',  42., b'm', b'White-European', b'no', b'no', b'Australia', b'no',  9., b\"'18 and more'\", b'Self', b'YES'),\n",
       "        (b'1', b'1', b'0', b'1', b'0', b'0', b'1', b'0', b'0', b'0',  35., b'f', b'White-European', b'no', b'yes', b\"'United States'\", b'no',  4., b\"'18 and more'\", b'Parent', b'NO'),\n",
       "        (b'1', b'0', b'1', b'1', b'1', b'0', b'1', b'0', b'1', b'1',  40., b'm', b'Black', b'no', b'no', b'AmericanSamoa', b'no',  7., b\"'18 and more'\", b'Self', b'YES'),\n",
       "        (b'0', b'1', b'0', b'0', b'0', b'0', b'0', b'0', b'1', b'1',  50., b'f', b'?', b'no', b'no', b\"'New Zealand'\", b'no',  3., b\"'18 and more'\", b'?', b'NO'),\n",
       "        (b'0', b'0', b'1', b'1', b'0', b'0', b'0', b'0', b'0', b'1',  38., b'm', b\"'Middle Eastern '\", b'no', b'no', b'Egypt', b'no',  3., b\"'18 and more'\", b'Self', b'NO'),\n",
       "        (b'1', b'1', b'1', b'1', b'1', b'0', b'0', b'1', b'1', b'1',  26., b'f', b'White-European', b'no', b'yes', b'Italy', b'no',  8., b\"'18 and more'\", b'Self', b'YES'),\n",
       "        (b'1', b'1', b'1', b'1', b'1', b'0', b'0', b'1', b'0', b'1',  27., b'f', b'White-European', b'no', b'no', b'Malaysia', b'no',  7., b\"'18 and more'\", b'Self', b'YES'),\n",
       "        (b'1', b'1', b'1', b'1', b'1', b'0', b'1', b'0', b'1', b'0',  47., b'f', b'White-European', b'yes', b'yes', b\"'United States'\", b'no',  7., b\"'18 and more'\", b'Self', b'YES'),\n",
       "        (b'1', b'1', b'0', b'1', b'1', b'1', b'0', b'0', b'0', b'1',  21., b'm', b'Black', b'yes', b'yes', b\"'United States'\", b'no',  6., b\"'18 and more'\", b'Parent', b'NO'),\n",
       "        (b'1', b'1', b'1', b'1', b'0', b'1', b'0', b'1', b'1', b'1',  37., b'm', b'White-European', b'no', b'no', b\"'United Kingdom'\", b'no',  8., b\"'18 and more'\", b'Self', b'YES'),\n",
       "        (b'1', b'0', b'0', b'0', b'0', b'0', b'1', b'1', b'0', b'1',  19., b'f', b'Others', b'no', b'no', b\"'United Kingdom'\", b'no',  4., b\"'18 and more'\", b'Self', b'NO'),\n",
       "        (b'0', b'0', b'0', b'1', b'0', b'0', b'1', b'1', b'0', b'1',  32., b'm', b'Asian', b'no', b'no', b\"'United Arab Emirates'\", b'no',  4., b\"'18 and more'\", b'Self', b'NO'),\n",
       "        (b'0', b'0', b'0', b'0', b'1', b'0', b'0', b'1', b'0', b'1',  26., b'f', b'?', b'no', b'no', b'Iran', b'no',  3., b\"'18 and more'\", b'?', b'NO'),\n",
       "        (b'1', b'1', b'1', b'1', b'1', b'1', b'1', b'1', b'1', b'1',  46., b'f', b'White-European', b'yes', b'yes', b'Australia', b'no', 10., b\"'18 and more'\", b'Self', b'YES'),\n",
       "        (b'0', b'1', b'0', b'0', b'0', b'0', b'0', b'1', b'0', b'0',  29., b'm', b'Black', b'no', b'no', b'France', b'no',  2., b\"'18 and more'\", b'Self', b'NO'),\n",
       "        (b'1', b'0', b'0', b'0', b'1', b'0', b'0', b'0', b'0', b'0',  30., b'f', b'Black', b'no', b'no', b'France', b'no',  2., b\"'18 and more'\", b'Self', b'NO'),\n",
       "        (b'1', b'1', b'0', b'0', b'0', b'0', b'1', b'1', b'0', b'0',  32., b'f', b'Latino', b'no', b'no', b'Bolivia', b'no',  4., b\"'18 and more'\", b'Relative', b'NO'),\n",
       "        (b'0', b'1', b'1', b'1', b'0', b'0', b'0', b'0', b'0', b'1',  35., b'f', b'White-European', b'yes', b'no', b\"'United States'\", b'no',  4., b\"'18 and more'\", b'Self', b'NO'),\n",
       "        (b'0', b'1', b'1', b'1', b'1', b'1', b'1', b'1', b'1', b'1',  22., b'm', b'White-European', b'no', b'no', b\"'United Kingdom'\", b'no',  9., b\"'18 and more'\", b'Self', b'YES'),\n",
       "        (b'0', b'0', b'0', b'1', b'1', b'0', b'1', b'0', b'0', b'1',  19., b'f', b'?', b'no', b'no', b'Iran', b'no',  4., b\"'18 and more'\", b'?', b'NO'),\n",
       "        (b'0', b'1', b'0', b'0', b'1', b'0', b'0', b'0', b'0', b'1',  24., b'm', b'?', b'no', b'no', b'Iran', b'no',  3., b\"'18 and more'\", b'?', b'NO'),\n",
       "        (b'0', b'1', b'0', b'0', b'1', b'0', b'0', b'0', b'0', b'0',  52., b'f', b'?', b'no', b'no', b'Iran', b'no',  2., b\"'18 and more'\", b'?', b'NO'),\n",
       "        (b'0', b'1', b'0', b'0', b'1', b'1', b'0', b'0', b'1', b'1',  52., b'm', b'?', b'no', b'no', b'Iran', b'no',  5., b\"'18 and more'\", b'?', b'NO'),\n",
       "        (b'1', b'0', b'1', b'0', b'0', b'1', b'0', b'1', b'0', b'0',  32., b'f', b'White-European', b'no', b'no', b\"'United States'\", b'no',  4., b\"'18 and more'\", b'Self', b'NO'),\n",
       "        (b'0', b'1', b'1', b'1', b'1', b'1', b'0', b'0', b'0', b'1',  24., b'm', b'White-European', b'no', b'no', b\"'United States'\", b'no',  6., b\"'18 and more'\", b'Relative', b'NO'),\n",
       "        (b'1', b'1', b'1', b'1', b'1', b'1', b'0', b'1', b'1', b'1',  24., b'm', b'White-European', b'no', b'no', b\"'United States'\", b'no',  9., b\"'18 and more'\", b'Relative', b'YES'),\n",
       "        (b'0', b'1', b'0', b'0', b'0', b'0', b'0', b'0', b'0', b'0',  49., b'f', b\"'Middle Eastern '\", b'yes', b'no', b\"'New Zealand'\", b'no',  1., b\"'18 and more'\", b'Parent', b'NO'),\n",
       "        (b'0', b'1', b'1', b'1', b'1', b'1', b'1', b'1', b'1', b'1',  30., b'f', b'Asian', b'no', b'no', b'Malaysia', b'no',  9., b\"'18 and more'\", b'Self', b'YES'),\n",
       "        (b'0', b'1', b'1', b'1', b'1', b'1', b'1', b'1', b'1', b'1',  30., b'f', b'Asian', b'no', b'yes', b'Malaysia', b'yes',  9., b\"'18 and more'\", b'Self', b'YES'),\n",
       "        (b'1', b'0', b'1', b'1', b'1', b'1', b'1', b'1', b'1', b'1',  35., b'f', b'White-European', b'yes', b'no', b\"'United Kingdom'\", b'no',  9., b\"'18 and more'\", b'Self', b'YES'),\n",
       "        (b'1', b'0', b'1', b'1', b'1', b'1', b'1', b'0', b'0', b'1',  35., b'f', b'White-European', b'yes', b'no', b\"'United Kingdom'\", b'no',  7., b\"'18 and more'\", b'Self', b'YES'),\n",
       "        (b'1', b'0', b'1', b'1', b'0', b'0', b'0', b'0', b'0', b'1',  37., b'f', b'White-European', b'no', b'yes', b\"'United Kingdom'\", b'no',  4., b\"'18 and more'\", b'Self', b'NO'),\n",
       "        (b'0', b'1', b'1', b'1', b'0', b'0', b'0', b'1', b'0', b'1',  43., b'm', b'White-European', b'no', b'no', b\"'United Kingdom'\", b'no',  5., b\"'18 and more'\", b'Self', b'NO'),\n",
       "        (b'1', b'1', b'1', b'1', b'0', b'0', b'1', b'0', b'0', b'1',  52., b'm', b'White-European', b'no', b'no', b\"'United Kingdom'\", b'no',  6., b\"'18 and more'\", b'Self', b'NO'),\n",
       "        (b'1', b'1', b'1', b'1', b'1', b'1', b'1', b'1', b'1', b'1',  44., b'm', b'White-European', b'no', b'yes', b\"'United Kingdom'\", b'no', 10., b\"'18 and more'\", b'Self', b'YES'),\n",
       "        (b'1', b'1', b'0', b'0', b'0', b'0', b'0', b'0', b'0', b'0',  46., b'f', b'White-European', b'no', b'yes', b\"'United Kingdom'\", b'no',  2., b\"'18 and more'\", b'Self', b'NO'),\n",
       "        (b'1', b'0', b'0', b'0', b'1', b'0', b'0', b'0', b'0', b'1',  42., b'f', b'White-European', b'no', b'yes', b'Australia', b'no',  3., b\"'18 and more'\", b'Self', b'NO'),\n",
       "        (b'0', b'0', b'1', b'0', b'0', b'0', b'0', b'0', b'0', b'0',  20., b'm', b'Asian', b'no', b'no', b'Aruba', b'no',  1., b\"'18 and more'\", b'Self', b'NO'),\n",
       "        (b'1', b'1', b'1', b'0', b'1', b'0', b'1', b'0', b'1', b'1',  18., b'm', b\"'Middle Eastern '\", b'no', b'no', b\"'New Zealand'\", b'no',  7., b\"'18 and more'\", b'Self', b'YES'),\n",
       "        (b'1', b'1', b'1', b'1', b'1', b'1', b'0', b'1', b'1', b'1',  38., b'm', b'White-European', b'no', b'no', b'Finland', b'no',  9., b\"'18 and more'\", b'Relative', b'YES'),\n",
       "        (b'1', b'0', b'0', b'1', b'1', b'0', b'0', b'1', b'0', b'0',  24., b'f', b'Latino', b'no', b'yes', b'Mexico', b'no',  4., b\"'18 and more'\", b'Self', b'NO'),\n",
       "        (b'1', b'1', b'0', b'0', b'0', b'0', b'0', b'1', b'0', b'0',  32., b'm', b'?', b'no', b'no', b'Jordan', b'no',  3., b\"'18 and more'\", b'?', b'NO'),\n",
       "        (b'1', b'1', b'0', b'1', b'1', b'0', b'0', b'0', b'0', b'0',  29., b'm', b'Turkish', b'no', b'no', b\"'United States'\", b'no',  4., b\"'18 and more'\", b'Self', b'NO'),\n",
       "        (b'1', b'1', b'1', b'1', b'1', b'1', b'1', b'1', b'0', b'1',  22., b'f', b'White-European', b'no', b'no', b\"'United States'\", b'no',  9., b\"'18 and more'\", b'Self', b'YES'),\n",
       "        (b'0', b'1', b'1', b'1', b'1', b'1', b'0', b'0', b'0', b'1',  19., b'f', b'White-European', b'yes', b'no', b\"'United Kingdom'\", b'no',  6., b\"'18 and more'\", b'Self', b'NO'),\n",
       "        (b'1', b'1', b'1', b'1', b'1', b'1', b'1', b'0', b'1', b'1',  39., b'f', b'White-European', b'no', b'yes', b\"'United States'\", b'no',  9., b\"'18 and more'\", b'Self', b'YES'),\n",
       "        (b'1', b'0', b'0', b'1', b'1', b'1', b'1', b'1', b'1', b'1',  17., b'm', b'Black', b'no', b'no', b\"'United States'\", b'no',  8., b\"'18 and more'\", b'Self', b'YES'),\n",
       "        (b'0', b'1', b'0', b'1', b'0', b'1', b'1', b'0', b'1', b'1',  19., b'f', b\"'Middle Eastern '\", b'no', b'no', b'Iceland', b'no',  6., b\"'18 and more'\", b'Parent', b'NO'),\n",
       "        (b'1', b'0', b'0', b'0', b'0', b'0', b'1', b'1', b'1', b'0',  18., b'm', b'White-European', b'no', b'no', b'Australia', b'no',  4., b\"'18 and more'\", b'Parent', b'NO'),\n",
       "        (b'0', b'1', b'0', b'0', b'1', b'1', b'0', b'0', b'1', b'0',  19., b'm', b'?', b'no', b'no', b'Kazakhstan', b'yes',  4., b\"'18 and more'\", b'?', b'NO'),\n",
       "        (b'0', b'1', b'0', b'0', b'0', b'0', b'0', b'1', b'0', b'0',  28., b'f', b'Turkish', b'no', b'no', b'Turkey', b'no',  2., b\"'18 and more'\", b'Self', b'NO'),\n",
       "        (b'0', b'1', b'0', b'1', b'0', b'1', b'0', b'0', b'0', b'1',  29., b'm', b'Asian', b'no', b'no', b\"'New Zealand'\", b'no',  4., b\"'18 and more'\", b'Self', b'NO'),\n",
       "        (b'1', b'1', b'0', b'0', b'0', b'0', b'1', b'1', b'0', b'0',  48., b'm', b'White-European', b'no', b'no', b'Australia', b'no',  4., b\"'18 and more'\", b'Self', b'NO'),\n",
       "        (b'1', b'1', b'1', b'1', b'1', b'1', b'0', b'1', b'1', b'1',  27., b'f', b'White-European', b'yes', b'yes', b'Netherlands', b'no',  9., b\"'18 and more'\", b'Self', b'YES'),\n",
       "        (b'1', b'0', b'1', b'1', b'0', b'0', b'0', b'0', b'0', b'0',  34., b'f', b'White-European', b'no', b'no', b\"'United Kingdom'\", b'no',  3., b\"'18 and more'\", b'Self', b'NO'),\n",
       "        (b'1', b'1', b'0', b'1', b'0', b'0', b'0', b'0', b'0', b'1',  31., b'm', b'White-European', b'no', b'no', b'Australia', b'no',  4., b\"'18 and more'\", b'Self', b'NO'),\n",
       "        (b'1', b'0', b'0', b'0', b'0', b'0', b'0', b'1', b'0', b'1',  47., b'm', b'?', b'no', b'no', b'Jordan', b'no',  3., b\"'18 and more'\", b'?', b'NO'),\n",
       "        (b'1', b'0', b'0', b'1', b'0', b'0', b'0', b'1', b'0', b'0',  47., b'm', b'?', b'no', b'no', b'Jordan', b'no',  3., b\"'18 and more'\", b'?', b'NO'),\n",
       "        (b'1', b'1', b'1', b'1', b'1', b'1', b'1', b'1', b'1', b'1',  44., b'm', b'White-European', b'no', b'yes', b\"'United Kingdom'\", b'no', 10., b\"'18 and more'\", b'Self', b'YES'),\n",
       "        (b'1', b'0', b'0', b'0', b'1', b'0', b'1', b'1', b'0', b'0',  25., b'f', b'White-European', b'no', b'no', b\"'United States'\", b'no',  4., b\"'18 and more'\", b'Self', b'NO'),\n",
       "        (b'1', b'0', b'0', b'0', b'1', b'0', b'1', b'1', b'0', b'0',  25., b'f', b'White-European', b'no', b'no', b\"'United States'\", b'no',  4., b\"'18 and more'\", b'Self', b'NO'),\n",
       "        (b'1', b'1', b'0', b'0', b'1', b'1', b'1', b'1', b'1', b'1',  20., b'm', b'White-European', b'no', b'no', b\"'United Kingdom'\", b'no',  8., b\"'18 and more'\", b'Self', b'YES'),\n",
       "        (b'1', b'1', b'1', b'1', b'1', b'0', b'1', b'1', b'1', b'1',  43., b'm', b'White-European', b'yes', b'no', b\"'New Zealand'\", b'no',  9., b\"'18 and more'\", b'Self', b'YES'),\n",
       "        (b'1', b'1', b'1', b'1', b'1', b'0', b'0', b'1', b'1', b'1',  36., b'f', b'White-European', b'no', b'yes', b\"'United Kingdom'\", b'no',  8., b\"'18 and more'\", b'Self', b'YES'),\n",
       "        (b'1', b'1', b'0', b'0', b'0', b'0', b'0', b'1', b'0', b'0',  30., b'f', b'Asian', b'no', b'yes', b\"'United States'\", b'no',  3., b\"'18 and more'\", b'Self', b'NO'),\n",
       "        (b'0', b'0', b'1', b'1', b'0', b'0', b'0', b'0', b'0', b'0',  44., b'm', b'Black', b'no', b'no', b\"'United Kingdom'\", b'no',  2., b\"'18 and more'\", b'Self', b'NO'),\n",
       "        (b'1', b'1', b'0', b'0', b'1', b'0', b'0', b'0', b'0', b'1',  40., b'f', b'Black', b'no', b'no', b\"'United Kingdom'\", b'no',  4., b\"'18 and more'\", b'Parent', b'NO'),\n",
       "        (b'1', b'1', b'0', b'0', b'1', b'1', b'0', b'1', b'1', b'0',  40., b'f', b'Black', b'yes', b'no', b\"'United Kingdom'\", b'no',  6., b\"'18 and more'\", b'Relative', b'NO'),\n",
       "        (b'1', b'1', b'0', b'1', b'1', b'1', b'0', b'1', b'1', b'0',  40., b'f', b'Black', b'yes', b'yes', b\"'United Kingdom'\", b'no',  7., b\"'18 and more'\", b'Relative', b'YES'),\n",
       "        (b'1', b'1', b'1', b'1', b'1', b'0', b'0', b'1', b'0', b'1',  30., b'm', b'Others', b'no', b'no', b\"'United States'\", b'no',  7., b\"'18 and more'\", b'Self', b'YES'),\n",
       "        (b'1', b'0', b'1', b'1', b'0', b'0', b'1', b'0', b'0', b'1',  47., b'f', b'White-European', b'no', b'no', b\"'United Kingdom'\", b'no',  5., b\"'18 and more'\", b'Self', b'NO'),\n",
       "        (b'1', b'1', b'1', b'1', b'1', b'1', b'1', b'1', b'1', b'1',  21., b'm', b'Black', b'no', b'no', b'Brazil', b'no', 10., b\"'18 and more'\", b'Self', b'YES'),\n",
       "        (b'1', b'1', b'1', b'1', b'1', b'1', b'0', b'1', b'1', b'1',  21., b'm', b'Black', b'no', b'no', b'Brazil', b'no',  9., b\"'18 and more'\", b'Self', b'YES'),\n",
       "        (b'1', b'0', b'1', b'1', b'1', b'1', b'1', b'1', b'1', b'1',  31., b'f', b'?', b'no', b'no', b\"'New Zealand'\", b'no',  9., b\"'18 and more'\", b'?', b'YES'),\n",
       "        (b'1', b'1', b'1', b'0', b'0', b'0', b'0', b'0', b'0', b'0',  21., b'f', b'Asian', b'no', b'no', b\"'New Zealand'\", b'no',  3., b\"'18 and more'\", b'Self', b'NO'),\n",
       "        (b'0', b'1', b'1', b'1', b'0', b'0', b'0', b'1', b'1', b'0',  29., b'f', b'Asian', b'no', b'no', b\"'United States'\", b'no',  5., b\"'18 and more'\", b'Self', b'NO'),\n",
       "        (b'0', b'1', b'1', b'1', b'1', b'0', b'1', b'0', b'1', b'0',  22., b'm', b\"'Middle Eastern '\", b'no', b'no', b'Afghanistan', b'no',  6., b\"'18 and more'\", b'Self', b'NO'),\n",
       "        (b'1', b'1', b'1', b'1', b'1', b'1', b'1', b'1', b'1', b'1',  51., b'm', b'White-European', b'yes', b'no', b\"'United Kingdom'\", b'no', 10., b\"'18 and more'\", b'Self', b'YES'),\n",
       "        (b'1', b'0', b'0', b'0', b'0', b'0', b'0', b'0', b'0', b'0',  23., b'm', b'?', b'no', b'no', b'Russia', b'no',  1., b\"'18 and more'\", b'?', b'NO'),\n",
       "        (b'1', b'0', b'0', b'0', b'1', b'0', b'0', b'0', b'1', b'1',  30., b'm', b'Asian', b'no', b'no', b'India', b'no',  4., b\"'18 and more'\", b'Self', b'NO'),\n",
       "        (b'1', b'1', b'0', b'0', b'0', b'0', b'0', b'1', b'0', b'0',  22., b'm', b'Others', b'no', b'no', b'India', b'no',  3., b\"'18 and more'\", b'Self', b'NO'),\n",
       "        (b'1', b'1', b'0', b'0', b'0', b'0', b'0', b'1', b'0', b'1',  22., b'm', b'Asian', b'no', b'no', b\"'New Zealand'\", b'no',  4., b\"'18 and more'\", b'Self', b'NO'),\n",
       "        (b'1', b'0', b'0', b'0', b'1', b'0', b'1', b'1', b'0', b'1',  24., b'm', b'Asian', b'no', b'no', b'India', b'no',  5., b\"'18 and more'\", b'Self', b'NO'),\n",
       "        (b'1', b'0', b'0', b'0', b'0', b'0', b'0', b'1', b'0', b'1',  26., b'f', b\"'South Asian'\", b'no', b'no', b'India', b'no',  3., b\"'18 and more'\", b'Self', b'NO'),\n",
       "        (b'1', b'0', b'1', b'1', b'0', b'0', b'0', b'1', b'1', b'1',  33., b'f', b'Asian', b'no', b'no', b'India', b'no',  6., b\"'18 and more'\", b'Parent', b'NO'),\n",
       "        (b'1', b'0', b'0', b'0', b'0', b'0', b'0', b'1', b'1', b'0',  23., b'm', b'Asian', b'no', b'no', b'India', b'no',  3., b\"'18 and more'\", b'Self', b'NO'),\n",
       "        (b'1', b'0', b'1', b'0', b'0', b'0', b'0', b'1', b'0', b'0',  42., b'f', b'Asian', b'no', b'no', b'India', b'no',  3., b\"'18 and more'\", b'Self', b'NO'),\n",
       "        (b'1', b'0', b'1', b'0', b'0', b'0', b'0', b'0', b'0', b'0',  26., b'f', b'Asian', b'no', b'no', b'India', b'no',  2., b\"'18 and more'\", b'Self', b'NO'),\n",
       "        (b'1', b'0', b'0', b'0', b'0', b'0', b'0', b'1', b'0', b'0',  29., b'f', b'Asian', b'no', b'no', b\"'New Zealand'\", b'no',  2., b\"'18 and more'\", b'Self', b'NO'),\n",
       "        (b'1', b'0', b'0', b'0', b'0', b'0', b'1', b'0', b'0', b'1',  35., b'f', b'Asian', b'no', b'no', b'India', b'no',  3., b\"'18 and more'\", b'Self', b'NO'),\n",
       "        (b'1', b'0', b'0', b'0', b'1', b'1', b'0', b'1', b'0', b'0',  25., b'f', b\"'South Asian'\", b'no', b'no', b'India', b'no',  4., b\"'18 and more'\", b'Self', b'NO'),\n",
       "        (b'1', b'0', b'0', b'0', b'0', b'0', b'1', b'1', b'0', b'0',  25., b'm', b'Asian', b'no', b'no', b\"'Sri Lanka'\", b'no',  3., b\"'18 and more'\", b'Self', b'NO'),\n",
       "        (b'0', b'0', b'0', b'0', b'0', b'0', b'0', b'1', b'0', b'0',  28., b'f', b'Asian', b'yes', b'no', b'India', b'no',  1., b\"'18 and more'\", b'Self', b'NO'),\n",
       "        (b'1', b'0', b'0', b'0', b'0', b'0', b'0', b'0', b'0', b'0',  33., b'm', b'White-European', b'no', b'no', b'Germany', b'no',  1., b\"'18 and more'\", b'Self', b'NO'),\n",
       "        (b'1', b'0', b'0', b'1', b'0', b'0', b'1', b'1', b'0', b'0',  25., b'm', b'Asian', b'no', b'no', b'India', b'no',  4., b\"'18 and more'\", b'Self', b'NO'),\n",
       "        (b'0', b'0', b'1', b'0', b'1', b'1', b'0', b'1', b'0', b'1',  25., b'm', b'Asian', b'no', b'no', b'India', b'no',  5., b\"'18 and more'\", b'Self', b'NO'),\n",
       "        (b'1', b'0', b'0', b'0', b'1', b'0', b'1', b'1', b'0', b'0',  24., b'm', b'Asian', b'no', b'no', b'India', b'no',  4., b\"'18 and more'\", b'Self', b'NO'),\n",
       "        (b'1', b'1', b'1', b'1', b'0', b'0', b'0', b'0', b'0', b'1',  27., b'f', b\"'South Asian'\", b'no', b'no', b'India', b'no',  5., b\"'18 and more'\", b'Self', b'NO'),\n",
       "        (b'1', b'0', b'0', b'0', b'0', b'0', b'0', b'0', b'0', b'0',  22., b'm', b\"'South Asian'\", b'no', b'no', b'India', b'no',  1., b\"'18 and more'\", b'Self', b'NO'),\n",
       "        (b'1', b'1', b'0', b'1', b'0', b'0', b'0', b'1', b'0', b'1',  21., b'f', b\"'South Asian'\", b'no', b'no', b'India', b'no',  5., b\"'18 and more'\", b'Self', b'NO'),\n",
       "        (b'1', b'0', b'1', b'1', b'0', b'1', b'0', b'1', b'0', b'1',  27., b'f', b\"'South Asian'\", b'no', b'no', b'India', b'no',  6., b\"'18 and more'\", b'Self', b'NO'),\n",
       "        (b'1', b'0', b'0', b'0', b'1', b'0', b'1', b'0', b'0', b'0',  23., b'm', b\"'South Asian'\", b'no', b'no', b'India', b'no',  3., b\"'18 and more'\", b'Self', b'NO'),\n",
       "        (b'0', b'0', b'0', b'1', b'1', b'0', b'0', b'1', b'0', b'1',  22., b'm', b'Asian', b'no', b'no', b'India', b'no',  4., b\"'18 and more'\", b'Self', b'NO'),\n",
       "        (b'0', b'1', b'0', b'0', b'0', b'0', b'0', b'0', b'0', b'1',  23., b'f', b\"'South Asian'\", b'no', b'no', b'India', b'no',  2., b\"'18 and more'\", b'Self', b'NO'),\n",
       "        (b'1', b'0', b'0', b'1', b'0', b'0', b'0', b'1', b'0', b'1',  30., b'm', b'Asian', b'no', b'no', b'India', b'no',  4., b\"'18 and more'\", b'Self', b'NO'),\n",
       "        (b'0', b'1', b'0', b'0', b'1', b'0', b'1', b'1', b'0', b'0',  33., b'm', b'Asian', b'no', b'no', b'India', b'no',  4., b\"'18 and more'\", b'Self', b'NO'),\n",
       "        (b'1', b'0', b'1', b'1', b'1', b'0', b'1', b'1', b'1', b'0',  24., b'f', b\"'South Asian'\", b'no', b'no', b'India', b'no',  7., b\"'18 and more'\", b'Self', b'YES'),\n",
       "        (b'1', b'0', b'0', b'0', b'1', b'0', b'1', b'1', b'0', b'0',  22., b'f', b'Asian', b'no', b'no', b\"'New Zealand'\", b'no',  4., b\"'18 and more'\", b'Self', b'NO'),\n",
       "        (b'1', b'0', b'0', b'1', b'1', b'0', b'1', b'1', b'1', b'1',  22., b'm', b'Asian', b'no', b'no', b\"'New Zealand'\", b'no',  7., b\"'18 and more'\", b'Self', b'YES'),\n",
       "        (b'1', b'0', b'0', b'0', b'0', b'0', b'0', b'1', b'0', b'1',  29., b'f', b\"'South Asian'\", b'no', b'no', b'India', b'no',  3., b\"'18 and more'\", b'Self', b'NO'),\n",
       "        (b'1', b'0', b'1', b'0', b'1', b'0', b'1', b'1', b'0', b'1',  22., b'f', b'Asian', b'no', b'no', b'India', b'no',  6., b\"'18 and more'\", b'Self', b'NO'),\n",
       "        (b'1', b'0', b'1', b'0', b'0', b'0', b'0', b'1', b'0', b'0',  21., b'm', b'Asian', b'yes', b'no', b'India', b'no',  3., b\"'18 and more'\", b'Self', b'NO'),\n",
       "        (b'1', b'0', b'0', b'0', b'0', b'0', b'1', b'1', b'0', b'0',  23., b'm', b'Asian', b'no', b'no', b'India', b'no',  3., b\"'18 and more'\", b'Self', b'NO'),\n",
       "        (b'1', b'0', b'0', b'0', b'1', b'0', b'1', b'1', b'0', b'1',  23., b'f', b'Others', b'no', b'no', b'India', b'no',  5., b\"'18 and more'\", b'Self', b'NO'),\n",
       "        (b'1', b'0', b'0', b'0', b'1', b'0', b'1', b'1', b'1', b'1',  23., b'f', b'Asian', b'no', b'no', b'India', b'no',  6., b\"'18 and more'\", b'Self', b'NO'),\n",
       "        (b'1', b'1', b'0', b'1', b'1', b'0', b'1', b'1', b'0', b'0',  32., b'm', b'Asian', b'no', b'no', b\"'Sri Lanka'\", b'no',  6., b\"'18 and more'\", b'Self', b'NO'),\n",
       "        (b'0', b'0', b'0', b'0', b'0', b'0', b'1', b'0', b'0', b'1',  27., b'm', b'Asian', b'no', b'no', b\"'Sri Lanka'\", b'no',  2., b\"'18 and more'\", b'Self', b'NO'),\n",
       "        (b'0', b'0', b'1', b'0', b'0', b'0', b'0', b'1', b'0', b'0',  28., b'f', b'Asian', b'no', b'no', b'India', b'no',  2., b\"'18 and more'\", b'Parent', b'NO'),\n",
       "        (b'1', b'1', b'0', b'0', b'1', b'0', b'0', b'1', b'1', b'1',  25., b'f', b\"'Middle Eastern '\", b'no', b'no', b'India', b'no',  6., b\"'18 and more'\", b'Self', b'NO'),\n",
       "        (b'1', b'0', b'1', b'0', b'1', b'0', b'1', b'1', b'1', b'1',  22., b'm', b'Black', b'no', b'no', b'Nepal', b'no',  7., b\"'18 and more'\", b'Self', b'YES'),\n",
       "        (b'0', b'1', b'1', b'0', b'0', b'0', b'1', b'0', b'0', b'1',  36., b'm', b'White-European', b'no', b'no', b\"'United Kingdom'\", b'no',  4., b\"'18 and more'\", b'Self', b'NO'),\n",
       "        (b'0', b'0', b'0', b'0', b'0', b'0', b'0', b'0', b'0', b'0',  27., b'f', b'?', b'no', b'no', b'Russia', b'no',  0., b\"'18 and more'\", b'?', b'NO'),\n",
       "        (b'1', b'1', b'1', b'1', b'1', b'1', b'1', b'1', b'1', b'1',  21., b'f', b'White-European', b'no', b'no', b'Germany', b'no', 10., b\"'18 and more'\", b'Self', b'YES'),\n",
       "        (b'1', b'1', b'0', b'1', b'1', b'0', b'0', b'1', b'0', b'0',  18., b'm', b'Black', b'no', b'no', b\"'United States'\", b'no',  5., b\"'18 and more'\", b'Self', b'NO'),\n",
       "        (b'1', b'0', b'0', b'0', b'1', b'1', b'1', b'1', b'1', b'1',  49., b'm', b'Black', b'no', b'no', b'Mexico', b'no',  7., b\"'18 and more'\", b'Parent', b'YES'),\n",
       "        (b'1', b'1', b'1', b'0', b'0', b'0', b'0', b'1', b'0', b'0',  18., b'm', b'Asian', b'no', b'no', b'Indonesia', b'no',  4., b\"'18 and more'\", b'Self', b'NO'),\n",
       "        (b'1', b'0', b'1', b'1', b'1', b'0', b'1', b'1', b'1', b'0',  29., b'm', b'Latino', b'no', b'no', b\"'United States'\", b'no',  7., b\"'18 and more'\", b'Self', b'YES'),\n",
       "        (b'0', b'0', b'0', b'0', b'1', b'0', b'0', b'1', b'0', b'0',  31., b'f', b'?', b'no', b'no', b\"'New Zealand'\", b'no',  2., b\"'18 and more'\", b'?', b'NO'),\n",
       "        (b'1', b'0', b'0', b'0', b'0', b'0', b'0', b'0', b'0', b'0',  37., b'f', b\"'Middle Eastern '\", b'no', b'no', b\"'New Zealand'\", b'no',  1., b\"'18 and more'\", b'Parent', b'NO'),\n",
       "        (b'1', b'0', b'1', b'1', b'1', b'0', b'0', b'1', b'0', b'1',  17., b'm', b\"'Middle Eastern '\", b'yes', b'no', b\"'New Zealand'\", b'no',  6., b\"'18 and more'\", b'Parent', b'NO'),\n",
       "        (b'1', b'0', b'1', b'1', b'0', b'0', b'1', b'1', b'1', b'1',  17., b'm', b'?', b'no', b'yes', b\"'New Zealand'\", b'no',  7., b\"'18 and more'\", b'?', b'YES'),\n",
       "        (b'1', b'1', b'1', b'1', b'0', b'0', b'0', b'0', b'0', b'0',  38., b'f', b\"'Middle Eastern '\", b'no', b'no', b'Jordan', b'no',  4., b\"'18 and more'\", b'Self', b'NO'),\n",
       "        (b'1', b'0', b'1', b'0', b'0', b'1', b'0', b'1', b'0', b'1',  18., b'm', b'White-European', b'yes', b'no', b'Angola', b'no',  5., b\"'18 and more'\", b'Parent', b'NO'),\n",
       "        (b'1', b'0', b'1', b'1', b'1', b'0', b'0', b'0', b'0', b'0',  31., b'f', b\"'Middle Eastern '\", b'no', b'no', b\"'United Arab Emirates'\", b'no',  4., b\"'18 and more'\", b'Self', b'NO'),\n",
       "        (b'0', b'1', b'1', b'1', b'0', b'0', b'0', b'0', b'0', b'0',  33., b'm', b\"'Middle Eastern '\", b'yes', b'no', b\"'United Arab Emirates'\", b'yes',  3., b\"'18 and more'\", b'Self', b'NO'),\n",
       "        (b'1', b'1', b'0', b'0', b'0', b'0', b'0', b'0', b'0', b'0',  32., b'f', b\"'Middle Eastern '\", b'yes', b'no', b'Jordan', b'no',  2., b\"'18 and more'\", b'Self', b'NO'),\n",
       "        (b'1', b'0', b'0', b'0', b'0', b'0', b'1', b'0', b'0', b'1',  30., b'm', b'?', b'yes', b'no', b'Jordan', b'no',  3., b\"'18 and more'\", b'?', b'NO'),\n",
       "        (b'0', b'0', b'0', b'0', b'0', b'0', b'0', b'0', b'0', b'1',  33., b'f', b'?', b'no', b'no', b\"'United States'\", b'no',  1., b\"'18 and more'\", b'?', b'NO'),\n",
       "        (b'1', b'1', b'1', b'1', b'1', b'1', b'1', b'1', b'1', b'1',  30., b'f', b'White-European', b'no', b'yes', b'Canada', b'no', 10., b\"'18 and more'\", b'Self', b'YES'),\n",
       "        (b'1', b'1', b'1', b'1', b'1', b'0', b'1', b'1', b'1', b'1',  30., b'm', b'Asian', b'no', b'no', b\"'United States'\", b'no',  9., b\"'18 and more'\", b'Self', b'YES'),\n",
       "        (b'1', b'0', b'0', b'1', b'1', b'0', b'1', b'0', b'0', b'1',  38., b'f', b'White-European', b'no', b'yes', b\"'United Kingdom'\", b'no',  5., b\"'18 and more'\", b'Self', b'NO'),\n",
       "        (b'1', b'0', b'0', b'0', b'1', b'0', b'1', b'0', b'1', b'1',  22., b'm', b'Asian', b'no', b'no', b'India', b'no',  5., b\"'18 and more'\", b'Self', b'NO'),\n",
       "        (b'1', b'1', b'0', b'0', b'1', b'0', b'1', b'0', b'1', b'0',  36., b'm', b'others', b'no', b'no', b\"'United States'\", b'no',  5., b\"'18 and more'\", b'Self', b'NO'),\n",
       "        (b'0', b'0', b'1', b'1', b'0', b'0', b'1', b'0', b'0', b'0',  43., b'm', b'?', b'no', b'no', b'Azerbaijan', b'no',  3., b\"'18 and more'\", b'?', b'NO'),\n",
       "        (b'1', b'1', b'1', b'1', b'1', b'1', b'0', b'0', b'1', b'1',  44., b'm', b'?', b'no', b'no', b'Pakistan', b'no',  8., b\"'18 and more'\", b'?', b'YES'),\n",
       "        (b'1', b'1', b'1', b'0', b'1', b'1', b'0', b'1', b'1', b'1',  20., b'f', b'White-European', b'no', b'no', b'France', b'no',  8., b\"'18 and more'\", b'Self', b'YES'),\n",
       "        (b'1', b'1', b'1', b'1', b'1', b'1', b'0', b'1', b'1', b'1',  40., b'f', b'Others', b'yes', b'yes', b'Australia', b'no',  9., b\"'18 and more'\", b'Self', b'YES'),\n",
       "        (b'1', b'0', b'0', b'1', b'1', b'1', b'0', b'0', b'1', b'0',  25., b'm', b'White-European', b'no', b'no', b'Italy', b'no',  5., b\"'18 and more'\", b'Self', b'NO'),\n",
       "        (b'1', b'0', b'0', b'0', b'0', b'0', b'1', b'1', b'0', b'1',  28., b'm', b'White-European', b'no', b'no', b'Australia', b'no',  4., b\"'18 and more'\", b'Self', b'NO'),\n",
       "        (b'0', b'0', b'0', b'0', b'0', b'0', b'1', b'1', b'0', b'1',  17., b'm', b'White-European', b'no', b'no', b'Canada', b'no',  3., b\"'18 and more'\", b'Self', b'NO'),\n",
       "        (b'1', b'1', b'1', b'1', b'1', b'1', b'1', b'0', b'1', b'1',  34., b'm', b'White-European', b'no', b'no', b\"'United States'\", b'no',  9., b\"'18 and more'\", b'Self', b'YES'),\n",
       "        (b'0', b'0', b'0', b'0', b'0', b'0', b'0', b'1', b'0', b'0',  56., b'm', b'?', b'no', b'no', b'Iraq', b'no',  1., b\"'18 and more'\", b'?', b'NO'),\n",
       "        (b'0', b'0', b'1', b'0', b'0', b'0', b'1', b'1', b'0', b'0',  50., b'f', b\"'Middle Eastern '\", b'no', b'no', b\"'New Zealand'\", b'no',  3., b\"'18 and more'\", b'Parent', b'NO'),\n",
       "        (b'1', b'0', b'0', b'0', b'0', b'0', b'1', b'1', b'0', b'1',  38., b'm', b'White-European', b'no', b'no', b\"'United States'\", b'no',  4., b\"'18 and more'\", b'Self', b'NO'),\n",
       "        (b'1', b'1', b'1', b'1', b'1', b'1', b'1', b'1', b'1', b'1',  47., b'm', b'White-European', b'no', b'no', b\"'United States'\", b'no', 10., b\"'18 and more'\", b'Self', b'YES'),\n",
       "        (b'1', b'1', b'1', b'1', b'1', b'0', b'1', b'1', b'1', b'1',  30., b'm', b'Others', b'no', b'no', b\"'United States'\", b'no',  9., b\"'18 and more'\", b'Self', b'YES'),\n",
       "        (b'1', b'1', b'1', b'1', b'1', b'0', b'0', b'1', b'0', b'1',  21., b'm', b'Hispanic', b'no', b'no', b\"'United States'\", b'no',  7., b\"'18 and more'\", b'Self', b'YES'),\n",
       "        (b'1', b'1', b'1', b'1', b'1', b'0', b'1', b'1', b'0', b'1',  21., b'm', b'White-European', b'no', b'no', b'Ireland', b'no',  8., b\"'18 and more'\", b'Self', b'YES'),\n",
       "        (b'1', b'1', b'1', b'0', b'1', b'0', b'1', b'1', b'1', b'1',  31., b'm', b'Latino', b'no', b'no', b'Mexico', b'no',  8., b\"'18 and more'\", b'Self', b'YES'),\n",
       "        (b'1', b'1', b'0', b'0', b'1', b'1', b'0', b'1', b'0', b'1',  27., b'f', b'White-European', b'yes', b'no', b\"'Czech Republic'\", b'no',  6., b\"'18 and more'\", b'Self', b'NO'),\n",
       "        (b'1', b'1', b'1', b'1', b'0', b'0', b'0', b'0', b'1', b'0',  24., b'f', b'White-European', b'yes', b'no', b\"'United States'\", b'no',  5., b\"'18 and more'\", b'Self', b'NO'),\n",
       "        (b'1', b'1', b'0', b'0', b'0', b'0', b'1', b'0', b'0', b'1',  35., b'm', b'White-European', b'yes', b'no', b\"'United Kingdom'\", b'no',  4., b\"'18 and more'\", b'Parent', b'NO'),\n",
       "        (b'1', b'0', b'0', b'0', b'0', b'0', b'1', b'0', b'0', b'1',  18., b'm', b'Black', b'no', b'no', b'Ethiopia', b'no',  3., b\"'18 and more'\", b\"'Health care professional'\", b'NO'),\n",
       "        (b'1', b'1', b'1', b'1', b'1', b'0', b'0', b'1', b'1', b'1',  43., b'f', b'Black', b'no', b'no', b\"'United States'\", b'no',  8., b\"'18 and more'\", b'Self', b'YES'),\n",
       "        (b'1', b'1', b'1', b'1', b'1', b'1', b'1', b'1', b'1', b'1',  44., b'm', b'White-European', b'no', b'yes', b'Afghanistan', b'no', 10., b\"'18 and more'\", b'Self', b'YES'),\n",
       "        (b'1', b'1', b'1', b'1', b'1', b'1', b'1', b'1', b'1', b'1',  40., b'm', b'White-European', b'yes', b'yes', b\"'United Kingdom'\", b'no', 10., b\"'18 and more'\", b'Parent', b'YES'),\n",
       "        (b'1', b'1', b'0', b'1', b'1', b'1', b'1', b'1', b'1', b'1',  49., b'f', b'Hispanic', b'no', b'no', b\"'United States'\", b'no',  9., b\"'18 and more'\", b'Self', b'YES'),\n",
       "        (b'1', b'1', b'0', b'0', b'0', b'0', b'0', b'1', b'0', b'0',  24., b'm', b'Hispanic', b'no', b'no', b\"'United States'\", b'no',  3., b\"'18 and more'\", b'Self', b'NO'),\n",
       "        (b'1', b'1', b'0', b'0', b'0', b'0', b'0', b'1', b'1', b'0',  30., b'f', b'White-European', b'yes', b'yes', b\"'United States'\", b'no',  4., b\"'18 and more'\", b'Self', b'NO'),\n",
       "        (b'1', b'0', b'1', b'0', b'0', b'0', b'0', b'1', b'0', b'1',  53., b'm', b'Hispanic', b'no', b'no', b\"'United States'\", b'no',  4., b\"'18 and more'\", b'Relative', b'NO'),\n",
       "        (b'1', b'0', b'1', b'1', b'1', b'0', b'0', b'1', b'1', b'1',  38., b'm', b'White-European', b'no', b'yes', b'Belgium', b'no',  7., b\"'18 and more'\", b'Self', b'YES'),\n",
       "        (b'1', b'0', b'0', b'0', b'1', b'0', b'1', b'1', b'0', b'1',  28., b'm', b'White-European', b'no', b'no', b\"'United States'\", b'no',  5., b\"'18 and more'\", b'Self', b'NO'),\n",
       "        (b'1', b'1', b'1', b'0', b'1', b'1', b'1', b'1', b'1', b'1',  28., b'm', b'White-European', b'no', b'no', b\"'United States'\", b'no',  9., b\"'18 and more'\", b'Self', b'YES'),\n",
       "        (b'1', b'0', b'1', b'1', b'1', b'1', b'1', b'0', b'1', b'1',  26., b'm', b'Black', b'no', b'no', b'Canada', b'no',  8., b\"'18 and more'\", b'Self', b'YES'),\n",
       "        (b'1', b'0', b'0', b'0', b'1', b'1', b'1', b'1', b'1', b'1',  39., b'f', b'White-European', b'no', b'no', b'Canada', b'no',  7., b\"'18 and more'\", b'Self', b'YES'),\n",
       "        (b'0', b'0', b'0', b'0', b'1', b'0', b'0', b'0', b'0', b'0',  31., b'f', b'Asian', b'yes', b'no', b'India', b'no',  1., b\"'18 and more'\", b'Self', b'NO'),\n",
       "        (b'1', b'0', b'0', b'1', b'0', b'0', b'1', b'1', b'0', b'0',  24., b'm', b'Black', b'no', b'no', b\"'United States'\", b'no',  4., b\"'18 and more'\", b'Self', b'NO'),\n",
       "        (b'1', b'1', b'1', b'0', b'1', b'1', b'1', b'1', b'0', b'1',  28., b'm', b'White-European', b'no', b'no', b\"'United States'\", b'no',  8., b\"'18 and more'\", b'Self', b'YES'),\n",
       "        (b'1', b'0', b'0', b'1', b'0', b'0', b'0', b'1', b'0', b'1',  31., b'f', b'White-European', b'no', b'no', b\"'United Kingdom'\", b'no',  4., b\"'18 and more'\", b'Self', b'NO'),\n",
       "        (b'1', b'1', b'1', b'1', b'1', b'0', b'0', b'1', b'0', b'1',  27., b'm', b'White-European', b'yes', b'no', b\"'United States'\", b'no',  7., b\"'18 and more'\", b'Self', b'YES'),\n",
       "        (b'1', b'0', b'1', b'1', b'0', b'0', b'1', b'1', b'0', b'0',  28., b'm', b'Latino', b'no', b'no', b'Brazil', b'yes',  5., b\"'18 and more'\", b'Parent', b'NO'),\n",
       "        (b'1', b'1', b'1', b'1', b'1', b'1', b'0', b'1', b'1', b'1',  31., b'm', b'Turkish', b'no', b'yes', b'Australia', b'no',  9., b\"'18 and more'\", b'Self', b'YES'),\n",
       "        (b'1', b'1', b'1', b'1', b'1', b'0', b'0', b'0', b'0', b'1',  46., b'f', b'Asian', b'no', b'no', b'Philippines', b'no',  6., b\"'18 and more'\", b'Self', b'NO'),\n",
       "        (b'1', b'1', b'1', b'1', b'1', b'1', b'1', b'1', b'1', b'1',  27., b'f', b'Pasifika', b'no', b'no', b'Australia', b'no', 10., b\"'18 and more'\", b'Self', b'YES'),\n",
       "        (b'0', b'1', b'0', b'1', b'1', b'0', b'1', b'1', b'1', b'1',  25., b'f', b'White-European', b'no', b'no', b'Russia', b'no',  7., b\"'18 and more'\", b'Self', b'YES'),\n",
       "        (b'1', b'0', b'0', b'0', b'0', b'0', b'0', b'1', b'0', b'1',  34., b'm', b'Hispanic', b'no', b'no', b'Mexico', b'no',  3., b\"'18 and more'\", b'Parent', b'NO'),\n",
       "        (b'1', b'0', b'1', b'1', b'1', b'0', b'1', b'1', b'0', b'1',  24., b'f', b'?', b'no', b'no', b'Russia', b'no',  7., b\"'18 and more'\", b'?', b'YES'),\n",
       "        (b'1', b'0', b'0', b'1', b'1', b'0', b'1', b'0', b'1', b'1',  35., b'm', b\"'South Asian'\", b'no', b'no', b'Pakistan', b'no',  6., b\"'18 and more'\", b'Self', b'NO'),\n",
       "        (b'1', b'0', b'1', b'1', b'1', b'0', b'1', b'1', b'1', b'1',  26., b'f', b'White-European', b'no', b'no', b'Cyprus', b'no',  8., b\"'18 and more'\", b'Self', b'YES')],\n",
       "       dtype=[('A1_Score', 'S1'), ('A2_Score', 'S1'), ('A3_Score', 'S1'), ('A4_Score', 'S1'), ('A5_Score', 'S1'), ('A6_Score', 'S1'), ('A7_Score', 'S1'), ('A8_Score', 'S1'), ('A9_Score', 'S1'), ('A10_Score', 'S1'), ('age', '<f8'), ('gender', 'S1'), ('ethnicity', 'S17'), ('jundice', 'S3'), ('austim', 'S3'), ('contry_of_res', 'S22'), ('used_app_before', 'S3'), ('result', '<f8'), ('age_desc', 'S13'), ('relation', 'S26'), ('Class/ASD', 'S3')]),\n",
       " Dataset: adult-weka.filters.unsupervised.attribute.NumericToNominal-Rfirst-10\n",
       " \tA1_Score's type is nominal, range is ('0', '1')\n",
       " \tA2_Score's type is nominal, range is ('0', '1')\n",
       " \tA3_Score's type is nominal, range is ('0', '1')\n",
       " \tA4_Score's type is nominal, range is ('0', '1')\n",
       " \tA5_Score's type is nominal, range is ('0', '1')\n",
       " \tA6_Score's type is nominal, range is ('0', '1')\n",
       " \tA7_Score's type is nominal, range is ('0', '1')\n",
       " \tA8_Score's type is nominal, range is ('0', '1')\n",
       " \tA9_Score's type is nominal, range is ('0', '1')\n",
       " \tA10_Score's type is nominal, range is ('0', '1')\n",
       " \tage's type is numeric\n",
       " \tgender's type is nominal, range is ('f', 'm')\n",
       " \tethnicity's type is nominal, range is ('White-European', 'Latino', 'Others', 'Black', 'Asian', \"'Middle Eastern '\", 'Pasifika', \"'South Asian'\", 'Hispanic', 'Turkish', 'others')\n",
       " \tjundice's type is nominal, range is ('no', 'yes')\n",
       " \taustim's type is nominal, range is ('no', 'yes')\n",
       " \tcontry_of_res's type is nominal, range is (\"'United States'\", 'Brazil', 'Spain', 'Egypt', \"'New Zealand'\", 'Bahamas', 'Burundi', 'Austria', 'Argentina', 'Jordan', 'Ireland', \"'United Arab Emirates'\", 'Afghanistan', 'Lebanon', \"'United Kingdom'\", \"'South Africa'\", 'Italy', 'Pakistan', 'Bangladesh', 'Chile', 'France', 'China', 'Australia', 'Canada', \"'Saudi Arabia'\", 'Netherlands', 'Romania', 'Sweden', 'Tonga', 'Oman', 'India', 'Philippines', \"'Sri Lanka'\", \"'Sierra Leone'\", 'Ethiopia', \"'Viet Nam'\", 'Iran', \"'Costa Rica'\", 'Germany', 'Mexico', 'Russia', 'Armenia', 'Iceland', 'Nicaragua', \"'Hong Kong'\", 'Japan', 'Ukraine', 'Kazakhstan', 'AmericanSamoa', 'Uruguay', 'Serbia', 'Portugal', 'Malaysia', 'Ecuador', 'Niger', 'Belgium', 'Bolivia', 'Aruba', 'Finland', 'Turkey', 'Nepal', 'Indonesia', 'Angola', 'Azerbaijan', 'Iraq', \"'Czech Republic'\", 'Cyprus')\n",
       " \tused_app_before's type is nominal, range is ('no', 'yes')\n",
       " \tresult's type is numeric\n",
       " \tage_desc's type is nominal, range is (\"'18 and more'\",)\n",
       " \trelation's type is nominal, range is ('Self', 'Parent', \"'Health care professional'\", 'Relative', 'Others')\n",
       " \tClass/ASD's type is nominal, range is ('NO', 'YES'))"
      ]
     },
     "execution_count": 5,
     "metadata": {},
     "output_type": "execute_result"
    }
   ],
   "source": [
    "Aut_data_raw"
   ]
  },
  {
   "cell_type": "code",
   "execution_count": 6,
   "metadata": {},
   "outputs": [],
   "source": [
    "Aut_data_raw_array = np.array(Aut_data_raw[0])"
   ]
  },
  {
   "cell_type": "code",
   "execution_count": 7,
   "metadata": {},
   "outputs": [
    {
     "data": {
      "text/html": [
       "<div>\n",
       "<style scoped>\n",
       "    .dataframe tbody tr th:only-of-type {\n",
       "        vertical-align: middle;\n",
       "    }\n",
       "\n",
       "    .dataframe tbody tr th {\n",
       "        vertical-align: top;\n",
       "    }\n",
       "\n",
       "    .dataframe thead th {\n",
       "        text-align: right;\n",
       "    }\n",
       "</style>\n",
       "<table border=\"1\" class=\"dataframe\">\n",
       "  <thead>\n",
       "    <tr style=\"text-align: right;\">\n",
       "      <th></th>\n",
       "      <th>A1_Score</th>\n",
       "      <th>A2_Score</th>\n",
       "      <th>A3_Score</th>\n",
       "      <th>A4_Score</th>\n",
       "      <th>A5_Score</th>\n",
       "      <th>A6_Score</th>\n",
       "      <th>A7_Score</th>\n",
       "      <th>A8_Score</th>\n",
       "      <th>A9_Score</th>\n",
       "      <th>A10_Score</th>\n",
       "      <th>age</th>\n",
       "      <th>gender</th>\n",
       "      <th>ethnicity</th>\n",
       "      <th>jundice</th>\n",
       "      <th>austim</th>\n",
       "      <th>contry_of_res</th>\n",
       "      <th>used_app_before</th>\n",
       "      <th>result</th>\n",
       "      <th>age_desc</th>\n",
       "      <th>relation</th>\n",
       "      <th>Class/ASD</th>\n",
       "    </tr>\n",
       "  </thead>\n",
       "  <tbody>\n",
       "    <tr>\n",
       "      <th>0</th>\n",
       "      <td>b'1'</td>\n",
       "      <td>b'1'</td>\n",
       "      <td>b'1'</td>\n",
       "      <td>b'1'</td>\n",
       "      <td>b'0'</td>\n",
       "      <td>b'0'</td>\n",
       "      <td>b'1'</td>\n",
       "      <td>b'1'</td>\n",
       "      <td>b'0'</td>\n",
       "      <td>b'0'</td>\n",
       "      <td>26.0</td>\n",
       "      <td>b'f'</td>\n",
       "      <td>b'White-European'</td>\n",
       "      <td>b'no'</td>\n",
       "      <td>b'no'</td>\n",
       "      <td>b\"'United States'\"</td>\n",
       "      <td>b'no'</td>\n",
       "      <td>6.0</td>\n",
       "      <td>b\"'18 and more'\"</td>\n",
       "      <td>b'Self'</td>\n",
       "      <td>b'NO'</td>\n",
       "    </tr>\n",
       "    <tr>\n",
       "      <th>1</th>\n",
       "      <td>b'1'</td>\n",
       "      <td>b'1'</td>\n",
       "      <td>b'0'</td>\n",
       "      <td>b'1'</td>\n",
       "      <td>b'0'</td>\n",
       "      <td>b'0'</td>\n",
       "      <td>b'0'</td>\n",
       "      <td>b'1'</td>\n",
       "      <td>b'0'</td>\n",
       "      <td>b'1'</td>\n",
       "      <td>24.0</td>\n",
       "      <td>b'm'</td>\n",
       "      <td>b'Latino'</td>\n",
       "      <td>b'no'</td>\n",
       "      <td>b'yes'</td>\n",
       "      <td>b'Brazil'</td>\n",
       "      <td>b'no'</td>\n",
       "      <td>5.0</td>\n",
       "      <td>b\"'18 and more'\"</td>\n",
       "      <td>b'Self'</td>\n",
       "      <td>b'NO'</td>\n",
       "    </tr>\n",
       "    <tr>\n",
       "      <th>2</th>\n",
       "      <td>b'1'</td>\n",
       "      <td>b'1'</td>\n",
       "      <td>b'0'</td>\n",
       "      <td>b'1'</td>\n",
       "      <td>b'1'</td>\n",
       "      <td>b'0'</td>\n",
       "      <td>b'1'</td>\n",
       "      <td>b'1'</td>\n",
       "      <td>b'1'</td>\n",
       "      <td>b'1'</td>\n",
       "      <td>27.0</td>\n",
       "      <td>b'm'</td>\n",
       "      <td>b'Latino'</td>\n",
       "      <td>b'yes'</td>\n",
       "      <td>b'yes'</td>\n",
       "      <td>b'Spain'</td>\n",
       "      <td>b'no'</td>\n",
       "      <td>8.0</td>\n",
       "      <td>b\"'18 and more'\"</td>\n",
       "      <td>b'Parent'</td>\n",
       "      <td>b'YES'</td>\n",
       "    </tr>\n",
       "    <tr>\n",
       "      <th>3</th>\n",
       "      <td>b'1'</td>\n",
       "      <td>b'1'</td>\n",
       "      <td>b'0'</td>\n",
       "      <td>b'1'</td>\n",
       "      <td>b'0'</td>\n",
       "      <td>b'0'</td>\n",
       "      <td>b'1'</td>\n",
       "      <td>b'1'</td>\n",
       "      <td>b'0'</td>\n",
       "      <td>b'1'</td>\n",
       "      <td>35.0</td>\n",
       "      <td>b'f'</td>\n",
       "      <td>b'White-European'</td>\n",
       "      <td>b'no'</td>\n",
       "      <td>b'yes'</td>\n",
       "      <td>b\"'United States'\"</td>\n",
       "      <td>b'no'</td>\n",
       "      <td>6.0</td>\n",
       "      <td>b\"'18 and more'\"</td>\n",
       "      <td>b'Self'</td>\n",
       "      <td>b'NO'</td>\n",
       "    </tr>\n",
       "    <tr>\n",
       "      <th>4</th>\n",
       "      <td>b'1'</td>\n",
       "      <td>b'0'</td>\n",
       "      <td>b'0'</td>\n",
       "      <td>b'0'</td>\n",
       "      <td>b'0'</td>\n",
       "      <td>b'0'</td>\n",
       "      <td>b'0'</td>\n",
       "      <td>b'1'</td>\n",
       "      <td>b'0'</td>\n",
       "      <td>b'0'</td>\n",
       "      <td>40.0</td>\n",
       "      <td>b'f'</td>\n",
       "      <td>b'?'</td>\n",
       "      <td>b'no'</td>\n",
       "      <td>b'no'</td>\n",
       "      <td>b'Egypt'</td>\n",
       "      <td>b'no'</td>\n",
       "      <td>2.0</td>\n",
       "      <td>b\"'18 and more'\"</td>\n",
       "      <td>b'?'</td>\n",
       "      <td>b'NO'</td>\n",
       "    </tr>\n",
       "  </tbody>\n",
       "</table>\n",
       "</div>"
      ],
      "text/plain": [
       "  A1_Score A2_Score A3_Score A4_Score A5_Score A6_Score A7_Score A8_Score  \\\n",
       "0     b'1'     b'1'     b'1'     b'1'     b'0'     b'0'     b'1'     b'1'   \n",
       "1     b'1'     b'1'     b'0'     b'1'     b'0'     b'0'     b'0'     b'1'   \n",
       "2     b'1'     b'1'     b'0'     b'1'     b'1'     b'0'     b'1'     b'1'   \n",
       "3     b'1'     b'1'     b'0'     b'1'     b'0'     b'0'     b'1'     b'1'   \n",
       "4     b'1'     b'0'     b'0'     b'0'     b'0'     b'0'     b'0'     b'1'   \n",
       "\n",
       "  A9_Score A10_Score   age gender          ethnicity jundice  austim  \\\n",
       "0     b'0'      b'0'  26.0   b'f'  b'White-European'   b'no'   b'no'   \n",
       "1     b'0'      b'1'  24.0   b'm'          b'Latino'   b'no'  b'yes'   \n",
       "2     b'1'      b'1'  27.0   b'm'          b'Latino'  b'yes'  b'yes'   \n",
       "3     b'0'      b'1'  35.0   b'f'  b'White-European'   b'no'  b'yes'   \n",
       "4     b'0'      b'0'  40.0   b'f'               b'?'   b'no'   b'no'   \n",
       "\n",
       "        contry_of_res used_app_before  result          age_desc   relation  \\\n",
       "0  b\"'United States'\"           b'no'     6.0  b\"'18 and more'\"    b'Self'   \n",
       "1           b'Brazil'           b'no'     5.0  b\"'18 and more'\"    b'Self'   \n",
       "2            b'Spain'           b'no'     8.0  b\"'18 and more'\"  b'Parent'   \n",
       "3  b\"'United States'\"           b'no'     6.0  b\"'18 and more'\"    b'Self'   \n",
       "4            b'Egypt'           b'no'     2.0  b\"'18 and more'\"       b'?'   \n",
       "\n",
       "  Class/ASD  \n",
       "0     b'NO'  \n",
       "1     b'NO'  \n",
       "2    b'YES'  \n",
       "3     b'NO'  \n",
       "4     b'NO'  "
      ]
     },
     "execution_count": 7,
     "metadata": {},
     "output_type": "execute_result"
    }
   ],
   "source": [
    "Aut_data_df = pd.DataFrame(Aut_data_raw_array)\n",
    "Aut_data_df.head()"
   ]
  },
  {
   "cell_type": "code",
   "execution_count": 8,
   "metadata": {},
   "outputs": [
    {
     "name": "stdout",
     "output_type": "stream",
     "text": [
      "<class 'pandas.core.frame.DataFrame'>\n",
      "RangeIndex: 704 entries, 0 to 703\n",
      "Data columns (total 21 columns):\n",
      "A1_Score           704 non-null object\n",
      "A2_Score           704 non-null object\n",
      "A3_Score           704 non-null object\n",
      "A4_Score           704 non-null object\n",
      "A5_Score           704 non-null object\n",
      "A6_Score           704 non-null object\n",
      "A7_Score           704 non-null object\n",
      "A8_Score           704 non-null object\n",
      "A9_Score           704 non-null object\n",
      "A10_Score          704 non-null object\n",
      "age                702 non-null float64\n",
      "gender             704 non-null object\n",
      "ethnicity          704 non-null object\n",
      "jundice            704 non-null object\n",
      "austim             704 non-null object\n",
      "contry_of_res      704 non-null object\n",
      "used_app_before    704 non-null object\n",
      "result             704 non-null float64\n",
      "age_desc           704 non-null object\n",
      "relation           704 non-null object\n",
      "Class/ASD          704 non-null object\n",
      "dtypes: float64(2), object(19)\n",
      "memory usage: 115.6+ KB\n"
     ]
    }
   ],
   "source": [
    "Aut_data_df.info()"
   ]
  },
  {
   "cell_type": "code",
   "execution_count": 9,
   "metadata": {},
   "outputs": [],
   "source": [
    "Aut_data_df = Aut_data_df.select_dtypes(include=['object']).stack().str.decode(\"utf-8\").unstack()"
   ]
  },
  {
   "cell_type": "code",
   "execution_count": 10,
   "metadata": {},
   "outputs": [
    {
     "data": {
      "text/html": [
       "<div>\n",
       "<style scoped>\n",
       "    .dataframe tbody tr th:only-of-type {\n",
       "        vertical-align: middle;\n",
       "    }\n",
       "\n",
       "    .dataframe tbody tr th {\n",
       "        vertical-align: top;\n",
       "    }\n",
       "\n",
       "    .dataframe thead th {\n",
       "        text-align: right;\n",
       "    }\n",
       "</style>\n",
       "<table border=\"1\" class=\"dataframe\">\n",
       "  <thead>\n",
       "    <tr style=\"text-align: right;\">\n",
       "      <th></th>\n",
       "      <th>A1_Score</th>\n",
       "      <th>A2_Score</th>\n",
       "      <th>A3_Score</th>\n",
       "      <th>A4_Score</th>\n",
       "      <th>A5_Score</th>\n",
       "      <th>A6_Score</th>\n",
       "      <th>A7_Score</th>\n",
       "      <th>A8_Score</th>\n",
       "      <th>A9_Score</th>\n",
       "      <th>A10_Score</th>\n",
       "      <th>gender</th>\n",
       "      <th>ethnicity</th>\n",
       "      <th>jundice</th>\n",
       "      <th>austim</th>\n",
       "      <th>contry_of_res</th>\n",
       "      <th>used_app_before</th>\n",
       "      <th>age_desc</th>\n",
       "      <th>relation</th>\n",
       "      <th>Class/ASD</th>\n",
       "    </tr>\n",
       "  </thead>\n",
       "  <tbody>\n",
       "    <tr>\n",
       "      <th>0</th>\n",
       "      <td>1</td>\n",
       "      <td>1</td>\n",
       "      <td>1</td>\n",
       "      <td>1</td>\n",
       "      <td>0</td>\n",
       "      <td>0</td>\n",
       "      <td>1</td>\n",
       "      <td>1</td>\n",
       "      <td>0</td>\n",
       "      <td>0</td>\n",
       "      <td>f</td>\n",
       "      <td>White-European</td>\n",
       "      <td>no</td>\n",
       "      <td>no</td>\n",
       "      <td>'United States'</td>\n",
       "      <td>no</td>\n",
       "      <td>'18 and more'</td>\n",
       "      <td>Self</td>\n",
       "      <td>NO</td>\n",
       "    </tr>\n",
       "    <tr>\n",
       "      <th>1</th>\n",
       "      <td>1</td>\n",
       "      <td>1</td>\n",
       "      <td>0</td>\n",
       "      <td>1</td>\n",
       "      <td>0</td>\n",
       "      <td>0</td>\n",
       "      <td>0</td>\n",
       "      <td>1</td>\n",
       "      <td>0</td>\n",
       "      <td>1</td>\n",
       "      <td>m</td>\n",
       "      <td>Latino</td>\n",
       "      <td>no</td>\n",
       "      <td>yes</td>\n",
       "      <td>Brazil</td>\n",
       "      <td>no</td>\n",
       "      <td>'18 and more'</td>\n",
       "      <td>Self</td>\n",
       "      <td>NO</td>\n",
       "    </tr>\n",
       "    <tr>\n",
       "      <th>2</th>\n",
       "      <td>1</td>\n",
       "      <td>1</td>\n",
       "      <td>0</td>\n",
       "      <td>1</td>\n",
       "      <td>1</td>\n",
       "      <td>0</td>\n",
       "      <td>1</td>\n",
       "      <td>1</td>\n",
       "      <td>1</td>\n",
       "      <td>1</td>\n",
       "      <td>m</td>\n",
       "      <td>Latino</td>\n",
       "      <td>yes</td>\n",
       "      <td>yes</td>\n",
       "      <td>Spain</td>\n",
       "      <td>no</td>\n",
       "      <td>'18 and more'</td>\n",
       "      <td>Parent</td>\n",
       "      <td>YES</td>\n",
       "    </tr>\n",
       "    <tr>\n",
       "      <th>3</th>\n",
       "      <td>1</td>\n",
       "      <td>1</td>\n",
       "      <td>0</td>\n",
       "      <td>1</td>\n",
       "      <td>0</td>\n",
       "      <td>0</td>\n",
       "      <td>1</td>\n",
       "      <td>1</td>\n",
       "      <td>0</td>\n",
       "      <td>1</td>\n",
       "      <td>f</td>\n",
       "      <td>White-European</td>\n",
       "      <td>no</td>\n",
       "      <td>yes</td>\n",
       "      <td>'United States'</td>\n",
       "      <td>no</td>\n",
       "      <td>'18 and more'</td>\n",
       "      <td>Self</td>\n",
       "      <td>NO</td>\n",
       "    </tr>\n",
       "    <tr>\n",
       "      <th>4</th>\n",
       "      <td>1</td>\n",
       "      <td>0</td>\n",
       "      <td>0</td>\n",
       "      <td>0</td>\n",
       "      <td>0</td>\n",
       "      <td>0</td>\n",
       "      <td>0</td>\n",
       "      <td>1</td>\n",
       "      <td>0</td>\n",
       "      <td>0</td>\n",
       "      <td>f</td>\n",
       "      <td>?</td>\n",
       "      <td>no</td>\n",
       "      <td>no</td>\n",
       "      <td>Egypt</td>\n",
       "      <td>no</td>\n",
       "      <td>'18 and more'</td>\n",
       "      <td>?</td>\n",
       "      <td>NO</td>\n",
       "    </tr>\n",
       "  </tbody>\n",
       "</table>\n",
       "</div>"
      ],
      "text/plain": [
       "  A1_Score A2_Score A3_Score A4_Score A5_Score A6_Score A7_Score A8_Score  \\\n",
       "0        1        1        1        1        0        0        1        1   \n",
       "1        1        1        0        1        0        0        0        1   \n",
       "2        1        1        0        1        1        0        1        1   \n",
       "3        1        1        0        1        0        0        1        1   \n",
       "4        1        0        0        0        0        0        0        1   \n",
       "\n",
       "  A9_Score A10_Score gender       ethnicity jundice austim    contry_of_res  \\\n",
       "0        0         0      f  White-European      no     no  'United States'   \n",
       "1        0         1      m          Latino      no    yes           Brazil   \n",
       "2        1         1      m          Latino     yes    yes            Spain   \n",
       "3        0         1      f  White-European      no    yes  'United States'   \n",
       "4        0         0      f               ?      no     no            Egypt   \n",
       "\n",
       "  used_app_before       age_desc relation Class/ASD  \n",
       "0              no  '18 and more'     Self        NO  \n",
       "1              no  '18 and more'     Self        NO  \n",
       "2              no  '18 and more'   Parent       YES  \n",
       "3              no  '18 and more'     Self        NO  \n",
       "4              no  '18 and more'        ?        NO  "
      ]
     },
     "execution_count": 10,
     "metadata": {},
     "output_type": "execute_result"
    }
   ],
   "source": [
    "Aut_data_df.head()"
   ]
  },
  {
   "cell_type": "code",
   "execution_count": 11,
   "metadata": {},
   "outputs": [
    {
     "data": {
      "text/html": [
       "<div>\n",
       "<style scoped>\n",
       "    .dataframe tbody tr th:only-of-type {\n",
       "        vertical-align: middle;\n",
       "    }\n",
       "\n",
       "    .dataframe tbody tr th {\n",
       "        vertical-align: top;\n",
       "    }\n",
       "\n",
       "    .dataframe thead th {\n",
       "        text-align: right;\n",
       "    }\n",
       "</style>\n",
       "<table border=\"1\" class=\"dataframe\">\n",
       "  <thead>\n",
       "    <tr style=\"text-align: right;\">\n",
       "      <th></th>\n",
       "      <th>A1_Score</th>\n",
       "      <th>A2_Score</th>\n",
       "      <th>A3_Score</th>\n",
       "      <th>A4_Score</th>\n",
       "      <th>A5_Score</th>\n",
       "      <th>A6_Score</th>\n",
       "      <th>A7_Score</th>\n",
       "      <th>A8_Score</th>\n",
       "      <th>A9_Score</th>\n",
       "      <th>A10_Score</th>\n",
       "      <th>gender</th>\n",
       "      <th>ethnicity</th>\n",
       "      <th>jundice</th>\n",
       "      <th>austim</th>\n",
       "      <th>contry_of_res</th>\n",
       "      <th>used_app_before</th>\n",
       "      <th>age_desc</th>\n",
       "      <th>relation</th>\n",
       "      <th>Class/ASD</th>\n",
       "    </tr>\n",
       "  </thead>\n",
       "  <tbody>\n",
       "    <tr>\n",
       "      <th>699</th>\n",
       "      <td>0</td>\n",
       "      <td>1</td>\n",
       "      <td>0</td>\n",
       "      <td>1</td>\n",
       "      <td>1</td>\n",
       "      <td>0</td>\n",
       "      <td>1</td>\n",
       "      <td>1</td>\n",
       "      <td>1</td>\n",
       "      <td>1</td>\n",
       "      <td>f</td>\n",
       "      <td>White-European</td>\n",
       "      <td>no</td>\n",
       "      <td>no</td>\n",
       "      <td>Russia</td>\n",
       "      <td>no</td>\n",
       "      <td>'18 and more'</td>\n",
       "      <td>Self</td>\n",
       "      <td>YES</td>\n",
       "    </tr>\n",
       "    <tr>\n",
       "      <th>700</th>\n",
       "      <td>1</td>\n",
       "      <td>0</td>\n",
       "      <td>0</td>\n",
       "      <td>0</td>\n",
       "      <td>0</td>\n",
       "      <td>0</td>\n",
       "      <td>0</td>\n",
       "      <td>1</td>\n",
       "      <td>0</td>\n",
       "      <td>1</td>\n",
       "      <td>m</td>\n",
       "      <td>Hispanic</td>\n",
       "      <td>no</td>\n",
       "      <td>no</td>\n",
       "      <td>Mexico</td>\n",
       "      <td>no</td>\n",
       "      <td>'18 and more'</td>\n",
       "      <td>Parent</td>\n",
       "      <td>NO</td>\n",
       "    </tr>\n",
       "    <tr>\n",
       "      <th>701</th>\n",
       "      <td>1</td>\n",
       "      <td>0</td>\n",
       "      <td>1</td>\n",
       "      <td>1</td>\n",
       "      <td>1</td>\n",
       "      <td>0</td>\n",
       "      <td>1</td>\n",
       "      <td>1</td>\n",
       "      <td>0</td>\n",
       "      <td>1</td>\n",
       "      <td>f</td>\n",
       "      <td>?</td>\n",
       "      <td>no</td>\n",
       "      <td>no</td>\n",
       "      <td>Russia</td>\n",
       "      <td>no</td>\n",
       "      <td>'18 and more'</td>\n",
       "      <td>?</td>\n",
       "      <td>YES</td>\n",
       "    </tr>\n",
       "    <tr>\n",
       "      <th>702</th>\n",
       "      <td>1</td>\n",
       "      <td>0</td>\n",
       "      <td>0</td>\n",
       "      <td>1</td>\n",
       "      <td>1</td>\n",
       "      <td>0</td>\n",
       "      <td>1</td>\n",
       "      <td>0</td>\n",
       "      <td>1</td>\n",
       "      <td>1</td>\n",
       "      <td>m</td>\n",
       "      <td>'South Asian'</td>\n",
       "      <td>no</td>\n",
       "      <td>no</td>\n",
       "      <td>Pakistan</td>\n",
       "      <td>no</td>\n",
       "      <td>'18 and more'</td>\n",
       "      <td>Self</td>\n",
       "      <td>NO</td>\n",
       "    </tr>\n",
       "    <tr>\n",
       "      <th>703</th>\n",
       "      <td>1</td>\n",
       "      <td>0</td>\n",
       "      <td>1</td>\n",
       "      <td>1</td>\n",
       "      <td>1</td>\n",
       "      <td>0</td>\n",
       "      <td>1</td>\n",
       "      <td>1</td>\n",
       "      <td>1</td>\n",
       "      <td>1</td>\n",
       "      <td>f</td>\n",
       "      <td>White-European</td>\n",
       "      <td>no</td>\n",
       "      <td>no</td>\n",
       "      <td>Cyprus</td>\n",
       "      <td>no</td>\n",
       "      <td>'18 and more'</td>\n",
       "      <td>Self</td>\n",
       "      <td>YES</td>\n",
       "    </tr>\n",
       "  </tbody>\n",
       "</table>\n",
       "</div>"
      ],
      "text/plain": [
       "    A1_Score A2_Score A3_Score A4_Score A5_Score A6_Score A7_Score A8_Score  \\\n",
       "699        0        1        0        1        1        0        1        1   \n",
       "700        1        0        0        0        0        0        0        1   \n",
       "701        1        0        1        1        1        0        1        1   \n",
       "702        1        0        0        1        1        0        1        0   \n",
       "703        1        0        1        1        1        0        1        1   \n",
       "\n",
       "    A9_Score A10_Score gender       ethnicity jundice austim contry_of_res  \\\n",
       "699        1         1      f  White-European      no     no        Russia   \n",
       "700        0         1      m        Hispanic      no     no        Mexico   \n",
       "701        0         1      f               ?      no     no        Russia   \n",
       "702        1         1      m   'South Asian'      no     no      Pakistan   \n",
       "703        1         1      f  White-European      no     no        Cyprus   \n",
       "\n",
       "    used_app_before       age_desc relation Class/ASD  \n",
       "699              no  '18 and more'     Self       YES  \n",
       "700              no  '18 and more'   Parent        NO  \n",
       "701              no  '18 and more'        ?       YES  \n",
       "702              no  '18 and more'     Self        NO  \n",
       "703              no  '18 and more'     Self       YES  "
      ]
     },
     "execution_count": 11,
     "metadata": {},
     "output_type": "execute_result"
    }
   ],
   "source": [
    "Aut_data_df.tail()"
   ]
  },
  {
   "cell_type": "code",
   "execution_count": 12,
   "metadata": {},
   "outputs": [
    {
     "data": {
      "text/html": [
       "<div>\n",
       "<style scoped>\n",
       "    .dataframe tbody tr th:only-of-type {\n",
       "        vertical-align: middle;\n",
       "    }\n",
       "\n",
       "    .dataframe tbody tr th {\n",
       "        vertical-align: top;\n",
       "    }\n",
       "\n",
       "    .dataframe thead th {\n",
       "        text-align: right;\n",
       "    }\n",
       "</style>\n",
       "<table border=\"1\" class=\"dataframe\">\n",
       "  <thead>\n",
       "    <tr style=\"text-align: right;\">\n",
       "      <th></th>\n",
       "      <th>A1_Score</th>\n",
       "      <th>A2_Score</th>\n",
       "      <th>A3_Score</th>\n",
       "      <th>A4_Score</th>\n",
       "      <th>A5_Score</th>\n",
       "      <th>A6_Score</th>\n",
       "      <th>A7_Score</th>\n",
       "      <th>A8_Score</th>\n",
       "      <th>A9_Score</th>\n",
       "      <th>A10_Score</th>\n",
       "      <th>gender</th>\n",
       "      <th>ethnicity</th>\n",
       "      <th>jundice</th>\n",
       "      <th>austim</th>\n",
       "      <th>contry_of_res</th>\n",
       "      <th>used_app_before</th>\n",
       "      <th>age_desc</th>\n",
       "      <th>relation</th>\n",
       "      <th>Class/ASD</th>\n",
       "    </tr>\n",
       "  </thead>\n",
       "  <tbody>\n",
       "    <tr>\n",
       "      <th>count</th>\n",
       "      <td>704</td>\n",
       "      <td>704</td>\n",
       "      <td>704</td>\n",
       "      <td>704</td>\n",
       "      <td>704</td>\n",
       "      <td>704</td>\n",
       "      <td>704</td>\n",
       "      <td>704</td>\n",
       "      <td>704</td>\n",
       "      <td>704</td>\n",
       "      <td>704</td>\n",
       "      <td>704</td>\n",
       "      <td>704</td>\n",
       "      <td>704</td>\n",
       "      <td>704</td>\n",
       "      <td>704</td>\n",
       "      <td>704</td>\n",
       "      <td>704</td>\n",
       "      <td>704</td>\n",
       "    </tr>\n",
       "    <tr>\n",
       "      <th>unique</th>\n",
       "      <td>2</td>\n",
       "      <td>2</td>\n",
       "      <td>2</td>\n",
       "      <td>2</td>\n",
       "      <td>2</td>\n",
       "      <td>2</td>\n",
       "      <td>2</td>\n",
       "      <td>2</td>\n",
       "      <td>2</td>\n",
       "      <td>2</td>\n",
       "      <td>2</td>\n",
       "      <td>12</td>\n",
       "      <td>2</td>\n",
       "      <td>2</td>\n",
       "      <td>67</td>\n",
       "      <td>2</td>\n",
       "      <td>1</td>\n",
       "      <td>6</td>\n",
       "      <td>2</td>\n",
       "    </tr>\n",
       "    <tr>\n",
       "      <th>top</th>\n",
       "      <td>1</td>\n",
       "      <td>0</td>\n",
       "      <td>0</td>\n",
       "      <td>0</td>\n",
       "      <td>0</td>\n",
       "      <td>0</td>\n",
       "      <td>0</td>\n",
       "      <td>1</td>\n",
       "      <td>0</td>\n",
       "      <td>1</td>\n",
       "      <td>m</td>\n",
       "      <td>White-European</td>\n",
       "      <td>no</td>\n",
       "      <td>no</td>\n",
       "      <td>'United States'</td>\n",
       "      <td>no</td>\n",
       "      <td>'18 and more'</td>\n",
       "      <td>Self</td>\n",
       "      <td>NO</td>\n",
       "    </tr>\n",
       "    <tr>\n",
       "      <th>freq</th>\n",
       "      <td>508</td>\n",
       "      <td>385</td>\n",
       "      <td>382</td>\n",
       "      <td>355</td>\n",
       "      <td>353</td>\n",
       "      <td>504</td>\n",
       "      <td>410</td>\n",
       "      <td>457</td>\n",
       "      <td>476</td>\n",
       "      <td>404</td>\n",
       "      <td>367</td>\n",
       "      <td>233</td>\n",
       "      <td>635</td>\n",
       "      <td>613</td>\n",
       "      <td>113</td>\n",
       "      <td>692</td>\n",
       "      <td>704</td>\n",
       "      <td>522</td>\n",
       "      <td>515</td>\n",
       "    </tr>\n",
       "  </tbody>\n",
       "</table>\n",
       "</div>"
      ],
      "text/plain": [
       "       A1_Score A2_Score A3_Score A4_Score A5_Score A6_Score A7_Score  \\\n",
       "count       704      704      704      704      704      704      704   \n",
       "unique        2        2        2        2        2        2        2   \n",
       "top           1        0        0        0        0        0        0   \n",
       "freq        508      385      382      355      353      504      410   \n",
       "\n",
       "       A8_Score A9_Score A10_Score gender       ethnicity jundice austim  \\\n",
       "count       704      704       704    704             704     704    704   \n",
       "unique        2        2         2      2              12       2      2   \n",
       "top           1        0         1      m  White-European      no     no   \n",
       "freq        457      476       404    367             233     635    613   \n",
       "\n",
       "          contry_of_res used_app_before       age_desc relation Class/ASD  \n",
       "count               704             704            704      704       704  \n",
       "unique               67               2              1        6         2  \n",
       "top     'United States'              no  '18 and more'     Self        NO  \n",
       "freq                113             692            704      522       515  "
      ]
     },
     "execution_count": 12,
     "metadata": {},
     "output_type": "execute_result"
    }
   ],
   "source": [
    "Aut_data_df.describe()"
   ]
  },
  {
   "cell_type": "code",
   "execution_count": 13,
   "metadata": {},
   "outputs": [
    {
     "data": {
      "text/plain": [
       "A1_Score           0\n",
       "A2_Score           0\n",
       "A3_Score           0\n",
       "A4_Score           0\n",
       "A5_Score           0\n",
       "A6_Score           0\n",
       "A7_Score           0\n",
       "A8_Score           0\n",
       "A9_Score           0\n",
       "A10_Score          0\n",
       "gender             0\n",
       "ethnicity          0\n",
       "jundice            0\n",
       "austim             0\n",
       "contry_of_res      0\n",
       "used_app_before    0\n",
       "age_desc           0\n",
       "relation           0\n",
       "Class/ASD          0\n",
       "dtype: int64"
      ]
     },
     "execution_count": 13,
     "metadata": {},
     "output_type": "execute_result"
    }
   ],
   "source": [
    "Aut_data_df.isna().sum()"
   ]
  },
  {
   "cell_type": "code",
   "execution_count": 14,
   "metadata": {},
   "outputs": [
    {
     "data": {
      "text/plain": [
       "A1_Score           0\n",
       "A2_Score           0\n",
       "A3_Score           0\n",
       "A4_Score           0\n",
       "A5_Score           0\n",
       "A6_Score           0\n",
       "A7_Score           0\n",
       "A8_Score           0\n",
       "A9_Score           0\n",
       "A10_Score          0\n",
       "gender             0\n",
       "ethnicity          0\n",
       "jundice            0\n",
       "austim             0\n",
       "contry_of_res      0\n",
       "used_app_before    0\n",
       "age_desc           0\n",
       "relation           0\n",
       "Class/ASD          0\n",
       "dtype: int64"
      ]
     },
     "execution_count": 14,
     "metadata": {},
     "output_type": "execute_result"
    }
   ],
   "source": [
    "Aut_data_df.isnull().sum()"
   ]
  },
  {
   "cell_type": "code",
   "execution_count": 15,
   "metadata": {},
   "outputs": [
    {
     "name": "stdout",
     "output_type": "stream",
     "text": [
      "<class 'pandas.core.frame.DataFrame'>\n",
      "Int64Index: 704 entries, 0 to 703\n",
      "Data columns (total 19 columns):\n",
      "A1_Score           704 non-null object\n",
      "A2_Score           704 non-null object\n",
      "A3_Score           704 non-null object\n",
      "A4_Score           704 non-null object\n",
      "A5_Score           704 non-null object\n",
      "A6_Score           704 non-null object\n",
      "A7_Score           704 non-null object\n",
      "A8_Score           704 non-null object\n",
      "A9_Score           704 non-null object\n",
      "A10_Score          704 non-null object\n",
      "gender             704 non-null object\n",
      "ethnicity          704 non-null object\n",
      "jundice            704 non-null object\n",
      "austim             704 non-null object\n",
      "contry_of_res      704 non-null object\n",
      "used_app_before    704 non-null object\n",
      "age_desc           704 non-null object\n",
      "relation           704 non-null object\n",
      "Class/ASD          704 non-null object\n",
      "dtypes: object(19)\n",
      "memory usage: 110.0+ KB\n"
     ]
    }
   ],
   "source": [
    "Aut_data_df.info()"
   ]
  },
  {
   "cell_type": "code",
   "execution_count": 16,
   "metadata": {},
   "outputs": [],
   "source": [
    "Aut_data_df.replace('?', '', inplace =True)"
   ]
  },
  {
   "cell_type": "code",
   "execution_count": 17,
   "metadata": {},
   "outputs": [
    {
     "data": {
      "text/plain": [
       "Index(['A1_Score', 'A2_Score', 'A3_Score', 'A4_Score', 'A5_Score', 'A6_Score',\n",
       "       'A7_Score', 'A8_Score', 'A9_Score', 'A10_Score', 'gender', 'ethnicity',\n",
       "       'jundice', 'austim', 'contry_of_res', 'used_app_before', 'age_desc',\n",
       "       'relation', 'Class/ASD'],\n",
       "      dtype='object')"
      ]
     },
     "execution_count": 17,
     "metadata": {},
     "output_type": "execute_result"
    }
   ],
   "source": [
    "Aut_data_df.columns"
   ]
  },
  {
   "cell_type": "code",
   "execution_count": 18,
   "metadata": {},
   "outputs": [
    {
     "data": {
      "text/html": [
       "<div>\n",
       "<style scoped>\n",
       "    .dataframe tbody tr th:only-of-type {\n",
       "        vertical-align: middle;\n",
       "    }\n",
       "\n",
       "    .dataframe tbody tr th {\n",
       "        vertical-align: top;\n",
       "    }\n",
       "\n",
       "    .dataframe thead th {\n",
       "        text-align: right;\n",
       "    }\n",
       "</style>\n",
       "<table border=\"1\" class=\"dataframe\">\n",
       "  <thead>\n",
       "    <tr style=\"text-align: right;\">\n",
       "      <th></th>\n",
       "      <th>A1_Score</th>\n",
       "      <th>A2_Score</th>\n",
       "      <th>A3_Score</th>\n",
       "      <th>A4_Score</th>\n",
       "      <th>A5_Score</th>\n",
       "      <th>A6_Score</th>\n",
       "      <th>A7_Score</th>\n",
       "      <th>A8_Score</th>\n",
       "      <th>A9_Score</th>\n",
       "      <th>A10_Score</th>\n",
       "      <th>gender</th>\n",
       "      <th>ethnicity</th>\n",
       "      <th>jundice</th>\n",
       "      <th>austim</th>\n",
       "      <th>contry_of_res</th>\n",
       "      <th>used_app_before</th>\n",
       "      <th>age_desc</th>\n",
       "      <th>relation</th>\n",
       "      <th>Class/ASD</th>\n",
       "    </tr>\n",
       "  </thead>\n",
       "  <tbody>\n",
       "    <tr>\n",
       "      <th>0</th>\n",
       "      <td>1</td>\n",
       "      <td>1</td>\n",
       "      <td>1</td>\n",
       "      <td>1</td>\n",
       "      <td>0</td>\n",
       "      <td>0</td>\n",
       "      <td>1</td>\n",
       "      <td>1</td>\n",
       "      <td>0</td>\n",
       "      <td>0</td>\n",
       "      <td>f</td>\n",
       "      <td>White-European</td>\n",
       "      <td>no</td>\n",
       "      <td>no</td>\n",
       "      <td>'United States'</td>\n",
       "      <td>no</td>\n",
       "      <td>'18 and more'</td>\n",
       "      <td>Self</td>\n",
       "      <td>NO</td>\n",
       "    </tr>\n",
       "    <tr>\n",
       "      <th>1</th>\n",
       "      <td>1</td>\n",
       "      <td>1</td>\n",
       "      <td>0</td>\n",
       "      <td>1</td>\n",
       "      <td>0</td>\n",
       "      <td>0</td>\n",
       "      <td>0</td>\n",
       "      <td>1</td>\n",
       "      <td>0</td>\n",
       "      <td>1</td>\n",
       "      <td>m</td>\n",
       "      <td>Latino</td>\n",
       "      <td>no</td>\n",
       "      <td>yes</td>\n",
       "      <td>Brazil</td>\n",
       "      <td>no</td>\n",
       "      <td>'18 and more'</td>\n",
       "      <td>Self</td>\n",
       "      <td>NO</td>\n",
       "    </tr>\n",
       "    <tr>\n",
       "      <th>2</th>\n",
       "      <td>1</td>\n",
       "      <td>1</td>\n",
       "      <td>0</td>\n",
       "      <td>1</td>\n",
       "      <td>1</td>\n",
       "      <td>0</td>\n",
       "      <td>1</td>\n",
       "      <td>1</td>\n",
       "      <td>1</td>\n",
       "      <td>1</td>\n",
       "      <td>m</td>\n",
       "      <td>Latino</td>\n",
       "      <td>yes</td>\n",
       "      <td>yes</td>\n",
       "      <td>Spain</td>\n",
       "      <td>no</td>\n",
       "      <td>'18 and more'</td>\n",
       "      <td>Parent</td>\n",
       "      <td>YES</td>\n",
       "    </tr>\n",
       "    <tr>\n",
       "      <th>3</th>\n",
       "      <td>1</td>\n",
       "      <td>1</td>\n",
       "      <td>0</td>\n",
       "      <td>1</td>\n",
       "      <td>0</td>\n",
       "      <td>0</td>\n",
       "      <td>1</td>\n",
       "      <td>1</td>\n",
       "      <td>0</td>\n",
       "      <td>1</td>\n",
       "      <td>f</td>\n",
       "      <td>White-European</td>\n",
       "      <td>no</td>\n",
       "      <td>yes</td>\n",
       "      <td>'United States'</td>\n",
       "      <td>no</td>\n",
       "      <td>'18 and more'</td>\n",
       "      <td>Self</td>\n",
       "      <td>NO</td>\n",
       "    </tr>\n",
       "    <tr>\n",
       "      <th>4</th>\n",
       "      <td>1</td>\n",
       "      <td>0</td>\n",
       "      <td>0</td>\n",
       "      <td>0</td>\n",
       "      <td>0</td>\n",
       "      <td>0</td>\n",
       "      <td>0</td>\n",
       "      <td>1</td>\n",
       "      <td>0</td>\n",
       "      <td>0</td>\n",
       "      <td>f</td>\n",
       "      <td></td>\n",
       "      <td>no</td>\n",
       "      <td>no</td>\n",
       "      <td>Egypt</td>\n",
       "      <td>no</td>\n",
       "      <td>'18 and more'</td>\n",
       "      <td></td>\n",
       "      <td>NO</td>\n",
       "    </tr>\n",
       "  </tbody>\n",
       "</table>\n",
       "</div>"
      ],
      "text/plain": [
       "  A1_Score A2_Score A3_Score A4_Score A5_Score A6_Score A7_Score A8_Score  \\\n",
       "0        1        1        1        1        0        0        1        1   \n",
       "1        1        1        0        1        0        0        0        1   \n",
       "2        1        1        0        1        1        0        1        1   \n",
       "3        1        1        0        1        0        0        1        1   \n",
       "4        1        0        0        0        0        0        0        1   \n",
       "\n",
       "  A9_Score A10_Score gender       ethnicity jundice austim    contry_of_res  \\\n",
       "0        0         0      f  White-European      no     no  'United States'   \n",
       "1        0         1      m          Latino      no    yes           Brazil   \n",
       "2        1         1      m          Latino     yes    yes            Spain   \n",
       "3        0         1      f  White-European      no    yes  'United States'   \n",
       "4        0         0      f                      no     no            Egypt   \n",
       "\n",
       "  used_app_before       age_desc relation Class/ASD  \n",
       "0              no  '18 and more'     Self        NO  \n",
       "1              no  '18 and more'     Self        NO  \n",
       "2              no  '18 and more'   Parent       YES  \n",
       "3              no  '18 and more'     Self        NO  \n",
       "4              no  '18 and more'                 NO  "
      ]
     },
     "execution_count": 18,
     "metadata": {},
     "output_type": "execute_result"
    }
   ],
   "source": [
    "Aut_data_df.head()"
   ]
  },
  {
   "cell_type": "code",
   "execution_count": 19,
   "metadata": {},
   "outputs": [
    {
     "data": {
      "text/plain": [
       "White-European       233\n",
       "Asian                123\n",
       "                      95\n",
       "'Middle Eastern '     92\n",
       "Black                 43\n",
       "'South Asian'         36\n",
       "Others                30\n",
       "Latino                20\n",
       "Hispanic              13\n",
       "Pasifika              12\n",
       "Turkish                6\n",
       "others                 1\n",
       "Name: ethnicity, dtype: int64"
      ]
     },
     "execution_count": 19,
     "metadata": {},
     "output_type": "execute_result"
    }
   ],
   "source": [
    "Aut_data_df['ethnicity'].value_counts()"
   ]
  },
  {
   "cell_type": "code",
   "execution_count": 20,
   "metadata": {},
   "outputs": [
    {
     "data": {
      "text/plain": [
       "Series([], Name: contry_of_res, dtype: object)"
      ]
     },
     "execution_count": 20,
     "metadata": {},
     "output_type": "execute_result"
    }
   ],
   "source": [
    "Aut_data_df['contry_of_res'][Aut_data_df['ethnicity']==np.nan]"
   ]
  },
  {
   "cell_type": "code",
   "execution_count": 21,
   "metadata": {},
   "outputs": [
    {
     "data": {
      "text/plain": [
       "0      False\n",
       "1      False\n",
       "2      False\n",
       "3      False\n",
       "4      False\n",
       "5      False\n",
       "6      False\n",
       "7      False\n",
       "8      False\n",
       "9      False\n",
       "10     False\n",
       "11     False\n",
       "12     False\n",
       "13     False\n",
       "14     False\n",
       "15     False\n",
       "16     False\n",
       "17     False\n",
       "18     False\n",
       "19     False\n",
       "20     False\n",
       "21     False\n",
       "22     False\n",
       "23     False\n",
       "24     False\n",
       "25     False\n",
       "26     False\n",
       "27     False\n",
       "28     False\n",
       "29     False\n",
       "       ...  \n",
       "674    False\n",
       "675    False\n",
       "676    False\n",
       "677    False\n",
       "678    False\n",
       "679    False\n",
       "680    False\n",
       "681    False\n",
       "682    False\n",
       "683    False\n",
       "684    False\n",
       "685    False\n",
       "686    False\n",
       "687    False\n",
       "688    False\n",
       "689    False\n",
       "690    False\n",
       "691    False\n",
       "692    False\n",
       "693    False\n",
       "694    False\n",
       "695    False\n",
       "696    False\n",
       "697    False\n",
       "698    False\n",
       "699    False\n",
       "700    False\n",
       "701    False\n",
       "702    False\n",
       "703    False\n",
       "Name: ethnicity, Length: 704, dtype: bool"
      ]
     },
     "execution_count": 21,
     "metadata": {},
     "output_type": "execute_result"
    }
   ],
   "source": [
    "Aut_data_df['ethnicity']=='NaN'"
   ]
  },
  {
   "cell_type": "code",
   "execution_count": 22,
   "metadata": {},
   "outputs": [],
   "source": [
    "from  sklearn.preprocessing import LabelEncoder\n",
    "encoding_list = ['gender', 'ethnicity',\n",
    "       'jundice', 'austim', 'contry_of_res', 'used_app_before', 'age_desc',\n",
    "       'relation', 'Class/ASD']\n",
    "Aut_data_df[encoding_list] = Aut_data_df[encoding_list].apply(LabelEncoder().fit_transform)"
   ]
  },
  {
   "cell_type": "code",
   "execution_count": 23,
   "metadata": {},
   "outputs": [],
   "source": [
    "object_dt = Aut_data_df.select_dtypes(include='object').columns\n",
    "Aut_data_df[object_dt] = Aut_data_df.select_dtypes(include='object').apply(pd.to_numeric)"
   ]
  },
  {
   "cell_type": "code",
   "execution_count": 24,
   "metadata": {},
   "outputs": [
    {
     "data": {
      "text/html": [
       "<div>\n",
       "<style scoped>\n",
       "    .dataframe tbody tr th:only-of-type {\n",
       "        vertical-align: middle;\n",
       "    }\n",
       "\n",
       "    .dataframe tbody tr th {\n",
       "        vertical-align: top;\n",
       "    }\n",
       "\n",
       "    .dataframe thead th {\n",
       "        text-align: right;\n",
       "    }\n",
       "</style>\n",
       "<table border=\"1\" class=\"dataframe\">\n",
       "  <thead>\n",
       "    <tr style=\"text-align: right;\">\n",
       "      <th></th>\n",
       "      <th>A1_Score</th>\n",
       "      <th>A2_Score</th>\n",
       "      <th>A3_Score</th>\n",
       "      <th>A4_Score</th>\n",
       "      <th>A5_Score</th>\n",
       "      <th>A6_Score</th>\n",
       "      <th>A7_Score</th>\n",
       "      <th>A8_Score</th>\n",
       "      <th>A9_Score</th>\n",
       "      <th>A10_Score</th>\n",
       "      <th>gender</th>\n",
       "      <th>ethnicity</th>\n",
       "      <th>jundice</th>\n",
       "      <th>austim</th>\n",
       "      <th>contry_of_res</th>\n",
       "      <th>used_app_before</th>\n",
       "      <th>age_desc</th>\n",
       "      <th>relation</th>\n",
       "      <th>Class/ASD</th>\n",
       "    </tr>\n",
       "  </thead>\n",
       "  <tbody>\n",
       "    <tr>\n",
       "      <th>0</th>\n",
       "      <td>1</td>\n",
       "      <td>1</td>\n",
       "      <td>1</td>\n",
       "      <td>1</td>\n",
       "      <td>0</td>\n",
       "      <td>0</td>\n",
       "      <td>1</td>\n",
       "      <td>1</td>\n",
       "      <td>0</td>\n",
       "      <td>0</td>\n",
       "      <td>0</td>\n",
       "      <td>10</td>\n",
       "      <td>0</td>\n",
       "      <td>0</td>\n",
       "      <td>10</td>\n",
       "      <td>0</td>\n",
       "      <td>0</td>\n",
       "      <td>5</td>\n",
       "      <td>0</td>\n",
       "    </tr>\n",
       "    <tr>\n",
       "      <th>1</th>\n",
       "      <td>1</td>\n",
       "      <td>1</td>\n",
       "      <td>0</td>\n",
       "      <td>1</td>\n",
       "      <td>0</td>\n",
       "      <td>0</td>\n",
       "      <td>0</td>\n",
       "      <td>1</td>\n",
       "      <td>0</td>\n",
       "      <td>1</td>\n",
       "      <td>1</td>\n",
       "      <td>6</td>\n",
       "      <td>0</td>\n",
       "      <td>1</td>\n",
       "      <td>25</td>\n",
       "      <td>0</td>\n",
       "      <td>0</td>\n",
       "      <td>5</td>\n",
       "      <td>0</td>\n",
       "    </tr>\n",
       "    <tr>\n",
       "      <th>2</th>\n",
       "      <td>1</td>\n",
       "      <td>1</td>\n",
       "      <td>0</td>\n",
       "      <td>1</td>\n",
       "      <td>1</td>\n",
       "      <td>0</td>\n",
       "      <td>1</td>\n",
       "      <td>1</td>\n",
       "      <td>1</td>\n",
       "      <td>1</td>\n",
       "      <td>1</td>\n",
       "      <td>6</td>\n",
       "      <td>1</td>\n",
       "      <td>1</td>\n",
       "      <td>61</td>\n",
       "      <td>0</td>\n",
       "      <td>0</td>\n",
       "      <td>3</td>\n",
       "      <td>1</td>\n",
       "    </tr>\n",
       "    <tr>\n",
       "      <th>3</th>\n",
       "      <td>1</td>\n",
       "      <td>1</td>\n",
       "      <td>0</td>\n",
       "      <td>1</td>\n",
       "      <td>0</td>\n",
       "      <td>0</td>\n",
       "      <td>1</td>\n",
       "      <td>1</td>\n",
       "      <td>0</td>\n",
       "      <td>1</td>\n",
       "      <td>0</td>\n",
       "      <td>10</td>\n",
       "      <td>0</td>\n",
       "      <td>1</td>\n",
       "      <td>10</td>\n",
       "      <td>0</td>\n",
       "      <td>0</td>\n",
       "      <td>5</td>\n",
       "      <td>0</td>\n",
       "    </tr>\n",
       "    <tr>\n",
       "      <th>4</th>\n",
       "      <td>1</td>\n",
       "      <td>0</td>\n",
       "      <td>0</td>\n",
       "      <td>0</td>\n",
       "      <td>0</td>\n",
       "      <td>0</td>\n",
       "      <td>0</td>\n",
       "      <td>1</td>\n",
       "      <td>0</td>\n",
       "      <td>0</td>\n",
       "      <td>0</td>\n",
       "      <td>0</td>\n",
       "      <td>0</td>\n",
       "      <td>0</td>\n",
       "      <td>32</td>\n",
       "      <td>0</td>\n",
       "      <td>0</td>\n",
       "      <td>0</td>\n",
       "      <td>0</td>\n",
       "    </tr>\n",
       "  </tbody>\n",
       "</table>\n",
       "</div>"
      ],
      "text/plain": [
       "   A1_Score  A2_Score  A3_Score  A4_Score  A5_Score  A6_Score  A7_Score  \\\n",
       "0         1         1         1         1         0         0         1   \n",
       "1         1         1         0         1         0         0         0   \n",
       "2         1         1         0         1         1         0         1   \n",
       "3         1         1         0         1         0         0         1   \n",
       "4         1         0         0         0         0         0         0   \n",
       "\n",
       "   A8_Score  A9_Score  A10_Score  gender  ethnicity  jundice  austim  \\\n",
       "0         1         0          0       0         10        0       0   \n",
       "1         1         0          1       1          6        0       1   \n",
       "2         1         1          1       1          6        1       1   \n",
       "3         1         0          1       0         10        0       1   \n",
       "4         1         0          0       0          0        0       0   \n",
       "\n",
       "   contry_of_res  used_app_before  age_desc  relation  Class/ASD  \n",
       "0             10                0         0         5          0  \n",
       "1             25                0         0         5          0  \n",
       "2             61                0         0         3          1  \n",
       "3             10                0         0         5          0  \n",
       "4             32                0         0         0          0  "
      ]
     },
     "execution_count": 24,
     "metadata": {},
     "output_type": "execute_result"
    }
   ],
   "source": [
    "Aut_data_df.head()"
   ]
  },
  {
   "cell_type": "code",
   "execution_count": 25,
   "metadata": {},
   "outputs": [],
   "source": [
    "# report = pandas_profiling.ProfileReport(Aut_data_df)\n",
    "# report.to_file(\"Aut_data_dataframe.html\")"
   ]
  },
  {
   "cell_type": "code",
   "execution_count": 26,
   "metadata": {},
   "outputs": [],
   "source": [
    "# X = Aut_data_df.drop(['Class/ASD'], inplace = True, axis=1)\n",
    "Aut_data_df.rename(columns={'Class/ASD': 'Class'}, inplace= True)"
   ]
  },
  {
   "cell_type": "code",
   "execution_count": 27,
   "metadata": {},
   "outputs": [
    {
     "data": {
      "text/plain": [
       "<matplotlib.axes._subplots.AxesSubplot at 0x26d5490b5f8>"
      ]
     },
     "execution_count": 27,
     "metadata": {},
     "output_type": "execute_result"
    },
    {
     "data": {
      "image/png": "[encoded data removed]",
      "text/plain": [
       "<Figure size 432x288 with 1 Axes>"
      ]
     },
     "metadata": {
      "needs_background": "light"
     },
     "output_type": "display_data"
    }
   ],
   "source": [
    "sns.countplot('Class', data = Aut_data_df)\n"
   ]
  },
  {
   "cell_type": "code",
   "execution_count": 28,
   "metadata": {},
   "outputs": [
    {
     "data": {
      "text/plain": [
       "<matplotlib.axes._subplots.AxesSubplot at 0x26d56972ef0>"
      ]
     },
     "execution_count": 28,
     "metadata": {},
     "output_type": "execute_result"
    },
    {
     "data": {
      "image/png": "[encoded data removed]",
      "text/plain": [
       "<Figure size 432x288 with 1 Axes>"
      ]
     },
     "metadata": {
      "needs_background": "light"
     },
     "output_type": "display_data"
    }
   ],
   "source": [
    "sns.countplot(x='Class',hue=\"gender\",data=Aut_data_df)"
   ]
  },
  {
   "cell_type": "code",
   "execution_count": 29,
   "metadata": {},
   "outputs": [
    {
     "data": {
      "text/plain": [
       "<matplotlib.axes._subplots.AxesSubplot at 0x26d569cfe80>"
      ]
     },
     "execution_count": 29,
     "metadata": {},
     "output_type": "execute_result"
    },
    {
     "data": {
      "image/png": "[encoded data removed]",
      "text/plain": [
       "<Figure size 432x288 with 1 Axes>"
      ]
     },
     "metadata": {
      "needs_background": "light"
     },
     "output_type": "display_data"
    }
   ],
   "source": [
    "sns.countplot(x='Class',hue=\"jundice\",data=Aut_data_df)"
   ]
  },
  {
   "cell_type": "code",
   "execution_count": 30,
   "metadata": {},
   "outputs": [],
   "source": [
    "Aut_data_df_corr=Aut_data_df.corr()\n"
   ]
  },
  {
   "cell_type": "code",
   "execution_count": 31,
   "metadata": {},
   "outputs": [
    {
     "data": {
      "text/plain": [
       "<Figure size 1440x1440 with 0 Axes>"
      ]
     },
     "execution_count": 31,
     "metadata": {},
     "output_type": "execute_result"
    },
    {
     "data": {
      "text/plain": [
       "<matplotlib.axes._subplots.AxesSubplot at 0x26d56a45a20>"
      ]
     },
     "execution_count": 31,
     "metadata": {},
     "output_type": "execute_result"
    },
    {
     "data": {
      "image/png": "[encoded data removed]",
      "text/plain": [
       "<Figure size 1440x1440 with 2 Axes>"
      ]
     },
     "metadata": {
      "needs_background": "light"
     },
     "output_type": "display_data"
    }
   ],
   "source": [
    "plt.figure(figsize=(20,20))\n",
    "sns.heatmap(Aut_data_df_corr,annot=True, cmap=\"YlGnBu\")"
   ]
  },
  {
   "cell_type": "code",
   "execution_count": 32,
   "metadata": {},
   "outputs": [],
   "source": [
    "# custom designed function\n",
    "def extract_x_columns(df_y):\n",
    "    X = df_y[df_y.between(0.1,0.8)].index        \n",
    "    X = X.append(df_y[df_y.between(-0.8,-0.1)].index)    \n",
    "    return X"
   ]
  },
  {
   "cell_type": "code",
   "execution_count": 33,
   "metadata": {},
   "outputs": [
    {
     "data": {
      "text/plain": [
       "Index(['A1_Score', 'A2_Score', 'A3_Score', 'A4_Score', 'A5_Score', 'A6_Score',\n",
       "       'A7_Score', 'A8_Score', 'A9_Score', 'A10_Score', 'ethnicity', 'jundice',\n",
       "       'austim', 'relation'],\n",
       "      dtype='object')"
      ]
     },
     "execution_count": 33,
     "metadata": {},
     "output_type": "execute_result"
    }
   ],
   "source": [
    "x_columns = extract_x_columns(Aut_data_df_corr['Class'])\n",
    "x_columns"
   ]
  },
  {
   "cell_type": "code",
   "execution_count": 34,
   "metadata": {},
   "outputs": [
    {
     "data": {
      "text/plain": [
       "Index(['A1_Score', 'A2_Score', 'A3_Score', 'A4_Score', 'A5_Score', 'A6_Score',\n",
       "       'A7_Score', 'A8_Score', 'A9_Score', 'A10_Score', 'gender', 'ethnicity',\n",
       "       'jundice', 'austim', 'contry_of_res', 'used_app_before', 'age_desc',\n",
       "       'relation', 'Class'],\n",
       "      dtype='object')"
      ]
     },
     "execution_count": 34,
     "metadata": {},
     "output_type": "execute_result"
    }
   ],
   "source": [
    "Aut_data_df.columns"
   ]
  },
  {
   "cell_type": "code",
   "execution_count": 35,
   "metadata": {},
   "outputs": [],
   "source": [
    "Y = Aut_data_df['Class']\n",
    "X = Aut_data_df.drop(['Class'], axis=1)\n"
   ]
  },
  {
   "cell_type": "code",
   "execution_count": 36,
   "metadata": {},
   "outputs": [
    {
     "data": {
      "text/plain": [
       "(704, 18)"
      ]
     },
     "execution_count": 36,
     "metadata": {},
     "output_type": "execute_result"
    },
    {
     "data": {
      "text/plain": [
       "(704,)"
      ]
     },
     "execution_count": 36,
     "metadata": {},
     "output_type": "execute_result"
    }
   ],
   "source": [
    "X.shape\n",
    "Y.shape"
   ]
  },
  {
   "cell_type": "code",
   "execution_count": 37,
   "metadata": {},
   "outputs": [
    {
     "name": "stderr",
     "output_type": "stream",
     "text": [
      "C:\\ProgramData\\Anaconda3\\lib\\site-packages\\sklearn\\preprocessing\\data.py:645: DataConversionWarning: Data with input dtype int32, int64 were all converted to float64 by StandardScaler.\n",
      "  return self.partial_fit(X, y)\n",
      "C:\\ProgramData\\Anaconda3\\lib\\site-packages\\sklearn\\base.py:464: DataConversionWarning: Data with input dtype int32, int64 were all converted to float64 by StandardScaler.\n",
      "  return self.fit(X, **fit_params).transform(X)\n"
     ]
    }
   ],
   "source": [
    "from sklearn.preprocessing import StandardScaler\n",
    "scalar = StandardScaler()\n",
    "Aut_data_df_nor = scalar.fit_transform(Aut_data_df)"
   ]
  },
  {
   "cell_type": "code",
   "execution_count": 38,
   "metadata": {},
   "outputs": [
    {
     "data": {
      "text/plain": [
       "array([[ 0.62114956,  1.09858844,  1.08919025, ...,  0.        ,\n",
       "         0.51640515, -0.60579724],\n",
       "       [ 0.62114956,  1.09858844, -0.91811325, ...,  0.        ,\n",
       "         0.51640515, -0.60579724],\n",
       "       [ 0.62114956,  1.09858844, -0.91811325, ...,  0.        ,\n",
       "        -0.63043783,  1.65071734],\n",
       "       ...,\n",
       "       [ 0.62114956, -0.91025899,  1.08919025, ...,  0.        ,\n",
       "        -2.35070229,  1.65071734],\n",
       "       [ 0.62114956, -0.91025899, -0.91811325, ...,  0.        ,\n",
       "         0.51640515, -0.60579724],\n",
       "       [ 0.62114956, -0.91025899,  1.08919025, ...,  0.        ,\n",
       "         0.51640515,  1.65071734]])"
      ]
     },
     "execution_count": 38,
     "metadata": {},
     "output_type": "execute_result"
    }
   ],
   "source": [
    "Aut_data_df_nor"
   ]
  },
  {
   "cell_type": "code",
   "execution_count": 39,
   "metadata": {},
   "outputs": [
    {
     "data": {
      "text/plain": [
       "(492, 18)"
      ]
     },
     "execution_count": 39,
     "metadata": {},
     "output_type": "execute_result"
    },
    {
     "data": {
      "text/plain": [
       "(212, 18)"
      ]
     },
     "execution_count": 39,
     "metadata": {},
     "output_type": "execute_result"
    },
    {
     "data": {
      "text/plain": [
       "(492,)"
      ]
     },
     "execution_count": 39,
     "metadata": {},
     "output_type": "execute_result"
    },
    {
     "data": {
      "text/plain": [
       "(212,)"
      ]
     },
     "execution_count": 39,
     "metadata": {},
     "output_type": "execute_result"
    }
   ],
   "source": [
    "# Train and test split\n",
    "\n",
    "from sklearn.model_selection import train_test_split\n",
    "x_train, x_test, y_train, y_test = train_test_split(X, Y, test_size=0.30, random_state=62)\n",
    "x_train.shape\n",
    "x_test.shape\n",
    "y_train.shape\n",
    "y_test.shape"
   ]
  },
  {
   "cell_type": "code",
   "execution_count": 40,
   "metadata": {},
   "outputs": [
    {
     "data": {
      "text/plain": [
       "KNeighborsClassifier(algorithm='auto', leaf_size=30, metric='minkowski',\n",
       "           metric_params=None, n_jobs=None, n_neighbors=3, p=2,\n",
       "           weights='uniform')"
      ]
     },
     "execution_count": 40,
     "metadata": {},
     "output_type": "execute_result"
    },
    {
     "name": "stdout",
     "output_type": "stream",
     "text": [
      "cross val score :: [0.72727273 0.80952381 0.83333333 0.78571429 0.76190476]\n",
      "Mean cross val score :: 0.7835\n"
     ]
    },
    {
     "data": {
      "text/plain": [
       "KNeighborsClassifier(algorithm='auto', leaf_size=30, metric='minkowski',\n",
       "           metric_params=None, n_jobs=None, n_neighbors=5, p=2,\n",
       "           weights='uniform')"
      ]
     },
     "execution_count": 40,
     "metadata": {},
     "output_type": "execute_result"
    },
    {
     "name": "stdout",
     "output_type": "stream",
     "text": [
      "cross val score :: [0.77272727 0.85714286 0.80952381 0.88095238 0.83333333]\n",
      "Mean cross val score :: 0.8307\n"
     ]
    },
    {
     "data": {
      "text/plain": [
       "KNeighborsClassifier(algorithm='auto', leaf_size=30, metric='minkowski',\n",
       "           metric_params=None, n_jobs=None, n_neighbors=7, p=2,\n",
       "           weights='uniform')"
      ]
     },
     "execution_count": 40,
     "metadata": {},
     "output_type": "execute_result"
    },
    {
     "name": "stdout",
     "output_type": "stream",
     "text": [
      "cross val score :: [0.77272727 0.88095238 0.80952381 0.83333333 0.80952381]\n",
      "Mean cross val score :: 0.8212\n"
     ]
    },
    {
     "data": {
      "text/plain": [
       "KNeighborsClassifier(algorithm='auto', leaf_size=30, metric='minkowski',\n",
       "           metric_params=None, n_jobs=None, n_neighbors=9, p=2,\n",
       "           weights='uniform')"
      ]
     },
     "execution_count": 40,
     "metadata": {},
     "output_type": "execute_result"
    },
    {
     "name": "stdout",
     "output_type": "stream",
     "text": [
      "cross val score :: [0.77272727 0.88095238 0.80952381 0.83333333 0.78571429]\n",
      "Mean cross val score :: 0.8165\n"
     ]
    },
    {
     "data": {
      "text/plain": [
       "KNeighborsClassifier(algorithm='auto', leaf_size=30, metric='minkowski',\n",
       "           metric_params=None, n_jobs=None, n_neighbors=11, p=2,\n",
       "           weights='uniform')"
      ]
     },
     "execution_count": 40,
     "metadata": {},
     "output_type": "execute_result"
    },
    {
     "name": "stdout",
     "output_type": "stream",
     "text": [
      "cross val score :: [0.75       0.92857143 0.88095238 0.76190476 0.80952381]\n",
      "Mean cross val score :: 0.8262\n"
     ]
    },
    {
     "data": {
      "text/plain": [
       "KNeighborsClassifier(algorithm='auto', leaf_size=30, metric='minkowski',\n",
       "           metric_params=None, n_jobs=None, n_neighbors=13, p=2,\n",
       "           weights='uniform')"
      ]
     },
     "execution_count": 40,
     "metadata": {},
     "output_type": "execute_result"
    },
    {
     "name": "stdout",
     "output_type": "stream",
     "text": [
      "cross val score :: [0.70454545 0.85714286 0.83333333 0.80952381 0.80952381]\n",
      "Mean cross val score :: 0.8028\n"
     ]
    },
    {
     "data": {
      "text/plain": [
       "KNeighborsClassifier(algorithm='auto', leaf_size=30, metric='minkowski',\n",
       "           metric_params=None, n_jobs=None, n_neighbors=15, p=2,\n",
       "           weights='uniform')"
      ]
     },
     "execution_count": 40,
     "metadata": {},
     "output_type": "execute_result"
    },
    {
     "name": "stdout",
     "output_type": "stream",
     "text": [
      "cross val score :: [0.68181818 0.88095238 0.83333333 0.78571429 0.78571429]\n",
      "Mean cross val score :: 0.7935\n"
     ]
    },
    {
     "data": {
      "text/plain": [
       "KNeighborsClassifier(algorithm='auto', leaf_size=30, metric='minkowski',\n",
       "           metric_params=None, n_jobs=None, n_neighbors=17, p=2,\n",
       "           weights='uniform')"
      ]
     },
     "execution_count": 40,
     "metadata": {},
     "output_type": "execute_result"
    },
    {
     "name": "stdout",
     "output_type": "stream",
     "text": [
      "cross val score :: [0.63636364 0.85714286 0.85714286 0.80952381 0.80952381]\n",
      "Mean cross val score :: 0.7939\n"
     ]
    },
    {
     "data": {
      "text/plain": [
       "KNeighborsClassifier(algorithm='auto', leaf_size=30, metric='minkowski',\n",
       "           metric_params=None, n_jobs=None, n_neighbors=19, p=2,\n",
       "           weights='uniform')"
      ]
     },
     "execution_count": 40,
     "metadata": {},
     "output_type": "execute_result"
    },
    {
     "name": "stdout",
     "output_type": "stream",
     "text": [
      "cross val score :: [0.63636364 0.88095238 0.83333333 0.83333333 0.83333333]\n",
      "Mean cross val score :: 0.8035\n"
     ]
    }
   ],
   "source": [
    "from sklearn.neighbors import KNeighborsClassifier\n",
    "from sklearn.model_selection import cross_val_score\n",
    "Knn_ =[3,5, 7, 9, 11, 13, 15, 17, 19]\n",
    "for Knn_index in Knn_:\n",
    "    KNN = KNeighborsClassifier(n_neighbors=Knn_index)\n",
    "    KNN.fit(x_train, y_train)\n",
    "    pred_y = KNN.predict(x_test)\n",
    "    score_knn = cross_val_score(KNN, x_test, y_test, cv=5)\n",
    "    print(\"cross val score :: \" + str(score_knn))\n",
    "    print(\"Mean cross val score :: \" + str(round(score_knn.mean(), 4)))"
   ]
  },
  {
   "cell_type": "code",
   "execution_count": 41,
   "metadata": {},
   "outputs": [],
   "source": [
    "\n",
    "KNN = KNeighborsClassifier(n_neighbors=5)\n"
   ]
  },
  {
   "cell_type": "code",
   "execution_count": 42,
   "metadata": {},
   "outputs": [
    {
     "data": {
      "text/plain": [
       "KNeighborsClassifier(algorithm='auto', leaf_size=30, metric='minkowski',\n",
       "           metric_params=None, n_jobs=None, n_neighbors=5, p=2,\n",
       "           weights='uniform')"
      ]
     },
     "execution_count": 42,
     "metadata": {},
     "output_type": "execute_result"
    }
   ],
   "source": [
    "KNN.fit(x_train, y_train)"
   ]
  },
  {
   "cell_type": "code",
   "execution_count": 43,
   "metadata": {},
   "outputs": [],
   "source": [
    "pred_y = KNN.predict(x_test)"
   ]
  },
  {
   "cell_type": "code",
   "execution_count": 44,
   "metadata": {},
   "outputs": [
    {
     "name": "stdout",
     "output_type": "stream",
     "text": [
      "cross val score :: [0.77272727 0.85714286 0.80952381 0.88095238 0.83333333]\n",
      "Mean cross val score :: 0.8307\n"
     ]
    }
   ],
   "source": [
    "\n",
    "score_knn = cross_val_score(KNN, x_test, y_test, cv=5)\n",
    "print(\"cross val score :: \" + str(score_knn))\n",
    "print(\"Mean cross val score :: \" + str(round(score_knn.mean(), 4)))"
   ]
  },
  {
   "cell_type": "markdown",
   "metadata": {},
   "source": [
    "## after the feature elemination "
   ]
  },
  {
   "cell_type": "code",
   "execution_count": null,
   "metadata": {},
   "outputs": [],
   "source": []
  },
  {
   "cell_type": "code",
   "execution_count": 45,
   "metadata": {},
   "outputs": [],
   "source": [
    "Y = Aut_data_df['Class']\n",
    "X = Aut_data_df[x_columns]\n"
   ]
  },
  {
   "cell_type": "code",
   "execution_count": 46,
   "metadata": {},
   "outputs": [
    {
     "data": {
      "text/plain": [
       "(704, 14)"
      ]
     },
     "execution_count": 46,
     "metadata": {},
     "output_type": "execute_result"
    },
    {
     "data": {
      "text/plain": [
       "(704,)"
      ]
     },
     "execution_count": 46,
     "metadata": {},
     "output_type": "execute_result"
    }
   ],
   "source": [
    "X.shape\n",
    "Y.shape"
   ]
  },
  {
   "cell_type": "code",
   "execution_count": 47,
   "metadata": {},
   "outputs": [
    {
     "name": "stderr",
     "output_type": "stream",
     "text": [
      "C:\\ProgramData\\Anaconda3\\lib\\site-packages\\sklearn\\preprocessing\\data.py:645: DataConversionWarning: Data with input dtype int32, int64 were all converted to float64 by StandardScaler.\n",
      "  return self.partial_fit(X, y)\n",
      "C:\\ProgramData\\Anaconda3\\lib\\site-packages\\sklearn\\base.py:464: DataConversionWarning: Data with input dtype int32, int64 were all converted to float64 by StandardScaler.\n",
      "  return self.fit(X, **fit_params).transform(X)\n"
     ]
    }
   ],
   "source": [
    "from sklearn.preprocessing import StandardScaler\n",
    "scalar = StandardScaler()\n",
    "Aut_data_df_nor = scalar.fit_transform(Aut_data_df)"
   ]
  },
  {
   "cell_type": "code",
   "execution_count": 48,
   "metadata": {},
   "outputs": [
    {
     "data": {
      "text/plain": [
       "array([[ 0.62114956,  1.09858844,  1.08919025, ...,  0.        ,\n",
       "         0.51640515, -0.60579724],\n",
       "       [ 0.62114956,  1.09858844, -0.91811325, ...,  0.        ,\n",
       "         0.51640515, -0.60579724],\n",
       "       [ 0.62114956,  1.09858844, -0.91811325, ...,  0.        ,\n",
       "        -0.63043783,  1.65071734],\n",
       "       ...,\n",
       "       [ 0.62114956, -0.91025899,  1.08919025, ...,  0.        ,\n",
       "        -2.35070229,  1.65071734],\n",
       "       [ 0.62114956, -0.91025899, -0.91811325, ...,  0.        ,\n",
       "         0.51640515, -0.60579724],\n",
       "       [ 0.62114956, -0.91025899,  1.08919025, ...,  0.        ,\n",
       "         0.51640515,  1.65071734]])"
      ]
     },
     "execution_count": 48,
     "metadata": {},
     "output_type": "execute_result"
    }
   ],
   "source": [
    "Aut_data_df_nor"
   ]
  },
  {
   "cell_type": "code",
   "execution_count": 49,
   "metadata": {},
   "outputs": [
    {
     "data": {
      "text/plain": [
       "(492, 14)"
      ]
     },
     "execution_count": 49,
     "metadata": {},
     "output_type": "execute_result"
    },
    {
     "data": {
      "text/plain": [
       "(212, 14)"
      ]
     },
     "execution_count": 49,
     "metadata": {},
     "output_type": "execute_result"
    },
    {
     "data": {
      "text/plain": [
       "(492,)"
      ]
     },
     "execution_count": 49,
     "metadata": {},
     "output_type": "execute_result"
    },
    {
     "data": {
      "text/plain": [
       "(212,)"
      ]
     },
     "execution_count": 49,
     "metadata": {},
     "output_type": "execute_result"
    }
   ],
   "source": [
    "# Train and test split\n",
    "\n",
    "from sklearn.model_selection import train_test_split\n",
    "x_train, x_test, y_train, y_test = train_test_split(X, Y, test_size=0.30, random_state=62)\n",
    "x_train.shape\n",
    "x_test.shape\n",
    "y_train.shape\n",
    "y_test.shape"
   ]
  },
  {
   "cell_type": "code",
   "execution_count": 50,
   "metadata": {},
   "outputs": [
    {
     "data": {
      "text/plain": [
       "KNeighborsClassifier(algorithm='auto', leaf_size=30, metric='minkowski',\n",
       "           metric_params=None, n_jobs=None, n_neighbors=1, p=2,\n",
       "           weights='uniform')"
      ]
     },
     "execution_count": 50,
     "metadata": {},
     "output_type": "execute_result"
    },
    {
     "name": "stdout",
     "output_type": "stream",
     "text": [
      "cross val score :: [0.88636364 0.80952381 0.97619048 0.9047619  0.88095238]\n",
      "Mean cross val score :: 0.8916\n",
      "Accuracy score :: 0.9104\n"
     ]
    },
    {
     "data": {
      "text/plain": [
       "KNeighborsClassifier(algorithm='auto', leaf_size=30, metric='minkowski',\n",
       "           metric_params=None, n_jobs=None, n_neighbors=2, p=2,\n",
       "           weights='uniform')"
      ]
     },
     "execution_count": 50,
     "metadata": {},
     "output_type": "execute_result"
    },
    {
     "name": "stdout",
     "output_type": "stream",
     "text": [
      "cross val score :: [0.86363636 0.85714286 0.92857143 0.9047619  0.88095238]\n",
      "Mean cross val score :: 0.887\n",
      "Accuracy score :: 0.9198\n"
     ]
    },
    {
     "data": {
      "text/plain": [
       "KNeighborsClassifier(algorithm='auto', leaf_size=30, metric='minkowski',\n",
       "           metric_params=None, n_jobs=None, n_neighbors=3, p=2,\n",
       "           weights='uniform')"
      ]
     },
     "execution_count": 50,
     "metadata": {},
     "output_type": "execute_result"
    },
    {
     "name": "stdout",
     "output_type": "stream",
     "text": [
      "cross val score :: [0.88636364 0.88095238 0.95238095 0.9047619  0.85714286]\n",
      "Mean cross val score :: 0.8963\n",
      "Accuracy score :: 0.934\n"
     ]
    },
    {
     "data": {
      "text/plain": [
       "KNeighborsClassifier(algorithm='auto', leaf_size=30, metric='minkowski',\n",
       "           metric_params=None, n_jobs=None, n_neighbors=4, p=2,\n",
       "           weights='uniform')"
      ]
     },
     "execution_count": 50,
     "metadata": {},
     "output_type": "execute_result"
    },
    {
     "name": "stdout",
     "output_type": "stream",
     "text": [
      "cross val score :: [0.88636364 0.85714286 0.97619048 0.9047619  0.83333333]\n",
      "Mean cross val score :: 0.8916\n",
      "Accuracy score :: 0.934\n"
     ]
    },
    {
     "data": {
      "text/plain": [
       "KNeighborsClassifier(algorithm='auto', leaf_size=30, metric='minkowski',\n",
       "           metric_params=None, n_jobs=None, n_neighbors=5, p=2,\n",
       "           weights='uniform')"
      ]
     },
     "execution_count": 50,
     "metadata": {},
     "output_type": "execute_result"
    },
    {
     "name": "stdout",
     "output_type": "stream",
     "text": [
      "cross val score :: [0.86363636 0.88095238 0.97619048 0.92857143 0.85714286]\n",
      "Mean cross val score :: 0.9013\n",
      "Accuracy score :: 0.9434\n"
     ]
    },
    {
     "data": {
      "text/plain": [
       "KNeighborsClassifier(algorithm='auto', leaf_size=30, metric='minkowski',\n",
       "           metric_params=None, n_jobs=None, n_neighbors=6, p=2,\n",
       "           weights='uniform')"
      ]
     },
     "execution_count": 50,
     "metadata": {},
     "output_type": "execute_result"
    },
    {
     "name": "stdout",
     "output_type": "stream",
     "text": [
      "cross val score :: [0.84090909 0.88095238 0.95238095 0.95238095 0.80952381]\n",
      "Mean cross val score :: 0.8872\n",
      "Accuracy score :: 0.9387\n"
     ]
    },
    {
     "data": {
      "text/plain": [
       "KNeighborsClassifier(algorithm='auto', leaf_size=30, metric='minkowski',\n",
       "           metric_params=None, n_jobs=None, n_neighbors=7, p=2,\n",
       "           weights='uniform')"
      ]
     },
     "execution_count": 50,
     "metadata": {},
     "output_type": "execute_result"
    },
    {
     "name": "stdout",
     "output_type": "stream",
     "text": [
      "cross val score :: [0.84090909 0.88095238 0.92857143 0.92857143 0.85714286]\n",
      "Mean cross val score :: 0.8872\n",
      "Accuracy score :: 0.9387\n"
     ]
    },
    {
     "data": {
      "text/plain": [
       "KNeighborsClassifier(algorithm='auto', leaf_size=30, metric='minkowski',\n",
       "           metric_params=None, n_jobs=None, n_neighbors=8, p=2,\n",
       "           weights='uniform')"
      ]
     },
     "execution_count": 50,
     "metadata": {},
     "output_type": "execute_result"
    },
    {
     "name": "stdout",
     "output_type": "stream",
     "text": [
      "cross val score :: [0.86363636 0.9047619  0.95238095 0.95238095 0.80952381]\n",
      "Mean cross val score :: 0.8965\n",
      "Accuracy score :: 0.9245\n"
     ]
    },
    {
     "data": {
      "text/plain": [
       "KNeighborsClassifier(algorithm='auto', leaf_size=30, metric='minkowski',\n",
       "           metric_params=None, n_jobs=None, n_neighbors=9, p=2,\n",
       "           weights='uniform')"
      ]
     },
     "execution_count": 50,
     "metadata": {},
     "output_type": "execute_result"
    },
    {
     "name": "stdout",
     "output_type": "stream",
     "text": [
      "cross val score :: [0.86363636 0.9047619  0.92857143 0.92857143 0.78571429]\n",
      "Mean cross val score :: 0.8823\n",
      "Accuracy score :: 0.9434\n"
     ]
    },
    {
     "data": {
      "text/plain": [
       "KNeighborsClassifier(algorithm='auto', leaf_size=30, metric='minkowski',\n",
       "           metric_params=None, n_jobs=None, n_neighbors=10, p=2,\n",
       "           weights='uniform')"
      ]
     },
     "execution_count": 50,
     "metadata": {},
     "output_type": "execute_result"
    },
    {
     "name": "stdout",
     "output_type": "stream",
     "text": [
      "cross val score :: [0.88636364 0.9047619  0.95238095 0.9047619  0.80952381]\n",
      "Mean cross val score :: 0.8916\n",
      "Accuracy score :: 0.934\n"
     ]
    },
    {
     "data": {
      "text/plain": [
       "KNeighborsClassifier(algorithm='auto', leaf_size=30, metric='minkowski',\n",
       "           metric_params=None, n_jobs=None, n_neighbors=11, p=2,\n",
       "           weights='uniform')"
      ]
     },
     "execution_count": 50,
     "metadata": {},
     "output_type": "execute_result"
    },
    {
     "name": "stdout",
     "output_type": "stream",
     "text": [
      "cross val score :: [0.84090909 0.92857143 0.92857143 0.88095238 0.78571429]\n",
      "Mean cross val score :: 0.8729\n",
      "Accuracy score :: 0.934\n"
     ]
    },
    {
     "data": {
      "text/plain": [
       "KNeighborsClassifier(algorithm='auto', leaf_size=30, metric='minkowski',\n",
       "           metric_params=None, n_jobs=None, n_neighbors=12, p=2,\n",
       "           weights='uniform')"
      ]
     },
     "execution_count": 50,
     "metadata": {},
     "output_type": "execute_result"
    },
    {
     "name": "stdout",
     "output_type": "stream",
     "text": [
      "cross val score :: [0.84090909 0.92857143 0.92857143 0.85714286 0.78571429]\n",
      "Mean cross val score :: 0.8682\n",
      "Accuracy score :: 0.9292\n"
     ]
    },
    {
     "data": {
      "text/plain": [
       "KNeighborsClassifier(algorithm='auto', leaf_size=30, metric='minkowski',\n",
       "           metric_params=None, n_jobs=None, n_neighbors=13, p=2,\n",
       "           weights='uniform')"
      ]
     },
     "execution_count": 50,
     "metadata": {},
     "output_type": "execute_result"
    },
    {
     "name": "stdout",
     "output_type": "stream",
     "text": [
      "cross val score :: [0.79545455 0.95238095 0.92857143 0.85714286 0.78571429]\n",
      "Mean cross val score :: 0.8639\n",
      "Accuracy score :: 0.9245\n"
     ]
    },
    {
     "data": {
      "text/plain": [
       "KNeighborsClassifier(algorithm='auto', leaf_size=30, metric='minkowski',\n",
       "           metric_params=None, n_jobs=None, n_neighbors=14, p=2,\n",
       "           weights='uniform')"
      ]
     },
     "execution_count": 50,
     "metadata": {},
     "output_type": "execute_result"
    },
    {
     "name": "stdout",
     "output_type": "stream",
     "text": [
      "cross val score :: [0.79545455 0.9047619  0.9047619  0.83333333 0.78571429]\n",
      "Mean cross val score :: 0.8448\n",
      "Accuracy score :: 0.9198\n"
     ]
    },
    {
     "data": {
      "text/plain": [
       "KNeighborsClassifier(algorithm='auto', leaf_size=30, metric='minkowski',\n",
       "           metric_params=None, n_jobs=None, n_neighbors=15, p=2,\n",
       "           weights='uniform')"
      ]
     },
     "execution_count": 50,
     "metadata": {},
     "output_type": "execute_result"
    },
    {
     "name": "stdout",
     "output_type": "stream",
     "text": [
      "cross val score :: [0.77272727 0.92857143 0.9047619  0.83333333 0.78571429]\n",
      "Mean cross val score :: 0.845\n",
      "Accuracy score :: 0.9198\n"
     ]
    },
    {
     "data": {
      "text/plain": [
       "KNeighborsClassifier(algorithm='auto', leaf_size=30, metric='minkowski',\n",
       "           metric_params=None, n_jobs=None, n_neighbors=16, p=2,\n",
       "           weights='uniform')"
      ]
     },
     "execution_count": 50,
     "metadata": {},
     "output_type": "execute_result"
    },
    {
     "name": "stdout",
     "output_type": "stream",
     "text": [
      "cross val score :: [0.79545455 0.9047619  0.9047619  0.83333333 0.80952381]\n",
      "Mean cross val score :: 0.8496\n",
      "Accuracy score :: 0.9104\n"
     ]
    },
    {
     "data": {
      "text/plain": [
       "KNeighborsClassifier(algorithm='auto', leaf_size=30, metric='minkowski',\n",
       "           metric_params=None, n_jobs=None, n_neighbors=17, p=2,\n",
       "           weights='uniform')"
      ]
     },
     "execution_count": 50,
     "metadata": {},
     "output_type": "execute_result"
    },
    {
     "name": "stdout",
     "output_type": "stream",
     "text": [
      "cross val score :: [0.81818182 0.9047619  0.9047619  0.83333333 0.80952381]\n",
      "Mean cross val score :: 0.8541\n",
      "Accuracy score :: 0.9198\n"
     ]
    },
    {
     "data": {
      "text/plain": [
       "KNeighborsClassifier(algorithm='auto', leaf_size=30, metric='minkowski',\n",
       "           metric_params=None, n_jobs=None, n_neighbors=18, p=2,\n",
       "           weights='uniform')"
      ]
     },
     "execution_count": 50,
     "metadata": {},
     "output_type": "execute_result"
    },
    {
     "name": "stdout",
     "output_type": "stream",
     "text": [
      "cross val score :: [0.81818182 0.9047619  0.9047619  0.83333333 0.83333333]\n",
      "Mean cross val score :: 0.8589\n",
      "Accuracy score :: 0.9104\n"
     ]
    },
    {
     "data": {
      "text/plain": [
       "KNeighborsClassifier(algorithm='auto', leaf_size=30, metric='minkowski',\n",
       "           metric_params=None, n_jobs=None, n_neighbors=19, p=2,\n",
       "           weights='uniform')"
      ]
     },
     "execution_count": 50,
     "metadata": {},
     "output_type": "execute_result"
    },
    {
     "name": "stdout",
     "output_type": "stream",
     "text": [
      "cross val score :: [0.79545455 0.9047619  0.92857143 0.83333333 0.83333333]\n",
      "Mean cross val score :: 0.8591\n",
      "Accuracy score :: 0.9198\n"
     ]
    }
   ],
   "source": [
    "from sklearn.neighbors import KNeighborsClassifier\n",
    "from sklearn.model_selection import cross_val_score\n",
    "\n",
    "mean_score=[]\n",
    "acc_score = []\n",
    "for Knn_index in range(1,20):\n",
    "    KNN = KNeighborsClassifier(n_neighbors=Knn_index)\n",
    "    KNN.fit(x_train, y_train)\n",
    "    pred_y = KNN.predict(x_test)\n",
    "    score_knn = cross_val_score(KNN, x_test, y_test, cv=5)\n",
    "    print(\"cross val score :: \" + str(score_knn))\n",
    "    print(\"Mean cross val score :: \" + str(round(score_knn.mean(), 4)))\n",
    "    print(\"Accuracy score :: \" + str(round(metrics.accuracy_score(y_test, pred_y), 4)))\n",
    "    mean_score.append(score_knn.mean())\n",
    "    acc_score.append(metrics.accuracy_score(y_test, pred_y))"
   ]
  },
  {
   "cell_type": "code",
   "execution_count": 51,
   "metadata": {},
   "outputs": [],
   "source": [
    "\n",
    "KNN = KNeighborsClassifier(n_neighbors=5)"
   ]
  },
  {
   "cell_type": "code",
   "execution_count": 52,
   "metadata": {},
   "outputs": [
    {
     "data": {
      "text/plain": [
       "KNeighborsClassifier(algorithm='auto', leaf_size=30, metric='minkowski',\n",
       "           metric_params=None, n_jobs=None, n_neighbors=5, p=2,\n",
       "           weights='uniform')"
      ]
     },
     "execution_count": 52,
     "metadata": {},
     "output_type": "execute_result"
    }
   ],
   "source": [
    "KNN.fit(x_train, y_train)"
   ]
  },
  {
   "cell_type": "code",
   "execution_count": 53,
   "metadata": {},
   "outputs": [],
   "source": [
    "pred_y = KNN.predict(x_test)"
   ]
  },
  {
   "cell_type": "code",
   "execution_count": 54,
   "metadata": {},
   "outputs": [
    {
     "name": "stdout",
     "output_type": "stream",
     "text": [
      "cross val score :: [0.86363636 0.88095238 0.97619048 0.92857143 0.85714286]\n",
      "Mean cross val score :: 0.9013\n"
     ]
    }
   ],
   "source": [
    "\n",
    "score_knn = cross_val_score(KNN, x_test, y_test, cv=5)\n",
    "print(\"cross val score :: \" + str(score_knn))\n",
    "print(\"Mean cross val score :: \" + str(round(score_knn.mean(), 4)))"
   ]
  },
  {
   "cell_type": "code",
   "execution_count": 55,
   "metadata": {},
   "outputs": [
    {
     "data": {
      "text/plain": [
       "0.9433962264150944"
      ]
     },
     "execution_count": 55,
     "metadata": {},
     "output_type": "execute_result"
    }
   ],
   "source": [
    "metrics.accuracy_score(y_test, pred_y)"
   ]
  },
  {
   "cell_type": "code",
   "execution_count": 56,
   "metadata": {},
   "outputs": [
    {
     "data": {
      "text/plain": [
       "<Figure size 720x720 with 0 Axes>"
      ]
     },
     "execution_count": 56,
     "metadata": {},
     "output_type": "execute_result"
    },
    {
     "data": {
      "text/plain": [
       "[<matplotlib.lines.Line2D at 0x26d57593dd8>]"
      ]
     },
     "execution_count": 56,
     "metadata": {},
     "output_type": "execute_result"
    },
    {
     "data": {
      "image/png": "[encoded data removed]",
      "text/plain": [
       "<Figure size 720x720 with 1 Axes>"
      ]
     },
     "metadata": {
      "needs_background": "light"
     },
     "output_type": "display_data"
    }
   ],
   "source": [
    "plt.figure(figsize=(10,10))\n",
    "plt.plot(range(1,20), mean_score,color='blue', linestyle='dashed', marker='o', markerfacecolor='red')"
   ]
  },
  {
   "cell_type": "code",
   "execution_count": 57,
   "metadata": {},
   "outputs": [
    {
     "data": {
      "text/plain": [
       "<Figure size 720x720 with 0 Axes>"
      ]
     },
     "execution_count": 57,
     "metadata": {},
     "output_type": "execute_result"
    },
    {
     "data": {
      "text/plain": [
       "[<matplotlib.lines.Line2D at 0x26d56c975f8>]"
      ]
     },
     "execution_count": 57,
     "metadata": {},
     "output_type": "execute_result"
    },
    {
     "data": {
      "image/png": "[encoded data removed]",
      "text/plain": [
       "<Figure size 720x720 with 1 Axes>"
      ]
     },
     "metadata": {
      "needs_background": "light"
     },
     "output_type": "display_data"
    }
   ],
   "source": [
    "plt.figure(figsize=(10,10))\n",
    "plt.plot(range(1,20), acc_score, color='green', linestyle='dashed', marker='o', markerfacecolor='red')"
   ]
  },
  {
   "cell_type": "code",
   "execution_count": 58,
   "metadata": {},
   "outputs": [
    {
     "name": "stdout",
     "output_type": "stream",
     "text": [
      "Confusion Matrix :  \n",
      "\n",
      "[[144   7]\n",
      " [  5  56]]\n"
     ]
    }
   ],
   "source": [
    "from sklearn.metrics import confusion_matrix, classification_report, accuracy_score\n",
    "print(\"Confusion Matrix : \",\"\\n\")\n",
    "print(confusion_matrix(y_test, pred_y))"
   ]
  },
  {
   "cell_type": "code",
   "execution_count": 59,
   "metadata": {},
   "outputs": [
    {
     "name": "stdout",
     "output_type": "stream",
     "text": [
      "Classification Report :  \n",
      "\n",
      "              precision    recall  f1-score   support\n",
      "\n",
      "           0       0.97      0.95      0.96       151\n",
      "           1       0.89      0.92      0.90        61\n",
      "\n",
      "   micro avg       0.94      0.94      0.94       212\n",
      "   macro avg       0.93      0.94      0.93       212\n",
      "weighted avg       0.94      0.94      0.94       212\n",
      "\n"
     ]
    }
   ],
   "source": [
    "print(\"Classification Report : \",\"\\n\")\n",
    "print(classification_report(y_test, pred_y))"
   ]
  }
 ],
 "metadata": {
  "kernelspec": {
   "display_name": "Python 3 (ipykernel)",
   "language": "python",
   "name": "python3"
  },
  "language_info": {
   "codemirror_mode": {
    "name": "ipython",
    "version": 3
   },
   "file_extension": ".py",
   "mimetype": "text/x-python",
   "name": "python",
   "nbconvert_exporter": "python",
   "pygments_lexer": "ipython3",
   "version": "3.8.8"
  }
 },
 "nbformat": 4,
 "nbformat_minor": 2
}
