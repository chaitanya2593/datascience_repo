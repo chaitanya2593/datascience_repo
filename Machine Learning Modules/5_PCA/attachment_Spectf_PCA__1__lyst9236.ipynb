{
 "cells": [
  {
   "cell_type": "markdown",
   "metadata": {
    "colab_type": "text",
    "id": "zkOonMrc2JeH"
   },
   "source": [
    "<h1> PCA </h1>"
   ]
  },
  {
   "cell_type": "markdown",
   "metadata": {
    "colab_type": "text",
    "id": "WqvGCpYD2JeK"
   },
   "source": [
    "## Table of Contents\n",
    "\n",
    "1. [Data Description](#dd)\n",
    "2. [Importing the packages and dataset](#import) \n",
    "3. [Exploratory Data Analysis](#eda)\n",
    "4. [Splitting labels and features](#split)\n",
    "5. [Normalizing the input columns](#normalize)\n",
    "6. [Logistic Regression](#lr)\n",
    "7. [Applying PCA to Logistic Regression model](#pcalr)\n",
    "8. [Random Forest](#rf)\n",
    "9. [Applying PCA to Random Forest model](#pcarf)"
   ]
  },
  {
   "cell_type": "markdown",
   "metadata": {
    "colab_type": "text",
    "id": "bso-oJCh2JeM"
   },
   "source": [
    "### 1. Data Description  <a id='dd'>\n",
    "\n",
    "The dataset describes diagnosing of cardiac Single Proton Emission Computed Tomography (SPECT) images.\n",
    "   Each of the patients is classified into two categories: normal and abnormal.\n",
    "   The database of 267 SPECT image sets (patients) was processed to extract features that summarize the original SPECT images.\n",
    "   As a result, 44 continuous feature pattern was created for each patient.\n",
    "   \n",
    "   1.   OVERALL_DIAGNOSIS: 0,1 (class attribute, binary)\n",
    "   2.   F1R:   continuous (count in ROI (region of interest) 1 in rest)\n",
    "   3.   F1S:   continuous (count in ROI 1 in stress)\n",
    "   4.   F2R:   continuous (count in ROI 2 in rest)\n",
    "   5.   F2S:   continuous (count in ROI 2 in stress)\n",
    "   6.   F3R:   continuous (count in ROI 3 in rest)\n",
    "   7.   F3S:   continuous (count in ROI 3 in stress)\n",
    "   8.   F4R:   continuous (count in ROI 4 in rest)\n",
    "   9.   F4S:   continuous (count in ROI 4 in stress)\n",
    "   10.  F5R:   continuous (count in ROI 5 in rest)\n",
    "   11.  F5S:   continuous (count in ROI 5 in stress)\n",
    "   12.  F6R:   continuous (count in ROI 6 in rest)\n",
    "   13.  F6S:   continuous (count in ROI 6 in stress)\n",
    "   14.  F7R:   continuous (count in ROI 7 in rest)\n",
    "   15.  F7S:   continuous (count in ROI 7 in stress)\n",
    "   16.  F8R:   continuous (count in ROI 8 in rest)\n",
    "   17.  F8S:   continuous (count in ROI 8 in stress)\n",
    "   18.  F9R:   continuous (count in ROI 9 in rest)\n",
    "   19.  F9S:   continuous (count in ROI 9 in stress)\n",
    "   20.  F10R:  continuous (count in ROI 10 in rest)\n",
    "   21.  F10S:  continuous (count in ROI 10 in stress)\n",
    "   22.  F11R:  continuous (count in ROI 11 in rest)\n",
    "   23.  F11S:  continuous (count in ROI 11 in stress)\n",
    "   24.  F12R:  continuous (count in ROI 12 in rest)\n",
    "   25.  F12S:  continuous (count in ROI 12 in stress)\n",
    "   26.  F13R:  continuous (count in ROI 13 in rest)\n",
    "   27.  F13S:  continuous (count in ROI 13 in stress)\n",
    "   28.  F14R:  continuous (count in ROI 14 in rest)\n",
    "   29.  F14S:  continuous (count in ROI 14 in stress)\n",
    "   30.  F15R:  continuous (count in ROI 15 in rest)\n",
    "   31.  F15S:  continuous (count in ROI 15 in stress)\n",
    "   32.  F16R:  continuous (count in ROI 16 in rest)\n",
    "   33.  F16S:  continuous (count in ROI 16 in stress)\n",
    "   34.  F17R:  continuous (count in ROI 17 in rest)\n",
    "   35.  F17S:  continuous (count in ROI 17 in stress)\n",
    "   36.  F18R:  continuous (count in ROI 18 in rest)\n",
    "   37.  F18S:  continuous (count in ROI 18 in stress)\n",
    "   38.  F19R:  continuous (count in ROI 19 in rest)\n",
    "   39.  F19S:  continuous (count in ROI 19 in stress)\n",
    "   40.  F20R:  continuous (count in ROI 20 in rest)\n",
    "   41.  F20S:  continuous (count in ROI 20 in stress)\n",
    "   42.  F21R:  continuous (count in ROI 21 in rest)\n",
    "   43.  F21S:  continuous (count in ROI 21 in stress)\n",
    "   44.  F22R:  continuous (count in ROI 22 in rest)\n",
    "   45.  F22S:  continuous (count in ROI 22 in stress)\n",
    "   \n",
    "   ** Objective **\n",
    "   \n",
    "   Our goal is to predict whether the SPECT images are normal or not."
   ]
  },
  {
   "cell_type": "markdown",
   "metadata": {
    "colab_type": "text",
    "id": "C7MpR-q62JeO"
   },
   "source": [
    "### 2. Importing the packages and dataset  <a id='import'>"
   ]
  },
  {
   "cell_type": "code",
   "execution_count": 6,
   "metadata": {
    "colab": {},
    "colab_type": "code",
    "id": "_Ee0GrQR2JeP"
   },
   "outputs": [],
   "source": [
    "# Importing the packages\n",
    "\n",
    "import numpy as np \n",
    "import pandas as pd\n",
    "import matplotlib.pyplot as plt\n",
    "import seaborn as sns\n",
    "import time\n",
    "import sys\n",
    "import random\n",
    "\n",
    "%matplotlib inline\n",
    "plt.style.use('fivethirtyeight')"
   ]
  },
  {
   "cell_type": "code",
   "execution_count": 2,
   "metadata": {
    "colab": {},
    "colab_type": "code",
    "id": "uT5WN4Cx2JeW"
   },
   "outputs": [
    {
     "name": "stderr",
     "output_type": "stream",
     "text": [
      "C:\\ProgramData\\Anaconda3\\lib\\site-packages\\ipykernel_launcher.py:7: FutureWarning: read_table is deprecated, use read_csv instead.\n",
      "  import sys\n"
     ]
    }
   ],
   "source": [
    "# Loading the train data\n",
    "\n",
    "url = 'https://query.data.world/s/ksxft7lhmbxpihskwsngwhpuul6lye'\n",
    "col_names = ['target','F1R', 'F1S', 'F2R', 'F2S', 'F3R', 'F3S', 'F4R', 'F4S', 'F5R','F5S','F6R','F6S','F7R','F7S','F8R','F8S','F9R','F9S','F10R',\n",
    "    'F10S',  'F11R','F11S','F12R','F12S','F13R','F13S','F14R','F14S','F15R','F15S','F16R','F16S','F17R','F17S','F18R','F18S','F19R','F19S',   'F20R',\n",
    "    'F20S','F21R','F21S','F22R','F22S']\n",
    "spectf_df= pd.read_table(url,sep=',',names=col_names)"
   ]
  },
  {
   "cell_type": "code",
   "execution_count": 3,
   "metadata": {
    "colab": {},
    "colab_type": "code",
    "id": "Fay-cxaW2Jeb",
    "outputId": "3d69b423-1468-49ef-bb8b-ffc85b690ac5"
   },
   "outputs": [
    {
     "data": {
      "text/plain": [
       "(80, 45)"
      ]
     },
     "execution_count": 3,
     "metadata": {},
     "output_type": "execute_result"
    }
   ],
   "source": [
    "spectf_df.shape"
   ]
  },
  {
   "cell_type": "code",
   "execution_count": 4,
   "metadata": {
    "colab": {},
    "colab_type": "code",
    "id": "AFYXIAjz2Jef"
   },
   "outputs": [
    {
     "name": "stderr",
     "output_type": "stream",
     "text": [
      "C:\\ProgramData\\Anaconda3\\lib\\site-packages\\ipykernel_launcher.py:7: FutureWarning: read_table is deprecated, use read_csv instead.\n",
      "  import sys\n"
     ]
    }
   ],
   "source": [
    "# Loading the Train data\n",
    "\n",
    "url = 'https://query.data.world/s/cuqtpuoewpxysusrt5z4igihjah4xo'\n",
    "col_names = ['target','F1R', 'F1S', 'F2R', 'F2S', 'F3R', 'F3S', 'F4R', 'F4S', 'F5R','F5S','F6R','F6S','F7R','F7S','F8R','F8S','F9R','F9S','F10R',\n",
    "    'F10S',  'F11R','F11S','F12R','F12S','F13R','F13S','F14R','F14S','F15R','F15S','F16R','F16S','F17R','F17S','F18R','F18S','F19R','F19S',   'F20R',\n",
    "    'F20S','F21R','F21S','F22R','F22S']\n",
    "spectf_test= pd.read_table(url,sep=',',names=col_names)"
   ]
  },
  {
   "cell_type": "code",
   "execution_count": 5,
   "metadata": {
    "colab": {},
    "colab_type": "code",
    "id": "uT8QedRA2Jeh",
    "outputId": "6230ee52-6708-4eee-a945-ed55e74c4166"
   },
   "outputs": [
    {
     "data": {
      "text/plain": [
       "(187, 45)"
      ]
     },
     "execution_count": 5,
     "metadata": {},
     "output_type": "execute_result"
    }
   ],
   "source": [
    "spectf_test.shape"
   ]
  },
  {
   "cell_type": "markdown",
   "metadata": {
    "colab_type": "text",
    "id": "xYFL_Fc72Jel"
   },
   "source": [
    "So the training data has 187 records and the test data has 80 records."
   ]
  },
  {
   "cell_type": "code",
   "execution_count": 7,
   "metadata": {
    "colab": {},
    "colab_type": "code",
    "id": "bxAvqvJN2Jel",
    "outputId": "3436a590-d570-4012-b123-eafce7d647af"
   },
   "outputs": [
    {
     "data": {
      "text/html": [
       "<div>\n",
       "<style scoped>\n",
       "    .dataframe tbody tr th:only-of-type {\n",
       "        vertical-align: middle;\n",
       "    }\n",
       "\n",
       "    .dataframe tbody tr th {\n",
       "        vertical-align: top;\n",
       "    }\n",
       "\n",
       "    .dataframe thead th {\n",
       "        text-align: right;\n",
       "    }\n",
       "</style>\n",
       "<table border=\"1\" class=\"dataframe\">\n",
       "  <thead>\n",
       "    <tr style=\"text-align: right;\">\n",
       "      <th></th>\n",
       "      <th>target</th>\n",
       "      <th>F1R</th>\n",
       "      <th>F1S</th>\n",
       "      <th>F2R</th>\n",
       "      <th>F2S</th>\n",
       "      <th>F3R</th>\n",
       "      <th>F3S</th>\n",
       "      <th>F4R</th>\n",
       "      <th>F4S</th>\n",
       "      <th>F5R</th>\n",
       "      <th>...</th>\n",
       "      <th>F18R</th>\n",
       "      <th>F18S</th>\n",
       "      <th>F19R</th>\n",
       "      <th>F19S</th>\n",
       "      <th>F20R</th>\n",
       "      <th>F20S</th>\n",
       "      <th>F21R</th>\n",
       "      <th>F21S</th>\n",
       "      <th>F22R</th>\n",
       "      <th>F22S</th>\n",
       "    </tr>\n",
       "  </thead>\n",
       "  <tbody>\n",
       "    <tr>\n",
       "      <th>0</th>\n",
       "      <td>1</td>\n",
       "      <td>59</td>\n",
       "      <td>52</td>\n",
       "      <td>70</td>\n",
       "      <td>67</td>\n",
       "      <td>73</td>\n",
       "      <td>66</td>\n",
       "      <td>72</td>\n",
       "      <td>61</td>\n",
       "      <td>58</td>\n",
       "      <td>...</td>\n",
       "      <td>66</td>\n",
       "      <td>56</td>\n",
       "      <td>62</td>\n",
       "      <td>56</td>\n",
       "      <td>72</td>\n",
       "      <td>62</td>\n",
       "      <td>74</td>\n",
       "      <td>74</td>\n",
       "      <td>64</td>\n",
       "      <td>67</td>\n",
       "    </tr>\n",
       "    <tr>\n",
       "      <th>1</th>\n",
       "      <td>1</td>\n",
       "      <td>72</td>\n",
       "      <td>62</td>\n",
       "      <td>69</td>\n",
       "      <td>67</td>\n",
       "      <td>78</td>\n",
       "      <td>82</td>\n",
       "      <td>74</td>\n",
       "      <td>65</td>\n",
       "      <td>69</td>\n",
       "      <td>...</td>\n",
       "      <td>65</td>\n",
       "      <td>71</td>\n",
       "      <td>63</td>\n",
       "      <td>60</td>\n",
       "      <td>69</td>\n",
       "      <td>73</td>\n",
       "      <td>67</td>\n",
       "      <td>71</td>\n",
       "      <td>56</td>\n",
       "      <td>58</td>\n",
       "    </tr>\n",
       "    <tr>\n",
       "      <th>2</th>\n",
       "      <td>1</td>\n",
       "      <td>71</td>\n",
       "      <td>62</td>\n",
       "      <td>70</td>\n",
       "      <td>64</td>\n",
       "      <td>67</td>\n",
       "      <td>64</td>\n",
       "      <td>79</td>\n",
       "      <td>65</td>\n",
       "      <td>70</td>\n",
       "      <td>...</td>\n",
       "      <td>73</td>\n",
       "      <td>70</td>\n",
       "      <td>66</td>\n",
       "      <td>65</td>\n",
       "      <td>64</td>\n",
       "      <td>55</td>\n",
       "      <td>61</td>\n",
       "      <td>41</td>\n",
       "      <td>51</td>\n",
       "      <td>46</td>\n",
       "    </tr>\n",
       "    <tr>\n",
       "      <th>3</th>\n",
       "      <td>1</td>\n",
       "      <td>69</td>\n",
       "      <td>71</td>\n",
       "      <td>70</td>\n",
       "      <td>78</td>\n",
       "      <td>61</td>\n",
       "      <td>63</td>\n",
       "      <td>67</td>\n",
       "      <td>65</td>\n",
       "      <td>59</td>\n",
       "      <td>...</td>\n",
       "      <td>61</td>\n",
       "      <td>61</td>\n",
       "      <td>66</td>\n",
       "      <td>65</td>\n",
       "      <td>72</td>\n",
       "      <td>73</td>\n",
       "      <td>68</td>\n",
       "      <td>68</td>\n",
       "      <td>59</td>\n",
       "      <td>63</td>\n",
       "    </tr>\n",
       "    <tr>\n",
       "      <th>4</th>\n",
       "      <td>1</td>\n",
       "      <td>70</td>\n",
       "      <td>66</td>\n",
       "      <td>61</td>\n",
       "      <td>66</td>\n",
       "      <td>61</td>\n",
       "      <td>58</td>\n",
       "      <td>69</td>\n",
       "      <td>69</td>\n",
       "      <td>72</td>\n",
       "      <td>...</td>\n",
       "      <td>67</td>\n",
       "      <td>69</td>\n",
       "      <td>70</td>\n",
       "      <td>66</td>\n",
       "      <td>70</td>\n",
       "      <td>64</td>\n",
       "      <td>60</td>\n",
       "      <td>55</td>\n",
       "      <td>49</td>\n",
       "      <td>41</td>\n",
       "    </tr>\n",
       "  </tbody>\n",
       "</table>\n",
       "<p>5 rows × 45 columns</p>\n",
       "</div>"
      ],
      "text/plain": [
       "   target  F1R  F1S  F2R  F2S  F3R  F3S  F4R  F4S  F5R  ...  F18R  F18S  F19R  \\\n",
       "0       1   59   52   70   67   73   66   72   61   58  ...    66    56    62   \n",
       "1       1   72   62   69   67   78   82   74   65   69  ...    65    71    63   \n",
       "2       1   71   62   70   64   67   64   79   65   70  ...    73    70    66   \n",
       "3       1   69   71   70   78   61   63   67   65   59  ...    61    61    66   \n",
       "4       1   70   66   61   66   61   58   69   69   72  ...    67    69    70   \n",
       "\n",
       "   F19S  F20R  F20S  F21R  F21S  F22R  F22S  \n",
       "0    56    72    62    74    74    64    67  \n",
       "1    60    69    73    67    71    56    58  \n",
       "2    65    64    55    61    41    51    46  \n",
       "3    65    72    73    68    68    59    63  \n",
       "4    66    70    64    60    55    49    41  \n",
       "\n",
       "[5 rows x 45 columns]"
      ]
     },
     "execution_count": 7,
     "metadata": {},
     "output_type": "execute_result"
    }
   ],
   "source": [
    "spectf_df.head()"
   ]
  },
  {
   "cell_type": "code",
   "execution_count": 8,
   "metadata": {
    "colab": {},
    "colab_type": "code",
    "id": "sCP_3vbi2Jeq",
    "outputId": "fff3e27b-b330-436b-a274-4524aeb6b58f"
   },
   "outputs": [
    {
     "name": "stdout",
     "output_type": "stream",
     "text": [
      "<class 'pandas.core.frame.DataFrame'>\n",
      "RangeIndex: 80 entries, 0 to 79\n",
      "Data columns (total 45 columns):\n",
      "target    80 non-null int64\n",
      "F1R       80 non-null int64\n",
      "F1S       80 non-null int64\n",
      "F2R       80 non-null int64\n",
      "F2S       80 non-null int64\n",
      "F3R       80 non-null int64\n",
      "F3S       80 non-null int64\n",
      "F4R       80 non-null int64\n",
      "F4S       80 non-null int64\n",
      "F5R       80 non-null int64\n",
      "F5S       80 non-null int64\n",
      "F6R       80 non-null int64\n",
      "F6S       80 non-null int64\n",
      "F7R       80 non-null int64\n",
      "F7S       80 non-null int64\n",
      "F8R       80 non-null int64\n",
      "F8S       80 non-null int64\n",
      "F9R       80 non-null int64\n",
      "F9S       80 non-null int64\n",
      "F10R      80 non-null int64\n",
      "F10S      80 non-null int64\n",
      "F11R      80 non-null int64\n",
      "F11S      80 non-null int64\n",
      "F12R      80 non-null int64\n",
      "F12S      80 non-null int64\n",
      "F13R      80 non-null int64\n",
      "F13S      80 non-null int64\n",
      "F14R      80 non-null int64\n",
      "F14S      80 non-null int64\n",
      "F15R      80 non-null int64\n",
      "F15S      80 non-null int64\n",
      "F16R      80 non-null int64\n",
      "F16S      80 non-null int64\n",
      "F17R      80 non-null int64\n",
      "F17S      80 non-null int64\n",
      "F18R      80 non-null int64\n",
      "F18S      80 non-null int64\n",
      "F19R      80 non-null int64\n",
      "F19S      80 non-null int64\n",
      "F20R      80 non-null int64\n",
      "F20S      80 non-null int64\n",
      "F21R      80 non-null int64\n",
      "F21S      80 non-null int64\n",
      "F22R      80 non-null int64\n",
      "F22S      80 non-null int64\n",
      "dtypes: int64(45)\n",
      "memory usage: 28.2 KB\n"
     ]
    }
   ],
   "source": [
    "spectf_df.info()"
   ]
  },
  {
   "cell_type": "code",
   "execution_count": 9,
   "metadata": {
    "colab": {},
    "colab_type": "code",
    "id": "zbVz9LZ92Jew",
    "outputId": "2c7bb29f-58da-48c1-9a7a-6b46216fdd34"
   },
   "outputs": [
    {
     "name": "stdout",
     "output_type": "stream",
     "text": [
      "<class 'pandas.core.frame.DataFrame'>\n",
      "RangeIndex: 187 entries, 0 to 186\n",
      "Data columns (total 45 columns):\n",
      "target    187 non-null int64\n",
      "F1R       187 non-null int64\n",
      "F1S       187 non-null int64\n",
      "F2R       187 non-null int64\n",
      "F2S       187 non-null int64\n",
      "F3R       187 non-null int64\n",
      "F3S       187 non-null int64\n",
      "F4R       187 non-null int64\n",
      "F4S       187 non-null int64\n",
      "F5R       187 non-null int64\n",
      "F5S       187 non-null int64\n",
      "F6R       187 non-null int64\n",
      "F6S       187 non-null int64\n",
      "F7R       187 non-null int64\n",
      "F7S       187 non-null int64\n",
      "F8R       187 non-null int64\n",
      "F8S       187 non-null int64\n",
      "F9R       187 non-null int64\n",
      "F9S       187 non-null int64\n",
      "F10R      187 non-null int64\n",
      "F10S      187 non-null int64\n",
      "F11R      187 non-null int64\n",
      "F11S      187 non-null int64\n",
      "F12R      187 non-null int64\n",
      "F12S      187 non-null int64\n",
      "F13R      187 non-null int64\n",
      "F13S      187 non-null int64\n",
      "F14R      187 non-null int64\n",
      "F14S      187 non-null int64\n",
      "F15R      187 non-null int64\n",
      "F15S      187 non-null int64\n",
      "F16R      187 non-null int64\n",
      "F16S      187 non-null int64\n",
      "F17R      187 non-null int64\n",
      "F17S      187 non-null int64\n",
      "F18R      187 non-null int64\n",
      "F18S      187 non-null int64\n",
      "F19R      187 non-null int64\n",
      "F19S      187 non-null int64\n",
      "F20R      187 non-null int64\n",
      "F20S      187 non-null int64\n",
      "F21R      187 non-null int64\n",
      "F21S      187 non-null int64\n",
      "F22R      187 non-null int64\n",
      "F22S      187 non-null int64\n",
      "dtypes: int64(45)\n",
      "memory usage: 65.8 KB\n"
     ]
    }
   ],
   "source": [
    "spectf_test.info()"
   ]
  },
  {
   "cell_type": "code",
   "execution_count": 10,
   "metadata": {
    "colab": {},
    "colab_type": "code",
    "id": "Nbds4YUx2Jez",
    "outputId": "16d85978-f52a-4879-d225-a5d63a3ba528"
   },
   "outputs": [
    {
     "data": {
      "text/html": [
       "<div>\n",
       "<style scoped>\n",
       "    .dataframe tbody tr th:only-of-type {\n",
       "        vertical-align: middle;\n",
       "    }\n",
       "\n",
       "    .dataframe tbody tr th {\n",
       "        vertical-align: top;\n",
       "    }\n",
       "\n",
       "    .dataframe thead th {\n",
       "        text-align: right;\n",
       "    }\n",
       "</style>\n",
       "<table border=\"1\" class=\"dataframe\">\n",
       "  <thead>\n",
       "    <tr style=\"text-align: right;\">\n",
       "      <th></th>\n",
       "      <th>target</th>\n",
       "      <th>F1R</th>\n",
       "      <th>F1S</th>\n",
       "      <th>F2R</th>\n",
       "      <th>F2S</th>\n",
       "      <th>F3R</th>\n",
       "      <th>F3S</th>\n",
       "      <th>F4R</th>\n",
       "      <th>F4S</th>\n",
       "      <th>F5R</th>\n",
       "      <th>...</th>\n",
       "      <th>F18R</th>\n",
       "      <th>F18S</th>\n",
       "      <th>F19R</th>\n",
       "      <th>F19S</th>\n",
       "      <th>F20R</th>\n",
       "      <th>F20S</th>\n",
       "      <th>F21R</th>\n",
       "      <th>F21S</th>\n",
       "      <th>F22R</th>\n",
       "      <th>F22S</th>\n",
       "    </tr>\n",
       "  </thead>\n",
       "  <tbody>\n",
       "    <tr>\n",
       "      <th>count</th>\n",
       "      <td>80.000000</td>\n",
       "      <td>80.000000</td>\n",
       "      <td>80.00000</td>\n",
       "      <td>80.000000</td>\n",
       "      <td>80.000000</td>\n",
       "      <td>80.000000</td>\n",
       "      <td>80.000000</td>\n",
       "      <td>80.000000</td>\n",
       "      <td>80.000000</td>\n",
       "      <td>80.000000</td>\n",
       "      <td>...</td>\n",
       "      <td>80.00000</td>\n",
       "      <td>80.000000</td>\n",
       "      <td>80.000000</td>\n",
       "      <td>80.00000</td>\n",
       "      <td>80.000000</td>\n",
       "      <td>80.000000</td>\n",
       "      <td>80.00000</td>\n",
       "      <td>80.000000</td>\n",
       "      <td>80.000000</td>\n",
       "      <td>80.000000</td>\n",
       "    </tr>\n",
       "    <tr>\n",
       "      <th>mean</th>\n",
       "      <td>0.500000</td>\n",
       "      <td>68.650000</td>\n",
       "      <td>67.55000</td>\n",
       "      <td>69.550000</td>\n",
       "      <td>70.850000</td>\n",
       "      <td>67.100000</td>\n",
       "      <td>67.687500</td>\n",
       "      <td>72.075000</td>\n",
       "      <td>71.387500</td>\n",
       "      <td>64.362500</td>\n",
       "      <td>...</td>\n",
       "      <td>65.18750</td>\n",
       "      <td>64.662500</td>\n",
       "      <td>65.612500</td>\n",
       "      <td>65.01250</td>\n",
       "      <td>69.437500</td>\n",
       "      <td>68.412500</td>\n",
       "      <td>66.33750</td>\n",
       "      <td>65.100000</td>\n",
       "      <td>55.975000</td>\n",
       "      <td>55.075000</td>\n",
       "    </tr>\n",
       "    <tr>\n",
       "      <th>std</th>\n",
       "      <td>0.503155</td>\n",
       "      <td>5.594075</td>\n",
       "      <td>6.88403</td>\n",
       "      <td>5.901941</td>\n",
       "      <td>6.326757</td>\n",
       "      <td>6.251278</td>\n",
       "      <td>6.622925</td>\n",
       "      <td>4.090047</td>\n",
       "      <td>5.715831</td>\n",
       "      <td>7.425996</td>\n",
       "      <td>...</td>\n",
       "      <td>5.71273</td>\n",
       "      <td>7.538834</td>\n",
       "      <td>7.694308</td>\n",
       "      <td>9.44336</td>\n",
       "      <td>7.809186</td>\n",
       "      <td>8.582723</td>\n",
       "      <td>10.62591</td>\n",
       "      <td>11.345662</td>\n",
       "      <td>10.779698</td>\n",
       "      <td>12.119422</td>\n",
       "    </tr>\n",
       "    <tr>\n",
       "      <th>min</th>\n",
       "      <td>0.000000</td>\n",
       "      <td>57.000000</td>\n",
       "      <td>51.00000</td>\n",
       "      <td>52.000000</td>\n",
       "      <td>51.000000</td>\n",
       "      <td>47.000000</td>\n",
       "      <td>46.000000</td>\n",
       "      <td>63.000000</td>\n",
       "      <td>56.000000</td>\n",
       "      <td>26.000000</td>\n",
       "      <td>...</td>\n",
       "      <td>31.00000</td>\n",
       "      <td>13.000000</td>\n",
       "      <td>33.000000</td>\n",
       "      <td>23.00000</td>\n",
       "      <td>31.000000</td>\n",
       "      <td>30.000000</td>\n",
       "      <td>31.00000</td>\n",
       "      <td>30.000000</td>\n",
       "      <td>11.000000</td>\n",
       "      <td>11.000000</td>\n",
       "    </tr>\n",
       "    <tr>\n",
       "      <th>25%</th>\n",
       "      <td>0.000000</td>\n",
       "      <td>64.750000</td>\n",
       "      <td>64.00000</td>\n",
       "      <td>66.000000</td>\n",
       "      <td>67.000000</td>\n",
       "      <td>63.750000</td>\n",
       "      <td>63.750000</td>\n",
       "      <td>68.750000</td>\n",
       "      <td>69.000000</td>\n",
       "      <td>61.000000</td>\n",
       "      <td>...</td>\n",
       "      <td>63.00000</td>\n",
       "      <td>63.000000</td>\n",
       "      <td>62.750000</td>\n",
       "      <td>62.00000</td>\n",
       "      <td>65.000000</td>\n",
       "      <td>65.000000</td>\n",
       "      <td>64.00000</td>\n",
       "      <td>63.000000</td>\n",
       "      <td>53.000000</td>\n",
       "      <td>52.750000</td>\n",
       "    </tr>\n",
       "    <tr>\n",
       "      <th>50%</th>\n",
       "      <td>0.500000</td>\n",
       "      <td>69.000000</td>\n",
       "      <td>67.00000</td>\n",
       "      <td>70.000000</td>\n",
       "      <td>72.000000</td>\n",
       "      <td>68.000000</td>\n",
       "      <td>68.500000</td>\n",
       "      <td>72.500000</td>\n",
       "      <td>72.000000</td>\n",
       "      <td>65.000000</td>\n",
       "      <td>...</td>\n",
       "      <td>66.00000</td>\n",
       "      <td>65.500000</td>\n",
       "      <td>66.000000</td>\n",
       "      <td>66.50000</td>\n",
       "      <td>70.500000</td>\n",
       "      <td>71.000000</td>\n",
       "      <td>69.00000</td>\n",
       "      <td>68.000000</td>\n",
       "      <td>59.000000</td>\n",
       "      <td>58.000000</td>\n",
       "    </tr>\n",
       "    <tr>\n",
       "      <th>75%</th>\n",
       "      <td>1.000000</td>\n",
       "      <td>72.000000</td>\n",
       "      <td>73.00000</td>\n",
       "      <td>74.000000</td>\n",
       "      <td>75.250000</td>\n",
       "      <td>71.000000</td>\n",
       "      <td>71.250000</td>\n",
       "      <td>75.000000</td>\n",
       "      <td>75.000000</td>\n",
       "      <td>68.250000</td>\n",
       "      <td>...</td>\n",
       "      <td>68.00000</td>\n",
       "      <td>69.000000</td>\n",
       "      <td>71.000000</td>\n",
       "      <td>71.00000</td>\n",
       "      <td>74.000000</td>\n",
       "      <td>74.000000</td>\n",
       "      <td>73.25000</td>\n",
       "      <td>71.000000</td>\n",
       "      <td>63.000000</td>\n",
       "      <td>63.000000</td>\n",
       "    </tr>\n",
       "    <tr>\n",
       "      <th>max</th>\n",
       "      <td>1.000000</td>\n",
       "      <td>80.000000</td>\n",
       "      <td>81.00000</td>\n",
       "      <td>82.000000</td>\n",
       "      <td>84.000000</td>\n",
       "      <td>78.000000</td>\n",
       "      <td>89.000000</td>\n",
       "      <td>79.000000</td>\n",
       "      <td>83.000000</td>\n",
       "      <td>77.000000</td>\n",
       "      <td>...</td>\n",
       "      <td>73.00000</td>\n",
       "      <td>73.000000</td>\n",
       "      <td>77.000000</td>\n",
       "      <td>77.00000</td>\n",
       "      <td>83.000000</td>\n",
       "      <td>80.000000</td>\n",
       "      <td>79.00000</td>\n",
       "      <td>83.000000</td>\n",
       "      <td>71.000000</td>\n",
       "      <td>73.000000</td>\n",
       "    </tr>\n",
       "  </tbody>\n",
       "</table>\n",
       "<p>8 rows × 45 columns</p>\n",
       "</div>"
      ],
      "text/plain": [
       "          target        F1R       F1S        F2R        F2S        F3R  \\\n",
       "count  80.000000  80.000000  80.00000  80.000000  80.000000  80.000000   \n",
       "mean    0.500000  68.650000  67.55000  69.550000  70.850000  67.100000   \n",
       "std     0.503155   5.594075   6.88403   5.901941   6.326757   6.251278   \n",
       "min     0.000000  57.000000  51.00000  52.000000  51.000000  47.000000   \n",
       "25%     0.000000  64.750000  64.00000  66.000000  67.000000  63.750000   \n",
       "50%     0.500000  69.000000  67.00000  70.000000  72.000000  68.000000   \n",
       "75%     1.000000  72.000000  73.00000  74.000000  75.250000  71.000000   \n",
       "max     1.000000  80.000000  81.00000  82.000000  84.000000  78.000000   \n",
       "\n",
       "             F3S        F4R        F4S        F5R  ...      F18R       F18S  \\\n",
       "count  80.000000  80.000000  80.000000  80.000000  ...  80.00000  80.000000   \n",
       "mean   67.687500  72.075000  71.387500  64.362500  ...  65.18750  64.662500   \n",
       "std     6.622925   4.090047   5.715831   7.425996  ...   5.71273   7.538834   \n",
       "min    46.000000  63.000000  56.000000  26.000000  ...  31.00000  13.000000   \n",
       "25%    63.750000  68.750000  69.000000  61.000000  ...  63.00000  63.000000   \n",
       "50%    68.500000  72.500000  72.000000  65.000000  ...  66.00000  65.500000   \n",
       "75%    71.250000  75.000000  75.000000  68.250000  ...  68.00000  69.000000   \n",
       "max    89.000000  79.000000  83.000000  77.000000  ...  73.00000  73.000000   \n",
       "\n",
       "            F19R      F19S       F20R       F20S      F21R       F21S  \\\n",
       "count  80.000000  80.00000  80.000000  80.000000  80.00000  80.000000   \n",
       "mean   65.612500  65.01250  69.437500  68.412500  66.33750  65.100000   \n",
       "std     7.694308   9.44336   7.809186   8.582723  10.62591  11.345662   \n",
       "min    33.000000  23.00000  31.000000  30.000000  31.00000  30.000000   \n",
       "25%    62.750000  62.00000  65.000000  65.000000  64.00000  63.000000   \n",
       "50%    66.000000  66.50000  70.500000  71.000000  69.00000  68.000000   \n",
       "75%    71.000000  71.00000  74.000000  74.000000  73.25000  71.000000   \n",
       "max    77.000000  77.00000  83.000000  80.000000  79.00000  83.000000   \n",
       "\n",
       "            F22R       F22S  \n",
       "count  80.000000  80.000000  \n",
       "mean   55.975000  55.075000  \n",
       "std    10.779698  12.119422  \n",
       "min    11.000000  11.000000  \n",
       "25%    53.000000  52.750000  \n",
       "50%    59.000000  58.000000  \n",
       "75%    63.000000  63.000000  \n",
       "max    71.000000  73.000000  \n",
       "\n",
       "[8 rows x 45 columns]"
      ]
     },
     "execution_count": 10,
     "metadata": {},
     "output_type": "execute_result"
    }
   ],
   "source": [
    "spectf_df.describe()"
   ]
  },
  {
   "cell_type": "markdown",
   "metadata": {
    "colab_type": "text",
    "id": "KMfRRwHI2Je3"
   },
   "source": [
    "### 3. Exploratory Data Analysis  <a id='eda'>"
   ]
  },
  {
   "cell_type": "code",
   "execution_count": 11,
   "metadata": {
    "colab": {},
    "colab_type": "code",
    "id": "hIIV723K2Je4",
    "outputId": "e43f2d36-b050-42a0-ad30-138d5e7c23b7"
   },
   "outputs": [
    {
     "data": {
      "text/plain": [
       "<matplotlib.axes._subplots.AxesSubplot at 0x28728e8dc18>"
      ]
     },
     "execution_count": 11,
     "metadata": {},
     "output_type": "execute_result"
    },
    {
     "data": {
      "image/png": "[encoded data removed]",
      "text/plain": [
       "<Figure size 432x288 with 1 Axes>"
      ]
     },
     "metadata": {},
     "output_type": "display_data"
    }
   ],
   "source": [
    "sns.countplot(x='target', data = spectf_df)"
   ]
  },
  {
   "cell_type": "markdown",
   "metadata": {
    "colab_type": "text",
    "id": "Q2gpLOdp2Je7"
   },
   "source": [
    "The training data is balanced."
   ]
  },
  {
   "cell_type": "code",
   "execution_count": 12,
   "metadata": {
    "colab": {},
    "colab_type": "code",
    "id": "sxc_nLkB2Je8",
    "outputId": "da4b7635-f14e-44e4-f802-a017449c4412"
   },
   "outputs": [
    {
     "data": {
      "text/plain": [
       "<matplotlib.axes._subplots.AxesSubplot at 0x28728d63128>"
      ]
     },
     "execution_count": 12,
     "metadata": {},
     "output_type": "execute_result"
    },
    {
     "data": {
      "image/png": "[encoded data removed]",
      "text/plain": [
       "<Figure size 432x288 with 1 Axes>"
      ]
     },
     "metadata": {},
     "output_type": "display_data"
    }
   ],
   "source": [
    "sns.countplot(x='target', data = spectf_test)"
   ]
  },
  {
   "cell_type": "code",
   "execution_count": 13,
   "metadata": {
    "colab": {},
    "colab_type": "code",
    "id": "uiXZDijz2Je-",
    "outputId": "06c4e9a7-b1f3-4823-a57a-bd48e4248ee6"
   },
   "outputs": [
    {
     "data": {
      "text/plain": [
       "Text(0.5, 1.0, 'Correlation between different features')"
      ]
     },
     "execution_count": 13,
     "metadata": {},
     "output_type": "execute_result"
    },
    {
     "data": {
      "image/png": "[encoded data removed]",
      "text/plain": [
       "<Figure size 2016x2016 with 2 Axes>"
      ]
     },
     "metadata": {},
     "output_type": "display_data"
    }
   ],
   "source": [
    "#check the correlation between the variables\n",
    "\n",
    "correlation = spectf_df.corr()\n",
    "plt.figure(figsize=(28,28))\n",
    "sns.heatmap(correlation, square=True,cmap='viridis')\n",
    "plt.title('Correlation between different features')"
   ]
  },
  {
   "cell_type": "code",
   "execution_count": 14,
   "metadata": {
    "colab": {},
    "colab_type": "code",
    "id": "bgAlzJ4l2JfD",
    "outputId": "46ded2ea-4412-479d-b79b-ea5e3232368f"
   },
   "outputs": [
    {
     "data": {
      "text/html": [
       "<div>\n",
       "<style scoped>\n",
       "    .dataframe tbody tr th:only-of-type {\n",
       "        vertical-align: middle;\n",
       "    }\n",
       "\n",
       "    .dataframe tbody tr th {\n",
       "        vertical-align: top;\n",
       "    }\n",
       "\n",
       "    .dataframe thead th {\n",
       "        text-align: right;\n",
       "    }\n",
       "</style>\n",
       "<table border=\"1\" class=\"dataframe\">\n",
       "  <thead>\n",
       "    <tr style=\"text-align: right;\">\n",
       "      <th></th>\n",
       "      <th>target</th>\n",
       "      <th>F1R</th>\n",
       "      <th>F1S</th>\n",
       "      <th>F2R</th>\n",
       "      <th>F2S</th>\n",
       "      <th>F3R</th>\n",
       "      <th>F3S</th>\n",
       "      <th>F4R</th>\n",
       "      <th>F4S</th>\n",
       "      <th>F5R</th>\n",
       "      <th>...</th>\n",
       "      <th>F18R</th>\n",
       "      <th>F18S</th>\n",
       "      <th>F19R</th>\n",
       "      <th>F19S</th>\n",
       "      <th>F20R</th>\n",
       "      <th>F20S</th>\n",
       "      <th>F21R</th>\n",
       "      <th>F21S</th>\n",
       "      <th>F22R</th>\n",
       "      <th>F22S</th>\n",
       "    </tr>\n",
       "  </thead>\n",
       "  <tbody>\n",
       "    <tr>\n",
       "      <th>target</th>\n",
       "      <td>1.000000</td>\n",
       "      <td>0.134916</td>\n",
       "      <td>-0.153489</td>\n",
       "      <td>-0.264282</td>\n",
       "      <td>-0.357876</td>\n",
       "      <td>-0.032195</td>\n",
       "      <td>-0.256404</td>\n",
       "      <td>-0.043057</td>\n",
       "      <td>-0.244278</td>\n",
       "      <td>-0.001694</td>\n",
       "      <td>...</td>\n",
       "      <td>-0.081470</td>\n",
       "      <td>-0.211905</td>\n",
       "      <td>-0.017983</td>\n",
       "      <td>-0.182488</td>\n",
       "      <td>-0.375311</td>\n",
       "      <td>-0.526152</td>\n",
       "      <td>-0.353954</td>\n",
       "      <td>-0.394695</td>\n",
       "      <td>-0.378077</td>\n",
       "      <td>-0.327979</td>\n",
       "    </tr>\n",
       "    <tr>\n",
       "      <th>F1R</th>\n",
       "      <td>0.134916</td>\n",
       "      <td>1.000000</td>\n",
       "      <td>0.459985</td>\n",
       "      <td>0.245528</td>\n",
       "      <td>0.174106</td>\n",
       "      <td>0.035401</td>\n",
       "      <td>-0.048772</td>\n",
       "      <td>0.259527</td>\n",
       "      <td>0.119893</td>\n",
       "      <td>0.256918</td>\n",
       "      <td>...</td>\n",
       "      <td>-0.110412</td>\n",
       "      <td>-0.062266</td>\n",
       "      <td>0.032394</td>\n",
       "      <td>0.022848</td>\n",
       "      <td>-0.065124</td>\n",
       "      <td>-0.141432</td>\n",
       "      <td>-0.268222</td>\n",
       "      <td>-0.258516</td>\n",
       "      <td>-0.299482</td>\n",
       "      <td>-0.255024</td>\n",
       "    </tr>\n",
       "    <tr>\n",
       "      <th>F1S</th>\n",
       "      <td>-0.153489</td>\n",
       "      <td>0.459985</td>\n",
       "      <td>1.000000</td>\n",
       "      <td>0.298719</td>\n",
       "      <td>0.426246</td>\n",
       "      <td>-0.022179</td>\n",
       "      <td>0.143192</td>\n",
       "      <td>0.141931</td>\n",
       "      <td>0.527893</td>\n",
       "      <td>0.175323</td>\n",
       "      <td>...</td>\n",
       "      <td>0.026635</td>\n",
       "      <td>0.167284</td>\n",
       "      <td>0.051393</td>\n",
       "      <td>0.245041</td>\n",
       "      <td>-0.098247</td>\n",
       "      <td>0.190643</td>\n",
       "      <td>-0.326514</td>\n",
       "      <td>-0.157758</td>\n",
       "      <td>-0.244421</td>\n",
       "      <td>-0.163147</td>\n",
       "    </tr>\n",
       "    <tr>\n",
       "      <th>F2R</th>\n",
       "      <td>-0.264282</td>\n",
       "      <td>0.245528</td>\n",
       "      <td>0.298719</td>\n",
       "      <td>1.000000</td>\n",
       "      <td>0.689725</td>\n",
       "      <td>0.194395</td>\n",
       "      <td>0.142732</td>\n",
       "      <td>0.198584</td>\n",
       "      <td>0.123432</td>\n",
       "      <td>0.263416</td>\n",
       "      <td>...</td>\n",
       "      <td>0.004787</td>\n",
       "      <td>0.133670</td>\n",
       "      <td>0.137993</td>\n",
       "      <td>0.329877</td>\n",
       "      <td>0.237774</td>\n",
       "      <td>0.235111</td>\n",
       "      <td>0.172000</td>\n",
       "      <td>0.115048</td>\n",
       "      <td>0.119397</td>\n",
       "      <td>0.104358</td>\n",
       "    </tr>\n",
       "    <tr>\n",
       "      <th>F2S</th>\n",
       "      <td>-0.357876</td>\n",
       "      <td>0.174106</td>\n",
       "      <td>0.426246</td>\n",
       "      <td>0.689725</td>\n",
       "      <td>1.000000</td>\n",
       "      <td>0.100561</td>\n",
       "      <td>0.268939</td>\n",
       "      <td>0.097297</td>\n",
       "      <td>0.277806</td>\n",
       "      <td>0.281373</td>\n",
       "      <td>...</td>\n",
       "      <td>-0.049294</td>\n",
       "      <td>0.140644</td>\n",
       "      <td>0.221376</td>\n",
       "      <td>0.367199</td>\n",
       "      <td>0.224243</td>\n",
       "      <td>0.368773</td>\n",
       "      <td>0.174930</td>\n",
       "      <td>0.168973</td>\n",
       "      <td>0.151582</td>\n",
       "      <td>0.134198</td>\n",
       "    </tr>\n",
       "    <tr>\n",
       "      <th>F3R</th>\n",
       "      <td>-0.032195</td>\n",
       "      <td>0.035401</td>\n",
       "      <td>-0.022179</td>\n",
       "      <td>0.194395</td>\n",
       "      <td>0.100561</td>\n",
       "      <td>1.000000</td>\n",
       "      <td>0.391196</td>\n",
       "      <td>0.298236</td>\n",
       "      <td>-0.190983</td>\n",
       "      <td>0.108280</td>\n",
       "      <td>...</td>\n",
       "      <td>-0.172088</td>\n",
       "      <td>-0.212272</td>\n",
       "      <td>-0.033659</td>\n",
       "      <td>-0.045265</td>\n",
       "      <td>0.045766</td>\n",
       "      <td>-0.115675</td>\n",
       "      <td>0.256555</td>\n",
       "      <td>0.167622</td>\n",
       "      <td>0.045872</td>\n",
       "      <td>0.081601</td>\n",
       "    </tr>\n",
       "    <tr>\n",
       "      <th>F3S</th>\n",
       "      <td>-0.256404</td>\n",
       "      <td>-0.048772</td>\n",
       "      <td>0.143192</td>\n",
       "      <td>0.142732</td>\n",
       "      <td>0.268939</td>\n",
       "      <td>0.391196</td>\n",
       "      <td>1.000000</td>\n",
       "      <td>0.069102</td>\n",
       "      <td>0.250682</td>\n",
       "      <td>-0.112457</td>\n",
       "      <td>...</td>\n",
       "      <td>-0.222590</td>\n",
       "      <td>-0.121295</td>\n",
       "      <td>-0.076678</td>\n",
       "      <td>-0.017747</td>\n",
       "      <td>-0.099383</td>\n",
       "      <td>0.144817</td>\n",
       "      <td>0.195776</td>\n",
       "      <td>0.416009</td>\n",
       "      <td>0.118328</td>\n",
       "      <td>0.236851</td>\n",
       "    </tr>\n",
       "    <tr>\n",
       "      <th>F4R</th>\n",
       "      <td>-0.043057</td>\n",
       "      <td>0.259527</td>\n",
       "      <td>0.141931</td>\n",
       "      <td>0.198584</td>\n",
       "      <td>0.097297</td>\n",
       "      <td>0.298236</td>\n",
       "      <td>0.069102</td>\n",
       "      <td>1.000000</td>\n",
       "      <td>0.322533</td>\n",
       "      <td>0.184970</td>\n",
       "      <td>...</td>\n",
       "      <td>0.021602</td>\n",
       "      <td>-0.009432</td>\n",
       "      <td>0.076957</td>\n",
       "      <td>0.089118</td>\n",
       "      <td>0.124195</td>\n",
       "      <td>0.033364</td>\n",
       "      <td>-0.112433</td>\n",
       "      <td>-0.260397</td>\n",
       "      <td>-0.194039</td>\n",
       "      <td>-0.264163</td>\n",
       "    </tr>\n",
       "    <tr>\n",
       "      <th>F4S</th>\n",
       "      <td>-0.244278</td>\n",
       "      <td>0.119893</td>\n",
       "      <td>0.527893</td>\n",
       "      <td>0.123432</td>\n",
       "      <td>0.277806</td>\n",
       "      <td>-0.190983</td>\n",
       "      <td>0.250682</td>\n",
       "      <td>0.322533</td>\n",
       "      <td>1.000000</td>\n",
       "      <td>-0.013193</td>\n",
       "      <td>...</td>\n",
       "      <td>0.065975</td>\n",
       "      <td>0.292425</td>\n",
       "      <td>0.050660</td>\n",
       "      <td>0.206281</td>\n",
       "      <td>-0.043832</td>\n",
       "      <td>0.307883</td>\n",
       "      <td>-0.119309</td>\n",
       "      <td>0.057758</td>\n",
       "      <td>-0.000252</td>\n",
       "      <td>0.019310</td>\n",
       "    </tr>\n",
       "    <tr>\n",
       "      <th>F5R</th>\n",
       "      <td>-0.001694</td>\n",
       "      <td>0.256918</td>\n",
       "      <td>0.175323</td>\n",
       "      <td>0.263416</td>\n",
       "      <td>0.281373</td>\n",
       "      <td>0.108280</td>\n",
       "      <td>-0.112457</td>\n",
       "      <td>0.184970</td>\n",
       "      <td>-0.013193</td>\n",
       "      <td>1.000000</td>\n",
       "      <td>...</td>\n",
       "      <td>0.385381</td>\n",
       "      <td>0.477264</td>\n",
       "      <td>0.463289</td>\n",
       "      <td>0.516904</td>\n",
       "      <td>0.357610</td>\n",
       "      <td>0.253032</td>\n",
       "      <td>0.102060</td>\n",
       "      <td>-0.061584</td>\n",
       "      <td>0.022569</td>\n",
       "      <td>-0.147706</td>\n",
       "    </tr>\n",
       "    <tr>\n",
       "      <th>F5S</th>\n",
       "      <td>-0.230602</td>\n",
       "      <td>0.198825</td>\n",
       "      <td>0.446105</td>\n",
       "      <td>0.280271</td>\n",
       "      <td>0.313164</td>\n",
       "      <td>0.036442</td>\n",
       "      <td>0.038185</td>\n",
       "      <td>0.089621</td>\n",
       "      <td>0.223738</td>\n",
       "      <td>0.769008</td>\n",
       "      <td>...</td>\n",
       "      <td>0.414721</td>\n",
       "      <td>0.567649</td>\n",
       "      <td>0.281939</td>\n",
       "      <td>0.512073</td>\n",
       "      <td>0.271158</td>\n",
       "      <td>0.352756</td>\n",
       "      <td>0.037426</td>\n",
       "      <td>0.048598</td>\n",
       "      <td>0.053348</td>\n",
       "      <td>-0.002791</td>\n",
       "    </tr>\n",
       "    <tr>\n",
       "      <th>F6R</th>\n",
       "      <td>-0.090127</td>\n",
       "      <td>-0.001976</td>\n",
       "      <td>0.083866</td>\n",
       "      <td>0.455105</td>\n",
       "      <td>0.418365</td>\n",
       "      <td>0.206018</td>\n",
       "      <td>0.036482</td>\n",
       "      <td>0.228884</td>\n",
       "      <td>0.007711</td>\n",
       "      <td>0.539463</td>\n",
       "      <td>...</td>\n",
       "      <td>0.008558</td>\n",
       "      <td>0.116601</td>\n",
       "      <td>0.418617</td>\n",
       "      <td>0.476621</td>\n",
       "      <td>0.168130</td>\n",
       "      <td>0.162686</td>\n",
       "      <td>0.149595</td>\n",
       "      <td>-0.022508</td>\n",
       "      <td>-0.001209</td>\n",
       "      <td>-0.104114</td>\n",
       "    </tr>\n",
       "    <tr>\n",
       "      <th>F6S</th>\n",
       "      <td>-0.156661</td>\n",
       "      <td>0.046243</td>\n",
       "      <td>0.248265</td>\n",
       "      <td>0.483355</td>\n",
       "      <td>0.536980</td>\n",
       "      <td>0.185243</td>\n",
       "      <td>0.196839</td>\n",
       "      <td>0.214886</td>\n",
       "      <td>0.147591</td>\n",
       "      <td>0.508130</td>\n",
       "      <td>...</td>\n",
       "      <td>-0.035718</td>\n",
       "      <td>0.109097</td>\n",
       "      <td>0.443938</td>\n",
       "      <td>0.580104</td>\n",
       "      <td>0.132160</td>\n",
       "      <td>0.259221</td>\n",
       "      <td>0.062060</td>\n",
       "      <td>0.043201</td>\n",
       "      <td>-0.049558</td>\n",
       "      <td>-0.095047</td>\n",
       "    </tr>\n",
       "    <tr>\n",
       "      <th>F7R</th>\n",
       "      <td>-0.134440</td>\n",
       "      <td>-0.192991</td>\n",
       "      <td>-0.069682</td>\n",
       "      <td>0.269113</td>\n",
       "      <td>0.199662</td>\n",
       "      <td>0.192179</td>\n",
       "      <td>0.117311</td>\n",
       "      <td>0.091294</td>\n",
       "      <td>0.082233</td>\n",
       "      <td>0.390860</td>\n",
       "      <td>...</td>\n",
       "      <td>0.178291</td>\n",
       "      <td>0.262672</td>\n",
       "      <td>0.252642</td>\n",
       "      <td>0.332821</td>\n",
       "      <td>0.368018</td>\n",
       "      <td>0.320798</td>\n",
       "      <td>0.440235</td>\n",
       "      <td>0.340796</td>\n",
       "      <td>0.304363</td>\n",
       "      <td>0.227597</td>\n",
       "    </tr>\n",
       "    <tr>\n",
       "      <th>F7S</th>\n",
       "      <td>-0.290655</td>\n",
       "      <td>-0.105340</td>\n",
       "      <td>0.041724</td>\n",
       "      <td>0.171752</td>\n",
       "      <td>0.363724</td>\n",
       "      <td>0.165901</td>\n",
       "      <td>0.318684</td>\n",
       "      <td>0.020858</td>\n",
       "      <td>0.228286</td>\n",
       "      <td>0.335096</td>\n",
       "      <td>...</td>\n",
       "      <td>0.149102</td>\n",
       "      <td>0.262755</td>\n",
       "      <td>0.290056</td>\n",
       "      <td>0.339373</td>\n",
       "      <td>0.444633</td>\n",
       "      <td>0.477868</td>\n",
       "      <td>0.396484</td>\n",
       "      <td>0.394194</td>\n",
       "      <td>0.372617</td>\n",
       "      <td>0.299642</td>\n",
       "    </tr>\n",
       "    <tr>\n",
       "      <th>F8R</th>\n",
       "      <td>-0.190110</td>\n",
       "      <td>-0.182641</td>\n",
       "      <td>-0.256039</td>\n",
       "      <td>0.059025</td>\n",
       "      <td>-0.072274</td>\n",
       "      <td>0.172398</td>\n",
       "      <td>0.054331</td>\n",
       "      <td>-0.069232</td>\n",
       "      <td>-0.093899</td>\n",
       "      <td>0.378832</td>\n",
       "      <td>...</td>\n",
       "      <td>0.410034</td>\n",
       "      <td>0.425715</td>\n",
       "      <td>0.051266</td>\n",
       "      <td>0.100711</td>\n",
       "      <td>0.469086</td>\n",
       "      <td>0.256247</td>\n",
       "      <td>0.587241</td>\n",
       "      <td>0.480074</td>\n",
       "      <td>0.484744</td>\n",
       "      <td>0.438458</td>\n",
       "    </tr>\n",
       "    <tr>\n",
       "      <th>F8S</th>\n",
       "      <td>-0.291540</td>\n",
       "      <td>-0.165322</td>\n",
       "      <td>-0.071088</td>\n",
       "      <td>0.099579</td>\n",
       "      <td>0.011357</td>\n",
       "      <td>0.124367</td>\n",
       "      <td>0.377990</td>\n",
       "      <td>-0.096288</td>\n",
       "      <td>0.137568</td>\n",
       "      <td>0.300432</td>\n",
       "      <td>...</td>\n",
       "      <td>0.425851</td>\n",
       "      <td>0.482442</td>\n",
       "      <td>0.000366</td>\n",
       "      <td>0.121202</td>\n",
       "      <td>0.406057</td>\n",
       "      <td>0.365132</td>\n",
       "      <td>0.479365</td>\n",
       "      <td>0.593351</td>\n",
       "      <td>0.449522</td>\n",
       "      <td>0.500739</td>\n",
       "    </tr>\n",
       "    <tr>\n",
       "      <th>F9R</th>\n",
       "      <td>-0.074458</td>\n",
       "      <td>0.012112</td>\n",
       "      <td>0.006702</td>\n",
       "      <td>-0.038975</td>\n",
       "      <td>-0.077200</td>\n",
       "      <td>0.007226</td>\n",
       "      <td>-0.226531</td>\n",
       "      <td>0.172243</td>\n",
       "      <td>0.095840</td>\n",
       "      <td>0.655230</td>\n",
       "      <td>...</td>\n",
       "      <td>0.675917</td>\n",
       "      <td>0.667658</td>\n",
       "      <td>0.124957</td>\n",
       "      <td>0.203692</td>\n",
       "      <td>0.365958</td>\n",
       "      <td>0.293060</td>\n",
       "      <td>0.095665</td>\n",
       "      <td>0.015869</td>\n",
       "      <td>0.058382</td>\n",
       "      <td>-0.012528</td>\n",
       "    </tr>\n",
       "    <tr>\n",
       "      <th>F9S</th>\n",
       "      <td>-0.174335</td>\n",
       "      <td>0.099832</td>\n",
       "      <td>0.201571</td>\n",
       "      <td>-0.016799</td>\n",
       "      <td>-0.048918</td>\n",
       "      <td>-0.051564</td>\n",
       "      <td>-0.067343</td>\n",
       "      <td>0.098925</td>\n",
       "      <td>0.374518</td>\n",
       "      <td>0.510249</td>\n",
       "      <td>...</td>\n",
       "      <td>0.566671</td>\n",
       "      <td>0.749729</td>\n",
       "      <td>0.164668</td>\n",
       "      <td>0.329590</td>\n",
       "      <td>0.307379</td>\n",
       "      <td>0.364788</td>\n",
       "      <td>0.072455</td>\n",
       "      <td>0.130434</td>\n",
       "      <td>0.150453</td>\n",
       "      <td>0.120092</td>\n",
       "    </tr>\n",
       "    <tr>\n",
       "      <th>F10R</th>\n",
       "      <td>-0.114378</td>\n",
       "      <td>-0.045931</td>\n",
       "      <td>-0.056700</td>\n",
       "      <td>0.202591</td>\n",
       "      <td>0.150569</td>\n",
       "      <td>0.026210</td>\n",
       "      <td>-0.092453</td>\n",
       "      <td>-0.023962</td>\n",
       "      <td>-0.151368</td>\n",
       "      <td>0.619103</td>\n",
       "      <td>...</td>\n",
       "      <td>0.420216</td>\n",
       "      <td>0.414143</td>\n",
       "      <td>0.438904</td>\n",
       "      <td>0.423609</td>\n",
       "      <td>0.413829</td>\n",
       "      <td>0.318215</td>\n",
       "      <td>0.324712</td>\n",
       "      <td>0.109176</td>\n",
       "      <td>0.199778</td>\n",
       "      <td>0.032555</td>\n",
       "    </tr>\n",
       "    <tr>\n",
       "      <th>F10S</th>\n",
       "      <td>-0.246964</td>\n",
       "      <td>0.002091</td>\n",
       "      <td>0.157359</td>\n",
       "      <td>0.347767</td>\n",
       "      <td>0.241694</td>\n",
       "      <td>-0.074132</td>\n",
       "      <td>-0.006788</td>\n",
       "      <td>0.009829</td>\n",
       "      <td>0.073212</td>\n",
       "      <td>0.625774</td>\n",
       "      <td>...</td>\n",
       "      <td>0.502398</td>\n",
       "      <td>0.626491</td>\n",
       "      <td>0.446255</td>\n",
       "      <td>0.646588</td>\n",
       "      <td>0.437724</td>\n",
       "      <td>0.501579</td>\n",
       "      <td>0.213556</td>\n",
       "      <td>0.149853</td>\n",
       "      <td>0.214611</td>\n",
       "      <td>0.074365</td>\n",
       "    </tr>\n",
       "    <tr>\n",
       "      <th>F11R</th>\n",
       "      <td>-0.096580</td>\n",
       "      <td>0.059277</td>\n",
       "      <td>-0.034253</td>\n",
       "      <td>0.089041</td>\n",
       "      <td>0.108518</td>\n",
       "      <td>-0.087286</td>\n",
       "      <td>-0.218154</td>\n",
       "      <td>0.110127</td>\n",
       "      <td>-0.114156</td>\n",
       "      <td>0.386234</td>\n",
       "      <td>...</td>\n",
       "      <td>0.219798</td>\n",
       "      <td>0.204757</td>\n",
       "      <td>0.329308</td>\n",
       "      <td>0.310413</td>\n",
       "      <td>0.280060</td>\n",
       "      <td>0.180257</td>\n",
       "      <td>-0.003501</td>\n",
       "      <td>-0.226555</td>\n",
       "      <td>-0.058292</td>\n",
       "      <td>-0.272340</td>\n",
       "    </tr>\n",
       "    <tr>\n",
       "      <th>F11S</th>\n",
       "      <td>-0.332094</td>\n",
       "      <td>0.091319</td>\n",
       "      <td>0.249551</td>\n",
       "      <td>0.282886</td>\n",
       "      <td>0.192167</td>\n",
       "      <td>-0.115425</td>\n",
       "      <td>0.062102</td>\n",
       "      <td>0.085446</td>\n",
       "      <td>0.200255</td>\n",
       "      <td>0.364312</td>\n",
       "      <td>...</td>\n",
       "      <td>0.223027</td>\n",
       "      <td>0.424405</td>\n",
       "      <td>0.236400</td>\n",
       "      <td>0.441183</td>\n",
       "      <td>0.285144</td>\n",
       "      <td>0.469211</td>\n",
       "      <td>0.001333</td>\n",
       "      <td>0.056447</td>\n",
       "      <td>0.015320</td>\n",
       "      <td>-0.060478</td>\n",
       "    </tr>\n",
       "    <tr>\n",
       "      <th>F12R</th>\n",
       "      <td>-0.246207</td>\n",
       "      <td>-0.220218</td>\n",
       "      <td>-0.251867</td>\n",
       "      <td>0.054185</td>\n",
       "      <td>0.127852</td>\n",
       "      <td>0.052404</td>\n",
       "      <td>0.072134</td>\n",
       "      <td>-0.048854</td>\n",
       "      <td>-0.045654</td>\n",
       "      <td>0.002085</td>\n",
       "      <td>...</td>\n",
       "      <td>0.091819</td>\n",
       "      <td>0.093223</td>\n",
       "      <td>0.146497</td>\n",
       "      <td>0.059700</td>\n",
       "      <td>0.464987</td>\n",
       "      <td>0.253858</td>\n",
       "      <td>0.575499</td>\n",
       "      <td>0.480342</td>\n",
       "      <td>0.559552</td>\n",
       "      <td>0.498379</td>\n",
       "    </tr>\n",
       "    <tr>\n",
       "      <th>F12S</th>\n",
       "      <td>-0.381477</td>\n",
       "      <td>-0.196369</td>\n",
       "      <td>-0.075332</td>\n",
       "      <td>0.124031</td>\n",
       "      <td>0.191831</td>\n",
       "      <td>0.007669</td>\n",
       "      <td>0.271282</td>\n",
       "      <td>-0.211149</td>\n",
       "      <td>0.166191</td>\n",
       "      <td>-0.190124</td>\n",
       "      <td>...</td>\n",
       "      <td>0.041084</td>\n",
       "      <td>0.106546</td>\n",
       "      <td>-0.084431</td>\n",
       "      <td>-0.055712</td>\n",
       "      <td>0.358375</td>\n",
       "      <td>0.356834</td>\n",
       "      <td>0.477555</td>\n",
       "      <td>0.660179</td>\n",
       "      <td>0.570694</td>\n",
       "      <td>0.668672</td>\n",
       "    </tr>\n",
       "    <tr>\n",
       "      <th>F13R</th>\n",
       "      <td>-0.378735</td>\n",
       "      <td>-0.262516</td>\n",
       "      <td>-0.253161</td>\n",
       "      <td>0.166209</td>\n",
       "      <td>0.131022</td>\n",
       "      <td>0.058234</td>\n",
       "      <td>0.097626</td>\n",
       "      <td>-0.135343</td>\n",
       "      <td>-0.022384</td>\n",
       "      <td>0.128798</td>\n",
       "      <td>...</td>\n",
       "      <td>0.409563</td>\n",
       "      <td>0.443302</td>\n",
       "      <td>0.091213</td>\n",
       "      <td>0.100019</td>\n",
       "      <td>0.515376</td>\n",
       "      <td>0.346446</td>\n",
       "      <td>0.704205</td>\n",
       "      <td>0.657111</td>\n",
       "      <td>0.722166</td>\n",
       "      <td>0.676259</td>\n",
       "    </tr>\n",
       "    <tr>\n",
       "      <th>F13S</th>\n",
       "      <td>-0.410055</td>\n",
       "      <td>-0.299786</td>\n",
       "      <td>-0.163846</td>\n",
       "      <td>0.155702</td>\n",
       "      <td>0.094426</td>\n",
       "      <td>0.088786</td>\n",
       "      <td>0.333676</td>\n",
       "      <td>-0.217249</td>\n",
       "      <td>0.070124</td>\n",
       "      <td>-0.044829</td>\n",
       "      <td>...</td>\n",
       "      <td>0.209656</td>\n",
       "      <td>0.275341</td>\n",
       "      <td>-0.140635</td>\n",
       "      <td>-0.048220</td>\n",
       "      <td>0.378402</td>\n",
       "      <td>0.264166</td>\n",
       "      <td>0.624195</td>\n",
       "      <td>0.773710</td>\n",
       "      <td>0.656879</td>\n",
       "      <td>0.756814</td>\n",
       "    </tr>\n",
       "    <tr>\n",
       "      <th>F14R</th>\n",
       "      <td>-0.146302</td>\n",
       "      <td>-0.053098</td>\n",
       "      <td>0.041877</td>\n",
       "      <td>0.191101</td>\n",
       "      <td>0.143280</td>\n",
       "      <td>0.069529</td>\n",
       "      <td>-0.199529</td>\n",
       "      <td>0.093808</td>\n",
       "      <td>-0.015875</td>\n",
       "      <td>0.409938</td>\n",
       "      <td>...</td>\n",
       "      <td>0.556103</td>\n",
       "      <td>0.565681</td>\n",
       "      <td>0.251230</td>\n",
       "      <td>0.344984</td>\n",
       "      <td>0.385963</td>\n",
       "      <td>0.333031</td>\n",
       "      <td>0.142764</td>\n",
       "      <td>0.041817</td>\n",
       "      <td>0.115607</td>\n",
       "      <td>0.053875</td>\n",
       "    </tr>\n",
       "    <tr>\n",
       "      <th>F14S</th>\n",
       "      <td>-0.378530</td>\n",
       "      <td>-0.015433</td>\n",
       "      <td>0.144049</td>\n",
       "      <td>0.233267</td>\n",
       "      <td>0.062427</td>\n",
       "      <td>-0.078370</td>\n",
       "      <td>0.073284</td>\n",
       "      <td>0.017828</td>\n",
       "      <td>0.195386</td>\n",
       "      <td>0.144558</td>\n",
       "      <td>...</td>\n",
       "      <td>0.398156</td>\n",
       "      <td>0.502319</td>\n",
       "      <td>0.014938</td>\n",
       "      <td>0.253664</td>\n",
       "      <td>0.258600</td>\n",
       "      <td>0.341688</td>\n",
       "      <td>0.146404</td>\n",
       "      <td>0.228229</td>\n",
       "      <td>0.204907</td>\n",
       "      <td>0.216508</td>\n",
       "    </tr>\n",
       "    <tr>\n",
       "      <th>F15R</th>\n",
       "      <td>-0.323575</td>\n",
       "      <td>-0.108298</td>\n",
       "      <td>-0.042136</td>\n",
       "      <td>0.249991</td>\n",
       "      <td>0.245670</td>\n",
       "      <td>-0.066042</td>\n",
       "      <td>-0.048319</td>\n",
       "      <td>-0.008509</td>\n",
       "      <td>-0.004194</td>\n",
       "      <td>0.419786</td>\n",
       "      <td>...</td>\n",
       "      <td>0.683653</td>\n",
       "      <td>0.663698</td>\n",
       "      <td>0.296437</td>\n",
       "      <td>0.381892</td>\n",
       "      <td>0.613159</td>\n",
       "      <td>0.637446</td>\n",
       "      <td>0.286637</td>\n",
       "      <td>0.173198</td>\n",
       "      <td>0.249148</td>\n",
       "      <td>0.130356</td>\n",
       "    </tr>\n",
       "    <tr>\n",
       "      <th>F15S</th>\n",
       "      <td>-0.488084</td>\n",
       "      <td>-0.119637</td>\n",
       "      <td>0.163133</td>\n",
       "      <td>0.343496</td>\n",
       "      <td>0.478738</td>\n",
       "      <td>0.006049</td>\n",
       "      <td>0.131445</td>\n",
       "      <td>-0.043569</td>\n",
       "      <td>0.160004</td>\n",
       "      <td>0.361712</td>\n",
       "      <td>...</td>\n",
       "      <td>0.539520</td>\n",
       "      <td>0.617670</td>\n",
       "      <td>0.291779</td>\n",
       "      <td>0.431163</td>\n",
       "      <td>0.493633</td>\n",
       "      <td>0.713246</td>\n",
       "      <td>0.283492</td>\n",
       "      <td>0.223938</td>\n",
       "      <td>0.229126</td>\n",
       "      <td>0.149514</td>\n",
       "    </tr>\n",
       "    <tr>\n",
       "      <th>F16R</th>\n",
       "      <td>-0.221958</td>\n",
       "      <td>-0.096304</td>\n",
       "      <td>0.079598</td>\n",
       "      <td>0.388610</td>\n",
       "      <td>0.369117</td>\n",
       "      <td>-0.106646</td>\n",
       "      <td>-0.000046</td>\n",
       "      <td>0.013385</td>\n",
       "      <td>0.128137</td>\n",
       "      <td>0.481844</td>\n",
       "      <td>...</td>\n",
       "      <td>0.412180</td>\n",
       "      <td>0.476306</td>\n",
       "      <td>0.487602</td>\n",
       "      <td>0.552985</td>\n",
       "      <td>0.375985</td>\n",
       "      <td>0.397866</td>\n",
       "      <td>0.280340</td>\n",
       "      <td>0.188179</td>\n",
       "      <td>0.286740</td>\n",
       "      <td>0.168783</td>\n",
       "    </tr>\n",
       "    <tr>\n",
       "      <th>F16S</th>\n",
       "      <td>-0.323664</td>\n",
       "      <td>0.098113</td>\n",
       "      <td>0.132279</td>\n",
       "      <td>0.408315</td>\n",
       "      <td>0.446723</td>\n",
       "      <td>0.107983</td>\n",
       "      <td>0.285334</td>\n",
       "      <td>-0.102354</td>\n",
       "      <td>0.057228</td>\n",
       "      <td>0.289172</td>\n",
       "      <td>...</td>\n",
       "      <td>-0.047630</td>\n",
       "      <td>0.046893</td>\n",
       "      <td>0.292902</td>\n",
       "      <td>0.414264</td>\n",
       "      <td>0.204819</td>\n",
       "      <td>0.241436</td>\n",
       "      <td>0.348594</td>\n",
       "      <td>0.323563</td>\n",
       "      <td>0.281880</td>\n",
       "      <td>0.255336</td>\n",
       "    </tr>\n",
       "    <tr>\n",
       "      <th>F17R</th>\n",
       "      <td>-0.178427</td>\n",
       "      <td>0.049514</td>\n",
       "      <td>-0.071612</td>\n",
       "      <td>0.137483</td>\n",
       "      <td>0.146532</td>\n",
       "      <td>0.073327</td>\n",
       "      <td>0.142581</td>\n",
       "      <td>0.018367</td>\n",
       "      <td>-0.033804</td>\n",
       "      <td>0.104423</td>\n",
       "      <td>...</td>\n",
       "      <td>0.035879</td>\n",
       "      <td>-0.023651</td>\n",
       "      <td>0.199100</td>\n",
       "      <td>0.155066</td>\n",
       "      <td>0.073077</td>\n",
       "      <td>-0.059692</td>\n",
       "      <td>0.260055</td>\n",
       "      <td>0.201917</td>\n",
       "      <td>0.299781</td>\n",
       "      <td>0.244768</td>\n",
       "    </tr>\n",
       "    <tr>\n",
       "      <th>F17S</th>\n",
       "      <td>-0.150225</td>\n",
       "      <td>0.113221</td>\n",
       "      <td>0.110375</td>\n",
       "      <td>0.118984</td>\n",
       "      <td>0.101475</td>\n",
       "      <td>0.059229</td>\n",
       "      <td>0.317681</td>\n",
       "      <td>-0.069977</td>\n",
       "      <td>0.022633</td>\n",
       "      <td>-0.031558</td>\n",
       "      <td>...</td>\n",
       "      <td>-0.118320</td>\n",
       "      <td>-0.078543</td>\n",
       "      <td>-0.075756</td>\n",
       "      <td>0.040475</td>\n",
       "      <td>-0.092778</td>\n",
       "      <td>-0.079265</td>\n",
       "      <td>0.103599</td>\n",
       "      <td>0.252803</td>\n",
       "      <td>0.170607</td>\n",
       "      <td>0.282285</td>\n",
       "    </tr>\n",
       "    <tr>\n",
       "      <th>F18R</th>\n",
       "      <td>-0.081470</td>\n",
       "      <td>-0.110412</td>\n",
       "      <td>0.026635</td>\n",
       "      <td>0.004787</td>\n",
       "      <td>-0.049294</td>\n",
       "      <td>-0.172088</td>\n",
       "      <td>-0.222590</td>\n",
       "      <td>0.021602</td>\n",
       "      <td>0.065975</td>\n",
       "      <td>0.385381</td>\n",
       "      <td>...</td>\n",
       "      <td>1.000000</td>\n",
       "      <td>0.839740</td>\n",
       "      <td>0.251351</td>\n",
       "      <td>0.317659</td>\n",
       "      <td>0.393674</td>\n",
       "      <td>0.427996</td>\n",
       "      <td>0.126772</td>\n",
       "      <td>0.067280</td>\n",
       "      <td>0.150747</td>\n",
       "      <td>0.081154</td>\n",
       "    </tr>\n",
       "    <tr>\n",
       "      <th>F18S</th>\n",
       "      <td>-0.211905</td>\n",
       "      <td>-0.062266</td>\n",
       "      <td>0.167284</td>\n",
       "      <td>0.133670</td>\n",
       "      <td>0.140644</td>\n",
       "      <td>-0.212272</td>\n",
       "      <td>-0.121295</td>\n",
       "      <td>-0.009432</td>\n",
       "      <td>0.292425</td>\n",
       "      <td>0.477264</td>\n",
       "      <td>...</td>\n",
       "      <td>0.839740</td>\n",
       "      <td>1.000000</td>\n",
       "      <td>0.340762</td>\n",
       "      <td>0.509114</td>\n",
       "      <td>0.456430</td>\n",
       "      <td>0.608448</td>\n",
       "      <td>0.177312</td>\n",
       "      <td>0.168815</td>\n",
       "      <td>0.263600</td>\n",
       "      <td>0.157666</td>\n",
       "    </tr>\n",
       "    <tr>\n",
       "      <th>F19R</th>\n",
       "      <td>-0.017983</td>\n",
       "      <td>0.032394</td>\n",
       "      <td>0.051393</td>\n",
       "      <td>0.137993</td>\n",
       "      <td>0.221376</td>\n",
       "      <td>-0.033659</td>\n",
       "      <td>-0.076678</td>\n",
       "      <td>0.076957</td>\n",
       "      <td>0.050660</td>\n",
       "      <td>0.463289</td>\n",
       "      <td>...</td>\n",
       "      <td>0.251351</td>\n",
       "      <td>0.340762</td>\n",
       "      <td>1.000000</td>\n",
       "      <td>0.861543</td>\n",
       "      <td>0.396805</td>\n",
       "      <td>0.422615</td>\n",
       "      <td>0.211406</td>\n",
       "      <td>0.086726</td>\n",
       "      <td>0.294886</td>\n",
       "      <td>0.107689</td>\n",
       "    </tr>\n",
       "    <tr>\n",
       "      <th>F19S</th>\n",
       "      <td>-0.182488</td>\n",
       "      <td>0.022848</td>\n",
       "      <td>0.245041</td>\n",
       "      <td>0.329877</td>\n",
       "      <td>0.367199</td>\n",
       "      <td>-0.045265</td>\n",
       "      <td>-0.017747</td>\n",
       "      <td>0.089118</td>\n",
       "      <td>0.206281</td>\n",
       "      <td>0.516904</td>\n",
       "      <td>...</td>\n",
       "      <td>0.317659</td>\n",
       "      <td>0.509114</td>\n",
       "      <td>0.861543</td>\n",
       "      <td>1.000000</td>\n",
       "      <td>0.390597</td>\n",
       "      <td>0.544374</td>\n",
       "      <td>0.160544</td>\n",
       "      <td>0.090842</td>\n",
       "      <td>0.249694</td>\n",
       "      <td>0.078741</td>\n",
       "    </tr>\n",
       "    <tr>\n",
       "      <th>F20R</th>\n",
       "      <td>-0.375311</td>\n",
       "      <td>-0.065124</td>\n",
       "      <td>-0.098247</td>\n",
       "      <td>0.237774</td>\n",
       "      <td>0.224243</td>\n",
       "      <td>0.045766</td>\n",
       "      <td>-0.099383</td>\n",
       "      <td>0.124195</td>\n",
       "      <td>-0.043832</td>\n",
       "      <td>0.357610</td>\n",
       "      <td>...</td>\n",
       "      <td>0.393674</td>\n",
       "      <td>0.456430</td>\n",
       "      <td>0.396805</td>\n",
       "      <td>0.390597</td>\n",
       "      <td>1.000000</td>\n",
       "      <td>0.693415</td>\n",
       "      <td>0.554839</td>\n",
       "      <td>0.384246</td>\n",
       "      <td>0.508381</td>\n",
       "      <td>0.372670</td>\n",
       "    </tr>\n",
       "    <tr>\n",
       "      <th>F20S</th>\n",
       "      <td>-0.526152</td>\n",
       "      <td>-0.141432</td>\n",
       "      <td>0.190643</td>\n",
       "      <td>0.235111</td>\n",
       "      <td>0.368773</td>\n",
       "      <td>-0.115675</td>\n",
       "      <td>0.144817</td>\n",
       "      <td>0.033364</td>\n",
       "      <td>0.307883</td>\n",
       "      <td>0.253032</td>\n",
       "      <td>...</td>\n",
       "      <td>0.427996</td>\n",
       "      <td>0.608448</td>\n",
       "      <td>0.422615</td>\n",
       "      <td>0.544374</td>\n",
       "      <td>0.693415</td>\n",
       "      <td>1.000000</td>\n",
       "      <td>0.299645</td>\n",
       "      <td>0.360560</td>\n",
       "      <td>0.361448</td>\n",
       "      <td>0.284826</td>\n",
       "    </tr>\n",
       "    <tr>\n",
       "      <th>F21R</th>\n",
       "      <td>-0.353954</td>\n",
       "      <td>-0.268222</td>\n",
       "      <td>-0.326514</td>\n",
       "      <td>0.172000</td>\n",
       "      <td>0.174930</td>\n",
       "      <td>0.256555</td>\n",
       "      <td>0.195776</td>\n",
       "      <td>-0.112433</td>\n",
       "      <td>-0.119309</td>\n",
       "      <td>0.102060</td>\n",
       "      <td>...</td>\n",
       "      <td>0.126772</td>\n",
       "      <td>0.177312</td>\n",
       "      <td>0.211406</td>\n",
       "      <td>0.160544</td>\n",
       "      <td>0.554839</td>\n",
       "      <td>0.299645</td>\n",
       "      <td>1.000000</td>\n",
       "      <td>0.817013</td>\n",
       "      <td>0.860834</td>\n",
       "      <td>0.758332</td>\n",
       "    </tr>\n",
       "    <tr>\n",
       "      <th>F21S</th>\n",
       "      <td>-0.394695</td>\n",
       "      <td>-0.258516</td>\n",
       "      <td>-0.157758</td>\n",
       "      <td>0.115048</td>\n",
       "      <td>0.168973</td>\n",
       "      <td>0.167622</td>\n",
       "      <td>0.416009</td>\n",
       "      <td>-0.260397</td>\n",
       "      <td>0.057758</td>\n",
       "      <td>-0.061584</td>\n",
       "      <td>...</td>\n",
       "      <td>0.067280</td>\n",
       "      <td>0.168815</td>\n",
       "      <td>0.086726</td>\n",
       "      <td>0.090842</td>\n",
       "      <td>0.384246</td>\n",
       "      <td>0.360560</td>\n",
       "      <td>0.817013</td>\n",
       "      <td>1.000000</td>\n",
       "      <td>0.806692</td>\n",
       "      <td>0.875231</td>\n",
       "    </tr>\n",
       "    <tr>\n",
       "      <th>F22R</th>\n",
       "      <td>-0.378077</td>\n",
       "      <td>-0.299482</td>\n",
       "      <td>-0.244421</td>\n",
       "      <td>0.119397</td>\n",
       "      <td>0.151582</td>\n",
       "      <td>0.045872</td>\n",
       "      <td>0.118328</td>\n",
       "      <td>-0.194039</td>\n",
       "      <td>-0.000252</td>\n",
       "      <td>0.022569</td>\n",
       "      <td>...</td>\n",
       "      <td>0.150747</td>\n",
       "      <td>0.263600</td>\n",
       "      <td>0.294886</td>\n",
       "      <td>0.249694</td>\n",
       "      <td>0.508381</td>\n",
       "      <td>0.361448</td>\n",
       "      <td>0.860834</td>\n",
       "      <td>0.806692</td>\n",
       "      <td>1.000000</td>\n",
       "      <td>0.891607</td>\n",
       "    </tr>\n",
       "    <tr>\n",
       "      <th>F22S</th>\n",
       "      <td>-0.327979</td>\n",
       "      <td>-0.255024</td>\n",
       "      <td>-0.163147</td>\n",
       "      <td>0.104358</td>\n",
       "      <td>0.134198</td>\n",
       "      <td>0.081601</td>\n",
       "      <td>0.236851</td>\n",
       "      <td>-0.264163</td>\n",
       "      <td>0.019310</td>\n",
       "      <td>-0.147706</td>\n",
       "      <td>...</td>\n",
       "      <td>0.081154</td>\n",
       "      <td>0.157666</td>\n",
       "      <td>0.107689</td>\n",
       "      <td>0.078741</td>\n",
       "      <td>0.372670</td>\n",
       "      <td>0.284826</td>\n",
       "      <td>0.758332</td>\n",
       "      <td>0.875231</td>\n",
       "      <td>0.891607</td>\n",
       "      <td>1.000000</td>\n",
       "    </tr>\n",
       "  </tbody>\n",
       "</table>\n",
       "<p>45 rows × 45 columns</p>\n",
       "</div>"
      ],
      "text/plain": [
       "          target       F1R       F1S       F2R       F2S       F3R       F3S  \\\n",
       "target  1.000000  0.134916 -0.153489 -0.264282 -0.357876 -0.032195 -0.256404   \n",
       "F1R     0.134916  1.000000  0.459985  0.245528  0.174106  0.035401 -0.048772   \n",
       "F1S    -0.153489  0.459985  1.000000  0.298719  0.426246 -0.022179  0.143192   \n",
       "F2R    -0.264282  0.245528  0.298719  1.000000  0.689725  0.194395  0.142732   \n",
       "F2S    -0.357876  0.174106  0.426246  0.689725  1.000000  0.100561  0.268939   \n",
       "F3R    -0.032195  0.035401 -0.022179  0.194395  0.100561  1.000000  0.391196   \n",
       "F3S    -0.256404 -0.048772  0.143192  0.142732  0.268939  0.391196  1.000000   \n",
       "F4R    -0.043057  0.259527  0.141931  0.198584  0.097297  0.298236  0.069102   \n",
       "F4S    -0.244278  0.119893  0.527893  0.123432  0.277806 -0.190983  0.250682   \n",
       "F5R    -0.001694  0.256918  0.175323  0.263416  0.281373  0.108280 -0.112457   \n",
       "F5S    -0.230602  0.198825  0.446105  0.280271  0.313164  0.036442  0.038185   \n",
       "F6R    -0.090127 -0.001976  0.083866  0.455105  0.418365  0.206018  0.036482   \n",
       "F6S    -0.156661  0.046243  0.248265  0.483355  0.536980  0.185243  0.196839   \n",
       "F7R    -0.134440 -0.192991 -0.069682  0.269113  0.199662  0.192179  0.117311   \n",
       "F7S    -0.290655 -0.105340  0.041724  0.171752  0.363724  0.165901  0.318684   \n",
       "F8R    -0.190110 -0.182641 -0.256039  0.059025 -0.072274  0.172398  0.054331   \n",
       "F8S    -0.291540 -0.165322 -0.071088  0.099579  0.011357  0.124367  0.377990   \n",
       "F9R    -0.074458  0.012112  0.006702 -0.038975 -0.077200  0.007226 -0.226531   \n",
       "F9S    -0.174335  0.099832  0.201571 -0.016799 -0.048918 -0.051564 -0.067343   \n",
       "F10R   -0.114378 -0.045931 -0.056700  0.202591  0.150569  0.026210 -0.092453   \n",
       "F10S   -0.246964  0.002091  0.157359  0.347767  0.241694 -0.074132 -0.006788   \n",
       "F11R   -0.096580  0.059277 -0.034253  0.089041  0.108518 -0.087286 -0.218154   \n",
       "F11S   -0.332094  0.091319  0.249551  0.282886  0.192167 -0.115425  0.062102   \n",
       "F12R   -0.246207 -0.220218 -0.251867  0.054185  0.127852  0.052404  0.072134   \n",
       "F12S   -0.381477 -0.196369 -0.075332  0.124031  0.191831  0.007669  0.271282   \n",
       "F13R   -0.378735 -0.262516 -0.253161  0.166209  0.131022  0.058234  0.097626   \n",
       "F13S   -0.410055 -0.299786 -0.163846  0.155702  0.094426  0.088786  0.333676   \n",
       "F14R   -0.146302 -0.053098  0.041877  0.191101  0.143280  0.069529 -0.199529   \n",
       "F14S   -0.378530 -0.015433  0.144049  0.233267  0.062427 -0.078370  0.073284   \n",
       "F15R   -0.323575 -0.108298 -0.042136  0.249991  0.245670 -0.066042 -0.048319   \n",
       "F15S   -0.488084 -0.119637  0.163133  0.343496  0.478738  0.006049  0.131445   \n",
       "F16R   -0.221958 -0.096304  0.079598  0.388610  0.369117 -0.106646 -0.000046   \n",
       "F16S   -0.323664  0.098113  0.132279  0.408315  0.446723  0.107983  0.285334   \n",
       "F17R   -0.178427  0.049514 -0.071612  0.137483  0.146532  0.073327  0.142581   \n",
       "F17S   -0.150225  0.113221  0.110375  0.118984  0.101475  0.059229  0.317681   \n",
       "F18R   -0.081470 -0.110412  0.026635  0.004787 -0.049294 -0.172088 -0.222590   \n",
       "F18S   -0.211905 -0.062266  0.167284  0.133670  0.140644 -0.212272 -0.121295   \n",
       "F19R   -0.017983  0.032394  0.051393  0.137993  0.221376 -0.033659 -0.076678   \n",
       "F19S   -0.182488  0.022848  0.245041  0.329877  0.367199 -0.045265 -0.017747   \n",
       "F20R   -0.375311 -0.065124 -0.098247  0.237774  0.224243  0.045766 -0.099383   \n",
       "F20S   -0.526152 -0.141432  0.190643  0.235111  0.368773 -0.115675  0.144817   \n",
       "F21R   -0.353954 -0.268222 -0.326514  0.172000  0.174930  0.256555  0.195776   \n",
       "F21S   -0.394695 -0.258516 -0.157758  0.115048  0.168973  0.167622  0.416009   \n",
       "F22R   -0.378077 -0.299482 -0.244421  0.119397  0.151582  0.045872  0.118328   \n",
       "F22S   -0.327979 -0.255024 -0.163147  0.104358  0.134198  0.081601  0.236851   \n",
       "\n",
       "             F4R       F4S       F5R  ...      F18R      F18S      F19R  \\\n",
       "target -0.043057 -0.244278 -0.001694  ... -0.081470 -0.211905 -0.017983   \n",
       "F1R     0.259527  0.119893  0.256918  ... -0.110412 -0.062266  0.032394   \n",
       "F1S     0.141931  0.527893  0.175323  ...  0.026635  0.167284  0.051393   \n",
       "F2R     0.198584  0.123432  0.263416  ...  0.004787  0.133670  0.137993   \n",
       "F2S     0.097297  0.277806  0.281373  ... -0.049294  0.140644  0.221376   \n",
       "F3R     0.298236 -0.190983  0.108280  ... -0.172088 -0.212272 -0.033659   \n",
       "F3S     0.069102  0.250682 -0.112457  ... -0.222590 -0.121295 -0.076678   \n",
       "F4R     1.000000  0.322533  0.184970  ...  0.021602 -0.009432  0.076957   \n",
       "F4S     0.322533  1.000000 -0.013193  ...  0.065975  0.292425  0.050660   \n",
       "F5R     0.184970 -0.013193  1.000000  ...  0.385381  0.477264  0.463289   \n",
       "F5S     0.089621  0.223738  0.769008  ...  0.414721  0.567649  0.281939   \n",
       "F6R     0.228884  0.007711  0.539463  ...  0.008558  0.116601  0.418617   \n",
       "F6S     0.214886  0.147591  0.508130  ... -0.035718  0.109097  0.443938   \n",
       "F7R     0.091294  0.082233  0.390860  ...  0.178291  0.262672  0.252642   \n",
       "F7S     0.020858  0.228286  0.335096  ...  0.149102  0.262755  0.290056   \n",
       "F8R    -0.069232 -0.093899  0.378832  ...  0.410034  0.425715  0.051266   \n",
       "F8S    -0.096288  0.137568  0.300432  ...  0.425851  0.482442  0.000366   \n",
       "F9R     0.172243  0.095840  0.655230  ...  0.675917  0.667658  0.124957   \n",
       "F9S     0.098925  0.374518  0.510249  ...  0.566671  0.749729  0.164668   \n",
       "F10R   -0.023962 -0.151368  0.619103  ...  0.420216  0.414143  0.438904   \n",
       "F10S    0.009829  0.073212  0.625774  ...  0.502398  0.626491  0.446255   \n",
       "F11R    0.110127 -0.114156  0.386234  ...  0.219798  0.204757  0.329308   \n",
       "F11S    0.085446  0.200255  0.364312  ...  0.223027  0.424405  0.236400   \n",
       "F12R   -0.048854 -0.045654  0.002085  ...  0.091819  0.093223  0.146497   \n",
       "F12S   -0.211149  0.166191 -0.190124  ...  0.041084  0.106546 -0.084431   \n",
       "F13R   -0.135343 -0.022384  0.128798  ...  0.409563  0.443302  0.091213   \n",
       "F13S   -0.217249  0.070124 -0.044829  ...  0.209656  0.275341 -0.140635   \n",
       "F14R    0.093808 -0.015875  0.409938  ...  0.556103  0.565681  0.251230   \n",
       "F14S    0.017828  0.195386  0.144558  ...  0.398156  0.502319  0.014938   \n",
       "F15R   -0.008509 -0.004194  0.419786  ...  0.683653  0.663698  0.296437   \n",
       "F15S   -0.043569  0.160004  0.361712  ...  0.539520  0.617670  0.291779   \n",
       "F16R    0.013385  0.128137  0.481844  ...  0.412180  0.476306  0.487602   \n",
       "F16S   -0.102354  0.057228  0.289172  ... -0.047630  0.046893  0.292902   \n",
       "F17R    0.018367 -0.033804  0.104423  ...  0.035879 -0.023651  0.199100   \n",
       "F17S   -0.069977  0.022633 -0.031558  ... -0.118320 -0.078543 -0.075756   \n",
       "F18R    0.021602  0.065975  0.385381  ...  1.000000  0.839740  0.251351   \n",
       "F18S   -0.009432  0.292425  0.477264  ...  0.839740  1.000000  0.340762   \n",
       "F19R    0.076957  0.050660  0.463289  ...  0.251351  0.340762  1.000000   \n",
       "F19S    0.089118  0.206281  0.516904  ...  0.317659  0.509114  0.861543   \n",
       "F20R    0.124195 -0.043832  0.357610  ...  0.393674  0.456430  0.396805   \n",
       "F20S    0.033364  0.307883  0.253032  ...  0.427996  0.608448  0.422615   \n",
       "F21R   -0.112433 -0.119309  0.102060  ...  0.126772  0.177312  0.211406   \n",
       "F21S   -0.260397  0.057758 -0.061584  ...  0.067280  0.168815  0.086726   \n",
       "F22R   -0.194039 -0.000252  0.022569  ...  0.150747  0.263600  0.294886   \n",
       "F22S   -0.264163  0.019310 -0.147706  ...  0.081154  0.157666  0.107689   \n",
       "\n",
       "            F19S      F20R      F20S      F21R      F21S      F22R      F22S  \n",
       "target -0.182488 -0.375311 -0.526152 -0.353954 -0.394695 -0.378077 -0.327979  \n",
       "F1R     0.022848 -0.065124 -0.141432 -0.268222 -0.258516 -0.299482 -0.255024  \n",
       "F1S     0.245041 -0.098247  0.190643 -0.326514 -0.157758 -0.244421 -0.163147  \n",
       "F2R     0.329877  0.237774  0.235111  0.172000  0.115048  0.119397  0.104358  \n",
       "F2S     0.367199  0.224243  0.368773  0.174930  0.168973  0.151582  0.134198  \n",
       "F3R    -0.045265  0.045766 -0.115675  0.256555  0.167622  0.045872  0.081601  \n",
       "F3S    -0.017747 -0.099383  0.144817  0.195776  0.416009  0.118328  0.236851  \n",
       "F4R     0.089118  0.124195  0.033364 -0.112433 -0.260397 -0.194039 -0.264163  \n",
       "F4S     0.206281 -0.043832  0.307883 -0.119309  0.057758 -0.000252  0.019310  \n",
       "F5R     0.516904  0.357610  0.253032  0.102060 -0.061584  0.022569 -0.147706  \n",
       "F5S     0.512073  0.271158  0.352756  0.037426  0.048598  0.053348 -0.002791  \n",
       "F6R     0.476621  0.168130  0.162686  0.149595 -0.022508 -0.001209 -0.104114  \n",
       "F6S     0.580104  0.132160  0.259221  0.062060  0.043201 -0.049558 -0.095047  \n",
       "F7R     0.332821  0.368018  0.320798  0.440235  0.340796  0.304363  0.227597  \n",
       "F7S     0.339373  0.444633  0.477868  0.396484  0.394194  0.372617  0.299642  \n",
       "F8R     0.100711  0.469086  0.256247  0.587241  0.480074  0.484744  0.438458  \n",
       "F8S     0.121202  0.406057  0.365132  0.479365  0.593351  0.449522  0.500739  \n",
       "F9R     0.203692  0.365958  0.293060  0.095665  0.015869  0.058382 -0.012528  \n",
       "F9S     0.329590  0.307379  0.364788  0.072455  0.130434  0.150453  0.120092  \n",
       "F10R    0.423609  0.413829  0.318215  0.324712  0.109176  0.199778  0.032555  \n",
       "F10S    0.646588  0.437724  0.501579  0.213556  0.149853  0.214611  0.074365  \n",
       "F11R    0.310413  0.280060  0.180257 -0.003501 -0.226555 -0.058292 -0.272340  \n",
       "F11S    0.441183  0.285144  0.469211  0.001333  0.056447  0.015320 -0.060478  \n",
       "F12R    0.059700  0.464987  0.253858  0.575499  0.480342  0.559552  0.498379  \n",
       "F12S   -0.055712  0.358375  0.356834  0.477555  0.660179  0.570694  0.668672  \n",
       "F13R    0.100019  0.515376  0.346446  0.704205  0.657111  0.722166  0.676259  \n",
       "F13S   -0.048220  0.378402  0.264166  0.624195  0.773710  0.656879  0.756814  \n",
       "F14R    0.344984  0.385963  0.333031  0.142764  0.041817  0.115607  0.053875  \n",
       "F14S    0.253664  0.258600  0.341688  0.146404  0.228229  0.204907  0.216508  \n",
       "F15R    0.381892  0.613159  0.637446  0.286637  0.173198  0.249148  0.130356  \n",
       "F15S    0.431163  0.493633  0.713246  0.283492  0.223938  0.229126  0.149514  \n",
       "F16R    0.552985  0.375985  0.397866  0.280340  0.188179  0.286740  0.168783  \n",
       "F16S    0.414264  0.204819  0.241436  0.348594  0.323563  0.281880  0.255336  \n",
       "F17R    0.155066  0.073077 -0.059692  0.260055  0.201917  0.299781  0.244768  \n",
       "F17S    0.040475 -0.092778 -0.079265  0.103599  0.252803  0.170607  0.282285  \n",
       "F18R    0.317659  0.393674  0.427996  0.126772  0.067280  0.150747  0.081154  \n",
       "F18S    0.509114  0.456430  0.608448  0.177312  0.168815  0.263600  0.157666  \n",
       "F19R    0.861543  0.396805  0.422615  0.211406  0.086726  0.294886  0.107689  \n",
       "F19S    1.000000  0.390597  0.544374  0.160544  0.090842  0.249694  0.078741  \n",
       "F20R    0.390597  1.000000  0.693415  0.554839  0.384246  0.508381  0.372670  \n",
       "F20S    0.544374  0.693415  1.000000  0.299645  0.360560  0.361448  0.284826  \n",
       "F21R    0.160544  0.554839  0.299645  1.000000  0.817013  0.860834  0.758332  \n",
       "F21S    0.090842  0.384246  0.360560  0.817013  1.000000  0.806692  0.875231  \n",
       "F22R    0.249694  0.508381  0.361448  0.860834  0.806692  1.000000  0.891607  \n",
       "F22S    0.078741  0.372670  0.284826  0.758332  0.875231  0.891607  1.000000  \n",
       "\n",
       "[45 rows x 45 columns]"
      ]
     },
     "execution_count": 14,
     "metadata": {},
     "output_type": "execute_result"
    }
   ],
   "source": [
    "correlation"
   ]
  },
  {
   "cell_type": "markdown",
   "metadata": {
    "colab_type": "text",
    "id": "tsTrRTCk2JfJ"
   },
   "source": [
    "There is no correlation among many columns.  <br>"
   ]
  },
  {
   "cell_type": "code",
   "execution_count": 15,
   "metadata": {
    "colab": {},
    "colab_type": "code",
    "id": "v-gAUqNm2JfK",
    "outputId": "a939e119-4bb3-4fa1-c91c-669297374495"
   },
   "outputs": [
    {
     "data": {
      "text/plain": [
       "array([[<matplotlib.axes._subplots.AxesSubplot object at 0x0000028728FD9438>,\n",
       "        <matplotlib.axes._subplots.AxesSubplot object at 0x0000028728FF0668>,\n",
       "        <matplotlib.axes._subplots.AxesSubplot object at 0x0000028729015F28>,\n",
       "        <matplotlib.axes._subplots.AxesSubplot object at 0x000002872903E8D0>,\n",
       "        <matplotlib.axes._subplots.AxesSubplot object at 0x000002872A2BB278>],\n",
       "       [<matplotlib.axes._subplots.AxesSubplot object at 0x000002872A2DDBE0>,\n",
       "        <matplotlib.axes._subplots.AxesSubplot object at 0x000002872A306588>,\n",
       "        <matplotlib.axes._subplots.AxesSubplot object at 0x000002872A32EF28>,\n",
       "        <matplotlib.axes._subplots.AxesSubplot object at 0x000002872A32EF60>,\n",
       "        <matplotlib.axes._subplots.AxesSubplot object at 0x000002872A389240>],\n",
       "       [<matplotlib.axes._subplots.AxesSubplot object at 0x000002872A3AFBA8>,\n",
       "        <matplotlib.axes._subplots.AxesSubplot object at 0x000002872A3DB550>,\n",
       "        <matplotlib.axes._subplots.AxesSubplot object at 0x000002872A402EB8>,\n",
       "        <matplotlib.axes._subplots.AxesSubplot object at 0x000002872A42E860>,\n",
       "        <matplotlib.axes._subplots.AxesSubplot object at 0x000002872A45E208>],\n",
       "       [<matplotlib.axes._subplots.AxesSubplot object at 0x000002872A481B70>,\n",
       "        <matplotlib.axes._subplots.AxesSubplot object at 0x000002872A4B0518>,\n",
       "        <matplotlib.axes._subplots.AxesSubplot object at 0x000002872A4D5E80>,\n",
       "        <matplotlib.axes._subplots.AxesSubplot object at 0x000002872A504828>,\n",
       "        <matplotlib.axes._subplots.AxesSubplot object at 0x000002872A5321D0>],\n",
       "       [<matplotlib.axes._subplots.AxesSubplot object at 0x000002872A558B38>,\n",
       "        <matplotlib.axes._subplots.AxesSubplot object at 0x000002872A5844E0>,\n",
       "        <matplotlib.axes._subplots.AxesSubplot object at 0x0000028728F79DD8>,\n",
       "        <matplotlib.axes._subplots.AxesSubplot object at 0x000002872A5AA780>,\n",
       "        <matplotlib.axes._subplots.AxesSubplot object at 0x000002872A5D6128>],\n",
       "       [<matplotlib.axes._subplots.AxesSubplot object at 0x000002872A5FCA90>,\n",
       "        <matplotlib.axes._subplots.AxesSubplot object at 0x000002872A62B438>,\n",
       "        <matplotlib.axes._subplots.AxesSubplot object at 0x000002872A650DA0>,\n",
       "        <matplotlib.axes._subplots.AxesSubplot object at 0x000002872A67F748>,\n",
       "        <matplotlib.axes._subplots.AxesSubplot object at 0x000002872A6AD0F0>],\n",
       "       [<matplotlib.axes._subplots.AxesSubplot object at 0x000002872A6D0A58>,\n",
       "        <matplotlib.axes._subplots.AxesSubplot object at 0x000002872A701400>,\n",
       "        <matplotlib.axes._subplots.AxesSubplot object at 0x000002872A726D68>,\n",
       "        <matplotlib.axes._subplots.AxesSubplot object at 0x000002872A755710>,\n",
       "        <matplotlib.axes._subplots.AxesSubplot object at 0x000002872A7840B8>],\n",
       "       [<matplotlib.axes._subplots.AxesSubplot object at 0x000002872A7A9A20>,\n",
       "        <matplotlib.axes._subplots.AxesSubplot object at 0x000002872A7D73C8>,\n",
       "        <matplotlib.axes._subplots.AxesSubplot object at 0x000002872A7FFD30>,\n",
       "        <matplotlib.axes._subplots.AxesSubplot object at 0x000002872A82F6D8>,\n",
       "        <matplotlib.axes._subplots.AxesSubplot object at 0x000002872A85D080>],\n",
       "       [<matplotlib.axes._subplots.AxesSubplot object at 0x000002872A8829E8>,\n",
       "        <matplotlib.axes._subplots.AxesSubplot object at 0x000002872A8B1390>,\n",
       "        <matplotlib.axes._subplots.AxesSubplot object at 0x000002872A8D7CF8>,\n",
       "        <matplotlib.axes._subplots.AxesSubplot object at 0x000002872A9046A0>,\n",
       "        <matplotlib.axes._subplots.AxesSubplot object at 0x000002872A933048>]],\n",
       "      dtype=object)"
      ]
     },
     "execution_count": 15,
     "metadata": {},
     "output_type": "execute_result"
    },
    {
     "data": {
      "image/png": "[encoded data removed]",
      "text/plain": [
       "<Figure size 864x2160 with 45 Axes>"
      ]
     },
     "metadata": {},
     "output_type": "display_data"
    }
   ],
   "source": [
    "spectf_df.hist(bins=10, figsize=(12,30), layout=(9,5))"
   ]
  },
  {
   "cell_type": "markdown",
   "metadata": {
    "colab_type": "text",
    "id": "O5khe_dQ2JfO"
   },
   "source": [
    "A lot of histograms have the same range and follow normal distribution."
   ]
  },
  {
   "cell_type": "markdown",
   "metadata": {
    "colab_type": "text",
    "id": "UXAvkGZV2JfP"
   },
   "source": [
    "### 4. Splitting labels and features   <a id='split'>"
   ]
  },
  {
   "cell_type": "code",
   "execution_count": 16,
   "metadata": {
    "colab": {},
    "colab_type": "code",
    "id": "0zXtZAjd2JfQ"
   },
   "outputs": [],
   "source": [
    "target = spectf_df['target']\n",
    "spectf_df.drop('target',axis=1,inplace=True)"
   ]
  },
  {
   "cell_type": "code",
   "execution_count": 17,
   "metadata": {
    "colab": {},
    "colab_type": "code",
    "id": "lxCVoetx2JfS",
    "outputId": "6c9b5c94-08f7-487a-ca47-1472fab62009"
   },
   "outputs": [
    {
     "data": {
      "text/plain": [
       "(80, 44)"
      ]
     },
     "execution_count": 17,
     "metadata": {},
     "output_type": "execute_result"
    }
   ],
   "source": [
    "spectf_df.shape"
   ]
  },
  {
   "cell_type": "code",
   "execution_count": 18,
   "metadata": {
    "colab": {},
    "colab_type": "code",
    "id": "NNOOzBja2JfW"
   },
   "outputs": [],
   "source": [
    "target_t = spectf_test['target']\n",
    "spectf_test.drop('target',axis=1,inplace=True)"
   ]
  },
  {
   "cell_type": "code",
   "execution_count": 19,
   "metadata": {
    "colab": {},
    "colab_type": "code",
    "id": "reMZ338e2JfX",
    "outputId": "16de9481-4303-4b31-826d-5c14e5a6bda6"
   },
   "outputs": [
    {
     "data": {
      "text/plain": [
       "(187, 44)"
      ]
     },
     "execution_count": 19,
     "metadata": {},
     "output_type": "execute_result"
    }
   ],
   "source": [
    "spectf_test.shape"
   ]
  },
  {
   "cell_type": "code",
   "execution_count": 20,
   "metadata": {
    "colab": {},
    "colab_type": "code",
    "id": "_tgZUum42Jfb",
    "outputId": "4c67ce38-0c6d-47e8-faa7-773d6bf6abc5"
   },
   "outputs": [
    {
     "data": {
      "text/plain": [
       "1    172\n",
       "0     15\n",
       "Name: target, dtype: int64"
      ]
     },
     "execution_count": 20,
     "metadata": {},
     "output_type": "execute_result"
    }
   ],
   "source": [
    "target_t.value_counts()"
   ]
  },
  {
   "cell_type": "markdown",
   "metadata": {
    "colab_type": "text",
    "id": "NWKQmVme2Jfd"
   },
   "source": [
    "### 5. Normalizing the input columns   <a id='normalize'>\n",
    "Most of the distribution of columns follow normal distribution. Hence we can scale them using Standard Scaler to preprocess the data.\n",
    "\n",
    "Standard Scaler standardize features by removing the mean and scaling to unit variance.<br>\n",
    "Each value is reduced using the following formula\n",
    "$$ z = \\frac {x - \\mu}{\\sigma}  $$\n",
    "Where x is the value,  <br>\n",
    "$\\mu$ is the mean of that columns,  <br>\n",
    "$\\sigma$ is the standard deviation of that columns."
   ]
  },
  {
   "cell_type": "code",
   "execution_count": 21,
   "metadata": {
    "colab": {},
    "colab_type": "code",
    "id": "aG06nLfX2Jfd"
   },
   "outputs": [
    {
     "name": "stderr",
     "output_type": "stream",
     "text": [
      "C:\\ProgramData\\Anaconda3\\lib\\site-packages\\sklearn\\preprocessing\\data.py:645: DataConversionWarning: Data with input dtype int64 were all converted to float64 by StandardScaler.\n",
      "  return self.partial_fit(X, y)\n",
      "C:\\ProgramData\\Anaconda3\\lib\\site-packages\\sklearn\\base.py:464: DataConversionWarning: Data with input dtype int64 were all converted to float64 by StandardScaler.\n",
      "  return self.fit(X, **fit_params).transform(X)\n",
      "C:\\ProgramData\\Anaconda3\\lib\\site-packages\\sklearn\\preprocessing\\data.py:645: DataConversionWarning: Data with input dtype int64 were all converted to float64 by StandardScaler.\n",
      "  return self.partial_fit(X, y)\n",
      "C:\\ProgramData\\Anaconda3\\lib\\site-packages\\sklearn\\base.py:464: DataConversionWarning: Data with input dtype int64 were all converted to float64 by StandardScaler.\n",
      "  return self.fit(X, **fit_params).transform(X)\n"
     ]
    }
   ],
   "source": [
    "# Scaling the Train and Test data\n",
    "\n",
    "from sklearn.preprocessing import StandardScaler\n",
    "scaler=StandardScaler()\n",
    "spect_df = scaler.fit_transform(spectf_df)\n",
    "spect_test = scaler.fit_transform(spectf_test)"
   ]
  },
  {
   "cell_type": "code",
   "execution_count": 24,
   "metadata": {
    "colab": {},
    "colab_type": "code",
    "id": "Z0LneV9K2Jfh",
    "outputId": "350afc13-c584-4b5e-ff6d-9f9bc2730403"
   },
   "outputs": [
    {
     "data": {
      "text/plain": [
       "array([[-1.73592319, -2.27310275,  0.07672715, ...,  0.78938997,\n",
       "         0.74915189,  0.99016585],\n",
       "       [ 0.60262619, -0.81130034, -0.09377763, ...,  0.52330347,\n",
       "         0.00233381,  0.24287087],\n",
       "       [ 0.42273777, -0.81130034,  0.07672715, ..., -2.13756161,\n",
       "        -0.46442749, -0.75352244],\n",
       "       ...,\n",
       "       [-0.29681588, -0.51893986,  0.58824149, ...,  1.32156299,\n",
       "         1.02920866,  1.07319862],\n",
       "       [-0.11692747, -0.37275961,  0.41773671, ..., -0.80712907,\n",
       "         0.18903833, -0.91958799],\n",
       "       [-0.4767043 , -1.98074227, -0.09377763, ...,  0.25721696,\n",
       "         0.28239059,  0.32590364]])"
      ]
     },
     "execution_count": 24,
     "metadata": {},
     "output_type": "execute_result"
    }
   ],
   "source": [
    "spect_df"
   ]
  },
  {
   "cell_type": "code",
   "execution_count": 0,
   "metadata": {
    "colab": {},
    "colab_type": "code",
    "id": "oJKtgxvr2Jfj",
    "outputId": "480d9339-7e47-4f6b-ce4c-f48eb9bc9c46"
   },
   "outputs": [
    {
     "data": {
      "text/plain": [
       "array([[ 0.20940529,  0.41596002,  0.68734602, ...,  0.96547463,\n",
       "         0.59118869,  1.28968911],\n",
       "       [ 1.10446332,  1.00822796,  0.39455854, ..., -0.02516326,\n",
       "         0.44098178,  0.22637971],\n",
       "       [ 1.99952135,  0.02111472, -0.33741018, ...,  0.34632595,\n",
       "        -0.61046658, -0.43818867],\n",
       "       ...,\n",
       "       [ 1.10446332,  0.90951664,  0.54095228, ...,  1.0273895 ,\n",
       "         1.19201632,  1.48905963],\n",
       "       [-0.68565274, -0.17630793,  0.54095228, ...,  1.08930437,\n",
       "         1.41732668,  1.42260279],\n",
       "       [-0.12624147,  0.21853737, -0.04462269, ...,  0.34632595,\n",
       "         0.44098178,  0.35929338]])"
      ]
     },
     "execution_count": 22,
     "metadata": {
      "tags": []
     },
     "output_type": "execute_result"
    }
   ],
   "source": [
    "spect_test"
   ]
  },
  {
   "cell_type": "markdown",
   "metadata": {
    "colab_type": "text",
    "id": "iT4pp37A2Jfn"
   },
   "source": [
    "### 6. Logistic Regression   <a id='lr'>"
   ]
  },
  {
   "cell_type": "code",
   "execution_count": 0,
   "metadata": {
    "colab": {},
    "colab_type": "code",
    "id": "Jl9jeYa72Jfo",
    "outputId": "fa2297b1-341a-42a5-b0e9-4eb6132c7bb4"
   },
   "outputs": [
    {
     "name": "stdout",
     "output_type": "stream",
     "text": [
      "Time taken to train Logistic Regression:  0.002499818801879883\n"
     ]
    }
   ],
   "source": [
    "# train a logistic regression model on the training set\n",
    "from sklearn.linear_model import LogisticRegression\n",
    "\n",
    "# instantiate model\n",
    "logreg = LogisticRegression()  \n",
    "\n",
    "# Start time\n",
    "start = time.time()\n",
    "# fit model\n",
    "logreg.fit(spect_df, target)\n",
    "# End time\n",
    "end = time.time()\n",
    "\n",
    "training_time = end-start\n",
    "print(\"Time taken to train Logistic Regression: \", training_time)"
   ]
  },
  {
   "cell_type": "code",
   "execution_count": 0,
   "metadata": {
    "colab": {},
    "colab_type": "code",
    "collapsed": true,
    "id": "4I9zOwbf2Jfr"
   },
   "outputs": [],
   "source": [
    "# make class predictions for the testing set\n",
    "y_pred_class = logreg.predict(spect_test)"
   ]
  },
  {
   "cell_type": "code",
   "execution_count": 0,
   "metadata": {
    "colab": {},
    "colab_type": "code",
    "id": "UqrEgeIv2Jfu",
    "outputId": "7c3bbea5-d24f-4dd9-adc9-7e41d523c0ff"
   },
   "outputs": [
    {
     "name": "stdout",
     "output_type": "stream",
     "text": [
      "0.5240641711229946\n"
     ]
    }
   ],
   "source": [
    "# calculate accuracy and other metrics\n",
    "from sklearn import metrics\n",
    "\n",
    "print(metrics.accuracy_score(target_t, y_pred_class))"
   ]
  },
  {
   "cell_type": "code",
   "execution_count": 0,
   "metadata": {
    "colab": {},
    "colab_type": "code",
    "id": "yjYr0sEr2Jfx",
    "outputId": "deb42ed3-f21f-4cbf-f1bd-1ef8f92e1222"
   },
   "outputs": [
    {
     "name": "stdout",
     "output_type": "stream",
     "text": [
      "             precision    recall  f1-score   support\n",
      "\n",
      "          0       0.13      0.87      0.23        15\n",
      "          1       0.98      0.49      0.66       172\n",
      "\n",
      "avg / total       0.91      0.52      0.62       187\n",
      "\n"
     ]
    }
   ],
   "source": [
    "print (metrics.classification_report(target_t, y_pred_class))"
   ]
  },
  {
   "cell_type": "code",
   "execution_count": 0,
   "metadata": {
    "colab": {},
    "colab_type": "code",
    "id": "ZvS_hXX22Jf1",
    "outputId": "b8fb029d-7807-4bed-a6d3-b4898ae8129f"
   },
   "outputs": [
    {
     "name": "stdout",
     "output_type": "stream",
     "text": [
      "[[13  2]\n",
      " [87 85]]\n"
     ]
    }
   ],
   "source": [
    "print(metrics.confusion_matrix(target_t,y_pred_class))"
   ]
  },
  {
   "cell_type": "markdown",
   "metadata": {
    "colab_type": "text",
    "id": "gYToxz3a2Jf4"
   },
   "source": [
    "### Applying PCA to logistic regression model   <a id='pcalr'>"
   ]
  },
  {
   "cell_type": "code",
   "execution_count": 0,
   "metadata": {
    "colab": {},
    "colab_type": "code",
    "id": "4m785xRv2Jf4",
    "outputId": "18cdca9f-7884-44ac-f29e-ae04150d3402"
   },
   "outputs": [
    {
     "data": {
      "text/plain": [
       "PCA(copy=True, n_components=None, whiten=False)"
      ]
     },
     "execution_count": 28,
     "metadata": {
      "tags": []
     },
     "output_type": "execute_result"
    }
   ],
   "source": [
    "# Fitting the PCA on the data\n",
    "\n",
    "from sklearn.decomposition import PCA\n",
    "pca = PCA()\n",
    "pca.fit(spect_df)"
   ]
  },
  {
   "cell_type": "code",
   "execution_count": 0,
   "metadata": {
    "colab": {},
    "colab_type": "code",
    "id": "O_GWUMnN2Jf6",
    "outputId": "020a2638-d920-4a28-8fba-2d3c51032204"
   },
   "outputs": [
    {
     "data": {
      "text/plain": [
       "0.893476015325651"
      ]
     },
     "execution_count": 29,
     "metadata": {
      "tags": []
     },
     "output_type": "execute_result"
    }
   ],
   "source": [
    "# Minimum number of components for which the variance is 90% is 15\n",
    "\n",
    "pca.explained_variance_ratio_[:15].sum()"
   ]
  },
  {
   "cell_type": "code",
   "execution_count": 0,
   "metadata": {
    "colab": {},
    "colab_type": "code",
    "id": "RWICcIU82Jf9",
    "outputId": "c7e739e7-5662-466c-aa2f-067692fb6125"
   },
   "outputs": [
    {
     "data": {
      "text/plain": [
       "Text(15,0.9,'15')"
      ]
     },
     "execution_count": 30,
     "metadata": {
      "tags": []
     },
     "output_type": "execute_result"
    },
    {
     "data": {
      "image/png": "[encoded data removed]",
      "text/plain": [
       "<Figure size 432x288 with 1 Axes>"
      ]
     },
     "metadata": {
      "tags": []
     },
     "output_type": "display_data"
    }
   ],
   "source": [
    "# Plotting relation between components and variance\n",
    "\n",
    "plt.plot(np.cumsum(pca.explained_variance_ratio_))\n",
    "plt.xlabel('Number of components')\n",
    "plt.ylabel('Cumulative explained variance')\n",
    "plt.annotate('15',xy=(15, .90))"
   ]
  },
  {
   "cell_type": "code",
   "execution_count": 0,
   "metadata": {
    "colab": {},
    "colab_type": "code",
    "id": "3ad5iDN62JgB"
   },
   "outputs": [],
   "source": [
    "# consider first 15 components as they are explaining the 90% of variation in the data\n",
    "\n",
    "x_pca = PCA(n_components=15)\n",
    "spect_df_pca = x_pca.fit_transform(spect_df)\n",
    "spect_test_pca = x_pca.fit_transform(spect_test)"
   ]
  },
  {
   "cell_type": "code",
   "execution_count": 0,
   "metadata": {
    "colab": {},
    "colab_type": "code",
    "id": "mrWyn8eB2JgD",
    "outputId": "9681b900-37bc-47b9-d158-a2a9ba6de00c"
   },
   "outputs": [
    {
     "data": {
      "text/plain": [
       "Text(0.5,1,'Correlation between different features')"
      ]
     },
     "execution_count": 49,
     "metadata": {
      "tags": []
     },
     "output_type": "execute_result"
    },
    {
     "data": {
      "image/png": "[encoded data removed]",
      "text/plain": [
       "<Figure size 432x288 with 2 Axes>"
      ]
     },
     "metadata": {
      "tags": []
     },
     "output_type": "display_data"
    }
   ],
   "source": [
    "# correlation between the variables after transforming the data with PCA is 0\n",
    "\n",
    "correlation = pd.DataFrame(spect_df_pca).corr()\n",
    "sns.heatmap(correlation, vmax=1, square=True,cmap='viridis')\n",
    "plt.title('Correlation between different features')"
   ]
  },
  {
   "cell_type": "markdown",
   "metadata": {
    "colab_type": "text",
    "id": "gl1vi1Ir2JgJ"
   },
   "source": [
    "After PCA, there is no correlation among any components."
   ]
  },
  {
   "cell_type": "code",
   "execution_count": 0,
   "metadata": {
    "colab": {},
    "colab_type": "code",
    "id": "p6a_OgO22JgK",
    "outputId": "edc2fc6b-914f-473c-fc6b-2a33171e2cad"
   },
   "outputs": [
    {
     "name": "stdout",
     "output_type": "stream",
     "text": [
      "Time required to train a Logistic Regression after PCA:  0.018100261688232422\n"
     ]
    }
   ],
   "source": [
    "# train a logistic regression model on the training set\n",
    "from sklearn.linear_model import LogisticRegression\n",
    "\n",
    "# instantiate model\n",
    "pca_logreg = LogisticRegression(class_weight='balanced')\n",
    "\n",
    "start = time.time()\n",
    "# fit model\n",
    "pca_logreg.fit(spect_df_pca, target)\n",
    "end = time.time()\n",
    "training_time = end-start\n",
    "print(\"Time required to train a Logistic Regression after PCA: \", training_time)"
   ]
  },
  {
   "cell_type": "markdown",
   "metadata": {
    "colab_type": "text",
    "id": "XCFf4AtI2JgN"
   },
   "source": [
    "** Observation**\n",
    "\n",
    "Here we observed that after PCA, the training time has reduced slightly. <br>\n",
    "The original dataset had 45 features to train the model.  <br>\n",
    "After PCA, we are only using 15 features which takes less time to train."
   ]
  },
  {
   "cell_type": "code",
   "execution_count": 0,
   "metadata": {
    "colab": {},
    "colab_type": "code",
    "id": "KQdg-xu62JgO"
   },
   "outputs": [],
   "source": [
    "# make class predictions for the testing set\n",
    "y_pred_class_pca = pca_logreg.predict(spect_test_pca)"
   ]
  },
  {
   "cell_type": "code",
   "execution_count": 0,
   "metadata": {
    "colab": {},
    "colab_type": "code",
    "id": "Mcchbvcy2JgS",
    "outputId": "da09b620-6a5f-400c-b3e9-796dc2a0bcc7",
    "scrolled": true
   },
   "outputs": [
    {
     "name": "stdout",
     "output_type": "stream",
     "text": [
      "0.4919786096256685\n"
     ]
    }
   ],
   "source": [
    "# calculate accuracy\n",
    "print(metrics.accuracy_score(target_t, y_pred_class_pca))\n"
   ]
  },
  {
   "cell_type": "code",
   "execution_count": 0,
   "metadata": {
    "colab": {},
    "colab_type": "code",
    "id": "ygtAtUqj2JgU",
    "outputId": "d8d3a424-a61f-410d-c1f2-e9970dbc705f"
   },
   "outputs": [
    {
     "name": "stdout",
     "output_type": "stream",
     "text": [
      "             precision    recall  f1-score   support\n",
      "\n",
      "          0       0.12      0.87      0.21        15\n",
      "          1       0.98      0.46      0.62       172\n",
      "\n",
      "avg / total       0.91      0.49      0.59       187\n",
      "\n"
     ]
    }
   ],
   "source": [
    "print (metrics.classification_report(target_t, y_pred_class_pca))"
   ]
  },
  {
   "cell_type": "code",
   "execution_count": 0,
   "metadata": {
    "colab": {},
    "colab_type": "code",
    "id": "6bfyXxyL2JgX",
    "outputId": "c62db227-c33d-4b6d-9d1b-f615dc9175fb"
   },
   "outputs": [
    {
     "name": "stdout",
     "output_type": "stream",
     "text": [
      "[[13  2]\n",
      " [93 79]]\n"
     ]
    }
   ],
   "source": [
    "print(metrics.confusion_matrix(target_t,y_pred_class_pca))"
   ]
  },
  {
   "cell_type": "markdown",
   "metadata": {
    "colab_type": "text",
    "id": "MmiAkeAB2JgZ"
   },
   "source": [
    "### Random Forest   <a id='rf'>"
   ]
  },
  {
   "cell_type": "code",
   "execution_count": 0,
   "metadata": {
    "colab": {},
    "colab_type": "code",
    "id": "HQ69xZFe2Jga",
    "outputId": "6adbd66b-930f-4498-a2ec-ca46b6a85a44"
   },
   "outputs": [
    {
     "name": "stdout",
     "output_type": "stream",
     "text": [
      "Time required to train Random Forest Model:  0.04680013656616211\n"
     ]
    }
   ],
   "source": [
    "from sklearn.ensemble import RandomForestClassifier\n",
    "rf_clf=RandomForestClassifier(max_depth = 5, min_samples_split=2, n_estimators = 20, random_state = 103)\n",
    "\n",
    "start = time.time()\n",
    "rf_model=rf_clf.fit(spect_df,target)\n",
    "end = time.time()\n",
    "training_time = end-start\n",
    "print(\"Time required to train Random Forest Model: \", training_time)\n",
    "\n",
    "rf_prediction = rf_model.predict(spect_test)"
   ]
  },
  {
   "cell_type": "code",
   "execution_count": 0,
   "metadata": {
    "colab": {},
    "colab_type": "code",
    "id": "PKzGFRo02Jgl",
    "outputId": "3de0024d-9e9b-4261-e8d8-9ed00822c097"
   },
   "outputs": [
    {
     "name": "stdout",
     "output_type": "stream",
     "text": [
      "0.47058823529411764\n"
     ]
    }
   ],
   "source": [
    "#calculate accuracy and other metrics\n",
    "print(metrics.accuracy_score(target_t,rf_prediction))"
   ]
  },
  {
   "cell_type": "code",
   "execution_count": 0,
   "metadata": {
    "colab": {},
    "colab_type": "code",
    "id": "3o0H97wu2Jgp",
    "outputId": "7d8ca205-ec9c-4d33-a289-6b9825b87a55"
   },
   "outputs": [
    {
     "name": "stdout",
     "output_type": "stream",
     "text": [
      "             precision    recall  f1-score   support\n",
      "\n",
      "          0       0.12      0.87      0.21        15\n",
      "          1       0.98      0.46      0.62       172\n",
      "\n",
      "avg / total       0.91      0.49      0.59       187\n",
      "\n"
     ]
    }
   ],
   "source": [
    "print(metrics.classification_report(target_t,y_pred_class_pca))"
   ]
  },
  {
   "cell_type": "code",
   "execution_count": 0,
   "metadata": {
    "colab": {},
    "colab_type": "code",
    "id": "ynUANIZo2Jgu",
    "outputId": "29f396f4-c429-4e72-fb76-036603960470"
   },
   "outputs": [
    {
     "name": "stdout",
     "output_type": "stream",
     "text": [
      "[[13  2]\n",
      " [93 79]]\n"
     ]
    }
   ],
   "source": [
    "print(metrics.confusion_matrix(target_t,y_pred_class_pca))"
   ]
  },
  {
   "cell_type": "markdown",
   "metadata": {
    "colab_type": "text",
    "id": "9LJPz1ub2Jgy"
   },
   "source": [
    "### Applying PCA to Random Forest model   <a id='pcarf'>"
   ]
  },
  {
   "cell_type": "code",
   "execution_count": 0,
   "metadata": {
    "colab": {},
    "colab_type": "code",
    "id": "3jjv5VH92Jg0",
    "outputId": "31b001b5-fd89-4d55-a185-253eec94c452"
   },
   "outputs": [
    {
     "name": "stdout",
     "output_type": "stream",
     "text": [
      "Time required to train a Random Forest model after PCA is : 0.04250073432922363\n"
     ]
    }
   ],
   "source": [
    "rfClassifier=RandomForestClassifier(max_depth = 5, min_samples_split=2, n_estimators = 20, random_state = 103)\n",
    "\n",
    "start = time.time()\n",
    "rfClassifier.fit(spect_df_pca,target)\n",
    "end = time.time()\n",
    "training_time = end-start\n",
    "print(\"Time required to train a Random Forest model after PCA is :\", training_time)\n"
   ]
  },
  {
   "cell_type": "markdown",
   "metadata": {
    "colab_type": "text",
    "id": "b-bU3M3J2Jg4"
   },
   "source": [
    "**Observation**\n",
    "\n",
    "Again we have observed that after PCA, the training time has reduced."
   ]
  },
  {
   "cell_type": "code",
   "execution_count": 0,
   "metadata": {
    "colab": {},
    "colab_type": "code",
    "id": "HgK8T-hL2Jg5",
    "outputId": "0c137b81-0399-42dd-df42-97ed3cb6f02a"
   },
   "outputs": [
    {
     "name": "stdout",
     "output_type": "stream",
     "text": [
      "0.5080213903743316\n"
     ]
    }
   ],
   "source": [
    "# Now test the model\n",
    "# Consider first 15 components as they are explaining the 90% of variation in the data\n",
    "test_pred = rfClassifier.predict(spect_test_pca)\n",
    "#calculate accuracy and other metrics\n",
    "print(metrics.accuracy_score(target_t,test_pred))\n"
   ]
  },
  {
   "cell_type": "code",
   "execution_count": 0,
   "metadata": {
    "colab": {},
    "colab_type": "code",
    "id": "xi1B5YuB2Jg8",
    "outputId": "85ab4897-edaa-4fa1-ac34-c6b66f21bcfb"
   },
   "outputs": [
    {
     "name": "stdout",
     "output_type": "stream",
     "text": [
      "             precision    recall  f1-score   support\n",
      "\n",
      "          0       0.12      0.80      0.21        15\n",
      "          1       0.97      0.48      0.64       172\n",
      "\n",
      "avg / total       0.90      0.51      0.61       187\n",
      "\n"
     ]
    }
   ],
   "source": [
    "print(metrics.classification_report(target_t,test_pred))"
   ]
  },
  {
   "cell_type": "code",
   "execution_count": 0,
   "metadata": {
    "colab": {},
    "colab_type": "code",
    "id": "aYuyuW9f2Jg_",
    "outputId": "4019737b-c533-49ef-f139-6050577c1732"
   },
   "outputs": [
    {
     "name": "stdout",
     "output_type": "stream",
     "text": [
      "[[12  3]\n",
      " [89 83]]\n"
     ]
    }
   ],
   "source": [
    "print(metrics.confusion_matrix(target_t,test_pred))"
   ]
  },
  {
   "cell_type": "markdown",
   "metadata": {
    "colab_type": "text",
    "id": "9mXdIurl2JhE"
   },
   "source": [
    "PCA is generally used for visualizing high dimensional data, or to speed up Machine Learning algorithms."
   ]
  },
  {
   "cell_type": "markdown",
   "metadata": {
    "colab_type": "text",
    "collapsed": true,
    "id": "peK-A_lR2JhG"
   },
   "source": [
    "### The End"
   ]
  }
 ],
 "metadata": {
  "colab": {
   "name": "attachment_attachment_Spectf_PCA__1_.ipynb",
   "provenance": [],
   "version": "0.3.2"
  },
  "kernelspec": {
   "display_name": "Python 3",
   "language": "python",
   "name": "python3"
  },
  "language_info": {
   "codemirror_mode": {
    "name": "ipython",
    "version": 3
   },
   "file_extension": ".py",
   "mimetype": "text/x-python",
   "name": "python",
   "nbconvert_exporter": "python",
   "pygments_lexer": "ipython3",
   "version": "3.7.4"
  }
 },
 "nbformat": 4,
 "nbformat_minor": 1
}
