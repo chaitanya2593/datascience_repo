{
 "cells": [
  {
   "cell_type": "markdown",
   "metadata": {
    "colab_type": "text",
    "id": "kV8AAfOX3ZbX"
   },
   "source": [
    "<img height=\"60\" width=\"120\" src=\"https://shwetkm.github.io/upxlogo.png\"></img>\n",
    "# UpX Academy - Machine Learning Track\n",
    "# Decision Trees & Random Forest"
   ]
  },
  {
   "cell_type": "markdown",
   "metadata": {
    "colab_type": "text",
    "collapsed": true,
    "id": "stuVTahQ3Zbc"
   },
   "source": [
    "### Table of Contents\n",
    "\n",
    "1. [Dataset Description](#titanic)\n",
    "2. [Importing the packages and dataset](#packages)\n",
    "3. [Exploring the dataset](#explore)\n",
    "4. [Feature Engineering](#fe)\n",
    "5. [Decision Tree](#dt)\n",
    "     - 5.1 [Training Decision Tree Model](#tdt)\n",
    "     - 5.2 [Predictions from Decision Tree Model](#pdt)\n",
    "     - 5.3 [Evaluating the Decision Tree Model](#edt)\n",
    "     - 5.4 [Parameter Tuning](#ptdt)\n",
    "6. [Random Forest](#rf)\n",
    "     - 6.1 [Training Random Forest Model](#trf)\n",
    "     - 6.2 [Predictions from Random Forest Model](#prf)\n",
    "     - 6.3 [Evaluating the Random Forest Model](#erf)\n",
    "7. [Appendix](#appendix)"
   ]
  },
  {
   "cell_type": "markdown",
   "metadata": {
    "colab_type": "text",
    "id": "19b7R1Je3Zbe"
   },
   "source": [
    "## Titanic Dataset  "
   ]
  },
  {
   "cell_type": "markdown",
   "metadata": {
    "colab_type": "text",
    "id": "LeTjhIR83Zbh"
   },
   "source": [
    "### 1. Dataset Description  <a id='titanic'>\n",
    "\n",
    "The sinking of the RMS Titanic is one of the most infamous shipwrecks in history. On April 15, 1912, during her maiden voyage, the Titanic sank after colliding with an iceberg, killing 1502 out of 2224 passengers and crew. This sensational tragedy shocked the international community and led to better safety regulations for ships.\n",
    "\n",
    "** Problem Statement ** : We have been provided records of 891 passengers aboard titanic along with information about their age, gender, ticket, fare...etc. \n",
    "\n",
    "** Objective **\n",
    "In this contest, we will to apply the tools of machine learning to predict which passengers survived the tragedy.\n",
    "\n",
    "**Column Descriptions**\n",
    "- PassengerId: type should be integers\n",
    "- Survived: Survived or Not\n",
    "- Pclass: Class of Travel\n",
    "- Name: Name of Passenger\n",
    "- Sex: Gender\n",
    "- Age\n",
    "- SibSp: Number of Sibling/Spouse abord\n",
    "- ParchNumber of Parent/Child abord\n",
    "- Ticket\n",
    "- Fare\n",
    "- Cabin\n",
    "- Embarked: The port in which a passenger has embarked. C - Cherbourg, S - Southampton, Q = Queenstown"
   ]
  },
  {
   "cell_type": "markdown",
   "metadata": {
    "colab_type": "text",
    "id": "WSxsyu-f3Zbj"
   },
   "source": [
    "### 2. Importing the packages and dataset  <a id='packages'>"
   ]
  },
  {
   "cell_type": "code",
   "execution_count": 0,
   "metadata": {
    "colab": {},
    "colab_type": "code",
    "id": "1vHzlBdk3Zbl"
   },
   "outputs": [],
   "source": [
    "x"
   ]
  },
  {
   "cell_type": "code",
   "execution_count": 0,
   "metadata": {
    "colab": {},
    "colab_type": "code",
    "id": "4FHeONZZ3Zbs"
   },
   "outputs": [],
   "source": [
    "# Importing the packages\n",
    "import pandas as pd\n",
    "import numpy as np\n",
    "import matplotlib.pyplot as plt\n",
    "% matplotlib inline"
   ]
  },
  {
   "cell_type": "code",
   "execution_count": 0,
   "metadata": {
    "colab": {},
    "colab_type": "code",
    "id": "XU1bhMMY3Zbw"
   },
   "outputs": [],
   "source": [
    "import seaborn as sns"
   ]
  },
  {
   "cell_type": "code",
   "execution_count": 0,
   "metadata": {
    "colab": {},
    "colab_type": "code",
    "id": "S58gb3Gk3Zb1"
   },
   "outputs": [],
   "source": [
    "# Importing the train and test datasets\n",
    "train_df = pd.read_csv(your_local_path+\"titanic.csv\")\n",
    "test_df = pd.read_csv(your_local_path+\"titanic_test.csv\")"
   ]
  },
  {
   "cell_type": "markdown",
   "metadata": {
    "colab_type": "text",
    "id": "5I4_o4Hb3Zb6"
   },
   "source": [
    "### 3. Exploring the dataset  <a id='explore'>"
   ]
  },
  {
   "cell_type": "code",
   "execution_count": 0,
   "metadata": {
    "colab": {},
    "colab_type": "code",
    "id": "fVzMx8lq3Zb7",
    "outputId": "dc6fca90-7406-449c-b946-b302346ac38a"
   },
   "outputs": [
    {
     "data": {
      "text/html": [
       "<div>\n",
       "<style scoped>\n",
       "    .dataframe tbody tr th:only-of-type {\n",
       "        vertical-align: middle;\n",
       "    }\n",
       "\n",
       "    .dataframe tbody tr th {\n",
       "        vertical-align: top;\n",
       "    }\n",
       "\n",
       "    .dataframe thead th {\n",
       "        text-align: right;\n",
       "    }\n",
       "</style>\n",
       "<table border=\"1\" class=\"dataframe\">\n",
       "  <thead>\n",
       "    <tr style=\"text-align: right;\">\n",
       "      <th></th>\n",
       "      <th>PassengerId</th>\n",
       "      <th>Survived</th>\n",
       "      <th>Pclass</th>\n",
       "      <th>Name</th>\n",
       "      <th>Sex</th>\n",
       "      <th>Age</th>\n",
       "      <th>SibSp</th>\n",
       "      <th>Parch</th>\n",
       "      <th>Ticket</th>\n",
       "      <th>Fare</th>\n",
       "      <th>Cabin</th>\n",
       "      <th>Embarked</th>\n",
       "    </tr>\n",
       "  </thead>\n",
       "  <tbody>\n",
       "    <tr>\n",
       "      <th>0</th>\n",
       "      <td>1</td>\n",
       "      <td>0</td>\n",
       "      <td>3</td>\n",
       "      <td>Braund, Mr. Owen Harris</td>\n",
       "      <td>male</td>\n",
       "      <td>22.0</td>\n",
       "      <td>1</td>\n",
       "      <td>0</td>\n",
       "      <td>A/5 21171</td>\n",
       "      <td>7.2500</td>\n",
       "      <td>NaN</td>\n",
       "      <td>S</td>\n",
       "    </tr>\n",
       "    <tr>\n",
       "      <th>1</th>\n",
       "      <td>2</td>\n",
       "      <td>1</td>\n",
       "      <td>1</td>\n",
       "      <td>Cumings, Mrs. John Bradley (Florence Briggs Th...</td>\n",
       "      <td>female</td>\n",
       "      <td>38.0</td>\n",
       "      <td>1</td>\n",
       "      <td>0</td>\n",
       "      <td>PC 17599</td>\n",
       "      <td>71.2833</td>\n",
       "      <td>C85</td>\n",
       "      <td>C</td>\n",
       "    </tr>\n",
       "    <tr>\n",
       "      <th>2</th>\n",
       "      <td>3</td>\n",
       "      <td>1</td>\n",
       "      <td>3</td>\n",
       "      <td>Heikkinen, Miss. Laina</td>\n",
       "      <td>female</td>\n",
       "      <td>26.0</td>\n",
       "      <td>0</td>\n",
       "      <td>0</td>\n",
       "      <td>STON/O2. 3101282</td>\n",
       "      <td>7.9250</td>\n",
       "      <td>NaN</td>\n",
       "      <td>S</td>\n",
       "    </tr>\n",
       "    <tr>\n",
       "      <th>3</th>\n",
       "      <td>4</td>\n",
       "      <td>1</td>\n",
       "      <td>1</td>\n",
       "      <td>Futrelle, Mrs. Jacques Heath (Lily May Peel)</td>\n",
       "      <td>female</td>\n",
       "      <td>35.0</td>\n",
       "      <td>1</td>\n",
       "      <td>0</td>\n",
       "      <td>113803</td>\n",
       "      <td>53.1000</td>\n",
       "      <td>C123</td>\n",
       "      <td>S</td>\n",
       "    </tr>\n",
       "    <tr>\n",
       "      <th>4</th>\n",
       "      <td>5</td>\n",
       "      <td>0</td>\n",
       "      <td>3</td>\n",
       "      <td>Allen, Mr. William Henry</td>\n",
       "      <td>male</td>\n",
       "      <td>35.0</td>\n",
       "      <td>0</td>\n",
       "      <td>0</td>\n",
       "      <td>373450</td>\n",
       "      <td>8.0500</td>\n",
       "      <td>NaN</td>\n",
       "      <td>S</td>\n",
       "    </tr>\n",
       "  </tbody>\n",
       "</table>\n",
       "</div>"
      ],
      "text/plain": [
       "   PassengerId  Survived  Pclass  \\\n",
       "0            1         0       3   \n",
       "1            2         1       1   \n",
       "2            3         1       3   \n",
       "3            4         1       1   \n",
       "4            5         0       3   \n",
       "\n",
       "                                                Name     Sex   Age  SibSp  \\\n",
       "0                            Braund, Mr. Owen Harris    male  22.0      1   \n",
       "1  Cumings, Mrs. John Bradley (Florence Briggs Th...  female  38.0      1   \n",
       "2                             Heikkinen, Miss. Laina  female  26.0      0   \n",
       "3       Futrelle, Mrs. Jacques Heath (Lily May Peel)  female  35.0      1   \n",
       "4                           Allen, Mr. William Henry    male  35.0      0   \n",
       "\n",
       "   Parch            Ticket     Fare Cabin Embarked  \n",
       "0      0         A/5 21171   7.2500   NaN        S  \n",
       "1      0          PC 17599  71.2833   C85        C  \n",
       "2      0  STON/O2. 3101282   7.9250   NaN        S  \n",
       "3      0            113803  53.1000  C123        S  \n",
       "4      0            373450   8.0500   NaN        S  "
      ]
     },
     "execution_count": 5,
     "metadata": {
      "tags": []
     },
     "output_type": "execute_result"
    }
   ],
   "source": [
    "train_df.head()"
   ]
  },
  {
   "cell_type": "code",
   "execution_count": 0,
   "metadata": {
    "colab": {},
    "colab_type": "code",
    "id": "lblxATIE3ZcE",
    "outputId": "2bfeb625-3ab6-40f2-f1a8-84ec4ecc247c"
   },
   "outputs": [
    {
     "data": {
      "text/html": [
       "<div>\n",
       "<style scoped>\n",
       "    .dataframe tbody tr th:only-of-type {\n",
       "        vertical-align: middle;\n",
       "    }\n",
       "\n",
       "    .dataframe tbody tr th {\n",
       "        vertical-align: top;\n",
       "    }\n",
       "\n",
       "    .dataframe thead th {\n",
       "        text-align: right;\n",
       "    }\n",
       "</style>\n",
       "<table border=\"1\" class=\"dataframe\">\n",
       "  <thead>\n",
       "    <tr style=\"text-align: right;\">\n",
       "      <th></th>\n",
       "      <th>PassengerId</th>\n",
       "      <th>Pclass</th>\n",
       "      <th>Name</th>\n",
       "      <th>Sex</th>\n",
       "      <th>Age</th>\n",
       "      <th>SibSp</th>\n",
       "      <th>Parch</th>\n",
       "      <th>Ticket</th>\n",
       "      <th>Fare</th>\n",
       "      <th>Cabin</th>\n",
       "      <th>Embarked</th>\n",
       "    </tr>\n",
       "  </thead>\n",
       "  <tbody>\n",
       "    <tr>\n",
       "      <th>0</th>\n",
       "      <td>892</td>\n",
       "      <td>3</td>\n",
       "      <td>Kelly, Mr. James</td>\n",
       "      <td>male</td>\n",
       "      <td>34.5</td>\n",
       "      <td>0</td>\n",
       "      <td>0</td>\n",
       "      <td>330911</td>\n",
       "      <td>7.8292</td>\n",
       "      <td>NaN</td>\n",
       "      <td>Q</td>\n",
       "    </tr>\n",
       "    <tr>\n",
       "      <th>1</th>\n",
       "      <td>893</td>\n",
       "      <td>3</td>\n",
       "      <td>Wilkes, Mrs. James (Ellen Needs)</td>\n",
       "      <td>female</td>\n",
       "      <td>47.0</td>\n",
       "      <td>1</td>\n",
       "      <td>0</td>\n",
       "      <td>363272</td>\n",
       "      <td>7.0000</td>\n",
       "      <td>NaN</td>\n",
       "      <td>S</td>\n",
       "    </tr>\n",
       "    <tr>\n",
       "      <th>2</th>\n",
       "      <td>894</td>\n",
       "      <td>2</td>\n",
       "      <td>Myles, Mr. Thomas Francis</td>\n",
       "      <td>male</td>\n",
       "      <td>62.0</td>\n",
       "      <td>0</td>\n",
       "      <td>0</td>\n",
       "      <td>240276</td>\n",
       "      <td>9.6875</td>\n",
       "      <td>NaN</td>\n",
       "      <td>Q</td>\n",
       "    </tr>\n",
       "    <tr>\n",
       "      <th>3</th>\n",
       "      <td>895</td>\n",
       "      <td>3</td>\n",
       "      <td>Wirz, Mr. Albert</td>\n",
       "      <td>male</td>\n",
       "      <td>27.0</td>\n",
       "      <td>0</td>\n",
       "      <td>0</td>\n",
       "      <td>315154</td>\n",
       "      <td>8.6625</td>\n",
       "      <td>NaN</td>\n",
       "      <td>S</td>\n",
       "    </tr>\n",
       "    <tr>\n",
       "      <th>4</th>\n",
       "      <td>896</td>\n",
       "      <td>3</td>\n",
       "      <td>Hirvonen, Mrs. Alexander (Helga E Lindqvist)</td>\n",
       "      <td>female</td>\n",
       "      <td>22.0</td>\n",
       "      <td>1</td>\n",
       "      <td>1</td>\n",
       "      <td>3101298</td>\n",
       "      <td>12.2875</td>\n",
       "      <td>NaN</td>\n",
       "      <td>S</td>\n",
       "    </tr>\n",
       "  </tbody>\n",
       "</table>\n",
       "</div>"
      ],
      "text/plain": [
       "   PassengerId  Pclass                                          Name     Sex  \\\n",
       "0          892       3                              Kelly, Mr. James    male   \n",
       "1          893       3              Wilkes, Mrs. James (Ellen Needs)  female   \n",
       "2          894       2                     Myles, Mr. Thomas Francis    male   \n",
       "3          895       3                              Wirz, Mr. Albert    male   \n",
       "4          896       3  Hirvonen, Mrs. Alexander (Helga E Lindqvist)  female   \n",
       "\n",
       "    Age  SibSp  Parch   Ticket     Fare Cabin Embarked  \n",
       "0  34.5      0      0   330911   7.8292   NaN        Q  \n",
       "1  47.0      1      0   363272   7.0000   NaN        S  \n",
       "2  62.0      0      0   240276   9.6875   NaN        Q  \n",
       "3  27.0      0      0   315154   8.6625   NaN        S  \n",
       "4  22.0      1      1  3101298  12.2875   NaN        S  "
      ]
     },
     "execution_count": 6,
     "metadata": {
      "tags": []
     },
     "output_type": "execute_result"
    }
   ],
   "source": [
    "test_df.head()"
   ]
  },
  {
   "cell_type": "code",
   "execution_count": 0,
   "metadata": {
    "colab": {},
    "colab_type": "code",
    "id": "c6PKr2n43ZcJ",
    "outputId": "659d396f-4340-4968-d2f1-be1522506e72"
   },
   "outputs": [
    {
     "name": "stdout",
     "output_type": "stream",
     "text": [
      "<class 'pandas.core.frame.DataFrame'>\n",
      "RangeIndex: 891 entries, 0 to 890\n",
      "Data columns (total 12 columns):\n",
      "PassengerId    891 non-null int64\n",
      "Survived       891 non-null int64\n",
      "Pclass         891 non-null int64\n",
      "Name           891 non-null object\n",
      "Sex            891 non-null object\n",
      "Age            714 non-null float64\n",
      "SibSp          891 non-null int64\n",
      "Parch          891 non-null int64\n",
      "Ticket         891 non-null object\n",
      "Fare           891 non-null float64\n",
      "Cabin          204 non-null object\n",
      "Embarked       889 non-null object\n",
      "dtypes: float64(2), int64(5), object(5)\n",
      "memory usage: 83.6+ KB\n"
     ]
    }
   ],
   "source": [
    "train_df.info()"
   ]
  },
  {
   "cell_type": "markdown",
   "metadata": {
    "colab_type": "text",
    "id": "uCKPjTdc3ZcQ"
   },
   "source": [
    "There are some missing values in Age, Cabin, Embarked. <br>\n",
    "There are 891 rows and 12 columns."
   ]
  },
  {
   "cell_type": "code",
   "execution_count": 0,
   "metadata": {
    "colab": {},
    "colab_type": "code",
    "id": "f7INnwAU3ZcR",
    "outputId": "26be37b8-685f-467a-e80a-be108530fbb5"
   },
   "outputs": [
    {
     "name": "stdout",
     "output_type": "stream",
     "text": [
      "<class 'pandas.core.frame.DataFrame'>\n",
      "RangeIndex: 418 entries, 0 to 417\n",
      "Data columns (total 11 columns):\n",
      "PassengerId    418 non-null int64\n",
      "Pclass         418 non-null int64\n",
      "Name           418 non-null object\n",
      "Sex            418 non-null object\n",
      "Age            332 non-null float64\n",
      "SibSp          418 non-null int64\n",
      "Parch          418 non-null int64\n",
      "Ticket         418 non-null object\n",
      "Fare           417 non-null float64\n",
      "Cabin          91 non-null object\n",
      "Embarked       418 non-null object\n",
      "dtypes: float64(2), int64(4), object(5)\n",
      "memory usage: 36.0+ KB\n"
     ]
    }
   ],
   "source": [
    "test_df.info()"
   ]
  },
  {
   "cell_type": "markdown",
   "metadata": {
    "colab_type": "text",
    "id": "LM-d-WxS3ZcX"
   },
   "source": [
    "There are some missing values in Age, Cabin and Fare. <br>\n",
    "There are 418 rows and 12 columns."
   ]
  },
  {
   "cell_type": "markdown",
   "metadata": {
    "colab_type": "text",
    "id": "p-nWI05C3ZcY"
   },
   "source": [
    "** Descriptive Statistics**"
   ]
  },
  {
   "cell_type": "code",
   "execution_count": 0,
   "metadata": {
    "colab": {},
    "colab_type": "code",
    "id": "LU92ek7f3Zca",
    "outputId": "9491c246-983b-4667-e46d-42cf2ada646d"
   },
   "outputs": [
    {
     "data": {
      "text/html": [
       "<div>\n",
       "<style scoped>\n",
       "    .dataframe tbody tr th:only-of-type {\n",
       "        vertical-align: middle;\n",
       "    }\n",
       "\n",
       "    .dataframe tbody tr th {\n",
       "        vertical-align: top;\n",
       "    }\n",
       "\n",
       "    .dataframe thead th {\n",
       "        text-align: right;\n",
       "    }\n",
       "</style>\n",
       "<table border=\"1\" class=\"dataframe\">\n",
       "  <thead>\n",
       "    <tr style=\"text-align: right;\">\n",
       "      <th></th>\n",
       "      <th>PassengerId</th>\n",
       "      <th>Survived</th>\n",
       "      <th>Pclass</th>\n",
       "      <th>Age</th>\n",
       "      <th>SibSp</th>\n",
       "      <th>Parch</th>\n",
       "      <th>Fare</th>\n",
       "    </tr>\n",
       "  </thead>\n",
       "  <tbody>\n",
       "    <tr>\n",
       "      <th>count</th>\n",
       "      <td>891.000000</td>\n",
       "      <td>891.000000</td>\n",
       "      <td>891.000000</td>\n",
       "      <td>714.000000</td>\n",
       "      <td>891.000000</td>\n",
       "      <td>891.000000</td>\n",
       "      <td>891.000000</td>\n",
       "    </tr>\n",
       "    <tr>\n",
       "      <th>mean</th>\n",
       "      <td>446.000000</td>\n",
       "      <td>0.383838</td>\n",
       "      <td>2.308642</td>\n",
       "      <td>29.699118</td>\n",
       "      <td>0.523008</td>\n",
       "      <td>0.381594</td>\n",
       "      <td>32.204208</td>\n",
       "    </tr>\n",
       "    <tr>\n",
       "      <th>std</th>\n",
       "      <td>257.353842</td>\n",
       "      <td>0.486592</td>\n",
       "      <td>0.836071</td>\n",
       "      <td>14.526497</td>\n",
       "      <td>1.102743</td>\n",
       "      <td>0.806057</td>\n",
       "      <td>49.693429</td>\n",
       "    </tr>\n",
       "    <tr>\n",
       "      <th>min</th>\n",
       "      <td>1.000000</td>\n",
       "      <td>0.000000</td>\n",
       "      <td>1.000000</td>\n",
       "      <td>0.420000</td>\n",
       "      <td>0.000000</td>\n",
       "      <td>0.000000</td>\n",
       "      <td>0.000000</td>\n",
       "    </tr>\n",
       "    <tr>\n",
       "      <th>25%</th>\n",
       "      <td>223.500000</td>\n",
       "      <td>0.000000</td>\n",
       "      <td>2.000000</td>\n",
       "      <td>20.125000</td>\n",
       "      <td>0.000000</td>\n",
       "      <td>0.000000</td>\n",
       "      <td>7.910400</td>\n",
       "    </tr>\n",
       "    <tr>\n",
       "      <th>50%</th>\n",
       "      <td>446.000000</td>\n",
       "      <td>0.000000</td>\n",
       "      <td>3.000000</td>\n",
       "      <td>28.000000</td>\n",
       "      <td>0.000000</td>\n",
       "      <td>0.000000</td>\n",
       "      <td>14.454200</td>\n",
       "    </tr>\n",
       "    <tr>\n",
       "      <th>75%</th>\n",
       "      <td>668.500000</td>\n",
       "      <td>1.000000</td>\n",
       "      <td>3.000000</td>\n",
       "      <td>38.000000</td>\n",
       "      <td>1.000000</td>\n",
       "      <td>0.000000</td>\n",
       "      <td>31.000000</td>\n",
       "    </tr>\n",
       "    <tr>\n",
       "      <th>max</th>\n",
       "      <td>891.000000</td>\n",
       "      <td>1.000000</td>\n",
       "      <td>3.000000</td>\n",
       "      <td>80.000000</td>\n",
       "      <td>8.000000</td>\n",
       "      <td>6.000000</td>\n",
       "      <td>512.329200</td>\n",
       "    </tr>\n",
       "  </tbody>\n",
       "</table>\n",
       "</div>"
      ],
      "text/plain": [
       "       PassengerId    Survived      Pclass         Age       SibSp  \\\n",
       "count   891.000000  891.000000  891.000000  714.000000  891.000000   \n",
       "mean    446.000000    0.383838    2.308642   29.699118    0.523008   \n",
       "std     257.353842    0.486592    0.836071   14.526497    1.102743   \n",
       "min       1.000000    0.000000    1.000000    0.420000    0.000000   \n",
       "25%     223.500000    0.000000    2.000000   20.125000    0.000000   \n",
       "50%     446.000000    0.000000    3.000000   28.000000    0.000000   \n",
       "75%     668.500000    1.000000    3.000000   38.000000    1.000000   \n",
       "max     891.000000    1.000000    3.000000   80.000000    8.000000   \n",
       "\n",
       "            Parch        Fare  \n",
       "count  891.000000  891.000000  \n",
       "mean     0.381594   32.204208  \n",
       "std      0.806057   49.693429  \n",
       "min      0.000000    0.000000  \n",
       "25%      0.000000    7.910400  \n",
       "50%      0.000000   14.454200  \n",
       "75%      0.000000   31.000000  \n",
       "max      6.000000  512.329200  "
      ]
     },
     "execution_count": 9,
     "metadata": {
      "tags": []
     },
     "output_type": "execute_result"
    }
   ],
   "source": [
    "train_df.describe()"
   ]
  },
  {
   "cell_type": "markdown",
   "metadata": {
    "colab_type": "text",
    "id": "zUhbcs_P3Zci"
   },
   "source": [
    "There is a lot of difference in standard deviations. We would need to scale the features. But Tree models do not need feature scaling"
   ]
  },
  {
   "cell_type": "code",
   "execution_count": 0,
   "metadata": {
    "colab": {},
    "colab_type": "code",
    "id": "PA56Xr1_3Zck"
   },
   "outputs": [],
   "source": [
    "corr = train_df.corr()"
   ]
  },
  {
   "cell_type": "code",
   "execution_count": 0,
   "metadata": {
    "colab": {},
    "colab_type": "code",
    "id": "m-Gloend3Zcp",
    "outputId": "b74b421a-41b0-4ea3-9d7b-5e61d635820d"
   },
   "outputs": [
    {
     "data": {
      "text/html": [
       "<div>\n",
       "<style scoped>\n",
       "    .dataframe tbody tr th:only-of-type {\n",
       "        vertical-align: middle;\n",
       "    }\n",
       "\n",
       "    .dataframe tbody tr th {\n",
       "        vertical-align: top;\n",
       "    }\n",
       "\n",
       "    .dataframe thead th {\n",
       "        text-align: right;\n",
       "    }\n",
       "</style>\n",
       "<table border=\"1\" class=\"dataframe\">\n",
       "  <thead>\n",
       "    <tr style=\"text-align: right;\">\n",
       "      <th></th>\n",
       "      <th>PassengerId</th>\n",
       "      <th>Survived</th>\n",
       "      <th>Pclass</th>\n",
       "      <th>Age</th>\n",
       "      <th>SibSp</th>\n",
       "      <th>Parch</th>\n",
       "      <th>Fare</th>\n",
       "    </tr>\n",
       "  </thead>\n",
       "  <tbody>\n",
       "    <tr>\n",
       "      <th>PassengerId</th>\n",
       "      <td>1.000000</td>\n",
       "      <td>-0.005007</td>\n",
       "      <td>-0.035144</td>\n",
       "      <td>0.036847</td>\n",
       "      <td>-0.057527</td>\n",
       "      <td>-0.001652</td>\n",
       "      <td>0.012658</td>\n",
       "    </tr>\n",
       "    <tr>\n",
       "      <th>Survived</th>\n",
       "      <td>-0.005007</td>\n",
       "      <td>1.000000</td>\n",
       "      <td>-0.338481</td>\n",
       "      <td>-0.077221</td>\n",
       "      <td>-0.035322</td>\n",
       "      <td>0.081629</td>\n",
       "      <td>0.257307</td>\n",
       "    </tr>\n",
       "    <tr>\n",
       "      <th>Pclass</th>\n",
       "      <td>-0.035144</td>\n",
       "      <td>-0.338481</td>\n",
       "      <td>1.000000</td>\n",
       "      <td>-0.369226</td>\n",
       "      <td>0.083081</td>\n",
       "      <td>0.018443</td>\n",
       "      <td>-0.549500</td>\n",
       "    </tr>\n",
       "    <tr>\n",
       "      <th>Age</th>\n",
       "      <td>0.036847</td>\n",
       "      <td>-0.077221</td>\n",
       "      <td>-0.369226</td>\n",
       "      <td>1.000000</td>\n",
       "      <td>-0.308247</td>\n",
       "      <td>-0.189119</td>\n",
       "      <td>0.096067</td>\n",
       "    </tr>\n",
       "    <tr>\n",
       "      <th>SibSp</th>\n",
       "      <td>-0.057527</td>\n",
       "      <td>-0.035322</td>\n",
       "      <td>0.083081</td>\n",
       "      <td>-0.308247</td>\n",
       "      <td>1.000000</td>\n",
       "      <td>0.414838</td>\n",
       "      <td>0.159651</td>\n",
       "    </tr>\n",
       "    <tr>\n",
       "      <th>Parch</th>\n",
       "      <td>-0.001652</td>\n",
       "      <td>0.081629</td>\n",
       "      <td>0.018443</td>\n",
       "      <td>-0.189119</td>\n",
       "      <td>0.414838</td>\n",
       "      <td>1.000000</td>\n",
       "      <td>0.216225</td>\n",
       "    </tr>\n",
       "    <tr>\n",
       "      <th>Fare</th>\n",
       "      <td>0.012658</td>\n",
       "      <td>0.257307</td>\n",
       "      <td>-0.549500</td>\n",
       "      <td>0.096067</td>\n",
       "      <td>0.159651</td>\n",
       "      <td>0.216225</td>\n",
       "      <td>1.000000</td>\n",
       "    </tr>\n",
       "  </tbody>\n",
       "</table>\n",
       "</div>"
      ],
      "text/plain": [
       "             PassengerId  Survived    Pclass       Age     SibSp     Parch  \\\n",
       "PassengerId     1.000000 -0.005007 -0.035144  0.036847 -0.057527 -0.001652   \n",
       "Survived       -0.005007  1.000000 -0.338481 -0.077221 -0.035322  0.081629   \n",
       "Pclass         -0.035144 -0.338481  1.000000 -0.369226  0.083081  0.018443   \n",
       "Age             0.036847 -0.077221 -0.369226  1.000000 -0.308247 -0.189119   \n",
       "SibSp          -0.057527 -0.035322  0.083081 -0.308247  1.000000  0.414838   \n",
       "Parch          -0.001652  0.081629  0.018443 -0.189119  0.414838  1.000000   \n",
       "Fare            0.012658  0.257307 -0.549500  0.096067  0.159651  0.216225   \n",
       "\n",
       "                 Fare  \n",
       "PassengerId  0.012658  \n",
       "Survived     0.257307  \n",
       "Pclass      -0.549500  \n",
       "Age          0.096067  \n",
       "SibSp        0.159651  \n",
       "Parch        0.216225  \n",
       "Fare         1.000000  "
      ]
     },
     "execution_count": 11,
     "metadata": {
      "tags": []
     },
     "output_type": "execute_result"
    }
   ],
   "source": [
    "corr"
   ]
  },
  {
   "cell_type": "code",
   "execution_count": 0,
   "metadata": {
    "colab": {},
    "colab_type": "code",
    "id": "T9348zXg3Zcw",
    "outputId": "d781121a-a3a5-492e-fdcf-bfcc8f318aac"
   },
   "outputs": [
    {
     "data": {
      "text/plain": [
       "<matplotlib.axes._subplots.AxesSubplot at 0xaaf92b0>"
      ]
     },
     "execution_count": 12,
     "metadata": {
      "tags": []
     },
     "output_type": "execute_result"
    },
    {
     "data": {
      "image/png": "[encoded data removed]",
      "text/plain": [
       "<Figure size 432x288 with 2 Axes>"
      ]
     },
     "metadata": {
      "tags": []
     },
     "output_type": "display_data"
    }
   ],
   "source": [
    "sns.heatmap(corr, annot=True)"
   ]
  },
  {
   "cell_type": "markdown",
   "metadata": {
    "colab_type": "text",
    "collapsed": true,
    "id": "2OjZi7O83Zc1"
   },
   "source": [
    "There is absolutely no correlation between any 2 variables."
   ]
  },
  {
   "cell_type": "code",
   "execution_count": 0,
   "metadata": {
    "colab": {},
    "colab_type": "code",
    "id": "vrFXRaT23Zc3",
    "outputId": "f0008527-dba0-46b8-c449-0224d4b73597"
   },
   "outputs": [
    {
     "data": {
      "text/plain": [
       "<matplotlib.axes._subplots.AxesSubplot at 0xbae3d30>"
      ]
     },
     "execution_count": 23,
     "metadata": {
      "tags": []
     },
     "output_type": "execute_result"
    },
    {
     "data": {
      "image/png": "[encoded data removed]",
      "text/plain": [
       "<Figure size 432x288 with 1 Axes>"
      ]
     },
     "metadata": {
      "tags": []
     },
     "output_type": "display_data"
    }
   ],
   "source": [
    "sns.countplot(x='Survived', data=train_df)"
   ]
  },
  {
   "cell_type": "code",
   "execution_count": 0,
   "metadata": {
    "colab": {},
    "colab_type": "code",
    "id": "a5Kv1mRl3Zc9",
    "outputId": "b89848f1-1aa7-4ab1-c113-e1d48fec823d"
   },
   "outputs": [
    {
     "data": {
      "text/plain": [
       "<matplotlib.axes._subplots.AxesSubplot at 0xbaaf7b8>"
      ]
     },
     "execution_count": 20,
     "metadata": {
      "tags": []
     },
     "output_type": "execute_result"
    },
    {
     "data": {
      "image/png": "[encoded data removed]",
      "text/plain": [
       "<Figure size 432x288 with 1 Axes>"
      ]
     },
     "metadata": {
      "tags": []
     },
     "output_type": "display_data"
    }
   ],
   "source": [
    "sns.countplot(x='Sex', data=train_df)"
   ]
  },
  {
   "cell_type": "code",
   "execution_count": 0,
   "metadata": {
    "colab": {},
    "colab_type": "code",
    "id": "72CUyWQr3ZdC",
    "outputId": "288029af-bc7a-4997-b160-f2f432f97b19"
   },
   "outputs": [
    {
     "data": {
      "image/png": "[encoded data removed]",
      "text/plain": [
       "<Figure size 576x288 with 2 Axes>"
      ]
     },
     "metadata": {
      "tags": []
     },
     "output_type": "display_data"
    }
   ],
   "source": [
    "sns.factorplot(x='Survived', col='Sex', kind='count', data=train_df);"
   ]
  },
  {
   "cell_type": "markdown",
   "metadata": {
    "colab_type": "text",
    "id": "eLR-ffcP3ZdH"
   },
   "source": [
    "Women are more likely to survive than men"
   ]
  },
  {
   "cell_type": "code",
   "execution_count": 0,
   "metadata": {
    "colab": {},
    "colab_type": "code",
    "id": "aqzZtCeT3ZdI",
    "outputId": "df43bfd9-eda2-4c7e-ea2c-731bc8d1da78"
   },
   "outputs": [
    {
     "data": {
      "text/plain": [
       "<seaborn.axisgrid.FacetGrid at 0xbb39668>"
      ]
     },
     "execution_count": 25,
     "metadata": {
      "tags": []
     },
     "output_type": "execute_result"
    },
    {
     "data": {
      "image/png": "[encoded data removed]",
      "text/plain": [
       "<Figure size 864x288 with 3 Axes>"
      ]
     },
     "metadata": {
      "tags": []
     },
     "output_type": "display_data"
    }
   ],
   "source": [
    "sns.factorplot(x='Survived', col='Pclass', kind='count', data=train_df)"
   ]
  },
  {
   "cell_type": "markdown",
   "metadata": {
    "colab_type": "text",
    "id": "SiFJjKKL3ZdN"
   },
   "source": [
    "Passengers who travelled in First Class had higher chances of survival where as Third Class passengers had very little chance."
   ]
  },
  {
   "cell_type": "code",
   "execution_count": 0,
   "metadata": {
    "colab": {},
    "colab_type": "code",
    "id": "R55y1LLk3ZdO",
    "outputId": "b8d6148b-554a-49d6-e8d7-1d39b8904722"
   },
   "outputs": [
    {
     "data": {
      "text/plain": [
       "<seaborn.axisgrid.FacetGrid at 0xbbfdba8>"
      ]
     },
     "execution_count": 26,
     "metadata": {
      "tags": []
     },
     "output_type": "execute_result"
    },
    {
     "data": {
      "image/png": "[encoded data removed]",
      "text/plain": [
       "<Figure size 864x288 with 3 Axes>"
      ]
     },
     "metadata": {
      "tags": []
     },
     "output_type": "display_data"
    }
   ],
   "source": [
    "sns.factorplot(x='Survived', col='Embarked', kind='count', data=train_df)"
   ]
  },
  {
   "cell_type": "markdown",
   "metadata": {
    "colab_type": "text",
    "id": "YVaPFQ2F3ZdT"
   },
   "source": [
    "Passengers who embarked in Southampton were less likely to survive whereas those who embarked at Queenstown were more likely to survive. "
   ]
  },
  {
   "cell_type": "code",
   "execution_count": 0,
   "metadata": {
    "colab": {},
    "colab_type": "code",
    "id": "gQiYr9Wz3ZdU",
    "outputId": "7fc46557-dc4b-4339-f03a-72c422fb752e"
   },
   "outputs": [
    {
     "data": {
      "text/plain": [
       "<matplotlib.axes._subplots.AxesSubplot at 0xda765f8>"
      ]
     },
     "execution_count": 28,
     "metadata": {
      "tags": []
     },
     "output_type": "execute_result"
    },
    {
     "data": {
      "image/png": "[encoded data removed]",
      "text/plain": [
       "<Figure size 432x288 with 1 Axes>"
      ]
     },
     "metadata": {
      "tags": []
     },
     "output_type": "display_data"
    }
   ],
   "source": [
    "sns.swarmplot(x='Survived', y='Fare', data=train_df)"
   ]
  },
  {
   "cell_type": "markdown",
   "metadata": {
    "colab_type": "text",
    "id": "qj7zG6Hj3ZdY"
   },
   "source": [
    "Fare did not have any correlation with Survival."
   ]
  },
  {
   "cell_type": "markdown",
   "metadata": {
    "colab_type": "text",
    "id": "Aor0niE-3Zda"
   },
   "source": [
    "### 4. Feature Engineering  <a id='fe'>"
   ]
  },
  {
   "cell_type": "code",
   "execution_count": 0,
   "metadata": {
    "colab": {},
    "colab_type": "code",
    "id": "EjN2Ln7F3Zdb"
   },
   "outputs": [],
   "source": [
    "# Replacing the Sex as 1's and 0's\n",
    "train_df[\"Sex\"] = train_df[\"Sex\"].apply(lambda sex: 0 if sex == 'male' else 1)"
   ]
  },
  {
   "cell_type": "code",
   "execution_count": 0,
   "metadata": {
    "colab": {},
    "colab_type": "code",
    "id": "yE9hpLx23Zdf",
    "outputId": "92fe22cc-5053-4b59-a4b4-46ee2612734d"
   },
   "outputs": [
    {
     "data": {
      "text/plain": [
       "array([[ 3.,  0., 22.,  1.],\n",
       "       [ 1.,  1., 38.,  1.],\n",
       "       [ 3.,  1., 26.,  0.],\n",
       "       ...,\n",
       "       [ 3.,  1., nan,  1.],\n",
       "       [ 1.,  0., 26.,  0.],\n",
       "       [ 3.,  0., 32.,  0.]])"
      ]
     },
     "execution_count": 16,
     "metadata": {
      "tags": []
     },
     "output_type": "execute_result"
    }
   ],
   "source": [
    "# Separating the features and labels\n",
    "\n",
    "y = train_df[\"Survived\"].values\n",
    "\n",
    "columns = [\"Pclass\", \"Sex\", \"Age\", \"SibSp\"]\n",
    "features = train_df[list(columns)].values\n",
    "features"
   ]
  },
  {
   "cell_type": "code",
   "execution_count": 0,
   "metadata": {
    "colab": {},
    "colab_type": "code",
    "id": "VqlZfH103Zdm",
    "outputId": "8275ae17-3db0-4de9-8670-7be30f2c1e74"
   },
   "outputs": [
    {
     "data": {
      "text/plain": [
       "array([[ 3.        ,  0.        , 22.        ,  1.        ],\n",
       "       [ 1.        ,  1.        , 38.        ,  1.        ],\n",
       "       [ 3.        ,  1.        , 26.        ,  0.        ],\n",
       "       ...,\n",
       "       [ 3.        ,  1.        , 29.69911765,  1.        ],\n",
       "       [ 1.        ,  0.        , 26.        ,  0.        ],\n",
       "       [ 3.        ,  0.        , 32.        ,  0.        ]])"
      ]
     },
     "execution_count": 17,
     "metadata": {
      "tags": []
     },
     "output_type": "execute_result"
    }
   ],
   "source": [
    "# Filling the missing values with the mean of the columns\n",
    "\n",
    "from sklearn.preprocessing import Imputer\n",
    "\n",
    "imp = Imputer(missing_values='NaN', strategy='mean', axis=0)\n",
    "X = imp.fit_transform(features)\n",
    "X"
   ]
  },
  {
   "cell_type": "markdown",
   "metadata": {
    "colab_type": "text",
    "id": "A_Czd2xE3Zdz"
   },
   "source": [
    "### 5. Decision Tree  <a id='dt'>"
   ]
  },
  {
   "cell_type": "code",
   "execution_count": 0,
   "metadata": {
    "colab": {},
    "colab_type": "code",
    "id": "WT-JmY3t3Zd0",
    "outputId": "b5c003fb-744b-4efe-acec-59a4072422b6"
   },
   "outputs": [
    {
     "data": {
      "text/plain": [
       "DecisionTreeClassifier(class_weight=None, criterion='entropy', max_depth=3,\n",
       "            max_features=None, max_leaf_nodes=None, min_samples_leaf=1,\n",
       "            min_samples_split=2, min_weight_fraction_leaf=0.0,\n",
       "            presort=False, random_state=42, splitter='best')"
      ]
     },
     "execution_count": 18,
     "metadata": {
      "tags": []
     },
     "output_type": "execute_result"
    }
   ],
   "source": [
    "# Importing the packages for Decision Tree Classifier\n",
    "\n",
    "from sklearn import tree\n",
    "my_tree_one = tree.DecisionTreeClassifier(criterion=\"entropy\", max_depth=3, random_state=42)\n",
    "my_tree_one"
   ]
  },
  {
   "cell_type": "markdown",
   "metadata": {
    "colab_type": "text",
    "id": "nli08qA93Zd5"
   },
   "source": [
    "This shows all the hyperparameters of Decision Tree model"
   ]
  },
  {
   "cell_type": "markdown",
   "metadata": {
    "colab_type": "text",
    "id": "7urZ2rVy3Zd6"
   },
   "source": [
    "### 5.1 Training Decision Tree Model  <a id='tdt'>"
   ]
  },
  {
   "cell_type": "code",
   "execution_count": 0,
   "metadata": {
    "colab": {},
    "colab_type": "code",
    "id": "eU3kwXxy3Zd7"
   },
   "outputs": [],
   "source": [
    "# Fit the decision tree model on your features and label\n",
    "\n",
    "my_tree_one = my_tree_one.fit(X, y)"
   ]
  },
  {
   "cell_type": "code",
   "execution_count": 0,
   "metadata": {
    "colab": {},
    "colab_type": "code",
    "id": "aWc_ntrA3Zd-",
    "outputId": "2792e77a-38fc-4df0-984e-43a1df89dd9d"
   },
   "outputs": [
    {
     "data": {
      "text/plain": [
       "[('Pclass', 0.26627379767117476),\n",
       " ('Sex', 0.6091119294962372),\n",
       " ('Age', 0.12461427283258814),\n",
       " ('SibSp', 0.0)]"
      ]
     },
     "execution_count": 20,
     "metadata": {
      "tags": []
     },
     "output_type": "execute_result"
    }
   ],
   "source": [
    "# The feature_importances_ attribute make it simple to interpret the significance of the predictors you include\n",
    "\n",
    "list(zip(columns,my_tree_one.feature_importances_))"
   ]
  },
  {
   "cell_type": "code",
   "execution_count": 0,
   "metadata": {
    "colab": {},
    "colab_type": "code",
    "id": "qO0Tw06p3ZeD",
    "outputId": "bf54f43c-4ddc-415b-b685-9be4d13613db"
   },
   "outputs": [
    {
     "name": "stdout",
     "output_type": "stream",
     "text": [
      "0.8069584736251403\n"
     ]
    }
   ],
   "source": [
    "# The accuracy of the model\n",
    "\n",
    "print(my_tree_one.score(X, y))"
   ]
  },
  {
   "cell_type": "code",
   "execution_count": 0,
   "metadata": {
    "colab": {},
    "colab_type": "code",
    "id": "sFXTI6lD3ZeH",
    "outputId": "dd233403-414e-4465-b22c-cf90dc5e7c05"
   },
   "outputs": [
    {
     "data": {
      "image/svg+xml": [
       "<?xml version=\"1.0\" encoding=\"UTF-8\" standalone=\"no\"?>\r\n",
       "<!DOCTYPE svg PUBLIC \"-//W3C//DTD SVG 1.1//EN\"\r\n",
       " \"http://www.w3.org/Graphics/SVG/1.1/DTD/svg11.dtd\">\r\n",
       "<!-- Generated by graphviz version 2.38.0 (20140413.2041)\r\n",
       " -->\r\n",
       "<!-- Title: Tree Pages: 1 -->\r\n",
       "<svg width=\"998pt\" height=\"373pt\"\r\n",
       " viewBox=\"0.00 0.00 997.50 373.00\" xmlns=\"http://www.w3.org/2000/svg\" xmlns:xlink=\"http://www.w3.org/1999/xlink\">\r\n",
       "<g id=\"graph0\" class=\"graph\" transform=\"scale(1 1) rotate(0) translate(4 369)\">\r\n",
       "<title>Tree</title>\r\n",
       "<polygon fill=\"white\" stroke=\"none\" points=\"-4,4 -4,-369 993.5,-369 993.5,4 -4,4\"/>\r\n",
       "<!-- 0 -->\r\n",
       "<g id=\"node1\" class=\"node\"><title>0</title>\r\n",
       "<polygon fill=\"#e58139\" fill-opacity=\"0.376471\" stroke=\"black\" points=\"542,-365 424,-365 424,-297 542,-297 542,-365\"/>\r\n",
       "<text text-anchor=\"middle\" x=\"483\" y=\"-349.8\" font-family=\"Times New Roman,serif\" font-size=\"14.00\">Sex &lt;= 0.5</text>\r\n",
       "<text text-anchor=\"middle\" x=\"483\" y=\"-334.8\" font-family=\"Times New Roman,serif\" font-size=\"14.00\">entropy = 0.9607</text>\r\n",
       "<text text-anchor=\"middle\" x=\"483\" y=\"-319.8\" font-family=\"Times New Roman,serif\" font-size=\"14.00\">samples = 891</text>\r\n",
       "<text text-anchor=\"middle\" x=\"483\" y=\"-304.8\" font-family=\"Times New Roman,serif\" font-size=\"14.00\">value = [549, 342]</text>\r\n",
       "</g>\r\n",
       "<!-- 1 -->\r\n",
       "<g id=\"node2\" class=\"node\"><title>1</title>\r\n",
       "<polygon fill=\"#e58139\" fill-opacity=\"0.768627\" stroke=\"black\" points=\"416,-261 298,-261 298,-193 416,-193 416,-261\"/>\r\n",
       "<text text-anchor=\"middle\" x=\"357\" y=\"-245.8\" font-family=\"Times New Roman,serif\" font-size=\"14.00\">Pclass &lt;= 1.5</text>\r\n",
       "<text text-anchor=\"middle\" x=\"357\" y=\"-230.8\" font-family=\"Times New Roman,serif\" font-size=\"14.00\">entropy = 0.6992</text>\r\n",
       "<text text-anchor=\"middle\" x=\"357\" y=\"-215.8\" font-family=\"Times New Roman,serif\" font-size=\"14.00\">samples = 577</text>\r\n",
       "<text text-anchor=\"middle\" x=\"357\" y=\"-200.8\" font-family=\"Times New Roman,serif\" font-size=\"14.00\">value = [468, 109]</text>\r\n",
       "</g>\r\n",
       "<!-- 0&#45;&gt;1 -->\r\n",
       "<g id=\"edge1\" class=\"edge\"><title>0&#45;&gt;1</title>\r\n",
       "<path fill=\"none\" stroke=\"black\" d=\"M442.091,-296.884C430.648,-287.62 418.091,-277.455 406.221,-267.845\"/>\r\n",
       "<polygon fill=\"black\" stroke=\"black\" points=\"408.109,-264.871 398.135,-261.299 403.705,-270.312 408.109,-264.871\"/>\r\n",
       "<text text-anchor=\"middle\" x=\"400.752\" y=\"-282.462\" font-family=\"Times New Roman,serif\" font-size=\"14.00\">True</text>\r\n",
       "</g>\r\n",
       "<!-- 8 -->\r\n",
       "<g id=\"node9\" class=\"node\"><title>8</title>\r\n",
       "<polygon fill=\"#399de5\" fill-opacity=\"0.650980\" stroke=\"black\" points=\"666.5,-261 553.5,-261 553.5,-193 666.5,-193 666.5,-261\"/>\r\n",
       "<text text-anchor=\"middle\" x=\"610\" y=\"-245.8\" font-family=\"Times New Roman,serif\" font-size=\"14.00\">Pclass &lt;= 2.5</text>\r\n",
       "<text text-anchor=\"middle\" x=\"610\" y=\"-230.8\" font-family=\"Times New Roman,serif\" font-size=\"14.00\">entropy = 0.8237</text>\r\n",
       "<text text-anchor=\"middle\" x=\"610\" y=\"-215.8\" font-family=\"Times New Roman,serif\" font-size=\"14.00\">samples = 314</text>\r\n",
       "<text text-anchor=\"middle\" x=\"610\" y=\"-200.8\" font-family=\"Times New Roman,serif\" font-size=\"14.00\">value = [81, 233]</text>\r\n",
       "</g>\r\n",
       "<!-- 0&#45;&gt;8 -->\r\n",
       "<g id=\"edge8\" class=\"edge\"><title>0&#45;&gt;8</title>\r\n",
       "<path fill=\"none\" stroke=\"black\" d=\"M524.233,-296.884C535.878,-287.531 548.667,-277.259 560.734,-267.568\"/>\r\n",
       "<polygon fill=\"black\" stroke=\"black\" points=\"562.934,-270.29 568.539,-261.299 558.551,-264.832 562.934,-270.29\"/>\r\n",
       "<text text-anchor=\"middle\" x=\"565.826\" y=\"-282.452\" font-family=\"Times New Roman,serif\" font-size=\"14.00\">False</text>\r\n",
       "</g>\r\n",
       "<!-- 2 -->\r\n",
       "<g id=\"node3\" class=\"node\"><title>2</title>\r\n",
       "<polygon fill=\"#e58139\" fill-opacity=\"0.415686\" stroke=\"black\" points=\"223.5,-157 110.5,-157 110.5,-89 223.5,-89 223.5,-157\"/>\r\n",
       "<text text-anchor=\"middle\" x=\"167\" y=\"-141.8\" font-family=\"Times New Roman,serif\" font-size=\"14.00\">Age &lt;= 17.5</text>\r\n",
       "<text text-anchor=\"middle\" x=\"167\" y=\"-126.8\" font-family=\"Times New Roman,serif\" font-size=\"14.00\">entropy = 0.9498</text>\r\n",
       "<text text-anchor=\"middle\" x=\"167\" y=\"-111.8\" font-family=\"Times New Roman,serif\" font-size=\"14.00\">samples = 122</text>\r\n",
       "<text text-anchor=\"middle\" x=\"167\" y=\"-96.8\" font-family=\"Times New Roman,serif\" font-size=\"14.00\">value = [77, 45]</text>\r\n",
       "</g>\r\n",
       "<!-- 1&#45;&gt;2 -->\r\n",
       "<g id=\"edge2\" class=\"edge\"><title>1&#45;&gt;2</title>\r\n",
       "<path fill=\"none\" stroke=\"black\" d=\"M297.924,-194.286C277.24,-183.182 253.892,-170.647 232.699,-159.27\"/>\r\n",
       "<polygon fill=\"black\" stroke=\"black\" points=\"234.229,-156.119 223.763,-154.473 230.918,-162.286 234.229,-156.119\"/>\r\n",
       "</g>\r\n",
       "<!-- 5 -->\r\n",
       "<g id=\"node6\" class=\"node\"><title>5</title>\r\n",
       "<polygon fill=\"#e58139\" fill-opacity=\"0.835294\" stroke=\"black\" points=\"412.5,-157 301.5,-157 301.5,-89 412.5,-89 412.5,-157\"/>\r\n",
       "<text text-anchor=\"middle\" x=\"357\" y=\"-141.8\" font-family=\"Times New Roman,serif\" font-size=\"14.00\">Age &lt;= 9.5</text>\r\n",
       "<text text-anchor=\"middle\" x=\"357\" y=\"-126.8\" font-family=\"Times New Roman,serif\" font-size=\"14.00\">entropy = 0.586</text>\r\n",
       "<text text-anchor=\"middle\" x=\"357\" y=\"-111.8\" font-family=\"Times New Roman,serif\" font-size=\"14.00\">samples = 455</text>\r\n",
       "<text text-anchor=\"middle\" x=\"357\" y=\"-96.8\" font-family=\"Times New Roman,serif\" font-size=\"14.00\">value = [391, 64]</text>\r\n",
       "</g>\r\n",
       "<!-- 1&#45;&gt;5 -->\r\n",
       "<g id=\"edge5\" class=\"edge\"><title>1&#45;&gt;5</title>\r\n",
       "<path fill=\"none\" stroke=\"black\" d=\"M357,-192.884C357,-184.778 357,-175.982 357,-167.472\"/>\r\n",
       "<polygon fill=\"black\" stroke=\"black\" points=\"360.5,-167.299 357,-157.299 353.5,-167.299 360.5,-167.299\"/>\r\n",
       "</g>\r\n",
       "<!-- 3 -->\r\n",
       "<g id=\"node4\" class=\"node\"><title>3</title>\r\n",
       "<polygon fill=\"#399de5\" stroke=\"black\" points=\"92,-53 0,-53 0,-0 92,-0 92,-53\"/>\r\n",
       "<text text-anchor=\"middle\" x=\"46\" y=\"-37.8\" font-family=\"Times New Roman,serif\" font-size=\"14.00\">entropy = 0.0</text>\r\n",
       "<text text-anchor=\"middle\" x=\"46\" y=\"-22.8\" font-family=\"Times New Roman,serif\" font-size=\"14.00\">samples = 4</text>\r\n",
       "<text text-anchor=\"middle\" x=\"46\" y=\"-7.8\" font-family=\"Times New Roman,serif\" font-size=\"14.00\">value = [0, 4]</text>\r\n",
       "</g>\r\n",
       "<!-- 2&#45;&gt;3 -->\r\n",
       "<g id=\"edge3\" class=\"edge\"><title>2&#45;&gt;3</title>\r\n",
       "<path fill=\"none\" stroke=\"black\" d=\"M124.68,-88.9485C112.498,-79.4346 99.2323,-69.074 87.124,-59.6175\"/>\r\n",
       "<polygon fill=\"black\" stroke=\"black\" points=\"88.9895,-56.6335 78.9539,-53.2367 84.6808,-62.1504 88.9895,-56.6335\"/>\r\n",
       "</g>\r\n",
       "<!-- 4 -->\r\n",
       "<g id=\"node5\" class=\"node\"><title>4</title>\r\n",
       "<polygon fill=\"#e58139\" fill-opacity=\"0.466667\" stroke=\"black\" points=\"223.5,-53 110.5,-53 110.5,-0 223.5,-0 223.5,-53\"/>\r\n",
       "<text text-anchor=\"middle\" x=\"167\" y=\"-37.8\" font-family=\"Times New Roman,serif\" font-size=\"14.00\">entropy = 0.9318</text>\r\n",
       "<text text-anchor=\"middle\" x=\"167\" y=\"-22.8\" font-family=\"Times New Roman,serif\" font-size=\"14.00\">samples = 118</text>\r\n",
       "<text text-anchor=\"middle\" x=\"167\" y=\"-7.8\" font-family=\"Times New Roman,serif\" font-size=\"14.00\">value = [77, 41]</text>\r\n",
       "</g>\r\n",
       "<!-- 2&#45;&gt;4 -->\r\n",
       "<g id=\"edge4\" class=\"edge\"><title>2&#45;&gt;4</title>\r\n",
       "<path fill=\"none\" stroke=\"black\" d=\"M167,-88.9485C167,-80.7153 167,-71.848 167,-63.4814\"/>\r\n",
       "<polygon fill=\"black\" stroke=\"black\" points=\"170.5,-63.2367 167,-53.2367 163.5,-63.2367 170.5,-63.2367\"/>\r\n",
       "</g>\r\n",
       "<!-- 6 -->\r\n",
       "<g id=\"node7\" class=\"node\"><title>6</title>\r\n",
       "<polygon fill=\"#399de5\" fill-opacity=\"0.235294\" stroke=\"black\" points=\"354.5,-53 241.5,-53 241.5,-0 354.5,-0 354.5,-53\"/>\r\n",
       "<text text-anchor=\"middle\" x=\"298\" y=\"-37.8\" font-family=\"Times New Roman,serif\" font-size=\"14.00\">entropy = 0.9871</text>\r\n",
       "<text text-anchor=\"middle\" x=\"298\" y=\"-22.8\" font-family=\"Times New Roman,serif\" font-size=\"14.00\">samples = 30</text>\r\n",
       "<text text-anchor=\"middle\" x=\"298\" y=\"-7.8\" font-family=\"Times New Roman,serif\" font-size=\"14.00\">value = [13, 17]</text>\r\n",
       "</g>\r\n",
       "<!-- 5&#45;&gt;6 -->\r\n",
       "<g id=\"edge6\" class=\"edge\"><title>5&#45;&gt;6</title>\r\n",
       "<path fill=\"none\" stroke=\"black\" d=\"M336.365,-88.9485C330.882,-80.1664 324.948,-70.6629 319.424,-61.815\"/>\r\n",
       "<polygon fill=\"black\" stroke=\"black\" points=\"322.333,-59.8656 314.068,-53.2367 316.396,-63.5728 322.333,-59.8656\"/>\r\n",
       "</g>\r\n",
       "<!-- 7 -->\r\n",
       "<g id=\"node8\" class=\"node\"><title>7</title>\r\n",
       "<polygon fill=\"#e58139\" fill-opacity=\"0.874510\" stroke=\"black\" points=\"485.5,-53 372.5,-53 372.5,-0 485.5,-0 485.5,-53\"/>\r\n",
       "<text text-anchor=\"middle\" x=\"429\" y=\"-37.8\" font-family=\"Times New Roman,serif\" font-size=\"14.00\">entropy = 0.5017</text>\r\n",
       "<text text-anchor=\"middle\" x=\"429\" y=\"-22.8\" font-family=\"Times New Roman,serif\" font-size=\"14.00\">samples = 425</text>\r\n",
       "<text text-anchor=\"middle\" x=\"429\" y=\"-7.8\" font-family=\"Times New Roman,serif\" font-size=\"14.00\">value = [378, 47]</text>\r\n",
       "</g>\r\n",
       "<!-- 5&#45;&gt;7 -->\r\n",
       "<g id=\"edge7\" class=\"edge\"><title>5&#45;&gt;7</title>\r\n",
       "<path fill=\"none\" stroke=\"black\" d=\"M382.182,-88.9485C389.013,-79.9834 396.416,-70.2666 403.276,-61.2629\"/>\r\n",
       "<polygon fill=\"black\" stroke=\"black\" points=\"406.115,-63.3122 409.391,-53.2367 400.547,-59.0699 406.115,-63.3122\"/>\r\n",
       "</g>\r\n",
       "<!-- 9 -->\r\n",
       "<g id=\"node10\" class=\"node\"><title>9</title>\r\n",
       "<polygon fill=\"#399de5\" fill-opacity=\"0.945098\" stroke=\"black\" points=\"666.5,-157 553.5,-157 553.5,-89 666.5,-89 666.5,-157\"/>\r\n",
       "<text text-anchor=\"middle\" x=\"610\" y=\"-141.8\" font-family=\"Times New Roman,serif\" font-size=\"14.00\">Age &lt;= 2.5</text>\r\n",
       "<text text-anchor=\"middle\" x=\"610\" y=\"-126.8\" font-family=\"Times New Roman,serif\" font-size=\"14.00\">entropy = 0.2988</text>\r\n",
       "<text text-anchor=\"middle\" x=\"610\" y=\"-111.8\" font-family=\"Times New Roman,serif\" font-size=\"14.00\">samples = 170</text>\r\n",
       "<text text-anchor=\"middle\" x=\"610\" y=\"-96.8\" font-family=\"Times New Roman,serif\" font-size=\"14.00\">value = [9, 161]</text>\r\n",
       "</g>\r\n",
       "<!-- 8&#45;&gt;9 -->\r\n",
       "<g id=\"edge9\" class=\"edge\"><title>8&#45;&gt;9</title>\r\n",
       "<path fill=\"none\" stroke=\"black\" d=\"M610,-192.884C610,-184.778 610,-175.982 610,-167.472\"/>\r\n",
       "<polygon fill=\"black\" stroke=\"black\" points=\"613.5,-167.299 610,-157.299 606.5,-167.299 613.5,-167.299\"/>\r\n",
       "</g>\r\n",
       "<!-- 12 -->\r\n",
       "<g id=\"node13\" class=\"node\"><title>12</title>\r\n",
       "<polygon fill=\"none\" stroke=\"black\" points=\"854,-157 750,-157 750,-89 854,-89 854,-157\"/>\r\n",
       "<text text-anchor=\"middle\" x=\"802\" y=\"-141.8\" font-family=\"Times New Roman,serif\" font-size=\"14.00\">Age &lt;= 38.5</text>\r\n",
       "<text text-anchor=\"middle\" x=\"802\" y=\"-126.8\" font-family=\"Times New Roman,serif\" font-size=\"14.00\">entropy = 1.0</text>\r\n",
       "<text text-anchor=\"middle\" x=\"802\" y=\"-111.8\" font-family=\"Times New Roman,serif\" font-size=\"14.00\">samples = 144</text>\r\n",
       "<text text-anchor=\"middle\" x=\"802\" y=\"-96.8\" font-family=\"Times New Roman,serif\" font-size=\"14.00\">value = [72, 72]</text>\r\n",
       "</g>\r\n",
       "<!-- 8&#45;&gt;12 -->\r\n",
       "<g id=\"edge12\" class=\"edge\"><title>8&#45;&gt;12</title>\r\n",
       "<path fill=\"none\" stroke=\"black\" d=\"M666.568,-195.948C689.912,-183.547 717.022,-169.145 740.826,-156.499\"/>\r\n",
       "<polygon fill=\"black\" stroke=\"black\" points=\"742.584,-159.528 749.773,-151.746 739.3,-153.346 742.584,-159.528\"/>\r\n",
       "</g>\r\n",
       "<!-- 10 -->\r\n",
       "<g id=\"node11\" class=\"node\"><title>10</title>\r\n",
       "<polygon fill=\"none\" stroke=\"black\" points=\"596,-53 504,-53 504,-0 596,-0 596,-53\"/>\r\n",
       "<text text-anchor=\"middle\" x=\"550\" y=\"-37.8\" font-family=\"Times New Roman,serif\" font-size=\"14.00\">entropy = 1.0</text>\r\n",
       "<text text-anchor=\"middle\" x=\"550\" y=\"-22.8\" font-family=\"Times New Roman,serif\" font-size=\"14.00\">samples = 2</text>\r\n",
       "<text text-anchor=\"middle\" x=\"550\" y=\"-7.8\" font-family=\"Times New Roman,serif\" font-size=\"14.00\">value = [1, 1]</text>\r\n",
       "</g>\r\n",
       "<!-- 9&#45;&gt;10 -->\r\n",
       "<g id=\"edge10\" class=\"edge\"><title>9&#45;&gt;10</title>\r\n",
       "<path fill=\"none\" stroke=\"black\" d=\"M589.015,-88.9485C583.439,-80.1664 577.405,-70.6629 571.787,-61.815\"/>\r\n",
       "<polygon fill=\"black\" stroke=\"black\" points=\"574.656,-59.8028 566.341,-53.2367 568.746,-63.5549 574.656,-59.8028\"/>\r\n",
       "</g>\r\n",
       "<!-- 11 -->\r\n",
       "<g id=\"node12\" class=\"node\"><title>11</title>\r\n",
       "<polygon fill=\"#399de5\" fill-opacity=\"0.949020\" stroke=\"black\" points=\"727.5,-53 614.5,-53 614.5,-0 727.5,-0 727.5,-53\"/>\r\n",
       "<text text-anchor=\"middle\" x=\"671\" y=\"-37.8\" font-family=\"Times New Roman,serif\" font-size=\"14.00\">entropy = 0.2762</text>\r\n",
       "<text text-anchor=\"middle\" x=\"671\" y=\"-22.8\" font-family=\"Times New Roman,serif\" font-size=\"14.00\">samples = 168</text>\r\n",
       "<text text-anchor=\"middle\" x=\"671\" y=\"-7.8\" font-family=\"Times New Roman,serif\" font-size=\"14.00\">value = [8, 160]</text>\r\n",
       "</g>\r\n",
       "<!-- 9&#45;&gt;11 -->\r\n",
       "<g id=\"edge11\" class=\"edge\"><title>9&#45;&gt;11</title>\r\n",
       "<path fill=\"none\" stroke=\"black\" d=\"M631.335,-88.9485C637.004,-80.1664 643.138,-70.6629 648.85,-61.815\"/>\r\n",
       "<polygon fill=\"black\" stroke=\"black\" points=\"651.904,-63.5365 654.387,-53.2367 646.023,-59.7402 651.904,-63.5365\"/>\r\n",
       "</g>\r\n",
       "<!-- 13 -->\r\n",
       "<g id=\"node14\" class=\"node\"><title>13</title>\r\n",
       "<polygon fill=\"#399de5\" fill-opacity=\"0.141176\" stroke=\"black\" points=\"858.5,-53 745.5,-53 745.5,-0 858.5,-0 858.5,-53\"/>\r\n",
       "<text text-anchor=\"middle\" x=\"802\" y=\"-37.8\" font-family=\"Times New Roman,serif\" font-size=\"14.00\">entropy = 0.9959</text>\r\n",
       "<text text-anchor=\"middle\" x=\"802\" y=\"-22.8\" font-family=\"Times New Roman,serif\" font-size=\"14.00\">samples = 132</text>\r\n",
       "<text text-anchor=\"middle\" x=\"802\" y=\"-7.8\" font-family=\"Times New Roman,serif\" font-size=\"14.00\">value = [61, 71]</text>\r\n",
       "</g>\r\n",
       "<!-- 12&#45;&gt;13 -->\r\n",
       "<g id=\"edge13\" class=\"edge\"><title>12&#45;&gt;13</title>\r\n",
       "<path fill=\"none\" stroke=\"black\" d=\"M802,-88.9485C802,-80.7153 802,-71.848 802,-63.4814\"/>\r\n",
       "<polygon fill=\"black\" stroke=\"black\" points=\"805.5,-63.2367 802,-53.2367 798.5,-63.2367 805.5,-63.2367\"/>\r\n",
       "</g>\r\n",
       "<!-- 14 -->\r\n",
       "<g id=\"node15\" class=\"node\"><title>14</title>\r\n",
       "<polygon fill=\"#e58139\" fill-opacity=\"0.909804\" stroke=\"black\" points=\"989.5,-53 876.5,-53 876.5,-0 989.5,-0 989.5,-53\"/>\r\n",
       "<text text-anchor=\"middle\" x=\"933\" y=\"-37.8\" font-family=\"Times New Roman,serif\" font-size=\"14.00\">entropy = 0.4138</text>\r\n",
       "<text text-anchor=\"middle\" x=\"933\" y=\"-22.8\" font-family=\"Times New Roman,serif\" font-size=\"14.00\">samples = 12</text>\r\n",
       "<text text-anchor=\"middle\" x=\"933\" y=\"-7.8\" font-family=\"Times New Roman,serif\" font-size=\"14.00\">value = [11, 1]</text>\r\n",
       "</g>\r\n",
       "<!-- 12&#45;&gt;14 -->\r\n",
       "<g id=\"edge14\" class=\"edge\"><title>12&#45;&gt;14</title>\r\n",
       "<path fill=\"none\" stroke=\"black\" d=\"M847.817,-88.9485C861.133,-79.3431 875.645,-68.8747 888.855,-59.345\"/>\r\n",
       "<polygon fill=\"black\" stroke=\"black\" points=\"891.26,-61.9257 897.323,-53.2367 887.165,-56.2486 891.26,-61.9257\"/>\r\n",
       "</g>\r\n",
       "</g>\r\n",
       "</svg>\r\n"
      ],
      "text/plain": [
       "<graphviz.files.Source at 0x123df60>"
      ]
     },
     "execution_count": 44,
     "metadata": {
      "tags": []
     },
     "output_type": "execute_result"
    }
   ],
   "source": [
    "# Visualize the decision tree graph\n",
    "\n",
    "with open('tree.dot','w') as dotfile:\n",
    "    tree.export_graphviz(my_tree_one, out_file=dotfile, feature_names=columns, filled=True)\n",
    "    dotfile.close()\n",
    "    \n",
    "# You may have to install graphviz package using \n",
    "# conda install graphviz\n",
    "# conda install python-graphviz\n",
    "\n",
    "from graphviz import Source\n",
    "\n",
    "with open('tree.dot','r') as f:\n",
    "    text=f.read()\n",
    "    plot=Source(text)\n",
    "plot   "
   ]
  },
  {
   "cell_type": "markdown",
   "metadata": {
    "colab_type": "text",
    "id": "lht0NcF83ZeM"
   },
   "source": [
    "### 5.2 Predictions from Decision Tree Model   <a id='pdt'>"
   ]
  },
  {
   "cell_type": "code",
   "execution_count": 0,
   "metadata": {
    "colab": {},
    "colab_type": "code",
    "id": "bU0vPTsM3ZeN",
    "outputId": "5ddc3c7d-94ae-404a-da3b-c871cdf6e7db"
   },
   "outputs": [
    {
     "data": {
      "text/html": [
       "<div>\n",
       "<style scoped>\n",
       "    .dataframe tbody tr th:only-of-type {\n",
       "        vertical-align: middle;\n",
       "    }\n",
       "\n",
       "    .dataframe tbody tr th {\n",
       "        vertical-align: top;\n",
       "    }\n",
       "\n",
       "    .dataframe thead th {\n",
       "        text-align: right;\n",
       "    }\n",
       "</style>\n",
       "<table border=\"1\" class=\"dataframe\">\n",
       "  <thead>\n",
       "    <tr style=\"text-align: right;\">\n",
       "      <th></th>\n",
       "      <th>PassengerId</th>\n",
       "      <th>Pclass</th>\n",
       "      <th>Name</th>\n",
       "      <th>Sex</th>\n",
       "      <th>Age</th>\n",
       "      <th>SibSp</th>\n",
       "      <th>Parch</th>\n",
       "      <th>Ticket</th>\n",
       "      <th>Fare</th>\n",
       "      <th>Cabin</th>\n",
       "      <th>Embarked</th>\n",
       "    </tr>\n",
       "  </thead>\n",
       "  <tbody>\n",
       "    <tr>\n",
       "      <th>0</th>\n",
       "      <td>892</td>\n",
       "      <td>3</td>\n",
       "      <td>Kelly, Mr. James</td>\n",
       "      <td>male</td>\n",
       "      <td>34.5</td>\n",
       "      <td>0</td>\n",
       "      <td>0</td>\n",
       "      <td>330911</td>\n",
       "      <td>7.8292</td>\n",
       "      <td>NaN</td>\n",
       "      <td>Q</td>\n",
       "    </tr>\n",
       "    <tr>\n",
       "      <th>1</th>\n",
       "      <td>893</td>\n",
       "      <td>3</td>\n",
       "      <td>Wilkes, Mrs. James (Ellen Needs)</td>\n",
       "      <td>female</td>\n",
       "      <td>47.0</td>\n",
       "      <td>1</td>\n",
       "      <td>0</td>\n",
       "      <td>363272</td>\n",
       "      <td>7.0000</td>\n",
       "      <td>NaN</td>\n",
       "      <td>S</td>\n",
       "    </tr>\n",
       "    <tr>\n",
       "      <th>2</th>\n",
       "      <td>894</td>\n",
       "      <td>2</td>\n",
       "      <td>Myles, Mr. Thomas Francis</td>\n",
       "      <td>male</td>\n",
       "      <td>62.0</td>\n",
       "      <td>0</td>\n",
       "      <td>0</td>\n",
       "      <td>240276</td>\n",
       "      <td>9.6875</td>\n",
       "      <td>NaN</td>\n",
       "      <td>Q</td>\n",
       "    </tr>\n",
       "    <tr>\n",
       "      <th>3</th>\n",
       "      <td>895</td>\n",
       "      <td>3</td>\n",
       "      <td>Wirz, Mr. Albert</td>\n",
       "      <td>male</td>\n",
       "      <td>27.0</td>\n",
       "      <td>0</td>\n",
       "      <td>0</td>\n",
       "      <td>315154</td>\n",
       "      <td>8.6625</td>\n",
       "      <td>NaN</td>\n",
       "      <td>S</td>\n",
       "    </tr>\n",
       "    <tr>\n",
       "      <th>4</th>\n",
       "      <td>896</td>\n",
       "      <td>3</td>\n",
       "      <td>Hirvonen, Mrs. Alexander (Helga E Lindqvist)</td>\n",
       "      <td>female</td>\n",
       "      <td>22.0</td>\n",
       "      <td>1</td>\n",
       "      <td>1</td>\n",
       "      <td>3101298</td>\n",
       "      <td>12.2875</td>\n",
       "      <td>NaN</td>\n",
       "      <td>S</td>\n",
       "    </tr>\n",
       "  </tbody>\n",
       "</table>\n",
       "</div>"
      ],
      "text/plain": [
       "   PassengerId  Pclass                                          Name     Sex  \\\n",
       "0          892       3                              Kelly, Mr. James    male   \n",
       "1          893       3              Wilkes, Mrs. James (Ellen Needs)  female   \n",
       "2          894       2                     Myles, Mr. Thomas Francis    male   \n",
       "3          895       3                              Wirz, Mr. Albert    male   \n",
       "4          896       3  Hirvonen, Mrs. Alexander (Helga E Lindqvist)  female   \n",
       "\n",
       "    Age  SibSp  Parch   Ticket     Fare Cabin Embarked  \n",
       "0  34.5      0      0   330911   7.8292   NaN        Q  \n",
       "1  47.0      1      0   363272   7.0000   NaN        S  \n",
       "2  62.0      0      0   240276   9.6875   NaN        Q  \n",
       "3  27.0      0      0   315154   8.6625   NaN        S  \n",
       "4  22.0      1      1  3101298  12.2875   NaN        S  "
      ]
     },
     "execution_count": 23,
     "metadata": {
      "tags": []
     },
     "output_type": "execute_result"
    }
   ],
   "source": [
    "#This is the test dataset where we are going to predict who will survive.\n",
    "\n",
    "test_df.head()"
   ]
  },
  {
   "cell_type": "code",
   "execution_count": 0,
   "metadata": {
    "colab": {},
    "colab_type": "code",
    "id": "fjznRQc53ZeS"
   },
   "outputs": [],
   "source": [
    "# Feature Engineering\n",
    "\n",
    "test_df[\"Sex\"] = test_df[\"Sex\"].apply(lambda sex: 0 if sex == 'male' else 1)"
   ]
  },
  {
   "cell_type": "code",
   "execution_count": 0,
   "metadata": {
    "colab": {},
    "colab_type": "code",
    "id": "iIsW8Xgb3ZeV",
    "outputId": "fa7a584c-4dc4-475d-d053-cbaa18698549"
   },
   "outputs": [
    {
     "data": {
      "text/plain": [
       "array([[ 3.        ,  0.        , 34.5       ,  0.        ],\n",
       "       [ 3.        ,  1.        , 47.        ,  1.        ],\n",
       "       [ 2.        ,  0.        , 62.        ,  0.        ],\n",
       "       ...,\n",
       "       [ 3.        ,  0.        , 38.5       ,  0.        ],\n",
       "       [ 3.        ,  0.        , 30.27259036,  0.        ],\n",
       "       [ 3.        ,  0.        , 30.27259036,  1.        ]])"
      ]
     },
     "execution_count": 25,
     "metadata": {
      "tags": []
     },
     "output_type": "execute_result"
    }
   ],
   "source": [
    "# Filling missing values in test data \n",
    "\n",
    "features_test = test_df[list(columns)].values\n",
    "imp_test = Imputer(missing_values='NaN', strategy='mean', axis=0)\n",
    "x_test = imp_test.fit_transform(features_test)\n",
    "x_test"
   ]
  },
  {
   "cell_type": "code",
   "execution_count": 0,
   "metadata": {
    "colab": {},
    "colab_type": "code",
    "id": "t5yGoy_33Zeg"
   },
   "outputs": [],
   "source": [
    "# Predictions from Decision Tree Model\n",
    "\n",
    "y_pred = my_tree_one.predict(x_test)"
   ]
  },
  {
   "cell_type": "markdown",
   "metadata": {
    "colab_type": "text",
    "id": "_m-TINkH3Zej"
   },
   "source": [
    "### 5.3 Evaluating the Decision Tree Model  <a id='edt'>"
   ]
  },
  {
   "cell_type": "code",
   "execution_count": 0,
   "metadata": {
    "colab": {},
    "colab_type": "code",
    "id": "LT0cql7l3Zek",
    "outputId": "e0d5ef8f-69f9-4d1a-ccf6-f7a886e4169d"
   },
   "outputs": [
    {
     "data": {
      "text/plain": [
       "array([[467,  82],\n",
       "       [ 90, 252]])"
      ]
     },
     "execution_count": 27,
     "metadata": {
      "tags": []
     },
     "output_type": "execute_result"
    }
   ],
   "source": [
    "#Print Confusion matrix on Train Data\n",
    "from sklearn import metrics\n",
    "\n",
    "pred = my_tree_one.predict(X)\n",
    "df_confusion = metrics.confusion_matrix(y, pred)\n",
    "df_confusion"
   ]
  },
  {
   "cell_type": "code",
   "execution_count": 0,
   "metadata": {
    "colab": {},
    "colab_type": "code",
    "id": "DYDp4u6X3Zev",
    "outputId": "b70d6c57-14d4-4d13-c38e-5342099ec6d6"
   },
   "outputs": [
    {
     "data": {
      "text/plain": [
       "<matplotlib.axes._subplots.AxesSubplot at 0xe2a1c88>"
      ]
     },
     "execution_count": 28,
     "metadata": {
      "tags": []
     },
     "output_type": "execute_result"
    },
    {
     "data": {
      "image/png": "[encoded data removed]",
      "text/plain": [
       "<Figure size 432x288 with 2 Axes>"
      ]
     },
     "metadata": {
      "tags": []
     },
     "output_type": "display_data"
    }
   ],
   "source": [
    "cmap = sns.cubehelix_palette(50, hue=0.05, rot=0, light=0.9, dark=0, as_cmap=True)\n",
    "sns.heatmap(df_confusion,cmap = cmap,xticklabels=['Prediction No','Prediction Yes'],yticklabels=['Actual No','Actual Yes'], annot=True,\n",
    "            fmt='d')"
   ]
  },
  {
   "cell_type": "markdown",
   "metadata": {
    "colab_type": "text",
    "id": "4ZQKkbX-3Ze1"
   },
   "source": [
    "### 5.4 Parameter Tuning   <a id='ptdt'>"
   ]
  },
  {
   "cell_type": "markdown",
   "metadata": {
    "colab_type": "text",
    "id": "DXRxdXLQ3Ze2"
   },
   "source": [
    "#### What happen when we change the tree depth?"
   ]
  },
  {
   "cell_type": "code",
   "execution_count": 0,
   "metadata": {
    "colab": {},
    "colab_type": "code",
    "id": "Lopa_Frs3Ze3",
    "outputId": "2938d0a0-bd81-4309-b9d8-bf51730409ee"
   },
   "outputs": [
    {
     "name": "stdout",
     "output_type": "stream",
     "text": [
      "New Decision Tree Accuracy:  0.8720538720538721\n",
      "Original Decision Tree Accuracy 0.8069584736251403\n"
     ]
    }
   ],
   "source": [
    "# Setting \"max_depth\" to 10 and \"min_samples_split\" to 5 : my_tree_two\n",
    "\n",
    "max_depth = 10\n",
    "min_samples_split = 5\n",
    "my_tree_two = tree.DecisionTreeClassifier(max_depth = 10, min_samples_split = 5, random_state = 42)\n",
    "my_tree_two = my_tree_two.fit(X, y)\n",
    "\n",
    "#Print the score of both the decision tree\n",
    "\n",
    "print(\"New Decision Tree Accuracy: \",my_tree_two.score(X, y))\n",
    "print(\"Original Decision Tree Accuracy\",my_tree_one.score(X,y))"
   ]
  },
  {
   "cell_type": "markdown",
   "metadata": {
    "colab_type": "text",
    "id": "CBl2qpXc3Ze7"
   },
   "source": [
    "We have improved our model by fine tuning the parameters. This is called hyperparameters tuning."
   ]
  },
  {
   "cell_type": "code",
   "execution_count": 0,
   "metadata": {
    "colab": {},
    "colab_type": "code",
    "id": "jiZCwutZ3Ze9"
   },
   "outputs": [],
   "source": [
    "# Making predictions on our Train Data \n",
    "\n",
    "pred = my_tree_two.predict(X)"
   ]
  },
  {
   "cell_type": "code",
   "execution_count": 0,
   "metadata": {
    "colab": {},
    "colab_type": "code",
    "id": "RMmyjZch3ZfC",
    "outputId": "b8f15021-477e-42e1-8ceb-758016a932dd"
   },
   "outputs": [
    {
     "data": {
      "text/plain": [
       "array([[512,  37],\n",
       "       [ 77, 265]])"
      ]
     },
     "execution_count": 31,
     "metadata": {
      "tags": []
     },
     "output_type": "execute_result"
    }
   ],
   "source": [
    "# Building confusion matrix of our improved model\n",
    "\n",
    "df_confusion_new = metrics.confusion_matrix(y, pred)\n",
    "df_confusion_new"
   ]
  },
  {
   "cell_type": "code",
   "execution_count": 0,
   "metadata": {
    "colab": {},
    "colab_type": "code",
    "id": "4-2KFlCe3ZfG",
    "outputId": "9a42cb2a-5c09-4c02-fcd0-8cf219eaae33"
   },
   "outputs": [
    {
     "data": {
      "text/plain": [
       "<matplotlib.axes._subplots.AxesSubplot at 0xe2e7c50>"
      ]
     },
     "execution_count": 32,
     "metadata": {
      "tags": []
     },
     "output_type": "execute_result"
    },
    {
     "data": {
      "image/png": "[encoded data removed]",
      "text/plain": [
       "<Figure size 432x288 with 2 Axes>"
      ]
     },
     "metadata": {
      "tags": []
     },
     "output_type": "display_data"
    }
   ],
   "source": [
    "cmap = sns.cubehelix_palette(50, hue=0.05, rot=0, light=0.9, dark=0, as_cmap=True)\n",
    "sns.heatmap(df_confusion_new, cmap = cmap,xticklabels=['Prediction No','Prediction Yes'],yticklabels=['Actual No','Actual Yes'], annot=True,\n",
    "            fmt='d')"
   ]
  },
  {
   "cell_type": "markdown",
   "metadata": {
    "colab_type": "text",
    "id": "AoN7GER-3ZfT"
   },
   "source": [
    "#### Try by yourself"
   ]
  },
  {
   "cell_type": "code",
   "execution_count": 0,
   "metadata": {
    "colab": {},
    "colab_type": "code",
    "id": "5QO8bmpa3ZfU"
   },
   "outputs": [],
   "source": [
    "# Add new feature and then train the model\n",
    "\n",
    "train_df[\"family_size\"] = train_df.SibSp + train_df.Parch + 1"
   ]
  },
  {
   "cell_type": "markdown",
   "metadata": {
    "colab_type": "text",
    "id": "6Wme-Hcs3ZfX"
   },
   "source": [
    "### 6. Random Forest  <a id='rf'>"
   ]
  },
  {
   "cell_type": "code",
   "execution_count": 0,
   "metadata": {
    "colab": {},
    "colab_type": "code",
    "id": "WCs9o0xt3Zfi"
   },
   "outputs": [],
   "source": [
    "# Building and fitting Random Forest\n",
    "\n",
    "from sklearn.ensemble import RandomForestClassifier\n",
    "\n",
    "forest = RandomForestClassifier(max_depth = 10, n_estimators = 100, random_state = 1)"
   ]
  },
  {
   "cell_type": "markdown",
   "metadata": {
    "colab_type": "text",
    "id": "eRGRjIaG3Zfo"
   },
   "source": [
    "### 6.1 Training Random Forest Model  <a id='trf'>"
   ]
  },
  {
   "cell_type": "code",
   "execution_count": 0,
   "metadata": {
    "colab": {},
    "colab_type": "code",
    "id": "57y8Kb563Zfp"
   },
   "outputs": [],
   "source": [
    "# Fitting the model on Train Data\n",
    "\n",
    "my_forest = forest.fit(X, y)"
   ]
  },
  {
   "cell_type": "code",
   "execution_count": 0,
   "metadata": {
    "colab": {},
    "colab_type": "code",
    "id": "3NBizrtm3Zfs",
    "outputId": "74621811-1013-465f-f8b8-d4c98bc90317"
   },
   "outputs": [
    {
     "name": "stdout",
     "output_type": "stream",
     "text": [
      "0.9001122334455668\n"
     ]
    }
   ],
   "source": [
    "# Print the accuracy score of the fitted random forest\n",
    "\n",
    "print(my_forest.score(X, y))"
   ]
  },
  {
   "cell_type": "markdown",
   "metadata": {
    "colab_type": "text",
    "id": "d89WRX0B3Zfw"
   },
   "source": [
    " ### 6.2 Predictions from Random Forest Model   <a id='prf'>"
   ]
  },
  {
   "cell_type": "code",
   "execution_count": 0,
   "metadata": {
    "colab": {},
    "colab_type": "code",
    "id": "PCh-N_vf3Zfy"
   },
   "outputs": [],
   "source": [
    "# Making predictions\n",
    "\n",
    "pred = my_forest.predict(X)"
   ]
  },
  {
   "cell_type": "code",
   "execution_count": 0,
   "metadata": {
    "colab": {},
    "colab_type": "code",
    "id": "A-tRjgX53Zf0",
    "outputId": "82631e32-c1e2-4978-b2f6-427791d9a61e"
   },
   "outputs": [
    {
     "data": {
      "text/plain": [
       "[('Pclass', 0.15563663936098057),\n",
       " ('Sex', 0.39584442870450587),\n",
       " ('Age', 0.37593752393053426),\n",
       " ('SibSp', 0.07258140800397944)]"
      ]
     },
     "execution_count": 38,
     "metadata": {
      "tags": []
     },
     "output_type": "execute_result"
    }
   ],
   "source": [
    "list(zip(columns,my_forest.feature_importances_))"
   ]
  },
  {
   "cell_type": "markdown",
   "metadata": {
    "colab_type": "text",
    "id": "DPsbC3zV3Zf4"
   },
   "source": [
    "### 6.3 Evaluating the Random Forest Model   <a id='erf'>"
   ]
  },
  {
   "cell_type": "code",
   "execution_count": 0,
   "metadata": {
    "colab": {},
    "colab_type": "code",
    "id": "TujR8jua3Zf5",
    "outputId": "f2042fdf-f91c-44c5-8a00-ed47f8df973c"
   },
   "outputs": [
    {
     "data": {
      "text/plain": [
       "array([[518,  31],\n",
       "       [ 58, 284]])"
      ]
     },
     "execution_count": 39,
     "metadata": {
      "tags": []
     },
     "output_type": "execute_result"
    }
   ],
   "source": [
    "df_confusion_rf = metrics.confusion_matrix(y, pred)\n",
    "df_confusion_rf"
   ]
  },
  {
   "cell_type": "code",
   "execution_count": 0,
   "metadata": {
    "colab": {},
    "colab_type": "code",
    "id": "KPGj5Zo53Zf9",
    "outputId": "a73a84af-3574-4413-f98f-925e609e74c0"
   },
   "outputs": [
    {
     "data": {
      "text/plain": [
       "<matplotlib.axes._subplots.AxesSubplot at 0xe507128>"
      ]
     },
     "execution_count": 40,
     "metadata": {
      "tags": []
     },
     "output_type": "execute_result"
    },
    {
     "data": {
      "image/png": "[encoded data removed]",
      "text/plain": [
       "<Figure size 432x288 with 2 Axes>"
      ]
     },
     "metadata": {
      "tags": []
     },
     "output_type": "display_data"
    }
   ],
   "source": [
    "cmap = sns.cubehelix_palette(50, hue=0.05, rot=0, light=0.9, dark=0, as_cmap=True)\n",
    "sns.heatmap(df_confusion_rf, cmap = cmap,xticklabels=['Prediction No','Prediction Yes'],yticklabels=['Actual No','Actual Yes'], annot=True,\n",
    "            fmt='d')"
   ]
  },
  {
   "cell_type": "markdown",
   "metadata": {
    "colab_type": "text",
    "collapsed": true,
    "id": "97tf9VJe3ZgE"
   },
   "source": [
    "### 7. Appendix  <a id = 'appendix'>\n",
    "\n",
    "** Grid Search **\n",
    "\n",
    "Grid-searching is the process of scanning the data to configure optimal parameters for a given model.  <br>\n",
    "Let's apply Grid Search on a Decision Tree Model. It has many parameters like tree depth, criterion... etc. We will build different models with different combinations of these parameters and come up with the best model. \n"
   ]
  },
  {
   "cell_type": "code",
   "execution_count": 0,
   "metadata": {
    "colab": {},
    "colab_type": "code",
    "id": "-7nDi-1s3ZgG"
   },
   "outputs": [],
   "source": [
    "# Different parameters we want to test\n",
    "\n",
    "max_depth = [5,10,15] \n",
    "criterion = ['gini', 'entropy']"
   ]
  },
  {
   "cell_type": "code",
   "execution_count": 0,
   "metadata": {
    "colab": {},
    "colab_type": "code",
    "id": "WRMdtqRJ3ZgJ"
   },
   "outputs": [],
   "source": [
    "# Importing GridSearch\n",
    "\n",
    "from sklearn.grid_search import GridSearchCV"
   ]
  },
  {
   "cell_type": "code",
   "execution_count": 0,
   "metadata": {
    "colab": {},
    "colab_type": "code",
    "id": "LtriakTF3ZgP"
   },
   "outputs": [],
   "source": [
    "# Building the model\n",
    "\n",
    "my_tree_three = tree.DecisionTreeClassifier()\n",
    "\n",
    "# Cross-validation tells how well a model performs on a dataset using multiple samples of train data\n",
    "grid = GridSearchCV(estimator = my_tree_three, cv=3, \n",
    "                    param_grid = dict(max_depth = max_depth, criterion = criterion))"
   ]
  },
  {
   "cell_type": "code",
   "execution_count": 0,
   "metadata": {
    "colab": {},
    "colab_type": "code",
    "id": "Mi3rE_ZK3ZgS",
    "outputId": "0ff7d432-7014-433f-9230-fa564a4f0287"
   },
   "outputs": [
    {
     "data": {
      "text/plain": [
       "GridSearchCV(cv=3, error_score='raise',\n",
       "       estimator=DecisionTreeClassifier(class_weight=None, criterion='gini', max_depth=None,\n",
       "            max_features=None, max_leaf_nodes=None, min_samples_leaf=1,\n",
       "            min_samples_split=2, min_weight_fraction_leaf=0.0,\n",
       "            presort=False, random_state=None, splitter='best'),\n",
       "       fit_params={}, iid=True, n_jobs=1,\n",
       "       param_grid={'max_depth': [5, 10, 15], 'criterion': ['gini', 'entropy']},\n",
       "       pre_dispatch='2*n_jobs', refit=True, scoring=None, verbose=0)"
      ]
     },
     "execution_count": 48,
     "metadata": {
      "tags": []
     },
     "output_type": "execute_result"
    }
   ],
   "source": [
    "grid.fit(X,y)"
   ]
  },
  {
   "cell_type": "code",
   "execution_count": 0,
   "metadata": {
    "colab": {},
    "colab_type": "code",
    "id": "AccBJDCC3ZgW",
    "outputId": "24ea23be-9104-4a35-85b9-e65d6a893434"
   },
   "outputs": [
    {
     "data": {
      "text/plain": [
       "0.8103254769921436"
      ]
     },
     "execution_count": 49,
     "metadata": {
      "tags": []
     },
     "output_type": "execute_result"
    }
   ],
   "source": [
    "# Best accuracy score\n",
    "\n",
    "grid.best_score_"
   ]
  },
  {
   "cell_type": "code",
   "execution_count": 0,
   "metadata": {
    "colab": {},
    "colab_type": "code",
    "id": "1TMkA1Kz3ZgY",
    "outputId": "8f637c39-a979-49e5-9e4a-15bdd8da3d00"
   },
   "outputs": [
    {
     "data": {
      "text/plain": [
       "{'criterion': 'entropy', 'max_depth': 10}"
      ]
     },
     "execution_count": 50,
     "metadata": {
      "tags": []
     },
     "output_type": "execute_result"
    }
   ],
   "source": [
    "# Best parameters for the model\n",
    "\n",
    "grid.best_params_"
   ]
  },
  {
   "cell_type": "code",
   "execution_count": 0,
   "metadata": {
    "colab": {},
    "colab_type": "code",
    "id": "TSRkOH_F3Zge"
   },
   "outputs": [],
   "source": [
    "# Building the model based on new parameters\n",
    "\n",
    "my_tree_three = tree.DecisionTreeClassifier(criterion= 'entropy', max_depth= 10, random_state=42)"
   ]
  },
  {
   "cell_type": "code",
   "execution_count": 0,
   "metadata": {
    "colab": {},
    "colab_type": "code",
    "id": "u4mPjHco3Zgg",
    "outputId": "5e24c87e-5837-432f-db8f-22d5023d43ed"
   },
   "outputs": [
    {
     "data": {
      "text/plain": [
       "DecisionTreeClassifier(class_weight=None, criterion='entropy', max_depth=10,\n",
       "            max_features=None, max_leaf_nodes=None, min_samples_leaf=1,\n",
       "            min_samples_split=2, min_weight_fraction_leaf=0.0,\n",
       "            presort=False, random_state=42, splitter='best')"
      ]
     },
     "execution_count": 52,
     "metadata": {
      "tags": []
     },
     "output_type": "execute_result"
    }
   ],
   "source": [
    "my_tree_three.fit(X,y)"
   ]
  },
  {
   "cell_type": "code",
   "execution_count": 0,
   "metadata": {
    "colab": {},
    "colab_type": "code",
    "id": "YBPFfs0y3Zgj",
    "outputId": "c970b81c-07b0-44bf-b0cf-72e2df2da4fe"
   },
   "outputs": [
    {
     "data": {
      "text/plain": [
       "0.8832772166105499"
      ]
     },
     "execution_count": 53,
     "metadata": {
      "tags": []
     },
     "output_type": "execute_result"
    }
   ],
   "source": [
    "# Accuracy Score for new model\n",
    "\n",
    "my_tree_three.score(X,y)"
   ]
  },
  {
   "cell_type": "markdown",
   "metadata": {
    "colab_type": "text",
    "id": "n-TgaJM03Zgn"
   },
   "source": [
    "**Observation: **Our accuracy score improve from 0.87 to 0.88 "
   ]
  },
  {
   "cell_type": "markdown",
   "metadata": {
    "colab_type": "text",
    "collapsed": true,
    "id": "wEzsc58X3Zgo"
   },
   "source": [
    "**Randomized Search**\n",
    "\n",
    "Using Randomized Search, we can define a grid of hyperparameters and randomly sample from the grid to get the best combination of values. <br>\n",
    "Lets apply Randomized search on Random Forest model. This model has plenty of parameters like number of trees, depth of trees...etc. We will evaluate models with different parameters and come up with the best model."
   ]
  },
  {
   "cell_type": "code",
   "execution_count": 0,
   "metadata": {
    "colab": {},
    "colab_type": "code",
    "id": "1XPZQaPi3Zgp"
   },
   "outputs": [],
   "source": [
    "# Different parameters we want to test\n",
    "\n",
    "# Number of trees in random forest\n",
    "n_estimators = [int(x) for x in np.linspace(start = 200, stop = 1000, num = 10)]\n",
    "# Number of features to consider at every split\n",
    "max_features = ['auto', 'sqrt']\n",
    "# Maximum number of levels in tree\n",
    "max_depth = [int(x) for x in np.linspace(10, 110, num = 11)]\n",
    "max_depth.append(None)\n",
    "# Minimum number of samples required to split a node\n",
    "min_samples_split = [2, 5, 10]\n",
    "# Minimum number of samples required at each leaf node\n",
    "min_samples_leaf = [1, 2, 4]\n",
    "# Method of selecting samples for training each tree\n",
    "bootstrap = [True, False]"
   ]
  },
  {
   "cell_type": "code",
   "execution_count": 0,
   "metadata": {
    "colab": {},
    "colab_type": "code",
    "id": "A_F--4ic3Zgs"
   },
   "outputs": [],
   "source": [
    "random_grid = {'n_estimators': n_estimators,\n",
    "               'max_features': max_features,\n",
    "               'max_depth': max_depth,\n",
    "               'min_samples_split': min_samples_split,\n",
    "               'min_samples_leaf': min_samples_leaf,\n",
    "               'bootstrap': bootstrap}"
   ]
  },
  {
   "cell_type": "code",
   "execution_count": 0,
   "metadata": {
    "colab": {},
    "colab_type": "code",
    "id": "8JyRt0Dn3Zgu"
   },
   "outputs": [],
   "source": [
    "# Importing RandomizedSearchCV\n",
    "\n",
    "from sklearn.grid_search import RandomizedSearchCV"
   ]
  },
  {
   "cell_type": "code",
   "execution_count": 0,
   "metadata": {
    "colab": {},
    "colab_type": "code",
    "id": "bzds47ZZ3Zgx"
   },
   "outputs": [],
   "source": [
    "forest_two = RandomForestClassifier()\n",
    "\n",
    "# Fitting 3 folds for each of 100 candidates, totalling 300 fits\n",
    "rf_random = RandomizedSearchCV(estimator = forest_two, param_distributions = random_grid, \n",
    "                               n_iter = 100, cv = 3, verbose=2, random_state=42)"
   ]
  },
  {
   "cell_type": "code",
   "execution_count": 0,
   "metadata": {
    "colab": {},
    "colab_type": "code",
    "id": "Nd8z2bvK3Zg4",
    "outputId": "00a625f5-eb4f-40e6-e4d8-4bce7a280027"
   },
   "outputs": [
    {
     "name": "stdout",
     "output_type": "stream",
     "text": [
      "Fitting 3 folds for each of 100 candidates, totalling 300 fits\n",
      "[CV] max_depth=50, bootstrap=True, max_features=sqrt, min_samples_split=10, min_samples_leaf=2, n_estimators=200 \n",
      "[CV]  max_depth=50, bootstrap=True, max_features=sqrt, min_samples_split=10, min_samples_leaf=2, n_estimators=200 -   0.3s\n",
      "[CV] max_depth=50, bootstrap=True, max_features=sqrt, min_samples_split=10, min_samples_leaf=2, n_estimators=200 \n",
      "[CV]  max_depth=50, bootstrap=True, max_features=sqrt, min_samples_split=10, min_samples_leaf=2, n_estimators=200 -   0.3s\n",
      "[CV] max_depth=50, bootstrap=True, max_features=sqrt, min_samples_split=10, min_samples_leaf=2, n_estimators=200 \n",
      "[CV]  max_depth=50, bootstrap=True, max_features=sqrt, min_samples_split=10, min_samples_leaf=2, n_estimators=200 -   0.3s\n",
      "[CV] max_depth=90, bootstrap=False, max_features=sqrt, min_samples_split=10, min_samples_leaf=4, n_estimators=377 \n",
      "[CV]  max_depth=90, bootstrap=False, max_features=sqrt, min_samples_split=10, min_samples_leaf=4, n_estimators=377 -   0.6s\n",
      "[CV] max_depth=90, bootstrap=False, max_features=sqrt, min_samples_split=10, min_samples_leaf=4, n_estimators=377 \n",
      "[CV]  max_depth=90, bootstrap=False, max_features=sqrt, min_samples_split=10, min_samples_leaf=4, n_estimators=377 -   0.6s\n",
      "[CV] max_depth=90, bootstrap=False, max_features=sqrt, min_samples_split=10, min_samples_leaf=4, n_estimators=377 \n",
      "[CV]  max_depth=90, bootstrap=False, max_features=sqrt, min_samples_split=10, min_samples_leaf=4, n_estimators=377 -   0.6s\n",
      "[CV] max_depth=60, bootstrap=False, max_features=auto, min_samples_split=2, min_samples_leaf=2, n_estimators=377 \n",
      "[CV]  max_depth=60, bootstrap=False, max_features=auto, min_samples_split=2, min_samples_leaf=2, n_estimators=377 -   0.6s\n",
      "[CV] max_depth=60, bootstrap=False, max_features=auto, min_samples_split=2, min_samples_leaf=2, n_estimators=377 \n",
      "[CV]  max_depth=60, bootstrap=False, max_features=auto, min_samples_split=2, min_samples_leaf=2, n_estimators=377 -   0.6s\n",
      "[CV] max_depth=60, bootstrap=False, max_features=auto, min_samples_split=2, min_samples_leaf=2, n_estimators=377 \n",
      "[CV]  max_depth=60, bootstrap=False, max_features=auto, min_samples_split=2, min_samples_leaf=2, n_estimators=377 -   0.6s\n",
      "[CV] max_depth=30, bootstrap=True, max_features=sqrt, min_samples_split=5, min_samples_leaf=1, n_estimators=733 \n",
      "[CV]  max_depth=30, bootstrap=True, max_features=sqrt, min_samples_split=5, min_samples_leaf=1, n_estimators=733 -   1.3s\n",
      "[CV] max_depth=30, bootstrap=True, max_features=sqrt, min_samples_split=5, min_samples_leaf=1, n_estimators=733 \n",
      "[CV]  max_depth=30, bootstrap=True, max_features=sqrt, min_samples_split=5, min_samples_leaf=1, n_estimators=733 -   1.3s\n",
      "[CV] max_depth=30, bootstrap=True, max_features=sqrt, min_samples_split=5, min_samples_leaf=1, n_estimators=733 \n",
      "[CV]  max_depth=30, bootstrap=True, max_features=sqrt, min_samples_split=5, min_samples_leaf=1, n_estimators=733 -   1.5s\n",
      "[CV] max_depth=80, bootstrap=False, max_features=auto, min_samples_split=10, min_samples_leaf=1, n_estimators=555 \n",
      "[CV]  max_depth=80, bootstrap=False, max_features=auto, min_samples_split=10, min_samples_leaf=1, n_estimators=555 -   1.0s\n",
      "[CV] max_depth=80, bootstrap=False, max_features=auto, min_samples_split=10, min_samples_leaf=1, n_estimators=555 \n",
      "[CV]  max_depth=80, bootstrap=False, max_features=auto, min_samples_split=10, min_samples_leaf=1, n_estimators=555 -   1.0s\n",
      "[CV] max_depth=80, bootstrap=False, max_features=auto, min_samples_split=10, min_samples_leaf=1, n_estimators=555 \n",
      "[CV]  max_depth=80, bootstrap=False, max_features=auto, min_samples_split=10, min_samples_leaf=1, n_estimators=555 -   0.9s\n",
      "[CV] max_depth=60, bootstrap=False, max_features=sqrt, min_samples_split=10, min_samples_leaf=1, n_estimators=288 \n",
      "[CV]  max_depth=60, bootstrap=False, max_features=sqrt, min_samples_split=10, min_samples_leaf=1, n_estimators=288 -   0.4s\n",
      "[CV] max_depth=60, bootstrap=False, max_features=sqrt, min_samples_split=10, min_samples_leaf=1, n_estimators=288 \n",
      "[CV]  max_depth=60, bootstrap=False, max_features=sqrt, min_samples_split=10, min_samples_leaf=1, n_estimators=288 -   0.4s\n",
      "[CV] max_depth=60, bootstrap=False, max_features=sqrt, min_samples_split=10, min_samples_leaf=1, n_estimators=288 \n",
      "[CV]  max_depth=60, bootstrap=False, max_features=sqrt, min_samples_split=10, min_samples_leaf=1, n_estimators=288 -   0.4s\n",
      "[CV] max_depth=50, bootstrap=False, max_features=auto, min_samples_split=2, min_samples_leaf=2, n_estimators=1000 \n",
      "[CV]  max_depth=50, bootstrap=False, max_features=auto, min_samples_split=2, min_samples_leaf=2, n_estimators=1000 -   1.7s\n",
      "[CV] max_depth=50, bootstrap=False, max_features=auto, min_samples_split=2, min_samples_leaf=2, n_estimators=1000 \n",
      "[CV]  max_depth=50, bootstrap=False, max_features=auto, min_samples_split=2, min_samples_leaf=2, n_estimators=1000 -   1.8s\n",
      "[CV] max_depth=50, bootstrap=False, max_features=auto, min_samples_split=2, min_samples_leaf=2, n_estimators=1000 \n",
      "[CV]  max_depth=50, bootstrap=False, max_features=auto, min_samples_split=2, min_samples_leaf=2, n_estimators=1000 -   1.8s\n",
      "[CV] max_depth=10, bootstrap=True, max_features=sqrt, min_samples_split=5, min_samples_leaf=2, n_estimators=200 \n",
      "[CV]  max_depth=10, bootstrap=True, max_features=sqrt, min_samples_split=5, min_samples_leaf=2, n_estimators=200 -   0.3s\n",
      "[CV] max_depth=10, bootstrap=True, max_features=sqrt, min_samples_split=5, min_samples_leaf=2, n_estimators=200 \n",
      "[CV]  max_depth=10, bootstrap=True, max_features=sqrt, min_samples_split=5, min_samples_leaf=2, n_estimators=200 -   0.3s\n",
      "[CV] max_depth=10, bootstrap=True, max_features=sqrt, min_samples_split=5, min_samples_leaf=2, n_estimators=200 \n",
      "[CV]  max_depth=10, bootstrap=True, max_features=sqrt, min_samples_split=5, min_samples_leaf=2, n_estimators=200 -   0.3s\n",
      "[CV] max_depth=100, bootstrap=True, max_features=auto, min_samples_split=2, min_samples_leaf=4, n_estimators=644 \n",
      "[CV]  max_depth=100, bootstrap=True, max_features=auto, min_samples_split=2, min_samples_leaf=4, n_estimators=644 -   1.0s\n",
      "[CV] max_depth=100, bootstrap=True, max_features=auto, min_samples_split=2, min_samples_leaf=4, n_estimators=644 \n",
      "[CV]  max_depth=100, bootstrap=True, max_features=auto, min_samples_split=2, min_samples_leaf=4, n_estimators=644 -   1.0s\n",
      "[CV] max_depth=100, bootstrap=True, max_features=auto, min_samples_split=2, min_samples_leaf=4, n_estimators=644 \n",
      "[CV]  max_depth=100, bootstrap=True, max_features=auto, min_samples_split=2, min_samples_leaf=4, n_estimators=644 -   1.1s\n",
      "[CV] max_depth=50, bootstrap=True, max_features=auto, min_samples_split=5, min_samples_leaf=2, n_estimators=1000 \n",
      "[CV]  max_depth=50, bootstrap=True, max_features=auto, min_samples_split=5, min_samples_leaf=2, n_estimators=1000 -   1.8s\n",
      "[CV] max_depth=50, bootstrap=True, max_features=auto, min_samples_split=5, min_samples_leaf=2, n_estimators=1000 \n",
      "[CV]  max_depth=50, bootstrap=True, max_features=auto, min_samples_split=5, min_samples_leaf=2, n_estimators=1000 -   1.9s\n",
      "[CV] max_depth=50, bootstrap=True, max_features=auto, min_samples_split=5, min_samples_leaf=2, n_estimators=1000 \n",
      "[CV]  max_depth=50, bootstrap=True, max_features=auto, min_samples_split=5, min_samples_leaf=2, n_estimators=1000 -   1.8s\n",
      "[CV] max_depth=20, bootstrap=False, max_features=auto, min_samples_split=10, min_samples_leaf=2, n_estimators=288 \n",
      "[CV]  max_depth=20, bootstrap=False, max_features=auto, min_samples_split=10, min_samples_leaf=2, n_estimators=288 -   0.5s\n",
      "[CV] max_depth=20, bootstrap=False, max_features=auto, min_samples_split=10, min_samples_leaf=2, n_estimators=288 \n",
      "[CV]  max_depth=20, bootstrap=False, max_features=auto, min_samples_split=10, min_samples_leaf=2, n_estimators=288 -   0.5s\n",
      "[CV] max_depth=20, bootstrap=False, max_features=auto, min_samples_split=10, min_samples_leaf=2, n_estimators=288 \n",
      "[CV]  max_depth=20, bootstrap=False, max_features=auto, min_samples_split=10, min_samples_leaf=2, n_estimators=288 -   0.5s\n",
      "[CV] max_depth=20, bootstrap=False, max_features=sqrt, min_samples_split=2, min_samples_leaf=1, n_estimators=466 \n",
      "[CV]  max_depth=20, bootstrap=False, max_features=sqrt, min_samples_split=2, min_samples_leaf=1, n_estimators=466 -   0.9s\n",
      "[CV] max_depth=20, bootstrap=False, max_features=sqrt, min_samples_split=2, min_samples_leaf=1, n_estimators=466 \n",
      "[CV]  max_depth=20, bootstrap=False, max_features=sqrt, min_samples_split=2, min_samples_leaf=1, n_estimators=466 -   0.9s\n",
      "[CV] max_depth=20, bootstrap=False, max_features=sqrt, min_samples_split=2, min_samples_leaf=1, n_estimators=466 \n",
      "[CV]  max_depth=20, bootstrap=False, max_features=sqrt, min_samples_split=2, min_samples_leaf=1, n_estimators=466 -   0.9s\n",
      "[CV] max_depth=70, bootstrap=True, max_features=sqrt, min_samples_split=5, min_samples_leaf=1, n_estimators=555 \n",
      "[CV]  max_depth=70, bootstrap=True, max_features=sqrt, min_samples_split=5, min_samples_leaf=1, n_estimators=555 -   1.0s\n",
      "[CV] max_depth=70, bootstrap=True, max_features=sqrt, min_samples_split=5, min_samples_leaf=1, n_estimators=555 \n",
      "[CV]  max_depth=70, bootstrap=True, max_features=sqrt, min_samples_split=5, min_samples_leaf=1, n_estimators=555 -   1.0s\n",
      "[CV] max_depth=70, bootstrap=True, max_features=sqrt, min_samples_split=5, min_samples_leaf=1, n_estimators=555 \n",
      "[CV]  max_depth=70, bootstrap=True, max_features=sqrt, min_samples_split=5, min_samples_leaf=1, n_estimators=555 -   1.0s\n",
      "[CV] max_depth=70, bootstrap=False, max_features=sqrt, min_samples_split=10, min_samples_leaf=2, n_estimators=644 \n",
      "[CV]  max_depth=70, bootstrap=False, max_features=sqrt, min_samples_split=10, min_samples_leaf=2, n_estimators=644 -   1.1s\n",
      "[CV] max_depth=70, bootstrap=False, max_features=sqrt, min_samples_split=10, min_samples_leaf=2, n_estimators=644 \n"
     ]
    },
    {
     "name": "stderr",
     "output_type": "stream",
     "text": [
      "[Parallel(n_jobs=1)]: Done  40 tasks       | elapsed:   39.7s\n"
     ]
    },
    {
     "name": "stdout",
     "output_type": "stream",
     "text": [
      "[CV]  max_depth=70, bootstrap=False, max_features=sqrt, min_samples_split=10, min_samples_leaf=2, n_estimators=644 -   1.2s\n",
      "[CV] max_depth=70, bootstrap=False, max_features=sqrt, min_samples_split=10, min_samples_leaf=2, n_estimators=644 \n",
      "[CV]  max_depth=70, bootstrap=False, max_features=sqrt, min_samples_split=10, min_samples_leaf=2, n_estimators=644 -   1.2s\n",
      "[CV] max_depth=110, bootstrap=False, max_features=sqrt, min_samples_split=2, min_samples_leaf=4, n_estimators=822 \n",
      "[CV]  max_depth=110, bootstrap=False, max_features=sqrt, min_samples_split=2, min_samples_leaf=4, n_estimators=822 -   1.5s\n",
      "[CV] max_depth=110, bootstrap=False, max_features=sqrt, min_samples_split=2, min_samples_leaf=4, n_estimators=822 \n",
      "[CV]  max_depth=110, bootstrap=False, max_features=sqrt, min_samples_split=2, min_samples_leaf=4, n_estimators=822 -   1.5s\n",
      "[CV] max_depth=110, bootstrap=False, max_features=sqrt, min_samples_split=2, min_samples_leaf=4, n_estimators=822 \n",
      "[CV]  max_depth=110, bootstrap=False, max_features=sqrt, min_samples_split=2, min_samples_leaf=4, n_estimators=822 -   1.6s\n",
      "[CV] max_depth=50, bootstrap=False, max_features=auto, min_samples_split=10, min_samples_leaf=1, n_estimators=555 \n",
      "[CV]  max_depth=50, bootstrap=False, max_features=auto, min_samples_split=10, min_samples_leaf=1, n_estimators=555 -   1.0s\n",
      "[CV] max_depth=50, bootstrap=False, max_features=auto, min_samples_split=10, min_samples_leaf=1, n_estimators=555 \n",
      "[CV]  max_depth=50, bootstrap=False, max_features=auto, min_samples_split=10, min_samples_leaf=1, n_estimators=555 -   1.1s\n",
      "[CV] max_depth=50, bootstrap=False, max_features=auto, min_samples_split=10, min_samples_leaf=1, n_estimators=555 \n",
      "[CV]  max_depth=50, bootstrap=False, max_features=auto, min_samples_split=10, min_samples_leaf=1, n_estimators=555 -   1.1s\n",
      "[CV] max_depth=30, bootstrap=True, max_features=sqrt, min_samples_split=10, min_samples_leaf=1, n_estimators=555 \n",
      "[CV]  max_depth=30, bootstrap=True, max_features=sqrt, min_samples_split=10, min_samples_leaf=1, n_estimators=555 -   1.0s\n",
      "[CV] max_depth=30, bootstrap=True, max_features=sqrt, min_samples_split=10, min_samples_leaf=1, n_estimators=555 \n",
      "[CV]  max_depth=30, bootstrap=True, max_features=sqrt, min_samples_split=10, min_samples_leaf=1, n_estimators=555 -   1.0s\n",
      "[CV] max_depth=30, bootstrap=True, max_features=sqrt, min_samples_split=10, min_samples_leaf=1, n_estimators=555 \n",
      "[CV]  max_depth=30, bootstrap=True, max_features=sqrt, min_samples_split=10, min_samples_leaf=1, n_estimators=555 -   0.9s\n",
      "[CV] max_depth=70, bootstrap=True, max_features=auto, min_samples_split=2, min_samples_leaf=1, n_estimators=377 \n",
      "[CV]  max_depth=70, bootstrap=True, max_features=auto, min_samples_split=2, min_samples_leaf=1, n_estimators=377 -   0.6s\n",
      "[CV] max_depth=70, bootstrap=True, max_features=auto, min_samples_split=2, min_samples_leaf=1, n_estimators=377 \n",
      "[CV]  max_depth=70, bootstrap=True, max_features=auto, min_samples_split=2, min_samples_leaf=1, n_estimators=377 -   0.6s\n",
      "[CV] max_depth=70, bootstrap=True, max_features=auto, min_samples_split=2, min_samples_leaf=1, n_estimators=377 \n",
      "[CV]  max_depth=70, bootstrap=True, max_features=auto, min_samples_split=2, min_samples_leaf=1, n_estimators=377 -   0.6s\n",
      "[CV] max_depth=30, bootstrap=False, max_features=auto, min_samples_split=2, min_samples_leaf=2, n_estimators=911 \n",
      "[CV]  max_depth=30, bootstrap=False, max_features=auto, min_samples_split=2, min_samples_leaf=2, n_estimators=911 -   1.7s\n",
      "[CV] max_depth=30, bootstrap=False, max_features=auto, min_samples_split=2, min_samples_leaf=2, n_estimators=911 \n",
      "[CV]  max_depth=30, bootstrap=False, max_features=auto, min_samples_split=2, min_samples_leaf=2, n_estimators=911 -   1.6s\n",
      "[CV] max_depth=30, bootstrap=False, max_features=auto, min_samples_split=2, min_samples_leaf=2, n_estimators=911 \n",
      "[CV]  max_depth=30, bootstrap=False, max_features=auto, min_samples_split=2, min_samples_leaf=2, n_estimators=911 -   1.6s\n",
      "[CV] max_depth=None, bootstrap=True, max_features=auto, min_samples_split=2, min_samples_leaf=4, n_estimators=822 \n",
      "[CV]  max_depth=None, bootstrap=True, max_features=auto, min_samples_split=2, min_samples_leaf=4, n_estimators=822 -   1.4s\n",
      "[CV] max_depth=None, bootstrap=True, max_features=auto, min_samples_split=2, min_samples_leaf=4, n_estimators=822 \n",
      "[CV]  max_depth=None, bootstrap=True, max_features=auto, min_samples_split=2, min_samples_leaf=4, n_estimators=822 -   1.4s\n",
      "[CV] max_depth=None, bootstrap=True, max_features=auto, min_samples_split=2, min_samples_leaf=4, n_estimators=822 \n",
      "[CV]  max_depth=None, bootstrap=True, max_features=auto, min_samples_split=2, min_samples_leaf=4, n_estimators=822 -   1.4s\n",
      "[CV] max_depth=40, bootstrap=False, max_features=auto, min_samples_split=5, min_samples_leaf=2, n_estimators=822 \n",
      "[CV]  max_depth=40, bootstrap=False, max_features=auto, min_samples_split=5, min_samples_leaf=2, n_estimators=822 -   1.5s\n",
      "[CV] max_depth=40, bootstrap=False, max_features=auto, min_samples_split=5, min_samples_leaf=2, n_estimators=822 \n",
      "[CV]  max_depth=40, bootstrap=False, max_features=auto, min_samples_split=5, min_samples_leaf=2, n_estimators=822 -   1.6s\n",
      "[CV] max_depth=40, bootstrap=False, max_features=auto, min_samples_split=5, min_samples_leaf=2, n_estimators=822 \n",
      "[CV]  max_depth=40, bootstrap=False, max_features=auto, min_samples_split=5, min_samples_leaf=2, n_estimators=822 -   1.6s\n",
      "[CV] max_depth=60, bootstrap=True, max_features=auto, min_samples_split=5, min_samples_leaf=4, n_estimators=644 \n",
      "[CV]  max_depth=60, bootstrap=True, max_features=auto, min_samples_split=5, min_samples_leaf=4, n_estimators=644 -   1.1s\n",
      "[CV] max_depth=60, bootstrap=True, max_features=auto, min_samples_split=5, min_samples_leaf=4, n_estimators=644 \n",
      "[CV]  max_depth=60, bootstrap=True, max_features=auto, min_samples_split=5, min_samples_leaf=4, n_estimators=644 -   1.1s\n",
      "[CV] max_depth=60, bootstrap=True, max_features=auto, min_samples_split=5, min_samples_leaf=4, n_estimators=644 \n",
      "[CV]  max_depth=60, bootstrap=True, max_features=auto, min_samples_split=5, min_samples_leaf=4, n_estimators=644 -   1.1s\n",
      "[CV] max_depth=110, bootstrap=True, max_features=auto, min_samples_split=2, min_samples_leaf=1, n_estimators=733 \n",
      "[CV]  max_depth=110, bootstrap=True, max_features=auto, min_samples_split=2, min_samples_leaf=1, n_estimators=733 -   1.4s\n",
      "[CV] max_depth=110, bootstrap=True, max_features=auto, min_samples_split=2, min_samples_leaf=1, n_estimators=733 \n",
      "[CV]  max_depth=110, bootstrap=True, max_features=auto, min_samples_split=2, min_samples_leaf=1, n_estimators=733 -   1.4s\n",
      "[CV] max_depth=110, bootstrap=True, max_features=auto, min_samples_split=2, min_samples_leaf=1, n_estimators=733 \n",
      "[CV]  max_depth=110, bootstrap=True, max_features=auto, min_samples_split=2, min_samples_leaf=1, n_estimators=733 -   1.5s\n",
      "[CV] max_depth=20, bootstrap=True, max_features=auto, min_samples_split=2, min_samples_leaf=1, n_estimators=1000 \n",
      "[CV]  max_depth=20, bootstrap=True, max_features=auto, min_samples_split=2, min_samples_leaf=1, n_estimators=1000 -   1.8s\n",
      "[CV] max_depth=20, bootstrap=True, max_features=auto, min_samples_split=2, min_samples_leaf=1, n_estimators=1000 \n",
      "[CV]  max_depth=20, bootstrap=True, max_features=auto, min_samples_split=2, min_samples_leaf=1, n_estimators=1000 -   1.9s\n",
      "[CV] max_depth=20, bootstrap=True, max_features=auto, min_samples_split=2, min_samples_leaf=1, n_estimators=1000 \n",
      "[CV]  max_depth=20, bootstrap=True, max_features=auto, min_samples_split=2, min_samples_leaf=1, n_estimators=1000 -   1.9s\n",
      "[CV] max_depth=40, bootstrap=False, max_features=auto, min_samples_split=2, min_samples_leaf=2, n_estimators=555 \n",
      "[CV]  max_depth=40, bootstrap=False, max_features=auto, min_samples_split=2, min_samples_leaf=2, n_estimators=555 -   1.0s\n",
      "[CV] max_depth=40, bootstrap=False, max_features=auto, min_samples_split=2, min_samples_leaf=2, n_estimators=555 \n",
      "[CV]  max_depth=40, bootstrap=False, max_features=auto, min_samples_split=2, min_samples_leaf=2, n_estimators=555 -   1.1s\n",
      "[CV] max_depth=40, bootstrap=False, max_features=auto, min_samples_split=2, min_samples_leaf=2, n_estimators=555 \n",
      "[CV]  max_depth=40, bootstrap=False, max_features=auto, min_samples_split=2, min_samples_leaf=2, n_estimators=555 -   1.1s\n",
      "[CV] max_depth=50, bootstrap=False, max_features=sqrt, min_samples_split=2, min_samples_leaf=2, n_estimators=644 \n",
      "[CV]  max_depth=50, bootstrap=False, max_features=sqrt, min_samples_split=2, min_samples_leaf=2, n_estimators=644 -   1.3s\n",
      "[CV] max_depth=50, bootstrap=False, max_features=sqrt, min_samples_split=2, min_samples_leaf=2, n_estimators=644 \n",
      "[CV]  max_depth=50, bootstrap=False, max_features=sqrt, min_samples_split=2, min_samples_leaf=2, n_estimators=644 -   1.2s\n",
      "[CV] max_depth=50, bootstrap=False, max_features=sqrt, min_samples_split=2, min_samples_leaf=2, n_estimators=644 \n",
      "[CV]  max_depth=50, bootstrap=False, max_features=sqrt, min_samples_split=2, min_samples_leaf=2, n_estimators=644 -   1.2s\n",
      "[CV] max_depth=110, bootstrap=True, max_features=sqrt, min_samples_split=2, min_samples_leaf=1, n_estimators=1000 \n",
      "[CV]  max_depth=110, bootstrap=True, max_features=sqrt, min_samples_split=2, min_samples_leaf=1, n_estimators=1000 -   2.1s\n",
      "[CV] max_depth=110, bootstrap=True, max_features=sqrt, min_samples_split=2, min_samples_leaf=1, n_estimators=1000 \n",
      "[CV]  max_depth=110, bootstrap=True, max_features=sqrt, min_samples_split=2, min_samples_leaf=1, n_estimators=1000 -   2.0s\n",
      "[CV] max_depth=110, bootstrap=True, max_features=sqrt, min_samples_split=2, min_samples_leaf=1, n_estimators=1000 \n",
      "[CV]  max_depth=110, bootstrap=True, max_features=sqrt, min_samples_split=2, min_samples_leaf=1, n_estimators=1000 -   2.1s\n",
      "[CV] max_depth=80, bootstrap=True, max_features=auto, min_samples_split=2, min_samples_leaf=1, n_estimators=822 \n",
      "[CV]  max_depth=80, bootstrap=True, max_features=auto, min_samples_split=2, min_samples_leaf=1, n_estimators=822 -   1.6s\n",
      "[CV] max_depth=80, bootstrap=True, max_features=auto, min_samples_split=2, min_samples_leaf=1, n_estimators=822 \n",
      "[CV]  max_depth=80, bootstrap=True, max_features=auto, min_samples_split=2, min_samples_leaf=1, n_estimators=822 -   1.5s\n",
      "[CV] max_depth=80, bootstrap=True, max_features=auto, min_samples_split=2, min_samples_leaf=1, n_estimators=822 \n",
      "[CV]  max_depth=80, bootstrap=True, max_features=auto, min_samples_split=2, min_samples_leaf=1, n_estimators=822 -   1.6s\n",
      "[CV] max_depth=90, bootstrap=True, max_features=auto, min_samples_split=10, min_samples_leaf=4, n_estimators=911 \n",
      "[CV]  max_depth=90, bootstrap=True, max_features=auto, min_samples_split=10, min_samples_leaf=4, n_estimators=911 -   1.7s\n",
      "[CV] max_depth=90, bootstrap=True, max_features=auto, min_samples_split=10, min_samples_leaf=4, n_estimators=911 \n",
      "[CV]  max_depth=90, bootstrap=True, max_features=auto, min_samples_split=10, min_samples_leaf=4, n_estimators=911 -   1.7s\n",
      "[CV] max_depth=90, bootstrap=True, max_features=auto, min_samples_split=10, min_samples_leaf=4, n_estimators=911 \n",
      "[CV]  max_depth=90, bootstrap=True, max_features=auto, min_samples_split=10, min_samples_leaf=4, n_estimators=911 -   1.7s\n",
      "[CV] max_depth=60, bootstrap=False, max_features=sqrt, min_samples_split=10, min_samples_leaf=2, n_estimators=377 \n",
      "[CV]  max_depth=60, bootstrap=False, max_features=sqrt, min_samples_split=10, min_samples_leaf=2, n_estimators=377 -   0.7s\n",
      "[CV] max_depth=60, bootstrap=False, max_features=sqrt, min_samples_split=10, min_samples_leaf=2, n_estimators=377 \n",
      "[CV]  max_depth=60, bootstrap=False, max_features=sqrt, min_samples_split=10, min_samples_leaf=2, n_estimators=377 -   0.7s\n",
      "[CV] max_depth=60, bootstrap=False, max_features=sqrt, min_samples_split=10, min_samples_leaf=2, n_estimators=377 \n",
      "[CV]  max_depth=60, bootstrap=False, max_features=sqrt, min_samples_split=10, min_samples_leaf=2, n_estimators=377 -   0.7s\n",
      "[CV] max_depth=80, bootstrap=False, max_features=sqrt, min_samples_split=5, min_samples_leaf=2, n_estimators=733 \n",
      "[CV]  max_depth=80, bootstrap=False, max_features=sqrt, min_samples_split=5, min_samples_leaf=2, n_estimators=733 -   1.4s\n",
      "[CV] max_depth=80, bootstrap=False, max_features=sqrt, min_samples_split=5, min_samples_leaf=2, n_estimators=733 \n",
      "[CV]  max_depth=80, bootstrap=False, max_features=sqrt, min_samples_split=5, min_samples_leaf=2, n_estimators=733 -   1.5s\n",
      "[CV] max_depth=80, bootstrap=False, max_features=sqrt, min_samples_split=5, min_samples_leaf=2, n_estimators=733 \n",
      "[CV]  max_depth=80, bootstrap=False, max_features=sqrt, min_samples_split=5, min_samples_leaf=2, n_estimators=733 -   1.7s\n",
      "[CV] max_depth=100, bootstrap=False, max_features=sqrt, min_samples_split=10, min_samples_leaf=1, n_estimators=200 \n",
      "[CV]  max_depth=100, bootstrap=False, max_features=sqrt, min_samples_split=10, min_samples_leaf=1, n_estimators=200 -   0.4s\n",
      "[CV] max_depth=100, bootstrap=False, max_features=sqrt, min_samples_split=10, min_samples_leaf=1, n_estimators=200 \n",
      "[CV]  max_depth=100, bootstrap=False, max_features=sqrt, min_samples_split=10, min_samples_leaf=1, n_estimators=200 -   0.5s\n",
      "[CV] max_depth=100, bootstrap=False, max_features=sqrt, min_samples_split=10, min_samples_leaf=1, n_estimators=200 \n",
      "[CV]  max_depth=100, bootstrap=False, max_features=sqrt, min_samples_split=10, min_samples_leaf=1, n_estimators=200 -   0.4s\n",
      "[CV] max_depth=40, bootstrap=True, max_features=sqrt, min_samples_split=5, min_samples_leaf=1, n_estimators=733 \n",
      "[CV]  max_depth=40, bootstrap=True, max_features=sqrt, min_samples_split=5, min_samples_leaf=1, n_estimators=733 -   1.4s\n",
      "[CV] max_depth=40, bootstrap=True, max_features=sqrt, min_samples_split=5, min_samples_leaf=1, n_estimators=733 \n",
      "[CV]  max_depth=40, bootstrap=True, max_features=sqrt, min_samples_split=5, min_samples_leaf=1, n_estimators=733 -   1.4s\n",
      "[CV] max_depth=40, bootstrap=True, max_features=sqrt, min_samples_split=5, min_samples_leaf=1, n_estimators=733 \n",
      "[CV]  max_depth=40, bootstrap=True, max_features=sqrt, min_samples_split=5, min_samples_leaf=1, n_estimators=733 -   1.6s\n",
      "[CV] max_depth=50, bootstrap=False, max_features=auto, min_samples_split=2, min_samples_leaf=1, n_estimators=911 \n",
      "[CV]  max_depth=50, bootstrap=False, max_features=auto, min_samples_split=2, min_samples_leaf=1, n_estimators=911 -   2.2s\n",
      "[CV] max_depth=50, bootstrap=False, max_features=auto, min_samples_split=2, min_samples_leaf=1, n_estimators=911 \n",
      "[CV]  max_depth=50, bootstrap=False, max_features=auto, min_samples_split=2, min_samples_leaf=1, n_estimators=911 -   2.7s\n",
      "[CV] max_depth=50, bootstrap=False, max_features=auto, min_samples_split=2, min_samples_leaf=1, n_estimators=911 \n",
      "[CV]  max_depth=50, bootstrap=False, max_features=auto, min_samples_split=2, min_samples_leaf=1, n_estimators=911 -   2.0s\n",
      "[CV] max_depth=20, bootstrap=False, max_features=sqrt, min_samples_split=2, min_samples_leaf=1, n_estimators=644 \n",
      "[CV]  max_depth=20, bootstrap=False, max_features=sqrt, min_samples_split=2, min_samples_leaf=1, n_estimators=644 -   1.4s\n",
      "[CV] max_depth=20, bootstrap=False, max_features=sqrt, min_samples_split=2, min_samples_leaf=1, n_estimators=644 \n",
      "[CV]  max_depth=20, bootstrap=False, max_features=sqrt, min_samples_split=2, min_samples_leaf=1, n_estimators=644 -   1.6s\n",
      "[CV] max_depth=20, bootstrap=False, max_features=sqrt, min_samples_split=2, min_samples_leaf=1, n_estimators=644 \n",
      "[CV]  max_depth=20, bootstrap=False, max_features=sqrt, min_samples_split=2, min_samples_leaf=1, n_estimators=644 -   1.5s\n",
      "[CV] max_depth=40, bootstrap=True, max_features=auto, min_samples_split=2, min_samples_leaf=4, n_estimators=200 \n",
      "[CV]  max_depth=40, bootstrap=True, max_features=auto, min_samples_split=2, min_samples_leaf=4, n_estimators=200 -   0.3s\n",
      "[CV] max_depth=40, bootstrap=True, max_features=auto, min_samples_split=2, min_samples_leaf=4, n_estimators=200 \n",
      "[CV]  max_depth=40, bootstrap=True, max_features=auto, min_samples_split=2, min_samples_leaf=4, n_estimators=200 -   0.3s\n",
      "[CV] max_depth=40, bootstrap=True, max_features=auto, min_samples_split=2, min_samples_leaf=4, n_estimators=200 \n",
      "[CV]  max_depth=40, bootstrap=True, max_features=auto, min_samples_split=2, min_samples_leaf=4, n_estimators=200 -   0.3s\n",
      "[CV] max_depth=20, bootstrap=False, max_features=auto, min_samples_split=10, min_samples_leaf=1, n_estimators=466 \n",
      "[CV]  max_depth=20, bootstrap=False, max_features=auto, min_samples_split=10, min_samples_leaf=1, n_estimators=466 -   1.0s\n",
      "[CV] max_depth=20, bootstrap=False, max_features=auto, min_samples_split=10, min_samples_leaf=1, n_estimators=466 \n",
      "[CV]  max_depth=20, bootstrap=False, max_features=auto, min_samples_split=10, min_samples_leaf=1, n_estimators=466 -   0.9s\n",
      "[CV] max_depth=20, bootstrap=False, max_features=auto, min_samples_split=10, min_samples_leaf=1, n_estimators=466 \n",
      "[CV]  max_depth=20, bootstrap=False, max_features=auto, min_samples_split=10, min_samples_leaf=1, n_estimators=466 -   0.9s\n",
      "[CV] max_depth=None, bootstrap=True, max_features=auto, min_samples_split=10, min_samples_leaf=4, n_estimators=288 \n",
      "[CV]  max_depth=None, bootstrap=True, max_features=auto, min_samples_split=10, min_samples_leaf=4, n_estimators=288 -   0.5s\n",
      "[CV] max_depth=None, bootstrap=True, max_features=auto, min_samples_split=10, min_samples_leaf=4, n_estimators=288 \n",
      "[CV]  max_depth=None, bootstrap=True, max_features=auto, min_samples_split=10, min_samples_leaf=4, n_estimators=288 -   0.6s\n",
      "[CV] max_depth=None, bootstrap=True, max_features=auto, min_samples_split=10, min_samples_leaf=4, n_estimators=288 \n",
      "[CV]  max_depth=None, bootstrap=True, max_features=auto, min_samples_split=10, min_samples_leaf=4, n_estimators=288 -   0.5s\n",
      "[CV] max_depth=20, bootstrap=True, max_features=auto, min_samples_split=2, min_samples_leaf=4, n_estimators=288 \n",
      "[CV]  max_depth=20, bootstrap=True, max_features=auto, min_samples_split=2, min_samples_leaf=4, n_estimators=288 -   0.6s\n",
      "[CV] max_depth=20, bootstrap=True, max_features=auto, min_samples_split=2, min_samples_leaf=4, n_estimators=288 \n",
      "[CV]  max_depth=20, bootstrap=True, max_features=auto, min_samples_split=2, min_samples_leaf=4, n_estimators=288 -   0.5s\n",
      "[CV] max_depth=20, bootstrap=True, max_features=auto, min_samples_split=2, min_samples_leaf=4, n_estimators=288 \n",
      "[CV]  max_depth=20, bootstrap=True, max_features=auto, min_samples_split=2, min_samples_leaf=4, n_estimators=288 -   0.5s\n",
      "[CV] max_depth=None, bootstrap=True, max_features=auto, min_samples_split=2, min_samples_leaf=4, n_estimators=288 \n",
      "[CV]  max_depth=None, bootstrap=True, max_features=auto, min_samples_split=2, min_samples_leaf=4, n_estimators=288 -   0.5s\n",
      "[CV] max_depth=None, bootstrap=True, max_features=auto, min_samples_split=2, min_samples_leaf=4, n_estimators=288 \n",
      "[CV]  max_depth=None, bootstrap=True, max_features=auto, min_samples_split=2, min_samples_leaf=4, n_estimators=288 -   0.5s\n",
      "[CV] max_depth=None, bootstrap=True, max_features=auto, min_samples_split=2, min_samples_leaf=4, n_estimators=288 \n",
      "[CV]  max_depth=None, bootstrap=True, max_features=auto, min_samples_split=2, min_samples_leaf=4, n_estimators=288 -   0.5s\n",
      "[CV] max_depth=40, bootstrap=False, max_features=sqrt, min_samples_split=2, min_samples_leaf=2, n_estimators=555 \n",
      "[CV]  max_depth=40, bootstrap=False, max_features=sqrt, min_samples_split=2, min_samples_leaf=2, n_estimators=555 -   1.2s\n",
      "[CV] max_depth=40, bootstrap=False, max_features=sqrt, min_samples_split=2, min_samples_leaf=2, n_estimators=555 \n",
      "[CV]  max_depth=40, bootstrap=False, max_features=sqrt, min_samples_split=2, min_samples_leaf=2, n_estimators=555 -   1.2s\n",
      "[CV] max_depth=40, bootstrap=False, max_features=sqrt, min_samples_split=2, min_samples_leaf=2, n_estimators=555 \n",
      "[CV]  max_depth=40, bootstrap=False, max_features=sqrt, min_samples_split=2, min_samples_leaf=2, n_estimators=555 -   1.2s\n",
      "[CV] max_depth=30, bootstrap=False, max_features=sqrt, min_samples_split=2, min_samples_leaf=1, n_estimators=377 \n",
      "[CV]  max_depth=30, bootstrap=False, max_features=sqrt, min_samples_split=2, min_samples_leaf=1, n_estimators=377 -   0.9s\n",
      "[CV] max_depth=30, bootstrap=False, max_features=sqrt, min_samples_split=2, min_samples_leaf=1, n_estimators=377 \n",
      "[CV]  max_depth=30, bootstrap=False, max_features=sqrt, min_samples_split=2, min_samples_leaf=1, n_estimators=377 -   0.9s\n",
      "[CV] max_depth=30, bootstrap=False, max_features=sqrt, min_samples_split=2, min_samples_leaf=1, n_estimators=377 \n",
      "[CV]  max_depth=30, bootstrap=False, max_features=sqrt, min_samples_split=2, min_samples_leaf=1, n_estimators=377 -   1.0s\n",
      "[CV] max_depth=80, bootstrap=True, max_features=sqrt, min_samples_split=5, min_samples_leaf=1, n_estimators=466 \n",
      "[CV]  max_depth=80, bootstrap=True, max_features=sqrt, min_samples_split=5, min_samples_leaf=1, n_estimators=466 -   1.0s\n",
      "[CV] max_depth=80, bootstrap=True, max_features=sqrt, min_samples_split=5, min_samples_leaf=1, n_estimators=466 \n",
      "[CV]  max_depth=80, bootstrap=True, max_features=sqrt, min_samples_split=5, min_samples_leaf=1, n_estimators=466 -   0.9s\n",
      "[CV] max_depth=80, bootstrap=True, max_features=sqrt, min_samples_split=5, min_samples_leaf=1, n_estimators=466 \n",
      "[CV]  max_depth=80, bootstrap=True, max_features=sqrt, min_samples_split=5, min_samples_leaf=1, n_estimators=466 -   1.0s\n",
      "[CV] max_depth=90, bootstrap=True, max_features=auto, min_samples_split=2, min_samples_leaf=2, n_estimators=911 \n",
      "[CV]  max_depth=90, bootstrap=True, max_features=auto, min_samples_split=2, min_samples_leaf=2, n_estimators=911 -   2.2s\n",
      "[CV] max_depth=90, bootstrap=True, max_features=auto, min_samples_split=2, min_samples_leaf=2, n_estimators=911 \n",
      "[CV]  max_depth=90, bootstrap=True, max_features=auto, min_samples_split=2, min_samples_leaf=2, n_estimators=911 -   1.9s\n",
      "[CV] max_depth=90, bootstrap=True, max_features=auto, min_samples_split=2, min_samples_leaf=2, n_estimators=911 \n",
      "[CV]  max_depth=90, bootstrap=True, max_features=auto, min_samples_split=2, min_samples_leaf=2, n_estimators=911 -   2.3s\n",
      "[CV] max_depth=30, bootstrap=False, max_features=auto, min_samples_split=2, min_samples_leaf=2, n_estimators=733 \n",
      "[CV]  max_depth=30, bootstrap=False, max_features=auto, min_samples_split=2, min_samples_leaf=2, n_estimators=733 -   1.9s\n",
      "[CV] max_depth=30, bootstrap=False, max_features=auto, min_samples_split=2, min_samples_leaf=2, n_estimators=733 \n",
      "[CV]  max_depth=30, bootstrap=False, max_features=auto, min_samples_split=2, min_samples_leaf=2, n_estimators=733 -   1.7s\n",
      "[CV] max_depth=30, bootstrap=False, max_features=auto, min_samples_split=2, min_samples_leaf=2, n_estimators=733 \n",
      "[CV]  max_depth=30, bootstrap=False, max_features=auto, min_samples_split=2, min_samples_leaf=2, n_estimators=733 -   1.6s\n",
      "[CV] max_depth=50, bootstrap=True, max_features=auto, min_samples_split=10, min_samples_leaf=2, n_estimators=644 \n",
      "[CV]  max_depth=50, bootstrap=True, max_features=auto, min_samples_split=10, min_samples_leaf=2, n_estimators=644 -   1.3s\n",
      "[CV] max_depth=50, bootstrap=True, max_features=auto, min_samples_split=10, min_samples_leaf=2, n_estimators=644 \n",
      "[CV]  max_depth=50, bootstrap=True, max_features=auto, min_samples_split=10, min_samples_leaf=2, n_estimators=644 -   1.2s\n",
      "[CV] max_depth=50, bootstrap=True, max_features=auto, min_samples_split=10, min_samples_leaf=2, n_estimators=644 \n",
      "[CV]  max_depth=50, bootstrap=True, max_features=auto, min_samples_split=10, min_samples_leaf=2, n_estimators=644 -   1.3s\n",
      "[CV] max_depth=110, bootstrap=False, max_features=auto, min_samples_split=10, min_samples_leaf=2, n_estimators=555 \n",
      "[CV]  max_depth=110, bootstrap=False, max_features=auto, min_samples_split=10, min_samples_leaf=2, n_estimators=555 -   1.1s\n",
      "[CV] max_depth=110, bootstrap=False, max_features=auto, min_samples_split=10, min_samples_leaf=2, n_estimators=555 \n",
      "[CV]  max_depth=110, bootstrap=False, max_features=auto, min_samples_split=10, min_samples_leaf=2, n_estimators=555 -   1.2s\n",
      "[CV] max_depth=110, bootstrap=False, max_features=auto, min_samples_split=10, min_samples_leaf=2, n_estimators=555 \n",
      "[CV]  max_depth=110, bootstrap=False, max_features=auto, min_samples_split=10, min_samples_leaf=2, n_estimators=555 -   1.4s\n",
      "[CV] max_depth=10, bootstrap=True, max_features=auto, min_samples_split=2, min_samples_leaf=2, n_estimators=555 \n",
      "[CV]  max_depth=10, bootstrap=True, max_features=auto, min_samples_split=2, min_samples_leaf=2, n_estimators=555 -   1.1s\n",
      "[CV] max_depth=10, bootstrap=True, max_features=auto, min_samples_split=2, min_samples_leaf=2, n_estimators=555 \n",
      "[CV]  max_depth=10, bootstrap=True, max_features=auto, min_samples_split=2, min_samples_leaf=2, n_estimators=555 -   1.2s\n",
      "[CV] max_depth=10, bootstrap=True, max_features=auto, min_samples_split=2, min_samples_leaf=2, n_estimators=555 \n",
      "[CV]  max_depth=10, bootstrap=True, max_features=auto, min_samples_split=2, min_samples_leaf=2, n_estimators=555 -   1.2s\n",
      "[CV] max_depth=60, bootstrap=False, max_features=sqrt, min_samples_split=2, min_samples_leaf=1, n_estimators=377 \n",
      "[CV]  max_depth=60, bootstrap=False, max_features=sqrt, min_samples_split=2, min_samples_leaf=1, n_estimators=377 -   0.9s\n",
      "[CV] max_depth=60, bootstrap=False, max_features=sqrt, min_samples_split=2, min_samples_leaf=1, n_estimators=377 \n",
      "[CV]  max_depth=60, bootstrap=False, max_features=sqrt, min_samples_split=2, min_samples_leaf=1, n_estimators=377 -   0.9s\n",
      "[CV] max_depth=60, bootstrap=False, max_features=sqrt, min_samples_split=2, min_samples_leaf=1, n_estimators=377 \n",
      "[CV]  max_depth=60, bootstrap=False, max_features=sqrt, min_samples_split=2, min_samples_leaf=1, n_estimators=377 -   0.9s\n",
      "[CV] max_depth=110, bootstrap=True, max_features=sqrt, min_samples_split=2, min_samples_leaf=4, n_estimators=644 \n",
      "[CV]  max_depth=110, bootstrap=True, max_features=sqrt, min_samples_split=2, min_samples_leaf=4, n_estimators=644 -   1.3s\n",
      "[CV] max_depth=110, bootstrap=True, max_features=sqrt, min_samples_split=2, min_samples_leaf=4, n_estimators=644 \n",
      "[CV]  max_depth=110, bootstrap=True, max_features=sqrt, min_samples_split=2, min_samples_leaf=4, n_estimators=644 -   1.4s\n",
      "[CV] max_depth=110, bootstrap=True, max_features=sqrt, min_samples_split=2, min_samples_leaf=4, n_estimators=644 \n",
      "[CV]  max_depth=110, bootstrap=True, max_features=sqrt, min_samples_split=2, min_samples_leaf=4, n_estimators=644 -   1.3s\n",
      "[CV] max_depth=90, bootstrap=True, max_features=sqrt, min_samples_split=10, min_samples_leaf=2, n_estimators=644 \n",
      "[CV]  max_depth=90, bootstrap=True, max_features=sqrt, min_samples_split=10, min_samples_leaf=2, n_estimators=644 -   1.4s\n",
      "[CV] max_depth=90, bootstrap=True, max_features=sqrt, min_samples_split=10, min_samples_leaf=2, n_estimators=644 \n",
      "[CV]  max_depth=90, bootstrap=True, max_features=sqrt, min_samples_split=10, min_samples_leaf=2, n_estimators=644 -   1.3s\n",
      "[CV] max_depth=90, bootstrap=True, max_features=sqrt, min_samples_split=10, min_samples_leaf=2, n_estimators=644 \n",
      "[CV]  max_depth=90, bootstrap=True, max_features=sqrt, min_samples_split=10, min_samples_leaf=2, n_estimators=644 -   1.3s\n",
      "[CV] max_depth=100, bootstrap=False, max_features=sqrt, min_samples_split=5, min_samples_leaf=4, n_estimators=466 \n",
      "[CV]  max_depth=100, bootstrap=False, max_features=sqrt, min_samples_split=5, min_samples_leaf=4, n_estimators=466 -   0.9s\n",
      "[CV] max_depth=100, bootstrap=False, max_features=sqrt, min_samples_split=5, min_samples_leaf=4, n_estimators=466 \n",
      "[CV]  max_depth=100, bootstrap=False, max_features=sqrt, min_samples_split=5, min_samples_leaf=4, n_estimators=466 -   1.1s\n",
      "[CV] max_depth=100, bootstrap=False, max_features=sqrt, min_samples_split=5, min_samples_leaf=4, n_estimators=466 \n",
      "[CV]  max_depth=100, bootstrap=False, max_features=sqrt, min_samples_split=5, min_samples_leaf=4, n_estimators=466 -   1.0s\n",
      "[CV] max_depth=60, bootstrap=False, max_features=auto, min_samples_split=5, min_samples_leaf=1, n_estimators=466 \n",
      "[CV]  max_depth=60, bootstrap=False, max_features=auto, min_samples_split=5, min_samples_leaf=1, n_estimators=466 -   1.0s\n",
      "[CV] max_depth=60, bootstrap=False, max_features=auto, min_samples_split=5, min_samples_leaf=1, n_estimators=466 \n",
      "[CV]  max_depth=60, bootstrap=False, max_features=auto, min_samples_split=5, min_samples_leaf=1, n_estimators=466 -   1.1s\n",
      "[CV] max_depth=60, bootstrap=False, max_features=auto, min_samples_split=5, min_samples_leaf=1, n_estimators=466 \n",
      "[CV]  max_depth=60, bootstrap=False, max_features=auto, min_samples_split=5, min_samples_leaf=1, n_estimators=466 -   1.1s\n",
      "[CV] max_depth=60, bootstrap=True, max_features=sqrt, min_samples_split=2, min_samples_leaf=2, n_estimators=288 \n",
      "[CV]  max_depth=60, bootstrap=True, max_features=sqrt, min_samples_split=2, min_samples_leaf=2, n_estimators=288 -   0.6s\n",
      "[CV] max_depth=60, bootstrap=True, max_features=sqrt, min_samples_split=2, min_samples_leaf=2, n_estimators=288 \n",
      "[CV]  max_depth=60, bootstrap=True, max_features=sqrt, min_samples_split=2, min_samples_leaf=2, n_estimators=288 -   0.6s\n",
      "[CV] max_depth=60, bootstrap=True, max_features=sqrt, min_samples_split=2, min_samples_leaf=2, n_estimators=288 \n"
     ]
    },
    {
     "name": "stderr",
     "output_type": "stream",
     "text": [
      "[Parallel(n_jobs=1)]: Done 161 tasks       | elapsed:  3.3min\n"
     ]
    },
    {
     "name": "stdout",
     "output_type": "stream",
     "text": [
      "[CV]  max_depth=60, bootstrap=True, max_features=sqrt, min_samples_split=2, min_samples_leaf=2, n_estimators=288 -   0.7s\n",
      "[CV] max_depth=80, bootstrap=False, max_features=auto, min_samples_split=5, min_samples_leaf=2, n_estimators=288 \n",
      "[CV]  max_depth=80, bootstrap=False, max_features=auto, min_samples_split=5, min_samples_leaf=2, n_estimators=288 -   0.6s\n",
      "[CV] max_depth=80, bootstrap=False, max_features=auto, min_samples_split=5, min_samples_leaf=2, n_estimators=288 \n",
      "[CV]  max_depth=80, bootstrap=False, max_features=auto, min_samples_split=5, min_samples_leaf=2, n_estimators=288 -   0.5s\n",
      "[CV] max_depth=80, bootstrap=False, max_features=auto, min_samples_split=5, min_samples_leaf=2, n_estimators=288 \n",
      "[CV]  max_depth=80, bootstrap=False, max_features=auto, min_samples_split=5, min_samples_leaf=2, n_estimators=288 -   0.7s\n",
      "[CV] max_depth=30, bootstrap=False, max_features=sqrt, min_samples_split=2, min_samples_leaf=1, n_estimators=466 \n",
      "[CV]  max_depth=30, bootstrap=False, max_features=sqrt, min_samples_split=2, min_samples_leaf=1, n_estimators=466 -   1.0s\n",
      "[CV] max_depth=30, bootstrap=False, max_features=sqrt, min_samples_split=2, min_samples_leaf=1, n_estimators=466 \n",
      "[CV]  max_depth=30, bootstrap=False, max_features=sqrt, min_samples_split=2, min_samples_leaf=1, n_estimators=466 -   1.0s\n",
      "[CV] max_depth=30, bootstrap=False, max_features=sqrt, min_samples_split=2, min_samples_leaf=1, n_estimators=466 \n",
      "[CV]  max_depth=30, bootstrap=False, max_features=sqrt, min_samples_split=2, min_samples_leaf=1, n_estimators=466 -   1.2s\n",
      "[CV] max_depth=100, bootstrap=False, max_features=auto, min_samples_split=2, min_samples_leaf=4, n_estimators=466 \n",
      "[CV]  max_depth=100, bootstrap=False, max_features=auto, min_samples_split=2, min_samples_leaf=4, n_estimators=466 -   0.9s\n",
      "[CV] max_depth=100, bootstrap=False, max_features=auto, min_samples_split=2, min_samples_leaf=4, n_estimators=466 \n",
      "[CV]  max_depth=100, bootstrap=False, max_features=auto, min_samples_split=2, min_samples_leaf=4, n_estimators=466 -   1.1s\n",
      "[CV] max_depth=100, bootstrap=False, max_features=auto, min_samples_split=2, min_samples_leaf=4, n_estimators=466 \n",
      "[CV]  max_depth=100, bootstrap=False, max_features=auto, min_samples_split=2, min_samples_leaf=4, n_estimators=466 -   1.0s\n",
      "[CV] max_depth=90, bootstrap=True, max_features=auto, min_samples_split=2, min_samples_leaf=4, n_estimators=200 \n",
      "[CV]  max_depth=90, bootstrap=True, max_features=auto, min_samples_split=2, min_samples_leaf=4, n_estimators=200 -   0.4s\n",
      "[CV] max_depth=90, bootstrap=True, max_features=auto, min_samples_split=2, min_samples_leaf=4, n_estimators=200 \n",
      "[CV]  max_depth=90, bootstrap=True, max_features=auto, min_samples_split=2, min_samples_leaf=4, n_estimators=200 -   0.3s\n",
      "[CV] max_depth=90, bootstrap=True, max_features=auto, min_samples_split=2, min_samples_leaf=4, n_estimators=200 \n",
      "[CV]  max_depth=90, bootstrap=True, max_features=auto, min_samples_split=2, min_samples_leaf=4, n_estimators=200 -   0.3s\n",
      "[CV] max_depth=10, bootstrap=True, max_features=sqrt, min_samples_split=5, min_samples_leaf=4, n_estimators=288 \n",
      "[CV]  max_depth=10, bootstrap=True, max_features=sqrt, min_samples_split=5, min_samples_leaf=4, n_estimators=288 -   0.5s\n",
      "[CV] max_depth=10, bootstrap=True, max_features=sqrt, min_samples_split=5, min_samples_leaf=4, n_estimators=288 \n",
      "[CV]  max_depth=10, bootstrap=True, max_features=sqrt, min_samples_split=5, min_samples_leaf=4, n_estimators=288 -   0.5s\n",
      "[CV] max_depth=10, bootstrap=True, max_features=sqrt, min_samples_split=5, min_samples_leaf=4, n_estimators=288 \n",
      "[CV]  max_depth=10, bootstrap=True, max_features=sqrt, min_samples_split=5, min_samples_leaf=4, n_estimators=288 -   0.6s\n",
      "[CV] max_depth=None, bootstrap=False, max_features=sqrt, min_samples_split=2, min_samples_leaf=4, n_estimators=822 \n",
      "[CV]  max_depth=None, bootstrap=False, max_features=sqrt, min_samples_split=2, min_samples_leaf=4, n_estimators=822 -   1.9s\n",
      "[CV] max_depth=None, bootstrap=False, max_features=sqrt, min_samples_split=2, min_samples_leaf=4, n_estimators=822 \n",
      "[CV]  max_depth=None, bootstrap=False, max_features=sqrt, min_samples_split=2, min_samples_leaf=4, n_estimators=822 -   2.1s\n",
      "[CV] max_depth=None, bootstrap=False, max_features=sqrt, min_samples_split=2, min_samples_leaf=4, n_estimators=822 \n",
      "[CV]  max_depth=None, bootstrap=False, max_features=sqrt, min_samples_split=2, min_samples_leaf=4, n_estimators=822 -   2.0s\n",
      "[CV] max_depth=None, bootstrap=True, max_features=auto, min_samples_split=2, min_samples_leaf=1, n_estimators=288 \n",
      "[CV]  max_depth=None, bootstrap=True, max_features=auto, min_samples_split=2, min_samples_leaf=1, n_estimators=288 -   0.6s\n",
      "[CV] max_depth=None, bootstrap=True, max_features=auto, min_samples_split=2, min_samples_leaf=1, n_estimators=288 \n",
      "[CV]  max_depth=None, bootstrap=True, max_features=auto, min_samples_split=2, min_samples_leaf=1, n_estimators=288 -   0.6s\n",
      "[CV] max_depth=None, bootstrap=True, max_features=auto, min_samples_split=2, min_samples_leaf=1, n_estimators=288 \n",
      "[CV]  max_depth=None, bootstrap=True, max_features=auto, min_samples_split=2, min_samples_leaf=1, n_estimators=288 -   0.6s\n",
      "[CV] max_depth=60, bootstrap=True, max_features=sqrt, min_samples_split=2, min_samples_leaf=1, n_estimators=644 \n",
      "[CV]  max_depth=60, bootstrap=True, max_features=sqrt, min_samples_split=2, min_samples_leaf=1, n_estimators=644 -   1.4s\n",
      "[CV] max_depth=60, bootstrap=True, max_features=sqrt, min_samples_split=2, min_samples_leaf=1, n_estimators=644 \n",
      "[CV]  max_depth=60, bootstrap=True, max_features=sqrt, min_samples_split=2, min_samples_leaf=1, n_estimators=644 -   1.6s\n",
      "[CV] max_depth=60, bootstrap=True, max_features=sqrt, min_samples_split=2, min_samples_leaf=1, n_estimators=644 \n",
      "[CV]  max_depth=60, bootstrap=True, max_features=sqrt, min_samples_split=2, min_samples_leaf=1, n_estimators=644 -   1.4s\n",
      "[CV] max_depth=70, bootstrap=False, max_features=sqrt, min_samples_split=5, min_samples_leaf=1, n_estimators=377 \n",
      "[CV]  max_depth=70, bootstrap=False, max_features=sqrt, min_samples_split=5, min_samples_leaf=1, n_estimators=377 -   0.8s\n",
      "[CV] max_depth=70, bootstrap=False, max_features=sqrt, min_samples_split=5, min_samples_leaf=1, n_estimators=377 \n",
      "[CV]  max_depth=70, bootstrap=False, max_features=sqrt, min_samples_split=5, min_samples_leaf=1, n_estimators=377 -   0.9s\n",
      "[CV] max_depth=70, bootstrap=False, max_features=sqrt, min_samples_split=5, min_samples_leaf=1, n_estimators=377 \n",
      "[CV]  max_depth=70, bootstrap=False, max_features=sqrt, min_samples_split=5, min_samples_leaf=1, n_estimators=377 -   0.9s\n",
      "[CV] max_depth=100, bootstrap=False, max_features=auto, min_samples_split=5, min_samples_leaf=1, n_estimators=911 \n",
      "[CV]  max_depth=100, bootstrap=False, max_features=auto, min_samples_split=5, min_samples_leaf=1, n_estimators=911 -   2.2s\n",
      "[CV] max_depth=100, bootstrap=False, max_features=auto, min_samples_split=5, min_samples_leaf=1, n_estimators=911 \n",
      "[CV]  max_depth=100, bootstrap=False, max_features=auto, min_samples_split=5, min_samples_leaf=1, n_estimators=911 -   2.2s\n",
      "[CV] max_depth=100, bootstrap=False, max_features=auto, min_samples_split=5, min_samples_leaf=1, n_estimators=911 \n",
      "[CV]  max_depth=100, bootstrap=False, max_features=auto, min_samples_split=5, min_samples_leaf=1, n_estimators=911 -   2.2s\n",
      "[CV] max_depth=80, bootstrap=True, max_features=auto, min_samples_split=5, min_samples_leaf=1, n_estimators=644 \n",
      "[CV]  max_depth=80, bootstrap=True, max_features=auto, min_samples_split=5, min_samples_leaf=1, n_estimators=644 -   1.4s\n",
      "[CV] max_depth=80, bootstrap=True, max_features=auto, min_samples_split=5, min_samples_leaf=1, n_estimators=644 \n",
      "[CV]  max_depth=80, bootstrap=True, max_features=auto, min_samples_split=5, min_samples_leaf=1, n_estimators=644 -   1.5s\n",
      "[CV] max_depth=80, bootstrap=True, max_features=auto, min_samples_split=5, min_samples_leaf=1, n_estimators=644 \n",
      "[CV]  max_depth=80, bootstrap=True, max_features=auto, min_samples_split=5, min_samples_leaf=1, n_estimators=644 -   1.5s\n",
      "[CV] max_depth=60, bootstrap=True, max_features=sqrt, min_samples_split=10, min_samples_leaf=1, n_estimators=733 \n",
      "[CV]  max_depth=60, bootstrap=True, max_features=sqrt, min_samples_split=10, min_samples_leaf=1, n_estimators=733 -   1.6s\n",
      "[CV] max_depth=60, bootstrap=True, max_features=sqrt, min_samples_split=10, min_samples_leaf=1, n_estimators=733 \n",
      "[CV]  max_depth=60, bootstrap=True, max_features=sqrt, min_samples_split=10, min_samples_leaf=1, n_estimators=733 -   1.7s\n",
      "[CV] max_depth=60, bootstrap=True, max_features=sqrt, min_samples_split=10, min_samples_leaf=1, n_estimators=733 \n",
      "[CV]  max_depth=60, bootstrap=True, max_features=sqrt, min_samples_split=10, min_samples_leaf=1, n_estimators=733 -   1.7s\n",
      "[CV] max_depth=20, bootstrap=True, max_features=sqrt, min_samples_split=2, min_samples_leaf=4, n_estimators=822 \n",
      "[CV]  max_depth=20, bootstrap=True, max_features=sqrt, min_samples_split=2, min_samples_leaf=4, n_estimators=822 -   1.7s\n",
      "[CV] max_depth=20, bootstrap=True, max_features=sqrt, min_samples_split=2, min_samples_leaf=4, n_estimators=822 \n",
      "[CV]  max_depth=20, bootstrap=True, max_features=sqrt, min_samples_split=2, min_samples_leaf=4, n_estimators=822 -   1.7s\n",
      "[CV] max_depth=20, bootstrap=True, max_features=sqrt, min_samples_split=2, min_samples_leaf=4, n_estimators=822 \n",
      "[CV]  max_depth=20, bootstrap=True, max_features=sqrt, min_samples_split=2, min_samples_leaf=4, n_estimators=822 -   1.7s\n",
      "[CV] max_depth=50, bootstrap=True, max_features=sqrt, min_samples_split=2, min_samples_leaf=4, n_estimators=911 \n",
      "[CV]  max_depth=50, bootstrap=True, max_features=sqrt, min_samples_split=2, min_samples_leaf=4, n_estimators=911 -   1.8s\n",
      "[CV] max_depth=50, bootstrap=True, max_features=sqrt, min_samples_split=2, min_samples_leaf=4, n_estimators=911 \n",
      "[CV]  max_depth=50, bootstrap=True, max_features=sqrt, min_samples_split=2, min_samples_leaf=4, n_estimators=911 -   1.8s\n",
      "[CV] max_depth=50, bootstrap=True, max_features=sqrt, min_samples_split=2, min_samples_leaf=4, n_estimators=911 \n",
      "[CV]  max_depth=50, bootstrap=True, max_features=sqrt, min_samples_split=2, min_samples_leaf=4, n_estimators=911 -   1.9s\n",
      "[CV] max_depth=60, bootstrap=True, max_features=sqrt, min_samples_split=10, min_samples_leaf=4, n_estimators=733 \n",
      "[CV]  max_depth=60, bootstrap=True, max_features=sqrt, min_samples_split=10, min_samples_leaf=4, n_estimators=733 -   1.4s\n",
      "[CV] max_depth=60, bootstrap=True, max_features=sqrt, min_samples_split=10, min_samples_leaf=4, n_estimators=733 \n",
      "[CV]  max_depth=60, bootstrap=True, max_features=sqrt, min_samples_split=10, min_samples_leaf=4, n_estimators=733 -   1.6s\n",
      "[CV] max_depth=60, bootstrap=True, max_features=sqrt, min_samples_split=10, min_samples_leaf=4, n_estimators=733 \n",
      "[CV]  max_depth=60, bootstrap=True, max_features=sqrt, min_samples_split=10, min_samples_leaf=4, n_estimators=733 -   1.5s\n",
      "[CV] max_depth=110, bootstrap=False, max_features=auto, min_samples_split=2, min_samples_leaf=2, n_estimators=466 \n",
      "[CV]  max_depth=110, bootstrap=False, max_features=auto, min_samples_split=2, min_samples_leaf=2, n_estimators=466 -   1.1s\n",
      "[CV] max_depth=110, bootstrap=False, max_features=auto, min_samples_split=2, min_samples_leaf=2, n_estimators=466 \n",
      "[CV]  max_depth=110, bootstrap=False, max_features=auto, min_samples_split=2, min_samples_leaf=2, n_estimators=466 -   1.1s\n",
      "[CV] max_depth=110, bootstrap=False, max_features=auto, min_samples_split=2, min_samples_leaf=2, n_estimators=466 \n",
      "[CV]  max_depth=110, bootstrap=False, max_features=auto, min_samples_split=2, min_samples_leaf=2, n_estimators=466 -   1.0s\n",
      "[CV] max_depth=30, bootstrap=True, max_features=auto, min_samples_split=5, min_samples_leaf=1, n_estimators=1000 \n",
      "[CV]  max_depth=30, bootstrap=True, max_features=auto, min_samples_split=5, min_samples_leaf=1, n_estimators=1000 -   2.1s\n",
      "[CV] max_depth=30, bootstrap=True, max_features=auto, min_samples_split=5, min_samples_leaf=1, n_estimators=1000 \n",
      "[CV]  max_depth=30, bootstrap=True, max_features=auto, min_samples_split=5, min_samples_leaf=1, n_estimators=1000 -   2.2s\n",
      "[CV] max_depth=30, bootstrap=True, max_features=auto, min_samples_split=5, min_samples_leaf=1, n_estimators=1000 \n",
      "[CV]  max_depth=30, bootstrap=True, max_features=auto, min_samples_split=5, min_samples_leaf=1, n_estimators=1000 -   2.2s\n",
      "[CV] max_depth=30, bootstrap=True, max_features=sqrt, min_samples_split=5, min_samples_leaf=2, n_estimators=377 \n",
      "[CV]  max_depth=30, bootstrap=True, max_features=sqrt, min_samples_split=5, min_samples_leaf=2, n_estimators=377 -   1.0s\n",
      "[CV] max_depth=30, bootstrap=True, max_features=sqrt, min_samples_split=5, min_samples_leaf=2, n_estimators=377 \n",
      "[CV]  max_depth=30, bootstrap=True, max_features=sqrt, min_samples_split=5, min_samples_leaf=2, n_estimators=377 -   1.2s\n",
      "[CV] max_depth=30, bootstrap=True, max_features=sqrt, min_samples_split=5, min_samples_leaf=2, n_estimators=377 \n",
      "[CV]  max_depth=30, bootstrap=True, max_features=sqrt, min_samples_split=5, min_samples_leaf=2, n_estimators=377 -   0.7s\n",
      "[CV] max_depth=None, bootstrap=True, max_features=auto, min_samples_split=10, min_samples_leaf=4, n_estimators=377 \n",
      "[CV]  max_depth=None, bootstrap=True, max_features=auto, min_samples_split=10, min_samples_leaf=4, n_estimators=377 -   0.7s\n",
      "[CV] max_depth=None, bootstrap=True, max_features=auto, min_samples_split=10, min_samples_leaf=4, n_estimators=377 \n",
      "[CV]  max_depth=None, bootstrap=True, max_features=auto, min_samples_split=10, min_samples_leaf=4, n_estimators=377 -   0.7s\n",
      "[CV] max_depth=None, bootstrap=True, max_features=auto, min_samples_split=10, min_samples_leaf=4, n_estimators=377 \n",
      "[CV]  max_depth=None, bootstrap=True, max_features=auto, min_samples_split=10, min_samples_leaf=4, n_estimators=377 -   0.7s\n",
      "[CV] max_depth=100, bootstrap=False, max_features=sqrt, min_samples_split=5, min_samples_leaf=1, n_estimators=555 \n",
      "[CV]  max_depth=100, bootstrap=False, max_features=sqrt, min_samples_split=5, min_samples_leaf=1, n_estimators=555 -   1.5s\n",
      "[CV] max_depth=100, bootstrap=False, max_features=sqrt, min_samples_split=5, min_samples_leaf=1, n_estimators=555 \n",
      "[CV]  max_depth=100, bootstrap=False, max_features=sqrt, min_samples_split=5, min_samples_leaf=1, n_estimators=555 -   1.3s\n",
      "[CV] max_depth=100, bootstrap=False, max_features=sqrt, min_samples_split=5, min_samples_leaf=1, n_estimators=555 \n",
      "[CV]  max_depth=100, bootstrap=False, max_features=sqrt, min_samples_split=5, min_samples_leaf=1, n_estimators=555 -   1.2s\n",
      "[CV] max_depth=10, bootstrap=True, max_features=auto, min_samples_split=2, min_samples_leaf=4, n_estimators=555 \n",
      "[CV]  max_depth=10, bootstrap=True, max_features=auto, min_samples_split=2, min_samples_leaf=4, n_estimators=555 -   1.2s\n",
      "[CV] max_depth=10, bootstrap=True, max_features=auto, min_samples_split=2, min_samples_leaf=4, n_estimators=555 \n",
      "[CV]  max_depth=10, bootstrap=True, max_features=auto, min_samples_split=2, min_samples_leaf=4, n_estimators=555 -   1.2s\n",
      "[CV] max_depth=10, bootstrap=True, max_features=auto, min_samples_split=2, min_samples_leaf=4, n_estimators=555 \n",
      "[CV]  max_depth=10, bootstrap=True, max_features=auto, min_samples_split=2, min_samples_leaf=4, n_estimators=555 -   1.1s\n",
      "[CV] max_depth=30, bootstrap=False, max_features=auto, min_samples_split=5, min_samples_leaf=2, n_estimators=911 \n",
      "[CV]  max_depth=30, bootstrap=False, max_features=auto, min_samples_split=5, min_samples_leaf=2, n_estimators=911 -   2.0s\n",
      "[CV] max_depth=30, bootstrap=False, max_features=auto, min_samples_split=5, min_samples_leaf=2, n_estimators=911 \n",
      "[CV]  max_depth=30, bootstrap=False, max_features=auto, min_samples_split=5, min_samples_leaf=2, n_estimators=911 -   2.1s\n",
      "[CV] max_depth=30, bootstrap=False, max_features=auto, min_samples_split=5, min_samples_leaf=2, n_estimators=911 \n",
      "[CV]  max_depth=30, bootstrap=False, max_features=auto, min_samples_split=5, min_samples_leaf=2, n_estimators=911 -   2.5s\n",
      "[CV] max_depth=None, bootstrap=True, max_features=auto, min_samples_split=5, min_samples_leaf=2, n_estimators=822 \n",
      "[CV]  max_depth=None, bootstrap=True, max_features=auto, min_samples_split=5, min_samples_leaf=2, n_estimators=822 -   2.1s\n",
      "[CV] max_depth=None, bootstrap=True, max_features=auto, min_samples_split=5, min_samples_leaf=2, n_estimators=822 \n",
      "[CV]  max_depth=None, bootstrap=True, max_features=auto, min_samples_split=5, min_samples_leaf=2, n_estimators=822 -   1.7s\n",
      "[CV] max_depth=None, bootstrap=True, max_features=auto, min_samples_split=5, min_samples_leaf=2, n_estimators=822 \n",
      "[CV]  max_depth=None, bootstrap=True, max_features=auto, min_samples_split=5, min_samples_leaf=2, n_estimators=822 -   1.7s\n",
      "[CV] max_depth=30, bootstrap=False, max_features=sqrt, min_samples_split=10, min_samples_leaf=4, n_estimators=644 \n",
      "[CV]  max_depth=30, bootstrap=False, max_features=sqrt, min_samples_split=10, min_samples_leaf=4, n_estimators=644 -   1.4s\n",
      "[CV] max_depth=30, bootstrap=False, max_features=sqrt, min_samples_split=10, min_samples_leaf=4, n_estimators=644 \n",
      "[CV]  max_depth=30, bootstrap=False, max_features=sqrt, min_samples_split=10, min_samples_leaf=4, n_estimators=644 -   1.4s\n",
      "[CV] max_depth=30, bootstrap=False, max_features=sqrt, min_samples_split=10, min_samples_leaf=4, n_estimators=644 \n",
      "[CV]  max_depth=30, bootstrap=False, max_features=sqrt, min_samples_split=10, min_samples_leaf=4, n_estimators=644 -   1.4s\n",
      "[CV] max_depth=90, bootstrap=True, max_features=auto, min_samples_split=10, min_samples_leaf=2, n_estimators=644 \n",
      "[CV]  max_depth=90, bootstrap=True, max_features=auto, min_samples_split=10, min_samples_leaf=2, n_estimators=644 -   1.4s\n",
      "[CV] max_depth=90, bootstrap=True, max_features=auto, min_samples_split=10, min_samples_leaf=2, n_estimators=644 \n",
      "[CV]  max_depth=90, bootstrap=True, max_features=auto, min_samples_split=10, min_samples_leaf=2, n_estimators=644 -   1.4s\n",
      "[CV] max_depth=90, bootstrap=True, max_features=auto, min_samples_split=10, min_samples_leaf=2, n_estimators=644 \n",
      "[CV]  max_depth=90, bootstrap=True, max_features=auto, min_samples_split=10, min_samples_leaf=2, n_estimators=644 -   1.5s\n",
      "[CV] max_depth=30, bootstrap=True, max_features=auto, min_samples_split=2, min_samples_leaf=2, n_estimators=288 \n",
      "[CV]  max_depth=30, bootstrap=True, max_features=auto, min_samples_split=2, min_samples_leaf=2, n_estimators=288 -   0.6s\n",
      "[CV] max_depth=30, bootstrap=True, max_features=auto, min_samples_split=2, min_samples_leaf=2, n_estimators=288 \n",
      "[CV]  max_depth=30, bootstrap=True, max_features=auto, min_samples_split=2, min_samples_leaf=2, n_estimators=288 -   0.6s\n",
      "[CV] max_depth=30, bootstrap=True, max_features=auto, min_samples_split=2, min_samples_leaf=2, n_estimators=288 \n",
      "[CV]  max_depth=30, bootstrap=True, max_features=auto, min_samples_split=2, min_samples_leaf=2, n_estimators=288 -   0.7s\n",
      "[CV] max_depth=80, bootstrap=False, max_features=sqrt, min_samples_split=10, min_samples_leaf=2, n_estimators=288 \n",
      "[CV]  max_depth=80, bootstrap=False, max_features=sqrt, min_samples_split=10, min_samples_leaf=2, n_estimators=288 -   1.0s\n",
      "[CV] max_depth=80, bootstrap=False, max_features=sqrt, min_samples_split=10, min_samples_leaf=2, n_estimators=288 \n",
      "[CV]  max_depth=80, bootstrap=False, max_features=sqrt, min_samples_split=10, min_samples_leaf=2, n_estimators=288 -   0.6s\n",
      "[CV] max_depth=80, bootstrap=False, max_features=sqrt, min_samples_split=10, min_samples_leaf=2, n_estimators=288 \n",
      "[CV]  max_depth=80, bootstrap=False, max_features=sqrt, min_samples_split=10, min_samples_leaf=2, n_estimators=288 -   0.6s\n",
      "[CV] max_depth=10, bootstrap=False, max_features=sqrt, min_samples_split=10, min_samples_leaf=1, n_estimators=911 \n",
      "[CV]  max_depth=10, bootstrap=False, max_features=sqrt, min_samples_split=10, min_samples_leaf=1, n_estimators=911 -   1.9s\n",
      "[CV] max_depth=10, bootstrap=False, max_features=sqrt, min_samples_split=10, min_samples_leaf=1, n_estimators=911 \n",
      "[CV]  max_depth=10, bootstrap=False, max_features=sqrt, min_samples_split=10, min_samples_leaf=1, n_estimators=911 -   1.9s\n",
      "[CV] max_depth=10, bootstrap=False, max_features=sqrt, min_samples_split=10, min_samples_leaf=1, n_estimators=911 \n",
      "[CV]  max_depth=10, bootstrap=False, max_features=sqrt, min_samples_split=10, min_samples_leaf=1, n_estimators=911 -   2.0s\n",
      "[CV] max_depth=60, bootstrap=False, max_features=auto, min_samples_split=2, min_samples_leaf=2, n_estimators=1000 \n",
      "[CV]  max_depth=60, bootstrap=False, max_features=auto, min_samples_split=2, min_samples_leaf=2, n_estimators=1000 -   2.1s\n",
      "[CV] max_depth=60, bootstrap=False, max_features=auto, min_samples_split=2, min_samples_leaf=2, n_estimators=1000 \n",
      "[CV]  max_depth=60, bootstrap=False, max_features=auto, min_samples_split=2, min_samples_leaf=2, n_estimators=1000 -   2.4s\n",
      "[CV] max_depth=60, bootstrap=False, max_features=auto, min_samples_split=2, min_samples_leaf=2, n_estimators=1000 \n",
      "[CV]  max_depth=60, bootstrap=False, max_features=auto, min_samples_split=2, min_samples_leaf=2, n_estimators=1000 -   2.6s\n",
      "[CV] max_depth=20, bootstrap=True, max_features=auto, min_samples_split=10, min_samples_leaf=1, n_estimators=200 \n",
      "[CV]  max_depth=20, bootstrap=True, max_features=auto, min_samples_split=10, min_samples_leaf=1, n_estimators=200 -   0.5s\n",
      "[CV] max_depth=20, bootstrap=True, max_features=auto, min_samples_split=10, min_samples_leaf=1, n_estimators=200 \n",
      "[CV]  max_depth=20, bootstrap=True, max_features=auto, min_samples_split=10, min_samples_leaf=1, n_estimators=200 -   0.4s\n",
      "[CV] max_depth=20, bootstrap=True, max_features=auto, min_samples_split=10, min_samples_leaf=1, n_estimators=200 \n",
      "[CV]  max_depth=20, bootstrap=True, max_features=auto, min_samples_split=10, min_samples_leaf=1, n_estimators=200 -   0.4s\n",
      "[CV] max_depth=60, bootstrap=False, max_features=auto, min_samples_split=5, min_samples_leaf=2, n_estimators=555 \n",
      "[CV]  max_depth=60, bootstrap=False, max_features=auto, min_samples_split=5, min_samples_leaf=2, n_estimators=555 -   1.2s\n",
      "[CV] max_depth=60, bootstrap=False, max_features=auto, min_samples_split=5, min_samples_leaf=2, n_estimators=555 \n",
      "[CV]  max_depth=60, bootstrap=False, max_features=auto, min_samples_split=5, min_samples_leaf=2, n_estimators=555 -   1.5s\n",
      "[CV] max_depth=60, bootstrap=False, max_features=auto, min_samples_split=5, min_samples_leaf=2, n_estimators=555 \n",
      "[CV]  max_depth=60, bootstrap=False, max_features=auto, min_samples_split=5, min_samples_leaf=2, n_estimators=555 -   1.2s\n",
      "[CV] max_depth=20, bootstrap=False, max_features=sqrt, min_samples_split=10, min_samples_leaf=1, n_estimators=555 \n",
      "[CV]  max_depth=20, bootstrap=False, max_features=sqrt, min_samples_split=10, min_samples_leaf=1, n_estimators=555 -   1.4s\n",
      "[CV] max_depth=20, bootstrap=False, max_features=sqrt, min_samples_split=10, min_samples_leaf=1, n_estimators=555 \n",
      "[CV]  max_depth=20, bootstrap=False, max_features=sqrt, min_samples_split=10, min_samples_leaf=1, n_estimators=555 -   1.6s\n",
      "[CV] max_depth=20, bootstrap=False, max_features=sqrt, min_samples_split=10, min_samples_leaf=1, n_estimators=555 \n",
      "[CV]  max_depth=20, bootstrap=False, max_features=sqrt, min_samples_split=10, min_samples_leaf=1, n_estimators=555 -   1.2s\n",
      "[CV] max_depth=90, bootstrap=False, max_features=auto, min_samples_split=5, min_samples_leaf=2, n_estimators=644 \n",
      "[CV]  max_depth=90, bootstrap=False, max_features=auto, min_samples_split=5, min_samples_leaf=2, n_estimators=644 -   1.4s\n",
      "[CV] max_depth=90, bootstrap=False, max_features=auto, min_samples_split=5, min_samples_leaf=2, n_estimators=644 \n",
      "[CV]  max_depth=90, bootstrap=False, max_features=auto, min_samples_split=5, min_samples_leaf=2, n_estimators=644 -   1.5s\n",
      "[CV] max_depth=90, bootstrap=False, max_features=auto, min_samples_split=5, min_samples_leaf=2, n_estimators=644 \n",
      "[CV]  max_depth=90, bootstrap=False, max_features=auto, min_samples_split=5, min_samples_leaf=2, n_estimators=644 -   1.7s\n",
      "[CV] max_depth=50, bootstrap=True, max_features=auto, min_samples_split=10, min_samples_leaf=4, n_estimators=555 \n",
      "[CV]  max_depth=50, bootstrap=True, max_features=auto, min_samples_split=10, min_samples_leaf=4, n_estimators=555 -   1.2s\n",
      "[CV] max_depth=50, bootstrap=True, max_features=auto, min_samples_split=10, min_samples_leaf=4, n_estimators=555 \n",
      "[CV]  max_depth=50, bootstrap=True, max_features=auto, min_samples_split=10, min_samples_leaf=4, n_estimators=555 -   1.5s\n",
      "[CV] max_depth=50, bootstrap=True, max_features=auto, min_samples_split=10, min_samples_leaf=4, n_estimators=555 \n",
      "[CV]  max_depth=50, bootstrap=True, max_features=auto, min_samples_split=10, min_samples_leaf=4, n_estimators=555 -   1.3s\n",
      "[CV] max_depth=40, bootstrap=False, max_features=auto, min_samples_split=2, min_samples_leaf=2, n_estimators=288 \n",
      "[CV]  max_depth=40, bootstrap=False, max_features=auto, min_samples_split=2, min_samples_leaf=2, n_estimators=288 -   0.6s\n",
      "[CV] max_depth=40, bootstrap=False, max_features=auto, min_samples_split=2, min_samples_leaf=2, n_estimators=288 \n",
      "[CV]  max_depth=40, bootstrap=False, max_features=auto, min_samples_split=2, min_samples_leaf=2, n_estimators=288 -   0.7s\n",
      "[CV] max_depth=40, bootstrap=False, max_features=auto, min_samples_split=2, min_samples_leaf=2, n_estimators=288 \n",
      "[CV]  max_depth=40, bootstrap=False, max_features=auto, min_samples_split=2, min_samples_leaf=2, n_estimators=288 -   0.7s\n",
      "[CV] max_depth=40, bootstrap=False, max_features=auto, min_samples_split=5, min_samples_leaf=4, n_estimators=466 \n",
      "[CV]  max_depth=40, bootstrap=False, max_features=auto, min_samples_split=5, min_samples_leaf=4, n_estimators=466 -   1.0s\n",
      "[CV] max_depth=40, bootstrap=False, max_features=auto, min_samples_split=5, min_samples_leaf=4, n_estimators=466 \n",
      "[CV]  max_depth=40, bootstrap=False, max_features=auto, min_samples_split=5, min_samples_leaf=4, n_estimators=466 -   1.0s\n",
      "[CV] max_depth=40, bootstrap=False, max_features=auto, min_samples_split=5, min_samples_leaf=4, n_estimators=466 \n",
      "[CV]  max_depth=40, bootstrap=False, max_features=auto, min_samples_split=5, min_samples_leaf=4, n_estimators=466 -   1.1s\n",
      "[CV] max_depth=90, bootstrap=True, max_features=sqrt, min_samples_split=5, min_samples_leaf=2, n_estimators=200 \n",
      "[CV]  max_depth=90, bootstrap=True, max_features=sqrt, min_samples_split=5, min_samples_leaf=2, n_estimators=200 -   0.4s\n",
      "[CV] max_depth=90, bootstrap=True, max_features=sqrt, min_samples_split=5, min_samples_leaf=2, n_estimators=200 \n",
      "[CV]  max_depth=90, bootstrap=True, max_features=sqrt, min_samples_split=5, min_samples_leaf=2, n_estimators=200 -   0.5s\n",
      "[CV] max_depth=90, bootstrap=True, max_features=sqrt, min_samples_split=5, min_samples_leaf=2, n_estimators=200 \n",
      "[CV]  max_depth=90, bootstrap=True, max_features=sqrt, min_samples_split=5, min_samples_leaf=2, n_estimators=200 -   0.4s\n",
      "[CV] max_depth=30, bootstrap=False, max_features=sqrt, min_samples_split=10, min_samples_leaf=4, n_estimators=200 \n",
      "[CV]  max_depth=30, bootstrap=False, max_features=sqrt, min_samples_split=10, min_samples_leaf=4, n_estimators=200 -   0.5s\n",
      "[CV] max_depth=30, bootstrap=False, max_features=sqrt, min_samples_split=10, min_samples_leaf=4, n_estimators=200 \n",
      "[CV]  max_depth=30, bootstrap=False, max_features=sqrt, min_samples_split=10, min_samples_leaf=4, n_estimators=200 -   0.4s\n",
      "[CV] max_depth=30, bootstrap=False, max_features=sqrt, min_samples_split=10, min_samples_leaf=4, n_estimators=200 \n",
      "[CV]  max_depth=30, bootstrap=False, max_features=sqrt, min_samples_split=10, min_samples_leaf=4, n_estimators=200 -   0.5s\n",
      "[CV] max_depth=100, bootstrap=False, max_features=auto, min_samples_split=2, min_samples_leaf=4, n_estimators=200 \n",
      "[CV]  max_depth=100, bootstrap=False, max_features=auto, min_samples_split=2, min_samples_leaf=4, n_estimators=200 -   0.4s\n",
      "[CV] max_depth=100, bootstrap=False, max_features=auto, min_samples_split=2, min_samples_leaf=4, n_estimators=200 \n",
      "[CV]  max_depth=100, bootstrap=False, max_features=auto, min_samples_split=2, min_samples_leaf=4, n_estimators=200 -   0.4s\n",
      "[CV] max_depth=100, bootstrap=False, max_features=auto, min_samples_split=2, min_samples_leaf=4, n_estimators=200 \n",
      "[CV]  max_depth=100, bootstrap=False, max_features=auto, min_samples_split=2, min_samples_leaf=4, n_estimators=200 -   0.5s\n",
      "[CV] max_depth=60, bootstrap=True, max_features=sqrt, min_samples_split=2, min_samples_leaf=2, n_estimators=911 \n",
      "[CV]  max_depth=60, bootstrap=True, max_features=sqrt, min_samples_split=2, min_samples_leaf=2, n_estimators=911 -   1.8s\n",
      "[CV] max_depth=60, bootstrap=True, max_features=sqrt, min_samples_split=2, min_samples_leaf=2, n_estimators=911 \n",
      "[CV]  max_depth=60, bootstrap=True, max_features=sqrt, min_samples_split=2, min_samples_leaf=2, n_estimators=911 -   2.2s\n",
      "[CV] max_depth=60, bootstrap=True, max_features=sqrt, min_samples_split=2, min_samples_leaf=2, n_estimators=911 \n",
      "[CV]  max_depth=60, bootstrap=True, max_features=sqrt, min_samples_split=2, min_samples_leaf=2, n_estimators=911 -   2.1s\n",
      "[CV] max_depth=30, bootstrap=True, max_features=sqrt, min_samples_split=10, min_samples_leaf=2, n_estimators=377 \n",
      "[CV]  max_depth=30, bootstrap=True, max_features=sqrt, min_samples_split=10, min_samples_leaf=2, n_estimators=377 -   0.9s\n",
      "[CV] max_depth=30, bootstrap=True, max_features=sqrt, min_samples_split=10, min_samples_leaf=2, n_estimators=377 \n",
      "[CV]  max_depth=30, bootstrap=True, max_features=sqrt, min_samples_split=10, min_samples_leaf=2, n_estimators=377 -   0.9s\n",
      "[CV] max_depth=30, bootstrap=True, max_features=sqrt, min_samples_split=10, min_samples_leaf=2, n_estimators=377 \n",
      "[CV]  max_depth=30, bootstrap=True, max_features=sqrt, min_samples_split=10, min_samples_leaf=2, n_estimators=377 -   0.8s\n",
      "[CV] max_depth=50, bootstrap=True, max_features=sqrt, min_samples_split=2, min_samples_leaf=4, n_estimators=200 \n",
      "[CV]  max_depth=50, bootstrap=True, max_features=sqrt, min_samples_split=2, min_samples_leaf=4, n_estimators=200 -   0.4s\n",
      "[CV] max_depth=50, bootstrap=True, max_features=sqrt, min_samples_split=2, min_samples_leaf=4, n_estimators=200 \n",
      "[CV]  max_depth=50, bootstrap=True, max_features=sqrt, min_samples_split=2, min_samples_leaf=4, n_estimators=200 -   0.5s\n",
      "[CV] max_depth=50, bootstrap=True, max_features=sqrt, min_samples_split=2, min_samples_leaf=4, n_estimators=200 \n",
      "[CV]  max_depth=50, bootstrap=True, max_features=sqrt, min_samples_split=2, min_samples_leaf=4, n_estimators=200 -   0.4s\n",
      "[CV] max_depth=20, bootstrap=True, max_features=auto, min_samples_split=10, min_samples_leaf=1, n_estimators=733 \n",
      "[CV]  max_depth=20, bootstrap=True, max_features=auto, min_samples_split=10, min_samples_leaf=1, n_estimators=733 -   1.7s\n",
      "[CV] max_depth=20, bootstrap=True, max_features=auto, min_samples_split=10, min_samples_leaf=1, n_estimators=733 \n",
      "[CV]  max_depth=20, bootstrap=True, max_features=auto, min_samples_split=10, min_samples_leaf=1, n_estimators=733 -   1.6s\n",
      "[CV] max_depth=20, bootstrap=True, max_features=auto, min_samples_split=10, min_samples_leaf=1, n_estimators=733 \n",
      "[CV]  max_depth=20, bootstrap=True, max_features=auto, min_samples_split=10, min_samples_leaf=1, n_estimators=733 -   1.6s\n",
      "[CV] max_depth=90, bootstrap=True, max_features=auto, min_samples_split=5, min_samples_leaf=2, n_estimators=555 \n",
      "[CV]  max_depth=90, bootstrap=True, max_features=auto, min_samples_split=5, min_samples_leaf=2, n_estimators=555 -   1.2s\n",
      "[CV] max_depth=90, bootstrap=True, max_features=auto, min_samples_split=5, min_samples_leaf=2, n_estimators=555 \n",
      "[CV]  max_depth=90, bootstrap=True, max_features=auto, min_samples_split=5, min_samples_leaf=2, n_estimators=555 -   1.1s\n",
      "[CV] max_depth=90, bootstrap=True, max_features=auto, min_samples_split=5, min_samples_leaf=2, n_estimators=555 \n",
      "[CV]  max_depth=90, bootstrap=True, max_features=auto, min_samples_split=5, min_samples_leaf=2, n_estimators=555 -   1.3s\n",
      "[CV] max_depth=50, bootstrap=True, max_features=sqrt, min_samples_split=10, min_samples_leaf=2, n_estimators=466 \n",
      "[CV]  max_depth=50, bootstrap=True, max_features=sqrt, min_samples_split=10, min_samples_leaf=2, n_estimators=466 -   1.1s\n",
      "[CV] max_depth=50, bootstrap=True, max_features=sqrt, min_samples_split=10, min_samples_leaf=2, n_estimators=466 \n",
      "[CV]  max_depth=50, bootstrap=True, max_features=sqrt, min_samples_split=10, min_samples_leaf=2, n_estimators=466 -   1.0s\n",
      "[CV] max_depth=50, bootstrap=True, max_features=sqrt, min_samples_split=10, min_samples_leaf=2, n_estimators=466 \n",
      "[CV]  max_depth=50, bootstrap=True, max_features=sqrt, min_samples_split=10, min_samples_leaf=2, n_estimators=466 -   1.0s\n",
      "[CV] max_depth=40, bootstrap=False, max_features=sqrt, min_samples_split=2, min_samples_leaf=1, n_estimators=200 \n",
      "[CV]  max_depth=40, bootstrap=False, max_features=sqrt, min_samples_split=2, min_samples_leaf=1, n_estimators=200 -   0.4s\n",
      "[CV] max_depth=40, bootstrap=False, max_features=sqrt, min_samples_split=2, min_samples_leaf=1, n_estimators=200 \n",
      "[CV]  max_depth=40, bootstrap=False, max_features=sqrt, min_samples_split=2, min_samples_leaf=1, n_estimators=200 -   0.5s\n",
      "[CV] max_depth=40, bootstrap=False, max_features=sqrt, min_samples_split=2, min_samples_leaf=1, n_estimators=200 \n",
      "[CV]  max_depth=40, bootstrap=False, max_features=sqrt, min_samples_split=2, min_samples_leaf=1, n_estimators=200 -   0.4s\n"
     ]
    },
    {
     "name": "stderr",
     "output_type": "stream",
     "text": [
      "[Parallel(n_jobs=1)]: Done 300 out of 300 | elapsed:  6.3min finished\n"
     ]
    },
    {
     "data": {
      "text/plain": [
       "RandomizedSearchCV(cv=3, error_score='raise',\n",
       "          estimator=RandomForestClassifier(bootstrap=True, class_weight=None, criterion='gini',\n",
       "            max_depth=None, max_features='auto', max_leaf_nodes=None,\n",
       "            min_samples_leaf=1, min_samples_split=2,\n",
       "            min_weight_fraction_leaf=0.0, n_estimators=10, n_jobs=1,\n",
       "            oob_score=False, random_state=None, verbose=0,\n",
       "            warm_start=False),\n",
       "          fit_params={}, iid=True, n_iter=100, n_jobs=1,\n",
       "          param_distributions={'max_depth': [10, 20, 30, 40, 50, 60, 70, 80, 90, 100, 110, None], 'bootstrap': [True, False], 'max_features': ['auto', 'sqrt'], 'min_samples_split': [2, 5, 10], 'min_samples_leaf': [1, 2, 4], 'n_estimators': [200, 288, 377, 466, 555, 644, 733, 822, 911, 1000]},\n",
       "          pre_dispatch='2*n_jobs', random_state=42, refit=True,\n",
       "          scoring=None, verbose=2)"
      ]
     },
     "execution_count": 58,
     "metadata": {
      "tags": []
     },
     "output_type": "execute_result"
    }
   ],
   "source": [
    "rf_random.fit(X,y)"
   ]
  },
  {
   "cell_type": "code",
   "execution_count": 0,
   "metadata": {
    "colab": {},
    "colab_type": "code",
    "id": "FFPC3TPV3Zg9",
    "outputId": "962bc32a-b1aa-4063-8b1c-434edf444f8b"
   },
   "outputs": [
    {
     "data": {
      "text/plain": [
       "{'bootstrap': True,\n",
       " 'max_depth': 60,\n",
       " 'max_features': 'sqrt',\n",
       " 'min_samples_leaf': 4,\n",
       " 'min_samples_split': 10,\n",
       " 'n_estimators': 733}"
      ]
     },
     "execution_count": 59,
     "metadata": {
      "tags": []
     },
     "output_type": "execute_result"
    }
   ],
   "source": [
    "rf_random.best_params_"
   ]
  },
  {
   "cell_type": "markdown",
   "metadata": {
    "colab_type": "text",
    "id": "IBeOQIrC3ZhB"
   },
   "source": [
    "A Random Forest model built with this hyperparameters will provide best accuracy"
   ]
  },
  {
   "cell_type": "code",
   "execution_count": 0,
   "metadata": {
    "colab": {},
    "colab_type": "code",
    "id": "jLa87XR53ZhB",
    "outputId": "bc751998-0b97-4eef-94a7-d05252cae15e"
   },
   "outputs": [
    {
     "data": {
      "text/plain": [
       "0.8204264870931538"
      ]
     },
     "execution_count": 60,
     "metadata": {
      "tags": []
     },
     "output_type": "execute_result"
    }
   ],
   "source": [
    "rf_random.best_score_"
   ]
  },
  {
   "cell_type": "markdown",
   "metadata": {
    "colab_type": "text",
    "collapsed": true,
    "id": "C427aSlJ3ZhF"
   },
   "source": [
    "**Observation: ** The original Random forest algorithm gave 0.90 accuracy whereas after Randomized Grid Search we have only got 0.82. This is the best random combination of parameters the algorithm has choosen which produced the highest accuracy."
   ]
  },
  {
   "cell_type": "markdown",
   "metadata": {
    "colab_type": "text",
    "id": "k_xIVtgi3ZhG"
   },
   "source": [
    "### The End"
   ]
  }
 ],
 "metadata": {
  "colab": {
   "name": "Copy of Titanic_Decision_trees_and_Random_Forest.ipynb",
   "provenance": [],
   "version": "0.3.2"
  },
  "kernelspec": {
   "display_name": "Python 3",
   "language": "python",
   "name": "python3"
  },
  "language_info": {
   "codemirror_mode": {
    "name": "ipython",
    "version": 3
   },
   "file_extension": ".py",
   "mimetype": "text/x-python",
   "name": "python",
   "nbconvert_exporter": "python",
   "pygments_lexer": "ipython3",
   "version": "3.7.3"
  }
 },
 "nbformat": 4,
 "nbformat_minor": 1
}
